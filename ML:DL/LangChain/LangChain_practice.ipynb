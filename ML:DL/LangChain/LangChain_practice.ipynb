{
 "cells": [
  {
   "cell_type": "code",
   "execution_count": 5,
   "id": "e4ae602a-42b8-4c76-9cd6-dfdb8bf831c0",
   "metadata": {},
   "outputs": [],
   "source": [
    "from langchain_community.llms import Ollama\n",
    "llm = Ollama(model=\"llama2\")"
   ]
  },
  {
   "cell_type": "code",
   "execution_count": 6,
   "id": "0a4a4f43-2574-4244-b2fa-f844ca4242ef",
   "metadata": {},
   "outputs": [
    {
     "data": {
      "text/plain": [
       "\"\\nLangsmith is a language model developed by Meta AI that can assist with various tasks, including testing. Here are some ways Langsmith can help with testing:\\n\\n1. Automated Testing: Langsmith can be used to automate testing processes, such as unit testing and integration testing. It can generate test cases and execute them automatically, freeing up developers' time for other tasks.\\n2. Regression Testing: Langsmith can help with regression testing by generating test cases that cover a wide range of scenarios, including edge cases and corner cases. This can help ensure that changes made to the code do not break existing functionality.\\n3. Test Data Generation: Langsmith can generate test data, such as input values and output values, for various types of tests, including unit tests, integration tests, and acceptance tests.\\n4. Test Case Prioritization: Langsmith can prioritize test cases based on risk and complexity, helping developers focus their testing efforts on the most critical areas of the code.\\n5. Bug Detection: Langsmith can help detect bugs in the code by analyzing the output of the code and identifying any unexpected or incorrect results.\\n6. Code Review: Langsmith can assist with code review by providing feedback on the quality and maintainability of the code, including suggestions for improvements and best practices.\\n7. Performance Testing: Langsmith can help with performance testing by generating test cases that stress-test the code and identify any performance bottlenecks or issues.\\n8. Security Testing: Langsmith can assist with security testing by generating test cases that cover various security scenarios, including input validation, access control, and encryption.\\n9. Usability Testing: Langsmith can help with usability testing by generating test cases that evaluate the ease of use and user experience of the software.\\n10. Documentation Generation: Langsmith can generate documentation for the code, including API documentation, user manuals, and release notes.\\n\\nBy leveraging these features, developers can automate and streamline their testing processes, reducing the time and effort required to deliver high-quality software.\""
      ]
     },
     "execution_count": 6,
     "metadata": {},
     "output_type": "execute_result"
    }
   ],
   "source": [
    "llm.invoke(\"how can langsmith help with testing?\")"
   ]
  },
  {
   "cell_type": "code",
   "execution_count": 7,
   "id": "a1c25fa7-d189-496e-844a-c4e43928e018",
   "metadata": {},
   "outputs": [],
   "source": [
    "from langchain_core.prompts import ChatPromptTemplate\n",
    "prompt = ChatPromptTemplate.from_messages([\n",
    "    (\"system\", \"You are world class technical documentation writer.\"),\n",
    "    (\"user\", \"{input}\")\n",
    "])"
   ]
  },
  {
   "cell_type": "code",
   "execution_count": 8,
   "id": "a275e4c5-8ebf-40e0-8d56-b4b1385e2e15",
   "metadata": {},
   "outputs": [],
   "source": [
    "chain = prompt | llm "
   ]
  },
  {
   "cell_type": "code",
   "execution_count": null,
   "id": "9ba421ea-8457-4a79-b287-53089aa115a4",
   "metadata": {},
   "outputs": [],
   "source": [
    "chain.invoke({\"input\": \"how can langsmith help with testing?\"})"
   ]
  },
  {
   "cell_type": "code",
   "execution_count": null,
   "id": "22d9a5aa-0d14-4436-a6c9-3bb8cf49f47b",
   "metadata": {},
   "outputs": [],
   "source": [
    "from langchain_core.output_parsers import StrOutputParser\n",
    "\n",
    "output_parser = StrOutputParser()"
   ]
  },
  {
   "cell_type": "code",
   "execution_count": null,
   "id": "1861a281-e000-411a-8644-f4e643d15d20",
   "metadata": {},
   "outputs": [],
   "source": [
    "chain = prompt | llm | output_parser"
   ]
  },
  {
   "cell_type": "code",
   "execution_count": null,
   "id": "99933b41-a2b2-4926-b42d-936d50daf26b",
   "metadata": {},
   "outputs": [],
   "source": [
    "chain.invoke({\"input\": \"how can langsmith help with testing?\"})"
   ]
  },
  {
   "cell_type": "code",
   "execution_count": null,
   "id": "c1f04efa-8b9b-4cea-9207-8b7207d641df",
   "metadata": {},
   "outputs": [],
   "source": []
  }
 ],
 "metadata": {
  "kernelspec": {
   "display_name": "langchain_env",
   "language": "python",
   "name": "langchain_env"
  },
  "language_info": {
   "codemirror_mode": {
    "name": "ipython",
    "version": 3
   },
   "file_extension": ".py",
   "mimetype": "text/x-python",
   "name": "python",
   "nbconvert_exporter": "python",
   "pygments_lexer": "ipython3",
   "version": "3.10.12"
  }
 },
 "nbformat": 4,
 "nbformat_minor": 5
}
