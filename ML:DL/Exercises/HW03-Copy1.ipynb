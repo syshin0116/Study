{
 "cells": [
  {
   "cell_type": "markdown",
   "metadata": {
    "id": "m1rbIpJvJD_m"
   },
   "source": [
    "# **HW3 :: Parameter Tuning and Classifcation**"
   ]
  },
  {
   "cell_type": "markdown",
   "metadata": {
    "id": "6c34x6aJI_kE"
   },
   "source": [
    "## 코랩과 구글 드라이브 연동 OR 로컬에서 파일 업로드\n",
    "- 해당 섹션 코드 수정 가능"
   ]
  },
  {
   "cell_type": "code",
   "execution_count": 1,
   "metadata": {
    "id": "PLXjmIbsJMlk"
   },
   "outputs": [],
   "source": [
    "# 연동 OR 파일 업로드\n",
    "# 연동 시 path 설정 주의"
   ]
  },
  {
   "cell_type": "code",
   "execution_count": 2,
   "metadata": {
    "colab": {
     "base_uri": "https://localhost:8080/"
    },
    "id": "4VXRY6hDJ60i",
    "outputId": "dad710f3-4ea6-4f99-f29a-adad1fb81709"
   },
   "outputs": [],
   "source": [
    "# from google.colab import drive\n",
    "# drive.mount('/content/drive')"
   ]
  },
  {
   "cell_type": "code",
   "execution_count": 3,
   "metadata": {
    "colab": {
     "base_uri": "https://localhost:8080/"
    },
    "id": "zM_ixowuuNuH",
    "outputId": "1e7e158e-a8c7-4a37-f54a-b572ffa98a79"
   },
   "outputs": [],
   "source": [
    "# 코드 추가(HW01에 제공되었던 코드)\n",
    "# 이 노트북 파일이 저장되어 있는 디렉토리 위치까지 옮기기\n",
    "# %cd /content/drive/MyDrive/Colab Notebooks"
   ]
  },
  {
   "cell_type": "markdown",
   "metadata": {
    "id": "HR6Kw9YhJV8A"
   },
   "source": [
    "## 데이터 불러오기"
   ]
  },
  {
   "cell_type": "code",
   "execution_count": 4,
   "metadata": {
    "id": "29BsCuUtKjKA"
   },
   "outputs": [],
   "source": [
    "import numpy as np\n",
    "import pandas as pd\n",
    "from tqdm.auto import tqdm, trange"
   ]
  },
  {
   "cell_type": "code",
   "execution_count": 5,
   "metadata": {
    "id": "e6BsnGgg4Zle"
   },
   "outputs": [],
   "source": [
    "df = pd.read_csv('airline_sampled2.csv') \n",
    "# HW1에서 사용한 데이터를 샘플링한 파일이므로 꼭 제공된 csv 파일을 사용할 것"
   ]
  },
  {
   "cell_type": "code",
   "execution_count": 6,
   "metadata": {
    "colab": {
     "base_uri": "https://localhost:8080/",
     "height": 351
    },
    "id": "XyXXUUUv4Zlf",
    "outputId": "9bc5db8d-ffb1-4c36-9bda-a614cc85692b"
   },
   "outputs": [
    {
     "data": {
      "text/html": [
       "<div>\n",
       "<style scoped>\n",
       "    .dataframe tbody tr th:only-of-type {\n",
       "        vertical-align: middle;\n",
       "    }\n",
       "\n",
       "    .dataframe tbody tr th {\n",
       "        vertical-align: top;\n",
       "    }\n",
       "\n",
       "    .dataframe thead th {\n",
       "        text-align: right;\n",
       "    }\n",
       "</style>\n",
       "<table border=\"1\" class=\"dataframe\">\n",
       "  <thead>\n",
       "    <tr style=\"text-align: right;\">\n",
       "      <th></th>\n",
       "      <th>Unnamed: 0.1</th>\n",
       "      <th>Unnamed: 0</th>\n",
       "      <th>Gender</th>\n",
       "      <th>Customer Type</th>\n",
       "      <th>Age</th>\n",
       "      <th>Type of Travel</th>\n",
       "      <th>Class</th>\n",
       "      <th>Flight Distance</th>\n",
       "      <th>Inflight wifi service</th>\n",
       "      <th>Departure/Arrival time convenient</th>\n",
       "      <th>...</th>\n",
       "      <th>Inflight entertainment</th>\n",
       "      <th>On-board service</th>\n",
       "      <th>Leg room service</th>\n",
       "      <th>Baggage handling</th>\n",
       "      <th>Checkin service</th>\n",
       "      <th>Inflight service</th>\n",
       "      <th>Cleanliness</th>\n",
       "      <th>Departure Delay in Minutes</th>\n",
       "      <th>Arrival Delay in Minutes</th>\n",
       "      <th>satisfaction</th>\n",
       "    </tr>\n",
       "  </thead>\n",
       "  <tbody>\n",
       "    <tr>\n",
       "      <th>0</th>\n",
       "      <td>8827</td>\n",
       "      <td>8858</td>\n",
       "      <td>0</td>\n",
       "      <td>1</td>\n",
       "      <td>27</td>\n",
       "      <td>1</td>\n",
       "      <td>2</td>\n",
       "      <td>183</td>\n",
       "      <td>4</td>\n",
       "      <td>4</td>\n",
       "      <td>...</td>\n",
       "      <td>5</td>\n",
       "      <td>4</td>\n",
       "      <td>3</td>\n",
       "      <td>4</td>\n",
       "      <td>3</td>\n",
       "      <td>4</td>\n",
       "      <td>5</td>\n",
       "      <td>0</td>\n",
       "      <td>7.0</td>\n",
       "      <td>0</td>\n",
       "    </tr>\n",
       "    <tr>\n",
       "      <th>1</th>\n",
       "      <td>3588</td>\n",
       "      <td>3601</td>\n",
       "      <td>1</td>\n",
       "      <td>0</td>\n",
       "      <td>22</td>\n",
       "      <td>1</td>\n",
       "      <td>0</td>\n",
       "      <td>829</td>\n",
       "      <td>2</td>\n",
       "      <td>3</td>\n",
       "      <td>...</td>\n",
       "      <td>1</td>\n",
       "      <td>1</td>\n",
       "      <td>3</td>\n",
       "      <td>3</td>\n",
       "      <td>3</td>\n",
       "      <td>3</td>\n",
       "      <td>1</td>\n",
       "      <td>4</td>\n",
       "      <td>4.0</td>\n",
       "      <td>0</td>\n",
       "    </tr>\n",
       "    <tr>\n",
       "      <th>2</th>\n",
       "      <td>1011</td>\n",
       "      <td>1017</td>\n",
       "      <td>0</td>\n",
       "      <td>0</td>\n",
       "      <td>23</td>\n",
       "      <td>1</td>\n",
       "      <td>2</td>\n",
       "      <td>1020</td>\n",
       "      <td>4</td>\n",
       "      <td>5</td>\n",
       "      <td>...</td>\n",
       "      <td>4</td>\n",
       "      <td>3</td>\n",
       "      <td>4</td>\n",
       "      <td>5</td>\n",
       "      <td>3</td>\n",
       "      <td>5</td>\n",
       "      <td>4</td>\n",
       "      <td>0</td>\n",
       "      <td>0.0</td>\n",
       "      <td>1</td>\n",
       "    </tr>\n",
       "    <tr>\n",
       "      <th>3</th>\n",
       "      <td>7212</td>\n",
       "      <td>7237</td>\n",
       "      <td>1</td>\n",
       "      <td>0</td>\n",
       "      <td>21</td>\n",
       "      <td>1</td>\n",
       "      <td>0</td>\n",
       "      <td>1028</td>\n",
       "      <td>4</td>\n",
       "      <td>4</td>\n",
       "      <td>...</td>\n",
       "      <td>3</td>\n",
       "      <td>3</td>\n",
       "      <td>3</td>\n",
       "      <td>2</td>\n",
       "      <td>5</td>\n",
       "      <td>4</td>\n",
       "      <td>3</td>\n",
       "      <td>0</td>\n",
       "      <td>0.0</td>\n",
       "      <td>1</td>\n",
       "    </tr>\n",
       "    <tr>\n",
       "      <th>4</th>\n",
       "      <td>5025</td>\n",
       "      <td>5044</td>\n",
       "      <td>1</td>\n",
       "      <td>1</td>\n",
       "      <td>67</td>\n",
       "      <td>0</td>\n",
       "      <td>0</td>\n",
       "      <td>626</td>\n",
       "      <td>3</td>\n",
       "      <td>4</td>\n",
       "      <td>...</td>\n",
       "      <td>2</td>\n",
       "      <td>2</td>\n",
       "      <td>3</td>\n",
       "      <td>2</td>\n",
       "      <td>5</td>\n",
       "      <td>2</td>\n",
       "      <td>3</td>\n",
       "      <td>0</td>\n",
       "      <td>0.0</td>\n",
       "      <td>0</td>\n",
       "    </tr>\n",
       "  </tbody>\n",
       "</table>\n",
       "<p>5 rows × 25 columns</p>\n",
       "</div>"
      ],
      "text/plain": [
       "   Unnamed: 0.1  Unnamed: 0  Gender  Customer Type  Age  Type of Travel  \\\n",
       "0          8827        8858       0              1   27               1   \n",
       "1          3588        3601       1              0   22               1   \n",
       "2          1011        1017       0              0   23               1   \n",
       "3          7212        7237       1              0   21               1   \n",
       "4          5025        5044       1              1   67               0   \n",
       "\n",
       "   Class  Flight Distance  Inflight wifi service  \\\n",
       "0      2              183                      4   \n",
       "1      0              829                      2   \n",
       "2      2             1020                      4   \n",
       "3      0             1028                      4   \n",
       "4      0              626                      3   \n",
       "\n",
       "   Departure/Arrival time convenient  ...  Inflight entertainment  \\\n",
       "0                                  4  ...                       5   \n",
       "1                                  3  ...                       1   \n",
       "2                                  5  ...                       4   \n",
       "3                                  4  ...                       3   \n",
       "4                                  4  ...                       2   \n",
       "\n",
       "   On-board service  Leg room service  Baggage handling  Checkin service  \\\n",
       "0                 4                 3                 4                3   \n",
       "1                 1                 3                 3                3   \n",
       "2                 3                 4                 5                3   \n",
       "3                 3                 3                 2                5   \n",
       "4                 2                 3                 2                5   \n",
       "\n",
       "   Inflight service  Cleanliness  Departure Delay in Minutes  \\\n",
       "0                 4            5                           0   \n",
       "1                 3            1                           4   \n",
       "2                 5            4                           0   \n",
       "3                 4            3                           0   \n",
       "4                 2            3                           0   \n",
       "\n",
       "   Arrival Delay in Minutes  satisfaction  \n",
       "0                       7.0             0  \n",
       "1                       4.0             0  \n",
       "2                       0.0             1  \n",
       "3                       0.0             1  \n",
       "4                       0.0             0  \n",
       "\n",
       "[5 rows x 25 columns]"
      ]
     },
     "execution_count": 6,
     "metadata": {},
     "output_type": "execute_result"
    }
   ],
   "source": [
    "df.head()"
   ]
  },
  {
   "cell_type": "code",
   "execution_count": 7,
   "metadata": {},
   "outputs": [
    {
     "data": {
      "text/html": [
       "<div>\n",
       "<style scoped>\n",
       "    .dataframe tbody tr th:only-of-type {\n",
       "        vertical-align: middle;\n",
       "    }\n",
       "\n",
       "    .dataframe tbody tr th {\n",
       "        vertical-align: top;\n",
       "    }\n",
       "\n",
       "    .dataframe thead th {\n",
       "        text-align: right;\n",
       "    }\n",
       "</style>\n",
       "<table border=\"1\" class=\"dataframe\">\n",
       "  <thead>\n",
       "    <tr style=\"text-align: right;\">\n",
       "      <th></th>\n",
       "      <th>Gender</th>\n",
       "      <th>Customer Type</th>\n",
       "      <th>Age</th>\n",
       "      <th>Type of Travel</th>\n",
       "      <th>Class</th>\n",
       "      <th>Flight Distance</th>\n",
       "      <th>Inflight wifi service</th>\n",
       "      <th>Departure/Arrival time convenient</th>\n",
       "      <th>Ease of Online booking</th>\n",
       "      <th>Gate location</th>\n",
       "      <th>...</th>\n",
       "      <th>Inflight entertainment</th>\n",
       "      <th>On-board service</th>\n",
       "      <th>Leg room service</th>\n",
       "      <th>Baggage handling</th>\n",
       "      <th>Checkin service</th>\n",
       "      <th>Inflight service</th>\n",
       "      <th>Cleanliness</th>\n",
       "      <th>Departure Delay in Minutes</th>\n",
       "      <th>Arrival Delay in Minutes</th>\n",
       "      <th>satisfaction</th>\n",
       "    </tr>\n",
       "  </thead>\n",
       "  <tbody>\n",
       "    <tr>\n",
       "      <th>0</th>\n",
       "      <td>0</td>\n",
       "      <td>1</td>\n",
       "      <td>27</td>\n",
       "      <td>1</td>\n",
       "      <td>2</td>\n",
       "      <td>183</td>\n",
       "      <td>4</td>\n",
       "      <td>4</td>\n",
       "      <td>4</td>\n",
       "      <td>4</td>\n",
       "      <td>...</td>\n",
       "      <td>5</td>\n",
       "      <td>4</td>\n",
       "      <td>3</td>\n",
       "      <td>4</td>\n",
       "      <td>3</td>\n",
       "      <td>4</td>\n",
       "      <td>5</td>\n",
       "      <td>0</td>\n",
       "      <td>7.0</td>\n",
       "      <td>0</td>\n",
       "    </tr>\n",
       "    <tr>\n",
       "      <th>1</th>\n",
       "      <td>1</td>\n",
       "      <td>0</td>\n",
       "      <td>22</td>\n",
       "      <td>1</td>\n",
       "      <td>0</td>\n",
       "      <td>829</td>\n",
       "      <td>2</td>\n",
       "      <td>3</td>\n",
       "      <td>3</td>\n",
       "      <td>2</td>\n",
       "      <td>...</td>\n",
       "      <td>1</td>\n",
       "      <td>1</td>\n",
       "      <td>3</td>\n",
       "      <td>3</td>\n",
       "      <td>3</td>\n",
       "      <td>3</td>\n",
       "      <td>1</td>\n",
       "      <td>4</td>\n",
       "      <td>4.0</td>\n",
       "      <td>0</td>\n",
       "    </tr>\n",
       "    <tr>\n",
       "      <th>2</th>\n",
       "      <td>0</td>\n",
       "      <td>0</td>\n",
       "      <td>23</td>\n",
       "      <td>1</td>\n",
       "      <td>2</td>\n",
       "      <td>1020</td>\n",
       "      <td>4</td>\n",
       "      <td>5</td>\n",
       "      <td>4</td>\n",
       "      <td>1</td>\n",
       "      <td>...</td>\n",
       "      <td>4</td>\n",
       "      <td>3</td>\n",
       "      <td>4</td>\n",
       "      <td>5</td>\n",
       "      <td>3</td>\n",
       "      <td>5</td>\n",
       "      <td>4</td>\n",
       "      <td>0</td>\n",
       "      <td>0.0</td>\n",
       "      <td>1</td>\n",
       "    </tr>\n",
       "    <tr>\n",
       "      <th>3</th>\n",
       "      <td>1</td>\n",
       "      <td>0</td>\n",
       "      <td>21</td>\n",
       "      <td>1</td>\n",
       "      <td>0</td>\n",
       "      <td>1028</td>\n",
       "      <td>4</td>\n",
       "      <td>4</td>\n",
       "      <td>4</td>\n",
       "      <td>5</td>\n",
       "      <td>...</td>\n",
       "      <td>3</td>\n",
       "      <td>3</td>\n",
       "      <td>3</td>\n",
       "      <td>2</td>\n",
       "      <td>5</td>\n",
       "      <td>4</td>\n",
       "      <td>3</td>\n",
       "      <td>0</td>\n",
       "      <td>0.0</td>\n",
       "      <td>1</td>\n",
       "    </tr>\n",
       "    <tr>\n",
       "      <th>4</th>\n",
       "      <td>1</td>\n",
       "      <td>1</td>\n",
       "      <td>67</td>\n",
       "      <td>0</td>\n",
       "      <td>0</td>\n",
       "      <td>626</td>\n",
       "      <td>3</td>\n",
       "      <td>4</td>\n",
       "      <td>3</td>\n",
       "      <td>3</td>\n",
       "      <td>...</td>\n",
       "      <td>2</td>\n",
       "      <td>2</td>\n",
       "      <td>3</td>\n",
       "      <td>2</td>\n",
       "      <td>5</td>\n",
       "      <td>2</td>\n",
       "      <td>3</td>\n",
       "      <td>0</td>\n",
       "      <td>0.0</td>\n",
       "      <td>0</td>\n",
       "    </tr>\n",
       "    <tr>\n",
       "      <th>...</th>\n",
       "      <td>...</td>\n",
       "      <td>...</td>\n",
       "      <td>...</td>\n",
       "      <td>...</td>\n",
       "      <td>...</td>\n",
       "      <td>...</td>\n",
       "      <td>...</td>\n",
       "      <td>...</td>\n",
       "      <td>...</td>\n",
       "      <td>...</td>\n",
       "      <td>...</td>\n",
       "      <td>...</td>\n",
       "      <td>...</td>\n",
       "      <td>...</td>\n",
       "      <td>...</td>\n",
       "      <td>...</td>\n",
       "      <td>...</td>\n",
       "      <td>...</td>\n",
       "      <td>...</td>\n",
       "      <td>...</td>\n",
       "      <td>...</td>\n",
       "    </tr>\n",
       "    <tr>\n",
       "      <th>995</th>\n",
       "      <td>0</td>\n",
       "      <td>1</td>\n",
       "      <td>24</td>\n",
       "      <td>1</td>\n",
       "      <td>2</td>\n",
       "      <td>2323</td>\n",
       "      <td>2</td>\n",
       "      <td>2</td>\n",
       "      <td>2</td>\n",
       "      <td>2</td>\n",
       "      <td>...</td>\n",
       "      <td>4</td>\n",
       "      <td>3</td>\n",
       "      <td>5</td>\n",
       "      <td>4</td>\n",
       "      <td>5</td>\n",
       "      <td>4</td>\n",
       "      <td>4</td>\n",
       "      <td>0</td>\n",
       "      <td>0.0</td>\n",
       "      <td>1</td>\n",
       "    </tr>\n",
       "    <tr>\n",
       "      <th>996</th>\n",
       "      <td>0</td>\n",
       "      <td>1</td>\n",
       "      <td>50</td>\n",
       "      <td>1</td>\n",
       "      <td>0</td>\n",
       "      <td>109</td>\n",
       "      <td>4</td>\n",
       "      <td>1</td>\n",
       "      <td>1</td>\n",
       "      <td>1</td>\n",
       "      <td>...</td>\n",
       "      <td>4</td>\n",
       "      <td>2</td>\n",
       "      <td>4</td>\n",
       "      <td>1</td>\n",
       "      <td>5</td>\n",
       "      <td>4</td>\n",
       "      <td>4</td>\n",
       "      <td>0</td>\n",
       "      <td>0.0</td>\n",
       "      <td>1</td>\n",
       "    </tr>\n",
       "    <tr>\n",
       "      <th>997</th>\n",
       "      <td>1</td>\n",
       "      <td>1</td>\n",
       "      <td>57</td>\n",
       "      <td>0</td>\n",
       "      <td>1</td>\n",
       "      <td>431</td>\n",
       "      <td>4</td>\n",
       "      <td>5</td>\n",
       "      <td>4</td>\n",
       "      <td>4</td>\n",
       "      <td>...</td>\n",
       "      <td>1</td>\n",
       "      <td>1</td>\n",
       "      <td>4</td>\n",
       "      <td>1</td>\n",
       "      <td>3</td>\n",
       "      <td>1</td>\n",
       "      <td>5</td>\n",
       "      <td>0</td>\n",
       "      <td>0.0</td>\n",
       "      <td>0</td>\n",
       "    </tr>\n",
       "    <tr>\n",
       "      <th>998</th>\n",
       "      <td>0</td>\n",
       "      <td>1</td>\n",
       "      <td>29</td>\n",
       "      <td>1</td>\n",
       "      <td>2</td>\n",
       "      <td>2029</td>\n",
       "      <td>2</td>\n",
       "      <td>2</td>\n",
       "      <td>2</td>\n",
       "      <td>2</td>\n",
       "      <td>...</td>\n",
       "      <td>4</td>\n",
       "      <td>4</td>\n",
       "      <td>5</td>\n",
       "      <td>4</td>\n",
       "      <td>5</td>\n",
       "      <td>5</td>\n",
       "      <td>4</td>\n",
       "      <td>53</td>\n",
       "      <td>50.0</td>\n",
       "      <td>1</td>\n",
       "    </tr>\n",
       "    <tr>\n",
       "      <th>999</th>\n",
       "      <td>1</td>\n",
       "      <td>1</td>\n",
       "      <td>55</td>\n",
       "      <td>0</td>\n",
       "      <td>0</td>\n",
       "      <td>239</td>\n",
       "      <td>1</td>\n",
       "      <td>4</td>\n",
       "      <td>1</td>\n",
       "      <td>3</td>\n",
       "      <td>...</td>\n",
       "      <td>3</td>\n",
       "      <td>3</td>\n",
       "      <td>1</td>\n",
       "      <td>3</td>\n",
       "      <td>2</td>\n",
       "      <td>3</td>\n",
       "      <td>1</td>\n",
       "      <td>31</td>\n",
       "      <td>11.0</td>\n",
       "      <td>0</td>\n",
       "    </tr>\n",
       "  </tbody>\n",
       "</table>\n",
       "<p>1000 rows × 23 columns</p>\n",
       "</div>"
      ],
      "text/plain": [
       "     Gender  Customer Type  Age  Type of Travel  Class  Flight Distance  \\\n",
       "0         0              1   27               1      2              183   \n",
       "1         1              0   22               1      0              829   \n",
       "2         0              0   23               1      2             1020   \n",
       "3         1              0   21               1      0             1028   \n",
       "4         1              1   67               0      0              626   \n",
       "..      ...            ...  ...             ...    ...              ...   \n",
       "995       0              1   24               1      2             2323   \n",
       "996       0              1   50               1      0              109   \n",
       "997       1              1   57               0      1              431   \n",
       "998       0              1   29               1      2             2029   \n",
       "999       1              1   55               0      0              239   \n",
       "\n",
       "     Inflight wifi service  Departure/Arrival time convenient  \\\n",
       "0                        4                                  4   \n",
       "1                        2                                  3   \n",
       "2                        4                                  5   \n",
       "3                        4                                  4   \n",
       "4                        3                                  4   \n",
       "..                     ...                                ...   \n",
       "995                      2                                  2   \n",
       "996                      4                                  1   \n",
       "997                      4                                  5   \n",
       "998                      2                                  2   \n",
       "999                      1                                  4   \n",
       "\n",
       "     Ease of Online booking  Gate location  ...  Inflight entertainment  \\\n",
       "0                         4              4  ...                       5   \n",
       "1                         3              2  ...                       1   \n",
       "2                         4              1  ...                       4   \n",
       "3                         4              5  ...                       3   \n",
       "4                         3              3  ...                       2   \n",
       "..                      ...            ...  ...                     ...   \n",
       "995                       2              2  ...                       4   \n",
       "996                       1              1  ...                       4   \n",
       "997                       4              4  ...                       1   \n",
       "998                       2              2  ...                       4   \n",
       "999                       1              3  ...                       3   \n",
       "\n",
       "     On-board service  Leg room service  Baggage handling  Checkin service  \\\n",
       "0                   4                 3                 4                3   \n",
       "1                   1                 3                 3                3   \n",
       "2                   3                 4                 5                3   \n",
       "3                   3                 3                 2                5   \n",
       "4                   2                 3                 2                5   \n",
       "..                ...               ...               ...              ...   \n",
       "995                 3                 5                 4                5   \n",
       "996                 2                 4                 1                5   \n",
       "997                 1                 4                 1                3   \n",
       "998                 4                 5                 4                5   \n",
       "999                 3                 1                 3                2   \n",
       "\n",
       "     Inflight service  Cleanliness  Departure Delay in Minutes  \\\n",
       "0                   4            5                           0   \n",
       "1                   3            1                           4   \n",
       "2                   5            4                           0   \n",
       "3                   4            3                           0   \n",
       "4                   2            3                           0   \n",
       "..                ...          ...                         ...   \n",
       "995                 4            4                           0   \n",
       "996                 4            4                           0   \n",
       "997                 1            5                           0   \n",
       "998                 5            4                          53   \n",
       "999                 3            1                          31   \n",
       "\n",
       "     Arrival Delay in Minutes  satisfaction  \n",
       "0                         7.0             0  \n",
       "1                         4.0             0  \n",
       "2                         0.0             1  \n",
       "3                         0.0             1  \n",
       "4                         0.0             0  \n",
       "..                        ...           ...  \n",
       "995                       0.0             1  \n",
       "996                       0.0             1  \n",
       "997                       0.0             0  \n",
       "998                      50.0             1  \n",
       "999                      11.0             0  \n",
       "\n",
       "[1000 rows x 23 columns]"
      ]
     },
     "execution_count": 7,
     "metadata": {},
     "output_type": "execute_result"
    }
   ],
   "source": [
    "df.drop(columns=['Unnamed: 0.1', 'Unnamed: 0'], inplace=True)\n",
    "df"
   ]
  },
  {
   "cell_type": "code",
   "execution_count": 8,
   "metadata": {},
   "outputs": [
    {
     "name": "stdout",
     "output_type": "stream",
     "text": [
      "<class 'pandas.core.frame.DataFrame'>\n",
      "RangeIndex: 1000 entries, 0 to 999\n",
      "Data columns (total 23 columns):\n",
      " #   Column                             Non-Null Count  Dtype  \n",
      "---  ------                             --------------  -----  \n",
      " 0   Gender                             1000 non-null   int64  \n",
      " 1   Customer Type                      1000 non-null   int64  \n",
      " 2   Age                                1000 non-null   int64  \n",
      " 3   Type of Travel                     1000 non-null   int64  \n",
      " 4   Class                              1000 non-null   int64  \n",
      " 5   Flight Distance                    1000 non-null   int64  \n",
      " 6   Inflight wifi service              1000 non-null   int64  \n",
      " 7   Departure/Arrival time convenient  1000 non-null   int64  \n",
      " 8   Ease of Online booking             1000 non-null   int64  \n",
      " 9   Gate location                      1000 non-null   int64  \n",
      " 10  Food and drink                     1000 non-null   int64  \n",
      " 11  Online boarding                    1000 non-null   int64  \n",
      " 12  Seat comfort                       1000 non-null   int64  \n",
      " 13  Inflight entertainment             1000 non-null   int64  \n",
      " 14  On-board service                   1000 non-null   int64  \n",
      " 15  Leg room service                   1000 non-null   int64  \n",
      " 16  Baggage handling                   1000 non-null   int64  \n",
      " 17  Checkin service                    1000 non-null   int64  \n",
      " 18  Inflight service                   1000 non-null   int64  \n",
      " 19  Cleanliness                        1000 non-null   int64  \n",
      " 20  Departure Delay in Minutes         1000 non-null   int64  \n",
      " 21  Arrival Delay in Minutes           1000 non-null   float64\n",
      " 22  satisfaction                       1000 non-null   int64  \n",
      "dtypes: float64(1), int64(22)\n",
      "memory usage: 179.8 KB\n"
     ]
    }
   ],
   "source": [
    "df.info()"
   ]
  },
  {
   "cell_type": "markdown",
   "metadata": {
    "id": "fZDTxR6wKuPO"
   },
   "source": [
    "## 데이터 나누기"
   ]
  },
  {
   "cell_type": "markdown",
   "metadata": {
    "id": "h5enxbYKbAhW"
   },
   "source": [
    "### **주의 사항**\n",
    "train_test_split에 random seed를 사용하여 split set을 고정한다.\n",
    "- 모든 문제에 같은 random seed를 부여할 필요는 없다.\n"
   ]
  },
  {
   "cell_type": "code",
   "execution_count": 9,
   "metadata": {
    "colab": {
     "base_uri": "https://localhost:8080/"
    },
    "id": "V1zQHUKdKWFz",
    "outputId": "163e693b-cc5f-4d44-d235-94e1415ece0d"
   },
   "outputs": [
    {
     "name": "stdout",
     "output_type": "stream",
     "text": [
      "X_train's shape :  (800, 22)\n",
      "y_train's shape :  (800,)\n",
      "\n",
      "X_val's shape :  (100, 22)\n",
      "y_val's shape :  (100,)\n",
      "\n",
      "X_test's shape :  (100, 22)\n",
      "y_test's shape :  (100,)\n"
     ]
    }
   ],
   "source": [
    "from sklearn.model_selection import train_test_split\n",
    "\n",
    "X = df.drop('satisfaction', axis=1)\n",
    "y = df['satisfaction']\n",
    "y=y.astype('int')\n",
    "  \n",
    "X_train, X_test, y_train, y_test = train_test_split(X, y, test_size=0.1, random_state = 15)\n",
    "X_train, X_val, y_train, y_val = train_test_split(X_train, y_train, test_size=1/9, random_state = 20)\n",
    "\n",
    "print(\"X_train's shape : \", X_train.shape)\n",
    "print(\"y_train's shape : \", y_train.shape)\n",
    "print(\"\\nX_val's shape : \", X_val.shape)\n",
    "print(\"y_val's shape : \", y_val.shape)\n",
    "print(\"\\nX_test's shape : \", X_test.shape)\n",
    "print(\"y_test's shape : \", y_test.shape)"
   ]
  },
  {
   "cell_type": "markdown",
   "metadata": {
    "id": "P5Gr-LZOLCSP"
   },
   "source": [
    "## 문제1 KNN\n",
    "\n",
    "\n",
    "\n",
    "- Scikit-learn 라이브러리를 이용하여 KNN의 최적의 파라미터를 찾는다.\n",
    "    - 최근접 이웃을 찾기 위한 거리의 종류로 최소한 두 가지 이상의 거리 척도를 사용한다.\n",
    "    - K값을 최소 3개 이상 비교한다.\n",
    "    - 거리 척도, k값에 따라 train, validation 정확도를 한 그래프로 그린다.(x축 k값, y축 정확도)\n",
    "    - 찾은 최적의 파라미터와 test set 이용하여 test_accuracy 계산하고 기입한다.\n",
    "    - 최적의 파라미터를 찾은 것에 대한 설명을 '텍스트 셀'에 작성한다.\n",
    "\n"
   ]
  },
  {
   "cell_type": "code",
   "execution_count": 10,
   "metadata": {
    "id": "vVbdK0ERLSq6"
   },
   "outputs": [],
   "source": [
    "from sklearn.neighbors import KNeighborsClassifier\n",
    "from sklearn import metrics\n",
    "\n",
    "# visualization\n",
    "import matplotlib.pyplot as plt\n",
    "import seaborn as sns\n",
    "%matplotlib inline\n",
    "from pandas.plotting import parallel_coordinates\n",
    "\n",
    "# preprocessing\n",
    "from sklearn.preprocessing import StandardScaler\n",
    "from sklearn.preprocessing import MinMaxScaler\n",
    "\n",
    "# model\n",
    "from sklearn.neighbors import KNeighborsClassifier\n",
    "from sklearn.model_selection import train_test_split\n",
    "\n",
    "# grid search\n",
    "from sklearn.model_selection import GridSearchCV\n",
    "\n",
    "# evaluation\n",
    "from sklearn.model_selection import cross_val_score\n",
    "from sklearn.metrics import *"
   ]
  },
  {
   "cell_type": "code",
   "execution_count": 11,
   "metadata": {},
   "outputs": [
    {
     "data": {
      "text/plain": [
       "satisfaction\n",
       "0    560\n",
       "1    440\n",
       "dtype: int64"
      ]
     },
     "execution_count": 11,
     "metadata": {},
     "output_type": "execute_result"
    }
   ],
   "source": [
    "df.groupby(\"satisfaction\").size()"
   ]
  },
  {
   "cell_type": "code",
   "execution_count": 12,
   "metadata": {},
   "outputs": [],
   "source": [
    "# sns.pairplot(df, hue=\"satisfaction\")\n",
    "# plt.show()"
   ]
  },
  {
   "cell_type": "code",
   "execution_count": 13,
   "metadata": {
    "colab": {
     "base_uri": "https://localhost:8080/",
     "height": 615
    },
    "id": "ME76ne9cdSMa",
    "outputId": "bb5dffa3-043a-446e-e5a4-4562cb29c11c"
   },
   "outputs": [
    {
     "data": {
      "text/html": [
       "<div>\n",
       "<style scoped>\n",
       "    .dataframe tbody tr th:only-of-type {\n",
       "        vertical-align: middle;\n",
       "    }\n",
       "\n",
       "    .dataframe tbody tr th {\n",
       "        vertical-align: top;\n",
       "    }\n",
       "\n",
       "    .dataframe thead th {\n",
       "        text-align: right;\n",
       "    }\n",
       "</style>\n",
       "<table border=\"1\" class=\"dataframe\">\n",
       "  <thead>\n",
       "    <tr style=\"text-align: right;\">\n",
       "      <th></th>\n",
       "      <th>Gender</th>\n",
       "      <th>Customer Type</th>\n",
       "      <th>Age</th>\n",
       "      <th>Type of Travel</th>\n",
       "      <th>Class</th>\n",
       "      <th>Flight Distance</th>\n",
       "      <th>Inflight wifi service</th>\n",
       "      <th>Departure/Arrival time convenient</th>\n",
       "      <th>Ease of Online booking</th>\n",
       "      <th>Gate location</th>\n",
       "      <th>...</th>\n",
       "      <th>Seat comfort</th>\n",
       "      <th>Inflight entertainment</th>\n",
       "      <th>On-board service</th>\n",
       "      <th>Leg room service</th>\n",
       "      <th>Baggage handling</th>\n",
       "      <th>Checkin service</th>\n",
       "      <th>Inflight service</th>\n",
       "      <th>Cleanliness</th>\n",
       "      <th>Departure Delay in Minutes</th>\n",
       "      <th>Arrival Delay in Minutes</th>\n",
       "    </tr>\n",
       "  </thead>\n",
       "  <tbody>\n",
       "    <tr>\n",
       "      <th>0</th>\n",
       "      <td>1.0</td>\n",
       "      <td>1.0</td>\n",
       "      <td>0.726027</td>\n",
       "      <td>0.0</td>\n",
       "      <td>0.0</td>\n",
       "      <td>0.012470</td>\n",
       "      <td>0.8</td>\n",
       "      <td>0.6</td>\n",
       "      <td>0.8</td>\n",
       "      <td>1.00</td>\n",
       "      <td>...</td>\n",
       "      <td>0.25</td>\n",
       "      <td>0.0</td>\n",
       "      <td>0.0</td>\n",
       "      <td>0.8</td>\n",
       "      <td>0.00</td>\n",
       "      <td>0.25</td>\n",
       "      <td>0.00</td>\n",
       "      <td>1.0</td>\n",
       "      <td>0.000000</td>\n",
       "      <td>0.00</td>\n",
       "    </tr>\n",
       "    <tr>\n",
       "      <th>1</th>\n",
       "      <td>1.0</td>\n",
       "      <td>1.0</td>\n",
       "      <td>0.657534</td>\n",
       "      <td>0.0</td>\n",
       "      <td>0.0</td>\n",
       "      <td>0.040288</td>\n",
       "      <td>0.8</td>\n",
       "      <td>0.8</td>\n",
       "      <td>0.8</td>\n",
       "      <td>0.50</td>\n",
       "      <td>...</td>\n",
       "      <td>0.75</td>\n",
       "      <td>1.0</td>\n",
       "      <td>1.0</td>\n",
       "      <td>0.8</td>\n",
       "      <td>1.00</td>\n",
       "      <td>1.00</td>\n",
       "      <td>1.00</td>\n",
       "      <td>1.0</td>\n",
       "      <td>0.000000</td>\n",
       "      <td>0.00</td>\n",
       "    </tr>\n",
       "    <tr>\n",
       "      <th>2</th>\n",
       "      <td>0.0</td>\n",
       "      <td>0.0</td>\n",
       "      <td>0.410959</td>\n",
       "      <td>1.0</td>\n",
       "      <td>0.0</td>\n",
       "      <td>0.133094</td>\n",
       "      <td>0.6</td>\n",
       "      <td>0.8</td>\n",
       "      <td>0.6</td>\n",
       "      <td>0.50</td>\n",
       "      <td>...</td>\n",
       "      <td>0.50</td>\n",
       "      <td>0.5</td>\n",
       "      <td>0.5</td>\n",
       "      <td>1.0</td>\n",
       "      <td>0.50</td>\n",
       "      <td>0.00</td>\n",
       "      <td>0.50</td>\n",
       "      <td>0.5</td>\n",
       "      <td>0.000000</td>\n",
       "      <td>0.00</td>\n",
       "    </tr>\n",
       "    <tr>\n",
       "      <th>3</th>\n",
       "      <td>1.0</td>\n",
       "      <td>0.0</td>\n",
       "      <td>0.246575</td>\n",
       "      <td>1.0</td>\n",
       "      <td>0.0</td>\n",
       "      <td>0.129257</td>\n",
       "      <td>0.2</td>\n",
       "      <td>0.8</td>\n",
       "      <td>0.2</td>\n",
       "      <td>0.50</td>\n",
       "      <td>...</td>\n",
       "      <td>0.50</td>\n",
       "      <td>0.0</td>\n",
       "      <td>1.0</td>\n",
       "      <td>0.6</td>\n",
       "      <td>0.75</td>\n",
       "      <td>0.50</td>\n",
       "      <td>0.25</td>\n",
       "      <td>0.5</td>\n",
       "      <td>0.263587</td>\n",
       "      <td>0.46</td>\n",
       "    </tr>\n",
       "    <tr>\n",
       "      <th>4</th>\n",
       "      <td>1.0</td>\n",
       "      <td>1.0</td>\n",
       "      <td>0.794521</td>\n",
       "      <td>0.0</td>\n",
       "      <td>0.5</td>\n",
       "      <td>0.225659</td>\n",
       "      <td>0.6</td>\n",
       "      <td>0.4</td>\n",
       "      <td>0.6</td>\n",
       "      <td>0.75</td>\n",
       "      <td>...</td>\n",
       "      <td>0.50</td>\n",
       "      <td>1.0</td>\n",
       "      <td>1.0</td>\n",
       "      <td>0.6</td>\n",
       "      <td>0.50</td>\n",
       "      <td>0.25</td>\n",
       "      <td>1.00</td>\n",
       "      <td>0.0</td>\n",
       "      <td>0.000000</td>\n",
       "      <td>0.00</td>\n",
       "    </tr>\n",
       "  </tbody>\n",
       "</table>\n",
       "<p>5 rows × 22 columns</p>\n",
       "</div>"
      ],
      "text/plain": [
       "   Gender  Customer Type       Age  Type of Travel  Class  Flight Distance  \\\n",
       "0     1.0            1.0  0.726027             0.0    0.0         0.012470   \n",
       "1     1.0            1.0  0.657534             0.0    0.0         0.040288   \n",
       "2     0.0            0.0  0.410959             1.0    0.0         0.133094   \n",
       "3     1.0            0.0  0.246575             1.0    0.0         0.129257   \n",
       "4     1.0            1.0  0.794521             0.0    0.5         0.225659   \n",
       "\n",
       "   Inflight wifi service  Departure/Arrival time convenient  \\\n",
       "0                    0.8                                0.6   \n",
       "1                    0.8                                0.8   \n",
       "2                    0.6                                0.8   \n",
       "3                    0.2                                0.8   \n",
       "4                    0.6                                0.4   \n",
       "\n",
       "   Ease of Online booking  Gate location  ...  Seat comfort  \\\n",
       "0                     0.8           1.00  ...          0.25   \n",
       "1                     0.8           0.50  ...          0.75   \n",
       "2                     0.6           0.50  ...          0.50   \n",
       "3                     0.2           0.50  ...          0.50   \n",
       "4                     0.6           0.75  ...          0.50   \n",
       "\n",
       "   Inflight entertainment  On-board service  Leg room service  \\\n",
       "0                     0.0               0.0               0.8   \n",
       "1                     1.0               1.0               0.8   \n",
       "2                     0.5               0.5               1.0   \n",
       "3                     0.0               1.0               0.6   \n",
       "4                     1.0               1.0               0.6   \n",
       "\n",
       "   Baggage handling  Checkin service  Inflight service  Cleanliness  \\\n",
       "0              0.00             0.25              0.00          1.0   \n",
       "1              1.00             1.00              1.00          1.0   \n",
       "2              0.50             0.00              0.50          0.5   \n",
       "3              0.75             0.50              0.25          0.5   \n",
       "4              0.50             0.25              1.00          0.0   \n",
       "\n",
       "   Departure Delay in Minutes  Arrival Delay in Minutes  \n",
       "0                    0.000000                      0.00  \n",
       "1                    0.000000                      0.00  \n",
       "2                    0.000000                      0.00  \n",
       "3                    0.263587                      0.46  \n",
       "4                    0.000000                      0.00  \n",
       "\n",
       "[5 rows x 22 columns]"
      ]
     },
     "execution_count": 13,
     "metadata": {},
     "output_type": "execute_result"
    }
   ],
   "source": [
    "### 문제 1 ###\n",
    "### 코드 작성 ###\n",
    "\n",
    "from sklearn.model_selection import train_test_split\n",
    "X_train, X_test, y_train, y_test = train_test_split(X, y, test_size=0.1, random_state = 15)\n",
    "X_train, X_val, y_train, y_val = train_test_split(X_train, y_train, test_size=1/9, random_state = 20)\n",
    "\n",
    "# Standard Scaler\n",
    "ss = StandardScaler() # Scaling\n",
    "X_train_s = pd.DataFrame(ss.fit_transform(X_train), columns = X_train.columns)\n",
    "X_test_s = pd.DataFrame(ss.transform(X_test), columns = X_test.columns)\n",
    "X_train_s.head()\n",
    "\n",
    "# Minmax Scaler\n",
    "ms = MinMaxScaler()\n",
    "X_train_m = pd.DataFrame(ms.fit_transform(X_train), columns = X_train.columns)\n",
    "X_test_m = pd.DataFrame(ms.transform(X_test), columns = X_test.columns)\n",
    "X_train_m.head()"
   ]
  },
  {
   "cell_type": "code",
   "execution_count": 14,
   "metadata": {},
   "outputs": [
    {
     "data": {
      "text/html": [
       "<div>\n",
       "<style scoped>\n",
       "    .dataframe tbody tr th:only-of-type {\n",
       "        vertical-align: middle;\n",
       "    }\n",
       "\n",
       "    .dataframe tbody tr th {\n",
       "        vertical-align: top;\n",
       "    }\n",
       "\n",
       "    .dataframe thead th {\n",
       "        text-align: right;\n",
       "    }\n",
       "</style>\n",
       "<table border=\"1\" class=\"dataframe\">\n",
       "  <thead>\n",
       "    <tr style=\"text-align: right;\">\n",
       "      <th></th>\n",
       "      <th>Gender</th>\n",
       "      <th>Customer Type</th>\n",
       "      <th>Age</th>\n",
       "      <th>Type of Travel</th>\n",
       "      <th>Class</th>\n",
       "      <th>Flight Distance</th>\n",
       "      <th>Inflight wifi service</th>\n",
       "      <th>Departure/Arrival time convenient</th>\n",
       "      <th>Ease of Online booking</th>\n",
       "      <th>Gate location</th>\n",
       "      <th>...</th>\n",
       "      <th>Seat comfort</th>\n",
       "      <th>Inflight entertainment</th>\n",
       "      <th>On-board service</th>\n",
       "      <th>Leg room service</th>\n",
       "      <th>Baggage handling</th>\n",
       "      <th>Checkin service</th>\n",
       "      <th>Inflight service</th>\n",
       "      <th>Cleanliness</th>\n",
       "      <th>Departure Delay in Minutes</th>\n",
       "      <th>Arrival Delay in Minutes</th>\n",
       "    </tr>\n",
       "  </thead>\n",
       "  <tbody>\n",
       "    <tr>\n",
       "      <th>0</th>\n",
       "      <td>0.997503</td>\n",
       "      <td>0.470504</td>\n",
       "      <td>1.359161</td>\n",
       "      <td>-1.466154</td>\n",
       "      <td>-1.077074</td>\n",
       "      <td>-1.078624</td>\n",
       "      <td>0.964985</td>\n",
       "      <td>-0.023211</td>\n",
       "      <td>0.912064</td>\n",
       "      <td>1.595886</td>\n",
       "      <td>...</td>\n",
       "      <td>-1.123835</td>\n",
       "      <td>-1.720159</td>\n",
       "      <td>-1.817860</td>\n",
       "      <td>0.532430</td>\n",
       "      <td>-2.149925</td>\n",
       "      <td>-1.110632</td>\n",
       "      <td>-2.184359</td>\n",
       "      <td>1.320720</td>\n",
       "      <td>-0.398658</td>\n",
       "      <td>-0.404851</td>\n",
       "    </tr>\n",
       "    <tr>\n",
       "      <th>1</th>\n",
       "      <td>0.997503</td>\n",
       "      <td>0.470504</td>\n",
       "      <td>1.032890</td>\n",
       "      <td>-1.466154</td>\n",
       "      <td>-1.077074</td>\n",
       "      <td>-0.959936</td>\n",
       "      <td>0.964985</td>\n",
       "      <td>0.639961</td>\n",
       "      <td>0.912064</td>\n",
       "      <td>-0.008020</td>\n",
       "      <td>...</td>\n",
       "      <td>0.402596</td>\n",
       "      <td>1.239254</td>\n",
       "      <td>1.263259</td>\n",
       "      <td>0.532430</td>\n",
       "      <td>1.152888</td>\n",
       "      <td>1.357439</td>\n",
       "      <td>1.172965</td>\n",
       "      <td>1.320720</td>\n",
       "      <td>-0.398658</td>\n",
       "      <td>-0.404851</td>\n",
       "    </tr>\n",
       "    <tr>\n",
       "      <th>2</th>\n",
       "      <td>-1.002503</td>\n",
       "      <td>-2.125380</td>\n",
       "      <td>-0.141683</td>\n",
       "      <td>0.682057</td>\n",
       "      <td>-1.077074</td>\n",
       "      <td>-0.563968</td>\n",
       "      <td>0.219103</td>\n",
       "      <td>0.639961</td>\n",
       "      <td>0.211150</td>\n",
       "      <td>-0.008020</td>\n",
       "      <td>...</td>\n",
       "      <td>-0.360619</td>\n",
       "      <td>-0.240452</td>\n",
       "      <td>-0.277301</td>\n",
       "      <td>1.313979</td>\n",
       "      <td>-0.498518</td>\n",
       "      <td>-1.933322</td>\n",
       "      <td>-0.505697</td>\n",
       "      <td>-0.225112</td>\n",
       "      <td>-0.398658</td>\n",
       "      <td>-0.404851</td>\n",
       "    </tr>\n",
       "    <tr>\n",
       "      <th>3</th>\n",
       "      <td>0.997503</td>\n",
       "      <td>-2.125380</td>\n",
       "      <td>-0.924732</td>\n",
       "      <td>0.682057</td>\n",
       "      <td>-1.077074</td>\n",
       "      <td>-0.580339</td>\n",
       "      <td>-1.272662</td>\n",
       "      <td>0.639961</td>\n",
       "      <td>-1.190677</td>\n",
       "      <td>-0.008020</td>\n",
       "      <td>...</td>\n",
       "      <td>-0.360619</td>\n",
       "      <td>-1.720159</td>\n",
       "      <td>1.263259</td>\n",
       "      <td>-0.249119</td>\n",
       "      <td>0.327185</td>\n",
       "      <td>-0.287942</td>\n",
       "      <td>-1.345028</td>\n",
       "      <td>-0.225112</td>\n",
       "      <td>2.596103</td>\n",
       "      <td>4.363325</td>\n",
       "    </tr>\n",
       "    <tr>\n",
       "      <th>4</th>\n",
       "      <td>0.997503</td>\n",
       "      <td>0.470504</td>\n",
       "      <td>1.685431</td>\n",
       "      <td>-1.466154</td>\n",
       "      <td>-0.033903</td>\n",
       "      <td>-0.169024</td>\n",
       "      <td>0.219103</td>\n",
       "      <td>-0.686383</td>\n",
       "      <td>0.211150</td>\n",
       "      <td>0.793933</td>\n",
       "      <td>...</td>\n",
       "      <td>-0.360619</td>\n",
       "      <td>1.239254</td>\n",
       "      <td>1.263259</td>\n",
       "      <td>-0.249119</td>\n",
       "      <td>-0.498518</td>\n",
       "      <td>-1.110632</td>\n",
       "      <td>1.172965</td>\n",
       "      <td>-1.770943</td>\n",
       "      <td>-0.398658</td>\n",
       "      <td>-0.404851</td>\n",
       "    </tr>\n",
       "  </tbody>\n",
       "</table>\n",
       "<p>5 rows × 22 columns</p>\n",
       "</div>"
      ],
      "text/plain": [
       "     Gender  Customer Type       Age  Type of Travel     Class  \\\n",
       "0  0.997503       0.470504  1.359161       -1.466154 -1.077074   \n",
       "1  0.997503       0.470504  1.032890       -1.466154 -1.077074   \n",
       "2 -1.002503      -2.125380 -0.141683        0.682057 -1.077074   \n",
       "3  0.997503      -2.125380 -0.924732        0.682057 -1.077074   \n",
       "4  0.997503       0.470504  1.685431       -1.466154 -0.033903   \n",
       "\n",
       "   Flight Distance  Inflight wifi service  Departure/Arrival time convenient  \\\n",
       "0        -1.078624               0.964985                          -0.023211   \n",
       "1        -0.959936               0.964985                           0.639961   \n",
       "2        -0.563968               0.219103                           0.639961   \n",
       "3        -0.580339              -1.272662                           0.639961   \n",
       "4        -0.169024               0.219103                          -0.686383   \n",
       "\n",
       "   Ease of Online booking  Gate location  ...  Seat comfort  \\\n",
       "0                0.912064       1.595886  ...     -1.123835   \n",
       "1                0.912064      -0.008020  ...      0.402596   \n",
       "2                0.211150      -0.008020  ...     -0.360619   \n",
       "3               -1.190677      -0.008020  ...     -0.360619   \n",
       "4                0.211150       0.793933  ...     -0.360619   \n",
       "\n",
       "   Inflight entertainment  On-board service  Leg room service  \\\n",
       "0               -1.720159         -1.817860          0.532430   \n",
       "1                1.239254          1.263259          0.532430   \n",
       "2               -0.240452         -0.277301          1.313979   \n",
       "3               -1.720159          1.263259         -0.249119   \n",
       "4                1.239254          1.263259         -0.249119   \n",
       "\n",
       "   Baggage handling  Checkin service  Inflight service  Cleanliness  \\\n",
       "0         -2.149925        -1.110632         -2.184359     1.320720   \n",
       "1          1.152888         1.357439          1.172965     1.320720   \n",
       "2         -0.498518        -1.933322         -0.505697    -0.225112   \n",
       "3          0.327185        -0.287942         -1.345028    -0.225112   \n",
       "4         -0.498518        -1.110632          1.172965    -1.770943   \n",
       "\n",
       "   Departure Delay in Minutes  Arrival Delay in Minutes  \n",
       "0                   -0.398658                 -0.404851  \n",
       "1                   -0.398658                 -0.404851  \n",
       "2                   -0.398658                 -0.404851  \n",
       "3                    2.596103                  4.363325  \n",
       "4                   -0.398658                 -0.404851  \n",
       "\n",
       "[5 rows x 22 columns]"
      ]
     },
     "execution_count": 14,
     "metadata": {},
     "output_type": "execute_result"
    }
   ],
   "source": [
    "X_train_s.head()"
   ]
  },
  {
   "cell_type": "code",
   "execution_count": 15,
   "metadata": {},
   "outputs": [],
   "source": [
    "def print_metrics(model, X_train):\n",
    "    scores = cross_val_score(model, X_train, y_train, cv=10)\n",
    "    print('Cross val scores: {}'.format(scores))\n",
    "    print('Mean Accuracy: {:.7f}'.format(scores.mean()))\n",
    "    print('Confusion Matrix:\\n', confusion_matrix(y_train, model.predict(X_train)))"
   ]
  },
  {
   "cell_type": "code",
   "execution_count": 16,
   "metadata": {},
   "outputs": [
    {
     "name": "stdout",
     "output_type": "stream",
     "text": [
      "Cross val scores: [0.625  0.6    0.6125 0.6125 0.65   0.5625 0.5875 0.625  0.5875 0.7   ]\n",
      "Mean Accuracy: 0.6162500\n",
      "Confusion Matrix:\n",
      " [[341 103]\n",
      " [ 99 257]]\n"
     ]
    }
   ],
   "source": [
    "# Simple Model\n",
    "knn = KNeighborsClassifier()\n",
    "knn.fit(X_train, y_train)\n",
    "print_metrics(knn, X_train)"
   ]
  },
  {
   "cell_type": "code",
   "execution_count": 17,
   "metadata": {},
   "outputs": [
    {
     "name": "stdout",
     "output_type": "stream",
     "text": [
      "Cross val scores: [0.8625 0.9    0.825  0.9    0.8875 0.85   0.9125 0.9    0.85   0.875 ]\n",
      "Mean Accuracy: 0.8762500\n",
      "Confusion Matrix:\n",
      " [[420  24]\n",
      " [ 48 308]]\n"
     ]
    }
   ],
   "source": [
    "# Standard Model\n",
    "knn_s = KNeighborsClassifier()\n",
    "knn_s.fit(X_train_s, y_train)\n",
    "print_metrics(knn_s, X_train_s)"
   ]
  },
  {
   "cell_type": "code",
   "execution_count": 18,
   "metadata": {},
   "outputs": [
    {
     "name": "stdout",
     "output_type": "stream",
     "text": [
      "Cross val scores: [0.8375 0.9    0.8375 0.925  0.9125 0.8125 0.9    0.8625 0.825  0.85  ]\n",
      "Mean Accuracy: 0.8662500\n",
      "Confusion Matrix:\n",
      " [[425  19]\n",
      " [ 59 297]]\n"
     ]
    }
   ],
   "source": [
    "# MinMax Scaled Model\n",
    "knn_m = KNeighborsClassifier()\n",
    "knn_m.fit(X_train_m, y_train)\n",
    "print_metrics(knn_m, X_train_m)"
   ]
  },
  {
   "cell_type": "markdown",
   "metadata": {},
   "source": [
    "## Parameters 모두 고려\n",
    "- n_neighbors: 검색할 이웃의 수로 default 값은 5이다.\n",
    "- Metric: 거리 측정 방식을 변경하는 매개변수로 default 값은 minkowsi이다\n",
    "- Weights: 예측에 사용하는 가중치로 uniform 은 각 이웃에 동일한 가중치를 , ‘distance’는 가까운 이웃이 멀리 있는 이웃보다 더욱 큰 영향을 미친다."
   ]
  },
  {
   "cell_type": "code",
   "execution_count": 19,
   "metadata": {},
   "outputs": [],
   "source": [
    "# GridSearch CV 사용\n",
    "grid_params = {\n",
    "    'n_neighbors' : list(range(1,120)), # 1~120\n",
    "    'weights' : [\"uniform\", \"distance\"],\n",
    "    'metric' : ['euclidean', 'manhattan', 'minkowski']\n",
    "}"
   ]
  },
  {
   "cell_type": "code",
   "execution_count": 20,
   "metadata": {},
   "outputs": [
    {
     "name": "stdout",
     "output_type": "stream",
     "text": [
      "Best Parameters :  {'metric': 'manhattan', 'n_neighbors': 17, 'weights': 'distance'}\n",
      "Best Score :  0.6925\n",
      "Best Test Score :  0.69\n"
     ]
    }
   ],
   "source": [
    "# 1. Simple (No Scaled)\n",
    "gs = GridSearchCV(knn, grid_params)\n",
    "gs.fit(X_train, y_train)\n",
    "print(\"Best Parameters : \", gs.best_params_)\n",
    "print(\"Best Score : \", gs.best_score_)\n",
    "print(\"Best Test Score : \", gs.score(X_test, y_test))"
   ]
  },
  {
   "cell_type": "code",
   "execution_count": 21,
   "metadata": {},
   "outputs": [
    {
     "name": "stdout",
     "output_type": "stream",
     "text": [
      "Best Parameters :  {'metric': 'manhattan', 'n_neighbors': 10, 'weights': 'distance'}\n",
      "Best Score :  0.885\n",
      "Best Test Score :  0.91\n"
     ]
    }
   ],
   "source": [
    "# 2. Standard\n",
    "gs_s = GridSearchCV(knn_s, grid_params)\n",
    "gs_s.fit(X_train_s, y_train)\n",
    "print(\"Best Parameters : \", gs_s.best_params_)\n",
    "print(\"Best Score : \", gs_s.best_score_)\n",
    "print(\"Best Test Score : \", gs_s.score(X_test_s, y_test))"
   ]
  },
  {
   "cell_type": "code",
   "execution_count": 22,
   "metadata": {},
   "outputs": [
    {
     "name": "stdout",
     "output_type": "stream",
     "text": [
      "Best Parameters :  {'metric': 'manhattan', 'n_neighbors': 12, 'weights': 'distance'}\n",
      "Best Score :  0.885\n",
      "Best Test Score :  0.91\n"
     ]
    }
   ],
   "source": [
    "#3. MinMaxed\n",
    "gs_m = GridSearchCV(knn_m, grid_params)\n",
    "gs_m.fit(X_train_m, y_train)\n",
    "print(\"Best Parameters : \", gs_m.best_params_)\n",
    "print(\"Best Score : \", gs_m.best_score_)\n",
    "print(\"Best Test Score : \", gs_m.score(X_test_m, y_test))"
   ]
  },
  {
   "cell_type": "markdown",
   "metadata": {
    "jp-MarkdownHeadingCollapsed": true,
    "tags": []
   },
   "source": [
    "## Parameters 고정: euclidean, uniform"
   ]
  },
  {
   "cell_type": "code",
   "execution_count": 23,
   "metadata": {},
   "outputs": [],
   "source": [
    "# 유클리디안\n",
    "grid_params = {\n",
    "    'n_neighbors' : list(range(1,120)), # 1~120\n",
    "    'weights' : [\"uniform\"],\n",
    "    'metric' : ['euclidean']\n",
    "}"
   ]
  },
  {
   "cell_type": "code",
   "execution_count": 24,
   "metadata": {},
   "outputs": [
    {
     "name": "stdout",
     "output_type": "stream",
     "text": [
      "Best Parameters :  {'metric': 'euclidean', 'n_neighbors': 71, 'weights': 'uniform'}\n",
      "Best Score :  0.66875\n",
      "Best Test Score :  0.62\n"
     ]
    }
   ],
   "source": [
    "# 1. Simple (No Scaled)\n",
    "gs = GridSearchCV(knn, grid_params)\n",
    "gs.fit(X_train, y_train)\n",
    "print(\"Best Parameters : \", gs.best_params_)\n",
    "print(\"Best Score : \", gs.best_score_)\n",
    "print(\"Best Test Score : \", gs.score(X_test, y_test))"
   ]
  },
  {
   "cell_type": "code",
   "execution_count": 25,
   "metadata": {},
   "outputs": [
    {
     "name": "stdout",
     "output_type": "stream",
     "text": [
      "Best Parameters :  {'metric': 'euclidean', 'n_neighbors': 3, 'weights': 'uniform'}\n",
      "Best Score :  0.87375\n",
      "Best Test Score :  0.88\n"
     ]
    }
   ],
   "source": [
    "# 2. Standard\n",
    "gs_s = GridSearchCV(knn_s, grid_params)\n",
    "gs_s.fit(X_train_s, y_train)\n",
    "print(\"Best Parameters : \", gs_s.best_params_)\n",
    "print(\"Best Score : \", gs_s.best_score_)\n",
    "print(\"Best Test Score : \", gs_s.score(X_test_s, y_test))"
   ]
  },
  {
   "cell_type": "code",
   "execution_count": 26,
   "metadata": {},
   "outputs": [
    {
     "name": "stdout",
     "output_type": "stream",
     "text": [
      "Best Parameters :  {'metric': 'euclidean', 'n_neighbors': 11, 'weights': 'uniform'}\n",
      "Best Score :  0.86875\n",
      "Best Test Score :  0.87\n"
     ]
    }
   ],
   "source": [
    "#3. MinMaxed\n",
    "gs_m = GridSearchCV(knn_m, grid_params)\n",
    "gs_m.fit(X_train_m, y_train)\n",
    "print(\"Best Parameters : \", gs_m.best_params_)\n",
    "print(\"Best Score : \", gs_m.best_score_)\n",
    "print(\"Best Test Score : \", gs_m.score(X_test_m, y_test))"
   ]
  },
  {
   "cell_type": "code",
   "execution_count": null,
   "metadata": {},
   "outputs": [],
   "source": []
  },
  {
   "cell_type": "markdown",
   "metadata": {
    "jp-MarkdownHeadingCollapsed": true,
    "tags": []
   },
   "source": [
    "## Parameters 고정: manhattan, uniform"
   ]
  },
  {
   "cell_type": "code",
   "execution_count": 27,
   "metadata": {},
   "outputs": [],
   "source": [
    "# 맨하튼\n",
    "grid_params = {\n",
    "    'n_neighbors' : list(range(1,120)), # 1~120\n",
    "    'weights' : [\"uniform\"],\n",
    "    'metric' : ['manhattan']\n",
    "}"
   ]
  },
  {
   "cell_type": "code",
   "execution_count": 28,
   "metadata": {},
   "outputs": [
    {
     "name": "stdout",
     "output_type": "stream",
     "text": [
      "Best Parameters :  {'metric': 'manhattan', 'n_neighbors': 10, 'weights': 'uniform'}\n",
      "Best Score :  0.6875000000000001\n",
      "Best Test Score :  0.68\n"
     ]
    }
   ],
   "source": [
    "# 1. Simple (No Scaled)\n",
    "gs = GridSearchCV(knn, grid_params)\n",
    "gs.fit(X_train, y_train)\n",
    "print(\"Best Parameters : \", gs.best_params_)\n",
    "print(\"Best Score : \", gs.best_score_)\n",
    "print(\"Best Test Score : \", gs.score(X_test, y_test))"
   ]
  },
  {
   "cell_type": "code",
   "execution_count": 29,
   "metadata": {},
   "outputs": [
    {
     "name": "stdout",
     "output_type": "stream",
     "text": [
      "Best Parameters :  {'metric': 'manhattan', 'n_neighbors': 12, 'weights': 'uniform'}\n",
      "Best Score :  0.8812500000000002\n",
      "Best Test Score :  0.91\n"
     ]
    }
   ],
   "source": [
    "# 2. Standard\n",
    "gs_s = GridSearchCV(knn_s, grid_params)\n",
    "gs_s.fit(X_train_s, y_train)\n",
    "print(\"Best Parameters : \", gs_s.best_params_)\n",
    "print(\"Best Score : \", gs_s.best_score_)\n",
    "print(\"Best Test Score : \", gs_s.score(X_test_s, y_test))"
   ]
  },
  {
   "cell_type": "code",
   "execution_count": 30,
   "metadata": {},
   "outputs": [
    {
     "name": "stdout",
     "output_type": "stream",
     "text": [
      "Best Parameters :  {'metric': 'manhattan', 'n_neighbors': 11, 'weights': 'uniform'}\n",
      "Best Score :  0.88125\n",
      "Best Test Score :  0.91\n"
     ]
    }
   ],
   "source": [
    "#3. MinMaxed\n",
    "gs_m = GridSearchCV(knn_m, grid_params)\n",
    "gs_m.fit(X_train_m, y_train)\n",
    "print(\"Best Parameters : \", gs_m.best_params_)\n",
    "print(\"Best Score : \", gs_m.best_score_)\n",
    "print(\"Best Test Score : \", gs_m.score(X_test_m, y_test))"
   ]
  },
  {
   "cell_type": "markdown",
   "metadata": {},
   "source": [
    "## Final Models"
   ]
  },
  {
   "cell_type": "code",
   "execution_count": 31,
   "metadata": {},
   "outputs": [
    {
     "name": "stdout",
     "output_type": "stream",
     "text": [
      "Cross val scores: [0.875  0.8625 0.85   0.9125 0.925  0.85   0.9125 0.9125 0.875  0.8625]\n",
      "Mean Accuracy: 0.8837500\n",
      "Confusion Matrix:\n",
      " [[444   0]\n",
      " [  0 356]]\n"
     ]
    }
   ],
   "source": [
    "# Best Model, HyperParameters\n",
    "knn_m = KNeighborsClassifier(metric = 'manhattan', n_neighbors = 12, weights = 'distance')\n",
    "knn_m.fit(X_train_m, y_train)\n",
    "print_metrics(knn_m, X_train_m)"
   ]
  },
  {
   "cell_type": "code",
   "execution_count": 32,
   "metadata": {},
   "outputs": [
    {
     "name": "stdout",
     "output_type": "stream",
     "text": [
      "Cross val scores: [0.8875 0.8375 0.8375 0.9125 0.9375 0.8375 0.9    0.925  0.875  0.8625]\n",
      "Mean Accuracy: 0.8812500\n",
      "Confusion Matrix:\n",
      " [[444   0]\n",
      " [  0 356]]\n"
     ]
    }
   ],
   "source": [
    "# Best Model, HyperParameters\n",
    "knn_s = KNeighborsClassifier(metric = 'manhattan', n_neighbors = 10, weights = 'distance')\n",
    "knn_s.fit(X_train_s, y_train)\n",
    "print_metrics(knn_s, X_train_s)"
   ]
  },
  {
   "cell_type": "code",
   "execution_count": 33,
   "metadata": {},
   "outputs": [],
   "source": [
    "def print_test_metrics(model, X_test):\n",
    "    print('*** Test Accuracy *** \\n   {}'.format(model.score(X_test, y_test)))\n",
    "    print('\\n*** Confusion Matrix *** \\n', confusion_matrix(y_test, model.predict(X_test)))"
   ]
  },
  {
   "cell_type": "code",
   "execution_count": 34,
   "metadata": {},
   "outputs": [
    {
     "name": "stdout",
     "output_type": "stream",
     "text": [
      "*** Test Accuracy *** \n",
      "   0.91\n",
      "\n",
      "*** Confusion Matrix *** \n",
      " [[56  3]\n",
      " [ 6 35]]\n"
     ]
    }
   ],
   "source": [
    "print_test_metrics(knn_m, X_test_m)"
   ]
  },
  {
   "cell_type": "code",
   "execution_count": 35,
   "metadata": {},
   "outputs": [
    {
     "name": "stdout",
     "output_type": "stream",
     "text": [
      "*** Test Accuracy *** \n",
      "   0.91\n",
      "\n",
      "*** Confusion Matrix *** \n",
      " [[55  4]\n",
      " [ 5 36]]\n"
     ]
    }
   ],
   "source": [
    "print_test_metrics(knn_s, X_test_s)"
   ]
  },
  {
   "cell_type": "markdown",
   "metadata": {
    "id": "8-BMEqCFdfsR"
   },
   "source": [
    "## **설명 작성**  \n",
    "\n",
    "- 최적의 파라미터: \n",
    "    1. Simple:\n",
    "        - Parameters: {'metric': 'manhattan', 'n_neighbors': 17, 'weights': 'distance'}\n",
    "        - Score: 0.6925\n",
    "        - Test Score: 0.69\n",
    "    2. Standard Scaler: \n",
    "        - Parameters: {'metric': 'manhattan', 'n_neighbors': 10, 'weights': 'distance'} \n",
    "        - Score:  0.885\n",
    "        - Test Score:  0.91\n",
    "    3. MinMaxed:\n",
    "        - Parameters :  {'metric': 'euclidean', 'n_neighbors': 12, 'weights': 'uniform'}\n",
    "        - Score:  0.86875\n",
    "        - Test Score:  0.87\n",
    "- 설명: \n"
   ]
  },
  {
   "cell_type": "markdown",
   "metadata": {
    "id": "mZkD2D1i4Zli"
   },
   "source": [
    "---"
   ]
  },
  {
   "cell_type": "markdown",
   "metadata": {
    "id": "7OMvtg924Zli"
   },
   "source": [
    "## 문제2 Random Forest\n",
    "\n",
    "\n",
    "- Scikit-learn 라이브러리를 이용하여 Random Forest의 최적의 파라미터를 찾는다.\n",
    "    - Criterion 중 최소 두개를 비교한다.\n",
    "    - 최적의 파라미터 max depth 값을 찾는다.\n",
    "    - 파라미터에 따라 train, validation 정확도를 한 그래프로 그린다.(x축 max depth 값, y축 정확도)\n",
    "    - 찾은 최적의 파라미터와 test set을 이용하여 test accuracy를 계산하고 기입한다.\n",
    "    - 최적의 파라미터를 찾은 것에 대한 설명을 '텍스트 셀'에 작성한다."
   ]
  },
  {
   "cell_type": "code",
   "execution_count": 36,
   "metadata": {
    "id": "IttBH6C94Zli"
   },
   "outputs": [],
   "source": [
    "from sklearn.ensemble import RandomForestClassifier"
   ]
  },
  {
   "cell_type": "code",
   "execution_count": 37,
   "metadata": {
    "colab": {
     "base_uri": "https://localhost:8080/",
     "height": 353
    },
    "id": "C153cWxK4Zli",
    "outputId": "29809837-faef-4590-8108-06809ff2bb1f"
   },
   "outputs": [
    {
     "name": "stdout",
     "output_type": "stream",
     "text": [
      "forest_test :  [0.86, 0.88, 0.92, 0.93, 0.92, 0.92]\n",
      "forest_test2 : [0.87, 0.89, 0.93, 0.93, 0.93, 0.93]\n",
      "최적의 파라미터(criterion=gini) 0.93\n",
      "최적의 파라미터(criterion=entropy 0.93\n"
     ]
    },
    {
     "data": {
      "image/png": "[encoded data removed]",
      "text/plain": [
       "<Figure size 432x288 with 1 Axes>"
      ]
     },
     "metadata": {
      "needs_background": "light"
     },
     "output_type": "display_data"
    }
   ],
   "source": [
    "### 문제 2 ###\n",
    "### 코드 작성 ###\n",
    "\n",
    "# max_depth : 생성할 DecisionTree의 깊이\n",
    "max_dep = [1, 3, 7, 11, 15, 25]\n",
    "\n",
    "# training, test accuracy를 저장하기 위한 빈 리스트 생성\n",
    "forest_train = []\n",
    "forest_test = []\n",
    "\n",
    "# 반복문을 통해 max_depth 값을 다르게 하여 정확도를 계산한다.\n",
    "for i in max_dep:\n",
    "  forest = RandomForestClassifier(n_estimators=100, random_state = 20, max_depth = i, criterion = 'gini')\n",
    "  # 생성된 모델을 학습시킴\n",
    "  forest.fit(X_train, y_train)\n",
    "\n",
    "  # forest_train accuracy를 리스트에 추가\n",
    "  forest_train.append(forest.score(X_train, y_train))\n",
    "  # forest_test accuracy를 리스트에 추가\n",
    "  forest_test.append(forest.score(X_test, y_test))\n",
    "\n",
    "# X축은 max depth, Y축은 정확도 값을 갖는 그래프를 생성한다.\n",
    "plt.figure()\n",
    "# plt.plot(max_dep, forest_train, label = 'train accuarcy(gini)', marker='o')\n",
    "plt.plot(max_dep, forest_test, label = 'test accuarcy(gini)', marker='o')\n",
    "plt.xlabel('max depth')\n",
    "plt.ylabel('accuracy')\n",
    "plt.legend()\n",
    "\n",
    "\n",
    "# criterion에 entropy 값을 갖는 training, test accuracy를 저장하기 위한 빈 리스트 생성\n",
    "forest_train2 = []\n",
    "forest_test2 = []\n",
    "\n",
    "# 반복문을 통해 max_depth 값을 다르게 하여 정확도를 계산한다.\n",
    "for j in max_dep:\n",
    "  forest2 = RandomForestClassifier(n_estimators=100, random_state = 20, max_depth = j, criterion = 'entropy')\n",
    "  # 생성된 모델을 학습시킨다\n",
    "  forest2.fit(X_train, y_train)\n",
    "\n",
    "  # forest_train accuracy를 리스트에 추가한다.\n",
    "  forest_train2.append(forest2.score(X_train, y_train))\n",
    "  # forest_test accuracy를 리스트에 추가한다.\n",
    "  forest_test2.append(forest2.score(X_test, y_test))\n",
    "\n",
    "# X축은 max depth, Y축은 정확도 값을 갖는 그래프를 생성한다.\n",
    "# plt.plot(max_dep, forest_train2, label = 'train accuracy(entropy)', marker='^')\n",
    "plt.plot(max_dep, forest_test2, label= 'test accuracy(entropy)', marker='^')\n",
    "plt.xlabel('max depth')\n",
    "plt.ylabel('accuracy')\n",
    "plt.legend()\n",
    "\n",
    "print('forest_test : ', forest_test)\n",
    "print('forest_test2 :', forest_test2)\n",
    "\n",
    "# max_depth와 accuracy 리스트를 하나의 딕셔너리로 결합\n",
    "forest_dict = dict(zip(forest_test, max_dep))\n",
    "forest_dict2 = dict(zip(forest_test2, max_dep))\n",
    "\n",
    "# 최적의 파라미터를 찾기 위해 정확도가 최대값인 max_depth 추출\n",
    "opt_m1 = forest_dict.get(max(forest_dict))\n",
    "opt_m2 = forest_dict2.get(max(forest_dict2))\n",
    "\n",
    "# criterion='gini' 값을 갖는 최적의 파라미터 test accuracy를 계산한다.\n",
    "optimal_forest = RandomForestClassifier(n_estimators = 100, random_state = 20, max_depth = opt_m1, criterion = 'gini')\n",
    "optimal_forest.fit(X_train, y_train)\n",
    "optimal_test = optimal_forest.score(X_test, y_test)\n",
    "\n",
    "# criterion='entropy' 값을 갖는 최적의 파라미터 test accuracy를 계산한다.\n",
    "optimal_forest2 = RandomForestClassifier(n_estimators= 100, random_state=20, max_depth=opt_m2, criterion='entropy')\n",
    "optimal_forest2.fit(X_train, y_train)\n",
    "optimal_test2 = optimal_forest2.score(X_test, y_test)\n",
    "\n",
    "# 결과값 출력\n",
    "print('최적의 파라미터(criterion=gini)', optimal_test)\n",
    "print('최적의 파라미터(criterion=entropy', optimal_test2)"
   ]
  },
  {
   "cell_type": "markdown",
   "metadata": {
    "id": "s4r40Dbu4Zli"
   },
   "source": [
    "**설명 작성**  \n",
    "- 최적의 파라미터: \n",
    "\n",
    "criterion(gini)일 때 max_depth= 11,\n",
    "\n",
    "criterion(entropy)일 때 max_depth = 15 \n",
    "\n",
    "- 설명: \n",
    "\n",
    "criterion(gini)의 map_depth 값이 11일 때, test accuracy가 0.93로 최적의 값을 나타낸다.\n",
    "\n",
    "criterion(entropy)의 map_depth 값이 15일 때, test accuracy가 0.94로 최적의 값을 나타낸다.\n",
    "\n",
    "(max_depth가 증가하더라도 test accuracy가 더 이상 증가하지 않는다)"
   ]
  },
  {
   "cell_type": "markdown",
   "metadata": {
    "id": "KvjjbqDB4Zli"
   },
   "source": [
    "---"
   ]
  },
  {
   "cell_type": "markdown",
   "metadata": {
    "id": "cl1b3f3AaZUw"
   },
   "source": [
    "## 문제3 Cross validation with Linear SVM\n",
    "### 3-1: k-fold\n",
    "- 수업시간에 배운 **5-fold** 를 이용하여 최적의 파라미터를 찾는다. (데이터는 동일)\n",
    "- 수업시간에 배운 linear SVM 모델의 파라미터 C를 cross-validation을 바탕으로 최적화한다.\n",
    "    - **5-fold CV를 할 때, test data를 제외한 90%의 데이터를 사용해야한다.**\n",
    "    - 파라미터에 따라 K-fold CV를 통해 나온 평균 정확도와 각 fold의 정확도들을 한 그래프로 그린다.(x축 선택한 파라미터, y축 정확도)\n",
    "    - 찾은 최적의 파라미터와 test set을 이용하여 test accuracy를 계산하고 기입한다.\n",
    "    - 최적의 파라미터를 찾은 것에 대한 설명을 '텍스트 셀'에 작성한다.\n",
    "\n",
    "### 3-2: Leave One Out\n",
    "- 수업시간에 배운 Leave-One-Out 를 이용하여 최적의 파라미터를 찾는다. (데이터는 동일)\n",
    "- 수업시간에 배운 linear SVM 모델의 파라미터 C를 cross-validation을 바탕으로 최적화한다.\n",
    "  - **Leave-One-Out CV를 할 때, test data를 제외한 90%의 데이터를 사용해야한다.**\n",
    "  - 파라미터에 따라 Leave-One-Out CV를 통해 나온 평균 정확도를 그래프로 그린다.(x축 선택한 파라미터, y축 정확도)\n",
    "  - 찾은 최적의 파라미터와 test set을 이용하여 test accuracy를 계산하고 기입한다.\n",
    "  - 최적의 파라미터를 찾은 것에 대한 설명을 '텍스트 셀'에 작성한다."
   ]
  },
  {
   "cell_type": "code",
   "execution_count": 38,
   "metadata": {},
   "outputs": [],
   "source": [
    "# 3-1:k-fold 코드:\n"
   ]
  },
  {
   "cell_type": "markdown",
   "metadata": {
    "id": "2xvEdCHAfH0g"
   },
   "source": [
    "**설명 작성**  \n",
    "- 최적의 파라미터:\n",
    "- 설명:"
   ]
  },
  {
   "cell_type": "code",
   "execution_count": 39,
   "metadata": {
    "colab": {
     "base_uri": "https://localhost:8080/",
     "height": 699
    },
    "id": "80a5iRmvfG6H",
    "outputId": "76075897-59e7-4c20-d387-85ae62a901a5"
   },
   "outputs": [
    {
     "ename": "NameError",
     "evalue": "name 'SVC' is not defined",
     "output_type": "error",
     "traceback": [
      "\u001b[0;31m---------------------------------------------------------------------------\u001b[0m",
      "\u001b[0;31mNameError\u001b[0m                                 Traceback (most recent call last)",
      "Input \u001b[0;32mIn [39]\u001b[0m, in \u001b[0;36m<cell line: 19>\u001b[0;34m()\u001b[0m\n\u001b[1;32m     18\u001b[0m \u001b[38;5;66;03m# linear SVM 모델의 파라미터 C, 반복문을 통해 확인\u001b[39;00m\n\u001b[1;32m     19\u001b[0m \u001b[38;5;28;01mfor\u001b[39;00m variableC \u001b[38;5;129;01min\u001b[39;00m par_C:\n\u001b[0;32m---> 20\u001b[0m   model \u001b[38;5;241m=\u001b[39m \u001b[43mSVC\u001b[49m(C\u001b[38;5;241m=\u001b[39m variableC)\u001b[38;5;241m.\u001b[39mfit(X_train, y_train)\n\u001b[1;32m     21\u001b[0m   score_train \u001b[38;5;241m=\u001b[39m model\u001b[38;5;241m.\u001b[39mscore(X_train, y_train)\n\u001b[1;32m     22\u001b[0m   score_test \u001b[38;5;241m=\u001b[39m model\u001b[38;5;241m.\u001b[39mscore(X_test, y_test)\n",
      "\u001b[0;31mNameError\u001b[0m: name 'SVC' is not defined"
     ]
    }
   ],
   "source": [
    "### 문제 3-2 ###\n",
    "### 코드 작성 ###\n",
    "from sklearn.model_selection import cross_val_score\n",
    "from sklearn.model_selection import LeaveOneOut\n",
    "from sklearn.ensemble import RandomForestClassifier\n",
    "from sklearn.metrics import accuracy_score\n",
    "\n",
    "# test data를 제외한 90%의 데이터를 사용한다는 조건에 따른 test_size 설정\n",
    "X_train, X_test, y_train, y_test = train_test_split(X, y, test_size=0.1, random_state = 8)\n",
    "X_train, X_val, y_train, y_val = train_test_split(X_train, y_train, test_size=1/9, random_state = 30)\n",
    "\n",
    "# model명 loocv로 저장\n",
    "loocv = LeaveOneOut()\n",
    "\n",
    "# 파라미터 C\n",
    "par_C = [0.01, 0.1, 1, 100]\n",
    "\n",
    "# linear SVM 모델의 파라미터 C, 반복문을 통해 확인\n",
    "for variableC in par_C:\n",
    "  model = SVC(C= variableC).fit(X_train, y_train)\n",
    "  score_train = model.score(X_train, y_train)\n",
    "  score_test = model.score(X_test, y_test)\n",
    "  print(\"linear SVM : C:{}, traing score:{:2f}, test score:{:2f} \\n\".format(variableC, score_train, score_test))\n",
    "\n",
    "  # cross validation scores 측정\n",
    "  cv2_score = cross_val_score(model, X_train, y_train, cv = loocv)\n",
    "\n",
    "  # cv_score 값을 저장하기 위한 딕셔너리 생성\n",
    "  cv2_dict = {}\n",
    "  cv2_dict[variableC] = cv2_score\n",
    "\n",
    "\n",
    "y_true, y_pred = list(), list()\n",
    "\n",
    "for train, test in loocv.split(X):\n",
    "  X_train, X_test = X.iloc[train, :], X.iloc[test, :]\n",
    "  y_train, y_test = y[train], y[test]\n",
    "\n",
    "  # fit model\n",
    "  model2 = RandomForestClassifier(random_state=25)\n",
    "  model2.fit(X_train, y_train)\n",
    "\n",
    "  # evaluate model\n",
    "  yhat = model.predict(X_test)\n",
    "\n",
    "  y_true.append(y_test[0])\n",
    "  y_pred.append(yhat[0])\n",
    "\n",
    "  acc = accuracy_score(y_true, y_pred)\n",
    "  print('Accuracy: %.4f'% acc)\n"
   ]
  },
  {
   "cell_type": "markdown",
   "metadata": {
    "id": "m9BqByTFfLIG"
   },
   "source": [
    "**설명 작성**  \n",
    "- 최적의 파라미터:\n",
    "- 설명:"
   ]
  },
  {
   "cell_type": "markdown",
   "metadata": {
    "id": "qUzl5Lcz4Zlj"
   },
   "source": [
    "---"
   ]
  },
  {
   "cell_type": "markdown",
   "metadata": {
    "id": "szX5GgcXfnM1"
   },
   "source": [
    "## 문제4 Regression\n",
    "문제 4 에서는 캘리포니아 주택 가격 데이터셋을 사용합니다.   \n",
    "학습을 통해 주택 가격을 예측하는 문제입니다.  \n",
    "데이터에 대한 자세한 설명은 아래 코드의 description을 참고해주세요."
   ]
  },
  {
   "cell_type": "code",
   "execution_count": null,
   "metadata": {
    "id": "Gwwkd_GO4Zlj"
   },
   "outputs": [],
   "source": [
    "from sklearn.datasets import fetch_california_housing\n",
    "housing = fetch_california_housing()\n",
    "print(housing.DESCR)"
   ]
  },
  {
   "cell_type": "code",
   "execution_count": null,
   "metadata": {
    "id": "beqDbNzQi0PR"
   },
   "outputs": [],
   "source": [
    "df = pd.DataFrame(housing.data, columns=housing.feature_names)\n",
    "df['target'] = housing.target"
   ]
  },
  {
   "cell_type": "code",
   "execution_count": null,
   "metadata": {
    "id": "Y-4fgqWCkd-o"
   },
   "outputs": [],
   "source": [
    "print(df.head())"
   ]
  },
  {
   "cell_type": "code",
   "execution_count": null,
   "metadata": {
    "id": "zoUn3ZXdkimJ"
   },
   "outputs": [],
   "source": [
    "print(df.shape) #(20640, 9)\n",
    "print(df.describe())"
   ]
  },
  {
   "cell_type": "markdown",
   "metadata": {
    "id": "3U8somVc4Zlk"
   },
   "source": [
    "### 문제 4-1 : Adjusted R2 Score\n",
    "- sklearn.metrics 패키지를 사용하여 ```def adjr2```에 Adjusted R2 Score를 구하는 함수를 작성한다.\n",
    "- ```def r2```를 사용하여 ```adjr2```를 구현한다.\n",
    "- 코드 작성 영역 이외의 코드를 수정하지 않는다.\n",
    "- 주어진 함수 파라미터를 사용하여 구현한다."
   ]
  },
  {
   "cell_type": "code",
   "execution_count": null,
   "metadata": {
    "id": "JbGUADBK4Zlk"
   },
   "outputs": [],
   "source": [
    "from sklearn.metrics import r2_score"
   ]
  },
  {
   "cell_type": "code",
   "execution_count": null,
   "metadata": {
    "id": "WvqWUQl24Zlk"
   },
   "outputs": [],
   "source": [
    "import numpy as np\n",
    "\n",
    "def r2(actual, predicted):\n",
    "    \"\"\" R2 Score \"\"\"\n",
    "    return r2_score(actual, predicted)\n",
    "\n",
    "###################################\n",
    "def adjr2(actual, predicted, rowcount, featurecount):\n",
    "############ 문제 4-1 ##############\n",
    "    \"\"\" Adjusted R2 Score \"\"\"\n",
    "\n",
    "####################################\n",
    "####################################"
   ]
  },
  {
   "cell_type": "markdown",
   "metadata": {
    "id": "P-6ZikyP4Zlk"
   },
   "source": [
    "### 문제 4-2 : Feature Selection\n",
    "- sklearn 패키지를 사용하여 feature selection을 수행하는 함수 ```forward_selection```을 구현한다.\n",
    "- Linear Regressor 을 사용하여 feature selection이 어떻게 달라지는 지 관찰한다.\n",
    "- 코드 작성 영역 이외의 코드를 수정하지 않는다.\n",
    "- 주어진 변수들, 자료들을 최대한 활용하여 코드를 작성한다."
   ]
  },
  {
   "cell_type": "code",
   "execution_count": null,
   "metadata": {
    "id": "WjqDsXSA4Zlk"
   },
   "outputs": [],
   "source": [
    "from sklearn.linear_model import LinearRegression\n",
    "import pandas as pd"
   ]
  },
  {
   "cell_type": "code",
   "execution_count": null,
   "metadata": {
    "id": "oUf_G0iF4Zlk"
   },
   "outputs": [],
   "source": [
    "X = df.drop(columns=['target'])\n",
    "y = df['target']\n",
    "y=y.astype('int')\n",
    "print(X.shape)\n",
    "print(y.shape)"
   ]
  },
  {
   "cell_type": "code",
   "execution_count": null,
   "metadata": {
    "id": "tAQiA64x4Zlk"
   },
   "outputs": [],
   "source": [
    "def forward_selection(X, y): # X: train data, y: train data's target\n",
    "    initial_list = []\n",
    "    included = list(initial_list) # 포함되어야 하는 feature\n",
    "    best_r2 = 0 # 가장 높은 r2 score를 저장\n",
    "\n",
    "    while True:\n",
    "\n",
    "        changed = False # while 문을 빠져나가는 조건으로 활용\n",
    "        excluded = list(set(X.columns)-set(included)) # included list에 없는 column names 저장하는 리스트\n",
    "        new_scores = dict.fromkeys(excluded)\n",
    "\n",
    "        for new_column in excluded:\n",
    "            \n",
    "            model = LinearRegression()\n",
    "\n",
    "            ###########################################\n",
    "            ###### 코드 작성 영역 외 수정 하지 말 것 #########\n",
    "            ################ 문제 4-2 ##################\n",
    "\n",
    "\n",
    "\n",
    "\n",
    "        ##############################################\n",
    "        ##############################################\n",
    " \n",
    "    return included\n",
    "\n",
    "selected_features = forward_selection(X, y)\n",
    "print('selected_features:', selected_features)"
   ]
  },
  {
   "cell_type": "markdown",
   "metadata": {
    "id": "0OGUhsrgEwR_"
   },
   "source": [
    "### 문제 4-3: Regularized Model\n",
    "- Scikit-learn 라이브러리를 사용하여 Ridge Regression과 Lasso Regression 모델을 만든다.\n",
    "- train : validation : test **데이터셋의 비율을 8:1:1**로 설정한다.\n",
    "- 문제 4-1의 **forward selection을 통해 얻은 feature만**을 가진 데이터를 사용한다.\n",
    "- 다양한 alpha 값에 대해 validation dataset을 사용하여 각 모델에 대한 **최적의 alpha 값을 찾고 찾은 최적의 alpha 값을 텍스트 셀에 작성**한다.\n",
    "- alpha 값은 아래의 리스트를 사용한다.  \n",
    "```alpha = [0.0001, 0.001,0.01,0.1,1,10, 100, 1000, 10000, 100000]```\n",
    "- alpha 값에 대한 R2 score의 변화를 그래프로 나타낸다.\n",
    "  * **x축: alpha 값**\n",
    "  * **y축: R2 score 값**\n",
    "  * 파란색 선: Ridge 결과, 빨간색 선: Lasso 결과\n",
    "  * 그래프에 **legend**가 포함되어 있어야 한다. \n",
    "- **train과 validation dataset을 합하여 train set을 만든 후 최종 학습 결과를 도출**한다.\n",
    "  * 최적의 alpha 값을 찾을 때 사용한 test set은 변하지 않는다. \n",
    "  * r2 score를 사용하여 train set에 대한 prediction 결과와 test set에 대한 prediction 결과를 구해 print 한다."
   ]
  },
  {
   "cell_type": "code",
   "execution_count": null,
   "metadata": {
    "id": "NEx72fQh4Zll"
   },
   "outputs": [],
   "source": [
    "from sklearn.linear_model import LinearRegression, Ridge, Lasso\n",
    "from sklearn.metrics import r2_score\n",
    "import numpy as np"
   ]
  },
  {
   "cell_type": "code",
   "execution_count": null,
   "metadata": {
    "id": "2ZJbj9r2Z4LP"
   },
   "outputs": [],
   "source": [
    "### 문제 4-3 ###\n",
    "### 코드 작성 ###"
   ]
  },
  {
   "cell_type": "code",
   "execution_count": null,
   "metadata": {
    "id": "Ym11BIQD4Zll"
   },
   "outputs": [],
   "source": [
    "### 문제 4-3 ###\n",
    "### 그래프 작성 ###"
   ]
  },
  {
   "cell_type": "markdown",
   "metadata": {
    "id": "DS8x1JmkZ6Yl"
   },
   "source": [
    "- Rridge regression 모델 최적의 alpha 값:\n",
    "- Lasso regression 모델 최적의 alpha 값:"
   ]
  },
  {
   "cell_type": "code",
   "execution_count": null,
   "metadata": {
    "id": "zio0ZtfdiXCF"
   },
   "outputs": [],
   "source": [
    "# 최종 결과 출력"
   ]
  }
 ],
 "metadata": {
  "colab": {
   "collapsed_sections": [],
   "provenance": []
  },
  "interpreter": {
   "hash": "72f413c705acf8cc7ca758c5c7ce13adba655409ec2684a2da3bcb9a148f4862"
  },
  "kernelspec": {
   "display_name": "Python 3.9 (tensorflow)",
   "language": "python",
   "name": "tensorflow"
  },
  "language_info": {
   "codemirror_mode": {
    "name": "ipython",
    "version": 3
   },
   "file_extension": ".py",
   "mimetype": "text/x-python",
   "name": "python",
   "nbconvert_exporter": "python",
   "pygments_lexer": "ipython3",
   "version": "3.9.12"
  },
  "vscode": {
   "interpreter": {
    "hash": "4df1aae1e0b0d359ea12b19172edf8042a617e338541b2db12efe6535537db04"
   }
  }
 },
 "nbformat": 4,
 "nbformat_minor": 4
}
