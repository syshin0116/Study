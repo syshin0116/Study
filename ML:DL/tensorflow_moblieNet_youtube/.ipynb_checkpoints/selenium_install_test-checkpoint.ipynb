{
 "cells": [
  {
   "cell_type": "code",
   "execution_count": 21,
   "id": "ed8df9d3-34b8-4b48-9976-db2e6c8c77b4",
   "metadata": {},
   "outputs": [],
   "source": [
    "from selenium import webdriver"
   ]
  },
  {
   "cell_type": "code",
   "execution_count": 26,
   "id": "f03a2d63-4403-4690-a476-60092c7ce66f",
   "metadata": {},
   "outputs": [],
   "source": [
    "import warnings\n",
    "warnings.filterwarnings(action='ignore')"
   ]
  },
  {
   "cell_type": "code",
   "execution_count": 27,
   "id": "3b5205bf-dc4a-4dea-80af-5f6609b468f5",
   "metadata": {},
   "outputs": [],
   "source": [
    "wd = webdriver.Chrome('C:/Users/hi/Himedia_jupyter/chromedriver.exe')"
   ]
  },
  {
   "cell_type": "code",
   "execution_count": 28,
   "id": "57e922a7-bcc8-41b5-81d2-9704e5da4b38",
   "metadata": {},
   "outputs": [
    {
     "data": {
      "text/plain": [
       "'3.7'"
      ]
     },
     "execution_count": 28,
     "metadata": {},
     "output_type": "execute_result"
    }
   ],
   "source": [
    "import urllib.request\n",
    "urllib.request.__version__"
   ]
  },
  {
   "cell_type": "code",
   "execution_count": 29,
   "id": "b23e3c05-5f64-49a7-b211-0485a95bf322",
   "metadata": {},
   "outputs": [],
   "source": [
    "import time\n",
    "wd.get('https://www.instagram.com')\n",
    "time.sleep(3) # 실행할 시간을 기다려줄 때는 sleep()을 설정해주세요!"
   ]
  },
  {
   "cell_type": "code",
   "execution_count": null,
   "id": "2f3449e5-094a-4091-bdb3-8ee704e392fd",
   "metadata": {},
   "outputs": [],
   "source": []
  },
  {
   "cell_type": "code",
   "execution_count": null,
   "id": "21fb4b0f-5f82-4d7c-a588-86fa5a636f29",
   "metadata": {},
   "outputs": [],
   "source": []
  }
 ],
 "metadata": {
  "kernelspec": {
   "display_name": "Python 3 (ipykernel)",
   "language": "python",
   "name": "python3"
  },
  "language_info": {
   "codemirror_mode": {
    "name": "ipython",
    "version": 3
   },
   "file_extension": ".py",
   "mimetype": "text/x-python",
   "name": "python",
   "nbconvert_exporter": "python",
   "pygments_lexer": "ipython3",
   "version": "3.7.11"
  }
 },
 "nbformat": 4,
 "nbformat_minor": 5
}
