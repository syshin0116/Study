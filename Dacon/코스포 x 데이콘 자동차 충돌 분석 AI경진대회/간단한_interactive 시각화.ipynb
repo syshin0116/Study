{
 "cells": [
  {
   "cell_type": "code",
   "execution_count": 1,
   "metadata": {},
   "outputs": [],
   "source": [
    "import pandas as pd \n",
    "import numpy as np\n",
    "import cv2 \n",
    "\n",
    "from ipywidgets import interact\n",
    "from matplotlib import pyplot as plt"
   ]
  },
  {
   "cell_type": "code",
   "execution_count": 2,
   "metadata": {},
   "outputs": [],
   "source": [
    "train = pd.read_csv(\"train.csv\")\n",
    "# 0: None, 1: Normal, 2: Snowy, 3: Rainy\n",
    "train[\"weather\"] = np.where(train[\"label\"].isin([1,2,7,8]), 1, 0) + \\\n",
    "                   np.where(train[\"label\"].isin([3,4,9,10]), 2, 0) + \\\n",
    "                   np.where(train[\"label\"].isin([5,6,11,12]), 3, 0)"
   ]
  },
  {
   "cell_type": "code",
   "execution_count": 3,
   "metadata": {},
   "outputs": [
    {
     "data": {
      "application/vnd.jupyter.widget-view+json": {
       "model_id": "228fcea19cf54e53950ee0db9d1c7001",
       "version_major": 2,
       "version_minor": 0
      },
      "text/plain": [
       "interactive(children=(IntSlider(value=0, description='frame', max=49), Dropdown(description='path', options=('…"
      ]
     },
     "metadata": {},
     "output_type": "display_data"
    }
   ],
   "source": [
    "def get_frames(path):\n",
    "    cap = cv2.VideoCapture(path)\n",
    "    frames = int(cap.get(cv2.CAP_PROP_FRAME_COUNT))\n",
    "    imgs = []        \n",
    "    for fidx in range(frames):\n",
    "        _, img = cap.read()            \n",
    "        img = cv2.cvtColor(img, cv2.COLOR_BGR2RGB)\n",
    "        imgs.append(img)\n",
    "    \n",
    "    return np.array(imgs)\n",
    "\n",
    "path = train.loc[train[\"weather\"]==3, \"video_path\"].values\n",
    "\n",
    "@interact(frame=(0, 50-1), path=path)\n",
    "def show_frame(frame=0, path=None):\n",
    "    frames = np.zeros((1, 20, 20, 3))\n",
    "    if path:\n",
    "        frames = get_frames(path)\n",
    "    plt.imshow(frames[frame,:,:,:])"
   ]
  },
  {
   "cell_type": "code",
   "execution_count": null,
   "metadata": {},
   "outputs": [],
   "source": []
  }
 ],
 "metadata": {
  "kernelspec": {
   "display_name": "base",
   "language": "python",
   "name": "python3"
  },
  "language_info": {
   "codemirror_mode": {
    "name": "ipython",
    "version": 3
   },
   "file_extension": ".py",
   "mimetype": "text/x-python",
   "name": "python",
   "nbconvert_exporter": "python",
   "pygments_lexer": "ipython3",
   "version": "3.8.16"
  },
  "orig_nbformat": 4,
  "vscode": {
   "interpreter": {
    "hash": "6c7a21014fc0903b333c528e26b532495acabffc408f92f7990944da68b6f70a"
   }
  }
 },
 "nbformat": 4,
 "nbformat_minor": 2
}
