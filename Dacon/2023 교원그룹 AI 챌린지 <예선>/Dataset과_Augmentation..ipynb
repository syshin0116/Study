{
 "cells": [
  {
   "cell_type": "code",
   "execution_count": null,
   "metadata": {},
   "outputs": [],
   "source": [
    "!pip install datasets\n",
    "!pip install straug"
   ]
  },
  {
   "cell_type": "code",
   "execution_count": 2,
   "metadata": {},
   "outputs": [],
   "source": [
    "import pandas as pd\n",
    "import os\n",
    "from datasets import Dataset, Image\n",
    "import random\n",
    "from straug.geometry import Rotate\n"
   ]
  },
  {
   "cell_type": "code",
   "execution_count": 3,
   "metadata": {},
   "outputs": [],
   "source": [
    "def get_dataset(csv_path: os.PathLike) -> Dataset:\n",
    "    df = pd.read_csv(csv_path)\n",
    "\n",
    "    data_dict = {'img': df['img_path']}\n",
    "\n",
    "    if 'label' in df.columns:\n",
    "        data_dict['label'] = df['label']\n",
    "\n",
    "    dataset = Dataset.from_dict(data_dict)\n",
    "    dataset = dataset.cast_column('img', Image())\n",
    "    return dataset"
   ]
  },
  {
   "cell_type": "code",
   "execution_count": 4,
   "metadata": {},
   "outputs": [],
   "source": [
    "def rotate(raw):\n",
    "    aug_prob = 1 # 원하는 확률 선택\n",
    "    if random.random() < aug_prob:\n",
    "        raw['img'] = [\n",
    "            Rotate()(image.convert(\"RGB\")) for image in raw['img']\n",
    "        ]\n",
    "    return raw"
   ]
  },
  {
   "cell_type": "code",
   "execution_count": 5,
   "metadata": {},
   "outputs": [],
   "source": [
    "train_dataset = get_dataset('data/preprocess/train.csv')\n",
    "train_dataset.set_transform(rotate)"
   ]
  },
  {
   "cell_type": "code",
   "execution_count": 6,
   "metadata": {},
   "outputs": [
    {
     "data": {
      "image/png": "[encoded data removed]",
      "text/plain": [
       "<PIL.Image.Image image mode=RGB size=87x64>"
      ]
     },
     "execution_count": 6,
     "metadata": {},
     "output_type": "execute_result"
    }
   ],
   "source": [
    "train_dataset[2]['img']"
   ]
  },
  {
   "cell_type": "code",
   "execution_count": 7,
   "metadata": {},
   "outputs": [
    {
     "data": {
      "image/png": "[encoded data removed]",
      "text/plain": [
       "<PIL.Image.Image image mode=RGB size=87x64>"
      ]
     },
     "execution_count": 7,
     "metadata": {},
     "output_type": "execute_result"
    }
   ],
   "source": [
    "train_dataset[2]['img']"
   ]
  }
 ],
 "metadata": {
  "kernelspec": {
   "display_name": ".kywon_ocr",
   "language": "python",
   "name": "python3"
  },
  "language_info": {
   "codemirror_mode": {
    "name": "ipython",
    "version": 3
   },
   "file_extension": ".py",
   "mimetype": "text/x-python",
   "name": "python",
   "nbconvert_exporter": "python",
   "pygments_lexer": "ipython3",
   "version": "3.8.13"
  },
  "orig_nbformat": 4,
  "vscode": {
   "interpreter": {
    "hash": "4d34a2186a9d77c0ffe44c24939bb3b76e01ce8d42987841dc1d045bbd92e2ec"
   }
  }
 },
 "nbformat": 4,
 "nbformat_minor": 2
}
