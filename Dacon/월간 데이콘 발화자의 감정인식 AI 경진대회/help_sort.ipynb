{
 "cells": [
  {
   "cell_type": "code",
   "execution_count": 38,
   "id": "96fda415-7b81-48ff-a949-b3294642e066",
   "metadata": {},
   "outputs": [
    {
     "name": "stdout",
     "output_type": "stream",
     "text": [
      "학번 \t\t 이름\t 점수\t\n",
      "20221237\t유혜진\t100\n",
      "20221238\t김유정\t95\n",
      "20221234\t홍길동\t90\n",
      "20221236\t유아인\t90\n",
      "20221235\t송중기\t80\n",
      "===============================\n",
      "전체 점수 총점 = 455\n",
      "전체 점수 평균 = 91.00\n"
     ]
    }
   ],
   "source": [
    "numList=[\n",
    "    [\"20221234\",\"홍길동\",90],\n",
    "    [\"20221235\",\"송중기\",80],\n",
    "    [\"20221236\",\"유아인\",90],\n",
    "    [\"20221237\",\"유혜진\",100],\n",
    "    [\"20221238\",\"김유정\",95]\n",
    "]\n",
    "numList = sorted(numList, key = lambda x: x[2], reverse=True)\n",
    "total = 0\n",
    "for i in numList:\n",
    "    total+=i[2]\n",
    "average = total/len(numList)\n",
    "print(\"학번 \\t\\t 이름\\t 점수\\t\")\n",
    "for i in numList:\n",
    "    print(*i, sep=\"\\t\")\n",
    "print(\"===============================\")\n",
    "print(\"전체 점수 총점 =\", total)\n",
    "print(\"전체 점수 평균 =\", format(average, \".2f\"))"
   ]
  },
  {
   "cell_type": "code",
   "execution_count": 18,
   "id": "e531b2a3-6d9c-4d54-8e06-5dbff8bdcfa6",
   "metadata": {},
   "outputs": [],
   "source": [
    "numList = sorted(numList, key = lambda x: x[2], reverse=True)"
   ]
  },
  {
   "cell_type": "code",
   "execution_count": 19,
   "id": "d29cc396-9bf0-4bb7-b80f-51d329033ec0",
   "metadata": {},
   "outputs": [
    {
     "name": "stdout",
     "output_type": "stream",
     "text": [
      "[['20221237', '유혜진', 100], ['20221238', '김유정', 95], ['20221234', '홍길동', 90], ['20221236', '유아인', 90], ['20221235', '송중기', 80]]\n"
     ]
    }
   ],
   "source": [
    "print(numList)"
   ]
  },
  {
   "cell_type": "code",
   "execution_count": 21,
   "id": "f5e5b004-de95-4f1f-8b16-459d5e232eab",
   "metadata": {},
   "outputs": [
    {
     "data": {
      "text/plain": [
       "91.0"
      ]
     },
     "execution_count": 21,
     "metadata": {},
     "output_type": "execute_result"
    }
   ],
   "source": [
    "total = 0\n",
    "for i in numList:\n",
    "    total+=i[2]\n",
    "average = total/5\n",
    "average"
   ]
  },
  {
   "cell_type": "code",
   "execution_count": 36,
   "id": "048c0cb0-2920-4cc3-890e-571e3db4e95c",
   "metadata": {},
   "outputs": [
    {
     "name": "stdout",
     "output_type": "stream",
     "text": [
      "학번 \t\t 이름\t 점수\t\n",
      "20221237\t유혜진\t100\n",
      "20221238\t김유정\t95\n",
      "20221234\t홍길동\t90\n",
      "20221236\t유아인\t90\n",
      "20221235\t송중기\t80\n",
      "===============================\n",
      "전체 점수 총점 = 455\n",
      "전체 점수 평균 = 91.00\n"
     ]
    }
   ],
   "source": [
    "print(\"학번 \\t\\t 이름\\t 점수\\t\")\n",
    "for i in numList:\n",
    "    print(*i, sep=\"\\t\")\n",
    "print(\"===============================\")\n",
    "print(\"전체 점수 총점 =\", total)\n",
    "print(\"전체 점수 평균 =\", format(average, \".2f\"))"
   ]
  },
  {
   "cell_type": "code",
   "execution_count": null,
   "id": "6456cac3-25ab-4025-b370-d3f3c39fbc4e",
   "metadata": {},
   "outputs": [],
   "source": []
  }
 ],
 "metadata": {
  "kernelspec": {
   "display_name": "Python 3 (ipykernel)",
   "language": "python",
   "name": "python3"
  },
  "language_info": {
   "codemirror_mode": {
    "name": "ipython",
    "version": 3
   },
   "file_extension": ".py",
   "mimetype": "text/x-python",
   "name": "python",
   "nbconvert_exporter": "python",
   "pygments_lexer": "ipython3",
   "version": "3.9.10"
  }
 },
 "nbformat": 4,
 "nbformat_minor": 5
}
