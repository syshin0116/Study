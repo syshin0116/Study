{
 "cells": [
  {
   "cell_type": "code",
   "execution_count": 6,
   "id": "e5d7d2e8-5a7d-4438-9466-da0a1f22f361",
   "metadata": {},
   "outputs": [
    {
     "name": "stdin",
     "output_type": "stream",
     "text": [
      "오늘의 운세를 보고 싶습니까? (네/아니오) 아니오\n"
     ]
    }
   ],
   "source": [
    "import random\n",
    "\n",
    "fortune = [\n",
    "\"문제의 정답은 당신 마음속에 있습니다.\",\n",
    "\"다가오는 기회가 좋은 결과를 가져오겠습니다.\",\n",
    "\"때로는 약간의 고집이 필요합니다.\",\n",
    "\"힘들 땐 잠시 멈춰 스스로를 어루만져 주세요.\",\n",
    "\"뛸 때보다 걸어갈 때 더 많은 것들이 보입니다.\",\n",
    "\"지루한 일상에는 여행이나 새로운 경험이 도움이 됩니다.\",\n",
    "\"꿈은 크게 꾸고 작은 것부터 시작하세요.\",\n",
    "\"지나간 일에 얽매이지 마세요. 앞으로 나아갈 때입니다.\",\n",
    "\"가까운 사람일수록 예의가 필요합니다.\",\n",
    "\"당분간 지켜보는 것이 좋습니다. 타이밍이 중요합니다.\"\n",
    "]\n",
    "\n",
    "answe\n",
    "if input(\"오늘의 운세를 보고 싶습니까? (네/아니오)\")==\"네\":\n",
    "    fortuneoftoday = random.choice(fortune)\n",
    "    print(fortuneoftoday)\n",
    "else: \n",
    "    print(\"좋은 하루 보내세요!\")"
   ]
  },
  {
   "cell_type": "code",
   "execution_count": null,
   "id": "de29b0d1-4ae4-4c28-a303-8089641bca45",
   "metadata": {},
   "outputs": [],
   "source": []
  }
 ],
 "metadata": {
  "kernelspec": {
   "display_name": "Python 3 (ipykernel)",
   "language": "python",
   "name": "python3"
  },
  "language_info": {
   "codemirror_mode": {
    "name": "ipython",
    "version": 3
   },
   "file_extension": ".py",
   "mimetype": "text/x-python",
   "name": "python",
   "nbconvert_exporter": "python",
   "pygments_lexer": "ipython3",
   "version": "3.9.10"
  }
 },
 "nbformat": 4,
 "nbformat_minor": 5
}
