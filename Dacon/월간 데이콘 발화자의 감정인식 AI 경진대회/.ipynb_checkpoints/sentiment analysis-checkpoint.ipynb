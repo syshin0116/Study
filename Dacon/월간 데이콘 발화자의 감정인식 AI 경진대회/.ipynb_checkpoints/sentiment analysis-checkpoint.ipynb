{
 "cells": [
  {
   "cell_type": "markdown",
   "id": "5d437fc6-d3a7-44ab-8157-6b39be25dfda",
   "metadata": {},
   "source": [
    "# Imports\n"
   ]
  },
  {
   "cell_type": "code",
   "execution_count": 1,
   "id": "3a20d9d8-a08e-4ce1-88cf-3231b474cbda",
   "metadata": {},
   "outputs": [],
   "source": [
    "import pandas as pd\n",
    "import numpy as np\n",
    "from sklearn.metrics import f1_score\n",
    "from sklearn.preprocessing import LabelEncoder\n",
    "import random\n",
    "import os\n",
    "import torch\n",
    "\n",
    "from torch import nn\n",
    "import torch.nn.functional as F\n",
    "from torch.utils.data import DataLoader, Dataset\n",
    "from torch.optim import Adam\n",
    "\n",
    "from tqdm.notebook import tqdm\n",
    "from transformers import BertTokenizer\n",
    "from transformers import BertModel\n",
    "\n",
    "import matplotlib as mpl\n",
    "import matplotlib.pyplot as plt\n",
    "\n",
    "import warnings\n",
    "warnings.filterwarnings(action='ignore')"
   ]
  },
  {
   "cell_type": "markdown",
   "id": "83b07caa-5774-480c-945b-8a8d68e67454",
   "metadata": {},
   "source": [
    "# Data Load"
   ]
  },
  {
   "cell_type": "code",
   "execution_count": null,
   "id": "292339d8-1519-4b1b-88ce-3a80fc2859a1",
   "metadata": {},
   "outputs": [],
   "source": [
    "train = pd.read_csv('./data/train.csv')"
   ]
  },
  {
   "cell_type": "markdown",
   "id": "e38198a0-97ef-4303-941c-9012f46a2676",
   "metadata": {},
   "source": [
    "## gpu acceleration for m1 mac"
   ]
  },
  {
   "cell_type": "code",
   "execution_count": 2,
   "id": "da51aa9e-0ef4-4514-ba2b-65112ca7d0f6",
   "metadata": {},
   "outputs": [
    {
     "name": "stdout",
     "output_type": "stream",
     "text": [
      "1.14.0.dev20221116\n",
      "True\n",
      "True\n"
     ]
    }
   ],
   "source": [
    "print(torch.__version__) # 설치된 PyTorch 버전을 확인합니다. 1.12 이상이어야 합니다.\n",
    "print(torch.backends.mps.is_built()) # MPS 장치를 지원하도록 빌드되어있는지 확인합니다. True여야 합니다.\n",
    "print(torch.backends.mps.is_available()) # MPS 장치가 사용 가능한지 확인합니다. True여야 합니다."
   ]
  },
  {
   "cell_type": "code",
   "execution_count": null,
   "id": "78f4ee70-ebe6-45e7-808f-5b6e9f821a84",
   "metadata": {},
   "outputs": [],
   "source": [
    "mps_device = torch.device(\"mps\")\n",
    "\n",
    "# MPS 장치에 바로 tensor를 생성합니다.\n",
    "x = torch.ones(5, device=mps_device)\n",
    "# 또는\n",
    "x = torch.ones(5, device=\"mps\")\n",
    "\n",
    "# GPU 상에서 연산을 진행합니다.\n",
    "y = x * 2\n",
    "\n",
    "# 또는, 다른 장치와 마찬가지로 MPS로 이동할 수도 있습니다.\n",
    "model = BaseModel()  # 어떤 모델의 객체를 생성한 뒤,\n",
    "model.to(mps_device)       # MPS 장치로 이동합니다.\n",
    "\n",
    "# 이제 모델과 텐서를 호출하면 GPU에서 연산이 이뤄집니다.\n",
    "pred = model(x)"
   ]
  },
  {
   "cell_type": "code",
   "execution_count": null,
   "id": "a93cedc6-ff70-4e3b-b14f-8facad312fd9",
   "metadata": {
    "tags": []
   },
   "outputs": [],
   "source": []
  },
  {
   "cell_type": "code",
   "execution_count": 1,
   "id": "39a78f86-c322-4602-97e3-3b30f4c28684",
   "metadata": {
    "colab": {
     "base_uri": "https://localhost:8080/",
     "height": 105,
     "referenced_widgets": [
      "cf140dc9e8044c8e993fb769959520e5",
      "e938f561a812421083b7a1eba1599fce",
      "05179043dbe24677b5ec3aeaef5f8fa9",
      "9c882ad60773453a94ccb094ae13beb8",
      "d4aa839b290643d1a412d6c42cbe158d",
      "7c771e83abb24330bd57da5ed7d94441",
      "7521a97b1dd445b1a1fed18d8fc88d48",
      "5eecf792df02465da430c84e7125d815",
      "ea4c661e83a948be91d070119674ec2c",
      "40eab5638d52461db4ec3fd4e61bf426",
      "24f33ec8675a4dce9812324cfbbaeb13"
     ]
    },
    "executionInfo": {
     "elapsed": 1398,
     "status": "ok",
     "timestamp": 1666663442721,
     "user": {
      "displayName": "taeyang yun",
      "userId": "17381744774131980403"
     },
     "user_tz": -540
    },
    "id": "fzvQU3lAdnm_",
    "outputId": "8f6d9f3f-c0b6-4a3c-dff3-da4945f38c64"
   },
   "outputs": [],
   "source": [
    "import pandas as pd\n",
    "import numpy as np\n",
    "from sklearn.metrics import f1_score\n",
    "from sklearn.preprocessing import LabelEncoder\n",
    "import random\n",
    "import os\n",
    "\n",
    "import torch\n",
    "from torch import nn\n",
    "import torch.nn.functional as F\n",
    "from torch.utils.data import DataLoader, Dataset\n",
    "from tqdm.notebook import tqdm\n",
    "from transformers import BertTokenizer\n",
    "from transformers import BertModel\n",
    "from torch.optim import Adam\n",
    "\n",
    "import matplotlib as mpl\n",
    "import matplotlib.pyplot as plt\n",
    "\n",
    "import warnings\n",
    "warnings.filterwarnings(action='ignore')"
   ]
  },
  {
   "cell_type": "code",
   "execution_count": 2,
   "id": "e28c7e03-f055-4980-b5f1-b9260b839bc7",
   "metadata": {
    "id": "SO7GM91VQzgA"
   },
   "outputs": [],
   "source": [
    "device = torch.device('cuda') if torch.cuda.is_available() else torch.device('cpu')"
   ]
  },
  {
   "cell_type": "markdown",
   "id": "428f3a33-6329-48e9-ab36-93a7ac1e84cb",
   "metadata": {
    "id": "hiZ6FYECQ93c"
   },
   "source": [
    "## Hyperparameter Setting"
   ]
  },
  {
   "cell_type": "code",
   "execution_count": 3,
   "id": "cb8e34ce-2769-4343-9ea5-e069ffbe2a61",
   "metadata": {
    "executionInfo": {
     "elapsed": 14,
     "status": "ok",
     "timestamp": 1666663442723,
     "user": {
      "displayName": "taeyang yun",
      "userId": "17381744774131980403"
     },
     "user_tz": -540
    },
    "id": "05nBnq4EfSs7",
    "tags": []
   },
   "outputs": [],
   "source": [
    "CFG = {\n",
    "    'EPOCHS': 3,\n",
    "    'LEARNING_RATE':1e-5,\n",
    "    'BATCH_SIZE':8,\n",
    "    'SEED':41\n",
    "}"
   ]
  },
  {
   "cell_type": "markdown",
   "id": "fa8d6e19-eb74-4749-a3a1-5d9d627fc3f9",
   "metadata": {
    "id": "GPubv2UZRRpv"
   },
   "source": [
    "## Fixed RandomSeed"
   ]
  },
  {
   "cell_type": "code",
   "execution_count": 4,
   "id": "c827f818-e418-45e0-a33c-acf8f203cdd6",
   "metadata": {
    "id": "9uNDC9vlRX22"
   },
   "outputs": [],
   "source": [
    "def seed_everything(seed):\n",
    "    random.seed(seed)\n",
    "    os.environ['PYTHONHASHSEED'] = str(seed)\n",
    "    np.random.seed(seed)\n",
    "    torch.manual_seed(seed)\n",
    "    torch.cuda.manual_seed(seed)\n",
    "    torch.backends.cudnn.deterministic = True\n",
    "    torch.backends.cudnn.benchmark = True\n",
    "\n",
    "seed_everything(CFG['SEED']) # Seed 고정"
   ]
  },
  {
   "cell_type": "markdown",
   "id": "6107031a-e137-46e1-bf51-7c33aa4584b0",
   "metadata": {
    "id": "4mtvfLD_RfHs"
   },
   "source": [
    "## Data Load"
   ]
  },
  {
   "cell_type": "code",
   "execution_count": 5,
   "id": "dec8cc56-32bf-4504-8c79-a543ee30d35e",
   "metadata": {
    "id": "agclDVmXQ1IV"
   },
   "outputs": [],
   "source": [
    "train = pd.read_csv('./data/train.csv')"
   ]
  },
  {
   "cell_type": "markdown",
   "id": "6c5a5e54-34d9-4864-a8e5-ba85d4cbee84",
   "metadata": {},
   "source": [
    "## Label encoding"
   ]
  },
  {
   "cell_type": "code",
   "execution_count": 6,
   "id": "fa80efd1-3bdc-4609-b8c7-e2b8958425fd",
   "metadata": {},
   "outputs": [],
   "source": [
    "le = LabelEncoder()\n",
    "le=le.fit(train['Target'])\n",
    "train['Target']=le.transform(train['Target'])"
   ]
  },
  {
   "cell_type": "markdown",
   "id": "f92e45ee-0ca7-497c-9b2f-163d6062ca9b",
   "metadata": {
    "id": "erqF3l3LSFx7"
   },
   "source": [
    "## Train/Validation split"
   ]
  },
  {
   "cell_type": "code",
   "execution_count": 7,
   "id": "73d0c12b-bd56-4933-8a7e-143a0a80d00f",
   "metadata": {
    "id": "2PcTjaXGRrdG"
   },
   "outputs": [
    {
     "name": "stdout",
     "output_type": "stream",
     "text": [
      "9725\n",
      "264\n"
     ]
    }
   ],
   "source": [
    "valid=train[train['Dialogue_ID'].isin([i for i in range(1016,1039)])].reset_index(drop=True)\n",
    "train=train[~train['Dialogue_ID'].isin([i for i in range(1016,1039)])].reset_index(drop=True)\n",
    "\n",
    "train_len=len(train)\n",
    "val_len=len(valid)\n",
    "\n",
    "print(train_len)\n",
    "print(val_len)"
   ]
  },
  {
   "cell_type": "markdown",
   "id": "8ef7c9a7-8e06-4247-93df-30dcf44e45e7",
   "metadata": {
    "id": "U3W96rVUTaaq"
   },
   "source": [
    "## Tokenizer Define"
   ]
  },
  {
   "cell_type": "code",
   "execution_count": 8,
   "id": "5a10269f-1607-4f7e-9fd4-61369fa646b5",
   "metadata": {},
   "outputs": [
    {
     "data": {
      "application/vnd.jupyter.widget-view+json": {
       "model_id": "46e7bdda7a2a42c1a20f557a624a0540",
       "version_major": 2,
       "version_minor": 0
      },
      "text/plain": [
       "Downloading:   0%|          | 0.00/213k [00:00<?, ?B/s]"
      ]
     },
     "metadata": {},
     "output_type": "display_data"
    },
    {
     "data": {
      "application/vnd.jupyter.widget-view+json": {
       "model_id": "59bb59e38f5f47a2bac17650d36fac11",
       "version_major": 2,
       "version_minor": 0
      },
      "text/plain": [
       "Downloading:   0%|          | 0.00/29.0 [00:00<?, ?B/s]"
      ]
     },
     "metadata": {},
     "output_type": "display_data"
    },
    {
     "data": {
      "application/vnd.jupyter.widget-view+json": {
       "model_id": "e204c0aa03854a34a895c2532424b1f5",
       "version_major": 2,
       "version_minor": 0
      },
      "text/plain": [
       "Downloading:   0%|          | 0.00/570 [00:00<?, ?B/s]"
      ]
     },
     "metadata": {},
     "output_type": "display_data"
    }
   ],
   "source": [
    "tokenizers = BertTokenizer.from_pretrained('bert-base-cased')"
   ]
  },
  {
   "cell_type": "markdown",
   "id": "5e87d204-be04-462c-a6e9-baf96d265e29",
   "metadata": {
    "id": "fixY8ozVT60m"
   },
   "source": [
    "## CustomDataset"
   ]
  },
  {
   "cell_type": "code",
   "execution_count": 9,
   "id": "00dd3b3b-cf7a-46c1-9472-01a27e53b38e",
   "metadata": {
    "executionInfo": {
     "elapsed": 17,
     "status": "ok",
     "timestamp": 1666663443488,
     "user": {
      "displayName": "taeyang yun",
      "userId": "17381744774131980403"
     },
     "user_tz": -540
    },
    "id": "oNfNtFJlmScu"
   },
   "outputs": [],
   "source": [
    "class CustomDataset(Dataset):\n",
    "  \n",
    "    def __init__(self, data, mode = \"train\"):\n",
    "        self.dataset = data\n",
    "        self.tokenizer = tokenizers\n",
    "        self.mode = mode\n",
    "    def __len__(self):\n",
    "        return len(self.dataset)\n",
    "  \n",
    "    def __getitem__(self, idx):\n",
    "        text = self.dataset['Utterance'][idx]\n",
    "        inputs = self.tokenizer(text, padding='max_length', max_length = 512, truncation=True, return_tensors=\"pt\")\n",
    "        input_ids = inputs['input_ids'][0]\n",
    "        token_type_ids = inputs['token_type_ids'][0]\n",
    "        attention_mask = inputs['attention_mask'][0]\n",
    "    \n",
    "        if self.mode == \"train\":\n",
    "            y = self.dataset['Target'][idx]\n",
    "            return input_ids, token_type_ids, attention_mask, y\n",
    "        else:\n",
    "            return input_ids, token_type_ids, attention_mask"
   ]
  },
  {
   "cell_type": "code",
   "execution_count": 10,
   "id": "703dddb6-2f4b-41a6-b3ed-ddf78c184209",
   "metadata": {
    "executionInfo": {
     "elapsed": 16,
     "status": "ok",
     "timestamp": 1666663443490,
     "user": {
      "displayName": "taeyang yun",
      "userId": "17381744774131980403"
     },
     "user_tz": -540
    },
    "id": "26ZtQWpJqGxb"
   },
   "outputs": [],
   "source": [
    "train = CustomDataset(train, mode = \"train\")\n",
    "valid = CustomDataset(valid, mode = \"train\")\n",
    "\n",
    "train_dataloader = torch.utils.data.DataLoader(train, batch_size= CFG['BATCH_SIZE'], shuffle=True)\n",
    "val_dataloader = torch.utils.data.DataLoader(valid, batch_size= CFG['BATCH_SIZE'], shuffle=False)"
   ]
  },
  {
   "cell_type": "markdown",
   "id": "40915f48-ea1d-4015-b836-9c5f3693999e",
   "metadata": {
    "id": "zZeXapo-Ugye"
   },
   "source": [
    "## Model Define"
   ]
  },
  {
   "cell_type": "code",
   "execution_count": 11,
   "id": "4b3ad0b7-ddcd-47f4-8b3d-1f56ec49239a",
   "metadata": {
    "executionInfo": {
     "elapsed": 16,
     "status": "ok",
     "timestamp": 1666663443489,
     "user": {
      "displayName": "taeyang yun",
      "userId": "17381744774131980403"
     },
     "user_tz": -540
    },
    "id": "GxgcbzKaoSc7"
   },
   "outputs": [],
   "source": [
    "class BaseModel(nn.Module):\n",
    "\n",
    "    def __init__(self, dropout=0.5, num_classes=len(le.classes_)):\n",
    "\n",
    "        super(BaseModel, self).__init__()\n",
    "\n",
    "        self.bert = BertModel.from_pretrained('bert-base-cased')\n",
    "        self.dropout = nn.Dropout(dropout)\n",
    "        self.linear = nn.Linear(768, num_classes)\n",
    "        self.relu = nn.ReLU()\n",
    "\n",
    "    def forward(self, input_id, mask):\n",
    "\n",
    "        _, pooled_output = self.bert(input_ids= input_id, attention_mask=mask,return_dict=False)\n",
    "        dropout_output = self.dropout(pooled_output)\n",
    "        linear_output = self.linear(dropout_output)\n",
    "        final_layer = self.relu(linear_output)\n",
    "\n",
    "        return final_layer"
   ]
  },
  {
   "cell_type": "markdown",
   "id": "e00bd183-bc92-4909-ab94-f7c65e4d3902",
   "metadata": {
    "id": "WEM3ikH6U4gt"
   },
   "source": [
    "## Train"
   ]
  },
  {
   "cell_type": "code",
   "execution_count": 12,
   "id": "d4c21018-c2a4-434a-8ce5-afda4685ff2c",
   "metadata": {
    "id": "fLmC6DvAU6HG"
   },
   "outputs": [],
   "source": [
    "def train(model, optimizer, train_loader, test_loader, device):\n",
    "\n",
    "    model.to(device)\n",
    "\n",
    "    criterion = nn.CrossEntropyLoss().to(device)\n",
    "\n",
    "    best_score = 0\n",
    "    best_model = \"None\"\n",
    "    for epoch_num in range(CFG[\"EPOCHS\"]):\n",
    "\n",
    "        model.train()\n",
    "        train_loss = []\n",
    "        for input_ids, token_type_ids, attention_mask, train_label in tqdm(train_loader):\n",
    "            optimizer.zero_grad()\n",
    "\n",
    "            train_label = train_label.to(device)\n",
    "            input_id = input_ids.to(device)\n",
    "            mask = attention_mask.to(device)\n",
    "\n",
    "            output = model(input_id, mask)     \n",
    "    \n",
    "            batch_loss = criterion(output, train_label.long()) \n",
    "            train_loss.append(batch_loss.item())\n",
    "            \n",
    "            batch_loss.backward()\n",
    "            optimizer.step()\n",
    "\n",
    "        val_loss, val_score = validation(model, criterion, test_loader, device)\n",
    "        print(f'Epoch [{epoch_num}], Train Loss : [{np.mean(train_loss) :.5f}] Val Loss : [{np.mean(val_loss) :.5f}] Val F1 Score : [{val_score:.5f}]')\n",
    "\n",
    "        if best_score < val_score:\n",
    "            best_model = model\n",
    "            best_score = val_score\n",
    "        \n",
    "    return best_model                         "
   ]
  },
  {
   "cell_type": "code",
   "execution_count": 13,
   "id": "6689e11f-4dd9-47a0-aed8-149f26d67661",
   "metadata": {
    "id": "r2WA2WfWW1eC"
   },
   "outputs": [],
   "source": [
    "def competition_metric(true, pred):\n",
    "    return f1_score(true, pred, average=\"macro\")\n",
    "\n",
    "def validation(model, criterion, test_loader, device):\n",
    "    model.eval()\n",
    "\n",
    "    val_loss = []\n",
    "    model_preds = []\n",
    "    true_labels = []  \n",
    "    with torch.no_grad():\n",
    "        for input_ids, token_type_ids, attention_mask, valid_label in tqdm(test_loader):\n",
    "            valid_label = valid_label.to(device)\n",
    "            input_id = input_ids.to(device)\n",
    "            mask = attention_mask.to(device)\n",
    "\n",
    "            output = model(input_id, mask)\n",
    "    \n",
    "            batch_loss = criterion(output, valid_label.long()) \n",
    "            val_loss.append(batch_loss.item())      \n",
    "            \n",
    "            model_preds += output.argmax(1).detach().cpu().numpy().tolist()\n",
    "            true_labels += valid_label.detach().cpu().numpy().tolist()\n",
    "        val_f1 = competition_metric(true_labels, model_preds)\n",
    "    return val_loss, val_f1    "
   ]
  },
  {
   "cell_type": "markdown",
   "id": "c4772f30-cc81-4104-aa7c-d514f912240a",
   "metadata": {
    "id": "kXDUw6peYSJe"
   },
   "source": [
    "## Run!!"
   ]
  },
  {
   "cell_type": "code",
   "execution_count": 14,
   "id": "14695575-a825-4512-832e-762134a73e63",
   "metadata": {
    "id": "KOUGrLZLYTW9"
   },
   "outputs": [
    {
     "data": {
      "application/vnd.jupyter.widget-view+json": {
       "model_id": "bc261e02af4a4ecab5a36be7a9d0a18d",
       "version_major": 2,
       "version_minor": 0
      },
      "text/plain": [
       "Downloading:   0%|          | 0.00/436M [00:00<?, ?B/s]"
      ]
     },
     "metadata": {},
     "output_type": "display_data"
    },
    {
     "name": "stderr",
     "output_type": "stream",
     "text": [
      "Some weights of the model checkpoint at bert-base-cased were not used when initializing BertModel: ['cls.predictions.bias', 'cls.predictions.decoder.weight', 'cls.predictions.transform.dense.weight', 'cls.seq_relationship.bias', 'cls.predictions.transform.LayerNorm.bias', 'cls.predictions.transform.dense.bias', 'cls.seq_relationship.weight', 'cls.predictions.transform.LayerNorm.weight']\n",
      "- This IS expected if you are initializing BertModel from the checkpoint of a model trained on another task or with another architecture (e.g. initializing a BertForSequenceClassification model from a BertForPreTraining model).\n",
      "- This IS NOT expected if you are initializing BertModel from the checkpoint of a model that you expect to be exactly identical (initializing a BertForSequenceClassification model from a BertForSequenceClassification model).\n"
     ]
    },
    {
     "data": {
      "application/vnd.jupyter.widget-view+json": {
       "model_id": "e6da0175261447eaaf824159b2821910",
       "version_major": 2,
       "version_minor": 0
      },
      "text/plain": [
       "  0%|          | 0/1216 [00:00<?, ?it/s]"
      ]
     },
     "metadata": {},
     "output_type": "display_data"
    },
    {
     "data": {
      "application/vnd.jupyter.widget-view+json": {
       "model_id": "c020a92ba4ba4135a6525b7147da2a15",
       "version_major": 2,
       "version_minor": 0
      },
      "text/plain": [
       "  0%|          | 0/33 [00:00<?, ?it/s]"
      ]
     },
     "metadata": {},
     "output_type": "display_data"
    },
    {
     "name": "stdout",
     "output_type": "stream",
     "text": [
      "Epoch [0], Train Loss : [1.36578] Val Loss : [1.17023] Val F1 Score : [0.39285]\n"
     ]
    },
    {
     "data": {
      "application/vnd.jupyter.widget-view+json": {
       "model_id": "5aa3f90e426e4bcc9d0b10a767bc585d",
       "version_major": 2,
       "version_minor": 0
      },
      "text/plain": [
       "  0%|          | 0/1216 [00:00<?, ?it/s]"
      ]
     },
     "metadata": {},
     "output_type": "display_data"
    },
    {
     "data": {
      "application/vnd.jupyter.widget-view+json": {
       "model_id": "14d6883525f2487b94b5824f449322be",
       "version_major": 2,
       "version_minor": 0
      },
      "text/plain": [
       "  0%|          | 0/33 [00:00<?, ?it/s]"
      ]
     },
     "metadata": {},
     "output_type": "display_data"
    },
    {
     "name": "stdout",
     "output_type": "stream",
     "text": [
      "Epoch [1], Train Loss : [1.06560] Val Loss : [1.14891] Val F1 Score : [0.38122]\n"
     ]
    },
    {
     "data": {
      "application/vnd.jupyter.widget-view+json": {
       "model_id": "998fd364ad1d40a585dfe092cd6c1145",
       "version_major": 2,
       "version_minor": 0
      },
      "text/plain": [
       "  0%|          | 0/1216 [00:00<?, ?it/s]"
      ]
     },
     "metadata": {},
     "output_type": "display_data"
    },
    {
     "data": {
      "application/vnd.jupyter.widget-view+json": {
       "model_id": "7edd880a369a4238aeee36a40d5ee4c1",
       "version_major": 2,
       "version_minor": 0
      },
      "text/plain": [
       "  0%|          | 0/33 [00:00<?, ?it/s]"
      ]
     },
     "metadata": {},
     "output_type": "display_data"
    },
    {
     "name": "stdout",
     "output_type": "stream",
     "text": [
      "Epoch [2], Train Loss : [0.90273] Val Loss : [1.20460] Val F1 Score : [0.37883]\n"
     ]
    }
   ],
   "source": [
    "model = BaseModel()\n",
    "model.eval()\n",
    "optimizer = torch.optim.Adam(params = model.parameters(), lr = CFG[\"LEARNING_RATE\"])\n",
    "\n",
    "infer_model = train(model, optimizer, train_dataloader, val_dataloader, device)"
   ]
  },
  {
   "cell_type": "markdown",
   "id": "bcdde39c-cc03-4ab2-99f6-94e10c1a013a",
   "metadata": {
    "id": "CnMKAC2AZBJu"
   },
   "source": [
    "## Inference"
   ]
  },
  {
   "cell_type": "code",
   "execution_count": 16,
   "id": "e2be390b-efda-4491-b813-790cfea46aa9",
   "metadata": {
    "colab": {
     "base_uri": "https://localhost:8080/"
    },
    "executionInfo": {
     "elapsed": 4056,
     "status": "ok",
     "timestamp": 1666663447532,
     "user": {
      "displayName": "taeyang yun",
      "userId": "17381744774131980403"
     },
     "user_tz": -540
    },
    "id": "YQlIB9VJhN1A",
    "outputId": "a1084590-ba1b-491e-857e-399ae661ef02"
   },
   "outputs": [],
   "source": [
    "test = pd.read_csv('./data/test.csv')"
   ]
  },
  {
   "cell_type": "code",
   "execution_count": null,
   "id": "8322b1a8-7ffd-48e5-9ec8-67d2509fe33d",
   "metadata": {
    "id": "eHNjYWdAZSyC"
   },
   "outputs": [],
   "source": [
    "test = CustomDataset(test, mode = \"test\")\n",
    "test_dataloader = torch.utils.data.DataLoader(test, batch_size= CFG['BATCH_SIZE'], shuffle=False)"
   ]
  },
  {
   "cell_type": "code",
   "execution_count": null,
   "id": "03885108-8322-4110-b854-6a1661ce63d4",
   "metadata": {
    "id": "3QE1wphCZS0p"
   },
   "outputs": [],
   "source": [
    "def inference(model, test_loader, device):\n",
    "    model.to(device)\n",
    "    model.eval()\n",
    "    \n",
    "    test_predict = []\n",
    "    for input_ids, token_type_ids, attention_mask in tqdm(test_loader):\n",
    "        input_id = input_ids.to(device)\n",
    "        mask = attention_mask.to(device)\n",
    "        y_pred = model(input_id, mask)\n",
    "        test_predict += y_pred.argmax(1).detach().cpu().numpy().tolist()\n",
    "    print('Done.')\n",
    "    return test_predict"
   ]
  },
  {
   "cell_type": "code",
   "execution_count": null,
   "id": "cbca0d32-8067-4767-9094-06d94ff15cf9",
   "metadata": {
    "id": "pd79nHhsZS3I"
   },
   "outputs": [],
   "source": [
    "preds = inference(infer_model, test_dataloader, device)"
   ]
  },
  {
   "cell_type": "code",
   "execution_count": null,
   "id": "02bcf329-ca84-4d33-a087-bafc906caffd",
   "metadata": {},
   "outputs": [],
   "source": [
    "preds = le.inverse_transform(preds) "
   ]
  },
  {
   "cell_type": "markdown",
   "id": "f23b9e4b-0f62-459a-97b7-a95ad04df2bf",
   "metadata": {
    "id": "vcWQHa_GZ4jz"
   },
   "source": [
    "## Submit"
   ]
  },
  {
   "cell_type": "code",
   "execution_count": null,
   "id": "02c03028-1c43-4af1-845b-ccb57b68012c",
   "metadata": {
    "id": "VcwcJY4wZS8U"
   },
   "outputs": [],
   "source": [
    "submit = pd.read_csv('./data/sample_submission.csv')\n",
    "submit.head()"
   ]
  },
  {
   "cell_type": "code",
   "execution_count": null,
   "id": "d5d6137f-1b6e-481b-8fbd-f236995d997b",
   "metadata": {},
   "outputs": [],
   "source": [
    "submit['Target'] = preds\n",
    "submit.head()"
   ]
  },
  {
   "cell_type": "code",
   "execution_count": 22,
   "id": "40722711-af0b-47e3-8e75-9fae4a5fe844",
   "metadata": {},
   "outputs": [],
   "source": [
    "#submit.to_csv('./submit.csv', index=False)"
   ]
  }
 ],
 "metadata": {
  "kernelspec": {
   "display_name": "Python [conda env:ml]",
   "language": "python",
   "name": "conda-env-ml-py"
  },
  "language_info": {
   "codemirror_mode": {
    "name": "ipython",
    "version": 3
   },
   "file_extension": ".py",
   "mimetype": "text/x-python",
   "name": "python",
   "nbconvert_exporter": "python",
   "pygments_lexer": "ipython3",
   "version": "3.9.15"
  }
 },
 "nbformat": 4,
 "nbformat_minor": 5
}
