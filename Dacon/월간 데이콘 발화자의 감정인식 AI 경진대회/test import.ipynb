{
 "cells": [
  {
   "cell_type": "code",
   "execution_count": 1,
   "id": "aa21c0d8-5520-4bf2-96b4-6a76f28f595e",
   "metadata": {},
   "outputs": [],
   "source": [
    "import pandas as pd"
   ]
  },
  {
   "cell_type": "code",
   "execution_count": 2,
   "id": "fab79bfb-7f96-42f4-8906-7806befdac91",
   "metadata": {},
   "outputs": [
    {
     "ename": "ImportError",
     "evalue": "Unable to import required dependencies:\nnumpy: \n\nIMPORTANT: PLEASE READ THIS FOR ADVICE ON HOW TO SOLVE THIS ISSUE!\n\nImporting the numpy C-extensions failed. This error can happen for\nmany reasons, often due to issues with your setup or how NumPy was\ninstalled.\n\nWe have compiled some common reasons and troubleshooting tips at:\n\n    https://numpy.org/devdocs/user/troubleshooting-importerror.html\n\nPlease note and check the following:\n\n  * The Python version is: Python3.9 from \"/Users/syshin/miniforge3/envs/tensorflow/bin/python\"\n  * The NumPy version is: \"1.19.5\"\n\nand make sure that they are the versions you expect.\nPlease carefully study the documentation linked above for further help.\n\nOriginal error was: dlopen(/Users/syshin/miniforge3/envs/tensorflow/lib/python3.9/site-packages/numpy/core/_multiarray_umath.cpython-39-darwin.so, 0x0002): Library not loaded: @rpath/libcblas.3.dylib\n  Referenced from: <040ADDAA-0BD4-352D-8E85-E3ABB073DD73> /Users/syshin/miniforge3/envs/tensorflow/lib/python3.9/site-packages/numpy/core/_multiarray_umath.cpython-39-darwin.so\n  Reason: tried: '/Users/syshin/miniforge3/envs/tensorflow/lib/libcblas.3.dylib' (no such file), '/System/Volumes/Preboot/Cryptexes/OS/Users/syshin/miniforge3/envs/tensorflow/lib/libcblas.3.dylib' (no such file), '/Users/syshin/miniforge3/envs/tensorflow/lib/libcblas.3.dylib' (no such file), '/System/Volumes/Preboot/Cryptexes/OS/Users/syshin/miniforge3/envs/tensorflow/lib/libcblas.3.dylib' (no such file), '/Users/syshin/miniforge3/envs/tensorflow/lib/python3.9/site-packages/numpy/core/../../../../libcblas.3.dylib' (no such file), '/Users/syshin/miniforge3/envs/tensorflow/lib/libcblas.3.dylib' (no such file), '/System/Volumes/Preboot/Cryptexes/OS/Users/syshin/miniforge3/envs/tensorflow/lib/libcblas.3.dylib' (no such file), '/Users/syshin/miniforge3/envs/tensorflow/lib/libcblas.3.dylib' (no such file), '/System/Volumes/Preboot/Cryptexes/OS/Users/syshin/miniforge3/envs/tensorflow/lib/libcblas.3.dylib' (no such file), '/Users/syshin/miniforge3/envs/tensorflow/lib/python3.9/site-packages/numpy/core/../../../../libcblas.3.dylib' (no such file), '/Users/syshin/miniforge3/envs/tensorflow/bin/../lib/libcblas.3.dylib' (no such file), '/Users/syshin/miniforge3/envs/tensorflow/bin/../lib/libcblas.3.dylib' (no such file), '/System/Volumes/Preboot/Cryptexes/OS@rpath/libcblas.3.dylib' (no such file), '/Users/syshin/miniforge3/envs/tensorflow/lib/libcblas.3.dylib' (no such file), '/System/Volumes/Preboot/Cryptexes/OS/Users/syshin/miniforge3/envs/tensorflow/lib/libcblas.3.dylib' (no such file), '/Users/syshin/miniforge3/envs/tensorflow/lib/libcblas.3.dylib' (no such file), '/System/Volumes/Preboot/Cryptexes/OS/Users/syshin/miniforge3/envs/tensorflow/lib/libcblas.3.dylib' (no such file), '/Users/syshin/miniforge3/envs/tensorflow/lib/python3.9/site-packages/numpy/core/../../../../libcblas.3.dylib' (no such file), '/Users/syshin/miniforge3/envs/tensorflow/lib/libcblas.3.dylib' (no such file), '/System/Volumes/Preboot/Cryptexes/OS/Users/syshin/miniforge3/envs/tensorflow/lib/libcblas.3.dylib' (no such file), '/Users/syshin/miniforge3/envs/tensorflow/lib/libcblas.3.dylib' (no such file), '/System/Volumes/Preboot/Cryptexes/OS/Users/syshin/miniforge3/envs/tensorflow/lib/libcblas.3.dylib' (no such file), '/Users/syshin/miniforge3/envs/tensorflow/lib/python3.9/site-packages/numpy/core/../../../../libcblas.3.dylib' (no such file), '/Users/syshin/miniforge3/envs/tensorflow/bin/../lib/libcblas.3.dylib' (no such file), '/Users/syshin/miniforge3/envs/tensorflow/bin/../lib/libcblas.3.dylib' (no such file), '/usr/local/lib/libcblas.3.dylib' (no such file), '/usr/lib/libcblas.3.dylib' (no such file, not in dyld cache)\n",
     "output_type": "error",
     "traceback": [
      "\u001b[0;31m---------------------------------------------------------------------------\u001b[0m",
      "\u001b[0;31mImportError\u001b[0m                               Traceback (most recent call last)",
      "Input \u001b[0;32mIn [2]\u001b[0m, in \u001b[0;36m<cell line: 1>\u001b[0;34m()\u001b[0m\n\u001b[0;32m----> 1\u001b[0m \u001b[38;5;28;01mimport\u001b[39;00m \u001b[38;5;21;01mpandas\u001b[39;00m \u001b[38;5;28;01mas\u001b[39;00m \u001b[38;5;21;01mpd\u001b[39;00m\n\u001b[1;32m      2\u001b[0m \u001b[38;5;28;01mimport\u001b[39;00m \u001b[38;5;21;01mnumpy\u001b[39;00m \u001b[38;5;28;01mas\u001b[39;00m \u001b[38;5;21;01mnp\u001b[39;00m\n\u001b[1;32m      3\u001b[0m \u001b[38;5;28;01mfrom\u001b[39;00m \u001b[38;5;21;01msklearn\u001b[39;00m\u001b[38;5;21;01m.\u001b[39;00m\u001b[38;5;21;01mmetrics\u001b[39;00m \u001b[38;5;28;01mimport\u001b[39;00m f1_score\n",
      "File \u001b[0;32m~/miniforge3/envs/tensorflow/lib/python3.9/site-packages/pandas/__init__.py:16\u001b[0m, in \u001b[0;36m<module>\u001b[0;34m\u001b[0m\n\u001b[1;32m     13\u001b[0m         missing_dependencies\u001b[38;5;241m.\u001b[39mappend(\u001b[38;5;124mf\u001b[39m\u001b[38;5;124m\"\u001b[39m\u001b[38;5;132;01m{\u001b[39;00mdependency\u001b[38;5;132;01m}\u001b[39;00m\u001b[38;5;124m: \u001b[39m\u001b[38;5;132;01m{\u001b[39;00me\u001b[38;5;132;01m}\u001b[39;00m\u001b[38;5;124m\"\u001b[39m)\n\u001b[1;32m     15\u001b[0m \u001b[38;5;28;01mif\u001b[39;00m missing_dependencies:\n\u001b[0;32m---> 16\u001b[0m     \u001b[38;5;28;01mraise\u001b[39;00m \u001b[38;5;167;01mImportError\u001b[39;00m(\n\u001b[1;32m     17\u001b[0m         \u001b[38;5;124m\"\u001b[39m\u001b[38;5;124mUnable to import required dependencies:\u001b[39m\u001b[38;5;130;01m\\n\u001b[39;00m\u001b[38;5;124m\"\u001b[39m \u001b[38;5;241m+\u001b[39m \u001b[38;5;124m\"\u001b[39m\u001b[38;5;130;01m\\n\u001b[39;00m\u001b[38;5;124m\"\u001b[39m\u001b[38;5;241m.\u001b[39mjoin(missing_dependencies)\n\u001b[1;32m     18\u001b[0m     )\n\u001b[1;32m     19\u001b[0m \u001b[38;5;28;01mdel\u001b[39;00m hard_dependencies, dependency, missing_dependencies\n\u001b[1;32m     21\u001b[0m \u001b[38;5;66;03m# numpy compat\u001b[39;00m\n",
      "\u001b[0;31mImportError\u001b[0m: Unable to import required dependencies:\nnumpy: \n\nIMPORTANT: PLEASE READ THIS FOR ADVICE ON HOW TO SOLVE THIS ISSUE!\n\nImporting the numpy C-extensions failed. This error can happen for\nmany reasons, often due to issues with your setup or how NumPy was\ninstalled.\n\nWe have compiled some common reasons and troubleshooting tips at:\n\n    https://numpy.org/devdocs/user/troubleshooting-importerror.html\n\nPlease note and check the following:\n\n  * The Python version is: Python3.9 from \"/Users/syshin/miniforge3/envs/tensorflow/bin/python\"\n  * The NumPy version is: \"1.19.5\"\n\nand make sure that they are the versions you expect.\nPlease carefully study the documentation linked above for further help.\n\nOriginal error was: dlopen(/Users/syshin/miniforge3/envs/tensorflow/lib/python3.9/site-packages/numpy/core/_multiarray_umath.cpython-39-darwin.so, 0x0002): Library not loaded: @rpath/libcblas.3.dylib\n  Referenced from: <040ADDAA-0BD4-352D-8E85-E3ABB073DD73> /Users/syshin/miniforge3/envs/tensorflow/lib/python3.9/site-packages/numpy/core/_multiarray_umath.cpython-39-darwin.so\n  Reason: tried: '/Users/syshin/miniforge3/envs/tensorflow/lib/libcblas.3.dylib' (no such file), '/System/Volumes/Preboot/Cryptexes/OS/Users/syshin/miniforge3/envs/tensorflow/lib/libcblas.3.dylib' (no such file), '/Users/syshin/miniforge3/envs/tensorflow/lib/libcblas.3.dylib' (no such file), '/System/Volumes/Preboot/Cryptexes/OS/Users/syshin/miniforge3/envs/tensorflow/lib/libcblas.3.dylib' (no such file), '/Users/syshin/miniforge3/envs/tensorflow/lib/python3.9/site-packages/numpy/core/../../../../libcblas.3.dylib' (no such file), '/Users/syshin/miniforge3/envs/tensorflow/lib/libcblas.3.dylib' (no such file), '/System/Volumes/Preboot/Cryptexes/OS/Users/syshin/miniforge3/envs/tensorflow/lib/libcblas.3.dylib' (no such file), '/Users/syshin/miniforge3/envs/tensorflow/lib/libcblas.3.dylib' (no such file), '/System/Volumes/Preboot/Cryptexes/OS/Users/syshin/miniforge3/envs/tensorflow/lib/libcblas.3.dylib' (no such file), '/Users/syshin/miniforge3/envs/tensorflow/lib/python3.9/site-packages/numpy/core/../../../../libcblas.3.dylib' (no such file), '/Users/syshin/miniforge3/envs/tensorflow/bin/../lib/libcblas.3.dylib' (no such file), '/Users/syshin/miniforge3/envs/tensorflow/bin/../lib/libcblas.3.dylib' (no such file), '/System/Volumes/Preboot/Cryptexes/OS@rpath/libcblas.3.dylib' (no such file), '/Users/syshin/miniforge3/envs/tensorflow/lib/libcblas.3.dylib' (no such file), '/System/Volumes/Preboot/Cryptexes/OS/Users/syshin/miniforge3/envs/tensorflow/lib/libcblas.3.dylib' (no such file), '/Users/syshin/miniforge3/envs/tensorflow/lib/libcblas.3.dylib' (no such file), '/System/Volumes/Preboot/Cryptexes/OS/Users/syshin/miniforge3/envs/tensorflow/lib/libcblas.3.dylib' (no such file), '/Users/syshin/miniforge3/envs/tensorflow/lib/python3.9/site-packages/numpy/core/../../../../libcblas.3.dylib' (no such file), '/Users/syshin/miniforge3/envs/tensorflow/lib/libcblas.3.dylib' (no such file), '/System/Volumes/Preboot/Cryptexes/OS/Users/syshin/miniforge3/envs/tensorflow/lib/libcblas.3.dylib' (no such file), '/Users/syshin/miniforge3/envs/tensorflow/lib/libcblas.3.dylib' (no such file), '/System/Volumes/Preboot/Cryptexes/OS/Users/syshin/miniforge3/envs/tensorflow/lib/libcblas.3.dylib' (no such file), '/Users/syshin/miniforge3/envs/tensorflow/lib/python3.9/site-packages/numpy/core/../../../../libcblas.3.dylib' (no such file), '/Users/syshin/miniforge3/envs/tensorflow/bin/../lib/libcblas.3.dylib' (no such file), '/Users/syshin/miniforge3/envs/tensorflow/bin/../lib/libcblas.3.dylib' (no such file), '/usr/local/lib/libcblas.3.dylib' (no such file), '/usr/lib/libcblas.3.dylib' (no such file, not in dyld cache)\n"
     ]
    }
   ],
   "source": [
    "import pandas as pd\n",
    "import numpy as np\n",
    "from sklearn.metrics import f1_score\n",
    "from sklearn.preprocessing import LabelEncoder\n",
    "import random\n",
    "import os\n",
    "\n",
    "import torch\n",
    "from torch import nn\n",
    "import torch.nn.functional as F\n",
    "from torch.utils.data import DataLoader, Dataset\n",
    "from tqdm.notebook import tqdm\n",
    "from transformers import BertTokenizer\n",
    "from transformers import BertModel\n",
    "from torch.optim import Adam\n",
    "\n",
    "import matplotlib as mpl\n",
    "import matplotlib.pyplot as plt\n",
    "\n",
    "import warnings\n",
    "warnings.filterwarnings(action='ignore')"
   ]
  },
  {
   "cell_type": "code",
   "execution_count": null,
   "id": "8da039ea-6c1b-4461-a43f-36f6edf3eb83",
   "metadata": {},
   "outputs": [],
   "source": []
  }
 ],
 "metadata": {
  "kernelspec": {
   "display_name": "Python 3.9 (tensorflow)",
   "language": "python",
   "name": "tensorflow"
  },
  "language_info": {
   "codemirror_mode": {
    "name": "ipython",
    "version": 3
   },
   "file_extension": ".py",
   "mimetype": "text/x-python",
   "name": "python",
   "nbconvert_exporter": "python",
   "pygments_lexer": "ipython3",
   "version": "3.9.12"
  }
 },
 "nbformat": 4,
 "nbformat_minor": 5
}
