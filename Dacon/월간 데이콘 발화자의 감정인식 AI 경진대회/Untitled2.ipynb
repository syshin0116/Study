{
 "cells": [
  {
   "cell_type": "code",
   "execution_count": null,
   "id": "84aadbca-4055-422c-a621-dd3117b73879",
   "metadata": {},
   "outputs": [],
   "source": [
    "import socket\n",
    "\n",
    "sock = socket.socket(socket.AF_INET, socket.SOCK_STREAM)\n",
    "sock.connect(('localhost', 5000))\n",
    "print(\"서버 접속\", sock.recv(1024).decode())\n",
    "sock.close()"
   ]
  },
  {
   "cell_type": "code",
   "execution_count": null,
   "id": "9f9d66dc-40ca-47f8-af94-a466be4a7d98",
   "metadata": {},
   "outputs": [],
   "source": []
  },
  {
   "cell_type": "code",
   "execution_count": null,
   "id": "b51c6e14-3845-438c-b3f3-1d86b8b0c13f",
   "metadata": {},
   "outputs": [],
   "source": [
    "from socket import *\n",
    "\n",
    "clientSock = socket(AF_INET, SOCK_STREAM)\n",
    "clientSock.connect(('', 8088))\n",
    "\n",
    "print('연결 확인 됐습니다.')\n",
    "clientSock.send('I am a client'.encode('utf-8'))\n",
    "\n",
    "print('메시지를 전송했습니다.')\n",
    "\n",
    "data = clientSock.recv(1024)\n",
    "print('받은 데이터 : ', data.decode('utf-8'))"
   ]
  },
  {
   "cell_type": "code",
   "execution_count": null,
   "id": "a2c63ab7-d72f-43de-b688-481fb0073735",
   "metadata": {},
   "outputs": [],
   "source": []
  }
 ],
 "metadata": {
  "kernelspec": {
   "display_name": "Python 3 (ipykernel)",
   "language": "python",
   "name": "python3"
  },
  "language_info": {
   "codemirror_mode": {
    "name": "ipython",
    "version": 3
   },
   "file_extension": ".py",
   "mimetype": "text/x-python",
   "name": "python",
   "nbconvert_exporter": "python",
   "pygments_lexer": "ipython3",
   "version": "3.9.10"
  }
 },
 "nbformat": 4,
 "nbformat_minor": 5
}
