{
 "cells": [
  {
   "cell_type": "code",
   "execution_count": 1,
   "id": "c1a10687-75d2-40e9-9c70-44f9dc51fe00",
   "metadata": {},
   "outputs": [],
   "source": [
    "def Check_for_existance(k, num):\n",
    "    print(num, \"=>\", num in k)"
   ]
  },
  {
   "cell_type": "code",
   "execution_count": 2,
   "id": "f9d786dc-5ccf-4f30-89fb-4886fccb7009",
   "metadata": {},
   "outputs": [
    {
     "name": "stdout",
     "output_type": "stream",
     "text": [
      "[2, 4, 6, 8, 10]\n",
      "5 => False\n",
      "10 => True\n"
     ]
    }
   ],
   "source": [
    "k = [2, 4, 6, 8, 10]\n",
    "print(k)\n",
    "Check_for_existance(k, 5)\n",
    "Check_for_existance(k, 10)"
   ]
  },
  {
   "cell_type": "code",
   "execution_count": 3,
   "id": "1e33a358-5316-4a98-abae-27edb2822ca1",
   "metadata": {},
   "outputs": [],
   "source": [
    "def print_even(sample_list):\n",
    "    [print(i) for i in sample_list if i%2==0]"
   ]
  },
  {
   "cell_type": "code",
   "execution_count": 6,
   "id": "f92f444f-8416-4d51-997c-afd43db1e35e",
   "metadata": {},
   "outputs": [],
   "source": [
    "def print_even(sample_list):\n",
    "    for i in sample_list:\n",
    "        if i%2==0:\n",
    "            print(i)"
   ]
  },
  {
   "cell_type": "code",
   "execution_count": 7,
   "id": "41333efc-8d16-41d0-a2dd-a6dda424d813",
   "metadata": {},
   "outputs": [
    {
     "name": "stdout",
     "output_type": "stream",
     "text": [
      "12\n",
      "10\n",
      "110\n"
     ]
    }
   ],
   "source": [
    "a = [31, 23, 12, 10, 13, 110, 15]\n",
    "print_even(a)"
   ]
  },
  {
   "cell_type": "code",
   "execution_count": 1,
   "id": "9b2529c4-16f7-4e9f-a5fb-bf19e6f30f16",
   "metadata": {},
   "outputs": [],
   "source": [
    "def print_even(sample_list):\n",
    "    [print(i) for i in sample_list if i%2==0]"
   ]
  },
  {
   "cell_type": "code",
   "execution_count": 2,
   "id": "97cd2e1f-87eb-47ff-b383-3da0e51ecf0d",
   "metadata": {},
   "outputs": [],
   "source": [
    "def input_list():\n",
    "    sample_list = []\n",
    "    list_length = int(input(\"입력할 리스트 길이:\"))\n",
    "    for i in range(list_length):\n",
    "        sample_list.append(int(input(\"리스트에 추가할 숫자:\")))\n",
    "    print(\"리스트:\", sample_list)\n",
    "    return sample_list"
   ]
  },
  {
   "cell_type": "code",
   "execution_count": 3,
   "id": "b188ad2c-4cef-4da9-88c7-e63722dd12a2",
   "metadata": {},
   "outputs": [
    {
     "name": "stdin",
     "output_type": "stream",
     "text": [
      "입력할 리스트 길이: 5\n",
      "리스트에 추가할 숫자: 1\n",
      "리스트에 추가할 숫자: 2\n",
      "리스트에 추가할 숫자: 3\n",
      "리스트에 추가할 숫자: 4\n",
      "리스트에 추가할 숫자: 5\n"
     ]
    },
    {
     "name": "stdout",
     "output_type": "stream",
     "text": [
      "리스트: [1, 2, 3, 4, 5]\n",
      "2\n",
      "4\n"
     ]
    }
   ],
   "source": [
    "b = input_list()\n",
    "print_even(b)"
   ]
  },
  {
   "cell_type": "code",
   "execution_count": 24,
   "id": "c17df46f-ad60-4b37-b728-ed90cbf6098e",
   "metadata": {},
   "outputs": [],
   "source": [
    "def _keys(dic):\n",
    "    [print(key) for key in dic.keys()]"
   ]
  },
  {
   "cell_type": "code",
   "execution_count": 27,
   "id": "589b784e-0976-4dc6-afbc-3b267bb5b709",
   "metadata": {},
   "outputs": [
    {
     "name": "stdout",
     "output_type": "stream",
     "text": [
      "이름\n",
      "나이\n",
      "성별\n"
     ]
    }
   ],
   "source": [
    "dic={'이름':None,'나이':None,'성별':None}\n",
    "_keys(dic)\n"
   ]
  },
  {
   "cell_type": "code",
   "execution_count": 28,
   "id": "0048aac7-d56a-412e-a027-0d9b7b9a7a66",
   "metadata": {},
   "outputs": [
    {
     "name": "stdout",
     "output_type": "stream",
     "text": [
      "{'이름': None, '나이': None, '성별': None}\n"
     ]
    }
   ],
   "source": [
    "print(dic)"
   ]
  },
  {
   "cell_type": "code",
   "execution_count": 32,
   "id": "0af0227c-89f1-41ae-8b11-b63cbc5fdfa0",
   "metadata": {},
   "outputs": [],
   "source": [
    "def _arithme_operation():\n",
    "    x = int(input(\"숫자1:\"))\n",
    "    y = int(input(\"숫자2:\"))\n",
    "    print(x+y)\n",
    "    print(x-y)\n",
    "    print(x*y)\n",
    "    print(x/y)"
   ]
  },
  {
   "cell_type": "code",
   "execution_count": 33,
   "id": "9ad4f5ed-4849-4563-a925-c0c181d8ac11",
   "metadata": {},
   "outputs": [
    {
     "name": "stdin",
     "output_type": "stream",
     "text": [
      "숫자1: 5\n",
      "숫자2: 9\n"
     ]
    },
    {
     "name": "stdout",
     "output_type": "stream",
     "text": [
      "14\n",
      "-4\n",
      "45\n",
      "0.5555555555555556\n"
     ]
    }
   ],
   "source": [
    "_arithme_operation()"
   ]
  },
  {
   "cell_type": "code",
   "execution_count": 40,
   "id": "0c6ad203-313d-4bf8-8a78-d0dc16c6292d",
   "metadata": {},
   "outputs": [],
   "source": [
    "def countdown():\n",
    "    n = int(input('카운트다운 수:'))\n",
    "    if n<=0:\n",
    "        print('카운트다운을 하려면 0보다 큰 입력이 필요합니다.')\n",
    "    else:\n",
    "        for i in range(n, 0, -1):\n",
    "            print(i)"
   ]
  },
  {
   "cell_type": "code",
   "execution_count": 42,
   "id": "29d1764f-be76-42fd-b849-ddd6ee749cfe",
   "metadata": {},
   "outputs": [
    {
     "name": "stdin",
     "output_type": "stream",
     "text": [
      "카운트다운 수: 0\n"
     ]
    },
    {
     "name": "stdout",
     "output_type": "stream",
     "text": [
      "카운트다운을 하려면 0보다 큰 입력이 필요합니다.\n"
     ]
    }
   ],
   "source": [
    "countdown()"
   ]
  },
  {
   "cell_type": "code",
   "execution_count": 58,
   "id": "25ae21bc-d3d9-4250-98a1-af9d4303422a",
   "metadata": {},
   "outputs": [],
   "source": [
    "def _funce():\n",
    "    a = (\"Hello function\")\n",
    "    [print(a) for i in range(4)]"
   ]
  },
  {
   "cell_type": "code",
   "execution_count": 59,
   "id": "e8f8c319-8da5-48ea-8ba8-54d2cb570f23",
   "metadata": {},
   "outputs": [
    {
     "name": "stdout",
     "output_type": "stream",
     "text": [
      "Hello function\n",
      "Hello function\n",
      "Hello function\n",
      "Hello function\n"
     ]
    }
   ],
   "source": [
    "_funce()"
   ]
  },
  {
   "cell_type": "code",
   "execution_count": null,
   "id": "ebbb2098-3693-4abe-bb23-8dd7dfa82479",
   "metadata": {},
   "outputs": [],
   "source": []
  }
 ],
 "metadata": {
  "kernelspec": {
   "display_name": "Python 3 (ipykernel)",
   "language": "python",
   "name": "python3"
  },
  "language_info": {
   "codemirror_mode": {
    "name": "ipython",
    "version": 3
   },
   "file_extension": ".py",
   "mimetype": "text/x-python",
   "name": "python",
   "nbconvert_exporter": "python",
   "pygments_lexer": "ipython3",
   "version": "3.9.10"
  }
 },
 "nbformat": 4,
 "nbformat_minor": 5
}
