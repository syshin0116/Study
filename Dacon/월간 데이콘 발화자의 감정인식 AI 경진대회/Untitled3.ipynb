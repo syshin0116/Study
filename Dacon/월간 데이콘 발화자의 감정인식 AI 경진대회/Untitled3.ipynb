{
 "cells": [
  {
   "cell_type": "code",
   "execution_count": 1,
   "id": "c1a10687-75d2-40e9-9c70-44f9dc51fe00",
   "metadata": {},
   "outputs": [],
   "source": [
    "def Check_for_existance(k, num):\n",
    "    print(num, \"=>\", num in k)"
   ]
  },
  {
   "cell_type": "code",
   "execution_count": 2,
   "id": "f9d786dc-5ccf-4f30-89fb-4886fccb7009",
   "metadata": {},
   "outputs": [
    {
     "name": "stdout",
     "output_type": "stream",
     "text": [
      "[2, 4, 6, 8, 10]\n",
      "5 => False\n",
      "10 => True\n"
     ]
    }
   ],
   "source": [
    "k = [2, 4, 6, 8, 10]\n",
    "print(k)\n",
    "Check_for_existance(k, 5)\n",
    "Check_for_existance(k, 10)"
   ]
  },
  {
   "cell_type": "code",
   "execution_count": 3,
   "id": "1e33a358-5316-4a98-abae-27edb2822ca1",
   "metadata": {},
   "outputs": [],
   "source": [
    "def print_even(sample_list):\n",
    "    [print(i) for i in sample_list if i%2==0]"
   ]
  },
  {
   "cell_type": "code",
   "execution_count": 6,
   "id": "f92f444f-8416-4d51-997c-afd43db1e35e",
   "metadata": {},
   "outputs": [],
   "source": [
    "def print_even(sample_list):\n",
    "    for i in sample_list:\n",
    "        if i%2==0:\n",
    "            print(i)"
   ]
  },
  {
   "cell_type": "code",
   "execution_count": 7,
   "id": "41333efc-8d16-41d0-a2dd-a6dda424d813",
   "metadata": {},
   "outputs": [
    {
     "name": "stdout",
     "output_type": "stream",
     "text": [
      "12\n",
      "10\n",
      "110\n"
     ]
    }
   ],
   "source": [
    "a = [31, 23, 12, 10, 13, 110, 15]\n",
    "print_even(a)"
   ]
  },
  {
   "cell_type": "code",
   "execution_count": 1,
   "id": "9b2529c4-16f7-4e9f-a5fb-bf19e6f30f16",
   "metadata": {},
   "outputs": [],
   "source": [
    "def print_even(sample_list):\n",
    "    [print(i) for i in sample_list if i%2==0]"
   ]
  },
  {
   "cell_type": "code",
   "execution_count": 2,
   "id": "97cd2e1f-87eb-47ff-b383-3da0e51ecf0d",
   "metadata": {},
   "outputs": [],
   "source": [
    "def input_list():\n",
    "    sample_list = []\n",
    "    list_length = int(input(\"입력할 리스트 길이:\"))\n",
    "    for i in range(list_length):\n",
    "        sample_list.append(int(input(\"리스트에 추가할 숫자:\")))\n",
    "    print(\"리스트:\", sample_list)\n",
    "    return sample_list"
   ]
  },
  {
   "cell_type": "code",
   "execution_count": 3,
   "id": "b188ad2c-4cef-4da9-88c7-e63722dd12a2",
   "metadata": {},
   "outputs": [
    {
     "name": "stdin",
     "output_type": "stream",
     "text": [
      "입력할 리스트 길이: 5\n",
      "리스트에 추가할 숫자: 1\n",
      "리스트에 추가할 숫자: 2\n",
      "리스트에 추가할 숫자: 3\n",
      "리스트에 추가할 숫자: 4\n",
      "리스트에 추가할 숫자: 5\n"
     ]
    },
    {
     "name": "stdout",
     "output_type": "stream",
     "text": [
      "리스트: [1, 2, 3, 4, 5]\n",
      "2\n",
      "4\n"
     ]
    }
   ],
   "source": [
    "b = input_list()\n",
    "print_even(b)"
   ]
  },
  {
   "cell_type": "code",
   "execution_count": 24,
   "id": "c17df46f-ad60-4b37-b728-ed90cbf6098e",
   "metadata": {},
   "outputs": [],
   "source": [
    "def _keys(dic):\n",
    "    [print(key) for key in dic.keys()]"
   ]
  },
  {
   "cell_type": "code",
   "execution_count": 27,
   "id": "589b784e-0976-4dc6-afbc-3b267bb5b709",
   "metadata": {},
   "outputs": [
    {
     "name": "stdout",
     "output_type": "stream",
     "text": [
      "이름\n",
      "나이\n",
      "성별\n"
     ]
    }
   ],
   "source": [
    "dic={'이름':None,'나이':None,'성별':None}\n",
    "_keys(dic)\n"
   ]
  },
  {
   "cell_type": "code",
   "execution_count": 28,
   "id": "0048aac7-d56a-412e-a027-0d9b7b9a7a66",
   "metadata": {},
   "outputs": [
    {
     "name": "stdout",
     "output_type": "stream",
     "text": [
      "{'이름': None, '나이': None, '성별': None}\n"
     ]
    }
   ],
   "source": [
    "print(dic)"
   ]
  },
  {
   "cell_type": "code",
   "execution_count": 32,
   "id": "0af0227c-89f1-41ae-8b11-b63cbc5fdfa0",
   "metadata": {},
   "outputs": [],
   "source": [
    "def _arithme_operation():\n",
    "    x = int(input(\"숫자1:\"))\n",
    "    y = int(input(\"숫자2:\"))\n",
    "    print(x+y)\n",
    "    print(x-y)\n",
    "    print(x*y)\n",
    "    print(x/y)"
   ]
  },
  {
   "cell_type": "code",
   "execution_count": 33,
   "id": "9ad4f5ed-4849-4563-a925-c0c181d8ac11",
   "metadata": {},
   "outputs": [
    {
     "name": "stdin",
     "output_type": "stream",
     "text": [
      "숫자1: 5\n",
      "숫자2: 9\n"
     ]
    },
    {
     "name": "stdout",
     "output_type": "stream",
     "text": [
      "14\n",
      "-4\n",
      "45\n",
      "0.5555555555555556\n"
     ]
    }
   ],
   "source": [
    "_arithme_operation()"
   ]
  },
  {
   "cell_type": "code",
   "execution_count": 40,
   "id": "0c6ad203-313d-4bf8-8a78-d0dc16c6292d",
   "metadata": {},
   "outputs": [],
   "source": [
    "def countdown():\n",
    "    n = int(input('카운트다운 수:'))\n",
    "    if n<=0:\n",
    "        print('카운트다운을 하려면 0보다 큰 입력이 필요합니다.')\n",
    "    else:\n",
    "        for i in range(n, 0, -1):\n",
    "            print(i)"
   ]
  },
  {
   "cell_type": "code",
   "execution_count": 42,
   "id": "29d1764f-be76-42fd-b849-ddd6ee749cfe",
   "metadata": {},
   "outputs": [
    {
     "name": "stdin",
     "output_type": "stream",
     "text": [
      "카운트다운 수: 0\n"
     ]
    },
    {
     "name": "stdout",
     "output_type": "stream",
     "text": [
      "카운트다운을 하려면 0보다 큰 입력이 필요합니다.\n"
     ]
    }
   ],
   "source": [
    "countdown()"
   ]
  },
  {
   "cell_type": "code",
   "execution_count": 58,
   "id": "25ae21bc-d3d9-4250-98a1-af9d4303422a",
   "metadata": {},
   "outputs": [],
   "source": [
    "def _funce():\n",
    "    a = (\"Hello function\")\n",
    "    [print(a) for i in range(4)]"
   ]
  },
  {
   "cell_type": "code",
   "execution_count": 59,
   "id": "e8f8c319-8da5-48ea-8ba8-54d2cb570f23",
   "metadata": {},
   "outputs": [
    {
     "name": "stdout",
     "output_type": "stream",
     "text": [
      "Hello function\n",
      "Hello function\n",
      "Hello function\n",
      "Hello function\n"
     ]
    }
   ],
   "source": [
    "_funce()"
   ]
  },
  {
   "cell_type": "code",
   "execution_count": 24,
   "id": "ebbb2098-3693-4abe-bb23-8dd7dfa82479",
   "metadata": {},
   "outputs": [],
   "source": [
    "import turtle as t\n",
    "def polygon(n, sidelength):\n",
    "    if n<=2 or sidelength<=0:\n",
    "        print(\"실행불가\")\n",
    "    else:\n",
    "        for i in range(n):\n",
    "            t.forward(sidelength)\n",
    "            t.left(360/n)\n",
    "        t.done()"
   ]
  },
  {
   "cell_type": "code",
   "execution_count": 25,
   "id": "0b3cb5ea-2890-4763-bad8-d59f05273f80",
   "metadata": {},
   "outputs": [
    {
     "name": "stdin",
     "output_type": "stream",
     "text": [
      "n각형 입력 10\n",
      "한변의 길이 입력 10\n"
     ]
    }
   ],
   "source": [
    "n = int(input(\"n각형 입력\"))\n",
    "sidelength = int(input(\"한변의 길이 입력\"))\n",
    "polygon(n, sidelength)"
   ]
  },
  {
   "cell_type": "code",
   "execution_count": 1,
   "id": "285f84e5-56d4-482b-8004-af46d886faf1",
   "metadata": {},
   "outputs": [
    {
     "name": "stdin",
     "output_type": "stream",
     "text": [
      " \n"
     ]
    }
   ],
   "source": [
    "a = input()"
   ]
  },
  {
   "cell_type": "code",
   "execution_count": 5,
   "id": "d09b3743-fe1e-452d-a757-e7d3eed55c8b",
   "metadata": {},
   "outputs": [
    {
     "data": {
      "text/plain": [
       "True"
      ]
     },
     "execution_count": 5,
     "metadata": {},
     "output_type": "execute_result"
    }
   ],
   "source": [
    "a == ''"
   ]
  },
  {
   "cell_type": "code",
   "execution_count": null,
   "id": "7a6a470d-cf44-4450-8170-c02474012a3e",
   "metadata": {},
   "outputs": [],
   "source": []
  },
  {
   "cell_type": "code",
   "execution_count": 61,
   "id": "8a633e6e-21b6-4832-8c10-b3ae48a6d282",
   "metadata": {},
   "outputs": [],
   "source": [
    "import random\n",
    "\n",
    "def get_random_account_number():\n",
    "    return str(random.randint(0,999)).zfill(3) + '-' + str(random.randint(0,99)).zfill(2) + '-' + str(random.randint(0,999999)).zfill(6)\n",
    "\n",
    "\n",
    "def get_available_account_number():\n",
    "    exist_account_numbers = {account.acc_number for account in Account.instances}\n",
    "    new_account_number = get_random_account_number()\n",
    "    while new_account_number in exist_account_numbers:\n",
    "        new_account_number = get_random_account_number()\n",
    "    return new_account_number\n",
    "\n",
    "\n",
    "class Account():\n",
    "    instances = []\n",
    "####### Your code here: constructor #######\n",
    "    def __init__(self, holder_name, balance):\n",
    "        self.holder_name = holder_name\n",
    "        self.balance = balance\n",
    "        self.acc_number = get_available_account_number()\n",
    "\n",
    "        Account.instances.append(self)\n",
    "  ###########\n",
    "    \n",
    "  ####### Your code here: deposit #######\n",
    "    def deposit(self, amount):\n",
    "        if amount > 0:\n",
    "            self.balance += amount\n",
    "\n",
    "  ###########\n",
    "  \n",
    "  ####### Your code here: withdraw #######\n",
    "    def withdraw(self, amount):\n",
    "        if self.balance >= amount:\n",
    "            self.balance -= amount\n",
    "            return True\n",
    "        else:\n",
    "            print(\"balance is not enough!\")\n",
    "            return False\n",
    "  ###########\n",
    "    \n",
    "  ####### Your code here: transfer #######\n",
    "    def transfer(self, amount, dest_acct_number):\n",
    "        def get_account_by(acc_number):\n",
    "            for account in Account.instances:\n",
    "                if account.acc_number == acc_number:\n",
    "                    return account\n",
    "                else:\n",
    "                    return None\n",
    "        \n",
    "        destination_account = get_account_by(dest_acct_number)\n",
    "\n",
    "        if destination_account == None:\n",
    "            print('Could not transfer. Wrong acc_number.')\n",
    "        else:\n",
    "            self.balance -= amount\n",
    "            destination_account.balance += amount\n",
    "            print('Transfer Sucess')\n",
    "  ###########\n",
    "        \n",
    "    def print_info(self):\n",
    "        print(f'Account name {self.holder_name}, number {self.acc_number}, balance {self.balance}')\n",
    "\n",
    "    "
   ]
  },
  {
   "cell_type": "code",
   "execution_count": 62,
   "id": "b59459fd-bf30-4452-8efe-c2afbf0769c8",
   "metadata": {},
   "outputs": [],
   "source": [
    "Account.instances = []"
   ]
  },
  {
   "cell_type": "code",
   "execution_count": 63,
   "id": "4792dd19-138a-4970-9f45-9b384fc1be70",
   "metadata": {},
   "outputs": [
    {
     "name": "stdout",
     "output_type": "stream",
     "text": [
      "Account name Alice, number 518-01-695957, balance 500\n"
     ]
    }
   ],
   "source": [
    "acc_a = Account('Alice', balance=500)\n",
    "acc_a.print_info()"
   ]
  },
  {
   "cell_type": "code",
   "execution_count": 64,
   "id": "5169bb45-12f7-4b31-95d6-57d791a4525b",
   "metadata": {},
   "outputs": [],
   "source": [
    "acc_b = Account('Bob', balance=1000)\n",
    "acc_c = Account('Chris', balance=0)"
   ]
  },
  {
   "cell_type": "code",
   "execution_count": 65,
   "id": "76ed174a-c792-4914-9506-6b9171ad40a0",
   "metadata": {},
   "outputs": [
    {
     "name": "stdout",
     "output_type": "stream",
     "text": [
      "Account name Alice, number 518-01-695957, balance 500\n",
      "Account name Bob, number 894-06-276634, balance 1000\n",
      "Account name Chris, number 757-25-900130, balance 0\n"
     ]
    }
   ],
   "source": [
    "for acc in Account.instances:\n",
    "    acc.print_info()"
   ]
  },
  {
   "cell_type": "code",
   "execution_count": 66,
   "id": "2c61b8a7-1446-4319-98d4-e2ee21b3aad7",
   "metadata": {},
   "outputs": [
    {
     "name": "stdout",
     "output_type": "stream",
     "text": [
      "Account name Alice, number 518-01-695957, balance 800\n",
      "====\n",
      "Account name Alice, number 518-01-695957, balance 200\n"
     ]
    }
   ],
   "source": [
    "acc_a.deposit(300)\n",
    "acc_a.print_info()\n",
    "\n",
    "print('====')\n",
    "\n",
    "acc_a.withdraw(600)\n",
    "acc_a.print_info()"
   ]
  },
  {
   "cell_type": "code",
   "execution_count": 68,
   "id": "54f4b14b-1351-4ea6-8cbb-41f25057370b",
   "metadata": {},
   "outputs": [
    {
     "name": "stdout",
     "output_type": "stream",
     "text": [
      "Could not transfer. Wrong acc_number.\n",
      "Account name Bob, number 894-06-276634, balance 1000\n",
      "Account name Chris, number 757-25-900130, balance 0\n",
      "====\n",
      "Could not transfer. Wrong acc_number.\n",
      "Account name Bob, number 894-06-276634, balance 1000\n",
      "Account name Chris, number 757-25-900130, balance 0\n"
     ]
    }
   ],
   "source": [
    "acc_b.transfer(300, 123)\n",
    "acc_b.print_info()\n",
    "acc_c.print_info()\n",
    "\n",
    "print('====')\n",
    "\n",
    "acc_b.transfer(300, '757-25-900130')\n",
    "acc_b.print_info()\n",
    "acc_c.print_info()"
   ]
  },
  {
   "cell_type": "code",
   "execution_count": 55,
   "id": "cca0c8e6-02dc-4845-a7ac-f9639e4e662f",
   "metadata": {},
   "outputs": [
    {
     "data": {
      "text/plain": [
       "'198-89-615691'"
      ]
     },
     "execution_count": 55,
     "metadata": {},
     "output_type": "execute_result"
    }
   ],
   "source": [
    "Account.instances[2].acc_number"
   ]
  },
  {
   "cell_type": "code",
   "execution_count": null,
   "id": "f2f8f236-c053-4cc9-a6fa-507dba7146d3",
   "metadata": {},
   "outputs": [],
   "source": []
  }
 ],
 "metadata": {
  "kernelspec": {
   "display_name": "Python 3 (ipykernel)",
   "language": "python",
   "name": "python3"
  },
  "language_info": {
   "codemirror_mode": {
    "name": "ipython",
    "version": 3
   },
   "file_extension": ".py",
   "mimetype": "text/x-python",
   "name": "python",
   "nbconvert_exporter": "python",
   "pygments_lexer": "ipython3",
   "version": "3.9.10"
  }
 },
 "nbformat": 4,
 "nbformat_minor": 5
}
