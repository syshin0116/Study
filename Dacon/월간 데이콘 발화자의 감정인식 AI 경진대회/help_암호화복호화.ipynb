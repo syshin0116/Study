{
 "cells": [
  {
   "cell_type": "code",
   "execution_count": null,
   "id": "78213843-6f1e-4ad7-aa23-d44aad492e39",
   "metadata": {},
   "outputs": [],
   "source": [
    "def encryption():\n",
    "    try: \n",
    "        encrypt = open(filename, 'r')\n",
    "        encrypt_lines = encrypt.readlines()\n",
    "        \n",
    "        encrypt.close()\n",
    "    except FileNotFoundError:\n",
    "        print('존재하지 않는 파일입니다.')\n",
    "    except Exception as e:\n",
    "        print('error:', e)"
   ]
  },
  {
   "cell_type": "code",
   "execution_count": null,
   "id": "f0197df7-4902-4b7a-ae37-72018f87033d",
   "metadata": {},
   "outputs": [],
   "source": [
    "while True:\n",
    "    print('암호화/복호화 프로그램입니다 ^o^')\n",
    "    print('1. 암호화','2. 복호화','3. 종료',sep='\\n')\n",
    "    a=input('원하시는 기능을 선택하세요:')\n",
    "    if a=='1':\n",
    "        filename = input('암호화를 할 파일 이름을 입력하세요:')\n",
    "        record = open('record.txt', 'r')\n",
    "        records = record.readlines()\n",
    "        if filename in records:\n",
    "            print('이미 암호화가 완료된 파일입니다.')\n",
    "        else:\n",
    "            \n",
    "            \n",
    "    elif a=='2':\n",
    "        continue\n",
    "    elif a=='3':\n",
    "        continue\n",
    "    else:\n",
    "        print('잘못된 입력입니다.')\n"
   ]
  },
  {
   "cell_type": "code",
   "execution_count": 3,
   "id": "a0e866e3-2233-451e-aece-2339b52d2c9e",
   "metadata": {},
   "outputs": [
    {
     "name": "stdout",
     "output_type": "stream",
     "text": [
      "존재하지 않는 파일입니다.\n"
     ]
    },
    {
     "ename": "NameError",
     "evalue": "name 'encrypt' is not defined",
     "output_type": "error",
     "traceback": [
      "\u001b[0;31m---------------------------------------------------------------------------\u001b[0m",
      "\u001b[0;31mNameError\u001b[0m                                 Traceback (most recent call last)",
      "Input \u001b[0;32mIn [3]\u001b[0m, in \u001b[0;36m<cell line: 1>\u001b[0;34m()\u001b[0m\n\u001b[1;32m      4\u001b[0m     \u001b[38;5;28mprint\u001b[39m(\u001b[38;5;124m'\u001b[39m\u001b[38;5;124m존재하지 않는 파일입니다.\u001b[39m\u001b[38;5;124m'\u001b[39m)\n\u001b[1;32m      5\u001b[0m \u001b[38;5;28;01mfinally\u001b[39;00m:\n\u001b[0;32m----> 6\u001b[0m     \u001b[43mencrypt\u001b[49m\u001b[38;5;241m.\u001b[39mclose()\n",
      "\u001b[0;31mNameError\u001b[0m: name 'encrypt' is not defined"
     ]
    }
   ],
   "source": [
    "try: \n",
    "    encrypt = open('asdf.txt', 'r')\n",
    "except FileNotFoundError:\n",
    "    print('존재하지 않는 파일입니다.')\n",
    "final"
   ]
  },
  {
   "cell_type": "code",
   "execution_count": null,
   "id": "da6142cc-a8ef-4c2f-851f-b30b3d5fd6a5",
   "metadata": {},
   "outputs": [],
   "source": []
  }
 ],
 "metadata": {
  "kernelspec": {
   "display_name": "Python 3 (ipykernel)",
   "language": "python",
   "name": "python3"
  },
  "language_info": {
   "codemirror_mode": {
    "name": "ipython",
    "version": 3
   },
   "file_extension": ".py",
   "mimetype": "text/x-python",
   "name": "python",
   "nbconvert_exporter": "python",
   "pygments_lexer": "ipython3",
   "version": "3.9.10"
  }
 },
 "nbformat": 4,
 "nbformat_minor": 5
}
