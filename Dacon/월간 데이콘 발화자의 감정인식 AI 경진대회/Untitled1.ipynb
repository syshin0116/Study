{
 "cells": [
  {
   "cell_type": "code",
   "execution_count": 1,
   "id": "4b0c47d6-bdf0-4d5e-9c32-0c50448b4bbf",
   "metadata": {},
   "outputs": [
    {
     "ename": "OSError",
     "evalue": "[Errno 48] Address already in use",
     "output_type": "error",
     "traceback": [
      "\u001b[0;31m---------------------------------------------------------------------------\u001b[0m",
      "\u001b[0;31mOSError\u001b[0m                                   Traceback (most recent call last)",
      "Cell \u001b[0;32mIn [1], line 5\u001b[0m\n\u001b[1;32m      3\u001b[0m sock \u001b[38;5;241m=\u001b[39m socket\u001b[38;5;241m.\u001b[39msocket(socket\u001b[38;5;241m.\u001b[39mAF_INET, socket\u001b[38;5;241m.\u001b[39mSOCK_STREAM)\n\u001b[1;32m      4\u001b[0m address \u001b[38;5;241m=\u001b[39m (\u001b[38;5;124m'\u001b[39m\u001b[38;5;124mlocalhost\u001b[39m\u001b[38;5;124m'\u001b[39m, \u001b[38;5;241m5000\u001b[39m)\n\u001b[0;32m----> 5\u001b[0m \u001b[43msock\u001b[49m\u001b[38;5;241;43m.\u001b[39;49m\u001b[43mbind\u001b[49m\u001b[43m(\u001b[49m\u001b[43maddress\u001b[49m\u001b[43m)\u001b[49m\n\u001b[1;32m      6\u001b[0m sock\u001b[38;5;241m.\u001b[39mlisten(\u001b[38;5;241m5\u001b[39m)\n\u001b[1;32m      8\u001b[0m \u001b[38;5;28;01mwhile\u001b[39;00m \u001b[38;5;28;01mTrue\u001b[39;00m:\n",
      "\u001b[0;31mOSError\u001b[0m: [Errno 48] Address already in use"
     ]
    }
   ],
   "source": [
    "import socket\n",
    "\n",
    "sock = socket.socket(socket.AF_INET, socket.SOCK_STREAM)\n",
    "address = ('localhost', 5000)\n",
    "sock.bind(address)\n",
    "sock.listen(5)\n",
    "\n",
    "while True:\n",
    "    client, addr = sock.accept()\n",
    "    print(addr)\n",
    "    client.send('hi'.encode())\n",
    "    client.close()"
   ]
  },
  {
   "cell_type": "code",
   "execution_count": null,
   "id": "43a0921b-8ee6-4b97-ace4-012b2c7e050f",
   "metadata": {},
   "outputs": [],
   "source": [
    "from socket import *\n",
    "\n",
    "serverSock = socket(AF_INET, SOCK_STREAM)\n",
    "serverSock.bind(('', 8088))\n",
    "serverSock.listen(1)\n",
    "\n",
    "connectionSock, addr = serverSock.accept()\n",
    "\n",
    "print(str(addr),'에서 접속이 확인되었습니다.')\n",
    "\n",
    "data = connectionSock.recv(1024)\n",
    "print('받은 데이터 : ', data.decode('utf-8'))\n",
    "\n",
    "connectionSock.send('I am a server.'.encode('utf-8'))\n",
    "print('메시지를 보냈습니다.')"
   ]
  },
  {
   "cell_type": "code",
   "execution_count": null,
   "id": "60e56a2f-c8bf-4dbe-878c-135e0773865d",
   "metadata": {},
   "outputs": [],
   "source": []
  }
 ],
 "metadata": {
  "kernelspec": {
   "display_name": "Python [conda env:torch]",
   "language": "python",
   "name": "conda-env-torch-py"
  },
  "language_info": {
   "codemirror_mode": {
    "name": "ipython",
    "version": 3
   },
   "file_extension": ".py",
   "mimetype": "text/x-python",
   "name": "python",
   "nbconvert_exporter": "python",
   "pygments_lexer": "ipython3",
   "version": "3.9.13"
  }
 },
 "nbformat": 4,
 "nbformat_minor": 5
}
