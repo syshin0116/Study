{
 "cells": [
  {
   "cell_type": "code",
   "execution_count": 4,
   "id": "83152f55-5353-402f-8bcb-bfa9ff2a9f22",
   "metadata": {},
   "outputs": [
    {
     "name": "stdout",
     "output_type": "stream",
     "text": [
      "1. 덧셈\n",
      "2. 뺄셈\n",
      "3. 곱셈\n",
      "4. 나눗셈\n",
      "5. 몫\n",
      "6. 나머지\n"
     ]
    },
    {
     "name": "stdin",
     "output_type": "stream",
     "text": [
      "메뉴 선택(1~6):  1\n"
     ]
    },
    {
     "name": "stdout",
     "output_type": "stream",
     "text": [
      "2 + 10\n"
     ]
    },
    {
     "name": "stdin",
     "output_type": "stream",
     "text": [
      "정답을 입력하십시오 12\n"
     ]
    },
    {
     "name": "stdout",
     "output_type": "stream",
     "text": [
      "정답입니다.\n"
     ]
    }
   ],
   "source": [
    "import random\n",
    "\n",
    "number_1=random.randint(1,10)\n",
    "number_2=random.randint(1,10)\n",
    "\n",
    "print('1. 덧셈')\n",
    "print('2. 뺄셈')\n",
    "print('3. 곱셈')\n",
    "print('4. 나눗셈')\n",
    "print('5. 몫')\n",
    "print('6. 나머지')\n",
    "menu=int(input('메뉴 선택(1~6): '))\n",
    "\n",
    "\n",
    "if menu==1:\n",
    "    result=number_1+number_2\n",
    "    print(number_1, '+', number_2)\n",
    "    input_result=input('정답을 입력하십시오')\n",
    "\n",
    "elif menu==2:\n",
    "    result=number_1-number_2\n",
    "    print(number_1, '-', number_2)\n",
    "    input_result=input('정답을 입력하십시오')        \n",
    "elif menu==3:\n",
    "    result=number_1*number_2\n",
    "    print(number_1, '*', number_2)\n",
    "    input_result=input('정답을 입력하십시오')\n",
    "elif menu==4:\n",
    "    result=number_1/number_2\n",
    "    print(number_1, '/', number_2)\n",
    "    input_result=input('정답을 입력하십시오')\n",
    "elif menu==5:\n",
    "    result=number_1//number_2\n",
    "    print(number_1, '//', number_2)\n",
    "    input_result=input('정답을 입력하십시오')\n",
    "elif menu==5:\n",
    "    result=number_1%number_2\n",
    "    print(number_1, '%', number_2)\n",
    "    input_result=input('정답을 입력하십시오')\n",
    "    \n",
    "if int(input_result)==result:\n",
    "    print('정답입니다.')\n",
    "else:\n",
    "    print('정답이 아닙니다.')"
   ]
  },
  {
   "cell_type": "code",
   "execution_count": null,
   "id": "e2862ed9-fe2d-424e-9226-13fce32edd6d",
   "metadata": {},
   "outputs": [],
   "source": []
  }
 ],
 "metadata": {
  "kernelspec": {
   "display_name": "Python 3 (ipykernel)",
   "language": "python",
   "name": "python3"
  },
  "language_info": {
   "codemirror_mode": {
    "name": "ipython",
    "version": 3
   },
   "file_extension": ".py",
   "mimetype": "text/x-python",
   "name": "python",
   "nbconvert_exporter": "python",
   "pygments_lexer": "ipython3",
   "version": "3.9.10"
  }
 },
 "nbformat": 4,
 "nbformat_minor": 5
}
