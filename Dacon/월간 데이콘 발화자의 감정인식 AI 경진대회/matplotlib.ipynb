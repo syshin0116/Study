{
 "cells": [
  {
   "cell_type": "code",
   "execution_count": 5,
   "id": "455e17fd-87dd-4e1d-88f8-c3b2a0557a01",
   "metadata": {},
   "outputs": [
    {
     "name": "stdin",
     "output_type": "stream",
     "text": [
      "회차를 입력하세요 :  16\n"
     ]
    },
    {
     "name": "stdout",
     "output_type": "stream",
     "text": [
      "응시자:  1180\n",
      "합격자:  588\n",
      "합격률: 49.8\n"
     ]
    },
    {
     "data": {
      "image/png": "[encoded data removed]",
      "text/plain": [
       "<Figure size 432x288 with 1 Axes>"
      ]
     },
     "metadata": {},
     "output_type": "display_data"
    }
   ],
   "source": [
    "import csv\n",
    "f = open('HMIA-cnt.csv')\n",
    "data = csv.reader(f)\n",
    " \n",
    "size = []\n",
    " \n",
    "name = input('회차를 입력하세요 : ')\n",
    "m = 0\n",
    "f = 0\n",
    "total_cnt = 0\n",
    "succ_cnt = 0\n",
    "fail_cnt = 0\n",
    "\n",
    "for row in data :\n",
    "    if (name in row[2]) and (row[7] == '졸업예정') :\n",
    "        if row[4] == '남' :\n",
    "            m += 1\n",
    "        if row[4] == '여' :\n",
    "            f += 1\n",
    "    if (name in row[2]) and (row[8] == '합격') :\n",
    "        succ_cnt += 1\n",
    "    elif (name in row[2]) and (row[8] == '불합격'):\n",
    "        fail_cnt += 1\n",
    "\n",
    "total_cnt = succ_cnt + fail_cnt\n",
    "\n",
    "size.append(m)\n",
    "size.append(f)\n",
    "#print(size, cnt)\n",
    "print('응시자: ', total_cnt)\n",
    "print('합격자: ', succ_cnt)\n",
    "print('합격률:', round((succ_cnt / total_cnt * 100),1))\n",
    "\n",
    "import matplotlib.pyplot as plt\n",
    "\n",
    "plt.rc('font', family = 'AppleGothic')\n",
    "color = ['crimson', 'darkcyan']\n",
    "plt.axis('equal')\n",
    "plt.pie(size, labels=['남', '여'], autopct='%.1f%%', colors=color, startangle=90)\n",
    "plt.title('보건의료정보관리사 제'+ name + '회차 응시자수')\n",
    "plt.show()"
   ]
  },
  {
   "cell_type": "code",
   "execution_count": null,
   "id": "c913789e-0c3e-4a44-8af7-4b0f01cbbab6",
   "metadata": {},
   "outputs": [],
   "source": [
    "\n",
    "color = ['crimson', 'darkcyan']\n",
    "plt.axis('equal')\n",
    "plt.pie(size, labels=['남', '여'], autopct='%.1f%%', colors=color, startangle=90)\n",
    "plt.title('보건의료정보관리사 제'+ name + '회차 응시자수')\n",
    "plt.show()"
   ]
  },
  {
   "cell_type": "code",
   "execution_count": null,
   "id": "0b8e2713-5c79-4537-9dd5-933332b97b3a",
   "metadata": {},
   "outputs": [],
   "source": []
  }
 ],
 "metadata": {
  "kernelspec": {
   "display_name": "Python 3 (ipykernel)",
   "language": "python",
   "name": "python3"
  },
  "language_info": {
   "codemirror_mode": {
    "name": "ipython",
    "version": 3
   },
   "file_extension": ".py",
   "mimetype": "text/x-python",
   "name": "python",
   "nbconvert_exporter": "python",
   "pygments_lexer": "ipython3",
   "version": "3.9.10"
  }
 },
 "nbformat": 4,
 "nbformat_minor": 5
}
