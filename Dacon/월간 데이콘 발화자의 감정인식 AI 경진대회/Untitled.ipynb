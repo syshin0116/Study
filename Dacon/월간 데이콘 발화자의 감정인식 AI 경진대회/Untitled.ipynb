{
 "cells": [
  {
   "cell_type": "code",
   "execution_count": 2,
   "id": "be76180f-673e-4780-9364-19d2e63d4524",
   "metadata": {},
   "outputs": [],
   "source": [
    "import tkinter as tk\n"
   ]
  },
  {
   "cell_type": "code",
   "execution_count": 3,
   "id": "acee7a31-3537-46e6-ad35-f4c8f12d5a2c",
   "metadata": {},
   "outputs": [],
   "source": [
    "\n",
    "def toggle():\n",
    "\n",
    "    if toggle_btn.config('relief')[-1] == 'sunken':\n",
    "        toggle_btn.config(relief=\"raised\")\n",
    "    else:\n",
    "        toggle_btn.config(relief=\"sunken\")\n",
    "root = tk.Tk()\n",
    "\n",
    "toggle_btn = tk.Button(text=\"Toggle\", width=12, relief=\"raised\", command=toggle)\n",
    "toggle_btn.pack(pady=5)\n",
    "root.mainloop()\n"
   ]
  },
  {
   "cell_type": "code",
   "execution_count": 7,
   "id": "4a0224d0-28e3-45ab-852e-51e6b80d03a7",
   "metadata": {},
   "outputs": [],
   "source": [
    "a='253'"
   ]
  },
  {
   "cell_type": "code",
   "execution_count": 28,
   "id": "22aa352d-05e8-46da-9257-76976c0b6215",
   "metadata": {},
   "outputs": [
    {
     "name": "stdout",
     "output_type": "stream",
     "text": [
      "* *\n",
      "* * * * *\n",
      "* * *\n"
     ]
    }
   ],
   "source": [
    "for i in a:\n",
    "    print(('* '*int(i))[0:-1])"
   ]
  }
 ],
 "metadata": {
  "kernelspec": {
   "display_name": "Python 3 (ipykernel)",
   "language": "python",
   "name": "python3"
  },
  "language_info": {
   "codemirror_mode": {
    "name": "ipython",
    "version": 3
   },
   "file_extension": ".py",
   "mimetype": "text/x-python",
   "name": "python",
   "nbconvert_exporter": "python",
   "pygments_lexer": "ipython3",
   "version": "3.9.10"
  }
 },
 "nbformat": 4,
 "nbformat_minor": 5
}
