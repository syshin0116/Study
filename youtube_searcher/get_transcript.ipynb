{
 "cells": [
  {
   "cell_type": "code",
   "execution_count": 1,
   "metadata": {},
   "outputs": [
    {
     "data": {
      "text/plain": [
       "True"
      ]
     },
     "execution_count": 1,
     "metadata": {},
     "output_type": "execute_result"
    }
   ],
   "source": [
    "from dotenv import load_dotenv, find_dotenv\n",
    "load_dotenv(find_dotenv())"
   ]
  },
  {
   "cell_type": "code",
   "execution_count": 2,
   "metadata": {},
   "outputs": [],
   "source": [
    "URL = \"https://youtu.be/fzhkiqW4yTs?si=uuXDxsPIp6abu3a3\""
   ]
  },
  {
   "cell_type": "code",
   "execution_count": 3,
   "metadata": {},
   "outputs": [],
   "source": [
    "import re\n",
    "def extract_youtube_id(url: str) -> str:\n",
    "    \"\"\"\n",
    "    Extracts the YouTube video ID from a given URL.\n",
    "    Supports various YouTube URL formats.\n",
    "    \"\"\"\n",
    "    pattern = r\"(?:v=|be/)([a-zA-Z0-9_-]{11})\"\n",
    "    match = re.search(pattern, url)\n",
    "    return match.group(1) if match else None"
   ]
  },
  {
   "cell_type": "code",
   "execution_count": 4,
   "metadata": {},
   "outputs": [
    {
     "data": {
      "text/plain": [
       "'fzhkiqW4yTs'"
      ]
     },
     "execution_count": 4,
     "metadata": {},
     "output_type": "execute_result"
    }
   ],
   "source": [
    "extracted_url = extract_youtube_id(URL)\n",
    "extracted_url"
   ]
  },
  {
   "cell_type": "code",
   "execution_count": 5,
   "metadata": {},
   "outputs": [],
   "source": [
    "from youtube_transcript_api import YouTubeTranscriptApi\n",
    "extracted_transcript = YouTubeTranscriptApi.get_transcript(extracted_url, languages=['en', 'ko'])"
   ]
  },
  {
   "cell_type": "code",
   "execution_count": 6,
   "metadata": {},
   "outputs": [
    {
     "data": {
      "text/plain": [
       "[{'text': '뭉치와 상냥이 개팔', 'start': 1.839, 'duration': 6.561},\n",
       " {'text': '상팔 뭉치야이 클났다 있나 이제 아까', 'start': 4.839, 'duration': 6.361},\n",
       " {'text': '그 적당히 하라 했지 안다 그리고', 'start': 8.4, 'duration': 6.119},\n",
       " {'text': '사람들 마음을 훔쳐 가지고 아이고', 'start': 11.2, 'duration': 7.32},\n",
       " {'text': '진짜 요거 두부 사 놨나 안 사 놨나', 'start': 14.519, 'duration': 6.081},\n",
       " {'text': '한두 명 마음을 훔쳐야 그 41만', 'start': 18.52, 'duration': 4.64},\n",
       " {'text': '명을 훔치면 어떡해 아 나도 같이', 'start': 20.6, 'duration': 6.24},\n",
       " {'text': '오라 던데 아네 마음 훔치다고 아씨', 'start': 23.16, 'duration': 4.6},\n",
       " {'text': '아 그거', 'start': 26.84, 'duration': 4.16},\n",
       " {'text': '미술인데 괜찮아요 가세요', 'start': 27.76, 'duration': 5.759},\n",
       " {'text': '피해자가', 'start': 31.0, 'duration': 2.519},\n",
       " {'text': '없어요 무욕 물질이라 있을', 'start': 34.079, 'duration': 6.201},\n",
       " {'text': '수도 아 근데 혹시 그거 않아 뭐', 'start': 37.04, 'duration': 6.44},\n",
       " {'text': '남자들은 경찰서에 대한 불안감이', 'start': 40.28, 'duration': 6.52},\n",
       " {'text': '있거든 뭐 운전하는데 손에 땀이 왜', 'start': 43.48, 'duration': 7.919},\n",
       " {'text': '많이 나 뭉치야 가서 그 창고인 조사', 'start': 46.8, 'duration': 6.919},\n",
       " {'text': '잘 받아라 아빠는 걱정할게 없는데', 'start': 51.399, 'duration': 3.401},\n",
       " {'text': '무협이', 'start': 53.719, 'duration': 3.761},\n",
       " {'text': '가지고자 오늘 다가지 잘 갔다 오자', 'start': 54.8, 'duration': 7.559},\n",
       " {'text': '어 처를 처 있나 어', 'start': 57.48, 'duration': 9.16},\n",
       " {'text': '긴장되네 뭉치야 너만 갔다 오나 아빠', 'start': 62.359, 'duration': 5.001},\n",
       " {'text': '안', 'start': 66.64, 'duration': 5.28},\n",
       " {'text': '되겠다 몰랐는데 뭉치야 한영해 아', 'start': 67.36, 'duration': 6.72},\n",
       " {'text': '이런', 'start': 71.92, 'duration': 5.16},\n",
       " {'text': '영광이', 'start': 74.08, 'duration': 3.0},\n",
       " {'text': '안녕하십니까 실물로 보시면 좀 더', 'start': 78.84, 'duration': 5.16},\n",
       " {'text': '큽니다도 찮 가', 'start': 88.52, 'duration': 3.639},\n",
       " {'text': '추 지금 살이 좀 쪄 가지고 한 33', 'start': 94.119, 'duration': 5.64},\n",
       " {'text': '정도 와 새', 'start': 97.24, 'duration': 5.839},\n",
       " {'text': '안녕 개 두 마리', 'start': 99.759, 'duration': 7.96},\n",
       " {'text': '하고요 안 경', 'start': 103.079, 'duration': 7.72},\n",
       " {'text': '잘 무', 'start': 107.719, 'duration': 7.561},\n",
       " {'text': '봐야지 아 진짜요', 'start': 110.799, 'duration': 9.521},\n",
       " {'text': '무네 수장님 수장님 아 수장님 수', 'start': 115.28, 'duration': 8.759},\n",
       " {'text': '기다고 있겠다', 'start': 120.32, 'duration': 3.719},\n",
       " {'text': '내는 내 있다 다', 'start': 124.119, 'duration': 4.92},\n",
       " {'text': '감사니다 야 다 올다', 'start': 130.319, 'duration': 4.56},\n",
       " {'text': '[음악]', 'start': 132.49, 'duration': 7.07},\n",
       " {'text': '많이 잘들어야 다 찍고', 'start': 134.879, 'duration': 4.681},\n",
       " {'text': '시작할게요 아 원래 맨날 잘해', 'start': 145.04, 'duration': 6.559},\n",
       " {'text': '먹어여 있네 이거 봐야지 어 좋아', 'start': 148.519, 'duration': 7.641},\n",
       " {'text': '잘가 야 어 품 잘잤는데 홍보적인', 'start': 151.599, 'duration': 7.201},\n",
       " {'text': '내용은 괜찮은 거 같거든요 그런데', 'start': 156.16, 'duration': 4.56},\n",
       " {'text': '이제 이걸 좀 자연스럽게 녹여야', 'start': 158.8, 'duration': 4.519},\n",
       " {'text': '되는데 뭐 준비된 멘트가 있어 가지고', 'start': 160.72, 'duration': 5.36},\n",
       " {'text': '막 이걸 치면 막 막 괜히 어색할 거', 'start': 163.319, 'duration': 5.121},\n",
       " {'text': '같아서 짧게 짧게 나눠서 이렇게', 'start': 166.08, 'duration': 6.0},\n",
       " {'text': '촬영하는 쪽으로 생각을 했고 숏으로', 'start': 168.44, 'duration': 5.96},\n",
       " {'text': '이제 내용은 뭉치랑 제가 이제', 'start': 172.08, 'duration': 5.6},\n",
       " {'text': '야바위를 하면서 내기를 하고 있고 뭐', 'start': 174.4, 'duration': 4.44},\n",
       " {'text': '이런 식으로', 'start': 177.68, 'duration': 3.68},\n",
       " {'text': '하면서 마지막에는이 다 같이 뭐', 'start': 178.84, 'duration': 4.759},\n",
       " {'text': '이렇게 도박 근절 메시지 뭐 이렇게', 'start': 181.36, 'duration': 4.28},\n",
       " {'text': '뭐 문구 같은 거 있지 않습니까네', 'start': 183.599, 'duration': 3.881},\n",
       " {'text': '이거 야', 'start': 185.64, 'duration': 4.84},\n",
       " {'text': '민', 'start': 187.48, 'duration': 3.0},\n",
       " {'text': '아 와', 'start': 191.0, 'duration': 6.319},\n",
       " {'text': '누 봐 어디 있는지 봐봐 여기 있어', 'start': 194.12, 'duration': 6.759},\n",
       " {'text': '얘들은 가라 얘들은 가라 얘들은 가라', 'start': 197.319, 'duration': 7.28},\n",
       " {'text': '어 양 치 어디 있어 아빠도겠다 치', 'start': 200.879, 'duration': 5.601},\n",
       " {'text': '손으로 해야돼', 'start': 204.599, 'duration': 5.441},\n",
       " {'text': '손 어', 'start': 206.48, 'duration': 7.0},\n",
       " {'text': '뭐고 치야네 개나 걸 거야이 정도는', 'start': 210.04, 'duration': 6.08},\n",
       " {'text': '게임이 아닌 거 같은데 딱 마지막', 'start': 213.48, 'duration': 6.36},\n",
       " {'text': '파야 되라면 알겠지 아 시때 판이', 'start': 216.12, 'duration': 6.24},\n",
       " {'text': '너무 커지는데 제가 이제 주판이', 'start': 219.84, 'duration': 5.44},\n",
       " {'text': '크네요 예 이런지 하고 아 우리 같이', 'start': 222.36, 'duration': 8.239},\n",
       " {'text': '가시다 예 아 저 추 크네', 'start': 225.28, 'duration': 6.92},\n",
       " {'text': '씨습니다', 'start': 230.599, 'duration': 5.92},\n",
       " {'text': '완 와 뭉치도 연기 좋네 이거는', 'start': 232.2, 'duration': 8.16},\n",
       " {'text': '진심을다는 연기다', 'start': 236.519, 'duration': 3.841},\n",
       " {'text': '어차피 지금 아 수가 방 가지고', 'start': 240.599, 'duration': 5.0},\n",
       " {'text': '있니까 수 있 그', 'start': 242.04, 'duration': 7.279},\n",
       " {'text': '수 열쇠 열쇠도', 'start': 245.599, 'duration': 6.881},\n",
       " {'text': '있습니다 어릴 때', 'start': 249.319, 'duration': 6.161},\n",
       " {'text': '상상만', 'start': 252.48, 'duration': 3.0},\n",
       " {'text': '인상해 여기 들어갈까 어 아 어어 자', 'start': 256.72, 'duration': 6.84},\n",
       " {'text': '뭉 가시다', 'start': 260.239, 'duration': 6.361},\n",
       " {'text': '앞으로가 아 불가 아 오늘 뭐 많이', 'start': 263.56, 'duration': 7.0},\n",
       " {'text': '하시는 기분이 좋고', 'start': 266.6, 'duration': 3.96},\n",
       " {'text': '와 차가 진짜 땀이 나네', 'start': 272.32, 'duration': 3.76},\n",
       " {'text': '땀이나 진짜 메이킹 필름 있네', 'start': 276.759, 'duration': 6.081},\n",
       " {'text': '이렇게는 조사 받을게 너무 많다 어', 'start': 279.96, 'duration': 5.76},\n",
       " {'text': '사람 마음을 훔친 제부터', 'start': 282.84, 'duration': 6.52},\n",
       " {'text': '해가지고 성냥이 바훔 친제', 'start': 285.72, 'duration': 8.319},\n",
       " {'text': '어 되도다 대도 대사 해야되 맞죠이', 'start': 289.36, 'duration': 7.0},\n",
       " {'text': '어떻게 하는게 나을까 이렇게 하고', 'start': 294.039, 'duration': 4.961},\n",
       " {'text': '이제 선생님이이 추루 열개 다 뭡니까', 'start': 296.36, 'duration': 7.6},\n",
       " {'text': '하면 아 치가 따가지고', 'start': 299.0, 'duration': 4.96},\n",
       " {'text': '이식으로 사진 마음대로 찍으셔야', 'start': 307.72, 'duration': 5.759},\n",
       " {'text': '됩니다 감사합니다', 'start': 309.84, 'duration': 3.639},\n",
       " {'text': '여기이는 게임이 아니고 그 소박', 'start': 314.0, 'duration': 6.0},\n",
       " {'text': '세입니다 동 아 아빠는 만 그 했잖아', 'start': 316.16, 'duration': 7.879},\n",
       " {'text': '한개도 안 됩니다 아', 'start': 320.0, 'duration': 4.039},\n",
       " {'text': '치야이났다 무시야 뭐하노 너', 'start': 324.52, 'duration': 5.959},\n",
       " {'text': '경찰서에서도 이하면잖아', 'start': 327.0, 'duration': 5.52},\n",
       " {'text': '어 잡혀', 'start': 330.479, 'duration': 4.881},\n",
       " {'text': '오데 개가 막 난리가났다 난리가 났어', 'start': 332.52, 'duration': 7.519},\n",
       " {'text': '람 너 좋아 야 뭉치야 어 경찰부', 'start': 335.36, 'duration': 6.52},\n",
       " {'text': '앞에서 진짜 아이고 못하는게 없다', 'start': 340.039, 'duration': 5.361},\n",
       " {'text': '너무 많은 씨 이수 전단지나', 'start': 341.88, 'duration': 3.52},\n",
       " {'text': '돌리고 그 만다 들고 더 갖고', 'start': 346.84, 'duration': 6.88},\n",
       " {'text': '경찰서에서 흘리니 진짜 진짜 그 약간', 'start': 350.039, 'duration': 6.681},\n",
       " {'text': '정정 느껴졌나 그 다들 어 다들지', 'start': 353.72, 'duration': 6.24},\n",
       " {'text': '다들 어 어 엄마 일수에 물어봐지', 'start': 356.72, 'duration': 6.72},\n",
       " {'text': '뭉치 일수 할까 도박은 게인이 아니라', 'start': 359.96, 'duration': 7.359},\n",
       " {'text': '범죄입니다 이렇게 할까요', 'start': 363.44, 'duration': 5.72},\n",
       " {'text': '범죄입니다입니다', 'start': 367.319, 'duration': 4.761},\n",
       " {'text': '뭔가 아 예예 엑 하죠 하나 둘 셋', 'start': 369.16, 'duration': 5.0},\n",
       " {'text': '하시면은 예 해주시면 될 것 같습니다', 'start': 372.08, 'duration': 6.959},\n",
       " {'text': '청소 여러분 도박은 게임이 아니라', 'start': 374.16, 'duration': 8.28},\n",
       " {'text': '범죄입니다 내가 이야기 청소원 여러분', 'start': 379.039, 'duration': 6.521},\n",
       " {'text': '도박은 게임이', 'start': 382.44, 'duration': 6.12},\n",
       " {'text': '아니라 아 근데 잘 어울려', 'start': 385.56, 'duration': 5.56},\n",
       " {'text': '뭉치치 왜 잘 어울리니 아빠는 잡히는', 'start': 388.56, 'duration': 5.56},\n",
       " {'text': '사람이 잘 어울리는데', 'start': 391.12, 'duration': 3.0},\n",
       " {'text': '어지 아 오늘 수고했습니다 시', 'start': 400.44, 'duration': 5.84},\n",
       " {'text': '인사하고', 'start': 403.84, 'duration': 2.44},\n",
       " {'text': '[박수]', 'start': 407.1, 'duration': 4.939},\n",
       " {'text': '사 나한테도', 'start': 408.599, 'duration': 3.44},\n",
       " {'text': '와줘', 'start': 414.039, 'duration': 6.201},\n",
       " {'text': '고생했어 했 했습니다 맙습니다', 'start': 416.12, 'duration': 7.24},\n",
       " {'text': '감사합니다 아', 'start': 420.24, 'duration': 3.12},\n",
       " {'text': '예예예습니다 치야 큰 뻔했다 아', 'start': 424.56, 'duration': 5.52},\n",
       " {'text': '아빠는 혐이 없은 만나 그 뭐했니', 'start': 427.68, 'duration': 3.639},\n",
       " {'text': '무혐의 아', 'start': 430.08, 'duration': 4.92},\n",
       " {'text': '무혐 오늘 저녁에 두부 반찬 먹자', 'start': 431.319, 'duration': 8.56},\n",
       " {'text': '국상 콩으로 사나 아 야바이 게임이', 'start': 435.0, 'duration': 9.44},\n",
       " {'text': '아니였네 이제 야바이 조심해야겠다', 'start': 439.879, 'duration': 4.561},\n",
       " {'text': '[음악]', 'start': 444.97, 'duration': 3.089},\n",
       " {'text': '치야 n', 'start': 448.52, 'duration': 3.959}]"
      ]
     },
     "execution_count": 6,
     "metadata": {},
     "output_type": "execute_result"
    }
   ],
   "source": [
    "extracted_transcript"
   ]
  },
  {
   "cell_type": "code",
   "execution_count": 7,
   "metadata": {},
   "outputs": [],
   "source": [
    "from langchain_openai import ChatOpenAI\n",
    "llm = ChatOpenAI(model='gpt-4o')"
   ]
  },
  {
   "cell_type": "code",
   "execution_count": null,
   "metadata": {},
   "outputs": [],
   "source": []
  }
 ],
 "metadata": {
  "kernelspec": {
   "display_name": "youtube-searcher-Ud_v7a-T-py3.11",
   "language": "python",
   "name": "python3"
  },
  "language_info": {
   "codemirror_mode": {
    "name": "ipython",
    "version": 3
   },
   "file_extension": ".py",
   "mimetype": "text/x-python",
   "name": "python",
   "nbconvert_exporter": "python",
   "pygments_lexer": "ipython3",
   "version": "3.11.5"
  }
 },
 "nbformat": 4,
 "nbformat_minor": 2
}
