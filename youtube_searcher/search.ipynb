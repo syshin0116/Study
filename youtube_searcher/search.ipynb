{
 "cells": [
  {
   "cell_type": "code",
   "execution_count": 14,
   "metadata": {},
   "outputs": [],
   "source": [
    "import requests\n",
    "from dotenv import find_dotenv, load_dotenv\n",
    "\n",
    "load_dotenv(find_dotenv())\n",
    "import os"
   ]
  },
  {
   "cell_type": "code",
   "execution_count": null,
   "metadata": {},
   "outputs": [],
   "source": [
    "API_KEY = os.getenv(\"GOOGLE_API_KEY\")"
   ]
  },
  {
   "cell_type": "code",
   "execution_count": null,
   "metadata": {},
   "outputs": [
    {
     "name": "stdout",
     "output_type": "stream",
     "text": [
      "제목: 최신 파이썬 코딩 무료 강의 | 2024 점프 투 파이썬 통합본\n",
      "채널: 조코딩 JoCoding\n",
      "게시 날짜: 2024-07-05T13:00:44Z\n",
      "링크: https://www.youtube.com/watch?v=ftQZo7XaTOA\n",
      "--------------------------------------------------\n",
      "제목: 파이썬 기초 강의 3시간 완성\n",
      "채널: 프로그래머 김플 스튜디오\n",
      "게시 날짜: 2023-04-20T08:59:51Z\n",
      "링크: https://www.youtube.com/watch?v=PMTQNEkYNa0\n",
      "--------------------------------------------------\n",
      "제목: 파이썬 무료 기초 강의 - 1강 파이썬이란 무엇인가?\n",
      "채널: 조코딩 JoCoding\n",
      "게시 날짜: 2020-06-30T12:39:21Z\n",
      "링크: https://www.youtube.com/watch?v=yytWGELNeOI\n",
      "--------------------------------------------------\n",
      "제목: 파이썬 코딩 무료 강의 (기본편) - 6시간 뒤면 여러분도 개발자가 될 수 있어요 [나도코딩]\n",
      "채널: 나도코딩\n",
      "게시 날짜: 2020-02-20T11:48:36Z\n",
      "링크: https://www.youtube.com/watch?v=kWiCuklohdY\n",
      "--------------------------------------------------\n",
      "제목: 파이썬 왕초보 기초 강의 - 파이썬 프로그래밍의 기초, 자료형(1)\n",
      "채널: 조코딩 JoCoding\n",
      "게시 날짜: 2020-07-13T11:45:00Z\n",
      "링크: https://www.youtube.com/watch?v=3R6vFdb7YI4\n",
      "--------------------------------------------------\n"
     ]
    }
   ],
   "source": [
    "# 검색할 키워드 설정\n",
    "query = \"파이썬 강의\"\n",
    "\n",
    "# API 요청 URL 설정\n",
    "url = \"https://www.googleapis.com/youtube/v3/search\"\n",
    "\n",
    "# 요청 파라미터 설정\n",
    "params = {\n",
    "    \"part\": \"snippet\",\n",
    "    \"q\": query,\n",
    "    \"maxResults\": 5,  # 최대 5개의 결과 가져오기\n",
    "    \"type\": \"video\",\n",
    "    \"order\": \"relevance\",  # 관련성 높은 순서로 정렬\n",
    "    \"key\": API_KEY,\n",
    "}\n",
    "\n",
    "# API 요청 보내기\n",
    "response = requests.get(url, params=params)\n",
    "\n",
    "# 응답 결과 확인\n",
    "if response.status_code == 200:\n",
    "    data = response.json()\n",
    "\n",
    "    for item in data.get(\"items\", []):\n",
    "        video_id = item[\"id\"][\"videoId\"]\n",
    "        title = item[\"snippet\"][\"title\"]\n",
    "        channel = item[\"snippet\"][\"channelTitle\"]\n",
    "        publish_date = item[\"snippet\"][\"publishedAt\"]\n",
    "        video_url = f\"https://www.youtube.com/watch?v={video_id}\"\n",
    "\n",
    "        print(f\"제목: {title}\")\n",
    "        print(f\"채널: {channel}\")\n",
    "        print(f\"게시 날짜: {publish_date}\")\n",
    "        print(f\"링크: {video_url}\")\n",
    "        print(\"-\" * 50)\n",
    "else:\n",
    "    print(f\"오류 발생: {response.status_code}, {response.text}\")"
   ]
  },
  {
   "cell_type": "code",
   "execution_count": null,
   "metadata": {},
   "outputs": [],
   "source": []
  }
 ],
 "metadata": {
  "kernelspec": {
   "display_name": "youtube-searcher-Ud_v7a-T-py3.11",
   "language": "python",
   "name": "python3"
  },
  "language_info": {
   "codemirror_mode": {
    "name": "ipython",
    "version": 3
   },
   "file_extension": ".py",
   "mimetype": "text/x-python",
   "name": "python",
   "nbconvert_exporter": "python",
   "pygments_lexer": "ipython3",
   "version": "3.11.5"
  }
 },
 "nbformat": 4,
 "nbformat_minor": 2
}
