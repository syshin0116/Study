{
 "cells": [
  {
   "cell_type": "markdown",
   "id": "94e92ad7",
   "metadata": {},
   "source": [
    "## 데이터\n",
    "\n",
    "- [다운로드 링크](https://drive.google.com/file/d/1QlhGFIFwEkNEjQGOvV_hQe4bnOLDJwCR/view)\n",
    "- 출처: [Jamin Ball Blog](https://cloudedjudgement.substack.com/p/clouded-judgement-111023).\n"
   ]
  },
  {
   "cell_type": "markdown",
   "id": "4afba6c5",
   "metadata": {},
   "source": [
    "## 패키지\n",
    "\n",
    "`unstructured`를 사용하기 위해서는 시스템에 `poppler`([설치 지침](https://pdf2image.readthedocs.io/en/latest/installation.html))와 `tesseract`([설치 지침](https://tesseract-ocr.github.io/tessdoc/Installation.html))가 필요합니다.\n",
    "\n",
    "[참고] `옵션 2`는 다중 모달 LLM을 답변 합성에 사용할 수 없는 경우(예: 비용 등)에 적합합니다.\n"
   ]
  },
  {
   "cell_type": "code",
   "execution_count": 1,
   "id": "0778efcb",
   "metadata": {},
   "outputs": [],
   "source": [
    "# ! pip install -U langchain openai chromadb langchain-experimental # 최신 버전이 필요합니다 (멀티 모달을 위해)"
   ]
  },
  {
   "cell_type": "code",
   "execution_count": null,
   "id": "8ac6fe45",
   "metadata": {},
   "outputs": [],
   "source": [
    "# ! pip install \"unstructured[all-docs]\" pillow pydantic lxml pillow matplotlib chromadb tiktoken"
   ]
  },
  {
   "cell_type": "markdown",
   "id": "3420a0c1",
   "metadata": {},
   "source": [
    "## 데이터 로딩\n",
    "\n",
    "### PDF 텍스트와 이미지 분할\n",
    "\n",
    "[Unstructured](https://unstructured-io.github.io/unstructured/introduction.html#key-concepts)에서 제공하는 `partition_pdf`를 사용하여 텍스트와 이미지를 추출할 수 있습니다.\n",
    "\n",
    "이미지를 추출하기 위해 다음을 사용합니다\n",
    "\n",
    "`extract_images_in_pdf=True`\n",
    "\n",
    "텍스트만 처리하려는 경우.\n",
    "\n",
    "`extract_images_in_pdf=False`\n"
   ]
  },
  {
   "cell_type": "code",
   "execution_count": 1,
   "id": "8be7800f",
   "metadata": {},
   "outputs": [],
   "source": [
    "import os\n",
    "from dotenv import load_dotenv, find_dotenv\n",
    "\n",
    "load_dotenv(find_dotenv())\n",
    "\n",
    "os.environ[\"OPENAI_API_KEY\"] = os.getenv(\"KADAP_OPENAI_API_KEY\")"
   ]
  },
  {
   "cell_type": "code",
   "execution_count": 2,
   "id": "3ef44e3d",
   "metadata": {},
   "outputs": [],
   "source": [
    "# 파일 경로\n",
    "fpath = \"./data\"\n",
    "fname = \"모빌리티 인사이트_23년 4월호_최종_web.pdf\""
   ]
  },
  {
   "cell_type": "code",
   "execution_count": 8,
   "id": "6154cf00",
   "metadata": {},
   "outputs": [
    {
     "name": "stderr",
     "output_type": "stream",
     "text": [
      "Some weights of the model checkpoint at microsoft/table-transformer-structure-recognition were not used when initializing TableTransformerForObjectDetection: ['model.backbone.conv_encoder.model.layer2.0.downsample.1.num_batches_tracked', 'model.backbone.conv_encoder.model.layer3.0.downsample.1.num_batches_tracked', 'model.backbone.conv_encoder.model.layer4.0.downsample.1.num_batches_tracked']\n",
      "- This IS expected if you are initializing TableTransformerForObjectDetection from the checkpoint of a model trained on another task or with another architecture (e.g. initializing a BertForSequenceClassification model from a BertForPreTraining model).\n",
      "- This IS NOT expected if you are initializing TableTransformerForObjectDetection from the checkpoint of a model that you expect to be exactly identical (initializing a BertForSequenceClassification model from a BertForSequenceClassification model).\n"
     ]
    }
   ],
   "source": [
    "import os\n",
    "from langchain_text_splitters import CharacterTextSplitter\n",
    "from unstructured.partition.pdf import partition_pdf\n",
    "\n",
    "# PDF에서 요소 추출\n",
    "\n",
    "\n",
    "def extract_pdf_elements(path, fname):\n",
    "    \"\"\"\n",
    "    PDF 파일에서 이미지, 테이블, 그리고 텍스트 조각을 추출합니다.\n",
    "    path: 이미지(.jpg)를 저장할 파일 경로\n",
    "    fname: 파일 이름\n",
    "    \"\"\"\n",
    "    return partition_pdf(\n",
    "        filename=os.path.join(path, fname),\n",
    "        extract_images_in_pdf=True,  # PDF 내 이미지 추출 활성화\n",
    "        infer_table_structure=True,  # 테이블 구조 추론 활성화\n",
    "        chunking_strategy=\"by_title\",  # 제목별로 텍스트 조각화\n",
    "        max_characters=4000,  # 최대 문자 수\n",
    "        new_after_n_chars=3800,  # 이 문자 수 이후에 새로운 조각 생성\n",
    "        combine_text_under_n_chars=2000,  # 이 문자 수 이하의 텍스트는 결합\n",
    "        image_output_dir_path=path,  # 이미지 출력 디렉토리 경로\n",
    "    )\n",
    "\n",
    "\n",
    "# 요소를 유형별로 분류\n",
    "\n",
    "\n",
    "def categorize_elements(raw_pdf_elements):\n",
    "    \"\"\"\n",
    "    PDF에서 추출된 요소를 테이블과 텍스트로 분류합니다.\n",
    "    raw_pdf_elements: unstructured.documents.elements의 리스트\n",
    "    \"\"\"\n",
    "    tables = []  # 테이블 저장 리스트\n",
    "    texts = []  # 텍스트 저장 리스트\n",
    "    for element in raw_pdf_elements:\n",
    "        if \"unstructured.documents.elements.Table\" in str(type(element)):\n",
    "            tables.append(str(element))  # 테이블 요소 추가\n",
    "        elif \"unstructured.documents.elements.CompositeElement\" in str(type(element)):\n",
    "            texts.append(str(element))  # 텍스트 요소 추가\n",
    "    return texts, tables\n",
    "\n",
    "\n",
    "# 요소 추출\n",
    "raw_pdf_elements = extract_pdf_elements(fpath, fname)\n",
    "\n",
    "# 텍스트, 테이블 추출\n",
    "texts, tables = categorize_elements(raw_pdf_elements)\n",
    "\n",
    "# 선택사항: 텍스트에 대해 특정 토큰 크기 적용\n",
    "text_splitter = CharacterTextSplitter.from_tiktoken_encoder(\n",
    "    chunk_size=4000, chunk_overlap=0  # 텍스트를 4000 토큰 크기로 분할, 중복 없음\n",
    ")\n",
    "joined_texts = \" \".join(texts)  # 텍스트 결합\n",
    "texts_4k_token = text_splitter.split_text(joined_texts)  # 분할 실행"
   ]
  },
  {
   "cell_type": "code",
   "execution_count": 14,
   "id": "04d5d147",
   "metadata": {},
   "outputs": [
    {
     "data": {
      "text/plain": [
       "47"
      ]
     },
     "execution_count": 14,
     "metadata": {},
     "output_type": "execute_result"
    }
   ],
   "source": [
    "len(texts_4k_token)"
   ]
  },
  {
   "cell_type": "markdown",
   "id": "5bf5f247",
   "metadata": {},
   "source": [
    "## 멀티-벡터 검색기\n",
    "\n",
    "[multi-vector-retriever](https://python.langchain.com/docs/modules/data_connection/retrievers/multi_vector#summary)를 사용하여 이미지(그리고/또는 텍스트, 테이블) 요약을 색인화하지만, 원본 이미지(원본 텍스트나 테이블과 함께)를 검색합니다.\n",
    "\n",
    "### 텍스트 및 테이블 요약\n",
    "\n",
    "테이블과 선택적으로 텍스트 요약을 생성하기 위해 `GPT-4-turbo`를 사용할 것입니다.\n",
    "\n",
    "큰 청크 크기를 사용하는 경우(예를 들어, 위에서 설정한 것처럼 4k 토큰 청크를 사용) 텍스트 요약이 권장됩니다.\n",
    "\n",
    "요약은 원본 테이블 및/또는 원본 텍스트 청크를 검색하는 데 사용됩니다.\n"
   ]
  },
  {
   "cell_type": "code",
   "execution_count": 36,
   "id": "b389203c",
   "metadata": {},
   "outputs": [],
   "source": [
    "from langchain_core.output_parsers import StrOutputParser\n",
    "from langchain_core.prompts import ChatPromptTemplate\n",
    "from langchain_openai import ChatOpenAI\n",
    "\n",
    "# 텍스트 요소의 요약 생성\n",
    "\n",
    "\n",
    "def generate_text_summaries(texts, tables, summarize_texts=False):\n",
    "    \"\"\"\n",
    "    텍스트 요소 요약\n",
    "    texts: 문자열 리스트\n",
    "    tables: 문자열 리스트\n",
    "    summarize_texts: 텍스트 요약 여부를 결정. True/False\n",
    "    \"\"\"\n",
    "\n",
    "    # 프롬프트 설정\n",
    "    prompt_text = \"\"\"You are an assistant tasked with summarizing tables and text for retrieval. \\\n",
    "    These summaries will be embedded and used to retrieve the raw text or table elements. \\\n",
    "    Give a concise summary of the table or text that is well optimized for retrieval. Use Korean. Table or text: {element} \"\"\"\n",
    "    prompt = ChatPromptTemplate.from_template(prompt_text)\n",
    "\n",
    "    # 텍스트 요약 체인\n",
    "    model = ChatOpenAI(temperature=0, model=\"gpt-4o\")\n",
    "    summarize_chain = {\"element\": lambda x: x} | prompt | model | StrOutputParser()\n",
    "\n",
    "    # 요약을 위한 빈 리스트 초기화\n",
    "    text_summaries = []\n",
    "    table_summaries = []\n",
    "\n",
    "    # 제공된 텍스트에 대해 요약이 요청되었을 경우 적용\n",
    "    if texts and summarize_texts:\n",
    "        text_summaries = summarize_chain.batch(texts, {\"max_concurrency\": 5})\n",
    "    elif texts:\n",
    "        text_summaries = texts\n",
    "\n",
    "    # 제공된 테이블에 적용\n",
    "    if tables:\n",
    "        table_summaries = summarize_chain.batch(tables, {\"max_concurrency\": 5})\n",
    "\n",
    "    return text_summaries, table_summaries\n",
    "\n",
    "\n",
    "# 텍스트, 테이블 요약 가져오기\n",
    "text_summaries, table_summaries = generate_text_summaries(\n",
    "    texts_4k_token, tables, summarize_texts=True\n",
    ")"
   ]
  },
  {
   "cell_type": "code",
   "execution_count": 20,
   "id": "40f4a7c4",
   "metadata": {},
   "outputs": [
    {
     "data": {
      "text/plain": [
       "['MOBILITY INSIGHT \\n\\nCOVER STORY\\n\\n글로벌 친환경차 전기차 올인 VS 하이브리드 스페셜 컬럼 소니-혼다 모빌리티의 전기차 아필라에서 배워야 할 것들 정책동향 일본의 미래차 시장과 모빌리티 정책 동향 트렌드 리뷰 일본 자동차 시장의 대표, 하이브리드 1위 토요타의 미래 생생 인터뷰 국산화 그 이상의 가치를 만들어 온 40년, 인지컨트롤스\\n\\n생생 인터뷰  국산화 그 이상의 가치를 만들어 온 40년, 인지컨트롤스 \\n\\nMOBILITY INSIGHT 2023 04월호\\n\\n정책동향 트렌드 리뷰 허세진 한국생산성본부 선임전문위원 이태성 머니투데이 자동차팀장\\n\\n스페셜 컬럼 박정규 한양대학교 미래자동차공학과 겸임교수\\n\\nCOVER STORY\\n\\nC O N T E N T S\\n\\n스페셜 컬럼 22 소니-혼다 모빌리티의 전기차 아필라에서 배워야 할 것들 박정규 한양대학교 미래자동차공학과 겸임교수\\n\\n산업동향 ① 2022년 글로벌 전기차 판매 실적 분석 양재완 한국자동차연구원 산업분석실 책임연구원\\n\\n50\\n\\n글로벌 친환경차 전기차 올인 VS 하이브리드\\n\\n산업동향 ② 53 전기차 급속충전 규격 표준화 동향과 시사점 이서현 한국자동차연구원 산업분석실 선임연구원\\n\\n정책동향 28 일본의 미래차 시장과 모빌리티 정책 동향 허세진 한국생산성본부 선임전문위원\\n\\n하이브리드 일본의 역주행? 08\\n\\n트렌드 리뷰 32 일본 자동차 시장의 대표 하이브리드 1위 토요타의 미래 이태성 머니투데이 자동차팀장\\n\\n산업동향 ③ Tesla의 48V 아키텍처 도입의 의미 이호중 한국자동차연구원 산업분석실 책임연구원\\n\\n56\\n\\n친환경 미래차를 위한 국내 자동차 산업의 선택 10\\n\\n글로벌 친환경 미래차를 향한 전략 19\\n\\n테크리뷰 36 자동차 강국 일본 자동차 산업의 자율주행 기술현황과 MaaS 박선홍 한국자동차연구원 주행제어기술부문 책임연구원\\n\\n산업동향 ④ 58 전기차 가격경쟁 시대의 시작 임현진 한국자동차연구원 산업분석실 선임연구원\\n\\n모빌리티 인사이트 4월호\\n\\n생생 인터뷰 44 국산화 그 이상의 가치를 만들어 온 40년, 인지컨트롤스 김홍집 인지컨트롤스 대표\\n\\n우수기술 소개 60 한국자동차연구원 우수기술 소개\\n\\nwww.katech.re.kr\\n\\n발행인 : 나 승 식 발행처 : 한국자동차연구원 충청남도 천안시 동남구 풍세면 풍세로 303 TEL_041. 559. 3114 / FAX_041. 559. 3068 편집/디자인 : 브랜드캐스트(주) TEL_02. 2661. 6786 ※ 본 「모빌리티 인사이트」에 실린 보고서는 연구진이나 집필자의 개인적인 견해이므로\\n\\n이슈 & 키워드 전기차 및 하이브리드 주요 키워드\\n\\n64\\n\\n독자코너 66 모빌리티 인사이트 나침반\\n\\n한국자동차연구원의 공식적인 의견이 아님을 말씀드립니다.\\n\\nCopyright(c) 2023 KATECH(Korea Automotive Technology Institute) All right reserved.\\n\\n2\\n\\n3\\n\\nI 커버스토리 I\\n\\nMOBILITY INSIGHT\\n\\n글로벌 친환경차 전기차 올인 VS 하이브리드\\n\\nSECTION 1 하이브리드 일본의 역주행? SECTION 2 친환경 미래차를 위한 국내 자동차 산업의 선택 SECTION 3 글로벌 친환경 미래차를 향한 전략\\n\\n박종일 현대자동차 책임연구원\\n\\n이상택 한국전자기술연구원 센터장\\n\\n허진 좌장 인천대학교 교수\\n\\n자동차 산업 전환기에 전동화는 필연적인 대세로 받아들여지고 있고 지구 온난화로 인한 환경 문제 까지 더해지면서 자동차 산업을 향한 친환경 압박은 전방위적으로 높아지고 있다. 그러나 우리 자동 차 산업의 친환경 방향성을 쉽게 결론내리기 어렵다. 특히 수출 경제가 무엇보다 중요한 국내 자동차 산업의 현실은 여전히 내연기관차와 하이브리드차에 대한 시장 수요가 많고 기업 매출 기여도 역시 높다. 또 전기차 시장에서 테슬라와 중국의 전기차 기업과 비교하면 시장 점유율을 확보해 나가는 것 역시 수월하지 않다.\\n\\n모빌리티 인사이트 4월호에서는 글로벌 친환경차의 방향성에 대해 논의하고자 한다. 이는 급변하는 자동차 산업 전환기에 국내 자동차 산업의 명확한 방향성은 완성차는 물론 국내 자동차 부품 기업과 생태계 더 나아가 우리 경제에 중요한 영향을 미치기 때문이다. 특히 내연기관차 왕국으로 불리는 일본이 최근 하이브리드의 일변도에서 전기차 전환의 움직임이 나타나고 있어 일본 자동차 산업의 트렌드를 짚어보고 앞으로 국내 자동차 산업이 나아가야 할 친환경차의 방향성을 점검하고자 한다.\\n\\n원장혁 한국자동차연구원 책임연구원\\n\\n조철 산업연구원 선임연구위원\\n\\n우영민 한국에너지기술연구원 박사\\n\\n5 5\\n\\n4 4 4',\n",
       " 'I 권두언 I\\n\\nMOBILITY INSIGHT\\n\\n글로벌  친환경 미래차의 방향성 전기차인가? 하이브리드인가? \\n\\n후발주자에서 리더로 한국 자동차 산업의 미래\\n\\n2022년 현대자동차그룹이 글로벌 자동차 판매 3위라는 놀라운 성과를 달성했다. 이는 1955년 우리나라 최초로 우리 손으로 만든 국제차량제작소의 시발자동차 이후 67년 만의 쾌거로 자 동차산업 패러다임의 전환기에 우리 자동차산업이 후발주자에서 벗어나 새로운 미래차, 친환경차 시장에서 기술과 제품을 선도하는 리더로서 발돋움할 수 있는 도약의 기회이기 때문이다.\\n\\n이번 좌담회는 우리 자동차산업이 글로벌 3강으로 도약하기 위한 전략에 대한 공감과 확산을 위한 자리로 삼고자 하며 특히 지구적 환경위기로 인해 친환경성은 미래차 산업이 요구하는 기준으로 국내 자동차산업이 이를 선도적으로 견인하기 위한 전략적 방향성은 무엇인지 논의 하고자 한다.\\n\\n코티나 1968 - 1983 현대자동차 최초의 생산 모델\\n\\n허진 좌장 인천대학교 교수\\n\\nane\\n\\n리더쉽 왜 중요한가?\\n\\n포니 1975 - 1990 대한민국 최초의 고유모델 승용차\\n\\n1996년 GM은 전 세계 최초로 양산형 전기차 EV1을 출시하며 자동차 시장에 전기차를 선보였다. 순수 전기차였던 EV1은 당시 1회 충전으로 약 160km의 주행거리와 최고속도 130km/h의 성능을 보여줬다. 이듬해인 1997년 또 다른 글로벌 자동차 업체인 토요타는 세계 최초 하이브리드차인 프리우스를 선보였다. 프리우스는 라틴어로 ‘앞서가는’이라는 뜻으로 토요타는 21세기가 원하는 자동차를 만들겠다는 목표로 엔진과 전기모터를 모두 사용하는 새로운 개념의 자동차를 개발 한 것이다. 그러나 세계 최초 자동차들의 결과는 예상과 달리 순항하지 못했다. GM의 EV1은 겨우 800대만이 리스 방식으로 판매되었고 이마저도 3년을 넘기지 못하고 전량 회수하여 폐차되는 비운의 자동차가 되었고 프리우스는 다른 토요타 모델과 달리 무려 11년이 지난 2008년에서야 비로소 전 세계 판매량 100만 대를 기록할 만큼 더딘 성적을 보였다.\\n\\n:\\n\\n그라나다 1978 - 1985 1970~80년대 국내 최고급 승용차\\n\\n4g... i\\n\\n반면 최초의 전기차가 비운을 겪고, 연비 혁신과 친환경성을 내세운 하이브리드 차량이 외면받 는 동안 클린 디젤을 앞세워 연비를 강조한 유럽 선도국가들의 디젤 차량은 전 세계 자동차 시 장에서 큰 인기를 얻었다. 모두가 기억하는 디젤 게이트가 촉발하기 전 2015년 당시 우리나라 에서 디젤 자동차는 전체 자동차 시장에서 점유율 70%를 넘어서기도 했다.\\n\\n스텔라 1983 - 1997 대한민국 최초의 고유모델 중형승용차\\n\\n지금도 전 세계 자동차 산업의 상황은 다르지 않다. 전기차와 하이브리드로 대변되고 있는 글 로벌 친환경 미래차의 방향성 역시 아직 혼란스러운 게 사실로 전문가들 사이에서도 의견이 다르다. 전기차 경쟁력 확보에 무게를 두어야한다는 주장도 있고 반면 시장성이 확보된 하이 브리드 기술을 전환기 대안으로 보고 하이브리드에 집중해야 한다는 주장도 있다. 그만큼 글 로벌 친환경 미래차의 선택지는 어렵기도 하지만 그 이면은 우리 자동차 산업의 주도권이 아직 부족하기 때문이다.\\n\\n=\\n\\n엑셀 1988 -1994 국내 소형차 베스트셀러\\n\\n오늘 좌담회는 단순히 기술에 대한 논의가 아니라 앞으로 글로벌 자동차 강국으로 새로운 도약을 위한 전략을 위한 자리가 되길 기대한다. 이는 우리 자동차 산업이 대한민국 경제성장의 엔진 으로서 글로벌 최고 수준의 완성차 기업과 1,000개가 넘는 자동차 부품사 그리고 20만 일자리를 제공하고 있는 우리 산업의 중심축 중 하나이기 때문이다.\\n\\n출처 : 현대자동차 홈페이지\\n\\n7\\n\\n6 6\\n\\nMOBILITY INSIGHT    토요타 PRIUS \\n\\nI 커버스토리 I\\n\\n예를 들어 모터 기술력만 보더라도 세계적인 경쟁력을 갖고 있고, 배터리 역시 일본의 파나소닉은 글로벌 TOP 5 업체 중 하나다. 물 론 전기차는 단순히 하드웨어만으로 만들어지지 않고 소프트웨어 와의 융합 개발 등 조금은 다른 문제지만 적어도 일본이 보유하고 있는 전기차 분야의 잠재력에 대해 과소평가하는 것이 아닌지 우려 된다. 따라서 우리 자동차 산업의 주요 경쟁자인 일본 자동차 산업 의 전략을 좀 더 세밀하게 살펴보고 일본 자동차 산업의 미래차 현 황과 전략을 파악해야 한다.',\n",
       " 'Section 01\\n\\n하이브리드 일본의 역주행?\\n\\n일본은 세계적인 내연기관 자동차 강국이다. 그러나 세계 최고의 완성차 기업인 토요타를 비롯 일본 자동차 산업의 미래차 전략에서 전기차에 대한 특별함은 없어 보인다. 글로벌 트렌드를 비춰볼 때 시대에 맞지 않는 일본의 역 주행을 우리는 어떻게 이해하고 분석해야 하는가?\\n\\n일본에 대한 착시 현상 있는 듯 내수시장 순수 전기차에 불리해\\n\\n원장혁 한국자동차연구원 책임연구원\\n\\n일본은 하이브리드 자동차를 가장 먼저 시작한 국가로 기술력 특히 특허권을 중심으로 높은 수준의 기득권을 확보하고 있다는 사실이 현재 일본 자동차 산업에 대한 착시 현상을 만들어 낸다고 생각해 볼 수 있다. 이는 선입견으로 일본이 하이브리드 기술력이 뛰어나니 하이브리드만을 고집한다는 인식인데 과연 그 논리가 맞는 지는 일본 자동차산업의 현실을 짚어보면 도움이 될 것이다.\\n\\n(e-fuel)을 사용한다고 밝히고 있다. 결국 2050년까지 탄소중립을 전기차 충전요금은 사용량이 아닌 시간 기준으로 과금되는 조금 독 달성하지만 하이브리드를 계속 가져간다는 것이 일본 정부의 기본 특한 구조를 갖고 있다. 다시 말하면 충전 속도가 느린데 과금은 시 적인 입장임을 확인할 수 있다. 간으로 하기 때문에 순수 전기차 소비자는 충전에 시간은 물론이고\\n\\n일본의 미래차 전략 어떻게 봐야 하는가?\\n\\n더 많은 경제적 부담을 감당해야 한다. 여기에 부가적으로 일본의\\n\\n상당수 충전 시설은 이용시간 제한을 걸고 있다. 돈을 내더라도 30 분 이상 충전할 수 없는 경우가 많으며 특히 도심 중심가에서는 거 의 모든 충전소가 시간제한규정을 적용하고 있다.\\n\\n자동차산업의 트렌드를 일본이 몰라서 이런 선택을 하고 있는 것은 당연히 아니기에 이 같은 정책의 배경이 무엇인지 살펴볼 필요가 있다. 개인적으로 일본의 자동차 부품산업과 연관이 있다고 생각한다. 일 본 정부의 정책은 잘 갖추어진 일본의 서플라이 체인을 미래 자동차 시장에서도 이끌고 나가겠다는 전략적 선택이라고 본다. 중국 역시 2035년 친환경차 달성 목표를 보면 50%는 순수 전기차, 50%는 하 이브리드로 잡고 있다.\\n\\n허진 좌장 인천대학교 교수\\n\\n주요 국가별 내수시장 규모로 보면 일본은 큰 규모의 자동차 내수 시장을 갖고 있다. 2022년 신차 판매 기준 420만 1,321 대로 중국, 미국, 인도에 이어 4위이고 특히 인도의 판매량이 425만 대로 불과 5만 대 차이에 불과하다 그리고 2022년 제외하고 지난 40년간 일 본의 자동차 내수시장은 세계 2~3위를 꾸준히 유지해 왔다. 더욱이 알려진 대로 일본인들의 자국 제품 선호도 역시 매우 높아서 저희 연구원이 조사한 자료에 따르면 2021년 전체 판매량의 93.4%가 일본 기업의 차량으로 사실상 내수시장에서만 400만 대 가까운 자동차 시장을 확보할 수 있어 일본 완성차업체로서는 매우 중요한 시장임이 분명하다.\\n\\n친환경 미래차의 방향성에서 전기차와 하이브리드차는 전환기에 있어서 가장 중요한 기술이라는 점에서 이견이 없어 보인다. 이번 좌담회에서도 두 차종에 대해 집중적으로 논의하고자 하는 데 이 에 앞서 명확한 정의가 이해에 도움이 될 것 같다. 특히 플러그인 하 이브리드(PHEV)에 대해서는 전기차로 분류하는 경우가 일반적이지만 본 좌담회에서는 전기차는 순수 전기차 즉 BEV(Battery electric vehicle)를 의미하고 하이브리드는 플러그인 하이브리드(PHEV)를 포함하기로 한다.\\n\\n소비자 입장에서 이런 상황은 단적으로 전기차를 사지 말라는 메시 지로 보일 수 있다. 전기차를 타는 조건으로 더 많은 돈, 더 많은 시 간을 써야 하며 자동차 이용의 불편함을 감당해야 하는데 소비자 심 리와 동떨어져 있다. 기업은 소비자가 원하는 제품을 만들어야만 판 매로 이어지기 때문에 일본 완성차 기업으로서는 소비자가 원하는 차량에 집중하고 상대적으로 전기차에 소극적일 수밖에 없는 상황이 만들어진 것이다.\\n\\n실제 중국에서 전기차뿐 아니라 하이브리드차량도 큰 폭으로 성장 하고 있는데 2022년 1~7월 중국의 플러그인 하이브리드 판매량은 62만 6,000대로 전년 동기 대비 190.5%나 성장했고 이는 2022년 중국 전기차 성장률(81%)보다 2배 이상 높다. 그리고 올해 3월 중국 정부가 전기차 보조금 정책을 폐지했다는 점도 PHEV와 전기차 간의 성장률에 영향을 미칠 수 있다. PHEV든 순수 전기차든 같은 정책의 대상 차종이지만 혜택 금액의 차이가 크다.\\n\\n먼저 세계 최고의 자동차 강국으로 하이브리드 기술 주도권을 갖춘 일본 자동차 산업에 대해 살펴봐야 할 것 같다. 한국자동차산업협회에 따르면 2022년 글로벌 자동차 판매량 순위에서 1위 일본 토요타그 룹(1,048만 3천 대), 2위 독일 폭스바겐그룹(848만 1천 대), 3위 한국 현대자동차그룹(684만 5천 대)로 발표했듯이 전 세계 자동차 시장 에서 일본 자동차 산업의 점유율은 막강하다. 그런데 미래차 시장의 대세인 전기차 시장에서 일본의 행보는 뒤처져 있는 것으로 평가받고 있고 이런 인식이 일반까지 확산돼 앞으로 전기차 시장, 즉 미래차 시장에서는 내연기관차와 달리 일본의 영향력이 상당 부분 줄어들 것으로 보고 있다. 개인적으로 이런 인식에 대해 정확한 판단인지 의구심이 든다. 비록 표면적으로 드러나는 전기차의 현황은 약세지 만 일본은 전기차 산업의 경쟁력을 두루 갖추고 있다.\\n\\n그런데 이렇게 큰 시장에서 순수 전기차 비율은 초라한 수준이다. 2022년 기준 전체 판매량 중 순수 전기차(BEV) 점유율은 0.6% 수 준에 머물러 있는데 이는 일본 내 자동차 운행 환경이 순수 전기차 소비자에게 매우 불리하기 때문이다. 전기차 운행에 가장 중요한 두 가지 기준이 모두 열악한데 충전시간은 오래 걸리고 충전요금 은 비싸다. 먼저 충전기의 경우 우리나라와 달리 일본 내 전기차 충 전 인프라는 대부분 완속 충전기며 같은 완속 충전기라도 국내는 7kW 기준이지만 일본의 완속 충전기 용량은 3.2kW고 급속충전기 도 20~30kW 정도로 가장 높은 수준이 50kW 밖에 안된다. 그만큼 오랫동안 충전을 해야 비슷한 양을 충전할 수 있기 때문에 순수 전 기차 소비자들은 상당한 시간을 충전에 할애해야 한다. 둘째 일본의']"
      ]
     },
     "execution_count": 20,
     "metadata": {},
     "output_type": "execute_result"
    }
   ],
   "source": [
    "texts[0:3]"
   ]
  },
  {
   "cell_type": "code",
   "execution_count": 16,
   "id": "2cc5f613",
   "metadata": {},
   "outputs": [
    {
     "data": {
      "text/plain": [
       "['글로벌 친환경차 시장에서 전기차와 하이브리드차의 전략 비교, 소니-혼다의 전기차 아필라, 일본의 미래차 시장 및 정책 동향, 토요타의 하이브리드 전략, Tesla의 48V 아키텍처, 전기차 가격경쟁 시대, 자율주행 기술 현황 등이 주요 내용으로 다루어짐. 인지컨트롤스의 40년 국산화 가치 창출 인터뷰 포함.',\n",
       " '글로벌 친환경차의 방향성을 논의하는 모빌리티 인사이트 4월호에서는 일본의 전기차 전환 움직임과 한국 자동차 산업의 전략을 다룬다. 현대자동차그룹의 글로벌 판매 3위 달성은 한국 자동차 산업이 친환경차 시장에서 리더로 도약할 기회로 평가된다. 좌담회에서는 친환경차의 전략적 방향성을 논의하며, 전기차와 하이브리드차의 경쟁력에 대한 전문가들의 다양한 의견을 소개한다.',\n",
       " '글로벌 자동차 강국으로 도약하기 위한 전략 논의 좌담회. 한국 자동차 산업의 경쟁력과 일본 자동차 산업의 미래차 전략 분석. 일본의 하이브리드 기술력과 전기차 시장의 착시 현상, 일본 정부의 탄소중립 목표와 하이브리드 지속 전략. 일본 내수시장 규모와 자국 제품 선호도. \\n\\n출처: 현대자동차 홈페이지']"
      ]
     },
     "execution_count": 16,
     "metadata": {},
     "output_type": "execute_result"
    }
   ],
   "source": [
    "text_summaries[0:3]"
   ]
  },
  {
   "cell_type": "code",
   "execution_count": null,
   "id": "2c18a567",
   "metadata": {},
   "outputs": [
    {
     "name": "stdout",
     "output_type": "stream",
     "text": [
      "2247\n",
      "172\n"
     ]
    }
   ],
   "source": [
    "print(len(texts[0]))\n",
    "print(len(text_summaries[0]))"
   ]
  },
  {
   "cell_type": "code",
   "execution_count": 17,
   "id": "d6f41465",
   "metadata": {},
   "outputs": [
    {
     "data": {
      "text/plain": [
       "['LEVEL Technology expected to be realized (example) Expected timing of commercialization Level 2 Driver Assistance on ordinary roads By2020 Level 3 Automated Driving on experssways Circa 2020 Private vechicle Level 1,2 Sophistication of drive assistance system Early 2020s Level 4 Automated driving on expressways Circa 2025 Driver-assistive truck platooning on expressways By 2021 Level 3 Logistics Service Truck platooning with the trailing truck unmanned on expressways FY2022 and later Level 4 Automated driving of truck on expressways From2025 Transportation Service Level 4 Driverless automated driving transport services in specified areas By 2020 Level 2 and above Driver Assistance and automated driving of buses on expressways From 2022',\n",
       " '테마 주요 추진내용 실증 지역(실시 주체) A. 다른 이동과의 조합을 통한 효율화 •자율주행차량과 화물 수송의 조합 •자가용 유샹차량과 우편 배송의 조합 •화물 수송 차량과 여객운송의 조합 •복지 차량과 이동지원 서비스의 조합 •지업 셔틀버스와 여객운송의 조합 후쿠시마현 나미에마치(주식회사젠린 등) 아이치현 나고야시(나고야철도주식회사 등) 나라현 가와니시마치(중앙건설컨설턴트주식회사 등) B. 모빌리티에서의 서비스 제공 •여객 차량에서의 물품판매 등을 통한 수익 다각화 •이동 진료 차량을 활용한 광역 의료 서비스 제공 아이치현 이요시(BOLDY주식회사 등) C. 수요 측면의 변화를 촉진하는 장치 •AI 수요 교통 등에서의 Dynamic Pricing 도입 •지역으로 이동 수요에 따른 수요 교통의 환승지점 최적화 •대중교통 이용 촉진을 위한 기존 교통간 접속 강화 사이다마현 이루마시(주식회사아이신 등) 돗토리현 요나고시, 다이센조, 후우치켜 (주식회사바이탈리드 등) 오키나와현 차탄쵸(유테크주식회사 등) D. 타업종과의 연계를 통한 수익활용 부가가치 창출 •상업시설과 연계한 모빌리티 서비스 제공 •상점 서비스와 교통주요티겟을 조합한 기획상품 판매 •구매 정보를 활용한 성공보수형 광고수입 모델 검증 •사무실 연구기관과 연계한 모빌리티 서비스 제공 훗카이도 에사시쵸(사루도라홀딩스 등) 마에현 6마치(미에광역연계슈퍼시티추진협의회) 오키나와현 온나무라(주식회사OTS서비스경영 연구소) E. 모빌리티 관련 데이터 취득, 교통 도시정책과의 연계 •교통 데이터를 이용한 대중교통 네트워크 평가 •주행테이터를 활용한 자가용차 유상 운전자의 질 (Quality) 담보 나가노현 시오지리시 (일단재단법인시오지리시 진흥공사 등)',\n",
       " '주요 과제 추진방향성 제공할 수 있는 서비스는 많으나, 각 지역에서 어떠한 서비스가 적절한지 판단하기 어려운 점 지역 과제 및 교통 과제 재검토 후 모빌리티 서비스 도출 선정된 11개 지역에서의 서비스 효과 항목(지역 활성화 등)에 대한 구체적 지표화와 선정 지역 인근 MaaS 미도입 28개 지역에서 도입하고자 하는 지표에 대한 검토 새로운 모빌리티 서비스를 도입해야 하는지에 대한 합리적 판단이 어려운 점 지역 과제 해결에 기여하는 서비스를 계획해도 운행 구역 시간 등 제약에 따른 이용자 요구와의 불일치로 결과적으로 실제 이용량이 예상 기준에 미치지 못하는 점 운행 구역 시간 등 이용자의 요구 파악과 이용 촉진을 위한 전달방법(고령자 등), 무상 체험 기회 제공 모빌리티 서비스 도입에 따른 수익성 향상 확인 어려움 사업성, 운영구조 수용 효과성 등 효과 분석 추진']"
      ]
     },
     "execution_count": 17,
     "metadata": {},
     "output_type": "execute_result"
    }
   ],
   "source": [
    "tables[0:3]"
   ]
  },
  {
   "cell_type": "code",
   "execution_count": 138,
   "id": "ba5c44fb",
   "metadata": {},
   "outputs": [
    {
     "data": {
      "text/plain": [
       "'2020-2022년 전기차 판매량 및 시장 점유율 데이터. 중국, 유럽, 미국, 한국, 캐나다, 일본, 인도, 기타 국가별 판매량과 성장률. 주요 브랜드 및 그룹별 판매량과 성장률. 테슬라, BYD, 상해기차, VW, Geely, 르노닛산, 현대차그룹 등 포함. 전기차 전체 판매량과 완성차 전체 판매량 비교.'"
      ]
     },
     "execution_count": 138,
     "metadata": {},
     "output_type": "execute_result"
    }
   ],
   "source": [
    "table_summaries[3]"
   ]
  },
  {
   "cell_type": "code",
   "execution_count": 22,
   "id": "e806a57a",
   "metadata": {},
   "outputs": [
    {
     "name": "stdout",
     "output_type": "stream",
     "text": [
      "745\n",
      "317\n"
     ]
    }
   ],
   "source": [
    "print(len(tables[0]))\n",
    "print(len(table_summaries[0]))"
   ]
  },
  {
   "cell_type": "markdown",
   "id": "7bf8b1c4",
   "metadata": {},
   "source": [
    "### 이미지 요약\n",
    "\n",
    "`GPT-4o`를 사용하여 이미지 요약을 생성할 것입니다.\n",
    "\n",
    "- base64로 인코딩된 이미지를 전달합니다.\n"
   ]
  },
  {
   "cell_type": "code",
   "execution_count": 27,
   "id": "0a9049dc",
   "metadata": {},
   "outputs": [],
   "source": [
    "import base64\n",
    "import os\n",
    "\n",
    "from langchain_core.messages import HumanMessage\n",
    "\n",
    "\n",
    "def encode_image(image_path):\n",
    "    # 이미지 파일을 base64 문자열로 인코딩합니다.\n",
    "    with open(image_path, \"rb\") as image_file:\n",
    "        return base64.b64encode(image_file.read()).decode(\"utf-8\")\n",
    "\n",
    "\n",
    "def image_summarize(img_base64, prompt):\n",
    "    # 이미지 요약을 생성합니다.\n",
    "    chat = ChatOpenAI(model=\"gpt-4o\", max_tokens=2048)\n",
    "\n",
    "    msg = chat.invoke(\n",
    "        [\n",
    "            HumanMessage(\n",
    "                content=[\n",
    "                    {\"type\": \"text\", \"text\": prompt},\n",
    "                    {\n",
    "                        \"type\": \"image_url\",\n",
    "                        \"image_url\": {\"url\": f\"data:image/jpeg;base64,{img_base64}\"},\n",
    "                    },\n",
    "                ]\n",
    "            )\n",
    "        ]\n",
    "    )\n",
    "    return msg.content\n",
    "\n",
    "\n",
    "def generate_img_summaries(path):\n",
    "    \"\"\"\n",
    "    이미지에 대한 요약과 base64 인코딩된 문자열을 생성합니다.\n",
    "    path: Unstructured에 의해 추출된 .jpg 파일 목록의 경로\n",
    "    \"\"\"\n",
    "\n",
    "    # base64로 인코딩된 이미지를 저장할 리스트\n",
    "    img_base64_list = []\n",
    "\n",
    "    # 이미지 요약을 저장할 리스트\n",
    "    image_summaries = []\n",
    "\n",
    "    # 요약을 위한 프롬프트\n",
    "    prompt = \"\"\"You are an assistant tasked with summarizing images for retrieval. \\\n",
    "    These summaries will be embedded and used to retrieve the raw image. \\\n",
    "    Give a concise summary of the image that is well optimized for retrieval. Use Korean\"\"\"\n",
    "\n",
    "    # 이미지에 적용\n",
    "    for img_file in sorted(os.listdir(path)):\n",
    "        if img_file.endswith(\".jpg\"):\n",
    "            img_path = os.path.join(path, img_file)\n",
    "            base64_image = encode_image(img_path)\n",
    "            img_base64_list.append(base64_image)\n",
    "            image_summaries.append(image_summarize(base64_image, prompt))\n",
    "\n",
    "    return img_base64_list, image_summaries\n",
    "\n",
    "\n",
    "# 이미지 요약 실행\n",
    "img_base64_list, image_summaries = generate_img_summaries(\"./figures\")"
   ]
  },
  {
   "cell_type": "code",
   "execution_count": 24,
   "id": "4c81edc5",
   "metadata": {},
   "outputs": [
    {
     "data": {
      "text/plain": [
       "143"
      ]
     },
     "execution_count": 24,
     "metadata": {},
     "output_type": "execute_result"
    }
   ],
   "source": [
    "len(image_summaries)"
   ]
  },
  {
   "cell_type": "code",
   "execution_count": 89,
   "id": "9c5b7b6f",
   "metadata": {},
   "outputs": [
    {
     "data": {
      "text/plain": [
       "\"푸른 바다를 배경으로 주행 중인 파란색 전기 SUV 차량, 'EV9 GT-line'. 한국자동차연구원 로고와 함께 '생생 인터뷰' 문구가 보임.\""
      ]
     },
     "execution_count": 89,
     "metadata": {},
     "output_type": "execute_result"
    }
   ],
   "source": [
    "image_summaries[1]"
   ]
  },
  {
   "cell_type": "markdown",
   "id": "2a64ac63",
   "metadata": {},
   "source": [
    "### 벡터 저장소에 추가하기\n",
    "\n",
    "원본 문서와 문서 요약을 [Multi Vector Retriever](https://python.langchain.com/docs/modules/data_connection/retrievers/multi_vector#summary)에 추가하는 방법:\n",
    "\n",
    "- 원본 텍스트, 테이블, 이미지를 `docstore`에 저장합니다.\n",
    "- 효율적인 의미론적 검색을 위해 텍스트, 테이블 요약, 이미지 요약을 `vectorstore`에 저장합니다.\n"
   ]
  },
  {
   "cell_type": "markdown",
   "id": "7abb6483",
   "metadata": {},
   "source": [
    "다양한 유형의 데이터(텍스트, 테이블, 이미지)를 색인화하고 검색할 수 있는 멀티 벡터 검색기를 생성하는 과정을 설명합니다.\n",
    "\n",
    "- `InMemoryStore`를 사용하여 저장 계층을 초기화합니다.\n",
    "- `MultiVectorRetriever`를 생성하여, 요약된 데이터를 색인화하지만 원본 텍스트나 이미지를 반환하도록 설정합니다.\n",
    "- 각 데이터 유형(텍스트, 테이블, 이미지)에 대해 요약과 원본 데이터를 `vectorstore`와 `docstore`에 추가하는 과정을 포함합니다.\n",
    "  - 각 문서에 대해 고유한 `doc_id`를 생성합니다.\n",
    "  - 요약된 데이터를 `vectorstore`에 추가하고, 원본 데이터와 `doc_id`를 `docstore`에 저장합니다.\n",
    "- 데이터 유형별로 요약이 비어 있지 않은 경우에만 해당 데이터를 추가하는 조건을 확인합니다.\n",
    "- `Chroma` 벡터 저장소를 사용하여 요약을 색인화하고, `OpenAIEmbeddings` 함수를 사용하여 임베딩을 생성합니다.\n",
    "- 생성된 멀티 벡터 검색기는 다양한 유형의 데이터에 대한 요약을 색인화하고, 검색 시 원본 데이터를 반환할 수 있습니다.\n"
   ]
  },
  {
   "cell_type": "code",
   "execution_count": 39,
   "id": "e813469e",
   "metadata": {},
   "outputs": [
    {
     "name": "stdout",
     "output_type": "stream",
     "text": [
      "47 42\n",
      "9 9\n",
      "143\n"
     ]
    }
   ],
   "source": [
    "print(len(text_summaries), len(texts))\n",
    "print(len(table_summaries), len(tables))\n",
    "print(len(image_summaries))"
   ]
  },
  {
   "cell_type": "code",
   "execution_count": 43,
   "id": "bb248cfe",
   "metadata": {},
   "outputs": [],
   "source": [
    "import uuid\n",
    "\n",
    "from langchain.retrievers.multi_vector import MultiVectorRetriever\n",
    "from langchain.storage import InMemoryStore\n",
    "from langchain_community.vectorstores import Chroma\n",
    "from langchain_core.documents import Document\n",
    "from langchain_openai import OpenAIEmbeddings\n",
    "\n",
    "\n",
    "def create_multi_vector_retriever(\n",
    "    vectorstore, text_summaries, texts, table_summaries, tables, image_summaries, images\n",
    "):\n",
    "    \"\"\"\n",
    "    요약을 색인화하지만 원본 이미지나 텍스트를 반환하는 검색기를 생성합니다.\n",
    "    \"\"\"\n",
    "\n",
    "    # 저장 계층 초기화\n",
    "    store = InMemoryStore()\n",
    "    id_key = \"doc_id\"\n",
    "\n",
    "    # 멀티 벡터 검색기 생성\n",
    "    retriever = MultiVectorRetriever(\n",
    "        vectorstore=vectorstore,\n",
    "        docstore=store,\n",
    "        id_key=id_key,\n",
    "    )\n",
    "\n",
    "    # 문서를 벡터 저장소와 문서 저장소에 추가하는 헬퍼 함수\n",
    "    def add_documents(retriever, doc_summaries, doc_contents):\n",
    "        doc_ids = [\n",
    "            str(uuid.uuid4()) for _ in doc_contents\n",
    "        ]  # 문서 내용마다 고유 ID 생성\n",
    "        summary_docs = [\n",
    "            Document(page_content=s, metadata={id_key: doc_ids[i]})\n",
    "            for i, s in enumerate(doc_summaries)\n",
    "        ]\n",
    "        retriever.vectorstore.add_documents(\n",
    "            summary_docs\n",
    "        )  # 요약 문서를 벡터 저장소에 추가\n",
    "        retriever.docstore.mset(\n",
    "            list(zip(doc_ids, doc_contents))\n",
    "        )  # 문서 내용을 문서 저장소에 추가\n",
    "\n",
    "    # 텍스트, 테이블, 이미지 추가\n",
    "    if text_summaries:\n",
    "        add_documents(retriever, text_summaries, texts)\n",
    "\n",
    "    if table_summaries:\n",
    "        add_documents(retriever, table_summaries, tables)\n",
    "\n",
    "    if image_summaries:\n",
    "        add_documents(retriever, image_summaries, images)\n",
    "\n",
    "    return retriever"
   ]
  },
  {
   "cell_type": "code",
   "execution_count": 44,
   "id": "a776ae5f",
   "metadata": {},
   "outputs": [],
   "source": [
    "# 요약을 색인화하기 위해 사용할 벡터 저장소\n",
    "vectorstore = Chroma(\n",
    "    collection_name=\"rag-multi-modal\", embedding_function=OpenAIEmbeddings()\n",
    ")\n",
    "\n",
    "# 검색기 생성\n",
    "retriever_multi_vector_img = create_multi_vector_retriever(\n",
    "    vectorstore,\n",
    "    text_summaries,\n",
    "    texts_4k_token,\n",
    "    table_summaries,\n",
    "    tables,\n",
    "    image_summaries,\n",
    "    img_base64_list,\n",
    ")"
   ]
  },
  {
   "cell_type": "markdown",
   "id": "c8174433",
   "metadata": {},
   "source": [
    "## RAG\n",
    "\n",
    "### 검색기 구축\n",
    "\n",
    "검색된 문서를 GPT-4o 프롬프트 템플릿의 올바른 부분에 할당해야 합니다.\n"
   ]
  },
  {
   "cell_type": "markdown",
   "id": "62ad377f",
   "metadata": {},
   "source": [
    "다음은 Base64 인코딩된 이미지와 텍스트를 처리하고, 이를 활용하여 다중 모달 질의응답(질문-응답) 체인을 구성하는 방법을 설명합니다.\n",
    "\n",
    "- Base64 인코딩된 문자열이 이미지인지 확인합니다. 지원하는 이미지 포맷은 JPG, PNG, GIF, WEBP입니다.\n",
    "- Base64 인코딩된 이미지를 주어진 크기로 리사이즈합니다.\n",
    "- 문서 집합에서 Base64 인코딩된 이미지와 텍스트를 분리합니다.\n",
    "- 분리된 이미지와 텍스트를 사용하여 다중 모달 질의응답 체인의 입력으로 사용될 메시지를 구성합니다. 이 과정에서 이미지 URL과 텍스트 정보를 포함하는 메시지를 생성합니다.\n",
    "- 다중 모달 질의응답 체인을 구성합니다. 이 체인은 입력된 이미지와 텍스트 정보를 바탕으로 질문에 대한 응답을 생성하는 과정을 포함합니다. 사용된 모델은 `ChatOpenAI`이며, `gpt-4o` 모델을 사용합니다.\n",
    "\n",
    "이 과정은 이미지와 텍스트 데이터를 모두 활용하여 질문에 대한 응답을 생성하는 다중 모달 질의응답 시스템을 구현하는 방법을 제시합니다. 여기서는 이미지 데이터를 처리하기 위한 Base64 인코딩 및 디코딩, 이미지 리사이징, 그리고 이를 텍스트 정보와 함께 처리하여 질문에 대한 응답을 생성하는 과정이 포함됩니다.\n"
   ]
  },
  {
   "cell_type": "code",
   "execution_count": 45,
   "id": "8ac7c5f9",
   "metadata": {},
   "outputs": [],
   "source": [
    "import io\n",
    "import re\n",
    "\n",
    "from IPython.display import HTML, display\n",
    "from langchain_core.runnables import RunnableLambda, RunnablePassthrough\n",
    "from PIL import Image\n",
    "\n",
    "\n",
    "def plt_img_base64(img_base64):\n",
    "    \"\"\"base64 인코딩된 문자열을 이미지로 표시\"\"\"\n",
    "    # base64 문자열을 소스로 사용하는 HTML img 태그 생성\n",
    "    image_html = f'<img src=\"data:image/jpeg;base64,{img_base64}\" />'\n",
    "    # HTML을 렌더링하여 이미지 표시\n",
    "    display(HTML(image_html))\n",
    "\n",
    "\n",
    "def looks_like_base64(sb):\n",
    "    \"\"\"문자열이 base64로 보이는지 확인\"\"\"\n",
    "    return re.match(\"^[A-Za-z0-9+/]+[=]{0,2}$\", sb) is not None\n",
    "\n",
    "\n",
    "def is_image_data(b64data):\n",
    "    \"\"\"\n",
    "    base64 데이터가 이미지인지 시작 부분을 보고 확인\n",
    "    \"\"\"\n",
    "    image_signatures = {\n",
    "        b\"\\xff\\xd8\\xff\": \"jpg\",\n",
    "        b\"\\x89\\x50\\x4e\\x47\\x0d\\x0a\\x1a\\x0a\": \"png\",\n",
    "        b\"\\x47\\x49\\x46\\x38\": \"gif\",\n",
    "        b\"\\x52\\x49\\x46\\x46\": \"webp\",\n",
    "    }\n",
    "    try:\n",
    "        header = base64.b64decode(b64data)[:8]  # 처음 8바이트를 디코드하여 가져옴\n",
    "        for sig, format in image_signatures.items():\n",
    "            if header.startswith(sig):\n",
    "                return True\n",
    "        return False\n",
    "    except Exception:\n",
    "        return False\n",
    "\n",
    "\n",
    "def resize_base64_image(base64_string, size=(128, 128)):\n",
    "    \"\"\"\n",
    "    Base64 문자열로 인코딩된 이미지의 크기 조정\n",
    "    \"\"\"\n",
    "    # Base64 문자열 디코드\n",
    "    img_data = base64.b64decode(base64_string)\n",
    "    img = Image.open(io.BytesIO(img_data))\n",
    "\n",
    "    # 이미지 크기 조정\n",
    "    resized_img = img.resize(size, Image.LANCZOS)\n",
    "\n",
    "    # 조정된 이미지를 바이트 버퍼에 저장\n",
    "    buffered = io.BytesIO()\n",
    "    resized_img.save(buffered, format=img.format)\n",
    "\n",
    "    # 조정된 이미지를 Base64로 인코딩\n",
    "    return base64.b64encode(buffered.getvalue()).decode(\"utf-8\")\n",
    "\n",
    "\n",
    "def split_image_text_types(docs):\n",
    "    \"\"\"\n",
    "    base64로 인코딩된 이미지와 텍스트 분리\n",
    "    \"\"\"\n",
    "    b64_images = []\n",
    "    texts = []\n",
    "    for doc in docs:\n",
    "        # 문서가 Document 타입인 경우 page_content 추출\n",
    "        if isinstance(doc, Document):\n",
    "            doc = doc.page_content\n",
    "        if looks_like_base64(doc) and is_image_data(doc):\n",
    "            doc = resize_base64_image(doc, size=(1300, 600))\n",
    "            b64_images.append(doc)\n",
    "        else:\n",
    "            texts.append(doc)\n",
    "    return {\"images\": b64_images, \"texts\": texts}\n",
    "\n",
    "\n",
    "def img_prompt_func(data_dict):\n",
    "    \"\"\"\n",
    "    컨텍스트를 단일 문자열로 결합\n",
    "    \"\"\"\n",
    "    formatted_texts = \"\\n\".join(data_dict[\"context\"][\"texts\"])\n",
    "    messages = []\n",
    "\n",
    "    # 이미지가 있으면 메시지에 추가\n",
    "    if data_dict[\"context\"][\"images\"]:\n",
    "        for image in data_dict[\"context\"][\"images\"]:\n",
    "            image_message = {\n",
    "                \"type\": \"image_url\",\n",
    "                \"image_url\": {\"url\": f\"data:image/jpeg;base64,{image}\"},\n",
    "            }\n",
    "            messages.append(image_message)\n",
    "\n",
    "    # 분석을 위한 텍스트 추가\n",
    "    text_message = {\n",
    "        \"type\": \"text\",\n",
    "        \"text\": (\n",
    "            \"You are financial analyst tasking with providing investment advice.\\n\"\n",
    "            \"You will be given a mixed of text, tables, and image(s) usually of charts or graphs.\\n\"\n",
    "            \"Use this information to provide investment advice related to the user question. Answer in Korean. Do NOT translate company names.\\n\"\n",
    "            f\"User-provided question: {data_dict['question']}\\n\\n\"\n",
    "            \"Text and / or tables:\\n\"\n",
    "            f\"{formatted_texts}\"\n",
    "        ),\n",
    "    }\n",
    "    messages.append(text_message)\n",
    "    return [HumanMessage(content=messages)]\n",
    "\n",
    "\n",
    "def multi_modal_rag_chain(retriever):\n",
    "    \"\"\"\n",
    "    멀티모달 RAG 체인\n",
    "    \"\"\"\n",
    "\n",
    "    # 멀티모달 LLM\n",
    "    model = ChatOpenAI(temperature=0, model=\"gpt-4o\", max_tokens=2048)\n",
    "\n",
    "    # RAG 파이프라인\n",
    "    chain = (\n",
    "        {\n",
    "            \"context\": retriever | RunnableLambda(split_image_text_types),\n",
    "            \"question\": RunnablePassthrough(),\n",
    "        }\n",
    "        | RunnableLambda(img_prompt_func)\n",
    "        | model\n",
    "        | StrOutputParser()\n",
    "    )\n",
    "\n",
    "    return chain\n",
    "\n",
    "\n",
    "# RAG 체인 생성\n",
    "chain_multimodal_rag = multi_modal_rag_chain(retriever_multi_vector_img)"
   ]
  },
  {
   "cell_type": "markdown",
   "id": "6ebb7c71",
   "metadata": {},
   "source": [
    "### 검사\n",
    "\n",
    "우리가 질문에 관련된 이미지를 검색할 때, 관련성 있는 이미지들을 되돌려 받습니다.\n"
   ]
  },
  {
   "cell_type": "code",
   "execution_count": 168,
   "id": "fffd119c",
   "metadata": {},
   "outputs": [
    {
     "name": "stdout",
     "output_type": "stream",
     "text": [
      "현대 코나 전기차 이미지, 연도별 중고 전기차 거래 대수 그래프 (2019-2021), 2021년 중고 전기차 거래 순위 (1위: 코나, 2위: 트위지, 3위: 볼트EV, 4위: 아이오닉, 5위: 포터)\n"
     ]
    },
    {
     "data": {
      "text/plain": [
       "'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'"
      ]
     },
     "execution_count": 168,
     "metadata": {},
     "output_type": "execute_result"
    }
   ],
   "source": [
    "# 검색 질의 실행\n",
    "query = \"미팅 사진 보여줘\"\n",
    "\n",
    "# 질의에 대한 문서 6개를 검색합니다.\n",
    "docs = retriever_multi_vector_img.invoke(query, limit=6)\n",
    "print(image_summaries[112])\n",
    "docs[0]"
   ]
  },
  {
   "cell_type": "code",
   "execution_count": 169,
   "id": "a97f817c",
   "metadata": {},
   "outputs": [
    {
     "data": {
      "text/html": [
       "<img src=\"data:image/jpeg;base64,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\" />"
      ],
      "text/plain": [
       "<IPython.core.display.HTML object>"
      ]
     },
     "metadata": {},
     "output_type": "display_data"
    }
   ],
   "source": [
    "# 관련 이미지를 반환합니다.\n",
    "plt_img_base64(docs[0])"
   ]
  },
  {
   "cell_type": "code",
   "execution_count": 163,
   "id": "baf87131",
   "metadata": {},
   "outputs": [
    {
     "name": "stdout",
     "output_type": "stream",
     "text": [
      "연도별 중고 전기차 거래 대수에 대한 분석을 제공하겠습니다.\n",
      "\n",
      "이미지에 따르면, 중고 전기차 거래 대수는 다음과 같이 증가하고 있습니다:\n",
      "\n",
      "- 2019년: 5,012대\n",
      "- 2020년: 7,718대\n",
      "- 2021년: 12,689대\n",
      "\n",
      "이 데이터를 통해 중고 전기차 시장이 빠르게 성장하고 있음을 알 수 있습니다. 2019년에서 2020년 사이에는 약 54% 증가하였고, 2020년에서 2021년 사이에는 약 64% 증가하였습니다. 이는 전기차에 대한 수요가 지속적으로 증가하고 있음을 나타냅니다.\n",
      "\n",
      "또한, 작년 중고 전기차 거래 순위를 보면, 가장 많이 거래된 모델은 다음과 같습니다:\n",
      "\n",
      "1. 코나: 1,651대\n",
      "2. 트위지: 1,425대\n",
      "3. 볼트EV: 1,127대\n",
      "4. 아이오닉: 965대\n",
      "5. 포터: 960대\n",
      "\n",
      "이 순위는 코나와 트위지가 중고 전기차 시장에서 매우 인기가 있음을 보여줍니다. 따라서, 중고 전기차 시장에 투자할 때 이러한 인기 모델에 주목하는 것이 좋습니다.\n",
      "\n",
      "결론적으로, 중고 전기차 시장은 빠르게 성장하고 있으며, 특히 코나와 트위지와 같은 모델이 높은 수요를 보이고 있습니다. 이러한 트렌드를 고려하여 중고 전기차 시장에 대한 투자를 검토하는 것이 바람직합니다.\n"
     ]
    }
   ],
   "source": [
    "# RAG 체인 실행\n",
    "print(chain_multimodal_rag.invoke(\"연도별 중고 전기차 거래 대수에 대해 분석해줘\"))"
   ]
  },
  {
   "cell_type": "code",
   "execution_count": 136,
   "id": "498bb316",
   "metadata": {},
   "outputs": [
    {
     "data": {
      "text/plain": [
       "'테슬라 사이버트럭 내부'"
      ]
     },
     "execution_count": 136,
     "metadata": {},
     "output_type": "execute_result"
    }
   ],
   "source": []
  },
  {
   "cell_type": "markdown",
   "id": "b4af0949",
   "metadata": {},
   "source": [
    "### RAG\n",
    "\n",
    "이제 RAG를 실행하고 우리의 질문에 대한 답변을 종합하는 능력을 테스트해 보겠습니다.\n"
   ]
  },
  {
   "cell_type": "code",
   "execution_count": 67,
   "id": "e8a1de99",
   "metadata": {},
   "outputs": [
    {
     "name": "stdout",
     "output_type": "stream",
     "text": [
      "테슬라 사이버트럭의 내부 사진을 보면, 이 차량이 매우 미래지향적이고 혁신적인 디자인을 가지고 있음을 알 수 있습니다. 이는 테슬라가 전기차 시장에서의 리더십을 유지하고자 하는 강한 의지를 반영합니다. \n",
      "\n",
      "테슬라는 전기차 시장에서의 선도적인 위치를 차지하고 있으며, 사이버트럭은 그들의 제품 라인업을 더욱 다양화하고 강화하는 중요한 모델입니다. 사이버트럭의 독특한 디자인과 기능은 많은 소비자들의 관심을 끌고 있으며, 이는 테슬라의 매출 증가와 주가 상승에 긍정적인 영향을 미칠 수 있습니다.\n",
      "\n",
      "투자 관점에서 볼 때, 테슬라의 사이버트럭은 다음과 같은 이유로 긍정적인 신호로 해석될 수 있습니다:\n",
      "\n",
      "1. **혁신적인 디자인과 기술**: 사이버트럭의 독특한 디자인과 첨단 기술은 시장에서의 경쟁력을 높여줄 것입니다.\n",
      "2. **강력한 브랜드 인지도**: 테슬라는 이미 전 세계적으로 강력한 브랜드 인지도를 가지고 있으며, 사이버트럭은 이를 더욱 강화할 것입니다.\n",
      "3. **전기차 시장의 성장**: 전기차 시장은 지속적으로 성장하고 있으며, 테슬라는 이 시장에서의 리더로서 큰 혜택을 볼 것입니다.\n",
      "4. **다양화된 제품 라인업**: 사이버트럭은 테슬라의 제품 라인업을 다양화하여 더 많은 소비자층을 타겟으로 할 수 있게 합니다.\n",
      "\n",
      "따라서, 테슬라의 주식은 장기적인 투자 관점에서 긍정적인 선택이 될 수 있습니다. 다만, 전기차 시장의 경쟁이 치열해지고 있는 만큼, 투자 시에는 시장 동향과 테슬라의 재무 상태를 지속적으로 모니터링하는 것이 중요합니다.\n"
     ]
    }
   ],
   "source": [
    "# RAG 체인 실행\n",
    "print(chain_multimodal_rag.invoke(\"테슬라 사이버트럭 내부 사진\"))"
   ]
  },
  {
   "cell_type": "code",
   "execution_count": 153,
   "id": "21746a86",
   "metadata": {},
   "outputs": [
    {
     "name": "stdout",
     "output_type": "stream",
     "text": [
      "2020-2022년 전기차 판매량 및 시장 점유율 데이터. 중국, 유럽, 미국, 한국, 캐나다, 일본, 인도, 기타 국가별 판매량과 성장률. 주요 브랜드 및 그룹별 판매량과 성장률. 테슬라, BYD, 상해기차, VW, Geely, 르노닛산, 현대차그룹 등 포함. 전기차 전체 판매량과 완성차 전체 판매량 비교.\n",
      "\n",
      "브랜드 구분 2020 판매량(대) M/S(%) 2021 판매량(대) M/S(%) 2022 판매량(대) M/S(%) 성장률 (2020-2021) 성장률 (2021-2022) 중국 1,054,123 47.5 2,727,313 57.1 5,075,286 63.3 158.7% 86.1% 유럽* 782,561 35.2 1,292,751 35.2 1,622,895 20.2 65.2% 25.5% 미국 260,055 11.7 505,267 11.7 802,653 10.0 94.3% 58.9% 국 가 한국 46,909 2.1 101,112 2.1 162,987 2.0 115.5% 61.2% 별 캐나다 30,928 1.4 50,033 1.0 92,871 1.2 61.8% 85.6% 일본 16,028 0.7 23,291 0.5 61,251 0.8 45.3% 163.0% 인도 4,386 0.2 10,043 0.2 47,563 0.6 129.0% 373.6% 기타 25,366 1.1 68,507 1.4 155,049 1.9 170.1% 126.3% 테슬라 494,244 22.3 938,435 19.6 1,313,887 16.4 89.9% 40.0% BYD 123,627 5.6 335,582 7.0 925,782 11.5 171.4% 175.9% 상해기차 235,425 10.6 612,867 12.8 900,418 11.2 160.3% 46.9% 그 룹 별 VW Geely 220,818 43,581 9.9 2.0 442,960 120,637 9.3 2.5 574,708 422,903 7.2 5.3 100.6% 176.8% 29.7% 250.6% 르노닛산 196,471 8.8 261,736 5.5 392,244 4.9 33.2% 49.9% 현대차그룹 145,609 6.6 245,174 5.1 374,963 4.7 68.4% 52.9% 기타 760,581 34.3 1,820,926 38.1 3,115,650 38.8 139.4% 71.1% 전기차 합계 (비중*) 2,220,356 (2.9%) 100 4,778,317 (5.9%) 100 8,020,555 (9.9%) 100 115.2% 67.9% 완성차 전체 77,766,294 - 81,439,571 - 80,631,101 - 4.7% △1.0%\n"
     ]
    }
   ],
   "source": [
    "# 검색 결과 확인\n",
    "query = \"국가별및완성차그룹별전기차(BEV)판매량에서 중국의 2021년 판매량이 몇대야?\"\n",
    "docs = retriever_multi_vector_img.invoke(query, limit=6)\n",
    "\n",
    "print(table_summaries[3])\n",
    "print()\n",
    "print(docs[0])"
   ]
  },
  {
   "cell_type": "code",
   "execution_count": 152,
   "id": "644723bf",
   "metadata": {},
   "outputs": [
    {
     "name": "stdout",
     "output_type": "stream",
     "text": [
      "중국의 2021년 전기차(BEV) 판매량은 2,727,313대입니다.\n"
     ]
    }
   ],
   "source": [
    "# RAG 체인 실행\n",
    "print(\n",
    "    chain_multimodal_rag.invoke(\n",
    "        \"국가별 및 완성차 그룹별 전기차(BEV) 판매량에서 중국의 2021년 판매량이 몇대야?\"\n",
    "    )\n",
    ")"
   ]
  },
  {
   "cell_type": "markdown",
   "id": "f9c125bf",
   "metadata": {},
   "source": [
    "### 고려사항\n",
    "\n",
    "**검색**\n",
    "\n",
    "- 검색은 이미지 요약과 텍스트 Chunk 와의 유사성을 기반으로 수행됩니다.\n",
    "- 이는 이미지 요약 검색 결과보다 다른 Text Chunk 가 경쟁 우위에 있을 경우 실패할 수 있기 때문에 신중한 고려가 필요합니다.\n",
    "\n",
    "**이미지 크기**\n",
    "\n",
    "- 답변 합성의 품질은 이미지 크기에 민감한 것으로 보입니다. [가이드에 명시 된 것 처럼..](https://platform.openai.com/docs/guides/vision).\n"
   ]
  },
  {
   "cell_type": "code",
   "execution_count": null,
   "id": "259906a7",
   "metadata": {},
   "outputs": [],
   "source": []
  }
 ],
 "metadata": {
  "kernelspec": {
   "display_name": "langchain-kr-lwwSZlnu-py3.11",
   "language": "python",
   "name": "python3"
  },
  "language_info": {
   "codemirror_mode": {
    "name": "ipython",
    "version": 3
   },
   "file_extension": ".py",
   "mimetype": "text/x-python",
   "name": "python",
   "nbconvert_exporter": "python",
   "pygments_lexer": "ipython3",
   "version": "3.12.4"
  }
 },
 "nbformat": 4,
 "nbformat_minor": 5
}
