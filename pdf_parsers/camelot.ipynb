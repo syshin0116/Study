{
 "cells": [
  {
   "cell_type": "code",
   "execution_count": 1,
   "metadata": {},
   "outputs": [],
   "source": [
    "import camelot"
   ]
  },
  {
   "cell_type": "code",
   "execution_count": 2,
   "metadata": {},
   "outputs": [
    {
     "name": "stdout",
     "output_type": "stream",
     "text": [
      "Using camelot v1.0.0.\n"
     ]
    }
   ],
   "source": [
    "print(f\"Using camelot v{camelot.__version__}.\")"
   ]
  },
  {
   "cell_type": "code",
   "execution_count": null,
   "metadata": {},
   "outputs": [],
   "source": []
  },
  {
   "cell_type": "code",
   "execution_count": 3,
   "metadata": {},
   "outputs": [],
   "source": [
    "import logging\n",
    "import pandas as pd\n",
    "\n",
    "from pathlib import Path\n",
    "from pypdf import PdfReader\n",
    "from IPython.display import display\n",
    "\n",
    "# Set up logging\n",
    "logging.getLogger(\"camelot\").setLevel(logging.INFO)\n",
    "logging.basicConfig(\n",
    "    level=logging.INFO, format=\"%(asctime)s - %(levelname)s - %(message)s\"\n",
    ")\n",
    "\n",
    "\n",
    "def process_pdf(pdf_file, output_dir):\n",
    "    print(f\"Processing {pdf_file.name}\")\n",
    "    logging.info(f\"Processing {pdf_file.name}\")\n",
    "\n",
    "    # Verify PDF can be opened with PdfReader before processing\n",
    "    try:\n",
    "        reader = PdfReader(str(pdf_file))\n",
    "        if len(reader.pages) == 0:\n",
    "            raise ValueError(f\"No pages found in PDF {pdf_file.name}\")\n",
    "    except Exception as e:\n",
    "        print(f\"Failed to open PDF {pdf_file.name} with PdfReader: {e}\")\n",
    "        logging.error(f\"Failed to open PDF {pdf_file.name} with PdfReader: {e}\")\n",
    "        return\n",
    "\n",
    "    # Read tables from the PDF using camelot\n",
    "    try:\n",
    "        tables = camelot.read_pdf(str(pdf_file))\n",
    "    except Exception as e:\n",
    "        print(f\"Failed to read PDF {pdf_file.name}: {e}\")\n",
    "        logging.error(f\"Failed to read PDF {pdf_file.name}: {e}\")\n",
    "        return\n",
    "\n",
    "    if len(tables) == 0:\n",
    "        print(f\"No tables detected in {pdf_file.name}\")\n",
    "        logging.warning(f\"No tables detected in {pdf_file.name}\")\n",
    "        return\n",
    "\n",
    "    # Create a subdirectory for this PDF's output\n",
    "    pdf_output_dir = output_dir / pdf_file.stem\n",
    "    pdf_output_dir.mkdir(exist_ok=True)\n",
    "\n",
    "    # Process individual tables\n",
    "    for i, table in enumerate(tables):\n",
    "        try:\n",
    "            # Convert table to pandas DataFrame\n",
    "            df = table.df\n",
    "\n",
    "            # Display the DataFrame\n",
    "            print(f\"\\nTable {i+1} from {pdf_file.name}:\")\n",
    "            display(df)\n",
    "\n",
    "            # Save individual table to CSV\n",
    "            csv_path = pdf_output_dir / f\"{pdf_file.stem}_table_{i+1}.csv\"\n",
    "            df.to_csv(csv_path, index=False)\n",
    "            print(f\"Saved to {csv_path}\")\n",
    "\n",
    "            # Log parsing report for each table\n",
    "            print(f\"\\nTable {i+1} Parsing Report:\")\n",
    "            logging.info(f\"Table {i+1} Parsing Report:\")\n",
    "            print(table.parsing_report)\n",
    "            logging.info(table.parsing_report)\n",
    "        except Exception as e:\n",
    "            print(f\"Failed to process or save table {i+1} from {pdf_file.name}: {e}\")\n",
    "            logging.error(\n",
    "                f\"Failed to process or save table {i+1} from {pdf_file.name}: {e}\"\n",
    "            )"
   ]
  },
  {
   "cell_type": "code",
   "execution_count": 4,
   "metadata": {},
   "outputs": [
    {
     "name": "stdout",
     "output_type": "stream",
     "text": [
      "Input directory: data\n",
      "Output directory: data/output\n"
     ]
    }
   ],
   "source": [
    "# Define input_dir and output_dir\n",
    "input_dir = Path(\"./data/\")\n",
    "output_dir = Path(\"./data/output\")\n",
    "# Ensure output directory exists\n",
    "output_dir.mkdir(exist_ok=True)\n",
    "\n",
    "print(f\"Input directory: {input_dir}\")\n",
    "print(f\"Output directory: {output_dir}\")"
   ]
  },
  {
   "cell_type": "code",
   "execution_count": 5,
   "metadata": {},
   "outputs": [
    {
     "name": "stderr",
     "output_type": "stream",
     "text": [
      "2025-02-22 15:57:40,036 - INFO - Processing 20AKSAE_A017.pdf\n"
     ]
    },
    {
     "name": "stdout",
     "output_type": "stream",
     "text": [
      "Found 4 PDF files\n",
      "Processing 20AKSAE_A017.pdf\n"
     ]
    },
    {
     "name": "stderr",
     "output_type": "stream",
     "text": [
      "2025-02-22 15:57:40,575 - WARNING - No tables detected in 20AKSAE_A017.pdf\n",
      "2025-02-22 15:57:40,576 - INFO - Processing sample_pdf.pdf\n"
     ]
    },
    {
     "name": "stdout",
     "output_type": "stream",
     "text": [
      "No tables detected in 20AKSAE_A017.pdf\n",
      "Processing sample_pdf.pdf\n"
     ]
    },
    {
     "name": "stderr",
     "output_type": "stream",
     "text": [
      "2025-02-22 15:57:41,204 - WARNING - No tables detected in sample_pdf.pdf\n",
      "2025-02-22 15:57:41,204 - INFO - Processing 2502.11946v2.pdf\n"
     ]
    },
    {
     "name": "stdout",
     "output_type": "stream",
     "text": [
      "No tables detected in sample_pdf.pdf\n",
      "Processing 2502.11946v2.pdf\n"
     ]
    },
    {
     "name": "stderr",
     "output_type": "stream",
     "text": [
      "2025-02-22 15:57:41,858 - WARNING - No tables detected in 2502.11946v2.pdf\n",
      "2025-02-22 15:57:41,858 - INFO - Processing foo.pdf\n"
     ]
    },
    {
     "name": "stdout",
     "output_type": "stream",
     "text": [
      "No tables detected in 2502.11946v2.pdf\n",
      "Processing foo.pdf\n",
      "\n",
      "Table 1 from foo.pdf:\n"
     ]
    },
    {
     "data": {
      "text/html": [
       "<div>\n",
       "<style scoped>\n",
       "    .dataframe tbody tr th:only-of-type {\n",
       "        vertical-align: middle;\n",
       "    }\n",
       "\n",
       "    .dataframe tbody tr th {\n",
       "        vertical-align: top;\n",
       "    }\n",
       "\n",
       "    .dataframe thead th {\n",
       "        text-align: right;\n",
       "    }\n",
       "</style>\n",
       "<table border=\"1\" class=\"dataframe\">\n",
       "  <thead>\n",
       "    <tr style=\"text-align: right;\">\n",
       "      <th></th>\n",
       "      <th>0</th>\n",
       "      <th>1</th>\n",
       "      <th>2</th>\n",
       "      <th>3</th>\n",
       "      <th>4</th>\n",
       "      <th>5</th>\n",
       "      <th>6</th>\n",
       "    </tr>\n",
       "  </thead>\n",
       "  <tbody>\n",
       "    <tr>\n",
       "      <th>0</th>\n",
       "      <td>Cycle \\nName</td>\n",
       "      <td>KI \\n(1/km)</td>\n",
       "      <td>Distance \\n(mi)</td>\n",
       "      <td>Percent Fuel Savings</td>\n",
       "      <td></td>\n",
       "      <td></td>\n",
       "      <td></td>\n",
       "    </tr>\n",
       "    <tr>\n",
       "      <th>1</th>\n",
       "      <td></td>\n",
       "      <td></td>\n",
       "      <td></td>\n",
       "      <td>Improved \\nSpeed</td>\n",
       "      <td>Decreased \\nAccel</td>\n",
       "      <td>Eliminate \\nStops</td>\n",
       "      <td>Decreased \\nIdle</td>\n",
       "    </tr>\n",
       "    <tr>\n",
       "      <th>2</th>\n",
       "      <td>2012_2</td>\n",
       "      <td>3.30</td>\n",
       "      <td>1.3</td>\n",
       "      <td>5.9%</td>\n",
       "      <td>9.5%</td>\n",
       "      <td>29.2%</td>\n",
       "      <td>17.4%</td>\n",
       "    </tr>\n",
       "    <tr>\n",
       "      <th>3</th>\n",
       "      <td>2145_1</td>\n",
       "      <td>0.68</td>\n",
       "      <td>11.2</td>\n",
       "      <td>2.4%</td>\n",
       "      <td>0.1%</td>\n",
       "      <td>9.5%</td>\n",
       "      <td>2.7%</td>\n",
       "    </tr>\n",
       "    <tr>\n",
       "      <th>4</th>\n",
       "      <td>4234_1</td>\n",
       "      <td>0.59</td>\n",
       "      <td>58.7</td>\n",
       "      <td>8.5%</td>\n",
       "      <td>1.3%</td>\n",
       "      <td>8.5%</td>\n",
       "      <td>3.3%</td>\n",
       "    </tr>\n",
       "    <tr>\n",
       "      <th>5</th>\n",
       "      <td>2032_2</td>\n",
       "      <td>0.17</td>\n",
       "      <td>57.8</td>\n",
       "      <td>21.7%</td>\n",
       "      <td>0.3%</td>\n",
       "      <td>2.7%</td>\n",
       "      <td>1.2%</td>\n",
       "    </tr>\n",
       "    <tr>\n",
       "      <th>6</th>\n",
       "      <td>4171_1</td>\n",
       "      <td>0.07</td>\n",
       "      <td>173.9</td>\n",
       "      <td>58.1%</td>\n",
       "      <td>1.6%</td>\n",
       "      <td>2.1%</td>\n",
       "      <td>0.5%</td>\n",
       "    </tr>\n",
       "  </tbody>\n",
       "</table>\n",
       "</div>"
      ],
      "text/plain": [
       "              0            1                2                     3  \\\n",
       "0  Cycle \\nName  KI \\n(1/km)  Distance \\n(mi)  Percent Fuel Savings   \n",
       "1                                                  Improved \\nSpeed   \n",
       "2        2012_2         3.30              1.3                  5.9%   \n",
       "3        2145_1         0.68             11.2                  2.4%   \n",
       "4        4234_1         0.59             58.7                  8.5%   \n",
       "5        2032_2         0.17             57.8                 21.7%   \n",
       "6        4171_1         0.07            173.9                 58.1%   \n",
       "\n",
       "                   4                  5                 6  \n",
       "0                                                          \n",
       "1  Decreased \\nAccel  Eliminate \\nStops  Decreased \\nIdle  \n",
       "2               9.5%              29.2%             17.4%  \n",
       "3               0.1%               9.5%              2.7%  \n",
       "4               1.3%               8.5%              3.3%  \n",
       "5               0.3%               2.7%              1.2%  \n",
       "6               1.6%               2.1%              0.5%  "
      ]
     },
     "metadata": {},
     "output_type": "display_data"
    },
    {
     "name": "stderr",
     "output_type": "stream",
     "text": [
      "2025-02-22 15:57:42,441 - INFO - Table 1 Parsing Report:\n",
      "2025-02-22 15:57:42,441 - INFO - {'accuracy': 99.02, 'whitespace': 12.24, 'order': 1, 'page': 1}\n",
      "2025-02-22 15:57:42,442 - INFO - Processing complete. Check the 'output' folder for results.\n"
     ]
    },
    {
     "name": "stdout",
     "output_type": "stream",
     "text": [
      "Saved to data/output/foo/foo_table_1.csv\n",
      "\n",
      "Table 1 Parsing Report:\n",
      "{'accuracy': 99.02, 'whitespace': 12.24, 'order': 1, 'page': 1}\n",
      "Processing complete. Check the 'output' folder for results.\n",
      "Script execution finished.\n"
     ]
    }
   ],
   "source": [
    "# Process each PDF in the input directory\n",
    "pdf_files = list(input_dir.glob(\"*.pdf\"))\n",
    "print(f\"Found {len(pdf_files)} PDF files\")\n",
    "\n",
    "if len(pdf_files) == 0:\n",
    "    print(\"No PDF files found in the input directory.\")\n",
    "    logging.warning(\"No PDF files found in the input directory.\")\n",
    "else:\n",
    "    for pdf_file in pdf_files:\n",
    "        process_pdf(pdf_file, output_dir)\n",
    "\n",
    "    print(\"Processing complete. Check the 'output' folder for results.\")\n",
    "    logging.info(\"Processing complete. Check the 'output' folder for results.\")\n",
    "\n",
    "print(\"Script execution finished.\")"
   ]
  },
  {
   "cell_type": "code",
   "execution_count": null,
   "metadata": {},
   "outputs": [],
   "source": []
  },
  {
   "cell_type": "code",
   "execution_count": 6,
   "metadata": {},
   "outputs": [
    {
     "data": {
      "text/plain": [
       "[PosixPath('data/20AKSAE_A017.pdf'),\n",
       " PosixPath('data/sample_pdf.pdf'),\n",
       " PosixPath('data/2502.11946v2.pdf'),\n",
       " PosixPath('data/foo.pdf')]"
      ]
     },
     "execution_count": 6,
     "metadata": {},
     "output_type": "execute_result"
    }
   ],
   "source": [
    "pdf_files"
   ]
  },
  {
   "cell_type": "code",
   "execution_count": null,
   "metadata": {},
   "outputs": [],
   "source": []
  },
  {
   "cell_type": "code",
   "execution_count": null,
   "metadata": {},
   "outputs": [],
   "source": []
  }
 ],
 "metadata": {
  "kernelspec": {
   "display_name": "pdf-loader-oJYlJ6ZH-py3.11",
   "language": "python",
   "name": "python3"
  },
  "language_info": {
   "codemirror_mode": {
    "name": "ipython",
    "version": 3
   },
   "file_extension": ".py",
   "mimetype": "text/x-python",
   "name": "python",
   "nbconvert_exporter": "python",
   "pygments_lexer": "ipython3",
   "version": "3.11.5"
  }
 },
 "nbformat": 4,
 "nbformat_minor": 2
}
