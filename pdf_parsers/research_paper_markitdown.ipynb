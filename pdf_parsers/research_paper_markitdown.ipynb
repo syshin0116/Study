{
 "cells": [
  {
   "cell_type": "code",
   "execution_count": 1,
   "metadata": {},
   "outputs": [],
   "source": [
    "from markitdown import MarkItDown\n"
   ]
  },
  {
   "cell_type": "code",
   "execution_count": 2,
   "metadata": {},
   "outputs": [],
   "source": [
    "FILE_PATH = \"/Users/syshin/Desktop/Syshin/LabQ/한국자동차연구원/data/논문/KSAE 학술대회 논문 모음집/2020년/2. 추계/Data/20AKSAE_A004.pdf\""
   ]
  },
  {
   "cell_type": "code",
   "execution_count": 3,
   "metadata": {},
   "outputs": [
    {
     "data": {
      "text/plain": [
       "<markitdown._markitdown.DocumentConverterResult at 0x10cb13510>"
      ]
     },
     "execution_count": 3,
     "metadata": {},
     "output_type": "execute_result"
    }
   ],
   "source": [
    "md = MarkItDown()\n",
    "result = md.convert(FILE_PATH)\n",
    "result"
   ]
  },
  {
   "cell_type": "code",
   "execution_count": 6,
   "metadata": {},
   "outputs": [
    {
     "name": "stdout",
     "output_type": "stream",
     "text": [
      "('         회귀분석법을 이용한 차량 오일펌프의 인로터 중량 최적화 해석 정대근1)* 김기태1) 명화공업1)  In-rotor '\n",
      " 'weight optimization analysis of vehicle oil pump using regression analysis '\n",
      " 'method  Dae-geun Jung1)  Ki-Tae Kim1)  1) MYUNGHWA IND. CO., LTD. R&D Center '\n",
      " '65, Beojigi-ro, Danwon-gu, Ansan-si, Gyeonggi-do, Korea   Abstract : This '\n",
      " 'white paper contains information on techniques that can reduce design time. '\n",
      " 'In this study, multiple regression analysis was used as a method to increase '\n",
      " 'work efficiency. The vane, in-rotor of the vehicle oil pump was selected. '\n",
      " 'Variables that can be optimized for weight were selected during design. It '\n",
      " 'has 5 independent variables and 3 factors, which was analyzed by multiple '\n",
      " 'regression. Based on this data, the \"Macro\" automation sheet was built. As a '\n",
      " 'result of comparing the opimization program and CAE in this paper, the '\n",
      " 'reliability was 91.6%. Through this, the designer can easily and quickly '\n",
      " 'predict design variables without CAE analysis.   Key words : Multiple '\n",
      " 'regression analysis(다중회귀분석), Vehicle(차량), Oil Pump(오일펌프), Vane(베인), '\n",
      " 'Inrotor(인로터), Optimization(최적화)       Subscripts  A,B,C,D,E : independent '\n",
      " 'variable 𝛽(cid:2868)~𝛽(cid:2873)  : unknown quantity Y : Stress      '\n",
      " '--------------------------------- * 정대근, E-mail: dgjung@myunghwa.com. 김기태, '\n",
      " 'E-mail : ktkim1@myunghwa.com  1. 서 론  최근 자동차부품기업의 기술경쟁력을 높이기 위해 동력전달, 섀시, '\n",
      " '제동, 현가, 경량 차체부품 등의 차량부품의 고도화를 위한 기술개발이 활발히 이루어 지고 있다. 또한 미래 자동차 산업의 패러다임 변화에 '\n",
      " '맞춰 친환경 차량의 전기전장부품 개발을 도모하고 있다. 이에 따라 자동차 분야 기술고도화를 통한 미래 먹거리 창출의 원동력 확보와 '\n",
      " '원천기술에 대한 확보가 요구되고 있다. 이러한 전망으로 급변화하는 기술력에 대응하기 위해서는 효율적인 업무가 뒷받침 되어야 한다. 본 '\n",
      " '논문에서는 인로터 설계 시 강도를 만족하는수준에서 중량을 고려한 설계 파라메터를 빠르게 2020 한국자동차공학회 '\n",
      " '추계학술대회Copyright ⓒ 2020 KSAE 20AKSAE_A0041\\x0c'\n",
      " '      산출 할 수 있는 프로그램을 구축하였다. 기존 문제점의 경우, 베인 인로터 설계 시 설계자가 레이아웃과 지금까지의 경험 및 '\n",
      " '표준 가이드를 바탕으로 초기 설계를 진행한 후 해석을 통한 강도 측면을 검증하였으며, 강도 결과에 대한 안전율을 고려하여 중량 절감까지 '\n",
      " '검토하였다. 이러한 반복 과정을 통하여 중량 절감이 되긴 하나, 중량 최적화에 대한 결과가 최선이라고는 보기 어려우며, 많은 시간이 '\n",
      " '소요된다.  이러한 문제점을 해결하기 위하여 설계 파라메터별 중량 최적화 자동 시트를 개발하였으며, 이를 통하여 업무 간소화와 업무 '\n",
      " '효율성을 극대화하고, 업무 시간을 단축하였다. 차량 Fig. 1과 같이 오일펌프의 부품인 베인 인로터 설계 시 중량을 고려하여 강도 '\n",
      " '수준을 만족하는 설계 파라메터를 선정하고, 이를 검증하기 위한 단계로 선형 강도 해석(linear static analysis)을 통한 '\n",
      " '결과를 확인하였다. 이로 인해 확보된 시간은 기술고도화를 위한 연구에 투자할 수 있다. 전반적인 순서도는 Fig.2와 같이 진행 된다.  '\n",
      " 'Fig. 1 챠량 오일펌프 내부   2. 설계 파라메터 인자 설정 및 해석 결과  베인 인로터의 강도를 만족하면서, 중량을 최적화한 설계 '\n",
      " '파라메터 값을 도출하기 위한 시트 구축 목적으로 선행 작업을 진행하였다.  먼저 인로터 설계 시 강도에 영향을 주는 인자를 분류 한다. '\n",
      " 'Fig.3과 Table 1 같이 설계 파라메터별 설계 가능 범위를 나열하였다. Fig. 2 순서도  Table 1 설계 파라메터 No. '\n",
      " '설계 파라메터 범위 1 A D10.0~D12 mm 2 B 40.12~46.59 mm (47.31도~55.54도) 3 C 1.0~3.0 '\n",
      " 'mm 4 D 0.5~1.5 mm 5 E 16.6~27.0 mm  2\\x0c'\n",
      " '       Fig. 3 베인 인로터 설계 파라메터 인자   중회귀식을 만들기 전 해석이 선행으로 진행 되어 있다. 독립 변수 5개와 '\n",
      " '3인자 수준으로 Table.2와 같이 27개의 항목으로 정렬한다. 해석 조건은 Fig.4과 같이 중심축을 기준으로 10N.m 회전하며, '\n",
      " '외곽 한 개의 선을 모두 고정한 상태로 최대 응력이 발생되는 동일한 부분을 측정한다.  측정한 해석 결과는 Y값 Table.3과 같다. '\n",
      " '이 모든 값을 근거로 식(1)의 중회귀식이 구해진다.  구해진 식은 다음과 같다.   Y = 331.829 - 7.828A - '\n",
      " '2.464B -15.339C - 4.656D - 2.525E (1)     Table 2 CAE 모델 항목 No. A B C D E 1 '\n",
      " '10 40.12 1 0.5 16.6 2 2 1.0 21.8 3 3 1.5 27.0 4 43.71 1 0.5 21.8 5 2 1.0 '\n",
      " '27.0 6 3 1.5 16.6 7 46.59 1 0.5 27.0 8 2 1.0 16.6 9 3 1.5 21.8 10 11 40.12 1 '\n",
      " '1.0 16.6 11 2 1.5 21.8 12 3 0.5 27.0 13 43.71 1 1.0 21.8 14 2 1.5 27.0 15 3 '\n",
      " '0.5 16.6 16 46.59 1 1.0 27.0 17 2 1.5 16.6 18 3 0.5 21.8 19 12 40.12 1 1.5 '\n",
      " '16.6 20 2 0.5 21.8 21 3 1.0 27.0 22 43.71 1 1.5 21.8 23 2 0.5 27.0 24 3 1.0 '\n",
      " '16.6 25 46.59 1 1.5 27.0 26 2 0.5 16.6 27 3 1.0 21.8   3\\x0c'\n",
      " '      Table 3 CAE 주응력 해석 결과 No. y No y No y 1 113.1 10 92.0 19 74.7 2 55.8 '\n",
      " '11 47.7 20 42.5 3 33.5 12 29.7 21 26.3 4 70.2 13 58.7 22 48.5 5 39.8 14 35.5 '\n",
      " '23 29.5 6 49.8 15 43.3 24 38.3 7 52.5 16 42.1 25 36.7 8 57.6 17 50.1 26 43.0 '\n",
      " '9 35.0 18 29.6 27 26.9  Fig. 4 인로터 CAE 조건   3. 다중 회귀 분석 이론 (multiple '\n",
      " 'regression analysis)  회귀 분석은 X라는 독립변수와 Y라는 종속변수 간의 인과 관계를 찾기 위한 기업으로 종속변인이 '\n",
      " '얼마나 변할 것인지에 대한 영향력을 예측하는 통계 분석 기법이다. 회귀 분석의 종류는 단순 선형 회귀분석, 다중 회귀분석(중회귀분석), '\n",
      " '위계적 다중 회귀 분석, 곡선 회귀분석 등 다양하게 있다. 본 논문에서는 독립변수가 하나 이상의 설계 파라메터(독립변인)들을 갖고 '\n",
      " '있으므로, 다중 회귀 분석을 사용하였다. 독립변수가 5개인 3인자 수준의 경우 중회귀 모형은 다음 식(2),(3)와 같다.  '\n",
      " '𝑦(cid:3036)(cid:3404)𝛽(cid:2868)(cid:3397)𝛽(cid:2869)𝑥(cid:2869)(cid:3036)(cid:3397)…𝛽(cid:2873)𝑥(cid:2873)(cid:3036)(cid:3397)𝜀(cid:3036)(cid:4666)𝑖(cid:3404)1,5(cid:4667)        '\n",
      " '(2) 𝛽(cid:2868), 𝛽(cid:2869),…,𝛽(cid:2873)   미지수                      (3)  위 '\n",
      " '중회귀 모형을 행렬식으로 표현하면 다음 식(4) ~ (6)과 같다.  '\n",
      " 'y(cid:3404)𝑋𝛽(cid:3397)𝜀→𝜀(cid:3404)𝑦(cid:3398)𝑋𝛽                   (4)  '\n",
      " '𝐲(cid:3404)⎩⎨⎧𝑦(cid:2869)𝑦(cid:2870)..𝑦(cid:2873)⎭⎬⎫ 𝐗(cid:3404)⎩⎪⎨⎪⎧1 '\n",
      " '𝑥(cid:2869)(cid:2869) … 𝑥(cid:2873)(cid:2869)1 𝑥(cid:2869)(cid:2870) … '\n",
      " '𝑥(cid:2873)(cid:2870).   .  …   ..   .  …   .1 𝑥(cid:2869)(cid:2873) ⋯ '\n",
      " '𝑥(cid:2873)(cid:2873)⎭⎪⎬⎪⎫             (5) '\n",
      " '𝛃(cid:3404)⎩⎪⎨⎪⎧𝛽(cid:2868)𝛽(cid:2869)..𝛽(cid:2873)⎭⎪⎬⎪⎫        '\n",
      " '𝛆(cid:3404)⎩⎨⎧𝜀(cid:2869)𝜀(cid:2870)..𝜀(cid:2873)⎭⎬⎫                 (6)  위 '\n",
      " '식에 오차항의 제곱을 한 최종 식은 다음 식(7) ~ (12)와 같다.  '\n",
      " 'S(cid:3404)∑𝜀(cid:3036)(cid:2870)(cid:3404)𝜀(cid:2869)(cid:2870)(cid:3397)𝜀(cid:2870)(cid:2870)(cid:3397)⋯(cid:3397)𝜀(cid:2873)(cid:2870)(cid:3404)(cid:2873)(cid:3036)(cid:2880)(cid:2869)𝜀(cid:3021)𝜀        '\n",
      " '(7) '\n",
      " '(cid:3404)(cid:4666)y(cid:3398)Xβ(cid:4667)(cid:3021)(cid:4666)𝑦(cid:3398)𝑋𝛽(cid:4667)                       '\n",
      " '(8) '\n",
      " '(cid:3404)(cid:4666)𝑦(cid:3021)(cid:3398)𝛽(cid:3021)𝑋(cid:3021)(cid:4667)(cid:4666)𝑦(cid:3398)𝑋𝛽(cid:4667)                    '\n",
      " '(9) '\n",
      " '(cid:3105)(cid:3020)(cid:3105)(cid:3081)(cid:3404)𝑋(cid:3021)𝑋𝛽(cid:3398)𝑋(cid:3021)𝑦(cid:3404)0                      '\n",
      " '(10) \\uf0e8 𝑋(cid:3021)𝑋𝛽(cid:3404)𝑋(cid:3021)𝑦 \\uf0e8 '\n",
      " '𝛽(cid:3404)(cid:4666)𝑋(cid:3021)𝑋(cid:4667)(cid:2879)(cid:2869)𝑋(cid:3021)𝑦                      '\n",
      " '(11) '\n",
      " '𝑌(cid:3404)𝛽(cid:2868)(cid:3397)𝛽(cid:2869)𝐴(cid:3397)𝛽(cid:2870)𝐵(cid:3397)𝛽(cid:2871)𝐶(cid:3397)𝛽(cid:2872)𝐷(cid:3397)𝛽(cid:2873)𝐸   '\n",
      " '(12) 4\\x0c'\n",
      " '      여기서 𝛽(cid:2868)~𝛽(cid:2873)의 미지수가 고정이 되고, A~E의 독립변수 값의 의해 Y값의 결과가 자동 '\n",
      " '도출 된다.     미지수를 구하기 위해서는 선행으로 A~E에 해당하는 독립변수 조건을 적용한 3인자 수준에서의 해석 결과를 토대로 식을 '\n",
      " '도출 하여야 한다.   4. 중량 최적화 설계 프로그램 구축  지금까지의 중회귀식에 대한 결과와 데이터를 바탕으로 엑셀 시트와 '\n",
      " '매크로(macro)를 활용하여 중량 최적화 설계 자동화 프로그램을 구축하였다. 본 프로그램은 Fig.6와 같이 설계 담당자가 쉽게 활용할 '\n",
      " '수 있도록 2단계로 구축하였다.   Fig. 6 중량 최적화 자동화 설계 프로그램  1단계 A~E까지 파라메터별 최소범위와 최대범위 '\n",
      " '설정, 2단계 “최적화 실행”클릭 시 Iteration 10만회(30초 이내) 반복 계산을 통하여 내구한도 이내에서의 최소 중량순으로 '\n",
      " 'TOP10를 추출하게 하였다. 이 결과를 참고하여 설계자는 별도의 해석을 진행하지 않고도 설계 파라메터 값을 쉽고 빠르게 예측 할 수 '\n",
      " '있다.     5. 최적화프로그램 결과와 해석결과 비교  지금까지의 중회귀식 결과와 CAE 결과을 비교하여, 중회귀식의 신뢰성을 평가해 '\n",
      " '보았다. 임의의 파라메터값을 선정하여 10-CASE에 대한 CAE 해석을 진행하고, 그 결과와 최적프로그램 결과를 비교하여 신뢰성에 대한 '\n",
      " '값을 비교하였다. Table.4와 같이 평균 신뢰성은 95.3%로 오차률은 5% 이내임을 확인 하였다.  이를 근거로 설계자는 인로터 '\n",
      " '설계 시 중량 최적화 설계 프로그램을 활용하여 선검토 및 중량 최적화에 대한 설계 파라메터 값을 초기에 선정 할 수 있다. 앞서 언급한 '\n",
      " '바와 같이 이로 인해 확보된 시간은 기술고도화를 위한 연구에 투자할 수 있다.   Table 4 CAE 결과와 중회귀식 결과 비교 표 '\n",
      " 'No. CAE 결과 중회귀식 결과 신뢰성 1 70.2 73.1 96.0% 2 39.8 42.4 94.0% 3 49.8 50.9 97.8% '\n",
      " '4 57.6 61.5 93.6% 5 29.7 30.4 97.8% 6 58.7 63.0 93.2% 7 50.1 51.4 97.6% 8 '\n",
      " '29.6 27.5 93.1% 9 48.5 52.8 91.8% 10 29.5 29.0 98.4% 평균 신뢰성 95.3%     5\\x0c'\n",
      " '      6. 결 론  본 논문에서는 인로터 설계 시 설계 파라메터별선행 해석을 진행하고, 이를 바탕으로 통계적인 기법의 중회귀식을 '\n",
      " '사용하여 중회귀식을 도출하였다. 중회귀식에 대한 결과와 데이터를 활용하여, 중량 최적화 설계 자동화 프로그램을 구축하였다.  이 '\n",
      " '프로그램을 활용하여, 설계자는 인로터 설계 시 중량 최적화 기준의 설계 파라메터 값을 빠르고, 쉽게 확인 할 수 있다. 1) 설계 '\n",
      " '파라메터 인자를 확인하여, 독립변수 5개와 3인자 수준으로 27개의 파트로 나열하였다.  2) 27개의 파트를 CAE 해석을 통하여, '\n",
      " '선행해석하고, 결과를 기록하였다. CAE 결과는 중회귀식에 y(식.10)에 사용되어, 중회귀식에 미지수값을 도출하였다. 3) 중회귀식을 '\n",
      " '바탕으로 중량 최적화 설계 파라메터 프로그램을 구축하였다. 4) 중회귀식 결과와 CAE 결과 비교를 통하여, 신뢰성을 확인하였다.   '\n",
      " 'References  1) Seong-Hyeon Park, “design of experiments”, p423, Minyoungsa , '\n",
      " '2004 2) Mi-Ra Ryu, Hwan-Young Jeon, “Heat Transfer Analysis of Side Mirror '\n",
      " 'using Regression Analysis”, KSMT Korean Soc. Mech. Techol, VOL.22 NO.4, '\n",
      " 'PP.661-666, 2020  6')\n"
     ]
    }
   ],
   "source": [
    "from pprint import pprint\n",
    "\n",
    "pprint(result.text_content)"
   ]
  },
  {
   "cell_type": "code",
   "execution_count": 8,
   "metadata": {},
   "outputs": [
    {
     "data": {
      "text/plain": [
       "' '"
      ]
     },
     "execution_count": 8,
     "metadata": {},
     "output_type": "execute_result"
    }
   ],
   "source": [
    "result.text_content[0]"
   ]
  },
  {
   "cell_type": "code",
   "execution_count": null,
   "metadata": {},
   "outputs": [],
   "source": []
  }
 ],
 "metadata": {
  "kernelspec": {
   "display_name": "pdf-loader-Xoos--pt-py3.11",
   "language": "python",
   "name": "python3"
  },
  "language_info": {
   "codemirror_mode": {
    "name": "ipython",
    "version": 3
   },
   "file_extension": ".py",
   "mimetype": "text/x-python",
   "name": "python",
   "nbconvert_exporter": "python",
   "pygments_lexer": "ipython3",
   "version": "3.11.5"
  }
 },
 "nbformat": 4,
 "nbformat_minor": 2
}
