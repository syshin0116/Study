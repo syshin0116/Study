{
 "cells": [
  {
   "cell_type": "code",
   "execution_count": 1,
   "metadata": {},
   "outputs": [],
   "source": [
    "import unstructured"
   ]
  },
  {
   "cell_type": "code",
   "execution_count": 2,
   "metadata": {},
   "outputs": [],
   "source": [
    "INPUT_FILE_PATH = \"./data/sample_pdf.pdf\"\n",
    "OUTPUT_FILE_PATH = \"./data/output\""
   ]
  },
  {
   "cell_type": "code",
   "execution_count": 3,
   "metadata": {},
   "outputs": [
    {
     "name": "stderr",
     "output_type": "stream",
     "text": [
      "2025-02-22 17:20:14,293 MainProcess INFO     created indexer with configs: {\"input_path\": \"data/sample_pdf.pdf\", \"recursive\": false}, connection configs: {\"access_config\": \"**********\"}\n",
      "2025-02-22 17:20:14,294 MainProcess INFO     Created download with configs: {\"download_dir\": null}, connection configs: {\"access_config\": \"**********\"}\n",
      "2025-02-22 17:20:14,294 MainProcess INFO     created partition with configs: {\"strategy\": \"hi_res\", \"ocr_languages\": null, \"encoding\": null, \"additional_partition_args\": {\"split_pdf_page\": true, \"split_pdf_allow_failed\": true, \"split_pdf_concurrency_level\": 15}, \"skip_infer_table_types\": null, \"fields_include\": [\"element_id\", \"text\", \"type\", \"metadata\", \"embeddings\"], \"flatten_metadata\": false, \"metadata_exclude\": [], \"element_exclude\": [], \"metadata_include\": [], \"partition_endpoint\": null, \"partition_by_api\": true, \"api_key\": null, \"hi_res_model_name\": null, \"raise_unsupported_filetype\": false}\n",
      "2025-02-22 17:20:14,294 MainProcess INFO     Created upload with configs: {\"output_dir\": \"./data/output\"}, connection configs: {\"access_config\": \"**********\"}\n",
      "2025-02-22 17:20:14,295 MainProcess INFO     running local pipeline: indexer (LocalIndexer) -> download (LocalDownloader) -> partition (hi_res) -> upload (LocalUploader) with configs: {\"reprocess\": false, \"verbose\": false, \"tqdm\": false, \"work_dir\": \"/Users/syshin/.cache/unstructured/ingest/pipeline\", \"num_processes\": 2, \"max_connections\": null, \"raise_on_error\": false, \"disable_parallelism\": false, \"preserve_downloads\": false, \"download_only\": false, \"re_download\": false, \"uncompress\": false, \"iter_delete\": false, \"delete_cache\": false, \"otel_endpoint\": null, \"status\": {}}\n",
      "2025-02-22 17:20:14,338 MainProcess INFO     indexer finished in 5.2e-05s\n",
      "2025-02-22 17:20:14,340 MainProcess INFO     calling DownloadStep with 1 docs\n",
      "2025-02-22 17:20:14,340 MainProcess INFO     processing content async\n",
      "2025-02-22 17:20:14,340 MainProcess WARNING  async code being run in dedicated thread pool to not conflict with existing event loop: <_UnixSelectorEventLoop running=True closed=False debug=False>\n",
      "2025-02-22 17:20:14,341 MainProcess INFO     download finished in 0.000674s, attributes: file_id=6805fa09f5d7\n",
      "2025-02-22 17:20:14,342 MainProcess INFO     download step finished in 0.002231s\n",
      "2025-02-22 17:20:14,342 MainProcess INFO     calling PartitionStep with 1 docs\n",
      "2025-02-22 17:20:14,342 MainProcess INFO     processing content async\n",
      "2025-02-22 17:20:14,342 MainProcess WARNING  async code being run in dedicated thread pool to not conflict with existing event loop: <_UnixSelectorEventLoop running=True closed=False debug=False>\n",
      "2025-02-22 17:20:14,637 MainProcess INFO     partition finished in 0.294658s, attributes: file_id=6805fa09f5d7\n",
      "2025-02-22 17:20:14,638 MainProcess ERROR    Exception raised while running partition\n",
      "Traceback (most recent call last):\n",
      "  File \"/Users/syshin/Library/Caches/pypoetry/virtualenvs/pdf-loader-oJYlJ6ZH-py3.11/lib/python3.11/site-packages/unstructured_ingest/v2/pipeline/interfaces.py\", line 171, in run_async\n",
      "    return await self._run_async(fn=fn, **kwargs)\n",
      "           ^^^^^^^^^^^^^^^^^^^^^^^^^^^^^^^^^^^^^^\n",
      "  File \"/Users/syshin/Library/Caches/pypoetry/virtualenvs/pdf-loader-oJYlJ6ZH-py3.11/lib/python3.11/site-packages/unstructured_ingest/v2/pipeline/steps/partition.py\", line 66, in _run_async\n",
      "    partitioned_content = await fn(**fn_kwargs)\n",
      "                          ^^^^^^^^^^^^^^^^^^^^^\n",
      "  File \"/Users/syshin/Library/Caches/pypoetry/virtualenvs/pdf-loader-oJYlJ6ZH-py3.11/lib/python3.11/site-packages/unstructured_ingest/v2/processes/partitioner.py\", line 222, in run_async\n",
      "    return await self.partition_via_api(filename, metadata=metadata, **kwargs)\n",
      "           ^^^^^^^^^^^^^^^^^^^^^^^^^^^^^^^^^^^^^^^^^^^^^^^^^^^^^^^^^^^^^^^^^^^\n",
      "  File \"/Users/syshin/Library/Caches/pypoetry/virtualenvs/pdf-loader-oJYlJ6ZH-py3.11/lib/python3.11/site-packages/unstructured_ingest/utils/dep_check.py\", line 62, in wrapper_async\n",
      "    return await func(*args, **kwargs)\n",
      "           ^^^^^^^^^^^^^^^^^^^^^^^^^^^\n",
      "  File \"/Users/syshin/Library/Caches/pypoetry/virtualenvs/pdf-loader-oJYlJ6ZH-py3.11/lib/python3.11/site-packages/unstructured_ingest/v2/processes/partitioner.py\", line 189, in partition_via_api\n",
      "    api_key=self.config.api_key.get_secret_value(),\n",
      "            ^^^^^^^^^^^^^^^^^^^^^^^^^^^^^^^^^^^^\n",
      "AttributeError: 'NoneType' object has no attribute 'get_secret_value'\n",
      "2025-02-22 17:20:14,639 MainProcess INFO     partition step finished in 0.297222s\n",
      "2025-02-22 17:20:14,640 MainProcess INFO     No files to process after partitioning, exiting\n",
      "2025-02-22 17:20:14,640 MainProcess INFO     ingest process finished in 0.345262s\n",
      "2025-02-22 17:20:14,640 MainProcess ERROR    1 failed documents:\n",
      "2025-02-22 17:20:14,641 MainProcess ERROR    /Users/syshin/.cache/unstructured/ingest/pipeline/indexer/6805fa09f5d7.json: [partition] 'NoneType' object has no attribute 'get_secret_value'\n"
     ]
    },
    {
     "ename": "PipelineError",
     "evalue": "Pipeline did not run successfully",
     "output_type": "error",
     "traceback": [
      "\u001b[0;31m---------------------------------------------------------------------------\u001b[0m",
      "\u001b[0;31mPipelineError\u001b[0m                             Traceback (most recent call last)",
      "Cell \u001b[0;32mIn[3], line 31\u001b[0m\n\u001b[1;32m     11\u001b[0m \u001b[38;5;28;01mfrom\u001b[39;00m\u001b[38;5;250m \u001b[39m\u001b[38;5;21;01munstructured_ingest\u001b[39;00m\u001b[38;5;21;01m.\u001b[39;00m\u001b[38;5;21;01mv2\u001b[39;00m\u001b[38;5;21;01m.\u001b[39;00m\u001b[38;5;21;01mprocesses\u001b[39;00m\u001b[38;5;21;01m.\u001b[39;00m\u001b[38;5;21;01mpartitioner\u001b[39;00m\u001b[38;5;250m \u001b[39m\u001b[38;5;28;01mimport\u001b[39;00m PartitionerConfig\n\u001b[1;32m     13\u001b[0m \u001b[38;5;28;01mif\u001b[39;00m \u001b[38;5;18m__name__\u001b[39m \u001b[38;5;241m==\u001b[39m \u001b[38;5;124m\"\u001b[39m\u001b[38;5;124m__main__\u001b[39m\u001b[38;5;124m\"\u001b[39m:\n\u001b[1;32m     14\u001b[0m     \u001b[43mPipeline\u001b[49m\u001b[38;5;241;43m.\u001b[39;49m\u001b[43mfrom_configs\u001b[49m\u001b[43m(\u001b[49m\n\u001b[1;32m     15\u001b[0m \u001b[43m        \u001b[49m\u001b[43mcontext\u001b[49m\u001b[38;5;241;43m=\u001b[39;49m\u001b[43mProcessorConfig\u001b[49m\u001b[43m(\u001b[49m\u001b[43m)\u001b[49m\u001b[43m,\u001b[49m\n\u001b[1;32m     16\u001b[0m \u001b[43m        \u001b[49m\u001b[43mindexer_config\u001b[49m\u001b[38;5;241;43m=\u001b[39;49m\u001b[43mLocalIndexerConfig\u001b[49m\u001b[43m(\u001b[49m\u001b[43minput_path\u001b[49m\u001b[38;5;241;43m=\u001b[39;49m\u001b[43mINPUT_FILE_PATH\u001b[49m\u001b[43m)\u001b[49m\u001b[43m,\u001b[49m\n\u001b[1;32m     17\u001b[0m \u001b[43m        \u001b[49m\u001b[43mdownloader_config\u001b[49m\u001b[38;5;241;43m=\u001b[39;49m\u001b[43mLocalDownloaderConfig\u001b[49m\u001b[43m(\u001b[49m\u001b[43m)\u001b[49m\u001b[43m,\u001b[49m\n\u001b[1;32m     18\u001b[0m \u001b[43m        \u001b[49m\u001b[43msource_connection_config\u001b[49m\u001b[38;5;241;43m=\u001b[39;49m\u001b[43mLocalConnectionConfig\u001b[49m\u001b[43m(\u001b[49m\u001b[43m)\u001b[49m\u001b[43m,\u001b[49m\n\u001b[1;32m     19\u001b[0m \u001b[43m        \u001b[49m\u001b[43mpartitioner_config\u001b[49m\u001b[38;5;241;43m=\u001b[39;49m\u001b[43mPartitionerConfig\u001b[49m\u001b[43m(\u001b[49m\n\u001b[1;32m     20\u001b[0m \u001b[43m            \u001b[49m\u001b[43mpartition_by_api\u001b[49m\u001b[38;5;241;43m=\u001b[39;49m\u001b[38;5;28;43;01mTrue\u001b[39;49;00m\u001b[43m,\u001b[49m\n\u001b[1;32m     21\u001b[0m \u001b[43m            \u001b[49m\u001b[43mapi_key\u001b[49m\u001b[38;5;241;43m=\u001b[39;49m\u001b[43mos\u001b[49m\u001b[38;5;241;43m.\u001b[39;49m\u001b[43mgetenv\u001b[49m\u001b[43m(\u001b[49m\u001b[38;5;124;43m\"\u001b[39;49m\u001b[38;5;124;43mUNSTRUCTURED_API_KEY\u001b[39;49m\u001b[38;5;124;43m\"\u001b[39;49m\u001b[43m)\u001b[49m\u001b[43m,\u001b[49m\n\u001b[1;32m     22\u001b[0m \u001b[43m            \u001b[49m\u001b[43mpartition_endpoint\u001b[49m\u001b[38;5;241;43m=\u001b[39;49m\u001b[43mos\u001b[49m\u001b[38;5;241;43m.\u001b[39;49m\u001b[43mgetenv\u001b[49m\u001b[43m(\u001b[49m\u001b[38;5;124;43m\"\u001b[39;49m\u001b[38;5;124;43mUNSTRUCTURED_API_URL\u001b[39;49m\u001b[38;5;124;43m\"\u001b[39;49m\u001b[43m)\u001b[49m\u001b[43m,\u001b[49m\n\u001b[1;32m     23\u001b[0m \u001b[43m            \u001b[49m\u001b[43mstrategy\u001b[49m\u001b[38;5;241;43m=\u001b[39;49m\u001b[38;5;124;43m\"\u001b[39;49m\u001b[38;5;124;43mhi_res\u001b[39;49m\u001b[38;5;124;43m\"\u001b[39;49m\u001b[43m,\u001b[49m\n\u001b[1;32m     24\u001b[0m \u001b[43m            \u001b[49m\u001b[43madditional_partition_args\u001b[49m\u001b[38;5;241;43m=\u001b[39;49m\u001b[43m{\u001b[49m\n\u001b[1;32m     25\u001b[0m \u001b[43m                \u001b[49m\u001b[38;5;124;43m\"\u001b[39;49m\u001b[38;5;124;43msplit_pdf_page\u001b[39;49m\u001b[38;5;124;43m\"\u001b[39;49m\u001b[43m:\u001b[49m\u001b[43m \u001b[49m\u001b[38;5;28;43;01mTrue\u001b[39;49;00m\u001b[43m,\u001b[49m\n\u001b[1;32m     26\u001b[0m \u001b[43m                \u001b[49m\u001b[38;5;124;43m\"\u001b[39;49m\u001b[38;5;124;43msplit_pdf_allow_failed\u001b[39;49m\u001b[38;5;124;43m\"\u001b[39;49m\u001b[43m:\u001b[49m\u001b[43m \u001b[49m\u001b[38;5;28;43;01mTrue\u001b[39;49;00m\u001b[43m,\u001b[49m\n\u001b[1;32m     27\u001b[0m \u001b[43m                \u001b[49m\u001b[38;5;124;43m\"\u001b[39;49m\u001b[38;5;124;43msplit_pdf_concurrency_level\u001b[39;49m\u001b[38;5;124;43m\"\u001b[39;49m\u001b[43m:\u001b[49m\u001b[43m \u001b[49m\u001b[38;5;241;43m15\u001b[39;49m\u001b[43m,\u001b[49m\n\u001b[1;32m     28\u001b[0m \u001b[43m            \u001b[49m\u001b[43m}\u001b[49m\u001b[43m,\u001b[49m\n\u001b[1;32m     29\u001b[0m \u001b[43m        \u001b[49m\u001b[43m)\u001b[49m\u001b[43m,\u001b[49m\n\u001b[1;32m     30\u001b[0m \u001b[43m        \u001b[49m\u001b[43muploader_config\u001b[49m\u001b[38;5;241;43m=\u001b[39;49m\u001b[43mLocalUploaderConfig\u001b[49m\u001b[43m(\u001b[49m\u001b[43moutput_dir\u001b[49m\u001b[38;5;241;43m=\u001b[39;49m\u001b[43mOUTPUT_FILE_PATH\u001b[49m\u001b[43m)\u001b[49m\u001b[43m,\u001b[49m\n\u001b[0;32m---> 31\u001b[0m \u001b[43m    \u001b[49m\u001b[43m)\u001b[49m\u001b[38;5;241;43m.\u001b[39;49m\u001b[43mrun\u001b[49m\u001b[43m(\u001b[49m\u001b[43m)\u001b[49m\n",
      "File \u001b[0;32m~/Library/Caches/pypoetry/virtualenvs/pdf-loader-oJYlJ6ZH-py3.11/lib/python3.11/site-packages/unstructured_ingest/v2/pipeline/pipeline.py:160\u001b[0m, in \u001b[0;36mPipeline.run\u001b[0;34m(self)\u001b[0m\n\u001b[1;32m    158\u001b[0m \u001b[38;5;28mself\u001b[39m\u001b[38;5;241m.\u001b[39mcleanup()\n\u001b[1;32m    159\u001b[0m \u001b[38;5;28;01mif\u001b[39;00m \u001b[38;5;28mself\u001b[39m\u001b[38;5;241m.\u001b[39mcontext\u001b[38;5;241m.\u001b[39mstatus:\n\u001b[0;32m--> 160\u001b[0m     \u001b[38;5;28;01mraise\u001b[39;00m PipelineError(\u001b[38;5;124m\"\u001b[39m\u001b[38;5;124mPipeline did not run successfully\u001b[39m\u001b[38;5;124m\"\u001b[39m)\n",
      "\u001b[0;31mPipelineError\u001b[0m: Pipeline did not run successfully"
     ]
    }
   ],
   "source": [
    "import os\n",
    "\n",
    "from unstructured_ingest.v2.pipeline.pipeline import Pipeline\n",
    "from unstructured_ingest.v2.interfaces import ProcessorConfig\n",
    "from unstructured_ingest.v2.processes.connectors.local import (\n",
    "    LocalIndexerConfig,\n",
    "    LocalDownloaderConfig,\n",
    "    LocalConnectionConfig,\n",
    "    LocalUploaderConfig,\n",
    ")\n",
    "from unstructured_ingest.v2.processes.partitioner import PartitionerConfig\n",
    "\n",
    "if __name__ == \"__main__\":\n",
    "    Pipeline.from_configs(\n",
    "        context=ProcessorConfig(),\n",
    "        indexer_config=LocalIndexerConfig(input_path=INPUT_FILE_PATH),\n",
    "        downloader_config=LocalDownloaderConfig(),\n",
    "        source_connection_config=LocalConnectionConfig(),\n",
    "        partitioner_config=PartitionerConfig(\n",
    "            partition_by_api=True,\n",
    "            api_key=os.getenv(\"UNSTRUCTURED_API_KEY\"),\n",
    "            partition_endpoint=os.getenv(\"UNSTRUCTURED_API_URL\"),\n",
    "            strategy=\"hi_res\",\n",
    "            additional_partition_args={\n",
    "                \"split_pdf_page\": True,\n",
    "                \"split_pdf_allow_failed\": True,\n",
    "                \"split_pdf_concurrency_level\": 15,\n",
    "            },\n",
    "        ),\n",
    "        uploader_config=LocalUploaderConfig(output_dir=OUTPUT_FILE_PATH),\n",
    "    ).run()"
   ]
  },
  {
   "cell_type": "code",
   "execution_count": null,
   "metadata": {},
   "outputs": [],
   "source": []
  }
 ],
 "metadata": {
  "kernelspec": {
   "display_name": "pdf-loader-oJYlJ6ZH-py3.11",
   "language": "python",
   "name": "python3"
  },
  "language_info": {
   "codemirror_mode": {
    "name": "ipython",
    "version": 3
   },
   "file_extension": ".py",
   "mimetype": "text/x-python",
   "name": "python",
   "nbconvert_exporter": "python",
   "pygments_lexer": "ipython3",
   "version": "3.11.5"
  }
 },
 "nbformat": 4,
 "nbformat_minor": 2
}
