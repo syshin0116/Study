{
 "cells": [
  {
   "cell_type": "markdown",
   "metadata": {},
   "source": [
    "## PyPDF"
   ]
  },
  {
   "cell_type": "code",
   "execution_count": 1,
   "metadata": {},
   "outputs": [],
   "source": [
    "from langchain_community.document_loaders import PyPDFLoader"
   ]
  },
  {
   "cell_type": "code",
   "execution_count": 2,
   "metadata": {},
   "outputs": [],
   "source": [
    "FILE_PATH = \"/Users/syshin/Desktop/Syshin/LabQ/한국자동차연구원/data/논문/KSAE 학술대회 논문 모음집/2020년/2. 추계/Data/20AKSAE_A004.pdf\""
   ]
  },
  {
   "cell_type": "code",
   "execution_count": 3,
   "metadata": {},
   "outputs": [],
   "source": [
    "pypdf_loader = PyPDFLoader(FILE_PATH)"
   ]
  },
  {
   "cell_type": "code",
   "execution_count": 4,
   "metadata": {},
   "outputs": [
    {
     "name": "stderr",
     "output_type": "stream",
     "text": [
      "Advanced encoding /UniKS-UTF16-H not implemented yet\n",
      "Advanced encoding /UniKS-UTF16-H not implemented yet\n"
     ]
    }
   ],
   "source": [
    "pypdf_docs = pypdf_loader.load()"
   ]
  },
  {
   "cell_type": "code",
   "execution_count": 5,
   "metadata": {},
   "outputs": [
    {
     "name": "stdout",
     "output_type": "stream",
     "text": [
      "   \n",
      " \n",
      "  \n",
      "Table 3 CAE 주응력 해석 결과 \n",
      "No. y No y No y \n",
      "1 113.1 10 92.0 19 74.7 \n",
      "2 55.8 11 47.7 20 42.5 \n",
      "3 33.5 12 29.7 21 26.3 \n",
      "4 70.2 13 58.7 22 48.5 \n",
      "5 39.8 14 35.5 23 29.5 \n",
      "6 49.8 15 43.3 24 38.3 \n",
      "7 52.5 16 42.1 25 36.7 \n",
      "8 57.6 17 50.1 26 43.0 \n",
      "9 35.0 18 29.6 27 26.9 \n",
      " \n",
      "Fig. 4 인로터 CAE 조건 \n",
      " \n",
      " \n",
      "3. 다중 회귀 분석 이론 \n",
      "(multiple regression analysis) \n",
      " \n",
      "회귀 분석은 X라는 독립변수와 Y라는 종속변수 \n",
      "간의 인과 관계를 찾기 위한 기업으로 종속변인이 \n",
      "얼마나 변할 것인지에 대한 영향력을 예측하는 통\n",
      "계 분석 기법이다. \n",
      "회귀 분석의 종류는 단순 선형 회귀분석, 다중 \n",
      "회귀분석(중회귀분석), 위계적 다중 회귀 분석, \n",
      "곡선 회귀분석 등 다양하게 있다. \n",
      "본 논문에서는 독립변수가 하나 이상의 설계 파\n",
      "라메터(독립변인)들을 갖고 있으므로, 다중 회귀 \n",
      "분석을 사용하였다. \n",
      "독립변수가 5개인 3인자 수준의 경우 중회귀 모\n",
      "형은 다음 식(2),(3)와 같다. \n",
      " \n",
      "𝑦௜ ൌ𝛽଴ ൅𝛽ଵ𝑥ଵ௜ ൅…𝛽ହ𝑥ହ௜ ൅𝜀௜ሺ𝑖ൌ 1,5ሻ        (2) \n",
      "𝛽଴, 𝛽ଵ,…, 𝛽ହ   미지수                      (3) \n",
      " \n",
      "위 중회귀 모형을 행렬식으로 표현하면 다음 식\n",
      "(4) ~ (6)과 같다. \n",
      " \n",
      "y ൌ𝑋 𝛽൅𝜀→𝜀ൌ𝑦െ𝑋 𝛽                    (4) \n",
      " \n",
      "𝐲ൌ\n",
      "⎩\n",
      "⎨\n",
      "⎧\n",
      "𝑦ଵ\n",
      "𝑦ଶ.\n",
      ".\n",
      "𝑦ହ⎭\n",
      "⎬\n",
      "⎫\n",
      " 𝐗ൌ\n",
      "⎩⎪⎨\n",
      "⎪⎧\n",
      "1 𝑥ଵଵ … 𝑥 ହଵ\n",
      "1 𝑥ଵଶ … 𝑥 ହଶ\n",
      ".   .  …   .\n",
      ".   .  …   .\n",
      "1 𝑥ଵହ ⋯ 𝑥ହହ⎭⎪⎬\n",
      "⎪⎫\n",
      "             (5) \n",
      "𝛃ൌ\n",
      "⎩⎪⎨\n",
      "⎪⎧𝛽଴\n",
      "𝛽ଵ.\n",
      ".\n",
      "𝛽ହ⎭⎪⎬\n",
      "⎪⎫\n",
      "        𝛆ൌ\n",
      "⎩\n",
      "⎨\n",
      "⎧\n",
      "𝜀ଵ\n",
      "𝜀ଶ.\n",
      ".\n",
      "𝜀ହ⎭\n",
      "⎬\n",
      "⎫\n",
      "                 (6) \n",
      " \n",
      "위 식에 오차항의 제곱을 한 최종 식은 다음 식\n",
      "(7) ~ (12)와 같다. \n",
      " \n",
      "S ൌ ∑ 𝜀௜\n",
      "ଶ ൌ𝜀ଵ\n",
      "ଶ ൅𝜀ଶ\n",
      "ଶ ൅⋯൅𝜀 ହ\n",
      "ଶ ൌହ\n",
      "௜ୀଵ 𝜀்𝜀        (7) \n",
      "ൌሺ y െXβሻ்ሺ𝑦െ𝑋 𝛽ሻ                       (8) \n",
      "ൌሺ 𝑦் െ𝛽்𝑋்ሻሺ𝑦 െ𝑋𝛽ሻ                    (9) \n",
      "డௌ\n",
      "డఉ ൌ𝑋 ்𝑋𝛽 െ𝑋்𝑦ൌ 0                      (10) \n",
      " 𝑋்𝑋𝛽 ൌ 𝑋்𝑦 \n",
      " 𝛽ൌሺ 𝑋்𝑋ሻିଵ𝑋்𝑦                      (11) \n",
      "𝑌ൌ𝛽 ଴ ൅𝛽ଵ𝐴൅𝛽 ଶ𝐵൅𝛽 ଷ𝐶൅𝛽 ସ𝐷൅𝛽 ହ𝐸   (12) \n",
      "4\n"
     ]
    }
   ],
   "source": [
    "print(pypdf_docs[3].page_content)"
   ]
  },
  {
   "cell_type": "markdown",
   "metadata": {},
   "source": [
    "## PDFPlumber"
   ]
  },
  {
   "cell_type": "code",
   "execution_count": 6,
   "metadata": {},
   "outputs": [],
   "source": [
    "from langchain_community.document_loaders import PDFPlumberLoader\n",
    "pdfplumber_loader = PDFPlumberLoader(FILE_PATH)\n",
    "pdfplumber_docs = pdfplumber_loader.load()\n"
   ]
  },
  {
   "cell_type": "code",
   "execution_count": 7,
   "metadata": {},
   "outputs": [
    {
     "data": {
      "text/plain": [
       "[Document(metadata={'source': '/Users/syshin/Desktop/Syshin/LabQ/한국자동차연구원/data/논문/KSAE 학술대회 논문 모음집/2020년/2. 추계/Data/20AKSAE_A004.pdf', 'file_path': '/Users/syshin/Desktop/Syshin/LabQ/한국자동차연구원/data/논문/KSAE 학술대회 논문 모음집/2020년/2. 추계/Data/20AKSAE_A004.pdf', 'page': 0, 'total_pages': 6, 'Producer': 'iTextSharp™ 5.4.4 ©2000-2013 1T3XT BVBA (AGPL-version)', 'CreationDate': \"D:20201111101458+09'00'\", 'ModDate': \"D:20201111101458+09'00'\", 'Title': '20AKSAE_A004'}, page_content='Copyright ⓒ 2020 KSAE\\n2020 한국자동차공학회 추계학술대회 20AKSAE_A004\\n회귀분석법을 이용한 차량 오일펌프의 인로터 중량 최적화 해석\\n정대근1)* 김기태1)\\n명화공업1)\\nIn-rotor weight optimization analysis of vehicle oil pump using regression\\nanalysis method\\nDae-geun Jung1) Ki-Tae Kim1)\\n1) MYUNGHWA IND. CO., LTD. R&D Center 65, Beojigi-ro, Danwon-gu, Ansan-si, Gyeonggi-do, Korea\\nAbstract : This white paper contains information on techniques that can reduce design time. In this study, multiple regression\\nanalysis was used as a method to increase work efficiency. The vane, in-rotor of the vehicle oil pump was selected. Variables that\\ncan be optimized for weight were selected during design. It has 5 independent variables and 3 factors, which was analyzed by\\nmultiple regression. Based on this data, the \"Macro\" automation sheet was built. As a result of comparing the opimization\\nprogram and CAE in this paper, the reliability was 91.6%. Through this, the designer can easily and quickly predict design\\nvariables without CAE analysis.\\nKey words : Multiple regression analysis(다중회귀분석), Vehicle(차량), Oil Pump(오일펌프), Vane(베인), Inrotor(인로터),\\nOptimization(최적화)\\n1. 서 론\\n최근 자동차부품기업의 기술경쟁력을 높이기 위\\nSubscripts\\n해 동력전달, 섀시, 제동, 현가, 경량 차체부품 등\\n의 차량부품의 고도화를 위한 기술개발이 활발히\\nA,B,C,D,E : independent variable\\n이루어 지고 있다.\\n𝛽 ~𝛽 : unknown quantity\\n(cid:2868) (cid:2873) 또한 미래 자동차 산업의 패러다임 변화에 맞춰\\nY : Stress\\n친환경 차량의 전기전장부품 개발을 도모하고 있다.\\n이에 따라 자동차 분야 기술고도화를 통한 미래\\n먹거리 창출의 원동력 확보와 원천기술에 대한 확\\n보가 요구되고 있다.\\n이러한 전망으로 급변화하는 기술력에 대응하기\\n--------------------------------- 위해서는 효율적인 업무가 뒷받침 되어야 한다.\\n* 정대근, E-mail: dgjung@myunghwa.com. 본 논문에서는 인로터 설계 시 강도를 만족하는\\n김기태, E-mail : ktkim1@myunghwa.com\\n수준에서 중량을 고려한 설계 파라메터를 빠르게\\n1\\n'),\n",
       " Document(metadata={'source': '/Users/syshin/Desktop/Syshin/LabQ/한국자동차연구원/data/논문/KSAE 학술대회 논문 모음집/2020년/2. 추계/Data/20AKSAE_A004.pdf', 'file_path': '/Users/syshin/Desktop/Syshin/LabQ/한국자동차연구원/data/논문/KSAE 학술대회 논문 모음집/2020년/2. 추계/Data/20AKSAE_A004.pdf', 'page': 1, 'total_pages': 6, 'Producer': 'iTextSharp™ 5.4.4 ©2000-2013 1T3XT BVBA (AGPL-version)', 'CreationDate': \"D:20201111101458+09'00'\", 'ModDate': \"D:20201111101458+09'00'\", 'Title': '20AKSAE_A004'}, page_content='산출 할 수 있는 프로그램을 구축하였다. Table 1 설계 파라메터\\n기존 문제점의 경우, 베인 인로터 설계 시 설계\\n자가 레이아웃과 지금까지의 경험 및 표준 가이드\\n를 바탕으로 초기 설계를 진행한 후 해석을 통한\\n강도 측면을 검증하였으며, 강도 결과에 대한 안\\n전율을 고려하여 중량 절감까지 검토하였다.\\n이러한 반복 과정을 통하여 중량 절감이 되긴\\n하나, 중량 최적화에 대한 결과가 최선이라고는\\n보기 어려우며, 많은 시간이 소요된다.\\n이러한 문제점을 해결하기 위하여 설계 파라메\\n터별 중량 최적화 자동 시트를 개발하였으며, 이\\n를 통하여 업무 간소화와 업무 효율성을 극대화하\\n고, 업무 시간을 단축하였다.\\n차량 Fig. 1과 같이 오일펌프의 부품인 베인 인\\n로터 설계 시 중량을 고려하여 강도 수준을 만족\\n하는 설계 파라메터를 선정하고, 이를 검증하기\\n위한 단계로 선형 강도 해석(linear static\\nanalysis)을 통한 결과를 확인하였다.\\n이로 인해 확보된 시간은 기술고도화를 위한 연\\n구에 투자할 수 있다.\\n전반적인 순서도는 Fig.2와 같이 진행 된다.\\nFig. 1 챠량 오일펌프 내부\\nNo. 설계 파라메터 범위\\n2. 설계 파라메터 인자 설정 및 해석 결과\\n1 A D10.0~D12 mm\\n베인 인로터의 강도를 만족하면서, 중량을 최적 40.12~46.59 mm\\n2 B\\n화한 설계 파라메터 값을 도출하기 위한 시트 구 (47.31도~55.54도)\\n축 목적으로 선행 작업을 진행하였다.\\n3 C 1.0~3.0 mm\\n먼저 인로터 설계 시 강도에 영향을 주는 인자\\n4 D 0.5~1.5 mm\\n를 분류 한다. Fig.3과 Table 1 같이 설계 파라메\\n5 E 16.6~27.0 mm\\n터별 설계 가능 범위를 나열하였다.\\nFig. 2 순서도\\n2\\n'),\n",
       " Document(metadata={'source': '/Users/syshin/Desktop/Syshin/LabQ/한국자동차연구원/data/논문/KSAE 학술대회 논문 모음집/2020년/2. 추계/Data/20AKSAE_A004.pdf', 'file_path': '/Users/syshin/Desktop/Syshin/LabQ/한국자동차연구원/data/논문/KSAE 학술대회 논문 모음집/2020년/2. 추계/Data/20AKSAE_A004.pdf', 'page': 2, 'total_pages': 6, 'Producer': 'iTextSharp™ 5.4.4 ©2000-2013 1T3XT BVBA (AGPL-version)', 'CreationDate': \"D:20201111101458+09'00'\", 'ModDate': \"D:20201111101458+09'00'\", 'Title': '20AKSAE_A004'}, page_content='Table 2 CAE 모델 항목\\nNo. A B C D E\\n1 1 0.5 16.6\\n2 40.12 2 1.0 21.8\\n3 3 1.5 27.0\\n4 1 0.5 21.8\\n5 10 43.71 2 1.0 27.0\\n6 3 1.5 16.6\\n7 1 0.5 27.0\\n8 46.59 2 1.0 16.6\\n9 3 1.5 21.8\\n10 1 1.0 16.6\\n11 40.12 2 1.5 21.8\\n12 3 0.5 27.0\\n13 1 1.0 21.8\\n14 11 43.71 2 1.5 27.0\\n15 3 0.5 16.6\\nFig. 3 베인 인로터 설계 파라메터 인자\\n16 1 1.0 27.0\\n17 46.59 2 1.5 16.6\\n중회귀식을 만들기 전 해석이 선행으로 진행 되\\n어 있다. 독립 변수 5개와 3인자 수준으로 18 3 0.5 21.8\\nTable.2와 같이 27개의 항목으로 정렬한다. 해석\\n19 1 1.5 16.6\\n조건은 Fig.4과 같이 중심축을 기준으로 10N.m 회\\n전하며, 외곽 한 개의 선을 모두 고정한 상태로 20 40.12 2 0.5 21.8\\n최대 응력이 발생되는 동일한 부분을 측정한다.\\n21 3 1.0 27.0\\n측정한 해석 결과는 Y값 Table.3과 같다. 이 모\\n22 1 1.5 21.8\\n든 값을 근거로 식(1)의 중회귀식이 구해진다.\\n구해진 식은 다음과 같다. 23 12 43.71 2 0.5 27.0\\n24 3 1.0 16.6\\nY = 331.829 - 7.828A - 2.464B 25 1 1.5 27.0\\n-15.339C - 4.656D - 2.525E (1)\\n26 46.59 2 0.5 16.6\\n27 3 1.0 21.8\\n3\\n'),\n",
       " Document(metadata={'source': '/Users/syshin/Desktop/Syshin/LabQ/한국자동차연구원/data/논문/KSAE 학술대회 논문 모음집/2020년/2. 추계/Data/20AKSAE_A004.pdf', 'file_path': '/Users/syshin/Desktop/Syshin/LabQ/한국자동차연구원/data/논문/KSAE 학술대회 논문 모음집/2020년/2. 추계/Data/20AKSAE_A004.pdf', 'page': 3, 'total_pages': 6, 'Producer': 'iTextSharp™ 5.4.4 ©2000-2013 1T3XT BVBA (AGPL-version)', 'CreationDate': \"D:20201111101458+09'00'\", 'ModDate': \"D:20201111101458+09'00'\", 'Title': '20AKSAE_A004'}, page_content='Table 3 CAE 주응력 해석 결과 라메터(독립변인)들을 갖고 있으므로, 다중 회귀\\n분석을 사용하였다.\\nNo. y No y No y\\n독립변수가 5개인 3인자 수준의 경우 중회귀 모\\n1 113.1 10 92.0 19 74.7 형은 다음 식(2),(3)와 같다.\\n2 55.8 11 47.7 20 42.5\\n𝑦 (cid:3404)𝛽 (cid:3397)𝛽 𝑥 (cid:3397)…𝛽 𝑥 (cid:3397)𝜀(cid:4666)𝑖(cid:3404)1,5(cid:4667) (2)\\n(cid:3036) (cid:2868) (cid:2869) (cid:2869)(cid:3036) (cid:2873) (cid:2873)(cid:3036) (cid:3036)\\n3 33.5 12 29.7 21 26.3 𝛽 , 𝛽 ,…,𝛽 미지수 (3)\\n(cid:2868) (cid:2869) (cid:2873)\\n4 70.2 13 58.7 22 48.5\\n위 중회귀 모형을 행렬식으로 표현하면 다음 식\\n5 39.8 14 35.5 23 29.5 (4) ~ (6)과 같다.\\n6 49.8 15 43.3 24 38.3\\ny(cid:3404)𝑋𝛽(cid:3397)𝜀→𝜀(cid:3404)𝑦(cid:3398)𝑋𝛽 (4)\\n7 52.5 16 42.1 25 36.7\\n8 57.6 17 50.1 26 43.0 𝑦 (cid:2869) ⎧1 𝑥 (cid:2869)(cid:2869) … 𝑥 (cid:2873)(cid:2869) ⎫\\n𝐲(cid:3404)⎧𝑦 .(cid:2870)⎫ 𝐗(cid:3404)⎪1 𝑥\\n.\\n(cid:2869) (cid:2870)\\n.\\n…… 𝑥\\n.(cid:2873)(cid:2870)⎪\\n(5)\\n9 35.0 18 29.6 27 26.9 ⎨ . ⎬ ⎨ . . … . ⎬\\n⎩𝑦 (cid:2873)⎭ ⎩⎪ 1 𝑥\\n(cid:2869)(cid:2873)\\n⋯ 𝑥 (cid:2873)(cid:2873)⎭⎪\\n⎧𝛽 (cid:2868)⎫ 𝜀 (cid:2869)\\n𝛃(cid:3404)⎪𝛽 .(cid:2869)⎪ 𝛆(cid:3404)⎧𝜀 .(cid:2870)⎫\\n(6)\\n⎨ . ⎬ ⎨.⎬\\n⎪ 𝛽 ⎪ ⎩𝜀 ⎭\\n⎩ (cid:2873)⎭ (cid:2873)\\n위 식에 오차항의 제곱을 한 최종 식은 다음 식\\n(7) ~ (12)와 같다.\\nS(cid:3404)∑(cid:2873) 𝜀(cid:2870)(cid:3404)𝜀(cid:2870)(cid:3397)𝜀(cid:2870)(cid:3397)⋯(cid:3397)𝜀(cid:2870)(cid:3404)𝜀(cid:3021)𝜀 (7)\\n(cid:3036)(cid:2880)(cid:2869) (cid:3036) (cid:2869) (cid:2870) (cid:2873)\\n(cid:3404)(cid:4666)y(cid:3398)Xβ(cid:4667)(cid:3021)(cid:4666)𝑦(cid:3398)𝑋𝛽(cid:4667) (8)\\nFig. 4 인로터 CAE 조건\\n(cid:3404)(cid:4666)𝑦(cid:3021)(cid:3398)𝛽(cid:3021)𝑋(cid:3021)(cid:4667)(cid:4666)𝑦(cid:3398)𝑋𝛽(cid:4667) (9)\\n3. 다중 회귀 분석 이론\\n(multiple regression analysis) (cid:3105)(cid:3020) (cid:3404)𝑋(cid:3021)𝑋𝛽(cid:3398)𝑋(cid:3021)𝑦(cid:3404)0 (10)\\n(cid:3105)(cid:3081)\\n회귀 분석은 X라는 독립변수와 Y라는 종속변수\\n\\uf0e8 𝑋(cid:3021)𝑋𝛽(cid:3404)𝑋(cid:3021)𝑦\\n간의 인과 관계를 찾기 위한 기업으로 종속변인이\\n얼마나 변할 것인지에 대한 영향력을 예측하는 통\\n계 분석 기법이다.\\n\\uf0e8 𝛽(cid:3404)(cid:4666)𝑋(cid:3021)𝑋(cid:4667)(cid:2879)(cid:2869)𝑋(cid:3021)𝑦 (11)\\n회귀 분석의 종류는 단순 선형 회귀분석, 다중\\n회귀분석(중회귀분석), 위계적 다중 회귀 분석,\\n곡선 회귀분석 등 다양하게 있다. 𝑌(cid:3404)𝛽 (cid:3397)𝛽 𝐴(cid:3397)𝛽 𝐵(cid:3397)𝛽 𝐶(cid:3397)𝛽 𝐷(cid:3397)𝛽 𝐸 (12)\\n(cid:2868) (cid:2869) (cid:2870) (cid:2871) (cid:2872) (cid:2873)\\n본 논문에서는 독립변수가 하나 이상의 설계 파\\n4\\n'),\n",
       " Document(metadata={'source': '/Users/syshin/Desktop/Syshin/LabQ/한국자동차연구원/data/논문/KSAE 학술대회 논문 모음집/2020년/2. 추계/Data/20AKSAE_A004.pdf', 'file_path': '/Users/syshin/Desktop/Syshin/LabQ/한국자동차연구원/data/논문/KSAE 학술대회 논문 모음집/2020년/2. 추계/Data/20AKSAE_A004.pdf', 'page': 4, 'total_pages': 6, 'Producer': 'iTextSharp™ 5.4.4 ©2000-2013 1T3XT BVBA (AGPL-version)', 'CreationDate': \"D:20201111101458+09'00'\", 'ModDate': \"D:20201111101458+09'00'\", 'Title': '20AKSAE_A004'}, page_content='여기서 𝛽 ~𝛽 의 미지수가 고정이 되고, A~E의 5. 최적화프로그램 결과와 해석결과 비교\\n(cid:2868) (cid:2873)\\n독립변수 값의 의해 Y값의 결과가 자동 도출 된\\n다. 지금까지의 중회귀식 결과와 CAE 결과을 비교하\\n미지수를 구하기 위해서는 선행으로 A~E에 해 여, 중회귀식의 신뢰성을 평가해 보았다. 임의의\\n당하는 독립변수 조건을 적용한 3인자 수준에서 파라메터값을 선정하여 10-CASE에 대한 CAE 해석을\\n의 해석 결과를 토대로 식을 도출 하여야 한다. 진행하고, 그 결과와 최적프로그램 결과를 비교하\\n여 신뢰성에 대한 값을 비교하였다. Table.4와 같\\n이 평균 신뢰성은 95.3%로 오차률은 5% 이내임을\\n4. 중량 최적화 설계 프로그램 구축 확인 하였다.\\n이를 근거로 설계자는 인로터 설계 시 중량 최적\\n지금까지의 중회귀식에 대한 결과와 데이터를 화 설계 프로그램을 활용하여 선검토 및 중량 최적\\n바탕으로 엑셀 시트와 매크로(macro)를 활용하여 화에 대한 설계 파라메터 값을 초기에 선정 할 수\\n중량 최적화 설계 자동화 프로그램을 구축하였다. 있다.\\n본 프로그램은 Fig.6와 같이 설계 담당자가 쉽 앞서 언급한 바와 같이 이로 인해 확보된 시간은\\n게 활용할 수 있도록 2단계로 구축하였다. 기술고도화를 위한 연구에 투자할 수 있다.\\nTable 4 CAE 결과와 중회귀식 결과 비교 표\\nNo. CAE 결과 중회귀식 결과 신뢰성\\n1 70.2 73.1 96.0%\\n2 39.8 42.4 94.0%\\n3 49.8 50.9 97.8%\\n4 57.6 61.5 93.6%\\n5 29.7 30.4 97.8%\\n6 58.7 63.0 93.2%\\nFig. 6 중량 최적화 자동화 설계 프로그램\\n7 50.1 51.4 97.6%\\n1단계 A~E까지 파라메터별 최소범위와 최대범위 8 29.6 27.5 93.1%\\n설정, 2단계 “최적화 실행”클릭 시 Iteration 10\\n만회(30초 이내) 반복 계산을 통하여 내구한도 이 9 48.5 52.8 91.8%\\n내에서의 최소 중량순으로 TOP10를 추출하게 하였\\n10 29.5 29.0 98.4%\\n다. 이 결과를 참고하여 설계자는 별도의 해석을\\n진행하지 않고도 설계 파라메터 값을 쉽고 빠르게\\n평균 신뢰성 95.3%\\n예측 할 수 있다.\\n5\\n'),\n",
       " Document(metadata={'source': '/Users/syshin/Desktop/Syshin/LabQ/한국자동차연구원/data/논문/KSAE 학술대회 논문 모음집/2020년/2. 추계/Data/20AKSAE_A004.pdf', 'file_path': '/Users/syshin/Desktop/Syshin/LabQ/한국자동차연구원/data/논문/KSAE 학술대회 논문 모음집/2020년/2. 추계/Data/20AKSAE_A004.pdf', 'page': 5, 'total_pages': 6, 'Producer': 'iTextSharp™ 5.4.4 ©2000-2013 1T3XT BVBA (AGPL-version)', 'CreationDate': \"D:20201111101458+09'00'\", 'ModDate': \"D:20201111101458+09'00'\", 'Title': '20AKSAE_A004'}, page_content='6. 결 론\\n본 논문에서는 인로터 설계 시 설계 파라메터별\\n선행 해석을 진행하고, 이를 바탕으로 통계적인\\n기법의 중회귀식을 사용하여 중회귀식을 도출하였\\n다.\\n중회귀식에 대한 결과와 데이터를 활용하여, 중\\n량 최적화 설계 자동화 프로그램을 구축하였다.\\n이 프로그램을 활용하여, 설계자는 인로터 설계\\n시 중량 최적화 기준의 설계 파라메터 값을 빠르\\n고, 쉽게 확인 할 수 있다.\\n1) 설계 파라메터 인자를 확인하여, 독립변수 5\\n개와 3인자 수준으로 27개의 파트로 나열하였\\n다.\\n2) 27개의 파트를 CAE 해석을 통하여, 선행해석\\n하고, 결과를 기록하였다. CAE 결과는 중회귀\\n식에 y(식.10)에 사용되어, 중회귀식에 미지\\n수값을 도출하였다.\\n3) 중회귀식을 바탕으로 중량 최적화 설계 파라\\n메터 프로그램을 구축하였다.\\n4) 중회귀식 결과와 CAE 결과 비교를 통하여,\\n신뢰성을 확인하였다.\\nReferences\\n1) Seong-Hyeon Park, “design of experiments”,\\np423, Minyoungsa , 2004\\n2) Mi-Ra Ryu, Hwan-Young Jeon, “Heat Transfer\\nAnalysis of Side Mirror using Regression\\nAnalysis”, KSMT Korean Soc. Mech. Techol,\\nVOL.22 NO.4, PP.661-666, 2020\\n6\\n')]"
      ]
     },
     "execution_count": 7,
     "metadata": {},
     "output_type": "execute_result"
    }
   ],
   "source": [
    "pdfplumber_docs"
   ]
  },
  {
   "cell_type": "code",
   "execution_count": 8,
   "metadata": {},
   "outputs": [
    {
     "name": "stdout",
     "output_type": "stream",
     "text": [
      "Table 3 CAE 주응력 해석 결과 라메터(독립변인)들을 갖고 있으므로, 다중 회귀\n",
      "분석을 사용하였다.\n",
      "No. y No y No y\n",
      "독립변수가 5개인 3인자 수준의 경우 중회귀 모\n",
      "1 113.1 10 92.0 19 74.7 형은 다음 식(2),(3)와 같다.\n",
      "2 55.8 11 47.7 20 42.5\n",
      "𝑦 (cid:3404)𝛽 (cid:3397)𝛽 𝑥 (cid:3397)…𝛽 𝑥 (cid:3397)𝜀(cid:4666)𝑖(cid:3404)1,5(cid:4667) (2)\n",
      "(cid:3036) (cid:2868) (cid:2869) (cid:2869)(cid:3036) (cid:2873) (cid:2873)(cid:3036) (cid:3036)\n",
      "3 33.5 12 29.7 21 26.3 𝛽 , 𝛽 ,…,𝛽 미지수 (3)\n",
      "(cid:2868) (cid:2869) (cid:2873)\n",
      "4 70.2 13 58.7 22 48.5\n",
      "위 중회귀 모형을 행렬식으로 표현하면 다음 식\n",
      "5 39.8 14 35.5 23 29.5 (4) ~ (6)과 같다.\n",
      "6 49.8 15 43.3 24 38.3\n",
      "y(cid:3404)𝑋𝛽(cid:3397)𝜀→𝜀(cid:3404)𝑦(cid:3398)𝑋𝛽 (4)\n",
      "7 52.5 16 42.1 25 36.7\n",
      "8 57.6 17 50.1 26 43.0 𝑦 (cid:2869) ⎧1 𝑥 (cid:2869)(cid:2869) … 𝑥 (cid:2873)(cid:2869) ⎫\n",
      "𝐲(cid:3404)⎧𝑦 .(cid:2870)⎫ 𝐗(cid:3404)⎪1 𝑥\n",
      ".\n",
      "(cid:2869) (cid:2870)\n",
      ".\n",
      "…… 𝑥\n",
      ".(cid:2873)(cid:2870)⎪\n",
      "(5)\n",
      "9 35.0 18 29.6 27 26.9 ⎨ . ⎬ ⎨ . . … . ⎬\n",
      "⎩𝑦 (cid:2873)⎭ ⎩⎪ 1 𝑥\n",
      "(cid:2869)(cid:2873)\n",
      "⋯ 𝑥 (cid:2873)(cid:2873)⎭⎪\n",
      "⎧𝛽 (cid:2868)⎫ 𝜀 (cid:2869)\n",
      "𝛃(cid:3404)⎪𝛽 .(cid:2869)⎪ 𝛆(cid:3404)⎧𝜀 .(cid:2870)⎫\n",
      "(6)\n",
      "⎨ . ⎬ ⎨.⎬\n",
      "⎪ 𝛽 ⎪ ⎩𝜀 ⎭\n",
      "⎩ (cid:2873)⎭ (cid:2873)\n",
      "위 식에 오차항의 제곱을 한 최종 식은 다음 식\n",
      "(7) ~ (12)와 같다.\n",
      "S(cid:3404)∑(cid:2873) 𝜀(cid:2870)(cid:3404)𝜀(cid:2870)(cid:3397)𝜀(cid:2870)(cid:3397)⋯(cid:3397)𝜀(cid:2870)(cid:3404)𝜀(cid:3021)𝜀 (7)\n",
      "(cid:3036)(cid:2880)(cid:2869) (cid:3036) (cid:2869) (cid:2870) (cid:2873)\n",
      "(cid:3404)(cid:4666)y(cid:3398)Xβ(cid:4667)(cid:3021)(cid:4666)𝑦(cid:3398)𝑋𝛽(cid:4667) (8)\n",
      "Fig. 4 인로터 CAE 조건\n",
      "(cid:3404)(cid:4666)𝑦(cid:3021)(cid:3398)𝛽(cid:3021)𝑋(cid:3021)(cid:4667)(cid:4666)𝑦(cid:3398)𝑋𝛽(cid:4667) (9)\n",
      "3. 다중 회귀 분석 이론\n",
      "(multiple regression analysis) (cid:3105)(cid:3020) (cid:3404)𝑋(cid:3021)𝑋𝛽(cid:3398)𝑋(cid:3021)𝑦(cid:3404)0 (10)\n",
      "(cid:3105)(cid:3081)\n",
      "회귀 분석은 X라는 독립변수와 Y라는 종속변수\n",
      " 𝑋(cid:3021)𝑋𝛽(cid:3404)𝑋(cid:3021)𝑦\n",
      "간의 인과 관계를 찾기 위한 기업으로 종속변인이\n",
      "얼마나 변할 것인지에 대한 영향력을 예측하는 통\n",
      "계 분석 기법이다.\n",
      " 𝛽(cid:3404)(cid:4666)𝑋(cid:3021)𝑋(cid:4667)(cid:2879)(cid:2869)𝑋(cid:3021)𝑦 (11)\n",
      "회귀 분석의 종류는 단순 선형 회귀분석, 다중\n",
      "회귀분석(중회귀분석), 위계적 다중 회귀 분석,\n",
      "곡선 회귀분석 등 다양하게 있다. 𝑌(cid:3404)𝛽 (cid:3397)𝛽 𝐴(cid:3397)𝛽 𝐵(cid:3397)𝛽 𝐶(cid:3397)𝛽 𝐷(cid:3397)𝛽 𝐸 (12)\n",
      "(cid:2868) (cid:2869) (cid:2870) (cid:2871) (cid:2872) (cid:2873)\n",
      "본 논문에서는 독립변수가 하나 이상의 설계 파\n",
      "4\n",
      "\n"
     ]
    }
   ],
   "source": [
    "print(pdfplumber_docs[3].page_content)"
   ]
  },
  {
   "cell_type": "markdown",
   "metadata": {},
   "source": [
    "## MathPix"
   ]
  },
  {
   "cell_type": "code",
   "execution_count": 9,
   "metadata": {},
   "outputs": [
    {
     "ename": "ValueError",
     "evalue": "Did not find mathpix_api_key, please add an environment variable `MATHPIX_API_KEY` which contains it, or pass `mathpix_api_key` as a named parameter.",
     "output_type": "error",
     "traceback": [
      "\u001b[0;31m---------------------------------------------------------------------------\u001b[0m",
      "\u001b[0;31mValueError\u001b[0m                                Traceback (most recent call last)",
      "Cell \u001b[0;32mIn[9], line 2\u001b[0m\n\u001b[1;32m      1\u001b[0m \u001b[38;5;28;01mfrom\u001b[39;00m \u001b[38;5;21;01mlangchain_community\u001b[39;00m\u001b[38;5;21;01m.\u001b[39;00m\u001b[38;5;21;01mdocument_loaders\u001b[39;00m \u001b[38;5;28;01mimport\u001b[39;00m MathpixPDFLoader\n\u001b[0;32m----> 2\u001b[0m mathpix_loader \u001b[38;5;241m=\u001b[39m \u001b[43mMathpixPDFLoader\u001b[49m\u001b[43m(\u001b[49m\u001b[43mFILE_PATH\u001b[49m\u001b[43m)\u001b[49m\n",
      "File \u001b[0;32m/opt/homebrew/Caskroom/miniconda/base/envs/agent/lib/python3.12/site-packages/langchain_community/document_loaders/pdf.py:482\u001b[0m, in \u001b[0;36mMathpixPDFLoader.__init__\u001b[0;34m(self, file_path, processed_file_format, max_wait_time_seconds, should_clean_pdf, extra_request_data, **kwargs)\u001b[0m\n\u001b[1;32m    462\u001b[0m \u001b[38;5;28;01mdef\u001b[39;00m \u001b[38;5;21m__init__\u001b[39m(\n\u001b[1;32m    463\u001b[0m     \u001b[38;5;28mself\u001b[39m,\n\u001b[1;32m    464\u001b[0m     file_path: \u001b[38;5;28mstr\u001b[39m,\n\u001b[0;32m   (...)\u001b[0m\n\u001b[1;32m    469\u001b[0m     \u001b[38;5;241m*\u001b[39m\u001b[38;5;241m*\u001b[39mkwargs: Any,\n\u001b[1;32m    470\u001b[0m ) \u001b[38;5;241m-\u001b[39m\u001b[38;5;241m>\u001b[39m \u001b[38;5;28;01mNone\u001b[39;00m:\n\u001b[1;32m    471\u001b[0m \u001b[38;5;250m    \u001b[39m\u001b[38;5;124;03m\"\"\"Initialize with a file path.\u001b[39;00m\n\u001b[1;32m    472\u001b[0m \n\u001b[1;32m    473\u001b[0m \u001b[38;5;124;03m    Args:\u001b[39;00m\n\u001b[0;32m   (...)\u001b[0m\n\u001b[1;32m    480\u001b[0m \u001b[38;5;124;03m        **kwargs: additional keyword arguments.\u001b[39;00m\n\u001b[1;32m    481\u001b[0m \u001b[38;5;124;03m    \"\"\"\u001b[39;00m\n\u001b[0;32m--> 482\u001b[0m     \u001b[38;5;28mself\u001b[39m\u001b[38;5;241m.\u001b[39mmathpix_api_key \u001b[38;5;241m=\u001b[39m \u001b[43mget_from_dict_or_env\u001b[49m\u001b[43m(\u001b[49m\n\u001b[1;32m    483\u001b[0m \u001b[43m        \u001b[49m\u001b[43mkwargs\u001b[49m\u001b[43m,\u001b[49m\u001b[43m \u001b[49m\u001b[38;5;124;43m\"\u001b[39;49m\u001b[38;5;124;43mmathpix_api_key\u001b[39;49m\u001b[38;5;124;43m\"\u001b[39;49m\u001b[43m,\u001b[49m\u001b[43m \u001b[49m\u001b[38;5;124;43m\"\u001b[39;49m\u001b[38;5;124;43mMATHPIX_API_KEY\u001b[39;49m\u001b[38;5;124;43m\"\u001b[39;49m\n\u001b[1;32m    484\u001b[0m \u001b[43m    \u001b[49m\u001b[43m)\u001b[49m\n\u001b[1;32m    485\u001b[0m     \u001b[38;5;28mself\u001b[39m\u001b[38;5;241m.\u001b[39mmathpix_api_id \u001b[38;5;241m=\u001b[39m get_from_dict_or_env(\n\u001b[1;32m    486\u001b[0m         kwargs, \u001b[38;5;124m\"\u001b[39m\u001b[38;5;124mmathpix_api_id\u001b[39m\u001b[38;5;124m\"\u001b[39m, \u001b[38;5;124m\"\u001b[39m\u001b[38;5;124mMATHPIX_API_ID\u001b[39m\u001b[38;5;124m\"\u001b[39m\n\u001b[1;32m    487\u001b[0m     )\n\u001b[1;32m    489\u001b[0m     \u001b[38;5;66;03m# The base class isn't expecting these and doesn't collect **kwargs\u001b[39;00m\n",
      "File \u001b[0;32m/opt/homebrew/Caskroom/miniconda/base/envs/agent/lib/python3.12/site-packages/langchain_core/utils/env.py:51\u001b[0m, in \u001b[0;36mget_from_dict_or_env\u001b[0;34m(data, key, env_key, default)\u001b[0m\n\u001b[1;32m     47\u001b[0m     \u001b[38;5;28;01mreturn\u001b[39;00m data[key]\n\u001b[1;32m     49\u001b[0m key_for_err \u001b[38;5;241m=\u001b[39m key[\u001b[38;5;241m0\u001b[39m] \u001b[38;5;28;01mif\u001b[39;00m \u001b[38;5;28misinstance\u001b[39m(key, (\u001b[38;5;28mlist\u001b[39m, \u001b[38;5;28mtuple\u001b[39m)) \u001b[38;5;28;01melse\u001b[39;00m key\n\u001b[0;32m---> 51\u001b[0m \u001b[38;5;28;01mreturn\u001b[39;00m \u001b[43mget_from_env\u001b[49m\u001b[43m(\u001b[49m\u001b[43mkey_for_err\u001b[49m\u001b[43m,\u001b[49m\u001b[43m \u001b[49m\u001b[43menv_key\u001b[49m\u001b[43m,\u001b[49m\u001b[43m \u001b[49m\u001b[43mdefault\u001b[49m\u001b[38;5;241;43m=\u001b[39;49m\u001b[43mdefault\u001b[49m\u001b[43m)\u001b[49m\n",
      "File \u001b[0;32m/opt/homebrew/Caskroom/miniconda/base/envs/agent/lib/python3.12/site-packages/langchain_core/utils/env.py:81\u001b[0m, in \u001b[0;36mget_from_env\u001b[0;34m(key, env_key, default)\u001b[0m\n\u001b[1;32m     75\u001b[0m \u001b[38;5;28;01melse\u001b[39;00m:\n\u001b[1;32m     76\u001b[0m     msg \u001b[38;5;241m=\u001b[39m (\n\u001b[1;32m     77\u001b[0m         \u001b[38;5;124mf\u001b[39m\u001b[38;5;124m\"\u001b[39m\u001b[38;5;124mDid not find \u001b[39m\u001b[38;5;132;01m{\u001b[39;00mkey\u001b[38;5;132;01m}\u001b[39;00m\u001b[38;5;124m, please add an environment variable\u001b[39m\u001b[38;5;124m\"\u001b[39m\n\u001b[1;32m     78\u001b[0m         \u001b[38;5;124mf\u001b[39m\u001b[38;5;124m\"\u001b[39m\u001b[38;5;124m `\u001b[39m\u001b[38;5;132;01m{\u001b[39;00menv_key\u001b[38;5;132;01m}\u001b[39;00m\u001b[38;5;124m` which contains it, or pass\u001b[39m\u001b[38;5;124m\"\u001b[39m\n\u001b[1;32m     79\u001b[0m         \u001b[38;5;124mf\u001b[39m\u001b[38;5;124m\"\u001b[39m\u001b[38;5;124m `\u001b[39m\u001b[38;5;132;01m{\u001b[39;00mkey\u001b[38;5;132;01m}\u001b[39;00m\u001b[38;5;124m` as a named parameter.\u001b[39m\u001b[38;5;124m\"\u001b[39m\n\u001b[1;32m     80\u001b[0m     )\n\u001b[0;32m---> 81\u001b[0m     \u001b[38;5;28;01mraise\u001b[39;00m \u001b[38;5;167;01mValueError\u001b[39;00m(msg)\n",
      "\u001b[0;31mValueError\u001b[0m: Did not find mathpix_api_key, please add an environment variable `MATHPIX_API_KEY` which contains it, or pass `mathpix_api_key` as a named parameter."
     ]
    }
   ],
   "source": [
    "from langchain_community.document_loaders import MathpixPDFLoader\n",
    "mathpix_loader = MathpixPDFLoader(FILE_PATH)"
   ]
  },
  {
   "cell_type": "code",
   "execution_count": null,
   "metadata": {},
   "outputs": [],
   "source": []
  }
 ],
 "metadata": {
  "kernelspec": {
   "display_name": "agent",
   "language": "python",
   "name": "python3"
  },
  "language_info": {
   "codemirror_mode": {
    "name": "ipython",
    "version": 3
   },
   "file_extension": ".py",
   "mimetype": "text/x-python",
   "name": "python",
   "nbconvert_exporter": "python",
   "pygments_lexer": "ipython3",
   "version": "3.12.4"
  }
 },
 "nbformat": 4,
 "nbformat_minor": 2
}
