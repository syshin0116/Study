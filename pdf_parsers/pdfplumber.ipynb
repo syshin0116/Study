{
 "cells": [
  {
   "cell_type": "code",
   "execution_count": 1,
   "metadata": {},
   "outputs": [],
   "source": [
    "FILE_PATH = \"/Users/syshin/Desktop/Syshin/LabQ/한국자동차연구원/data/논문/KSAE 학술대회 논문 모음집/2020년/2. 추계/Data/20AKSAE_A004.pdf\""
   ]
  },
  {
   "cell_type": "code",
   "execution_count": 2,
   "metadata": {},
   "outputs": [],
   "source": [
    "import pdfplumber\n"
   ]
  },
  {
   "cell_type": "code",
   "execution_count": 3,
   "metadata": {},
   "outputs": [
    {
     "data": {
      "text/plain": [
       "<pdfplumber.pdf.PDF at 0x1079ed5d0>"
      ]
     },
     "execution_count": 3,
     "metadata": {},
     "output_type": "execute_result"
    }
   ],
   "source": [
    "pdf = pdfplumber.open(FILE_PATH)\n",
    "pdf"
   ]
  },
  {
   "cell_type": "code",
   "execution_count": 4,
   "metadata": {},
   "outputs": [
    {
     "data": {
      "text/plain": [
       "[<Page:1>, <Page:2>, <Page:3>, <Page:4>, <Page:5>, <Page:6>]"
      ]
     },
     "execution_count": 4,
     "metadata": {},
     "output_type": "execute_result"
    }
   ],
   "source": [
    "pages = pdf.pages\n",
    "pages"
   ]
  },
  {
   "cell_type": "code",
   "execution_count": 5,
   "metadata": {},
   "outputs": [
    {
     "data": {
      "text/plain": [
       "{'Producer': 'iTextSharp™ 5.4.4 ©2000-2013 1T3XT BVBA (AGPL-version)',\n",
       " 'CreationDate': \"D:20201111101458+09'00'\",\n",
       " 'ModDate': \"D:20201111101458+09'00'\",\n",
       " 'Title': '20AKSAE_A004'}"
      ]
     },
     "execution_count": 5,
     "metadata": {},
     "output_type": "execute_result"
    }
   ],
   "source": [
    "metadata = pdf.metadata\n",
    "metadata"
   ]
  },
  {
   "cell_type": "code",
   "execution_count": 13,
   "metadata": {},
   "outputs": [
    {
     "data": {
      "text/plain": [
       "<pdfplumber.table.Table at 0x10873ac90>"
      ]
     },
     "execution_count": 13,
     "metadata": {},
     "output_type": "execute_result"
    }
   ],
   "source": [
    "table = pages[3].find_tables()[0]\n",
    "table"
   ]
  },
  {
   "cell_type": "code",
   "execution_count": null,
   "metadata": {},
   "outputs": [
    {
     "data": {
      "text/plain": [
       "<pdfplumber.table.Row at 0x1079ec7d0>"
      ]
     },
     "execution_count": 17,
     "metadata": {},
     "output_type": "execute_result"
    }
   ],
   "source": [
    "table.rows[0]."
   ]
  },
  {
   "cell_type": "code",
   "execution_count": 16,
   "metadata": {},
   "outputs": [
    {
     "name": "stdout",
     "output_type": "stream",
     "text": [
      "[[['No.', 'y', 'No', 'y', 'No', 'y'], ['1', '113.1', '10', '92.0', '19', '74.7'], ['2', '55.8', '11', '47.7', '20', '42.5'], ['3', '33.5', '12', '29.7', '21', '26.3'], ['4', '70.2', '13', '58.7', '22', '48.5'], ['5', '39.8', '14', '35.5', '23', '29.5'], ['6', '49.8', '15', '43.3', '24', '38.3'], ['7', '52.5', '16', '42.1', '25', '36.7'], ['8', '57.6', '17', '50.1', '26', '43.0'], ['9', '35.0', '18', '29.6', '27', '26.9']]]\n"
     ]
    }
   ],
   "source": [
    "print(pages[3].extract_tables())"
   ]
  },
  {
   "cell_type": "code",
   "execution_count": 17,
   "metadata": {},
   "outputs": [
    {
     "name": "stdout",
     "output_type": "stream",
     "text": [
      "Table 3 CAE 주응력 해석 결과 라메터(독립변인)들을 갖고 있으므로, 다중 회귀\n",
      "분석을 사용하였다.\n",
      "No. y No y No y\n",
      "독립변수가 5개인 3인자 수준의 경우 중회귀 모\n",
      "1 113.1 10 92.0 19 74.7 형은 다음 식(2),(3)와 같다.\n",
      "2 55.8 11 47.7 20 42.5\n",
      "𝑦 (cid:3404)𝛽 (cid:3397)𝛽 𝑥 (cid:3397)…𝛽 𝑥 (cid:3397)𝜀(cid:4666)𝑖(cid:3404)1,5(cid:4667) (2)\n",
      "(cid:3036) (cid:2868) (cid:2869) (cid:2869)(cid:3036) (cid:2873) (cid:2873)(cid:3036) (cid:3036)\n",
      "3 33.5 12 29.7 21 26.3 𝛽 , 𝛽 ,…,𝛽 미지수 (3)\n",
      "(cid:2868) (cid:2869) (cid:2873)\n",
      "4 70.2 13 58.7 22 48.5\n",
      "위 중회귀 모형을 행렬식으로 표현하면 다음 식\n",
      "5 39.8 14 35.5 23 29.5 (4) ~ (6)과 같다.\n",
      "6 49.8 15 43.3 24 38.3\n",
      "y(cid:3404)𝑋𝛽(cid:3397)𝜀→𝜀(cid:3404)𝑦(cid:3398)𝑋𝛽 (4)\n",
      "7 52.5 16 42.1 25 36.7\n",
      "8 57.6 17 50.1 26 43.0 𝑦 (cid:2869) ⎧1 𝑥 (cid:2869)(cid:2869) … 𝑥 (cid:2873)(cid:2869) ⎫\n",
      "𝐲(cid:3404)⎧𝑦 .(cid:2870)⎫ 𝐗(cid:3404)⎪1 𝑥\n",
      ".\n",
      "(cid:2869) (cid:2870)\n",
      ".\n",
      "…… 𝑥\n",
      ".(cid:2873)(cid:2870)⎪\n",
      "(5)\n",
      "9 35.0 18 29.6 27 26.9 ⎨ . ⎬ ⎨ . . … . ⎬\n",
      "⎩𝑦 (cid:2873)⎭ ⎩⎪ 1 𝑥\n",
      "(cid:2869)(cid:2873)\n",
      "⋯ 𝑥 (cid:2873)(cid:2873)⎭⎪\n",
      "⎧𝛽 (cid:2868)⎫ 𝜀 (cid:2869)\n",
      "𝛃(cid:3404)⎪𝛽 .(cid:2869)⎪ 𝛆(cid:3404)⎧𝜀 .(cid:2870)⎫\n",
      "(6)\n",
      "⎨ . ⎬ ⎨.⎬\n",
      "⎪ 𝛽 ⎪ ⎩𝜀 ⎭\n",
      "⎩ (cid:2873)⎭ (cid:2873)\n",
      "위 식에 오차항의 제곱을 한 최종 식은 다음 식\n",
      "(7) ~ (12)와 같다.\n",
      "S(cid:3404)∑(cid:2873) 𝜀(cid:2870)(cid:3404)𝜀(cid:2870)(cid:3397)𝜀(cid:2870)(cid:3397)⋯(cid:3397)𝜀(cid:2870)(cid:3404)𝜀(cid:3021)𝜀 (7)\n",
      "(cid:3036)(cid:2880)(cid:2869) (cid:3036) (cid:2869) (cid:2870) (cid:2873)\n",
      "(cid:3404)(cid:4666)y(cid:3398)Xβ(cid:4667)(cid:3021)(cid:4666)𝑦(cid:3398)𝑋𝛽(cid:4667) (8)\n",
      "Fig. 4 인로터 CAE 조건\n",
      "(cid:3404)(cid:4666)𝑦(cid:3021)(cid:3398)𝛽(cid:3021)𝑋(cid:3021)(cid:4667)(cid:4666)𝑦(cid:3398)𝑋𝛽(cid:4667) (9)\n",
      "3. 다중 회귀 분석 이론\n",
      "(multiple regression analysis) (cid:3105)(cid:3020) (cid:3404)𝑋(cid:3021)𝑋𝛽(cid:3398)𝑋(cid:3021)𝑦(cid:3404)0 (10)\n",
      "(cid:3105)(cid:3081)\n",
      "회귀 분석은 X라는 독립변수와 Y라는 종속변수\n",
      " 𝑋(cid:3021)𝑋𝛽(cid:3404)𝑋(cid:3021)𝑦\n",
      "간의 인과 관계를 찾기 위한 기업으로 종속변인이\n",
      "얼마나 변할 것인지에 대한 영향력을 예측하는 통\n",
      "계 분석 기법이다.\n",
      " 𝛽(cid:3404)(cid:4666)𝑋(cid:3021)𝑋(cid:4667)(cid:2879)(cid:2869)𝑋(cid:3021)𝑦 (11)\n",
      "회귀 분석의 종류는 단순 선형 회귀분석, 다중\n",
      "회귀분석(중회귀분석), 위계적 다중 회귀 분석,\n",
      "곡선 회귀분석 등 다양하게 있다. 𝑌(cid:3404)𝛽 (cid:3397)𝛽 𝐴(cid:3397)𝛽 𝐵(cid:3397)𝛽 𝐶(cid:3397)𝛽 𝐷(cid:3397)𝛽 𝐸 (12)\n",
      "(cid:2868) (cid:2869) (cid:2870) (cid:2871) (cid:2872) (cid:2873)\n",
      "본 논문에서는 독립변수가 하나 이상의 설계 파\n",
      "4\n"
     ]
    }
   ],
   "source": [
    "print(pages[3].extract_text())"
   ]
  },
  {
   "cell_type": "code",
   "execution_count": 19,
   "metadata": {},
   "outputs": [
    {
     "name": "stdout",
     "output_type": "stream",
     "text": [
      "     \n",
      " \n",
      "Table 3 CAE 주응력 해석 결과  라메터(독립변인)들을 갖고 있으므로, 다중 회귀 \n",
      "분석을 사용하였다. \n",
      "No.  y  No  y  No  y \n",
      "독립변수가 5개인 3인자 수준의 경우 중회귀 모\n",
      "1  113.1  10  92.0  19  74.7  형은 다음 식(2),(3)와 같다. \n",
      " \n",
      "2  55.8  11  47.7  20  42.5 \n",
      "𝑦 (cid:3404)𝛽 (cid:3397)𝛽 𝑥 (cid:3397)…𝛽 𝑥 (cid:3397)𝜀(cid:4666)𝑖(cid:3404)1,5(cid:4667)        (2) \n",
      "(cid:3036) (cid:2868) (cid:2869) (cid:2869)(cid:3036) (cid:2873) (cid:2873)(cid:3036) (cid:3036)\n",
      "3  33.5  12  29.7  21  26.3  𝛽 , 𝛽 ,…,𝛽    미지수                      (3) \n",
      "(cid:2868) (cid:2869) (cid:2873)\n",
      " \n",
      "4  70.2  13  58.7  22  48.5 \n",
      "위 중회귀 모형을 행렬식으로 표현하면 다음 식\n",
      "5  39.8  14  35.5  23  29.5  (4) ~ (6)과 같다. \n",
      " \n",
      "6  49.8  15  43.3  24  38.3 \n",
      "y(cid:3404)𝑋𝛽(cid:3397)𝜀→𝜀(cid:3404)𝑦(cid:3398)𝑋𝛽                   (4) \n",
      "7  52.5  16  42.1  25  36.7   \n",
      "8  57.6  17  50.1  26  43.0  𝑦(cid:2869) ⎧1 𝑥(cid:2869)(cid:2869) … 𝑥(cid:2873)(cid:2869)⎫\n",
      "𝐲(cid:3404)⎧𝑦.(cid:2870)⎫ 𝐗(cid:3404)⎪1 𝑥. (cid:2869)  (cid:2870).   ……   𝑥 .(cid:2873)(cid:2870)⎪             (5) \n",
      "9  35.0  18  29.6  27  26.9  ⎨ . ⎬ ⎨ .   .  …   . ⎬\n",
      "  ⎩𝑦(cid:2873)⎭ ⎩⎪1 𝑥(cid:2869)(cid:2873) ⋯ 𝑥(cid:2873)(cid:2873)⎭⎪\n",
      "⎧𝛽(cid:2868)⎫ 𝜀(cid:2869)\n",
      "𝛃(cid:3404)⎪𝛽.(cid:2869)⎪        𝛆(cid:3404)⎧𝜀.(cid:2870)⎫                 (6) \n",
      "⎨ . ⎬ ⎨.⎬\n",
      "⎪𝛽 ⎪ ⎩𝜀 ⎭\n",
      "⎩ (cid:2873)⎭ (cid:2873)\n",
      " \n",
      "위 식에 오차항의 제곱을 한 최종 식은 다음 식\n",
      "(7) ~ (12)와 같다. \n",
      " \n",
      "S(cid:3404)∑(cid:2873) 𝜀(cid:2870)(cid:3404)𝜀(cid:2870)(cid:3397)𝜀(cid:2870)(cid:3397)⋯(cid:3397)𝜀(cid:2870)(cid:3404)𝜀(cid:3021)𝜀        (7) \n",
      "(cid:3036)(cid:2880)(cid:2869) (cid:3036) (cid:2869) (cid:2870) (cid:2873)\n",
      "(cid:3404)(cid:4666)y(cid:3398)Xβ(cid:4667)(cid:3021)(cid:4666)𝑦(cid:3398)𝑋𝛽(cid:4667)                       (8) \n",
      "Fig. 4 인로터 CAE 조건 \n",
      " \n",
      "(cid:3404)(cid:4666)𝑦(cid:3021)(cid:3398)𝛽(cid:3021)𝑋(cid:3021)(cid:4667)(cid:4666)𝑦(cid:3398)𝑋𝛽(cid:4667)                    (9) \n",
      " \n",
      "3. 다중 회귀 분석 이론 \n",
      "(multiple regression analysis)  (cid:3105)(cid:3020) (cid:3404)𝑋(cid:3021)𝑋𝛽(cid:3398)𝑋(cid:3021)𝑦(cid:3404)0                      (10) \n",
      "(cid:3105)(cid:3081)\n",
      " \n",
      "회귀 분석은 X라는 독립변수와 Y라는 종속변수 \n",
      "  𝑋(cid:3021)𝑋𝛽(cid:3404)𝑋(cid:3021)𝑦 \n",
      "간의 인과 관계를 찾기 위한 기업으로 종속변인이 \n",
      "얼마나 변할 것인지에 대한 영향력을 예측하는 통\n",
      "계 분석 기법이다. \n",
      "  𝛽(cid:3404)(cid:4666)𝑋(cid:3021)𝑋(cid:4667)(cid:2879)(cid:2869)𝑋(cid:3021)𝑦                      (11) \n",
      "회귀 분석의 종류는 단순 선형 회귀분석, 다중 \n",
      "회귀분석(중회귀분석), 위계적 다중 회귀 분석, \n",
      "곡선 회귀분석 등 다양하게 있다.  𝑌(cid:3404)𝛽 (cid:3397)𝛽 𝐴(cid:3397)𝛽 𝐵(cid:3397)𝛽 𝐶(cid:3397)𝛽 𝐷(cid:3397)𝛽 𝐸   (12) \n",
      "(cid:2868) (cid:2869) (cid:2870) (cid:2871) (cid:2872) (cid:2873)\n",
      "본 논문에서는 독립변수가 하나 이상의 설계 파\n",
      "   \n",
      "4\n"
     ]
    }
   ],
   "source": [
    "print(pages[3].extract_text_simple())"
   ]
  },
  {
   "cell_type": "code",
   "execution_count": 21,
   "metadata": {},
   "outputs": [
    {
     "name": "stdout",
     "output_type": "stream",
     "text": [
      "{'x0': 66.6, 'y0': 293.248, 'x1': 250.62, 'y1': 431.008, 'width': 184.02, 'height': 137.76, 'stream': <PDFStream(45): raw=18789, {'BitsPerComponent': 8, 'ColorSpace': <PDFObjRef:23>, 'Filter': /'DCTDecode', 'Height': 345, 'Length': 18789, 'Subtype': /'Image', 'Type': /'XObject', 'Width': 504}>, 'srcsize': (504, 345), 'imagemask': None, 'bits': 8, 'colorspace': [[/'ICCBased', <PDFStream(49): raw=2597, {'Alternate': /'DeviceRGB', 'Filter': /'FlateDecode', 'Length': 2597, 'N': 3}>]], 'mcid': 0, 'tag': 'Part', 'object_type': 'image', 'page_number': 4, 'top': 305.992, 'bottom': 443.752, 'doctop': 2516.992}\n"
     ]
    }
   ],
   "source": [
    "print(pages[3].images[0])"
   ]
  },
  {
   "cell_type": "code",
   "execution_count": 24,
   "metadata": {},
   "outputs": [],
   "source": [
    "page = pages[3]\n",
    "page_height = page.height\n",
    "img = page.images[0]\n",
    "\n",
    "if img is not None:\n",
    "    boxpoint= (img['x0'], page_height - img['y1'], img['x1'], page_height - img['y0'])\n",
    "    copy_crop = page.crop(boxpoint)\n",
    "    image_object = copy_crop.to_image(resolution=400)"
   ]
  },
  {
   "cell_type": "code",
   "execution_count": 26,
   "metadata": {},
   "outputs": [
    {
     "data": {
      "text/plain": [
       "{'x0': 66.6,\n",
       " 'y0': 293.248,\n",
       " 'x1': 250.62,\n",
       " 'y1': 431.008,\n",
       " 'width': 184.02,\n",
       " 'height': 137.76,\n",
       " 'stream': <PDFStream(45): raw=18789, {'BitsPerComponent': 8, 'ColorSpace': <PDFObjRef:23>, 'Filter': /'DCTDecode', 'Height': 345, 'Length': 18789, 'Subtype': /'Image', 'Type': /'XObject', 'Width': 504}>,\n",
       " 'srcsize': (504, 345),\n",
       " 'imagemask': None,\n",
       " 'bits': 8,\n",
       " 'colorspace': [[/'ICCBased',\n",
       "   <PDFStream(49): raw=2597, {'Alternate': /'DeviceRGB', 'Filter': /'FlateDecode', 'Length': 2597, 'N': 3}>]],\n",
       " 'mcid': 0,\n",
       " 'tag': 'Part',\n",
       " 'object_type': 'image',\n",
       " 'page_number': 4,\n",
       " 'top': 305.992,\n",
       " 'bottom': 443.752,\n",
       " 'doctop': 2516.992}"
      ]
     },
     "execution_count": 26,
     "metadata": {},
     "output_type": "execute_result"
    }
   ],
   "source": [
    "page.images[0]"
   ]
  },
  {
   "cell_type": "code",
   "execution_count": 25,
   "metadata": {},
   "outputs": [
    {
     "data": {
      "image/png": "[encoded data removed]",
      "text/plain": [
       "<pdfplumber.display.PageImage at 0x124144b60>"
      ]
     },
     "execution_count": 25,
     "metadata": {},
     "output_type": "execute_result"
    }
   ],
   "source": [
    "image_object"
   ]
  }
 ],
 "metadata": {
  "kernelspec": {
   "display_name": "pdf-loader-oJYlJ6ZH-py3.11",
   "language": "python",
   "name": "python3"
  },
  "language_info": {
   "codemirror_mode": {
    "name": "ipython",
    "version": 3
   },
   "file_extension": ".py",
   "mimetype": "text/x-python",
   "name": "python",
   "nbconvert_exporter": "python",
   "pygments_lexer": "ipython3",
   "version": "3.11.5"
  }
 },
 "nbformat": 4,
 "nbformat_minor": 2
}
