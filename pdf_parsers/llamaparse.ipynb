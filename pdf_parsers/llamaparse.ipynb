{
 "cells": [
  {
   "cell_type": "code",
   "execution_count": 1,
   "metadata": {},
   "outputs": [
    {
     "data": {
      "text/plain": [
       "True"
      ]
     },
     "execution_count": 1,
     "metadata": {},
     "output_type": "execute_result"
    }
   ],
   "source": [
    "from dotenv import find_dotenv, load_dotenv\n",
    "\n",
    "load_dotenv(find_dotenv())"
   ]
  },
  {
   "cell_type": "code",
   "execution_count": 2,
   "metadata": {},
   "outputs": [],
   "source": [
    "# bring in deps\n",
    "from llama_parse import LlamaParse\n",
    "from llama_index.core import SimpleDirectoryReader"
   ]
  },
  {
   "cell_type": "code",
   "execution_count": 3,
   "metadata": {},
   "outputs": [],
   "source": [
    "import os\n",
    "import nest_asyncio\n",
    "\n",
    "# Allow async\n",
    "nest_asyncio.apply()"
   ]
  },
  {
   "cell_type": "code",
   "execution_count": 4,
   "metadata": {},
   "outputs": [],
   "source": [
    "# Set file path\n",
    "FILE_PATH = \"/Users/syshin/Desktop/Syshin/LabQ/한국자동차연구원/data/논문/KSAE 학술대회 논문 모음집/2020년/2. 추계/Data/20AKSAE_A004.pdf\""
   ]
  },
  {
   "cell_type": "markdown",
   "metadata": {},
   "source": [
    "## Default Parsing"
   ]
  },
  {
   "cell_type": "code",
   "execution_count": 5,
   "metadata": {},
   "outputs": [
    {
     "name": "stdout",
     "output_type": "stream",
     "text": [
      "Started parsing the file under job_id ad24523a-c12b-49c3-b4fb-45fbeea4d932\n",
      "."
     ]
    }
   ],
   "source": [
    "from llama_parse import LlamaParse\n",
    "from llama_index.core import SimpleDirectoryReader\n",
    "\n",
    "# Configure the LlamaParse instance\n",
    "parser = LlamaParse(\n",
    "    result_type=\"markdown\",  # Output format (\"text\", \"markdown\", \"json\", or \"structured\")\n",
    "    num_workers=8,\n",
    "    verbose=True,\n",
    "    language=\"en\",\n",
    "    show_progress=True,\n",
    ")\n",
    "\n",
    "# Define a file extractor mapping file extensions to parsers\n",
    "file_extractor = {\".pdf\": parser}\n",
    "\n",
    "# Use SimpleDirectoryReader to parse the specified PDF file\n",
    "documents = SimpleDirectoryReader(\n",
    "    input_files=[FILE_PATH],  # List of files to process\n",
    "    file_extractor=file_extractor,\n",
    ").load_data()"
   ]
  },
  {
   "cell_type": "code",
   "execution_count": 6,
   "metadata": {},
   "outputs": [
    {
     "data": {
      "text/plain": [
       "[Document(id_='0aa40f4c-fdb9-4f4d-bbb9-5871f404b5ba', embedding=None, metadata={'file_path': '/Users/syshin/Desktop/Syshin/LabQ/한국자동차연구원/data/논문/KSAE 학술대회 논문 모음집/2020년/2. 추계/Data/20AKSAE_A004.pdf', 'file_name': '20AKSAE_A004.pdf', 'file_type': 'application/pdf', 'file_size': 1309200, 'creation_date': '2025-01-14', 'last_modified_date': '2020-11-11'}, excluded_embed_metadata_keys=['file_name', 'file_type', 'file_size', 'creation_date', 'last_modified_date', 'last_accessed_date'], excluded_llm_metadata_keys=['file_name', 'file_type', 'file_size', 'creation_date', 'last_modified_date', 'last_accessed_date'], relationships={}, metadata_template='{key}: {value}', metadata_separator='\\n', text_resource=MediaResource(embeddings=None, data=None, text='# 2020 한국자동차공학회 추계학술대회\\n\\n# 회귀분석법을 이용한 차량 오일펌프의 인로터 중량 최적화 해석\\n\\n정대근1)* 김기태1) 명화공업1)\\n\\nIn-rotor weight optimization analysis of vehicle oil pump using regression analysis method\\n\\nDae‑geun Jung1) Ki‑Tae Kim1)\\n\\n1) MYUNGHWA IND. CO., LTD. R&D Center 65, Beojigi‑ro, Danwon‑gu, Ansan‑si, Gyeonggi‑do, Korea\\n\\n# Abstract\\n\\nThis white paper contains information on techniques that can reduce design time. In this study, multiple regression analysis was used as a method to increase work efficiency. The vane, in‑rotor of the vehicle oil pump was selected. Variables that can be optimized for weight were selected during design. It has 5 independent variables and 3 factors, which was analyzed by multiple regression. Based on this data, the \"Macro\" automation sheet was built. As a result of comparing the optimization program and CAE in this paper, the reliability was 91.6%. Through this, the designer can easily and quickly predict design variables without CAE analysis.\\n\\n# Key words\\n\\nMultiple regression analysis(다중회귀분석), Vehicle(차량), Oil Pump(오일펌프), Vane(베인), Inrotor(인로터), Optimization(최적화)\\n\\n# Subscripts\\n\\nA,B,C,D,E : independent variable\\n\\n𝛽~𝛽ହ : unknown quantity\\n\\nY : Stress\\n\\n# 1. 서 론\\n\\n최근 자동차부품기업의 기술경쟁력을 높이기 위해 동력전달, 섀시, 제동, 현가, 경량 차체부품 등의 차량부품의 고도화를 위한 기술개발이 활발히 이루어 지고 있다.\\n\\n또한 미래 자동차 산업의 패러다임 변화에 맞춰 친환경 차량의 전기전장부품 개발을 도모하고 있다.\\n\\n이에 따라 자동차 분야 기술고도화를 통한 미래 먹거리 창출의 원동력 확보와 원천기술에 대한 확보가 요구되고 있다.\\n\\n이러한 전망으로 급변화하는 기술력에 대응하기 위해서는 효율적인 업무가 뒷받침 되어야 한다.\\n\\n본 논문에서는 인로터 설계 시 강도를 만족하는 수준에서 중량을 고려한 설계 파라메터를 빠르게', path=None, url=None, mimetype=None), image_resource=None, audio_resource=None, video_resource=None, text_template='{metadata_str}\\n\\n{content}'),\n",
       " Document(id_='ccbf5ae8-981a-413a-8eb9-c3e761ac28c9', embedding=None, metadata={'file_path': '/Users/syshin/Desktop/Syshin/LabQ/한국자동차연구원/data/논문/KSAE 학술대회 논문 모음집/2020년/2. 추계/Data/20AKSAE_A004.pdf', 'file_name': '20AKSAE_A004.pdf', 'file_type': 'application/pdf', 'file_size': 1309200, 'creation_date': '2025-01-14', 'last_modified_date': '2020-11-11'}, excluded_embed_metadata_keys=['file_name', 'file_type', 'file_size', 'creation_date', 'last_modified_date', 'last_accessed_date'], excluded_llm_metadata_keys=['file_name', 'file_type', 'file_size', 'creation_date', 'last_modified_date', 'last_accessed_date'], relationships={}, metadata_template='{key}: {value}', metadata_separator='\\n', text_resource=MediaResource(embeddings=None, data=None, text='산출 할 수 있는 프로그램을 구축하였다.\\n\\n# Table 1 설계 파라메터\\n\\n|No.|설계 파라메터|범위|\\n|---|---|---|\\n|1|A|D10.0~D12 mm|\\n|2|B|(47.31도~55.54도)|\\n|3|C|1.0~3.0 mm|\\n|4|D|0.5~1.5 mm|\\n|5|E|16.6~27.0 mm|\\n\\n기존 문제점의 경우, 베인 인로터 설계 시 설계자가 레이아웃과 지금까지의 경험 및 표준 가이드를 바탕으로 초기 설계를 진행한 후 해석을 통한 강도 측면을 검증하였으며, 강도 결과에 대한 안전율을 고려하여 중량 절감까지 검토하였다. 이러한 반복 과정을 통하여 중량 절감이 되긴 하나, 중량 최적화에 대한 결과가 최선이라고는 보기 어려우며, 많은 시간이 소요된다.\\n\\n이러한 문제점을 해결하기 위하여 설계 파라메터별 중량 최적화 자동 시트를 개발하였으며, 이를 통하여 업무 간소화와 업무 효율성을 극대화하고, 업무 시간을 단축하였다.\\n\\n차량 Fig. 1과 같이 오일펌프의 부품인 베인 인로터 설계 시 중량을 고려하여 강도 수준을 만족하는 설계 파라메터를 선정하고, 이를 검증하기 위한 단계로 선형 강도 해석(linear static analysis)을 통한 결과를 확인하였다. 이로 인해 확보된 시간은 기술고도화를 위한 연구에 투자할 수 있다.\\n\\n전반적인 순서도는 Fig.2와 같이 진행 된다.\\n\\n# 2. 설계 파라메터 인자 설정 및 해석 결과\\n\\n베인 인로터의 강도를 만족하면서, 중량을 최적화한 설계 파라메터 값을 도출하기 위한 시트 구축 목적으로 선행 작업을 진행하였다. 먼저 인로터 설계 시 강도에 영향을 주는 인자를 분류 한다. Fig.3과 Table 1 같이 설계 파라메터별 설계 가능 범위를 나열하였다.\\n\\n# Fig. 1 챠량 오일펌프 내부\\n\\n# Fig. 2 순서도', path=None, url=None, mimetype=None), image_resource=None, audio_resource=None, video_resource=None, text_template='{metadata_str}\\n\\n{content}'),\n",
       " Document(id_='956a0afd-ac22-416e-93ad-1068a680f68e', embedding=None, metadata={'file_path': '/Users/syshin/Desktop/Syshin/LabQ/한국자동차연구원/data/논문/KSAE 학술대회 논문 모음집/2020년/2. 추계/Data/20AKSAE_A004.pdf', 'file_name': '20AKSAE_A004.pdf', 'file_type': 'application/pdf', 'file_size': 1309200, 'creation_date': '2025-01-14', 'last_modified_date': '2020-11-11'}, excluded_embed_metadata_keys=['file_name', 'file_type', 'file_size', 'creation_date', 'last_modified_date', 'last_accessed_date'], excluded_llm_metadata_keys=['file_name', 'file_type', 'file_size', 'creation_date', 'last_modified_date', 'last_accessed_date'], relationships={}, metadata_template='{key}: {value}', metadata_separator='\\n', text_resource=MediaResource(embeddings=None, data=None, text='|DiconM|No.|A|B|C|D|E|\\n|---|---|---|---|---|---|---|\\n| |1| |0.5|16.6| | |\\n| |2|40.12|2|1.0|21.8| |\\n| |3| |1.5|27.0| | |\\n| |4| |0.5|21.8| | |\\n| |10|5|43.71|2|1.0|27.0|\\n| |6| |1.5|16.6| | |\\n| |7| |0.5|27.0| | |\\n| |8|46.59|2|1.0|16.6| |\\n| |9| |1.5|21.8| | |\\n| |10| |1.0|16.6| | |\\n| |11|40.12|2|1.5|21.8| |\\n| |12| |0.5|27.0| | |\\n| |13| |1.0|21.8| | |\\n| |11|14|43.71|2|1.5|27.0|\\n| |15| |0.5|16.6| | |\\n| |16| |1.0|27.0| | |\\n| |17|46.59|2|1.5|16.6| |\\n| |18| |0.5|21.8| | |\\n| |19| |1.5|16.6| | |\\n| |20|40.12|2|0.5|21.8| |\\n| |21| |1.0|27.0| | |\\n| |22| |1.5|21.8| | |\\n| |12|23|43.71|2|0.5|27.0|\\n| |24| |1.0|16.6| | |\\n| |25| |1.5|27.0| | |\\n| |26|46.59|2|0.5|16.6| |\\n| |27| |1.0|21.8| | |\\n\\n중회귀식을 만들기 전 해석이 선행으로 진행 된다. 독립 변수 5개와 3인자 수준으로 Table.2와 같이 27개의 항목으로 정렬한다. 조건은 Fig.4과 같이 중심축을 기준으로 10N.m 회전하며, 외곽 한 개의 선을 모두 고정한 상태로 최대 응력이 발생되는 동일한 부분을 측정한다. 측정한 해석 결과는 Y값 Table.3과 같다. 이 모든 값을 근거로 식(1)의 중회귀식이 구해진다. 구해진 식은 다음과 같다.\\n\\nY = 331.829 - 7.828A - 2.464B - 15.339C - 4.656D - 2.525E (1)', path=None, url=None, mimetype=None), image_resource=None, audio_resource=None, video_resource=None, text_template='{metadata_str}\\n\\n{content}'),\n",
       " Document(id_='7b605301-ab5e-447a-8d8b-70d37f588d70', embedding=None, metadata={'file_path': '/Users/syshin/Desktop/Syshin/LabQ/한국자동차연구원/data/논문/KSAE 학술대회 논문 모음집/2020년/2. 추계/Data/20AKSAE_A004.pdf', 'file_name': '20AKSAE_A004.pdf', 'file_type': 'application/pdf', 'file_size': 1309200, 'creation_date': '2025-01-14', 'last_modified_date': '2020-11-11'}, excluded_embed_metadata_keys=['file_name', 'file_type', 'file_size', 'creation_date', 'last_modified_date', 'last_accessed_date'], excluded_llm_metadata_keys=['file_name', 'file_type', 'file_size', 'creation_date', 'last_modified_date', 'last_accessed_date'], relationships={}, metadata_template='{key}: {value}', metadata_separator='\\n', text_resource=MediaResource(embeddings=None, data=None, text='|No.|y|No|y|No|y|\\n|---|---|---|---|---|---|\\n|1|113.1|10|92.0|19|74.7|\\n|2|55.8|11|47.7|20|42.5|\\n|3|33.5|12|29.7|21|26.3|\\n|4|70.2|13|58.7|22|48.5|\\n|5|39.8|14|35.5|23|29.5|\\n|6|49.8|15|43.3|24|38.3|\\n|7|52.5|16|42.1|25|36.7|\\n|8|57.6|17|50.1|26|43.0|\\n|9|35.0|18|29.6|27|26.9|\\n\\n형은 다음 식(2),(3)와 같다.\\n\\n𝑦\\u0bdc = 𝛽\\u0b34 + 𝛽𝑥ଵ\\u0bdc + … + 𝛽𝑥ହ\\u0bdc + 𝜀 (𝑖 = 1,5)\\n\\n𝛽, 𝛽,… , 𝛽ହ 미지수\\n\\n위 중회귀 모형을 행렬식으로 표현하면 다음 식\\n\\ny = 𝑋𝛽 + 𝜀 → 𝜀 = 𝑦 − 𝑋𝛽\\n\\n𝐲 = ⎨𝑦ଶ⎧𝑦ଵ⎫ ⎧1 𝑥ଵଵ … 𝑥हଵ⎫\\n\\n⎪1 𝑥ଵଶ … 𝑥हଶ⎪\\n\\n. .\\n\\n⎬𝐗 = ⎨ . . … . ⎬\\n\\n⎪1 𝑥ଵह . … . ⎪\\n\\n⎩𝑦ह ⎭ ⎩ ⋯ 𝑥हह ⎪⎭\\n\\n𝛃 = ⎨𝛽\\u0b34⎫ ⎪𝛽⎪ ⎧𝜀ଵ⫽𝜀ଶ\\n\\n⎩𝛽⎭ 𝛆 = ⎨𝜀ହ ⎭⎩ .\\n\\n위 식에 오차항의 제곱을 한 최종 식은 다음 식\\n\\nS = ∑𝑛𝑖=1 𝜀\\u0bdcଶ = 𝜀ଵଶ + 𝜀ଶଶ + ⋯ + 𝜀ହଶ = 𝜀\\n\\n= (y − Xβ)′(y − Xβ)\\n\\n= (y′ − β′X′)(y − Xβ)\\n\\n# 3. 다중 회귀 분석 이론\\n\\n회귀 분석은 X라는 독립변수와 Y라는 종속변수 간의 인과 관계를 찾기 위한 기업으로 종속변인이 얼마나 변할 것인지에 대한 영향력을 예측하는 통계 분석 기법이다.\\n\\n회귀 분석의 종류는 단순 선형 회귀분석, 다중 회귀분석(중회귀분석), 위계적 다중 회귀 분석, 곡선 회귀분석 등 다양하게 있다.\\n\\n본 논문에서는 독립변수가 하나 이상의 설계 파', path=None, url=None, mimetype=None), image_resource=None, audio_resource=None, video_resource=None, text_template='{metadata_str}\\n\\n{content}'),\n",
       " Document(id_='62bdfe69-cbec-4be1-a465-cc0462809b26', embedding=None, metadata={'file_path': '/Users/syshin/Desktop/Syshin/LabQ/한국자동차연구원/data/논문/KSAE 학술대회 논문 모음집/2020년/2. 추계/Data/20AKSAE_A004.pdf', 'file_name': '20AKSAE_A004.pdf', 'file_type': 'application/pdf', 'file_size': 1309200, 'creation_date': '2025-01-14', 'last_modified_date': '2020-11-11'}, excluded_embed_metadata_keys=['file_name', 'file_type', 'file_size', 'creation_date', 'last_modified_date', 'last_accessed_date'], excluded_llm_metadata_keys=['file_name', 'file_type', 'file_size', 'creation_date', 'last_modified_date', 'last_accessed_date'], relationships={}, metadata_template='{key}: {value}', metadata_separator='\\n', text_resource=MediaResource(embeddings=None, data=None, text='# 5. 최적화프로그램 결과와 해석결과 비교\\n\\n여기서 𝛽~𝛽의 미지수가 고정이 되고, A~E의 독립변수 값의 의해 Y값의 결과가 자동 도출 된 다. 지금까지의 중회귀식 결과와 CAE 결과을 비교하여, 중회귀식의 신뢰성을 평가해 보았다. 임의의 파라메터값을 선정하여 10-CASE에 대한 CAE 해석을 진행하고, 그 결과와 최적프로그램 결과를 비교하여 신뢰성에 대한 값을 비교하였다. 평균 신뢰성은 95.3%로 오차률은 5% 이내임을 확인 하였다. 이를 근거로 설계자는 인로터 설계 시 중량 최적화 설계 프로그램을 활용하여 선검토 및 중량 최적화에 대한 설계 파라메터 값을 초기에 선정 할 수 있다.\\n\\n# 4. 중량 최적화 설계 프로그램 구축\\n\\n지금까지의 중회귀식에 대한 결과와 데이터를 바탕으로 엑셀 시트와 매크로(macro)를 활용하여 중량 최적화 설계 자동화 프로그램을 구축하였다. 본 프로그램은 Fig.6와 같이 설계 담당자가 쉽게 활용할 수 있도록 2단계로 구축하였다. 앞서 언급한 바와 같이 이로 인해 확보된 시간은 기술고도화를 위한 연구에 투자할 수 있다.\\n\\n# Table 4 CAE 결과와 중회귀식 결과 비교 표\\n\\n|No.|CAE 결과|중회귀식 결과|신뢰성|\\n|---|---|---|---|\\n|1|70.2|73.1|96.0%|\\n|2|39.8|42.4|94.0%|\\n|3|49.8|50.9|97.8%|\\n|4|57.6|61.5|93.6%|\\n|5|29.7|30.4|97.8%|\\n|6|58.7|63.0|93.2%|\\n|7|50.1|51.4|97.6%|\\n|8|29.6|27.5|93.1%|\\n|9|48.5|52.8|91.8%|\\n|10|29.5|29.0|98.4%|\\n\\n평균 신뢰성 95.3%\\n\\nFig. 6 중량 최적화 자동화 설계 프로그램\\n\\n1단계 A~E까지 파라메터별 최소범위와 최대범위 설정, 2단계 “최적화 실행” 클릭 시 Iteration 10만회(30초 이내) 반복 계산을 통하여 내구한도 이내에서의 최소 중량순으로 TOP10를 추출하게 하였다. 이 결과를 참고하여 설계자는 별도의 해석을 진행하지 않고도 설계 파라메터 값을 쉽고 빠르게 예측 할 수 있다.', path=None, url=None, mimetype=None), image_resource=None, audio_resource=None, video_resource=None, text_template='{metadata_str}\\n\\n{content}'),\n",
       " Document(id_='05933c5a-ddf1-4824-8841-e16717ef4145', embedding=None, metadata={'file_path': '/Users/syshin/Desktop/Syshin/LabQ/한국자동차연구원/data/논문/KSAE 학술대회 논문 모음집/2020년/2. 추계/Data/20AKSAE_A004.pdf', 'file_name': '20AKSAE_A004.pdf', 'file_type': 'application/pdf', 'file_size': 1309200, 'creation_date': '2025-01-14', 'last_modified_date': '2020-11-11'}, excluded_embed_metadata_keys=['file_name', 'file_type', 'file_size', 'creation_date', 'last_modified_date', 'last_accessed_date'], excluded_llm_metadata_keys=['file_name', 'file_type', 'file_size', 'creation_date', 'last_modified_date', 'last_accessed_date'], relationships={}, metadata_template='{key}: {value}', metadata_separator='\\n', text_resource=MediaResource(embeddings=None, data=None, text='# 6. 결 론\\n\\n본 논문에서는 인로터 설계 시 설계 파라메터별 선행 해석을 진행하고, 이를 바탕으로 통계적인 기법의 중회귀식을 사용하여 중회귀식을 도출하였다.\\n\\n중회귀식에 대한 결과와 데이터를 활용하여, 중량 최적화 설계 자동화 프로그램을 구축하였다. 이 프로그램을 활용하여, 설계자는 인로터 설계 시 중량 최적화 기준의 설계 파라메터 값을 빠르고, 쉽게 확인 할 수 있다.\\n\\n1. 설계 파라메터 인자를 확인하여, 독립변수 5 개와 3인자 수준으로 27개의 파트로 나열하였다.\\n2. 27개의 파트를 CAE 해석을 통하여, 선행해석하고, 결과를 기록하였다. CAE 결과는 중회귀식에 y(식.10)에 사용되어, 중회귀식에 미지수값을 도출하였다.\\n3. 중회귀식을 바탕으로 중량 최적화 설계 파라메터 프로그램을 구축하였다.\\n4. 중회귀식 결과와 CAE 결과 비교를 통하여, 신뢰성을 확인하였다.\\n\\n# References\\n\\n1. Seong-Hyeon Park, “design of experiments”, p423, Minyoungsa , 2004\\n2. Mi-Ra Ryu, Hwan-Young Jeon, “Heat Transfer Analysis of Side Mirror using Regression Analysis”, KSMT Korean Soc. Mech. Techol, VOL.22 NO.4, PP.661-666, 2020', path=None, url=None, mimetype=None), image_resource=None, audio_resource=None, video_resource=None, text_template='{metadata_str}\\n\\n{content}')]"
      ]
     },
     "execution_count": 6,
     "metadata": {},
     "output_type": "execute_result"
    }
   ],
   "source": [
    "documents"
   ]
  },
  {
   "cell_type": "code",
   "execution_count": 7,
   "metadata": {},
   "outputs": [],
   "source": [
    "# Convert LlamaIndex documents to LangChain document format\n",
    "docs = [doc.to_langchain_format() for doc in documents]"
   ]
  },
  {
   "cell_type": "code",
   "execution_count": 8,
   "metadata": {},
   "outputs": [
    {
     "name": "stdout",
     "output_type": "stream",
     "text": [
      "|No.|y|No|y|No|y|\n",
      "|---|---|---|---|---|---|\n",
      "|1|113.1|10|92.0|19|74.7|\n",
      "|2|55.8|11|47.7|20|42.5|\n",
      "|3|33.5|12|29.7|21|26.3|\n",
      "|4|70.2|13|58.7|22|48.5|\n",
      "|5|39.8|14|35.5|23|29.5|\n",
      "|6|49.8|15|43.3|24|38.3|\n",
      "|7|52.5|16|42.1|25|36.7|\n",
      "|8|57.6|17|50.1|26|43.0|\n",
      "|9|35.0|18|29.6|27|26.9|\n",
      "\n",
      "형은 다음 식(2),(3)와 같다.\n",
      "\n",
      "𝑦௜ = 𝛽଴ + 𝛽𝑥ଵ௜ + … + 𝛽𝑥ହ௜ + 𝜀 (𝑖 = 1,5)\n",
      "\n",
      "𝛽, 𝛽,… , 𝛽ହ 미지수\n",
      "\n",
      "위 중회귀 모형을 행렬식으로 표현하면 다음 식\n",
      "\n",
      "y = 𝑋𝛽 + 𝜀 → 𝜀 = 𝑦 − 𝑋𝛽\n",
      "\n",
      "𝐲 = ⎨𝑦ଶ⎧𝑦ଵ⎫ ⎧1 𝑥ଵଵ … 𝑥हଵ⎫\n",
      "\n",
      "⎪1 𝑥ଵଶ … 𝑥हଶ⎪\n",
      "\n",
      ". .\n",
      "\n",
      "⎬𝐗 = ⎨ . . … . ⎬\n",
      "\n",
      "⎪1 𝑥ଵह . … . ⎪\n",
      "\n",
      "⎩𝑦ह ⎭ ⎩ ⋯ 𝑥हह ⎪⎭\n",
      "\n",
      "𝛃 = ⎨𝛽଴⎫ ⎪𝛽⎪ ⎧𝜀ଵ⫽𝜀ଶ\n",
      "\n",
      "⎩𝛽⎭ 𝛆 = ⎨𝜀ହ ⎭⎩ .\n",
      "\n",
      "위 식에 오차항의 제곱을 한 최종 식은 다음 식\n",
      "\n",
      "S = ∑𝑛𝑖=1 𝜀௜ଶ = 𝜀ଵଶ + 𝜀ଶଶ + ⋯ + 𝜀ହଶ = 𝜀\n",
      "\n",
      "= (y − Xβ)′(y − Xβ)\n",
      "\n",
      "= (y′ − β′X′)(y − Xβ)\n",
      "\n",
      "# 3. 다중 회귀 분석 이론\n",
      "\n",
      "회귀 분석은 X라는 독립변수와 Y라는 종속변수 간의 인과 관계를 찾기 위한 기업으로 종속변인이 얼마나 변할 것인지에 대한 영향력을 예측하는 통계 분석 기법이다.\n",
      "\n",
      "회귀 분석의 종류는 단순 선형 회귀분석, 다중 회귀분석(중회귀분석), 위계적 다중 회귀 분석, 곡선 회귀분석 등 다양하게 있다.\n",
      "\n",
      "본 논문에서는 독립변수가 하나 이상의 설계 파\n"
     ]
    }
   ],
   "source": [
    "# Display the content of a specific document (e.g., the 6th document)\n",
    "print(docs[3].page_content)"
   ]
  },
  {
   "cell_type": "markdown",
   "metadata": {},
   "source": [
    "## MultiModal-Parsing"
   ]
  },
  {
   "cell_type": "code",
   "execution_count": 9,
   "metadata": {},
   "outputs": [],
   "source": [
    "# Configure the LlamaParse instance to use the vendor multimodal model\n",
    "multimodal_parser = LlamaParse(\n",
    "    use_vendor_multimodal_model=True,\n",
    "    # vendor_multimodal_model_name=\"openai-gpt4o\",\n",
    "    # vendor_multimodal_api_key=os.environ[\"OPENAI_API_KEY\"],\n",
    "    result_type=\"markdown\",\n",
    "    language=\"ko\",\n",
    ")"
   ]
  },
  {
   "cell_type": "code",
   "execution_count": 10,
   "metadata": {},
   "outputs": [
    {
     "name": "stdout",
     "output_type": "stream",
     "text": [
      "Started parsing the file under job_id 30ee2812-b770-44a8-b88a-b033d6c99b38\n",
      "."
     ]
    }
   ],
   "source": [
    "# Parse the PDF file using the multimodal parser\n",
    "multimodal_parsed_docs = multimodal_parser.load_data(file_path=FILE_PATH)"
   ]
  },
  {
   "cell_type": "code",
   "execution_count": 11,
   "metadata": {},
   "outputs": [],
   "source": [
    "# Convert to langchain document format\n",
    "multimodal_docs = [doc.to_langchain_format() for doc in multimodal_parsed_docs]"
   ]
  },
  {
   "cell_type": "code",
   "execution_count": 12,
   "metadata": {},
   "outputs": [
    {
     "data": {
      "text/plain": [
       "6"
      ]
     },
     "execution_count": 12,
     "metadata": {},
     "output_type": "execute_result"
    }
   ],
   "source": [
    "len(multimodal_docs)"
   ]
  },
  {
   "cell_type": "code",
   "execution_count": 13,
   "metadata": {},
   "outputs": [
    {
     "name": "stdout",
     "output_type": "stream",
     "text": [
      "# 회귀분석법을 이용한 차량 오일펌프의 인로터 중량 최적화 해석\n",
      "\n",
      "정대근¹) 김기태¹)  \n",
      "명화공업¹)\n",
      "\n",
      "## In-rotor weight optimization analysis of vehicle oil pump using regression analysis method\n",
      "\n",
      "Dae-geun Jung¹) Ki-Tae Kim¹)\n",
      "\n",
      "¹) MYUNGHWA IND. CO., LTD. R&D Center 65, Beoji-gil-ro, Danwon-gu, Ansan-si, Gyeonggi-do, Korea\n",
      "\n",
      "### Abstract\n",
      "\n",
      "This white paper contains information on techniques that can reduce design time. In this study, multiple regression analysis was used as a method to increase work efficiency. The vane, in-rotor of the vehicle oil pump was selected. Variables that can be optimized for weight were selected during design. It has 5 independent variables and 3 factors, which was analyzed by multiple regression. Based on this data, the \"Macro\" automation sheet was built. As a result of comparing the optimization program and CAE in this paper, the reliability was 91.6%. Through this, the designer can easily and quickly predict design variables without CAE analysis.\n",
      "\n",
      "### Key words\n",
      "\n",
      "Multiple regression analysis(다중회귀분석), Vehicle(차량), Oil Pump(오일펌프), Vane(베인), Inrotor(인로터), Optimization(최적화)\n",
      "\n",
      "### Subscripts\n",
      "\n",
      "- A,B,C,D,E : independent variable\n",
      "- β₀~β₅ : unknown quantity\n",
      "- Y : Stress\n",
      "\n",
      "----\n",
      "\n",
      "- 정대근, E-mail : dgjung@myunghwa.com\n",
      "- 김기태, E-mail : ktkim1@myunghwa.com\n",
      "\n",
      "----\n",
      "\n",
      "## 1. 서론\n",
      "\n",
      "최근 자동차부품기업의 기술경쟁력을 높이기 위해 동력전달, 섀시, 제동, 열가, 경량 차체부품 등의 차부품의 고도화를 위한 기술개발이 활발히 이루어 지고 있다.  \n",
      "또한 미래 자동차 산업의 패러다임 변화에 맞춰 친환경 차량의 전기경량부품 개발을 도모하고 있다.  \n",
      "이에 따라 자동차 분야 기술고도화를 통한 미래 먹거리 창출의 원동력 확보와 원가절감에 대한 확보가 요구되고 있다.  \n",
      "이러한 전망으로 급변하는 기술혁에 대응하기 위해서는 효율적인 연구가 뒷받침 되어야 한다.  \n",
      "본 논문에서는 인로터 설계 시 강도는 만족하는 수준에서 중량을 고려한 설계 파라메터를 빠르게\n"
     ]
    }
   ],
   "source": [
    "# Display the content of the first document\n",
    "print(multimodal_docs[0].page_content)"
   ]
  },
  {
   "cell_type": "markdown",
   "metadata": {},
   "source": [
    "## Custom Parsing Instructions"
   ]
  },
  {
   "cell_type": "code",
   "execution_count": 7,
   "metadata": {},
   "outputs": [],
   "source": [
    "# Configure parsing instruction\n",
    "parsing_instruction = \"\"\"You are extracting information from a Korean research paper. The page layout is left-to-right, top-to-bottom. The document contains the following elements:\n",
    "1. Table Extraction\n",
    "\t•\tDetect and extract tabular data. In this case:\n",
    "\t•\tHeaders: Include column names like No., Y, y values.\n",
    "\t•\tData Rows: Parse rows with numerical values for each column.\n",
    "\t•\tMaintain the structure of the table in markdown format.\n",
    "\n",
    "2. Mathematical Equations\n",
    "\t•\tIdentify equations (usually marked with equation numbers like (2), (3), etc.).\n",
    "\t•\tExtract equations as text in LaTeX format for proper representation.\n",
    "\n",
    "3. Figures and Annotations\n",
    "\t•\tExtract images or diagrams (e.g., Fig. 4: 인코터 CAE 조건).\n",
    "\t•\tInclude associated captions in text format.\n",
    "\t•\tSave the image separately and reference it in the output metadata.\n",
    "\n",
    "4. Section Headers\n",
    "\t•\tExtract and distinguish section headers with hierarchy (e.g., 3. 다중 회귀 분석 이론).\n",
    "\t•\tMark the headers as:\n",
    "\t•\tLevel 1: Main section headers.\n",
    "\t•\tLevel 2: Subsection headers (if any).\n",
    "\n",
    "5. Text Body\n",
    "\t•\tExtract body text associated with each section.\n",
    "\t•\tPreserve formatting, such as bold or italicized text.\n",
    "\t•\tGroup text under the corresponding section header.\n",
    "\n",
    "6. Symbols and Variables\n",
    "\t•\tParse variables and symbols used in equations or explanations (e.g.,  y_i, \\\\beta_0, \\\\beta_1, \\\\ldots ).\n",
    "\t•\tMaintain a list of variables with their context or definitions if provided.\n",
    "\n",
    "7. Pagination\n",
    "\t•\tInclude the page number for reference (e.g., Page 4).\n",
    "\n",
    "8. Footnotes or References\n",
    "\t•\tIf present, extract footnotes or additional references as a separate section.\n",
    " \"\"\""
   ]
  },
  {
   "cell_type": "code",
   "execution_count": null,
   "metadata": {},
   "outputs": [
    {
     "name": "stdout",
     "output_type": "stream",
     "text": [
      "Started parsing the file under job_id 01c883ea-8e94-42ef-89c1-19ac704fdb76\n"
     ]
    }
   ],
   "source": [
    "# LlamaParse configuration\n",
    "instruction_parser = LlamaParse(\n",
    "    use_vendor_multimodal_model=True,\n",
    "    # vendor_multimodal_model_name=\"openai-gpt4o\",\n",
    "    # vendor_multimodal_api_key=os.environ[\"OPENAI_API_KEY\"],\n",
    "    result_type=\"markdown\",\n",
    "    language=\"ko\",\n",
    "    parsing_instruction=parsing_instruction,\n",
    "    # extract_layout=True,\n",
    ")\n",
    "\n",
    "# Parse pdf file\n",
    "instruction_parsed_docs = instruction_parser.load_data(file_path=FILE_PATH)"
   ]
  },
  {
   "cell_type": "code",
   "execution_count": 16,
   "metadata": {},
   "outputs": [
    {
     "data": {
      "text/plain": [
       "[Document(id_='0d57edf6-eb11-4e74-9868-05b1dbfe4348', embedding=None, metadata={}, excluded_embed_metadata_keys=[], excluded_llm_metadata_keys=[], relationships={}, metadata_template='{key}: {value}', metadata_separator='\\n', text_resource=MediaResource(embeddings=None, data=None, text='```json\\n{\\n  \"metadata\": {\\n    \"title\": \"In-rotor weight optimization analysis of vehicle oil pump using regression analysis method\",\\n    \"authors\": [\"Dae-geun Jung\", \"Ki-Tae Kim\"],\\n    \"affiliation\": \"MYUNGHWA IND. CO., LTD. R&D Center 65, Beoji-gil-ro, Danwon-gu, Ansan-si, Gyeonggi-do, Korea\",\\n    \"emails\": [\"dgjung@myunghwa.com\", \"ktkim1@myunghwa.com\"],\\n    \"page\": 1\\n  },\\n  \"abstract\": \"This white paper contains information on techniques that can reduce design time. In this study, multiple regression analysis was used as a method to increase work efficiency. The vane, in-rotor of the vehicle oil pump was selected. Variables that can be optimized for weight were selected during design. It has 5 independent variables and 3 factors, which was analyzed by multiple regression. Based on this data, the \\'Macro\\' automation sheet was built. As a result of comparing the optimization program and CAE in this paper, the reliability was 91.6%. Through this, the designer can easily and quickly predict design variables without CAE analysis.\",\\n  \"keywords\": [\\n    \"Multiple regression analysis(다중회귀분석)\",\\n    \"Vehicle(차량)\",\\n    \"Oil Pump(오일펌프)\",\\n    \"Vane(베인)\",\\n    \"Inrotor(인로터)\",\\n    \"Optimization(최적화)\"\\n  ],\\n  \"subscripts\": {\\n    \"A,B,C,D,E\": \"independent variable\",\\n    \"β₀~β₅\": \"unknown quantity\",\\n    \"Y\": \"Stress\"\\n  },\\n  \"sections\": [\\n    {\\n      \"level\": 1,\\n      \"header\": \"1. 서론\",\\n      \"text\": \"최근 자동차부품기업의 기술경쟁력을 높이기 위해 동력전달, 섀시, 제동, 열가, 경량 차체부품 등의 차부품의 고도화를 위한 기술개발이 활발히 이루어 지고 있다. 또한 미래 자동차 산업의 패러다임 변화에 맞춰 친환경 차량의 전기경량부품 개발을 도모하고 있다. 이에 따라 자동차 분야 기술고도화를 통한 미래 먹거리 창출의 원동력 확보와 원천기술에 대한 확보가 요구되고 있다. 이러한 관점으로 급변하는 기술혁에 대응하기 위해서는 효율적인 연구가 뒷받침 되어야 한다. 본 논문에서는 인로터 설계 시 강도는 만족하는 수준에서 중량을 고려한 설계 파라메터를 빠르게\"\\n    }\\n  ]\\n}\\n```', path=None, url=None, mimetype=None), image_resource=None, audio_resource=None, video_resource=None, text_template='{metadata_str}\\n\\n{content}'),\n",
       " Document(id_='89899aba-4062-45e9-bc85-1c3df9e90e0c', embedding=None, metadata={}, excluded_embed_metadata_keys=[], excluded_llm_metadata_keys=[], relationships={}, metadata_template='{key}: {value}', metadata_separator='\\n', text_resource=MediaResource(embeddings=None, data=None, text='```json\\n{\\n  \"page\": 2,\\n  \"sections\": [\\n    {\\n      \"level\": 1,\\n      \"header\": \"2. 설계 파라미터 인자 설정 및 해석 결과\",\\n      \"text_body\": \"베인 인로터의 강도를 만족하면서, 중량을 최적화한 설계 파라미터 값을 도출하기 위한 시트 구축 목적으로 설계 작업을 진행하였다. 먼저 인로터 설계 시 강도에 영향을 주는 인자를 분류한 후 Fig.3과 Table 1 같이 설계 파라미터별 설계 가능 범위를 나열하였다. Fig. 2 순서도\"\\n    }\\n  ],\\n  \"figures\": [\\n    {\\n      \"figure_number\": \"Fig. 1\",\\n      \"caption\": \"차량 오일펌프 내부\",\\n      \"image_reference\": \"Fig1_차량_오일펌프_내부.jpg\"\\n    }\\n  ],\\n  \"tables\": [\\n    {\\n      \"table_number\": \"Table 1\",\\n      \"caption\": \"설계 파라미터\",\\n      \"data\": [\\n        {\\n          \"No.\": 1,\\n          \"설계 파라미터\": \"A\",\\n          \"범위\": \"D10.0~D12 mm\"\\n        },\\n        {\\n          \"No.\": 2,\\n          \"설계 파라미터\": \"B\",\\n          \"범위\": \"40.12~46.59 mm (47.31≦55.54)C\"\\n        },\\n        {\\n          \"No.\": 3,\\n          \"설계 파라미터\": \"C\",\\n          \"범위\": \"1.0~3.0 mm\"\\n        },\\n        {\\n          \"No.\": 4,\\n          \"설계 파라미터\": \"D\",\\n          \"범위\": \"0.5~1.5 mm\"\\n        },\\n        {\\n          \"No.\": 5,\\n          \"설계 파라미터\": \"E\",\\n          \"범위\": \"16.6~27.0 mm\"\\n        }\\n      ]\\n    }\\n  ],\\n  \"annotations\": [\\n    {\\n      \"annotation\": \"Table 1 설계 파라미터\",\\n      \"description\": \"① 모델 선정 및 고정\\\\n② 설계 파라미터 인자 설정 및 해석 계획(해석 매트릭스) : 독립 변수와 인자 수준\\\\n③ CAE 해석을 통한 결과 확보\\\\n④ 중회귀식 도출\\\\n⑤ 공정 최적화 설계 프로그램 구축 (중회귀식을 바탕으로 활용)\\\\n⑥ 신뢰성 평가 : 해석결과 & 공정 최적화 프로그램 결과 비교\\\\n⑦ 업무 활용\"\\n    }\\n  ]\\n}\\n```', path=None, url=None, mimetype=None), image_resource=None, audio_resource=None, video_resource=None, text_template='{metadata_str}\\n\\n{content}'),\n",
       " Document(id_='69ddcfab-d42a-4bba-aabd-6606ad5711e7', embedding=None, metadata={}, excluded_embed_metadata_keys=[], excluded_llm_metadata_keys=[], relationships={}, metadata_template='{key}: {value}', metadata_separator='\\n', text_resource=MediaResource(embeddings=None, data=None, text='```json\\n{\\n  \"page\": 3,\\n  \"figures\": [\\n    {\\n      \"id\": \"Fig. 3\",\\n      \"caption\": \"베인 인코터 설계 파라미터 인자\",\\n      \"image\": \"Fig3_베인_인코터_설계_파라미터_인자.jpg\"\\n    }\\n  ],\\n  \"tables\": [\\n    {\\n      \"id\": \"Table 2\",\\n      \"title\": \"CAE 모델 항목\",\\n      \"data\": [\\n        {\"No.\": 1, \"A\": \"\", \"B\": 1, \"C\": 0.5, \"D\": \"\", \"E\": 16.6},\\n        {\"No.\": 2, \"A\": 40.12, \"B\": 2, \"C\": 1.0, \"D\": \"\", \"E\": 21.8},\\n        {\"No.\": 3, \"A\": \"\", \"B\": 3, \"C\": 1.5, \"D\": \"\", \"E\": 27.0},\\n        {\"No.\": 4, \"A\": \"\", \"B\": \"\", \"C\": \"\", \"D\": \"\", \"E\": \"\"},\\n        {\"No.\": 5, \"A\": 43.71, \"B\": 1, \"C\": 0.5, \"D\": \"\", \"E\": 21.8},\\n        {\"No.\": 6, \"A\": \"\", \"B\": 2, \"C\": 1.0, \"D\": \"\", \"E\": 27.0},\\n        {\"No.\": 7, \"A\": \"\", \"B\": 3, \"C\": 1.5, \"D\": \"\", \"E\": 16.6},\\n        {\"No.\": 8, \"A\": 46.59, \"B\": 1, \"C\": 0.5, \"D\": \"\", \"E\": 27.0},\\n        {\"No.\": 9, \"A\": \"\", \"B\": 2, \"C\": 1.0, \"D\": \"\", \"E\": 16.6},\\n        {\"No.\": 10, \"A\": \"\", \"B\": 3, \"C\": 1.5, \"D\": \"\", \"E\": 21.8},\\n        {\"No.\": 11, \"A\": 40.12, \"B\": 1, \"C\": 1.0, \"D\": \"\", \"E\": 16.6},\\n        {\"No.\": 12, \"A\": \"\", \"B\": 2, \"C\": 1.5, \"D\": \"\", \"E\": 21.8},\\n        {\"No.\": 13, \"A\": \"\", \"B\": 3, \"C\": 0.5, \"D\": \"\", \"E\": 27.0},\\n        {\"No.\": 14, \"A\": \"\", \"B\": \"\", \"C\": \"\", \"D\": \"\", \"E\": \"\"},\\n        {\"No.\": 15, \"A\": 43.71, \"B\": 1, \"C\": 1.0, \"D\": \"\", \"E\": 27.0},\\n        {\"No.\": 16, \"A\": \"\", \"B\": 2, \"C\": 0.5, \"D\": \"\", \"E\": 21.8},\\n        {\"No.\": 17, \"A\": \"\", \"B\": 3, \"C\": 1.0, \"D\": \"\", \"E\": 16.6},\\n        {\"No.\": 18, \"A\": 46.59, \"B\": 1, \"C\": 1.5, \"D\": \"\", \"E\": 16.6},\\n        {\"No.\": 19, \"A\": \"\", \"B\": 2, \"C\": 0.5, \"D\": \"\", \"E\": 27.0},\\n        {\"No.\": 20, \"A\": 40.12, \"B\": 3, \"C\": 1.0, \"D\": \"\", \"E\": 21.8},\\n        {\"No.\": 21, \"A\": \"\", \"B\": 1, \"C\": 1.5, \"D\": \"\", \"E\": 21.8},\\n        {\"No.\": 22, \"A\": \"\", \"B\": 2, \"C\": 0.5, \"D\": \"\", \"E\": 27.0},\\n        {\"No.\": 23, \"A\": 43.71, \"B\": 3, \"C\": 1.0, \"D\": \"\", \"E\": 16.6},\\n        {\"No.\": 24, \"A\": \"\", \"B\": \"\", \"C\": \"\", \"D\": \"\", \"E\": \"\"},\\n        {\"No.\": 25, \"A\": \"\", \"B\": 1, \"C\": 1.5, \"D\": \"\", \"E\": 27.0},\\n        {\"No.\": 26, \"A\": 46.59, \"B\": 2, \"C\": 0.5, \"D\": \"\", \"E\": 16.6},\\n        {\"No.\": 27, \"A\": \"\", \"B\": 3, \"C\": 1.0, \"D\": \"\", \"E\": 21.8}\\n      ]\\n    }\\n  ],\\n  \"equations\": [\\n    {\\n      \"number\": \"(1)\",\\n      \"latex\": \"Y = 331.829 - 7.828A - 2.464B - 15.239C - 4.656D - 2.525E\"\\n    }\\n  ],\\n  \"text_body\": \"중회귀식을 만들기 전 해석이 선행으로 진행되어 있다. 독립 변수 5개와 3인자 수준으로 Table.2와 같이 27개의 항목으로 정리한다. 해석 조건은 Fig.4과 같이 중심축을 기준으로 10N.m 회전하며, 외곽 한 개의 선을 모두 고정한 상태로 최대 응력이 발생되는 동일한 부분을 측정한다. 측정한 해석 결과는 Y값 Table.3과 같다. 이 모든 값을 근거로 식(1)의 중회귀식이 구해진다. 구해진 식은 다음과 같다.\"\\n}\\n```', path=None, url=None, mimetype=None), image_resource=None, audio_resource=None, video_resource=None, text_template='{metadata_str}\\n\\n{content}'),\n",
       " Document(id_='55be8a93-a39e-4e91-b5bd-69cb3863e725', embedding=None, metadata={}, excluded_embed_metadata_keys=[], excluded_llm_metadata_keys=[], relationships={}, metadata_template='{key}: {value}', metadata_separator='\\n', text_resource=MediaResource(embeddings=None, data=None, text='```json\\n{\\n  \"page\": 4,\\n  \"table\": {\\n    \"title\": \"Table 3 CAE 주응력 해석 결과\",\\n    \"headers\": [\"No.\", \"y\", \"No\", \"y\"],\\n    \"rows\": [\\n      {\"No.\": 1, \"y\": 113.1, \"No\": 10, \"y\": 92.0},\\n      {\"No.\": 19, \"y\": 74.7, \"No\": 2, \"y\": 55.8},\\n      {\"No.\": 11, \"y\": 47.7, \"No\": 20, \"y\": 42.5},\\n      {\"No.\": 3, \"y\": 33.5, \"No\": 12, \"y\": 29.7},\\n      {\"No.\": 21, \"y\": 26.3, \"No\": 4, \"y\": 70.2},\\n      {\"No.\": 13, \"y\": 58.7, \"No\": 22, \"y\": 48.5},\\n      {\"No.\": 5, \"y\": 39.8, \"No\": 14, \"y\": 35.5},\\n      {\"No.\": 23, \"y\": 29.5, \"No\": 6, \"y\": 49.8},\\n      {\"No.\": 15, \"y\": 43.5, \"No\": 24, \"y\": 38.3},\\n      {\"No.\": 7, \"y\": 49.5, \"No\": 16, \"y\": 42.1},\\n      {\"No.\": 25, \"y\": 36.7, \"No\": 8, \"y\": 57.6},\\n      {\"No.\": 17, \"y\": 50.1, \"No\": 26, \"y\": 43.0},\\n      {\"No.\": 9, \"y\": 35.0, \"No\": 18, \"y\": 29.6},\\n      {\"No.\": 27, \"y\": 26.9}\\n    ]\\n  },\\n  \"figures\": [\\n    {\\n      \"id\": \"Fig. 4\",\\n      \"caption\": \"인코터 CAE 조건\",\\n      \"image\": \"Fig_4_인코터_CAE_조건.png\"\\n    }\\n  ],\\n  \"section_headers\": [\\n    {\\n      \"level\": 1,\\n      \"title\": \"3. 다중 회귀 분석 이론\",\\n      \"subtitle\": \"multiple regression analysis\"\\n    }\\n  ],\\n  \"text_body\": \"회귀 분석은 X라는 독립변수와 Y라는 종속변수 간의 인과 관계를 찾기 위한 기법으로 종속변인이 얼마나 변할 것인지를 예측하는 통계 분석 기법이다. 회귀 분석의 종류는 단순 선형 회귀분석, 다중 회귀분석(중회귀분석), 위계적 다중 회귀 분석, 곡선 회귀분석 등 다양하게 있다. 본 논문에서는 독립변수가 하나 이상의 설계 파라메터(독립변인)들을 갖고 있으므로, 다중 회귀 분석을 사용하였다.\",\\n  \"equations\": [\\n    {\\n      \"number\": 2,\\n      \"latex\": \"y_i = \\\\\\\\beta_0 + \\\\\\\\beta_1 x_{i1} + \\\\\\\\cdots + \\\\\\\\beta_5 x_{i5} + e_i \\\\\\\\; (i = 1,5)\"\\n    },\\n    {\\n      \"number\": 3,\\n      \"latex\": \"B_0, \\\\\\\\beta_1, \\\\\\\\ldots, \\\\\\\\beta_5 \\\\\\\\; 미지수\"\\n    },\\n    {\\n      \"number\": 4,\\n      \"latex\": \"y = XB + e = e = y - XB\"\\n    },\\n    {\\n      \"number\": 5,\\n      \"latex\": \"y = \\\\\\\\begin{bmatrix} y_1 \\\\\\\\\\\\\\\\ y_2 \\\\\\\\\\\\\\\\ \\\\\\\\vdots \\\\\\\\\\\\\\\\ y_n \\\\\\\\end{bmatrix}, \\\\\\\\; X = \\\\\\\\begin{bmatrix} 1 & x_{11} & \\\\\\\\cdots & x_{15} \\\\\\\\\\\\\\\\ 1 & x_{21} & \\\\\\\\cdots & x_{25} \\\\\\\\\\\\\\\\ \\\\\\\\vdots & \\\\\\\\vdots & \\\\\\\\ddots & \\\\\\\\vdots \\\\\\\\\\\\\\\\ 1 & x_{n1} & \\\\\\\\cdots & x_{n5} \\\\\\\\end{bmatrix}\"\\n    },\\n    {\\n      \"number\": 6,\\n      \"latex\": \"\\\\\\\\beta = \\\\\\\\begin{bmatrix} \\\\\\\\beta_0 \\\\\\\\\\\\\\\\ \\\\\\\\beta_1 \\\\\\\\\\\\\\\\ \\\\\\\\vdots \\\\\\\\\\\\\\\\ \\\\\\\\beta_5 \\\\\\\\end{bmatrix}, \\\\\\\\; e = \\\\\\\\begin{bmatrix} e_1 \\\\\\\\\\\\\\\\ e_2 \\\\\\\\\\\\\\\\ \\\\\\\\vdots \\\\\\\\\\\\\\\\ e_n \\\\\\\\end{bmatrix}\"\\n    },\\n    {\\n      \"number\": 7,\\n      \"latex\": \"S = \\\\\\\\sum_{i=1}^{n} e_i^2 = e_1^2 + e_2^2 + \\\\\\\\cdots + e_5^2 = e^T e\"\\n    },\\n    {\\n      \"number\": 8,\\n      \"latex\": \"= (y - XB)^T (y - XB)\"\\n    },\\n    {\\n      \"number\": 9,\\n      \"latex\": \"= (y^T - \\\\\\\\beta^T X^T)(y - XB)\"\\n    },\\n    {\\n      \"number\": 10,\\n      \"latex\": \"\\\\\\\\frac{\\\\\\\\partial S}{\\\\\\\\partial \\\\\\\\beta} = X^T XB - X^T y = 0\"\\n    },\\n    {\\n      \"number\": 11,\\n      \"latex\": \"\\\\\\\\Rightarrow \\\\\\\\; X^T XB = X^T y\"\\n    },\\n    {\\n      \"number\": 12,\\n      \"latex\": \"\\\\\\\\beta = (X^T X)^{-1} X^T y\"\\n    },\\n    {\\n      \"number\": 13,\\n      \"latex\": \"Y = \\\\\\\\beta_0 + \\\\\\\\beta_1 A + \\\\\\\\beta_2 B + \\\\\\\\beta_3 C + \\\\\\\\beta_4 D + \\\\\\\\beta_5 E\"\\n    }\\n  ]\\n}\\n```', path=None, url=None, mimetype=None), image_resource=None, audio_resource=None, video_resource=None, text_template='{metadata_str}\\n\\n{content}'),\n",
       " Document(id_='906989a1-5ba8-4a0a-b997-3d3a6f8d82f9', embedding=None, metadata={}, excluded_embed_metadata_keys=[], excluded_llm_metadata_keys=[], relationships={}, metadata_template='{key}: {value}', metadata_separator='\\n', text_resource=MediaResource(embeddings=None, data=None, text='```json\\n{\\n  \"page\": 5,\\n  \"sections\": [\\n    {\\n      \"level\": 1,\\n      \"header\": \"4. 중량 최적화 설계 프로그램 구축\",\\n      \"text\": \"지금까지의 중첩귀식에 대한 결과와 데이터를 바탕으로 엑셀 시트와 매크로(macro)를 활용하여 중량 최적화 설계 자동화 프로그램을 구축하였다. 본 프로그램은 Fig. 6와 같이 설계 담당자가 쉽게 활용할 수 있도록 2단계로 구축하였다.\"\\n    },\\n    {\\n      \"level\": 1,\\n      \"header\": \"5. 최적화프로그램 결과와 해석결과 비교\",\\n      \"text\": \"지금까지의 중첩귀식 결과와 CAE 결과를 비교하여, 중첩귀식의 신뢰성을 평가해 보았다. 임의의 파라메터를 선정하여 10 CASE에 대한 CAE 해석을 진행하고, 그 결과와 최적화프로그램 결과를 비교하여 신뢰성에 대한 판단을 비교하였다. Table. 4와 같이 평균 신뢰성은 95.3%로 오차율은 5% 이내임을 확인 하였다. 이를 근거로 설계자는 인토러 설계 시 중량 최적화 설계 프로그램을 활용하여 선호도 및 중량 최적화에 대한 설계 파라메터 값을 초기의 선정할 수 있다. 앞서 언급한 바와 같이 이로 인해 확보된 시간은 기술고도화를 위한 연구에 투자할 수 있다.\"\\n    }\\n  ],\\n  \"figures\": [\\n    {\\n      \"id\": \"Fig. 6\",\\n      \"caption\": \"중량 최적화 자동화 설계 프로그램\",\\n      \"image\": \"Fig_6.png\"\\n    }\\n  ],\\n  \"tables\": [\\n    {\\n      \"id\": \"Table 4\",\\n      \"caption\": \"CAE 결과와 중첩귀식 결과 비교 표\",\\n      \"data\": [\\n        {\"No.\": 1, \"CAE 결과\": 70.2, \"중첩귀식 결과\": 73.1, \"신뢰성\": \"96.0%\"},\\n        {\"No.\": 2, \"CAE 결과\": 39.8, \"중첩귀식 결과\": 42.4, \"신뢰성\": \"94.0%\"},\\n        {\"No.\": 3, \"CAE 결과\": 49.8, \"중첩귀식 결과\": 50.9, \"신뢰성\": \"97.8%\"},\\n        {\"No.\": 4, \"CAE 결과\": 57.6, \"중첩귀식 결과\": 61.5, \"신뢰성\": \"93.6%\"},\\n        {\"No.\": 5, \"CAE 결과\": 29.7, \"중첩귀식 결과\": 30.4, \"신뢰성\": \"97.6%\"},\\n        {\"No.\": 6, \"CAE 결과\": 58.7, \"중첩귀식 결과\": 63.0, \"신뢰성\": \"93.2%\"},\\n        {\"No.\": 7, \"CAE 결과\": 50.1, \"중첩귀식 결과\": 51.4, \"신뢰성\": \"97.6%\"},\\n        {\"No.\": 8, \"CAE 결과\": 29.6, \"중첩귀식 결과\": 27.5, \"신뢰성\": \"93.1%\"},\\n        {\"No.\": 9, \"CAE 결과\": 48.5, \"중첩귀식 결과\": 52.2, \"신뢰성\": \"91.6%\"},\\n        {\"No.\": 10, \"CAE 결과\": 29.5, \"중첩귀식 결과\": 29.0, \"신뢰성\": \"98.4%\"}\\n      ],\\n      \"average_reliability\": \"95.3%\"\\n    }\\n  ]\\n}\\n```', path=None, url=None, mimetype=None), image_resource=None, audio_resource=None, video_resource=None, text_template='{metadata_str}\\n\\n{content}'),\n",
       " Document(id_='2dd77d37-87ed-443f-8293-db49248bdc22', embedding=None, metadata={}, excluded_embed_metadata_keys=[], excluded_llm_metadata_keys=[], relationships={}, metadata_template='{key}: {value}', metadata_separator='\\n', text_resource=MediaResource(embeddings=None, data=None, text='```plaintext\\nPage 6\\n\\n6. 결론\\n\\n본 논문에서는 인로터 설계 시 설계 파라미터별 선형 해석을 진행하고, 이를 바탕으로 통계적인 기법의 중회귀식을 사용하여 중회귀식을 도출하였다.\\n\\n중회귀식에 대한 결과와 데이터를 활용하여, 중앙 최적화 설계 기준의 프로그래밍을 구축하였다. 이 프로그램을 활용하여, 설계자는 인로터 설계 시 중앙 최적화 기준의 설계 파라미터 값을 빠르고, 쉽게 확인할 수 있다.\\n\\n1) 설계 파라미터 인자를 확인하여, 독립변수 5개와 3인자 수준으로 27개의 파트로 나열하였다.\\n\\n2) 27개의 파트로 CAE 해석을 통하여, 선형해석하고, 결과를 기록하였다. CAE 결과는 중회귀식에 (y<1.10)에 사용되어, 중회귀식에 미지수를 도출하였다.\\n\\n3) 중회귀식을 바탕으로 중앙 최적화 설계 파라미터 프로그램을 구축하였다.\\n\\n4) 중회귀식 결과와 CAE 결과 비교를 통하여, 신뢰성을 확인하였다.\\n\\nReferences\\n\\n1) Seong-Hyeon Park, \"design of experiments\", p423, Minyoungsa, 2004\\n\\n2) Mi-Ra Ryu, Hwan-Young Jeon, \"Heat Transfer Analysis of Side Mirror using Regression Analysis\", KSMT Korean Soc. Mech. Techol, VOL.22 NO.4, PP.661-666, 2020\\n```', path=None, url=None, mimetype=None), image_resource=None, audio_resource=None, video_resource=None, text_template='{metadata_str}\\n\\n{content}')]"
      ]
     },
     "execution_count": 16,
     "metadata": {},
     "output_type": "execute_result"
    }
   ],
   "source": [
    "instruction_parsed_docs"
   ]
  },
  {
   "cell_type": "code",
   "execution_count": 17,
   "metadata": {},
   "outputs": [],
   "source": [
    "# Convert to langchain documents\n",
    "instruction_docs = [doc.to_langchain_format() for doc in instruction_parsed_docs]"
   ]
  },
  {
   "cell_type": "code",
   "execution_count": 18,
   "metadata": {},
   "outputs": [
    {
     "name": "stdout",
     "output_type": "stream",
     "text": [
      "```json\n",
      "{\n",
      "  \"page\": 4,\n",
      "  \"table\": {\n",
      "    \"title\": \"Table 3 CAE 주응력 해석 결과\",\n",
      "    \"headers\": [\"No.\", \"y\", \"No\", \"y\"],\n",
      "    \"rows\": [\n",
      "      {\"No.\": 1, \"y\": 113.1, \"No\": 10, \"y\": 92.0},\n",
      "      {\"No.\": 19, \"y\": 74.7, \"No\": 2, \"y\": 55.8},\n",
      "      {\"No.\": 11, \"y\": 47.7, \"No\": 20, \"y\": 42.5},\n",
      "      {\"No.\": 3, \"y\": 33.5, \"No\": 12, \"y\": 29.7},\n",
      "      {\"No.\": 21, \"y\": 26.3, \"No\": 4, \"y\": 70.2},\n",
      "      {\"No.\": 13, \"y\": 58.7, \"No\": 22, \"y\": 48.5},\n",
      "      {\"No.\": 5, \"y\": 39.8, \"No\": 14, \"y\": 35.5},\n",
      "      {\"No.\": 23, \"y\": 29.5, \"No\": 6, \"y\": 49.8},\n",
      "      {\"No.\": 15, \"y\": 43.5, \"No\": 24, \"y\": 38.3},\n",
      "      {\"No.\": 7, \"y\": 49.5, \"No\": 16, \"y\": 42.1},\n",
      "      {\"No.\": 25, \"y\": 36.7, \"No\": 8, \"y\": 57.6},\n",
      "      {\"No.\": 17, \"y\": 50.1, \"No\": 26, \"y\": 43.0},\n",
      "      {\"No.\": 9, \"y\": 35.0, \"No\": 18, \"y\": 29.6},\n",
      "      {\"No.\": 27, \"y\": 26.9}\n",
      "    ]\n",
      "  },\n",
      "  \"figures\": [\n",
      "    {\n",
      "      \"id\": \"Fig. 4\",\n",
      "      \"caption\": \"인코터 CAE 조건\",\n",
      "      \"image\": \"Fig_4_인코터_CAE_조건.png\"\n",
      "    }\n",
      "  ],\n",
      "  \"section_headers\": [\n",
      "    {\n",
      "      \"level\": 1,\n",
      "      \"title\": \"3. 다중 회귀 분석 이론\",\n",
      "      \"subtitle\": \"multiple regression analysis\"\n",
      "    }\n",
      "  ],\n",
      "  \"text_body\": \"회귀 분석은 X라는 독립변수와 Y라는 종속변수 간의 인과 관계를 찾기 위한 기법으로 종속변인이 얼마나 변할 것인지를 예측하는 통계 분석 기법이다. 회귀 분석의 종류는 단순 선형 회귀분석, 다중 회귀분석(중회귀분석), 위계적 다중 회귀 분석, 곡선 회귀분석 등 다양하게 있다. 본 논문에서는 독립변수가 하나 이상의 설계 파라메터(독립변인)들을 갖고 있으므로, 다중 회귀 분석을 사용하였다.\",\n",
      "  \"equations\": [\n",
      "    {\n",
      "      \"number\": 2,\n",
      "      \"latex\": \"y_i = \\\\beta_0 + \\\\beta_1 x_{i1} + \\\\cdots + \\\\beta_5 x_{i5} + e_i \\\\; (i = 1,5)\"\n",
      "    },\n",
      "    {\n",
      "      \"number\": 3,\n",
      "      \"latex\": \"B_0, \\\\beta_1, \\\\ldots, \\\\beta_5 \\\\; 미지수\"\n",
      "    },\n",
      "    {\n",
      "      \"number\": 4,\n",
      "      \"latex\": \"y = XB + e = e = y - XB\"\n",
      "    },\n",
      "    {\n",
      "      \"number\": 5,\n",
      "      \"latex\": \"y = \\\\begin{bmatrix} y_1 \\\\\\\\ y_2 \\\\\\\\ \\\\vdots \\\\\\\\ y_n \\\\end{bmatrix}, \\\\; X = \\\\begin{bmatrix} 1 & x_{11} & \\\\cdots & x_{15} \\\\\\\\ 1 & x_{21} & \\\\cdots & x_{25} \\\\\\\\ \\\\vdots & \\\\vdots & \\\\ddots & \\\\vdots \\\\\\\\ 1 & x_{n1} & \\\\cdots & x_{n5} \\\\end{bmatrix}\"\n",
      "    },\n",
      "    {\n",
      "      \"number\": 6,\n",
      "      \"latex\": \"\\\\beta = \\\\begin{bmatrix} \\\\beta_0 \\\\\\\\ \\\\beta_1 \\\\\\\\ \\\\vdots \\\\\\\\ \\\\beta_5 \\\\end{bmatrix}, \\\\; e = \\\\begin{bmatrix} e_1 \\\\\\\\ e_2 \\\\\\\\ \\\\vdots \\\\\\\\ e_n \\\\end{bmatrix}\"\n",
      "    },\n",
      "    {\n",
      "      \"number\": 7,\n",
      "      \"latex\": \"S = \\\\sum_{i=1}^{n} e_i^2 = e_1^2 + e_2^2 + \\\\cdots + e_5^2 = e^T e\"\n",
      "    },\n",
      "    {\n",
      "      \"number\": 8,\n",
      "      \"latex\": \"= (y - XB)^T (y - XB)\"\n",
      "    },\n",
      "    {\n",
      "      \"number\": 9,\n",
      "      \"latex\": \"= (y^T - \\\\beta^T X^T)(y - XB)\"\n",
      "    },\n",
      "    {\n",
      "      \"number\": 10,\n",
      "      \"latex\": \"\\\\frac{\\\\partial S}{\\\\partial \\\\beta} = X^T XB - X^T y = 0\"\n",
      "    },\n",
      "    {\n",
      "      \"number\": 11,\n",
      "      \"latex\": \"\\\\Rightarrow \\\\; X^T XB = X^T y\"\n",
      "    },\n",
      "    {\n",
      "      \"number\": 12,\n",
      "      \"latex\": \"\\\\beta = (X^T X)^{-1} X^T y\"\n",
      "    },\n",
      "    {\n",
      "      \"number\": 13,\n",
      "      \"latex\": \"Y = \\\\beta_0 + \\\\beta_1 A + \\\\beta_2 B + \\\\beta_3 C + \\\\beta_4 D + \\\\beta_5 E\"\n",
      "    }\n",
      "  ]\n",
      "}\n",
      "```\n"
     ]
    }
   ],
   "source": [
    "print(instruction_docs[3].page_content)"
   ]
  },
  {
   "cell_type": "markdown",
   "metadata": {},
   "source": []
  },
  {
   "cell_type": "code",
   "execution_count": null,
   "metadata": {},
   "outputs": [],
   "source": []
  },
  {
   "cell_type": "code",
   "execution_count": null,
   "metadata": {},
   "outputs": [],
   "source": []
  }
 ],
 "metadata": {
  "kernelspec": {
   "display_name": "pdf-loader-Xoos--pt-py3.11",
   "language": "python",
   "name": "python3"
  },
  "language_info": {
   "codemirror_mode": {
    "name": "ipython",
    "version": 3
   },
   "file_extension": ".py",
   "mimetype": "text/x-python",
   "name": "python",
   "nbconvert_exporter": "python",
   "pygments_lexer": "ipython3",
   "version": "3.11.5"
  }
 },
 "nbformat": 4,
 "nbformat_minor": 2
}
