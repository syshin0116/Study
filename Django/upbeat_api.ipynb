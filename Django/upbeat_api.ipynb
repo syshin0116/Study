{
 "cells": [
  {
   "cell_type": "code",
   "execution_count": 1,
   "metadata": {},
   "outputs": [],
   "source": [
    "import requests\n",
    "\n",
    "\n",
    "url = \"https://api.upbit.com/v1/candles/minutes/1\"\n",
    "params = {\"market\": \"KRW-BTC\", \"count\": 1}\n",
    "response = requests.get(url, params=params)\n",
    "data = response.json()\n"
   ]
  },
  {
   "cell_type": "code",
   "execution_count": 2,
   "metadata": {},
   "outputs": [
    {
     "data": {
      "text/plain": [
       "[{'market': 'KRW-BTC',\n",
       "  'candle_date_time_utc': '2024-04-30T14:38:00',\n",
       "  'candle_date_time_kst': '2024-04-30T23:38:00',\n",
       "  'opening_price': 87830000.0,\n",
       "  'high_price': 87897000.0,\n",
       "  'low_price': 87829000.0,\n",
       "  'trade_price': 87897000.0,\n",
       "  'timestamp': 1714487906617,\n",
       "  'candle_acc_trade_price': 210973153.0486,\n",
       "  'candle_acc_trade_volume': 2.40183177,\n",
       "  'unit': 1}]"
      ]
     },
     "execution_count": 2,
     "metadata": {},
     "output_type": "execute_result"
    }
   ],
   "source": [
    "data"
   ]
  },
  {
   "cell_type": "code",
   "execution_count": null,
   "metadata": {},
   "outputs": [],
   "source": []
  }
 ],
 "metadata": {
  "kernelspec": {
   "display_name": "dashboard",
   "language": "python",
   "name": "python3"
  },
  "language_info": {
   "codemirror_mode": {
    "name": "ipython",
    "version": 3
   },
   "file_extension": ".py",
   "mimetype": "text/x-python",
   "name": "python",
   "nbconvert_exporter": "python",
   "pygments_lexer": "ipython3",
   "version": "3.12.2"
  }
 },
 "nbformat": 4,
 "nbformat_minor": 2
}
