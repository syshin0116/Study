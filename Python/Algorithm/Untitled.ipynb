{
 "cells": [
  {
   "cell_type": "code",
   "execution_count": 2,
   "id": "ff5d421b-4a9c-49b8-9c0b-1576be6ebca7",
   "metadata": {},
   "outputs": [
    {
     "name": "stdout",
     "output_type": "stream",
     "text": [
      "0 / 5: 몫:0, 나머지:0\n",
      "1 / 5: 몫:0, 나머지:1\n",
      "2 / 5: 몫:0, 나머지:2\n",
      "3 / 5: 몫:0, 나머지:3\n",
      "4 / 5: 몫:0, 나머지:4\n",
      "5 / 5: 몫:1, 나머지:0\n",
      "6 / 5: 몫:1, 나머지:1\n",
      "7 / 5: 몫:1, 나머지:2\n",
      "8 / 5: 몫:1, 나머지:3\n",
      "9 / 5: 몫:1, 나머지:4\n",
      "10 / 5: 몫:2, 나머지:0\n",
      "11 / 5: 몫:2, 나머지:1\n",
      "12 / 5: 몫:2, 나머지:2\n",
      "13 / 5: 몫:2, 나머지:3\n",
      "14 / 5: 몫:2, 나머지:4\n",
      "15 / 5: 몫:3, 나머지:0\n",
      "16 / 5: 몫:3, 나머지:1\n",
      "17 / 5: 몫:3, 나머지:2\n",
      "18 / 5: 몫:3, 나머지:3\n",
      "19 / 5: 몫:3, 나머지:4\n",
      "20 / 5: 몫:4, 나머지:0\n",
      "21 / 5: 몫:4, 나머지:1\n",
      "22 / 5: 몫:4, 나머지:2\n",
      "23 / 5: 몫:4, 나머지:3\n",
      "24 / 5: 몫:4, 나머지:4\n",
      "25 / 5: 몫:5, 나머지:0\n",
      "26 / 5: 몫:5, 나머지:1\n",
      "27 / 5: 몫:5, 나머지:2\n",
      "28 / 5: 몫:5, 나머지:3\n",
      "29 / 5: 몫:5, 나머지:4\n"
     ]
    }
   ],
   "source": [
    "for i in range(30):\n",
    "    print(f'{i} / {5}: 몫:{i//5}, 나머지:{i%5}')"
   ]
  },
  {
   "cell_type": "code",
   "execution_count": null,
   "id": "7b4ddab2-bc14-44f0-bc23-3a203ce6dec4",
   "metadata": {},
   "outputs": [],
   "source": []
  }
 ],
 "metadata": {
  "kernelspec": {
   "display_name": "Python 3 (ipykernel)",
   "language": "python",
   "name": "python3"
  },
  "language_info": {
   "codemirror_mode": {
    "name": "ipython",
    "version": 3
   },
   "file_extension": ".py",
   "mimetype": "text/x-python",
   "name": "python",
   "nbconvert_exporter": "python",
   "pygments_lexer": "ipython3",
   "version": "3.9.10"
  }
 },
 "nbformat": 4,
 "nbformat_minor": 5
}
