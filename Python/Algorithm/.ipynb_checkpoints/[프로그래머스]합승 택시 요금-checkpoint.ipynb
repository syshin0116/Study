{
 "cells": [
  {
   "cell_type": "markdown",
   "id": "76f21fe7-80c2-425e-aff2-193537e4940b",
   "metadata": {},
   "source": [
    "## 프로그래머스: 합승 택시 요금\n",
    "url: https://school.programmers.co.kr/learn/courses/30/lessons/72413"
   ]
  },
  {
   "cell_type": "code",
   "execution_count": 1,
   "id": "e9998291-5df1-4211-9e9e-7cd02df8dad3",
   "metadata": {},
   "outputs": [],
   "source": [
    "fares = [[4, 1, 10], [3, 5, 24], [5, 6, 2], [3, 1, 41], [5, 1, 24], [4, 6, 50], [2, 4, 66], [2, 3, 22], [1, 6, 25]]\n",
    "n = 6\n",
    "s = 4\n",
    "a = 6\n",
    "b = 2"
   ]
  },
  {
   "cell_type": "code",
   "execution_count": 2,
   "id": "c9d0d636-b626-4aaa-a78d-99f22d5fcb47",
   "metadata": {},
   "outputs": [],
   "source": [
    "fares = [[5, 7, 9], [4, 6, 4], [3, 6, 1], [3, 2, 3], [2, 1, 6]]\n",
    "n=7\n",
    "s=3\n",
    "a=4\n",
    "b=1"
   ]
  },
  {
   "cell_type": "code",
   "execution_count": 3,
   "id": "6e3b00cf-1fa1-4b67-9d1a-04e3e29cea65",
   "metadata": {},
   "outputs": [],
   "source": [
    "import heapq\n",
    "\n",
    "# 다익스트라 코드\n",
    "def dijkstra(graph, start):\n",
    "    distances = {node: 1000001  for node in graph}\n",
    "    distances[start] = 0\n",
    "    queue = []\n",
    "    heapq.heappush(queue, [distances[start], start])\n",
    "    \n",
    "    while queue:\n",
    "        current_distance, current_destination = heapq.heappop(queue)\n",
    "        \n",
    "        if distances[current_destination] < current_distance:\n",
    "            continue\n",
    "        for new_destination, new_distance in graph[current_destination].items():\n",
    "            distance = current_distance + new_distance\n",
    "            if distance < distances[new_destination]:\n",
    "                distances[new_destination] = distance\n",
    "                heapq.heappush(queue, [distance, new_destination])\n",
    "    return distances\n",
    "    \n",
    "def solution(n, s, a, b, fares):\n",
    "\n",
    "\t# 그래프 만드는 과정\n",
    "    graph = {}\n",
    "    for start_node, end_node, fare in fares:  \n",
    "        if start_node not in graph:\n",
    "            graph[start_node] = {}\n",
    "        if end_node not in graph:\n",
    "            graph[end_node] = {}\n",
    "        \n",
    "        graph[start_node][end_node] = fare\n",
    "        graph[end_node][start_node] = fare\n",
    "\n",
    "\t# a, b에서부터 각 노드까지의 거리 계산\n",
    "    a_distances = dijkstra(graph, a)\n",
    "    b_distances = dijkstra(graph, b)\n",
    "    \n",
    "    answer_list = []\n",
    "    for i in range(1, n+1):\n",
    "        if i not in [a, b, s] and i in graph.keys():\n",
    "            answer_list.append(dijkstra(graph, i)[s] + a_distances[i] + b_distances[i])\n",
    "    \n",
    "    answer_list.extend([a_distances[s] + b_distances[s], a_distances[s] + a_distances[b], b_distances[s]+b_distances[a]])\n",
    "    \n",
    "    answer = min(answer_list)\n",
    "    return answer"
   ]
  },
  {
   "cell_type": "code",
   "execution_count": 4,
   "id": "3de681eb-bd27-41cb-bb29-72bd2764108d",
   "metadata": {},
   "outputs": [
    {
     "name": "stdout",
     "output_type": "stream",
     "text": [
      "문제 1; 80\n",
      "문제 2: 14\n",
      "문제 3: 18\n"
     ]
    }
   ],
   "source": [
    "print('문제 1;', solution(6, 4, 5, 2, [[4, 1, 10], [3, 5, 24], [5, 6, 2], [3, 1, 41], [5, 1, 24], [4, 6, 50], [2, 4, 66], [2, 3, 22], [1, 6, 25]]))\n",
    "print('문제 2:', solution(7, 3, 4, 1, [[5, 7, 9], [4, 6, 4], [3, 6, 1], [3, 2, 3], [2, 1, 6]]))\n",
    "print('문제 3:', solution(6, 4, 5, 6, [[2,6,6], [6,3,7], [4,6,7], [6,5,11], [2,5,12], [5,3,20], [2,4,8], [4,3,9]]))"
   ]
  },
  {
   "cell_type": "code",
   "execution_count": null,
   "id": "34751855-bb24-4296-afd6-4d98316074da",
   "metadata": {},
   "outputs": [],
   "source": []
  },
  {
   "cell_type": "code",
   "execution_count": null,
   "id": "de6a5e7c-becd-4ec8-a9a5-8792f6f1df23",
   "metadata": {},
   "outputs": [],
   "source": []
  }
 ],
 "metadata": {
  "kernelspec": {
   "display_name": "Python 3 (ipykernel)",
   "language": "python",
   "name": "python3"
  },
  "language_info": {
   "codemirror_mode": {
    "name": "ipython",
    "version": 3
   },
   "file_extension": ".py",
   "mimetype": "text/x-python",
   "name": "python",
   "nbconvert_exporter": "python",
   "pygments_lexer": "ipython3",
   "version": "3.9.16"
  }
 },
 "nbformat": 4,
 "nbformat_minor": 5
}
