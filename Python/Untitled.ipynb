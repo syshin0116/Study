{
 "cells": [
  {
   "cell_type": "code",
   "execution_count": null,
   "id": "441c75a4-f8df-40fe-b70a-cf1fd2b040fc",
   "metadata": {},
   "outputs": [],
   "source": [
    "from selenium import webdriver\n",
    "from selenium.webdriver.common.keys import Keys\n",
    "from selenium.webdriver.support.ui import Select\n",
    "import time\n",
    "\n",
    "# WebDriver 초기화\n",
    "driver = webdriver.Chrome('chromedriver')  # Chrome 드라이버 경로 설정\n",
    "\n",
    "# 웹 페이지 열기\n",
    "driver.get('https://www.sunvalley.co.kr')  # 골프 예약 웹 페이지 URL로 변경\n",
    "\n",
    "# 로그인 url\n",
    "login_url = 'https://www.sunvalley.co.kr/member/login'\n"
   ]
  },
  {
   "cell_type": "code",
   "execution_count": 29,
   "id": "6e691e55-f67e-43e3-a5d5-88e38c0a5a95",
   "metadata": {},
   "outputs": [
    {
     "ename": "InvalidSelectorException",
     "evalue": "Message: invalid selector: An invalid or illegal selector was specified\n  (Session info: chrome=114.0.5735.90)\nStacktrace:\n0   chromedriver                        0x000000010084b8ac chromedriver + 4257964\n1   chromedriver                        0x0000000100843f40 chromedriver + 4226880\n2   chromedriver                        0x00000001004809d4 chromedriver + 281044\n3   chromedriver                        0x0000000100485200 chromedriver + 299520\n4   chromedriver                        0x0000000100486b34 chromedriver + 305972\n5   chromedriver                        0x0000000100486c24 chromedriver + 306212\n6   chromedriver                        0x00000001004bb718 chromedriver + 522008\n7   chromedriver                        0x00000001004f27e4 chromedriver + 747492\n8   chromedriver                        0x00000001004af98c chromedriver + 473484\n9   chromedriver                        0x00000001004b098c chromedriver + 477580\n10  chromedriver                        0x000000010080a900 chromedriver + 3991808\n11  chromedriver                        0x000000010080e354 chromedriver + 4006740\n12  chromedriver                        0x000000010080e940 chromedriver + 4008256\n13  chromedriver                        0x000000010081433c chromedriver + 4031292\n14  chromedriver                        0x000000010080ef34 chromedriver + 4009780\n15  chromedriver                        0x00000001007e7490 chromedriver + 3847312\n16  chromedriver                        0x000000010082c9f4 chromedriver + 4131316\n17  chromedriver                        0x000000010082cb4c chromedriver + 4131660\n18  chromedriver                        0x000000010083d230 chromedriver + 4198960\n19  libsystem_pthread.dylib             0x00000001995b3fa8 _pthread_start + 148\n20  libsystem_pthread.dylib             0x00000001995aeda0 thread_start + 8\n",
     "output_type": "error",
     "traceback": [
      "\u001b[0;31m---------------------------------------------------------------------------\u001b[0m",
      "\u001b[0;31mInvalidSelectorException\u001b[0m                  Traceback (most recent call last)",
      "Input \u001b[0;32mIn [29]\u001b[0m, in \u001b[0;36m<cell line: 43>\u001b[0;34m()\u001b[0m\n\u001b[1;32m     38\u001b[0m time\u001b[38;5;241m.\u001b[39msleep(\u001b[38;5;241m5\u001b[39m)\n\u001b[1;32m     40\u001b[0m search_box_class_name \u001b[38;5;241m=\u001b[39m  \u001b[38;5;124m\"\u001b[39m\u001b[38;5;124m#mount_0_0_pT > div > div > div.x9f619.x1n2onr6.x1ja2u2z > div > div > div > div.x78zum5.xdt5ytf.x10cihs4.x1t2pt76.x1n2onr6.x1ja2u2z > div.x9f619.xnz67gz.x78zum5.x168nmei.x13lgxp2.x5pf9jr.xo71vjh.x1uhb9sk.x1plvlek.xryxfnj.x1c4vz4f.x2lah0s.x1q0g3np.xqjyukv.x1qjc9v5.x1oa3qoh.x1qughib > div.x9f619.xjbqb8w.x78zum5.x168nmei.x13lgxp2.x5pf9jr.xo71vjh.x1plvlek.xryxfnj.x1c4vz4f.x2lah0s.xdt5ytf.xqjyukv.x1qjc9v5.x1oa3qoh.x1nhvcw1.xeq5yr9.x1dr59a3.xixxii4.x13vifvy.x1n327nk > div > div > div > div > div.xh8yej3.x1iyjqo2 > div:nth-child(2) > div > a\u001b[39m\u001b[38;5;124m\"\u001b[39m\n\u001b[0;32m---> 43\u001b[0m search_box_btn \u001b[38;5;241m=\u001b[39m \u001b[43mdriver\u001b[49m\u001b[38;5;241;43m.\u001b[39;49m\u001b[43mfind_element\u001b[49m\u001b[43m(\u001b[49m\u001b[43mBy\u001b[49m\u001b[38;5;241;43m.\u001b[39;49m\u001b[43mCLASS_NAME\u001b[49m\u001b[43m,\u001b[49m\u001b[43m \u001b[49m\u001b[43msearch_box_class_name\u001b[49m\u001b[43m)\u001b[49m\n\u001b[1;32m     44\u001b[0m search_box_btn\u001b[38;5;241m.\u001b[39mclick()\n",
      "File \u001b[0;32m~/miniforge3/lib/python3.9/site-packages/selenium/webdriver/remote/webdriver.py:856\u001b[0m, in \u001b[0;36mWebDriver.find_element\u001b[0;34m(self, by, value)\u001b[0m\n\u001b[1;32m    853\u001b[0m     by \u001b[38;5;241m=\u001b[39m By\u001b[38;5;241m.\u001b[39mCSS_SELECTOR\n\u001b[1;32m    854\u001b[0m     value \u001b[38;5;241m=\u001b[39m \u001b[38;5;124m'\u001b[39m\u001b[38;5;124m[name=\u001b[39m\u001b[38;5;124m\"\u001b[39m\u001b[38;5;132;01m%s\u001b[39;00m\u001b[38;5;124m\"\u001b[39m\u001b[38;5;124m]\u001b[39m\u001b[38;5;124m'\u001b[39m \u001b[38;5;241m%\u001b[39m value\n\u001b[0;32m--> 856\u001b[0m \u001b[38;5;28;01mreturn\u001b[39;00m \u001b[38;5;28;43mself\u001b[39;49m\u001b[38;5;241;43m.\u001b[39;49m\u001b[43mexecute\u001b[49m\u001b[43m(\u001b[49m\u001b[43mCommand\u001b[49m\u001b[38;5;241;43m.\u001b[39;49m\u001b[43mFIND_ELEMENT\u001b[49m\u001b[43m,\u001b[49m\u001b[43m \u001b[49m\u001b[43m{\u001b[49m\n\u001b[1;32m    857\u001b[0m \u001b[43m    \u001b[49m\u001b[38;5;124;43m'\u001b[39;49m\u001b[38;5;124;43musing\u001b[39;49m\u001b[38;5;124;43m'\u001b[39;49m\u001b[43m:\u001b[49m\u001b[43m \u001b[49m\u001b[43mby\u001b[49m\u001b[43m,\u001b[49m\n\u001b[1;32m    858\u001b[0m \u001b[43m    \u001b[49m\u001b[38;5;124;43m'\u001b[39;49m\u001b[38;5;124;43mvalue\u001b[39;49m\u001b[38;5;124;43m'\u001b[39;49m\u001b[43m:\u001b[49m\u001b[43m \u001b[49m\u001b[43mvalue\u001b[49m\u001b[43m}\u001b[49m\u001b[43m)\u001b[49m[\u001b[38;5;124m'\u001b[39m\u001b[38;5;124mvalue\u001b[39m\u001b[38;5;124m'\u001b[39m]\n",
      "File \u001b[0;32m~/miniforge3/lib/python3.9/site-packages/selenium/webdriver/remote/webdriver.py:429\u001b[0m, in \u001b[0;36mWebDriver.execute\u001b[0;34m(self, driver_command, params)\u001b[0m\n\u001b[1;32m    427\u001b[0m response \u001b[38;5;241m=\u001b[39m \u001b[38;5;28mself\u001b[39m\u001b[38;5;241m.\u001b[39mcommand_executor\u001b[38;5;241m.\u001b[39mexecute(driver_command, params)\n\u001b[1;32m    428\u001b[0m \u001b[38;5;28;01mif\u001b[39;00m response:\n\u001b[0;32m--> 429\u001b[0m     \u001b[38;5;28;43mself\u001b[39;49m\u001b[38;5;241;43m.\u001b[39;49m\u001b[43merror_handler\u001b[49m\u001b[38;5;241;43m.\u001b[39;49m\u001b[43mcheck_response\u001b[49m\u001b[43m(\u001b[49m\u001b[43mresponse\u001b[49m\u001b[43m)\u001b[49m\n\u001b[1;32m    430\u001b[0m     response[\u001b[38;5;124m'\u001b[39m\u001b[38;5;124mvalue\u001b[39m\u001b[38;5;124m'\u001b[39m] \u001b[38;5;241m=\u001b[39m \u001b[38;5;28mself\u001b[39m\u001b[38;5;241m.\u001b[39m_unwrap_value(\n\u001b[1;32m    431\u001b[0m         response\u001b[38;5;241m.\u001b[39mget(\u001b[38;5;124m'\u001b[39m\u001b[38;5;124mvalue\u001b[39m\u001b[38;5;124m'\u001b[39m, \u001b[38;5;28;01mNone\u001b[39;00m))\n\u001b[1;32m    432\u001b[0m     \u001b[38;5;28;01mreturn\u001b[39;00m response\n",
      "File \u001b[0;32m~/miniforge3/lib/python3.9/site-packages/selenium/webdriver/remote/errorhandler.py:243\u001b[0m, in \u001b[0;36mErrorHandler.check_response\u001b[0;34m(self, response)\u001b[0m\n\u001b[1;32m    241\u001b[0m         alert_text \u001b[38;5;241m=\u001b[39m value[\u001b[38;5;124m'\u001b[39m\u001b[38;5;124malert\u001b[39m\u001b[38;5;124m'\u001b[39m]\u001b[38;5;241m.\u001b[39mget(\u001b[38;5;124m'\u001b[39m\u001b[38;5;124mtext\u001b[39m\u001b[38;5;124m'\u001b[39m)\n\u001b[1;32m    242\u001b[0m     \u001b[38;5;28;01mraise\u001b[39;00m exception_class(message, screen, stacktrace, alert_text)  \u001b[38;5;66;03m# type: ignore[call-arg]  # mypy is not smart enough here\u001b[39;00m\n\u001b[0;32m--> 243\u001b[0m \u001b[38;5;28;01mraise\u001b[39;00m exception_class(message, screen, stacktrace)\n",
      "\u001b[0;31mInvalidSelectorException\u001b[0m: Message: invalid selector: An invalid or illegal selector was specified\n  (Session info: chrome=114.0.5735.90)\nStacktrace:\n0   chromedriver                        0x000000010084b8ac chromedriver + 4257964\n1   chromedriver                        0x0000000100843f40 chromedriver + 4226880\n2   chromedriver                        0x00000001004809d4 chromedriver + 281044\n3   chromedriver                        0x0000000100485200 chromedriver + 299520\n4   chromedriver                        0x0000000100486b34 chromedriver + 305972\n5   chromedriver                        0x0000000100486c24 chromedriver + 306212\n6   chromedriver                        0x00000001004bb718 chromedriver + 522008\n7   chromedriver                        0x00000001004f27e4 chromedriver + 747492\n8   chromedriver                        0x00000001004af98c chromedriver + 473484\n9   chromedriver                        0x00000001004b098c chromedriver + 477580\n10  chromedriver                        0x000000010080a900 chromedriver + 3991808\n11  chromedriver                        0x000000010080e354 chromedriver + 4006740\n12  chromedriver                        0x000000010080e940 chromedriver + 4008256\n13  chromedriver                        0x000000010081433c chromedriver + 4031292\n14  chromedriver                        0x000000010080ef34 chromedriver + 4009780\n15  chromedriver                        0x00000001007e7490 chromedriver + 3847312\n16  chromedriver                        0x000000010082c9f4 chromedriver + 4131316\n17  chromedriver                        0x000000010082cb4c chromedriver + 4131660\n18  chromedriver                        0x000000010083d230 chromedriver + 4198960\n19  libsystem_pthread.dylib             0x00000001995b3fa8 _pthread_start + 148\n20  libsystem_pthread.dylib             0x00000001995aeda0 thread_start + 8\n"
     ]
    }
   ],
   "source": [
    "import time\n",
    "\n",
    "from selenium import webdriver\n",
    "from selenium.webdriver.common.by import By\n",
    "from selenium.webdriver.support.ui import WebDriverWait\n",
    "from selenium.webdriver.support import expected_conditions as EC\n",
    "from selenium.webdriver.common.keys import Keys\n",
    "from selenium.webdriver import ActionChains\n",
    "from selenium.webdriver.chrome.options import Options\n",
    "\n",
    "chrome_options = Options()\n",
    "chrome_options.add_experimental_option(\"detach\", True)\n",
    "\n",
    "driver = webdriver.Chrome(options=chrome_options)\n",
    "driver.set_window_size(800, 800)\n",
    "driver.get(\"https://www.instagram.com/\")\n",
    "time.sleep(1)\n",
    "id_selector = \"#loginForm > div > div:nth-child(1) > div > label > input\"\n",
    "\n",
    "WebDriverWait(driver, 10).until(EC.presence_of_element_located(\n",
    "    (By.CSS_SELECTOR, id_selector )\n",
    "))\n",
    "#인스타 로그인 시작\n",
    "import mdata\n",
    "instagram_id = 'sys975@hotmail.com'\n",
    "instagram_pw = 'veritas6233!#'\n",
    "id_input = driver.find_element(By.CSS_SELECTOR,id_selector)\n",
    "id_input.send_keys(instagram_id)\n",
    "\n",
    "pw_selector = \"#loginForm > div > div:nth-child(2) > div > label > input\"\n",
    "pw_input = driver.find_element(By.CSS_SELECTOR,pw_selector)\n",
    "pw_input.send_keys(instagram_pw)\n",
    "\n",
    "login_btn_selector = \"#loginForm > div > div:nth-child(3) > button\"\n",
    "login_btn = driver.find_element(By.CSS_SELECTOR,login_btn_selector)\n",
    "login_btn.click()\n",
    "\n",
    "time.sleep(5)\n",
    "\n",
    "search_box_class_name =  \"#mount_0_0_pT > div > div > div.x9f619.x1n2onr6.x1ja2u2z > div > div > div > div.x78zum5.xdt5ytf.x10cihs4.x1t2pt76.x1n2onr6.x1ja2u2z > div.x9f619.xnz67gz.x78zum5.x168nmei.x13lgxp2.x5pf9jr.xo71vjh.x1uhb9sk.x1plvlek.xryxfnj.x1c4vz4f.x2lah0s.x1q0g3np.xqjyukv.x1qjc9v5.x1oa3qoh.x1qughib > div.x9f619.xjbqb8w.x78zum5.x168nmei.x13lgxp2.x5pf9jr.xo71vjh.x1plvlek.xryxfnj.x1c4vz4f.x2lah0s.xdt5ytf.xqjyukv.x1qjc9v5.x1oa3qoh.x1nhvcw1.xeq5yr9.x1dr59a3.xixxii4.x13vifvy.x1n327nk > div > div > div > div > div.xh8yej3.x1iyjqo2 > div:nth-child(2) > div > a\"\n",
    "\n",
    "\n",
    "search_box_btn = driver.find_element(By.CLASS_NAME, search_box_class_name)\n",
    "search_box_btn.click()\n",
    "\n",
    "#\"#mount_0_0_W0 > div > div > div.x9f619.x1n2onr6.x1ja2u2z > div > div > div > div.x78zum5.xdt5ytf.x10cihs4.x1t2pt76.x1n2onr6.x1ja2u2z > div.x9f619.xnz67gz.x78zum5.x168nmei.x13lgxp2.x5pf9jr.xo71vjh.x1uhb9sk.x1plvlek.xryxfnj.x1c4vz4f.x2lah0s.x1q0g3np.xqjyukv.x1qjc9v5.x1oa3qoh.x1qughib > div.x9f619.xjbqb8w.x78zum5.x168nmei.x13lgxp2.x5pf9jr.xo71vjh.x1plvlek.xryxfnj.x1c4vz4f.x2lah0s.xdt5ytf.xqjyukv.x1qjc9v5.x1oa3qoh.x1nhvcw1.xeq5yr9.x1dr59a3.xixxii4.x13vifvy.x1n327nk > div > div > div > div > div.xh8yej3.x1iyjqo2 > div:nth-child(2) > div > a > div > div:nth-child(1) > div > div > svg\"\n",
    "#\"#mount_0_0_Hd > div > div > div.x9f619.x1n2onr6.x1ja2u2z > div > div > div > div.x78zum5.xdt5ytf.x10cihs4.x1t2pt76.x1n2onr6.x1ja2u2z > div.x9f619.xnz67gz.x78zum5.x168nmei.x13lgxp2.x5pf9jr.xo71vjh.x1uhb9sk.x1plvlek.xryxfnj.x1c4vz4f.x2lah0s.x1q0g3np.xqjyukv.x1qjc9v5.x1oa3qoh.x1qughib > div.x9f619.xjbqb8w.x78zum5.x168nmei.x13lgxp2.x5pf9jr.xo71vjh.x1plvlek.xryxfnj.x1c4vz4f.x2lah0s.xdt5ytf.xqjyukv.x1qjc9v5.x1oa3qoh.x1nhvcw1.xeq5yr9.x1dr59a3.xixxii4.x13vifvy.x1n327nk > div > div > div > div > div.xh8yej3.x1iyjqo2 > div:nth-child(2) > div > a > div > div:nth-child(1) > div > div > svg > path\"\n",
    "#인스타그램 로그인 종료\n",
    "\n",
    "\n",
    "#인스타 검색탭 클릭\n",
    "\n",
    "# Search_btn_selector = '//*[@id=\"mount_0_0_a7\"]/div/div/div[2]/div/div/div/div[1]/div[1]/div[1]/div/div/div/div/div[2]/div[2]/div/a'\n",
    "# Search_btn = driver.find_element(By.XPATH,'//*[@id=\"mount_0_0_a7\"]/div/div/div[2]/div/div/div/div[1]/div[1]/div[1]/div/div/div/div/div[2]/div[2]/div/a')\n",
    "# Search_btn.click()\n",
    "\n",
    "# Search_btn_selector = '//*[@id=\"mount_0_0_ZM\"]/div/div/div[2]/div/div/div/div[1]/div[1]/div[1]/div/div/div/div/div[2]/div[2]/div/a'\n",
    "# Search_btn = driver.find_element(By.CSS_SELECTOR,Search_btn_selector)\n",
    "# Search_btn.click()\n",
    "\n",
    "\n",
    "\n",
    "# time.sleep(0.3)\n",
    "# driver.find_element(By.XPATH,'//*[@id=\"mount_0_0_a7\"]/div/div/div[2]/div/div/div/div[1]/div[1]/div[1]/div/div/div/div/div[2]/div[2]/div/a').click()\n",
    "\n",
    "# input()\n",
    "\n",
    "\n",
    "\n",
    "#인스타그램 해시태그 검색 시작\n",
    "\n",
    "# search_selector = \"#mount_0_0_03 > div > div > div.x9f619.x1n2onr6.x1ja2u2z > div > div > div > div.x78zum5.xdt5ytf.x10cihs4.x1t2pt76.x1n2onr6.x1ja2u2z > div.x9f619.xnz67gz.x78zum5.x168nmei.x13lgxp2.x5pf9jr.xo71vjh.x1uhb9sk.x1plvlek.xryxfnj.x1c4vz4f.x2lah0s.xdt5ytf.xqjyukv.x1qjc9v5.x1oa3qoh.x1qughib > div.xh8yej3.x1gryazu.x10o80wk.x14k21rp.x1porb0y.x17snn68.x6osk4m > section > div:nth-child(2) > nav > div > header > div > div > div.xq8finb > div > input\"\n",
    "# WebDriverWait(driver, 10).until(EC.presence_of_element_located(\n",
    "#     (By.CSS_SELECTOR, search_selector )\n",
    "# ))\n",
    "# search_box_div = \"#mount_0_0_03 > div > div > div.x9f619.x1n2onr6.x1ja2u2z > div > div > div > div.x78zum5.xdt5ytf.x10cihs4.x1t2pt76.x1n2onr6.x1ja2u2z > div.x9f619.xnz67gz.x78zum5.x168nmei.x13lgxp2.x5pf9jr.xo71vjh.x1uhb9sk.x1plvlek.xryxfnj.x1c4vz4f.x2lah0s.x1q0g3np.xqjyukv.x1qjc9v5.x1oa3qoh.x1qughib > div.x9f619.xjbqb8w.x78zum5.x168nmei.x13lgxp2.x5pf9jr.xo71vjh.x1plvlek.xryxfnj.x1c4vz4f.x2lah0s.xdt5ytf.xqjyukv.x1qjc9v5.x1oa3qoh.x1nhvcw1.xeq5yr9.x1dr59a3.xixxii4.x13vifvy.x1n327nk > div > div > div.x10l6tqk.x1u3tz30.x1ja2u2z > div > div > div.x9f619.xjbqb8w.x78zum5.x168nmei.x13lgxp2.x5pf9jr.xo71vjh.x1n2onr6.x1plvlek.xryxfnj.x1iyjqo2.x2lwn1j.xeuugli.xdt5ytf.xqjyukv.x1qjc9v5.x1oa3qoh.x1nhvcw1 > div.x9f619.xjbqb8w.x78zum5.x168nmei.x13lgxp2.x5pf9jr.xo71vjh.x1d52u69.xktsk01.x1n2onr6.x1plvlek.xryxfnj.x1c4vz4f.x2lah0s.xdt5ytf.xqjyukv.x1qjc9v5.x1oa3qoh.x1nhvcw1 > div\"\n",
    "# driver.find_element(By.CSS_SELECTOR,search_box).click()\n",
    "# time.sleep(0.3)\n",
    "\n",
    "# driver.get(\"https://www.instagram.com/explore/tags/냥스타그램/\")\n",
    "# input()\n",
    "\n",
    "# search_box = driver.find_element(By.CSS_SELECTOR,search_selector)\n",
    "\n",
    "# ActionChains(driver).move_to_element(search_box).pause(1).click().perform()\n",
    "# time.sleep(0.3)\n",
    "# search_box.send_keys(\"냥스타그램\")\n",
    "# time.sleep(0.3)\n",
    "# search_box.send_keys(Keys.ENTER)"
   ]
  },
  {
   "cell_type": "code",
   "execution_count": 28,
   "id": "e4217ca9-fa0f-41d2-8d52-48f3ff974e98",
   "metadata": {},
   "outputs": [
    {
     "data": {
      "text/plain": [
       "True"
      ]
     },
     "execution_count": 28,
     "metadata": {},
     "output_type": "execute_result"
    }
   ],
   "source": []
  },
  {
   "cell_type": "code",
   "execution_count": null,
   "id": "4b2b199f-1953-4429-a9fe-04f31fa1be71",
   "metadata": {},
   "outputs": [],
   "source": []
  }
 ],
 "metadata": {
  "kernelspec": {
   "display_name": "Python 3 (ipykernel)",
   "language": "python",
   "name": "python3"
  },
  "language_info": {
   "codemirror_mode": {
    "name": "ipython",
    "version": 3
   },
   "file_extension": ".py",
   "mimetype": "text/x-python",
   "name": "python",
   "nbconvert_exporter": "python",
   "pygments_lexer": "ipython3",
   "version": "3.9.10"
  }
 },
 "nbformat": 4,
 "nbformat_minor": 5
}
