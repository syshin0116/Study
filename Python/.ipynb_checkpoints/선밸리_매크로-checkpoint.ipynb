{
 "cells": [
  {
   "cell_type": "code",
   "execution_count": 11,
   "id": "cd0fd0e4-f0e8-4a1e-8edc-8e5f946a704e",
   "metadata": {},
   "outputs": [
    {
     "ename": "AttributeError",
     "evalue": "'WebDriver' object has no attribute 'find_element_by_id'",
     "output_type": "error",
     "traceback": [
      "\u001b[0;31m---------------------------------------------------------------------------\u001b[0m",
      "\u001b[0;31mAttributeError\u001b[0m                            Traceback (most recent call last)",
      "Input \u001b[0;32mIn [11]\u001b[0m, in \u001b[0;36m<cell line: 48>\u001b[0;34m()\u001b[0m\n\u001b[1;32m     45\u001b[0m reservation_url \u001b[38;5;241m=\u001b[39m \u001b[38;5;124m'\u001b[39m\u001b[38;5;124mhttps://www.sunvalley.co.kr/reservation/golf\u001b[39m\u001b[38;5;124m'\u001b[39m\n\u001b[1;32m     47\u001b[0m \u001b[38;5;66;03m# 원하는 날짜 선택\u001b[39;00m\n\u001b[0;32m---> 48\u001b[0m date_input \u001b[38;5;241m=\u001b[39m \u001b[43mdriver\u001b[49m\u001b[38;5;241;43m.\u001b[39;49m\u001b[43mfind_element_by_id\u001b[49m(\u001b[38;5;124m'\u001b[39m\u001b[38;5;124mworkDate\u001b[39m\u001b[38;5;124m'\u001b[39m)  \u001b[38;5;66;03m# 날짜 입력 필드의 ID로 변경\u001b[39;00m\n\u001b[1;32m     49\u001b[0m date_input\u001b[38;5;241m.\u001b[39mclear()  \u001b[38;5;66;03m# 입력 필드 초기화\u001b[39;00m\n\u001b[1;32m     50\u001b[0m date_input\u001b[38;5;241m.\u001b[39msend_keys(\u001b[38;5;124m'\u001b[39m\u001b[38;5;124m2023-05-30\u001b[39m\u001b[38;5;124m'\u001b[39m)  \u001b[38;5;66;03m# 예약하려는 날짜 입력\u001b[39;00m\n",
      "\u001b[0;31mAttributeError\u001b[0m: 'WebDriver' object has no attribute 'find_element_by_id'"
     ]
    }
   ],
   "source": [
    "from selenium import webdriver\n",
    "from selenium.webdriver.common.keys import Keys\n",
    "from selenium.webdriver.support.ui import Select\n",
    "from selenium.webdriver.support.ui import WebDriverWait\n",
    "from selenium.webdriver.common.by import By\n",
    "from selenium.webdriver.support import expected_conditions as EC\n",
    "\n",
    "import time\n",
    "import sunvalley_login_info\n",
    "\n",
    "\n",
    "# WebDriver 초기화\n",
    "driver = webdriver.Chrome('chromedriver')  # Chrome 드라이버 경로 설정\n",
    "\n",
    "# 로그인 url\n",
    "login_url = 'https://www.sunvalley.co.kr/member/login'\n",
    "\n",
    "# 로그인 페이지 열기\n",
    "driver.get(login_url)\n",
    "\n",
    "\n",
    "# 로그인\n",
    "id_input = WebDriverWait(driver, 10).until(EC.presence_of_element_located(\n",
    "    (By.CSS_SELECTOR, \"#usrId\" )\n",
    "))\n",
    "pw_input = WebDriverWait(driver, 10).until(EC.presence_of_element_located(\n",
    "    (By.CSS_SELECTOR, \"#usrPwd\" )\n",
    "))\n",
    "id_input.send_keys(sunvalley_login_info.id)\n",
    "pw_input.send_keys(sunvalley_login_info.pw)\n",
    "\n",
    "login_button = WebDriverWait(driver, 10).until(\n",
    "    EC.element_to_be_clickable((By.CSS_SELECTOR, \"#fnLogin\"))\n",
    ")\n",
    "login_button.click()\n",
    "\n",
    "WebDriverWait(driver, 10).until(EC.alert_is_present())\n",
    "# 예약 확인 대화상자 처리\n",
    "alert = driver.switch_to.alert\n",
    "alert.accept()  # 확인 버튼 클릭\n",
    "\n",
    "\n",
    "\n",
    "# 통합예약 url\n",
    "reservation_url_설악썬밸리 = 'https://www.sunvalley.co.kr/reservation/golf?sel=J21'\n",
    "reservation_url_썬밸리CC = 'https://www.sunvalley.co.kr/reservation/golf?sel=J23'\n",
    "reservation_url_동원썬밸리 = 'https://www.sunvalley.co.kr/reservation/golf?sel=J24'\n",
    "reservation_url_여주썬밸리 = 'https://www.sunvalley.co.kr/reservation/golf?sel=J25'\n",
    "\n",
    "desired_date = '20230610'\n",
    "\n",
    "driver.get(reservation_url_설악썬밸리)\n",
    "# 원하는 날짜 선택\n",
    "date_input = WebDriverWait(driver, 10).until(EC.presence_of_element_located(\n",
    "    (By.CSS_SELECTOR, \"#A\" + desired_date + \" > a\" )\n",
    "date_input.click()\n",
    "\n",
    "# 원하는 시간 선택\n",
    "time_select = Select(driver.find_element_by_id('bookgTime'))  # 시간 선택 드롭다운의 ID로 변경\n",
    "time_select.select_by_visible_text('10:00 AM')  # 예약하려는 시간 선택\n",
    "\n",
    "# 필요한 기타 작업 수행\n",
    "\n",
    "# 예약 버튼 클릭\n",
    "reserve_button = driver.find_element_by_id('reserveButton')  # 예약 버튼의 ID로 변경\n",
    "reserve_button.click()\n",
    "\n",
    "# 예약 확인 대화상자 처리\n",
    "alert = driver.switch_to.alert\n",
    "alert.accept()  # 확인 버튼 클릭\n",
    "\n",
    "# WebDriver 종료\n",
    "driver.quit()\n"
   ]
  },
  {
   "cell_type": "code",
   "execution_count": null,
   "id": "e18cb5d3-5130-42fa-a29e-eb9e292ea478",
   "metadata": {},
   "outputs": [],
   "source": []
  },
  {
   "cell_type": "code",
   "execution_count": null,
   "id": "473b1ae9-51dd-4fe1-99ed-f708053d1d1f",
   "metadata": {},
   "outputs": [],
   "source": []
  }
 ],
 "metadata": {
  "kernelspec": {
   "display_name": "Python 3 (ipykernel)",
   "language": "python",
   "name": "python3"
  },
  "language_info": {
   "codemirror_mode": {
    "name": "ipython",
    "version": 3
   },
   "file_extension": ".py",
   "mimetype": "text/x-python",
   "name": "python",
   "nbconvert_exporter": "python",
   "pygments_lexer": "ipython3",
   "version": "3.9.10"
  }
 },
 "nbformat": 4,
 "nbformat_minor": 5
}
