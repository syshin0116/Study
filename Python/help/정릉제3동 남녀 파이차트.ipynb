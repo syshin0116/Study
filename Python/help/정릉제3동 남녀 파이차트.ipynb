{
 "cells": [
  {
   "cell_type": "code",
   "execution_count": null,
   "id": "2cc38189-7b68-45fa-a198-e0e1e04c3fb3",
   "metadata": {},
   "outputs": [],
   "source": [
    "## import pandas as pd\n",
    "import matplotlib.pyplot as plt\n",
    "import warnings\n",
    "warnings.filterwarnings(action='ignore')\n",
    "!sudo apt-get install -y fonts-nanum\n",
    "!sudo fc-cache -fv\n",
    "!rm ~/.cache/matplotlib -rf\n",
    "plt.rc('font', family='NanumBarunGothic')\n",
    "\n",
    "df = pd.read_csv('2023final.csv', encoding='cp949')\n",
    "\n",
    "df.loc[df['행정구역'].str.contains('정릉')]\n",
    "\n",
    "region_df = df[df['행정구역'] == '서울특별시 성북구 정릉제3동(1129064000)']\n",
    "\n",
    "male_age_columns = ['2023년05월_남_5세', '2023년05월_남_6세', '2023년05월_남_7세', '2023년05월_남_8세', '2023년05월_남_9세', '2023년05월_남_10세']\n",
    "female_age_columns = ['2023년05월_여_5세', '2023년05월_여_6세', '2023년05월_여_7세', '2023년05월_여_8세', '2023년05월_여_9세', '2023년05월_여_10세']\n",
    "\n",
    "region_df[male_age_columns] = region_df[male_age_columns].apply(pd.to_numeric)\n",
    "region_df[female_age_columns] = region_df[female_age_columns].apply(pd.to_numeric)\n",
    "\n",
    "total_male_population = region_df[male_age_columns].sum().sum()\n",
    "total_female_population = region_df[female_age_columns].sum().sum()\n",
    "\n",
    "\n",
    "gender_data = pd.DataFrame({\n",
    "    'Gender': ['남', '여'],\n",
    "    'Population': [total_male_population, total_female_population]\n",
    "})\n",
    "colors = ['turquoise', 'purple']\n",
    "plt.pie(gender_data['Population'], labels=gender_data['Gender'], autopct='%1.2f%%', explode=(0.05, 0.05), startangle=90, colors = colors)\n",
    "plt.legend(title='성별', loc='upper right')\n",
    "plt.title('본인이름_정릉제3동 남녀 성별 인구 분포')\n",
    "plt.figure(figsize=(15, 15))\n",
    "plt.show()"
   ]
  },
  {
   "cell_type": "code",
   "execution_count": null,
   "id": "b3b34c51-24db-402d-b133-0d0d6c09c25c",
   "metadata": {},
   "outputs": [],
   "source": []
  }
 ],
 "metadata": {
  "kernelspec": {
   "display_name": "Python 3 (ipykernel)",
   "language": "python",
   "name": "python3"
  },
  "language_info": {
   "codemirror_mode": {
    "name": "ipython",
    "version": 3
   },
   "file_extension": ".py",
   "mimetype": "text/x-python",
   "name": "python",
   "nbconvert_exporter": "python",
   "pygments_lexer": "ipython3",
   "version": "3.9.10"
  }
 },
 "nbformat": 4,
 "nbformat_minor": 5
}
