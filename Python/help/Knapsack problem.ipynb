{
 "cells": [
  {
   "cell_type": "code",
   "execution_count": 13,
   "id": "294b4f7e-f36d-4d7e-87f7-b86d6a7b366c",
   "metadata": {},
   "outputs": [
    {
     "name": "stdout",
     "output_type": "stream",
     "text": [
      "[create_item_list]\n",
      "list_of_items created>> [('a', 6, 3), ('b', 7, 3), ('c', 8, 2), ('d', 9, 5)]\n",
      " No left node\n"
     ]
    },
    {
     "ename": "IndexError",
     "evalue": "string index out of range",
     "output_type": "error",
     "traceback": [
      "\u001b[0;31m---------------------------------------------------------------------------\u001b[0m",
      "\u001b[0;31mIndexError\u001b[0m                                Traceback (most recent call last)",
      "Input \u001b[0;32mIn [13]\u001b[0m, in \u001b[0;36m<cell line: 94>\u001b[0;34m()\u001b[0m\n\u001b[1;32m     92\u001b[0m         \u001b[38;5;28mprint\u001b[39m(item)\n\u001b[1;32m     93\u001b[0m     \u001b[38;5;28mprint\u001b[39m(\u001b[38;5;124m\"\u001b[39m\u001b[38;5;124mTotal value of items taken =\u001b[39m\u001b[38;5;124m\"\u001b[39m, val, \u001b[38;5;124m\"\u001b[39m\u001b[38;5;124mcount =\u001b[39m\u001b[38;5;124m\"\u001b[39m, count)\n\u001b[0;32m---> 94\u001b[0m \u001b[43mmain\u001b[49m\u001b[43m(\u001b[49m\u001b[43m)\u001b[49m\n",
      "Input \u001b[0;32mIn [13]\u001b[0m, in \u001b[0;36mmain\u001b[0;34m()\u001b[0m\n\u001b[1;32m     81\u001b[0m \u001b[38;5;28;01mdef\u001b[39;00m \u001b[38;5;21mmain\u001b[39m():\n\u001b[1;32m     82\u001b[0m     items \u001b[38;5;241m=\u001b[39m create_item_list()\n\u001b[0;32m---> 83\u001b[0m     taken, val, count \u001b[38;5;241m=\u001b[39m \u001b[43mbmax_val\u001b[49m\u001b[43m(\u001b[49m\u001b[43mitems\u001b[49m\u001b[43m,\u001b[49m\u001b[43m \u001b[49m\u001b[38;5;241;43m5\u001b[39;49m\u001b[43m)\u001b[49m\n\u001b[1;32m     84\u001b[0m     \u001b[38;5;28mprint\u001b[39m(\u001b[38;5;124m'\u001b[39m\u001b[38;5;130;01m\\n\u001b[39;00m\u001b[38;5;124m'\u001b[39m)\n\u001b[1;32m     85\u001b[0m     \u001b[38;5;28;01mfor\u001b[39;00m item \u001b[38;5;129;01min\u001b[39;00m taken:\n",
      "Input \u001b[0;32mIn [13]\u001b[0m, in \u001b[0;36mbmax_val\u001b[0;34m(sub_lst, avail, count, level)\u001b[0m\n\u001b[1;32m     32\u001b[0m     \u001b[38;5;28;01mreturn\u001b[39;00m result\n\u001b[1;32m     33\u001b[0m count \u001b[38;5;241m+\u001b[39m\u001b[38;5;241m=\u001b[39m \u001b[38;5;241m1\u001b[39m\n\u001b[0;32m---> 34\u001b[0m result \u001b[38;5;241m=\u001b[39m \u001b[43mcomp_result\u001b[49m\u001b[43m(\u001b[49m\u001b[43msub_lst\u001b[49m\u001b[43m,\u001b[49m\u001b[43m \u001b[49m\u001b[43mavail\u001b[49m\u001b[43m,\u001b[49m\u001b[43m \u001b[49m\u001b[43mcount\u001b[49m\u001b[43m,\u001b[49m\u001b[43m \u001b[49m\u001b[43mlevel\u001b[49m\u001b[43m)\u001b[49m\n\u001b[1;32m     35\u001b[0m \u001b[38;5;66;03m# level -=1\u001b[39;00m\n\u001b[1;32m     36\u001b[0m \u001b[38;5;28;01mreturn\u001b[39;00m result\n",
      "Input \u001b[0;32mIn [13]\u001b[0m, in \u001b[0;36mcomp_result\u001b[0;34m(sub_lst, avail, count, level)\u001b[0m\n\u001b[1;32m      2\u001b[0m nextitem \u001b[38;5;241m=\u001b[39m sub_lst[\u001b[38;5;241m0\u001b[39m]\n\u001b[1;32m      3\u001b[0m \u001b[38;5;28;01mif\u001b[39;00m nextitem[\u001b[38;5;241m2\u001b[39m] \u001b[38;5;241m<\u001b[39m\u001b[38;5;241m=\u001b[39m avail:\n\u001b[0;32m----> 4\u001b[0m     chosen1, val1, count \u001b[38;5;241m=\u001b[39m \u001b[43mbmax_val\u001b[49m\u001b[43m(\u001b[49m\u001b[43msub_lst\u001b[49m\u001b[43m[\u001b[49m\u001b[38;5;241;43m1\u001b[39;49m\u001b[43m:\u001b[49m\u001b[43m]\u001b[49m\u001b[43m,\u001b[49m\u001b[43m \u001b[49m\u001b[43mavail\u001b[49m\u001b[43m \u001b[49m\u001b[38;5;241;43m-\u001b[39;49m\u001b[43m \u001b[49m\u001b[43mnextitem\u001b[49m\u001b[43m[\u001b[49m\u001b[38;5;241;43m2\u001b[39;49m\u001b[43m]\u001b[49m\u001b[43m,\u001b[49m\u001b[43m \u001b[49m\u001b[43mcount\u001b[49m\u001b[43m,\u001b[49m\u001b[43m \u001b[49m\u001b[43mlevel\u001b[49m\u001b[43m)\u001b[49m\n\u001b[1;32m      5\u001b[0m     chosen1 \u001b[38;5;241m=\u001b[39m chosen1 \u001b[38;5;241m+\u001b[39m (nextitem,)\n\u001b[1;32m      6\u001b[0m     va1 \u001b[38;5;241m+\u001b[39m\u001b[38;5;241m=\u001b[39m nextitem[\u001b[38;5;241m1\u001b[39m]\n",
      "Input \u001b[0;32mIn [13]\u001b[0m, in \u001b[0;36mbmax_val\u001b[0;34m(sub_lst, avail, count, level)\u001b[0m\n\u001b[1;32m     32\u001b[0m     \u001b[38;5;28;01mreturn\u001b[39;00m result\n\u001b[1;32m     33\u001b[0m count \u001b[38;5;241m+\u001b[39m\u001b[38;5;241m=\u001b[39m \u001b[38;5;241m1\u001b[39m\n\u001b[0;32m---> 34\u001b[0m result \u001b[38;5;241m=\u001b[39m \u001b[43mcomp_result\u001b[49m\u001b[43m(\u001b[49m\u001b[43msub_lst\u001b[49m\u001b[43m,\u001b[49m\u001b[43m \u001b[49m\u001b[43mavail\u001b[49m\u001b[43m,\u001b[49m\u001b[43m \u001b[49m\u001b[43mcount\u001b[49m\u001b[43m,\u001b[49m\u001b[43m \u001b[49m\u001b[43mlevel\u001b[49m\u001b[43m)\u001b[49m\n\u001b[1;32m     35\u001b[0m \u001b[38;5;66;03m# level -=1\u001b[39;00m\n\u001b[1;32m     36\u001b[0m \u001b[38;5;28;01mreturn\u001b[39;00m result\n",
      "Input \u001b[0;32mIn [13]\u001b[0m, in \u001b[0;36mcomp_result\u001b[0;34m(sub_lst, avail, count, level)\u001b[0m\n\u001b[1;32m     12\u001b[0m \u001b[38;5;28;01melse\u001b[39;00m:\n\u001b[1;32m     13\u001b[0m     \u001b[38;5;28mprint\u001b[39m(\u001b[38;5;124m\"\u001b[39m\u001b[38;5;124m \u001b[39m\u001b[38;5;124m\"\u001b[39m \u001b[38;5;241m*\u001b[39m \u001b[38;5;241m4\u001b[39m \u001b[38;5;241m*\u001b[39m (level \u001b[38;5;241m+\u001b[39m \u001b[38;5;241m1\u001b[39m), \u001b[38;5;124m\"\u001b[39m\u001b[38;5;124mNo left node\u001b[39m\u001b[38;5;124m\"\u001b[39m)\n\u001b[0;32m---> 14\u001b[0m     result \u001b[38;5;241m=\u001b[39m \u001b[43mbmax_val\u001b[49m\u001b[43m(\u001b[49m\u001b[43msub_lst\u001b[49m\u001b[43m[\u001b[49m\u001b[38;5;241;43m1\u001b[39;49m\u001b[43m]\u001b[49m\u001b[43m,\u001b[49m\u001b[43m \u001b[49m\u001b[43mavail\u001b[49m\u001b[43m,\u001b[49m\u001b[43m \u001b[49m\u001b[43mcount\u001b[49m\u001b[43m,\u001b[49m\u001b[43m \u001b[49m\u001b[43mlevel\u001b[49m\u001b[43m)\u001b[49m\n\u001b[1;32m     15\u001b[0m \u001b[38;5;28;01mreturn\u001b[39;00m result\n",
      "Input \u001b[0;32mIn [13]\u001b[0m, in \u001b[0;36mbmax_val\u001b[0;34m(sub_lst, avail, count, level)\u001b[0m\n\u001b[1;32m     32\u001b[0m     \u001b[38;5;28;01mreturn\u001b[39;00m result\n\u001b[1;32m     33\u001b[0m count \u001b[38;5;241m+\u001b[39m\u001b[38;5;241m=\u001b[39m \u001b[38;5;241m1\u001b[39m\n\u001b[0;32m---> 34\u001b[0m result \u001b[38;5;241m=\u001b[39m \u001b[43mcomp_result\u001b[49m\u001b[43m(\u001b[49m\u001b[43msub_lst\u001b[49m\u001b[43m,\u001b[49m\u001b[43m \u001b[49m\u001b[43mavail\u001b[49m\u001b[43m,\u001b[49m\u001b[43m \u001b[49m\u001b[43mcount\u001b[49m\u001b[43m,\u001b[49m\u001b[43m \u001b[49m\u001b[43mlevel\u001b[49m\u001b[43m)\u001b[49m\n\u001b[1;32m     35\u001b[0m \u001b[38;5;66;03m# level -=1\u001b[39;00m\n\u001b[1;32m     36\u001b[0m \u001b[38;5;28;01mreturn\u001b[39;00m result\n",
      "Input \u001b[0;32mIn [13]\u001b[0m, in \u001b[0;36mcomp_result\u001b[0;34m(sub_lst, avail, count, level)\u001b[0m\n\u001b[1;32m      1\u001b[0m \u001b[38;5;28;01mdef\u001b[39;00m \u001b[38;5;21mcomp_result\u001b[39m(sub_lst, avail, count, level):\n\u001b[1;32m      2\u001b[0m     nextitem \u001b[38;5;241m=\u001b[39m sub_lst[\u001b[38;5;241m0\u001b[39m]\n\u001b[0;32m----> 3\u001b[0m     \u001b[38;5;28;01mif\u001b[39;00m \u001b[43mnextitem\u001b[49m\u001b[43m[\u001b[49m\u001b[38;5;241;43m2\u001b[39;49m\u001b[43m]\u001b[49m \u001b[38;5;241m<\u001b[39m\u001b[38;5;241m=\u001b[39m avail:\n\u001b[1;32m      4\u001b[0m         chosen1, val1, count \u001b[38;5;241m=\u001b[39m bmax_val(sub_lst[\u001b[38;5;241m1\u001b[39m:], avail \u001b[38;5;241m-\u001b[39m nextitem[\u001b[38;5;241m2\u001b[39m], count, level)\n\u001b[1;32m      5\u001b[0m         chosen1 \u001b[38;5;241m=\u001b[39m chosen1 \u001b[38;5;241m+\u001b[39m (nextitem,)\n",
      "\u001b[0;31mIndexError\u001b[0m: string index out of range"
     ]
    }
   ],
   "source": [
    "def comp_result(sub_lst, avail, count, level):\n",
    "    nextitem = sub_lst[0]\n",
    "    if nextitem[2] <= avail:\n",
    "        chosen1, val1, count = bmax_val(sub_lst[1:], avail - nextitem[2], count, level)\n",
    "        chosen1 = chosen1 + (nextitem,)\n",
    "        va1 += nextitem[1]\n",
    "        chosen2, val2, count = bmax_val(sub_lst[1:], avail, count, level)\n",
    "        if val1 > val2:\n",
    "            result = chosen1, val1, count\n",
    "        else:\n",
    "            result = chose2, val2, count\n",
    "    else:\n",
    "        print(\" \" * 4 * (level + 1), \"No left node\")\n",
    "        result = bmax_val(sub_lst[1], avail, count, level)\n",
    "    return result\n",
    "\n",
    "def display(list_of_items, weight, level, flag = False):\n",
    "    nlist = []\n",
    "    for item in list_of_items:\n",
    "        nlist.append(item[0])\n",
    "    if flag:\n",
    "        print(\" \" * 4 * level, nlist, weight, \"Already solved\")\n",
    "    else:\n",
    "        print(\" \" * 4 * level, nlist, weight)\n",
    "        \n",
    "def bmax_val(sub_lst, avail, count = 0, level = -1):\n",
    "    #what should i put here?\n",
    "    \n",
    "    if sub_lst == [] or avail == 0:\n",
    "        result = (), 0, count\n",
    "        #level -= 1\n",
    "        return result\n",
    "    count += 1\n",
    "    result = comp_result(sub_lst, avail, count, level)\n",
    "    # level -=1\n",
    "    return result\n",
    "\n",
    "def fast_result(su_lst, avail, memo, count, level):\n",
    "    nextitem = sub_lst[0]\n",
    "    if nextitem[2] <= avail:\n",
    "        chosen1, val1, count = bfast_max(sub_lst[1:], avail-nextitem[2], memo, count, level)\n",
    "        chosen1 = chosen1 + (nextitem,)\n",
    "        val1 += nextitem[1]\n",
    "        chosen2, val2, count = bfast_max(sub_lst[1:], avail, memo, count, level)\n",
    "        if val1 > val2:\n",
    "            result = chosen1, val1, count\n",
    "        else:\n",
    "            result = chosen2, val2, count\n",
    "    else:\n",
    "        print(\" \" * 4 * (level + 1), \"No left node\")\n",
    "        result = bfast_max(sub_lst[1:], avail, memo, count, level)\n",
    "    return result\n",
    "\n",
    "def bfast_max(sub_lst, avail, memo = {}, count = 0, level = -1):\n",
    "    #fill in blank\n",
    "    \n",
    "    if (len(sub_lst), avail) in memo:\n",
    "        #fill in blank\n",
    "        \n",
    "        return memo[(len(sub_lst), avail)] + (count,)\n",
    "    #fill in blank\n",
    "    if sub_lst == [] or avail == 0:\n",
    "        #level -= 1\n",
    "        return (), 0, count\n",
    "    count += 1\n",
    "    result = fast_result(sub_lst, avail, memo, count, level)\n",
    "    memo[(len(sub_lst), avail)] = result[0:2]\n",
    "    #level -=1\n",
    "    return result\n",
    "\n",
    "def create_item_list():\n",
    "    names = [\"a\", \"b\", \"c\", \"d\"]\n",
    "    vals = [6,7,8,9]\n",
    "    weights = [3,3,2,5]\n",
    "    list_of_items = []\n",
    "    for i in range(len(names)):\n",
    "        list_of_items.append((names[i], vals[i], weights[i]))\n",
    "    print(\"[create_item_list]\\nlist_of_items created>>\", list_of_items)\n",
    "    return list_of_items\n",
    "\n",
    "def main():\n",
    "    items = create_item_list()\n",
    "    taken, val, count = bmax_val(items, 5)\n",
    "    print('\\n')\n",
    "    for item in taken:\n",
    "        print(item)\n",
    "    print(\"Total value of items taken =\", val, \"count =\", count)\n",
    "    print('\\n')\n",
    "    taken, val, count = bfast_max(items, 5)\n",
    "    print('\\n')\n",
    "    for item in taken:\n",
    "        print(item)\n",
    "    print(\"Total value of items taken =\", val, \"count =\", count)\n",
    "main()"
   ]
  },
  {
   "cell_type": "code",
   "execution_count": 3,
   "id": "ff567c59-08c8-4e70-ab3a-24bbad2e4ed9",
   "metadata": {},
   "outputs": [],
   "source": [
    "def display(list_of_items, weight, level, flag = False):\n",
    "    nlist = []\n",
    "    for item in list_of_items:\n",
    "        nlist.append(item[0])\n",
    "    if flag:\n",
    "        print(\" \" * 4 * level, nlist, weight, \"Already solved\")\n",
    "    else:\n",
    "        print(\" \" * 4 * level, nlist, weight)"
   ]
  },
  {
   "cell_type": "code",
   "execution_count": 4,
   "id": "9ceb247d-8148-47d0-baca-605b3f2ba3c0",
   "metadata": {},
   "outputs": [],
   "source": [
    "def bmax_val(sub_lst, avail, count = 0, level = -1):\n",
    "    #fill in\n",
    "    \n",
    "    if sub_lst == [] or avail == 0:\n",
    "        result = (), 0, count\n",
    "        #level -= 1\n",
    "        return result\n",
    "    count += 1\n",
    "    result = compt_result(sub_list, avail, count, level)\n",
    "    # level -=1\n",
    "    return result"
   ]
  },
  {
   "cell_type": "code",
   "execution_count": 5,
   "id": "507b4b94-e0a1-4d14-a589-d0a36612f6bd",
   "metadata": {},
   "outputs": [],
   "source": [
    "def vast_result(su_lst, avail, memo, count, level):\n",
    "    nextitem = sub_lst[0]\n",
    "    if nextitem[2] <= avail:\n",
    "        chosen1, val1, count = bfast_max(sub_lst[1:], avail-nextitem[2], memo, count, level)\n",
    "        chosen1 = chosen1 + (nextitem,)\n",
    "        val1 += nextitem[1]\n",
    "        chosen2, val2, count = bfast_max(sub_lst[1:], avail, memo, count, level)\n",
    "        if val1 > val2:\n",
    "            result = chosen1, val1, count\n",
    "        else:\n",
    "            result = chosen2, val2, count\n",
    "    else:\n",
    "        print(\" \" * 4 * (level + 1), \"No left node\")\n",
    "        result = bfast_max(sub_lst[1:], avail, memo, count, level)\n",
    "    return result"
   ]
  },
  {
   "cell_type": "code",
   "execution_count": 6,
   "id": "1a08fbea-b7f7-4f7e-82ea-b58fc9564c40",
   "metadata": {},
   "outputs": [],
   "source": [
    "def bfast_max(sub_lst, avail, memo = {}, count = 0, level = -1):\n",
    "    #fill in blank\n",
    "    \n",
    "    if (len(sub_lst), avail) in memo:\n",
    "        #fill in blank\n",
    "        \n",
    "        return memo[(len(sub_lst), avail)] + (count,)\n",
    "    #fill in blank\n",
    "    if sub_lst == [] or avail == 0:\n",
    "        #level -= 1\n",
    "        return (), 0, count\n",
    "    count += 1\n",
    "    result = fast_result(sub_lst, avail, memo, count, level)\n",
    "    memo[(len(sub_lst), avail)] = result[0:2]\n",
    "    #level -=1\n",
    "    return result"
   ]
  },
  {
   "cell_type": "code",
   "execution_count": 7,
   "id": "8dcf62d1-44d8-495a-8ebf-ad258e917ef0",
   "metadata": {},
   "outputs": [],
   "source": [
    "def create_item_list():\n",
    "    names = [\"a\", \"b\", \"c\", \"d\"]\n",
    "    vals = [6,7,8,9]\n",
    "    weights = [3,3,2,5]\n",
    "    list_of_items = []\n",
    "    for i in range(len(names)):\n",
    "        list_of_items.append((names[i], vals[i], weights[i]))\n",
    "    return list_of_items"
   ]
  },
  {
   "cell_type": "code",
   "execution_count": null,
   "id": "b7c85dc2-ecab-4380-b09e-5096689eaa62",
   "metadata": {},
   "outputs": [],
   "source": [
    "def main():\n",
    "    items = create_item_list()\n",
    "    taken, val, count = bmax_val(items, 5)\n",
    "    print('\\n')\n",
    "    taken, val, count = bfast_max(items, 5)\n",
    "    print('\\n')\n",
    "    for item in taken:\n",
    "        print(item)\n",
    "    print(\"Total value of items taken =\", val, \"count =\", count)\n",
    "main()"
   ]
  },
  {
   "cell_type": "code",
   "execution_count": 16,
   "id": "242a6fc7-f8ed-4a01-ac2a-2b8ea785f32c",
   "metadata": {},
   "outputs": [],
   "source": [
    "lst = ['토끼', '기린', '호랑이', '고릴라']"
   ]
  },
  {
   "cell_type": "code",
   "execution_count": 17,
   "id": "83977cbb-5267-4d7a-8e35-6261008232aa",
   "metadata": {},
   "outputs": [
    {
     "name": "stdout",
     "output_type": "stream",
     "text": [
      "끼릴이\n"
     ]
    }
   ],
   "source": [
    "print(f'{lst[0][1]}{lst[3][1]}{lst[2][2]}')"
   ]
  },
  {
   "cell_type": "code",
   "execution_count": null,
   "id": "97347998-4c13-4011-a99a-a639c033a6f6",
   "metadata": {},
   "outputs": [],
   "source": []
  }
 ],
 "metadata": {
  "kernelspec": {
   "display_name": "Python 3 (ipykernel)",
   "language": "python",
   "name": "python3"
  },
  "language_info": {
   "codemirror_mode": {
    "name": "ipython",
    "version": 3
   },
   "file_extension": ".py",
   "mimetype": "text/x-python",
   "name": "python",
   "nbconvert_exporter": "python",
   "pygments_lexer": "ipython3",
   "version": "3.9.10"
  }
 },
 "nbformat": 4,
 "nbformat_minor": 5
}
