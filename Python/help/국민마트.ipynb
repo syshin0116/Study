{
 "cells": [
  {
   "cell_type": "code",
   "execution_count": 4,
   "id": "d2c176b2-b565-43a5-bcd9-eabb1cd75f5d",
   "metadata": {},
   "outputs": [
    {
     "name": "stdout",
     "output_type": "stream",
     "text": [
      "*** Item ***\n",
      "1. 햄버거\n",
      "2. 샌드위치\n",
      "3. 커피\n"
     ]
    },
    {
     "name": "stdin",
     "output_type": "stream",
     "text": [
      "구입할 상품의 번호를 입력하세요.(1-3): 3\n",
      "상품의 개수를 입력하세요(1~): 4\n"
     ]
    },
    {
     "name": "stdout",
     "output_type": "stream",
     "text": [
      "*** Total Price ***\n",
      "12000\n"
     ]
    }
   ],
   "source": [
    "# 상품 판매 가격\n",
    "hamburger = 6000\n",
    "sandwich = 2000\n",
    "coffee = 3000\n",
    "\n",
    "# 상품 목록: 출력 및 입력\n",
    "\n",
    "# Step 1) 삼품 목록을 출력한다.\n",
    "print('*** Item ***')\n",
    "print('1. 햄버거')\n",
    "print('2. 샌드위치')\n",
    "print('3. 커피')\n",
    "\n",
    "# Step 2) 고객이 고른 상품 번호를 입력 받는다.\n",
    "goods_no = int(input('구입할 상품의 번호를 입력하세요.(1-3):'))\n",
    "\n",
    "# Step 3) 고객이 고른 상품 개수를 입력 받는다. (0 이상의 정수)\n",
    "amount = int(input('상품의 개수를 입력하세요(1~):'))\n",
    "\n",
    "# Step 4) 상품 번호와 상품 개수를 고려하여 고객이 지불해야 할 금액을 계산하여 출력한다.\n",
    "if goods_no == 1:\n",
    "    price = hamburger * amount\n",
    "elif goods_no == 2:\n",
    "    price = sandwich * amount\n",
    "else:\n",
    "    price = coffee * amount\n",
    "\n",
    "print('*** Total Price ***')\n",
    "print(price)"
   ]
  },
  {
   "cell_type": "code",
   "execution_count": null,
   "id": "83658d84-3a1e-4e86-acf9-74e2eb9a633a",
   "metadata": {},
   "outputs": [],
   "source": []
  }
 ],
 "metadata": {
  "kernelspec": {
   "display_name": "Python 3 (ipykernel)",
   "language": "python",
   "name": "python3"
  },
  "language_info": {
   "codemirror_mode": {
    "name": "ipython",
    "version": 3
   },
   "file_extension": ".py",
   "mimetype": "text/x-python",
   "name": "python",
   "nbconvert_exporter": "python",
   "pygments_lexer": "ipython3",
   "version": "3.9.10"
  }
 },
 "nbformat": 4,
 "nbformat_minor": 5
}
