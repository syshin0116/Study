{
 "cells": [
  {
   "cell_type": "code",
   "execution_count": 2,
   "id": "d69160aa-71ed-4201-8edf-6114d9d3ceac",
   "metadata": {},
   "outputs": [
    {
     "name": "stdout",
     "output_type": "stream",
     "text": [
      "BMI: 24.49, 평가: 정상\n",
      "BMI: 28.08, 평가: 과체중\n",
      "BMI: 19.29, 평가: 저체중\n",
      "BMI: 31.25, 평가: 비만\n"
     ]
    }
   ],
   "source": [
    "def findBMI(weight, height):\n",
    "    height_in_meters = height / 100\n",
    "    bmi = weight / (height_in_meters ** 2)\n",
    "\n",
    "    if bmi < 20:\n",
    "        evaluation = '저체중'  \n",
    "    elif 20 <= bmi < 25:\n",
    "        evaluation = '정상' \n",
    "    elif 25 <= bmi < 30:\n",
    "        evaluation = '과체중'  \n",
    "    else:\n",
    "        evaluation = '비만'\n",
    "    \n",
    "    print(f\"BMI: {bmi:.2f}, 평가: {evaluation}\")\n",
    "\n",
    "\n",
    "\n",
    "findBMI(75, 175)  # 정상\n",
    "findBMI(92, 181)  # 과체중\n",
    "findBMI(50, 161)  # 저체중\n",
    "findBMI(80, 160)  # 비만\n"
   ]
  },
  {
   "cell_type": "code",
   "execution_count": null,
   "id": "50288e07-ad7f-4c3d-967c-5fbfe30f9126",
   "metadata": {},
   "outputs": [],
   "source": []
  }
 ],
 "metadata": {
  "kernelspec": {
   "display_name": "Python 3 (ipykernel)",
   "language": "python",
   "name": "python3"
  },
  "language_info": {
   "codemirror_mode": {
    "name": "ipython",
    "version": 3
   },
   "file_extension": ".py",
   "mimetype": "text/x-python",
   "name": "python",
   "nbconvert_exporter": "python",
   "pygments_lexer": "ipython3",
   "version": "3.9.10"
  }
 },
 "nbformat": 4,
 "nbformat_minor": 5
}
