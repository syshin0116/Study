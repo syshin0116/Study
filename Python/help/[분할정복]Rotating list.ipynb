{
 "cells": [
  {
   "cell_type": "markdown",
   "id": "80ea3db8-a8a0-4d79-991a-36798577a099",
   "metadata": {},
   "source": [
    "# [분할정복] Rotating list\n",
    "\n",
    "#### 문제: 오름차순으로 정렬후에 k번 rotate된 list를 입력받고 k를 구하라\n",
    "\n",
    "목표: k값을 찾기 위한 비교 연산의 횟수를 최대한 줄이는것\n",
    "\n",
    "제한시간: 1초/테스트케이스\n",
    "\n",
    "입력: 서로 다른 n개의 값을 오름차순으로 정렬 후 k번 왼쪽회전한 리스트 A(1 <= n <= 100,000, A값은 -20만과 +20만 사이)\n",
    "\n",
    "출력: A에 대한 회전 횟수 k값(단, k는 0 이상 n-1 이하이다 k=0인 경우는 회전이 없는 경우이고 k = n-1이면 회전을 가장 많이 한 경우이다)"
   ]
  },
  {
   "cell_type": "code",
   "execution_count": null,
   "id": "d74e5251-67b9-4fe6-930d-f0c31a4ac484",
   "metadata": {},
   "outputs": [],
   "source": [
    "def find_k(A):\n",
    "    pri"
   ]
  },
  {
   "cell_type": "code",
   "execution_count": null,
   "id": "b6ad0dbf-c466-41ae-9690-34acb23b035a",
   "metadata": {},
   "outputs": [],
   "source": [
    "A = "
   ]
  },
  {
   "cell_type": "code",
   "execution_count": null,
   "id": "5bfc6e6b-d73e-4b0e-a97a-8697a6d88d15",
   "metadata": {},
   "outputs": [],
   "source": [
    "A = [int(x) for x in input().split()]\n",
    "sol = find_k(A)\n",
    "print(sol)"
   ]
  }
 ],
 "metadata": {
  "kernelspec": {
   "display_name": "Python 3 (ipykernel)",
   "language": "python",
   "name": "python3"
  },
  "language_info": {
   "codemirror_mode": {
    "name": "ipython",
    "version": 3
   },
   "file_extension": ".py",
   "mimetype": "text/x-python",
   "name": "python",
   "nbconvert_exporter": "python",
   "pygments_lexer": "ipython3",
   "version": "3.9.10"
  }
 },
 "nbformat": 4,
 "nbformat_minor": 5
}
