{
 "cells": [
  {
   "cell_type": "markdown",
   "id": "80ea3db8-a8a0-4d79-991a-36798577a099",
   "metadata": {},
   "source": [
    "# [분할정복] Rotating list\n",
    "\n",
    "#### 문제: 오름차순으로 정렬후에 k번 rotate된 list를 입력받고 k를 구하라\n",
    "\n",
    "목표: k값을 찾기 위한 비교 연산의 횟수를 최대한 줄이는것\n",
    "\n",
    "제한시간: 1초/테스트케이스\n",
    "\n",
    "입력: 서로 다른 n개의 값을 오름차순으로 정렬 후 k번 왼쪽회전한 리스트 A(1 <= n <= 100,000, A값은 -20만과 +20만 사이)\n",
    "\n",
    "출력: A에 대한 회전 횟수 k값(단, k는 0 이상 n-1 이하이다 k=0인 경우는 회전이 없는 경우이고 k = n-1이면 회전을 가장 많이 한 경우이다)"
   ]
  },
  {
   "cell_type": "markdown",
   "id": "3a4b8e89-235e-403c-9418-83d7ed769447",
   "metadata": {},
   "source": [
    "## Linear Search: $O(N)$"
   ]
  },
  {
   "cell_type": "code",
   "execution_count": 1,
   "id": "d74e5251-67b9-4fe6-930d-f0c31a4ac484",
   "metadata": {},
   "outputs": [],
   "source": [
    "# time complexity = O(n)\n",
    "def linear_search(A):\n",
    "    min_num = A[0]\n",
    "    min_index = 0\n",
    "    for i in range(len(A)):\n",
    "        if A[i] < min_num:\n",
    "            min_num = A[i]\n",
    "            min_index = i\n",
    "    return min_index\n",
    "                   "
   ]
  },
  {
   "cell_type": "markdown",
   "id": "52dea4f7-ec54-4fc4-bb69-e1b32e4428ba",
   "metadata": {},
   "source": [
    "## Binary Search: $O(log(n))$"
   ]
  },
  {
   "cell_type": "code",
   "execution_count": 23,
   "id": "0c4a87d3-6c13-4569-b091-b9775c3dd7e1",
   "metadata": {},
   "outputs": [],
   "source": [
    "def find_k(A):\n",
    "    N = len(A)\n",
    "    high = N-1\n",
    "    low = 0\n",
    "    \n",
    "    while low <= high:\n",
    "        # 오름차순 정렬되있는 경우\n",
    "        if A[low] <= A[high]:\n",
    "            return low\n",
    "\n",
    "        mid = (low+high) // 2\n",
    "        nxt = (mid+1)%N\n",
    "        prv = (mid+N-1)%N\n",
    "\n",
    "        # 2분할시 좌, 우가 각각 정렬되있는 경우\n",
    "        if A[mid] <= A[nxt] and A[mid] <= A[prv]:\n",
    "            return N-mid\n",
    "\n",
    "        # 우측이 정렬되있는 경우\n",
    "        elif A[mid] <= A[high]:\n",
    "            high = mid-1\n",
    "\n",
    "        # 좌측이 정렬되있는 경우\n",
    "        elif A[mid] >= A[low]:\n",
    "            low = mid+1\n"
   ]
  },
  {
   "cell_type": "code",
   "execution_count": 14,
   "id": "5bfc6e6b-d73e-4b0e-a97a-8697a6d88d15",
   "metadata": {},
   "outputs": [
    {
     "name": "stdin",
     "output_type": "stream",
     "text": [
      " 5 6 1 2 3 4\n"
     ]
    },
    {
     "name": "stdout",
     "output_type": "stream",
     "text": [
      "4\n"
     ]
    }
   ],
   "source": [
    "A = [int(x) for x in input().split()]\n",
    "sol = binary_search(A)\n",
    "print(sol)"
   ]
  },
  {
   "cell_type": "code",
   "execution_count": 15,
   "id": "6350699c-5185-4154-8f0c-777663531553",
   "metadata": {},
   "outputs": [
    {
     "data": {
      "text/plain": [
       "0"
      ]
     },
     "execution_count": 15,
     "metadata": {},
     "output_type": "execute_result"
    }
   ],
   "source": [
    "binary_search(B)"
   ]
  },
  {
   "cell_type": "code",
   "execution_count": 5,
   "id": "24c24683-ef27-4797-9ccf-952be1514b98",
   "metadata": {},
   "outputs": [
    {
     "data": {
      "text/plain": [
       "2"
      ]
     },
     "execution_count": 5,
     "metadata": {},
     "output_type": "execute_result"
    }
   ],
   "source": [
    "binary_search(A)"
   ]
  },
  {
   "cell_type": "code",
   "execution_count": 21,
   "id": "b50c4973-58d7-49d5-a504-4aa0dddf2500",
   "metadata": {},
   "outputs": [
    {
     "data": {
      "text/plain": [
       "3"
      ]
     },
     "execution_count": 21,
     "metadata": {},
     "output_type": "execute_result"
    }
   ],
   "source": [
    "binary_search([0, 1, -3, -2, -1])"
   ]
  },
  {
   "cell_type": "code",
   "execution_count": 25,
   "id": "3ff7fdfc-20c5-441b-a6bc-c862edaad55b",
   "metadata": {},
   "outputs": [
    {
     "name": "stdout",
     "output_type": "stream",
     "text": [
      "4\n"
     ]
    }
   ],
   "source": [
    "A = [5, 6, 1, 2, 3, 4]\n",
    "sol = find_k(A)\n",
    "print(sol)"
   ]
  },
  {
   "cell_type": "code",
   "execution_count": 24,
   "id": "1f6432cd-0bd4-4eed-bcc0-fd5827e93356",
   "metadata": {},
   "outputs": [
    {
     "name": "stdout",
     "output_type": "stream",
     "text": [
      "0\n"
     ]
    }
   ],
   "source": [
    "B = [1, 3, 5, 6, 7, 9]\n",
    "sol = find_k(B)\n",
    "print(sol)"
   ]
  }
 ],
 "metadata": {
  "kernelspec": {
   "display_name": "Python 3 (ipykernel)",
   "language": "python",
   "name": "python3"
  },
  "language_info": {
   "codemirror_mode": {
    "name": "ipython",
    "version": 3
   },
   "file_extension": ".py",
   "mimetype": "text/x-python",
   "name": "python",
   "nbconvert_exporter": "python",
   "pygments_lexer": "ipython3",
   "version": "3.9.10"
  }
 },
 "nbformat": 4,
 "nbformat_minor": 5
}
