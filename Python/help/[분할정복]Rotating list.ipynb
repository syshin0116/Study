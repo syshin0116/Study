{
 "cells": [
  {
   "cell_type": "markdown",
   "id": "80ea3db8-a8a0-4d79-991a-36798577a099",
   "metadata": {},
   "source": [
    "# [분할정복] Rotating list"
   ]
  },
  {
   "cell_type": "code",
   "execution_count": null,
   "id": "d74e5251-67b9-4fe6-930d-f0c31a4ac484",
   "metadata": {},
   "outputs": [],
   "source": []
  }
 ],
 "metadata": {
  "kernelspec": {
   "display_name": "Python 3 (ipykernel)",
   "language": "python",
   "name": "python3"
  },
  "language_info": {
   "codemirror_mode": {
    "name": "ipython",
    "version": 3
   },
   "file_extension": ".py",
   "mimetype": "text/x-python",
   "name": "python",
   "nbconvert_exporter": "python",
   "pygments_lexer": "ipython3",
   "version": "3.9.10"
  }
 },
 "nbformat": 4,
 "nbformat_minor": 5
}
