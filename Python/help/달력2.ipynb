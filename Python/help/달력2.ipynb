{
 "cells": [
  {
   "cell_type": "code",
   "execution_count": 11,
   "id": "873512d5-2db2-4029-8916-c8afdb32ee4c",
   "metadata": {},
   "outputs": [
    {
     "name": "stdin",
     "output_type": "stream",
     "text": [
      "년 월 입력(공백으로 구분):  2023 4\n"
     ]
    },
    {
     "name": "stdout",
     "output_type": "stream",
     "text": [
      "5\n",
      "      2023년 4월      \n",
      "SU MO TU WE TH FR SA\n",
      "                  01 \n",
      "02 03 04 05 06 07 08 \n",
      "09 10 11 12 13 14 15 \n",
      "16 17 18 19 20 21 22 \n",
      "23 24 25 26 27 28 29 \n",
      "30 "
     ]
    }
   ],
   "source": [
    "import datetime\n",
    "\n",
    "year, month = map(int, input(\"년 월 입력(공백으로 구분): \").split())\n",
    "#year, month = 2023, 4\n",
    "first_date_of_month = datetime.datetime(year, month, 1)\n",
    "\n",
    "#요일을 출력합니다.(0:월요일, 1:화요일, ..., 6:일요일)\n",
    "start_day = first_date_of_month.weekday()\n",
    "print(start_day)\n",
    "\n",
    "#이어서 프로그래밍 합니다.\n",
    "   \n",
    "day =(year-1)% 400\n",
    "day = (day//100)*5 + ((day % 100) - (day % 100)//4) + ((day % 100)//4)*2\n",
    "day = day % 7\n",
    "  \n",
    "nly =[31, 28, 31, 30, 31, 30, \n",
    "      31, 31, 30, 31, 30, 31]\n",
    "ly =[31, 29, 31, 30, 31, 30, \n",
    "     31, 31, 30, 31, 30, 31]\n",
    "s = 0\n",
    "\n",
    "if year % 4 == 0:\n",
    "    for i in range(month-1):\n",
    "        s+= ly[i]\n",
    "else:\n",
    "    for i in range(month-1):\n",
    "        s+= nly[i]\n",
    "\n",
    "day += s % 7\n",
    "day = day % 7\n",
    "\n",
    "space =''\n",
    "space = space.rjust(2, ' ')\n",
    "  \n",
    "print(f\"{year}년 {month}월\".center(20))\n",
    "print('SU', 'MO', 'TU', 'WE', 'TH', 'FR', 'SA')\n",
    "  \n",
    "if month == 9 or month == 4 or month == 6 or month == 11: \n",
    "    for i in range(31 + day):\n",
    "          \n",
    "        if i<= day:\n",
    "            print(space, end =' ')\n",
    "        else:\n",
    "            print(\"{:02d}\".format(i-day), end =' ')\n",
    "            if (i + 1)% 7 == 0:\n",
    "                print()\n",
    "elif month == 2:\n",
    "    if year % 4 == 0:\n",
    "        p = 30\n",
    "    else:\n",
    "        p = 29\n",
    "          \n",
    "    for i in range(p + day):\n",
    "        if i<= day:\n",
    "            print(space, end =' ')\n",
    "        else:\n",
    "            print(\"{:02d}\".format(i-day), end =' ')\n",
    "            if (i + 1)% 7 == 0:\n",
    "                print() \n",
    "else:\n",
    "    for i in range(32 + day):\n",
    "          \n",
    "        if i<= day:\n",
    "            print(space, end =' ')\n",
    "        else:\n",
    "            print(\"{:02d}\".format(i-day), end =' ')\n",
    "            if (i + 1)% 7 == 0:\n",
    "                print()"
   ]
  },
  {
   "cell_type": "code",
   "execution_count": null,
   "id": "0bf52eba-9feb-4ded-a4be-8f3bd5ec15e5",
   "metadata": {},
   "outputs": [],
   "source": []
  }
 ],
 "metadata": {
  "kernelspec": {
   "display_name": "Python 3 (ipykernel)",
   "language": "python",
   "name": "python3"
  },
  "language_info": {
   "codemirror_mode": {
    "name": "ipython",
    "version": 3
   },
   "file_extension": ".py",
   "mimetype": "text/x-python",
   "name": "python",
   "nbconvert_exporter": "python",
   "pygments_lexer": "ipython3",
   "version": "3.9.10"
  }
 },
 "nbformat": 4,
 "nbformat_minor": 5
}
