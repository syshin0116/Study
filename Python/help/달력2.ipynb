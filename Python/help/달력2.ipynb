{
 "cells": [
  {
   "cell_type": "code",
   "execution_count": 11,
   "id": "873512d5-2db2-4029-8916-c8afdb32ee4c",
   "metadata": {},
   "outputs": [
    {
     "name": "stdin",
     "output_type": "stream",
     "text": [
      "년 월 입력(공백으로 구분):  2023 4\n"
     ]
    },
    {
     "name": "stdout",
     "output_type": "stream",
     "text": [
      "5\n",
      "      2023년 4월      \n",
      "SU MO TU WE TH FR SA\n",
      "                  01 \n",
      "02 03 04 05 06 07 08 \n",
      "09 10 11 12 13 14 15 \n",
      "16 17 18 19 20 21 22 \n",
      "23 24 25 26 27 28 29 \n",
      "30 "
     ]
    }
   ],
   "source": [
    "import datetime\n",
    "\n",
    "year, month = map(int, input(\"년 월 입력(공백으로 구분): \").split())\n",
    "#year, month = 2023, 4\n",
    "first_date_of_month = datetime.datetime(year, month, 1)\n",
    "\n",
    "#요일을 출력합니다.(0:월요일, 1:화요일, ..., 6:일요일)\n",
    "start_day = first_date_of_month.weekday()\n",
    "print(start_day)\n",
    "\n",
    "#이어서 프로그래밍 합니다.\n",
    "   \n",
    "day =(year-1)% 400\n",
    "day = (day//100)*5 + ((day % 100) - (day % 100)//4) + ((day % 100)//4)*2\n",
    "day = day % 7\n",
    "  \n",
    "nly =[31, 28, 31, 30, 31, 30, \n",
    "      31, 31, 30, 31, 30, 31]\n",
    "ly =[31, 29, 31, 30, 31, 30, \n",
    "     31, 31, 30, 31, 30, 31]\n",
    "s = 0\n",
    "\n",
    "if year % 4 == 0:\n",
    "    for i in range(month-1):\n",
    "        s+= ly[i]\n",
    "else:\n",
    "    for i in range(month-1):\n",
    "        s+= nly[i]\n",
    "\n",
    "day += s % 7\n",
    "day = day % 7\n",
    "\n",
    "space =''\n",
    "space = space.rjust(2, ' ')\n",
    "  \n",
    "print(f\"{year}년 {month}월\".center(20))\n",
    "print('SU', 'MO', 'TU', 'WE', 'TH', 'FR', 'SA')\n",
    "  \n",
    "if month == 9 or month == 4 or month == 6 or month == 11: \n",
    "    for i in range(31 + day):\n",
    "          \n",
    "        if i<= day:\n",
    "            print(space, end =' ')\n",
    "        else:\n",
    "            print(\"{:02d}\".format(i-day), end =' ')\n",
    "            if (i + 1)% 7 == 0:\n",
    "                print()\n",
    "elif month == 2:\n",
    "    if year % 4 == 0:\n",
    "        p = 30\n",
    "    else:\n",
    "        p = 29\n",
    "          \n",
    "    for i in range(p + day):\n",
    "        if i<= day:\n",
    "            print(space, end =' ')\n",
    "        else:\n",
    "            print(\"{:02d}\".format(i-day), end =' ')\n",
    "            if (i + 1)% 7 == 0:\n",
    "                print() \n",
    "else:\n",
    "    for i in range(32 + day):\n",
    "          \n",
    "        if i<= day:\n",
    "            print(space, end =' ')\n",
    "        else:\n",
    "            print(\"{:02d}\".format(i-day), end =' ')\n",
    "            if (i + 1)% 7 == 0:\n",
    "                print()"
   ]
  },
  {
   "cell_type": "code",
   "execution_count": 12,
   "id": "0bf52eba-9feb-4ded-a4be-8f3bd5ec15e5",
   "metadata": {},
   "outputs": [
    {
     "name": "stdout",
     "output_type": "stream",
     "text": [
      "3\n"
     ]
    }
   ],
   "source": [
    "def func1(*values):\n",
    "    sum = 0\n",
    "    for val in values:\n",
    "        sum = val + 1\n",
    "    return sum\n",
    "\n",
    "result = func1(0,1,2)\n",
    "print(result)"
   ]
  },
  {
   "cell_type": "code",
   "execution_count": 13,
   "id": "240df997-ddcf-4980-8f04-19ab0947d2b9",
   "metadata": {},
   "outputs": [
    {
     "ename": "NameError",
     "evalue": "name 'test_func1' is not defined",
     "output_type": "error",
     "traceback": [
      "\u001b[0;31m---------------------------------------------------------------------------\u001b[0m",
      "\u001b[0;31mNameError\u001b[0m                                 Traceback (most recent call last)",
      "Input \u001b[0;32mIn [13]\u001b[0m, in \u001b[0;36m<cell line: 1>\u001b[0;34m()\u001b[0m\n\u001b[0;32m----> 1\u001b[0m a \u001b[38;5;241m=\u001b[39m \u001b[43mtest_func1\u001b[49m(\u001b[38;5;241m1\u001b[39m,\u001b[38;5;241m2\u001b[39m)\n\u001b[1;32m      2\u001b[0m \u001b[38;5;28mprint\u001b[39m(a)\n\u001b[1;32m      3\u001b[0m \u001b[38;5;28;01mdef\u001b[39;00m \u001b[38;5;21mtest_func1\u001b[39m(x1, x2):\n",
      "\u001b[0;31mNameError\u001b[0m: name 'test_func1' is not defined"
     ]
    }
   ],
   "source": [
    "a = test_func1(1,2)\n",
    "print(a)\n",
    "def test_func1(x1, x2):\n",
    "    a = x1+x2"
   ]
  },
  {
   "cell_type": "code",
   "execution_count": 14,
   "id": "e73c3a49-7cd5-4926-b54f-b7aab9826789",
   "metadata": {},
   "outputs": [
    {
     "name": "stdout",
     "output_type": "stream",
     "text": [
      "-6\n"
     ]
    }
   ],
   "source": [
    "a = -8\n",
    "b = 2\n",
    "a += a+4*b\n",
    "print(a+b)"
   ]
  },
  {
   "cell_type": "code",
   "execution_count": 16,
   "id": "2c9712d4-fe67-4740-b559-c011e680c079",
   "metadata": {},
   "outputs": [
    {
     "name": "stdout",
     "output_type": "stream",
     "text": [
      "1\n"
     ]
    }
   ],
   "source": [
    "a = 0 if 5**2%5 != 0 else 1\n",
    "print(a)"
   ]
  },
  {
   "cell_type": "code",
   "execution_count": 19,
   "id": "16f5d0ba-223d-40c1-bd90-d7dc48d16606",
   "metadata": {},
   "outputs": [
    {
     "data": {
      "text/plain": [
       "6"
      ]
     },
     "execution_count": 19,
     "metadata": {},
     "output_type": "execute_result"
    }
   ],
   "source": [
    "sum = 0\n",
    "i = 0\n",
    "\n",
    "while i <5:\n",
    "    i+=1\n",
    "    if i%2 == 0:\n",
    "        sum+=i\n",
    "\n",
    "sum"
   ]
  },
  {
   "cell_type": "code",
   "execution_count": 20,
   "id": "5578018f-be5e-4d95-b1e0-a18fac708b5f",
   "metadata": {},
   "outputs": [
    {
     "data": {
      "text/plain": [
       "1"
      ]
     },
     "execution_count": 20,
     "metadata": {},
     "output_type": "execute_result"
    }
   ],
   "source": [
    "1%5"
   ]
  },
  {
   "cell_type": "code",
   "execution_count": 22,
   "id": "c847305e-d3db-446c-a4df-af10ee10aaa5",
   "metadata": {},
   "outputs": [
    {
     "data": {
      "text/plain": [
       "'파이썬'"
      ]
     },
     "execution_count": 22,
     "metadata": {},
     "output_type": "execute_result"
    }
   ],
   "source": [
    "(\"파이썬\"*3)[3:6]*1"
   ]
  },
  {
   "cell_type": "code",
   "execution_count": 23,
   "id": "00164ada-a376-4cd6-ae9a-11533b6a0849",
   "metadata": {},
   "outputs": [
    {
     "data": {
      "text/plain": [
       "'ab'"
      ]
     },
     "execution_count": 23,
     "metadata": {},
     "output_type": "execute_result"
    }
   ],
   "source": [
    "b = \"ab\"\n",
    "b[:]"
   ]
  },
  {
   "cell_type": "code",
   "execution_count": 24,
   "id": "24775043-6c8a-4ef5-969a-dfcfb9c076e3",
   "metadata": {},
   "outputs": [
    {
     "ename": "ZeroDivisionError",
     "evalue": "division by zero",
     "output_type": "error",
     "traceback": [
      "\u001b[0;31m---------------------------------------------------------------------------\u001b[0m",
      "\u001b[0;31mZeroDivisionError\u001b[0m                         Traceback (most recent call last)",
      "Input \u001b[0;32mIn [24]\u001b[0m, in \u001b[0;36m<cell line: 3>\u001b[0;34m()\u001b[0m\n\u001b[1;32m      1\u001b[0m a \u001b[38;5;241m=\u001b[39m \u001b[38;5;241m100\u001b[39m\n\u001b[1;32m      2\u001b[0m b \u001b[38;5;241m=\u001b[39m \u001b[38;5;124m'\u001b[39m\u001b[38;5;124m0\u001b[39m\u001b[38;5;124m'\u001b[39m\n\u001b[0;32m----> 3\u001b[0m \u001b[38;5;28mprint\u001b[39m(\u001b[38;5;124m'\u001b[39m\u001b[38;5;124ma+b=\u001b[39m\u001b[38;5;124m'\u001b[39m, \u001b[43ma\u001b[49m\u001b[38;5;241;43m/\u001b[39;49m\u001b[38;5;28;43mint\u001b[39;49m\u001b[43m(\u001b[49m\u001b[43mb\u001b[49m\u001b[43m)\u001b[49m)\n",
      "\u001b[0;31mZeroDivisionError\u001b[0m: division by zero"
     ]
    }
   ],
   "source": [
    "a = 100\n",
    "b = '0'\n",
    "print('a+b=', a/int(b))"
   ]
  },
  {
   "cell_type": "code",
   "execution_count": 25,
   "id": "324b263a-bbe6-4cc5-8f27-805cd18d4efa",
   "metadata": {},
   "outputs": [
    {
     "data": {
      "text/plain": [
       "((0, 1), (1, 2), (2, 3))"
      ]
     },
     "execution_count": 25,
     "metadata": {},
     "output_type": "execute_result"
    }
   ],
   "source": [
    "t = (1,2,3)\n",
    "tuple(enumerate(t))"
   ]
  },
  {
   "cell_type": "code",
   "execution_count": 26,
   "id": "6ccef045-26d6-42b9-87c3-e9462fc23152",
   "metadata": {},
   "outputs": [
    {
     "data": {
      "text/plain": [
       "[[0, 0, 0], [0, 0, 0], [0, 0, 0], [0, 0, 0]]"
      ]
     },
     "execution_count": 26,
     "metadata": {},
     "output_type": "execute_result"
    }
   ],
   "source": [
    "[[0]*3 for _ in range(4)]"
   ]
  },
  {
   "cell_type": "code",
   "execution_count": 28,
   "id": "995cfec3-55c2-451c-bf9b-94144c92d45a",
   "metadata": {},
   "outputs": [
    {
     "data": {
      "text/plain": [
       "20"
      ]
     },
     "execution_count": 28,
     "metadata": {},
     "output_type": "execute_result"
    }
   ],
   "source": [
    "a = 0\n",
    "for i in range(1,5):\n",
    "    for j in range(i+1, 6):\n",
    "        a = i*j\n",
    "    \n",
    "a"
   ]
  },
  {
   "cell_type": "code",
   "execution_count": 30,
   "id": "b3b7eb1b-a0d4-4221-afb2-92aadcd8ef41",
   "metadata": {},
   "outputs": [
    {
     "data": {
      "text/plain": [
       "' seven seven'"
      ]
     },
     "execution_count": 30,
     "metadata": {},
     "output_type": "execute_result"
    }
   ],
   "source": [
    "a = \"Why is six afraid of seven?\"\n",
    "b = \"Because seven ate nine.\"\n",
    "\n",
    "a[-7:-1] +b[7:-10]"
   ]
  }
 ],
 "metadata": {
  "kernelspec": {
   "display_name": "Python 3 (ipykernel)",
   "language": "python",
   "name": "python3"
  },
  "language_info": {
   "codemirror_mode": {
    "name": "ipython",
    "version": 3
   },
   "file_extension": ".py",
   "mimetype": "text/x-python",
   "name": "python",
   "nbconvert_exporter": "python",
   "pygments_lexer": "ipython3",
   "version": "3.9.10"
  }
 },
 "nbformat": 4,
 "nbformat_minor": 5
}
