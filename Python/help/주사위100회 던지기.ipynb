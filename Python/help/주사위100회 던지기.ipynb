{
 "cells": [
  {
   "cell_type": "code",
   "execution_count": 4,
   "id": "a267da61-bfae-445a-9fe3-01d3226fe83f",
   "metadata": {},
   "outputs": [
    {
     "name": "stdout",
     "output_type": "stream",
     "text": [
      "주사위 눈금과 출현 횟수: {1: 15, 2: 19, 3: 16, 4: 20, 5: 10, 6: 20}\n",
      "가장 많이 나온 눈금: 4 (20번)\n",
      "가장 적게 나온 눈금: 5 (10번)\n",
      "눈금들의 전체 합: 351\n"
     ]
    }
   ],
   "source": [
    "# 주사위를 100번만 던져서 결과 기록\n",
    "\n",
    "import random\n",
    "\n",
    "# 결과를 저장할 딕셔너리를 초기화\n",
    "results = {1: 0, 2: 0, 3: 0, 4: 0, 5: 0, 6: 0}\n",
    "\n",
    "# 주사위 눈금들의 총 합을 저장할 변수\n",
    "total_sum = 0\n",
    "\n",
    "# 주사위를 100번 던지기\n",
    "for _ in range(100):\n",
    "    roll = random.randint(1, 6)\n",
    "    results[roll] += 1\n",
    "    total_sum += roll\n",
    "\n",
    "# 가장 많이 나온 눈금과 가장 적게 나온 눈금\n",
    "most_rolled_number = max(results, key=results.get)\n",
    "least_rolled_number = min(results, key=results.get)\n",
    "\n",
    "# 결과를 출력\n",
    "print(f\"주사위 눈금과 출현 횟수: {results}\")\n",
    "print(f\"가장 많이 나온 눈금: {most_rolled_number} ({results[most_rolled_number]}번)\")\n",
    "print(f\"가장 적게 나온 눈금: {least_rolled_number} ({results[least_rolled_number]}번)\")\n",
    "print(f\"눈금들의 전체 합: {total_sum}\")"
   ]
  },
  {
   "cell_type": "code",
   "execution_count": 28,
   "id": "22ef5347-ce55-4066-a60e-9d9443527c16",
   "metadata": {},
   "outputs": [
    {
     "name": "stdout",
     "output_type": "stream",
     "text": [
      "주사위 눈값과 출현 횟수\n",
      "{1: 20, 2: 15, 3: 13, 4: 20, 5: 16, 6: 16}\n",
      "가장 많이 나온 눈값: 1(20번)\n",
      "눈값들의 전체 합: 345\n"
     ]
    }
   ],
   "source": [
    "import random\n",
    "\n",
    "# 결과를 저장할 딕셔너리를 초기화\n",
    "results = {1: 0, 2: 0, 3: 0, 4: 0, 5: 0, 6: 0}\n",
    "\n",
    "# 주사위 눈금들의 총 합을 저장할 변수\n",
    "total_sum = 0\n",
    "\n",
    "# 주사위를 100번 던지기 위한 카운터 변수입니다.\n",
    "roll_count = 0\n",
    "\n",
    "# 주사위를 100번 던지기\n",
    "while roll_count < 100:\n",
    "    roll = random.randint(1, 6)\n",
    "    results[roll] += 1\n",
    "    total_sum += roll\n",
    "    roll_count += 1\n",
    "\n",
    "# 가장 많이 나온 눈금과 가장 적게 나온 눈금\n",
    "most_rolled_number = max(results, key=results.get)\n",
    "least_rolled_number = min(results, key=results.get)\n",
    "\n",
    "# 결과 출력\n",
    "print(f\"주사위 눈값과 출현 횟수\")\n",
    "print(results)\n",
    "print(f\"가장 많이 나온 눈값: {most_rolled_number}({results[most_rolled_number]}번)\")\n",
    "print(f\"눈값들의 전체 합: {total_sum}\")"
   ]
  },
  {
   "cell_type": "code",
   "execution_count": 6,
   "id": "33af5010-1cb8-41bf-a6a6-039ba6c7bdf1",
   "metadata": {},
   "outputs": [
    {
     "data": {
      "text/plain": [
       "100"
      ]
     },
     "execution_count": 6,
     "metadata": {},
     "output_type": "execute_result"
    }
   ],
   "source": [
    "roll_count"
   ]
  },
  {
   "cell_type": "code",
   "execution_count": null,
   "id": "0ea39a96-22d3-4154-9bb3-236645e302d9",
   "metadata": {},
   "outputs": [],
   "source": []
  }
 ],
 "metadata": {
  "kernelspec": {
   "display_name": "Python 3 (ipykernel)",
   "language": "python",
   "name": "python3"
  },
  "language_info": {
   "codemirror_mode": {
    "name": "ipython",
    "version": 3
   },
   "file_extension": ".py",
   "mimetype": "text/x-python",
   "name": "python",
   "nbconvert_exporter": "python",
   "pygments_lexer": "ipython3",
   "version": "3.9.10"
  }
 },
 "nbformat": 4,
 "nbformat_minor": 5
}
