{
 "cells": [
  {
   "cell_type": "code",
   "execution_count": 2,
   "id": "4ceae898-746b-4f81-8510-866934fb7d28",
   "metadata": {},
   "outputs": [
    {
     "name": "stdout",
     "output_type": "stream",
     "text": [
      "총매출: 145000\n",
      "순이익: 45000\n"
     ]
    }
   ],
   "source": [
    "ame = 2000\n",
    "cafelatte = 3500\n",
    "cappucino = 3500\n",
    "\n",
    "price = 20*ame + cafelatte*15 + cappucino*15\n",
    "print(\"총매출:\", price)\n",
    "print(\"순이익:\", price - 100000)"
   ]
  },
  {
   "cell_type": "code",
   "execution_count": 7,
   "id": "cd13bc2d-1612-4cce-a916-3f8d026bcc68",
   "metadata": {},
   "outputs": [
    {
     "name": "stdin",
     "output_type": "stream",
     "text": [
      "월 입력: 4\n"
     ]
    },
    {
     "name": "stdout",
     "output_type": "stream",
     "text": [
      "4월은 봄\n"
     ]
    }
   ],
   "source": [
    "month = int(input(\"월 입력:\"))\n",
    "if 3 <= month <= 5:\n",
    "    season = '봄'\n",
    "elif 6 <= month <= 8:\n",
    "    season = '여름'\n",
    "elif 9 <= month <= 11:\n",
    "    season = '가을'\n",
    "else:\n",
    "    season = '겨울'\n",
    "print('{}월은 {}'.format(month, season))"
   ]
  },
  {
   "cell_type": "code",
   "execution_count": 10,
   "id": "669442f3-0af7-4c33-8418-11f2a6b25afb",
   "metadata": {},
   "outputs": [],
   "source": [
    "import pandas as pd\n",
    "df = pd.DataFrame({'food':['버거킹', '맥도날드', '롯데리아'],\n",
    "                   'price':[5000, 4500, 4000],\n",
    "                   'rating':[5.0, 4.5, 4.3]})"
   ]
  },
  {
   "cell_type": "code",
   "execution_count": 11,
   "id": "8963788b-3f23-46b9-a17b-7083daeecc20",
   "metadata": {},
   "outputs": [
    {
     "data": {
      "text/html": [
       "<div>\n",
       "<style scoped>\n",
       "    .dataframe tbody tr th:only-of-type {\n",
       "        vertical-align: middle;\n",
       "    }\n",
       "\n",
       "    .dataframe tbody tr th {\n",
       "        vertical-align: top;\n",
       "    }\n",
       "\n",
       "    .dataframe thead th {\n",
       "        text-align: right;\n",
       "    }\n",
       "</style>\n",
       "<table border=\"1\" class=\"dataframe\">\n",
       "  <thead>\n",
       "    <tr style=\"text-align: right;\">\n",
       "      <th></th>\n",
       "      <th>food</th>\n",
       "      <th>price</th>\n",
       "      <th>rating</th>\n",
       "    </tr>\n",
       "  </thead>\n",
       "  <tbody>\n",
       "    <tr>\n",
       "      <th>0</th>\n",
       "      <td>버거킹</td>\n",
       "      <td>5000</td>\n",
       "      <td>5.0</td>\n",
       "    </tr>\n",
       "    <tr>\n",
       "      <th>1</th>\n",
       "      <td>맥도날드</td>\n",
       "      <td>4500</td>\n",
       "      <td>4.5</td>\n",
       "    </tr>\n",
       "    <tr>\n",
       "      <th>2</th>\n",
       "      <td>롯데리아</td>\n",
       "      <td>4000</td>\n",
       "      <td>4.3</td>\n",
       "    </tr>\n",
       "  </tbody>\n",
       "</table>\n",
       "</div>"
      ],
      "text/plain": [
       "   food  price  rating\n",
       "0   버거킹   5000     5.0\n",
       "1  맥도날드   4500     4.5\n",
       "2  롯데리아   4000     4.3"
      ]
     },
     "execution_count": 11,
     "metadata": {},
     "output_type": "execute_result"
    }
   ],
   "source": [
    "df"
   ]
  },
  {
   "cell_type": "code",
   "execution_count": null,
   "id": "e7300ce8-a577-4e3e-a80b-9575a4450cd5",
   "metadata": {},
   "outputs": [],
   "source": [
    "d"
   ]
  }
 ],
 "metadata": {
  "kernelspec": {
   "display_name": "Python 3 (ipykernel)",
   "language": "python",
   "name": "python3"
  },
  "language_info": {
   "codemirror_mode": {
    "name": "ipython",
    "version": 3
   },
   "file_extension": ".py",
   "mimetype": "text/x-python",
   "name": "python",
   "nbconvert_exporter": "python",
   "pygments_lexer": "ipython3",
   "version": "3.9.10"
  }
 },
 "nbformat": 4,
 "nbformat_minor": 5
}
