{
 "cells": [
  {
   "cell_type": "code",
   "execution_count": null,
   "id": "7d48eb2f-7a65-41c3-9ec0-78589ed30faa",
   "metadata": {},
   "outputs": [],
   "source": [
    "while True:\n",
    "    id=(input(\"주민등록번호 예시와 같이 입력해주세요(예시)001122-3\\n(종료:x)>>>\"))\n",
    "    if Num.lower()=='x':\n",
    "        break\n",
    "    elif len(Num)!=8:\n",
    "            print(\"주민등록번호를 다시 입력해주세요.\")\n",
    "    elif B<=0 or B>=13:\n",
    "            print(\"주민등록번호를 다시 입력해주세요.\")\n",
    "    else:\n",
    "        month = id[2:4]\n",
    "        year=id[7]\n",
    "        동물=int(Num[0:2])\n",
    "        별=int(Num[2:6])"
   ]
  },
  {
   "cell_type": "code",
   "execution_count": 1,
   "id": "5fde9f98-ea7f-4d94-af2b-283f40ca64bd",
   "metadata": {},
   "outputs": [
    {
     "name": "stdin",
     "output_type": "stream",
     "text": [
      "주민등록번호 예시와 같이 입력해주세요(예시)001122-3\n",
      "(종료:x)>>> 930116-1\n"
     ]
    }
   ],
   "source": [
    "id=(input(\"주민등록번호 예시와 같이 입력해주세요(예시)001122-3\\n(종료:x)>>>\"))"
   ]
  },
  {
   "cell_type": "code",
   "execution_count": 2,
   "id": "0c43bf26-738e-4ecc-8bb3-3ba25186eb61",
   "metadata": {},
   "outputs": [
    {
     "data": {
      "text/plain": [
       "'01'"
      ]
     },
     "execution_count": 2,
     "metadata": {},
     "output_type": "execute_result"
    }
   ],
   "source": [
    "id[2:4]"
   ]
  },
  {
   "cell_type": "code",
   "execution_count": 3,
   "id": "023817ba-0f2d-4823-b233-b1f5cfa3a27f",
   "metadata": {},
   "outputs": [
    {
     "data": {
      "text/plain": [
       "'93'"
      ]
     },
     "execution_count": 3,
     "metadata": {},
     "output_type": "execute_result"
    }
   ],
   "source": [
    "id[0:2]"
   ]
  },
  {
   "cell_type": "code",
   "execution_count": 4,
   "id": "ab328ef1-5a21-4671-9dbf-54a653fb3bbb",
   "metadata": {},
   "outputs": [
    {
     "data": {
      "text/plain": [
       "'1'"
      ]
     },
     "execution_count": 4,
     "metadata": {},
     "output_type": "execute_result"
    }
   ],
   "source": [
    "id[7]"
   ]
  },
  {
   "cell_type": "code",
   "execution_count": 5,
   "id": "aa955fbe-a97d-41d9-bac1-c82f6dbf052a",
   "metadata": {},
   "outputs": [
    {
     "data": {
      "text/plain": [
       "'0116'"
      ]
     },
     "execution_count": 5,
     "metadata": {},
     "output_type": "execute_result"
    }
   ],
   "source": [
    "id[2:6]"
   ]
  },
  {
   "cell_type": "code",
   "execution_count": null,
   "id": "3bac1590-c8a8-413d-9668-88885afef07b",
   "metadata": {},
   "outputs": [],
   "source": []
  }
 ],
 "metadata": {
  "kernelspec": {
   "display_name": "Python 3 (ipykernel)",
   "language": "python",
   "name": "python3"
  },
  "language_info": {
   "codemirror_mode": {
    "name": "ipython",
    "version": 3
   },
   "file_extension": ".py",
   "mimetype": "text/x-python",
   "name": "python",
   "nbconvert_exporter": "python",
   "pygments_lexer": "ipython3",
   "version": "3.9.10"
  }
 },
 "nbformat": 4,
 "nbformat_minor": 5
}
