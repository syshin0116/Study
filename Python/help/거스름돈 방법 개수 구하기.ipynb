{
 "cells": [
  {
   "cell_type": "code",
   "execution_count": 7,
   "id": "f541dda8-c20f-4e70-881f-dc796cc5282e",
   "metadata": {},
   "outputs": [
    {
     "name": "stdout",
     "output_type": "stream",
     "text": [
      "158\n"
     ]
    }
   ],
   "source": [
    "def coin(k, lst, n):\n",
    "    if(k == 0):\n",
    "        return 1\n",
    "    elif(n==0 or k<0):\n",
    "        return 0\n",
    "    else:\n",
    "        return coin(k, lst, n-1) + coin(k-lst[n-1], lst, n)\n",
    "arr = [10, 50, 100, 500]\n",
    "n = len(arr)\n",
    "print(coin(1000, arr, n))"
   ]
  },
  {
   "cell_type": "code",
   "execution_count": null,
   "id": "d3200801-25a6-40b5-b6bc-fb58277ba6f4",
   "metadata": {},
   "outputs": [],
   "source": []
  }
 ],
 "metadata": {
  "kernelspec": {
   "display_name": "Python 3 (ipykernel)",
   "language": "python",
   "name": "python3"
  },
  "language_info": {
   "codemirror_mode": {
    "name": "ipython",
    "version": 3
   },
   "file_extension": ".py",
   "mimetype": "text/x-python",
   "name": "python",
   "nbconvert_exporter": "python",
   "pygments_lexer": "ipython3",
   "version": "3.9.10"
  }
 },
 "nbformat": 4,
 "nbformat_minor": 5
}
