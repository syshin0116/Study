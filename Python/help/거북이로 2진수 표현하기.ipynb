{
 "cells": [
  {
   "cell_type": "code",
   "execution_count": 1,
   "id": "fddc7c9d-d0fb-421d-b0f0-08e47f026d04",
   "metadata": {},
   "outputs": [
    {
     "name": "stdin",
     "output_type": "stream",
     "text": [
      "첫 번째 숫자를 입력하세요:  2\n"
     ]
    },
    {
     "name": "stdout",
     "output_type": "stream",
     "text": [
      "2의 2진수: 10\n"
     ]
    },
    {
     "name": "stdin",
     "output_type": "stream",
     "text": [
      "두 번째 숫자를 입력하세요:  5\n"
     ]
    },
    {
     "name": "stdout",
     "output_type": "stream",
     "text": [
      "5의 2진수: 101\n",
      "2과 5의 비트 논리곱: 0\n"
     ]
    }
   ],
   "source": [
    "import turtle\n",
    "\n",
    "\n",
    "\n",
    "# 메인 코드 부분\n",
    "if __name__ == \"__main__\":\n",
    "    # 전역 선언 부분\n",
    "    width, height = 1000, 300\n",
    "    curX, curY = 0, 0\n",
    "\n",
    "    # turtle = turtle.Turtle()\n",
    "    # sc = turtle.Screen()\n",
    "    turtle.title('거북이로 2진수 표현하기')\n",
    "    turtle.shape('turtle')\n",
    "    turtle.setup(width + 50, height + 50)\n",
    "    turtle.screensize(width, height)\n",
    "    turtle.penup()\n",
    "    turtle.left(90)\n",
    "\n",
    "    # 첫 번째 숫자 입력받기\n",
    "    num1 = int(input(\"첫 번째 숫자를 입력하세요: \"))\n",
    "    이진수1 = bin(num1)[2:]\n",
    "    print(f\"{num1}의 2진수: {이진수1}\")\n",
    "    curX = width / 2\n",
    "    for i in range(len(이진수1)):\n",
    "        turtle.goto(curX, curY)\n",
    "        if 이진수1[i] == '1':\n",
    "            turtle.color('red')\n",
    "            turtle.turtlesize(2)\n",
    "        else:\n",
    "            turtle.color('blue')\n",
    "            turtle.turtlesize(1)\n",
    "        turtle.stamp()\n",
    "        curX -= 50\n",
    "\n",
    "    # 두 번째 숫자 입력받기\n",
    "    num2 = int(input(\"두 번째 숫자를 입력하세요: \"))\n",
    "    이진수2 = bin(num2)[2:]\n",
    "    print(f\"{num2}의 2진수: {이진수2}\")\n",
    "    curX = width / 2\n",
    "    curY -= 100\n",
    "    for i in range(len(이진수2)):\n",
    "        turtle.goto(curX, curY)\n",
    "        if 이진수2[i] == '1':\n",
    "            turtle.color('red')\n",
    "            turtle.turtlesize(2)\n",
    "        else:\n",
    "            turtle.color('blue')\n",
    "            turtle.turtlesize(1)\n",
    "        turtle.stamp()\n",
    "        curX -= 50\n",
    "\n",
    "    # 두 숫자의 비트 논리곱 구하기\n",
    "    bitwise_and = num1 & num2\n",
    "    이진수_and = bin(bitwise_and)[2:]\n",
    "    print(f\"{num1}과 {num2}의 비트 논리곱: {이진수_and}\")\n",
    "    curX = width / 2\n",
    "    curY -= 100\n",
    "    for i in range(len(이진수_and)):\n",
    "        turtle.goto(curX, curY)\n",
    "        if 이진수_and[i] == '1':\n",
    "            turtle.color('red')\n",
    "            turtle.turtlesize(2)\n",
    "        else:\n",
    "            turtle.color('blue')\n",
    "            turtle.turtlesize(1)\n",
    "        turtle.stamp()\n",
    "        curX -= 50\n",
    "\n",
    "    turtle.penup()\n",
    "    turtle.done()"
   ]
  },
  {
   "cell_type": "code",
   "execution_count": null,
   "id": "9c963878-5f92-45c5-8589-d64130b864eb",
   "metadata": {},
   "outputs": [],
   "source": []
  }
 ],
 "metadata": {
  "kernelspec": {
   "display_name": "Python 3 (ipykernel)",
   "language": "python",
   "name": "python3"
  },
  "language_info": {
   "codemirror_mode": {
    "name": "ipython",
    "version": 3
   },
   "file_extension": ".py",
   "mimetype": "text/x-python",
   "name": "python",
   "nbconvert_exporter": "python",
   "pygments_lexer": "ipython3",
   "version": "3.9.10"
  }
 },
 "nbformat": 4,
 "nbformat_minor": 5
}
