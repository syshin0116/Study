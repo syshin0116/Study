{
 "cells": [
  {
   "cell_type": "code",
   "execution_count": 1,
   "metadata": {},
   "outputs": [
    {
     "name": "stdout",
     "output_type": "stream",
     "text": [
      "asdf)\n"
     ]
    }
   ],
   "source": [
    "print(\"asdf)\")"
   ]
  },
  {
   "cell_type": "code",
   "execution_count": null,
   "metadata": {},
   "outputs": [],
   "source": [
    "import random  # 컴퓨터의 차례에서 난수를 생성하기 위해 random 모듈을 임포트\n",
    "\n",
    "# 게임 소개 및 규칙 출력\n",
    "print(\"베스킨라빈스 31 게임에 오신 것을 환영합니다!\")  \n",
    "print(\"규칙: 한 번에 1개에서 3개의 숫자를 말할 수 있습니다. 31을 말하면 집니다.\\n\")\n",
    "\n",
    "current_number = 0  # 게임의 현재 숫자를 저장하는 변수, 초기값은 0\n",
    "\n",
    "while current_number < 31:  # 현재 숫자가 31보다 작은 동안 게임 진행\n",
    "    # 사용자 차례\n",
    "    print(f\"현재 숫자: {current_number}\")  # 현재까지 진행된 숫자 출력\n",
    "    user_input = input(\"몇 개의 숫자를 말하시겠습니까? (1, 2, 3): \")  # 사용자가 말할 숫자의 개수를 입력받음\n",
    "\n",
    "    # 사용자가 1, 2, 3 이외의 숫자를 입력했는지 확인\n",
    "    if user_input not in ['1', '2', '3']:  \n",
    "        print(\"잘못된 입력입니다. 1, 2, 3 중 하나를 입력하세요.\")  # 오류 메시지 출력\n",
    "        continue  # 입력이 잘못되었으므로 다시 사용자 차례로 돌아감\n",
    "\n",
    "    user_input = int(user_input)  # 문자열로 입력받은 값을 정수로 변환\n",
    "    for i in range(1, user_input + 1):  # 사용자가 입력한 숫자만큼 반복\n",
    "        current_number += 1  # 현재 숫자를 하나씩 증가\n",
    "        print(f\"사용자: {current_number}\")  # 사용자가 말한 숫자를 출력\n",
    "        if current_number == 31:  # 현재 숫자가 31이라면\n",
    "            print(\"컴퓨터가 승리했습니다!\")  # 컴퓨터가 승리했음을 출력\n",
    "            exit()  # 게임 종료\n",
    "\n",
    "    # 컴퓨터 차례\n",
    "    computer_input = random.randint(1, 3)  # 컴퓨터가 1, 2, 3 중 랜덤한 숫자를 선택\n",
    "    print(f\"\\n컴퓨터가 {computer_input}개의 숫자를 말합니다.\")  # 컴퓨터의 선택을 출력\n",
    "    for i in range(1, computer_input + 1):  # 컴퓨터가 선택한 숫자만큼 반복\n",
    "        current_number += 1  # 현재 숫자를 하나씩 증가\n",
    "        print(f\"컴퓨터: {current_number}\")  # 컴퓨터가 말한 숫자를 출력\n",
    "        if current_number == 31:  # 현재 숫자가 31이라면\n",
    "            print(\"사용자가 승리했습니다!\")  # 사용자가 승리했음을 출력\n",
    "            exit()  # 게임 종료\n",
    "            \n",
    "            \n",
    "print(a)"
   ]
  }
 ],
 "metadata": {
  "kernelspec": {
   "display_name": "greentech",
   "language": "python",
   "name": "python3"
  },
  "language_info": {
   "codemirror_mode": {
    "name": "ipython",
    "version": 3
   },
   "file_extension": ".py",
   "mimetype": "text/x-python",
   "name": "python",
   "nbconvert_exporter": "python",
   "pygments_lexer": "ipython3",
   "version": "3.10.13"
  }
 },
 "nbformat": 4,
 "nbformat_minor": 2
}
