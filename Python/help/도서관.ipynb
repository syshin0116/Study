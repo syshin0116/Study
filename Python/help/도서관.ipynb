{
 "cells": [
  {
   "cell_type": "code",
   "execution_count": null,
   "id": "ba7931ea-31a1-49b6-8e93-bb831826b238",
   "metadata": {},
   "outputs": [
    {
     "name": "stdout",
     "output_type": "stream",
     "text": [
      "-------------------\n",
      "1. 도서 추가\n",
      "2. 도서검색 키워드\n",
      "3. 도서삭제\n",
      "4. 종료\n"
     ]
    }
   ],
   "source": [
    "menu = 0\n",
    "# 4개의 dict는 key가 author, publisher, year이고, 값이 title의 set인, 검색을 바로 실행하는 dict이다. 도서를 추가하거나 삭제할 때 작업을 해줘야 한다.\n",
    "books = dict()\n",
    "author_dict = dict()\n",
    "publisher_dict = dict()\n",
    "year_dict = dict()\n",
    "\n",
    "def book_print(title:str, d:dict) :\n",
    "    print('')\n",
    "    print(f\"제목 : {title}\")\n",
    "    print(f\"저자 : {d['author']}\")\n",
    "    print(f\"출판사: {d['publisher']}\")\n",
    "    print(f\"가격 : {d['price']}\")\n",
    "    print(f\"출판연도 : {d['year']}\")\n",
    "\n",
    "while menu != 4 :\n",
    "    print('-------------------')\n",
    "    print('1. 도서 추가')\n",
    "    print('2. 도서검색 키워드')\n",
    "    print('3. 도서삭제')\n",
    "    print('4. 종료')\n",
    "    menu = int(input(\"메뉴를 선택하시오: \"))\n",
    "      \n",
    "    if menu == 1:\n",
    "        title, author, publisher, price, year = input(\"추가할 도서정보를 입력하세요.\\n>>\").split()\n",
    "        books[title] = {'author': author, 'publisher': publisher, 'price' : price, 'year' : year}\n",
    "        print('도서가 추가되었습니다.')\n",
    "        for t, d in books.items():\n",
    "            book_print(t, d)\n",
    "        \n",
    "        if author in author_dict:\n",
    "            author_dict[author].add(title)\n",
    "        else:\n",
    "            author_dict[author] = {title}\n",
    "      \n",
    "        if publisher in publisher_dict:\n",
    "            publisher_dict[publisher].add(title)\n",
    "        else:\n",
    "            publisher_dict[publisher] = {title}\n",
    "\n",
    "        if year in year_dict:\n",
    "            year_dict[year].add(title)\n",
    "        else:\n",
    "            year_dict[year] = {title}\n",
    "        \n",
    "    \n",
    "    elif menu == 2:\n",
    "        a = int(input('검색키워드(도서명 : 1, 저자명 : 2, 출판사명 : 3, 출판연도 : 4)'))\n",
    "        \n",
    "        if a == 1 :\n",
    "            s_book = input('도서명 검색 :')\n",
    "            \n",
    "            if s_book in books:\n",
    "                book_print(s_book, books[s_book])\n",
    "        \n",
    "        elif a == 2 :\n",
    "            s_author = input('저자명 검색 :')\n",
    "            \n",
    "            if s_author in author_dict:\n",
    "                for t in author_dict[s_author]:\n",
    "                    book_print(t, books[t])\n",
    "       \n",
    "        elif a == 3 :\n",
    "            s_publisher = input('출판사명 검색 :')\n",
    "            \n",
    "            if s_publisher in publisher_dict:\n",
    "                for t in publisher_dict[s_publisher]:\n",
    "                    book_print(t, books[t]) \n",
    "        \n",
    "        elif a == 4:\n",
    "            s_year = input('출판연도 검색 :')\n",
    "            \n",
    "            if s_year in year_dict:\n",
    "                for t in year_dict[s_year]:\n",
    "                    book_print(t, books[t])\n",
    "                    \n",
    "    elif menu == 3:\n",
    "        input_str = input('삭제할 도서명과 저자명 입력하세요(입력 예시 : C언어 김귀정). ')\n",
    "        input_list = input_str.split(' ')\n",
    "        if len(input_list) == 1:\n",
    "            input_list.append('')\n",
    "        del_book = input_list[0]\n",
    "        del_author = input_list[1]\n",
    "        \n",
    "        if del_book in books and del_author in author_dict:\n",
    "            del books[del_book]\n",
    "\n",
    "            if len(author_dict[del_author]) > 1:\n",
    "                author_dict[del_author].discard(del_book)\n",
    "            else:\n",
    "                del author_dict[del_author]\n",
    "            \n",
    "        print('도서가 삭제되었습니다.')\n",
    "        for t, d in books.items():\n",
    "            book_print(t, d)"
   ]
  },
  {
   "cell_type": "code",
   "execution_count": 5,
   "id": "b5d5c316-526b-492d-b2a4-63e0078b5e4d",
   "metadata": {},
   "outputs": [
    {
     "name": "stdin",
     "output_type": "stream",
     "text": [
      "추가할 도서정보를 입력하세요.\n",
      ">> 1 2 3 4 5\n"
     ]
    }
   ],
   "source": [
    "books = dict()\n",
    "\n",
    "title, author, publisher, price, year = input(\"추가할 도서정보를 입력하세요.\\n>>\").split()\n",
    "books[title] = {'author': author, 'publisher': publisher, 'price' : price, 'year' : year}"
   ]
  },
  {
   "cell_type": "code",
   "execution_count": null,
   "id": "0a3483bc-5e4d-437a-b711-0726ba41f35e",
   "metadata": {},
   "outputs": [],
   "source": []
  }
 ],
 "metadata": {
  "kernelspec": {
   "display_name": "Python 3 (ipykernel)",
   "language": "python",
   "name": "python3"
  },
  "language_info": {
   "codemirror_mode": {
    "name": "ipython",
    "version": 3
   },
   "file_extension": ".py",
   "mimetype": "text/x-python",
   "name": "python",
   "nbconvert_exporter": "python",
   "pygments_lexer": "ipython3",
   "version": "3.9.10"
  }
 },
 "nbformat": 4,
 "nbformat_minor": 5
}
