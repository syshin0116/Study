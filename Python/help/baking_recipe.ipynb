{
 "cells": [
  {
   "cell_type": "code",
   "execution_count": 1,
   "id": "416694cc-4792-4d79-b5fe-ce7b47f5fe44",
   "metadata": {},
   "outputs": [
    {
     "name": "stdout",
     "output_type": "stream",
     "text": [
      "---------베이킹 계량 프로그램을 시작합니다-------------\n",
      "어떤 빵을 만들어볼까요?\n"
     ]
    },
    {
     "name": "stdin",
     "output_type": "stream",
     "text": [
      " 소금빵\n",
      "몇 개의 빵을 만드시겠습니까? 3\n"
     ]
    },
    {
     "name": "stdout",
     "output_type": "stream",
     "text": [
      "필요한 재료는 다음과 같습니다.\n",
      "물: 97.5\n",
      "우유: 37.5\n",
      "중력분: 225.0\n",
      "이스트: 3\n",
      "소금: 3.75\n",
      "설탕: 4.5\n",
      "버터: 7.5\n"
     ]
    }
   ],
   "source": [
    "# 기존 레시피\n",
    "baking_recipe = {\n",
    "    '소금빵': {\"물\": 130/4,\"우유\": 50/4,\"중력분\":300/4,\"이스트\":1,\"소금\": 5/4,\"설탕\": 6/4,\"버터\": 10/4},\n",
    "    '구름빵': {\"설탕\":30,\"전분\":10,\"달걀 흰자\":3},\n",
    "    '스콘': {\"중력분\" :40, \"베이킹파우더\" :1,\"무염버터\": 50/3,\"계란\": 10, \"우유\" :10,\"소금\":1/3}\n",
    "}\n",
    "\n",
    "#재료량 계산 함수\n",
    "def print_ingredients(bread):\n",
    "        cnt=int(input('몇 개의 빵을 만드시겠습니까?'))\n",
    "        print('필요한 재료는 다음과 같습니다.')\n",
    "        for ingredient, amount in baking_recipe[bread].items():\n",
    "            print(f'{ingredient}: {amount*cnt}')\n",
    "\n",
    "print('---------베이킹 계량 프로그램을 시작합니다-------------')\n",
    "print('어떤 빵을 만들어볼까요?')\n",
    "bread = input()\n",
    "\n",
    "if bread not in baking_recipe.keys():\n",
    "    ingredients = {}\n",
    "    print('중지를 원하면 x를 눌러주세요')\n",
    "    while True:\n",
    "        ingredients_key=input('재료명을 입력해주세요')\n",
    "        if ingredients_key ==\"x\":\n",
    "            break\n",
    "        ingredients_val=int(input('재료 (무게/개수)를 입력해주세요'))\n",
    "        ingredients[ingredients_key] = ingredients_val\n",
    "    baking_recipe[bread] = ingredients\n",
    "print_ingredients(bread)"
   ]
  },
  {
   "cell_type": "code",
   "execution_count": 17,
   "id": "72cde33e-9e53-4170-9f5c-1b3a2ba70111",
   "metadata": {},
   "outputs": [
    {
     "data": {
      "text/plain": [
       "{'물': 32.5,\n",
       " '우유': 12.5,\n",
       " '중력분': 75.0,\n",
       " '이스트': 1,\n",
       " '소금': 1.25,\n",
       " '설탕': 1.5,\n",
       " '버터': 2.5}"
      ]
     },
     "execution_count": 17,
     "metadata": {},
     "output_type": "execute_result"
    }
   ],
   "source": [
    "baking_recipe['소금빵']"
   ]
  },
  {
   "cell_type": "code",
   "execution_count": 10,
   "id": "25ef8c3c-ed73-49a3-8a07-07b82fc8a20a",
   "metadata": {},
   "outputs": [
    {
     "data": {
      "text/plain": [
       "dict_keys(['소금빵', '구름빵', '스콘'])"
      ]
     },
     "execution_count": 10,
     "metadata": {},
     "output_type": "execute_result"
    }
   ],
   "source": [
    "baking_list.keys()"
   ]
  },
  {
   "cell_type": "code",
   "execution_count": 13,
   "id": "9555e064-13de-476f-bfcb-c30756d99bf0",
   "metadata": {},
   "outputs": [
    {
     "data": {
      "text/plain": [
       "dict_values([{'물': 32.5, '우유': 12.5, '중력분': 75.0, '이스트': 1, '소금': 1.25, '설탕': 1.5, '버터': 2.5}, {'설탕': 30, '전분': 10, '달걀 흰자': 3}, {'중력분': 40, '베이킹파우더': 1, '무염버터': 16.666666666666668, '계란': 10, '우유': 10, '소금': 0.3333333333333333}])"
      ]
     },
     "execution_count": 13,
     "metadata": {},
     "output_type": "execute_result"
    }
   ],
   "source": [
    "baking_list.values()"
   ]
  },
  {
   "cell_type": "code",
   "execution_count": 32,
   "id": "7a1b74f8-8414-4b72-b16d-c10dab983ae7",
   "metadata": {},
   "outputs": [],
   "source": [
    "import heapq\n",
    "a = [1,2,3,5,4,6, -1, -5]\n",
    "heapq.heapify(a)"
   ]
  },
  {
   "cell_type": "code",
   "execution_count": 33,
   "id": "0ebbed7c-c199-44b5-90ab-eeda21879357",
   "metadata": {},
   "outputs": [
    {
     "data": {
      "text/plain": [
       "[-5, 1, -1, 2, 4, 6, 3, 5]"
      ]
     },
     "execution_count": 33,
     "metadata": {},
     "output_type": "execute_result"
    }
   ],
   "source": [
    "a"
   ]
  },
  {
   "cell_type": "code",
   "execution_count": 34,
   "id": "7ef6648c-f9cb-475c-8507-c3f7b0154b28",
   "metadata": {},
   "outputs": [],
   "source": [
    "a = list(a)\n",
    "a.remove(6)"
   ]
  },
  {
   "cell_type": "code",
   "execution_count": 35,
   "id": "164875b5-6831-4437-b9cb-a53fd453cca6",
   "metadata": {},
   "outputs": [
    {
     "data": {
      "text/plain": [
       "[-5, 1, -1, 2, 4, 3, 5]"
      ]
     },
     "execution_count": 35,
     "metadata": {},
     "output_type": "execute_result"
    }
   ],
   "source": [
    "a"
   ]
  },
  {
   "cell_type": "code",
   "execution_count": 36,
   "id": "7b17c9f1-fd55-4b05-982b-0fd099dc1281",
   "metadata": {},
   "outputs": [
    {
     "data": {
      "text/plain": [
       "5"
      ]
     },
     "execution_count": 36,
     "metadata": {},
     "output_type": "execute_result"
    }
   ],
   "source": [
    "max(a)"
   ]
  },
  {
   "cell_type": "code",
   "execution_count": 16,
   "id": "df63d656-13d0-45ea-b3fa-de41c720f869",
   "metadata": {},
   "outputs": [
    {
     "data": {
      "text/plain": [
       "-1"
      ]
     },
     "execution_count": 16,
     "metadata": {},
     "output_type": "execute_result"
    }
   ],
   "source": [
    "heapq.heappop(a)"
   ]
  },
  {
   "cell_type": "code",
   "execution_count": null,
   "id": "8d080fc7-44f9-4bb1-bc55-495dff2f9642",
   "metadata": {},
   "outputs": [],
   "source": []
  }
 ],
 "metadata": {
  "kernelspec": {
   "display_name": "Python 3 (ipykernel)",
   "language": "python",
   "name": "python3"
  },
  "language_info": {
   "codemirror_mode": {
    "name": "ipython",
    "version": 3
   },
   "file_extension": ".py",
   "mimetype": "text/x-python",
   "name": "python",
   "nbconvert_exporter": "python",
   "pygments_lexer": "ipython3",
   "version": "3.9.10"
  }
 },
 "nbformat": 4,
 "nbformat_minor": 5
}
