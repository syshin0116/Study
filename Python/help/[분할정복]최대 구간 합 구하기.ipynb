{
 "cells": [
  {
   "cell_type": "markdown",
   "id": "c4328ca5-3b36-4870-a4ff-f559dfdbe35f",
   "metadata": {},
   "source": [
    "# [AL]최대 구간 합 구하기(분할정복법)\n",
    "https://shoark7.github.io/programming/algorithm/4-ways-to-get-subarray-consecutive-sum"
   ]
  },
  {
   "cell_type": "markdown",
   "id": "f6f08468-4e9b-4923-b410-e9f35b063ea9",
   "metadata": {},
   "source": [
    "## 1. 완전탐색: $O(2^n)"
   ]
  },
  {
   "cell_type": "code",
   "execution_count": 1,
   "id": "eba99898-859a-48d3-96ab-b565aee5bc0b",
   "metadata": {},
   "outputs": [],
   "source": [
    "def exhaustive_search(A):\n",
    "    N = len(A)\n",
    "\n",
    "    def find(now, tmp_ans):\n",
    "        if now == N:\n",
    "            return MIN\n",
    "\n",
    "        ans = max(A[now], # 1. A의 현재 인덱스값 하나만 가지고 끝내는 경우(크기가 1인 부분수열의 합은 바로 자신\n",
    "                  tmp_ans + A[now], # 2. 지금까지 구해온 답에 현재 배열의 now 인덱스 값을 더해서 끝내는 경우\n",
    "                  find(now + 1, A[now]), # 3. 지금까지 만든 값을 버리고 현재 인덱스 값을 가지고 다시 시작하는 경우\n",
    "                  find(now + 1, tmp_ans + A[now])) # 4. 현재 값과 지금까지 만든 값을 포함해서 계속해서 답을 찾아나가는 경우\n",
    "        return ans\n",
    "\n",
    "    return find(0, 0)"
   ]
  },
  {
   "cell_type": "markdown",
   "id": "c4519b5b-996c-4635-843f-98de5084b523",
   "metadata": {},
   "source": [
    "## 2. 부분합 수열: $O(n^2)$"
   ]
  },
  {
   "cell_type": "code",
   "execution_count": 2,
   "id": "e25da43e-26a3-4c8b-9216-114810db9c1c",
   "metadata": {},
   "outputs": [],
   "source": [
    "def partial_sum(A):\n",
    "    # 1.\n",
    "    A = [0] + A\n",
    "    N = len(A)\n",
    "    p_sum = [0] * N\n",
    "    ans = MIN\n",
    "\n",
    "    # 2.\n",
    "    for i in range(1, N):\n",
    "        p_sum[i] = p_sum[i-1] + A[i]\n",
    "\n",
    "    # 3.\n",
    "    for j in range(1, N):\n",
    "        for i in range(1, j+1):\n",
    "            ans = max(ans, p_sum[j] - p_sum[i-1])\n",
    "\n",
    "    return ans"
   ]
  },
  {
   "cell_type": "markdown",
   "id": "539dbb27-0935-4096-8919-319984cfa70e",
   "metadata": {},
   "source": [
    "## 3. 분할정복:  $O(n\\log_{2}{n})$\n"
   ]
  },
  {
   "cell_type": "code",
   "execution_count": 3,
   "id": "3903abf9-c06d-477d-9419-84236652f796",
   "metadata": {},
   "outputs": [],
   "source": [
    "def divide_conquer(A):\n",
    "    N = len(A)\n",
    "    \n",
    "    # 분할과 정복을 동시에 수행하는 find 함수를 정의\n",
    "    def find(i, j):\n",
    "        \n",
    "        if i == j:\n",
    "            return A[i]\n",
    "\n",
    "        m = (i + j) // 2\n",
    "        # 입력 받은 구간의 왼쪽 절반에 답이 존재하는 경우(left), 오른쪽 절반에 존재하는 경우(right)\n",
    "        left = find(i, m)\n",
    "        right = find(m+1, j)\n",
    "\n",
    "        # 최대합이 두 구간에 걸쳐 있을 경우\n",
    "        tmp = 0\n",
    "        left = MIN\n",
    "        for i in range(m, i-1, -1):\n",
    "            tmp += A[i]\n",
    "            left = max(left, tmp)\n",
    "\n",
    "        tmp = 0\n",
    "        right = MIN\n",
    "        for i in range(m+1, j+1):\n",
    "            tmp += A[i]\n",
    "            right = max(right, tmp)\n",
    "\n",
    "        # 세 가지 경우의 수의 최대값\n",
    "        return max(left, right, left + right)\n",
    "\n",
    "    # 시작과 끝 인덱스를 넣고 함수 실행\n",
    "    return find(0, N-1)"
   ]
  },
  {
   "cell_type": "markdown",
   "id": "3bde8291-8815-41f1-9904-f3a1d0b5d075",
   "metadata": {},
   "source": [
    "## 4. 동적 계획법: $O(n)$"
   ]
  },
  {
   "cell_type": "code",
   "execution_count": 4,
   "id": "62772748-e5a7-4686-82ac-34f35af540ae",
   "metadata": {},
   "outputs": [],
   "source": [
    "def dynamic_programming(A):\n",
    "    cache = [None] * len(A)\n",
    "    # 1.\n",
    "    cache[0] = A[0]\n",
    "\n",
    "    # 2.\n",
    "    for i in range(1, len(A)):\n",
    "        cache[i] = max(0, cache[i-1]) + A[i]\n",
    "\n",
    "    return max(cache)"
   ]
  },
  {
   "cell_type": "code",
   "execution_count": 5,
   "id": "5113b1b9-0a83-416c-a6d5-003bd5edc428",
   "metadata": {},
   "outputs": [],
   "source": [
    "def test_results():\n",
    "    global MIN\n",
    "    A = list(map(int, input().split()))\n",
    "    MIN = -1000 * len(A) -1     # 입력 정수의 범위가 -1000~1000임을 이용해 구간합의 하한선 지정\n",
    "    print('결과:')\n",
    "    print('1. 완전탐색:\\t', exhaustive_search(A))\n",
    "    print('2. 부분합 수열:\\t', partial_sum(A))\n",
    "    print('3. 분할정복:\\t', divide_conquer(A))\n",
    "    print('4. 동적 계획법:\\t', dynamic_programming(A))"
   ]
  },
  {
   "cell_type": "code",
   "execution_count": 6,
   "id": "fcaaf4f9-c2db-48c8-b2fa-bddeea23d613",
   "metadata": {},
   "outputs": [
    {
     "name": "stdin",
     "output_type": "stream",
     "text": [
      " 0\n"
     ]
    },
    {
     "name": "stdout",
     "output_type": "stream",
     "text": [
      "결과:\n",
      "1. 완전탐색:\t 0\n",
      "2. 부분합 수열:\t 0\n",
      "3. 분할정복:\t 0\n",
      "4. 동적 계획법:\t 0\n"
     ]
    }
   ],
   "source": [
    "# 예시 1\n",
    "test_results()"
   ]
  },
  {
   "cell_type": "code",
   "execution_count": 7,
   "id": "bd067f57-c68e-4b54-a4b5-ca7bcdc70f55",
   "metadata": {},
   "outputs": [
    {
     "name": "stdin",
     "output_type": "stream",
     "text": [
      " 0\n"
     ]
    },
    {
     "name": "stdout",
     "output_type": "stream",
     "text": [
      "결과:\n",
      "1. 완전탐색:\t 0\n",
      "2. 부분합 수열:\t 0\n",
      "3. 분할정복:\t 0\n",
      "4. 동적 계획법:\t 0\n"
     ]
    }
   ],
   "source": [
    "# 예시 2\n",
    "test_results()"
   ]
  },
  {
   "cell_type": "code",
   "execution_count": 1,
   "id": "212def64-6f03-4b5e-8cdf-07c01a880f31",
   "metadata": {},
   "outputs": [
    {
     "name": "stdin",
     "output_type": "stream",
     "text": [
      " -1 3 2 -1 4 3 5 3 4 5 -2\n"
     ]
    },
    {
     "name": "stdout",
     "output_type": "stream",
     "text": [
      "28\n"
     ]
    }
   ],
   "source": [
    "def max_sum(A, left, right):\n",
    "    # 입력 정수의 범위가 -1000~1000임을 이용해 구간합의 하한선 지정\n",
    "    MIN = -1000 * len(A) -1    \n",
    "    \n",
    "    # 한개의 요소만 선택된 경우 합은 항상 선택된 수\n",
    "    if left == right:\n",
    "        return A[left]\n",
    "\n",
    "    m = (left + right) // 2\n",
    "    # 입력 받은 구간의 왼쪽 절반에 답이 존재하는 경우(left_half), 오른쪽 절반에 존재하는 경우(right_half) \n",
    "    # 재귀함수를 통해 반복\n",
    "    left_half = max_sum(A, left, m)\n",
    "    right_half = max_sum(A, m+1, right)\n",
    "\n",
    "    # 최대합이 두 구간에 걸쳐 있을 경우\n",
    "    tmp = 0\n",
    "    left_half = MIN\n",
    "    for i in range(m, left-1, -1):\n",
    "        tmp += A[i]\n",
    "        left_half = max(left_half, tmp)\n",
    "\n",
    "    tmp = 0\n",
    "    right_half = MIN\n",
    "    for i in range(m+1, right+1):\n",
    "        tmp += A[i]\n",
    "        right_half = max(right_half, tmp)\n",
    "\n",
    "    # 세 가지 경우의 수의 최대값\n",
    "    return max(left_half, right_half, left_half + right_half)\n",
    "\n",
    "A = [int(x) for x in input().split()]\n",
    "sol = max_sum(A, 0, len(A)-1)\n",
    "print(sol)"
   ]
  },
  {
   "cell_type": "code",
   "execution_count": null,
   "id": "8cca5b4a-d7d4-45f1-afdd-0f2e2b0e93ff",
   "metadata": {},
   "outputs": [],
   "source": []
  }
 ],
 "metadata": {
  "kernelspec": {
   "display_name": "Python 3 (ipykernel)",
   "language": "python",
   "name": "python3"
  },
  "language_info": {
   "codemirror_mode": {
    "name": "ipython",
    "version": 3
   },
   "file_extension": ".py",
   "mimetype": "text/x-python",
   "name": "python",
   "nbconvert_exporter": "python",
   "pygments_lexer": "ipython3",
   "version": "3.9.10"
  }
 },
 "nbformat": 4,
 "nbformat_minor": 5
}
