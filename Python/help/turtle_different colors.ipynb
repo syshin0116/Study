{
 "cells": [
  {
   "cell_type": "code",
   "execution_count": 4,
   "id": "e5f2ab24-9b05-45db-8142-5482997dc965",
   "metadata": {},
   "outputs": [
    {
     "ename": "Terminator",
     "evalue": "",
     "output_type": "error",
     "traceback": [
      "\u001b[0;31m---------------------------------------------------------------------------\u001b[0m",
      "\u001b[0;31mTerminator\u001b[0m                                Traceback (most recent call last)",
      "Input \u001b[0;32mIn [4]\u001b[0m, in \u001b[0;36m<cell line: 28>\u001b[0;34m()\u001b[0m\n\u001b[1;32m     25\u001b[0m r,g,b\u001b[38;5;241m=\u001b[39m\u001b[38;5;241m0.0\u001b[39m,\u001b[38;5;241m0.0\u001b[39m,\u001b[38;5;241m0.0\u001b[39m\n\u001b[1;32m     27\u001b[0m \u001b[38;5;66;03m#메인코드 부분\u001b[39;00m\n\u001b[0;32m---> 28\u001b[0m \u001b[43mturtle\u001b[49m\u001b[38;5;241;43m.\u001b[39;49m\u001b[43mtitle\u001b[49m\u001b[43m(\u001b[49m\u001b[38;5;124;43m'\u001b[39;49m\u001b[38;5;124;43m거북이로 그림그리기\u001b[39;49m\u001b[38;5;124;43m'\u001b[39;49m\u001b[43m)\u001b[49m\n\u001b[1;32m     29\u001b[0m turtle\u001b[38;5;241m.\u001b[39mshape(\u001b[38;5;124m'\u001b[39m\u001b[38;5;124mturtle\u001b[39m\u001b[38;5;124m'\u001b[39m)\n\u001b[1;32m     30\u001b[0m turtle\u001b[38;5;241m.\u001b[39mpensize(psize)\n",
      "File \u001b[0;32m<string>:5\u001b[0m, in \u001b[0;36mtitle\u001b[0;34m(titlestring)\u001b[0m\n",
      "\u001b[0;31mTerminator\u001b[0m: "
     ]
    }
   ],
   "source": [
    "import random\n",
    "import turtle\n",
    "\n",
    "#함수 선언 부분\n",
    "def screenleftclick(x,y):\n",
    "    global r,g,b\n",
    "    turtle.pencolor((r,g,b))\n",
    "    turtle.pendown()\n",
    "    turtle.goto(x,y)\n",
    "\n",
    "def screenrightclick(x,y):\n",
    "    turtle.penup()\n",
    "    turtle.goto(x,y)\n",
    "\n",
    "def screenmidclick(x,y):\n",
    "    global r,g,b\n",
    "    tsize=random.randrange(1,10)\n",
    "    turtle.shapesize(tsize)\n",
    "    r=random.random()\n",
    "    g=random.random()\n",
    "    b=random.random()\n",
    "\n",
    "#변수 선언 부분\n",
    "psize=10\n",
    "r,g,b=0.0,0.0,0.0\n",
    "\n",
    "#메인코드 부분\n",
    "turtle.title('거북이로 그림그리기')\n",
    "turtle.shape('turtle')\n",
    "turtle.pensize(psize)\n",
    "\n",
    "turtle.onscreenclick(screenleftclick,1)\n",
    "turtle.onscreenclick(screenmidclick,2)\n",
    "turtle.onscreenclick(screenrightclick,3)\n",
    "\n",
    "\n",
    "turtle.done()"
   ]
  },
  {
   "cell_type": "code",
   "execution_count": null,
   "id": "d7016afb-8509-43c6-850d-9b43e8c87815",
   "metadata": {},
   "outputs": [],
   "source": []
  },
  {
   "cell_type": "code",
   "execution_count": null,
   "id": "0b958bcc-65df-4e4b-92a7-43525da50155",
   "metadata": {},
   "outputs": [],
   "source": []
  }
 ],
 "metadata": {
  "kernelspec": {
   "display_name": "Python 3 (ipykernel)",
   "language": "python",
   "name": "python3"
  },
  "language_info": {
   "codemirror_mode": {
    "name": "ipython",
    "version": 3
   },
   "file_extension": ".py",
   "mimetype": "text/x-python",
   "name": "python",
   "nbconvert_exporter": "python",
   "pygments_lexer": "ipython3",
   "version": "3.9.10"
  }
 },
 "nbformat": 4,
 "nbformat_minor": 5
}
