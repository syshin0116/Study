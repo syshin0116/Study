{
 "cells": [
  {
   "cell_type": "code",
   "execution_count": null,
   "id": "0f22dbdd-1145-4f86-8d8b-8499355c28a8",
   "metadata": {},
   "outputs": [],
   "source": [
    "# 1. \n",
    "# input() 함수는 문자열 형태로 값을 리턴하기 때문에\n",
    "# 숫자와 비교하기 위해서는 int()함수로 정수 형태로 바꿔줘야한다\n",
    "\n",
    "if int(num1) > 0 and int(num2) > 0: # num1, num2를 정수형태로 바꾼 후 둘 다 0보다 크면 \n",
    "    print(\"두 입력값 모두 양수입니다.\")"
   ]
  },
  {
   "cell_type": "code",
   "execution_count": 1,
   "id": "528a275e-d447-4503-b8e4-ea5b69206509",
   "metadata": {},
   "outputs": [
    {
     "name": "stdin",
     "output_type": "stream",
     "text": [
      "월에 해당하는 정수를 입력하시오:  2\n"
     ]
    },
    {
     "name": "stdout",
     "output_type": "stream",
     "text": [
      "2 월은 겨울입니다.\n"
     ]
    }
   ],
   "source": [
    "# 2. \n",
    "month = input(\"월에 해당하는 정수를 입력하시오: \")\n",
    "month = int(month)\n",
    "if month in [3,4,5]:\n",
    "    season = '봄'\n",
    "elif month in [6,7,8]:\n",
    "    season = '여름'\n",
    "elif month in [9,10,11]:\n",
    "    season = '가을'\n",
    "else:\n",
    "    season = '겨울'\n",
    "\n",
    "print(f'{month} 월은 {season}입니다.')"
   ]
  },
  {
   "cell_type": "code",
   "execution_count": null,
   "id": "b38cc9f2-3375-49d3-8cd5-3b4cd5206a69",
   "metadata": {},
   "outputs": [],
   "source": [
    "a= float(input (\"첫번째 숫자를 입력하시오: \"))\n",
    "y = 0\n",
    "if a > 0:\n",
    "    y = y + 5\n",
    "b = float(input (\"두번째 숫자를 입력하시오: \"))\n",
    "if not (a > 0):\n",
    "    print(\"안녕\")\n",
    "if a <= 0:\n",
    "    print(str (-1.0 * a))\n",
    "print(y)"
   ]
  },
  {
   "cell_type": "code",
   "execution_count": 2,
   "id": "3e878dd3-c6ab-48a9-aaf6-be59c9f345f9",
   "metadata": {},
   "outputs": [
    {
     "name": "stdin",
     "output_type": "stream",
     "text": [
      "첫번째 숫자를 입력하시오:  -2.0\n",
      "두번째 숫자를 이볅하시오:  5.0\n"
     ]
    },
    {
     "name": "stdout",
     "output_type": "stream",
     "text": [
      "안녕\n",
      "2.0\n",
      "0\n"
     ]
    }
   ],
   "source": [
    "a = float(input(\"첫번째 숫자를 입력하시오: \"))\n",
    "b = float(input(\"두번째 숫자를 이볅하시오: \"))\n",
    "y = 0\n",
    "if a>0:\n",
    "    y+=5\n",
    "else: \n",
    "    print(\"안녕\")\n",
    "    print(str(-1.0 * a))\n",
    "print(y)\n",
    "    "
   ]
  },
  {
   "cell_type": "code",
   "execution_count": 4,
   "id": "c69f98e4-4b91-4d60-9c8b-366665942f54",
   "metadata": {},
   "outputs": [
    {
     "name": "stdin",
     "output_type": "stream",
     "text": [
      " 1\n"
     ]
    },
    {
     "name": "stdout",
     "output_type": "stream",
     "text": [
      "1 는 3의 배수가 아닙니다.\n"
     ]
    },
    {
     "name": "stdin",
     "output_type": "stream",
     "text": [
      " 2\n"
     ]
    },
    {
     "name": "stdout",
     "output_type": "stream",
     "text": [
      "2 는 3의 배수가 아닙니다.\n"
     ]
    },
    {
     "name": "stdin",
     "output_type": "stream",
     "text": [
      " 3\n"
     ]
    },
    {
     "name": "stdout",
     "output_type": "stream",
     "text": [
      "3 는 3의 배수입니다.\n"
     ]
    },
    {
     "name": "stdin",
     "output_type": "stream",
     "text": [
      " 4\n"
     ]
    },
    {
     "name": "stdout",
     "output_type": "stream",
     "text": [
      "4 는 3의 배수가 아닙니다.\n"
     ]
    },
    {
     "name": "stdin",
     "output_type": "stream",
     "text": [
      " 5\n"
     ]
    },
    {
     "name": "stdout",
     "output_type": "stream",
     "text": [
      "5 는 3의 배수가 아닙니다.\n"
     ]
    },
    {
     "name": "stdin",
     "output_type": "stream",
     "text": [
      " 6\n"
     ]
    },
    {
     "name": "stdout",
     "output_type": "stream",
     "text": [
      "6 는 3의 배수입니다.\n"
     ]
    },
    {
     "name": "stdin",
     "output_type": "stream",
     "text": [
      " 7\n"
     ]
    },
    {
     "name": "stdout",
     "output_type": "stream",
     "text": [
      "7 는 3의 배수가 아닙니다.\n"
     ]
    },
    {
     "name": "stdin",
     "output_type": "stream",
     "text": [
      " 8\n"
     ]
    },
    {
     "name": "stdout",
     "output_type": "stream",
     "text": [
      "8 는 3의 배수가 아닙니다.\n"
     ]
    },
    {
     "name": "stdin",
     "output_type": "stream",
     "text": [
      " 9\n"
     ]
    },
    {
     "name": "stdout",
     "output_type": "stream",
     "text": [
      "9 는 3의 배수입니다.\n"
     ]
    },
    {
     "name": "stdin",
     "output_type": "stream",
     "text": [
      " 10\n"
     ]
    },
    {
     "name": "stdout",
     "output_type": "stream",
     "text": [
      "10 는 3의 배수가 아닙니다.\n"
     ]
    }
   ],
   "source": [
    "for i in range(-5, 6):\n",
    "    x = int(input())\n",
    "    if x == 0:\n",
    "        print(\"Zero\")\n",
    "    elif x % 3 == 0:\n",
    "        print(x, \"는 3의 배수입니다.\")\n",
    "    else:\n",
    "        print(x, \"는 3의 배수가 아닙니다.\")\n"
   ]
  },
  {
   "cell_type": "code",
   "execution_count": 5,
   "id": "ea50f273-a8c1-4338-96f5-219bfaef707f",
   "metadata": {},
   "outputs": [
    {
     "name": "stdin",
     "output_type": "stream",
     "text": [
      " 1\n"
     ]
    },
    {
     "name": "stdout",
     "output_type": "stream",
     "text": [
      "1 는 3의 배수가 아닙니다.\n"
     ]
    },
    {
     "name": "stdin",
     "output_type": "stream",
     "text": [
      " 2\n"
     ]
    },
    {
     "name": "stdout",
     "output_type": "stream",
     "text": [
      "2 는 3의 배수가 아닙니다.\n"
     ]
    },
    {
     "name": "stdin",
     "output_type": "stream",
     "text": [
      " 3\n"
     ]
    },
    {
     "name": "stdout",
     "output_type": "stream",
     "text": [
      "3 는 3의 배수입니다.\n"
     ]
    },
    {
     "name": "stdin",
     "output_type": "stream",
     "text": [
      " 4\n"
     ]
    },
    {
     "name": "stdout",
     "output_type": "stream",
     "text": [
      "4 는 3의 배수가 아닙니다.\n"
     ]
    },
    {
     "name": "stdin",
     "output_type": "stream",
     "text": [
      " 5\n"
     ]
    },
    {
     "name": "stdout",
     "output_type": "stream",
     "text": [
      "5 는 3의 배수가 아닙니다.\n"
     ]
    },
    {
     "name": "stdin",
     "output_type": "stream",
     "text": [
      " 6\n"
     ]
    },
    {
     "name": "stdout",
     "output_type": "stream",
     "text": [
      "6 는 3의 배수입니다.\n"
     ]
    },
    {
     "name": "stdin",
     "output_type": "stream",
     "text": [
      " 7\n"
     ]
    },
    {
     "name": "stdout",
     "output_type": "stream",
     "text": [
      "7 는 3의 배수가 아닙니다.\n"
     ]
    },
    {
     "name": "stdin",
     "output_type": "stream",
     "text": [
      " 8\n"
     ]
    },
    {
     "name": "stdout",
     "output_type": "stream",
     "text": [
      "8 는 3의 배수가 아닙니다.\n"
     ]
    },
    {
     "name": "stdin",
     "output_type": "stream",
     "text": [
      " 9\n"
     ]
    },
    {
     "name": "stdout",
     "output_type": "stream",
     "text": [
      "9 는 3의 배수입니다.\n"
     ]
    },
    {
     "name": "stdin",
     "output_type": "stream",
     "text": [
      " 10\n"
     ]
    },
    {
     "name": "stdout",
     "output_type": "stream",
     "text": [
      "10 는 3의 배수가 아닙니다.\n"
     ]
    },
    {
     "name": "stdin",
     "output_type": "stream",
     "text": [
      " 11\n"
     ]
    },
    {
     "name": "stdout",
     "output_type": "stream",
     "text": [
      "11 는 3의 배수가 아닙니다.\n"
     ]
    }
   ],
   "source": [
    "i = -5\n",
    "\n",
    "while True:\n",
    "    x = int(input())\n",
    "    if x == 0:\n",
    "        print(\"Zeor\")\n",
    "    elif x % 3 == 0:\n",
    "        print(x, \"는 3의 배수입니다.\")\n",
    "    else:\n",
    "        print(x, \"는 3의 배수가 아닙니다.\")\n",
    "    i+=1\n",
    "    if i > 5: break"
   ]
  },
  {
   "cell_type": "code",
   "execution_count": 9,
   "id": "d8cc3e67-cf95-4dbe-8a86-8b62eb6e1d01",
   "metadata": {},
   "outputs": [
    {
     "name": "stdout",
     "output_type": "stream",
     "text": [
      "S = 1 + 3 + 5 + 7 + 9 + 11 + 13 + 15 + 17 + 19 + 21 + 23 + 25 + 27 + 29 + 31 + 33 + 35 + 37 + 39 + 41 + 43 + 45 + 47 + 49 + 51 + 53 + 55 + 57 + 59 + 61 + 63 + 65 + 67 + 69 + 71 + 73 + 75 + 77 + 79 + 81 + 83 + 85 + 87 + 89 + 91 + 93 + 95 + 97 + 99 = 2500\n"
     ]
    }
   ],
   "source": [
    "print('S = ', end='')\n",
    "total = 0\n",
    "for i in range(1, 100, 2):\n",
    "    if i == 99: print(i, end=' ')\n",
    "    else:print(i, '+ ', end='')\n",
    "    total += i\n",
    "print('=', total)"
   ]
  },
  {
   "cell_type": "code",
   "execution_count": 14,
   "id": "9456b55a-712a-4df9-aa38-4f35b92c88c6",
   "metadata": {},
   "outputs": [
    {
     "name": "stdout",
     "output_type": "stream",
     "text": [
      "5 5 5 5 5 \n",
      "4 4 4 4 \n",
      "3 3 3 \n",
      "2 2 \n",
      "1 \n"
     ]
    }
   ],
   "source": [
    "for i in range(5):\n",
    "    for j in range(5-i):\n",
    "        print(5-i, end=' ')\n",
    "    print()"
   ]
  },
  {
   "cell_type": "code",
   "execution_count": null,
   "id": "660e5bbe-d036-4767-b1ab-8f2de44c6b1a",
   "metadata": {},
   "outputs": [],
   "source": []
  }
 ],
 "metadata": {
  "kernelspec": {
   "display_name": "Python 3 (ipykernel)",
   "language": "python",
   "name": "python3"
  },
  "language_info": {
   "codemirror_mode": {
    "name": "ipython",
    "version": 3
   },
   "file_extension": ".py",
   "mimetype": "text/x-python",
   "name": "python",
   "nbconvert_exporter": "python",
   "pygments_lexer": "ipython3",
   "version": "3.9.10"
  }
 },
 "nbformat": 4,
 "nbformat_minor": 5
}
