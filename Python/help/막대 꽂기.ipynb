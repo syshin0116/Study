{
 "cells": [
  {
   "cell_type": "markdown",
   "id": "9b869905-a420-4fbe-bcd4-94ef01de22ce",
   "metadata": {},
   "source": [
    "- n 개의 막대가 입력으로 주어질 때, 오직 하나의 못(pin)만을 사용해 가능하면 많은 개수의 막대를 꽂으려고 한다. 아래 그림에서는 붉은색 위치에 핀을 꽂으면 8개의 막대까지 꽂을 수 있다\n",
    "- 여러분은 하나의 핀만으로 꽂을 수 있는 최대 막대 수를 계산해 출력해야 한다\n",
    "    - [주의] 못이 막대의 끝을 통과하더라도 꽂은 것으로 간주한다.\n",
    "    - 아래 그림은 두 번째 샘플 데이터 케이스를 그린 것이다\n",
    "    - 못이 막대의 여러 끝 점을 지날 수도 있기에 이런 예외적인 경우를 주의해서 구현해야 한다\n",
    "\n",
    "입력:\n",
    "- 첫 줄에는 값 n 이 주어진다.\n",
    "    - n 은 1 이상 100,000 이다\n",
    "- 둘째 줄부터 n 개의 구간의 왼쪽 끝 점 a 와 오른쪽 끝 점 b 의 좌표 값이 차례대로 주어진다 \n",
    "    - 이 두 값의 범위는 0 이상 200,000 이하이며, 항상 2 < b 이다\n",
    "- 동일한 끝 점을 갖는 구간이 두 개 이상 나타날 수 있다\n",
    "• 출력: 한 개의 못으로 꽃을 수 있는 최대 막대 개수\n",
    "• 주석: 자신의 알고리즘을 간략히 설명하고, 수행 시간을 분석하세요. 수행 시간이 빠를 수록 좋다!"
   ]
  },
  {
   "cell_type": "raw",
   "id": "d3365018-49c0-46ce-918c-03c31d3c576e",
   "metadata": {},
   "source": [
    "입력:\n",
    "10\n",
    "2 3\n",
    "2 4\n",
    "3 5\n",
    "4 6\n",
    "5 6\n",
    "6 7\n",
    "7 9\n",
    "9 10\n",
    "10 11\n",
    "10 12\n",
    "\n",
    "출력:\n",
    "3"
   ]
  },
  {
   "cell_type": "raw",
   "id": "91412c6c-109c-42e3-9799-6c378f27d887",
   "metadata": {},
   "source": [
    "입력:\n",
    "10\n",
    "7 9\n",
    "4 9\n",
    "2 6\n",
    "7 12\n",
    "6 7\n",
    "5 9\n",
    "3 5\n",
    "7 11\n",
    "6 10\n",
    "6 8\n",
    "\n",
    "출력:\n",
    "8"
   ]
  },
  {
   "cell_type": "raw",
   "id": "62ddff19-f0d6-4739-8e96-b0aab8df5b5a",
   "metadata": {},
   "source": [
    "입력:\n",
    "10\n",
    "11 23\n",
    "8 20\n",
    "13 27\n",
    "5 10\n",
    "12 25\n",
    "9 14\n",
    "14 22\n",
    "3 13\n",
    "2 10\n",
    "9 16\n",
    "\n",
    "출력:\n",
    "7"
   ]
  },
  {
   "cell_type": "code",
   "execution_count": 28,
   "id": "59a71ec0-2b09-47d8-8aa8-5a83ab6569ea",
   "metadata": {},
   "outputs": [
    {
     "name": "stdout",
     "output_type": "stream",
     "text": [
      "[2, 3, 4, 5, 6, 7, 8, 9, 10, 3, 4, 5, 6, 7, 8, 9, 10, 11, 12, 13, 5, 6, 7, 8, 9, 10, 8, 9, 10, 11, 12, 13, 14, 15, 16, 17, 18, 19, 20, 9, 10, 11, 12, 13, 14, 9, 10, 11, 12, 13, 14, 15, 16, 11, 12, 13, 14, 15, 16, 17, 18, 19, 20, 21, 22, 23, 12, 13, 14, 15, 16, 17, 18, 19, 20, 21, 22, 23, 24, 25, 13, 14, 15, 16, 17, 18, 19, 20, 21, 22, 23, 24, 25, 26, 27, 14, 15, 16, 17, 18, 19, 20, 21, 22]\n",
      "Counter({13: 7, 14: 7, 9: 6, 10: 6, 12: 6, 15: 6, 16: 6, 11: 5, 17: 5, 18: 5, 19: 5, 20: 5, 8: 4, 21: 4, 22: 4, 5: 3, 6: 3, 7: 3, 23: 3, 3: 2, 4: 2, 24: 2, 25: 2, 2: 1, 26: 1, 27: 1})\n",
      "7\n"
     ]
    }
   ],
   "source": [
    "from collections import Counter\n",
    "\n",
    "# n = int(input())\n",
    "# intervals = []\n",
    "# for _ in range(n):\n",
    "#     a, b = map(int, input().split())\n",
    "#     intervals.append((a, b))\n",
    "\n",
    "# intervals = [(2, 3), (2, 4), (3, 5), (4, 6), (5, 6), (6, 7), (7, 9), (9, 10), (10, 11), (10, 12)] # 3\n",
    "# intervals = [(7, 9), (4, 9), (2, 6), (7, 12), (6, 7), (5, 9), (3, 5), (7, 11), (6, 10), (6, 8)] # 8\n",
    "intervals = [(2, 10), (3, 13), (5, 10), (8, 20), (9, 14), (9, 16), (11, 23), (12, 25), (13, 27), (14, 22)] # 7\n",
    "flattened_list = []\n",
    "for a, b in intervals:\n",
    "    flattened_list.extend([x for x in range(a, b+1)])\n",
    "    \n",
    "print(flattened_list)\n",
    "counts = Counter(flattened_list)\n",
    "print(counts)\n",
    "print(counts.most_common(1)[0][1])\n"
   ]
  },
  {
   "cell_type": "code",
   "execution_count": 17,
   "id": "9f717228-9827-4c14-af49-e0bb34508a20",
   "metadata": {
    "tags": []
   },
   "outputs": [
    {
     "name": "stdin",
     "output_type": "stream",
     "text": [
      " 10\n",
      " 7 9\n",
      " 4 9\n",
      " 2 6\n",
      " 7 12\n",
      " 6 7\n",
      " 5 9\n",
      " 3 5\n",
      " 7 11\n",
      " 6 10\n",
      " 6 8\n"
     ]
    },
    {
     "name": "stdout",
     "output_type": "stream",
     "text": [
      "[(7, 9), (4, 9), (2, 6), (7, 12), (6, 7), (5, 9), (3, 5), (7, 11), (6, 10), (6, 8)]\n",
      "3\n"
     ]
    }
   ],
   "source": [
    "n = int(input())\n",
    "intervals = []\n",
    "for _ in range(n):\n",
    "    a, b = map(int, input().split())\n",
    "    intervals.append((a, b))\n",
    "print(intervals)\n",
    "\n",
    "intervals.sort(key=lambda x: x[0])  # 왼쪽 끝을 기준으로 구간 정렬\n",
    "max_count = 0\n",
    "current_pin = 0\n",
    "\n",
    "for interval in intervals:\n",
    "    if interval[0] >= current_pin:\n",
    "        current_pin = interval[1]\n",
    "        max_count += 1\n",
    "\n",
    "print(max_count)\n"
   ]
  },
  {
   "cell_type": "code",
   "execution_count": 6,
   "id": "5ea63536-fcd6-40df-bcc6-86fff2449ead",
   "metadata": {},
   "outputs": [
    {
     "name": "stdout",
     "output_type": "stream",
     "text": [
      "[2, 3, 2, 3, 4, 3, 4, 5, 4, 5, 6, 5, 6, 6, 7, 7, 8, 9, 9, 10, 10, 11, 10, 11, 12]\n",
      "The most common number is: 3\n"
     ]
    }
   ],
   "source": [
    "from collections import Counter\n",
    "\n",
    "data = [[2, 3], [2, 3, 4], [3, 4, 5], [4, 5, 6], [5, 6], [6, 7], [7, 8, 9], [9, 10], [10, 11], [10, 11, 12]]\n",
    "\n",
    "# Step 1: Flatten the list of sublists\n",
    "flattened_list = [num for sublist in data for num in sublist]\n",
    "\n",
    "print(flattened_list)\n",
    "# Step 2: Count the occurrences of each number\n",
    "counts = Counter(flattened_list)\n",
    "\n",
    "# Step 3: Find the number with the highest count\n",
    "most_common_number = counts.most_common(1)[0][0]\n",
    "\n",
    "print(\"The most common number is:\", most_common_number)"
   ]
  },
  {
   "cell_type": "code",
   "execution_count": null,
   "id": "e23daa85-e959-4eae-ba9a-f8e42d0a9c6a",
   "metadata": {},
   "outputs": [],
   "source": [
    "from collections import Counter\n",
    "\n",
    "n = int(input())\n",
    "intervals = []\n",
    "for _ in range(n):\n",
    "    a, b = map(int, input().split())\n",
    "    intervals.append((a, b))\n",
    "\n",
    "# # intervals = [(2, 3), (2, 4), (3, 5), (4, 6), (5, 6), (6, 7), (7, 9), (9, 10), (10, 11), (10, 12)] # 3\n",
    "# # intervals = [(7, 9), (4, 9), (2, 6), (7, 12), (6, 7), (5, 9), (3, 5), (7, 11), (6, 10), (6, 8)] # 8\n",
    "# intervals = [(2, 10), (3, 13), (5, 10), (8, 20), (9, 14), (9, 16), (11, 23), (12, 25), (13, 27), (14, 22)] # 7\n",
    "flattened_list = []\n",
    "for a, b in intervals:\n",
    "    flattened_list.extend([x for x in range(a, b+1)])\n",
    "    \n",
    "print(flattened_list)\n",
    "counts = Counter(flattened_list)\n",
    "print(counts)\n",
    "print(counts.most_common(1)[0][1])\n"
   ]
  },
  {
   "cell_type": "code",
   "execution_count": 29,
   "id": "483ad7a0-f162-4f24-9b42-7b077e4b0c74",
   "metadata": {},
   "outputs": [
    {
     "name": "stdin",
     "output_type": "stream",
     "text": [
      " 10\n",
      " 2 3\n",
      " 2 4\n",
      " 3 5\n",
      " 4 6\n",
      " 5 6\n",
      " 6 7\n",
      " 7 9\n",
      " 9 10\n",
      " 10 11\n",
      " 10 12\n"
     ]
    },
    {
     "name": "stdout",
     "output_type": "stream",
     "text": [
      "The most common number is: 3\n",
      "Count: 3\n"
     ]
    }
   ],
   "source": [
    "from collections import defaultdict\n",
    "\n",
    "n = int(input()) \n",
    "intervals = []\n",
    "\n",
    "# 입력 받은 막대 개수만큼 두 쌍의 숫자들를 입력받아 intervals에 저장\n",
    "for _ in range(n):\n",
    "    a, b = map(int, input().split())\n",
    "    intervals.append((a, b))\n",
    "\n",
    "    \n",
    "# 중복 숫자 개수를 저장할 defaultdict\n",
    "counts = defaultdict(int)  \n",
    "\n",
    "\n",
    "# 막대 양 끝 숫자 사이 숫자들의 count를 올려준다\n",
    "for a, b in intervals:\n",
    "    for num in range(a, b+1):\n",
    "        counts[num] += 1\n",
    "\n",
    "# 개수 확인\n",
    "most_common_number = max(counts, key=counts.get)\n",
    "most_common_count = counts[most_common_number]\n",
    "\n",
    "\n",
    "print(most_common_count)\n"
   ]
  },
  {
   "cell_type": "code",
   "execution_count": null,
   "id": "135a8849-1468-430d-9760-a035a0150362",
   "metadata": {},
   "outputs": [],
   "source": []
  }
 ],
 "metadata": {
  "kernelspec": {
   "display_name": "Python 3 (ipykernel)",
   "language": "python",
   "name": "python3"
  },
  "language_info": {
   "codemirror_mode": {
    "name": "ipython",
    "version": 3
   },
   "file_extension": ".py",
   "mimetype": "text/x-python",
   "name": "python",
   "nbconvert_exporter": "python",
   "pygments_lexer": "ipython3",
   "version": "3.9.10"
  }
 },
 "nbformat": 4,
 "nbformat_minor": 5
}
