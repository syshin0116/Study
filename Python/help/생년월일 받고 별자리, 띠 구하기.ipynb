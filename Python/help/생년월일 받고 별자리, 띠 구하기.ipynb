{
 "cells": [
  {
   "cell_type": "code",
   "execution_count": 1,
   "id": "555bd5bb-a134-495d-9e3f-48a4bb33de83",
   "metadata": {},
   "outputs": [],
   "source": [
    "def cal_birthyear_gender(id_num):\n",
    "    num = int(id_num[0:2])\n",
    "    check = int(id_num[7])\n",
    "    if check in [1,2,5,6]:\n",
    "        birth_year = 1900 + num\n",
    "    else:\n",
    "        birth_year = 2000+ num\n",
    "    if check in [1,3,5,7]:\n",
    "        gender = '남자'\n",
    "    else:\n",
    "        gender = '여자'\n",
    "    return birth_year, gender"
   ]
  },
  {
   "cell_type": "code",
   "execution_count": 2,
   "id": "6911aff5-af30-43ab-aeaa-c394cf6896f8",
   "metadata": {},
   "outputs": [],
   "source": [
    "def cal_constellation(id_num):\n",
    "    star = int(id_num[2:6])\n",
    "    if 120<=star<=218:\n",
    "        constellation=\"물병\"\n",
    "    elif 219<=star<=320:\n",
    "        constellation=\"물고기\"\n",
    "    elif 321<=star<=419:\n",
    "        constellation=\"양\"\n",
    "    elif 420<=star<=520:\n",
    "        constellation=\"황소\"\n",
    "    elif 521<=star<=621:\n",
    "        constellation=\"쌍둥이\"\n",
    "    elif 622<=star<=722:\n",
    "        constellation=\"게\"\n",
    "    elif 723<=star<=822:\n",
    "        constellation=\"사자\"\n",
    "    elif 823<=star<=923:\n",
    "        별자constellation리=\"처녀\"\n",
    "    elif 924<=star<=1022:\n",
    "        constellation=\"천칭\"\n",
    "    elif 1023<=star<=1122:\n",
    "        constellation=\"전갈\"\n",
    "    elif 1123<=star<=1224:\n",
    "        constellation=\"사수\"\n",
    "    elif 1224<=star or star <=119:\n",
    "        constellation=\"염소\"\n",
    "    else: constellation=\"error\"\n",
    "    \n",
    "    return constellation"
   ]
  },
  {
   "cell_type": "code",
   "execution_count": 3,
   "id": "62eedcec-4e0b-45d8-9d1c-2f06561d4273",
   "metadata": {
    "tags": []
   },
   "outputs": [],
   "source": [
    "def cal_zodiac(birth_year):\n",
    "    num = birth_year%12\n",
    "    if num==0:\n",
    "        zodiac = \"원숭이\"\n",
    "    elif num==1:\n",
    "        zodiac = \"닭\"\n",
    "    elif num==2:\n",
    "        zodiac = \"개\"\n",
    "    elif num==3:\n",
    "        zodiac = \"돼지\"\n",
    "    elif num==4:\n",
    "        zodiac = \"쥐\"\n",
    "    elif num==5:\n",
    "        zodiac = \"소\"\n",
    "    elif num==6:\n",
    "        zodiac = \"범\"\n",
    "    elif num==7:\n",
    "        zodiac = \"토끼\"\n",
    "    elif num==8:\n",
    "        zodiac = \"용\"\n",
    "    elif num==9:\n",
    "        zodiac = \"뱀\"\n",
    "    elif num==10:\n",
    "        zodiac = \"말\"\n",
    "    else:\n",
    "        zodiac = \"양\"\n",
    "    return zodiac"
   ]
  },
  {
   "cell_type": "code",
   "execution_count": null,
   "id": "b932b576-2b2a-413e-a552-b1ca8f1c2b72",
   "metadata": {},
   "outputs": [
    {
     "name": "stdin",
     "output_type": "stream",
     "text": [
      "주민등록번호 예시와 같이 입력해주세요(예시)001122-3\n",
      "(종료:x)>>> 001122-3\n"
     ]
    },
    {
     "name": "stdout",
     "output_type": "stream",
     "text": [
      "당신의 성별은 남자, 2000년도에 태어났습니다.\n",
      "별자리는 전갈자리이고, 띠는 용띠 입니다.\n"
     ]
    }
   ],
   "source": [
    "while True:\n",
    "    id_num=input(\"주민등록번호 예시와 같이 입력해주세요(예시)001122-3\\n(종료:x)>>>\")\n",
    "    if id_num.lower()=='x':\n",
    "        break\n",
    "    elif len(id_num)!=8:\n",
    "            print(\"주민등록번호를 다시 입력해주세요.\")\n",
    "    else:\n",
    "        birth_year, gender = cal_birthyear_gender(id_num)\n",
    "        constellation = cal_constellation(id_num)\n",
    "        zodiac = cal_zodiac(birth_year)\n",
    "        print(f'당신의 성별은 {gender}, {birth_year}년도에 태어났습니다.')\n",
    "        print(f'별자리는 {constellation}자리이고, 띠는 {zodiac}띠 입니다.')\n",
    "        print()"
   ]
  },
  {
   "cell_type": "code",
   "execution_count": null,
   "id": "8f54b86c-b1c3-4c2d-baad-d3d6119843cb",
   "metadata": {},
   "outputs": [],
   "source": []
  }
 ],
 "metadata": {
  "kernelspec": {
   "display_name": "Python 3 (ipykernel)",
   "language": "python",
   "name": "python3"
  },
  "language_info": {
   "codemirror_mode": {
    "name": "ipython",
    "version": 3
   },
   "file_extension": ".py",
   "mimetype": "text/x-python",
   "name": "python",
   "nbconvert_exporter": "python",
   "pygments_lexer": "ipython3",
   "version": "3.9.10"
  }
 },
 "nbformat": 4,
 "nbformat_minor": 5
}
