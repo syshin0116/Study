{
 "cells": [
  {
   "cell_type": "code",
   "execution_count": 2,
   "id": "a4f3a73f-4d19-4df1-b9d3-54a8a6f91845",
   "metadata": {},
   "outputs": [
    {
     "name": "stdout",
     "output_type": "stream",
     "text": [
      "['John Doe', 'Adam Johnson', 'Alice Johnson', 'Bob Smith', 'Jane Smith']\n"
     ]
    }
   ],
   "source": [
    "def bubble_sort_names(names):\n",
    "    # iterate through the list of names\n",
    "    for i in range(len(names)):\n",
    "        # iterate through the list of names from the second element to the end\n",
    "        for j in range(1, len(names) - i):\n",
    "            # split the first and second names by space\n",
    "            first_name1, last_name1 = names[j - 1].split(\" \")\n",
    "            first_name2, last_name2 = names[j].split(\" \")\n",
    "            # compare last names\n",
    "            if last_name1 > last_name2:\n",
    "                # swap the positions of the names if the last name of the first name is greater than the last name of the second name\n",
    "                names[j - 1], names[j] = names[j], names[j - 1]\n",
    "            elif last_name1 == last_name2:\n",
    "                # if the last names are the same, compare the first names\n",
    "                if first_name1 > first_name2:\n",
    "                    # swap the positions of the names if the first name of the first name is greater than the first name of the second name\n",
    "                    names[j - 1], names[j] = names[j], names[j - 1]\n",
    "    return names\n",
    "\n",
    "# example usage\n",
    "names = [\"John Doe\", \"Jane Smith\", \"Adam Johnson\", \"Bob Smith\", \"Alice Johnson\"]\n",
    "sorted_names = bubble_sort_names(names)\n",
    "print(sorted_names)\n"
   ]
  },
  {
   "cell_type": "code",
   "execution_count": 3,
   "id": "da8a1dd8-dd9e-4275-bf6b-5b35c39bf262",
   "metadata": {},
   "outputs": [
    {
     "ename": "NameError",
     "evalue": "name 'name' is not defined",
     "output_type": "error",
     "traceback": [
      "\u001b[0;31m---------------------------------------------------------------------------\u001b[0m",
      "\u001b[0;31mNameError\u001b[0m                                 Traceback (most recent call last)",
      "Input \u001b[0;32mIn [3]\u001b[0m, in \u001b[0;36m<cell line: 23>\u001b[0;34m()\u001b[0m\n\u001b[1;32m     20\u001b[0m     \u001b[38;5;28mprint\u001b[39m(N)\n\u001b[1;32m     21\u001b[0m     N\n\u001b[0;32m---> 23\u001b[0m \u001b[43mmain\u001b[49m\u001b[43m(\u001b[49m\u001b[43m)\u001b[49m\n",
      "Input \u001b[0;32mIn [3]\u001b[0m, in \u001b[0;36mmain\u001b[0;34m()\u001b[0m\n\u001b[1;32m     14\u001b[0m \u001b[38;5;28;01mdef\u001b[39;00m \u001b[38;5;21mmain\u001b[39m():\n\u001b[1;32m     15\u001b[0m     N \u001b[38;5;241m=\u001b[39m [\u001b[38;5;124m\"\u001b[39m\u001b[38;5;124mChris Terman\u001b[39m\u001b[38;5;124m\"\u001b[39m, \u001b[38;5;124m\"\u001b[39m\u001b[38;5;124mDaseong Han\u001b[39m\u001b[38;5;124m\"\u001b[39m, \u001b[38;5;124m\"\u001b[39m\u001b[38;5;124mTom Grimson\u001b[39m\u001b[38;5;124m\"\u001b[39m,\n\u001b[1;32m     16\u001b[0m          \u001b[38;5;124m\"\u001b[39m\u001b[38;5;124mEric Herman\u001b[39m\u001b[38;5;124m\"\u001b[39m, \u001b[38;5;124m\"\u001b[39m\u001b[38;5;124mJoseph Shin\u001b[39m\u001b[38;5;124m\"\u001b[39m, \u001b[38;5;124m\"\u001b[39m\u001b[38;5;124mJohn Brady\u001b[39m\u001b[38;5;124m\"\u001b[39m]\n\u001b[0;32m---> 17\u001b[0m     N \u001b[38;5;241m=\u001b[39m \u001b[43mbubble_sort\u001b[49m\u001b[43m(\u001b[49m\u001b[43mN\u001b[49m\u001b[43m,\u001b[49m\u001b[43m \u001b[49m\u001b[43mcmp_names\u001b[49m\u001b[43m)\u001b[49m\n\u001b[1;32m     18\u001b[0m     N\u001b[38;5;241m.\u001b[39msort()\n\u001b[1;32m     19\u001b[0m     \u001b[38;5;28mprint\u001b[39m(N\u001b[38;5;241m.\u001b[39msort())\n",
      "Input \u001b[0;32mIn [3]\u001b[0m, in \u001b[0;36mbubble_sort\u001b[0;34m(L, func)\u001b[0m\n\u001b[1;32m      8\u001b[0m         i1 \u001b[38;5;241m=\u001b[39m (end\u001b[38;5;241m-\u001b[39m\u001b[38;5;241m1\u001b[39m) \u001b[38;5;241m-\u001b[39m (j\u001b[38;5;241m+\u001b[39m\u001b[38;5;241m1\u001b[39m) \u001b[38;5;66;03m#CHANGE\u001b[39;00m\n\u001b[1;32m      9\u001b[0m         i2 \u001b[38;5;241m=\u001b[39m (end\u001b[38;5;241m-\u001b[39m\u001b[38;5;241m1\u001b[39m) \u001b[38;5;241m-\u001b[39m j \u001b[38;5;66;03m#CHANGE\u001b[39;00m\n\u001b[0;32m---> 10\u001b[0m         \u001b[38;5;28;01mif\u001b[39;00m \u001b[43mfunc\u001b[49m\u001b[43m(\u001b[49m\u001b[43mL\u001b[49m\u001b[43m[\u001b[49m\u001b[43mi1\u001b[49m\u001b[43m]\u001b[49m\u001b[43m,\u001b[49m\u001b[43m \u001b[49m\u001b[43mL\u001b[49m\u001b[43m[\u001b[49m\u001b[43mi2\u001b[49m\u001b[43m]\u001b[49m\u001b[43m)\u001b[49m:\n\u001b[1;32m     11\u001b[0m             L[i1], L[i2] \u001b[38;5;241m=\u001b[39m L[i2], L[i1] \u001b[38;5;66;03m#CHANGE\u001b[39;00m\n\u001b[1;32m     12\u001b[0m \u001b[38;5;28;01mreturn\u001b[39;00m L\n",
      "Input \u001b[0;32mIn [3]\u001b[0m, in \u001b[0;36mcmp_names\u001b[0;34m(name1, name2)\u001b[0m\n\u001b[1;32m      1\u001b[0m \u001b[38;5;28;01mdef\u001b[39;00m \u001b[38;5;21mcmp_names\u001b[39m(name1, name2):\n\u001b[0;32m----> 2\u001b[0m     \u001b[38;5;28;01mreturn\u001b[39;00m \u001b[43mname\u001b[49m[\u001b[38;5;241m1\u001b[39m] \u001b[38;5;241m>\u001b[39m name[\u001b[38;5;241m0\u001b[39m]\n",
      "\u001b[0;31mNameError\u001b[0m: name 'name' is not defined"
     ]
    }
   ],
   "source": [
    "def cmp_names(name1, name2):\n",
    "    return name[1] > name[0] \n",
    "\n",
    "def bubble_sort(L, func):\n",
    "    end = len(L) #CHANGE\n",
    "    for i in range(end-1): #CHANGE\n",
    "        for j in range(end-1-i): #CHANGE\n",
    "            i1 = (end-1) - (j+1) #CHANGE\n",
    "            i2 = (end-1) - j #CHANGE\n",
    "            if func(L[i1], L[i2]):\n",
    "                L[i1], L[i2] = L[i2], L[i1] #CHANGE\n",
    "    return L\n",
    "\n",
    "def main():\n",
    "    N = [\"Chris Terman\", \"Daseong Han\", \"Tom Grimson\",\n",
    "         \"Eric Herman\", \"Joseph Shin\", \"John Brady\"]\n",
    "    N = bubble_sort(N, cmp_names)\n",
    "    N.sort()\n",
    "    print(N.sort())\n",
    "    print(N)\n",
    "    N\n",
    "\n",
    "main()"
   ]
  },
  {
   "cell_type": "code",
   "execution_count": 21,
   "id": "8ed7cb9e-2d62-4c1d-8d0f-a14919a16edf",
   "metadata": {},
   "outputs": [
    {
     "name": "stdout",
     "output_type": "stream",
     "text": [
      "['John Brady', 'Tom Grimson', 'Daseong Han', 'Eric Herman', 'Joseph Shin', 'Chris Terman']\n"
     ]
    }
   ],
   "source": [
    "def cmp_names(name1, name2):\n",
    "    name1_first, name1_last = name1.split(\" \")\n",
    "    name2_first, name2_last = name2.split(\" \")\n",
    "    if name1_last > name2_last:\n",
    "        return True\n",
    "    elif name1_last == name2_last:\n",
    "        if name1_first > name2_first:\n",
    "            return True\n",
    "    return False\n",
    "\n",
    "def bubble_sort(L, func):\n",
    "    end = len(L) #CHANGE\n",
    "    for i in range(end-1): #CHANGE\n",
    "        for j in range(end-1-i): #CHANGE\n",
    "            i1 = (end-1) - (j+1) #CHANGE\n",
    "            i2 = (end-1) - j #CHANGE\n",
    "            if func(L[i1], L[i2]):\n",
    "                L[i1], L[i2] = L[i2], L[i1] #CHANGE\n",
    "    return L\n",
    "\n",
    "def main():\n",
    "    N = [\"Chris Terman\", \"Daseong Han\", \"Tom Grimson\",\n",
    "         \"Eric Herman\", \"Joseph Shin\", \"John Brady\"]\n",
    "    N = bubble_sort(N, cmp_names)\n",
    "    print(N) \n",
    "\n",
    "main()"
   ]
  },
  {
   "cell_type": "code",
   "execution_count": 11,
   "id": "56d4f68d-96f0-43df-84a6-dd3c81df7467",
   "metadata": {},
   "outputs": [],
   "source": [
    "N = [\"Chris Terman\", \"Daseong Han\", \"Tom Grimson\",\n",
    "         \"Eric Herman\", \"Joseph Shin\", \"John Brady\"]"
   ]
  },
  {
   "cell_type": "code",
   "execution_count": 23,
   "id": "82f6f275-57b0-4685-bfa4-4b64c355a757",
   "metadata": {},
   "outputs": [
    {
     "name": "stdout",
     "output_type": "stream",
     "text": [
      "['John Brady', 'Tom Grimson', 'Daseong Han', 'Eric Herman', 'Joseph Shin', 'Chris Terman']\n"
     ]
    }
   ],
   "source": [
    "print(bubble_sort(N, cmp_names))"
   ]
  },
  {
   "cell_type": "code",
   "execution_count": null,
   "id": "bb166608-57fd-4cbd-9e46-4f3ab9ecef5b",
   "metadata": {},
   "outputs": [],
   "source": []
  }
 ],
 "metadata": {
  "kernelspec": {
   "display_name": "Python 3 (ipykernel)",
   "language": "python",
   "name": "python3"
  },
  "language_info": {
   "codemirror_mode": {
    "name": "ipython",
    "version": 3
   },
   "file_extension": ".py",
   "mimetype": "text/x-python",
   "name": "python",
   "nbconvert_exporter": "python",
   "pygments_lexer": "ipython3",
   "version": "3.9.10"
  }
 },
 "nbformat": 4,
 "nbformat_minor": 5
}
