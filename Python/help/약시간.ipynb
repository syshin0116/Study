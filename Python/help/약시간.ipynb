{
 "cells": [
  {
   "cell_type": "code",
   "execution_count": 7,
   "id": "9de85b08-51ba-4aa1-9e51-9d4e07fda517",
   "metadata": {},
   "outputs": [
    {
     "name": "stdin",
     "output_type": "stream",
     "text": [
      " 9\n",
      " 20\n",
      " 72\n",
      " 7\n"
     ]
    },
    {
     "name": "stdout",
     "output_type": "stream",
     "text": [
      "\n",
      "09:20 Carrot Time!\n",
      "10:32 Carrot Time!\n",
      "11:44 Carrot Time!\n",
      "12:56 Carrot Time!\n",
      "14:08 Carrot Time!\n",
      "15:20 Carrot Time!\n",
      "16:32 Carrot Time!\n"
     ]
    }
   ],
   "source": [
    "hour = int(input())\n",
    "minute = int(input())\n",
    "step = int(input())\n",
    "total = int(input())\n",
    "\n",
    "count = 0\n",
    "print()\n",
    "for i in range(total):\n",
    "    if hour >= 22:\n",
    "        break\n",
    "    count += 1\n",
    "    print(\"%02d:%02d Carrot Time!\" %(hour,minute))\n",
    "    minute += step\n",
    "    if minute >= 60:\n",
    "        hour += minute//60\n",
    "        minute %= 60\n",
    "\n",
    "if count < total:\n",
    "    print(\"Emergency!\")"
   ]
  }
 ],
 "metadata": {
  "kernelspec": {
   "display_name": "Python 3 (ipykernel)",
   "language": "python",
   "name": "python3"
  },
  "language_info": {
   "codemirror_mode": {
    "name": "ipython",
    "version": 3
   },
   "file_extension": ".py",
   "mimetype": "text/x-python",
   "name": "python",
   "nbconvert_exporter": "python",
   "pygments_lexer": "ipython3",
   "version": "3.9.10"
  }
 },
 "nbformat": 4,
 "nbformat_minor": 5
}
