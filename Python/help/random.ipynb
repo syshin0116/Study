{
 "cells": [
  {
   "cell_type": "code",
   "execution_count": 2,
   "metadata": {},
   "outputs": [
    {
     "name": "stdout",
     "output_type": "stream",
     "text": [
      "판별식: 4\n",
      "x² + 4x + 3 = 0의 해: (-1.0, -3.0)\n"
     ]
    }
   ],
   "source": [
    "import math\n",
    "\n",
    "# 계수 정의\n",
    "a = 1\n",
    "b = 4\n",
    "c = 3\n",
    "\n",
    "# 판별식 계산\n",
    "discriminant = b**2 - 4 * a * c\n",
    "print(f\"판별식: {discriminant}\")\n",
    "\n",
    "# 판별식이 0보다 작으면 실수 해가 없음\n",
    "if discriminant < 0:\n",
    "    print(\"실수 해가 없습니다.\")\n",
    "else:\n",
    "    # 두 개의 해 계산\n",
    "    x1 = (-b + math.sqrt(discriminant)) / (2 * a)\n",
    "    x2 = (-b - math.sqrt(discriminant)) / (2 * a)\n",
    "\n",
    "    print(f\"x² + 4x + 3 = 0의 해: ({x1}, {x2})\")"
   ]
  },
  {
   "cell_type": "code",
   "execution_count": 5,
   "metadata": {},
   "outputs": [
    {
     "name": "stdout",
     "output_type": "stream",
     "text": [
      "-1.0, -3.0\n"
     ]
    }
   ],
   "source": [
    "a = 1\n",
    "b = 4\n",
    "c = 3\n",
    "\n",
    "d = b**2 - 4 * a * c\n",
    "\n",
    "x1 = (-b + d**0.5) / (2 * a)\n",
    "x2 = (-b - d**0.5) / (2 * a)\n",
    "\n",
    "print(f\"{x1}, {x2}\")"
   ]
  },
  {
   "cell_type": "code",
   "execution_count": 8,
   "metadata": {},
   "outputs": [
    {
     "name": "stdout",
     "output_type": "stream",
     "text": [
      "-1.0\n"
     ]
    }
   ],
   "source": [
    "print((-b+((b**2-4*a*c)**0.5))/2*a)"
   ]
  },
  {
   "cell_type": "code",
   "execution_count": 11,
   "metadata": {},
   "outputs": [
    {
     "name": "stdout",
     "output_type": "stream",
     "text": [
      "-1.0\n"
     ]
    }
   ],
   "source": [
    "print((-b + (b**2 - 4 * a * c) ** (1 / 2)) / (2 * a))"
   ]
  },
  {
   "cell_type": "code",
   "execution_count": null,
   "metadata": {},
   "outputs": [],
   "source": []
  }
 ],
 "metadata": {
  "kernelspec": {
   "display_name": "pdf-loader-oJYlJ6ZH-py3.11",
   "language": "python",
   "name": "python3"
  },
  "language_info": {
   "codemirror_mode": {
    "name": "ipython",
    "version": 3
   },
   "file_extension": ".py",
   "mimetype": "text/x-python",
   "name": "python",
   "nbconvert_exporter": "python",
   "pygments_lexer": "ipython3",
   "version": "3.11.5"
  }
 },
 "nbformat": 4,
 "nbformat_minor": 2
}
