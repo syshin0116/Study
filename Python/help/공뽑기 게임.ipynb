{
 "cells": [
  {
   "cell_type": "code",
   "execution_count": null,
   "id": "e5900c7d-378d-43ec-a7fe-c220829c5207",
   "metadata": {},
   "outputs": [
    {
     "name": "stdin",
     "output_type": "stream",
     "text": [
      " HEART\n",
      " RED\n",
      " 2\n",
      " HEART\n",
      " GREEN\n"
     ]
    }
   ],
   "source": [
    "p1_type = input()\n",
    "p1_color = input()\n",
    "p1_number = int(input())\n",
    "\n",
    "p2_type = input()\n",
    "p2_color = input()\n",
    "p2_number = int(input())\n",
    "\n",
    "def score(ball_type, ball_color, ball_number):\n",
    "    if ball_type == 'HEART' and ball_color == 'RED':\n",
    "        score = ball_number * 2\n",
    "    elif ball_type == 'CLOVER' and ball_color == 'RED':\n",
    "        score = 0\n",
    "    elif ball_type == 'HEART' and ball_color == 'GREEN':\n",
    "        score = ball_number - 1\n",
    "    elif ball_type == 'CLOVER' and ball_color == 'GREEN':\n",
    "        score = ball_number + 2\n",
    "    return score\n",
    "p1_score = score(p1_type, p1_color, p1_number)\n",
    "p2_score = score(p2_type, p2_color, p2_number)\n",
    "\n",
    "if p1_score > p2_score:\n",
    "    print('player1 win, player2 lose')\n",
    "elif p1_score == p2_score:\n",
    "    print('draw')\n",
    "else:\n",
    "    print('player1 lose, player2 win')"
   ]
  },
  {
   "cell_type": "code",
   "execution_count": null,
   "id": "2e4e0b44-346b-4052-9215-05f5de7ff34b",
   "metadata": {},
   "outputs": [],
   "source": []
  }
 ],
 "metadata": {
  "kernelspec": {
   "display_name": "Python 3 (ipykernel)",
   "language": "python",
   "name": "python3"
  },
  "language_info": {
   "codemirror_mode": {
    "name": "ipython",
    "version": 3
   },
   "file_extension": ".py",
   "mimetype": "text/x-python",
   "name": "python",
   "nbconvert_exporter": "python",
   "pygments_lexer": "ipython3",
   "version": "3.9.10"
  }
 },
 "nbformat": 4,
 "nbformat_minor": 5
}
