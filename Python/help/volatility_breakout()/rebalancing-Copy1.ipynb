{
 "cells": [
  {
   "cell_type": "code",
   "execution_count": 1,
   "id": "e70b2b09-4dd2-4921-b0c5-746cef02b707",
   "metadata": {},
   "outputs": [],
   "source": [
    "import numpy as np\n",
    "import pandas as pd\n",
    "import datetime\n",
    "import pyupbit\n",
    "import importlib"
   ]
  },
  {
   "cell_type": "code",
   "execution_count": 2,
   "id": "86639387-7b7c-4d54-9c16-1f5e47a4cbf6",
   "metadata": {},
   "outputs": [
    {
     "name": "stdout",
     "output_type": "stream",
     "text": [
      "--2023-06-08 20:23:42--  https://esohn.be/python/trading_helper.py\n",
      "Resolving esohn.be (esohn.be)... 18.64.8.126, 18.64.8.120, 18.64.8.8, ...\n",
      "Connecting to esohn.be (esohn.be)|18.64.8.126|:443... connected.\n",
      "HTTP request sent, awaiting response... 200 OK\n",
      "Length: 6252 (6.1K) [text/x-python]\n",
      "Saving to: ‘trading_helper.py’\n",
      "\n",
      "trading_helper.py   100%[===================>]   6.11K  --.-KB/s    in 0s      \n",
      "\n",
      "2023-06-08 20:23:42 (139 MB/s) - ‘trading_helper.py’ saved [6252/6252]\n",
      "\n",
      "Trading Helper Version: 2023.05.15-v1\n"
     ]
    }
   ],
   "source": [
    "# trading_helper 설치 및 버전 확인\n",
    "\n",
    "!wget https://esohn.be/python/trading_helper.py -O trading_helper.py\n",
    "\n",
    "import trading_helper\n",
    "import importlib\n",
    "importlib.reload(trading_helper)\n",
    "\n",
    "print( f'Trading Helper Version: {trading_helper.TRADING_HELPER_VERSION}'  )"
   ]
  },
  {
   "cell_type": "code",
   "execution_count": 3,
   "id": "fa66eb8e-965c-4f62-801d-da3a55ad37c9",
   "metadata": {},
   "outputs": [
    {
     "name": "stdout",
     "output_type": "stream",
     "text": [
      "Log updated! (2023-1 YCS1009-01 박희영)\n"
     ]
    }
   ],
   "source": [
    "# ------------------------------------------------------------------------------------------------------\n",
    "# https://esohn.be/account 의 AUTH CODE 로 실행 로그 기록\n",
    "# ------------------------------------------------------------------------------------------------------\n",
    "\n",
    "'''\n",
    "AUTH_CODE = 'f587ea651febd5446efc61d5e3fef123'  -> 아래에 이렇게 auth code를 붙여넣으세요.\n",
    "'''\n",
    "AUTH_CODE = '2b435454dd9860ceba97f35f7aa030f0'\n",
    "\n",
    "# Do not edit\n",
    "trading_helper.set_auth_code( AUTH_CODE )\n"
   ]
  },
  {
   "cell_type": "code",
   "execution_count": 8,
   "id": "0568d0bc-67c1-4a56-ab9b-989fda333afd",
   "metadata": {},
   "outputs": [
    {
     "data": {
      "text/html": [
       "<div>\n",
       "<style scoped>\n",
       "    .dataframe tbody tr th:only-of-type {\n",
       "        vertical-align: middle;\n",
       "    }\n",
       "\n",
       "    .dataframe tbody tr th {\n",
       "        vertical-align: top;\n",
       "    }\n",
       "\n",
       "    .dataframe thead th {\n",
       "        text-align: right;\n",
       "    }\n",
       "</style>\n",
       "<table border=\"1\" class=\"dataframe\">\n",
       "  <thead>\n",
       "    <tr style=\"text-align: right;\">\n",
       "      <th></th>\n",
       "      <th>Unnamed: 0</th>\n",
       "      <th>index</th>\n",
       "      <th>price_btc</th>\n",
       "      <th>price_eth</th>\n",
       "      <th>price_doge</th>\n",
       "      <th>price_ada</th>\n",
       "      <th>bal_krw</th>\n",
       "      <th>bal_btc</th>\n",
       "      <th>bal_eth</th>\n",
       "      <th>bal_doge</th>\n",
       "      <th>...</th>\n",
       "      <th>bal2_ada</th>\n",
       "      <th>target_btc</th>\n",
       "      <th>target_eth</th>\n",
       "      <th>target_doge</th>\n",
       "      <th>target_ada</th>\n",
       "      <th>trade_btc</th>\n",
       "      <th>trade_eth</th>\n",
       "      <th>trade_doge</th>\n",
       "      <th>trade_ada</th>\n",
       "      <th>value</th>\n",
       "    </tr>\n",
       "  </thead>\n",
       "  <tbody>\n",
       "    <tr>\n",
       "      <th>0</th>\n",
       "      <td>0</td>\n",
       "      <td>2022-05-01 09:00:00</td>\n",
       "      <td>49283000.0</td>\n",
       "      <td>3570000.0</td>\n",
       "      <td>166.0</td>\n",
       "      <td>996.0</td>\n",
       "      <td>0</td>\n",
       "      <td>0</td>\n",
       "      <td>0</td>\n",
       "      <td>0</td>\n",
       "      <td>...</td>\n",
       "      <td>0</td>\n",
       "      <td>0</td>\n",
       "      <td>0</td>\n",
       "      <td>0</td>\n",
       "      <td>0</td>\n",
       "      <td>0</td>\n",
       "      <td>0</td>\n",
       "      <td>0</td>\n",
       "      <td>0</td>\n",
       "      <td>0</td>\n",
       "    </tr>\n",
       "    <tr>\n",
       "      <th>1</th>\n",
       "      <td>1</td>\n",
       "      <td>2022-05-02 09:00:00</td>\n",
       "      <td>49383000.0</td>\n",
       "      <td>3625000.0</td>\n",
       "      <td>170.0</td>\n",
       "      <td>1010.0</td>\n",
       "      <td>0</td>\n",
       "      <td>0</td>\n",
       "      <td>0</td>\n",
       "      <td>0</td>\n",
       "      <td>...</td>\n",
       "      <td>0</td>\n",
       "      <td>0</td>\n",
       "      <td>0</td>\n",
       "      <td>0</td>\n",
       "      <td>0</td>\n",
       "      <td>0</td>\n",
       "      <td>0</td>\n",
       "      <td>0</td>\n",
       "      <td>0</td>\n",
       "      <td>0</td>\n",
       "    </tr>\n",
       "    <tr>\n",
       "      <th>2</th>\n",
       "      <td>2</td>\n",
       "      <td>2022-05-03 09:00:00</td>\n",
       "      <td>49501000.0</td>\n",
       "      <td>3667000.0</td>\n",
       "      <td>168.0</td>\n",
       "      <td>1000.0</td>\n",
       "      <td>0</td>\n",
       "      <td>0</td>\n",
       "      <td>0</td>\n",
       "      <td>0</td>\n",
       "      <td>...</td>\n",
       "      <td>0</td>\n",
       "      <td>0</td>\n",
       "      <td>0</td>\n",
       "      <td>0</td>\n",
       "      <td>0</td>\n",
       "      <td>0</td>\n",
       "      <td>0</td>\n",
       "      <td>0</td>\n",
       "      <td>0</td>\n",
       "      <td>0</td>\n",
       "    </tr>\n",
       "    <tr>\n",
       "      <th>3</th>\n",
       "      <td>3</td>\n",
       "      <td>2022-05-04 09:00:00</td>\n",
       "      <td>48772000.0</td>\n",
       "      <td>3595000.0</td>\n",
       "      <td>167.0</td>\n",
       "      <td>997.0</td>\n",
       "      <td>0</td>\n",
       "      <td>0</td>\n",
       "      <td>0</td>\n",
       "      <td>0</td>\n",
       "      <td>...</td>\n",
       "      <td>0</td>\n",
       "      <td>0</td>\n",
       "      <td>0</td>\n",
       "      <td>0</td>\n",
       "      <td>0</td>\n",
       "      <td>0</td>\n",
       "      <td>0</td>\n",
       "      <td>0</td>\n",
       "      <td>0</td>\n",
       "      <td>0</td>\n",
       "    </tr>\n",
       "    <tr>\n",
       "      <th>4</th>\n",
       "      <td>4</td>\n",
       "      <td>2022-05-05 09:00:00</td>\n",
       "      <td>50631000.0</td>\n",
       "      <td>3752000.0</td>\n",
       "      <td>173.0</td>\n",
       "      <td>1140.0</td>\n",
       "      <td>0</td>\n",
       "      <td>0</td>\n",
       "      <td>0</td>\n",
       "      <td>0</td>\n",
       "      <td>...</td>\n",
       "      <td>0</td>\n",
       "      <td>0</td>\n",
       "      <td>0</td>\n",
       "      <td>0</td>\n",
       "      <td>0</td>\n",
       "      <td>0</td>\n",
       "      <td>0</td>\n",
       "      <td>0</td>\n",
       "      <td>0</td>\n",
       "      <td>0</td>\n",
       "    </tr>\n",
       "    <tr>\n",
       "      <th>...</th>\n",
       "      <td>...</td>\n",
       "      <td>...</td>\n",
       "      <td>...</td>\n",
       "      <td>...</td>\n",
       "      <td>...</td>\n",
       "      <td>...</td>\n",
       "      <td>...</td>\n",
       "      <td>...</td>\n",
       "      <td>...</td>\n",
       "      <td>...</td>\n",
       "      <td>...</td>\n",
       "      <td>...</td>\n",
       "      <td>...</td>\n",
       "      <td>...</td>\n",
       "      <td>...</td>\n",
       "      <td>...</td>\n",
       "      <td>...</td>\n",
       "      <td>...</td>\n",
       "      <td>...</td>\n",
       "      <td>...</td>\n",
       "      <td>...</td>\n",
       "    </tr>\n",
       "    <tr>\n",
       "      <th>392</th>\n",
       "      <td>392</td>\n",
       "      <td>2023-05-28 09:00:00</td>\n",
       "      <td>35824000.0</td>\n",
       "      <td>2445000.0</td>\n",
       "      <td>96.7</td>\n",
       "      <td>489.0</td>\n",
       "      <td>0</td>\n",
       "      <td>0</td>\n",
       "      <td>0</td>\n",
       "      <td>0</td>\n",
       "      <td>...</td>\n",
       "      <td>0</td>\n",
       "      <td>0</td>\n",
       "      <td>0</td>\n",
       "      <td>0</td>\n",
       "      <td>0</td>\n",
       "      <td>0</td>\n",
       "      <td>0</td>\n",
       "      <td>0</td>\n",
       "      <td>0</td>\n",
       "      <td>0</td>\n",
       "    </tr>\n",
       "    <tr>\n",
       "      <th>393</th>\n",
       "      <td>393</td>\n",
       "      <td>2023-05-29 09:00:00</td>\n",
       "      <td>37360000.0</td>\n",
       "      <td>2540000.0</td>\n",
       "      <td>97.8</td>\n",
       "      <td>509.0</td>\n",
       "      <td>0</td>\n",
       "      <td>0</td>\n",
       "      <td>0</td>\n",
       "      <td>0</td>\n",
       "      <td>...</td>\n",
       "      <td>0</td>\n",
       "      <td>0</td>\n",
       "      <td>0</td>\n",
       "      <td>0</td>\n",
       "      <td>0</td>\n",
       "      <td>0</td>\n",
       "      <td>0</td>\n",
       "      <td>0</td>\n",
       "      <td>0</td>\n",
       "      <td>0</td>\n",
       "    </tr>\n",
       "    <tr>\n",
       "      <th>394</th>\n",
       "      <td>394</td>\n",
       "      <td>2023-05-30 09:00:00</td>\n",
       "      <td>36992000.0</td>\n",
       "      <td>2522000.0</td>\n",
       "      <td>97.5</td>\n",
       "      <td>504.0</td>\n",
       "      <td>0</td>\n",
       "      <td>0</td>\n",
       "      <td>0</td>\n",
       "      <td>0</td>\n",
       "      <td>...</td>\n",
       "      <td>0</td>\n",
       "      <td>0</td>\n",
       "      <td>0</td>\n",
       "      <td>0</td>\n",
       "      <td>0</td>\n",
       "      <td>0</td>\n",
       "      <td>0</td>\n",
       "      <td>0</td>\n",
       "      <td>0</td>\n",
       "      <td>0</td>\n",
       "    </tr>\n",
       "    <tr>\n",
       "      <th>395</th>\n",
       "      <td>395</td>\n",
       "      <td>2023-05-31 09:00:00</td>\n",
       "      <td>36923000.0</td>\n",
       "      <td>2529000.0</td>\n",
       "      <td>96.5</td>\n",
       "      <td>502.0</td>\n",
       "      <td>0</td>\n",
       "      <td>0</td>\n",
       "      <td>0</td>\n",
       "      <td>0</td>\n",
       "      <td>...</td>\n",
       "      <td>0</td>\n",
       "      <td>0</td>\n",
       "      <td>0</td>\n",
       "      <td>0</td>\n",
       "      <td>0</td>\n",
       "      <td>0</td>\n",
       "      <td>0</td>\n",
       "      <td>0</td>\n",
       "      <td>0</td>\n",
       "      <td>0</td>\n",
       "    </tr>\n",
       "    <tr>\n",
       "      <th>396</th>\n",
       "      <td>396</td>\n",
       "      <td>2023-06-01 09:00:00</td>\n",
       "      <td>36391000.0</td>\n",
       "      <td>2504000.0</td>\n",
       "      <td>95.8</td>\n",
       "      <td>500.0</td>\n",
       "      <td>0</td>\n",
       "      <td>0</td>\n",
       "      <td>0</td>\n",
       "      <td>0</td>\n",
       "      <td>...</td>\n",
       "      <td>0</td>\n",
       "      <td>0</td>\n",
       "      <td>0</td>\n",
       "      <td>0</td>\n",
       "      <td>0</td>\n",
       "      <td>0</td>\n",
       "      <td>0</td>\n",
       "      <td>0</td>\n",
       "      <td>0</td>\n",
       "      <td>0</td>\n",
       "    </tr>\n",
       "  </tbody>\n",
       "</table>\n",
       "<p>397 rows × 25 columns</p>\n",
       "</div>"
      ],
      "text/plain": [
       "     Unnamed: 0                index   price_btc  price_eth  price_doge  \\\n",
       "0             0  2022-05-01 09:00:00  49283000.0  3570000.0       166.0   \n",
       "1             1  2022-05-02 09:00:00  49383000.0  3625000.0       170.0   \n",
       "2             2  2022-05-03 09:00:00  49501000.0  3667000.0       168.0   \n",
       "3             3  2022-05-04 09:00:00  48772000.0  3595000.0       167.0   \n",
       "4             4  2022-05-05 09:00:00  50631000.0  3752000.0       173.0   \n",
       "..          ...                  ...         ...        ...         ...   \n",
       "392         392  2023-05-28 09:00:00  35824000.0  2445000.0        96.7   \n",
       "393         393  2023-05-29 09:00:00  37360000.0  2540000.0        97.8   \n",
       "394         394  2023-05-30 09:00:00  36992000.0  2522000.0        97.5   \n",
       "395         395  2023-05-31 09:00:00  36923000.0  2529000.0        96.5   \n",
       "396         396  2023-06-01 09:00:00  36391000.0  2504000.0        95.8   \n",
       "\n",
       "     price_ada  bal_krw  bal_btc  bal_eth  bal_doge  ...  bal2_ada  \\\n",
       "0        996.0        0        0        0         0  ...         0   \n",
       "1       1010.0        0        0        0         0  ...         0   \n",
       "2       1000.0        0        0        0         0  ...         0   \n",
       "3        997.0        0        0        0         0  ...         0   \n",
       "4       1140.0        0        0        0         0  ...         0   \n",
       "..         ...      ...      ...      ...       ...  ...       ...   \n",
       "392      489.0        0        0        0         0  ...         0   \n",
       "393      509.0        0        0        0         0  ...         0   \n",
       "394      504.0        0        0        0         0  ...         0   \n",
       "395      502.0        0        0        0         0  ...         0   \n",
       "396      500.0        0        0        0         0  ...         0   \n",
       "\n",
       "     target_btc  target_eth  target_doge  target_ada  trade_btc  trade_eth  \\\n",
       "0             0           0            0           0          0          0   \n",
       "1             0           0            0           0          0          0   \n",
       "2             0           0            0           0          0          0   \n",
       "3             0           0            0           0          0          0   \n",
       "4             0           0            0           0          0          0   \n",
       "..          ...         ...          ...         ...        ...        ...   \n",
       "392           0           0            0           0          0          0   \n",
       "393           0           0            0           0          0          0   \n",
       "394           0           0            0           0          0          0   \n",
       "395           0           0            0           0          0          0   \n",
       "396           0           0            0           0          0          0   \n",
       "\n",
       "     trade_doge  trade_ada  value  \n",
       "0             0          0      0  \n",
       "1             0          0      0  \n",
       "2             0          0      0  \n",
       "3             0          0      0  \n",
       "4             0          0      0  \n",
       "..          ...        ...    ...  \n",
       "392           0          0      0  \n",
       "393           0          0      0  \n",
       "394           0          0      0  \n",
       "395           0          0      0  \n",
       "396           0          0      0  \n",
       "\n",
       "[397 rows x 25 columns]"
      ]
     },
     "execution_count": 8,
     "metadata": {},
     "output_type": "execute_result"
    }
   ],
   "source": [
    "from_date = '20220501'\n",
    "to_date = '20230602'\n",
    "\n",
    "df = trading_helper.get_multiple(from_date, to_date)\n",
    "\n",
    "\n",
    "df"
   ]
  },
  {
   "cell_type": "code",
   "execution_count": 9,
   "id": "c363e041-4d01-40dd-9872-9684809aaac7",
   "metadata": {},
   "outputs": [],
   "source": [
    "# ------------------------------------------------------------------------------------------------------\n",
    "# - 코드를 완성했다면 이 코드셀만 복사해서 competition 페이지 Rebalancing 탭에 라운드 별 코드 항목으로 붙여넣습니다.\n",
    "# - 연습할 때는 다음과 같은 이유로 프로젝트 페이지의 에디터에서 직접 연습하지 말고 Colab에서 연습하세요. \n",
    "#   + Colab의 연습은 서버에 횟수가 기록되어 평가에 반영됩니다.\n",
    "#   + Colab 노트북 자체에도 변경 history가 누적 됩니다. (부정행위 방지)\n",
    "#   + 프로젝트 페이지에서 submit 횟수가 지나치게 빈번한 경우 submit이 일정시간 제한될 수 있습니다.\n",
    "# ------------------------------------------------------------------------------------------------------\n",
    "\n",
    "# Given Code Version 2023.05.16-v2\n",
    "\n",
    "import numpy as np\n",
    "import pandas as pd\n",
    "import datetime\n",
    "\n",
    "# rebalancing() 암호화폐 포트폴리오 리밸런싱 함수\n",
    "'''\n",
    "* ratio_  자산배분 비율 (총 합은 반드시 1.0이어야 함)\n",
    "  투자하지 않는 암호화폐는 0으로 남겨둠\n",
    "  \n",
    "  예) 원화 10%, 비트코인(BTC) 50%, 이더리움(ETH) 40%\n",
    "      ratio_krw = 0.1\n",
    "      ratio_btc = 0.5\n",
    "      ratio_eth = 0.4\n",
    "      ratio_doge = 0.0\n",
    "      ratio_ada = 0.0\n",
    "\n",
    "  예) 원화 70%, 비트코인(BTC) 10%, 이더리움(ETH) 10%, 도지코인(DOGE) 5%, 에이다(ADA) 5%\n",
    "      ratio_krw = 0.7\n",
    "      ratio_btc = 0.1\n",
    "      ratio_eth = 0.1\n",
    "      ratio_doge = 0.05\n",
    "      ratio_ada = 0.05\n",
    "\n",
    "* threshold - 최소한으로 요구되는 총 자산 대비 변동 비율 (%)\n",
    "\n",
    "  기본값 0: 조금이라도 변동될 때 매매\n",
    "  예) 0.001: 전체 자산의 0.1% 변동시 매매, 0.005: 전체 자산의 0.5% 변동시 매매\n",
    "\n",
    "\n",
    "* fee - 수수료, 기본값 0.001 (변경 없음)\n",
    "\n",
    "* init_krw - 초기 투자금액, 기본값 100000000 (변경 없음)\n",
    "'''\n",
    "\n",
    "# Qualification 라운드 에서는 지정된 암호화폐 비율과 threshold 0.0을 사용해야 하며\n",
    "# 그 외의 라운드에서는 암포화폐 비율과 threshold를 자유롭게 사용할 수 있음\n",
    "\n",
    "# ------------------------------------------------\n",
    "# EDITABLE (1)\n",
    "#\n",
    "DEFAULT_RATIO_KRW = 1.0\n",
    "DEFAULT_RATIO_BTC = 0.0\n",
    "DEFAULT_RATIO_ETH = 0.0\n",
    "DEFAULT_RATIO_DOGE = 0.0\n",
    "DEFAULT_RATIO_ADA = 0.0\n",
    "\n",
    "DEFAULT_THRESHOLD = 0.0 # Qualification 라운드 에서는 이 값을 0.0으로\n",
    "# ------------------------------------------------\n",
    "\n",
    "def rebalancing( df, ratio_krw=DEFAULT_RATIO_KRW, ratio_btc=DEFAULT_RATIO_BTC, ratio_eth=DEFAULT_RATIO_ETH, ratio_doge=DEFAULT_RATIO_DOGE, ratio_ada=DEFAULT_RATIO_ADA, threshold=DEFAULT_THRESHOLD, fee=0.001, init_krw=100000000 ):\n",
    "\n",
    "    # -------------------------------------------------------------------------------\n",
    "    # DO NOT EDIT\n",
    "    #\n",
    "    ratio_sum = ratio_krw + ratio_btc + ratio_eth + ratio_doge + ratio_ada\n",
    "    if abs(ratio_sum - 1.0) > 0.0001:\n",
    "        print(f'The sum of the ratios must be 1. ({ratio_sum})')\n",
    "        return\n",
    "    # -------------------------------------------------------------------------------\n",
    "\n",
    "    row_index = 0\n",
    "\n",
    "    # 데이터프레임의 모든 행에 대해서 반복\n",
    "    for row_index in range( len( df ) ):\n",
    "\n",
    "        # 현재 데이터: cur_data\n",
    "        cur_data = df.loc[ row_index, : ].copy()\n",
    "        # 이전 데이터: prev_data\n",
    "        if row_index > 0:\n",
    "            prev_data = df.loc[ row_index-1, : ].copy()\n",
    "\n",
    "\n",
    "\n",
    "        #------------------------\n",
    "        # Balance 계산 (bal_)\n",
    "        # 하루 전의 계산 후 잔고(bal2_)를 현재의 계산 전 잔고로 가져옴(bal_)\n",
    "        if row_index == 0:\n",
    "            # 첫째 날이라면 잔고는 krw만 존재\n",
    "            cur_data[ 'bal_krw' ] = init_krw\n",
    "        else:\n",
    "            # 둘째 날 부터는 이전 날 계산 후 잔고(bal2_)를 현재 잔고(bal_)로 대입\n",
    "            cur_data[ 'bal_krw' ] = prev_data[ 'bal2_krw' ]\n",
    "            cur_data[ 'bal_btc' ] = prev_data[ 'bal2_btc' ]\n",
    "            cur_data[ 'bal_eth' ] = prev_data[ 'bal2_eth' ]\n",
    "            cur_data[ 'bal_doge' ] = prev_data[ 'bal2_doge' ]\n",
    "            cur_data[ 'bal_ada' ] = prev_data[ 'bal2_ada' ]\n",
    "            \n",
    "\n",
    "        #------------------------\n",
    "        # Total Value 계산 (value)\n",
    "        # 전체 자산의 가치를 모두 합산\n",
    "        cur_data[ 'value' ] = cur_data[ 'bal_krw' ]\n",
    "        cur_data[ 'value' ] += cur_data[ 'price_btc' ] * cur_data[ 'bal_btc' ]\n",
    "        cur_data[ 'value' ] += cur_data[ 'price_eth' ] * cur_data[ 'bal_eth' ]\n",
    "        cur_data[ 'value' ] += cur_data[ 'price_doge' ] * cur_data[ 'bal_doge' ] # EDITABLE (2)\n",
    "        cur_data[ 'value' ] += cur_data[ 'price_ada' ] * cur_data[ 'bal_ada' ] # EDITABLE (3)                                \n",
    "                                \n",
    "\n",
    "        #------------------------\n",
    "        # Target 계산 (target_)\n",
    "        # 비율에 따라 다시 조정되어야 할 목표 잔고 계산\n",
    "        cur_data[ 'target_btc' ] = ratio_btc * cur_data[ 'value' ] / cur_data[ 'price_btc' ]\n",
    "        cur_data[ 'target_eth' ] = ratio_eth * cur_data[ 'value' ] / cur_data[ 'price_eth' ]\n",
    "        cur_data[ 'target_doge' ] = ratio_doge * cur_data[ 'value' ] / cur_data[ 'price_doge' ]    # EDITABLE (4)\n",
    "        cur_data[ 'target_ada' ] = ratio_ada * cur_data[ 'value' ] / cur_data[ 'price_ada' ]      # EDITABLE (5)\n",
    "\n",
    "\n",
    "        #------------------------\n",
    "        # Trading Amount 계산 (trade_)\n",
    "        # Target 잔고를 위해 매매해야 할 양을 계산\n",
    "        cur_data[ 'trade_btc' ] = cur_data[ 'target_btc' ] - cur_data[ 'bal_btc' ]\n",
    "        cur_data[ 'trade_eth' ] = cur_data[ 'target_eth' ] - cur_data[ 'bal_eth' ]\n",
    "        cur_data[ 'trade_doge' ] = cur_data[ 'target_doge' ] - cur_data[ 'bal_doge' ]  # EDITABLE (6)\n",
    "        cur_data[ 'trade_ada' ] = cur_data[ 'target_ada' ] - cur_data[ 'bal_ada' ]  # EDITABLE (7)\n",
    "\n",
    "\n",
    "\n",
    "        #------------------------\n",
    "        # 매매해야 할 양의 절대값이 총 자산의 일정 %를 넘지 않으면 매매하지 않음\n",
    "        th_value = threshold * cur_data[ 'value' ]\n",
    "        amount_btc = abs( cur_data[ 'trade_btc' ] * cur_data[ 'price_btc' ] )\n",
    "        amount_eth = abs( cur_data[ 'trade_eth' ] * cur_data[ 'price_eth' ] )\n",
    "        amount_doge = abs( cur_data[ 'trade_doge' ] * cur_data[ 'price_doge' ] )  # EDITABLE (8)\n",
    "        amount_ada = abs( cur_data[ 'trade_ada' ] * cur_data[ 'price_ada' ] )  # EDITABLE (9)\n",
    "\n",
    "\n",
    "        #--------------------------------------------------------------------------------------------------------------------\n",
    "        # DO NOT EDIT\n",
    "        # 계산 후 잔고 준비\n",
    "        cur_data[ 'bal2_krw' ] = cur_data[ 'bal_krw' ]\n",
    "        cur_data[ 'bal2_btc' ] = cur_data[ 'bal_btc' ]\n",
    "        cur_data[ 'bal2_eth' ] = cur_data[ 'bal_eth' ]\n",
    "        cur_data[ 'bal2_doge' ] = cur_data[ 'bal_doge' ]\n",
    "        cur_data[ 'bal2_ada' ] = cur_data[ 'bal_ada' ]\n",
    "\n",
    "        if amount_btc >= th_value:\n",
    "            # BTC 잔고 변경 \n",
    "            cur_data[ 'bal2_btc' ] += cur_data[ 'trade_btc' ]\n",
    "            # krw 잔고 변경 (BTC 매매 반영 + 수수료 차감)\n",
    "            cur_data[ 'bal2_krw' ] -= cur_data[ 'trade_btc' ] * cur_data[ 'price_btc' ] + amount_btc * fee\n",
    "\n",
    "        if amount_eth >= th_value:\n",
    "            # ETH 잔고 변경 \n",
    "            cur_data[ 'bal2_eth' ] += cur_data[ 'trade_eth' ]\n",
    "            # krw 잔고 변경 (ETH 매매 반영 + 수수료 차감)\n",
    "            cur_data[ 'bal2_krw' ] -= cur_data[ 'trade_eth' ] * cur_data[ 'price_eth' ] + amount_eth * fee\n",
    "\n",
    "        if amount_doge >= th_value:\n",
    "            # DOGE 잔고 변경 \n",
    "            cur_data[ 'bal2_doge' ] += cur_data[ 'trade_doge' ]\n",
    "            # krw 잔고 변경 (DOGE 매매 반영 + 수수료 차감)\n",
    "            cur_data[ 'bal2_krw' ] -= cur_data[ 'trade_doge' ] * cur_data[ 'price_doge' ] + amount_doge * fee\n",
    "\n",
    "        if amount_ada >= th_value:\n",
    "            # ADA 잔고 변경 \n",
    "            cur_data[ 'bal2_ada' ] += cur_data[ 'trade_ada' ]\n",
    "            # krw 잔고 변경 (ADA 매매 반영 + 수수료 차감)\n",
    "            cur_data[ 'bal2_krw' ] -= cur_data[ 'trade_ada' ] * cur_data[ 'price_ada' ] + amount_ada * fee\n",
    "\n",
    "\n",
    "        #--------------------------------------------------------------------------------------------------------------------\n",
    "        # DO NOT EDIT\n",
    "        #\n",
    "        df.loc[ row_index, : ] = cur_data\n",
    "\n",
    "        row_index += 1\n",
    "        #--------------------------------------------------------------------------------------------------------------------\n",
    "\n",
    "\n"
   ]
  },
  {
   "cell_type": "code",
   "execution_count": 12,
   "id": "9b8d662e-124a-47d1-b8d9-501ea944d176",
   "metadata": {},
   "outputs": [
    {
     "data": {
      "application/vnd.jupyter.widget-view+json": {
       "model_id": "de40a754f742491faa600b4f3f08ddad",
       "version_major": 2,
       "version_minor": 0
      },
      "text/plain": [
       "ratio_krw:   0%|          | 0/10 [00:00<?, ?it/s]"
      ]
     },
     "metadata": {},
     "output_type": "display_data"
    },
    {
     "data": {
      "application/vnd.jupyter.widget-view+json": {
       "model_id": "",
       "version_major": 2,
       "version_minor": 0
      },
      "text/plain": [
       "ratio_btc:   0%|          | 0/10 [00:00<?, ?it/s]"
      ]
     },
     "metadata": {},
     "output_type": "display_data"
    },
    {
     "data": {
      "application/vnd.jupyter.widget-view+json": {
       "model_id": "",
       "version_major": 2,
       "version_minor": 0
      },
      "text/plain": [
       "ratio_eth:   0%|          | 0/10 [00:00<?, ?it/s]"
      ]
     },
     "metadata": {},
     "output_type": "display_data"
    },
    {
     "data": {
      "application/vnd.jupyter.widget-view+json": {
       "model_id": "",
       "version_major": 2,
       "version_minor": 0
      },
      "text/plain": [
       "ratio_eth:   0%|          | 0/10 [00:00<?, ?it/s]"
      ]
     },
     "metadata": {},
     "output_type": "display_data"
    },
    {
     "data": {
      "application/vnd.jupyter.widget-view+json": {
       "model_id": "",
       "version_major": 2,
       "version_minor": 0
      },
      "text/plain": [
       "ratio_eth:   0%|          | 0/10 [00:00<?, ?it/s]"
      ]
     },
     "metadata": {},
     "output_type": "display_data"
    },
    {
     "data": {
      "application/vnd.jupyter.widget-view+json": {
       "model_id": "",
       "version_major": 2,
       "version_minor": 0
      },
      "text/plain": [
       "ratio_eth:   0%|          | 0/10 [00:00<?, ?it/s]"
      ]
     },
     "metadata": {},
     "output_type": "display_data"
    },
    {
     "data": {
      "application/vnd.jupyter.widget-view+json": {
       "model_id": "",
       "version_major": 2,
       "version_minor": 0
      },
      "text/plain": [
       "ratio_eth:   0%|          | 0/10 [00:00<?, ?it/s]"
      ]
     },
     "metadata": {},
     "output_type": "display_data"
    },
    {
     "data": {
      "application/vnd.jupyter.widget-view+json": {
       "model_id": "",
       "version_major": 2,
       "version_minor": 0
      },
      "text/plain": [
       "ratio_eth:   0%|          | 0/10 [00:00<?, ?it/s]"
      ]
     },
     "metadata": {},
     "output_type": "display_data"
    },
    {
     "data": {
      "application/vnd.jupyter.widget-view+json": {
       "model_id": "",
       "version_major": 2,
       "version_minor": 0
      },
      "text/plain": [
       "ratio_eth:   0%|          | 0/10 [00:00<?, ?it/s]"
      ]
     },
     "metadata": {},
     "output_type": "display_data"
    },
    {
     "data": {
      "application/vnd.jupyter.widget-view+json": {
       "model_id": "",
       "version_major": 2,
       "version_minor": 0
      },
      "text/plain": [
       "ratio_eth:   0%|          | 0/10 [00:00<?, ?it/s]"
      ]
     },
     "metadata": {},
     "output_type": "display_data"
    },
    {
     "data": {
      "application/vnd.jupyter.widget-view+json": {
       "model_id": "",
       "version_major": 2,
       "version_minor": 0
      },
      "text/plain": [
       "ratio_eth:   0%|          | 0/10 [00:00<?, ?it/s]"
      ]
     },
     "metadata": {},
     "output_type": "display_data"
    },
    {
     "data": {
      "application/vnd.jupyter.widget-view+json": {
       "model_id": "",
       "version_major": 2,
       "version_minor": 0
      },
      "text/plain": [
       "ratio_eth:   0%|          | 0/10 [00:00<?, ?it/s]"
      ]
     },
     "metadata": {},
     "output_type": "display_data"
    },
    {
     "data": {
      "application/vnd.jupyter.widget-view+json": {
       "model_id": "",
       "version_major": 2,
       "version_minor": 0
      },
      "text/plain": [
       "ratio_btc:   0%|          | 0/10 [00:00<?, ?it/s]"
      ]
     },
     "metadata": {},
     "output_type": "display_data"
    },
    {
     "data": {
      "application/vnd.jupyter.widget-view+json": {
       "model_id": "",
       "version_major": 2,
       "version_minor": 0
      },
      "text/plain": [
       "ratio_eth:   0%|          | 0/10 [00:00<?, ?it/s]"
      ]
     },
     "metadata": {},
     "output_type": "display_data"
    },
    {
     "data": {
      "application/vnd.jupyter.widget-view+json": {
       "model_id": "",
       "version_major": 2,
       "version_minor": 0
      },
      "text/plain": [
       "ratio_eth:   0%|          | 0/10 [00:00<?, ?it/s]"
      ]
     },
     "metadata": {},
     "output_type": "display_data"
    },
    {
     "data": {
      "application/vnd.jupyter.widget-view+json": {
       "model_id": "",
       "version_major": 2,
       "version_minor": 0
      },
      "text/plain": [
       "ratio_eth:   0%|          | 0/10 [00:00<?, ?it/s]"
      ]
     },
     "metadata": {},
     "output_type": "display_data"
    },
    {
     "data": {
      "application/vnd.jupyter.widget-view+json": {
       "model_id": "",
       "version_major": 2,
       "version_minor": 0
      },
      "text/plain": [
       "ratio_eth:   0%|          | 0/10 [00:00<?, ?it/s]"
      ]
     },
     "metadata": {},
     "output_type": "display_data"
    },
    {
     "data": {
      "application/vnd.jupyter.widget-view+json": {
       "model_id": "",
       "version_major": 2,
       "version_minor": 0
      },
      "text/plain": [
       "ratio_eth:   0%|          | 0/10 [00:00<?, ?it/s]"
      ]
     },
     "metadata": {},
     "output_type": "display_data"
    },
    {
     "data": {
      "application/vnd.jupyter.widget-view+json": {
       "model_id": "",
       "version_major": 2,
       "version_minor": 0
      },
      "text/plain": [
       "ratio_eth:   0%|          | 0/10 [00:00<?, ?it/s]"
      ]
     },
     "metadata": {},
     "output_type": "display_data"
    },
    {
     "data": {
      "application/vnd.jupyter.widget-view+json": {
       "model_id": "",
       "version_major": 2,
       "version_minor": 0
      },
      "text/plain": [
       "ratio_eth:   0%|          | 0/10 [00:00<?, ?it/s]"
      ]
     },
     "metadata": {},
     "output_type": "display_data"
    },
    {
     "data": {
      "application/vnd.jupyter.widget-view+json": {
       "model_id": "",
       "version_major": 2,
       "version_minor": 0
      },
      "text/plain": [
       "ratio_eth:   0%|          | 0/10 [00:00<?, ?it/s]"
      ]
     },
     "metadata": {},
     "output_type": "display_data"
    },
    {
     "data": {
      "application/vnd.jupyter.widget-view+json": {
       "model_id": "",
       "version_major": 2,
       "version_minor": 0
      },
      "text/plain": [
       "ratio_eth:   0%|          | 0/10 [00:00<?, ?it/s]"
      ]
     },
     "metadata": {},
     "output_type": "display_data"
    },
    {
     "data": {
      "application/vnd.jupyter.widget-view+json": {
       "model_id": "",
       "version_major": 2,
       "version_minor": 0
      },
      "text/plain": [
       "ratio_eth:   0%|          | 0/10 [00:00<?, ?it/s]"
      ]
     },
     "metadata": {},
     "output_type": "display_data"
    },
    {
     "data": {
      "application/vnd.jupyter.widget-view+json": {
       "model_id": "",
       "version_major": 2,
       "version_minor": 0
      },
      "text/plain": [
       "ratio_btc:   0%|          | 0/10 [00:00<?, ?it/s]"
      ]
     },
     "metadata": {},
     "output_type": "display_data"
    },
    {
     "data": {
      "application/vnd.jupyter.widget-view+json": {
       "model_id": "",
       "version_major": 2,
       "version_minor": 0
      },
      "text/plain": [
       "ratio_eth:   0%|          | 0/10 [00:00<?, ?it/s]"
      ]
     },
     "metadata": {},
     "output_type": "display_data"
    },
    {
     "name": "stdout",
     "output_type": "stream",
     "text": [
      "[Round1]ratio_krw=0.8999999999999999, ratio_btc=0.0, ratio_eth=0.0, ratio_doge=0.1, ratio_ada=1.1102230246251565e-16, threshold=0.05\n",
      "    HPR=2.0466058463784798 MDD=6.228298121395426\n",
      "[Round1]ratio_krw=0.8999999999999999, ratio_btc=0.0, ratio_eth=0.1, ratio_doge=0.0, ratio_ada=1.1102230246251565e-16, threshold=0.05\n",
      "    HPR=0.24897629794684573 MDD=7.640477790000169\n",
      "[Round1]ratio_krw=0.8999999999999999, ratio_btc=0.0, ratio_eth=0.1, ratio_doge=0.0, ratio_ada=1.1102230246251565e-16, threshold=0.06\n",
      "    HPR=1.6028759795798875 MDD=6.799349915812917\n"
     ]
    },
    {
     "data": {
      "application/vnd.jupyter.widget-view+json": {
       "model_id": "",
       "version_major": 2,
       "version_minor": 0
      },
      "text/plain": [
       "ratio_eth:   0%|          | 0/10 [00:00<?, ?it/s]"
      ]
     },
     "metadata": {},
     "output_type": "display_data"
    },
    {
     "name": "stdout",
     "output_type": "stream",
     "text": [
      "[Round1]ratio_krw=0.8999999999999999, ratio_btc=0.1, ratio_eth=0.0, ratio_doge=0.0, ratio_ada=1.1102230246251565e-16, threshold=0.05\n",
      "    HPR=0.4543948267215381 MDD=6.379159571470337\n"
     ]
    },
    {
     "data": {
      "application/vnd.jupyter.widget-view+json": {
       "model_id": "",
       "version_major": 2,
       "version_minor": 0
      },
      "text/plain": [
       "ratio_eth:   0%|          | 0/10 [00:00<?, ?it/s]"
      ]
     },
     "metadata": {},
     "output_type": "display_data"
    },
    {
     "data": {
      "application/vnd.jupyter.widget-view+json": {
       "model_id": "",
       "version_major": 2,
       "version_minor": 0
      },
      "text/plain": [
       "ratio_eth:   0%|          | 0/10 [00:00<?, ?it/s]"
      ]
     },
     "metadata": {},
     "output_type": "display_data"
    },
    {
     "data": {
      "application/vnd.jupyter.widget-view+json": {
       "model_id": "",
       "version_major": 2,
       "version_minor": 0
      },
      "text/plain": [
       "ratio_eth:   0%|          | 0/10 [00:00<?, ?it/s]"
      ]
     },
     "metadata": {},
     "output_type": "display_data"
    },
    {
     "data": {
      "application/vnd.jupyter.widget-view+json": {
       "model_id": "",
       "version_major": 2,
       "version_minor": 0
      },
      "text/plain": [
       "ratio_eth:   0%|          | 0/10 [00:00<?, ?it/s]"
      ]
     },
     "metadata": {},
     "output_type": "display_data"
    },
    {
     "data": {
      "application/vnd.jupyter.widget-view+json": {
       "model_id": "",
       "version_major": 2,
       "version_minor": 0
      },
      "text/plain": [
       "ratio_eth:   0%|          | 0/10 [00:00<?, ?it/s]"
      ]
     },
     "metadata": {},
     "output_type": "display_data"
    },
    {
     "data": {
      "application/vnd.jupyter.widget-view+json": {
       "model_id": "",
       "version_major": 2,
       "version_minor": 0
      },
      "text/plain": [
       "ratio_eth:   0%|          | 0/10 [00:00<?, ?it/s]"
      ]
     },
     "metadata": {},
     "output_type": "display_data"
    },
    {
     "data": {
      "application/vnd.jupyter.widget-view+json": {
       "model_id": "",
       "version_major": 2,
       "version_minor": 0
      },
      "text/plain": [
       "ratio_eth:   0%|          | 0/10 [00:00<?, ?it/s]"
      ]
     },
     "metadata": {},
     "output_type": "display_data"
    },
    {
     "data": {
      "application/vnd.jupyter.widget-view+json": {
       "model_id": "",
       "version_major": 2,
       "version_minor": 0
      },
      "text/plain": [
       "ratio_eth:   0%|          | 0/10 [00:00<?, ?it/s]"
      ]
     },
     "metadata": {},
     "output_type": "display_data"
    },
    {
     "data": {
      "application/vnd.jupyter.widget-view+json": {
       "model_id": "",
       "version_major": 2,
       "version_minor": 0
      },
      "text/plain": [
       "ratio_btc:   0%|          | 0/10 [00:00<?, ?it/s]"
      ]
     },
     "metadata": {},
     "output_type": "display_data"
    },
    {
     "data": {
      "application/vnd.jupyter.widget-view+json": {
       "model_id": "",
       "version_major": 2,
       "version_minor": 0
      },
      "text/plain": [
       "ratio_eth:   0%|          | 0/10 [00:00<?, ?it/s]"
      ]
     },
     "metadata": {},
     "output_type": "display_data"
    },
    {
     "name": "stdout",
     "output_type": "stream",
     "text": [
      "[Round1]ratio_krw=0.8499999999999999, ratio_btc=0.0, ratio_eth=0.1, ratio_doge=0.0, ratio_ada=0.050000000000000155, threshold=0.06\n",
      "    HPR=1.6028759795798875 MDD=6.799349915812917\n"
     ]
    },
    {
     "data": {
      "application/vnd.jupyter.widget-view+json": {
       "model_id": "",
       "version_major": 2,
       "version_minor": 0
      },
      "text/plain": [
       "ratio_eth:   0%|          | 0/10 [00:00<?, ?it/s]"
      ]
     },
     "metadata": {},
     "output_type": "display_data"
    },
    {
     "data": {
      "application/vnd.jupyter.widget-view+json": {
       "model_id": "",
       "version_major": 2,
       "version_minor": 0
      },
      "text/plain": [
       "ratio_eth:   0%|          | 0/10 [00:00<?, ?it/s]"
      ]
     },
     "metadata": {},
     "output_type": "display_data"
    },
    {
     "data": {
      "application/vnd.jupyter.widget-view+json": {
       "model_id": "",
       "version_major": 2,
       "version_minor": 0
      },
      "text/plain": [
       "ratio_eth:   0%|          | 0/10 [00:00<?, ?it/s]"
      ]
     },
     "metadata": {},
     "output_type": "display_data"
    },
    {
     "data": {
      "application/vnd.jupyter.widget-view+json": {
       "model_id": "",
       "version_major": 2,
       "version_minor": 0
      },
      "text/plain": [
       "ratio_eth:   0%|          | 0/10 [00:00<?, ?it/s]"
      ]
     },
     "metadata": {},
     "output_type": "display_data"
    },
    {
     "data": {
      "application/vnd.jupyter.widget-view+json": {
       "model_id": "",
       "version_major": 2,
       "version_minor": 0
      },
      "text/plain": [
       "ratio_eth:   0%|          | 0/10 [00:00<?, ?it/s]"
      ]
     },
     "metadata": {},
     "output_type": "display_data"
    },
    {
     "data": {
      "application/vnd.jupyter.widget-view+json": {
       "model_id": "",
       "version_major": 2,
       "version_minor": 0
      },
      "text/plain": [
       "ratio_eth:   0%|          | 0/10 [00:00<?, ?it/s]"
      ]
     },
     "metadata": {},
     "output_type": "display_data"
    },
    {
     "data": {
      "application/vnd.jupyter.widget-view+json": {
       "model_id": "",
       "version_major": 2,
       "version_minor": 0
      },
      "text/plain": [
       "ratio_eth:   0%|          | 0/10 [00:00<?, ?it/s]"
      ]
     },
     "metadata": {},
     "output_type": "display_data"
    },
    {
     "data": {
      "application/vnd.jupyter.widget-view+json": {
       "model_id": "",
       "version_major": 2,
       "version_minor": 0
      },
      "text/plain": [
       "ratio_eth:   0%|          | 0/10 [00:00<?, ?it/s]"
      ]
     },
     "metadata": {},
     "output_type": "display_data"
    },
    {
     "data": {
      "application/vnd.jupyter.widget-view+json": {
       "model_id": "",
       "version_major": 2,
       "version_minor": 0
      },
      "text/plain": [
       "ratio_eth:   0%|          | 0/10 [00:00<?, ?it/s]"
      ]
     },
     "metadata": {},
     "output_type": "display_data"
    },
    {
     "data": {
      "application/vnd.jupyter.widget-view+json": {
       "model_id": "",
       "version_major": 2,
       "version_minor": 0
      },
      "text/plain": [
       "ratio_btc:   0%|          | 0/10 [00:00<?, ?it/s]"
      ]
     },
     "metadata": {},
     "output_type": "display_data"
    },
    {
     "data": {
      "application/vnd.jupyter.widget-view+json": {
       "model_id": "",
       "version_major": 2,
       "version_minor": 0
      },
      "text/plain": [
       "ratio_eth:   0%|          | 0/10 [00:00<?, ?it/s]"
      ]
     },
     "metadata": {},
     "output_type": "display_data"
    },
    {
     "name": "stdout",
     "output_type": "stream",
     "text": [
      "[Round1]ratio_krw=0.7999999999999998, ratio_btc=0.0, ratio_eth=0.0, ratio_doge=0.2, ratio_ada=2.220446049250313e-16, threshold=0.08\n",
      "    HPR=0.21031239400992607 MDD=13.545202875586346\n",
      "[Round1]ratio_krw=0.7999999999999998, ratio_btc=0.0, ratio_eth=0.0, ratio_doge=0.2, ratio_ada=2.220446049250313e-16, threshold=0.09\n",
      "    HPR=2.593772054303556 MDD=12.394885550185867\n",
      "[Round1]ratio_krw=0.7999999999999998, ratio_btc=0.0, ratio_eth=0.0, ratio_doge=0.2, ratio_ada=2.220446049250313e-16, threshold=0.1\n",
      "    HPR=3.7215169717289553 MDD=12.686208187681173\n",
      "[Round1]ratio_krw=0.7999999999999998, ratio_btc=0.0, ratio_eth=0.1, ratio_doge=0.1, ratio_ada=2.220446049250313e-16, threshold=0.05\n",
      "    HPR=2.199288427777635 MDD=13.70553494765775\n",
      "[Round1]ratio_krw=0.7999999999999998, ratio_btc=0.0, ratio_eth=0.2, ratio_doge=0.0, ratio_ada=2.220446049250313e-16, threshold=0.1\n",
      "    HPR=0.3596611635829472 MDD=15.018974257581972\n",
      "[Round1]ratio_krw=0.7999999999999998, ratio_btc=0.0, ratio_eth=0.2, ratio_doge=0.0, ratio_ada=2.220446049250313e-16, threshold=0.11\n",
      "    HPR=2.1534875977502255 MDD=14.19143833331446\n"
     ]
    },
    {
     "data": {
      "application/vnd.jupyter.widget-view+json": {
       "model_id": "",
       "version_major": 2,
       "version_minor": 0
      },
      "text/plain": [
       "ratio_eth:   0%|          | 0/10 [00:00<?, ?it/s]"
      ]
     },
     "metadata": {},
     "output_type": "display_data"
    },
    {
     "name": "stdout",
     "output_type": "stream",
     "text": [
      "[Round1]ratio_krw=0.7999999999999998, ratio_btc=0.1, ratio_eth=0.0, ratio_doge=0.1, ratio_ada=2.220446049250313e-16, threshold=0.05\n",
      "    HPR=2.597743580841505 MDD=11.354724051485064\n",
      "[Round1]ratio_krw=0.7999999999999998, ratio_btc=0.1, ratio_eth=0.1, ratio_doge=0.0, ratio_ada=2.220446049250313e-16, threshold=0.05\n",
      "    HPR=0.4389568245808606 MDD=12.694943189205807\n"
     ]
    },
    {
     "data": {
      "application/vnd.jupyter.widget-view+json": {
       "model_id": "",
       "version_major": 2,
       "version_minor": 0
      },
      "text/plain": [
       "ratio_eth:   0%|          | 0/10 [00:00<?, ?it/s]"
      ]
     },
     "metadata": {},
     "output_type": "display_data"
    },
    {
     "name": "stdout",
     "output_type": "stream",
     "text": [
      "[Round1]ratio_krw=0.7999999999999998, ratio_btc=0.2, ratio_eth=0.0, ratio_doge=0.0, ratio_ada=2.220446049250313e-16, threshold=0.09\n",
      "    HPR=0.3195597077617407 MDD=12.637169486468022\n",
      "[Round1]ratio_krw=0.7999999999999998, ratio_btc=0.2, ratio_eth=0.0, ratio_doge=0.0, ratio_ada=2.220446049250313e-16, threshold=0.1\n",
      "    HPR=1.3507709553076452 MDD=12.190332143825628\n"
     ]
    },
    {
     "data": {
      "application/vnd.jupyter.widget-view+json": {
       "model_id": "",
       "version_major": 2,
       "version_minor": 0
      },
      "text/plain": [
       "ratio_eth:   0%|          | 0/10 [00:00<?, ?it/s]"
      ]
     },
     "metadata": {},
     "output_type": "display_data"
    },
    {
     "data": {
      "application/vnd.jupyter.widget-view+json": {
       "model_id": "",
       "version_major": 2,
       "version_minor": 0
      },
      "text/plain": [
       "ratio_eth:   0%|          | 0/10 [00:00<?, ?it/s]"
      ]
     },
     "metadata": {},
     "output_type": "display_data"
    },
    {
     "data": {
      "application/vnd.jupyter.widget-view+json": {
       "model_id": "",
       "version_major": 2,
       "version_minor": 0
      },
      "text/plain": [
       "ratio_eth:   0%|          | 0/10 [00:00<?, ?it/s]"
      ]
     },
     "metadata": {},
     "output_type": "display_data"
    },
    {
     "data": {
      "application/vnd.jupyter.widget-view+json": {
       "model_id": "",
       "version_major": 2,
       "version_minor": 0
      },
      "text/plain": [
       "ratio_eth:   0%|          | 0/10 [00:00<?, ?it/s]"
      ]
     },
     "metadata": {},
     "output_type": "display_data"
    },
    {
     "data": {
      "application/vnd.jupyter.widget-view+json": {
       "model_id": "",
       "version_major": 2,
       "version_minor": 0
      },
      "text/plain": [
       "ratio_eth:   0%|          | 0/10 [00:00<?, ?it/s]"
      ]
     },
     "metadata": {},
     "output_type": "display_data"
    },
    {
     "data": {
      "application/vnd.jupyter.widget-view+json": {
       "model_id": "",
       "version_major": 2,
       "version_minor": 0
      },
      "text/plain": [
       "ratio_eth:   0%|          | 0/10 [00:00<?, ?it/s]"
      ]
     },
     "metadata": {},
     "output_type": "display_data"
    },
    {
     "data": {
      "application/vnd.jupyter.widget-view+json": {
       "model_id": "",
       "version_major": 2,
       "version_minor": 0
      },
      "text/plain": [
       "ratio_eth:   0%|          | 0/10 [00:00<?, ?it/s]"
      ]
     },
     "metadata": {},
     "output_type": "display_data"
    },
    {
     "data": {
      "application/vnd.jupyter.widget-view+json": {
       "model_id": "",
       "version_major": 2,
       "version_minor": 0
      },
      "text/plain": [
       "ratio_btc:   0%|          | 0/10 [00:00<?, ?it/s]"
      ]
     },
     "metadata": {},
     "output_type": "display_data"
    },
    {
     "data": {
      "application/vnd.jupyter.widget-view+json": {
       "model_id": "",
       "version_major": 2,
       "version_minor": 0
      },
      "text/plain": [
       "ratio_eth:   0%|          | 0/10 [00:00<?, ?it/s]"
      ]
     },
     "metadata": {},
     "output_type": "display_data"
    },
    {
     "name": "stdout",
     "output_type": "stream",
     "text": [
      "[Round1]ratio_krw=0.7499999999999998, ratio_btc=0.0, ratio_eth=0.0, ratio_doge=0.2, ratio_ada=0.050000000000000266, threshold=0.08\n",
      "    HPR=0.21031239400992607 MDD=13.545202875586346\n",
      "[Round1]ratio_krw=0.7499999999999998, ratio_btc=0.0, ratio_eth=0.0, ratio_doge=0.2, ratio_ada=0.050000000000000266, threshold=0.09\n",
      "    HPR=2.593772054303556 MDD=12.394885550185867\n",
      "[Round1]ratio_krw=0.7499999999999998, ratio_btc=0.0, ratio_eth=0.0, ratio_doge=0.2, ratio_ada=0.050000000000000266, threshold=0.1\n",
      "    HPR=3.7215169717289553 MDD=12.686208187681173\n",
      "[Round1]ratio_krw=0.7499999999999998, ratio_btc=0.0, ratio_eth=0.2, ratio_doge=0.0, ratio_ada=0.050000000000000266, threshold=0.1\n",
      "    HPR=0.3596611635829472 MDD=15.018974257581972\n",
      "[Round1]ratio_krw=0.7499999999999998, ratio_btc=0.0, ratio_eth=0.2, ratio_doge=0.0, ratio_ada=0.050000000000000266, threshold=0.11\n",
      "    HPR=2.1534875977502255 MDD=14.19143833331446\n"
     ]
    },
    {
     "data": {
      "application/vnd.jupyter.widget-view+json": {
       "model_id": "",
       "version_major": 2,
       "version_minor": 0
      },
      "text/plain": [
       "ratio_eth:   0%|          | 0/10 [00:00<?, ?it/s]"
      ]
     },
     "metadata": {},
     "output_type": "display_data"
    },
    {
     "data": {
      "application/vnd.jupyter.widget-view+json": {
       "model_id": "",
       "version_major": 2,
       "version_minor": 0
      },
      "text/plain": [
       "ratio_eth:   0%|          | 0/10 [00:00<?, ?it/s]"
      ]
     },
     "metadata": {},
     "output_type": "display_data"
    },
    {
     "name": "stdout",
     "output_type": "stream",
     "text": [
      "[Round1]ratio_krw=0.7499999999999998, ratio_btc=0.2, ratio_eth=0.0, ratio_doge=0.0, ratio_ada=0.050000000000000266, threshold=0.09\n",
      "    HPR=0.3195597077617407 MDD=12.637169486468022\n",
      "[Round1]ratio_krw=0.7499999999999998, ratio_btc=0.2, ratio_eth=0.0, ratio_doge=0.0, ratio_ada=0.050000000000000266, threshold=0.1\n",
      "    HPR=1.3507709553076452 MDD=12.190332143825628\n"
     ]
    },
    {
     "data": {
      "application/vnd.jupyter.widget-view+json": {
       "model_id": "",
       "version_major": 2,
       "version_minor": 0
      },
      "text/plain": [
       "ratio_eth:   0%|          | 0/10 [00:00<?, ?it/s]"
      ]
     },
     "metadata": {},
     "output_type": "display_data"
    },
    {
     "data": {
      "application/vnd.jupyter.widget-view+json": {
       "model_id": "",
       "version_major": 2,
       "version_minor": 0
      },
      "text/plain": [
       "ratio_eth:   0%|          | 0/10 [00:00<?, ?it/s]"
      ]
     },
     "metadata": {},
     "output_type": "display_data"
    },
    {
     "data": {
      "application/vnd.jupyter.widget-view+json": {
       "model_id": "",
       "version_major": 2,
       "version_minor": 0
      },
      "text/plain": [
       "ratio_eth:   0%|          | 0/10 [00:00<?, ?it/s]"
      ]
     },
     "metadata": {},
     "output_type": "display_data"
    },
    {
     "data": {
      "application/vnd.jupyter.widget-view+json": {
       "model_id": "",
       "version_major": 2,
       "version_minor": 0
      },
      "text/plain": [
       "ratio_eth:   0%|          | 0/10 [00:00<?, ?it/s]"
      ]
     },
     "metadata": {},
     "output_type": "display_data"
    },
    {
     "data": {
      "application/vnd.jupyter.widget-view+json": {
       "model_id": "",
       "version_major": 2,
       "version_minor": 0
      },
      "text/plain": [
       "ratio_eth:   0%|          | 0/10 [00:00<?, ?it/s]"
      ]
     },
     "metadata": {},
     "output_type": "display_data"
    },
    {
     "data": {
      "application/vnd.jupyter.widget-view+json": {
       "model_id": "",
       "version_major": 2,
       "version_minor": 0
      },
      "text/plain": [
       "ratio_eth:   0%|          | 0/10 [00:00<?, ?it/s]"
      ]
     },
     "metadata": {},
     "output_type": "display_data"
    },
    {
     "data": {
      "application/vnd.jupyter.widget-view+json": {
       "model_id": "",
       "version_major": 2,
       "version_minor": 0
      },
      "text/plain": [
       "ratio_eth:   0%|          | 0/10 [00:00<?, ?it/s]"
      ]
     },
     "metadata": {},
     "output_type": "display_data"
    },
    {
     "data": {
      "application/vnd.jupyter.widget-view+json": {
       "model_id": "",
       "version_major": 2,
       "version_minor": 0
      },
      "text/plain": [
       "ratio_btc:   0%|          | 0/10 [00:00<?, ?it/s]"
      ]
     },
     "metadata": {},
     "output_type": "display_data"
    },
    {
     "data": {
      "application/vnd.jupyter.widget-view+json": {
       "model_id": "",
       "version_major": 2,
       "version_minor": 0
      },
      "text/plain": [
       "ratio_eth:   0%|          | 0/10 [00:00<?, ?it/s]"
      ]
     },
     "metadata": {},
     "output_type": "display_data"
    },
    {
     "name": "stdout",
     "output_type": "stream",
     "text": [
      "[Round1]ratio_krw=0.6999999999999997, ratio_btc=0.0, ratio_eth=0.0, ratio_doge=0.30000000000000004, ratio_ada=2.220446049250313e-16, threshold=0.13\n",
      "    HPR=2.5625441956176775 MDD=18.732835705797825\n",
      "[Round1]ratio_krw=0.6999999999999997, ratio_btc=0.0, ratio_eth=0.0, ratio_doge=0.30000000000000004, ratio_ada=2.220446049250313e-16, threshold=0.14\n",
      "    HPR=2.5625441956176775 MDD=18.732835705797825\n",
      "[Round1]ratio_krw=0.6999999999999997, ratio_btc=0.0, ratio_eth=0.2, ratio_doge=0.0, ratio_ada=0.10000000000000031, threshold=0.11\n",
      "    HPR=2.1534875977502255 MDD=14.19143833331446\n",
      "[Round1]ratio_krw=0.6999999999999997, ratio_btc=0.0, ratio_eth=0.2, ratio_doge=0.1, ratio_ada=3.3306690738754696e-16, threshold=0.11\n",
      "    HPR=2.1534875977502255 MDD=14.19143833331446\n",
      "[Round1]ratio_krw=0.6999999999999997, ratio_btc=0.0, ratio_eth=0.30000000000000004, ratio_doge=0.0, ratio_ada=2.220446049250313e-16, threshold=0.15\n",
      "    HPR=2.5951335360895778 MDD=21.058934159973795\n",
      "[Round1]ratio_krw=0.6999999999999997, ratio_btc=0.0, ratio_eth=0.30000000000000004, ratio_doge=0.0, ratio_ada=2.220446049250313e-16, threshold=0.16\n",
      "    HPR=4.242069040756458 MDD=20.19716138604109\n"
     ]
    },
    {
     "data": {
      "application/vnd.jupyter.widget-view+json": {
       "model_id": "",
       "version_major": 2,
       "version_minor": 0
      },
      "text/plain": [
       "ratio_eth:   0%|          | 0/10 [00:00<?, ?it/s]"
      ]
     },
     "metadata": {},
     "output_type": "display_data"
    },
    {
     "name": "stdout",
     "output_type": "stream",
     "text": [
      "[Round1]ratio_krw=0.6999999999999997, ratio_btc=0.1, ratio_eth=0.2, ratio_doge=0.0, ratio_ada=2.220446049250313e-16, threshold=0.11\n",
      "    HPR=2.1534875977502255 MDD=14.19143833331446\n"
     ]
    },
    {
     "data": {
      "application/vnd.jupyter.widget-view+json": {
       "model_id": "",
       "version_major": 2,
       "version_minor": 0
      },
      "text/plain": [
       "ratio_eth:   0%|          | 0/10 [00:00<?, ?it/s]"
      ]
     },
     "metadata": {},
     "output_type": "display_data"
    },
    {
     "name": "stdout",
     "output_type": "stream",
     "text": [
      "[Round1]ratio_krw=0.6999999999999997, ratio_btc=0.2, ratio_eth=0.0, ratio_doge=0.1, ratio_ada=3.3306690738754696e-16, threshold=0.05\n",
      "    HPR=0.11551595721948082 MDD=17.225422648127974\n"
     ]
    },
    {
     "data": {
      "application/vnd.jupyter.widget-view+json": {
       "model_id": "",
       "version_major": 2,
       "version_minor": 0
      },
      "text/plain": [
       "ratio_eth:   0%|          | 0/10 [00:00<?, ?it/s]"
      ]
     },
     "metadata": {},
     "output_type": "display_data"
    },
    {
     "name": "stdout",
     "output_type": "stream",
     "text": [
      "[Round1]ratio_krw=0.6999999999999997, ratio_btc=0.30000000000000004, ratio_eth=0.0, ratio_doge=0.0, ratio_ada=2.220446049250313e-16, threshold=0.14\n",
      "    HPR=1.8550919346152384 MDD=18.190239834508887\n"
     ]
    },
    {
     "data": {
      "application/vnd.jupyter.widget-view+json": {
       "model_id": "",
       "version_major": 2,
       "version_minor": 0
      },
      "text/plain": [
       "ratio_eth:   0%|          | 0/10 [00:00<?, ?it/s]"
      ]
     },
     "metadata": {},
     "output_type": "display_data"
    },
    {
     "data": {
      "application/vnd.jupyter.widget-view+json": {
       "model_id": "",
       "version_major": 2,
       "version_minor": 0
      },
      "text/plain": [
       "ratio_eth:   0%|          | 0/10 [00:00<?, ?it/s]"
      ]
     },
     "metadata": {},
     "output_type": "display_data"
    },
    {
     "data": {
      "application/vnd.jupyter.widget-view+json": {
       "model_id": "",
       "version_major": 2,
       "version_minor": 0
      },
      "text/plain": [
       "ratio_eth:   0%|          | 0/10 [00:00<?, ?it/s]"
      ]
     },
     "metadata": {},
     "output_type": "display_data"
    },
    {
     "data": {
      "application/vnd.jupyter.widget-view+json": {
       "model_id": "",
       "version_major": 2,
       "version_minor": 0
      },
      "text/plain": [
       "ratio_eth:   0%|          | 0/10 [00:00<?, ?it/s]"
      ]
     },
     "metadata": {},
     "output_type": "display_data"
    },
    {
     "data": {
      "application/vnd.jupyter.widget-view+json": {
       "model_id": "",
       "version_major": 2,
       "version_minor": 0
      },
      "text/plain": [
       "ratio_eth:   0%|          | 0/10 [00:00<?, ?it/s]"
      ]
     },
     "metadata": {},
     "output_type": "display_data"
    },
    {
     "data": {
      "application/vnd.jupyter.widget-view+json": {
       "model_id": "",
       "version_major": 2,
       "version_minor": 0
      },
      "text/plain": [
       "ratio_eth:   0%|          | 0/10 [00:00<?, ?it/s]"
      ]
     },
     "metadata": {},
     "output_type": "display_data"
    },
    {
     "data": {
      "application/vnd.jupyter.widget-view+json": {
       "model_id": "",
       "version_major": 2,
       "version_minor": 0
      },
      "text/plain": [
       "ratio_btc:   0%|          | 0/10 [00:00<?, ?it/s]"
      ]
     },
     "metadata": {},
     "output_type": "display_data"
    },
    {
     "data": {
      "application/vnd.jupyter.widget-view+json": {
       "model_id": "",
       "version_major": 2,
       "version_minor": 0
      },
      "text/plain": [
       "ratio_eth:   0%|          | 0/10 [00:00<?, ?it/s]"
      ]
     },
     "metadata": {},
     "output_type": "display_data"
    },
    {
     "name": "stdout",
     "output_type": "stream",
     "text": [
      "[Round1]ratio_krw=0.6499999999999997, ratio_btc=0.0, ratio_eth=0.0, ratio_doge=0.30000000000000004, ratio_ada=0.050000000000000266, threshold=0.13\n",
      "    HPR=2.5625441956176775 MDD=18.732835705797825\n",
      "[Round1]ratio_krw=0.6499999999999997, ratio_btc=0.0, ratio_eth=0.0, ratio_doge=0.30000000000000004, ratio_ada=0.050000000000000266, threshold=0.14\n",
      "    HPR=2.5625441956176775 MDD=18.732835705797825\n",
      "[Round1]ratio_krw=0.6499999999999997, ratio_btc=0.0, ratio_eth=0.2, ratio_doge=0.1, ratio_ada=0.05000000000000038, threshold=0.11\n",
      "    HPR=2.1534875977502255 MDD=14.19143833331446\n",
      "[Round1]ratio_krw=0.6499999999999997, ratio_btc=0.0, ratio_eth=0.30000000000000004, ratio_doge=0.0, ratio_ada=0.050000000000000266, threshold=0.15\n",
      "    HPR=2.5951335360895778 MDD=21.058934159973795\n",
      "[Round1]ratio_krw=0.6499999999999997, ratio_btc=0.0, ratio_eth=0.30000000000000004, ratio_doge=0.0, ratio_ada=0.050000000000000266, threshold=0.16\n",
      "    HPR=4.242069040756458 MDD=20.19716138604109\n"
     ]
    },
    {
     "data": {
      "application/vnd.jupyter.widget-view+json": {
       "model_id": "",
       "version_major": 2,
       "version_minor": 0
      },
      "text/plain": [
       "ratio_eth:   0%|          | 0/10 [00:00<?, ?it/s]"
      ]
     },
     "metadata": {},
     "output_type": "display_data"
    },
    {
     "name": "stdout",
     "output_type": "stream",
     "text": [
      "[Round1]ratio_krw=0.6499999999999997, ratio_btc=0.1, ratio_eth=0.2, ratio_doge=0.0, ratio_ada=0.050000000000000266, threshold=0.11\n",
      "    HPR=2.1534875977502255 MDD=14.19143833331446\n"
     ]
    },
    {
     "data": {
      "application/vnd.jupyter.widget-view+json": {
       "model_id": "",
       "version_major": 2,
       "version_minor": 0
      },
      "text/plain": [
       "ratio_eth:   0%|          | 0/10 [00:00<?, ?it/s]"
      ]
     },
     "metadata": {},
     "output_type": "display_data"
    },
    {
     "data": {
      "application/vnd.jupyter.widget-view+json": {
       "model_id": "",
       "version_major": 2,
       "version_minor": 0
      },
      "text/plain": [
       "ratio_eth:   0%|          | 0/10 [00:00<?, ?it/s]"
      ]
     },
     "metadata": {},
     "output_type": "display_data"
    },
    {
     "name": "stdout",
     "output_type": "stream",
     "text": [
      "[Round1]ratio_krw=0.6499999999999997, ratio_btc=0.30000000000000004, ratio_eth=0.0, ratio_doge=0.0, ratio_ada=0.050000000000000266, threshold=0.14\n",
      "    HPR=1.8550919346152384 MDD=18.190239834508887\n"
     ]
    },
    {
     "data": {
      "application/vnd.jupyter.widget-view+json": {
       "model_id": "",
       "version_major": 2,
       "version_minor": 0
      },
      "text/plain": [
       "ratio_eth:   0%|          | 0/10 [00:00<?, ?it/s]"
      ]
     },
     "metadata": {},
     "output_type": "display_data"
    },
    {
     "data": {
      "application/vnd.jupyter.widget-view+json": {
       "model_id": "",
       "version_major": 2,
       "version_minor": 0
      },
      "text/plain": [
       "ratio_eth:   0%|          | 0/10 [00:00<?, ?it/s]"
      ]
     },
     "metadata": {},
     "output_type": "display_data"
    },
    {
     "data": {
      "application/vnd.jupyter.widget-view+json": {
       "model_id": "",
       "version_major": 2,
       "version_minor": 0
      },
      "text/plain": [
       "ratio_eth:   0%|          | 0/10 [00:00<?, ?it/s]"
      ]
     },
     "metadata": {},
     "output_type": "display_data"
    },
    {
     "data": {
      "application/vnd.jupyter.widget-view+json": {
       "model_id": "",
       "version_major": 2,
       "version_minor": 0
      },
      "text/plain": [
       "ratio_eth:   0%|          | 0/10 [00:00<?, ?it/s]"
      ]
     },
     "metadata": {},
     "output_type": "display_data"
    },
    {
     "data": {
      "application/vnd.jupyter.widget-view+json": {
       "model_id": "",
       "version_major": 2,
       "version_minor": 0
      },
      "text/plain": [
       "ratio_eth:   0%|          | 0/10 [00:00<?, ?it/s]"
      ]
     },
     "metadata": {},
     "output_type": "display_data"
    },
    {
     "data": {
      "application/vnd.jupyter.widget-view+json": {
       "model_id": "",
       "version_major": 2,
       "version_minor": 0
      },
      "text/plain": [
       "ratio_eth:   0%|          | 0/10 [00:00<?, ?it/s]"
      ]
     },
     "metadata": {},
     "output_type": "display_data"
    },
    {
     "data": {
      "application/vnd.jupyter.widget-view+json": {
       "model_id": "",
       "version_major": 2,
       "version_minor": 0
      },
      "text/plain": [
       "ratio_btc:   0%|          | 0/10 [00:00<?, ?it/s]"
      ]
     },
     "metadata": {},
     "output_type": "display_data"
    },
    {
     "data": {
      "application/vnd.jupyter.widget-view+json": {
       "model_id": "",
       "version_major": 2,
       "version_minor": 0
      },
      "text/plain": [
       "ratio_eth:   0%|          | 0/10 [00:00<?, ?it/s]"
      ]
     },
     "metadata": {},
     "output_type": "display_data"
    },
    {
     "name": "stdout",
     "output_type": "stream",
     "text": [
      "[Round1]ratio_krw=0.5999999999999996, ratio_btc=0.0, ratio_eth=0.0, ratio_doge=0.30000000000000004, ratio_ada=0.10000000000000031, threshold=0.13\n",
      "    HPR=2.5625441956176775 MDD=18.732835705797825\n",
      "[Round1]ratio_krw=0.5999999999999996, ratio_btc=0.0, ratio_eth=0.0, ratio_doge=0.30000000000000004, ratio_ada=0.10000000000000031, threshold=0.14\n",
      "    HPR=2.5625441956176775 MDD=18.732835705797825\n",
      "[Round1]ratio_krw=0.5999999999999996, ratio_btc=0.0, ratio_eth=0.0, ratio_doge=0.4, ratio_ada=3.3306690738754696e-16, threshold=0.18\n",
      "    HPR=0.014029351760092013 MDD=24.593433999290966\n",
      "[Round1]ratio_krw=0.5999999999999996, ratio_btc=0.0, ratio_eth=0.1, ratio_doge=0.30000000000000004, ratio_ada=3.3306690738754696e-16, threshold=0.13\n",
      "    HPR=2.5625441956176775 MDD=18.732835705797825\n",
      "[Round1]ratio_krw=0.5999999999999996, ratio_btc=0.0, ratio_eth=0.1, ratio_doge=0.30000000000000004, ratio_ada=3.3306690738754696e-16, threshold=0.14\n",
      "    HPR=2.5625441956176775 MDD=18.732835705797825\n",
      "[Round1]ratio_krw=0.5999999999999996, ratio_btc=0.0, ratio_eth=0.2, ratio_doge=0.1, ratio_ada=0.10000000000000042, threshold=0.11\n",
      "    HPR=2.1534875977502255 MDD=14.19143833331446\n",
      "[Round1]ratio_krw=0.5999999999999996, ratio_btc=0.0, ratio_eth=0.2, ratio_doge=0.2, ratio_ada=4.440892098500626e-16, threshold=0.07\n",
      "    HPR=0.07390296226994497 MDD=27.60835603932091\n",
      "[Round1]ratio_krw=0.5999999999999996, ratio_btc=0.0, ratio_eth=0.30000000000000004, ratio_doge=0.0, ratio_ada=0.10000000000000031, threshold=0.15\n",
      "    HPR=2.5951335360895778 MDD=21.058934159973795\n",
      "[Round1]ratio_krw=0.5999999999999996, ratio_btc=0.0, ratio_eth=0.30000000000000004, ratio_doge=0.0, ratio_ada=0.10000000000000031, threshold=0.16\n",
      "    HPR=4.242069040756458 MDD=20.19716138604109\n",
      "[Round1]ratio_krw=0.5999999999999996, ratio_btc=0.0, ratio_eth=0.30000000000000004, ratio_doge=0.1, ratio_ada=3.3306690738754696e-16, threshold=0.15\n",
      "    HPR=2.5951335360895778 MDD=21.058934159973795\n",
      "[Round1]ratio_krw=0.5999999999999996, ratio_btc=0.0, ratio_eth=0.30000000000000004, ratio_doge=0.1, ratio_ada=3.3306690738754696e-16, threshold=0.16\n",
      "    HPR=4.242069040756458 MDD=20.19716138604109\n",
      "[Round1]ratio_krw=0.5999999999999996, ratio_btc=0.0, ratio_eth=0.4, ratio_doge=0.0, ratio_ada=3.3306690738754696e-16, threshold=0.2\n",
      "    HPR=2.332564436974849 MDD=26.797591676983295\n"
     ]
    },
    {
     "data": {
      "application/vnd.jupyter.widget-view+json": {
       "model_id": "",
       "version_major": 2,
       "version_minor": 0
      },
      "text/plain": [
       "ratio_eth:   0%|          | 0/10 [00:00<?, ?it/s]"
      ]
     },
     "metadata": {},
     "output_type": "display_data"
    },
    {
     "name": "stdout",
     "output_type": "stream",
     "text": [
      "[Round1]ratio_krw=0.5999999999999996, ratio_btc=0.1, ratio_eth=0.0, ratio_doge=0.30000000000000004, ratio_ada=3.3306690738754696e-16, threshold=0.13\n",
      "    HPR=2.5625441956176775 MDD=18.732835705797825\n",
      "[Round1]ratio_krw=0.5999999999999996, ratio_btc=0.1, ratio_eth=0.0, ratio_doge=0.30000000000000004, ratio_ada=3.3306690738754696e-16, threshold=0.14\n",
      "    HPR=2.5625441956176775 MDD=18.732835705797825\n",
      "[Round1]ratio_krw=0.5999999999999996, ratio_btc=0.1, ratio_eth=0.2, ratio_doge=0.0, ratio_ada=0.10000000000000031, threshold=0.11\n",
      "    HPR=2.1534875977502255 MDD=14.19143833331446\n",
      "[Round1]ratio_krw=0.5999999999999996, ratio_btc=0.1, ratio_eth=0.2, ratio_doge=0.1, ratio_ada=3.3306690738754696e-16, threshold=0.11\n",
      "    HPR=2.1534875977502255 MDD=14.19143833331446\n",
      "[Round1]ratio_krw=0.5999999999999996, ratio_btc=0.1, ratio_eth=0.30000000000000004, ratio_doge=0.0, ratio_ada=3.3306690738754696e-16, threshold=0.15\n",
      "    HPR=2.5951335360895778 MDD=21.058934159973795\n",
      "[Round1]ratio_krw=0.5999999999999996, ratio_btc=0.1, ratio_eth=0.30000000000000004, ratio_doge=0.0, ratio_ada=3.3306690738754696e-16, threshold=0.16\n",
      "    HPR=4.242069040756458 MDD=20.19716138604109\n"
     ]
    },
    {
     "data": {
      "application/vnd.jupyter.widget-view+json": {
       "model_id": "",
       "version_major": 2,
       "version_minor": 0
      },
      "text/plain": [
       "ratio_eth:   0%|          | 0/10 [00:00<?, ?it/s]"
      ]
     },
     "metadata": {},
     "output_type": "display_data"
    },
    {
     "name": "stdout",
     "output_type": "stream",
     "text": [
      "[Round1]ratio_krw=0.5999999999999996, ratio_btc=0.2, ratio_eth=0.0, ratio_doge=0.2, ratio_ada=4.440892098500626e-16, threshold=0.09\n",
      "    HPR=1.806561616225677 MDD=22.53977280757928\n"
     ]
    },
    {
     "data": {
      "application/vnd.jupyter.widget-view+json": {
       "model_id": "",
       "version_major": 2,
       "version_minor": 0
      },
      "text/plain": [
       "ratio_eth:   0%|          | 0/10 [00:00<?, ?it/s]"
      ]
     },
     "metadata": {},
     "output_type": "display_data"
    },
    {
     "name": "stdout",
     "output_type": "stream",
     "text": [
      "[Round1]ratio_krw=0.5999999999999996, ratio_btc=0.30000000000000004, ratio_eth=0.0, ratio_doge=0.0, ratio_ada=0.10000000000000031, threshold=0.14\n",
      "    HPR=1.8550919346152384 MDD=18.190239834508887\n",
      "[Round1]ratio_krw=0.5999999999999996, ratio_btc=0.30000000000000004, ratio_eth=0.0, ratio_doge=0.1, ratio_ada=3.3306690738754696e-16, threshold=0.14\n",
      "    HPR=1.8550919346152384 MDD=18.190239834508887\n",
      "[Round1]ratio_krw=0.5999999999999996, ratio_btc=0.30000000000000004, ratio_eth=0.1, ratio_doge=0.0, ratio_ada=3.3306690738754696e-16, threshold=0.14\n",
      "    HPR=1.8550919346152384 MDD=18.190239834508887\n"
     ]
    },
    {
     "data": {
      "application/vnd.jupyter.widget-view+json": {
       "model_id": "",
       "version_major": 2,
       "version_minor": 0
      },
      "text/plain": [
       "ratio_eth:   0%|          | 0/10 [00:00<?, ?it/s]"
      ]
     },
     "metadata": {},
     "output_type": "display_data"
    },
    {
     "data": {
      "application/vnd.jupyter.widget-view+json": {
       "model_id": "",
       "version_major": 2,
       "version_minor": 0
      },
      "text/plain": [
       "ratio_eth:   0%|          | 0/10 [00:00<?, ?it/s]"
      ]
     },
     "metadata": {},
     "output_type": "display_data"
    },
    {
     "data": {
      "application/vnd.jupyter.widget-view+json": {
       "model_id": "",
       "version_major": 2,
       "version_minor": 0
      },
      "text/plain": [
       "ratio_eth:   0%|          | 0/10 [00:00<?, ?it/s]"
      ]
     },
     "metadata": {},
     "output_type": "display_data"
    },
    {
     "data": {
      "application/vnd.jupyter.widget-view+json": {
       "model_id": "",
       "version_major": 2,
       "version_minor": 0
      },
      "text/plain": [
       "ratio_eth:   0%|          | 0/10 [00:00<?, ?it/s]"
      ]
     },
     "metadata": {},
     "output_type": "display_data"
    },
    {
     "data": {
      "application/vnd.jupyter.widget-view+json": {
       "model_id": "",
       "version_major": 2,
       "version_minor": 0
      },
      "text/plain": [
       "ratio_eth:   0%|          | 0/10 [00:00<?, ?it/s]"
      ]
     },
     "metadata": {},
     "output_type": "display_data"
    },
    {
     "data": {
      "application/vnd.jupyter.widget-view+json": {
       "model_id": "",
       "version_major": 2,
       "version_minor": 0
      },
      "text/plain": [
       "ratio_eth:   0%|          | 0/10 [00:00<?, ?it/s]"
      ]
     },
     "metadata": {},
     "output_type": "display_data"
    },
    {
     "data": {
      "application/vnd.jupyter.widget-view+json": {
       "model_id": "",
       "version_major": 2,
       "version_minor": 0
      },
      "text/plain": [
       "ratio_btc:   0%|          | 0/10 [00:00<?, ?it/s]"
      ]
     },
     "metadata": {},
     "output_type": "display_data"
    },
    {
     "data": {
      "application/vnd.jupyter.widget-view+json": {
       "model_id": "",
       "version_major": 2,
       "version_minor": 0
      },
      "text/plain": [
       "ratio_eth:   0%|          | 0/10 [00:00<?, ?it/s]"
      ]
     },
     "metadata": {},
     "output_type": "display_data"
    },
    {
     "name": "stdout",
     "output_type": "stream",
     "text": [
      "[Round1]ratio_krw=0.5499999999999996, ratio_btc=0.0, ratio_eth=0.0, ratio_doge=0.4, ratio_ada=0.05000000000000038, threshold=0.18\n",
      "    HPR=0.014029351760092013 MDD=24.593433999290966\n",
      "[Round1]ratio_krw=0.5499999999999996, ratio_btc=0.0, ratio_eth=0.1, ratio_doge=0.30000000000000004, ratio_ada=0.05000000000000038, threshold=0.13\n",
      "    HPR=2.5625441956176775 MDD=18.732835705797825\n",
      "[Round1]ratio_krw=0.5499999999999996, ratio_btc=0.0, ratio_eth=0.1, ratio_doge=0.30000000000000004, ratio_ada=0.05000000000000038, threshold=0.14\n",
      "    HPR=2.5625441956176775 MDD=18.732835705797825\n",
      "[Round1]ratio_krw=0.5499999999999996, ratio_btc=0.0, ratio_eth=0.2, ratio_doge=0.2, ratio_ada=0.05000000000000049, threshold=0.07\n",
      "    HPR=0.07390296226994497 MDD=27.60835603932091\n",
      "[Round1]ratio_krw=0.5499999999999996, ratio_btc=0.0, ratio_eth=0.30000000000000004, ratio_doge=0.0, ratio_ada=0.15000000000000036, threshold=0.16\n",
      "    HPR=4.242069040756458 MDD=20.19716138604109\n",
      "[Round1]ratio_krw=0.5499999999999996, ratio_btc=0.0, ratio_eth=0.30000000000000004, ratio_doge=0.1, ratio_ada=0.05000000000000038, threshold=0.15\n",
      "    HPR=2.5951335360895778 MDD=21.058934159973795\n",
      "[Round1]ratio_krw=0.5499999999999996, ratio_btc=0.0, ratio_eth=0.30000000000000004, ratio_doge=0.1, ratio_ada=0.05000000000000038, threshold=0.16\n",
      "    HPR=4.242069040756458 MDD=20.19716138604109\n",
      "[Round1]ratio_krw=0.5499999999999996, ratio_btc=0.0, ratio_eth=0.4, ratio_doge=0.0, ratio_ada=0.05000000000000038, threshold=0.2\n",
      "    HPR=2.332564436974849 MDD=26.797591676983295\n"
     ]
    },
    {
     "data": {
      "application/vnd.jupyter.widget-view+json": {
       "model_id": "",
       "version_major": 2,
       "version_minor": 0
      },
      "text/plain": [
       "ratio_eth:   0%|          | 0/10 [00:00<?, ?it/s]"
      ]
     },
     "metadata": {},
     "output_type": "display_data"
    },
    {
     "name": "stdout",
     "output_type": "stream",
     "text": [
      "[Round1]ratio_krw=0.5499999999999996, ratio_btc=0.1, ratio_eth=0.0, ratio_doge=0.30000000000000004, ratio_ada=0.05000000000000038, threshold=0.13\n",
      "    HPR=2.5625441956176775 MDD=18.732835705797825\n",
      "[Round1]ratio_krw=0.5499999999999996, ratio_btc=0.1, ratio_eth=0.0, ratio_doge=0.30000000000000004, ratio_ada=0.05000000000000038, threshold=0.14\n",
      "    HPR=2.5625441956176775 MDD=18.732835705797825\n",
      "[Round1]ratio_krw=0.5499999999999996, ratio_btc=0.1, ratio_eth=0.2, ratio_doge=0.1, ratio_ada=0.05000000000000038, threshold=0.11\n",
      "    HPR=2.1534875977502255 MDD=14.19143833331446\n",
      "[Round1]ratio_krw=0.5499999999999996, ratio_btc=0.1, ratio_eth=0.30000000000000004, ratio_doge=0.0, ratio_ada=0.05000000000000038, threshold=0.15\n",
      "    HPR=2.5951335360895778 MDD=21.058934159973795\n",
      "[Round1]ratio_krw=0.5499999999999996, ratio_btc=0.1, ratio_eth=0.30000000000000004, ratio_doge=0.0, ratio_ada=0.05000000000000038, threshold=0.16\n",
      "    HPR=4.242069040756458 MDD=20.19716138604109\n"
     ]
    },
    {
     "data": {
      "application/vnd.jupyter.widget-view+json": {
       "model_id": "",
       "version_major": 2,
       "version_minor": 0
      },
      "text/plain": [
       "ratio_eth:   0%|          | 0/10 [00:00<?, ?it/s]"
      ]
     },
     "metadata": {},
     "output_type": "display_data"
    },
    {
     "name": "stdout",
     "output_type": "stream",
     "text": [
      "[Round1]ratio_krw=0.5499999999999996, ratio_btc=0.2, ratio_eth=0.0, ratio_doge=0.2, ratio_ada=0.05000000000000049, threshold=0.09\n",
      "    HPR=1.806561616225677 MDD=22.53977280757928\n"
     ]
    },
    {
     "data": {
      "application/vnd.jupyter.widget-view+json": {
       "model_id": "",
       "version_major": 2,
       "version_minor": 0
      },
      "text/plain": [
       "ratio_eth:   0%|          | 0/10 [00:00<?, ?it/s]"
      ]
     },
     "metadata": {},
     "output_type": "display_data"
    },
    {
     "name": "stdout",
     "output_type": "stream",
     "text": [
      "[Round1]ratio_krw=0.5499999999999996, ratio_btc=0.30000000000000004, ratio_eth=0.0, ratio_doge=0.1, ratio_ada=0.05000000000000038, threshold=0.14\n",
      "    HPR=1.8550919346152384 MDD=18.190239834508887\n",
      "[Round1]ratio_krw=0.5499999999999996, ratio_btc=0.30000000000000004, ratio_eth=0.1, ratio_doge=0.0, ratio_ada=0.05000000000000038, threshold=0.14\n",
      "    HPR=1.8550919346152384 MDD=18.190239834508887\n"
     ]
    },
    {
     "data": {
      "application/vnd.jupyter.widget-view+json": {
       "model_id": "",
       "version_major": 2,
       "version_minor": 0
      },
      "text/plain": [
       "ratio_eth:   0%|          | 0/10 [00:00<?, ?it/s]"
      ]
     },
     "metadata": {},
     "output_type": "display_data"
    },
    {
     "data": {
      "application/vnd.jupyter.widget-view+json": {
       "model_id": "",
       "version_major": 2,
       "version_minor": 0
      },
      "text/plain": [
       "ratio_eth:   0%|          | 0/10 [00:00<?, ?it/s]"
      ]
     },
     "metadata": {},
     "output_type": "display_data"
    },
    {
     "data": {
      "application/vnd.jupyter.widget-view+json": {
       "model_id": "",
       "version_major": 2,
       "version_minor": 0
      },
      "text/plain": [
       "ratio_eth:   0%|          | 0/10 [00:00<?, ?it/s]"
      ]
     },
     "metadata": {},
     "output_type": "display_data"
    },
    {
     "data": {
      "application/vnd.jupyter.widget-view+json": {
       "model_id": "",
       "version_major": 2,
       "version_minor": 0
      },
      "text/plain": [
       "ratio_eth:   0%|          | 0/10 [00:00<?, ?it/s]"
      ]
     },
     "metadata": {},
     "output_type": "display_data"
    },
    {
     "data": {
      "application/vnd.jupyter.widget-view+json": {
       "model_id": "",
       "version_major": 2,
       "version_minor": 0
      },
      "text/plain": [
       "ratio_eth:   0%|          | 0/10 [00:00<?, ?it/s]"
      ]
     },
     "metadata": {},
     "output_type": "display_data"
    },
    {
     "data": {
      "application/vnd.jupyter.widget-view+json": {
       "model_id": "",
       "version_major": 2,
       "version_minor": 0
      },
      "text/plain": [
       "ratio_eth:   0%|          | 0/10 [00:00<?, ?it/s]"
      ]
     },
     "metadata": {},
     "output_type": "display_data"
    }
   ],
   "source": [
    "from tqdm.notebook import tqdm\n",
    "from collections import deque\n",
    "\n",
    "results_10_20 = deque()\n",
    "results_less_10 = deque()\n",
    "\n",
    "ratio_krw_range = np.arange(1, 0.5, -0.05)\n",
    "ratio_btc_range = np.arange(0, 1, 0.1)\n",
    "ratio_eth_range = np.arange(0, 1, 0.1)\n",
    "ratio_doge_range = np.arange(0, 1, 0.1)\n",
    "#ratio_ada_range = np.arange(0, 0.55, 0.05)\n",
    "threshold_range = np.arange(0, 1, 0.01)\n",
    "\n",
    "total_iterations = len(ratio_krw_range) * len(ratio_btc_range) #* len(ratio_eth_range) * len(ratio_doge_range) * len(threshold_range)\n",
    "\n",
    "best_hpr_10_20 = 0.0\n",
    "best_ratios_10_20 = {}\n",
    "max_hpr_10_20 = 0.0\n",
    "best_ratio_10_20 = None\n",
    "\n",
    "best_hpr_less_10 = 0.0\n",
    "best_ratios_less_10 = {}\n",
    "max_hpr_less_10 = 0.0\n",
    "best_ratio_less_10 = None\n",
    "\n",
    "ratio_krw_tqdm = tqdm(ratio_krw_range, desc='ratio_krw', mininterval=2, maxinterval=5, leave=True)\n",
    "for ratio_krw in ratio_krw_tqdm:\n",
    "    ratio_krw_tqdm.set_description(f'ratio_krw = {ratio_krw}')\n",
    "    ratio_btc_tqdm = tqdm(ratio_btc_range,  desc='ratio_btc', mininterval=2, maxinterval=5, leave=False)\n",
    "    for ratio_btc in ratio_btc_tqdm:\n",
    "        ratio_btc_tqdm.set_description(f'ratio_btc = {ratio_btc}')\n",
    "        ratio_eth_tqdm = tqdm(ratio_eth_range, desc='ratio_eth', mininterval=2, maxinterval=5, position=2, leave=False)\n",
    "        for ratio_eth in ratio_eth_tqdm:\n",
    "            #ratio_eth_tqdm.set_description(f'ratio_eth = {ratio_eth}')\n",
    "            #ratio_doge_tqdm = tqdm(ratio_doge_range, desc='ratio_doge', mininterval=2, maxinterval=5, position=3, leave=False)\n",
    "            for ratio_doge in ratio_doge_range:\n",
    "                #ratio_doge_tqdm.set_description(f'ratio_doge = {ratio_doge}')\n",
    "                ratio_ada = 1 - (ratio_krw + ratio_btc + ratio_eth + ratio_doge)\n",
    "                total_ratio = ratio_krw + ratio_btc + ratio_eth + ratio_doge + ratio_ada\n",
    "                if abs(total_ratio - 1) < 1e-6 and ratio_ada >= 0:\n",
    "                    #ratio_threshold_tqdm = tqdm(threshold_range, desc='threshold', mininterval=2, maxinterval=5, position=4, leave=False)\n",
    "                    for threshold in threshold_range:\n",
    "                        #ratio_threshold_tqdm.set_description(f'threshold = {threshold}')\n",
    "                        rebalancing(df, ratio_krw, ratio_btc, ratio_eth, ratio_doge, ratio_ada, threshold)\n",
    "                        hpr, mdd = trading_helper.check_performance_rebal(df)\n",
    "                        if 0 < mdd <= 0.3 and hpr > 0:\n",
    "                            if hpr > max_hpr_10_20:\n",
    "                                max_hpr_10_20 = hpr\n",
    "                                best_ratio_10_20 = (ratio_krw, ratio_btc, ratio_eth, ratio_doge, ratio_ada, threshold)\n",
    "                            print(f'[Round1]ratio_krw={ratio_krw}, ratio_btc={ratio_btc}, ratio_eth={ratio_eth}, ratio_doge={ratio_doge}, ratio_ada={ratio_ada}, threshold={threshold}')\n",
    "                            print( f'    HPR={hpr*100} MDD={mdd*100}' )\n",
    "                            results_10_20.append((ratio_krw, ratio_btc, ratio_eth, ratio_doge, ratio_ada, threshold, hpr, mdd))\n",
    "                            best_ratios_10_20[(ratio_krw, ratio_btc, ratio_eth, ratio_doge, ratio_ada, threshold)] = hpr\n",
    "                       "
   ]
  },
  {
   "cell_type": "code",
   "execution_count": 14,
   "id": "9ca83aeb-73d9-4886-80a3-ff7566b6aac8",
   "metadata": {},
   "outputs": [
    {
     "name": "stdout",
     "output_type": "stream",
     "text": [
      "Best HPR (MDD 10-20):\n",
      "Ratios: (0.6999999999999997, 0.0, 0.30000000000000004, 0.0, 2.220446049250313e-16, 0.16)\n",
      "HPR: 0.042420690407564576\n",
      "\n",
      "Best HPR (MDD < 10):\n",
      "Ratios: None\n",
      "HPR: 0.0\n",
      "\n"
     ]
    }
   ],
   "source": [
    "# 가장 높은 HPR 출력\n",
    "print(\"Best HPR (MDD 10-20):\")\n",
    "print(\"Ratios:\", best_ratio_10_20)\n",
    "print(\"HPR:\", max_hpr_10_20)\n",
    "print()\n",
    "\n",
    "print(\"Best HPR (MDD < 10):\")\n",
    "print(\"Ratios:\", best_ratio_less_10)\n",
    "print(\"HPR:\", max_hpr_less_10)\n",
    "print()"
   ]
  },
  {
   "cell_type": "code",
   "execution_count": 15,
   "id": "efab2df9-ae48-4713-b975-d64b5ee1f7c7",
   "metadata": {},
   "outputs": [
    {
     "name": "stdout",
     "output_type": "stream",
     "text": [
      "HPR=4.242069040756458 MDD=20.19716138604109\n"
     ]
    }
   ],
   "source": [
    "rebalancing(df, 0.6999999999999997, 0.0, 0.30000000000000004, 0.0, 2.220446049250313e-16, 0.16)\n",
    "hpr, mdd = trading_helper.check_performance_rebal(df)\n",
    "print( f'HPR={hpr*100} MDD={mdd*100}' )"
   ]
  },
  {
   "cell_type": "code",
   "execution_count": null,
   "id": "2609c3cd-e82c-458f-80ee-fbbf95cbb943",
   "metadata": {},
   "outputs": [],
   "source": [
    "rebalancing(df, 1.3, 0.0, 0.05, 0.1, -0.4500000000000002, 0.35000000000000003)\n",
    "s7 = df['value'].copy()\n",
    "hpr, mdd = trading_helper.check_performance_rebal(df)\n",
    "print( f'HPR={hpr*100} MDD={mdd*100}' )\n"
   ]
  },
  {
   "cell_type": "code",
   "execution_count": null,
   "id": "11dde556-21ee-43be-a245-8c3538c35bf4",
   "metadata": {},
   "outputs": [],
   "source": [
    "# Print and store the results\n",
    "print(\"Best HPRs (MDD 10-20):\")\n",
    "for ratios, hpr in best_ratios_10_20.items():\n",
    "    print(\"Ratios:\", ratios)\n",
    "    print(\"HPR:\", hpr)\n",
    "    print()\n",
    "\n",
    "print(\"Best HPRs (MDD < 10):\")\n",
    "for ratios, hpr in best_ratios_less_10.items():\n",
    "    print(\"Ratios:\", ratios)\n",
    "    print(\"HPR:\", hpr)\n",
    "    print()"
   ]
  },
  {
   "cell_type": "code",
   "execution_count": null,
   "id": "863cb856-0f1b-4c7c-892c-a3b75c96fa27",
   "metadata": {},
   "outputs": [],
   "source": [
    "list(results_10_20)"
   ]
  },
  {
   "cell_type": "code",
   "execution_count": null,
   "id": "02b3225f-52e5-4eeb-aec3-4873824a3f0f",
   "metadata": {},
   "outputs": [],
   "source": [
    "list(results_less_10)"
   ]
  },
  {
   "cell_type": "code",
   "execution_count": null,
   "id": "9b21ec05-8194-4982-ae46-5cdc17cb101b",
   "metadata": {},
   "outputs": [],
   "source": [
    "# Sort and print the best ratios (HPR 10-20)\n",
    "sorted_ratios_10_20 = sorted(best_ratios_10_20.items(), key=lambda x: x[1], reverse=True)\n",
    "print(\"Best Ratios (HPR 10-20):\")\n",
    "for ratios, hpr in sorted_ratios_10_20:\n",
    "    print(\"Ratios:\", ratios)\n",
    "    print(\"HPR:\", hpr)\n",
    "    print()\n",
    "\n",
    "# Sort and print the best ratios (MDD < 10)\n",
    "sorted_ratios_less_10 = sorted(best_ratios_less_10.items(), key=lambda x: x[1], reverse=True)\n",
    "print(\"Best Ratios (MDD < 10):\")\n",
    "for ratios, hpr in sorted_ratios_less_10:\n",
    "    print(\"Ratios:\", ratios)\n",
    "    print(\"HPR:\", hpr)\n",
    "    print()\n"
   ]
  },
  {
   "cell_type": "code",
   "execution_count": null,
   "id": "8c8734f4-5857-417f-95de-9cc7928afb48",
   "metadata": {},
   "outputs": [],
   "source": [
    "# 가장 높은 HPR (MDD 10-20)\n",
    "best_ratio_10_20 = max(best_ratios_10_20, key=best_ratios_10_20.get)\n",
    "best_hpr_10_20 = best_ratios_10_20[best_ratio_10_20]\n",
    "\n",
    "# 가장 높은 HPR (MDD < 10)\n",
    "best_ratio_less_10 = max(best_ratios_less_10, key=best_ratios_less_10.get)\n",
    "best_hpr_less_10 = best_ratios_less_10[best_ratio_less_10]\n",
    "\n",
    "# 결과 출력\n",
    "print(\"Best HPR (MDD 10-20):\")\n",
    "print(\"Ratios:\", best_ratio_10_20)\n",
    "print(\"HPR:\", best_hpr_10_20)\n",
    "print()\n",
    "\n",
    "print(\"Best HPR (MDD < 10):\")\n",
    "print(\"Ratios:\", best_ratio_less_10)\n",
    "print(\"HPR:\", best_hpr_less_10)\n",
    "print()\n"
   ]
  },
  {
   "cell_type": "code",
   "execution_count": null,
   "id": "f47e32b0-3fd9-4fec-9d5c-7d6591826e45",
   "metadata": {},
   "outputs": [],
   "source": []
  }
 ],
 "metadata": {
  "kernelspec": {
   "display_name": "Python 3 (ipykernel)",
   "language": "python",
   "name": "python3"
  },
  "language_info": {
   "codemirror_mode": {
    "name": "ipython",
    "version": 3
   },
   "file_extension": ".py",
   "mimetype": "text/x-python",
   "name": "python",
   "nbconvert_exporter": "python",
   "pygments_lexer": "ipython3",
   "version": "3.9.10"
  },
  "toc-autonumbering": true
 },
 "nbformat": 4,
 "nbformat_minor": 5
}
