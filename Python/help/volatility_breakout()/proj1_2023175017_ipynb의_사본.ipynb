{
 "cells": [
  {
   "cell_type": "markdown",
   "metadata": {
    "id": "7jHZmrQRAtxL"
   },
   "source": [
    "# Project 1\n",
    "# Volatility Breakout Strategy\n",
    "\n",
    "#### 2023-1학기\n",
    "#### Version: 2023-05-16-v2\n",
    "\n",
    "> 분반: 01\n",
    ">\n",
    "> 학번: 2023175017\n",
    ">\n",
    "> 학과: 간호학과\n",
    ">\n",
    "> 이름: 박희영\n",
    "\n",
    "\n"
   ]
  },
  {
   "cell_type": "code",
   "execution_count": null,
   "metadata": {
    "id": "iY-TEVpkSEJ4"
   },
   "outputs": [],
   "source": [
    "# 런타임이 종료되면 이 코드셀은 매번 다시 실행해야 합니다.\n",
    "# pyupbit 설치\n",
    "#!pip install pyupbit"
   ]
  },
  {
   "cell_type": "code",
   "execution_count": 1,
   "metadata": {
    "id": "hYFModET9l9c"
   },
   "outputs": [],
   "source": [
    "# Import\n",
    "\n",
    "import numpy as np\n",
    "import pandas as pd\n",
    "import datetime\n",
    "\n",
    "import pyupbit\n"
   ]
  },
  {
   "cell_type": "code",
   "execution_count": 3,
   "metadata": {
    "id": "cS8gx8ljNiyv"
   },
   "outputs": [
    {
     "name": "stdout",
     "output_type": "stream",
     "text": [
      "--2023-05-29 12:32:32--  https://esohn.be/python/trading_helper.py\n",
      "Resolving esohn.be (esohn.be)... 18.64.8.120, 18.64.8.126, 18.64.8.8, ...\n",
      "Connecting to esohn.be (esohn.be)|18.64.8.120|:443... connected.\n",
      "HTTP request sent, awaiting response... 200 OK\n",
      "Length: 6252 (6.1K) [text/x-python]\n",
      "Saving to: ‘trading_helper.py’\n",
      "\n",
      "trading_helper.py   100%[===================>]   6.11K  --.-KB/s    in 0s      \n",
      "\n",
      "2023-05-29 12:32:32 (93.2 MB/s) - ‘trading_helper.py’ saved [6252/6252]\n",
      "\n",
      "Trading Helper Version: 2023.05.15-v1\n"
     ]
    }
   ],
   "source": [
    "# trading_helper 설치 및 버전 확인\n",
    "\n",
    "!wget https://esohn.be/python/trading_helper.py -O trading_helper.py\n",
    "\n",
    "import trading_helper\n",
    "import importlib\n",
    "importlib.reload(trading_helper)\n",
    "\n",
    "print( f'Trading Helper Version: {trading_helper.TRADING_HELPER_VERSION}'  )"
   ]
  },
  {
   "cell_type": "code",
   "execution_count": 4,
   "metadata": {
    "id": "NyKvER304v4w"
   },
   "outputs": [
    {
     "name": "stdout",
     "output_type": "stream",
     "text": [
      "Log updated! (2023-1 YCS1009-01 박희영)\n"
     ]
    }
   ],
   "source": [
    "# ------------------------------------------------------------------------------------------------------\n",
    "# https://esohn.be/account 의 AUTH CODE 로 실행 로그 기록\n",
    "# ------------------------------------------------------------------------------------------------------\n",
    "\n",
    "'''\n",
    "AUTH_CODE = 'f587ea651febd5446efc61d5e3fef123'  -> 아래에 이렇게 auth code를 붙여넣으세요.\n",
    "'''\n",
    "AUTH_CODE = '2b435454dd9860ceba97f35f7aa030f0'\n",
    "\n",
    "# Do not edit\n",
    "trading_helper.set_auth_code( AUTH_CODE )\n"
   ]
  },
  {
   "cell_type": "markdown",
   "metadata": {
    "id": "uFEL4omTY_Tr"
   },
   "source": [
    "### 가격정보 가져오기"
   ]
  },
  {
   "cell_type": "code",
   "execution_count": 5,
   "metadata": {
    "colab": {
     "base_uri": "https://localhost:8080/",
     "height": 206
    },
    "id": "wTHgVNXQSOUk",
    "outputId": "9a9aabf3-cb1b-4d48-e194-4f6bb85a1708"
   },
   "outputs": [
    {
     "data": {
      "text/html": [
       "<div>\n",
       "<style scoped>\n",
       "    .dataframe tbody tr th:only-of-type {\n",
       "        vertical-align: middle;\n",
       "    }\n",
       "\n",
       "    .dataframe tbody tr th {\n",
       "        vertical-align: top;\n",
       "    }\n",
       "\n",
       "    .dataframe thead th {\n",
       "        text-align: right;\n",
       "    }\n",
       "</style>\n",
       "<table border=\"1\" class=\"dataframe\">\n",
       "  <thead>\n",
       "    <tr style=\"text-align: right;\">\n",
       "      <th></th>\n",
       "      <th>Unnamed: 0</th>\n",
       "      <th>open</th>\n",
       "      <th>high</th>\n",
       "      <th>low</th>\n",
       "      <th>close</th>\n",
       "      <th>volume</th>\n",
       "      <th>value</th>\n",
       "    </tr>\n",
       "  </thead>\n",
       "  <tbody>\n",
       "    <tr>\n",
       "      <th>0</th>\n",
       "      <td>2020-01-01 09:00:00</td>\n",
       "      <td>8308000.0</td>\n",
       "      <td>8387000.0</td>\n",
       "      <td>8287000.0</td>\n",
       "      <td>8300000.0</td>\n",
       "      <td>1030.458147</td>\n",
       "      <td>8.582255e+09</td>\n",
       "    </tr>\n",
       "    <tr>\n",
       "      <th>1</th>\n",
       "      <td>2020-01-02 09:00:00</td>\n",
       "      <td>8300000.0</td>\n",
       "      <td>8310000.0</td>\n",
       "      <td>8026000.0</td>\n",
       "      <td>8037000.0</td>\n",
       "      <td>2054.039566</td>\n",
       "      <td>1.679080e+10</td>\n",
       "    </tr>\n",
       "    <tr>\n",
       "      <th>2</th>\n",
       "      <td>2020-01-03 09:00:00</td>\n",
       "      <td>8038000.0</td>\n",
       "      <td>8525000.0</td>\n",
       "      <td>7910000.0</td>\n",
       "      <td>8474000.0</td>\n",
       "      <td>5887.008808</td>\n",
       "      <td>4.902161e+10</td>\n",
       "    </tr>\n",
       "    <tr>\n",
       "      <th>3</th>\n",
       "      <td>2020-01-04 09:00:00</td>\n",
       "      <td>8476000.0</td>\n",
       "      <td>8520000.0</td>\n",
       "      <td>8382000.0</td>\n",
       "      <td>8482000.0</td>\n",
       "      <td>1987.266881</td>\n",
       "      <td>1.678980e+10</td>\n",
       "    </tr>\n",
       "    <tr>\n",
       "      <th>4</th>\n",
       "      <td>2020-01-05 09:00:00</td>\n",
       "      <td>8483000.0</td>\n",
       "      <td>8645000.0</td>\n",
       "      <td>8436000.0</td>\n",
       "      <td>8454000.0</td>\n",
       "      <td>2807.832172</td>\n",
       "      <td>2.403916e+10</td>\n",
       "    </tr>\n",
       "  </tbody>\n",
       "</table>\n",
       "</div>"
      ],
      "text/plain": [
       "            Unnamed: 0       open       high        low      close  \\\n",
       "0  2020-01-01 09:00:00  8308000.0  8387000.0  8287000.0  8300000.0   \n",
       "1  2020-01-02 09:00:00  8300000.0  8310000.0  8026000.0  8037000.0   \n",
       "2  2020-01-03 09:00:00  8038000.0  8525000.0  7910000.0  8474000.0   \n",
       "3  2020-01-04 09:00:00  8476000.0  8520000.0  8382000.0  8482000.0   \n",
       "4  2020-01-05 09:00:00  8483000.0  8645000.0  8436000.0  8454000.0   \n",
       "\n",
       "        volume         value  \n",
       "0  1030.458147  8.582255e+09  \n",
       "1  2054.039566  1.679080e+10  \n",
       "2  5887.008808  4.902161e+10  \n",
       "3  1987.266881  1.678980e+10  \n",
       "4  2807.832172  2.403916e+10  "
      ]
     },
     "execution_count": 5,
     "metadata": {},
     "output_type": "execute_result"
    }
   ],
   "source": [
    "# 가격정보 가져오기\n",
    "\n",
    "from_date = '20200101'\n",
    "to_date = '20221231'\n",
    "\n",
    "df = trading_helper.get_ohlcv2('KRW-BTC', date1=from_date, date2=to_date )\n",
    "\n",
    "df.head()\n"
   ]
  },
  {
   "cell_type": "markdown",
   "metadata": {
    "id": "s7SilAF8Y5oo",
    "tags": []
   },
   "source": [
    "### 아래 코드셀을 복사해서 프로젝트 코드로 붙여 넣으세요."
   ]
  },
  {
   "cell_type": "code",
   "execution_count": 6,
   "metadata": {
    "id": "fjauVJp1SB8f"
   },
   "outputs": [],
   "source": [
    "# ------------------------------------------------------------------------------------------------------\n",
    "# - 코드를 완성했다면 이 코드셀만 복사해서 competition 페이지 Volatility Breakout 탭에 라운드 별 코드 항목으로 붙여넣습니다.\n",
    "# - 연습할 때는 다음과 같은 이유로 프로젝트 페이지의 에디터에서 직접 연습하지 말고 Colab에서 연습하세요. \n",
    "#   + Colab의 연습은 서버에 횟수가 기록되어 평가에 반영됩니다.\n",
    "#   + Colab 노트북 자체에도 변경 history가 누적 됩니다. (부정행위 방지)\n",
    "#   + 프로젝트 페이지에서 submit 횟수가 지나치게 빈번한 경우 submit이 일정시간 제한될 수 있습니다.\n",
    "# ------------------------------------------------------------------------------------------------------\n",
    "\n",
    "# Given Code Version 2023.05.16-v2\n",
    "\n",
    "\n",
    "import numpy as np\n",
    "import pandas as pd\n",
    "import datetime\n",
    "\n",
    "\n",
    "# [프로젝트 1]\n",
    "# volatility_breakout() 변동성 돌파 전략 함수\n",
    "#\n",
    "# df - 일별 가격 정보를 가지고 있는 데이터 프레임\n",
    "# k - k값, 기본값은 0.5\n",
    "#\n",
    "# Qualification 라운드 에서는 상승장 구분을 사용하지 않음 (df['cond2'] = True로 남겨둠)\n",
    "# 그 외의 라운드에서는 원하는 k값과 상승장 구분을 사용하여 경쟁\n",
    "#\n",
    "def volatility_breakout( df, k=0.5 ):\n",
    "\n",
    "    if k < 0:\n",
    "        return\n",
    "        \n",
    "    # 전일 레인지 range_s = (고가 - 저가).shift(1)\n",
    "    df['range_s'] = df['high'] - df['low'].shift(1) # EDIT (1)\n",
    "\n",
    "    # 목표 매수가 = 오늘 시가 + 전일 레인지 * k\n",
    "    df['target'] = df['open'] + df['range_s'] * k # EDIT (2)\n",
    "\n",
    "    # 먄약 이동평균을 활용하고 싶으면 다음과 같이 이동평균 열을 추가\n",
    "    # df['ma5'] = df['close'].rolling(5).mean().shift(1)\n",
    "    # df['ma20'] = df['close'].rolling(20).mean().shift(1)\n",
    "    # df['ma50'] = df['close'].rolling(50).mean().shift(1)\n",
    "\n",
    "    #--------------------------------------------------------------\n",
    "    # 조건 1 - 변동성 돌파 ( np.where( 고가 >= 목표 매수가, True, False ) )\n",
    "    '''\n",
    "    cond1 에는 변동성 돌파 전략을 위한 수식만 사용 가능합니다.\n",
    "    '''\n",
    "\n",
    "    df['cond1'] = np.where(df['high'] >= df['target'], True, False) # EDIT (3)\n",
    "    #--------------------------------------------------------------\n",
    "\n",
    "    #--------------------------------------------------------------\n",
    "    # 조건 2 - 상승장 구분 (optional)\n",
    "    #\n",
    "    # 추가 조건이 없다면,\n",
    "    #   df['cond2'] = True \n",
    "    # 5일 이동평균보다 시가가 높을 때만 매매한다면, \n",
    "    #   df['cond2'] = np.where( (df['open'] >= df['ma5']), True, False )\n",
    "    # 3일 이동평균 및 5일 이동평균보다 시가가 높을 때만 매매한다면,\n",
    "    #   df['cond2'] = np.where( (df['open'] >= df['ma3']) & (df['open'] >= df['ma5']), True, False )\n",
    "    # \n",
    "    '''\n",
    "    cond2 에서 open 이외에 오늘 결정되지 않은 미래의 정보(close, high, low, volume)를 그냥 사용하면 안됩니다.\n",
    "    .shift(1) 를 붙이면 모두 사용 가능합니다.\n",
    "\n",
    "    예를 들어, \n",
    "    - df['open'] : 사용 가능\n",
    "    - df['close'].shift(1) : 사용 가능\n",
    "    - df['high'] : 사용 불가능\n",
    "    - df['low'].shift(1) : 사용 가능\n",
    "    - df['close'].shift(2) : 사용 가능\n",
    "    '''\n",
    "    \n",
    "    df['cond2'] = True # EDITABLE\n",
    "    #--------------------------------------------------------------\n",
    "\n",
    "    return df\n",
    "\n",
    "# 이 코드 셀은 함수 정의 이외에는 다른 내용을 아래에 덧붙이지 마세요.\n",
    "# ------------------------------------------------------------------------------------------------------\n"
   ]
  },
  {
   "cell_type": "markdown",
   "metadata": {
    "id": "dP9iv2GPZBxM"
   },
   "source": [
    "### k=0.5, 0.8일 때의 HPR, MDD"
   ]
  },
  {
   "cell_type": "code",
   "execution_count": 15,
   "metadata": {
    "colab": {
     "base_uri": "https://localhost:8080/"
    },
    "id": "K6YAJgb3Imqq",
    "outputId": "99907302-efc2-4b4e-cd2f-076c72bc0a8d"
   },
   "outputs": [
    {
     "name": "stdout",
     "output_type": "stream",
     "text": [
      "HPR = -98.1%, MDD = 98.2%\n"
     ]
    }
   ],
   "source": [
    "# 함수 테스트 (k = 0.5)\n",
    "\n",
    "volatility_breakout( df, 0.5 )\n",
    "\n",
    "hpr, mdd = trading_helper.check_performance_vol( df )\n",
    "\n",
    "print( f'HPR = {hpr * 100:.1f}%, MDD = {mdd * 100:.1f}%' )"
   ]
  },
  {
   "cell_type": "code",
   "execution_count": 8,
   "metadata": {
    "colab": {
     "base_uri": "https://localhost:8080/"
    },
    "id": "pjMgp-K74lev",
    "outputId": "098bc96e-09e3-4708-f4ff-21f4ec5a8a43"
   },
   "outputs": [
    {
     "name": "stdout",
     "output_type": "stream",
     "text": [
      "HPR = -81.0%, MDD = 81.2%\n"
     ]
    }
   ],
   "source": [
    "# 함수 테스트 (k = 0.8)\n",
    "\n",
    "volatility_breakout( df, 0.8 )\n",
    "\n",
    "hpr, mdd = trading_helper.check_performance_vol( df )\n",
    "\n",
    "print( f'HPR = {hpr * 100:.1f}%, MDD = {mdd * 100:.1f}%' )"
   ]
  },
  {
   "cell_type": "markdown",
   "metadata": {
    "id": "OwI8nSHJZHGF"
   },
   "source": [
    "### HPR 그래프"
   ]
  },
  {
   "cell_type": "code",
   "execution_count": null,
   "metadata": {
    "id": "qxO3mu3cY3y4"
   },
   "outputs": [],
   "source": [
    "# 기간 수익률(HPR) 변화 추이 그래프\n",
    "\n",
    "( (df['hpr']-1) * 100).plot( figsize=(15,3) )"
   ]
  },
  {
   "cell_type": "markdown",
   "metadata": {
    "id": "9kGf7vgHZJbj"
   },
   "source": [
    "### MDD 그래프"
   ]
  },
  {
   "cell_type": "code",
   "execution_count": null,
   "metadata": {
    "id": "CdNxaLF1443J"
   },
   "outputs": [],
   "source": [
    "# 낙폭(Drawdown) 변화 추이 그래프\n",
    "\n",
    "(-df['dd'] * 100).plot( figsize=(15,3) )"
   ]
  },
  {
   "cell_type": "markdown",
   "metadata": {
    "id": "yUNIeX3SZLc9"
   },
   "source": [
    "### 여러 개의 k값을 시도해보고 싶을 때"
   ]
  },
  {
   "cell_type": "code",
   "execution_count": null,
   "metadata": {
    "colab": {
     "base_uri": "https://localhost:8080/"
    },
    "id": "ymt7FzU3Wg01",
    "outputId": "75487577-dc52-45b5-cd8d-348f8495bf94"
   },
   "outputs": [
    {
     "name": "stdout",
     "output_type": "stream",
     "text": [
      "HPR= -98.4% MDD= 98.4% k= 0.48\n",
      "HPR= -98.6% MDD= 98.6% k= 0.46\n",
      "HPR= -98.6% MDD= 98.7% k= 0.44\n",
      "HPR= -98.8% MDD= 98.8% k= 0.42\n",
      "HPR= -98.9% MDD= 98.9% k= 0.40\n"
     ]
    }
   ],
   "source": [
    "# 여러개의 k값을 시도해보고 싶을 때\n",
    "\n",
    "records = [];\n",
    "\n",
    "for k in np.arange(0.4, 0.5, 0.02):\n",
    "\n",
    "    volatility_breakout( df, k )\n",
    "\n",
    "    hpr, mdd = trading_helper.check_performance_vol( df )\n",
    "\n",
    "    records.append( ( hpr * 100, mdd * 100, k) )\n",
    "\n",
    "records.sort(reverse=True)\n",
    "\n",
    "for record in records:\n",
    "    print(f'HPR= {record[0]:.1f}% MDD= {record[1]:.1f}% k= {record[2]:.2f}')\n"
   ]
  },
  {
   "cell_type": "markdown",
   "metadata": {
    "id": "l_YC8kb9Ism6"
   },
   "source": [
    "# 코드 보관 장소 \n",
    "### 아래에 보관하고 싶은 코드를 자유롭게 수정/추가할 수 있습니다.\n",
    "---"
   ]
  },
  {
   "cell_type": "markdown",
   "metadata": {
    "id": "CHh8zsYMHWI6"
   },
   "source": [
    "### Qual. Round 1, 2 Code"
   ]
  },
  {
   "cell_type": "code",
   "execution_count": null,
   "metadata": {
    "id": "XZ-C9gD4HdmK"
   },
   "outputs": [],
   "source": []
  },
  {
   "cell_type": "markdown",
   "metadata": {
    "id": "notzwJjsHg30"
   },
   "source": [
    "### Comp. Round 1 (MDD 20) Code\n",
    "\n",
    "> Indented block\n",
    "\n"
   ]
  },
  {
   "cell_type": "code",
   "execution_count": null,
   "metadata": {
    "id": "mZu5ugxlHscs"
   },
   "outputs": [],
   "source": []
  },
  {
   "cell_type": "markdown",
   "metadata": {
    "id": "BDdlE8mzHs5m"
   },
   "source": [
    "### Comp. Round 2 (MDD 10) Code"
   ]
  },
  {
   "cell_type": "code",
   "execution_count": null,
   "metadata": {
    "id": "573Rlo1gHvYA"
   },
   "outputs": [],
   "source": []
  },
  {
   "cell_type": "markdown",
   "metadata": {
    "id": "SsaDD6nCHwA5"
   },
   "source": [
    "### Bonus Round Code"
   ]
  },
  {
   "cell_type": "code",
   "execution_count": null,
   "metadata": {
    "id": "okCfkGLsH6d2"
   },
   "outputs": [],
   "source": []
  }
 ],
 "metadata": {
  "colab": {
   "provenance": []
  },
  "kernelspec": {
   "display_name": "Python 3 (ipykernel)",
   "language": "python",
   "name": "python3"
  },
  "language_info": {
   "codemirror_mode": {
    "name": "ipython",
    "version": 3
   },
   "file_extension": ".py",
   "mimetype": "text/x-python",
   "name": "python",
   "nbconvert_exporter": "python",
   "pygments_lexer": "ipython3",
   "version": "3.9.10"
  }
 },
 "nbformat": 4,
 "nbformat_minor": 4
}
