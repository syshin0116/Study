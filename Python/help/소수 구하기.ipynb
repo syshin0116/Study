{
 "cells": [
  {
   "cell_type": "code",
   "execution_count": 6,
   "id": "5af896e5-4864-4dc3-addd-4e82c543d963",
   "metadata": {},
   "outputs": [],
   "source": [
    "def fiveTen(n):\n",
    "    for i in range(n):\n",
    "        print('*')\n",
    "    if n <=5:\n",
    "        print(\"Under or Equal 5\")\n",
    "    elif n>5 and n<=10:\n",
    "        print(\"5 and 10\")\n",
    "    else:\n",
    "        print(\"Over 10\")"
   ]
  },
  {
   "cell_type": "code",
   "execution_count": 8,
   "id": "e9534dec-4e63-4643-93d9-46a5b35043a7",
   "metadata": {},
   "outputs": [
    {
     "name": "stdout",
     "output_type": "stream",
     "text": [
      "*\n",
      "*\n",
      "*\n",
      "Under or Equal 5\n",
      "*\n",
      "*\n",
      "*\n",
      "*\n",
      "*\n",
      "*\n",
      "*\n",
      "5 and 10\n",
      "*\n",
      "*\n",
      "*\n",
      "*\n",
      "*\n",
      "*\n",
      "*\n",
      "*\n",
      "*\n",
      "*\n",
      "*\n",
      "Over 10\n"
     ]
    }
   ],
   "source": [
    "fiveTen(3)\n",
    "fiveTen(7)\n",
    "fiveTen(11)"
   ]
  },
  {
   "cell_type": "code",
   "execution_count": 31,
   "id": "b3793882-9ea8-4e58-a49d-725a8d2550a3",
   "metadata": {},
   "outputs": [
    {
     "name": "stdout",
     "output_type": "stream",
     "text": [
      "현재 입력받은: 0\n",
      "sum: 0\n",
      "\n",
      "현재 입력받은: 9\n",
      "소수: 2\n",
      "소수: 3\n",
      "소수: 5\n",
      "소수: 7\n",
      "sum: 17\n",
      "\n",
      "현재 입력받은: 3\n",
      "소수: 2\n",
      "소수: 3\n",
      "sum: 5\n",
      "\n",
      "현재 입력받은: 15\n",
      "소수: 2\n",
      "소수: 3\n",
      "소수: 5\n",
      "소수: 7\n",
      "소수: 11\n",
      "소수: 13\n",
      "sum: 41\n",
      "\n"
     ]
    }
   ],
   "source": [
    "def findPrimes(max_num):\n",
    "    sum = 0\n",
    "    print(\"현재 입력받은:\", max_num)\n",
    "    \n",
    "    ### Modify code here ###\n",
    "    for i in range(2, max_num+1):\n",
    "        prime = True\n",
    "        for j in range(2, i):\n",
    "            if i % j == 0:\n",
    "                prime = False\n",
    "                break\n",
    "        if prime:\n",
    "            print(\"소수:\", i)\n",
    "            sum+=i\n",
    "    ### End of your code ###\n",
    "    \n",
    "    print(\"sum:\", sum)\n",
    "    print(\"\")\n",
    "findPrimes(0)\n",
    "findPrimes(9)\n",
    "findPrimes(3)\n",
    "findPrimes(15)"
   ]
  },
  {
   "cell_type": "markdown",
   "id": "ed0e1968-eae5-4281-b211-9844566d0377",
   "metadata": {},
   "source": [
    "## 2.\n",
    "- 약수는 항상 대칭성의 원리를 만족함\n",
    "\n",
    "- 16의 약수 1,2,4,8,16은 중앙값 4를 중심으로 했을 때,  2로 곱하고, 나누고를 통해서 만들어 낼 수 있는 숫자임\n",
    "\n",
    "- 즉, 숫자 N의 소수 여부를 판별하기 위해서는, 굳이 N-1까지의 약수를 모두 체크할 필요 없이, N의 제곱근까지만 검사했을 때 약수가 없으면, 그냥 약수가 없다는 것을 의미함\n",
    "\n",
    "- 이를 활용하면 시간복잡도를 nlogn으로 줄일 수 있음"
   ]
  },
  {
   "cell_type": "code",
   "execution_count": 20,
   "id": "1af47190-855e-4de0-a035-d9c46478fb8e",
   "metadata": {},
   "outputs": [],
   "source": [
    "def GetPrimeSqrt(n):\n",
    "    res = []\n",
    "    for i in range(2, n+1):\n",
    "        is_prime = True\n",
    "        for j in range(2, int(math.sqrt(i))+1):\n",
    "            if i % j == 0:\n",
    "                is_prime = False\n",
    "                break\n",
    "        if is_prime:\n",
    "            res.append(i)\n",
    "    return res"
   ]
  },
  {
   "cell_type": "markdown",
   "id": "23563280-3d75-452c-bf1c-0e7d4d2592b8",
   "metadata": {},
   "source": [
    "## 3.\n",
    "- 취준 중에 알고리즘 문제 사이트에서 문제를 풀었다면 한번쯤 만나봤을, \"에라토스테네스의 체\"를 활용할 수 있다.\n",
    "\n",
    "- 그리고 에라토스테네스의 체를 사용할 때에도, 위의 대칭성의 원리를 활용하면 더 연산량을 줄일 수 있다.\n",
    "\n",
    "- 해당 방식은 n이 클 때 유리한 방법으로, 불필요한 반복 연산을 줄여준다."
   ]
  },
  {
   "cell_type": "code",
   "execution_count": 21,
   "id": "3830e424-6bfd-4ec4-8a27-bae21185f195",
   "metadata": {},
   "outputs": [],
   "source": [
    "def GetPrimeEratosthenes(n):\n",
    "    chk = [True]*(n+1)\n",
    "    res = []\n",
    "    chk[0], chk[1] = False, False\n",
    "    for i in range(2, int(math.sqrt(n))+1):\n",
    "        if chk[i]:\n",
    "            res.append(i)\n",
    "            j = 2\n",
    "            while i*j <= n:\n",
    "                chk[i*j] = False\n",
    "                j += 1\n",
    "    res = [x for x in range(n+1) if chk[x]]\n",
    "    return res"
   ]
  },
  {
   "cell_type": "markdown",
   "id": "cb266e0d-1d1f-40a1-825d-43ef81e5dc97",
   "metadata": {},
   "source": [
    "## 비교"
   ]
  },
  {
   "cell_type": "code",
   "execution_count": 23,
   "id": "dc976d24-d3ec-4a45-93d8-37588d519d7b",
   "metadata": {},
   "outputs": [
    {
     "name": "stdout",
     "output_type": "stream",
     "text": [
      "GetPrimeNoOpt\n",
      "13729.776859283447ms\n",
      "GetPrimeSqrt\n",
      "82.98301696777344ms\n",
      "GetPrimeEratosthenes\n",
      "16.223907470703125ms\n"
     ]
    }
   ],
   "source": [
    "# get prime numbers in range(1, N)\n",
    "# GetPrimeNoOpt - No Optimization\n",
    "# GetPrimeSqrt - Sqrt Optimization\n",
    "# GetPrimeEratosthenes - Sieve of Eratosthenes\n",
    "import math, time\n",
    "\n",
    "def GetPrimeNoOpt(n):\n",
    "    res = []\n",
    "    for i in range(2, n+1):\n",
    "        is_prime = True\n",
    "        for j in range(2, i):\n",
    "            if i % j == 0:\n",
    "                is_prime = False\n",
    "                break\n",
    "        if is_prime:\n",
    "            res.append(i)\n",
    "    return res\n",
    "\n",
    "def GetPrimeSqrt(n):\n",
    "    res = []\n",
    "    for i in range(2, n+1):\n",
    "        is_prime = True\n",
    "        for j in range(2, int(math.sqrt(i))+1):\n",
    "            if i % j == 0:\n",
    "                is_prime = False\n",
    "                break\n",
    "        if is_prime:\n",
    "            res.append(i)\n",
    "    return res\n",
    "\n",
    "def GetPrimeEratosthenes(n):\n",
    "    chk = [True]*(n+1)\n",
    "    res = []\n",
    "    chk[0], chk[1] = False, False\n",
    "    for i in range(2, int(math.sqrt(n))+1):\n",
    "        if chk[i]:\n",
    "            res.append(i)\n",
    "            j = 2\n",
    "            while i*j <= n:\n",
    "                chk[i*j] = False\n",
    "                j += 1\n",
    "    res = [x for x in range(n+1) if chk[x]]\n",
    "    return res\n",
    "\n",
    "start = time.time()\n",
    "GetPrimeNoOpt(100000)\n",
    "print(\"GetPrimeNoOpt\")\n",
    "print(f\"{(time.time() - start)*1000}ms\")\n",
    "start = time.time()\n",
    "GetPrimeSqrt(100000)\n",
    "print(\"GetPrimeSqrt\")\n",
    "print(f\"{(time.time() - start)*1000}ms\")\n",
    "start = time.time()\n",
    "GetPrimeEratosthenes(100000)\n",
    "print(\"GetPrimeEratosthenes\")\n",
    "print(f\"{(time.time() - start)*1000}ms\")"
   ]
  },
  {
   "cell_type": "code",
   "execution_count": 29,
   "id": "442aa489-01f7-4209-9f4a-6192dfeb5af2",
   "metadata": {},
   "outputs": [
    {
     "name": "stdout",
     "output_type": "stream",
     "text": [
      "GetPrimeEratosthenes\n",
      "33.61392021179199ms\n"
     ]
    }
   ],
   "source": [
    "start = time.time()\n",
    "GetPrimeEratosthenes(100000)\n",
    "print(\"GetPrimeEratosthenes\")\n",
    "print(f\"{(time.time() - start)*1000}ms\")"
   ]
  },
  {
   "cell_type": "code",
   "execution_count": 32,
   "id": "693b07ae-e9c5-4875-8817-a57d2065a5ea",
   "metadata": {},
   "outputs": [],
   "source": [
    "student_num, student_name = input().split(\"_\")"
   ]
  },
  {
   "cell_type": "code",
   "execution_count": 33,
   "id": "5412b2aa-70bc-4cfa-8963-91e72d1a13ba",
   "metadata": {},
   "outputs": [
    {
     "data": {
      "text/plain": [
       "'이름'"
      ]
     },
     "execution_count": 33,
     "metadata": {},
     "output_type": "execute_result"
    }
   ],
   "source": [
    "name"
   ]
  },
  {
   "cell_type": "code",
   "execution_count": 34,
   "id": "bf1fbf34-3fcf-4498-802d-906e334606aa",
   "metadata": {},
   "outputs": [
    {
     "data": {
      "text/plain": [
       "'학번'"
      ]
     },
     "execution_count": 34,
     "metadata": {},
     "output_type": "execute_result"
    }
   ],
   "source": [
    "no"
   ]
  },
  {
   "cell_type": "code",
   "execution_count": 41,
   "id": "3011c609-7288-4e7b-a269-99891c389ec0",
   "metadata": {},
   "outputs": [
    {
     "name": "stdin",
     "output_type": "stream",
     "text": [
      " 1234_asdf\n"
     ]
    }
   ],
   "source": [
    "string = input()\n",
    "for i in range(len(string)):\n",
    "    if string[i]==\"_\":\n",
    "        student_num = string[:i]\n",
    "        student_name = string[i+1:]"
   ]
  },
  {
   "cell_type": "code",
   "execution_count": 42,
   "id": "dce6db3a-55b7-4ee2-928e-f32bf21c1d14",
   "metadata": {},
   "outputs": [
    {
     "data": {
      "text/plain": [
       "'1234'"
      ]
     },
     "execution_count": 42,
     "metadata": {},
     "output_type": "execute_result"
    }
   ],
   "source": [
    "student_num"
   ]
  },
  {
   "cell_type": "code",
   "execution_count": 43,
   "id": "9b10ed6c-2e3e-4f69-9be2-b77faa47cedc",
   "metadata": {},
   "outputs": [
    {
     "data": {
      "text/plain": [
       "'asdf'"
      ]
     },
     "execution_count": 43,
     "metadata": {},
     "output_type": "execute_result"
    }
   ],
   "source": [
    "student_name"
   ]
  },
  {
   "cell_type": "code",
   "execution_count": null,
   "id": "8b2328ba-9323-4739-96c8-a0f94148c073",
   "metadata": {},
   "outputs": [],
   "source": []
  }
 ],
 "metadata": {
  "kernelspec": {
   "display_name": "Python 3 (ipykernel)",
   "language": "python",
   "name": "python3"
  },
  "language_info": {
   "codemirror_mode": {
    "name": "ipython",
    "version": 3
   },
   "file_extension": ".py",
   "mimetype": "text/x-python",
   "name": "python",
   "nbconvert_exporter": "python",
   "pygments_lexer": "ipython3",
   "version": "3.9.10"
  }
 },
 "nbformat": 4,
 "nbformat_minor": 5
}
