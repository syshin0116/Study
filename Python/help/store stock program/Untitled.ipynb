{
 "cells": [
  {
   "cell_type": "code",
   "execution_count": 2,
   "id": "0de37da9-bca8-479a-95db-ec50ea23db56",
   "metadata": {},
   "outputs": [
    {
     "name": "stdout",
     "output_type": "stream",
     "text": [
      "Main menu:\n",
      "What would you like to do?\n",
      "    S: Sell item\n",
      "    P: Print stock\n",
      "    R: Report sales\n",
      "    E: Exit\n"
     ]
    },
    {
     "name": "stdin",
     "output_type": "stream",
     "text": [
      "Enter your choice (S, P, R, or E):  S\n",
      "Enter the item to sell:  apple\n",
      "Enter the quantity to sell:  100\n"
     ]
    },
    {
     "name": "stdout",
     "output_type": "stream",
     "text": [
      "Sold 100 apple(s) for 90000 pesos.\n",
      "Main menu:\n",
      "What would you like to do?\n",
      "    S: Sell item\n",
      "    P: Print stock\n",
      "    R: Report sales\n",
      "    E: Exit\n"
     ]
    },
    {
     "name": "stdin",
     "output_type": "stream",
     "text": [
      "Enter your choice (S, P, R, or E):  P\n"
     ]
    },
    {
     "name": "stdout",
     "output_type": "stream",
     "text": [
      "Stock:\n",
      "apple, Price: 900, Quantity: 90\n",
      "carrot, Price: 600, Quantity: 60\n",
      "cucumber, Price: 900, Quantity: 30\n",
      "egg plant, Price: 1100, Quantity: 20\n",
      "garlic, Price: 300, Quantity: 70\n",
      "orange, Price: 1300, Quantity: 90\n",
      "pineapple, Price: 550, Quantity: 13\n",
      "zucchini, Price: 1300, Quantity: 10\n",
      "Main menu:\n",
      "What would you like to do?\n",
      "    S: Sell item\n",
      "    P: Print stock\n",
      "    R: Report sales\n",
      "    E: Exit\n"
     ]
    },
    {
     "name": "stdin",
     "output_type": "stream",
     "text": [
      "Enter your choice (S, P, R, or E):  R\n"
     ]
    },
    {
     "name": "stdout",
     "output_type": "stream",
     "text": [
      "Sales:\n",
      "apple, Quantity: 100, Price: 900\n",
      "Total sales: 90000 pesos.\n",
      "Main menu:\n",
      "What would you like to do?\n",
      "    S: Sell item\n",
      "    P: Print stock\n",
      "    R: Report sales\n",
      "    E: Exit\n"
     ]
    },
    {
     "name": "stdin",
     "output_type": "stream",
     "text": [
      "Enter your choice (S, P, R, or E):  E\n"
     ]
    },
    {
     "name": "stdout",
     "output_type": "stream",
     "text": [
      "Goodbye!\n"
     ]
    }
   ],
   "source": [
    "# Import required libraries\n",
    "import os\n",
    "\n",
    "# Define function to load stock data from file\n",
    "def load_stock(filename):\n",
    "    stock_list = []\n",
    "    with open(filename, 'r') as f:\n",
    "        for line in f:\n",
    "            item, price, quantity = line.strip().split(',')\n",
    "            stock_list.append({'item': item, 'price': int(price), 'quantity': int(quantity)})\n",
    "    return stock_list\n",
    "\n",
    "# Define function to store stock data to file\n",
    "def store_stock(stock_list, filename):\n",
    "    with open(filename, 'w') as f:\n",
    "        for stock in stock_list:\n",
    "            f.write(stock['item'] + ',' + str(stock['price']) + ',' + str(stock['quantity']) + '\\n')\n",
    "\n",
    "# Define function to sell item\n",
    "def sell_item(stock_list, sales_hist):\n",
    "    item = input('Enter the item to sell: ')\n",
    "    quantity = int(input('Enter the quantity to sell: '))\n",
    "    for stock in stock_list:\n",
    "        if stock['item'] == item:\n",
    "            if stock['quantity'] >= quantity:\n",
    "                stock['quantity'] -= quantity\n",
    "                sales_hist.append({'item': item, 'quantity': quantity, 'price': stock['price']})\n",
    "                print(f'Sold {quantity} {item}(s) for {quantity * stock[\"price\"]} won.')\n",
    "            else:\n",
    "                print('Insufficient stock.')\n",
    "            break\n",
    "    else:\n",
    "        print('Item not found.')\n",
    "\n",
    "# Define function to print stock\n",
    "def print_stock(stock_list):\n",
    "    print('Stock:')\n",
    "    for stock in stock_list:\n",
    "        print(f'{stock[\"item\"]}, Price: {stock[\"price\"]}, Quantity: {stock[\"quantity\"]}')\n",
    "        \n",
    "# Define function to report sales\n",
    "def report_sales(sales_hist):\n",
    "    total_sales = 0\n",
    "    print('Sales:')\n",
    "    for sale in sales_hist:\n",
    "        print(f'{sale[\"item\"]}, Quantity: {sale[\"quantity\"]}, Price: {sale[\"price\"]}')\n",
    "        total_sales += sale['quantity'] * sale['price']\n",
    "    print(f'Total sales: {total_sales} won.')\n",
    "\n",
    "# Define main function\n",
    "def main():\n",
    "    # Load stock data from file\n",
    "    stock_list = load_stock('stock.txt')\n",
    "    \n",
    "    # Sort stock data by item name\n",
    "    stock_list.sort(key=lambda x: x['item'])\n",
    "    \n",
    "    # Initialize sales history\n",
    "    sales_hist = []\n",
    "    \n",
    "    # Start main loop\n",
    "    while True:\n",
    "        # Display menu\n",
    "        print('Main menu:')\n",
    "        print('What would you like to do?')\n",
    "        print('    S: Sell item')\n",
    "        print('    P: Print stock')\n",
    "        print('    R: Report sales')\n",
    "        print('    E: Exit')\n",
    "        choice = input('Enter your choice (S, P, R, or E): ')\n",
    "        \n",
    "        # Process user choice\n",
    "        if choice == 'S':\n",
    "            sell_item(stock_list, sales_hist)\n",
    "        elif choice == 'P':\n",
    "            print_stock(stock_list)\n",
    "        elif choice == 'R':\n",
    "            report_sales(sales_hist)\n",
    "        elif choice == 'E':\n",
    "            # Write stock data back to file\n",
    "            store_stock(stock_list, 'stock.txt')\n",
    "            print('Goodbye!')\n",
    "            break\n",
    "        else:\n",
    "            print('Invalid choice.')\n",
    "\n",
    "if __name__ == '__main__':\n",
    "    main()\n"
   ]
  },
  {
   "cell_type": "code",
   "execution_count": null,
   "id": "e38704c7-7da9-4f33-88b7-adeb0f8b8716",
   "metadata": {},
   "outputs": [],
   "source": []
  }
 ],
 "metadata": {
  "kernelspec": {
   "display_name": "Python 3 (ipykernel)",
   "language": "python",
   "name": "python3"
  },
  "language_info": {
   "codemirror_mode": {
    "name": "ipython",
    "version": 3
   },
   "file_extension": ".py",
   "mimetype": "text/x-python",
   "name": "python",
   "nbconvert_exporter": "python",
   "pygments_lexer": "ipython3",
   "version": "3.9.10"
  }
 },
 "nbformat": 4,
 "nbformat_minor": 5
}
