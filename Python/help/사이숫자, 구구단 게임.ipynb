{
 "cells": [
  {
   "cell_type": "code",
   "execution_count": 2,
   "id": "456a2fac-474c-4305-8718-03a935cb03fb",
   "metadata": {},
   "outputs": [
    {
     "name": "stdout",
     "output_type": "stream",
     "text": [
      "[본인학번이름작성]\n",
      "아래 메뉴에서 원하여 번호를 입력하세요\n",
      "[*** 메뉴 ***]\n"
     ]
    },
    {
     "name": "stdin",
     "output_type": "stream",
     "text": [
      "1.두 수 사이의 홀수 합 구하기  2.구구단 : 3\n"
     ]
    },
    {
     "name": "stdout",
     "output_type": "stream",
     "text": [
      "입력오류!! 1 또는 2만 입력하세요\n"
     ]
    },
    {
     "name": "stdin",
     "output_type": "stream",
     "text": [
      "계속하시겟습니까?(y/n): y\n"
     ]
    },
    {
     "name": "stdout",
     "output_type": "stream",
     "text": [
      "[*** 메뉴 ***]\n"
     ]
    },
    {
     "name": "stdin",
     "output_type": "stream",
     "text": [
      "1.두 수 사이의 홀수 합 구하기  2.구구단 : 1\n",
      "** 첫 번째 숫자를 입력하세요: 3\n",
      "** 두 번째 숫자를 입력하세요: 34\n"
     ]
    },
    {
     "name": "stdout",
     "output_type": "stream",
     "text": [
      "3 5 7 9 11 13 15 17 19 21 23 25 27 29 31 33 \n",
      "3과 34사이의 홀수 합 : 288\n"
     ]
    },
    {
     "name": "stdin",
     "output_type": "stream",
     "text": [
      "계속하시겟습니까?(y/n): y\n"
     ]
    },
    {
     "name": "stdout",
     "output_type": "stream",
     "text": [
      "[*** 메뉴 ***]\n"
     ]
    },
    {
     "name": "stdin",
     "output_type": "stream",
     "text": [
      "1.두 수 사이의 홀수 합 구하기  2.구구단 : 2\n",
      "원하는 단을 입력하세요: 7\n"
     ]
    },
    {
     "name": "stdout",
     "output_type": "stream",
     "text": [
      "7 X 3 = 21\n",
      "7 X 6 = 42\n",
      "7 X 9 = 63\n"
     ]
    },
    {
     "name": "stdin",
     "output_type": "stream",
     "text": [
      "계속하시겟습니까?(y/n): n\n"
     ]
    },
    {
     "name": "stdout",
     "output_type": "stream",
     "text": [
      "프로그램을 종료합니다.!\n"
     ]
    }
   ],
   "source": [
    "print('[본인학번이름작성]')\n",
    "print('아래 메뉴에서 원하여 번호를 입력하세요')\n",
    "while True:\n",
    "    print('[*** 메뉴 ***]')\n",
    "    menu = input('1.두 수 사이의 홀수 합 구하기  2.구구단 :')\n",
    "    if menu == '1':\n",
    "        num1 = int(input('** 첫 번째 숫자를 입력하세요:'))\n",
    "        num2 = int(input('** 두 번째 숫자를 입력하세요:'))\n",
    "        total = 0\n",
    "        for i in range(num1, num2+1):\n",
    "            if i % 2 == 1:\n",
    "                print(i, end=' ')\n",
    "                total += i\n",
    "        print(f'\\n{num1}과 {num2}사이의 홀수 합 : {total}')\n",
    "    elif menu == '2':\n",
    "        num3 = int(input('원하는 단을 입력하세요:'))\n",
    "        for i in range(3, 10, 3):\n",
    "            print(f'{num3} X {i} = {num3*i}')\n",
    "    else:\n",
    "        print('입력오류!! 1 또는 2만 입력하세요')\n",
    "    menu2 = input('계속하시겟습니까?(y/n):')\n",
    "    if menu2 == 'n':\n",
    "        print('프로그램을 종료합니다.!')\n",
    "        break\n",
    "    elif menu2 == 'y':\n",
    "        continue"
   ]
  },
  {
   "cell_type": "code",
   "execution_count": null,
   "id": "fced5cb3-09a5-4380-bc42-6d1ef010ac55",
   "metadata": {},
   "outputs": [],
   "source": []
  }
 ],
 "metadata": {
  "kernelspec": {
   "display_name": "Python 3 (ipykernel)",
   "language": "python",
   "name": "python3"
  },
  "language_info": {
   "codemirror_mode": {
    "name": "ipython",
    "version": 3
   },
   "file_extension": ".py",
   "mimetype": "text/x-python",
   "name": "python",
   "nbconvert_exporter": "python",
   "pygments_lexer": "ipython3",
   "version": "3.9.10"
  }
 },
 "nbformat": 4,
 "nbformat_minor": 5
}
