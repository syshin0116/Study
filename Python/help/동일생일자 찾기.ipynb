{
 "cells": [
  {
   "cell_type": "code",
   "execution_count": 1,
   "id": "25695687-390e-439e-bde8-4a72bc954803",
   "metadata": {},
   "outputs": [],
   "source": [
    "# 같은 생일자 찾기"
   ]
  },
  {
   "cell_type": "code",
   "execution_count": 2,
   "id": "5ce048a7-62e8-4240-b7a7-93f30f5db99a",
   "metadata": {},
   "outputs": [],
   "source": [
    "from scipy.special import comb"
   ]
  },
  {
   "cell_type": "code",
   "execution_count": 8,
   "id": "1dac1daa-7e0d-4f39-8493-10af1a23eab6",
   "metadata": {},
   "outputs": [
    {
     "name": "stdout",
     "output_type": "stream",
     "text": [
      "사람수: 23\n",
      "같은 생일일 확률: 0.5004771540365807\n"
     ]
    }
   ],
   "source": [
    "num_of_people = 1\n",
    "percentage = 0\n",
    "num = 0.5\n",
    "while percentage <= num:\n",
    "    num_of_people+=1\n",
    "    percentage = 1-((364/365)**comb(num_of_people,2))\n",
    "print(\"사람수:\", num_of_people)\n",
    "print(\"같은 생일일 확률:\", percentage)"
   ]
  },
  {
   "cell_type": "code",
   "execution_count": null,
   "id": "859db4e3-3327-42d5-b239-84fda7ba828b",
   "metadata": {},
   "outputs": [],
   "source": []
  }
 ],
 "metadata": {
  "kernelspec": {
   "display_name": "Python 3 (ipykernel)",
   "language": "python",
   "name": "python3"
  },
  "language_info": {
   "codemirror_mode": {
    "name": "ipython",
    "version": 3
   },
   "file_extension": ".py",
   "mimetype": "text/x-python",
   "name": "python",
   "nbconvert_exporter": "python",
   "pygments_lexer": "ipython3",
   "version": "3.9.10"
  }
 },
 "nbformat": 4,
 "nbformat_minor": 5
}
