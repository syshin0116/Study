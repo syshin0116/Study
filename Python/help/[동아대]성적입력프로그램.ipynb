{
 "cells": [
  {
   "cell_type": "code",
   "execution_count": 1,
   "id": "866b5a42-a6e5-4895-a07a-6ad5503355ae",
   "metadata": {},
   "outputs": [
    {
     "name": "stdout",
     "output_type": "stream",
     "text": [
      "1. 학생 성적 추가\n",
      "2. 학생 성적 검색\n",
      "3. 학생 성적 출력\n",
      "4. 종료\n"
     ]
    },
    {
     "name": "stdin",
     "output_type": "stream",
     "text": [
      "메뉴 항목을 선택하시오:  1\n",
      "이름 입력:  jang\n",
      "국어 점수:  77\n",
      "영어 점수:  77\n",
      "수학 점수:  77\n"
     ]
    },
    {
     "name": "stdout",
     "output_type": "stream",
     "text": [
      "1. 학생 성적 추가\n",
      "2. 학생 성적 검색\n",
      "3. 학생 성적 출력\n",
      "4. 종료\n"
     ]
    },
    {
     "name": "stdin",
     "output_type": "stream",
     "text": [
      "메뉴 항목을 선택하시오:  2\n",
      "이름:  jang\n"
     ]
    },
    {
     "name": "stdout",
     "output_type": "stream",
     "text": [
      "jang [77, 77, 77]\n",
      "1. 학생 성적 추가\n",
      "2. 학생 성적 검색\n",
      "3. 학생 성적 출력\n",
      "4. 종료\n"
     ]
    },
    {
     "name": "stdin",
     "output_type": "stream",
     "text": [
      "메뉴 항목을 선택하시오:  2\n",
      "이름:  Jang\n"
     ]
    },
    {
     "name": "stdout",
     "output_type": "stream",
     "text": [
      "jang [77, 77, 77]\n",
      "1. 학생 성적 추가\n",
      "2. 학생 성적 검색\n",
      "3. 학생 성적 출력\n",
      "4. 종료\n"
     ]
    },
    {
     "name": "stdin",
     "output_type": "stream",
     "text": [
      "메뉴 항목을 선택하시오:  1\n",
      "이름 입력:  park\n",
      "국어 점수:  99\n",
      "영어 점수:  99\n",
      "수학 점수:  99\n"
     ]
    },
    {
     "name": "stdout",
     "output_type": "stream",
     "text": [
      "1. 학생 성적 추가\n",
      "2. 학생 성적 검색\n",
      "3. 학생 성적 출력\n",
      "4. 종료\n"
     ]
    },
    {
     "name": "stdin",
     "output_type": "stream",
     "text": [
      "메뉴 항목을 선택하시오:  3\n"
     ]
    },
    {
     "name": "stdout",
     "output_type": "stream",
     "text": [
      "성적 출력\n",
      "Kim [99, 99, 99] 총점: 279, 평균: 93.00\n",
      "Lee [99, 99, 99] 총점: 192, 평균: 64.00\n",
      "Choi [99, 99, 99] 총점: 150, 평균: 50.00\n",
      "jang [99, 99, 99] 총점: 231, 평균: 77.00\n",
      "park [99, 99, 99] 총점: 297, 평균: 99.00\n",
      "1. 학생 성적 추가\n",
      "2. 학생 성적 검색\n",
      "3. 학생 성적 출력\n",
      "4. 종료\n"
     ]
    },
    {
     "name": "stdin",
     "output_type": "stream",
     "text": [
      "메뉴 항목을 선택하시오:  4\n"
     ]
    },
    {
     "name": "stdout",
     "output_type": "stream",
     "text": [
      "프로그램 종료\n"
     ]
    }
   ],
   "source": [
    "import csv\n",
    "\n",
    "score_dic = {#\"이름\" : [국어, 영어, 수학] 순으로 저장되어 있음\n",
    "        \"Kim\": [99,84,96],\n",
    "        \"Lee\": [68,46, 78],\n",
    "        \"Choi\": [25,56,69]}\n",
    "\n",
    "def add_score():\n",
    "    name = input(\"이름 입력: \").lower()\n",
    "    kor = int(input(\"국어 점수: \"))\n",
    "    eng = int(input(\"영어 점수: \"))\n",
    "    mat = int(input(\"수학 점수: \"))\n",
    "    score_dic[name] = [kor, eng, mat]\n",
    "\n",
    "def search_score():\n",
    "    name = input(\"이름: \").lower()\n",
    "    if name in score_dic:\n",
    "        print(name, score_dic[name])\n",
    "    else:\n",
    "        print(\"해당자가 없습니다.\")\n",
    "\n",
    "def print_score():\n",
    "    total_dic = {}\n",
    "    for name, scores in score_dic.items():\n",
    "        total = sum(scores)\n",
    "        avg = total / len(scores)\n",
    "        total_dic[name] = (total, avg)\n",
    "    print(\"성적 출력\")\n",
    "    for name, (total, avg) in total_dic.items():\n",
    "        print(f\"{name} {scores} 총점: {total}.4 평균: {avg:.2f}\")\n",
    "    # csv 파일로 출력\n",
    "    with open(\"학번이름.csv\", \"w\", newline=\"\", encoding=\"utf-8\") as f:\n",
    "        writer = csv.writer(f)\n",
    "        writer.writerow([\"이름\", \"국어\", \"영어\", \"수학\", \"총점\", \"평균\"])\n",
    "        for name, scores in score_dic.items():\n",
    "            total, avg = total_dic[name]\n",
    "            writer.writerow([name, *scores, total, avg])\n",
    "    \n",
    "\n",
    "while True:\n",
    "    print(\"1. 학생 성적 추가\")\n",
    "    print(\"2. 학생 성적 검색\")\n",
    "    print(\"3. 학생 성적 출력\")\n",
    "    print(\"4. 종료\")\n",
    "    menu = input(\"메뉴 항목을 선택하시오: \")\n",
    "    if menu == \"1\":\n",
    "        add_score()\n",
    "    elif menu == \"2\":\n",
    "        search_score()\n",
    "    elif menu == \"3\":\n",
    "        print_score()\n",
    "    elif menu == \"4\":\n",
    "        print(\"프로그램 종료\")\n",
    "        break\n",
    "    else:\n",
    "        print(\"잘못된 입력입니다.\")\n"
   ]
  },
  {
   "cell_type": "code",
   "execution_count": null,
   "id": "9f9b34b5-c15a-4f2d-a443-bb8b2ce8b3c2",
   "metadata": {},
   "outputs": [],
   "source": []
  }
 ],
 "metadata": {
  "kernelspec": {
   "display_name": "Python 3 (ipykernel)",
   "language": "python",
   "name": "python3"
  },
  "language_info": {
   "codemirror_mode": {
    "name": "ipython",
    "version": 3
   },
   "file_extension": ".py",
   "mimetype": "text/x-python",
   "name": "python",
   "nbconvert_exporter": "python",
   "pygments_lexer": "ipython3",
   "version": "3.9.10"
  }
 },
 "nbformat": 4,
 "nbformat_minor": 5
}
