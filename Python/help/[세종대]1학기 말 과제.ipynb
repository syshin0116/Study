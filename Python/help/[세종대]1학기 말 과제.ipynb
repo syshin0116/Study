{
 "cells": [
  {
   "cell_type": "raw",
   "id": "e12a8c7d-4dfd-4698-adf2-1963f09ab0e4",
   "metadata": {},
   "source": [
    "n을 입력받고, n개의 숫자를 차례로 리스트에 입력받는다.\n",
    "\n",
    "n 이후 입력받은 숫자를 내림차순으로 정렬한 후 배열 중앙의 값을 출력하는 프로그램을 작성하시오.\n",
    "\n",
    "(단, nol 짝수일 경우 중앙의 2개의 값을 모두 출력하시오)\n",
    "\n",
    "[입력 예시 1]\n",
    "3\n",
    "3\n",
    "2\n",
    "1\n",
    "[출력 예시 1]\n",
    "2\n",
    "[입력 예시 2]\n",
    "5\n",
    "3\n",
    "20\n",
    "11\n",
    "4\n",
    "9\n",
    "[출력 예시 2]\n",
    "9\n",
    "[입력 예시 3]\n",
    "6\n",
    "1\n",
    "2\n",
    "3\n",
    "4\n",
    "5\n",
    "6\n",
    "[출력 예시 31\n",
    "4 3"
   ]
  },
  {
   "cell_type": "code",
   "execution_count": 6,
   "id": "54f65a4a-89a1-4ef2-9efb-e27071b5ba83",
   "metadata": {},
   "outputs": [
    {
     "name": "stdin",
     "output_type": "stream",
     "text": [
      " 6\n",
      " 1\n",
      " 2\n",
      " 3\n",
      " 4\n",
      " 5\n",
      " 6\n"
     ]
    },
    {
     "name": "stdout",
     "output_type": "stream",
     "text": [
      "4 3\n"
     ]
    }
   ],
   "source": [
    "n = int(input())\n",
    "num_list = []\n",
    "        \n",
    "for i in range(n):\n",
    "    num_list.append(int(input()))\n",
    "\n",
    "num_list = sorted(num_list, reverse=True)\n",
    "if n % 2 == 0:\n",
    "    middle1 = num_list[n // 2 - 1]\n",
    "    middle2 = num_list[n // 2]\n",
    "    print(middle1, middle2)\n",
    "else:\n",
    "    middle = num_list[n // 2]\n",
    "    print(middle)"
   ]
  },
  {
   "cell_type": "raw",
   "id": "f68ebd45-591c-453f-a134-e3ec92c4785b",
   "metadata": {},
   "source": [
    "어느 반의 성적 등수를 구해주는 프로그램을 만들려고 한다.\n",
    "\n",
    "n명의 수학 성적과 영어 성적을 입력받아 각각의 리스트로 저장하고 평균을 구한 후 새로운 리스트에 저장한다.\n",
    "\n",
    "중첩 for문을 이용하여 3등까지의 수학, 영어, 평균 점수를 출력하는 프로그램을 작성하라.\n",
    "\n",
    "(단, 평균을 구할 때 소수점 이하는 버리고, 평균이 같을 시 수학 성적이 더 높은 학생이 높은 등수를 가진다. )\n",
    "[입력예시 1]\n",
    "3\n",
    "100\n",
    "80\n",
    "90\n",
    "90\n",
    "80\n",
    "100\n",
    "[출력예시 1]\n",
    "rank1 100 80 90\n",
    "rank2 90 90 90\n",
    "rank3 80 100 90\n",
    "[입력예시 2]\n",
    "5\n",
    "90\n",
    "80\n",
    "95\n",
    "85\n",
    "100\n",
    "90\n",
    "85\n",
    "75\n",
    "80\n",
    "70\n",
    "[출력예시 2]\n",
    "rank1 100 90 95\n",
    "rank2 95 85 90\n",
    "rank3 90 80 85"
   ]
  },
  {
   "cell_type": "code",
   "execution_count": 15,
   "id": "d708176f-c1dc-4029-9164-17d332e85e04",
   "metadata": {},
   "outputs": [
    {
     "name": "stdin",
     "output_type": "stream",
     "text": [
      " 5\n",
      " 90\n",
      " 80\n",
      " 95\n",
      " 85\n",
      " 100\n",
      " 90\n",
      " 85\n",
      " 75\n",
      " 80\n",
      " 70\n"
     ]
    },
    {
     "name": "stdout",
     "output_type": "stream",
     "text": [
      "rank1 100 90 95\n",
      "rank2 95 85 90\n",
      "rank3 90 80 85\n"
     ]
    }
   ],
   "source": [
    "n = int(input())\n",
    "math_list = []\n",
    "english_list = []\n",
    "avg_list = []\n",
    "\n",
    "for _ in range(n):\n",
    "    math = int(input())\n",
    "    english = int(input())\n",
    "    math_list.append(math)\n",
    "    english_list.append(english)\n",
    "    avg_list.append((math + english) // 2)\n",
    "\n",
    "sorted_indices = sorted(range(n), key=lambda i: (avg_list[i], math_list[i]), reverse=True)\n",
    "\n",
    "for i in range(3):\n",
    "    rank = i + 1\n",
    "    index = sorted_indices[i]\n",
    "    math_score = math_list[index]\n",
    "    eng_score = english_list[index]\n",
    "    avg_score = avg_list[index]\n",
    "    print(f\"rank{rank} {math_score} {eng_score} {avg_score}\")"
   ]
  },
  {
   "cell_type": "raw",
   "id": "9ad77ee2-397b-4900-af8b-9f538ee1eaaf",
   "metadata": {},
   "source": [
    "홍길동은 n개 과목을 시험보고, 시험을 망쳐 시험점수를 조작하기로 마음먹었다.\n",
    "홍길동은 n개 과목 점수 중 가장 낮은 점수 X를 뽑고, 자신이 받은 모든 점수를 각각 X / n번째 과목 점수 * 100 으로 고쳤다.\n",
    "입력시, 과목수 n을 입력받은 후, n개 과목의 점수를 차례로 입력 받는다.\n",
    "첫번째 출력으로 기존 점수의 평균을, 두번째 출력으로 조작한 점수의 평균을 출력하라 (단, 모든 점수의 소수점은 버린다. )\n",
    "[입력예시1]\n",
    "5\n",
    "10\n",
    "20\n",
    "30\n",
    "40\n",
    "50\n",
    "[출력예시1]\n",
    "original score 30\n",
    "change score 45\n",
    "\n",
    "[입력예시2]\n",
    "4\n",
    "100\n",
    "100\n",
    "100\n",
    "100\n",
    "[출력예시2]\n",
    "original score 100\n",
    "change score 100"
   ]
  },
  {
   "cell_type": "code",
   "execution_count": 23,
   "id": "647a2944-f9d4-464d-b2ef-c45b11777060",
   "metadata": {},
   "outputs": [
    {
     "name": "stdin",
     "output_type": "stream",
     "text": [
      " 5\n",
      " 10\n",
      " 20\n",
      " 30\n",
      " 40\n",
      " 50\n"
     ]
    },
    {
     "name": "stdout",
     "output_type": "stream",
     "text": [
      "original score 30\n",
      "change score 45\n"
     ]
    }
   ],
   "source": [
    "n = int(input())\n",
    "\n",
    "scores = []\n",
    "\n",
    "for _ in range(n):\n",
    "    score = int(input())\n",
    "    scores.append(score)\n",
    "\n",
    "original_average = sum(scores) // n\n",
    "\n",
    "min_score = min(scores)\n",
    "changed_scores = [min_score / score * 100 for score in scores]\n",
    "changed_average = sum(changed_scores) // n\n",
    "\n",
    "print('original score', int(original_average))\n",
    "print('change score', int(changed_average))"
   ]
  },
  {
   "cell_type": "code",
   "execution_count": null,
   "id": "93eb741f-c100-4c73-a992-fd286d41407f",
   "metadata": {},
   "outputs": [],
   "source": []
  }
 ],
 "metadata": {
  "kernelspec": {
   "display_name": "Python 3 (ipykernel)",
   "language": "python",
   "name": "python3"
  },
  "language_info": {
   "codemirror_mode": {
    "name": "ipython",
    "version": 3
   },
   "file_extension": ".py",
   "mimetype": "text/x-python",
   "name": "python",
   "nbconvert_exporter": "python",
   "pygments_lexer": "ipython3",
   "version": "3.9.10"
  }
 },
 "nbformat": 4,
 "nbformat_minor": 5
}
