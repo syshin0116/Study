{
 "cells": [
  {
   "cell_type": "code",
   "execution_count": 1,
   "id": "45a30da3-7707-4748-98be-2a4d9c6d4a94",
   "metadata": {},
   "outputs": [
    {
     "name": "stdin",
     "output_type": "stream",
     "text": [
      " 11\n",
      " 5\n",
      " 6\n",
      " 4\n"
     ]
    },
    {
     "name": "stdout",
     "output_type": "stream",
     "text": [
      "9 2\n"
     ]
    }
   ],
   "source": [
    "size_of_bag = 10\n",
    "size = 0\n",
    "count = 0\n",
    "while size < 8:\n",
    "    incoming = int(input())\n",
    "    if incoming > (size_of_bag-size):\n",
    "        continue\n",
    "    size += incoming\n",
    "    count += 1 \n",
    "print(size, count)"
   ]
  },
  {
   "cell_type": "code",
   "execution_count": 9,
   "id": "8dc19d57-40b1-49c0-8c87-b9becddf82b6",
   "metadata": {},
   "outputs": [
    {
     "name": "stdin",
     "output_type": "stream",
     "text": [
      " -13\n",
      " -15.23\n",
      " 123\n",
      " 0\n"
     ]
    },
    {
     "name": "stdout",
     "output_type": "stream",
     "text": [
      "125\n"
     ]
    }
   ],
   "source": [
    "total = 0\n",
    "while True:\n",
    "    num = float(input())\n",
    "    if num == 0:\n",
    "        break\n",
    "    elif not num.is_integer():\n",
    "        total -= num\n",
    "    else:\n",
    "        total += num\n",
    "print(int(total))"
   ]
  },
  {
   "cell_type": "code",
   "execution_count": 8,
   "id": "ffe0624f-91a2-46b8-a304-bef9bcd702e3",
   "metadata": {},
   "outputs": [
    {
     "data": {
      "text/plain": [
       "122.877"
      ]
     },
     "execution_count": 8,
     "metadata": {},
     "output_type": "execute_result"
    }
   ],
   "source": [
    "total"
   ]
  },
  {
   "cell_type": "code",
   "execution_count": null,
   "id": "3bc02c44-0dd8-4417-bf79-cf7a77a6ba95",
   "metadata": {},
   "outputs": [],
   "source": []
  }
 ],
 "metadata": {
  "kernelspec": {
   "display_name": "Python 3 (ipykernel)",
   "language": "python",
   "name": "python3"
  },
  "language_info": {
   "codemirror_mode": {
    "name": "ipython",
    "version": 3
   },
   "file_extension": ".py",
   "mimetype": "text/x-python",
   "name": "python",
   "nbconvert_exporter": "python",
   "pygments_lexer": "ipython3",
   "version": "3.9.10"
  }
 },
 "nbformat": 4,
 "nbformat_minor": 5
}
