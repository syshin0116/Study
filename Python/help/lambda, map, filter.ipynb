{
  "nbformat": 4,
  "nbformat_minor": 0,
  "metadata": {
    "colab": {
      "provenance": []
    },
    "kernelspec": {
      "name": "python3",
      "display_name": "Python 3"
    },
    "language_info": {
      "name": "python"
    }
  },
  "cells": [
    {
      "cell_type": "code",
      "execution_count": 16,
      "metadata": {
        "colab": {
          "base_uri": "https://localhost:8080/"
        },
        "id": "fhkdnjxN_Qbc",
        "outputId": "c496ec43-3314-45bd-a191-ad6281b53ce1"
      },
      "outputs": [
        {
          "output_type": "stream",
          "name": "stdout",
          "text": [
            "*\n",
            "*\n",
            "*\n",
            "*\n",
            "*\n",
            "*\n",
            "*\n",
            "*\n",
            "*\n",
            "*\n"
          ]
        }
      ],
      "source": [
        "# 매개변수로 받은 함수를 5번 호출하는 함수\n",
        "def call_5_times(func):\n",
        "  for i in range(5):\n",
        "    func()\n",
        "\n",
        "# 함수 정의\n",
        "def print_star():\n",
        "  print('*')\n",
        "\n",
        "# 함수를 매개변수로 전달\n",
        "call_5_times(print_star)\n",
        "\n",
        "# 람다를 매개변수로 전달\n",
        "call_5_times(lambda: print_star())"
      ]
    },
    {
      "cell_type": "code",
      "source": [
        "# filter\n",
        "def is_negative(x):\n",
        "  return x < 0\n",
        "\n",
        "def is_not_negative(x):\n",
        "  return x>= 0\n",
        "\n",
        "def is_zero(x):\n",
        "  return x == 0\n",
        "\n",
        "data = range(-5, 6)\n",
        "\n",
        "print(list(filter(is_negative, data)))\n",
        "print(list(filter(is_not_negative, data)))\n",
        "print(list(filter(is_zero, data)))"
      ],
      "metadata": {
        "colab": {
          "base_uri": "https://localhost:8080/"
        },
        "id": "_Lef_nSzAvBo",
        "outputId": "dccf5d12-f3aa-46c5-e406-75f4572ef9b5"
      },
      "execution_count": 17,
      "outputs": [
        {
          "output_type": "stream",
          "name": "stdout",
          "text": [
            "[-5, -4, -3, -2, -1]\n",
            "[0, 1, 2, 3, 4, 5]\n",
            "[0]\n"
          ]
        }
      ]
    },
    {
      "cell_type": "code",
      "source": [
        "# map\n",
        "def add_2(x):\n",
        "  return x + 2\n",
        "\n",
        "def pow_2(x):\n",
        "  return x * x\n",
        "\n",
        "def my_abs(x):\n",
        "  if x < 0:\n",
        "    return -x\n",
        "  return x\n",
        "\n",
        "data = range(-5, 6)\n",
        "\n",
        "print(list(data))\n",
        "print(list(map(add_2, data)))\n",
        "print(list(map(pow_2, data)))\n",
        "print(list(map(my_abs, data)))"
      ],
      "metadata": {
        "colab": {
          "base_uri": "https://localhost:8080/"
        },
        "id": "95jQF6AnExLw",
        "outputId": "71c9e735-b60d-49c3-9c78-42c5fde5adc5"
      },
      "execution_count": 20,
      "outputs": [
        {
          "output_type": "stream",
          "name": "stdout",
          "text": [
            "[-5, -4, -3, -2, -1, 0, 1, 2, 3, 4, 5]\n",
            "[-3, -2, -1, 0, 1, 2, 3, 4, 5, 6, 7]\n",
            "[25, 16, 9, 4, 1, 0, 1, 4, 9, 16, 25]\n",
            "[5, 4, 3, 2, 1, 0, 1, 2, 3, 4, 5]\n"
          ]
        }
      ]
    },
    {
      "cell_type": "code",
      "source": [
        "data = [-3, 2, 0, 4, -1, 0]\n",
        "\n",
        "# map\n",
        "print(list(map(lambda x : x+2, data)))\n",
        "\n",
        "# filter\n",
        "print(list(filter(lambda x : x < 0, data)))"
      ],
      "metadata": {
        "colab": {
          "base_uri": "https://localhost:8080/"
        },
        "id": "1cGH-lsBEsyf",
        "outputId": "26a96887-a078-4a9f-a5d8-3a37911b7962"
      },
      "execution_count": 21,
      "outputs": [
        {
          "output_type": "stream",
          "name": "stdout",
          "text": [
            "[-1, 4, 2, 6, 1, 2]\n",
            "[-3, -1]\n"
          ]
        }
      ]
    },
    {
      "cell_type": "code",
      "source": [
        "!echo 'Hello, Python1' > basic.txt\n",
        "!cat basic.txt\n",
        "\n",
        "file1 = open('basic.txt', 'w')\n",
        "\n",
        "file1.write('Hello, Python\\n')\n",
        "print('Hello, Python2', file=file1)\n",
        "file1.close()\n",
        "\n",
        "!cat basic.txt"
      ],
      "metadata": {
        "colab": {
          "base_uri": "https://localhost:8080/"
        },
        "id": "LzIa9mopFs5e",
        "outputId": "6273acc9-2141-4e80-dab7-ff5d9264cc93"
      },
      "execution_count": 25,
      "outputs": [
        {
          "output_type": "stream",
          "name": "stdout",
          "text": [
            "Hello, Python1\n",
            "Hello, Python\n",
            "Hello, Python2\n"
          ]
        }
      ]
    },
    {
      "cell_type": "code",
      "source": [
        "# Ramdom module\n",
        "import random\n",
        "\n",
        "last_name = list('김이박최정강조윤장임한오서진권황안송류정')\n",
        "first_name = list('가나다라마바사아자차카타파하')\n",
        "\n",
        "with open('info.csv', 'w') as data_file:\n",
        "  for _ in range(10):\n",
        "    name = random.choice(last_name) + random.choice(first_name)\n",
        "    name += random.choice(first_name)\n",
        "\n",
        "    # 정규분포(normalvariate)\n",
        "    weight = random.normalvariate(60, 10)\n",
        "    height = random.normalvariate(160, 15)\n",
        "\n",
        "    print(f'{name}, {weight:.1f}, {height:.1f}', file=data_file)"
      ],
      "metadata": {
        "id": "GF_85fVMGDUR"
      },
      "execution_count": 27,
      "outputs": []
    },
    {
      "cell_type": "code",
      "source": [],
      "metadata": {
        "id": "57mg-OhbI24q"
      },
      "execution_count": null,
      "outputs": []
    }
  ]
}