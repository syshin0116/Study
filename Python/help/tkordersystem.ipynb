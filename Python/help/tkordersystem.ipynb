{
 "cells": [
  {
   "cell_type": "code",
   "execution_count": 5,
   "id": "d7458e9e-8304-43d1-b947-f9dafa1a3502",
   "metadata": {},
   "outputs": [],
   "source": [
    "import tkinter as tk\n",
    "\n",
    "class OrderSystem:\n",
    "    def __init__(self, root):\n",
    "        self.root = root\n",
    "        self.root.title(\"음료 주문\")\n",
    "\n",
    "        self.menu = {\n",
    "            'coffee': 1500,\n",
    "            'latte': 2000,\n",
    "            'smoothie': 3000,\n",
    "            'tea': 800\n",
    "        }\n",
    "        self.order_list = []\n",
    "\n",
    "        self.create_widgets()\n",
    "\n",
    "    def create_widgets(self):\n",
    "        # 주문 버튼 생성\n",
    "        buttons = ['coffee', 'latte', 'smoothie', 'tea', 'exit']\n",
    "        for idx, button_text in enumerate(buttons):\n",
    "            button = tk.Button(self.root, text=button_text, width=10, command=lambda text=button_text: self.order_drink(text))\n",
    "            button.grid(row=idx, column=0, padx=10, pady=5)\n",
    "\n",
    "        # 총 금액 텍스트\n",
    "        self.total_label = tk.Label(self.root, text=\"금액: 0원\", fg=\"blue\", font=(\"Arial\", 14))\n",
    "        self.total_label.grid(row=len(buttons), column=0, pady=10)\n",
    "\n",
    "        # 주문 내역 텍스트 박스\n",
    "        self.order_text = tk.Text(self.root, height=10, width=50)\n",
    "        self.order_text.grid(row=len(buttons) + 1, column=0, padx=10, pady=10)\n",
    "\n",
    "        # 창 크기에 맞게 조절\n",
    "        self.root.grid_rowconfigure(len(buttons) + 1, weight=1)\n",
    "        self.root.grid_columnconfigure(0, weight=1)\n",
    "\n",
    "    def order_drink(self, drink):\n",
    "        if drink == 'exit':\n",
    "            self.root.quit()\n",
    "        else:\n",
    "            if drink in self.menu:\n",
    "                self.order_list.append(drink)\n",
    "                self.order_text.insert(tk.END, f\"{drink} \")\n",
    "                self.calculate_total()\n",
    "            else:\n",
    "                self.order_text.insert(tk.END, \"주문할 수 없는 음료입니다. 다시 입력해주세요.\\n\")\n",
    "\n",
    "    def calculate_total(self):\n",
    "        total_price = sum(self.menu[drink] for drink in self.order_list)\n",
    "        self.total_label.config(text=f\"금액: {total_price}원\")\n",
    "\n",
    "root = tk.Tk()\n",
    "order_system = OrderSystem(root)\n",
    "root.geometry('400x400')\n",
    "root.mainloop()\n"
   ]
  },
  {
   "cell_type": "code",
   "execution_count": null,
   "id": "d418a2c7-16c9-476f-a406-41e77218611c",
   "metadata": {},
   "outputs": [],
   "source": []
  }
 ],
 "metadata": {
  "kernelspec": {
   "display_name": "Python 3 (ipykernel)",
   "language": "python",
   "name": "python3"
  },
  "language_info": {
   "codemirror_mode": {
    "name": "ipython",
    "version": 3
   },
   "file_extension": ".py",
   "mimetype": "text/x-python",
   "name": "python",
   "nbconvert_exporter": "python",
   "pygments_lexer": "ipython3",
   "version": "3.9.10"
  }
 },
 "nbformat": 4,
 "nbformat_minor": 5
}
