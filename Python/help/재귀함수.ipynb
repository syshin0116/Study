{
 "cells": [
  {
   "cell_type": "code",
   "execution_count": 1,
   "id": "583b5a45-d3e0-454b-9114-0077806fac99",
   "metadata": {},
   "outputs": [
    {
     "name": "stdout",
     "output_type": "stream",
     "text": [
      "0! = 1\n",
      "1! = 1\n",
      "2! = 2\n",
      "3! = 6\n",
      "4! = 24\n",
      "5! = 120\n",
      "6! = 720\n",
      "7! = 5040\n",
      "8! = 40320\n",
      "9! = 362880\n"
     ]
    }
   ],
   "source": [
    "# 재귀함수 팩토리얼\n",
    "def factorial_r(n):\n",
    "    if n == 0:\n",
    "        return 1\n",
    "    else:\n",
    "        return n * factorial_r(n-1)\n",
    "\n",
    "for i in range(10):\n",
    "    print(f'{i}! = {factorial_r(i)}')"
   ]
  },
  {
   "cell_type": "code",
   "execution_count": 2,
   "id": "3639c2be-bba8-4435-bf4d-72c7dc374572",
   "metadata": {},
   "outputs": [
    {
     "name": "stdout",
     "output_type": "stream",
     "text": [
      "0! = 1\n",
      "1! = 1\n",
      "2! = 2\n",
      "3! = 6\n",
      "4! = 24\n",
      "5! = 120\n",
      "6! = 720\n",
      "7! = 5040\n",
      "8! = 40320\n",
      "9! = 362880\n"
     ]
    }
   ],
   "source": [
    "# 반복문 팩토리얼\n",
    "def factorial(n):\n",
    "    output = 1\n",
    "    for i in range(1, n+1):\n",
    "        output *= i\n",
    "    return output\n",
    "\n",
    "for i in range(10):\n",
    "    print(f'{i}! = {factorial(i)}')"
   ]
  },
  {
   "cell_type": "code",
   "execution_count": 3,
   "id": "da499a72-8806-424c-8d83-696c79abb22b",
   "metadata": {},
   "outputs": [
    {
     "name": "stdout",
     "output_type": "stream",
     "text": [
      "8\n"
     ]
    }
   ],
   "source": [
    "# 재귀함수 피보나치 수열\n",
    "def fibo_r(n):\n",
    "    if n== 1 or n == 2:\n",
    "        return 1\n",
    "    else:\n",
    "        return fibo_r(n-1) + fibo_r(n-2)\n",
    "\n",
    "print(fibo_r(6))"
   ]
  },
  {
   "cell_type": "code",
   "execution_count": 4,
   "id": "df251c3b-69c5-4e0a-aacb-c7e757fd4f51",
   "metadata": {},
   "outputs": [
    {
     "name": "stdout",
     "output_type": "stream",
     "text": [
      "8\n"
     ]
    }
   ],
   "source": [
    "# 반복분 피보나치 수열\n",
    "\n",
    "def fibo(n):\n",
    "    a1 = 1\n",
    "    a2 = 1\n",
    "    if n == 1:\n",
    "        output = a1\n",
    "    elif n == 2:\n",
    "        output = a2\n",
    "    else:\n",
    "        for i in range(1, n-1):\n",
    "            output = a1 + a2\n",
    "            a1 = a2\n",
    "            a2 = output\n",
    "    return output\n",
    "\n",
    "print(fibo(6))"
   ]
  },
  {
   "cell_type": "code",
   "execution_count": 5,
   "id": "3bf984bd-f766-4d57-a821-f3dae55b635a",
   "metadata": {},
   "outputs": [
    {
     "name": "stdout",
     "output_type": "stream",
     "text": [
      "HI, Apple. \n",
      "HI, Banana. \n",
      "HI, Carrot. \n"
     ]
    }
   ],
   "source": [
    "def say_hi_to_something(a):\n",
    "    print(f'HI, {a}. ')\n",
    "\n",
    "func_var = say_hi_to_something\n",
    "\n",
    "for something in ['Apple', 'Banana', 'Carrot']:\n",
    "    func_var(something)"
   ]
  },
  {
   "cell_type": "code",
   "execution_count": 6,
   "id": "64cacd74-c472-4f57-9f19-fde63d6d9b44",
   "metadata": {},
   "outputs": [
    {
     "name": "stdout",
     "output_type": "stream",
     "text": [
      "안녕하세요, 사과\n",
      "Hello, Apple\n"
     ]
    }
   ],
   "source": [
    "def hi_korean(someone):\n",
    "    print(f'안녕하세요, {someone}')\n",
    "\n",
    "def hi_english(someone):\n",
    "    print(f'Hello, {someone}')\n",
    "\n",
    "def greet(hello, someone):\n",
    "    hello(someone)\n",
    "\n",
    "greet(hi_korean, '사과')\n",
    "greet(hi_english, 'Apple')"
   ]
  },
  {
   "cell_type": "code",
   "execution_count": 7,
   "id": "29fab1ce-c9f5-451d-a64d-731176922271",
   "metadata": {},
   "outputs": [
    {
     "name": "stdout",
     "output_type": "stream",
     "text": [
      "안녕하세요, 사과\n",
      "Hello, Apple\n"
     ]
    }
   ],
   "source": [
    "def hi_korean(someone):\n",
    "    print(f'안녕하세요, {someone}')\n",
    "\n",
    "def hi_english(someone):\n",
    "    print(f'Hello, {someone}')\n",
    "\n",
    "def get_greeting(language):\n",
    "    if language == 'K':\n",
    "        return hi_korean\n",
    "    else:\n",
    "        return hi_english\n",
    "\n",
    "hello = get_greeting('K')\n",
    "hello('사과')\n",
    "\n",
    "hello = get_greeting('E')\n",
    "hello('Apple')"
   ]
  },
  {
   "cell_type": "code",
   "execution_count": 8,
   "id": "9f9d8367-aad4-4cb6-9c57-51ece6c41a71",
   "metadata": {},
   "outputs": [
    {
     "name": "stdout",
     "output_type": "stream",
     "text": [
      "표준편차:  1.4142135623730951\n"
     ]
    }
   ],
   "source": [
    "# \n",
    "\n",
    "def stddev(*args):\n",
    "    def mean():\n",
    "        return sum(args) / len(args)\n",
    "    \n",
    "    def variance(m):\n",
    "        total = 0\n",
    "        for arg in args:\n",
    "            total += (arg - m) ** 2\n",
    "        return total / len(args)\n",
    "    v = variance(mean())\n",
    "    return v ** 0.5\n",
    "\n",
    "print('표준편차: ', stddev(1, 2, 3, 4, 5))"
   ]
  },
  {
   "cell_type": "code",
   "execution_count": null,
   "id": "31f19a54-f8d1-4aee-873f-680c84a4e95a",
   "metadata": {},
   "outputs": [],
   "source": []
  }
 ],
 "metadata": {
  "kernelspec": {
   "display_name": "Python 3 (ipykernel)",
   "language": "python",
   "name": "python3"
  },
  "language_info": {
   "codemirror_mode": {
    "name": "ipython",
    "version": 3
   },
   "file_extension": ".py",
   "mimetype": "text/x-python",
   "name": "python",
   "nbconvert_exporter": "python",
   "pygments_lexer": "ipython3",
   "version": "3.9.10"
  }
 },
 "nbformat": 4,
 "nbformat_minor": 5
}
