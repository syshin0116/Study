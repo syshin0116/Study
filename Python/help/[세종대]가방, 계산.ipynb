{
 "cells": [
  {
   "cell_type": "code",
   "execution_count": 1,
   "id": "45a30da3-7707-4748-98be-2a4d9c6d4a94",
   "metadata": {},
   "outputs": [
    {
     "name": "stdin",
     "output_type": "stream",
     "text": [
      " 11\n",
      " 5\n",
      " 6\n",
      " 4\n"
     ]
    },
    {
     "name": "stdout",
     "output_type": "stream",
     "text": [
      "9 2\n"
     ]
    }
   ],
   "source": [
    "a = 10\n",
    "b = 0\n",
    "c = 0\n",
    "while b < 8:\n",
    "    z = int(input())\n",
    "    if z > a-b:\n",
    "        continue\n",
    "    b += z\n",
    "    c += 1 \n",
    "print(b, z)"
   ]
  },
  {
   "cell_type": "code",
   "execution_count": 12,
   "id": "8dc19d57-40b1-49c0-8c87-b9becddf82b6",
   "metadata": {},
   "outputs": [
    {
     "name": "stdin",
     "output_type": "stream",
     "text": [
      " 123\n",
      " 0.123\n",
      " 0\n"
     ]
    },
    {
     "name": "stdout",
     "output_type": "stream",
     "text": [
      "122\n"
     ]
    }
   ],
   "source": [
    "total = 0\n",
    "while True:\n",
    "    num = float(input())\n",
    "    if num == 0:\n",
    "        break\n",
    "    elif num%1!=0:\n",
    "        total -= num\n",
    "    else:\n",
    "        total += num\n",
    "print(int(total))"
   ]
  },
  {
   "cell_type": "code",
   "execution_count": 17,
   "id": "ffe0624f-91a2-46b8-a304-bef9bcd702e3",
   "metadata": {},
   "outputs": [
    {
     "name": "stdin",
     "output_type": "stream",
     "text": [
      " 3\n",
      " 100\n"
     ]
    },
    {
     "name": "stdout",
     "output_type": "stream",
     "text": [
      "1\n"
     ]
    }
   ],
   "source": [
    "S = int(input())\n",
    "N = int(input())\n",
    "count=0\n",
    "for i in range(S, S+101):\n",
    "    if i % N == 0:\n",
    "        count+=1\n",
    "print(count)"
   ]
  }
 ],
 "metadata": {
  "kernelspec": {
   "display_name": "Python 3 (ipykernel)",
   "language": "python",
   "name": "python3"
  },
  "language_info": {
   "codemirror_mode": {
    "name": "ipython",
    "version": 3
   },
   "file_extension": ".py",
   "mimetype": "text/x-python",
   "name": "python",
   "nbconvert_exporter": "python",
   "pygments_lexer": "ipython3",
   "version": "3.9.10"
  }
 },
 "nbformat": 4,
 "nbformat_minor": 5
}
