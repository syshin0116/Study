{
 "cells": [
  {
   "cell_type": "code",
   "execution_count": 1,
   "id": "45a30da3-7707-4748-98be-2a4d9c6d4a94",
   "metadata": {},
   "outputs": [
    {
     "name": "stdin",
     "output_type": "stream",
     "text": [
      " 11\n",
      " 5\n",
      " 6\n",
      " 4\n"
     ]
    },
    {
     "name": "stdout",
     "output_type": "stream",
     "text": [
      "9 2\n"
     ]
    }
   ],
   "source": [
    "a = 10\n",
    "b = 0\n",
    "c = 0\n",
    "while b < 8:\n",
    "    z = int(input())\n",
    "    if z > a-b:\n",
    "        continue\n",
    "    b += z\n",
    "    c += 1 \n",
    "print(b, z)"
   ]
  },
  {
   "cell_type": "code",
   "execution_count": 20,
   "id": "8dc19d57-40b1-49c0-8c87-b9becddf82b6",
   "metadata": {},
   "outputs": [
    {
     "ename": "NameError",
     "evalue": "name 'double' is not defined",
     "output_type": "error",
     "traceback": [
      "\u001b[0;31m---------------------------------------------------------------------------\u001b[0m",
      "\u001b[0;31mNameError\u001b[0m                                 Traceback (most recent call last)",
      "Input \u001b[0;32mIn [21]\u001b[0m, in \u001b[0;36m<cell line: 3>\u001b[0;34m()\u001b[0m\n\u001b[1;32m      1\u001b[0m result \u001b[38;5;241m=\u001b[39m \u001b[38;5;241m0\u001b[39m\n\u001b[1;32m      2\u001b[0m \u001b[38;5;28;01mwhile\u001b[39;00m \u001b[38;5;28;01mTrue\u001b[39;00m:\n\u001b[0;32m----> 3\u001b[0m     num \u001b[38;5;241m=\u001b[39m \u001b[43mdouble\u001b[49m(\u001b[38;5;28minput\u001b[39m()) \n\u001b[1;32m      4\u001b[0m     \u001b[38;5;28;01mif\u001b[39;00m num \u001b[38;5;241m==\u001b[39m \u001b[38;5;241m0\u001b[39m:\n\u001b[1;32m      5\u001b[0m         \u001b[38;5;28;01mbreak\u001b[39;00m\n",
      "\u001b[0;31mNameError\u001b[0m: name 'double' is not defined"
     ]
    }
   ],
   "source": [
    "result = 0\n",
    "while True:\n",
    "    num = float(input()) \n",
    "    if num == 0:\n",
    "        break\n",
    "    elif num%1!=0:\n",
    "        result -= num\n",
    "    else:\n",
    "        result += num\n",
    "print(int(result))"
   ]
  },
  {
   "cell_type": "code",
   "execution_count": 17,
   "id": "ffe0624f-91a2-46b8-a304-bef9bcd702e3",
   "metadata": {},
   "outputs": [
    {
     "name": "stdin",
     "output_type": "stream",
     "text": [
      " 3\n",
      " 100\n"
     ]
    },
    {
     "name": "stdout",
     "output_type": "stream",
     "text": [
      "1\n"
     ]
    }
   ],
   "source": [
    "S = int(input())\n",
    "N = int(input())\n",
    "count=0\n",
    "for i in range(S, S+101):\n",
    "    if i % N == 0:\n",
    "        count+=1\n",
    "print(count)"
   ]
  },
  {
   "cell_type": "code",
   "execution_count": 23,
   "id": "05ec7dce-f1ad-42e9-b43b-62e7c9b35be2",
   "metadata": {},
   "outputs": [
    {
     "name": "stdout",
     "output_type": "stream",
     "text": [
      "19\n",
      "20\n",
      "21\n",
      "22\n",
      "23\n",
      "24\n",
      "25\n",
      "26\n",
      "27\n",
      "28\n",
      "29\n"
     ]
    }
   ],
   "source": [
    "for i in  range(19,30):\n",
    "    print(i)"
   ]
  },
  {
   "cell_type": "code",
   "execution_count": 24,
   "id": "00240826-9d5e-4d07-b858-f936ef10f9d5",
   "metadata": {},
   "outputs": [
    {
     "name": "stdout",
     "output_type": "stream",
     "text": [
      "4951\n"
     ]
    }
   ],
   "source": [
    "total = 1\n",
    "for i in range(1,100):\n",
    "    total+=i\n",
    "print(total)"
   ]
  },
  {
   "cell_type": "code",
   "execution_count": 28,
   "id": "80053421-19fa-4ea0-a1fc-9178b89d5218",
   "metadata": {},
   "outputs": [],
   "source": [
    "count = 365\n",
    "a = 0\n",
    "while count >= -5:\n",
    "    a+=1\n",
    "    count -= 1"
   ]
  },
  {
   "cell_type": "code",
   "execution_count": 29,
   "id": "9146bc5b-9550-4f32-9d9b-b5d90db4e1b2",
   "metadata": {},
   "outputs": [
    {
     "data": {
      "text/plain": [
       "371"
      ]
     },
     "execution_count": 29,
     "metadata": {},
     "output_type": "execute_result"
    }
   ],
   "source": [
    "a"
   ]
  },
  {
   "cell_type": "code",
   "execution_count": 30,
   "id": "56f3de80-0541-4722-b26d-3fc76bf65f53",
   "metadata": {},
   "outputs": [],
   "source": [
    "count = 3\n",
    "a = 0\n",
    "while count >= 0:\n",
    "    a+=1\n",
    "    count -= 1"
   ]
  },
  {
   "cell_type": "code",
   "execution_count": 31,
   "id": "dfcd9105-6d73-4b4d-b107-7d1d0ad7fbc1",
   "metadata": {},
   "outputs": [
    {
     "data": {
      "text/plain": [
       "4"
      ]
     },
     "execution_count": 31,
     "metadata": {},
     "output_type": "execute_result"
    }
   ],
   "source": [
    "a"
   ]
  }
 ],
 "metadata": {
  "kernelspec": {
   "display_name": "Python 3 (ipykernel)",
   "language": "python",
   "name": "python3"
  },
  "language_info": {
   "codemirror_mode": {
    "name": "ipython",
    "version": 3
   },
   "file_extension": ".py",
   "mimetype": "text/x-python",
   "name": "python",
   "nbconvert_exporter": "python",
   "pygments_lexer": "ipython3",
   "version": "3.9.10"
  }
 },
 "nbformat": 4,
 "nbformat_minor": 5
}
