{
 "cells": [
  {
   "cell_type": "code",
   "execution_count": 1,
   "id": "e70b2b09-4dd2-4921-b0c5-746cef02b707",
   "metadata": {},
   "outputs": [],
   "source": [
    "import numpy as np\n",
    "import pandas as pd\n",
    "import datetime\n",
    "import pyupbit\n",
    "import importlib"
   ]
  },
  {
   "cell_type": "code",
   "execution_count": 2,
   "id": "86639387-7b7c-4d54-9c16-1f5e47a4cbf6",
   "metadata": {},
   "outputs": [
    {
     "name": "stdout",
     "output_type": "stream",
     "text": [
      "--2023-06-07 15:55:31--  https://esohn.be/python/trading_helper.py\n",
      "Resolving esohn.be (esohn.be)... 18.64.8.58, 18.64.8.8, 18.64.8.126, ...\n",
      "Connecting to esohn.be (esohn.be)|18.64.8.58|:443... connected.\n",
      "HTTP request sent, awaiting response... 200 OK\n",
      "Length: 6252 (6.1K) [text/x-python]\n",
      "Saving to: ‘trading_helper.py’\n",
      "\n",
      "trading_helper.py   100%[===================>]   6.11K  --.-KB/s    in 0s      \n",
      "\n",
      "2023-06-07 15:55:31 (54.7 MB/s) - ‘trading_helper.py’ saved [6252/6252]\n",
      "\n",
      "Trading Helper Version: 2023.05.15-v1\n"
     ]
    }
   ],
   "source": [
    "# trading_helper 설치 및 버전 확인\n",
    "\n",
    "!wget https://esohn.be/python/trading_helper.py -O trading_helper.py\n",
    "\n",
    "import trading_helper\n",
    "import importlib\n",
    "importlib.reload(trading_helper)\n",
    "\n",
    "print( f'Trading Helper Version: {trading_helper.TRADING_HELPER_VERSION}'  )"
   ]
  },
  {
   "cell_type": "code",
   "execution_count": 3,
   "id": "fa66eb8e-965c-4f62-801d-da3a55ad37c9",
   "metadata": {},
   "outputs": [
    {
     "name": "stdout",
     "output_type": "stream",
     "text": [
      "Log updated! (2023-1 YCS1009-01 박희영)\n"
     ]
    }
   ],
   "source": [
    "# ------------------------------------------------------------------------------------------------------\n",
    "# https://esohn.be/account 의 AUTH CODE 로 실행 로그 기록\n",
    "# ------------------------------------------------------------------------------------------------------\n",
    "\n",
    "'''\n",
    "AUTH_CODE = 'f587ea651febd5446efc61d5e3fef123'  -> 아래에 이렇게 auth code를 붙여넣으세요.\n",
    "'''\n",
    "AUTH_CODE = '2b435454dd9860ceba97f35f7aa030f0'\n",
    "\n",
    "# Do not edit\n",
    "trading_helper.set_auth_code( AUTH_CODE )\n"
   ]
  },
  {
   "cell_type": "code",
   "execution_count": 4,
   "id": "0568d0bc-67c1-4a56-ab9b-989fda333afd",
   "metadata": {},
   "outputs": [
    {
     "data": {
      "text/html": [
       "<div>\n",
       "<style scoped>\n",
       "    .dataframe tbody tr th:only-of-type {\n",
       "        vertical-align: middle;\n",
       "    }\n",
       "\n",
       "    .dataframe tbody tr th {\n",
       "        vertical-align: top;\n",
       "    }\n",
       "\n",
       "    .dataframe thead th {\n",
       "        text-align: right;\n",
       "    }\n",
       "</style>\n",
       "<table border=\"1\" class=\"dataframe\">\n",
       "  <thead>\n",
       "    <tr style=\"text-align: right;\">\n",
       "      <th></th>\n",
       "      <th>Unnamed: 0</th>\n",
       "      <th>index</th>\n",
       "      <th>price_btc</th>\n",
       "      <th>price_eth</th>\n",
       "      <th>price_doge</th>\n",
       "      <th>price_ada</th>\n",
       "      <th>bal_krw</th>\n",
       "      <th>bal_btc</th>\n",
       "      <th>bal_eth</th>\n",
       "      <th>bal_doge</th>\n",
       "      <th>...</th>\n",
       "      <th>bal2_ada</th>\n",
       "      <th>target_btc</th>\n",
       "      <th>target_eth</th>\n",
       "      <th>target_doge</th>\n",
       "      <th>target_ada</th>\n",
       "      <th>trade_btc</th>\n",
       "      <th>trade_eth</th>\n",
       "      <th>trade_doge</th>\n",
       "      <th>trade_ada</th>\n",
       "      <th>value</th>\n",
       "    </tr>\n",
       "  </thead>\n",
       "  <tbody>\n",
       "    <tr>\n",
       "      <th>0</th>\n",
       "      <td>0</td>\n",
       "      <td>2022-05-01 09:00:00</td>\n",
       "      <td>49283000.0</td>\n",
       "      <td>3570000.0</td>\n",
       "      <td>166.0</td>\n",
       "      <td>996.0</td>\n",
       "      <td>0</td>\n",
       "      <td>0</td>\n",
       "      <td>0</td>\n",
       "      <td>0</td>\n",
       "      <td>...</td>\n",
       "      <td>0</td>\n",
       "      <td>0</td>\n",
       "      <td>0</td>\n",
       "      <td>0</td>\n",
       "      <td>0</td>\n",
       "      <td>0</td>\n",
       "      <td>0</td>\n",
       "      <td>0</td>\n",
       "      <td>0</td>\n",
       "      <td>0</td>\n",
       "    </tr>\n",
       "    <tr>\n",
       "      <th>1</th>\n",
       "      <td>1</td>\n",
       "      <td>2022-05-02 09:00:00</td>\n",
       "      <td>49383000.0</td>\n",
       "      <td>3625000.0</td>\n",
       "      <td>170.0</td>\n",
       "      <td>1010.0</td>\n",
       "      <td>0</td>\n",
       "      <td>0</td>\n",
       "      <td>0</td>\n",
       "      <td>0</td>\n",
       "      <td>...</td>\n",
       "      <td>0</td>\n",
       "      <td>0</td>\n",
       "      <td>0</td>\n",
       "      <td>0</td>\n",
       "      <td>0</td>\n",
       "      <td>0</td>\n",
       "      <td>0</td>\n",
       "      <td>0</td>\n",
       "      <td>0</td>\n",
       "      <td>0</td>\n",
       "    </tr>\n",
       "    <tr>\n",
       "      <th>2</th>\n",
       "      <td>2</td>\n",
       "      <td>2022-05-03 09:00:00</td>\n",
       "      <td>49501000.0</td>\n",
       "      <td>3667000.0</td>\n",
       "      <td>168.0</td>\n",
       "      <td>1000.0</td>\n",
       "      <td>0</td>\n",
       "      <td>0</td>\n",
       "      <td>0</td>\n",
       "      <td>0</td>\n",
       "      <td>...</td>\n",
       "      <td>0</td>\n",
       "      <td>0</td>\n",
       "      <td>0</td>\n",
       "      <td>0</td>\n",
       "      <td>0</td>\n",
       "      <td>0</td>\n",
       "      <td>0</td>\n",
       "      <td>0</td>\n",
       "      <td>0</td>\n",
       "      <td>0</td>\n",
       "    </tr>\n",
       "    <tr>\n",
       "      <th>3</th>\n",
       "      <td>3</td>\n",
       "      <td>2022-05-04 09:00:00</td>\n",
       "      <td>48772000.0</td>\n",
       "      <td>3595000.0</td>\n",
       "      <td>167.0</td>\n",
       "      <td>997.0</td>\n",
       "      <td>0</td>\n",
       "      <td>0</td>\n",
       "      <td>0</td>\n",
       "      <td>0</td>\n",
       "      <td>...</td>\n",
       "      <td>0</td>\n",
       "      <td>0</td>\n",
       "      <td>0</td>\n",
       "      <td>0</td>\n",
       "      <td>0</td>\n",
       "      <td>0</td>\n",
       "      <td>0</td>\n",
       "      <td>0</td>\n",
       "      <td>0</td>\n",
       "      <td>0</td>\n",
       "    </tr>\n",
       "    <tr>\n",
       "      <th>4</th>\n",
       "      <td>4</td>\n",
       "      <td>2022-05-05 09:00:00</td>\n",
       "      <td>50631000.0</td>\n",
       "      <td>3752000.0</td>\n",
       "      <td>173.0</td>\n",
       "      <td>1140.0</td>\n",
       "      <td>0</td>\n",
       "      <td>0</td>\n",
       "      <td>0</td>\n",
       "      <td>0</td>\n",
       "      <td>...</td>\n",
       "      <td>0</td>\n",
       "      <td>0</td>\n",
       "      <td>0</td>\n",
       "      <td>0</td>\n",
       "      <td>0</td>\n",
       "      <td>0</td>\n",
       "      <td>0</td>\n",
       "      <td>0</td>\n",
       "      <td>0</td>\n",
       "      <td>0</td>\n",
       "    </tr>\n",
       "    <tr>\n",
       "      <th>...</th>\n",
       "      <td>...</td>\n",
       "      <td>...</td>\n",
       "      <td>...</td>\n",
       "      <td>...</td>\n",
       "      <td>...</td>\n",
       "      <td>...</td>\n",
       "      <td>...</td>\n",
       "      <td>...</td>\n",
       "      <td>...</td>\n",
       "      <td>...</td>\n",
       "      <td>...</td>\n",
       "      <td>...</td>\n",
       "      <td>...</td>\n",
       "      <td>...</td>\n",
       "      <td>...</td>\n",
       "      <td>...</td>\n",
       "      <td>...</td>\n",
       "      <td>...</td>\n",
       "      <td>...</td>\n",
       "      <td>...</td>\n",
       "      <td>...</td>\n",
       "    </tr>\n",
       "    <tr>\n",
       "      <th>360</th>\n",
       "      <td>360</td>\n",
       "      <td>2023-04-26 09:00:00</td>\n",
       "      <td>37877000.0</td>\n",
       "      <td>2498000.0</td>\n",
       "      <td>106.0</td>\n",
       "      <td>527.0</td>\n",
       "      <td>0</td>\n",
       "      <td>0</td>\n",
       "      <td>0</td>\n",
       "      <td>0</td>\n",
       "      <td>...</td>\n",
       "      <td>0</td>\n",
       "      <td>0</td>\n",
       "      <td>0</td>\n",
       "      <td>0</td>\n",
       "      <td>0</td>\n",
       "      <td>0</td>\n",
       "      <td>0</td>\n",
       "      <td>0</td>\n",
       "      <td>0</td>\n",
       "      <td>0</td>\n",
       "    </tr>\n",
       "    <tr>\n",
       "      <th>361</th>\n",
       "      <td>361</td>\n",
       "      <td>2023-04-27 09:00:00</td>\n",
       "      <td>38020000.0</td>\n",
       "      <td>2494000.0</td>\n",
       "      <td>105.0</td>\n",
       "      <td>536.0</td>\n",
       "      <td>0</td>\n",
       "      <td>0</td>\n",
       "      <td>0</td>\n",
       "      <td>0</td>\n",
       "      <td>...</td>\n",
       "      <td>0</td>\n",
       "      <td>0</td>\n",
       "      <td>0</td>\n",
       "      <td>0</td>\n",
       "      <td>0</td>\n",
       "      <td>0</td>\n",
       "      <td>0</td>\n",
       "      <td>0</td>\n",
       "      <td>0</td>\n",
       "      <td>0</td>\n",
       "    </tr>\n",
       "    <tr>\n",
       "      <th>362</th>\n",
       "      <td>362</td>\n",
       "      <td>2023-04-28 09:00:00</td>\n",
       "      <td>39271000.0</td>\n",
       "      <td>2544000.0</td>\n",
       "      <td>106.0</td>\n",
       "      <td>546.0</td>\n",
       "      <td>0</td>\n",
       "      <td>0</td>\n",
       "      <td>0</td>\n",
       "      <td>0</td>\n",
       "      <td>...</td>\n",
       "      <td>0</td>\n",
       "      <td>0</td>\n",
       "      <td>0</td>\n",
       "      <td>0</td>\n",
       "      <td>0</td>\n",
       "      <td>0</td>\n",
       "      <td>0</td>\n",
       "      <td>0</td>\n",
       "      <td>0</td>\n",
       "      <td>0</td>\n",
       "    </tr>\n",
       "    <tr>\n",
       "      <th>363</th>\n",
       "      <td>363</td>\n",
       "      <td>2023-04-29 09:00:00</td>\n",
       "      <td>39083000.0</td>\n",
       "      <td>2524000.0</td>\n",
       "      <td>107.0</td>\n",
       "      <td>539.0</td>\n",
       "      <td>0</td>\n",
       "      <td>0</td>\n",
       "      <td>0</td>\n",
       "      <td>0</td>\n",
       "      <td>...</td>\n",
       "      <td>0</td>\n",
       "      <td>0</td>\n",
       "      <td>0</td>\n",
       "      <td>0</td>\n",
       "      <td>0</td>\n",
       "      <td>0</td>\n",
       "      <td>0</td>\n",
       "      <td>0</td>\n",
       "      <td>0</td>\n",
       "      <td>0</td>\n",
       "    </tr>\n",
       "    <tr>\n",
       "      <th>364</th>\n",
       "      <td>364</td>\n",
       "      <td>2023-04-30 09:00:00</td>\n",
       "      <td>38980000.0</td>\n",
       "      <td>2541000.0</td>\n",
       "      <td>108.0</td>\n",
       "      <td>536.0</td>\n",
       "      <td>0</td>\n",
       "      <td>0</td>\n",
       "      <td>0</td>\n",
       "      <td>0</td>\n",
       "      <td>...</td>\n",
       "      <td>0</td>\n",
       "      <td>0</td>\n",
       "      <td>0</td>\n",
       "      <td>0</td>\n",
       "      <td>0</td>\n",
       "      <td>0</td>\n",
       "      <td>0</td>\n",
       "      <td>0</td>\n",
       "      <td>0</td>\n",
       "      <td>0</td>\n",
       "    </tr>\n",
       "  </tbody>\n",
       "</table>\n",
       "<p>365 rows × 25 columns</p>\n",
       "</div>"
      ],
      "text/plain": [
       "     Unnamed: 0                index   price_btc  price_eth  price_doge  \\\n",
       "0             0  2022-05-01 09:00:00  49283000.0  3570000.0       166.0   \n",
       "1             1  2022-05-02 09:00:00  49383000.0  3625000.0       170.0   \n",
       "2             2  2022-05-03 09:00:00  49501000.0  3667000.0       168.0   \n",
       "3             3  2022-05-04 09:00:00  48772000.0  3595000.0       167.0   \n",
       "4             4  2022-05-05 09:00:00  50631000.0  3752000.0       173.0   \n",
       "..          ...                  ...         ...        ...         ...   \n",
       "360         360  2023-04-26 09:00:00  37877000.0  2498000.0       106.0   \n",
       "361         361  2023-04-27 09:00:00  38020000.0  2494000.0       105.0   \n",
       "362         362  2023-04-28 09:00:00  39271000.0  2544000.0       106.0   \n",
       "363         363  2023-04-29 09:00:00  39083000.0  2524000.0       107.0   \n",
       "364         364  2023-04-30 09:00:00  38980000.0  2541000.0       108.0   \n",
       "\n",
       "     price_ada  bal_krw  bal_btc  bal_eth  bal_doge  ...  bal2_ada  \\\n",
       "0        996.0        0        0        0         0  ...         0   \n",
       "1       1010.0        0        0        0         0  ...         0   \n",
       "2       1000.0        0        0        0         0  ...         0   \n",
       "3        997.0        0        0        0         0  ...         0   \n",
       "4       1140.0        0        0        0         0  ...         0   \n",
       "..         ...      ...      ...      ...       ...  ...       ...   \n",
       "360      527.0        0        0        0         0  ...         0   \n",
       "361      536.0        0        0        0         0  ...         0   \n",
       "362      546.0        0        0        0         0  ...         0   \n",
       "363      539.0        0        0        0         0  ...         0   \n",
       "364      536.0        0        0        0         0  ...         0   \n",
       "\n",
       "     target_btc  target_eth  target_doge  target_ada  trade_btc  trade_eth  \\\n",
       "0             0           0            0           0          0          0   \n",
       "1             0           0            0           0          0          0   \n",
       "2             0           0            0           0          0          0   \n",
       "3             0           0            0           0          0          0   \n",
       "4             0           0            0           0          0          0   \n",
       "..          ...         ...          ...         ...        ...        ...   \n",
       "360           0           0            0           0          0          0   \n",
       "361           0           0            0           0          0          0   \n",
       "362           0           0            0           0          0          0   \n",
       "363           0           0            0           0          0          0   \n",
       "364           0           0            0           0          0          0   \n",
       "\n",
       "     trade_doge  trade_ada  value  \n",
       "0             0          0      0  \n",
       "1             0          0      0  \n",
       "2             0          0      0  \n",
       "3             0          0      0  \n",
       "4             0          0      0  \n",
       "..          ...        ...    ...  \n",
       "360           0          0      0  \n",
       "361           0          0      0  \n",
       "362           0          0      0  \n",
       "363           0          0      0  \n",
       "364           0          0      0  \n",
       "\n",
       "[365 rows x 25 columns]"
      ]
     },
     "execution_count": 4,
     "metadata": {},
     "output_type": "execute_result"
    }
   ],
   "source": [
    "from_date = '20220501'\n",
    "to_date = '20230501'\n",
    "\n",
    "df = trading_helper.get_multiple(from_date, to_date)\n",
    "\n",
    "\n",
    "df"
   ]
  },
  {
   "cell_type": "code",
   "execution_count": 5,
   "id": "c363e041-4d01-40dd-9872-9684809aaac7",
   "metadata": {},
   "outputs": [],
   "source": [
    "# ------------------------------------------------------------------------------------------------------\n",
    "# - 코드를 완성했다면 이 코드셀만 복사해서 competition 페이지 Rebalancing 탭에 라운드 별 코드 항목으로 붙여넣습니다.\n",
    "# - 연습할 때는 다음과 같은 이유로 프로젝트 페이지의 에디터에서 직접 연습하지 말고 Colab에서 연습하세요. \n",
    "#   + Colab의 연습은 서버에 횟수가 기록되어 평가에 반영됩니다.\n",
    "#   + Colab 노트북 자체에도 변경 history가 누적 됩니다. (부정행위 방지)\n",
    "#   + 프로젝트 페이지에서 submit 횟수가 지나치게 빈번한 경우 submit이 일정시간 제한될 수 있습니다.\n",
    "# ------------------------------------------------------------------------------------------------------\n",
    "\n",
    "# Given Code Version 2023.05.16-v2\n",
    "\n",
    "import numpy as np\n",
    "import pandas as pd\n",
    "import datetime\n",
    "\n",
    "# rebalancing() 암호화폐 포트폴리오 리밸런싱 함수\n",
    "'''\n",
    "* ratio_  자산배분 비율 (총 합은 반드시 1.0이어야 함)\n",
    "  투자하지 않는 암호화폐는 0으로 남겨둠\n",
    "  \n",
    "  예) 원화 10%, 비트코인(BTC) 50%, 이더리움(ETH) 40%\n",
    "      ratio_krw = 0.1\n",
    "      ratio_btc = 0.5\n",
    "      ratio_eth = 0.4\n",
    "      ratio_doge = 0.0\n",
    "      ratio_ada = 0.0\n",
    "\n",
    "  예) 원화 70%, 비트코인(BTC) 10%, 이더리움(ETH) 10%, 도지코인(DOGE) 5%, 에이다(ADA) 5%\n",
    "      ratio_krw = 0.7\n",
    "      ratio_btc = 0.1\n",
    "      ratio_eth = 0.1\n",
    "      ratio_doge = 0.05\n",
    "      ratio_ada = 0.05\n",
    "\n",
    "* threshold - 최소한으로 요구되는 총 자산 대비 변동 비율 (%)\n",
    "\n",
    "  기본값 0: 조금이라도 변동될 때 매매\n",
    "  예) 0.001: 전체 자산의 0.1% 변동시 매매, 0.005: 전체 자산의 0.5% 변동시 매매\n",
    "\n",
    "\n",
    "* fee - 수수료, 기본값 0.001 (변경 없음)\n",
    "\n",
    "* init_krw - 초기 투자금액, 기본값 100000000 (변경 없음)\n",
    "'''\n",
    "\n",
    "# Qualification 라운드 에서는 지정된 암호화폐 비율과 threshold 0.0을 사용해야 하며\n",
    "# 그 외의 라운드에서는 암포화폐 비율과 threshold를 자유롭게 사용할 수 있음\n",
    "\n",
    "# ------------------------------------------------\n",
    "# EDITABLE (1)\n",
    "#\n",
    "DEFAULT_RATIO_KRW = 1.0\n",
    "DEFAULT_RATIO_BTC = 0.0\n",
    "DEFAULT_RATIO_ETH = 0.0\n",
    "DEFAULT_RATIO_DOGE = 0.0\n",
    "DEFAULT_RATIO_ADA = 0.0\n",
    "\n",
    "DEFAULT_THRESHOLD = 0.0 # Qualification 라운드 에서는 이 값을 0.0으로\n",
    "# ------------------------------------------------\n",
    "\n",
    "def rebalancing( df, ratio_krw=DEFAULT_RATIO_KRW, ratio_btc=DEFAULT_RATIO_BTC, ratio_eth=DEFAULT_RATIO_ETH, ratio_doge=DEFAULT_RATIO_DOGE, ratio_ada=DEFAULT_RATIO_ADA, threshold=DEFAULT_THRESHOLD, fee=0.001, init_krw=100000000 ):\n",
    "\n",
    "    # -------------------------------------------------------------------------------\n",
    "    # DO NOT EDIT\n",
    "    #\n",
    "    ratio_sum = ratio_krw + ratio_btc + ratio_eth + ratio_doge + ratio_ada\n",
    "    if abs(ratio_sum - 1.0) > 0.0001:\n",
    "        print(f'The sum of the ratios must be 1. ({ratio_sum})')\n",
    "        return\n",
    "    # -------------------------------------------------------------------------------\n",
    "\n",
    "    row_index = 0\n",
    "\n",
    "    # 데이터프레임의 모든 행에 대해서 반복\n",
    "    for row_index in range( len( df ) ):\n",
    "\n",
    "        # 현재 데이터: cur_data\n",
    "        cur_data = df.loc[ row_index, : ].copy()\n",
    "        # 이전 데이터: prev_data\n",
    "        if row_index > 0:\n",
    "            prev_data = df.loc[ row_index-1, : ].copy()\n",
    "\n",
    "\n",
    "\n",
    "        #------------------------\n",
    "        # Balance 계산 (bal_)\n",
    "        # 하루 전의 계산 후 잔고(bal2_)를 현재의 계산 전 잔고로 가져옴(bal_)\n",
    "        if row_index == 0:\n",
    "            # 첫째 날이라면 잔고는 krw만 존재\n",
    "            cur_data[ 'bal_krw' ] = init_krw\n",
    "        else:\n",
    "            # 둘째 날 부터는 이전 날 계산 후 잔고(bal2_)를 현재 잔고(bal_)로 대입\n",
    "            cur_data[ 'bal_krw' ] = prev_data[ 'bal2_krw' ]\n",
    "            cur_data[ 'bal_btc' ] = prev_data[ 'bal2_btc' ]\n",
    "            cur_data[ 'bal_eth' ] = prev_data[ 'bal2_eth' ]\n",
    "            cur_data[ 'bal_doge' ] = prev_data[ 'bal2_doge' ]\n",
    "            cur_data[ 'bal_ada' ] = prev_data[ 'bal2_ada' ]\n",
    "            \n",
    "\n",
    "        #------------------------\n",
    "        # Total Value 계산 (value)\n",
    "        # 전체 자산의 가치를 모두 합산\n",
    "        cur_data[ 'value' ] = cur_data[ 'bal_krw' ]\n",
    "        cur_data[ 'value' ] += cur_data[ 'price_btc' ] * cur_data[ 'bal_btc' ]\n",
    "        cur_data[ 'value' ] += cur_data[ 'price_eth' ] * cur_data[ 'bal_eth' ]\n",
    "        cur_data[ 'value' ] += cur_data[ 'price_doge' ] * cur_data[ 'bal_doge' ] # EDITABLE (2)\n",
    "        cur_data[ 'value' ] += cur_data[ 'price_ada' ] * cur_data[ 'bal_ada' ] # EDITABLE (3)                                \n",
    "                                \n",
    "\n",
    "        #------------------------\n",
    "        # Target 계산 (target_)\n",
    "        # 비율에 따라 다시 조정되어야 할 목표 잔고 계산\n",
    "        cur_data[ 'target_btc' ] = ratio_btc * cur_data[ 'value' ] / cur_data[ 'price_btc' ]\n",
    "        cur_data[ 'target_eth' ] = ratio_eth * cur_data[ 'value' ] / cur_data[ 'price_eth' ]\n",
    "        cur_data[ 'target_doge' ] = ratio_doge * cur_data[ 'value' ] / cur_data[ 'price_doge' ]    # EDITABLE (4)\n",
    "        cur_data[ 'target_ada' ] = ratio_ada * cur_data[ 'value' ] / cur_data[ 'price_ada' ]      # EDITABLE (5)\n",
    "\n",
    "\n",
    "        #------------------------\n",
    "        # Trading Amount 계산 (trade_)\n",
    "        # Target 잔고를 위해 매매해야 할 양을 계산\n",
    "        cur_data[ 'trade_btc' ] = cur_data[ 'target_btc' ] - cur_data[ 'bal_btc' ]\n",
    "        cur_data[ 'trade_eth' ] = cur_data[ 'target_eth' ] - cur_data[ 'bal_eth' ]\n",
    "        cur_data[ 'trade_doge' ] = cur_data[ 'target_doge' ] - cur_data[ 'bal_doge' ]  # EDITABLE (6)\n",
    "        cur_data[ 'trade_ada' ] = cur_data[ 'target_ada' ] - cur_data[ 'bal_ada' ]  # EDITABLE (7)\n",
    "\n",
    "\n",
    "\n",
    "        #------------------------\n",
    "        # 매매해야 할 양의 절대값이 총 자산의 일정 %를 넘지 않으면 매매하지 않음\n",
    "        th_value = threshold * cur_data[ 'value' ]\n",
    "        amount_btc = abs( cur_data[ 'trade_btc' ] * cur_data[ 'price_btc' ] )\n",
    "        amount_eth = abs( cur_data[ 'trade_eth' ] * cur_data[ 'price_eth' ] )\n",
    "        amount_doge = abs( cur_data[ 'trade_doge' ] * cur_data[ 'price_doge' ] )  # EDITABLE (8)\n",
    "        amount_ada = abs( cur_data[ 'trade_ada' ] * cur_data[ 'price_ada' ] )  # EDITABLE (9)\n",
    "\n",
    "\n",
    "        #--------------------------------------------------------------------------------------------------------------------\n",
    "        # DO NOT EDIT\n",
    "        # 계산 후 잔고 준비\n",
    "        cur_data[ 'bal2_krw' ] = cur_data[ 'bal_krw' ]\n",
    "        cur_data[ 'bal2_btc' ] = cur_data[ 'bal_btc' ]\n",
    "        cur_data[ 'bal2_eth' ] = cur_data[ 'bal_eth' ]\n",
    "        cur_data[ 'bal2_doge' ] = cur_data[ 'bal_doge' ]\n",
    "        cur_data[ 'bal2_ada' ] = cur_data[ 'bal_ada' ]\n",
    "\n",
    "        if amount_btc >= th_value:\n",
    "            # BTC 잔고 변경 \n",
    "            cur_data[ 'bal2_btc' ] += cur_data[ 'trade_btc' ]\n",
    "            # krw 잔고 변경 (BTC 매매 반영 + 수수료 차감)\n",
    "            cur_data[ 'bal2_krw' ] -= cur_data[ 'trade_btc' ] * cur_data[ 'price_btc' ] + amount_btc * fee\n",
    "\n",
    "        if amount_eth >= th_value:\n",
    "            # ETH 잔고 변경 \n",
    "            cur_data[ 'bal2_eth' ] += cur_data[ 'trade_eth' ]\n",
    "            # krw 잔고 변경 (ETH 매매 반영 + 수수료 차감)\n",
    "            cur_data[ 'bal2_krw' ] -= cur_data[ 'trade_eth' ] * cur_data[ 'price_eth' ] + amount_eth * fee\n",
    "\n",
    "        if amount_doge >= th_value:\n",
    "            # DOGE 잔고 변경 \n",
    "            cur_data[ 'bal2_doge' ] += cur_data[ 'trade_doge' ]\n",
    "            # krw 잔고 변경 (DOGE 매매 반영 + 수수료 차감)\n",
    "            cur_data[ 'bal2_krw' ] -= cur_data[ 'trade_doge' ] * cur_data[ 'price_doge' ] + amount_doge * fee\n",
    "\n",
    "        if amount_ada >= th_value:\n",
    "            # ADA 잔고 변경 \n",
    "            cur_data[ 'bal2_ada' ] += cur_data[ 'trade_ada' ]\n",
    "            # krw 잔고 변경 (ADA 매매 반영 + 수수료 차감)\n",
    "            cur_data[ 'bal2_krw' ] -= cur_data[ 'trade_ada' ] * cur_data[ 'price_ada' ] + amount_ada * fee\n",
    "\n",
    "\n",
    "        #--------------------------------------------------------------------------------------------------------------------\n",
    "        # DO NOT EDIT\n",
    "        #\n",
    "        df.loc[ row_index, : ] = cur_data\n",
    "\n",
    "        row_index += 1\n",
    "        #--------------------------------------------------------------------------------------------------------------------\n",
    "\n",
    "\n"
   ]
  },
  {
   "cell_type": "code",
   "execution_count": null,
   "id": "9b8d662e-124a-47d1-b8d9-501ea944d176",
   "metadata": {},
   "outputs": [
    {
     "data": {
      "application/vnd.jupyter.widget-view+json": {
       "model_id": "1b3d9aa8de734650b0e11d928b47ba7c",
       "version_major": 2,
       "version_minor": 0
      },
      "text/plain": [
       "ratio_krw:   0%|          | 0/40 [00:00<?, ?it/s]"
      ]
     },
     "metadata": {},
     "output_type": "display_data"
    },
    {
     "data": {
      "application/vnd.jupyter.widget-view+json": {
       "model_id": "",
       "version_major": 2,
       "version_minor": 0
      },
      "text/plain": [
       "ratio_btc:   0%|          | 0/10 [00:00<?, ?it/s]"
      ]
     },
     "metadata": {},
     "output_type": "display_data"
    },
    {
     "data": {
      "application/vnd.jupyter.widget-view+json": {
       "model_id": "",
       "version_major": 2,
       "version_minor": 0
      },
      "text/plain": [
       "ratio_eth:   0%|          | 0/10 [00:00<?, ?it/s]"
      ]
     },
     "metadata": {},
     "output_type": "display_data"
    },
    {
     "data": {
      "application/vnd.jupyter.widget-view+json": {
       "model_id": "",
       "version_major": 2,
       "version_minor": 0
      },
      "text/plain": [
       "ratio_eth:   0%|          | 0/10 [00:00<?, ?it/s]"
      ]
     },
     "metadata": {},
     "output_type": "display_data"
    },
    {
     "data": {
      "application/vnd.jupyter.widget-view+json": {
       "model_id": "",
       "version_major": 2,
       "version_minor": 0
      },
      "text/plain": [
       "ratio_eth:   0%|          | 0/10 [00:00<?, ?it/s]"
      ]
     },
     "metadata": {},
     "output_type": "display_data"
    },
    {
     "data": {
      "application/vnd.jupyter.widget-view+json": {
       "model_id": "",
       "version_major": 2,
       "version_minor": 0
      },
      "text/plain": [
       "ratio_eth:   0%|          | 0/10 [00:00<?, ?it/s]"
      ]
     },
     "metadata": {},
     "output_type": "display_data"
    },
    {
     "data": {
      "application/vnd.jupyter.widget-view+json": {
       "model_id": "",
       "version_major": 2,
       "version_minor": 0
      },
      "text/plain": [
       "ratio_eth:   0%|          | 0/10 [00:00<?, ?it/s]"
      ]
     },
     "metadata": {},
     "output_type": "display_data"
    },
    {
     "data": {
      "application/vnd.jupyter.widget-view+json": {
       "model_id": "",
       "version_major": 2,
       "version_minor": 0
      },
      "text/plain": [
       "ratio_eth:   0%|          | 0/10 [00:00<?, ?it/s]"
      ]
     },
     "metadata": {},
     "output_type": "display_data"
    },
    {
     "data": {
      "application/vnd.jupyter.widget-view+json": {
       "model_id": "",
       "version_major": 2,
       "version_minor": 0
      },
      "text/plain": [
       "ratio_eth:   0%|          | 0/10 [00:00<?, ?it/s]"
      ]
     },
     "metadata": {},
     "output_type": "display_data"
    },
    {
     "data": {
      "application/vnd.jupyter.widget-view+json": {
       "model_id": "",
       "version_major": 2,
       "version_minor": 0
      },
      "text/plain": [
       "ratio_eth:   0%|          | 0/10 [00:00<?, ?it/s]"
      ]
     },
     "metadata": {},
     "output_type": "display_data"
    },
    {
     "data": {
      "application/vnd.jupyter.widget-view+json": {
       "model_id": "",
       "version_major": 2,
       "version_minor": 0
      },
      "text/plain": [
       "ratio_eth:   0%|          | 0/10 [00:00<?, ?it/s]"
      ]
     },
     "metadata": {},
     "output_type": "display_data"
    },
    {
     "data": {
      "application/vnd.jupyter.widget-view+json": {
       "model_id": "",
       "version_major": 2,
       "version_minor": 0
      },
      "text/plain": [
       "ratio_eth:   0%|          | 0/10 [00:00<?, ?it/s]"
      ]
     },
     "metadata": {},
     "output_type": "display_data"
    },
    {
     "data": {
      "application/vnd.jupyter.widget-view+json": {
       "model_id": "",
       "version_major": 2,
       "version_minor": 0
      },
      "text/plain": [
       "ratio_btc:   0%|          | 0/10 [00:00<?, ?it/s]"
      ]
     },
     "metadata": {},
     "output_type": "display_data"
    },
    {
     "data": {
      "application/vnd.jupyter.widget-view+json": {
       "model_id": "",
       "version_major": 2,
       "version_minor": 0
      },
      "text/plain": [
       "ratio_eth:   0%|          | 0/10 [00:00<?, ?it/s]"
      ]
     },
     "metadata": {},
     "output_type": "display_data"
    },
    {
     "data": {
      "application/vnd.jupyter.widget-view+json": {
       "model_id": "",
       "version_major": 2,
       "version_minor": 0
      },
      "text/plain": [
       "ratio_eth:   0%|          | 0/10 [00:00<?, ?it/s]"
      ]
     },
     "metadata": {},
     "output_type": "display_data"
    },
    {
     "data": {
      "application/vnd.jupyter.widget-view+json": {
       "model_id": "",
       "version_major": 2,
       "version_minor": 0
      },
      "text/plain": [
       "ratio_eth:   0%|          | 0/10 [00:00<?, ?it/s]"
      ]
     },
     "metadata": {},
     "output_type": "display_data"
    },
    {
     "data": {
      "application/vnd.jupyter.widget-view+json": {
       "model_id": "",
       "version_major": 2,
       "version_minor": 0
      },
      "text/plain": [
       "ratio_eth:   0%|          | 0/10 [00:00<?, ?it/s]"
      ]
     },
     "metadata": {},
     "output_type": "display_data"
    },
    {
     "data": {
      "application/vnd.jupyter.widget-view+json": {
       "model_id": "",
       "version_major": 2,
       "version_minor": 0
      },
      "text/plain": [
       "ratio_eth:   0%|          | 0/10 [00:00<?, ?it/s]"
      ]
     },
     "metadata": {},
     "output_type": "display_data"
    },
    {
     "data": {
      "application/vnd.jupyter.widget-view+json": {
       "model_id": "",
       "version_major": 2,
       "version_minor": 0
      },
      "text/plain": [
       "ratio_eth:   0%|          | 0/10 [00:00<?, ?it/s]"
      ]
     },
     "metadata": {},
     "output_type": "display_data"
    },
    {
     "data": {
      "application/vnd.jupyter.widget-view+json": {
       "model_id": "",
       "version_major": 2,
       "version_minor": 0
      },
      "text/plain": [
       "ratio_eth:   0%|          | 0/10 [00:00<?, ?it/s]"
      ]
     },
     "metadata": {},
     "output_type": "display_data"
    },
    {
     "data": {
      "application/vnd.jupyter.widget-view+json": {
       "model_id": "",
       "version_major": 2,
       "version_minor": 0
      },
      "text/plain": [
       "ratio_eth:   0%|          | 0/10 [00:00<?, ?it/s]"
      ]
     },
     "metadata": {},
     "output_type": "display_data"
    },
    {
     "data": {
      "application/vnd.jupyter.widget-view+json": {
       "model_id": "",
       "version_major": 2,
       "version_minor": 0
      },
      "text/plain": [
       "ratio_eth:   0%|          | 0/10 [00:00<?, ?it/s]"
      ]
     },
     "metadata": {},
     "output_type": "display_data"
    },
    {
     "data": {
      "application/vnd.jupyter.widget-view+json": {
       "model_id": "",
       "version_major": 2,
       "version_minor": 0
      },
      "text/plain": [
       "ratio_eth:   0%|          | 0/10 [00:00<?, ?it/s]"
      ]
     },
     "metadata": {},
     "output_type": "display_data"
    },
    {
     "data": {
      "application/vnd.jupyter.widget-view+json": {
       "model_id": "",
       "version_major": 2,
       "version_minor": 0
      },
      "text/plain": [
       "ratio_btc:   0%|          | 0/10 [00:00<?, ?it/s]"
      ]
     },
     "metadata": {},
     "output_type": "display_data"
    },
    {
     "data": {
      "application/vnd.jupyter.widget-view+json": {
       "model_id": "",
       "version_major": 2,
       "version_minor": 0
      },
      "text/plain": [
       "ratio_eth:   0%|          | 0/10 [00:00<?, ?it/s]"
      ]
     },
     "metadata": {},
     "output_type": "display_data"
    },
    {
     "data": {
      "application/vnd.jupyter.widget-view+json": {
       "model_id": "",
       "version_major": 2,
       "version_minor": 0
      },
      "text/plain": [
       "ratio_eth:   0%|          | 0/10 [00:00<?, ?it/s]"
      ]
     },
     "metadata": {},
     "output_type": "display_data"
    },
    {
     "data": {
      "application/vnd.jupyter.widget-view+json": {
       "model_id": "",
       "version_major": 2,
       "version_minor": 0
      },
      "text/plain": [
       "ratio_eth:   0%|          | 0/10 [00:00<?, ?it/s]"
      ]
     },
     "metadata": {},
     "output_type": "display_data"
    },
    {
     "data": {
      "application/vnd.jupyter.widget-view+json": {
       "model_id": "",
       "version_major": 2,
       "version_minor": 0
      },
      "text/plain": [
       "ratio_eth:   0%|          | 0/10 [00:00<?, ?it/s]"
      ]
     },
     "metadata": {},
     "output_type": "display_data"
    },
    {
     "data": {
      "application/vnd.jupyter.widget-view+json": {
       "model_id": "",
       "version_major": 2,
       "version_minor": 0
      },
      "text/plain": [
       "ratio_eth:   0%|          | 0/10 [00:00<?, ?it/s]"
      ]
     },
     "metadata": {},
     "output_type": "display_data"
    },
    {
     "data": {
      "application/vnd.jupyter.widget-view+json": {
       "model_id": "",
       "version_major": 2,
       "version_minor": 0
      },
      "text/plain": [
       "ratio_eth:   0%|          | 0/10 [00:00<?, ?it/s]"
      ]
     },
     "metadata": {},
     "output_type": "display_data"
    },
    {
     "data": {
      "application/vnd.jupyter.widget-view+json": {
       "model_id": "",
       "version_major": 2,
       "version_minor": 0
      },
      "text/plain": [
       "ratio_eth:   0%|          | 0/10 [00:00<?, ?it/s]"
      ]
     },
     "metadata": {},
     "output_type": "display_data"
    },
    {
     "data": {
      "application/vnd.jupyter.widget-view+json": {
       "model_id": "",
       "version_major": 2,
       "version_minor": 0
      },
      "text/plain": [
       "ratio_eth:   0%|          | 0/10 [00:00<?, ?it/s]"
      ]
     },
     "metadata": {},
     "output_type": "display_data"
    },
    {
     "data": {
      "application/vnd.jupyter.widget-view+json": {
       "model_id": "",
       "version_major": 2,
       "version_minor": 0
      },
      "text/plain": [
       "ratio_eth:   0%|          | 0/10 [00:00<?, ?it/s]"
      ]
     },
     "metadata": {},
     "output_type": "display_data"
    },
    {
     "data": {
      "application/vnd.jupyter.widget-view+json": {
       "model_id": "",
       "version_major": 2,
       "version_minor": 0
      },
      "text/plain": [
       "ratio_eth:   0%|          | 0/10 [00:00<?, ?it/s]"
      ]
     },
     "metadata": {},
     "output_type": "display_data"
    },
    {
     "data": {
      "application/vnd.jupyter.widget-view+json": {
       "model_id": "",
       "version_major": 2,
       "version_minor": 0
      },
      "text/plain": [
       "ratio_btc:   0%|          | 0/10 [00:00<?, ?it/s]"
      ]
     },
     "metadata": {},
     "output_type": "display_data"
    },
    {
     "data": {
      "application/vnd.jupyter.widget-view+json": {
       "model_id": "",
       "version_major": 2,
       "version_minor": 0
      },
      "text/plain": [
       "ratio_eth:   0%|          | 0/10 [00:00<?, ?it/s]"
      ]
     },
     "metadata": {},
     "output_type": "display_data"
    },
    {
     "name": "stdout",
     "output_type": "stream",
     "text": [
      "[Round2]ratio_krw=0.985, ratio_btc=0.0, ratio_eth=0.0, ratio_doge=0.0, ratio_ada=0.015000000000000013, threshold=0.01\n",
      "    HPR=0.006092999884610428 MDD=1.2658392703078925\n"
     ]
    },
    {
     "data": {
      "application/vnd.jupyter.widget-view+json": {
       "model_id": "",
       "version_major": 2,
       "version_minor": 0
      },
      "text/plain": [
       "ratio_eth:   0%|          | 0/10 [00:00<?, ?it/s]"
      ]
     },
     "metadata": {},
     "output_type": "display_data"
    },
    {
     "data": {
      "application/vnd.jupyter.widget-view+json": {
       "model_id": "",
       "version_major": 2,
       "version_minor": 0
      },
      "text/plain": [
       "ratio_eth:   0%|          | 0/10 [00:00<?, ?it/s]"
      ]
     },
     "metadata": {},
     "output_type": "display_data"
    },
    {
     "data": {
      "application/vnd.jupyter.widget-view+json": {
       "model_id": "",
       "version_major": 2,
       "version_minor": 0
      },
      "text/plain": [
       "ratio_eth:   0%|          | 0/10 [00:00<?, ?it/s]"
      ]
     },
     "metadata": {},
     "output_type": "display_data"
    },
    {
     "data": {
      "application/vnd.jupyter.widget-view+json": {
       "model_id": "",
       "version_major": 2,
       "version_minor": 0
      },
      "text/plain": [
       "ratio_eth:   0%|          | 0/10 [00:00<?, ?it/s]"
      ]
     },
     "metadata": {},
     "output_type": "display_data"
    },
    {
     "data": {
      "application/vnd.jupyter.widget-view+json": {
       "model_id": "",
       "version_major": 2,
       "version_minor": 0
      },
      "text/plain": [
       "ratio_eth:   0%|          | 0/10 [00:00<?, ?it/s]"
      ]
     },
     "metadata": {},
     "output_type": "display_data"
    },
    {
     "data": {
      "application/vnd.jupyter.widget-view+json": {
       "model_id": "",
       "version_major": 2,
       "version_minor": 0
      },
      "text/plain": [
       "ratio_eth:   0%|          | 0/10 [00:00<?, ?it/s]"
      ]
     },
     "metadata": {},
     "output_type": "display_data"
    },
    {
     "data": {
      "application/vnd.jupyter.widget-view+json": {
       "model_id": "",
       "version_major": 2,
       "version_minor": 0
      },
      "text/plain": [
       "ratio_eth:   0%|          | 0/10 [00:00<?, ?it/s]"
      ]
     },
     "metadata": {},
     "output_type": "display_data"
    },
    {
     "data": {
      "application/vnd.jupyter.widget-view+json": {
       "model_id": "",
       "version_major": 2,
       "version_minor": 0
      },
      "text/plain": [
       "ratio_eth:   0%|          | 0/10 [00:00<?, ?it/s]"
      ]
     },
     "metadata": {},
     "output_type": "display_data"
    },
    {
     "data": {
      "application/vnd.jupyter.widget-view+json": {
       "model_id": "",
       "version_major": 2,
       "version_minor": 0
      },
      "text/plain": [
       "ratio_eth:   0%|          | 0/10 [00:00<?, ?it/s]"
      ]
     },
     "metadata": {},
     "output_type": "display_data"
    },
    {
     "data": {
      "application/vnd.jupyter.widget-view+json": {
       "model_id": "",
       "version_major": 2,
       "version_minor": 0
      },
      "text/plain": [
       "ratio_btc:   0%|          | 0/10 [00:00<?, ?it/s]"
      ]
     },
     "metadata": {},
     "output_type": "display_data"
    },
    {
     "data": {
      "application/vnd.jupyter.widget-view+json": {
       "model_id": "",
       "version_major": 2,
       "version_minor": 0
      },
      "text/plain": [
       "ratio_eth:   0%|          | 0/10 [00:00<?, ?it/s]"
      ]
     },
     "metadata": {},
     "output_type": "display_data"
    },
    {
     "data": {
      "application/vnd.jupyter.widget-view+json": {
       "model_id": "",
       "version_major": 2,
       "version_minor": 0
      },
      "text/plain": [
       "ratio_eth:   0%|          | 0/10 [00:00<?, ?it/s]"
      ]
     },
     "metadata": {},
     "output_type": "display_data"
    },
    {
     "data": {
      "application/vnd.jupyter.widget-view+json": {
       "model_id": "",
       "version_major": 2,
       "version_minor": 0
      },
      "text/plain": [
       "ratio_eth:   0%|          | 0/10 [00:00<?, ?it/s]"
      ]
     },
     "metadata": {},
     "output_type": "display_data"
    },
    {
     "data": {
      "application/vnd.jupyter.widget-view+json": {
       "model_id": "",
       "version_major": 2,
       "version_minor": 0
      },
      "text/plain": [
       "ratio_eth:   0%|          | 0/10 [00:00<?, ?it/s]"
      ]
     },
     "metadata": {},
     "output_type": "display_data"
    },
    {
     "data": {
      "application/vnd.jupyter.widget-view+json": {
       "model_id": "",
       "version_major": 2,
       "version_minor": 0
      },
      "text/plain": [
       "ratio_eth:   0%|          | 0/10 [00:00<?, ?it/s]"
      ]
     },
     "metadata": {},
     "output_type": "display_data"
    },
    {
     "data": {
      "application/vnd.jupyter.widget-view+json": {
       "model_id": "",
       "version_major": 2,
       "version_minor": 0
      },
      "text/plain": [
       "ratio_eth:   0%|          | 0/10 [00:00<?, ?it/s]"
      ]
     },
     "metadata": {},
     "output_type": "display_data"
    },
    {
     "data": {
      "application/vnd.jupyter.widget-view+json": {
       "model_id": "",
       "version_major": 2,
       "version_minor": 0
      },
      "text/plain": [
       "ratio_eth:   0%|          | 0/10 [00:00<?, ?it/s]"
      ]
     },
     "metadata": {},
     "output_type": "display_data"
    },
    {
     "data": {
      "application/vnd.jupyter.widget-view+json": {
       "model_id": "",
       "version_major": 2,
       "version_minor": 0
      },
      "text/plain": [
       "ratio_eth:   0%|          | 0/10 [00:00<?, ?it/s]"
      ]
     },
     "metadata": {},
     "output_type": "display_data"
    },
    {
     "data": {
      "application/vnd.jupyter.widget-view+json": {
       "model_id": "",
       "version_major": 2,
       "version_minor": 0
      },
      "text/plain": [
       "ratio_eth:   0%|          | 0/10 [00:00<?, ?it/s]"
      ]
     },
     "metadata": {},
     "output_type": "display_data"
    },
    {
     "data": {
      "application/vnd.jupyter.widget-view+json": {
       "model_id": "",
       "version_major": 2,
       "version_minor": 0
      },
      "text/plain": [
       "ratio_eth:   0%|          | 0/10 [00:00<?, ?it/s]"
      ]
     },
     "metadata": {},
     "output_type": "display_data"
    },
    {
     "data": {
      "application/vnd.jupyter.widget-view+json": {
       "model_id": "",
       "version_major": 2,
       "version_minor": 0
      },
      "text/plain": [
       "ratio_btc:   0%|          | 0/10 [00:00<?, ?it/s]"
      ]
     },
     "metadata": {},
     "output_type": "display_data"
    },
    {
     "data": {
      "application/vnd.jupyter.widget-view+json": {
       "model_id": "",
       "version_major": 2,
       "version_minor": 0
      },
      "text/plain": [
       "ratio_eth:   0%|          | 0/10 [00:00<?, ?it/s]"
      ]
     },
     "metadata": {},
     "output_type": "display_data"
    },
    {
     "name": "stdout",
     "output_type": "stream",
     "text": [
      "[Round2]ratio_krw=0.975, ratio_btc=0.0, ratio_eth=0.0, ratio_doge=0.0, ratio_ada=0.025000000000000022, threshold=0.017\n",
      "    HPR=0.06305914137250124 MDD=2.075051314553622\n"
     ]
    },
    {
     "data": {
      "application/vnd.jupyter.widget-view+json": {
       "model_id": "",
       "version_major": 2,
       "version_minor": 0
      },
      "text/plain": [
       "ratio_eth:   0%|          | 0/10 [00:00<?, ?it/s]"
      ]
     },
     "metadata": {},
     "output_type": "display_data"
    },
    {
     "data": {
      "application/vnd.jupyter.widget-view+json": {
       "model_id": "",
       "version_major": 2,
       "version_minor": 0
      },
      "text/plain": [
       "ratio_eth:   0%|          | 0/10 [00:00<?, ?it/s]"
      ]
     },
     "metadata": {},
     "output_type": "display_data"
    },
    {
     "data": {
      "application/vnd.jupyter.widget-view+json": {
       "model_id": "",
       "version_major": 2,
       "version_minor": 0
      },
      "text/plain": [
       "ratio_eth:   0%|          | 0/10 [00:00<?, ?it/s]"
      ]
     },
     "metadata": {},
     "output_type": "display_data"
    },
    {
     "data": {
      "application/vnd.jupyter.widget-view+json": {
       "model_id": "",
       "version_major": 2,
       "version_minor": 0
      },
      "text/plain": [
       "ratio_eth:   0%|          | 0/10 [00:00<?, ?it/s]"
      ]
     },
     "metadata": {},
     "output_type": "display_data"
    },
    {
     "data": {
      "application/vnd.jupyter.widget-view+json": {
       "model_id": "",
       "version_major": 2,
       "version_minor": 0
      },
      "text/plain": [
       "ratio_eth:   0%|          | 0/10 [00:00<?, ?it/s]"
      ]
     },
     "metadata": {},
     "output_type": "display_data"
    },
    {
     "data": {
      "application/vnd.jupyter.widget-view+json": {
       "model_id": "",
       "version_major": 2,
       "version_minor": 0
      },
      "text/plain": [
       "ratio_eth:   0%|          | 0/10 [00:00<?, ?it/s]"
      ]
     },
     "metadata": {},
     "output_type": "display_data"
    },
    {
     "data": {
      "application/vnd.jupyter.widget-view+json": {
       "model_id": "",
       "version_major": 2,
       "version_minor": 0
      },
      "text/plain": [
       "ratio_eth:   0%|          | 0/10 [00:00<?, ?it/s]"
      ]
     },
     "metadata": {},
     "output_type": "display_data"
    },
    {
     "data": {
      "application/vnd.jupyter.widget-view+json": {
       "model_id": "",
       "version_major": 2,
       "version_minor": 0
      },
      "text/plain": [
       "ratio_eth:   0%|          | 0/10 [00:00<?, ?it/s]"
      ]
     },
     "metadata": {},
     "output_type": "display_data"
    },
    {
     "data": {
      "application/vnd.jupyter.widget-view+json": {
       "model_id": "",
       "version_major": 2,
       "version_minor": 0
      },
      "text/plain": [
       "ratio_eth:   0%|          | 0/10 [00:00<?, ?it/s]"
      ]
     },
     "metadata": {},
     "output_type": "display_data"
    },
    {
     "data": {
      "application/vnd.jupyter.widget-view+json": {
       "model_id": "",
       "version_major": 2,
       "version_minor": 0
      },
      "text/plain": [
       "ratio_btc:   0%|          | 0/10 [00:00<?, ?it/s]"
      ]
     },
     "metadata": {},
     "output_type": "display_data"
    },
    {
     "data": {
      "application/vnd.jupyter.widget-view+json": {
       "model_id": "",
       "version_major": 2,
       "version_minor": 0
      },
      "text/plain": [
       "ratio_eth:   0%|          | 0/10 [00:00<?, ?it/s]"
      ]
     },
     "metadata": {},
     "output_type": "display_data"
    },
    {
     "name": "stdout",
     "output_type": "stream",
     "text": [
      "[Round2]ratio_krw=0.97, ratio_btc=0.0, ratio_eth=0.0, ratio_doge=0.0, ratio_ada=0.030000000000000027, threshold=0.02\n",
      "    HPR=0.07937316047001985 MDD=2.5256399139478773\n"
     ]
    },
    {
     "data": {
      "application/vnd.jupyter.widget-view+json": {
       "model_id": "",
       "version_major": 2,
       "version_minor": 0
      },
      "text/plain": [
       "ratio_eth:   0%|          | 0/10 [00:00<?, ?it/s]"
      ]
     },
     "metadata": {},
     "output_type": "display_data"
    },
    {
     "data": {
      "application/vnd.jupyter.widget-view+json": {
       "model_id": "",
       "version_major": 2,
       "version_minor": 0
      },
      "text/plain": [
       "ratio_eth:   0%|          | 0/10 [00:00<?, ?it/s]"
      ]
     },
     "metadata": {},
     "output_type": "display_data"
    },
    {
     "data": {
      "application/vnd.jupyter.widget-view+json": {
       "model_id": "",
       "version_major": 2,
       "version_minor": 0
      },
      "text/plain": [
       "ratio_eth:   0%|          | 0/10 [00:00<?, ?it/s]"
      ]
     },
     "metadata": {},
     "output_type": "display_data"
    },
    {
     "data": {
      "application/vnd.jupyter.widget-view+json": {
       "model_id": "",
       "version_major": 2,
       "version_minor": 0
      },
      "text/plain": [
       "ratio_eth:   0%|          | 0/10 [00:00<?, ?it/s]"
      ]
     },
     "metadata": {},
     "output_type": "display_data"
    },
    {
     "data": {
      "application/vnd.jupyter.widget-view+json": {
       "model_id": "",
       "version_major": 2,
       "version_minor": 0
      },
      "text/plain": [
       "ratio_eth:   0%|          | 0/10 [00:00<?, ?it/s]"
      ]
     },
     "metadata": {},
     "output_type": "display_data"
    },
    {
     "data": {
      "application/vnd.jupyter.widget-view+json": {
       "model_id": "",
       "version_major": 2,
       "version_minor": 0
      },
      "text/plain": [
       "ratio_eth:   0%|          | 0/10 [00:00<?, ?it/s]"
      ]
     },
     "metadata": {},
     "output_type": "display_data"
    },
    {
     "data": {
      "application/vnd.jupyter.widget-view+json": {
       "model_id": "",
       "version_major": 2,
       "version_minor": 0
      },
      "text/plain": [
       "ratio_eth:   0%|          | 0/10 [00:00<?, ?it/s]"
      ]
     },
     "metadata": {},
     "output_type": "display_data"
    },
    {
     "data": {
      "application/vnd.jupyter.widget-view+json": {
       "model_id": "",
       "version_major": 2,
       "version_minor": 0
      },
      "text/plain": [
       "ratio_eth:   0%|          | 0/10 [00:00<?, ?it/s]"
      ]
     },
     "metadata": {},
     "output_type": "display_data"
    },
    {
     "data": {
      "application/vnd.jupyter.widget-view+json": {
       "model_id": "",
       "version_major": 2,
       "version_minor": 0
      },
      "text/plain": [
       "ratio_eth:   0%|          | 0/10 [00:00<?, ?it/s]"
      ]
     },
     "metadata": {},
     "output_type": "display_data"
    },
    {
     "data": {
      "application/vnd.jupyter.widget-view+json": {
       "model_id": "",
       "version_major": 2,
       "version_minor": 0
      },
      "text/plain": [
       "ratio_btc:   0%|          | 0/10 [00:00<?, ?it/s]"
      ]
     },
     "metadata": {},
     "output_type": "display_data"
    },
    {
     "data": {
      "application/vnd.jupyter.widget-view+json": {
       "model_id": "",
       "version_major": 2,
       "version_minor": 0
      },
      "text/plain": [
       "ratio_eth:   0%|          | 0/10 [00:00<?, ?it/s]"
      ]
     },
     "metadata": {},
     "output_type": "display_data"
    },
    {
     "data": {
      "application/vnd.jupyter.widget-view+json": {
       "model_id": "",
       "version_major": 2,
       "version_minor": 0
      },
      "text/plain": [
       "ratio_eth:   0%|          | 0/10 [00:00<?, ?it/s]"
      ]
     },
     "metadata": {},
     "output_type": "display_data"
    },
    {
     "data": {
      "application/vnd.jupyter.widget-view+json": {
       "model_id": "",
       "version_major": 2,
       "version_minor": 0
      },
      "text/plain": [
       "ratio_eth:   0%|          | 0/10 [00:00<?, ?it/s]"
      ]
     },
     "metadata": {},
     "output_type": "display_data"
    },
    {
     "data": {
      "application/vnd.jupyter.widget-view+json": {
       "model_id": "",
       "version_major": 2,
       "version_minor": 0
      },
      "text/plain": [
       "ratio_eth:   0%|          | 0/10 [00:00<?, ?it/s]"
      ]
     },
     "metadata": {},
     "output_type": "display_data"
    },
    {
     "data": {
      "application/vnd.jupyter.widget-view+json": {
       "model_id": "",
       "version_major": 2,
       "version_minor": 0
      },
      "text/plain": [
       "ratio_eth:   0%|          | 0/10 [00:00<?, ?it/s]"
      ]
     },
     "metadata": {},
     "output_type": "display_data"
    },
    {
     "data": {
      "application/vnd.jupyter.widget-view+json": {
       "model_id": "",
       "version_major": 2,
       "version_minor": 0
      },
      "text/plain": [
       "ratio_eth:   0%|          | 0/10 [00:00<?, ?it/s]"
      ]
     },
     "metadata": {},
     "output_type": "display_data"
    },
    {
     "data": {
      "application/vnd.jupyter.widget-view+json": {
       "model_id": "",
       "version_major": 2,
       "version_minor": 0
      },
      "text/plain": [
       "ratio_eth:   0%|          | 0/10 [00:00<?, ?it/s]"
      ]
     },
     "metadata": {},
     "output_type": "display_data"
    },
    {
     "data": {
      "application/vnd.jupyter.widget-view+json": {
       "model_id": "",
       "version_major": 2,
       "version_minor": 0
      },
      "text/plain": [
       "ratio_eth:   0%|          | 0/10 [00:00<?, ?it/s]"
      ]
     },
     "metadata": {},
     "output_type": "display_data"
    },
    {
     "data": {
      "application/vnd.jupyter.widget-view+json": {
       "model_id": "",
       "version_major": 2,
       "version_minor": 0
      },
      "text/plain": [
       "ratio_eth:   0%|          | 0/10 [00:00<?, ?it/s]"
      ]
     },
     "metadata": {},
     "output_type": "display_data"
    },
    {
     "data": {
      "application/vnd.jupyter.widget-view+json": {
       "model_id": "",
       "version_major": 2,
       "version_minor": 0
      },
      "text/plain": [
       "ratio_eth:   0%|          | 0/10 [00:00<?, ?it/s]"
      ]
     },
     "metadata": {},
     "output_type": "display_data"
    },
    {
     "data": {
      "application/vnd.jupyter.widget-view+json": {
       "model_id": "",
       "version_major": 2,
       "version_minor": 0
      },
      "text/plain": [
       "ratio_btc:   0%|          | 0/10 [00:00<?, ?it/s]"
      ]
     },
     "metadata": {},
     "output_type": "display_data"
    },
    {
     "data": {
      "application/vnd.jupyter.widget-view+json": {
       "model_id": "",
       "version_major": 2,
       "version_minor": 0
      },
      "text/plain": [
       "ratio_eth:   0%|          | 0/10 [00:00<?, ?it/s]"
      ]
     },
     "metadata": {},
     "output_type": "display_data"
    },
    {
     "name": "stdout",
     "output_type": "stream",
     "text": [
      "[Round2]ratio_krw=0.96, ratio_btc=0.0, ratio_eth=0.0, ratio_doge=0.0, ratio_ada=0.040000000000000036, threshold=0.027\n",
      "    HPR=0.0812205983452996 MDD=3.3129314684452966\n"
     ]
    },
    {
     "data": {
      "application/vnd.jupyter.widget-view+json": {
       "model_id": "",
       "version_major": 2,
       "version_minor": 0
      },
      "text/plain": [
       "ratio_eth:   0%|          | 0/10 [00:00<?, ?it/s]"
      ]
     },
     "metadata": {},
     "output_type": "display_data"
    },
    {
     "data": {
      "application/vnd.jupyter.widget-view+json": {
       "model_id": "",
       "version_major": 2,
       "version_minor": 0
      },
      "text/plain": [
       "ratio_eth:   0%|          | 0/10 [00:00<?, ?it/s]"
      ]
     },
     "metadata": {},
     "output_type": "display_data"
    },
    {
     "data": {
      "application/vnd.jupyter.widget-view+json": {
       "model_id": "",
       "version_major": 2,
       "version_minor": 0
      },
      "text/plain": [
       "ratio_eth:   0%|          | 0/10 [00:00<?, ?it/s]"
      ]
     },
     "metadata": {},
     "output_type": "display_data"
    },
    {
     "data": {
      "application/vnd.jupyter.widget-view+json": {
       "model_id": "",
       "version_major": 2,
       "version_minor": 0
      },
      "text/plain": [
       "ratio_eth:   0%|          | 0/10 [00:00<?, ?it/s]"
      ]
     },
     "metadata": {},
     "output_type": "display_data"
    },
    {
     "data": {
      "application/vnd.jupyter.widget-view+json": {
       "model_id": "",
       "version_major": 2,
       "version_minor": 0
      },
      "text/plain": [
       "ratio_eth:   0%|          | 0/10 [00:00<?, ?it/s]"
      ]
     },
     "metadata": {},
     "output_type": "display_data"
    },
    {
     "data": {
      "application/vnd.jupyter.widget-view+json": {
       "model_id": "",
       "version_major": 2,
       "version_minor": 0
      },
      "text/plain": [
       "ratio_eth:   0%|          | 0/10 [00:00<?, ?it/s]"
      ]
     },
     "metadata": {},
     "output_type": "display_data"
    },
    {
     "data": {
      "application/vnd.jupyter.widget-view+json": {
       "model_id": "",
       "version_major": 2,
       "version_minor": 0
      },
      "text/plain": [
       "ratio_eth:   0%|          | 0/10 [00:00<?, ?it/s]"
      ]
     },
     "metadata": {},
     "output_type": "display_data"
    },
    {
     "data": {
      "application/vnd.jupyter.widget-view+json": {
       "model_id": "",
       "version_major": 2,
       "version_minor": 0
      },
      "text/plain": [
       "ratio_eth:   0%|          | 0/10 [00:00<?, ?it/s]"
      ]
     },
     "metadata": {},
     "output_type": "display_data"
    },
    {
     "data": {
      "application/vnd.jupyter.widget-view+json": {
       "model_id": "",
       "version_major": 2,
       "version_minor": 0
      },
      "text/plain": [
       "ratio_eth:   0%|          | 0/10 [00:00<?, ?it/s]"
      ]
     },
     "metadata": {},
     "output_type": "display_data"
    },
    {
     "data": {
      "application/vnd.jupyter.widget-view+json": {
       "model_id": "",
       "version_major": 2,
       "version_minor": 0
      },
      "text/plain": [
       "ratio_btc:   0%|          | 0/10 [00:00<?, ?it/s]"
      ]
     },
     "metadata": {},
     "output_type": "display_data"
    },
    {
     "data": {
      "application/vnd.jupyter.widget-view+json": {
       "model_id": "",
       "version_major": 2,
       "version_minor": 0
      },
      "text/plain": [
       "ratio_eth:   0%|          | 0/10 [00:00<?, ?it/s]"
      ]
     },
     "metadata": {},
     "output_type": "display_data"
    },
    {
     "name": "stdout",
     "output_type": "stream",
     "text": [
      "[Round2]ratio_krw=0.955, ratio_btc=0.0, ratio_eth=0.0, ratio_doge=0.0, ratio_ada=0.04500000000000004, threshold=0.03\n",
      "    HPR=0.08406672479486232 MDD=3.779440696169565\n"
     ]
    },
    {
     "data": {
      "application/vnd.jupyter.widget-view+json": {
       "model_id": "",
       "version_major": 2,
       "version_minor": 0
      },
      "text/plain": [
       "ratio_eth:   0%|          | 0/10 [00:00<?, ?it/s]"
      ]
     },
     "metadata": {},
     "output_type": "display_data"
    },
    {
     "data": {
      "application/vnd.jupyter.widget-view+json": {
       "model_id": "",
       "version_major": 2,
       "version_minor": 0
      },
      "text/plain": [
       "ratio_eth:   0%|          | 0/10 [00:00<?, ?it/s]"
      ]
     },
     "metadata": {},
     "output_type": "display_data"
    },
    {
     "data": {
      "application/vnd.jupyter.widget-view+json": {
       "model_id": "",
       "version_major": 2,
       "version_minor": 0
      },
      "text/plain": [
       "ratio_eth:   0%|          | 0/10 [00:00<?, ?it/s]"
      ]
     },
     "metadata": {},
     "output_type": "display_data"
    },
    {
     "data": {
      "application/vnd.jupyter.widget-view+json": {
       "model_id": "",
       "version_major": 2,
       "version_minor": 0
      },
      "text/plain": [
       "ratio_eth:   0%|          | 0/10 [00:00<?, ?it/s]"
      ]
     },
     "metadata": {},
     "output_type": "display_data"
    },
    {
     "data": {
      "application/vnd.jupyter.widget-view+json": {
       "model_id": "",
       "version_major": 2,
       "version_minor": 0
      },
      "text/plain": [
       "ratio_eth:   0%|          | 0/10 [00:00<?, ?it/s]"
      ]
     },
     "metadata": {},
     "output_type": "display_data"
    },
    {
     "data": {
      "application/vnd.jupyter.widget-view+json": {
       "model_id": "",
       "version_major": 2,
       "version_minor": 0
      },
      "text/plain": [
       "ratio_eth:   0%|          | 0/10 [00:00<?, ?it/s]"
      ]
     },
     "metadata": {},
     "output_type": "display_data"
    },
    {
     "data": {
      "application/vnd.jupyter.widget-view+json": {
       "model_id": "",
       "version_major": 2,
       "version_minor": 0
      },
      "text/plain": [
       "ratio_eth:   0%|          | 0/10 [00:00<?, ?it/s]"
      ]
     },
     "metadata": {},
     "output_type": "display_data"
    },
    {
     "data": {
      "application/vnd.jupyter.widget-view+json": {
       "model_id": "",
       "version_major": 2,
       "version_minor": 0
      },
      "text/plain": [
       "ratio_eth:   0%|          | 0/10 [00:00<?, ?it/s]"
      ]
     },
     "metadata": {},
     "output_type": "display_data"
    },
    {
     "data": {
      "application/vnd.jupyter.widget-view+json": {
       "model_id": "",
       "version_major": 2,
       "version_minor": 0
      },
      "text/plain": [
       "ratio_eth:   0%|          | 0/10 [00:00<?, ?it/s]"
      ]
     },
     "metadata": {},
     "output_type": "display_data"
    },
    {
     "data": {
      "application/vnd.jupyter.widget-view+json": {
       "model_id": "",
       "version_major": 2,
       "version_minor": 0
      },
      "text/plain": [
       "ratio_btc:   0%|          | 0/10 [00:00<?, ?it/s]"
      ]
     },
     "metadata": {},
     "output_type": "display_data"
    },
    {
     "data": {
      "application/vnd.jupyter.widget-view+json": {
       "model_id": "",
       "version_major": 2,
       "version_minor": 0
      },
      "text/plain": [
       "ratio_eth:   0%|          | 0/10 [00:00<?, ?it/s]"
      ]
     },
     "metadata": {},
     "output_type": "display_data"
    },
    {
     "name": "stdout",
     "output_type": "stream",
     "text": [
      "[Round2]ratio_krw=0.95, ratio_btc=0.0, ratio_eth=0.0, ratio_doge=0.0, ratio_ada=0.050000000000000044, threshold=0.033\n",
      "    HPR=0.08045566171031027 MDD=4.196047640115256\n",
      "[Round2]ratio_krw=0.95, ratio_btc=0.0, ratio_eth=0.0, ratio_doge=0.05, ratio_ada=0.0, threshold=0.005\n",
      "    HPR=0.0899896311701065 MDD=4.071287723748847\n",
      "[Round2]ratio_krw=0.95, ratio_btc=0.0, ratio_eth=0.0, ratio_doge=0.05, ratio_ada=0.0, threshold=0.006\n",
      "    HPR=0.2628102001694277 MDD=4.071287723748847\n",
      "[Round2]ratio_krw=0.95, ratio_btc=0.0, ratio_eth=0.0, ratio_doge=0.05, ratio_ada=0.0, threshold=0.007\n",
      "    HPR=0.24903881953901585 MDD=4.071287723748847\n",
      "[Round2]ratio_krw=0.95, ratio_btc=0.0, ratio_eth=0.0, ratio_doge=0.05, ratio_ada=0.0, threshold=0.008\n",
      "    HPR=0.4266216671458434 MDD=3.9000701914802893\n",
      "[Round2]ratio_krw=0.95, ratio_btc=0.0, ratio_eth=0.0, ratio_doge=0.05, ratio_ada=0.0, threshold=0.01\n",
      "    HPR=0.5398714424536877 MDD=3.9147192355111895\n",
      "[Round2]ratio_krw=0.95, ratio_btc=0.0, ratio_eth=0.0, ratio_doge=0.05, ratio_ada=0.0, threshold=0.011\n",
      "    HPR=0.5948817608863344 MDD=3.904736069937776\n",
      "[Round2]ratio_krw=0.95, ratio_btc=0.0, ratio_eth=0.0, ratio_doge=0.05, ratio_ada=0.0, threshold=0.012\n",
      "    HPR=0.5741839537137139 MDD=3.871072609028827\n",
      "[Round2]ratio_krw=0.95, ratio_btc=0.0, ratio_eth=0.0, ratio_doge=0.05, ratio_ada=0.0, threshold=0.013000000000000001\n",
      "    HPR=0.24358703779361335 MDD=3.871072609028827\n",
      "[Round2]ratio_krw=0.95, ratio_btc=0.0, ratio_eth=0.0, ratio_doge=0.05, ratio_ada=0.0, threshold=0.014\n",
      "    HPR=0.6917366962820193 MDD=3.6937470562968437\n",
      "[Round2]ratio_krw=0.95, ratio_btc=0.0, ratio_eth=0.0, ratio_doge=0.05, ratio_ada=0.0, threshold=0.015\n",
      "    HPR=1.1108907908242038 MDD=3.6937470562968437\n",
      "[Round2]ratio_krw=0.95, ratio_btc=0.0, ratio_eth=0.0, ratio_doge=0.05, ratio_ada=0.0, threshold=0.016\n",
      "    HPR=1.1108907908242038 MDD=3.6937470562968437\n",
      "[Round2]ratio_krw=0.95, ratio_btc=0.0, ratio_eth=0.0, ratio_doge=0.05, ratio_ada=0.0, threshold=0.02\n",
      "    HPR=0.38292287643031386 MDD=3.596876583632364\n",
      "[Round2]ratio_krw=0.95, ratio_btc=0.0, ratio_eth=0.0, ratio_doge=0.05, ratio_ada=0.0, threshold=0.021\n",
      "    HPR=0.38292287643031386 MDD=3.596876583632364\n",
      "[Round2]ratio_krw=0.95, ratio_btc=0.0, ratio_eth=0.0, ratio_doge=0.05, ratio_ada=0.0, threshold=0.022\n",
      "    HPR=1.1973886922477917 MDD=3.4656521055623952\n",
      "[Round2]ratio_krw=0.95, ratio_btc=0.0, ratio_eth=0.0, ratio_doge=0.05, ratio_ada=0.0, threshold=0.023\n",
      "    HPR=1.1973886922477917 MDD=3.4656521055623952\n",
      "[Round2]ratio_krw=0.95, ratio_btc=0.0, ratio_eth=0.0, ratio_doge=0.05, ratio_ada=0.0, threshold=0.024\n",
      "    HPR=0.7525329140637416 MDD=3.4656521055623952\n",
      "[Round2]ratio_krw=0.95, ratio_btc=0.0, ratio_eth=0.0, ratio_doge=0.05, ratio_ada=0.0, threshold=0.025\n",
      "    HPR=0.6717087520858644 MDD=3.2483424466483966\n",
      "[Round2]ratio_krw=0.95, ratio_btc=0.0, ratio_eth=0.0, ratio_doge=0.05, ratio_ada=0.0, threshold=0.026000000000000002\n",
      "    HPR=1.9410782799136772 MDD=3.121910434685097\n",
      "[Round2]ratio_krw=0.95, ratio_btc=0.0, ratio_eth=0.0, ratio_doge=0.05, ratio_ada=0.0, threshold=0.027\n",
      "    HPR=2.0566633076642304 MDD=3.121910434685097\n",
      "[Round2]ratio_krw=0.95, ratio_btc=0.0, ratio_eth=0.0, ratio_doge=0.05, ratio_ada=0.0, threshold=0.028\n",
      "    HPR=1.421404977339602 MDD=3.121910434685097\n",
      "[Round2]ratio_krw=0.95, ratio_btc=0.0, ratio_eth=0.05, ratio_doge=0.0, ratio_ada=0.0, threshold=0.024\n",
      "    HPR=0.038290780590855 MDD=3.853231459467689\n",
      "[Round2]ratio_krw=0.95, ratio_btc=0.0, ratio_eth=0.05, ratio_doge=0.0, ratio_ada=0.0, threshold=0.025\n",
      "    HPR=0.038290780590855 MDD=3.853231459467689\n",
      "[Round2]ratio_krw=0.95, ratio_btc=0.0, ratio_eth=0.05, ratio_doge=0.0, ratio_ada=0.0, threshold=0.026000000000000002\n",
      "    HPR=0.08911205408315137 MDD=3.853231459467689\n",
      "[Round2]ratio_krw=0.95, ratio_btc=0.0, ratio_eth=0.05, ratio_doge=0.0, ratio_ada=0.0, threshold=0.027\n",
      "    HPR=0.20539130535006667 MDD=3.853231459467689\n",
      "[Round2]ratio_krw=0.95, ratio_btc=0.0, ratio_eth=0.05, ratio_doge=0.0, ratio_ada=0.0, threshold=0.028\n",
      "    HPR=0.493706666939997 MDD=3.6056265594246266\n",
      "[Round2]ratio_krw=0.95, ratio_btc=0.0, ratio_eth=0.05, ratio_doge=0.0, ratio_ada=0.0, threshold=0.029\n",
      "    HPR=0.5699316188076065 MDD=3.6056265594246266\n",
      "[Round2]ratio_krw=0.95, ratio_btc=0.0, ratio_eth=0.05, ratio_doge=0.0, ratio_ada=0.0, threshold=0.03\n",
      "    HPR=0.9032054917748056 MDD=3.408149633905086\n",
      "[Round2]ratio_krw=0.95, ratio_btc=0.0, ratio_eth=0.05, ratio_doge=0.0, ratio_ada=0.0, threshold=0.031\n",
      "    HPR=0.9032054917748056 MDD=3.408149633905086\n"
     ]
    },
    {
     "data": {
      "application/vnd.jupyter.widget-view+json": {
       "model_id": "",
       "version_major": 2,
       "version_minor": 0
      },
      "text/plain": [
       "ratio_eth:   0%|          | 0/10 [00:00<?, ?it/s]"
      ]
     },
     "metadata": {},
     "output_type": "display_data"
    },
    {
     "name": "stdout",
     "output_type": "stream",
     "text": [
      "[Round2]ratio_krw=0.95, ratio_btc=0.05, ratio_eth=0.0, ratio_doge=0.0, ratio_ada=0.0, threshold=0.013000000000000001\n",
      "    HPR=0.10202969722898914 MDD=3.4054309591221936\n",
      "[Round2]ratio_krw=0.95, ratio_btc=0.05, ratio_eth=0.0, ratio_doge=0.0, ratio_ada=0.0, threshold=0.023\n",
      "    HPR=0.16336916582555538 MDD=3.372682626972244\n",
      "[Round2]ratio_krw=0.95, ratio_btc=0.05, ratio_eth=0.0, ratio_doge=0.0, ratio_ada=0.0, threshold=0.024\n",
      "    HPR=0.5327994991320528 MDD=3.2047832745951044\n",
      "[Round2]ratio_krw=0.95, ratio_btc=0.05, ratio_eth=0.0, ratio_doge=0.0, ratio_ada=0.0, threshold=0.025\n",
      "    HPR=0.5327994991320528 MDD=3.2047832745951044\n",
      "[Round2]ratio_krw=0.95, ratio_btc=0.05, ratio_eth=0.0, ratio_doge=0.0, ratio_ada=0.0, threshold=0.026000000000000002\n",
      "    HPR=0.5327994991320528 MDD=3.2047832745951044\n",
      "[Round2]ratio_krw=0.95, ratio_btc=0.05, ratio_eth=0.0, ratio_doge=0.0, ratio_ada=0.0, threshold=0.027\n",
      "    HPR=0.8510941269883165 MDD=3.071554316742308\n",
      "[Round2]ratio_krw=0.95, ratio_btc=0.05, ratio_eth=0.0, ratio_doge=0.0, ratio_ada=0.0, threshold=0.028\n",
      "    HPR=1.0179429348360358 MDD=2.996072631070401\n"
     ]
    },
    {
     "data": {
      "application/vnd.jupyter.widget-view+json": {
       "model_id": "",
       "version_major": 2,
       "version_minor": 0
      },
      "text/plain": [
       "ratio_eth:   0%|          | 0/10 [00:00<?, ?it/s]"
      ]
     },
     "metadata": {},
     "output_type": "display_data"
    },
    {
     "data": {
      "application/vnd.jupyter.widget-view+json": {
       "model_id": "",
       "version_major": 2,
       "version_minor": 0
      },
      "text/plain": [
       "ratio_eth:   0%|          | 0/10 [00:00<?, ?it/s]"
      ]
     },
     "metadata": {},
     "output_type": "display_data"
    },
    {
     "data": {
      "application/vnd.jupyter.widget-view+json": {
       "model_id": "",
       "version_major": 2,
       "version_minor": 0
      },
      "text/plain": [
       "ratio_eth:   0%|          | 0/10 [00:00<?, ?it/s]"
      ]
     },
     "metadata": {},
     "output_type": "display_data"
    },
    {
     "data": {
      "application/vnd.jupyter.widget-view+json": {
       "model_id": "",
       "version_major": 2,
       "version_minor": 0
      },
      "text/plain": [
       "ratio_eth:   0%|          | 0/10 [00:00<?, ?it/s]"
      ]
     },
     "metadata": {},
     "output_type": "display_data"
    },
    {
     "data": {
      "application/vnd.jupyter.widget-view+json": {
       "model_id": "",
       "version_major": 2,
       "version_minor": 0
      },
      "text/plain": [
       "ratio_eth:   0%|          | 0/10 [00:00<?, ?it/s]"
      ]
     },
     "metadata": {},
     "output_type": "display_data"
    },
    {
     "data": {
      "application/vnd.jupyter.widget-view+json": {
       "model_id": "",
       "version_major": 2,
       "version_minor": 0
      },
      "text/plain": [
       "ratio_eth:   0%|          | 0/10 [00:00<?, ?it/s]"
      ]
     },
     "metadata": {},
     "output_type": "display_data"
    },
    {
     "data": {
      "application/vnd.jupyter.widget-view+json": {
       "model_id": "",
       "version_major": 2,
       "version_minor": 0
      },
      "text/plain": [
       "ratio_eth:   0%|          | 0/10 [00:00<?, ?it/s]"
      ]
     },
     "metadata": {},
     "output_type": "display_data"
    },
    {
     "data": {
      "application/vnd.jupyter.widget-view+json": {
       "model_id": "",
       "version_major": 2,
       "version_minor": 0
      },
      "text/plain": [
       "ratio_eth:   0%|          | 0/10 [00:00<?, ?it/s]"
      ]
     },
     "metadata": {},
     "output_type": "display_data"
    },
    {
     "data": {
      "application/vnd.jupyter.widget-view+json": {
       "model_id": "",
       "version_major": 2,
       "version_minor": 0
      },
      "text/plain": [
       "ratio_btc:   0%|          | 0/10 [00:00<?, ?it/s]"
      ]
     },
     "metadata": {},
     "output_type": "display_data"
    },
    {
     "data": {
      "application/vnd.jupyter.widget-view+json": {
       "model_id": "",
       "version_major": 2,
       "version_minor": 0
      },
      "text/plain": [
       "ratio_eth:   0%|          | 0/10 [00:00<?, ?it/s]"
      ]
     },
     "metadata": {},
     "output_type": "display_data"
    },
    {
     "name": "stdout",
     "output_type": "stream",
     "text": [
      "[Round2]ratio_krw=0.945, ratio_btc=0.0, ratio_eth=0.0, ratio_doge=0.0, ratio_ada=0.05500000000000005, threshold=0.037\n",
      "    HPR=0.21897310619962695 MDD=4.545490664782732\n",
      "[Round2]ratio_krw=0.945, ratio_btc=0.0, ratio_eth=0.0, ratio_doge=0.05, ratio_ada=0.0050000000000000044, threshold=0.006\n",
      "    HPR=0.2628102001694277 MDD=4.071287723748847\n",
      "[Round2]ratio_krw=0.945, ratio_btc=0.0, ratio_eth=0.0, ratio_doge=0.05, ratio_ada=0.0050000000000000044, threshold=0.007\n",
      "    HPR=0.24903881953901585 MDD=4.071287723748847\n",
      "[Round2]ratio_krw=0.945, ratio_btc=0.0, ratio_eth=0.0, ratio_doge=0.05, ratio_ada=0.0050000000000000044, threshold=0.008\n",
      "    HPR=0.4266216671458434 MDD=3.9000701914802893\n",
      "[Round2]ratio_krw=0.945, ratio_btc=0.0, ratio_eth=0.0, ratio_doge=0.05, ratio_ada=0.0050000000000000044, threshold=0.01\n",
      "    HPR=0.5398714424536877 MDD=3.9147192355111895\n",
      "[Round2]ratio_krw=0.945, ratio_btc=0.0, ratio_eth=0.0, ratio_doge=0.05, ratio_ada=0.0050000000000000044, threshold=0.011\n",
      "    HPR=0.5948817608863344 MDD=3.904736069937776\n",
      "[Round2]ratio_krw=0.945, ratio_btc=0.0, ratio_eth=0.0, ratio_doge=0.05, ratio_ada=0.0050000000000000044, threshold=0.012\n",
      "    HPR=0.5741839537137139 MDD=3.871072609028827\n",
      "[Round2]ratio_krw=0.945, ratio_btc=0.0, ratio_eth=0.0, ratio_doge=0.05, ratio_ada=0.0050000000000000044, threshold=0.013000000000000001\n",
      "    HPR=0.24358703779361335 MDD=3.871072609028827\n",
      "[Round2]ratio_krw=0.945, ratio_btc=0.0, ratio_eth=0.0, ratio_doge=0.05, ratio_ada=0.0050000000000000044, threshold=0.014\n",
      "    HPR=0.6917366962820193 MDD=3.6937470562968437\n",
      "[Round2]ratio_krw=0.945, ratio_btc=0.0, ratio_eth=0.0, ratio_doge=0.05, ratio_ada=0.0050000000000000044, threshold=0.015\n",
      "    HPR=1.1108907908242038 MDD=3.6937470562968437\n",
      "[Round2]ratio_krw=0.945, ratio_btc=0.0, ratio_eth=0.0, ratio_doge=0.05, ratio_ada=0.0050000000000000044, threshold=0.016\n",
      "    HPR=1.1108907908242038 MDD=3.6937470562968437\n",
      "[Round2]ratio_krw=0.945, ratio_btc=0.0, ratio_eth=0.0, ratio_doge=0.05, ratio_ada=0.0050000000000000044, threshold=0.02\n",
      "    HPR=0.38292287643031386 MDD=3.596876583632364\n",
      "[Round2]ratio_krw=0.945, ratio_btc=0.0, ratio_eth=0.0, ratio_doge=0.05, ratio_ada=0.0050000000000000044, threshold=0.021\n",
      "    HPR=0.38292287643031386 MDD=3.596876583632364\n",
      "[Round2]ratio_krw=0.945, ratio_btc=0.0, ratio_eth=0.0, ratio_doge=0.05, ratio_ada=0.0050000000000000044, threshold=0.022\n",
      "    HPR=1.1973886922477917 MDD=3.4656521055623952\n",
      "[Round2]ratio_krw=0.945, ratio_btc=0.0, ratio_eth=0.0, ratio_doge=0.05, ratio_ada=0.0050000000000000044, threshold=0.023\n",
      "    HPR=1.1973886922477917 MDD=3.4656521055623952\n",
      "[Round2]ratio_krw=0.945, ratio_btc=0.0, ratio_eth=0.0, ratio_doge=0.05, ratio_ada=0.0050000000000000044, threshold=0.024\n",
      "    HPR=0.7525329140637416 MDD=3.4656521055623952\n",
      "[Round2]ratio_krw=0.945, ratio_btc=0.0, ratio_eth=0.0, ratio_doge=0.05, ratio_ada=0.0050000000000000044, threshold=0.025\n",
      "    HPR=0.6717087520858644 MDD=3.2483424466483966\n",
      "[Round2]ratio_krw=0.945, ratio_btc=0.0, ratio_eth=0.0, ratio_doge=0.05, ratio_ada=0.0050000000000000044, threshold=0.026000000000000002\n",
      "    HPR=1.9410782799136772 MDD=3.121910434685097\n",
      "[Round2]ratio_krw=0.945, ratio_btc=0.0, ratio_eth=0.0, ratio_doge=0.05, ratio_ada=0.0050000000000000044, threshold=0.027\n",
      "    HPR=2.0566633076642304 MDD=3.121910434685097\n",
      "[Round2]ratio_krw=0.945, ratio_btc=0.0, ratio_eth=0.0, ratio_doge=0.05, ratio_ada=0.0050000000000000044, threshold=0.028\n",
      "    HPR=1.421404977339602 MDD=3.121910434685097\n",
      "[Round2]ratio_krw=0.945, ratio_btc=0.0, ratio_eth=0.05, ratio_doge=0.0, ratio_ada=0.0050000000000000044, threshold=0.024\n",
      "    HPR=0.038290780590855 MDD=3.853231459467689\n",
      "[Round2]ratio_krw=0.945, ratio_btc=0.0, ratio_eth=0.05, ratio_doge=0.0, ratio_ada=0.0050000000000000044, threshold=0.025\n",
      "    HPR=0.038290780590855 MDD=3.853231459467689\n",
      "[Round2]ratio_krw=0.945, ratio_btc=0.0, ratio_eth=0.05, ratio_doge=0.0, ratio_ada=0.0050000000000000044, threshold=0.026000000000000002\n",
      "    HPR=0.08911205408315137 MDD=3.853231459467689\n",
      "[Round2]ratio_krw=0.945, ratio_btc=0.0, ratio_eth=0.05, ratio_doge=0.0, ratio_ada=0.0050000000000000044, threshold=0.027\n",
      "    HPR=0.20539130535006667 MDD=3.853231459467689\n",
      "[Round2]ratio_krw=0.945, ratio_btc=0.0, ratio_eth=0.05, ratio_doge=0.0, ratio_ada=0.0050000000000000044, threshold=0.028\n",
      "    HPR=0.493706666939997 MDD=3.6056265594246266\n",
      "[Round2]ratio_krw=0.945, ratio_btc=0.0, ratio_eth=0.05, ratio_doge=0.0, ratio_ada=0.0050000000000000044, threshold=0.029\n",
      "    HPR=0.5699316188076065 MDD=3.6056265594246266\n",
      "[Round2]ratio_krw=0.945, ratio_btc=0.0, ratio_eth=0.05, ratio_doge=0.0, ratio_ada=0.0050000000000000044, threshold=0.03\n",
      "    HPR=0.9032054917748056 MDD=3.408149633905086\n",
      "[Round2]ratio_krw=0.945, ratio_btc=0.0, ratio_eth=0.05, ratio_doge=0.0, ratio_ada=0.0050000000000000044, threshold=0.031\n",
      "    HPR=0.9032054917748056 MDD=3.408149633905086\n"
     ]
    },
    {
     "data": {
      "application/vnd.jupyter.widget-view+json": {
       "model_id": "",
       "version_major": 2,
       "version_minor": 0
      },
      "text/plain": [
       "ratio_eth:   0%|          | 0/10 [00:00<?, ?it/s]"
      ]
     },
     "metadata": {},
     "output_type": "display_data"
    },
    {
     "name": "stdout",
     "output_type": "stream",
     "text": [
      "[Round2]ratio_krw=0.945, ratio_btc=0.05, ratio_eth=0.0, ratio_doge=0.0, ratio_ada=0.0050000000000000044, threshold=0.013000000000000001\n",
      "    HPR=0.10202969722898914 MDD=3.4054309591221936\n",
      "[Round2]ratio_krw=0.945, ratio_btc=0.05, ratio_eth=0.0, ratio_doge=0.0, ratio_ada=0.0050000000000000044, threshold=0.023\n",
      "    HPR=0.16336916582555538 MDD=3.372682626972244\n",
      "[Round2]ratio_krw=0.945, ratio_btc=0.05, ratio_eth=0.0, ratio_doge=0.0, ratio_ada=0.0050000000000000044, threshold=0.024\n",
      "    HPR=0.5327994991320528 MDD=3.2047832745951044\n",
      "[Round2]ratio_krw=0.945, ratio_btc=0.05, ratio_eth=0.0, ratio_doge=0.0, ratio_ada=0.0050000000000000044, threshold=0.025\n",
      "    HPR=0.5327994991320528 MDD=3.2047832745951044\n",
      "[Round2]ratio_krw=0.945, ratio_btc=0.05, ratio_eth=0.0, ratio_doge=0.0, ratio_ada=0.0050000000000000044, threshold=0.026000000000000002\n",
      "    HPR=0.5327994991320528 MDD=3.2047832745951044\n",
      "[Round2]ratio_krw=0.945, ratio_btc=0.05, ratio_eth=0.0, ratio_doge=0.0, ratio_ada=0.0050000000000000044, threshold=0.027\n",
      "    HPR=0.8510941269883165 MDD=3.071554316742308\n",
      "[Round2]ratio_krw=0.945, ratio_btc=0.05, ratio_eth=0.0, ratio_doge=0.0, ratio_ada=0.0050000000000000044, threshold=0.028\n",
      "    HPR=1.0179429348360358 MDD=2.996072631070401\n"
     ]
    },
    {
     "data": {
      "application/vnd.jupyter.widget-view+json": {
       "model_id": "",
       "version_major": 2,
       "version_minor": 0
      },
      "text/plain": [
       "ratio_eth:   0%|          | 0/10 [00:00<?, ?it/s]"
      ]
     },
     "metadata": {},
     "output_type": "display_data"
    },
    {
     "data": {
      "application/vnd.jupyter.widget-view+json": {
       "model_id": "",
       "version_major": 2,
       "version_minor": 0
      },
      "text/plain": [
       "ratio_eth:   0%|          | 0/10 [00:00<?, ?it/s]"
      ]
     },
     "metadata": {},
     "output_type": "display_data"
    },
    {
     "data": {
      "application/vnd.jupyter.widget-view+json": {
       "model_id": "",
       "version_major": 2,
       "version_minor": 0
      },
      "text/plain": [
       "ratio_eth:   0%|          | 0/10 [00:00<?, ?it/s]"
      ]
     },
     "metadata": {},
     "output_type": "display_data"
    },
    {
     "data": {
      "application/vnd.jupyter.widget-view+json": {
       "model_id": "",
       "version_major": 2,
       "version_minor": 0
      },
      "text/plain": [
       "ratio_eth:   0%|          | 0/10 [00:00<?, ?it/s]"
      ]
     },
     "metadata": {},
     "output_type": "display_data"
    },
    {
     "data": {
      "application/vnd.jupyter.widget-view+json": {
       "model_id": "",
       "version_major": 2,
       "version_minor": 0
      },
      "text/plain": [
       "ratio_eth:   0%|          | 0/10 [00:00<?, ?it/s]"
      ]
     },
     "metadata": {},
     "output_type": "display_data"
    },
    {
     "data": {
      "application/vnd.jupyter.widget-view+json": {
       "model_id": "",
       "version_major": 2,
       "version_minor": 0
      },
      "text/plain": [
       "ratio_eth:   0%|          | 0/10 [00:00<?, ?it/s]"
      ]
     },
     "metadata": {},
     "output_type": "display_data"
    },
    {
     "data": {
      "application/vnd.jupyter.widget-view+json": {
       "model_id": "",
       "version_major": 2,
       "version_minor": 0
      },
      "text/plain": [
       "ratio_eth:   0%|          | 0/10 [00:00<?, ?it/s]"
      ]
     },
     "metadata": {},
     "output_type": "display_data"
    },
    {
     "data": {
      "application/vnd.jupyter.widget-view+json": {
       "model_id": "",
       "version_major": 2,
       "version_minor": 0
      },
      "text/plain": [
       "ratio_eth:   0%|          | 0/10 [00:00<?, ?it/s]"
      ]
     },
     "metadata": {},
     "output_type": "display_data"
    },
    {
     "data": {
      "application/vnd.jupyter.widget-view+json": {
       "model_id": "",
       "version_major": 2,
       "version_minor": 0
      },
      "text/plain": [
       "ratio_btc:   0%|          | 0/10 [00:00<?, ?it/s]"
      ]
     },
     "metadata": {},
     "output_type": "display_data"
    },
    {
     "data": {
      "application/vnd.jupyter.widget-view+json": {
       "model_id": "",
       "version_major": 2,
       "version_minor": 0
      },
      "text/plain": [
       "ratio_eth:   0%|          | 0/10 [00:00<?, ?it/s]"
      ]
     },
     "metadata": {},
     "output_type": "display_data"
    },
    {
     "name": "stdout",
     "output_type": "stream",
     "text": [
      "[Round2]ratio_krw=0.94, ratio_btc=0.0, ratio_eth=0.0, ratio_doge=0.0, ratio_ada=0.06000000000000005, threshold=0.04\n",
      "    HPR=0.065477868132513 MDD=5.02728005112276\n",
      "[Round2]ratio_krw=0.94, ratio_btc=0.0, ratio_eth=0.0, ratio_doge=0.05, ratio_ada=0.010000000000000009, threshold=0.006\n",
      "    HPR=0.18340217349401833 MDD=4.591438593385801\n",
      "[Round2]ratio_krw=0.94, ratio_btc=0.0, ratio_eth=0.0, ratio_doge=0.05, ratio_ada=0.010000000000000009, threshold=0.01\n",
      "    HPR=0.062169801384137635 MDD=4.4399113442593325\n",
      "[Round2]ratio_krw=0.94, ratio_btc=0.0, ratio_eth=0.0, ratio_doge=0.05, ratio_ada=0.010000000000000009, threshold=0.011\n",
      "    HPR=0.5948817608863344 MDD=3.904736069937776\n",
      "[Round2]ratio_krw=0.94, ratio_btc=0.0, ratio_eth=0.0, ratio_doge=0.05, ratio_ada=0.010000000000000009, threshold=0.012\n",
      "    HPR=0.5741839537137139 MDD=3.871072609028827\n",
      "[Round2]ratio_krw=0.94, ratio_btc=0.0, ratio_eth=0.0, ratio_doge=0.05, ratio_ada=0.010000000000000009, threshold=0.013000000000000001\n",
      "    HPR=0.24358703779361335 MDD=3.871072609028827\n",
      "[Round2]ratio_krw=0.94, ratio_btc=0.0, ratio_eth=0.0, ratio_doge=0.05, ratio_ada=0.010000000000000009, threshold=0.014\n",
      "    HPR=0.6917366962820193 MDD=3.6937470562968437\n",
      "[Round2]ratio_krw=0.94, ratio_btc=0.0, ratio_eth=0.0, ratio_doge=0.05, ratio_ada=0.010000000000000009, threshold=0.015\n",
      "    HPR=1.1108907908242038 MDD=3.6937470562968437\n",
      "[Round2]ratio_krw=0.94, ratio_btc=0.0, ratio_eth=0.0, ratio_doge=0.05, ratio_ada=0.010000000000000009, threshold=0.016\n",
      "    HPR=1.1108907908242038 MDD=3.6937470562968437\n",
      "[Round2]ratio_krw=0.94, ratio_btc=0.0, ratio_eth=0.0, ratio_doge=0.05, ratio_ada=0.010000000000000009, threshold=0.02\n",
      "    HPR=0.38292287643031386 MDD=3.596876583632364\n",
      "[Round2]ratio_krw=0.94, ratio_btc=0.0, ratio_eth=0.0, ratio_doge=0.05, ratio_ada=0.010000000000000009, threshold=0.021\n",
      "    HPR=0.38292287643031386 MDD=3.596876583632364\n",
      "[Round2]ratio_krw=0.94, ratio_btc=0.0, ratio_eth=0.0, ratio_doge=0.05, ratio_ada=0.010000000000000009, threshold=0.022\n",
      "    HPR=1.1973886922477917 MDD=3.4656521055623952\n",
      "[Round2]ratio_krw=0.94, ratio_btc=0.0, ratio_eth=0.0, ratio_doge=0.05, ratio_ada=0.010000000000000009, threshold=0.023\n",
      "    HPR=1.1973886922477917 MDD=3.4656521055623952\n",
      "[Round2]ratio_krw=0.94, ratio_btc=0.0, ratio_eth=0.0, ratio_doge=0.05, ratio_ada=0.010000000000000009, threshold=0.024\n",
      "    HPR=0.7525329140637416 MDD=3.4656521055623952\n",
      "[Round2]ratio_krw=0.94, ratio_btc=0.0, ratio_eth=0.0, ratio_doge=0.05, ratio_ada=0.010000000000000009, threshold=0.025\n",
      "    HPR=0.6717087520858644 MDD=3.2483424466483966\n",
      "[Round2]ratio_krw=0.94, ratio_btc=0.0, ratio_eth=0.0, ratio_doge=0.05, ratio_ada=0.010000000000000009, threshold=0.026000000000000002\n",
      "    HPR=1.9410782799136772 MDD=3.121910434685097\n",
      "[Round2]ratio_krw=0.94, ratio_btc=0.0, ratio_eth=0.0, ratio_doge=0.05, ratio_ada=0.010000000000000009, threshold=0.027\n",
      "    HPR=2.0566633076642304 MDD=3.121910434685097\n",
      "[Round2]ratio_krw=0.94, ratio_btc=0.0, ratio_eth=0.0, ratio_doge=0.05, ratio_ada=0.010000000000000009, threshold=0.028\n",
      "    HPR=1.421404977339602 MDD=3.121910434685097\n",
      "[Round2]ratio_krw=0.94, ratio_btc=0.0, ratio_eth=0.05, ratio_doge=0.0, ratio_ada=0.010000000000000009, threshold=0.024\n",
      "    HPR=0.038290780590855 MDD=3.853231459467689\n",
      "[Round2]ratio_krw=0.94, ratio_btc=0.0, ratio_eth=0.05, ratio_doge=0.0, ratio_ada=0.010000000000000009, threshold=0.025\n",
      "    HPR=0.038290780590855 MDD=3.853231459467689\n",
      "[Round2]ratio_krw=0.94, ratio_btc=0.0, ratio_eth=0.05, ratio_doge=0.0, ratio_ada=0.010000000000000009, threshold=0.026000000000000002\n",
      "    HPR=0.08911205408315137 MDD=3.853231459467689\n",
      "[Round2]ratio_krw=0.94, ratio_btc=0.0, ratio_eth=0.05, ratio_doge=0.0, ratio_ada=0.010000000000000009, threshold=0.027\n",
      "    HPR=0.20539130535006667 MDD=3.853231459467689\n",
      "[Round2]ratio_krw=0.94, ratio_btc=0.0, ratio_eth=0.05, ratio_doge=0.0, ratio_ada=0.010000000000000009, threshold=0.028\n",
      "    HPR=0.493706666939997 MDD=3.6056265594246266\n",
      "[Round2]ratio_krw=0.94, ratio_btc=0.0, ratio_eth=0.05, ratio_doge=0.0, ratio_ada=0.010000000000000009, threshold=0.029\n",
      "    HPR=0.5699316188076065 MDD=3.6056265594246266\n",
      "[Round2]ratio_krw=0.94, ratio_btc=0.0, ratio_eth=0.05, ratio_doge=0.0, ratio_ada=0.010000000000000009, threshold=0.03\n",
      "    HPR=0.9032054917748056 MDD=3.408149633905086\n",
      "[Round2]ratio_krw=0.94, ratio_btc=0.0, ratio_eth=0.05, ratio_doge=0.0, ratio_ada=0.010000000000000009, threshold=0.031\n",
      "    HPR=0.9032054917748056 MDD=3.408149633905086\n"
     ]
    },
    {
     "data": {
      "application/vnd.jupyter.widget-view+json": {
       "model_id": "",
       "version_major": 2,
       "version_minor": 0
      },
      "text/plain": [
       "ratio_eth:   0%|          | 0/10 [00:00<?, ?it/s]"
      ]
     },
     "metadata": {},
     "output_type": "display_data"
    },
    {
     "name": "stdout",
     "output_type": "stream",
     "text": [
      "[Round2]ratio_krw=0.94, ratio_btc=0.05, ratio_eth=0.0, ratio_doge=0.0, ratio_ada=0.010000000000000009, threshold=0.013000000000000001\n",
      "    HPR=0.10202969722898914 MDD=3.4054309591221936\n",
      "[Round2]ratio_krw=0.94, ratio_btc=0.05, ratio_eth=0.0, ratio_doge=0.0, ratio_ada=0.010000000000000009, threshold=0.023\n",
      "    HPR=0.16336916582555538 MDD=3.372682626972244\n",
      "[Round2]ratio_krw=0.94, ratio_btc=0.05, ratio_eth=0.0, ratio_doge=0.0, ratio_ada=0.010000000000000009, threshold=0.024\n",
      "    HPR=0.5327994991320528 MDD=3.2047832745951044\n",
      "[Round2]ratio_krw=0.94, ratio_btc=0.05, ratio_eth=0.0, ratio_doge=0.0, ratio_ada=0.010000000000000009, threshold=0.025\n",
      "    HPR=0.5327994991320528 MDD=3.2047832745951044\n",
      "[Round2]ratio_krw=0.94, ratio_btc=0.05, ratio_eth=0.0, ratio_doge=0.0, ratio_ada=0.010000000000000009, threshold=0.026000000000000002\n",
      "    HPR=0.5327994991320528 MDD=3.2047832745951044\n",
      "[Round2]ratio_krw=0.94, ratio_btc=0.05, ratio_eth=0.0, ratio_doge=0.0, ratio_ada=0.010000000000000009, threshold=0.027\n",
      "    HPR=0.8510941269883165 MDD=3.071554316742308\n",
      "[Round2]ratio_krw=0.94, ratio_btc=0.05, ratio_eth=0.0, ratio_doge=0.0, ratio_ada=0.010000000000000009, threshold=0.028\n",
      "    HPR=1.0179429348360358 MDD=2.996072631070401\n"
     ]
    },
    {
     "data": {
      "application/vnd.jupyter.widget-view+json": {
       "model_id": "",
       "version_major": 2,
       "version_minor": 0
      },
      "text/plain": [
       "ratio_eth:   0%|          | 0/10 [00:00<?, ?it/s]"
      ]
     },
     "metadata": {},
     "output_type": "display_data"
    },
    {
     "data": {
      "application/vnd.jupyter.widget-view+json": {
       "model_id": "",
       "version_major": 2,
       "version_minor": 0
      },
      "text/plain": [
       "ratio_eth:   0%|          | 0/10 [00:00<?, ?it/s]"
      ]
     },
     "metadata": {},
     "output_type": "display_data"
    },
    {
     "data": {
      "application/vnd.jupyter.widget-view+json": {
       "model_id": "",
       "version_major": 2,
       "version_minor": 0
      },
      "text/plain": [
       "ratio_eth:   0%|          | 0/10 [00:00<?, ?it/s]"
      ]
     },
     "metadata": {},
     "output_type": "display_data"
    },
    {
     "data": {
      "application/vnd.jupyter.widget-view+json": {
       "model_id": "",
       "version_major": 2,
       "version_minor": 0
      },
      "text/plain": [
       "ratio_eth:   0%|          | 0/10 [00:00<?, ?it/s]"
      ]
     },
     "metadata": {},
     "output_type": "display_data"
    },
    {
     "data": {
      "application/vnd.jupyter.widget-view+json": {
       "model_id": "",
       "version_major": 2,
       "version_minor": 0
      },
      "text/plain": [
       "ratio_eth:   0%|          | 0/10 [00:00<?, ?it/s]"
      ]
     },
     "metadata": {},
     "output_type": "display_data"
    },
    {
     "data": {
      "application/vnd.jupyter.widget-view+json": {
       "model_id": "",
       "version_major": 2,
       "version_minor": 0
      },
      "text/plain": [
       "ratio_eth:   0%|          | 0/10 [00:00<?, ?it/s]"
      ]
     },
     "metadata": {},
     "output_type": "display_data"
    },
    {
     "data": {
      "application/vnd.jupyter.widget-view+json": {
       "model_id": "",
       "version_major": 2,
       "version_minor": 0
      },
      "text/plain": [
       "ratio_eth:   0%|          | 0/10 [00:00<?, ?it/s]"
      ]
     },
     "metadata": {},
     "output_type": "display_data"
    },
    {
     "data": {
      "application/vnd.jupyter.widget-view+json": {
       "model_id": "",
       "version_major": 2,
       "version_minor": 0
      },
      "text/plain": [
       "ratio_eth:   0%|          | 0/10 [00:00<?, ?it/s]"
      ]
     },
     "metadata": {},
     "output_type": "display_data"
    },
    {
     "data": {
      "application/vnd.jupyter.widget-view+json": {
       "model_id": "",
       "version_major": 2,
       "version_minor": 0
      },
      "text/plain": [
       "ratio_btc:   0%|          | 0/10 [00:00<?, ?it/s]"
      ]
     },
     "metadata": {},
     "output_type": "display_data"
    },
    {
     "data": {
      "application/vnd.jupyter.widget-view+json": {
       "model_id": "",
       "version_major": 2,
       "version_minor": 0
      },
      "text/plain": [
       "ratio_eth:   0%|          | 0/10 [00:00<?, ?it/s]"
      ]
     },
     "metadata": {},
     "output_type": "display_data"
    },
    {
     "name": "stdout",
     "output_type": "stream",
     "text": [
      "[Round2]ratio_krw=0.9349999999999999, ratio_btc=0.0, ratio_eth=0.0, ratio_doge=0.0, ratio_ada=0.06500000000000006, threshold=0.043000000000000003\n",
      "    HPR=0.0541137074327569 MDD=5.441908336850484\n",
      "[Round2]ratio_krw=0.9349999999999999, ratio_btc=0.0, ratio_eth=0.0, ratio_doge=0.05, ratio_ada=0.015000000000000013, threshold=0.01\n",
      "    HPR=0.5467867641849589 MDD=4.701944224306434\n",
      "[Round2]ratio_krw=0.9349999999999999, ratio_btc=0.0, ratio_eth=0.0, ratio_doge=0.05, ratio_ada=0.015000000000000013, threshold=0.015\n",
      "    HPR=0.40106093336713666 MDD=4.481140615203944\n",
      "[Round2]ratio_krw=0.9349999999999999, ratio_btc=0.0, ratio_eth=0.0, ratio_doge=0.05, ratio_ada=0.015000000000000013, threshold=0.016\n",
      "    HPR=1.1108907908242038 MDD=3.6937470562968437\n",
      "[Round2]ratio_krw=0.9349999999999999, ratio_btc=0.0, ratio_eth=0.0, ratio_doge=0.05, ratio_ada=0.015000000000000013, threshold=0.02\n",
      "    HPR=0.38292287643031386 MDD=3.596876583632364\n",
      "[Round2]ratio_krw=0.9349999999999999, ratio_btc=0.0, ratio_eth=0.0, ratio_doge=0.05, ratio_ada=0.015000000000000013, threshold=0.021\n",
      "    HPR=0.38292287643031386 MDD=3.596876583632364\n",
      "[Round2]ratio_krw=0.9349999999999999, ratio_btc=0.0, ratio_eth=0.0, ratio_doge=0.05, ratio_ada=0.015000000000000013, threshold=0.022\n",
      "    HPR=1.1973886922477917 MDD=3.4656521055623952\n",
      "[Round2]ratio_krw=0.9349999999999999, ratio_btc=0.0, ratio_eth=0.0, ratio_doge=0.05, ratio_ada=0.015000000000000013, threshold=0.023\n",
      "    HPR=1.1973886922477917 MDD=3.4656521055623952\n",
      "[Round2]ratio_krw=0.9349999999999999, ratio_btc=0.0, ratio_eth=0.0, ratio_doge=0.05, ratio_ada=0.015000000000000013, threshold=0.024\n",
      "    HPR=0.7525329140637416 MDD=3.4656521055623952\n",
      "[Round2]ratio_krw=0.9349999999999999, ratio_btc=0.0, ratio_eth=0.0, ratio_doge=0.05, ratio_ada=0.015000000000000013, threshold=0.025\n",
      "    HPR=0.6717087520858644 MDD=3.2483424466483966\n",
      "[Round2]ratio_krw=0.9349999999999999, ratio_btc=0.0, ratio_eth=0.0, ratio_doge=0.05, ratio_ada=0.015000000000000013, threshold=0.026000000000000002\n",
      "    HPR=1.9410782799136772 MDD=3.121910434685097\n",
      "[Round2]ratio_krw=0.9349999999999999, ratio_btc=0.0, ratio_eth=0.0, ratio_doge=0.05, ratio_ada=0.015000000000000013, threshold=0.027\n",
      "    HPR=2.0566633076642304 MDD=3.121910434685097\n",
      "[Round2]ratio_krw=0.9349999999999999, ratio_btc=0.0, ratio_eth=0.0, ratio_doge=0.05, ratio_ada=0.015000000000000013, threshold=0.028\n",
      "    HPR=1.421404977339602 MDD=3.121910434685097\n",
      "[Round2]ratio_krw=0.9349999999999999, ratio_btc=0.0, ratio_eth=0.05, ratio_doge=0.0, ratio_ada=0.015000000000000013, threshold=0.024\n",
      "    HPR=0.038290780590855 MDD=3.853231459467689\n",
      "[Round2]ratio_krw=0.9349999999999999, ratio_btc=0.0, ratio_eth=0.05, ratio_doge=0.0, ratio_ada=0.015000000000000013, threshold=0.025\n",
      "    HPR=0.038290780590855 MDD=3.853231459467689\n",
      "[Round2]ratio_krw=0.9349999999999999, ratio_btc=0.0, ratio_eth=0.05, ratio_doge=0.0, ratio_ada=0.015000000000000013, threshold=0.026000000000000002\n",
      "    HPR=0.08911205408315137 MDD=3.853231459467689\n",
      "[Round2]ratio_krw=0.9349999999999999, ratio_btc=0.0, ratio_eth=0.05, ratio_doge=0.0, ratio_ada=0.015000000000000013, threshold=0.027\n",
      "    HPR=0.20539130535006667 MDD=3.853231459467689\n",
      "[Round2]ratio_krw=0.9349999999999999, ratio_btc=0.0, ratio_eth=0.05, ratio_doge=0.0, ratio_ada=0.015000000000000013, threshold=0.028\n",
      "    HPR=0.493706666939997 MDD=3.6056265594246266\n",
      "[Round2]ratio_krw=0.9349999999999999, ratio_btc=0.0, ratio_eth=0.05, ratio_doge=0.0, ratio_ada=0.015000000000000013, threshold=0.029\n",
      "    HPR=0.5699316188076065 MDD=3.6056265594246266\n",
      "[Round2]ratio_krw=0.9349999999999999, ratio_btc=0.0, ratio_eth=0.05, ratio_doge=0.0, ratio_ada=0.015000000000000013, threshold=0.03\n",
      "    HPR=0.9032054917748056 MDD=3.408149633905086\n",
      "[Round2]ratio_krw=0.9349999999999999, ratio_btc=0.0, ratio_eth=0.05, ratio_doge=0.0, ratio_ada=0.015000000000000013, threshold=0.031\n",
      "    HPR=0.9032054917748056 MDD=3.408149633905086\n"
     ]
    },
    {
     "data": {
      "application/vnd.jupyter.widget-view+json": {
       "model_id": "",
       "version_major": 2,
       "version_minor": 0
      },
      "text/plain": [
       "ratio_eth:   0%|          | 0/10 [00:00<?, ?it/s]"
      ]
     },
     "metadata": {},
     "output_type": "display_data"
    },
    {
     "name": "stdout",
     "output_type": "stream",
     "text": [
      "[Round2]ratio_krw=0.9349999999999999, ratio_btc=0.05, ratio_eth=0.0, ratio_doge=0.0, ratio_ada=0.015000000000000013, threshold=0.023\n",
      "    HPR=0.16336916582555538 MDD=3.372682626972244\n",
      "[Round2]ratio_krw=0.9349999999999999, ratio_btc=0.05, ratio_eth=0.0, ratio_doge=0.0, ratio_ada=0.015000000000000013, threshold=0.024\n",
      "    HPR=0.5327994991320528 MDD=3.2047832745951044\n",
      "[Round2]ratio_krw=0.9349999999999999, ratio_btc=0.05, ratio_eth=0.0, ratio_doge=0.0, ratio_ada=0.015000000000000013, threshold=0.025\n",
      "    HPR=0.5327994991320528 MDD=3.2047832745951044\n",
      "[Round2]ratio_krw=0.9349999999999999, ratio_btc=0.05, ratio_eth=0.0, ratio_doge=0.0, ratio_ada=0.015000000000000013, threshold=0.026000000000000002\n",
      "    HPR=0.5327994991320528 MDD=3.2047832745951044\n",
      "[Round2]ratio_krw=0.9349999999999999, ratio_btc=0.05, ratio_eth=0.0, ratio_doge=0.0, ratio_ada=0.015000000000000013, threshold=0.027\n",
      "    HPR=0.8510941269883165 MDD=3.071554316742308\n",
      "[Round2]ratio_krw=0.9349999999999999, ratio_btc=0.05, ratio_eth=0.0, ratio_doge=0.0, ratio_ada=0.015000000000000013, threshold=0.028\n",
      "    HPR=1.0179429348360358 MDD=2.996072631070401\n"
     ]
    },
    {
     "data": {
      "application/vnd.jupyter.widget-view+json": {
       "model_id": "",
       "version_major": 2,
       "version_minor": 0
      },
      "text/plain": [
       "ratio_eth:   0%|          | 0/10 [00:00<?, ?it/s]"
      ]
     },
     "metadata": {},
     "output_type": "display_data"
    },
    {
     "data": {
      "application/vnd.jupyter.widget-view+json": {
       "model_id": "",
       "version_major": 2,
       "version_minor": 0
      },
      "text/plain": [
       "ratio_eth:   0%|          | 0/10 [00:00<?, ?it/s]"
      ]
     },
     "metadata": {},
     "output_type": "display_data"
    },
    {
     "data": {
      "application/vnd.jupyter.widget-view+json": {
       "model_id": "",
       "version_major": 2,
       "version_minor": 0
      },
      "text/plain": [
       "ratio_eth:   0%|          | 0/10 [00:00<?, ?it/s]"
      ]
     },
     "metadata": {},
     "output_type": "display_data"
    },
    {
     "data": {
      "application/vnd.jupyter.widget-view+json": {
       "model_id": "",
       "version_major": 2,
       "version_minor": 0
      },
      "text/plain": [
       "ratio_eth:   0%|          | 0/10 [00:00<?, ?it/s]"
      ]
     },
     "metadata": {},
     "output_type": "display_data"
    },
    {
     "data": {
      "application/vnd.jupyter.widget-view+json": {
       "model_id": "",
       "version_major": 2,
       "version_minor": 0
      },
      "text/plain": [
       "ratio_eth:   0%|          | 0/10 [00:00<?, ?it/s]"
      ]
     },
     "metadata": {},
     "output_type": "display_data"
    },
    {
     "data": {
      "application/vnd.jupyter.widget-view+json": {
       "model_id": "",
       "version_major": 2,
       "version_minor": 0
      },
      "text/plain": [
       "ratio_eth:   0%|          | 0/10 [00:00<?, ?it/s]"
      ]
     },
     "metadata": {},
     "output_type": "display_data"
    },
    {
     "data": {
      "application/vnd.jupyter.widget-view+json": {
       "model_id": "",
       "version_major": 2,
       "version_minor": 0
      },
      "text/plain": [
       "ratio_eth:   0%|          | 0/10 [00:00<?, ?it/s]"
      ]
     },
     "metadata": {},
     "output_type": "display_data"
    },
    {
     "data": {
      "application/vnd.jupyter.widget-view+json": {
       "model_id": "",
       "version_major": 2,
       "version_minor": 0
      },
      "text/plain": [
       "ratio_eth:   0%|          | 0/10 [00:00<?, ?it/s]"
      ]
     },
     "metadata": {},
     "output_type": "display_data"
    },
    {
     "data": {
      "application/vnd.jupyter.widget-view+json": {
       "model_id": "",
       "version_major": 2,
       "version_minor": 0
      },
      "text/plain": [
       "ratio_btc:   0%|          | 0/10 [00:00<?, ?it/s]"
      ]
     },
     "metadata": {},
     "output_type": "display_data"
    },
    {
     "data": {
      "application/vnd.jupyter.widget-view+json": {
       "model_id": "",
       "version_major": 2,
       "version_minor": 0
      },
      "text/plain": [
       "ratio_eth:   0%|          | 0/10 [00:00<?, ?it/s]"
      ]
     },
     "metadata": {},
     "output_type": "display_data"
    },
    {
     "name": "stdout",
     "output_type": "stream",
     "text": [
      "[Round2]ratio_krw=0.9299999999999999, ratio_btc=0.0, ratio_eth=0.0, ratio_doge=0.0, ratio_ada=0.07000000000000006, threshold=0.046\n",
      "    HPR=0.04016775065522893 MDD=5.855879881826262\n",
      "[Round2]ratio_krw=0.9299999999999999, ratio_btc=0.0, ratio_eth=0.0, ratio_doge=0.0, ratio_ada=0.07000000000000006, threshold=0.047\n",
      "    HPR=0.22133199492069267 MDD=5.77276294031497\n",
      "[Round2]ratio_krw=0.9299999999999999, ratio_btc=0.0, ratio_eth=0.0, ratio_doge=0.05, ratio_ada=0.020000000000000018, threshold=0.012\n",
      "    HPR=0.42656751424252626 MDD=4.919170244045939\n",
      "[Round2]ratio_krw=0.9299999999999999, ratio_btc=0.0, ratio_eth=0.0, ratio_doge=0.05, ratio_ada=0.020000000000000018, threshold=0.013000000000000001\n",
      "    HPR=0.1777110380370983 MDD=4.919170244045939\n",
      "[Round2]ratio_krw=0.9299999999999999, ratio_btc=0.0, ratio_eth=0.0, ratio_doge=0.05, ratio_ada=0.020000000000000018, threshold=0.015\n",
      "    HPR=0.16445098088151422 MDD=4.742855148014315\n",
      "[Round2]ratio_krw=0.9299999999999999, ratio_btc=0.0, ratio_eth=0.0, ratio_doge=0.05, ratio_ada=0.020000000000000018, threshold=0.016\n",
      "    HPR=0.16129243058105036 MDD=4.7458535297814155\n",
      "[Round2]ratio_krw=0.9299999999999999, ratio_btc=0.0, ratio_eth=0.0, ratio_doge=0.05, ratio_ada=0.020000000000000018, threshold=0.021\n",
      "    HPR=0.38292287643031386 MDD=3.596876583632364\n",
      "[Round2]ratio_krw=0.9299999999999999, ratio_btc=0.0, ratio_eth=0.0, ratio_doge=0.05, ratio_ada=0.020000000000000018, threshold=0.022\n",
      "    HPR=1.1973886922477917 MDD=3.4656521055623952\n",
      "[Round2]ratio_krw=0.9299999999999999, ratio_btc=0.0, ratio_eth=0.0, ratio_doge=0.05, ratio_ada=0.020000000000000018, threshold=0.023\n",
      "    HPR=1.1973886922477917 MDD=3.4656521055623952\n",
      "[Round2]ratio_krw=0.9299999999999999, ratio_btc=0.0, ratio_eth=0.0, ratio_doge=0.05, ratio_ada=0.020000000000000018, threshold=0.024\n",
      "    HPR=0.7525329140637416 MDD=3.4656521055623952\n",
      "[Round2]ratio_krw=0.9299999999999999, ratio_btc=0.0, ratio_eth=0.0, ratio_doge=0.05, ratio_ada=0.020000000000000018, threshold=0.025\n",
      "    HPR=0.6717087520858644 MDD=3.2483424466483966\n",
      "[Round2]ratio_krw=0.9299999999999999, ratio_btc=0.0, ratio_eth=0.0, ratio_doge=0.05, ratio_ada=0.020000000000000018, threshold=0.026000000000000002\n",
      "    HPR=1.9410782799136772 MDD=3.121910434685097\n",
      "[Round2]ratio_krw=0.9299999999999999, ratio_btc=0.0, ratio_eth=0.0, ratio_doge=0.05, ratio_ada=0.020000000000000018, threshold=0.027\n",
      "    HPR=2.0566633076642304 MDD=3.121910434685097\n",
      "[Round2]ratio_krw=0.9299999999999999, ratio_btc=0.0, ratio_eth=0.0, ratio_doge=0.05, ratio_ada=0.020000000000000018, threshold=0.028\n",
      "    HPR=1.421404977339602 MDD=3.121910434685097\n",
      "[Round2]ratio_krw=0.9299999999999999, ratio_btc=0.0, ratio_eth=0.05, ratio_doge=0.0, ratio_ada=0.020000000000000018, threshold=0.024\n",
      "    HPR=0.038290780590855 MDD=3.853231459467689\n",
      "[Round2]ratio_krw=0.9299999999999999, ratio_btc=0.0, ratio_eth=0.05, ratio_doge=0.0, ratio_ada=0.020000000000000018, threshold=0.025\n",
      "    HPR=0.038290780590855 MDD=3.853231459467689\n",
      "[Round2]ratio_krw=0.9299999999999999, ratio_btc=0.0, ratio_eth=0.05, ratio_doge=0.0, ratio_ada=0.020000000000000018, threshold=0.026000000000000002\n",
      "    HPR=0.08911205408315137 MDD=3.853231459467689\n",
      "[Round2]ratio_krw=0.9299999999999999, ratio_btc=0.0, ratio_eth=0.05, ratio_doge=0.0, ratio_ada=0.020000000000000018, threshold=0.027\n",
      "    HPR=0.20539130535006667 MDD=3.853231459467689\n",
      "[Round2]ratio_krw=0.9299999999999999, ratio_btc=0.0, ratio_eth=0.05, ratio_doge=0.0, ratio_ada=0.020000000000000018, threshold=0.028\n",
      "    HPR=0.493706666939997 MDD=3.6056265594246266\n",
      "[Round2]ratio_krw=0.9299999999999999, ratio_btc=0.0, ratio_eth=0.05, ratio_doge=0.0, ratio_ada=0.020000000000000018, threshold=0.029\n",
      "    HPR=0.5699316188076065 MDD=3.6056265594246266\n",
      "[Round2]ratio_krw=0.9299999999999999, ratio_btc=0.0, ratio_eth=0.05, ratio_doge=0.0, ratio_ada=0.020000000000000018, threshold=0.03\n",
      "    HPR=0.9032054917748056 MDD=3.408149633905086\n",
      "[Round2]ratio_krw=0.9299999999999999, ratio_btc=0.0, ratio_eth=0.05, ratio_doge=0.0, ratio_ada=0.020000000000000018, threshold=0.031\n",
      "    HPR=0.9032054917748056 MDD=3.408149633905086\n"
     ]
    },
    {
     "data": {
      "application/vnd.jupyter.widget-view+json": {
       "model_id": "",
       "version_major": 2,
       "version_minor": 0
      },
      "text/plain": [
       "ratio_eth:   0%|          | 0/10 [00:00<?, ?it/s]"
      ]
     },
     "metadata": {},
     "output_type": "display_data"
    },
    {
     "name": "stdout",
     "output_type": "stream",
     "text": [
      "[Round2]ratio_krw=0.9299999999999999, ratio_btc=0.05, ratio_eth=0.0, ratio_doge=0.0, ratio_ada=0.020000000000000018, threshold=0.013000000000000001\n",
      "    HPR=0.08568067704961546 MDD=5.109823878939793\n",
      "[Round2]ratio_krw=0.9299999999999999, ratio_btc=0.05, ratio_eth=0.0, ratio_doge=0.0, ratio_ada=0.020000000000000018, threshold=0.023\n",
      "    HPR=0.16336916582555538 MDD=3.372682626972244\n",
      "[Round2]ratio_krw=0.9299999999999999, ratio_btc=0.05, ratio_eth=0.0, ratio_doge=0.0, ratio_ada=0.020000000000000018, threshold=0.024\n",
      "    HPR=0.5327994991320528 MDD=3.2047832745951044\n",
      "[Round2]ratio_krw=0.9299999999999999, ratio_btc=0.05, ratio_eth=0.0, ratio_doge=0.0, ratio_ada=0.020000000000000018, threshold=0.025\n",
      "    HPR=0.5327994991320528 MDD=3.2047832745951044\n",
      "[Round2]ratio_krw=0.9299999999999999, ratio_btc=0.05, ratio_eth=0.0, ratio_doge=0.0, ratio_ada=0.020000000000000018, threshold=0.026000000000000002\n",
      "    HPR=0.5327994991320528 MDD=3.2047832745951044\n",
      "[Round2]ratio_krw=0.9299999999999999, ratio_btc=0.05, ratio_eth=0.0, ratio_doge=0.0, ratio_ada=0.020000000000000018, threshold=0.027\n",
      "    HPR=0.8510941269883165 MDD=3.071554316742308\n",
      "[Round2]ratio_krw=0.9299999999999999, ratio_btc=0.05, ratio_eth=0.0, ratio_doge=0.0, ratio_ada=0.020000000000000018, threshold=0.028\n",
      "    HPR=1.0179429348360358 MDD=2.996072631070401\n"
     ]
    },
    {
     "data": {
      "application/vnd.jupyter.widget-view+json": {
       "model_id": "",
       "version_major": 2,
       "version_minor": 0
      },
      "text/plain": [
       "ratio_eth:   0%|          | 0/10 [00:00<?, ?it/s]"
      ]
     },
     "metadata": {},
     "output_type": "display_data"
    },
    {
     "data": {
      "application/vnd.jupyter.widget-view+json": {
       "model_id": "",
       "version_major": 2,
       "version_minor": 0
      },
      "text/plain": [
       "ratio_eth:   0%|          | 0/10 [00:00<?, ?it/s]"
      ]
     },
     "metadata": {},
     "output_type": "display_data"
    },
    {
     "data": {
      "application/vnd.jupyter.widget-view+json": {
       "model_id": "",
       "version_major": 2,
       "version_minor": 0
      },
      "text/plain": [
       "ratio_eth:   0%|          | 0/10 [00:00<?, ?it/s]"
      ]
     },
     "metadata": {},
     "output_type": "display_data"
    },
    {
     "data": {
      "application/vnd.jupyter.widget-view+json": {
       "model_id": "",
       "version_major": 2,
       "version_minor": 0
      },
      "text/plain": [
       "ratio_eth:   0%|          | 0/10 [00:00<?, ?it/s]"
      ]
     },
     "metadata": {},
     "output_type": "display_data"
    },
    {
     "data": {
      "application/vnd.jupyter.widget-view+json": {
       "model_id": "",
       "version_major": 2,
       "version_minor": 0
      },
      "text/plain": [
       "ratio_eth:   0%|          | 0/10 [00:00<?, ?it/s]"
      ]
     },
     "metadata": {},
     "output_type": "display_data"
    },
    {
     "data": {
      "application/vnd.jupyter.widget-view+json": {
       "model_id": "",
       "version_major": 2,
       "version_minor": 0
      },
      "text/plain": [
       "ratio_eth:   0%|          | 0/10 [00:00<?, ?it/s]"
      ]
     },
     "metadata": {},
     "output_type": "display_data"
    },
    {
     "data": {
      "application/vnd.jupyter.widget-view+json": {
       "model_id": "",
       "version_major": 2,
       "version_minor": 0
      },
      "text/plain": [
       "ratio_eth:   0%|          | 0/10 [00:00<?, ?it/s]"
      ]
     },
     "metadata": {},
     "output_type": "display_data"
    },
    {
     "data": {
      "application/vnd.jupyter.widget-view+json": {
       "model_id": "",
       "version_major": 2,
       "version_minor": 0
      },
      "text/plain": [
       "ratio_eth:   0%|          | 0/10 [00:00<?, ?it/s]"
      ]
     },
     "metadata": {},
     "output_type": "display_data"
    },
    {
     "data": {
      "application/vnd.jupyter.widget-view+json": {
       "model_id": "",
       "version_major": 2,
       "version_minor": 0
      },
      "text/plain": [
       "ratio_btc:   0%|          | 0/10 [00:00<?, ?it/s]"
      ]
     },
     "metadata": {},
     "output_type": "display_data"
    },
    {
     "data": {
      "application/vnd.jupyter.widget-view+json": {
       "model_id": "",
       "version_major": 2,
       "version_minor": 0
      },
      "text/plain": [
       "ratio_eth:   0%|          | 0/10 [00:00<?, ?it/s]"
      ]
     },
     "metadata": {},
     "output_type": "display_data"
    },
    {
     "name": "stdout",
     "output_type": "stream",
     "text": [
      "[Round2]ratio_krw=0.9249999999999999, ratio_btc=0.0, ratio_eth=0.0, ratio_doge=0.0, ratio_ada=0.07500000000000007, threshold=0.049\n",
      "    HPR=0.023641282696362786 MDD=6.269196085387928\n",
      "[Round2]ratio_krw=0.9249999999999999, ratio_btc=0.0, ratio_eth=0.0, ratio_doge=0.0, ratio_ada=0.07500000000000007, threshold=0.05\n",
      "    HPR=0.2166688762035074 MDD=6.180684668647967\n",
      "[Round2]ratio_krw=0.9249999999999999, ratio_btc=0.0, ratio_eth=0.0, ratio_doge=0.05, ratio_ada=0.025000000000000022, threshold=0.015\n",
      "    HPR=0.8991539428322204 MDD=5.004196025875545\n",
      "[Round2]ratio_krw=0.9249999999999999, ratio_btc=0.0, ratio_eth=0.0, ratio_doge=0.05, ratio_ada=0.025000000000000022, threshold=0.016\n",
      "    HPR=0.5055088678242781 MDD=5.007462198697139\n",
      "[Round2]ratio_krw=0.9249999999999999, ratio_btc=0.0, ratio_eth=0.0, ratio_doge=0.05, ratio_ada=0.025000000000000022, threshold=0.022\n",
      "    HPR=0.00953594820147785 MDD=4.786730152654392\n",
      "[Round2]ratio_krw=0.9249999999999999, ratio_btc=0.0, ratio_eth=0.0, ratio_doge=0.05, ratio_ada=0.025000000000000022, threshold=0.023\n",
      "    HPR=0.11048475573312011 MDD=4.786730152654392\n",
      "[Round2]ratio_krw=0.9249999999999999, ratio_btc=0.0, ratio_eth=0.0, ratio_doge=0.05, ratio_ada=0.025000000000000022, threshold=0.026000000000000002\n",
      "    HPR=1.9410782799136772 MDD=3.121910434685097\n",
      "[Round2]ratio_krw=0.9249999999999999, ratio_btc=0.0, ratio_eth=0.0, ratio_doge=0.05, ratio_ada=0.025000000000000022, threshold=0.027\n",
      "    HPR=2.0566633076642304 MDD=3.121910434685097\n",
      "[Round2]ratio_krw=0.9249999999999999, ratio_btc=0.0, ratio_eth=0.0, ratio_doge=0.05, ratio_ada=0.025000000000000022, threshold=0.028\n",
      "    HPR=1.421404977339602 MDD=3.121910434685097\n",
      "[Round2]ratio_krw=0.9249999999999999, ratio_btc=0.0, ratio_eth=0.05, ratio_doge=0.0, ratio_ada=0.025000000000000022, threshold=0.026000000000000002\n",
      "    HPR=0.08911205408315137 MDD=3.853231459467689\n",
      "[Round2]ratio_krw=0.9249999999999999, ratio_btc=0.0, ratio_eth=0.05, ratio_doge=0.0, ratio_ada=0.025000000000000022, threshold=0.027\n",
      "    HPR=0.20539130535006667 MDD=3.853231459467689\n",
      "[Round2]ratio_krw=0.9249999999999999, ratio_btc=0.0, ratio_eth=0.05, ratio_doge=0.0, ratio_ada=0.025000000000000022, threshold=0.028\n",
      "    HPR=0.493706666939997 MDD=3.6056265594246266\n",
      "[Round2]ratio_krw=0.9249999999999999, ratio_btc=0.0, ratio_eth=0.05, ratio_doge=0.0, ratio_ada=0.025000000000000022, threshold=0.029\n",
      "    HPR=0.5699316188076065 MDD=3.6056265594246266\n",
      "[Round2]ratio_krw=0.9249999999999999, ratio_btc=0.0, ratio_eth=0.05, ratio_doge=0.0, ratio_ada=0.025000000000000022, threshold=0.03\n",
      "    HPR=0.9032054917748056 MDD=3.408149633905086\n",
      "[Round2]ratio_krw=0.9249999999999999, ratio_btc=0.0, ratio_eth=0.05, ratio_doge=0.0, ratio_ada=0.025000000000000022, threshold=0.031\n",
      "    HPR=0.9032054917748056 MDD=3.408149633905086\n"
     ]
    },
    {
     "data": {
      "application/vnd.jupyter.widget-view+json": {
       "model_id": "",
       "version_major": 2,
       "version_minor": 0
      },
      "text/plain": [
       "ratio_eth:   0%|          | 0/10 [00:00<?, ?it/s]"
      ]
     },
     "metadata": {},
     "output_type": "display_data"
    },
    {
     "name": "stdout",
     "output_type": "stream",
     "text": [
      "[Round2]ratio_krw=0.9249999999999999, ratio_btc=0.05, ratio_eth=0.0, ratio_doge=0.0, ratio_ada=0.025000000000000022, threshold=0.026000000000000002\n",
      "    HPR=0.5327994991320528 MDD=3.2047832745951044\n",
      "[Round2]ratio_krw=0.9249999999999999, ratio_btc=0.05, ratio_eth=0.0, ratio_doge=0.0, ratio_ada=0.025000000000000022, threshold=0.027\n",
      "    HPR=0.8510941269883165 MDD=3.071554316742308\n",
      "[Round2]ratio_krw=0.9249999999999999, ratio_btc=0.05, ratio_eth=0.0, ratio_doge=0.0, ratio_ada=0.025000000000000022, threshold=0.028\n",
      "    HPR=1.0179429348360358 MDD=2.996072631070401\n"
     ]
    },
    {
     "data": {
      "application/vnd.jupyter.widget-view+json": {
       "model_id": "",
       "version_major": 2,
       "version_minor": 0
      },
      "text/plain": [
       "ratio_eth:   0%|          | 0/10 [00:00<?, ?it/s]"
      ]
     },
     "metadata": {},
     "output_type": "display_data"
    },
    {
     "data": {
      "application/vnd.jupyter.widget-view+json": {
       "model_id": "",
       "version_major": 2,
       "version_minor": 0
      },
      "text/plain": [
       "ratio_eth:   0%|          | 0/10 [00:00<?, ?it/s]"
      ]
     },
     "metadata": {},
     "output_type": "display_data"
    },
    {
     "data": {
      "application/vnd.jupyter.widget-view+json": {
       "model_id": "",
       "version_major": 2,
       "version_minor": 0
      },
      "text/plain": [
       "ratio_eth:   0%|          | 0/10 [00:00<?, ?it/s]"
      ]
     },
     "metadata": {},
     "output_type": "display_data"
    },
    {
     "data": {
      "application/vnd.jupyter.widget-view+json": {
       "model_id": "",
       "version_major": 2,
       "version_minor": 0
      },
      "text/plain": [
       "ratio_eth:   0%|          | 0/10 [00:00<?, ?it/s]"
      ]
     },
     "metadata": {},
     "output_type": "display_data"
    },
    {
     "data": {
      "application/vnd.jupyter.widget-view+json": {
       "model_id": "",
       "version_major": 2,
       "version_minor": 0
      },
      "text/plain": [
       "ratio_eth:   0%|          | 0/10 [00:00<?, ?it/s]"
      ]
     },
     "metadata": {},
     "output_type": "display_data"
    },
    {
     "data": {
      "application/vnd.jupyter.widget-view+json": {
       "model_id": "",
       "version_major": 2,
       "version_minor": 0
      },
      "text/plain": [
       "ratio_eth:   0%|          | 0/10 [00:00<?, ?it/s]"
      ]
     },
     "metadata": {},
     "output_type": "display_data"
    },
    {
     "data": {
      "application/vnd.jupyter.widget-view+json": {
       "model_id": "",
       "version_major": 2,
       "version_minor": 0
      },
      "text/plain": [
       "ratio_eth:   0%|          | 0/10 [00:00<?, ?it/s]"
      ]
     },
     "metadata": {},
     "output_type": "display_data"
    },
    {
     "data": {
      "application/vnd.jupyter.widget-view+json": {
       "model_id": "",
       "version_major": 2,
       "version_minor": 0
      },
      "text/plain": [
       "ratio_eth:   0%|          | 0/10 [00:00<?, ?it/s]"
      ]
     },
     "metadata": {},
     "output_type": "display_data"
    },
    {
     "data": {
      "application/vnd.jupyter.widget-view+json": {
       "model_id": "",
       "version_major": 2,
       "version_minor": 0
      },
      "text/plain": [
       "ratio_btc:   0%|          | 0/10 [00:00<?, ?it/s]"
      ]
     },
     "metadata": {},
     "output_type": "display_data"
    },
    {
     "data": {
      "application/vnd.jupyter.widget-view+json": {
       "model_id": "",
       "version_major": 2,
       "version_minor": 0
      },
      "text/plain": [
       "ratio_eth:   0%|          | 0/10 [00:00<?, ?it/s]"
      ]
     },
     "metadata": {},
     "output_type": "display_data"
    },
    {
     "name": "stdout",
     "output_type": "stream",
     "text": [
      "[Round2]ratio_krw=0.9199999999999999, ratio_btc=0.0, ratio_eth=0.0, ratio_doge=0.0, ratio_ada=0.08000000000000007, threshold=0.052000000000000005\n",
      "    HPR=0.00453558845321389 MDD=6.681858342899957\n",
      "[Round2]ratio_krw=0.9199999999999999, ratio_btc=0.0, ratio_eth=0.0, ratio_doge=0.0, ratio_ada=0.08000000000000007, threshold=0.053\n",
      "    HPR=0.1365838085138682 MDD=6.681858342899957\n",
      "[Round2]ratio_krw=0.9199999999999999, ratio_btc=0.0, ratio_eth=0.0, ratio_doge=0.05, ratio_ada=0.030000000000000027, threshold=0.011\n",
      "    HPR=0.0954666709496843 MDD=5.168163817426413\n",
      "[Round2]ratio_krw=0.9199999999999999, ratio_btc=0.0, ratio_eth=0.0, ratio_doge=0.05, ratio_ada=0.030000000000000027, threshold=0.02\n",
      "    HPR=0.4285114777569543 MDD=5.179078757223834\n",
      "[Round2]ratio_krw=0.9199999999999999, ratio_btc=0.0, ratio_eth=0.0, ratio_doge=0.05, ratio_ada=0.030000000000000027, threshold=0.026000000000000002\n",
      "    HPR=0.5135095960711933 MDD=4.715229676388506\n",
      "[Round2]ratio_krw=0.9199999999999999, ratio_btc=0.0, ratio_eth=0.0, ratio_doge=0.05, ratio_ada=0.030000000000000027, threshold=0.027\n",
      "    HPR=0.6259876321574653 MDD=4.715229676388506\n",
      "[Round2]ratio_krw=0.9199999999999999, ratio_btc=0.0, ratio_eth=0.0, ratio_doge=0.05, ratio_ada=0.030000000000000027, threshold=0.028\n",
      "    HPR=0.0570077052990392 MDD=4.690023843398717\n",
      "[Round2]ratio_krw=0.9199999999999999, ratio_btc=0.0, ratio_eth=0.05, ratio_doge=0.0, ratio_ada=0.030000000000000027, threshold=0.031\n",
      "    HPR=0.9032054917748056 MDD=3.408149633905086\n"
     ]
    },
    {
     "data": {
      "application/vnd.jupyter.widget-view+json": {
       "model_id": "",
       "version_major": 2,
       "version_minor": 0
      },
      "text/plain": [
       "ratio_eth:   0%|          | 0/10 [00:00<?, ?it/s]"
      ]
     },
     "metadata": {},
     "output_type": "display_data"
    },
    {
     "data": {
      "application/vnd.jupyter.widget-view+json": {
       "model_id": "",
       "version_major": 2,
       "version_minor": 0
      },
      "text/plain": [
       "ratio_eth:   0%|          | 0/10 [00:00<?, ?it/s]"
      ]
     },
     "metadata": {},
     "output_type": "display_data"
    },
    {
     "data": {
      "application/vnd.jupyter.widget-view+json": {
       "model_id": "",
       "version_major": 2,
       "version_minor": 0
      },
      "text/plain": [
       "ratio_eth:   0%|          | 0/10 [00:00<?, ?it/s]"
      ]
     },
     "metadata": {},
     "output_type": "display_data"
    },
    {
     "data": {
      "application/vnd.jupyter.widget-view+json": {
       "model_id": "",
       "version_major": 2,
       "version_minor": 0
      },
      "text/plain": [
       "ratio_eth:   0%|          | 0/10 [00:00<?, ?it/s]"
      ]
     },
     "metadata": {},
     "output_type": "display_data"
    },
    {
     "data": {
      "application/vnd.jupyter.widget-view+json": {
       "model_id": "",
       "version_major": 2,
       "version_minor": 0
      },
      "text/plain": [
       "ratio_eth:   0%|          | 0/10 [00:00<?, ?it/s]"
      ]
     },
     "metadata": {},
     "output_type": "display_data"
    },
    {
     "data": {
      "application/vnd.jupyter.widget-view+json": {
       "model_id": "",
       "version_major": 2,
       "version_minor": 0
      },
      "text/plain": [
       "ratio_eth:   0%|          | 0/10 [00:00<?, ?it/s]"
      ]
     },
     "metadata": {},
     "output_type": "display_data"
    },
    {
     "data": {
      "application/vnd.jupyter.widget-view+json": {
       "model_id": "",
       "version_major": 2,
       "version_minor": 0
      },
      "text/plain": [
       "ratio_eth:   0%|          | 0/10 [00:00<?, ?it/s]"
      ]
     },
     "metadata": {},
     "output_type": "display_data"
    },
    {
     "data": {
      "application/vnd.jupyter.widget-view+json": {
       "model_id": "",
       "version_major": 2,
       "version_minor": 0
      },
      "text/plain": [
       "ratio_eth:   0%|          | 0/10 [00:00<?, ?it/s]"
      ]
     },
     "metadata": {},
     "output_type": "display_data"
    },
    {
     "data": {
      "application/vnd.jupyter.widget-view+json": {
       "model_id": "",
       "version_major": 2,
       "version_minor": 0
      },
      "text/plain": [
       "ratio_eth:   0%|          | 0/10 [00:00<?, ?it/s]"
      ]
     },
     "metadata": {},
     "output_type": "display_data"
    },
    {
     "data": {
      "application/vnd.jupyter.widget-view+json": {
       "model_id": "",
       "version_major": 2,
       "version_minor": 0
      },
      "text/plain": [
       "ratio_btc:   0%|          | 0/10 [00:00<?, ?it/s]"
      ]
     },
     "metadata": {},
     "output_type": "display_data"
    },
    {
     "data": {
      "application/vnd.jupyter.widget-view+json": {
       "model_id": "",
       "version_major": 2,
       "version_minor": 0
      },
      "text/plain": [
       "ratio_eth:   0%|          | 0/10 [00:00<?, ?it/s]"
      ]
     },
     "metadata": {},
     "output_type": "display_data"
    },
    {
     "name": "stdout",
     "output_type": "stream",
     "text": [
      "[Round2]ratio_krw=0.9149999999999999, ratio_btc=0.0, ratio_eth=0.0, ratio_doge=0.0, ratio_ada=0.08500000000000008, threshold=0.056\n",
      "    HPR=0.12188744268692986 MDD=7.0938680457681595\n",
      "[Round2]ratio_krw=0.9149999999999999, ratio_btc=0.0, ratio_eth=0.0, ratio_doge=0.05, ratio_ada=0.03500000000000003, threshold=0.015\n",
      "    HPR=0.22896698601961862 MDD=5.525760013034163\n",
      "[Round2]ratio_krw=0.9149999999999999, ratio_btc=0.0, ratio_eth=0.0, ratio_doge=0.05, ratio_ada=0.03500000000000003, threshold=0.021\n",
      "    HPR=0.09276655254331079 MDD=5.441463282587116\n",
      "[Round2]ratio_krw=0.9149999999999999, ratio_btc=0.0, ratio_eth=0.0, ratio_doge=0.05, ratio_ada=0.03500000000000003, threshold=0.022\n",
      "    HPR=0.6893151408910336 MDD=5.312524555629521\n",
      "[Round2]ratio_krw=0.9149999999999999, ratio_btc=0.0, ratio_eth=0.0, ratio_doge=0.05, ratio_ada=0.03500000000000003, threshold=0.023\n",
      "    HPR=1.2566864892148422 MDD=5.312524555629521\n",
      "[Round2]ratio_krw=0.9149999999999999, ratio_btc=0.0, ratio_eth=0.0, ratio_doge=0.05, ratio_ada=0.03500000000000003, threshold=0.026000000000000002\n",
      "    HPR=0.27558148209745337 MDD=4.97945780093819\n",
      "[Round2]ratio_krw=0.9149999999999999, ratio_btc=0.0, ratio_eth=0.0, ratio_doge=0.05, ratio_ada=0.03500000000000003, threshold=0.027\n",
      "    HPR=0.38754168624008933 MDD=4.97945780093819\n",
      "[Round2]ratio_krw=0.9149999999999999, ratio_btc=0.0, ratio_eth=0.05, ratio_doge=0.0, ratio_ada=0.03500000000000003, threshold=0.023\n",
      "    HPR=0.027926471854433643 MDD=5.695470323846009\n"
     ]
    },
    {
     "data": {
      "application/vnd.jupyter.widget-view+json": {
       "model_id": "",
       "version_major": 2,
       "version_minor": 0
      },
      "text/plain": [
       "ratio_eth:   0%|          | 0/10 [00:00<?, ?it/s]"
      ]
     },
     "metadata": {},
     "output_type": "display_data"
    },
    {
     "name": "stdout",
     "output_type": "stream",
     "text": [
      "[Round2]ratio_krw=0.9149999999999999, ratio_btc=0.05, ratio_eth=0.0, ratio_doge=0.0, ratio_ada=0.03500000000000003, threshold=0.022\n",
      "    HPR=0.032678924148088484 MDD=6.377289736690002\n",
      "[Round2]ratio_krw=0.9149999999999999, ratio_btc=0.05, ratio_eth=0.0, ratio_doge=0.0, ratio_ada=0.03500000000000003, threshold=0.023\n",
      "    HPR=0.26480754909017357 MDD=6.278094510173367\n"
     ]
    },
    {
     "data": {
      "application/vnd.jupyter.widget-view+json": {
       "model_id": "",
       "version_major": 2,
       "version_minor": 0
      },
      "text/plain": [
       "ratio_eth:   0%|          | 0/10 [00:00<?, ?it/s]"
      ]
     },
     "metadata": {},
     "output_type": "display_data"
    },
    {
     "data": {
      "application/vnd.jupyter.widget-view+json": {
       "model_id": "",
       "version_major": 2,
       "version_minor": 0
      },
      "text/plain": [
       "ratio_eth:   0%|          | 0/10 [00:00<?, ?it/s]"
      ]
     },
     "metadata": {},
     "output_type": "display_data"
    },
    {
     "data": {
      "application/vnd.jupyter.widget-view+json": {
       "model_id": "",
       "version_major": 2,
       "version_minor": 0
      },
      "text/plain": [
       "ratio_eth:   0%|          | 0/10 [00:00<?, ?it/s]"
      ]
     },
     "metadata": {},
     "output_type": "display_data"
    },
    {
     "data": {
      "application/vnd.jupyter.widget-view+json": {
       "model_id": "",
       "version_major": 2,
       "version_minor": 0
      },
      "text/plain": [
       "ratio_eth:   0%|          | 0/10 [00:00<?, ?it/s]"
      ]
     },
     "metadata": {},
     "output_type": "display_data"
    },
    {
     "data": {
      "application/vnd.jupyter.widget-view+json": {
       "model_id": "",
       "version_major": 2,
       "version_minor": 0
      },
      "text/plain": [
       "ratio_eth:   0%|          | 0/10 [00:00<?, ?it/s]"
      ]
     },
     "metadata": {},
     "output_type": "display_data"
    },
    {
     "data": {
      "application/vnd.jupyter.widget-view+json": {
       "model_id": "",
       "version_major": 2,
       "version_minor": 0
      },
      "text/plain": [
       "ratio_eth:   0%|          | 0/10 [00:00<?, ?it/s]"
      ]
     },
     "metadata": {},
     "output_type": "display_data"
    },
    {
     "data": {
      "application/vnd.jupyter.widget-view+json": {
       "model_id": "",
       "version_major": 2,
       "version_minor": 0
      },
      "text/plain": [
       "ratio_eth:   0%|          | 0/10 [00:00<?, ?it/s]"
      ]
     },
     "metadata": {},
     "output_type": "display_data"
    },
    {
     "data": {
      "application/vnd.jupyter.widget-view+json": {
       "model_id": "",
       "version_major": 2,
       "version_minor": 0
      },
      "text/plain": [
       "ratio_eth:   0%|          | 0/10 [00:00<?, ?it/s]"
      ]
     },
     "metadata": {},
     "output_type": "display_data"
    },
    {
     "data": {
      "application/vnd.jupyter.widget-view+json": {
       "model_id": "",
       "version_major": 2,
       "version_minor": 0
      },
      "text/plain": [
       "ratio_btc:   0%|          | 0/10 [00:00<?, ?it/s]"
      ]
     },
     "metadata": {},
     "output_type": "display_data"
    },
    {
     "data": {
      "application/vnd.jupyter.widget-view+json": {
       "model_id": "",
       "version_major": 2,
       "version_minor": 0
      },
      "text/plain": [
       "ratio_eth:   0%|          | 0/10 [00:00<?, ?it/s]"
      ]
     },
     "metadata": {},
     "output_type": "display_data"
    },
    {
     "name": "stdout",
     "output_type": "stream",
     "text": [
      "[Round2]ratio_krw=0.9099999999999999, ratio_btc=0.0, ratio_eth=0.0, ratio_doge=0.0, ratio_ada=0.09000000000000008, threshold=0.059000000000000004\n",
      "    HPR=0.10447133268647324 MDD=7.505226581454819\n",
      "[Round2]ratio_krw=0.9099999999999999, ratio_btc=0.0, ratio_eth=0.0, ratio_doge=0.0, ratio_ada=0.09000000000000008, threshold=0.06\n",
      "    HPR=0.18635023415098928 MDD=7.400960162255196\n",
      "[Round2]ratio_krw=0.9099999999999999, ratio_btc=0.0, ratio_eth=0.0, ratio_doge=0.05, ratio_ada=0.040000000000000036, threshold=0.023\n",
      "    HPR=0.06452248409039019 MDD=5.574859945079642\n",
      "[Round2]ratio_krw=0.9099999999999999, ratio_btc=0.0, ratio_eth=0.0, ratio_doge=0.05, ratio_ada=0.040000000000000036, threshold=0.024\n",
      "    HPR=0.41420841015449295 MDD=5.574859945079642\n",
      "[Round2]ratio_krw=0.9099999999999999, ratio_btc=0.0, ratio_eth=0.0, ratio_doge=0.05, ratio_ada=0.040000000000000036, threshold=0.025\n",
      "    HPR=0.336157225934941 MDD=5.2433094880053375\n",
      "[Round2]ratio_krw=0.9099999999999999, ratio_btc=0.0, ratio_eth=0.0, ratio_doge=0.05, ratio_ada=0.040000000000000036, threshold=0.026000000000000002\n",
      "    HPR=1.9018524020059102 MDD=5.2433094880053375\n",
      "[Round2]ratio_krw=0.9099999999999999, ratio_btc=0.0, ratio_eth=0.0, ratio_doge=0.05, ratio_ada=0.040000000000000036, threshold=0.027\n",
      "    HPR=2.0979937554024275 MDD=5.2433094880053375\n",
      "[Round2]ratio_krw=0.9099999999999999, ratio_btc=0.0, ratio_eth=0.05, ratio_doge=0.0, ratio_ada=0.040000000000000036, threshold=0.026000000000000002\n",
      "    HPR=0.03567383903537724 MDD=5.957148200039701\n"
     ]
    },
    {
     "data": {
      "application/vnd.jupyter.widget-view+json": {
       "model_id": "",
       "version_major": 2,
       "version_minor": 0
      },
      "text/plain": [
       "ratio_eth:   0%|          | 0/10 [00:00<?, ?it/s]"
      ]
     },
     "metadata": {},
     "output_type": "display_data"
    },
    {
     "name": "stdout",
     "output_type": "stream",
     "text": [
      "[Round2]ratio_krw=0.9099999999999999, ratio_btc=0.05, ratio_eth=0.0, ratio_doge=0.0, ratio_ada=0.040000000000000036, threshold=0.026000000000000002\n",
      "    HPR=0.6858649612408341 MDD=6.460735038478163\n"
     ]
    },
    {
     "data": {
      "application/vnd.jupyter.widget-view+json": {
       "model_id": "",
       "version_major": 2,
       "version_minor": 0
      },
      "text/plain": [
       "ratio_eth:   0%|          | 0/10 [00:00<?, ?it/s]"
      ]
     },
     "metadata": {},
     "output_type": "display_data"
    },
    {
     "data": {
      "application/vnd.jupyter.widget-view+json": {
       "model_id": "",
       "version_major": 2,
       "version_minor": 0
      },
      "text/plain": [
       "ratio_eth:   0%|          | 0/10 [00:00<?, ?it/s]"
      ]
     },
     "metadata": {},
     "output_type": "display_data"
    },
    {
     "data": {
      "application/vnd.jupyter.widget-view+json": {
       "model_id": "",
       "version_major": 2,
       "version_minor": 0
      },
      "text/plain": [
       "ratio_eth:   0%|          | 0/10 [00:00<?, ?it/s]"
      ]
     },
     "metadata": {},
     "output_type": "display_data"
    },
    {
     "data": {
      "application/vnd.jupyter.widget-view+json": {
       "model_id": "",
       "version_major": 2,
       "version_minor": 0
      },
      "text/plain": [
       "ratio_eth:   0%|          | 0/10 [00:00<?, ?it/s]"
      ]
     },
     "metadata": {},
     "output_type": "display_data"
    },
    {
     "data": {
      "application/vnd.jupyter.widget-view+json": {
       "model_id": "",
       "version_major": 2,
       "version_minor": 0
      },
      "text/plain": [
       "ratio_eth:   0%|          | 0/10 [00:00<?, ?it/s]"
      ]
     },
     "metadata": {},
     "output_type": "display_data"
    },
    {
     "data": {
      "application/vnd.jupyter.widget-view+json": {
       "model_id": "",
       "version_major": 2,
       "version_minor": 0
      },
      "text/plain": [
       "ratio_eth:   0%|          | 0/10 [00:00<?, ?it/s]"
      ]
     },
     "metadata": {},
     "output_type": "display_data"
    },
    {
     "data": {
      "application/vnd.jupyter.widget-view+json": {
       "model_id": "",
       "version_major": 2,
       "version_minor": 0
      },
      "text/plain": [
       "ratio_eth:   0%|          | 0/10 [00:00<?, ?it/s]"
      ]
     },
     "metadata": {},
     "output_type": "display_data"
    },
    {
     "data": {
      "application/vnd.jupyter.widget-view+json": {
       "model_id": "",
       "version_major": 2,
       "version_minor": 0
      },
      "text/plain": [
       "ratio_eth:   0%|          | 0/10 [00:00<?, ?it/s]"
      ]
     },
     "metadata": {},
     "output_type": "display_data"
    },
    {
     "data": {
      "application/vnd.jupyter.widget-view+json": {
       "model_id": "",
       "version_major": 2,
       "version_minor": 0
      },
      "text/plain": [
       "ratio_btc:   0%|          | 0/10 [00:00<?, ?it/s]"
      ]
     },
     "metadata": {},
     "output_type": "display_data"
    },
    {
     "data": {
      "application/vnd.jupyter.widget-view+json": {
       "model_id": "",
       "version_major": 2,
       "version_minor": 0
      },
      "text/plain": [
       "ratio_eth:   0%|          | 0/10 [00:00<?, ?it/s]"
      ]
     },
     "metadata": {},
     "output_type": "display_data"
    },
    {
     "name": "stdout",
     "output_type": "stream",
     "text": [
      "[Round2]ratio_krw=0.9049999999999999, ratio_btc=0.0, ratio_eth=0.0, ratio_doge=0.0, ratio_ada=0.09500000000000008, threshold=0.062\n",
      "    HPR=0.08433773397089617 MDD=7.915935333490348\n",
      "[Round2]ratio_krw=0.9049999999999999, ratio_btc=0.0, ratio_eth=0.0, ratio_doge=0.0, ratio_ada=0.09500000000000008, threshold=0.063\n",
      "    HPR=0.17080543887371125 MDD=7.8065595488417365\n",
      "[Round2]ratio_krw=0.9049999999999999, ratio_btc=0.0, ratio_eth=0.0, ratio_doge=0.05, ratio_ada=0.04500000000000004, threshold=0.016\n",
      "    HPR=0.06430662343179794 MDD=5.592002370596477\n",
      "[Round2]ratio_krw=0.9049999999999999, ratio_btc=0.0, ratio_eth=0.0, ratio_doge=0.05, ratio_ada=0.04500000000000004, threshold=0.026000000000000002\n",
      "    HPR=0.5567959326674421 MDD=5.5067855414654545\n",
      "[Round2]ratio_krw=0.9049999999999999, ratio_btc=0.0, ratio_eth=0.0, ratio_doge=0.05, ratio_ada=0.04500000000000004, threshold=0.027\n",
      "    HPR=1.6489009905258811 MDD=5.5067855414654545\n",
      "[Round2]ratio_krw=0.9049999999999999, ratio_btc=0.0, ratio_eth=0.05, ratio_doge=0.0, ratio_ada=0.04500000000000004, threshold=0.029\n",
      "    HPR=0.4412651513997723 MDD=5.981510094213583\n",
      "[Round2]ratio_krw=0.9049999999999999, ratio_btc=0.0, ratio_eth=0.05, ratio_doge=0.0, ratio_ada=0.04500000000000004, threshold=0.03\n",
      "    HPR=0.940745226940165 MDD=5.790984016069309\n"
     ]
    },
    {
     "data": {
      "application/vnd.jupyter.widget-view+json": {
       "model_id": "",
       "version_major": 2,
       "version_minor": 0
      },
      "text/plain": [
       "ratio_eth:   0%|          | 0/10 [00:00<?, ?it/s]"
      ]
     },
     "metadata": {},
     "output_type": "display_data"
    },
    {
     "name": "stdout",
     "output_type": "stream",
     "text": [
      "[Round2]ratio_krw=0.9049999999999999, ratio_btc=0.05, ratio_eth=0.0, ratio_doge=0.0, ratio_ada=0.04500000000000004, threshold=0.027\n",
      "    HPR=0.21583229967008233 MDD=7.006003494260475\n"
     ]
    },
    {
     "data": {
      "application/vnd.jupyter.widget-view+json": {
       "model_id": "",
       "version_major": 2,
       "version_minor": 0
      },
      "text/plain": [
       "ratio_eth:   0%|          | 0/10 [00:00<?, ?it/s]"
      ]
     },
     "metadata": {},
     "output_type": "display_data"
    },
    {
     "data": {
      "application/vnd.jupyter.widget-view+json": {
       "model_id": "",
       "version_major": 2,
       "version_minor": 0
      },
      "text/plain": [
       "ratio_eth:   0%|          | 0/10 [00:00<?, ?it/s]"
      ]
     },
     "metadata": {},
     "output_type": "display_data"
    },
    {
     "data": {
      "application/vnd.jupyter.widget-view+json": {
       "model_id": "",
       "version_major": 2,
       "version_minor": 0
      },
      "text/plain": [
       "ratio_eth:   0%|          | 0/10 [00:00<?, ?it/s]"
      ]
     },
     "metadata": {},
     "output_type": "display_data"
    },
    {
     "data": {
      "application/vnd.jupyter.widget-view+json": {
       "model_id": "",
       "version_major": 2,
       "version_minor": 0
      },
      "text/plain": [
       "ratio_eth:   0%|          | 0/10 [00:00<?, ?it/s]"
      ]
     },
     "metadata": {},
     "output_type": "display_data"
    },
    {
     "data": {
      "application/vnd.jupyter.widget-view+json": {
       "model_id": "",
       "version_major": 2,
       "version_minor": 0
      },
      "text/plain": [
       "ratio_eth:   0%|          | 0/10 [00:00<?, ?it/s]"
      ]
     },
     "metadata": {},
     "output_type": "display_data"
    },
    {
     "data": {
      "application/vnd.jupyter.widget-view+json": {
       "model_id": "",
       "version_major": 2,
       "version_minor": 0
      },
      "text/plain": [
       "ratio_eth:   0%|          | 0/10 [00:00<?, ?it/s]"
      ]
     },
     "metadata": {},
     "output_type": "display_data"
    },
    {
     "data": {
      "application/vnd.jupyter.widget-view+json": {
       "model_id": "",
       "version_major": 2,
       "version_minor": 0
      },
      "text/plain": [
       "ratio_eth:   0%|          | 0/10 [00:00<?, ?it/s]"
      ]
     },
     "metadata": {},
     "output_type": "display_data"
    },
    {
     "data": {
      "application/vnd.jupyter.widget-view+json": {
       "model_id": "",
       "version_major": 2,
       "version_minor": 0
      },
      "text/plain": [
       "ratio_eth:   0%|          | 0/10 [00:00<?, ?it/s]"
      ]
     },
     "metadata": {},
     "output_type": "display_data"
    },
    {
     "data": {
      "application/vnd.jupyter.widget-view+json": {
       "model_id": "",
       "version_major": 2,
       "version_minor": 0
      },
      "text/plain": [
       "ratio_btc:   0%|          | 0/10 [00:00<?, ?it/s]"
      ]
     },
     "metadata": {},
     "output_type": "display_data"
    },
    {
     "data": {
      "application/vnd.jupyter.widget-view+json": {
       "model_id": "",
       "version_major": 2,
       "version_minor": 0
      },
      "text/plain": [
       "ratio_eth:   0%|          | 0/10 [00:00<?, ?it/s]"
      ]
     },
     "metadata": {},
     "output_type": "display_data"
    },
    {
     "name": "stdout",
     "output_type": "stream",
     "text": [
      "[Round2]ratio_krw=0.8999999999999999, ratio_btc=0.0, ratio_eth=0.0, ratio_doge=0.0, ratio_ada=0.10000000000000009, threshold=0.065\n",
      "    HPR=0.06148890199884072 MDD=8.325995681489186\n",
      "[Round2]ratio_krw=0.8999999999999999, ratio_btc=0.0, ratio_eth=0.0, ratio_doge=0.0, ratio_ada=0.10000000000000009, threshold=0.066\n",
      "    HPR=0.15254360998713246 MDD=8.211581430631771\n",
      "[Round2]ratio_krw=0.8999999999999999, ratio_btc=0.0, ratio_eth=0.0, ratio_doge=0.05, ratio_ada=0.050000000000000044, threshold=0.026000000000000002\n",
      "    HPR=0.025034041697002962 MDD=5.769886762906525\n",
      "[Round2]ratio_krw=0.8999999999999999, ratio_btc=0.0, ratio_eth=0.0, ratio_doge=0.05, ratio_ada=0.050000000000000044, threshold=0.027\n",
      "    HPR=0.20730728375359941 MDD=5.769886762906525\n",
      "[Round2]ratio_krw=0.8999999999999999, ratio_btc=0.0, ratio_eth=0.0, ratio_doge=0.1, ratio_ada=1.1102230246251565e-16, threshold=0.01\n",
      "    HPR=0.02680414925024799 MDD=8.005299793071062\n",
      "[Round2]ratio_krw=0.8999999999999999, ratio_btc=0.0, ratio_eth=0.0, ratio_doge=0.1, ratio_ada=1.1102230246251565e-16, threshold=0.011\n",
      "    HPR=0.12432611822963402 MDD=8.005299793071062\n",
      "[Round2]ratio_krw=0.8999999999999999, ratio_btc=0.0, ratio_eth=0.0, ratio_doge=0.1, ratio_ada=1.1102230246251565e-16, threshold=0.012\n",
      "    HPR=0.32917522769251306 MDD=8.005299793071062\n",
      "[Round2]ratio_krw=0.8999999999999999, ratio_btc=0.0, ratio_eth=0.0, ratio_doge=0.1, ratio_ada=1.1102230246251565e-16, threshold=0.013000000000000001\n",
      "    HPR=0.22383304456852215 MDD=8.005299793071062\n",
      "[Round2]ratio_krw=0.8999999999999999, ratio_btc=0.0, ratio_eth=0.0, ratio_doge=0.1, ratio_ada=1.1102230246251565e-16, threshold=0.014\n",
      "    HPR=0.2107653290992717 MDD=7.935950488026306\n",
      "[Round2]ratio_krw=0.8999999999999999, ratio_btc=0.0, ratio_eth=0.0, ratio_doge=0.1, ratio_ada=1.1102230246251565e-16, threshold=0.015\n",
      "    HPR=0.567757514288525 MDD=7.692412460393013\n",
      "[Round2]ratio_krw=0.8999999999999999, ratio_btc=0.0, ratio_eth=0.0, ratio_doge=0.1, ratio_ada=1.1102230246251565e-16, threshold=0.019\n",
      "    HPR=0.776719598412634 MDD=7.719705690863968\n",
      "[Round2]ratio_krw=0.8999999999999999, ratio_btc=0.0, ratio_eth=0.0, ratio_doge=0.1, ratio_ada=1.1102230246251565e-16, threshold=0.02\n",
      "    HPR=0.776719598412634 MDD=7.719705690863968\n",
      "[Round2]ratio_krw=0.8999999999999999, ratio_btc=0.0, ratio_eth=0.0, ratio_doge=0.1, ratio_ada=1.1102230246251565e-16, threshold=0.021\n",
      "    HPR=0.8541804403284559 MDD=7.701320527669397\n",
      "[Round2]ratio_krw=0.8999999999999999, ratio_btc=0.0, ratio_eth=0.0, ratio_doge=0.1, ratio_ada=1.1102230246251565e-16, threshold=0.022\n",
      "    HPR=0.8424440330120131 MDD=7.63859543783102\n",
      "[Round2]ratio_krw=0.8999999999999999, ratio_btc=0.0, ratio_eth=0.0, ratio_doge=0.1, ratio_ada=1.1102230246251565e-16, threshold=0.023\n",
      "    HPR=0.8424440330120131 MDD=7.63859543783102\n",
      "[Round2]ratio_krw=0.8999999999999999, ratio_btc=0.0, ratio_eth=0.0, ratio_doge=0.1, ratio_ada=1.1102230246251565e-16, threshold=0.024\n",
      "    HPR=0.3166813784589051 MDD=7.63859543783102\n",
      "[Round2]ratio_krw=0.8999999999999999, ratio_btc=0.0, ratio_eth=0.0, ratio_doge=0.1, ratio_ada=1.1102230246251565e-16, threshold=0.027\n",
      "    HPR=1.0613521915956659 MDD=7.308851462155886\n",
      "[Round2]ratio_krw=0.8999999999999999, ratio_btc=0.0, ratio_eth=0.0, ratio_doge=0.1, ratio_ada=1.1102230246251565e-16, threshold=0.028\n",
      "    HPR=1.8597849317790072 MDD=7.308851462155886\n",
      "[Round2]ratio_krw=0.8999999999999999, ratio_btc=0.0, ratio_eth=0.0, ratio_doge=0.1, ratio_ada=1.1102230246251565e-16, threshold=0.029\n",
      "    HPR=1.8597849317790072 MDD=7.308851462155886\n",
      "[Round2]ratio_krw=0.8999999999999999, ratio_btc=0.0, ratio_eth=0.0, ratio_doge=0.1, ratio_ada=1.1102230246251565e-16, threshold=0.03\n",
      "    HPR=0.12172184715095735 MDD=7.308851462155886\n",
      "[Round2]ratio_krw=0.8999999999999999, ratio_btc=0.0, ratio_eth=0.0, ratio_doge=0.1, ratio_ada=1.1102230246251565e-16, threshold=0.031\n",
      "    HPR=0.10325385858758196 MDD=7.31249574916392\n",
      "[Round2]ratio_krw=0.8999999999999999, ratio_btc=0.0, ratio_eth=0.0, ratio_doge=0.1, ratio_ada=1.1102230246251565e-16, threshold=0.032\n",
      "    HPR=0.0594669462669728 MDD=7.31249574916392\n",
      "[Round2]ratio_krw=0.8999999999999999, ratio_btc=0.0, ratio_eth=0.0, ratio_doge=0.1, ratio_ada=1.1102230246251565e-16, threshold=0.039\n",
      "    HPR=0.4818465022547791 MDD=7.1262708498201865\n",
      "[Round2]ratio_krw=0.8999999999999999, ratio_btc=0.0, ratio_eth=0.0, ratio_doge=0.1, ratio_ada=1.1102230246251565e-16, threshold=0.04\n",
      "    HPR=0.4818465022547791 MDD=7.1262708498201865\n",
      "[Round2]ratio_krw=0.8999999999999999, ratio_btc=0.0, ratio_eth=0.0, ratio_doge=0.1, ratio_ada=1.1102230246251565e-16, threshold=0.041\n",
      "    HPR=0.4818465022547791 MDD=7.1262708498201865\n",
      "[Round2]ratio_krw=0.8999999999999999, ratio_btc=0.0, ratio_eth=0.0, ratio_doge=0.1, ratio_ada=1.1102230246251565e-16, threshold=0.042\n",
      "    HPR=0.4818465022547791 MDD=7.1262708498201865\n",
      "[Round2]ratio_krw=0.8999999999999999, ratio_btc=0.0, ratio_eth=0.0, ratio_doge=0.1, ratio_ada=1.1102230246251565e-16, threshold=0.043000000000000003\n",
      "    HPR=2.0109342953518405 MDD=6.878186393506322\n",
      "[Round2]ratio_krw=0.8999999999999999, ratio_btc=0.0, ratio_eth=0.0, ratio_doge=0.1, ratio_ada=1.1102230246251565e-16, threshold=0.044\n",
      "    HPR=2.0109342953518405 MDD=6.878186393506322\n",
      "[Round2]ratio_krw=0.8999999999999999, ratio_btc=0.0, ratio_eth=0.0, ratio_doge=0.1, ratio_ada=1.1102230246251565e-16, threshold=0.045\n",
      "    HPR=2.2115524870063963 MDD=6.878186393506322\n",
      "[Round2]ratio_krw=0.8999999999999999, ratio_btc=0.0, ratio_eth=0.0, ratio_doge=0.1, ratio_ada=1.1102230246251565e-16, threshold=0.046\n",
      "    HPR=2.2115524870063963 MDD=6.878186393506322\n",
      "[Round2]ratio_krw=0.8999999999999999, ratio_btc=0.0, ratio_eth=0.0, ratio_doge=0.1, ratio_ada=1.1102230246251565e-16, threshold=0.047\n",
      "    HPR=1.1483349928107733 MDD=6.878186393506322\n",
      "[Round2]ratio_krw=0.8999999999999999, ratio_btc=0.0, ratio_eth=0.0, ratio_doge=0.1, ratio_ada=1.1102230246251565e-16, threshold=0.048\n",
      "    HPR=3.181354166472339 MDD=6.228298121395426\n",
      "[Round2]ratio_krw=0.8999999999999999, ratio_btc=0.0, ratio_eth=0.0, ratio_doge=0.1, ratio_ada=1.1102230246251565e-16, threshold=0.049\n",
      "    HPR=3.181354166472339 MDD=6.228298121395426\n",
      "[Round2]ratio_krw=0.8999999999999999, ratio_btc=0.0, ratio_eth=0.0, ratio_doge=0.1, ratio_ada=1.1102230246251565e-16, threshold=0.05\n",
      "    HPR=3.181354166472339 MDD=6.228298121395426\n",
      "[Round2]ratio_krw=0.8999999999999999, ratio_btc=0.0, ratio_eth=0.0, ratio_doge=0.1, ratio_ada=1.1102230246251565e-16, threshold=0.051000000000000004\n",
      "    HPR=3.5135424318384123 MDD=6.228298121395426\n",
      "[Round2]ratio_krw=0.8999999999999999, ratio_btc=0.0, ratio_eth=0.0, ratio_doge=0.1, ratio_ada=1.1102230246251565e-16, threshold=0.052000000000000005\n",
      "    HPR=3.5135424318384123 MDD=6.228298121395426\n",
      "[Round2]ratio_krw=0.8999999999999999, ratio_btc=0.0, ratio_eth=0.0, ratio_doge=0.1, ratio_ada=1.1102230246251565e-16, threshold=0.053\n",
      "    HPR=3.7402216415222567 MDD=6.228298121395426\n",
      "[Round2]ratio_krw=0.8999999999999999, ratio_btc=0.0, ratio_eth=0.0, ratio_doge=0.1, ratio_ada=1.1102230246251565e-16, threshold=0.054\n",
      "    HPR=2.4943947143649225 MDD=6.228298121395426\n",
      "[Round2]ratio_krw=0.8999999999999999, ratio_btc=0.0, ratio_eth=0.0, ratio_doge=0.1, ratio_ada=1.1102230246251565e-16, threshold=0.055\n",
      "    HPR=2.590523322429217 MDD=6.179379590289044\n",
      "[Round2]ratio_krw=0.8999999999999999, ratio_btc=0.0, ratio_eth=0.05, ratio_doge=0.0, ratio_ada=0.050000000000000044, threshold=0.03\n",
      "    HPR=0.1020448719394107 MDD=6.0764065894257255\n",
      "[Round2]ratio_krw=0.8999999999999999, ratio_btc=0.0, ratio_eth=0.05, ratio_doge=0.05, ratio_ada=0.0, threshold=0.01\n",
      "    HPR=0.07158083426401785 MDD=8.299392359512298\n",
      "[Round2]ratio_krw=0.8999999999999999, ratio_btc=0.0, ratio_eth=0.05, ratio_doge=0.05, ratio_ada=0.0, threshold=0.011\n",
      "    HPR=0.24282354227327385 MDD=8.260613320857681\n",
      "[Round2]ratio_krw=0.8999999999999999, ratio_btc=0.0, ratio_eth=0.05, ratio_doge=0.05, ratio_ada=0.0, threshold=0.012\n",
      "    HPR=0.19760662910932592 MDD=8.130521927021585\n",
      "[Round2]ratio_krw=0.8999999999999999, ratio_btc=0.0, ratio_eth=0.05, ratio_doge=0.05, ratio_ada=0.0, threshold=0.014\n",
      "    HPR=0.43588701428327603 MDD=7.966966385888849\n",
      "[Round2]ratio_krw=0.8999999999999999, ratio_btc=0.0, ratio_eth=0.05, ratio_doge=0.05, ratio_ada=0.0, threshold=0.015\n",
      "    HPR=0.2850147456277874 MDD=7.855275098860518\n",
      "[Round2]ratio_krw=0.8999999999999999, ratio_btc=0.0, ratio_eth=0.05, ratio_doge=0.05, ratio_ada=0.0, threshold=0.022\n",
      "    HPR=0.34245700942396873 MDD=7.477223074360246\n",
      "[Round2]ratio_krw=0.8999999999999999, ratio_btc=0.0, ratio_eth=0.05, ratio_doge=0.05, ratio_ada=0.0, threshold=0.023\n",
      "    HPR=1.113653937245207 MDD=7.257021170678958\n",
      "[Round2]ratio_krw=0.8999999999999999, ratio_btc=0.0, ratio_eth=0.05, ratio_doge=0.05, ratio_ada=0.0, threshold=0.024\n",
      "    HPR=1.2935176003919358 MDD=6.934059593515163\n",
      "[Round2]ratio_krw=0.8999999999999999, ratio_btc=0.0, ratio_eth=0.05, ratio_doge=0.05, ratio_ada=0.0, threshold=0.025\n",
      "    HPR=0.7893366489552633 MDD=6.934059593515163\n",
      "[Round2]ratio_krw=0.8999999999999999, ratio_btc=0.0, ratio_eth=0.05, ratio_doge=0.05, ratio_ada=0.0, threshold=0.026000000000000002\n",
      "    HPR=1.9639367311421685 MDD=6.934059593515163\n",
      "[Round2]ratio_krw=0.8999999999999999, ratio_btc=0.0, ratio_eth=0.05, ratio_doge=0.05, ratio_ada=0.0, threshold=0.027\n",
      "    HPR=2.368032574801404 MDD=6.701693374658349\n",
      "[Round2]ratio_krw=0.8999999999999999, ratio_btc=0.0, ratio_eth=0.1, ratio_doge=0.0, ratio_ada=1.1102230246251565e-16, threshold=0.048\n",
      "    HPR=0.01564271967848807 MDD=7.640477790000169\n",
      "[Round2]ratio_krw=0.8999999999999999, ratio_btc=0.0, ratio_eth=0.1, ratio_doge=0.0, ratio_ada=1.1102230246251565e-16, threshold=0.049\n",
      "    HPR=0.01564271967848807 MDD=7.640477790000169\n",
      "[Round2]ratio_krw=0.8999999999999999, ratio_btc=0.0, ratio_eth=0.1, ratio_doge=0.0, ratio_ada=1.1102230246251565e-16, threshold=0.05\n",
      "    HPR=0.22963036638707912 MDD=7.640477790000169\n",
      "[Round2]ratio_krw=0.8999999999999999, ratio_btc=0.0, ratio_eth=0.1, ratio_doge=0.0, ratio_ada=1.1102230246251565e-16, threshold=0.051000000000000004\n",
      "    HPR=0.22963036638707912 MDD=7.640477790000169\n",
      "[Round2]ratio_krw=0.8999999999999999, ratio_btc=0.0, ratio_eth=0.1, ratio_doge=0.0, ratio_ada=1.1102230246251565e-16, threshold=0.052000000000000005\n",
      "    HPR=0.22963036638707912 MDD=7.640477790000169\n",
      "[Round2]ratio_krw=0.8999999999999999, ratio_btc=0.0, ratio_eth=0.1, ratio_doge=0.0, ratio_ada=1.1102230246251565e-16, threshold=0.053\n",
      "    HPR=0.22963036638707912 MDD=7.640477790000169\n",
      "[Round2]ratio_krw=0.8999999999999999, ratio_btc=0.0, ratio_eth=0.1, ratio_doge=0.0, ratio_ada=1.1102230246251565e-16, threshold=0.054\n",
      "    HPR=0.9387454151882801 MDD=7.1725502776208945\n",
      "[Round2]ratio_krw=0.8999999999999999, ratio_btc=0.0, ratio_eth=0.1, ratio_doge=0.0, ratio_ada=1.1102230246251565e-16, threshold=0.055\n",
      "    HPR=0.9387454151882801 MDD=7.1725502776208945\n",
      "[Round2]ratio_krw=0.8999999999999999, ratio_btc=0.0, ratio_eth=0.1, ratio_doge=0.0, ratio_ada=1.1102230246251565e-16, threshold=0.056\n",
      "    HPR=0.9387454151882801 MDD=7.1725502776208945\n",
      "[Round2]ratio_krw=0.8999999999999999, ratio_btc=0.0, ratio_eth=0.1, ratio_doge=0.0, ratio_ada=1.1102230246251565e-16, threshold=0.057\n",
      "    HPR=1.1664365129677723 MDD=7.1725502776208945\n",
      "[Round2]ratio_krw=0.8999999999999999, ratio_btc=0.0, ratio_eth=0.1, ratio_doge=0.0, ratio_ada=1.1102230246251565e-16, threshold=0.058\n",
      "    HPR=1.1664365129677723 MDD=7.1725502776208945\n",
      "[Round2]ratio_krw=0.8999999999999999, ratio_btc=0.0, ratio_eth=0.1, ratio_doge=0.0, ratio_ada=1.1102230246251565e-16, threshold=0.059000000000000004\n",
      "    HPR=1.580625522675061 MDD=6.799349915812917\n",
      "[Round2]ratio_krw=0.8999999999999999, ratio_btc=0.0, ratio_eth=0.1, ratio_doge=0.0, ratio_ada=1.1102230246251565e-16, threshold=0.06\n",
      "    HPR=1.580625522675061 MDD=6.799349915812917\n"
     ]
    },
    {
     "data": {
      "application/vnd.jupyter.widget-view+json": {
       "model_id": "",
       "version_major": 2,
       "version_minor": 0
      },
      "text/plain": [
       "ratio_eth:   0%|          | 0/10 [00:00<?, ?it/s]"
      ]
     },
     "metadata": {},
     "output_type": "display_data"
    },
    {
     "name": "stdout",
     "output_type": "stream",
     "text": [
      "[Round2]ratio_krw=0.8999999999999999, ratio_btc=0.05, ratio_eth=0.0, ratio_doge=0.05, ratio_ada=0.0, threshold=0.01\n",
      "    HPR=0.022977851312955266 MDD=6.937846798744989\n",
      "[Round2]ratio_krw=0.8999999999999999, ratio_btc=0.05, ratio_eth=0.0, ratio_doge=0.05, ratio_ada=0.0, threshold=0.012\n",
      "    HPR=0.1328270469192594 MDD=6.771357408822003\n",
      "[Round2]ratio_krw=0.8999999999999999, ratio_btc=0.05, ratio_eth=0.0, ratio_doge=0.05, ratio_ada=0.0, threshold=0.014\n",
      "    HPR=0.6709649810399787 MDD=6.506569474449625\n",
      "[Round2]ratio_krw=0.8999999999999999, ratio_btc=0.05, ratio_eth=0.0, ratio_doge=0.05, ratio_ada=0.0, threshold=0.015\n",
      "    HPR=0.29726521917394777 MDD=6.506569474449625\n",
      "[Round2]ratio_krw=0.8999999999999999, ratio_btc=0.05, ratio_eth=0.0, ratio_doge=0.05, ratio_ada=0.0, threshold=0.02\n",
      "    HPR=0.21264201459909593 MDD=6.294846350893227\n",
      "[Round2]ratio_krw=0.8999999999999999, ratio_btc=0.05, ratio_eth=0.0, ratio_doge=0.05, ratio_ada=0.0, threshold=0.021\n",
      "    HPR=0.21264201459909593 MDD=6.294846350893227\n",
      "[Round2]ratio_krw=0.8999999999999999, ratio_btc=0.05, ratio_eth=0.0, ratio_doge=0.05, ratio_ada=0.0, threshold=0.022\n",
      "    HPR=1.2880925885196737 MDD=6.0315385524461504\n",
      "[Round2]ratio_krw=0.8999999999999999, ratio_btc=0.05, ratio_eth=0.0, ratio_doge=0.05, ratio_ada=0.0, threshold=0.023\n",
      "    HPR=1.7967809759425357 MDD=6.0315385524461504\n",
      "[Round2]ratio_krw=0.8999999999999999, ratio_btc=0.05, ratio_eth=0.0, ratio_doge=0.05, ratio_ada=0.0, threshold=0.024\n",
      "    HPR=1.270066304751838 MDD=6.0315385524461504\n",
      "[Round2]ratio_krw=0.8999999999999999, ratio_btc=0.05, ratio_eth=0.0, ratio_doge=0.05, ratio_ada=0.0, threshold=0.025\n",
      "    HPR=1.1599718750006316 MDD=5.698785526697455\n",
      "[Round2]ratio_krw=0.8999999999999999, ratio_btc=0.05, ratio_eth=0.0, ratio_doge=0.05, ratio_ada=0.0, threshold=0.026000000000000002\n",
      "    HPR=2.420389642785703 MDD=5.698785526697455\n",
      "[Round2]ratio_krw=0.8999999999999999, ratio_btc=0.05, ratio_eth=0.0, ratio_doge=0.05, ratio_ada=0.0, threshold=0.027\n",
      "    HPR=2.704200577659055 MDD=5.698785526697455\n",
      "[Round2]ratio_krw=0.8999999999999999, ratio_btc=0.05, ratio_eth=0.05, ratio_doge=0.0, ratio_ada=0.0, threshold=0.023\n",
      "    HPR=0.4561946894158897 MDD=6.412008903157315\n",
      "[Round2]ratio_krw=0.8999999999999999, ratio_btc=0.05, ratio_eth=0.05, ratio_doge=0.0, ratio_ada=0.0, threshold=0.024\n",
      "    HPR=0.4561946894158897 MDD=6.412008903157315\n",
      "[Round2]ratio_krw=0.8999999999999999, ratio_btc=0.05, ratio_eth=0.05, ratio_doge=0.0, ratio_ada=0.0, threshold=0.025\n",
      "    HPR=0.4561946894158897 MDD=6.412008903157315\n",
      "[Round2]ratio_krw=0.8999999999999999, ratio_btc=0.05, ratio_eth=0.05, ratio_doge=0.0, ratio_ada=0.0, threshold=0.026000000000000002\n",
      "    HPR=0.6094903637770432 MDD=6.412008903157315\n",
      "[Round2]ratio_krw=0.8999999999999999, ratio_btc=0.05, ratio_eth=0.05, ratio_doge=0.0, ratio_ada=0.0, threshold=0.027\n",
      "    HPR=1.2773023521903015 MDD=6.173891532342503\n"
     ]
    },
    {
     "data": {
      "application/vnd.jupyter.widget-view+json": {
       "model_id": "",
       "version_major": 2,
       "version_minor": 0
      },
      "text/plain": [
       "ratio_eth:   0%|          | 0/10 [00:00<?, ?it/s]"
      ]
     },
     "metadata": {},
     "output_type": "display_data"
    },
    {
     "name": "stdout",
     "output_type": "stream",
     "text": [
      "[Round2]ratio_krw=0.8999999999999999, ratio_btc=0.1, ratio_eth=0.0, ratio_doge=0.0, ratio_ada=1.1102230246251565e-16, threshold=0.024\n",
      "    HPR=0.07527166960679121 MDD=6.774876577462793\n",
      "[Round2]ratio_krw=0.8999999999999999, ratio_btc=0.1, ratio_eth=0.0, ratio_doge=0.0, ratio_ada=1.1102230246251565e-16, threshold=0.025\n",
      "    HPR=0.07527166960679121 MDD=6.774876577462793\n",
      "[Round2]ratio_krw=0.8999999999999999, ratio_btc=0.1, ratio_eth=0.0, ratio_doge=0.0, ratio_ada=1.1102230246251565e-16, threshold=0.043000000000000003\n",
      "    HPR=0.35999227013507884 MDD=6.696824857075192\n",
      "[Round2]ratio_krw=0.8999999999999999, ratio_btc=0.1, ratio_eth=0.0, ratio_doge=0.0, ratio_ada=1.1102230246251565e-16, threshold=0.044\n",
      "    HPR=0.35999227013507884 MDD=6.696824857075192\n",
      "[Round2]ratio_krw=0.8999999999999999, ratio_btc=0.1, ratio_eth=0.0, ratio_doge=0.0, ratio_ada=1.1102230246251565e-16, threshold=0.045\n",
      "    HPR=0.35999227013507884 MDD=6.696824857075192\n",
      "[Round2]ratio_krw=0.8999999999999999, ratio_btc=0.1, ratio_eth=0.0, ratio_doge=0.0, ratio_ada=1.1102230246251565e-16, threshold=0.046\n",
      "    HPR=0.35999227013507884 MDD=6.696824857075192\n",
      "[Round2]ratio_krw=0.8999999999999999, ratio_btc=0.1, ratio_eth=0.0, ratio_doge=0.0, ratio_ada=1.1102230246251565e-16, threshold=0.047\n",
      "    HPR=0.9109062686721847 MDD=6.379159571470337\n",
      "[Round2]ratio_krw=0.8999999999999999, ratio_btc=0.1, ratio_eth=0.0, ratio_doge=0.0, ratio_ada=1.1102230246251565e-16, threshold=0.048\n",
      "    HPR=0.9109062686721847 MDD=6.379159571470337\n",
      "[Round2]ratio_krw=0.8999999999999999, ratio_btc=0.1, ratio_eth=0.0, ratio_doge=0.0, ratio_ada=1.1102230246251565e-16, threshold=0.049\n",
      "    HPR=0.9109062686721847 MDD=6.379159571470337\n",
      "[Round2]ratio_krw=0.8999999999999999, ratio_btc=0.1, ratio_eth=0.0, ratio_doge=0.0, ratio_ada=1.1102230246251565e-16, threshold=0.05\n",
      "    HPR=1.037748476690492 MDD=6.379159571470337\n",
      "[Round2]ratio_krw=0.8999999999999999, ratio_btc=0.1, ratio_eth=0.0, ratio_doge=0.0, ratio_ada=1.1102230246251565e-16, threshold=0.051000000000000004\n",
      "    HPR=1.0974051136467988 MDD=6.303173361478315\n",
      "[Round2]ratio_krw=0.8999999999999999, ratio_btc=0.1, ratio_eth=0.0, ratio_doge=0.0, ratio_ada=1.1102230246251565e-16, threshold=0.052000000000000005\n",
      "    HPR=1.2346746342434267 MDD=6.246256164075739\n",
      "[Round2]ratio_krw=0.8999999999999999, ratio_btc=0.1, ratio_eth=0.0, ratio_doge=0.0, ratio_ada=1.1102230246251565e-16, threshold=0.053\n",
      "    HPR=1.5163607227913323 MDD=6.127085777197838\n",
      "[Round2]ratio_krw=0.8999999999999999, ratio_btc=0.1, ratio_eth=0.0, ratio_doge=0.0, ratio_ada=1.1102230246251565e-16, threshold=0.054\n",
      "    HPR=1.6900506292680584 MDD=6.052157257752664\n"
     ]
    },
    {
     "data": {
      "application/vnd.jupyter.widget-view+json": {
       "model_id": "",
       "version_major": 2,
       "version_minor": 0
      },
      "text/plain": [
       "ratio_eth:   0%|          | 0/10 [00:00<?, ?it/s]"
      ]
     },
     "metadata": {},
     "output_type": "display_data"
    },
    {
     "data": {
      "application/vnd.jupyter.widget-view+json": {
       "model_id": "",
       "version_major": 2,
       "version_minor": 0
      },
      "text/plain": [
       "ratio_eth:   0%|          | 0/10 [00:00<?, ?it/s]"
      ]
     },
     "metadata": {},
     "output_type": "display_data"
    },
    {
     "data": {
      "application/vnd.jupyter.widget-view+json": {
       "model_id": "",
       "version_major": 2,
       "version_minor": 0
      },
      "text/plain": [
       "ratio_eth:   0%|          | 0/10 [00:00<?, ?it/s]"
      ]
     },
     "metadata": {},
     "output_type": "display_data"
    },
    {
     "data": {
      "application/vnd.jupyter.widget-view+json": {
       "model_id": "",
       "version_major": 2,
       "version_minor": 0
      },
      "text/plain": [
       "ratio_eth:   0%|          | 0/10 [00:00<?, ?it/s]"
      ]
     },
     "metadata": {},
     "output_type": "display_data"
    },
    {
     "data": {
      "application/vnd.jupyter.widget-view+json": {
       "model_id": "",
       "version_major": 2,
       "version_minor": 0
      },
      "text/plain": [
       "ratio_eth:   0%|          | 0/10 [00:00<?, ?it/s]"
      ]
     },
     "metadata": {},
     "output_type": "display_data"
    },
    {
     "data": {
      "application/vnd.jupyter.widget-view+json": {
       "model_id": "",
       "version_major": 2,
       "version_minor": 0
      },
      "text/plain": [
       "ratio_eth:   0%|          | 0/10 [00:00<?, ?it/s]"
      ]
     },
     "metadata": {},
     "output_type": "display_data"
    },
    {
     "data": {
      "application/vnd.jupyter.widget-view+json": {
       "model_id": "",
       "version_major": 2,
       "version_minor": 0
      },
      "text/plain": [
       "ratio_eth:   0%|          | 0/10 [00:00<?, ?it/s]"
      ]
     },
     "metadata": {},
     "output_type": "display_data"
    },
    {
     "data": {
      "application/vnd.jupyter.widget-view+json": {
       "model_id": "06dabb707bdb4269a0c53345a4c11d1b",
       "version_major": 2,
       "version_minor": 0
      },
      "text/plain": [
       "ratio_btc:   0%|          | 0/10 [00:00<?, ?it/s]"
      ]
     },
     "metadata": {},
     "output_type": "display_data"
    },
    {
     "data": {
      "application/vnd.jupyter.widget-view+json": {
       "model_id": "aa220134dd814edb9fbd92bb0e469131",
       "version_major": 2,
       "version_minor": 0
      },
      "text/plain": [
       "ratio_eth:   0%|          | 0/10 [00:00<?, ?it/s]"
      ]
     },
     "metadata": {},
     "output_type": "display_data"
    },
    {
     "name": "stdout",
     "output_type": "stream",
     "text": [
      "[Round2]ratio_krw=0.8949999999999999, ratio_btc=0.0, ratio_eth=0.0, ratio_doge=0.0, ratio_ada=0.1050000000000001, threshold=0.068\n",
      "    HPR=0.03592709222848267 MDD=8.73540900116329\n",
      "[Round2]ratio_krw=0.8949999999999999, ratio_btc=0.0, ratio_eth=0.0, ratio_doge=0.0, ratio_ada=0.1050000000000001, threshold=0.069\n",
      "    HPR=0.03592709222848267 MDD=8.73540900116329\n"
     ]
    }
   ],
   "source": [
    "from tqdm.notebook import tqdm\n",
    "from collections import deque\n",
    "\n",
    "results_10_20 = deque()\n",
    "results_less_10 = deque()\n",
    "\n",
    "ratio_krw_range = np.arange(1, 0.8, -0.005)\n",
    "ratio_btc_range = np.arange(0, 0.5, 0.05)\n",
    "ratio_eth_range = np.arange(0, 0.5, 0.05)\n",
    "ratio_doge_range = np.arange(0, 0.5, 0.05)\n",
    "#ratio_ada_range = np.arange(0, 0.55, 0.05)\n",
    "threshold_range = np.arange(0, 0.2, 0.001)\n",
    "\n",
    "total_iterations = len(ratio_krw_range) * len(ratio_btc_range) #* len(ratio_eth_range) * len(ratio_doge_range) * len(threshold_range)\n",
    "\n",
    "best_hpr_10_20 = 0.0\n",
    "best_ratios_10_20 = {}\n",
    "max_hpr_10_20 = 0.0\n",
    "best_ratio_10_20 = None\n",
    "\n",
    "best_hpr_less_10 = 0.0\n",
    "best_ratios_less_10 = {}\n",
    "max_hpr_less_10 = 0.0\n",
    "best_ratio_less_10 = None\n",
    "\n",
    "ratio_krw_tqdm = tqdm(ratio_krw_range, desc='ratio_krw', mininterval=2, maxinterval=5, leave=True)\n",
    "for ratio_krw in ratio_krw_tqdm:\n",
    "    ratio_krw_tqdm.set_description(f'ratio_krw = {ratio_krw}')\n",
    "    ratio_btc_tqdm = tqdm(ratio_btc_range,  desc='ratio_btc', mininterval=2, maxinterval=5, leave=False)\n",
    "    for ratio_btc in ratio_btc_tqdm:\n",
    "        ratio_btc_tqdm.set_description(f'ratio_btc = {ratio_btc}')\n",
    "        ratio_eth_tqdm = tqdm(ratio_eth_range, desc='ratio_eth', mininterval=2, maxinterval=5, position=2, leave=False)\n",
    "        for ratio_eth in ratio_eth_tqdm:\n",
    "            #ratio_eth_tqdm.set_description(f'ratio_eth = {ratio_eth}')\n",
    "            #ratio_doge_tqdm = tqdm(ratio_doge_range, desc='ratio_doge', mininterval=2, maxinterval=5, position=3, leave=False)\n",
    "            for ratio_doge in ratio_doge_range:\n",
    "                #ratio_doge_tqdm.set_description(f'ratio_doge = {ratio_doge}')\n",
    "                ratio_ada = 1 - (ratio_krw + ratio_btc + ratio_eth + ratio_doge)\n",
    "                total_ratio = ratio_krw + ratio_btc + ratio_eth + ratio_doge + ratio_ada\n",
    "                if abs(total_ratio - 1) < 1e-6 and ratio_ada >= 0:\n",
    "                    #ratio_threshold_tqdm = tqdm(threshold_range, desc='threshold', mininterval=2, maxinterval=5, position=4, leave=False)\n",
    "                    for threshold in threshold_range:\n",
    "                        #ratio_threshold_tqdm.set_description(f'threshold = {threshold}')\n",
    "                        rebalancing(df, ratio_krw, ratio_btc, ratio_eth, ratio_doge, ratio_ada, threshold)\n",
    "                        hpr, mdd = trading_helper.check_performance_rebal(df)\n",
    "                        if 0.10 <= mdd <= 0.20 and hpr > 0:\n",
    "                            if hpr > max_hpr_10_20:\n",
    "                                max_hpr_10_20 = hpr\n",
    "                                best_ratio_10_20 = (ratio_krw, ratio_btc, ratio_eth, ratio_doge, ratio_ada, threshold)\n",
    "                            print(f'[Round1]ratio_krw={ratio_krw}, ratio_btc={ratio_btc}, ratio_eth={ratio_eth}, ratio_doge={ratio_doge}, ratio_ada={ratio_ada}, threshold={threshold}')\n",
    "                            print( f'    HPR={hpr*100} MDD={mdd*100}' )\n",
    "                            results_10_20.append((ratio_krw, ratio_btc, ratio_eth, ratio_doge, ratio_ada, threshold, hpr, mdd))\n",
    "                            best_ratios_10_20[(ratio_krw, ratio_btc, ratio_eth, ratio_doge, ratio_ada, threshold)] = hpr\n",
    "                        elif mdd <= 0.10 and hpr > 0:\n",
    "                            if hpr > max_hpr_less_10:\n",
    "                                max_hpr_less_10 = hpr\n",
    "                                best_ratio_less_10 = (ratio_krw, ratio_btc, ratio_eth, ratio_doge, ratio_ada, threshold)\n",
    "                            print(f'[Round2]ratio_krw={ratio_krw}, ratio_btc={ratio_btc}, ratio_eth={ratio_eth}, ratio_doge={ratio_doge}, ratio_ada={ratio_ada}, threshold={threshold}')\n",
    "                            print( f'    HPR={hpr*100} MDD={mdd*100}' )\n",
    "                            results_less_10.append((ratio_krw, ratio_btc, ratio_eth, ratio_doge, ratio_ada, threshold, hpr, mdd))\n",
    "                            best_ratios_less_10[(ratio_krw, ratio_btc, ratio_eth, ratio_doge, ratio_ada, threshold)] = hpr"
   ]
  },
  {
   "cell_type": "code",
   "execution_count": null,
   "id": "b88a0487-f84c-4807-8c7a-b5e705a252f0",
   "metadata": {},
   "outputs": [],
   "source": []
  },
  {
   "cell_type": "code",
   "execution_count": null,
   "id": "9ca83aeb-73d9-4886-80a3-ff7566b6aac8",
   "metadata": {},
   "outputs": [],
   "source": [
    "# 가장 높은 HPR 출력\n",
    "print(\"Best HPR (MDD 10-20):\")\n",
    "print(\"Ratios:\", best_ratio_10_20)\n",
    "print(\"HPR:\", max_hpr_10_20)\n",
    "print()\n",
    "\n",
    "print(\"Best HPR (MDD < 10):\")\n",
    "print(\"Ratios:\", best_ratio_less_10)\n",
    "print(\"HPR:\", max_hpr_less_10)\n",
    "print()"
   ]
  },
  {
   "cell_type": "code",
   "execution_count": null,
   "id": "efab2df9-ae48-4713-b975-d64b5ee1f7c7",
   "metadata": {},
   "outputs": [
    {
     "name": "stdout",
     "output_type": "stream",
     "text": [
      "HPR=27.47012048192761 MDD=12.030696193351357\n"
     ]
    }
   ],
   "source": [
    "rebalancing(df, 1.3, 0.1, 0.1, 0.1, -0.6000000000000003, 0.5)\n",
    "hpr, mdd = trading_helper.check_performance_rebal(df)\n",
    "print( f'HPR={hpr*100} MDD={mdd*100}' )"
   ]
  },
  {
   "cell_type": "code",
   "execution_count": null,
   "id": "2609c3cd-e82c-458f-80ee-fbbf95cbb943",
   "metadata": {},
   "outputs": [],
   "source": [
    "rebalancing(df, 1.3, 0.0, 0.05, 0.1, -0.4500000000000002, 0.35000000000000003)\n",
    "s7 = df['value'].copy()\n",
    "hpr, mdd = trading_helper.check_performance_rebal(df)\n",
    "print( f'HPR={hpr*100} MDD={mdd*100}' )\n"
   ]
  },
  {
   "cell_type": "code",
   "execution_count": null,
   "id": "7c8632eb-9d1e-489e-adad-c94678fc4df7",
   "metadata": {},
   "outputs": [],
   "source": []
  },
  {
   "cell_type": "code",
   "execution_count": null,
   "id": "11dde556-21ee-43be-a245-8c3538c35bf4",
   "metadata": {},
   "outputs": [],
   "source": [
    "# Print and store the results\n",
    "print(\"Best HPRs (MDD 10-20):\")\n",
    "for ratios, hpr in best_ratios_10_20.items():\n",
    "    print(\"Ratios:\", ratios)\n",
    "    print(\"HPR:\", hpr)\n",
    "    print()\n",
    "\n",
    "print(\"Best HPRs (MDD < 10):\")\n",
    "for ratios, hpr in best_ratios_less_10.items():\n",
    "    print(\"Ratios:\", ratios)\n",
    "    print(\"HPR:\", hpr)\n",
    "    print()"
   ]
  },
  {
   "cell_type": "code",
   "execution_count": null,
   "id": "863cb856-0f1b-4c7c-892c-a3b75c96fa27",
   "metadata": {},
   "outputs": [],
   "source": [
    "list(results_10_20)"
   ]
  },
  {
   "cell_type": "code",
   "execution_count": null,
   "id": "02b3225f-52e5-4eeb-aec3-4873824a3f0f",
   "metadata": {},
   "outputs": [],
   "source": [
    "list(results_less_10)"
   ]
  },
  {
   "cell_type": "code",
   "execution_count": null,
   "id": "9b21ec05-8194-4982-ae46-5cdc17cb101b",
   "metadata": {},
   "outputs": [],
   "source": [
    "# Sort and print the best ratios (HPR 10-20)\n",
    "sorted_ratios_10_20 = sorted(best_ratios_10_20.items(), key=lambda x: x[1], reverse=True)\n",
    "print(\"Best Ratios (HPR 10-20):\")\n",
    "for ratios, hpr in sorted_ratios_10_20:\n",
    "    print(\"Ratios:\", ratios)\n",
    "    print(\"HPR:\", hpr)\n",
    "    print()\n",
    "\n",
    "# Sort and print the best ratios (MDD < 10)\n",
    "sorted_ratios_less_10 = sorted(best_ratios_less_10.items(), key=lambda x: x[1], reverse=True)\n",
    "print(\"Best Ratios (MDD < 10):\")\n",
    "for ratios, hpr in sorted_ratios_less_10:\n",
    "    print(\"Ratios:\", ratios)\n",
    "    print(\"HPR:\", hpr)\n",
    "    print()\n"
   ]
  },
  {
   "cell_type": "code",
   "execution_count": null,
   "id": "8c8734f4-5857-417f-95de-9cc7928afb48",
   "metadata": {},
   "outputs": [],
   "source": [
    "# 가장 높은 HPR (MDD 10-20)\n",
    "best_ratio_10_20 = max(best_ratios_10_20, key=best_ratios_10_20.get)\n",
    "best_hpr_10_20 = best_ratios_10_20[best_ratio_10_20]\n",
    "\n",
    "# 가장 높은 HPR (MDD < 10)\n",
    "best_ratio_less_10 = max(best_ratios_less_10, key=best_ratios_less_10.get)\n",
    "best_hpr_less_10 = best_ratios_less_10[best_ratio_less_10]\n",
    "\n",
    "# 결과 출력\n",
    "print(\"Best HPR (MDD 10-20):\")\n",
    "print(\"Ratios:\", best_ratio_10_20)\n",
    "print(\"HPR:\", best_hpr_10_20)\n",
    "print()\n",
    "\n",
    "print(\"Best HPR (MDD < 10):\")\n",
    "print(\"Ratios:\", best_ratio_less_10)\n",
    "print(\"HPR:\", best_hpr_less_10)\n",
    "print()\n"
   ]
  },
  {
   "cell_type": "code",
   "execution_count": null,
   "id": "f47e32b0-3fd9-4fec-9d5c-7d6591826e45",
   "metadata": {},
   "outputs": [],
   "source": []
  }
 ],
 "metadata": {
  "kernelspec": {
   "display_name": "Python 3 (ipykernel)",
   "language": "python",
   "name": "python3"
  },
  "language_info": {
   "codemirror_mode": {
    "name": "ipython",
    "version": 3
   },
   "file_extension": ".py",
   "mimetype": "text/x-python",
   "name": "python",
   "nbconvert_exporter": "python",
   "pygments_lexer": "ipython3",
   "version": "3.9.10"
  },
  "toc-autonumbering": true
 },
 "nbformat": 4,
 "nbformat_minor": 5
}
