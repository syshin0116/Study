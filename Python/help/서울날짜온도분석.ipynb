{
 "cells": [
  {
   "cell_type": "code",
   "execution_count": 9,
   "id": "8201fa94-514f-4d49-aa29-8fd5b290c16b",
   "metadata": {},
   "outputs": [
    {
     "name": "stdout",
     "output_type": "stream",
     "text": [
      "(임성태)서울에서 기온이 가장 높았던 날짜는 2021-07-24일이고, 기온은 36.5°c입니다.\n"
     ]
    }
   ],
   "source": [
    "import pandas as pd\n",
    "\n",
    "df = pd.read_csv(\"ta_20230613205043.csv\", encoding='cp949', skiprows=6)\n",
    "df['날짜'] = df['날짜'].str.replace('\\t', '')\n",
    "df_sorted = df.sort_values('최고기온(℃)', ascending=False)\n",
    "hottest_date = df_sorted.iloc[0]['날짜']\n",
    "hottest_temperature = df_sorted.iloc[0]['최고기온(℃)']\n",
    "print(f'(임성태)서울에서 기온이 가장 높았던 날짜는 {hottest_date}일이고, 기온은 {hottest_temperature}°c입니다.')"
   ]
  },
  {
   "cell_type": "code",
   "execution_count": null,
   "id": "021221d8-d37e-447d-bc8c-60e3b3b2367b",
   "metadata": {},
   "outputs": [],
   "source": []
  }
 ],
 "metadata": {
  "kernelspec": {
   "display_name": "Python 3 (ipykernel)",
   "language": "python",
   "name": "python3"
  },
  "language_info": {
   "codemirror_mode": {
    "name": "ipython",
    "version": 3
   },
   "file_extension": ".py",
   "mimetype": "text/x-python",
   "name": "python",
   "nbconvert_exporter": "python",
   "pygments_lexer": "ipython3",
   "version": "3.9.10"
  }
 },
 "nbformat": 4,
 "nbformat_minor": 5
}
