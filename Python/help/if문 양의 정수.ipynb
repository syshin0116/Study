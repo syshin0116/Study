{
 "cells": [
  {
   "cell_type": "code",
   "execution_count": 1,
   "id": "168cb188-0f62-40f3-984b-321e78e98c2f",
   "metadata": {},
   "outputs": [
    {
     "name": "stdin",
     "output_type": "stream",
     "text": [
      "양의 정수를 입력하시오: 22\n"
     ]
    },
    {
     "name": "stdout",
     "output_type": "stream",
     "text": [
      "num: 2\n"
     ]
    }
   ],
   "source": [
    "num = int(input(\"양의 정수를 입력하시오:\"))\n",
    "if num <= 10: # num이 10이하인 경우\n",
    "    num += 8//2\n",
    "elif num >= 20: # num이 10이하 가 아니고, 20이상인 경우\n",
    "    num %= 8-3\n",
    "else: # 나머지 경우\n",
    "    num *= 3\n",
    "print(\"num:\", num)"
   ]
  },
  {
   "cell_type": "code",
   "execution_count": null,
   "id": "413636e1-31fb-428c-bde9-f0d2cc6ca038",
   "metadata": {},
   "outputs": [],
   "source": []
  }
 ],
 "metadata": {
  "kernelspec": {
   "display_name": "Python 3 (ipykernel)",
   "language": "python",
   "name": "python3"
  },
  "language_info": {
   "codemirror_mode": {
    "name": "ipython",
    "version": 3
   },
   "file_extension": ".py",
   "mimetype": "text/x-python",
   "name": "python",
   "nbconvert_exporter": "python",
   "pygments_lexer": "ipython3",
   "version": "3.9.10"
  }
 },
 "nbformat": 4,
 "nbformat_minor": 5
}
