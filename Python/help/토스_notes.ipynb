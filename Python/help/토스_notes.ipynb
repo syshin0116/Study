{
 "cells": [
  {
   "cell_type": "code",
   "execution_count": 3,
   "id": "f158eebc-cad3-4769-9dc7-364da776168d",
   "metadata": {},
   "outputs": [
    {
     "name": "stdout",
     "output_type": "stream",
     "text": [
      "1\n",
      "2\n",
      "3\n",
      "4\n"
     ]
    }
   ],
   "source": [
    "for i in range(1, 5):\n",
    "    print(i)"
   ]
  },
  {
   "cell_type": "code",
   "execution_count": 5,
   "id": "ee18af67-4cee-41af-a66f-73bbddb7a453",
   "metadata": {},
   "outputs": [
    {
     "data": {
      "text/plain": [
       "False"
      ]
     },
     "execution_count": 5,
     "metadata": {},
     "output_type": "execute_result"
    }
   ],
   "source": [
    "1 not in range(1, 5)"
   ]
  },
  {
   "cell_type": "code",
   "execution_count": 6,
   "id": "65ffeda7-b084-4cbf-a06b-1a7fcfadbdd8",
   "metadata": {},
   "outputs": [
    {
     "name": "stdout",
     "output_type": "stream",
     "text": [
      "[['비바리퍼블리', '토스커피사일로 베이커리', '비바리퍼블리카 식당', '토스커피사일', '토스커피사일로 베이커', '비바리퍼블리카식', '토스커피사일로 베이', '토스커피사일로&베이커리']]\n"
     ]
    }
   ],
   "source": [
    "from difflib import SequenceMatcher\n",
    "\n",
    "merchantNames = [\"비바리퍼블리\", \"토스커피사일로 베이커리\", \"비바리퍼블리카 식당\", \"토스커피사일\", \"토스커피사일로 베이커\", \"비바리퍼블리카식\", \"토스커피사일로 베이\", \"토스커피사일로&베이커리\"]\n",
    "\n",
    "# 리스트의 요소들을 비교하여 공통된 부분 문자열의 길이를 계산\n",
    "matches = []\n",
    "for i, item1 in enumerate(merchantNames):\n",
    "    for j, item2 in enumerate(merchantNames[i+1:]):\n",
    "        match = SequenceMatcher(None, item1, item2).find_longest_match(0, len(item1), 0, len(item2))\n",
    "        if match.size > 0:\n",
    "            matches.append((i, i+j+1, match))\n",
    "\n",
    "# 공통된 부분 문자열이 있는 요소들을 같은 그룹으로 묶음\n",
    "groups = []\n",
    "for i, j, match in matches:\n",
    "    group_added = False\n",
    "    for group in groups:\n",
    "        if i in group or j in group:\n",
    "            group.add(i)\n",
    "            group.add(j)\n",
    "            group_added = True\n",
    "            break\n",
    "    if not group_added:\n",
    "        groups.append({i, j})\n",
    "\n",
    "# 그룹별로 결과 리스트 생성\n",
    "result = []\n",
    "for group in groups:\n",
    "    group_items = [merchantNames[i] for i in group]\n",
    "    result.append(group_items)\n",
    "\n",
    "print(result)\n"
   ]
  },
  {
   "cell_type": "code",
   "execution_count": 7,
   "id": "ba54e133-347b-4ee7-b2c8-d6825dc7901a",
   "metadata": {},
   "outputs": [
    {
     "name": "stdout",
     "output_type": "stream",
     "text": [
      "[['비바리퍼블리', '토스커피사일로 베이커리', '비바리퍼블리카 식당', '토스커피사일', '토스커피사일로 베이커', '비바리퍼블리카식', '토스커피사일로 베이', '토스커피사일로&베이커리']]\n"
     ]
    }
   ],
   "source": [
    "from difflib import SequenceMatcher\n",
    "\n",
    "merchantNames = [\"비바리퍼블리\", \"토스커피사일로 베이커리\", \"비바리퍼블리카 식당\", \"토스커피사일\", \"토스커피사일로 베이커\", \"비바리퍼블리카식\", \"토스커피사일로 베이\", \"토스커피사일로&베이커리\"]\n",
    "\n",
    "# 리스트의 요소들을 비교하여 공통된 부분 문자열의 길이를 계산\n",
    "matches = []\n",
    "for i, item1 in enumerate(merchantNames):\n",
    "    for j, item2 in enumerate(merchantNames[i+1:]):\n",
    "        match = SequenceMatcher(None, item1, item2).find_longest_match(0, len(item1), 0, len(item2))\n",
    "        if match.size > 0:\n",
    "            matches.append((i, i+j+1, match))\n",
    "\n",
    "# 공통된 부분 문자열이 있는 요소들을 같은 그룹으로 묶음\n",
    "groups = []\n",
    "for i, j, match in matches:\n",
    "    group_added = False\n",
    "    for group in groups:\n",
    "        if i in group or j in group:\n",
    "            group.add(i)\n",
    "            group.add(j)\n",
    "            group_added = True\n",
    "            break\n",
    "    if not group_added:\n",
    "        groups.append({i})\n",
    "        groups[-1].add(j)\n",
    "\n",
    "# 그룹별로 결과 리스트 생성\n",
    "result = []\n",
    "for group in groups:\n",
    "    group_items = [merchantNames[i] for i in group]\n",
    "    result.append(group_items)\n",
    "\n",
    "print(result)\n"
   ]
  },
  {
   "cell_type": "code",
   "execution_count": 8,
   "id": "ae1cb071-0426-4526-bcda-88a3463792ce",
   "metadata": {},
   "outputs": [
    {
     "name": "stdout",
     "output_type": "stream",
     "text": [
      "[['비바리퍼블리'], ['비바리퍼블리카 식당'], ['비바리퍼블리카식'], ['토스커피사일'], ['토스커피사일로 베이', '토스커피사일로 베이커', '토스커피사일로 베이커리'], ['토스커피사일로&베이커리']]\n"
     ]
    }
   ],
   "source": [
    "from itertools import groupby\n",
    "\n",
    "def group_strings(lst):\n",
    "    lst.sort()  # 리스트를 먼저 정렬합니다.\n",
    "    result = []\n",
    "\n",
    "    for _, group in groupby(lst, key=lambda x: x.split(' ')[0]):\n",
    "        result.append(list(group))\n",
    "    \n",
    "    return result\n",
    "\n",
    "lst = [\"비바리퍼블리\", \"토스커피사일로 베이커리\", \"비바리퍼블리카 식당\", \"토스커피사일\", \"토스커피사일로 베이커\", \"비바리퍼블리카식\", \"토스커피사일로 베이\", \"토스커피사일로&베이커리\"]\n",
    "print(group_strings(lst))\n"
   ]
  },
  {
   "cell_type": "code",
   "execution_count": 9,
   "id": "3ed92599-10f6-4c08-ac81-1ba205226e5b",
   "metadata": {},
   "outputs": [
    {
     "name": "stdout",
     "output_type": "stream",
     "text": [
      "[['비바리퍼블리카 식당', '비바리퍼블리카식', '비바리퍼블리'], ['토스커피사일로&베이커리', '토스커피사일', '토스커피사일로 베이커리', '토스커피사일로 베이커', '토스커피사일로 베이'], ['토스커피사일로 베이커리', '토스커피사일로 베이커'], ['토스커피사일로 베이커리', '토스커피사일로 베이커', '토스커피사일로 베이'], ['토스커피사일로&베이커리', '토스커피사일로 베이커리', '토스커피사일로 베이', '토스커피사일로 베이커'], ['비바리퍼블리카식', '비바리퍼블리카 식당']]\n"
     ]
    }
   ],
   "source": [
    "from collections import defaultdict\n",
    "\n",
    "def common_prefix(str1, str2):\n",
    "    # 두 문자열 사이의 공통 접두사를 찾는 함수입니다.\n",
    "    i = 0\n",
    "    while i < len(str1) and i < len(str2) and str1[i] == str2[i]:\n",
    "        i += 1\n",
    "    return str1[:i]\n",
    "\n",
    "def solution(merchantNames):\n",
    "    # 모든 문자열 쌍에 대한 공통 접두사를 찾습니다.\n",
    "    prefixes = defaultdict(list)\n",
    "    for i in range(len(merchantNames)):\n",
    "        for j in range(i+1, len(merchantNames)):\n",
    "            prefix = common_prefix(merchantNames[i], merchantNames[j])\n",
    "            if prefix:\n",
    "                prefixes[prefix].append(merchantNames[i])\n",
    "                prefixes[prefix].append(merchantNames[j])\n",
    "\n",
    "    # 각 문자열을 그 접두사를 키로 하는 그룹에 할당합니다.\n",
    "    result = []\n",
    "    for values in prefixes.values():\n",
    "        result.append(list(set(values)))  # set를 사용하여 중복을 제거합니다.\n",
    "\n",
    "    return result\n",
    "\n",
    "lst = [\"비바리퍼블리\", \"토스커피사일로 베이커리\", \"비바리퍼블리카 식당\", \"토스커피사일\", \"토스커피사일로 베이커\", \"비바리퍼블리카식\", \"토스커피사일로 베이\", \"토스커피사일로&베이커리\"]\n",
    "print(solution(lst))\n"
   ]
  },
  {
   "cell_type": "code",
   "execution_count": 10,
   "id": "d5a6437e-3558-4e7e-9f58-1c71b73e54a4",
   "metadata": {},
   "outputs": [
    {
     "name": "stdout",
     "output_type": "stream",
     "text": [
      "[['비바리퍼블리카 식당', '비바리퍼블리'], ['비바리퍼블리카식', '비바리퍼블리카 식당'], ['토스커피사일', '토스커피사일로 베이'], ['토스커피사일로 베이커', '토스커피사일로 베이'], ['토스커피사일로 베이커리', '토스커피사일로 베이커'], ['토스커피사일로&베이커리', '토스커피사일로 베이커리']]\n"
     ]
    }
   ],
   "source": [
    "from collections import defaultdict\n",
    "\n",
    "def common_prefix(str1, str2):\n",
    "    # 두 문자열 사이의 공통 접두사를 찾는 함수입니다.\n",
    "    i = 0\n",
    "    while i < len(str1) and i < len(str2) and str1[i] == str2[i]:\n",
    "        i += 1\n",
    "    return str1[:i]\n",
    "\n",
    "def solution(merchantNames):\n",
    "    # 문자열을 사전 순으로 정렬합니다.\n",
    "    merchantNames.sort()\n",
    "\n",
    "    # 모든 인접한 문자열 쌍에 대한 공통 접두사를 찾습니다.\n",
    "    prefixes = defaultdict(list)\n",
    "    for i in range(len(merchantNames)-1):\n",
    "        prefix = common_prefix(merchantNames[i], merchantNames[i+1])\n",
    "        if prefix:\n",
    "            prefixes[prefix].append(merchantNames[i])\n",
    "            prefixes[prefix].append(merchantNames[i+1])\n",
    "\n",
    "    # 각 문자열을 그 접두사를 키로 하는 그룹에 할당합니다.\n",
    "    result = []\n",
    "    for values in prefixes.values():\n",
    "        result.append(list(set(values)))  # set를 사용하여 중복을 제거합니다.\n",
    "\n",
    "    return result\n",
    "\n",
    "lst = [\"비바리퍼블리\", \"토스커피사일로 베이커리\", \"비바리퍼블리카 식당\", \"토스커피사일\", \"토스커피사일로 베이커\", \"비바리퍼블리카식\", \"토스커피사일로 베이\", \"토스커피사일로&베이커리\"]\n",
    "print(solution(lst))\n"
   ]
  },
  {
   "cell_type": "code",
   "execution_count": 11,
   "id": "4eaae6f6-a9a4-4830-8353-8f420d1c2854",
   "metadata": {},
   "outputs": [
    {
     "name": "stdout",
     "output_type": "stream",
     "text": [
      "[['토스커피사일로 베이커리', '토스커피사일', '토스커피사일로 베이커', '토스커피사일로 베이', '토스커피사일로&베이커리'], ['비바리퍼블리카 식당', '비바리퍼블리카식']]\n"
     ]
    }
   ],
   "source": [
    "from collections import defaultdict\n",
    "\n",
    "def solution(merchantNames, bases):\n",
    "    result = defaultdict(list)\n",
    "    for base in bases:\n",
    "        for name in merchantNames:\n",
    "            if base in name:\n",
    "                result[base].append(name)\n",
    "    return list(result.values())\n",
    "\n",
    "lst = [\"비바리퍼블리\", \"토스커피사일로 베이커리\", \"비바리퍼블리카 식당\", \"토스커피사일\", \"토스커피사일로 베이커\", \"비바리퍼블리카식\", \"토스커피사일로 베이\", \"토스커피사일로&베이커리\"]\n",
    "bases = [\"토스커피사일\", \"비바리퍼블리카\"]\n",
    "print(solution(lst, bases))\n"
   ]
  },
  {
   "cell_type": "code",
   "execution_count": 14,
   "id": "4dec8502-f254-4fe3-9d58-cbd26e78bcc8",
   "metadata": {},
   "outputs": [
    {
     "name": "stdout",
     "output_type": "stream",
     "text": [
      "['비바리퍼블리', '토스커피사일']\n"
     ]
    }
   ],
   "source": [
    "def find_bases(merchantNames):\n",
    "    # 문자열 길이에 따라 오름차순 정렬\n",
    "    sorted_names = sorted(merchantNames, key=len)\n",
    "    bases = []\n",
    "\n",
    "    # 가장 짧은 문자열 선택\n",
    "    bases.append(sorted_names[0])\n",
    "\n",
    "    # 다음으로 짧으면서 첫 번째 기준과 '비슷하지 않은' 문자열 선택\n",
    "    for name in sorted_names[1:]:\n",
    "        if not any(char in name for char in bases[0]):  # 첫 번째 기준과 '비슷하지 않다'는 것을 확인\n",
    "            bases.append(name)\n",
    "            break\n",
    "\n",
    "    return bases\n",
    "\n",
    "merchantNames = [\"비바리퍼블리\", \"토스커피사일로 베이커리\", \"비바리퍼블리카 식당\", \"토스커피사일\", \"토스커피사일로 베이커\", \"비바리퍼블리카식\", \"토스커피사일로 베이\", \"토스커피사일로&베이커리\"]\n",
    "print(find_bases(merchantNames))\n",
    "\n"
   ]
  },
  {
   "cell_type": "code",
   "execution_count": null,
   "id": "573c83d1-a5f1-4106-a5d0-80a028ddd00f",
   "metadata": {},
   "outputs": [],
   "source": []
  }
 ],
 "metadata": {
  "kernelspec": {
   "display_name": "Python 3 (ipykernel)",
   "language": "python",
   "name": "python3"
  },
  "language_info": {
   "codemirror_mode": {
    "name": "ipython",
    "version": 3
   },
   "file_extension": ".py",
   "mimetype": "text/x-python",
   "name": "python",
   "nbconvert_exporter": "python",
   "pygments_lexer": "ipython3",
   "version": "3.9.10"
  }
 },
 "nbformat": 4,
 "nbformat_minor": 5
}
