{
 "cells": [
  {
   "cell_type": "code",
   "execution_count": 1,
   "id": "0fb2e7f2-092e-422a-829f-78eed969e3d6",
   "metadata": {},
   "outputs": [],
   "source": []
  },
  {
   "cell_type": "code",
   "execution_count": 21,
   "id": "3d81f6c3-b20c-49a7-bdba-7a9eda82d1d3",
   "metadata": {},
   "outputs": [
    {
     "name": "stdout",
     "output_type": "stream",
     "text": [
      "    ★\n",
      "   ★★★\n",
      "  ★★★★★\n",
      " ★★★★★★★\n",
      "★★★★★★★★★\n",
      " ★★★★★★★\n",
      "  ★★★★★\n",
      "   ★★★\n",
      "    ★\n"
     ]
    }
   ],
   "source": [
    "## 전역 변수 선언 부분 ##\n",
    "i, k = 0, 0\n",
    "\n",
    "## 메인 코드 부분 ## \n",
    "i = 0\n",
    "while i<9:\n",
    "    # 첫 절반(1~5번쨰줄)\n",
    "    if i<5:\n",
    "        # 3-i개 빈 칸 생성\n",
    "        k=0\n",
    "        while k<4-i:\n",
    "            print(' ', end='')\n",
    "            k+=1\n",
    "        # 2i+1개 별 생성\n",
    "        k=0\n",
    "        while k<i*2+1:\n",
    "            print('\\u2605', end='')\n",
    "            k+=1\n",
    "    # 나머지 절반(6~9번쨰줄)\n",
    "    else:\n",
    "        # i-5개 빈 칸 생성\n",
    "        k=0\n",
    "        while k<i-4:\n",
    "            print(' ', end='')\n",
    "            k+=1\n",
    "        # (9-i)*2+1개의 별 생성\n",
    "        k=0\n",
    "        while k<(9-i)*2-1:\n",
    "            print('\\u2605', end='')\n",
    "            k+=1\n",
    "    # i에 1을 더해준 후 다음줄 진행\n",
    "    print()\n",
    "    i+=1"
   ]
  },
  {
   "cell_type": "code",
   "execution_count": null,
   "id": "01a8971a-9f84-4482-82d2-0fe8588f162b",
   "metadata": {},
   "outputs": [],
   "source": []
  },
  {
   "cell_type": "code",
   "execution_count": null,
   "id": "27e673d7-ceb0-4d10-90e8-2f3de6263b21",
   "metadata": {},
   "outputs": [],
   "source": []
  }
 ],
 "metadata": {
  "kernelspec": {
   "display_name": "Python 3 (ipykernel)",
   "language": "python",
   "name": "python3"
  },
  "language_info": {
   "codemirror_mode": {
    "name": "ipython",
    "version": 3
   },
   "file_extension": ".py",
   "mimetype": "text/x-python",
   "name": "python",
   "nbconvert_exporter": "python",
   "pygments_lexer": "ipython3",
   "version": "3.9.10"
  }
 },
 "nbformat": 4,
 "nbformat_minor": 5
}
