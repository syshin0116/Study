{
 "cells": [
  {
   "cell_type": "code",
   "execution_count": 1,
   "id": "b89b1ece-913d-4dab-83b8-5dcac9c4c083",
   "metadata": {},
   "outputs": [
    {
     "ename": "ModuleNotFoundError",
     "evalue": "No module named 'cs1robots'",
     "output_type": "error",
     "traceback": [
      "\u001b[0;31m---------------------------------------------------------------------------\u001b[0m",
      "\u001b[0;31mModuleNotFoundError\u001b[0m                       Traceback (most recent call last)",
      "Input \u001b[0;32mIn [1]\u001b[0m, in \u001b[0;36m<cell line: 1>\u001b[0;34m()\u001b[0m\n\u001b[0;32m----> 1\u001b[0m \u001b[38;5;28;01mfrom\u001b[39;00m \u001b[38;5;21;01mcs1robots\u001b[39;00m \u001b[38;5;28;01mimport\u001b[39;00m \u001b[38;5;241m*\u001b[39m\n\u001b[1;32m      2\u001b[0m load_world(\u001b[38;5;124m\"\u001b[39m\u001b[38;5;124m./worlds/harvest4.wld\u001b[39m\u001b[38;5;124m\"\u001b[39m)\n\u001b[1;32m      3\u001b[0m hubo \u001b[38;5;241m=\u001b[39m Robot()\n",
      "\u001b[0;31mModuleNotFoundError\u001b[0m: No module named 'cs1robots'"
     ]
    }
   ],
   "source": [
    "from cs1robots import *\n",
    "load_world(\"./worlds/harvest4.wld\")\n",
    "hubo = Robot()\n",
    "hubo.set_trace(\"blue\")\n",
    "hubo.set_pause(0.2)\n",
    "\n",
    "def turn_right():\n",
    "    for i in range(3):\n",
    "        hubo.turn_left()\n",
    "\n",
    "def move_with_beepers():\n",
    "    hubo.move()\n",
    "    while not hubo.front_is_clear():\n",
    "        if not hubo.on_beeper():\n",
    "            hubo.move()\n",
    "    while hubo.on_beeper():\n",
    "        hubo.pick_beeper()\n",
    "        if hubo.on_beeper():\n",
    "            hubo.pick_beeper()\n",
    "            hubo.move()\n",
    "        elif not hubo.front_is_clear():\n",
    "            hubo.pick_beeper()\n",
    "            hubo.turn_left\n",
    "\n",
    "while hubo.front_is_clear():\n",
    "    move_with_beepers()\n"
   ]
  },
  {
   "cell_type": "code",
   "execution_count": 6,
   "id": "3adcc97c-48d0-45dd-b4dd-7239a01ac3f4",
   "metadata": {},
   "outputs": [
    {
     "ename": "IndentationError",
     "evalue": "expected an indented block (1521610003.py, line 1)",
     "output_type": "error",
     "traceback": [
      "\u001b[0;36m  Input \u001b[0;32mIn [6]\u001b[0;36m\u001b[0m\n\u001b[0;31m    def move_with_beepers():\u001b[0m\n\u001b[0m                            ^\u001b[0m\n\u001b[0;31mIndentationError\u001b[0m\u001b[0;31m:\u001b[0m expected an indented block\n"
     ]
    }
   ],
   "source": [
    "from cs1robots import *\n",
    "load_world(\"./worlds/harvest4.wld\")\n",
    "hubo = Robot()\n",
    "hubo.set_trace(\"blue\")\n",
    "hubo.set_pause(0.2)\n",
    "\n",
    "def turn_right():\n",
    "    for i in range(3):\n",
    "        hubo.turn_left()\n",
    "        \n",
    "def move_with_beepers():\n",
    "    while True:\n",
    "        while hubo.on_beeper():\n",
    "            hubo.pick_beeper()\n",
    "        if not hubo.front_is_clear():\n",
    "            break\n",
    "        hubo.move()\n",
    "def move_two_rows_with_beepers():\n",
    "    move_with_beepers()\n",
    "    hubo.turn_left()\n",
    "    hubo.move()\n",
    "    hubo.turn_left()\n",
    "    move_with_beepers()\n",
    "    turn_right()\n",
    "    hubo.move()\n",
    "    turn_right()\n",
    "    \n",
    "for i in range(3):\n",
    "    move_two_rows_with_beepers()"
   ]
  },
  {
   "cell_type": "code",
   "execution_count": 8,
   "id": "e420e6a9-990e-4c9e-96d4-d1c691318ed2",
   "metadata": {},
   "outputs": [
    {
     "data": {
      "text/plain": [
       "21"
      ]
     },
     "execution_count": 8,
     "metadata": {},
     "output_type": "execute_result"
    }
   ],
   "source": [
    "a = [1,2,3]\n",
    "b = [4,5,6]\n",
    "c = [a[i]+b[i] for i in range(len(a))]\n",
    "sum(c)"
   ]
  },
  {
   "cell_type": "code",
   "execution_count": null,
   "id": "0d690d64-05ed-4b0c-9634-954ad82e15f6",
   "metadata": {},
   "outputs": [],
   "source": []
  }
 ],
 "metadata": {
  "kernelspec": {
   "display_name": "Python 3 (ipykernel)",
   "language": "python",
   "name": "python3"
  },
  "language_info": {
   "codemirror_mode": {
    "name": "ipython",
    "version": 3
   },
   "file_extension": ".py",
   "mimetype": "text/x-python",
   "name": "python",
   "nbconvert_exporter": "python",
   "pygments_lexer": "ipython3",
   "version": "3.9.10"
  }
 },
 "nbformat": 4,
 "nbformat_minor": 5
}
