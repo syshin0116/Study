{
 "cells": [
  {
   "cell_type": "markdown",
   "metadata": {
    "id": "NlY5bYudAnHa"
   },
   "source": [
    "# Project 2\n",
    "# Rebalancing Strategy \n",
    "\n",
    "#### 2023-1학기\n",
    "#### Version: 2023-05-16-v2\n",
    "\n",
    "> 분반: 01\n",
    ">\n",
    "> 학번: \n",
    ">\n",
    "> 학과: \n",
    ">\n",
    "> 이름: \n",
    "\n",
    "### To Do List\n",
    "\n",
    "- rebalancing() 완성 (만약 BTC, ETH 외의 암호화폐를 추가적으로 고려하고 싶은 경우)\n",
    "- 여러 자산 비율을 사용하여 성능 테스트\n"
   ]
  },
  {
   "cell_type": "code",
   "execution_count": 1,
   "metadata": {
    "colab": {
     "base_uri": "https://localhost:8080/"
    },
    "id": "9PuoRkgJ1oJa",
    "outputId": "63fda8c1-577c-4b3e-eaf4-9d5886aa69ed"
   },
   "outputs": [
    {
     "name": "stdout",
     "output_type": "stream",
     "text": [
      "Requirement already satisfied: pyupbit in /Users/syshin/miniforge3/lib/python3.9/site-packages (0.2.33)\n",
      "Requirement already satisfied: pyjwt>=2.0.0 in /Users/syshin/miniforge3/lib/python3.9/site-packages (from pyupbit) (2.7.0)\n",
      "Requirement already satisfied: pandas in /Users/syshin/miniforge3/lib/python3.9/site-packages (from pyupbit) (1.5.3)\n",
      "Requirement already satisfied: requests in /Users/syshin/miniforge3/lib/python3.9/site-packages (from pyupbit) (2.25.1)\n",
      "Requirement already satisfied: websockets in /Users/syshin/miniforge3/lib/python3.9/site-packages (from pyupbit) (11.0.3)\n",
      "Requirement already satisfied: python-dateutil>=2.8.1 in /Users/syshin/miniforge3/lib/python3.9/site-packages (from pandas->pyupbit) (2.8.2)\n",
      "Requirement already satisfied: pytz>=2020.1 in /Users/syshin/miniforge3/lib/python3.9/site-packages (from pandas->pyupbit) (2022.1)\n",
      "Requirement already satisfied: numpy>=1.20.3 in /Users/syshin/miniforge3/lib/python3.9/site-packages (from pandas->pyupbit) (1.22.3)\n",
      "Requirement already satisfied: chardet<5,>=3.0.2 in /Users/syshin/miniforge3/lib/python3.9/site-packages (from requests->pyupbit) (4.0.0)\n",
      "Requirement already satisfied: idna<3,>=2.5 in /Users/syshin/miniforge3/lib/python3.9/site-packages (from requests->pyupbit) (2.10)\n",
      "Requirement already satisfied: urllib3<1.27,>=1.21.1 in /Users/syshin/miniforge3/lib/python3.9/site-packages (from requests->pyupbit) (1.26.6)\n",
      "Requirement already satisfied: certifi>=2017.4.17 in /Users/syshin/miniforge3/lib/python3.9/site-packages (from requests->pyupbit) (2022.9.24)\n",
      "Requirement already satisfied: six>=1.5 in /Users/syshin/miniforge3/lib/python3.9/site-packages (from python-dateutil>=2.8.1->pandas->pyupbit) (1.15.0)\n"
     ]
    }
   ],
   "source": [
    "# 런타임이 종료되면 이 코드셀은 매번 다시 실행해야 합니다.\n",
    "\n",
    "# pyupbit 설치\n",
    "!pip install pyupbit"
   ]
  },
  {
   "cell_type": "code",
   "execution_count": 2,
   "metadata": {
    "id": "BT-LddYo1g0w"
   },
   "outputs": [],
   "source": [
    "# Import\n",
    "\n",
    "import numpy as np\n",
    "import pandas as pd\n",
    "import datetime\n",
    "\n",
    "import pyupbit\n"
   ]
  },
  {
   "cell_type": "code",
   "execution_count": 3,
   "metadata": {
    "colab": {
     "base_uri": "https://localhost:8080/"
    },
    "id": "He3RBCBrNloT",
    "outputId": "8ea23522-1952-4fee-8c63-150288139c44"
   },
   "outputs": [
    {
     "name": "stdout",
     "output_type": "stream",
     "text": [
      "--2023-06-05 14:06:49--  https://esohn.be/python/trading_helper.py\n",
      "Resolving esohn.be (esohn.be)... 18.64.8.120, 18.64.8.126, 18.64.8.8, ...\n",
      "Connecting to esohn.be (esohn.be)|18.64.8.120|:443... connected.\n",
      "HTTP request sent, awaiting response... 200 OK\n",
      "Length: 6252 (6.1K) [text/x-python]\n",
      "Saving to: ‘trading_helper.py’\n",
      "\n",
      "trading_helper.py   100%[===================>]   6.11K  --.-KB/s    in 0s      \n",
      "\n",
      "2023-06-05 14:06:49 (2.91 GB/s) - ‘trading_helper.py’ saved [6252/6252]\n",
      "\n",
      "Trading Helper Version: 2023.05.15-v1\n"
     ]
    }
   ],
   "source": [
    "# trading_helper 설치 및 버전 확인\n",
    "\n",
    "!wget https://esohn.be/python/trading_helper.py -O trading_helper.py\n",
    "\n",
    "import trading_helper\n",
    "import importlib\n",
    "importlib.reload(trading_helper)\n",
    "\n",
    "print( f'Trading Helper Version: {trading_helper.TRADING_HELPER_VERSION}'  )"
   ]
  },
  {
   "cell_type": "markdown",
   "metadata": {
    "id": "iGOo80w1qHn9"
   },
   "source": [
    "### AUTH_CODE는 반드시 자신의 Auth Code로 변경해야 합니다."
   ]
  },
  {
   "cell_type": "code",
   "execution_count": 4,
   "metadata": {
    "colab": {
     "base_uri": "https://localhost:8080/"
    },
    "id": "SKPplX5TI8mf",
    "outputId": "ee7f2793-58a3-4add-8736-3d7af34fe444"
   },
   "outputs": [
    {
     "name": "stdout",
     "output_type": "stream",
     "text": [
      "Log updated! (2023-1 YCS1009-01 박희영)\n"
     ]
    }
   ],
   "source": [
    "# ------------------------------------------------------------------------------------------------------\n",
    "# https://esohn.be/account 의 AUTH CODE 로 실행 로그 기록\n",
    "# ------------------------------------------------------------------------------------------------------\n",
    "\n",
    "'''\n",
    "AUTH_CODE = 'f587ea651febd5446efc61d5e3fef123'  -> 아래에 이렇게 auth code를 붙여넣으세요.\n",
    "'''\n",
    "AUTH_CODE = '2b435454dd9860ceba97f35f7aa030f0'\n",
    "\n",
    "# Do not edit\n",
    "trading_helper.set_auth_code( AUTH_CODE )\n"
   ]
  },
  {
   "cell_type": "code",
   "execution_count": 43,
   "metadata": {
    "colab": {
     "base_uri": "https://localhost:8080/",
     "height": 490
    },
    "id": "VKLTtAblVAzL",
    "outputId": "5050c2ea-ebb6-4272-af5e-71c9c436f502"
   },
   "outputs": [
    {
     "data": {
      "text/html": [
       "<div>\n",
       "<style scoped>\n",
       "    .dataframe tbody tr th:only-of-type {\n",
       "        vertical-align: middle;\n",
       "    }\n",
       "\n",
       "    .dataframe tbody tr th {\n",
       "        vertical-align: top;\n",
       "    }\n",
       "\n",
       "    .dataframe thead th {\n",
       "        text-align: right;\n",
       "    }\n",
       "</style>\n",
       "<table border=\"1\" class=\"dataframe\">\n",
       "  <thead>\n",
       "    <tr style=\"text-align: right;\">\n",
       "      <th></th>\n",
       "      <th>Unnamed: 0</th>\n",
       "      <th>index</th>\n",
       "      <th>price_btc</th>\n",
       "      <th>price_eth</th>\n",
       "      <th>price_doge</th>\n",
       "      <th>price_ada</th>\n",
       "      <th>bal_krw</th>\n",
       "      <th>bal_btc</th>\n",
       "      <th>bal_eth</th>\n",
       "      <th>bal_doge</th>\n",
       "      <th>...</th>\n",
       "      <th>bal2_ada</th>\n",
       "      <th>target_btc</th>\n",
       "      <th>target_eth</th>\n",
       "      <th>target_doge</th>\n",
       "      <th>target_ada</th>\n",
       "      <th>trade_btc</th>\n",
       "      <th>trade_eth</th>\n",
       "      <th>trade_doge</th>\n",
       "      <th>trade_ada</th>\n",
       "      <th>value</th>\n",
       "    </tr>\n",
       "  </thead>\n",
       "  <tbody>\n",
       "    <tr>\n",
       "      <th>0</th>\n",
       "      <td>0</td>\n",
       "      <td>2022-05-01 09:00:00</td>\n",
       "      <td>49283000.0</td>\n",
       "      <td>3570000.0</td>\n",
       "      <td>166.0</td>\n",
       "      <td>996.0</td>\n",
       "      <td>0</td>\n",
       "      <td>0</td>\n",
       "      <td>0</td>\n",
       "      <td>0</td>\n",
       "      <td>...</td>\n",
       "      <td>0</td>\n",
       "      <td>0</td>\n",
       "      <td>0</td>\n",
       "      <td>0</td>\n",
       "      <td>0</td>\n",
       "      <td>0</td>\n",
       "      <td>0</td>\n",
       "      <td>0</td>\n",
       "      <td>0</td>\n",
       "      <td>0</td>\n",
       "    </tr>\n",
       "    <tr>\n",
       "      <th>1</th>\n",
       "      <td>1</td>\n",
       "      <td>2022-05-02 09:00:00</td>\n",
       "      <td>49383000.0</td>\n",
       "      <td>3625000.0</td>\n",
       "      <td>170.0</td>\n",
       "      <td>1010.0</td>\n",
       "      <td>0</td>\n",
       "      <td>0</td>\n",
       "      <td>0</td>\n",
       "      <td>0</td>\n",
       "      <td>...</td>\n",
       "      <td>0</td>\n",
       "      <td>0</td>\n",
       "      <td>0</td>\n",
       "      <td>0</td>\n",
       "      <td>0</td>\n",
       "      <td>0</td>\n",
       "      <td>0</td>\n",
       "      <td>0</td>\n",
       "      <td>0</td>\n",
       "      <td>0</td>\n",
       "    </tr>\n",
       "    <tr>\n",
       "      <th>2</th>\n",
       "      <td>2</td>\n",
       "      <td>2022-05-03 09:00:00</td>\n",
       "      <td>49501000.0</td>\n",
       "      <td>3667000.0</td>\n",
       "      <td>168.0</td>\n",
       "      <td>1000.0</td>\n",
       "      <td>0</td>\n",
       "      <td>0</td>\n",
       "      <td>0</td>\n",
       "      <td>0</td>\n",
       "      <td>...</td>\n",
       "      <td>0</td>\n",
       "      <td>0</td>\n",
       "      <td>0</td>\n",
       "      <td>0</td>\n",
       "      <td>0</td>\n",
       "      <td>0</td>\n",
       "      <td>0</td>\n",
       "      <td>0</td>\n",
       "      <td>0</td>\n",
       "      <td>0</td>\n",
       "    </tr>\n",
       "    <tr>\n",
       "      <th>3</th>\n",
       "      <td>3</td>\n",
       "      <td>2022-05-04 09:00:00</td>\n",
       "      <td>48772000.0</td>\n",
       "      <td>3595000.0</td>\n",
       "      <td>167.0</td>\n",
       "      <td>997.0</td>\n",
       "      <td>0</td>\n",
       "      <td>0</td>\n",
       "      <td>0</td>\n",
       "      <td>0</td>\n",
       "      <td>...</td>\n",
       "      <td>0</td>\n",
       "      <td>0</td>\n",
       "      <td>0</td>\n",
       "      <td>0</td>\n",
       "      <td>0</td>\n",
       "      <td>0</td>\n",
       "      <td>0</td>\n",
       "      <td>0</td>\n",
       "      <td>0</td>\n",
       "      <td>0</td>\n",
       "    </tr>\n",
       "    <tr>\n",
       "      <th>4</th>\n",
       "      <td>4</td>\n",
       "      <td>2022-05-05 09:00:00</td>\n",
       "      <td>50631000.0</td>\n",
       "      <td>3752000.0</td>\n",
       "      <td>173.0</td>\n",
       "      <td>1140.0</td>\n",
       "      <td>0</td>\n",
       "      <td>0</td>\n",
       "      <td>0</td>\n",
       "      <td>0</td>\n",
       "      <td>...</td>\n",
       "      <td>0</td>\n",
       "      <td>0</td>\n",
       "      <td>0</td>\n",
       "      <td>0</td>\n",
       "      <td>0</td>\n",
       "      <td>0</td>\n",
       "      <td>0</td>\n",
       "      <td>0</td>\n",
       "      <td>0</td>\n",
       "      <td>0</td>\n",
       "    </tr>\n",
       "  </tbody>\n",
       "</table>\n",
       "<p>5 rows × 25 columns</p>\n",
       "</div>"
      ],
      "text/plain": [
       "   Unnamed: 0                index   price_btc  price_eth  price_doge  \\\n",
       "0           0  2022-05-01 09:00:00  49283000.0  3570000.0       166.0   \n",
       "1           1  2022-05-02 09:00:00  49383000.0  3625000.0       170.0   \n",
       "2           2  2022-05-03 09:00:00  49501000.0  3667000.0       168.0   \n",
       "3           3  2022-05-04 09:00:00  48772000.0  3595000.0       167.0   \n",
       "4           4  2022-05-05 09:00:00  50631000.0  3752000.0       173.0   \n",
       "\n",
       "   price_ada  bal_krw  bal_btc  bal_eth  bal_doge  ...  bal2_ada  target_btc  \\\n",
       "0      996.0        0        0        0         0  ...         0           0   \n",
       "1     1010.0        0        0        0         0  ...         0           0   \n",
       "2     1000.0        0        0        0         0  ...         0           0   \n",
       "3      997.0        0        0        0         0  ...         0           0   \n",
       "4     1140.0        0        0        0         0  ...         0           0   \n",
       "\n",
       "   target_eth  target_doge  target_ada  trade_btc  trade_eth  trade_doge  \\\n",
       "0           0            0           0          0          0           0   \n",
       "1           0            0           0          0          0           0   \n",
       "2           0            0           0          0          0           0   \n",
       "3           0            0           0          0          0           0   \n",
       "4           0            0           0          0          0           0   \n",
       "\n",
       "   trade_ada  value  \n",
       "0          0      0  \n",
       "1          0      0  \n",
       "2          0      0  \n",
       "3          0      0  \n",
       "4          0      0  \n",
       "\n",
       "[5 rows x 25 columns]"
      ]
     },
     "execution_count": 43,
     "metadata": {},
     "output_type": "execute_result"
    }
   ],
   "source": [
    "# 가격정보 가져오기\n",
    "\n",
    "from_date = '20220501'\n",
    "to_date = '20230501'\n",
    "\n",
    "df = trading_helper.get_multiple(from_date, to_date)\n",
    "\n",
    "\n",
    "df.head()"
   ]
  },
  {
   "cell_type": "markdown",
   "metadata": {
    "id": "cUCfeNR8YEM3"
   },
   "source": [
    "### 아래 코드셀을 복사 해서 프로젝트 코드 페이지에 붙여넣으세요"
   ]
  },
  {
   "cell_type": "code",
   "execution_count": 44,
   "metadata": {
    "id": "-ZdtSo-7zhgC"
   },
   "outputs": [],
   "source": [
    "# ------------------------------------------------------------------------------------------------------\n",
    "# - 코드를 완성했다면 이 코드셀만 복사해서 competition 페이지 Rebalancing 탭에 라운드 별 코드 항목으로 붙여넣습니다.\n",
    "# - 연습할 때는 다음과 같은 이유로 프로젝트 페이지의 에디터에서 직접 연습하지 말고 Colab에서 연습하세요. \n",
    "#   + Colab의 연습은 서버에 횟수가 기록되어 평가에 반영됩니다.\n",
    "#   + Colab 노트북 자체에도 변경 history가 누적 됩니다. (부정행위 방지)\n",
    "#   + 프로젝트 페이지에서 submit 횟수가 지나치게 빈번한 경우 submit이 일정시간 제한될 수 있습니다.\n",
    "# ------------------------------------------------------------------------------------------------------\n",
    "\n",
    "# Given Code Version 2023.05.16-v2\n",
    "\n",
    "import numpy as np\n",
    "import pandas as pd\n",
    "import datetime\n",
    "\n",
    "# rebalancing() 암호화폐 포트폴리오 리밸런싱 함수\n",
    "'''\n",
    "* ratio_  자산배분 비율 (총 합은 반드시 1.0이어야 함)\n",
    "  투자하지 않는 암호화폐는 0으로 남겨둠\n",
    "  \n",
    "  예) 원화 10%, 비트코인(BTC) 50%, 이더리움(ETH) 40%\n",
    "      ratio_krw = 0.1\n",
    "      ratio_btc = 0.5\n",
    "      ratio_eth = 0.4\n",
    "      ratio_doge = 0.0\n",
    "      ratio_ada = 0.0\n",
    "\n",
    "  예) 원화 70%, 비트코인(BTC) 10%, 이더리움(ETH) 10%, 도지코인(DOGE) 5%, 에이다(ADA) 5%\n",
    "      ratio_krw = 0.7\n",
    "      ratio_btc = 0.1\n",
    "      ratio_eth = 0.1\n",
    "      ratio_doge = 0.05\n",
    "      ratio_ada = 0.05\n",
    "\n",
    "* threshold - 최소한으로 요구되는 총 자산 대비 변동 비율 (%)\n",
    "\n",
    "  기본값 0: 조금이라도 변동될 때 매매\n",
    "  예) 0.001: 전체 자산의 0.1% 변동시 매매, 0.005: 전체 자산의 0.5% 변동시 매매\n",
    "\n",
    "\n",
    "* fee - 수수료, 기본값 0.001 (변경 없음)\n",
    "\n",
    "* init_krw - 초기 투자금액, 기본값 100000000 (변경 없음)\n",
    "'''\n",
    "\n",
    "# Qualification 라운드 에서는 지정된 암호화폐 비율과 threshold 0.0을 사용해야 하며\n",
    "# 그 외의 라운드에서는 암포화폐 비율과 threshold를 자유롭게 사용할 수 있음\n",
    "\n",
    "# ------------------------------------------------\n",
    "# EDITABLE (1)\n",
    "#\n",
    "DEFAULT_RATIO_KRW = 0.0\n",
    "DEFAULT_RATIO_BTC = 0.65\n",
    "DEFAULT_RATIO_ETH = 0.35\n",
    "DEFAULT_RATIO_DOGE = 0.0\n",
    "DEFAULT_RATIO_ADA = 0.0\n",
    "\n",
    "DEFAULT_THRESHOLD = 0.0 # Qualification 라운드 에서는 이 값을 0.0으로\n",
    "# ------------------------------------------------\n",
    "\n",
    "def rebalancing( df, ratio_krw=DEFAULT_RATIO_KRW, ratio_btc=DEFAULT_RATIO_BTC, ratio_eth=DEFAULT_RATIO_ETH, ratio_doge=DEFAULT_RATIO_DOGE, ratio_ada=DEFAULT_RATIO_ADA, threshold=DEFAULT_THRESHOLD, fee=0.001, init_krw=100000000 ):\n",
    "\n",
    "    # -------------------------------------------------------------------------------\n",
    "    # DO NOT EDIT\n",
    "    #\n",
    "    ratio_sum = ratio_krw + ratio_btc + ratio_eth + ratio_doge + ratio_ada\n",
    "    if abs(ratio_sum - 1.0) > 0.0001:\n",
    "        print(f'The sum of the ratios must be 1. ({ratio_sum})')\n",
    "        return\n",
    "    # -------------------------------------------------------------------------------\n",
    "\n",
    "    row_index = 0\n",
    "\n",
    "    # 데이터프레임의 모든 행에 대해서 반복\n",
    "    for row_index in range( len( df ) ):\n",
    "\n",
    "        # 현재 데이터: cur_data\n",
    "        cur_data = df.loc[ row_index, : ].copy()\n",
    "        # 이전 데이터: prev_data\n",
    "        if row_index > 0:\n",
    "            prev_data = df.loc[ row_index-1, : ].copy()\n",
    "\n",
    "\n",
    "\n",
    "        #------------------------\n",
    "        # Balance 계산 (bal_)\n",
    "        # 하루 전의 계산 후 잔고(bal2_)를 현재의 계산 전 잔고로 가져옴(bal_)\n",
    "        if row_index == 0:\n",
    "            # 첫째 날이라면 잔고는 krw만 존재\n",
    "            cur_data[ 'bal_krw' ] = init_krw\n",
    "        else:\n",
    "            # 둘째 날 부터는 이전 날 계산 후 잔고(bal2_)를 현재 잔고(bal_)로 대입\n",
    "            cur_data[ 'bal_krw' ] = prev_data[ 'bal2_krw' ]\n",
    "            cur_data[ 'bal_btc' ] = prev_data[ 'bal2_btc' ]\n",
    "            cur_data[ 'bal_eth' ] = prev_data[ 'bal2_eth' ]\n",
    "            cur_data[ 'bal_doge' ] = prev_data[ 'bal2_doge' ]\n",
    "            cur_data[ 'bal_ada' ] = prev_data[ 'bal2_ada' ]\n",
    "            \n",
    "\n",
    "        #------------------------\n",
    "        # Total Value 계산 (value)\n",
    "        # 전체 자산의 가치를 모두 합산\n",
    "        cur_data[ 'value' ] = cur_data[ 'bal_krw' ]\n",
    "        cur_data[ 'value' ] += cur_data[ 'price_btc' ] * cur_data[ 'bal_btc' ]\n",
    "        cur_data[ 'value' ] += cur_data[ 'price_eth' ] * cur_data[ 'bal_eth' ]\n",
    "        cur_data[ 'value' ] += cur_data[ 'price_doge' ] * cur_data[ 'bal_doge' ] # EDITABLE (2)\n",
    "        cur_data[ 'value' ] += cur_data[ 'price_ada' ] * cur_data[ 'bal_ada' ] # EDITABLE (3)                                \n",
    "                                \n",
    "\n",
    "        #------------------------\n",
    "        # Target 계산 (target_)\n",
    "        # 비율에 따라 다시 조정되어야 할 목표 잔고 계산\n",
    "        cur_data[ 'target_btc' ] = ratio_btc * cur_data[ 'value' ] / cur_data[ 'price_btc' ]\n",
    "        cur_data[ 'target_eth' ] = ratio_eth * cur_data[ 'value' ] / cur_data[ 'price_eth' ]\n",
    "        cur_data[ 'target_doge' ] = ratio_doge * cur_data[ 'value' ] / cur_data[ 'price_doge' ]    # EDITABLE (4)\n",
    "        cur_data[ 'target_ada' ] = ratio_ada * cur_data[ 'value' ] / cur_data[ 'price_ada' ]      # EDITABLE (5)\n",
    "\n",
    "\n",
    "        #------------------------\n",
    "        # Trading Amount 계산 (trade_)\n",
    "        # Target 잔고를 위해 매매해야 할 양을 계산\n",
    "        cur_data[ 'trade_btc' ] = cur_data[ 'target_btc' ] - cur_data[ 'bal_btc' ]\n",
    "        cur_data[ 'trade_eth' ] = cur_data[ 'target_eth' ] - cur_data[ 'bal_eth' ]\n",
    "        cur_data[ 'trade_doge' ] = cur_data[ 'target_doge' ] - cur_data[ 'bal_doge' ]  # EDITABLE (6)\n",
    "        cur_data[ 'trade_ada' ] = cur_data[ 'target_ada' ] - cur_data[ 'bal_ada' ]  # EDITABLE (7)\n",
    "\n",
    "\n",
    "\n",
    "        #------------------------\n",
    "        # 매매해야 할 양의 절대값이 총 자산의 일정 %를 넘지 않으면 매매하지 않음\n",
    "        th_value = threshold * cur_data[ 'value' ]\n",
    "        amount_btc = abs( cur_data[ 'trade_btc' ] * cur_data[ 'price_btc' ] )\n",
    "        amount_eth = abs( cur_data[ 'trade_eth' ] * cur_data[ 'price_eth' ] )\n",
    "        amount_doge = abs( cur_data[ 'trade_doge' ] * cur_data[ 'price_doge' ] )  # EDITABLE (8)\n",
    "        amount_ada = abs( cur_data[ 'trade_ada' ] * cur_data[ 'price_ada' ] )  # EDITABLE (9)\n",
    "\n",
    "\n",
    "        #--------------------------------------------------------------------------------------------------------------------\n",
    "        # DO NOT EDIT\n",
    "        # 계산 후 잔고 준비\n",
    "        cur_data[ 'bal2_krw' ] = cur_data[ 'bal_krw' ]\n",
    "        cur_data[ 'bal2_btc' ] = cur_data[ 'bal_btc' ]\n",
    "        cur_data[ 'bal2_eth' ] = cur_data[ 'bal_eth' ]\n",
    "        cur_data[ 'bal2_doge' ] = cur_data[ 'bal_doge' ]\n",
    "        cur_data[ 'bal2_ada' ] = cur_data[ 'bal_ada' ]\n",
    "\n",
    "        if amount_btc >= th_value:\n",
    "            # BTC 잔고 변경 \n",
    "            cur_data[ 'bal2_btc' ] += cur_data[ 'trade_btc' ]\n",
    "            # krw 잔고 변경 (BTC 매매 반영 + 수수료 차감)\n",
    "            cur_data[ 'bal2_krw' ] -= cur_data[ 'trade_btc' ] * cur_data[ 'price_btc' ] + amount_btc * fee\n",
    "\n",
    "        if amount_eth >= th_value:\n",
    "            # ETH 잔고 변경 \n",
    "            cur_data[ 'bal2_eth' ] += cur_data[ 'trade_eth' ]\n",
    "            # krw 잔고 변경 (ETH 매매 반영 + 수수료 차감)\n",
    "            cur_data[ 'bal2_krw' ] -= cur_data[ 'trade_eth' ] * cur_data[ 'price_eth' ] + amount_eth * fee\n",
    "\n",
    "        if amount_doge >= th_value:\n",
    "            # DOGE 잔고 변경 \n",
    "            cur_data[ 'bal2_doge' ] += cur_data[ 'trade_doge' ]\n",
    "            # krw 잔고 변경 (DOGE 매매 반영 + 수수료 차감)\n",
    "            cur_data[ 'bal2_krw' ] -= cur_data[ 'trade_doge' ] * cur_data[ 'price_doge' ] + amount_doge * fee\n",
    "\n",
    "        if amount_ada >= th_value:\n",
    "            # ADA 잔고 변경 \n",
    "            cur_data[ 'bal2_ada' ] += cur_data[ 'trade_ada' ]\n",
    "            # krw 잔고 변경 (ADA 매매 반영 + 수수료 차감)\n",
    "            cur_data[ 'bal2_krw' ] -= cur_data[ 'trade_ada' ] * cur_data[ 'price_ada' ] + amount_ada * fee\n",
    "\n",
    "\n",
    "        #--------------------------------------------------------------------------------------------------------------------\n",
    "        # DO NOT EDIT\n",
    "        #\n",
    "        df.loc[ row_index, : ] = cur_data\n",
    "\n",
    "        row_index += 1\n",
    "        #--------------------------------------------------------------------------------------------------------------------\n",
    "\n",
    "\n"
   ]
  },
  {
   "cell_type": "markdown",
   "metadata": {
    "id": "7eSOfPDyYQuq"
   },
   "source": [
    "### 하나씩 비율을 조절하며 HPR, MDD 를 확인해 보는 방법"
   ]
  },
  {
   "cell_type": "code",
   "execution_count": 45,
   "metadata": {
    "id": "99vdq_Sl_bch"
   },
   "outputs": [
    {
     "name": "stdout",
     "output_type": "stream",
     "text": [
      "HPR=-20.8 MDD=58.4\n"
     ]
    }
   ],
   "source": [
    "# 비트코인만 100%\n",
    "\n",
    "rebalancing( df, ratio_krw=0.0, ratio_btc=1.0, ratio_eth=0.0, ratio_doge=0.0, ratio_ada=0.0, threshold= 0.0001 )\n",
    "\n",
    "hpr, mdd = trading_helper.check_performance_rebal(df)\n",
    "\n",
    "print( f'HPR={hpr*100:.1f} MDD={mdd*100:.1f}' )\n"
   ]
  },
  {
   "cell_type": "code",
   "execution_count": 46,
   "metadata": {
    "id": "ya-M1T8lD4re"
   },
   "outputs": [
    {
     "name": "stdout",
     "output_type": "stream",
     "text": [
      "HPR=-23.1 MDD=58.3\n"
     ]
    }
   ],
   "source": [
    "# 비트코인 60% 이더리움 40%\n",
    "\n",
    "rebalancing( df, ratio_krw=0.0, ratio_btc=0.6, ratio_eth=0.4, ratio_doge=0.0, ratio_ada=0.0, threshold= 0.0001 )\n",
    "\n",
    "hpr, mdd = trading_helper.check_performance_rebal(df)\n",
    "\n",
    "print( f'HPR={hpr*100:.1f} MDD={mdd*100:.1f}' )\n"
   ]
  },
  {
   "cell_type": "markdown",
   "metadata": {
    "id": "AKYgDNdJYbvF"
   },
   "source": [
    "### 비트코인, 이더리움, 도지코인, 에이다 그냥 가지고 있을 때와 리밸런싱 전략 4개의 HPR, MDD 비교"
   ]
  },
  {
   "cell_type": "code",
   "execution_count": 47,
   "metadata": {
    "id": "9l4pB45uZVzq"
   },
   "outputs": [
    {
     "name": "stdout",
     "output_type": "stream",
     "text": [
      "HPR=-20.8 MDD=58.4\n",
      "HPR=-29.4 MDD=65.0\n",
      "HPR=-35.6 MDD=59.5\n",
      "HPR=-45.9 MDD=72.7\n",
      "HPR=-5.4 MDD=21.2\n",
      "HPR=-7.2 MDD=27.1\n",
      "HPR=-16.4 MDD=44.6\n",
      "HPR=-21.4 MDD=49.4\n"
     ]
    }
   ],
   "source": [
    "\n",
    "rebalancing( df, ratio_krw=0.0, ratio_btc=1.0, ratio_eth=0.0, ratio_doge=0.0, ratio_ada=0.0 )\n",
    "s_btc = df['value'].copy()\n",
    "hpr, mdd = trading_helper.check_performance_rebal(df)\n",
    "print( f'HPR={hpr*100:.1f} MDD={mdd*100:.1f}' )\n",
    "\n",
    "rebalancing( df, ratio_krw=0.0, ratio_btc=0.0, ratio_eth=1.0, ratio_doge=0.0, ratio_ada=0.0 )\n",
    "s_eth = df['value'].copy()\n",
    "hpr, mdd = trading_helper.check_performance_rebal(df)\n",
    "print( f'HPR={hpr*100:.1f} MDD={mdd*100:.1f}' )\n",
    "\n",
    "rebalancing( df, ratio_krw=0.0, ratio_btc=0.0, ratio_eth=0.0, ratio_doge=1.0, ratio_ada=0.0 )\n",
    "s_doge = df['value'].copy()\n",
    "hpr, mdd = trading_helper.check_performance_rebal(df)\n",
    "print( f'HPR={hpr*100:.1f} MDD={mdd*100:.1f}' )\n",
    "\n",
    "rebalancing( df, ratio_krw=0.0, ratio_btc=0.0, ratio_eth=0.0, ratio_doge=0.0, ratio_ada=1.0 )\n",
    "s_ada = df['value'].copy()\n",
    "hpr, mdd = trading_helper.check_performance_rebal(df)\n",
    "print( f'HPR={hpr*100:.1f} MDD={mdd*100:.1f}' )\n",
    "\n",
    "rebalancing( df, ratio_krw=0.7, ratio_btc=0.1, ratio_eth=0.1, ratio_doge=0.05, ratio_ada=0.05 )\n",
    "s1 = df['value'].copy()\n",
    "hpr, mdd = trading_helper.check_performance_rebal(df)\n",
    "print( f'HPR={hpr*100:.1f} MDD={mdd*100:.1f}' )\n",
    "\n",
    "rebalancing( df, ratio_krw=0.6, ratio_btc=0.2, ratio_eth=0.1, ratio_doge=0.05, ratio_ada=0.05 )\n",
    "s2 = df['value'].copy()\n",
    "hpr, mdd = trading_helper.check_performance_rebal(df)\n",
    "print( f'HPR={hpr*100:.1f} MDD={mdd*100:.1f}' )\n",
    "\n",
    "rebalancing( df, ratio_krw=0.3, ratio_btc=0.2, ratio_eth=0.3, ratio_doge=0.1, ratio_ada=0.1 )\n",
    "s3 = df['value'].copy()\n",
    "hpr, mdd = trading_helper.check_performance_rebal(df)\n",
    "print( f'HPR={hpr*100:.1f} MDD={mdd*100:.1f}' )\n",
    "\n",
    "rebalancing( df, ratio_krw=0.2, ratio_btc=0.2, ratio_eth=0.2, ratio_doge=0.2, ratio_ada=0.2 )\n",
    "s4 = df['value'].copy()\n",
    "hpr, mdd = trading_helper.check_performance_rebal(df)\n",
    "print( f'HPR={hpr*100:.1f} MDD={mdd*100:.1f}' )\n"
   ]
  },
  {
   "cell_type": "markdown",
   "metadata": {},
   "source": [
    "# 추가 코드!"
   ]
  },
  {
   "cell_type": "code",
   "execution_count": 48,
   "metadata": {},
   "outputs": [
    {
     "name": "stdout",
     "output_type": "stream",
     "text": [
      "HPR=-2.1 MDD=15.6\n",
      "HPR=-0.6 MDD=8.1\n",
      "HPR=-1.6 MDD=7.3\n"
     ]
    }
   ],
   "source": [
    "rebalancing(df, ratio_krw = 0.8,\n",
    "ratio_btc = 0,\n",
    "ratio_eth = 0,\n",
    "ratio_doge = 0.2,\n",
    "ratio_ada = 0\n",
    ")\n",
    "s5 = df['value'].copy()\n",
    "hpr, mdd = trading_helper.check_performance_rebal(df)\n",
    "print( f'HPR={hpr*100:.1f} MDD={mdd*100:.1f}' )\n",
    "\n",
    "rebalancing(df, ratio_krw = 0.9,\n",
    "ratio_btc = 0,\n",
    "ratio_eth = 0,\n",
    "ratio_doge = 0.1,\n",
    "ratio_ada = 0\n",
    ")\n",
    "s6 = df['value'].copy()\n",
    "hpr, mdd = trading_helper.check_performance_rebal(df)\n",
    "print( f'HPR={hpr*100:.1f} MDD={mdd*100:.1f}' )\n",
    "\n",
    "rebalancing(df, ratio_krw = 0.9,\n",
    "ratio_btc = 0.025,\n",
    "ratio_eth = 0.025,\n",
    "ratio_doge = 0.025,\n",
    "ratio_ada = 0.025\n",
    ")\n",
    "s7 = df['value'].copy()\n",
    "hpr, mdd = trading_helper.check_performance_rebal(df)\n",
    "print( f'HPR={hpr*100:.1f} MDD={mdd*100:.1f}' )\n"
   ]
  },
  {
   "cell_type": "code",
   "execution_count": 89,
   "metadata": {},
   "outputs": [
    {
     "name": "stdout",
     "output_type": "stream",
     "text": [
      "HPR=-28.5 MDD=48.1\n"
     ]
    }
   ],
   "source": [
    "rebalancing(df, ratio_krw = 0.9,\n",
    "ratio_btc = 0,\n",
    "ratio_eth = 0,\n",
    "ratio_doge = 0.7999999999999996,\n",
    "ratio_ada = -0.6999999999999996,\n",
    "threshold = 0.7999999999999996\n",
    ")\n",
    "s7 = df['value'].copy()\n",
    "hpr, mdd = trading_helper.check_performance_rebal(df)\n",
    "print( f'HPR={hpr*100:.1f} MDD={mdd*100:.1f}' )\n"
   ]
  },
  {
   "cell_type": "code",
   "execution_count": 88,
   "metadata": {},
   "outputs": [
    {
     "name": "stdout",
     "output_type": "stream",
     "text": [
      "HPR=-3.6 MDD=6.6\n"
     ]
    }
   ],
   "source": [
    "rebalancing(df, ratio_krw = 0.9,\n",
    "ratio_btc = 0,\n",
    "ratio_eth = 0,\n",
    "ratio_doge = 0.09999999999999987,\n",
    "ratio_ada = 1.3877787807814457e-16,\n",
    "threshold = 0.09999999999999987\n",
    "            \n",
    ")\n",
    "s7 = df['value'].copy()\n",
    "hpr, mdd = trading_helper.check_performance_rebal(df)\n",
    "print( f'HPR={hpr*100:.1f} MDD={mdd*100:.1f}' )\n"
   ]
  },
  {
   "cell_type": "code",
   "execution_count": 17,
   "metadata": {
    "id": "C_swfk0vnV1v"
   },
   "outputs": [
    {
     "name": "stdout",
     "output_type": "stream",
     "text": [
      "0.0 0.5 HPR=-21.3 MDD=44.9\n",
      "0.1 0.4 HPR=-18.4 MDD=40.5\n",
      "0.2 0.3 HPR=-16.0 MDD=36.1\n",
      "0.30000000000000004 0.19999999999999996 HPR=-13.9 MDD=31.6\n",
      "0.4 0.09999999999999998 HPR=-12.3 MDD=33.1\n",
      "0.5 0.0 HPR=-11.1 MDD=35.1\n"
     ]
    }
   ],
   "source": [
    "\n",
    "for i in np.arange(0, 0.6, 0.1):\n",
    "    x = i\n",
    "    y = 0.5 - i\n",
    "\n",
    "    print( x, y, end=' ' )\n",
    "\n",
    "    rebalancing( df, ratio_krw= 0.5, ratio_btc=0, ratio_eth=0, ratio_doge=x, ratio_ada=y )\n",
    "    s4 = df['value'].copy()\n",
    "    hpr, mdd = trading_helper.check_performance_rebal(df)\n",
    "    print( f'HPR={hpr*100:.1f} MDD={mdd*100:.1f}' )\n"
   ]
  },
  {
   "cell_type": "code",
   "execution_count": 81,
   "metadata": {},
   "outputs": [
    {
     "name": "stdout",
     "output_type": "stream",
     "text": [
      "ratio_krw=0.9, ratio_btc=0, ratio_eth=0, ratio_doge=-0.5, ratio_ada=0.6, threshold=-0.5\n",
      "HPR=-25.7 MDD=50.949\n",
      "\n",
      "ratio_krw=0.9, ratio_btc=0, ratio_eth=0, ratio_doge=-0.45, ratio_ada=0.55, threshold=-0.45\n",
      "HPR=-23.1 MDD=47.199\n",
      "\n",
      "ratio_krw=0.9, ratio_btc=0, ratio_eth=0, ratio_doge=-0.4, ratio_ada=0.5, threshold=-0.4\n",
      "HPR=-20.6 MDD=43.253\n",
      "\n",
      "ratio_krw=0.9, ratio_btc=0, ratio_eth=0, ratio_doge=-0.35000000000000003, ratio_ada=0.45000000000000007, threshold=-0.35000000000000003\n",
      "HPR=-18.2 MDD=39.140\n",
      "\n",
      "ratio_krw=0.9, ratio_btc=0, ratio_eth=0, ratio_doge=-0.30000000000000004, ratio_ada=0.4, threshold=-0.30000000000000004\n",
      "HPR=-15.9 MDD=34.859\n",
      "\n",
      "ratio_krw=0.9, ratio_btc=0, ratio_eth=0, ratio_doge=-0.25000000000000006, ratio_ada=0.3500000000000001, threshold=-0.25000000000000006\n",
      "HPR=-13.6 MDD=30.465\n",
      "\n",
      "ratio_krw=0.9, ratio_btc=0, ratio_eth=0, ratio_doge=-0.20000000000000007, ratio_ada=0.30000000000000004, threshold=-0.20000000000000007\n",
      "HPR=-11.4 MDD=26.190\n",
      "\n",
      "ratio_krw=0.9, ratio_btc=0, ratio_eth=0, ratio_doge=-0.15000000000000008, ratio_ada=0.2500000000000001, threshold=-0.15000000000000008\n",
      "HPR=-9.3 MDD=21.921\n",
      "\n",
      "ratio_krw=0.9, ratio_btc=0, ratio_eth=0, ratio_doge=-0.10000000000000009, ratio_ada=0.2000000000000001, threshold=-0.10000000000000009\n",
      "HPR=-7.3 MDD=17.707\n",
      "\n",
      "ratio_krw=0.9, ratio_btc=0, ratio_eth=0, ratio_doge=-0.0500000000000001, ratio_ada=0.1500000000000001, threshold=-0.0500000000000001\n",
      "HPR=-5.4 MDD=14.125\n",
      "\n",
      "ratio_krw=0.9, ratio_btc=0, ratio_eth=0, ratio_doge=-1.1102230246251565e-16, ratio_ada=0.10000000000000012, threshold=-1.1102230246251565e-16\n",
      "HPR=-3.6 MDD=10.499\n",
      "\n",
      "ratio_krw=0.9, ratio_btc=0, ratio_eth=0, ratio_doge=0.04999999999999982, ratio_ada=0.05000000000000018, threshold=0.04999999999999982\n",
      "HPR=-2.1 MDD=7.080\n",
      "\n",
      "ratio_krw=0.9, ratio_btc=0, ratio_eth=0, ratio_doge=0.09999999999999987, ratio_ada=1.3877787807814457e-16, threshold=0.09999999999999987\n",
      "HPR=-0.6 MDD=8.067\n",
      "\n",
      "ratio_krw=0.9, ratio_btc=0, ratio_eth=0, ratio_doge=0.1499999999999999, ratio_ada=-0.049999999999999906, threshold=0.1499999999999999\n",
      "HPR=0.6 MDD=9.816\n",
      "\n",
      "ratio_krw=0.9, ratio_btc=0, ratio_eth=0, ratio_doge=0.19999999999999984, ratio_ada=-0.09999999999999984, threshold=0.19999999999999984\n",
      "HPR=1.6 MDD=11.713\n",
      "\n",
      "ratio_krw=0.9, ratio_btc=0, ratio_eth=0, ratio_doge=0.24999999999999978, ratio_ada=-0.14999999999999977, threshold=0.24999999999999978\n",
      "HPR=2.6 MDD=13.591\n",
      "\n",
      "ratio_krw=0.9, ratio_btc=0, ratio_eth=0, ratio_doge=0.2999999999999998, ratio_ada=-0.19999999999999982, threshold=0.2999999999999998\n",
      "HPR=3.4 MDD=16.083\n",
      "\n",
      "ratio_krw=0.9, ratio_btc=0, ratio_eth=0, ratio_doge=0.34999999999999987, ratio_ada=-0.24999999999999986, threshold=0.34999999999999987\n",
      "HPR=4.0 MDD=18.601\n",
      "\n",
      "ratio_krw=0.9, ratio_btc=0, ratio_eth=0, ratio_doge=0.3999999999999998, ratio_ada=-0.2999999999999998, threshold=0.3999999999999998\n",
      "HPR=4.5 MDD=21.067\n",
      "\n",
      "ratio_krw=0.9, ratio_btc=0, ratio_eth=0, ratio_doge=0.44999999999999973, ratio_ada=-0.34999999999999976, threshold=0.44999999999999973\n",
      "HPR=4.9 MDD=23.481\n",
      "\n",
      "ratio_krw=0.9, ratio_btc=0, ratio_eth=0, ratio_doge=0.4999999999999998, ratio_ada=-0.3999999999999998, threshold=0.4999999999999998\n",
      "HPR=5.1 MDD=25.844\n",
      "\n",
      "ratio_krw=0.9, ratio_btc=0, ratio_eth=0, ratio_doge=0.5499999999999998, ratio_ada=-0.44999999999999984, threshold=0.5499999999999998\n",
      "HPR=5.2 MDD=28.156\n",
      "\n"
     ]
    }
   ],
   "source": [
    "for i in np.arange(-0.5, 0.6, 0.05):\n",
    "    x = i\n",
    "    y = 0.1 - i\n",
    "\n",
    "    # print( x, y, end=' ' )\n",
    "    ratio_krw= 0.9\n",
    "    ratio_btc=0\n",
    "    ratio_eth=0\n",
    "    ratio_doge=x \n",
    "    ratio_ada=y\n",
    "    threshold=x\n",
    "    \n",
    "    rebalancing( df, ratio_krw, ratio_btc, ratio_eth, ratio_doge, ratio_ada, threshold )\n",
    "    s4 = df['value'].copy()\n",
    "    hpr, mdd = trading_helper.check_performance_rebal(df)\n",
    "    print(f'ratio_krw={ratio_krw}, ratio_btc={ratio_btc}, ratio_eth={ratio_eth}, ratio_doge={ratio_doge}, ratio_ada={ratio_ada}, threshold={threshold}')\n",
    "    print( f'HPR={hpr*100:.1f} MDD={mdd*100:.3f}' )\n",
    "    print()"
   ]
  },
  {
   "cell_type": "markdown",
   "metadata": {
    "id": "zlNi9iLkYumn"
   },
   "source": [
    "### 그래프 그려보기"
   ]
  },
  {
   "cell_type": "code",
   "execution_count": 42,
   "metadata": {
    "id": "939Vkn6o_TfX"
   },
   "outputs": [
    {
     "data": {
      "text/plain": [
       "<Axes: >"
      ]
     },
     "execution_count": 42,
     "metadata": {},
     "output_type": "execute_result"
    },
    {
     "data": {
      "image/png": "[encoded data removed]",
      "text/plain": [
       "<Figure size 1080x216 with 1 Axes>"
      ]
     },
     "metadata": {
      "needs_background": "light"
     },
     "output_type": "display_data"
    }
   ],
   "source": [
    "\n",
    "df2 = pd.DataFrame()\n",
    "df2['BTC'] = s_btc\n",
    "df2['ETH'] = s_eth\n",
    "df2['DOGE'] = s_doge\n",
    "df2['ADA'] = s_ada\n",
    "df2['strategy1'] = s1\n",
    "df2['strategy2'] = s2\n",
    "df2['strategy3'] = s3\n",
    "df2['strategy4'] = s4\n",
    "df2['strategy5'] = s5\n",
    "df2['strategy6'] = s6\n",
    "df2['strategy7'] = s7\n",
    "\n",
    "\n",
    "df2.plot( figsize=(15,3) )"
   ]
  },
  {
   "cell_type": "markdown",
   "metadata": {
    "id": "_Xg9eS5kJWWz"
   },
   "source": [
    "# 코드 보관 장소 \n",
    "### 아래에 보관하고 싶은 코드를 자유롭게 수정/추가할 수 있습니다.\n",
    "---"
   ]
  },
  {
   "cell_type": "markdown",
   "metadata": {
    "id": "iQYKsbUmJczt"
   },
   "source": [
    "### Qual. Round 1,2 Code"
   ]
  },
  {
   "cell_type": "code",
   "execution_count": 12,
   "metadata": {
    "id": "Tk6qC-h_JWw6"
   },
   "outputs": [],
   "source": [
    "# ------------------------------------------------------------------------------------------------------\n",
    "# - 코드를 완성했다면 이 코드셀만 복사해서 competition 페이지 Rebalancing 탭에 라운드 별 코드 항목으로 붙여넣습니다.\n",
    "# - 연습할 때는 다음과 같은 이유로 프로젝트 페이지의 에디터에서 직접 연습하지 말고 Colab에서 연습하세요. \n",
    "#   + Colab의 연습은 서버에 횟수가 기록되어 평가에 반영됩니다.\n",
    "#   + Colab 노트북 자체에도 변경 history가 누적 됩니다. (부정행위 방지)\n",
    "#   + 프로젝트 페이지에서 submit 횟수가 지나치게 빈번한 경우 submit이 일정시간 제한될 수 있습니다.\n",
    "# ------------------------------------------------------------------------------------------------------\n",
    "\n",
    "# Given Code Version 2023.05.16-v2\n",
    "\n",
    "import numpy as np\n",
    "import pandas as pd\n",
    "import datetime\n",
    "\n",
    "# rebalancing() 암호화폐 포트폴리오 리밸런싱 함수\n",
    "'''\n",
    "* ratio_  자산배분 비율 (총 합은 반드시 1.0이어야 함)\n",
    "  투자하지 않는 암호화폐는 0으로 남겨둠\n",
    "  \n",
    "  예) 원화 10%, 비트코인(BTC) 50%, 이더리움(ETH) 40%\n",
    "      ratio_krw = 0.7\n",
    "      ratio_btc = 0.1\n",
    "      ratio_eth = 0.1\n",
    "      ratio_doge = 0.05\n",
    "      ratio_ada = 0.05\n",
    "\n",
    "  예) 원화 70%, 비트코인(BTC) 10%, 이더리움(ETH) 10%, 도지코인(DOGE) 5%, 에이다(ADA) 5%\n",
    "      ratio_krw = 0.7\n",
    "      ratio_btc = 0.1\n",
    "      ratio_eth = 0.1\n",
    "      ratio_doge = 0.05\n",
    "      ratio_ada = 0.05\n",
    "\n",
    "* threshold - 최소한으로 요구되는 총 자산 대비 변동 비율 (%)\n",
    "\n",
    "  기본값 0: 조금이라도 변동될 때 매매\n",
    "  예) 0.001: 전체 자산의 0.1% 변동시 매매, 0.005: 전체 자산의 0.5% 변동시 매매\n",
    "\n",
    "\n",
    "* fee - 수수료, 기본값 0.001 (변경 없음)\n",
    "\n",
    "* init_krw - 초기 투자금액, 기본값 100000000 (변경 없음)\n",
    "'''\n",
    "\n",
    "# Qualification 라운드 에서는 지정된 암호화폐 비율과 threshold 0.0을 사용해야 하며\n",
    "# 그 외의 라운드에서는 암포화폐 비율과 threshold를 자유롭게 사용할 수 있음\n",
    "\n",
    "# ------------------------------------------------\n",
    "# EDITABLE (1)\n",
    "#\n",
    "DEFAULT_RATIO_KRW = 0.7\n",
    "DEFAULT_RATIO_BTC = 0.1\n",
    "DEFAULT_RATIO_ETH = 0.1\n",
    "DEFAULT_RATIO_DOGE = 0.05\n",
    "DEFAULT_RATIO_ADA = 0.05\n",
    "\n",
    "DEFAULT_THRESHOLD = 0.0 # Qualification 라운드 에서는 이 값을 0.0으로\n",
    "# ------------------------------------------------\n",
    "\n",
    "def rebalancing( df, ratio_krw=DEFAULT_RATIO_KRW, ratio_btc=DEFAULT_RATIO_BTC, ratio_eth=DEFAULT_RATIO_ETH, ratio_doge=DEFAULT_RATIO_DOGE, ratio_ada=DEFAULT_RATIO_ADA, threshold=DEFAULT_THRESHOLD, fee=0.001, init_krw=100000000 ):\n",
    "\n",
    "    # -------------------------------------------------------------------------------\n",
    "    # DO NOT EDIT\n",
    "    #\n",
    "    ratio_sum = ratio_krw + ratio_btc + ratio_eth + ratio_doge + ratio_ada\n",
    "    if abs(ratio_sum - 1.0) > 0.0001:\n",
    "        print(f'The sum of the ratios must be 1. ({ratio_sum})')\n",
    "        return\n",
    "    # -------------------------------------------------------------------------------\n",
    "\n",
    "    row_index = 0\n",
    "\n",
    "    # 데이터프레임의 모든 행에 대해서 반복\n",
    "    for row_index in range( len( df ) ):\n",
    "\n",
    "        # 현재 데이터: cur_data\n",
    "        cur_data = df.loc[ row_index, : ].copy()\n",
    "        # 이전 데이터: prev_data\n",
    "        if row_index > 0:\n",
    "            prev_data = df.loc[ row_index-1, : ].copy()\n",
    "\n",
    "\n",
    "\n",
    "        #------------------------\n",
    "        # Balance 계산 (bal_)\n",
    "        # 하루 전의 계산 후 잔고(bal2_)를 현재의 계산 전 잔고로 가져옴(bal_)\n",
    "        if row_index == 0:\n",
    "            # 첫째 날이라면 잔고는 krw만 존재\n",
    "            cur_data[ 'bal_krw' ] = init_krw\n",
    "        else:\n",
    "            # 둘째 날 부터는 이전 날 계산 후 잔고(bal2_)를 현재 잔고(bal_)로 대입\n",
    "            cur_data[ 'bal_krw' ] = prev_data[ 'bal2_krw' ]\n",
    "            cur_data[ 'bal_btc' ] = prev_data[ 'bal2_btc' ]\n",
    "            cur_data[ 'bal_eth' ] = prev_data[ 'bal2_eth' ]\n",
    "            cur_data[ 'bal_doge' ] = prev_data[ 'bal2_doge' ]\n",
    "            cur_data[ 'bal_ada' ] = prev_data[ 'bal2_ada' ]\n",
    "            \n",
    "\n",
    "        #------------------------\n",
    "        # Total Value 계산 (value)\n",
    "        # 전체 자산의 가치를 모두 합산\n",
    "        cur_data[ 'value' ] = cur_data[ 'bal_krw' ]\n",
    "        cur_data[ 'value' ] += cur_data[ 'price_btc' ] * cur_data[ 'bal_btc' ]\n",
    "        cur_data[ 'value' ] += cur_data[ 'price_eth' ] * cur_data[ 'bal_eth' ]\n",
    "        cur_data[ 'value' ] += 0 # EDITABLE (2)\n",
    "        cur_data[ 'value' ] += 0 # EDITABLE (3)                                \n",
    "                                \n",
    "\n",
    "        #------------------------\n",
    "        # Target 계산 (target_)\n",
    "        # 비율에 따라 다시 조정되어야 할 목표 잔고 계산\n",
    "        cur_data[ 'target_btc' ] = ratio_btc * cur_data[ 'value' ] / cur_data[ 'price_btc' ]\n",
    "        cur_data[ 'target_eth' ] = ratio_eth * cur_data[ 'value' ] / cur_data[ 'price_eth' ]\n",
    "        cur_data[ 'target_doge' ] = 0    # EDITABLE (4)\n",
    "        cur_data[ 'target_ada' ] = 0     # EDITABLE (5)\n",
    "\n",
    "\n",
    "        #------------------------\n",
    "        # Trading Amount 계산 (trade_)\n",
    "        # Target 잔고를 위해 매매해야 할 양을 계산\n",
    "        cur_data[ 'trade_btc' ] = cur_data[ 'target_btc' ] - cur_data[ 'bal_btc' ]\n",
    "        cur_data[ 'trade_eth' ] = cur_data[ 'target_eth' ] - cur_data[ 'bal_eth' ]\n",
    "        cur_data[ 'trade_doge' ] = 0    # EDITABLE (6)\n",
    "        cur_data[ 'trade_ada' ] = 0     # EDITABLE (7)\n",
    "\n",
    "\n",
    "        #------------------------\n",
    "        # 매매해야 할 양의 절대값이 총 자산의 일정 %를 넘지 않으면 매매하지 않음\n",
    "        th_value = threshold * cur_data[ 'value' ]\n",
    "        amount_btc = abs( cur_data[ 'trade_btc' ] * cur_data[ 'price_btc' ] )\n",
    "        amount_eth = abs( cur_data[ 'trade_eth' ] * cur_data[ 'price_eth' ] )\n",
    "        amount_doge = 0    # EDITABLE (8)\n",
    "        amount_ada = 0     # EDITABLE (9)\n",
    "\n",
    "        #--------------------------------------------------------------------------------------------------------------------\n",
    "        # DO NOT EDIT\n",
    "        # 계산 후 잔고 준비\n",
    "        cur_data[ 'bal2_krw' ] = cur_data[ 'bal_krw' ]\n",
    "        cur_data[ 'bal2_btc' ] = cur_data[ 'bal_btc' ]\n",
    "        cur_data[ 'bal2_eth' ] = cur_data[ 'bal_eth' ]\n",
    "        cur_data[ 'bal2_doge' ] = cur_data[ 'bal_doge' ]\n",
    "        cur_data[ 'bal2_ada' ] = cur_data[ 'bal_ada' ]\n",
    "\n",
    "        if amount_btc >= th_value:\n",
    "            # BTC 잔고 변경 \n",
    "            cur_data[ 'bal2_btc' ] += cur_data[ 'trade_btc' ]\n",
    "            # krw 잔고 변경 (BTC 매매 반영 + 수수료 차감)\n",
    "            cur_data[ 'bal2_krw' ] -= cur_data[ 'trade_btc' ] * cur_data[ 'price_btc' ] + amount_btc * fee\n",
    "\n",
    "        if amount_eth >= th_value:\n",
    "            # ETH 잔고 변경 \n",
    "            cur_data[ 'bal2_eth' ] += cur_data[ 'trade_eth' ]\n",
    "            # krw 잔고 변경 (ETH 매매 반영 + 수수료 차감)\n",
    "            cur_data[ 'bal2_krw' ] -= cur_data[ 'trade_eth' ] * cur_data[ 'price_eth' ] + amount_eth * fee\n",
    "\n",
    "        if amount_doge >= th_value:\n",
    "            # DOGE 잔고 변경 \n",
    "            cur_data[ 'bal2_doge' ] += cur_data[ 'trade_doge' ]\n",
    "            # krw 잔고 변경 (DOGE 매매 반영 + 수수료 차감)\n",
    "            cur_data[ 'bal2_krw' ] -= cur_data[ 'trade_doge' ] * cur_data[ 'price_doge' ] + amount_doge * fee\n",
    "\n",
    "        if amount_ada >= th_value:\n",
    "            # ADA 잔고 변경 \n",
    "            cur_data[ 'bal2_ada' ] += cur_data[ 'trade_ada' ]\n",
    "            # krw 잔고 변경 (ADA 매매 반영 + 수수료 차감)\n",
    "            cur_data[ 'bal2_krw' ] -= cur_data[ 'trade_ada' ] * cur_data[ 'price_ada' ] + amount_ada * fee\n",
    "\n",
    "\n",
    "        #--------------------------------------------------------------------------------------------------------------------\n",
    "        # DO NOT EDIT\n",
    "        #\n",
    "        df.loc[ row_index, : ] = cur_data\n",
    "\n",
    "        row_index += 1\n",
    "        #--------------------------------------------------------------------------------------------------------------------\n",
    "\n",
    "\n"
   ]
  },
  {
   "cell_type": "markdown",
   "metadata": {
    "id": "LBTE1G2-Lj3N"
   },
   "source": [
    "### Comp. Round 1 (MDD 20) Code"
   ]
  },
  {
   "cell_type": "code",
   "execution_count": null,
   "metadata": {
    "id": "m-au3e9BLpId"
   },
   "outputs": [],
   "source": []
  },
  {
   "cell_type": "markdown",
   "metadata": {
    "id": "JPF0Ng19LphC"
   },
   "source": [
    "### Comp. Round 2 (MDD 10) Code"
   ]
  },
  {
   "cell_type": "code",
   "execution_count": null,
   "metadata": {
    "id": "cWwzthjCLqyx"
   },
   "outputs": [],
   "source": []
  },
  {
   "cell_type": "markdown",
   "metadata": {
    "id": "ibjFBaWyLrix"
   },
   "source": [
    "### Bonus Round (MDD 30) Code"
   ]
  },
  {
   "cell_type": "code",
   "execution_count": null,
   "metadata": {
    "id": "a4FiiJatLuFL"
   },
   "outputs": [],
   "source": []
  }
 ],
 "metadata": {
  "colab": {
   "provenance": []
  },
  "kernelspec": {
   "display_name": "Python 3 (ipykernel)",
   "language": "python",
   "name": "python3"
  },
  "language_info": {
   "codemirror_mode": {
    "name": "ipython",
    "version": 3
   },
   "file_extension": ".py",
   "mimetype": "text/x-python",
   "name": "python",
   "nbconvert_exporter": "python",
   "pygments_lexer": "ipython3",
   "version": "3.9.10"
  }
 },
 "nbformat": 4,
 "nbformat_minor": 4
}
