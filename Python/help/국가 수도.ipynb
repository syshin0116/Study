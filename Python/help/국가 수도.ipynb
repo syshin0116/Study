{
 "cells": [
  {
   "cell_type": "code",
   "execution_count": 1,
   "id": "9a63a609-3fe3-4e7c-bfc6-56c9283e57ba",
   "metadata": {},
   "outputs": [
    {
     "name": "stdin",
     "output_type": "stream",
     "text": [
      "Input nation and its capital (. to quit):  Korea Seoul\n",
      "Input nation and its capital (. to quit):  Korea Tokyo\n"
     ]
    },
    {
     "name": "stdout",
     "output_type": "stream",
     "text": [
      "nation already exists\n"
     ]
    },
    {
     "name": "stdin",
     "output_type": "stream",
     "text": [
      "Input nation and its capital (. to quit):  Japan Tokyo\n",
      "Input nation and its capital (. to quit):  China Beijing\n",
      "Input nation and its capital (. to quit):  UK London\n",
      "Input nation and its capital (. to quit):  US WashingtonDC\n",
      "Input nation and its capital (. to quit):  France Paris\n",
      "Input nation and its capital (. to quit):  Spain Madrid\n",
      "Input nation and its capital (. to quit):  .\n"
     ]
    },
    {
     "name": "stdout",
     "output_type": "stream",
     "text": [
      "{'Korea': 'Seoul', 'Japan': 'Tokyo', 'China': 'Beijing', 'UK': 'London', 'US': 'WashingtonDC', 'France': 'Paris', 'Spain': 'Madrid'}\n"
     ]
    },
    {
     "name": "stdin",
     "output_type": "stream",
     "text": [
      "Input nation to find its capital (. to quit):  Korea\n"
     ]
    },
    {
     "name": "stdout",
     "output_type": "stream",
     "text": [
      "The capital of Korea is Seoul\n"
     ]
    },
    {
     "name": "stdin",
     "output_type": "stream",
     "text": [
      "Input nation to find its capital (. to quit):  Chine\n"
     ]
    },
    {
     "name": "stdout",
     "output_type": "stream",
     "text": [
      "Input nation not found\n"
     ]
    },
    {
     "name": "stdin",
     "output_type": "stream",
     "text": [
      "Input nation to find its capital (. to quit):  China\n"
     ]
    },
    {
     "name": "stdout",
     "output_type": "stream",
     "text": [
      "The capital of China is Beijing\n"
     ]
    },
    {
     "name": "stdin",
     "output_type": "stream",
     "text": [
      "Input nation to find its capital (. to quit):  .\n"
     ]
    }
   ],
   "source": [
    "nation_list = []\n",
    "capital_list = []\n",
    "for i in range(10):\n",
    "    nation_capital = input(\"Input nation and its capital (. to quit): \")\n",
    "    if nation_capital == \".\":\n",
    "        break\n",
    "    try:\n",
    "        nation, capital = nation_capital.split(\" \")\n",
    "        if nation in nation_list: \n",
    "            print(\"nation already exists\") \n",
    "\n",
    "        elif capital in capital_list: \n",
    "            print(\"capital already exists\") \n",
    "\n",
    "        else:\n",
    "            nation_list.append(nation)\n",
    "            capital_list.append(capital)\n",
    "    except:\n",
    "        print(\"Input not if correct form. ex)[Nation] [Country]\")\n",
    "\n",
    "dict_nation_capital = dict(zip(nation_list, capital_list))\n",
    "print(dict_nation_capital)\n",
    "while True:\n",
    "    nation = input(\"Input nation to find its capital (. to quit): \")\n",
    "    if nation == \".\":\n",
    "        break\n",
    "    try:\n",
    "        print(\"The capital of\", nation, \"is\", dict_nation_capital[nation])\n",
    "    except:\n",
    "        print(\"Input nation not found\")"
   ]
  },
  {
   "cell_type": "code",
   "execution_count": null,
   "id": "b2c57477-efde-4118-8881-54559b270f90",
   "metadata": {},
   "outputs": [],
   "source": []
  },
  {
   "cell_type": "code",
   "execution_count": 2,
   "id": "f588c1c2-87dc-4a2f-b93a-5bd1bbaaa458",
   "metadata": {},
   "outputs": [
    {
     "data": {
      "text/plain": [
       "{'Korea': 'Seoul',\n",
       " 'Japan': 'Tokyo',\n",
       " 'China': 'Beijing',\n",
       " 'UK': 'London',\n",
       " 'US': 'WashingtonDC',\n",
       " 'France': 'Paris',\n",
       " 'Spain': 'Madrid'}"
      ]
     },
     "execution_count": 2,
     "metadata": {},
     "output_type": "execute_result"
    }
   ],
   "source": [
    "dict_nation_capital"
   ]
  },
  {
   "cell_type": "code",
   "execution_count": 3,
   "id": "47833c72-a3a6-41ae-a83f-525fadbb8a01",
   "metadata": {},
   "outputs": [
    {
     "ename": "NameError",
     "evalue": "name 'nation_set' is not defined",
     "output_type": "error",
     "traceback": [
      "\u001b[0;31m---------------------------------------------------------------------------\u001b[0m",
      "\u001b[0;31mNameError\u001b[0m                                 Traceback (most recent call last)",
      "Input \u001b[0;32mIn [3]\u001b[0m, in \u001b[0;36m<cell line: 1>\u001b[0;34m()\u001b[0m\n\u001b[0;32m----> 1\u001b[0m \u001b[43mnation_set\u001b[49m\n",
      "\u001b[0;31mNameError\u001b[0m: name 'nation_set' is not defined"
     ]
    }
   ],
   "source": [
    "nation_set"
   ]
  },
  {
   "cell_type": "code",
   "execution_count": null,
   "id": "95c282ec-5711-4aff-a21a-293392296911",
   "metadata": {},
   "outputs": [],
   "source": [
    "capital_set"
   ]
  },
  {
   "cell_type": "code",
   "execution_count": null,
   "id": "f2d1ec72-86b9-472e-b0ed-f04e430c0b17",
   "metadata": {},
   "outputs": [],
   "source": []
  }
 ],
 "metadata": {
  "kernelspec": {
   "display_name": "Python 3 (ipykernel)",
   "language": "python",
   "name": "python3"
  },
  "language_info": {
   "codemirror_mode": {
    "name": "ipython",
    "version": 3
   },
   "file_extension": ".py",
   "mimetype": "text/x-python",
   "name": "python",
   "nbconvert_exporter": "python",
   "pygments_lexer": "ipython3",
   "version": "3.9.10"
  }
 },
 "nbformat": 4,
 "nbformat_minor": 5
}
