{
 "cells": [
  {
   "cell_type": "code",
   "execution_count": 21,
   "id": "ba574d58-1369-4552-9b46-1a20d5eebb74",
   "metadata": {},
   "outputs": [
    {
     "name": "stdin",
     "output_type": "stream",
     "text": [
      "문자를 입력하세요:  xyz\n"
     ]
    },
    {
     "name": "stdout",
     "output_type": "stream",
     "text": [
      "\n",
      "None\n"
     ]
    }
   ],
   "source": [
    "def permutation(lis,n):\n",
    "    arr=[]\n",
    "    \n",
    "    if n==0:\n",
    "        k=''.join(arr)\n",
    "        print(k)\n",
    "    elif n>0:\n",
    "        for i in range (0,n-1):\n",
    "            #리스트 마지막에 n개 중(0~n-1반복) 1개의 원소를 추가, 리스트에 저장\n",
    "            arr.extend(lis[i]) #새로운 리스트에 원소 추가\n",
    "            del lis[i] #원래 리스트에서 원소 제거\n",
    "            n-=1 \n",
    "            permutation(lis,n-1) \n",
    "        \n",
    "\n",
    "\n",
    "입력=list(input(\"문자를 입력하세요: \"))\n",
    "print(permutation(입력,len(입력)))"
   ]
  },
  {
   "cell_type": "code",
   "execution_count": 2,
   "id": "5e1800d9-88d8-4351-a211-c8db5f21f4b3",
   "metadata": {},
   "outputs": [
    {
     "data": {
      "text/plain": [
       "['a', 's', 'd', 'f']"
      ]
     },
     "execution_count": 2,
     "metadata": {},
     "output_type": "execute_result"
    }
   ],
   "source": [
    "a = \"asdf\"\n",
    "b = list(a)\n",
    "b"
   ]
  },
  {
   "cell_type": "code",
   "execution_count": 7,
   "id": "57267529-c607-49ce-b5f9-cabfa3eff330",
   "metadata": {},
   "outputs": [
    {
     "name": "stdin",
     "output_type": "stream",
     "text": [
      "문자를 입력하세요:  xyz\n"
     ]
    },
    {
     "name": "stdout",
     "output_type": "stream",
     "text": [
      "('x', 'y', 'z')\n",
      "('x', 'z', 'y')\n",
      "('y', 'x', 'z')\n",
      "('y', 'z', 'x')\n",
      "('z', 'x', 'y')\n",
      "('z', 'y', 'x')\n"
     ]
    }
   ],
   "source": [
    "from itertools import permutations\n",
    "입력=input(\"문자를 입력하세요: \")\n",
    "for i in list(permutations(입력)):\n",
    "    print(i)\n"
   ]
  },
  {
   "cell_type": "code",
   "execution_count": null,
   "id": "95bc4f0e-de30-4aea-bb31-237f41c37e75",
   "metadata": {},
   "outputs": [],
   "source": [
    "def permutations_2(array, r):\n",
    "    for i in range(len(array)):\n",
    "        if r == 1:\n",
    "            yield [array[i]]\n",
    "        else:\n",
    "            for next in permutations_2(array[:i]+array[i+1:], r-1):\n",
    "                yield [array[i]] + next"
   ]
  },
  {
   "cell_type": "code",
   "execution_count": 14,
   "id": "9b5934c9-ef74-4487-bff4-c79e3dc5b5bd",
   "metadata": {},
   "outputs": [],
   "source": [
    "def permutation(arr, r):\n",
    "    # 1.\n",
    "    arr = sorted(arr)\n",
    "    used = [0 for _ in range(len(arr))]\n",
    "\n",
    "    def generate(chosen, used):\n",
    "        # 2.\n",
    "        if len(chosen) == r:\n",
    "            print(chosen)\n",
    "            return\n",
    "        # 3.\n",
    "        for i in range(len(arr)):\n",
    "            if not used[i]:\n",
    "                chosen.append(arr[i])\n",
    "                used[i] = 1\n",
    "                generate(chosen, used)\n",
    "                used[i] = 0\n",
    "                chosen.pop()\n",
    "    generate([], used)"
   ]
  },
  {
   "cell_type": "code",
   "execution_count": 16,
   "id": "93f0edcf-3ff8-4657-bafb-88ee435ec2c1",
   "metadata": {},
   "outputs": [
    {
     "name": "stdin",
     "output_type": "stream",
     "text": [
      "문자열: xyz\n"
     ]
    }
   ],
   "source": [
    "a = list(input(\"문자열:\"))"
   ]
  },
  {
   "cell_type": "code",
   "execution_count": 17,
   "id": "c1680145-bd84-4196-827b-5714d99af40f",
   "metadata": {},
   "outputs": [],
   "source": [
    "permutation(a, len(a))"
   ]
  },
  {
   "cell_type": "code",
   "execution_count": 35,
   "id": "eb1db71d-9da6-46f5-afe5-4da6a2ee3e6a",
   "metadata": {},
   "outputs": [
    {
     "name": "stdin",
     "output_type": "stream",
     "text": [
      "문자를 입력하세요: xyz\n"
     ]
    },
    {
     "name": "stdout",
     "output_type": "stream",
     "text": [
      "['x', 'y', 'z']\n",
      "['x', 'z', 'y']\n",
      "['y', 'x', 'z']\n",
      "['y', 'z', 'x']\n",
      "['z', 'x', 'y']\n",
      "['z', 'y', 'x']\n"
     ]
    }
   ],
   "source": [
    "def permutation(arr, n):\n",
    "    result = []\n",
    "\n",
    "    if n == 0:\n",
    "        return [[]]\n",
    "\n",
    "    for i, elem in enumerate(arr): \n",
    "        for P in permutation(arr[:i] + arr[i+1:], n-1):\n",
    "            result += [[elem]+P]\n",
    "              \n",
    "    return result\n",
    "    \n",
    "    \n",
    "arr = list(input(\"문자를 입력하세요:\"))\n",
    "\n",
    "for i in list(permutation(arr,len(arr))):\n",
    "    print(i)\n"
   ]
  },
  {
   "cell_type": "code",
   "execution_count": null,
   "id": "766405a3-c6a0-415f-8b9e-157a024b7bf4",
   "metadata": {},
   "outputs": [],
   "source": []
  }
 ],
 "metadata": {
  "kernelspec": {
   "display_name": "Python 3 (ipykernel)",
   "language": "python",
   "name": "python3"
  },
  "language_info": {
   "codemirror_mode": {
    "name": "ipython",
    "version": 3
   },
   "file_extension": ".py",
   "mimetype": "text/x-python",
   "name": "python",
   "nbconvert_exporter": "python",
   "pygments_lexer": "ipython3",
   "version": "3.9.10"
  }
 },
 "nbformat": 4,
 "nbformat_minor": 5
}
