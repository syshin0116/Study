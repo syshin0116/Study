{
 "cells": [
  {
   "cell_type": "raw",
   "id": "23fefba4-7f11-4888-ab16-9cbd22e3ad3e",
   "metadata": {},
   "source": [
    "무지는 일어나서 잠들기 전까지 M분마다 당근 1개씩 하루동안 총 N개를 먹어야 한다.\n",
    "무지가 일어난 시간, 분과 당근을 먹어야 하는 간격 M분과 당근개수 N을 입력받아\n",
    "하루동안 당근을 먹은 시간들을 출력하고,\n",
    "먹어야 하는 만큼 먹지 못했다면 \"Emergency!\"를 출력한다.\n",
    "(단, 무지가 잠자리에 드는 시간은 항상 23시 정각이며,\n",
    "잠자리에 드는 시간에는 당근을 먹지 않는다.)\n",
    "\n",
    "\n",
    "[입력 예시 1]\n",
    "12   // 일어난 시간\n",
    "0   // 일어난 분\n",
    "180   // 당근 먹는 간격(분)\n",
    "10   // 당근 갯수\n",
    "\n",
    "[출력 예시 1]\n",
    "12:00 Carrot Time!\n",
    "15:00 Carrot Time!\n",
    "18:00 Carrot Time!\n",
    "21:00 Carrot Time!\n",
    "Emergency!\n",
    "\n",
    "\n",
    "[입력 예시 2]\n",
    "9\n",
    "20\n",
    "72\n",
    "7\n",
    "\n",
    "[출력 예시 2]\n",
    "09:20 Carrot Time!\n",
    "10:32 Carrot Time!\n",
    "11:44 Carrot Time!\n",
    "12:56 Carrot Time!\n",
    "14:08 Carrot Time!\n",
    "15:20 Carrot Time!\n",
    "16:32 Carrot Time!"
   ]
  },
  {
   "cell_type": "code",
   "execution_count": 3,
   "id": "102d7b90-3fc9-4588-91ae-83b6068a56c8",
   "metadata": {},
   "outputs": [
    {
     "name": "stdin",
     "output_type": "stream",
     "text": [
      " 9\n",
      " 20\n",
      " 72\n",
      " 7\n"
     ]
    },
    {
     "name": "stdout",
     "output_type": "stream",
     "text": [
      "09:20 Carrot Time!\n",
      "10:32 Carrot Time!\n",
      "11:44 Carrot Time!\n",
      "12:56 Carrot Time!\n",
      "14:08 Carrot Time!\n",
      "15:20 Carrot Time!\n",
      "16:32 Carrot Time!\n"
     ]
    }
   ],
   "source": [
    "hour = int(input())\n",
    "minute = int(input())\n",
    "interval = int(input())\n",
    "count = int(input())\n",
    "\n",
    "times = []\n",
    "\n",
    "for i in range(count):\n",
    "    times.append(f\"{hour:02}:{minute:02} Carrot Time!\")\n",
    "    minute += interval\n",
    "    while minute >= 60:\n",
    "        minute -= 60\n",
    "        hour += 1\n",
    "    if hour >= 23:\n",
    "        break\n",
    "\n",
    "if len(times) < count:\n",
    "    times.append(\"Emergency!\")\n",
    "\n",
    "for time in times:\n",
    "    print(time)\n"
   ]
  },
  {
   "cell_type": "code",
   "execution_count": null,
   "id": "011a03a0-5b79-4934-958b-721235afc90b",
   "metadata": {},
   "outputs": [],
   "source": []
  }
 ],
 "metadata": {
  "kernelspec": {
   "display_name": "Python 3 (ipykernel)",
   "language": "python",
   "name": "python3"
  },
  "language_info": {
   "codemirror_mode": {
    "name": "ipython",
    "version": 3
   },
   "file_extension": ".py",
   "mimetype": "text/x-python",
   "name": "python",
   "nbconvert_exporter": "python",
   "pygments_lexer": "ipython3",
   "version": "3.9.10"
  }
 },
 "nbformat": 4,
 "nbformat_minor": 5
}
