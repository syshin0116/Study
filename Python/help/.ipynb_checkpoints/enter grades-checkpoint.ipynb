{
 "cells": [
  {
   "cell_type": "code",
   "execution_count": 1,
   "id": "9ed878c9-c215-45c5-8fb4-2369667c3b0f",
   "metadata": {},
   "outputs": [
    {
     "name": "stdout",
     "output_type": "stream",
     "text": [
      "         1         2         3         4\n",
      "        x         x         x         x \n",
      "       -----------------------------------\n",
      "         1         1         1         1\n",
      "         2         4         8        16\n",
      "         3         9        27        81\n",
      "         4        16        64       256\n",
      "         5        25       125       625\n",
      "\n",
      "         6        36       216      1296\n",
      "         7        49       343      2401\n",
      "         8        64       512      4096\n",
      "         9        81       729      6561\n",
      "        10       100      1000     10000\n",
      "\n"
     ]
    }
   ],
   "source": [
    "# 1. \n",
    "##\n",
    "# This program prints a table of powers of x.\n",
    "#\n",
    "\n",
    "# Initialize constant variables for the max ranges.\n",
    "NMAX = 4\n",
    "XMAX = 10\n",
    "\n",
    "# Print table header\n",
    "for n in range(1, NMAX + 1):\n",
    "    print(\"%10d\" % n, end=\"\")\n",
    "\n",
    "print()\n",
    "for n in range(1, NMAX + 1):\n",
    "    print(\"%10s\" % \"x \", end=\"\")\n",
    "    \n",
    "print(\"\\n\", \"     \", \"-\" * 35)\n",
    "\n",
    "# Print table body.\n",
    "for x in range(1, XMAX + 1):\n",
    "    for n in range(1, NMAX + 1):\n",
    "        print(\"%10.0f\" % x ** n, end=\"\")\n",
    "    if x % 5 == 0:\n",
    "        print()\n",
    "    print()"
   ]
  },
  {
   "cell_type": "code",
   "execution_count": 7,
   "id": "2185741f-cdb9-4ad4-a619-be8a89a26acd",
   "metadata": {},
   "outputs": [
    {
     "name": "stdin",
     "output_type": "stream",
     "text": [
      "How many exam grades does each student have?  3\n"
     ]
    },
    {
     "name": "stdout",
     "output_type": "stream",
     "text": [
      "Enter the exam grades.\n",
      "Press Enter to quit\n"
     ]
    },
    {
     "name": "stdin",
     "output_type": "stream",
     "text": [
      "Grade 0 10\n",
      "Grade 1 20\n",
      "Grade 2 30\n"
     ]
    },
    {
     "name": "stdout",
     "output_type": "stream",
     "text": [
      "The average is 20.00\n",
      "Enter the exam grades.\n",
      "Press Enter to quit\n"
     ]
    },
    {
     "name": "stdin",
     "output_type": "stream",
     "text": [
      "Grade 0 \n"
     ]
    },
    {
     "ename": "ValueError",
     "evalue": "invalid literal for int() with base 10: ''",
     "output_type": "error",
     "traceback": [
      "\u001b[0;31m---------------------------------------------------------------------------\u001b[0m",
      "\u001b[0;31mValueError\u001b[0m                                Traceback (most recent call last)",
      "Input \u001b[0;32mIn [7]\u001b[0m, in \u001b[0;36m<cell line: 15>\u001b[0;34m()\u001b[0m\n\u001b[1;32m     18\u001b[0m \u001b[38;5;28mprint\u001b[39m(\u001b[38;5;124m\"\u001b[39m\u001b[38;5;124mPress Enter to quit\u001b[39m\u001b[38;5;124m\"\u001b[39m)\n\u001b[1;32m     19\u001b[0m \u001b[38;5;28;01mfor\u001b[39;00m i \u001b[38;5;129;01min\u001b[39;00m \u001b[38;5;28mrange\u001b[39m(numExams):\n\u001b[0;32m---> 20\u001b[0m     score_list\u001b[38;5;241m.\u001b[39mappend(\u001b[38;5;28;43mint\u001b[39;49m\u001b[43m(\u001b[49m\u001b[38;5;28;43minput\u001b[39;49m\u001b[43m(\u001b[49m\u001b[38;5;124;43m\"\u001b[39;49m\u001b[38;5;124;43mGrade \u001b[39;49m\u001b[38;5;132;43;01m%d\u001b[39;49;00m\u001b[38;5;124;43m\"\u001b[39;49m\u001b[43m \u001b[49m\u001b[38;5;241;43m%\u001b[39;49m\u001b[43m \u001b[49m\u001b[43mi\u001b[49m\u001b[43m)\u001b[49m\u001b[43m)\u001b[49m)\n\u001b[1;32m     21\u001b[0m average \u001b[38;5;241m=\u001b[39m \u001b[38;5;28msum\u001b[39m(score_list)\u001b[38;5;241m/\u001b[39m\u001b[38;5;28mlen\u001b[39m(score_list)\n\u001b[1;32m     22\u001b[0m \u001b[38;5;28mprint\u001b[39m(\u001b[38;5;124m\"\u001b[39m\u001b[38;5;124mThe average is \u001b[39m\u001b[38;5;132;01m%.2f\u001b[39;00m\u001b[38;5;124m\"\u001b[39m \u001b[38;5;241m%\u001b[39m average)\n",
      "\u001b[0;31mValueError\u001b[0m: invalid literal for int() with base 10: ''"
     ]
    }
   ],
   "source": [
    "# 2.\n",
    "##\n",
    "# This program computes the average exam grade for multiple students.\n",
    "#\n",
    "\n",
    "# Obtain the number of exam grandes per student.\n",
    "numExams = int(input(\"How many exam grades does each student have? \"))\n",
    "\n",
    "# Initialize moreGrades to a non-sentinel value.\n",
    "moreGrades = \"Y\"\n",
    "\n",
    "# Compute average exam grades until the user wants to stop.\n",
    "while True:\n",
    "    # Compute the average grade for one student.\n",
    "    print(\"Enter the exam grades.\")\n",
    "    score_list = []\n",
    "    total = 0\n",
    "    print(\"Press Enter to quit\")\n",
    "    for i in range(numExams):\n",
    "        grade = input(\"Grade %d\" % i+1)\n",
    "        if grade == '':\n",
    "            break 2\n",
    "        score_list.append(int())\n",
    "    average = sum(score_list)/len(score_list)\n",
    "    print(\"The average is %.2f\" % average)\n"
   ]
  },
  {
   "cell_type": "code",
   "execution_count": 3,
   "id": "2dbf82bf-babd-4ade-9dad-af7c9e57d21d",
   "metadata": {},
   "outputs": [
    {
     "name": "stdout",
     "output_type": "stream",
     "text": [
      "Enter the exam grades.\n",
      "Enter Korean, English, Math grades in the following format: ex) 80,90,100\n",
      "Press Enter to quit\n"
     ]
    },
    {
     "name": "stdin",
     "output_type": "stream",
     "text": [
      "Grades: 10,20,30\n"
     ]
    },
    {
     "name": "stdout",
     "output_type": "stream",
     "text": [
      "The average is 20.00\n",
      "Enter the exam grades.\n",
      "Enter Korean, English, Math grades in the following format: ex) 80,90,100\n",
      "Press Enter to quit\n"
     ]
    },
    {
     "name": "stdin",
     "output_type": "stream",
     "text": [
      "Grades: \n"
     ]
    }
   ],
   "source": [
    "# 3.\n",
    "##\n",
    "# This program computes the average exam grade for multiple students.\n",
    "#\n",
    "# Compute average exam grades until the user wants to stop.\n",
    "while True:\n",
    "    # Compute the average grade for one student.\n",
    "    print(\"Enter the exam grades.\")\n",
    "    total = 0\n",
    "    print(\"Enter Korean, English, Math grades in the following format: ex) 80,90,100\")\n",
    "    print(\"Press Enter to quit\")\n",
    "    grades = input(\"Grades:\")\n",
    "    if grades == '':\n",
    "        break\n",
    "    korean, english, math = map(int, grades.split(','))\n",
    "    total = korean + english + math\n",
    "    average = total / 3\n",
    "    print(\"The average is %.2f\" % average)\n",
    "print(\"Successfully quitted\")\n",
    "    "
   ]
  },
  {
   "cell_type": "code",
   "execution_count": null,
   "id": "9f8ff59f-e300-4c16-add8-5c15f6f03265",
   "metadata": {},
   "outputs": [
    {
     "ename": "TypeError",
     "evalue": "int() argument must be a string, a bytes-like object or a number, not 'list'",
     "output_type": "error",
     "traceback": [
      "\u001b[0;31m---------------------------------------------------------------------------\u001b[0m",
      "\u001b[0;31mTypeError\u001b[0m                                 Traceback (most recent call last)",
      "Input \u001b[0;32mIn [2]\u001b[0m, in \u001b[0;36m<cell line: 1>\u001b[0;34m()\u001b[0m\n\u001b[0;32m----> 1\u001b[0m \u001b[38;5;28;43mint\u001b[39;49m\u001b[43m(\u001b[49m\u001b[43mgrades\u001b[49m\u001b[38;5;241;43m.\u001b[39;49m\u001b[43msplit\u001b[49m\u001b[43m(\u001b[49m\u001b[38;5;124;43m'\u001b[39;49m\u001b[38;5;124;43m,\u001b[39;49m\u001b[38;5;124;43m'\u001b[39;49m\u001b[43m)\u001b[49m\u001b[43m)\u001b[49m\n",
      "\u001b[0;31mTypeError\u001b[0m: int() argument must be a string, a bytes-like object or a number, not 'list'"
     ]
    }
   ],
   "source": []
  }
 ],
 "metadata": {
  "kernelspec": {
   "display_name": "Python 3 (ipykernel)",
   "language": "python",
   "name": "python3"
  },
  "language_info": {
   "codemirror_mode": {
    "name": "ipython",
    "version": 3
   },
   "file_extension": ".py",
   "mimetype": "text/x-python",
   "name": "python",
   "nbconvert_exporter": "python",
   "pygments_lexer": "ipython3",
   "version": "3.9.10"
  }
 },
 "nbformat": 4,
 "nbformat_minor": 5
}
