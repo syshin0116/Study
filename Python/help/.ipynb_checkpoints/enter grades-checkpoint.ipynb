{
 "cells": [
  {
   "cell_type": "code",
   "execution_count": 1,
   "id": "9ed878c9-c215-45c5-8fb4-2369667c3b0f",
   "metadata": {},
   "outputs": [
    {
     "name": "stdout",
     "output_type": "stream",
     "text": [
      "         1         2         3         4\n",
      "        x         x         x         x \n",
      "       -----------------------------------\n",
      "         1         1         1         1\n",
      "         2         4         8        16\n",
      "         3         9        27        81\n",
      "         4        16        64       256\n",
      "         5        25       125       625\n",
      "\n",
      "         6        36       216      1296\n",
      "         7        49       343      2401\n",
      "         8        64       512      4096\n",
      "         9        81       729      6561\n",
      "        10       100      1000     10000\n",
      "\n"
     ]
    }
   ],
   "source": [
    "# 1. \n",
    "##\n",
    "# This program prints a table of powers of x.\n",
    "#\n",
    "\n",
    "# Initialize constant variables for the max ranges.\n",
    "NMAX = 4\n",
    "XMAX = 10\n",
    "\n",
    "# Print table header\n",
    "for n in range(1, NMAX + 1):\n",
    "    print(\"%10d\" % n, end=\"\")\n",
    "\n",
    "print()\n",
    "for n in range(1, NMAX + 1):\n",
    "    print(\"%10s\" % \"x \", end=\"\")\n",
    "    \n",
    "print(\"\\n\", \"     \", \"-\" * 35)\n",
    "\n",
    "# Print table body.\n",
    "for x in range(1, XMAX + 1):\n",
    "    for n in range(1, NMAX + 1):\n",
    "        print(\"%10.0f\" % x ** n, end=\"\")\n",
    "    if x % 5 == 0:\n",
    "        print()\n",
    "    print()"
   ]
  },
  {
   "cell_type": "code",
   "execution_count": 10,
   "id": "2185741f-cdb9-4ad4-a619-be8a89a26acd",
   "metadata": {},
   "outputs": [
    {
     "name": "stdin",
     "output_type": "stream",
     "text": [
      "How many exam grades does each student have?  3\n"
     ]
    },
    {
     "name": "stdout",
     "output_type": "stream",
     "text": [
      "Enter the exam grades.\n",
      "Press Enter to quit\n"
     ]
    },
    {
     "name": "stdin",
     "output_type": "stream",
     "text": [
      "Grade 1 10\n",
      "Grade 2 20\n",
      "Grade 3 30\n"
     ]
    },
    {
     "name": "stdout",
     "output_type": "stream",
     "text": [
      "The average is 20.00\n",
      "Enter the exam grades.\n",
      "Press Enter to quit\n"
     ]
    },
    {
     "name": "stdin",
     "output_type": "stream",
     "text": [
      "Grade 1 10\n",
      "Grade 2 20\n",
      "Grade 3 \n"
     ]
    },
    {
     "name": "stdout",
     "output_type": "stream",
     "text": [
      "The average is 15.00\n"
     ]
    }
   ],
   "source": [
    "# 2.\n",
    "##\n",
    "# This program computes the average exam grade for multiple students.\n",
    "#\n",
    "\n",
    "# Obtain the number of exam grandes per student.\n",
    "numExams = int(input(\"How many exam grades does each student have? \"))\n",
    "\n",
    "# Initialize grade to a non-sentinel value.\n",
    "grade = \"Y\"\n",
    "\n",
    "# Compute average exam grades until the user wants to stop.\n",
    "while grade!=\"\":\n",
    "    # Compute the average grade for one student.\n",
    "    print(\"Enter the exam grades.\")\n",
    "    score_list = []\n",
    "    total = 0\n",
    "    print(\"Press Enter to quit\")\n",
    "    for i in range(numExams):\n",
    "        grade = input(\"Grade %d\" % (i+1))\n",
    "        if grade == '':\n",
    "            break \n",
    "        score_list.append(int(grade))\n",
    "    average = sum(score_list)/len(score_list)\n",
    "    print(\"The average is %.2f\" % average)\n",
    "    "
   ]
  },
  {
   "cell_type": "code",
   "execution_count": 3,
   "id": "2dbf82bf-babd-4ade-9dad-af7c9e57d21d",
   "metadata": {},
   "outputs": [
    {
     "name": "stdout",
     "output_type": "stream",
     "text": [
      "Enter the exam grades.\n",
      "Enter Korean, English, Math grades in the following format: ex) 80,90,100\n",
      "Press Enter to quit\n"
     ]
    },
    {
     "name": "stdin",
     "output_type": "stream",
     "text": [
      "Grades: 10,20,30\n"
     ]
    },
    {
     "name": "stdout",
     "output_type": "stream",
     "text": [
      "The average is 20.00\n",
      "Enter the exam grades.\n",
      "Enter Korean, English, Math grades in the following format: ex) 80,90,100\n",
      "Press Enter to quit\n"
     ]
    },
    {
     "name": "stdin",
     "output_type": "stream",
     "text": [
      "Grades: \n"
     ]
    }
   ],
   "source": [
    "# 3.\n",
    "##\n",
    "# This program computes the average exam grade for multiple students.\n",
    "#\n",
    "# Compute average exam grades until the user wants to stop.\n",
    "while True:\n",
    "    # Compute the average grade for one student.\n",
    "    print(\"Enter the exam grades.\")\n",
    "    total = 0\n",
    "    print(\"Enter Korean, English, Math grades in the following format: ex) 80,90,100\")\n",
    "    print(\"Press Enter to quit\")\n",
    "    grades = input(\"Grades:\")\n",
    "    if grades == '':\n",
    "        break\n",
    "    korean, english, math = map(int, grades.split(','))\n",
    "    total = korean + english + math\n",
    "    average = total / 3\n",
    "    print(\"The average is %.2f\" % average)\n",
    "print(\"Successfully quitted\")\n",
    "    "
   ]
  }
 ],
 "metadata": {
  "kernelspec": {
   "display_name": "Python 3 (ipykernel)",
   "language": "python",
   "name": "python3"
  },
  "language_info": {
   "codemirror_mode": {
    "name": "ipython",
    "version": 3
   },
   "file_extension": ".py",
   "mimetype": "text/x-python",
   "name": "python",
   "nbconvert_exporter": "python",
   "pygments_lexer": "ipython3",
   "version": "3.9.10"
  }
 },
 "nbformat": 4,
 "nbformat_minor": 5
}
