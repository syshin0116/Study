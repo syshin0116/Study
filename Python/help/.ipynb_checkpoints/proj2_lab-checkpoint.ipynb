{
  "nbformat": 4,
  "nbformat_minor": 0,
  "metadata": {
    "colab": {
      "provenance": []
    },
    "kernelspec": {
      "name": "python3",
      "display_name": "Python 3"
    },
    "language_info": {
      "name": "python"
    }
  },
  "cells": [
    {
      "cell_type": "markdown",
      "source": [
        "# Project 2\n",
        "# Rebalancing Strategy \n",
        "\n",
        "#### 2023-1학기\n",
        "#### Version: 2023-05-16-v2\n",
        "\n",
        "> 분반:\n",
        ">\n",
        "> 학번:\n",
        ">\n",
        "> 학과:\n",
        ">\n",
        "> 이름:\n",
        "\n",
        "### To Do List\n",
        "\n",
        "- rebalancing() 완성 (만약 BTC, ETH 외의 암호화폐를 추가적으로 고려하고 싶은 경우)\n",
        "- 여러 자산 비율을 사용하여 성능 테스트\n"
      ],
      "metadata": {
        "id": "NlY5bYudAnHa"
      }
    },
    {
      "cell_type": "code",
      "source": [
        "# 런타임이 종료되면 이 코드셀은 매번 다시 실행해야 합니다.\n",
        "\n",
        "# pyupbit 설치\n",
        "!pip install pyupbit"
      ],
      "metadata": {
        "id": "9PuoRkgJ1oJa"
      },
      "execution_count": null,
      "outputs": []
    },
    {
      "cell_type": "code",
      "execution_count": null,
      "metadata": {
        "id": "BT-LddYo1g0w"
      },
      "outputs": [],
      "source": [
        "# Import\n",
        "\n",
        "import numpy as np\n",
        "import pandas as pd\n",
        "import datetime\n",
        "\n",
        "import pyupbit\n"
      ]
    },
    {
      "cell_type": "code",
      "source": [
        "# trading_helper 설치 및 버전 확인\n",
        "\n",
        "!wget https://esohn.be/python/trading_helper.py -O trading_helper.py\n",
        "\n",
        "import trading_helper\n",
        "import importlib\n",
        "importlib.reload(trading_helper)\n",
        "\n",
        "print( f'Trading Helper Version: {trading_helper.TRADING_HELPER_VERSION}'  )"
      ],
      "metadata": {
        "id": "He3RBCBrNloT"
      },
      "execution_count": null,
      "outputs": []
    },
    {
      "cell_type": "markdown",
      "source": [
        "### AUTH_CODE는 반드시 자신의 Auth Code로 변경해야 합니다."
      ],
      "metadata": {
        "id": "iGOo80w1qHn9"
      }
    },
    {
      "cell_type": "code",
      "source": [
        "# ------------------------------------------------------------------------------------------------------\n",
        "# https://esohn.be/account 의 AUTH CODE 로 실행 로그 기록\n",
        "# ------------------------------------------------------------------------------------------------------\n",
        "\n",
        "'''\n",
        "AUTH_CODE = 'f587ea651febd5446efc61d5e3fef123'  -> 아래에 이렇게 auth code를 붙여넣으세요.\n",
        "'''\n",
        "AUTH_CODE = '🚨🚨🚨!!!이 부분 반드시 바꾸세요!!!🚨🚨🚨'\n",
        "\n",
        "# Do not edit\n",
        "trading_helper.set_auth_code( AUTH_CODE )\n"
      ],
      "metadata": {
        "id": "SKPplX5TI8mf"
      },
      "execution_count": null,
      "outputs": []
    },
    {
      "cell_type": "code",
      "source": [
        "# 가격정보 가져오기\n",
        "\n",
        "from_date = '20220501'\n",
        "to_date = '20230501'\n",
        "\n",
        "df = trading_helper.get_multiple(from_date, to_date)\n",
        "\n",
        "\n",
        "df.head()"
      ],
      "metadata": {
        "id": "VKLTtAblVAzL"
      },
      "execution_count": null,
      "outputs": []
    },
    {
      "cell_type": "markdown",
      "source": [
        "### 아래 코드셀을 복사 해서 프로젝트 코드 페이지에 붙여넣으세요"
      ],
      "metadata": {
        "id": "cUCfeNR8YEM3"
      }
    },
    {
      "cell_type": "code",
      "source": [
        "# ------------------------------------------------------------------------------------------------------\n",
        "# - 코드를 완성했다면 이 코드셀만 복사해서 competition 페이지 Rebalancing 탭에 라운드 별 코드 항목으로 붙여넣습니다.\n",
        "# - 연습할 때는 다음과 같은 이유로 프로젝트 페이지의 에디터에서 직접 연습하지 말고 Colab에서 연습하세요. \n",
        "#   + Colab의 연습은 서버에 횟수가 기록되어 평가에 반영됩니다.\n",
        "#   + Colab 노트북 자체에도 변경 history가 누적 됩니다. (부정행위 방지)\n",
        "#   + 프로젝트 페이지에서 submit 횟수가 지나치게 빈번한 경우 submit이 일정시간 제한될 수 있습니다.\n",
        "# ------------------------------------------------------------------------------------------------------\n",
        "\n",
        "# Given Code Version 2023.05.16-v2\n",
        "\n",
        "import numpy as np\n",
        "import pandas as pd\n",
        "import datetime\n",
        "\n",
        "# rebalancing() 암호화폐 포트폴리오 리밸런싱 함수\n",
        "'''\n",
        "* ratio_  자산배분 비율 (총 합은 반드시 1.0이어야 함)\n",
        "  투자하지 않는 암호화폐는 0으로 남겨둠\n",
        "  \n",
        "  예) 원화 10%, 비트코인(BTC) 50%, 이더리움(ETH) 40%\n",
        "      ratio_krw = 0.1\n",
        "      ratio_btc = 0.5\n",
        "      ratio_eth = 0.4\n",
        "      ratio_doge = 0.0\n",
        "      ratio_ada = 0.0\n",
        "\n",
        "  예) 원화 70%, 비트코인(BTC) 10%, 이더리움(ETH) 10%, 도지코인(DOGE) 5%, 에이다(ADA) 5%\n",
        "      ratio_krw = 0.7\n",
        "      ratio_btc = 0.1\n",
        "      ratio_eth = 0.1\n",
        "      ratio_doge = 0.05\n",
        "      ratio_ada = 0.05\n",
        "\n",
        "* threshold - 최소한으로 요구되는 총 자산 대비 변동 비율 (%)\n",
        "\n",
        "  기본값 0: 조금이라도 변동될 때 매매\n",
        "  예) 0.001: 전체 자산의 0.1% 변동시 매매, 0.005: 전체 자산의 0.5% 변동시 매매\n",
        "\n",
        "\n",
        "* fee - 수수료, 기본값 0.001 (변경 없음)\n",
        "\n",
        "* init_krw - 초기 투자금액, 기본값 100000000 (변경 없음)\n",
        "'''\n",
        "\n",
        "# Qualification 라운드 에서는 지정된 암호화폐 비율과 threshold 0.0을 사용해야 하며\n",
        "# 그 외의 라운드에서는 암포화폐 비율과 threshold를 자유롭게 사용할 수 있음\n",
        "\n",
        "# ------------------------------------------------\n",
        "# EDITABLE (1)\n",
        "#\n",
        "DEFAULT_RATIO_KRW = 1.0\n",
        "DEFAULT_RATIO_BTC = 0.0\n",
        "DEFAULT_RATIO_ETH = 0.0\n",
        "DEFAULT_RATIO_DOGE = 0.0\n",
        "DEFAULT_RATIO_ADA = 0.0\n",
        "\n",
        "DEFAULT_THRESHOLD = 0.0 # Qualification 라운드 에서는 이 값을 0.0으로\n",
        "# ------------------------------------------------\n",
        "\n",
        "def rebalancing( df, ratio_krw=DEFAULT_RATIO_KRW, ratio_btc=DEFAULT_RATIO_BTC, ratio_eth=DEFAULT_RATIO_ETH, ratio_doge=DEFAULT_RATIO_DOGE, ratio_ada=DEFAULT_RATIO_ADA, threshold=DEFAULT_THRESHOLD, fee=0.001, init_krw=100000000 ):\n",
        "\n",
        "    # -------------------------------------------------------------------------------\n",
        "    # DO NOT EDIT\n",
        "    #\n",
        "    ratio_sum = ratio_krw + ratio_btc + ratio_eth + ratio_doge + ratio_ada\n",
        "    if abs(ratio_sum - 1.0) > 0.0001:\n",
        "        print(f'The sum of the ratios must be 1. ({ratio_sum})')\n",
        "        return\n",
        "    # -------------------------------------------------------------------------------\n",
        "\n",
        "    row_index = 0\n",
        "\n",
        "    # 데이터프레임의 모든 행에 대해서 반복\n",
        "    for row_index in range( len( df ) ):\n",
        "\n",
        "        # 현재 데이터: cur_data\n",
        "        cur_data = df.loc[ row_index, : ].copy()\n",
        "        # 이전 데이터: prev_data\n",
        "        if row_index > 0:\n",
        "            prev_data = df.loc[ row_index-1, : ].copy()\n",
        "\n",
        "\n",
        "\n",
        "        #------------------------\n",
        "        # Balance 계산 (bal_)\n",
        "        # 하루 전의 계산 후 잔고(bal2_)를 현재의 계산 전 잔고로 가져옴(bal_)\n",
        "        if row_index == 0:\n",
        "            # 첫째 날이라면 잔고는 krw만 존재\n",
        "            cur_data[ 'bal_krw' ] = init_krw\n",
        "        else:\n",
        "            # 둘째 날 부터는 이전 날 계산 후 잔고(bal2_)를 현재 잔고(bal_)로 대입\n",
        "            cur_data[ 'bal_krw' ] = prev_data[ 'bal2_krw' ]\n",
        "            cur_data[ 'bal_btc' ] = prev_data[ 'bal2_btc' ]\n",
        "            cur_data[ 'bal_eth' ] = prev_data[ 'bal2_eth' ]\n",
        "            cur_data[ 'bal_doge' ] = prev_data[ 'bal2_doge' ]\n",
        "            cur_data[ 'bal_ada' ] = prev_data[ 'bal2_ada' ]\n",
        "            \n",
        "\n",
        "        #------------------------\n",
        "        # Total Value 계산 (value)\n",
        "        # 전체 자산의 가치를 모두 합산\n",
        "        cur_data[ 'value' ] = cur_data[ 'bal_krw' ]\n",
        "        cur_data[ 'value' ] += cur_data[ 'price_btc' ] * cur_data[ 'bal_btc' ]\n",
        "        cur_data[ 'value' ] += cur_data[ 'price_eth' ] * cur_data[ 'bal_eth' ]\n",
        "        cur_data[ 'value' ] += 0 # EDITABLE (2)\n",
        "        cur_data[ 'value' ] += 0 # EDITABLE (3)                                \n",
        "                                \n",
        "\n",
        "        #------------------------\n",
        "        # Target 계산 (target_)\n",
        "        # 비율에 따라 다시 조정되어야 할 목표 잔고 계산\n",
        "        cur_data[ 'target_btc' ] = ratio_btc * cur_data[ 'value' ] / cur_data[ 'price_btc' ]\n",
        "        cur_data[ 'target_eth' ] = ratio_eth * cur_data[ 'value' ] / cur_data[ 'price_eth' ]\n",
        "        cur_data[ 'target_doge' ] = 0    # EDITABLE (4)\n",
        "        cur_data[ 'target_ada' ] = 0     # EDITABLE (5)\n",
        "\n",
        "\n",
        "        #------------------------\n",
        "        # Trading Amount 계산 (trade_)\n",
        "        # Target 잔고를 위해 매매해야 할 양을 계산\n",
        "        cur_data[ 'trade_btc' ] = cur_data[ 'target_btc' ] - cur_data[ 'bal_btc' ]\n",
        "        cur_data[ 'trade_eth' ] = cur_data[ 'target_eth' ] - cur_data[ 'bal_eth' ]\n",
        "        cur_data[ 'trade_doge' ] = 0    # EDITABLE (6)\n",
        "        cur_data[ 'trade_ada' ] = 0     # EDITABLE (7)\n",
        "\n",
        "\n",
        "        #------------------------\n",
        "        # 매매해야 할 양의 절대값이 총 자산의 일정 %를 넘지 않으면 매매하지 않음\n",
        "        th_value = threshold * cur_data[ 'value' ]\n",
        "        amount_btc = abs( cur_data[ 'trade_btc' ] * cur_data[ 'price_btc' ] )\n",
        "        amount_eth = abs( cur_data[ 'trade_eth' ] * cur_data[ 'price_eth' ] )\n",
        "        amount_doge = 0    # EDITABLE (8)\n",
        "        amount_ada = 0     # EDITABLE (9)\n",
        "\n",
        "        #--------------------------------------------------------------------------------------------------------------------\n",
        "        # DO NOT EDIT\n",
        "        # 계산 후 잔고 준비\n",
        "        cur_data[ 'bal2_krw' ] = cur_data[ 'bal_krw' ]\n",
        "        cur_data[ 'bal2_btc' ] = cur_data[ 'bal_btc' ]\n",
        "        cur_data[ 'bal2_eth' ] = cur_data[ 'bal_eth' ]\n",
        "        cur_data[ 'bal2_doge' ] = cur_data[ 'bal_doge' ]\n",
        "        cur_data[ 'bal2_ada' ] = cur_data[ 'bal_ada' ]\n",
        "\n",
        "        if amount_btc >= th_value:\n",
        "            # BTC 잔고 변경 \n",
        "            cur_data[ 'bal2_btc' ] += cur_data[ 'trade_btc' ]\n",
        "            # krw 잔고 변경 (BTC 매매 반영 + 수수료 차감)\n",
        "            cur_data[ 'bal2_krw' ] -= cur_data[ 'trade_btc' ] * cur_data[ 'price_btc' ] + amount_btc * fee\n",
        "\n",
        "        if amount_eth >= th_value:\n",
        "            # ETH 잔고 변경 \n",
        "            cur_data[ 'bal2_eth' ] += cur_data[ 'trade_eth' ]\n",
        "            # krw 잔고 변경 (ETH 매매 반영 + 수수료 차감)\n",
        "            cur_data[ 'bal2_krw' ] -= cur_data[ 'trade_eth' ] * cur_data[ 'price_eth' ] + amount_eth * fee\n",
        "\n",
        "        if amount_doge >= th_value:\n",
        "            # DOGE 잔고 변경 \n",
        "            cur_data[ 'bal2_doge' ] += cur_data[ 'trade_doge' ]\n",
        "            # krw 잔고 변경 (DOGE 매매 반영 + 수수료 차감)\n",
        "            cur_data[ 'bal2_krw' ] -= cur_data[ 'trade_doge' ] * cur_data[ 'price_doge' ] + amount_doge * fee\n",
        "\n",
        "        if amount_ada >= th_value:\n",
        "            # ADA 잔고 변경 \n",
        "            cur_data[ 'bal2_ada' ] += cur_data[ 'trade_ada' ]\n",
        "            # krw 잔고 변경 (ADA 매매 반영 + 수수료 차감)\n",
        "            cur_data[ 'bal2_krw' ] -= cur_data[ 'trade_ada' ] * cur_data[ 'price_ada' ] + amount_ada * fee\n",
        "\n",
        "\n",
        "        #--------------------------------------------------------------------------------------------------------------------\n",
        "        # DO NOT EDIT\n",
        "        #\n",
        "        df.loc[ row_index, : ] = cur_data\n",
        "\n",
        "        row_index += 1\n",
        "        #--------------------------------------------------------------------------------------------------------------------\n",
        "\n",
        "\n"
      ],
      "metadata": {
        "id": "-ZdtSo-7zhgC"
      },
      "execution_count": null,
      "outputs": []
    },
    {
      "cell_type": "markdown",
      "source": [
        "### 하나씩 비율을 조절하며 HPR, MDD 를 확인해 보는 방법"
      ],
      "metadata": {
        "id": "7eSOfPDyYQuq"
      }
    },
    {
      "cell_type": "code",
      "source": [
        "# 비트코인만 100%\n",
        "\n",
        "rebalancing( df, ratio_krw=0.0, ratio_btc=1.0, ratio_eth=0.0, ratio_doge=0.0, ratio_ada=0.0, threshold= 0.0001 )\n",
        "\n",
        "hpr, mdd = trading_helper.check_performance_rebal(df)\n",
        "\n",
        "print( f'HPR={hpr*100:.1f} MDD={mdd*100:.1f}' )\n"
      ],
      "metadata": {
        "id": "99vdq_Sl_bch"
      },
      "execution_count": null,
      "outputs": []
    },
    {
      "cell_type": "code",
      "source": [
        "# 비트코인 60% 이더리움 40%\n",
        "\n",
        "rebalancing( df, ratio_krw=0.0, ratio_btc=0.6, ratio_eth=0.4, ratio_doge=0.0, ratio_ada=0.0, threshold= 0.0001 )\n",
        "\n",
        "hpr, mdd = trading_helper.check_performance_rebal(df)\n",
        "\n",
        "print( f'HPR={hpr*100:.1f} MDD={mdd*100:.1f}' )\n"
      ],
      "metadata": {
        "id": "ya-M1T8lD4re"
      },
      "execution_count": null,
      "outputs": []
    },
    {
      "cell_type": "markdown",
      "source": [
        "### 비트코인, 이더리움, 도지코인, 에이다 그냥 가지고 있을 때와 리밸런싱 전략 4개의 HPR, MDD 비교"
      ],
      "metadata": {
        "id": "AKYgDNdJYbvF"
      }
    },
    {
      "cell_type": "code",
      "source": [
        "\n",
        "rebalancing( df, ratio_krw=0.0, ratio_btc=1.0, ratio_eth=0.0, ratio_doge=0.0, ratio_ada=0.0 )\n",
        "s_btc = df['value'].copy()\n",
        "hpr, mdd = trading_helper.check_performance_rebal(df)\n",
        "print( f'HPR={hpr*100:.1f} MDD={mdd*100:.1f}' )\n",
        "\n",
        "rebalancing( df, ratio_krw=0.0, ratio_btc=0.0, ratio_eth=1.0, ratio_doge=0.0, ratio_ada=0.0 )\n",
        "s_eth = df['value'].copy()\n",
        "hpr, mdd = trading_helper.check_performance_rebal(df)\n",
        "print( f'HPR={hpr*100:.1f} MDD={mdd*100:.1f}' )\n",
        "\n",
        "rebalancing( df, ratio_krw=0.0, ratio_btc=0.0, ratio_eth=0.0, ratio_doge=1.0, ratio_ada=0.0 )\n",
        "s_doge = df['value'].copy()\n",
        "hpr, mdd = trading_helper.check_performance_rebal(df)\n",
        "print( f'HPR={hpr*100:.1f} MDD={mdd*100:.1f}' )\n",
        "\n",
        "rebalancing( df, ratio_krw=0.0, ratio_btc=0.0, ratio_eth=0.0, ratio_doge=0.0, ratio_ada=1.0 )\n",
        "s_ada = df['value'].copy()\n",
        "hpr, mdd = trading_helper.check_performance_rebal(df)\n",
        "print( f'HPR={hpr*100:.1f} MDD={mdd*100:.1f}' )\n",
        "\n",
        "rebalancing( df, ratio_krw=0.7, ratio_btc=0.1, ratio_eth=0.1, ratio_doge=0.05, ratio_ada=0.05 )\n",
        "s1 = df['value'].copy()\n",
        "hpr, mdd = trading_helper.check_performance_rebal(df)\n",
        "print( f'HPR={hpr*100:.1f} MDD={mdd*100:.1f}' )\n",
        "\n",
        "rebalancing( df, ratio_krw=0.6, ratio_btc=0.2, ratio_eth=0.1, ratio_doge=0.05, ratio_ada=0.05 )\n",
        "s2 = df['value'].copy()\n",
        "hpr, mdd = trading_helper.check_performance_rebal(df)\n",
        "print( f'HPR={hpr*100:.1f} MDD={mdd*100:.1f}' )\n",
        "\n",
        "rebalancing( df, ratio_krw=0.3, ratio_btc=0.2, ratio_eth=0.3, ratio_doge=0.1, ratio_ada=0.1 )\n",
        "s3 = df['value'].copy()\n",
        "hpr, mdd = trading_helper.check_performance_rebal(df)\n",
        "print( f'HPR={hpr*100:.1f} MDD={mdd*100:.1f}' )\n",
        "\n",
        "rebalancing( df, ratio_krw=0.2, ratio_btc=0.2, ratio_eth=0.2, ratio_doge=0.2, ratio_ada=0.2 )\n",
        "s4 = df['value'].copy()\n",
        "hpr, mdd = trading_helper.check_performance_rebal(df)\n",
        "print( f'HPR={hpr*100:.1f} MDD={mdd*100:.1f}' )\n"
      ],
      "metadata": {
        "id": "9l4pB45uZVzq"
      },
      "execution_count": null,
      "outputs": []
    },
    {
      "cell_type": "code",
      "source": [
        "\n",
        "for i in np.arange(0, 0.6, 0.1):\n",
        "    x = i\n",
        "    y = 0.5 - i\n",
        "\n",
        "    print( x, y, end=' ' )\n",
        "\n",
        "    rebalancing( df, ratio_krw= 0.5, ratio_btc=0, ratio_eth=0, ratio_doge=x, ratio_ada=y )\n",
        "    s4 = df['value'].copy()\n",
        "    hpr, mdd = trading_helper.check_performance_rebal(df)\n",
        "    print( f'HPR={hpr*100:.1f} MDD={mdd*100:.1f}' )\n"
      ],
      "metadata": {
        "id": "C_swfk0vnV1v"
      },
      "execution_count": null,
      "outputs": []
    },
    {
      "cell_type": "markdown",
      "source": [
        "### 그래프 그려보기"
      ],
      "metadata": {
        "id": "zlNi9iLkYumn"
      }
    },
    {
      "cell_type": "code",
      "source": [
        "\n",
        "df2 = pd.DataFrame()\n",
        "df2['BTC'] = s_btc\n",
        "df2['ETH'] = s_eth\n",
        "df2['DOGE'] = s_doge\n",
        "df2['ADA'] = s_ada\n",
        "df2['strategy1'] = s1\n",
        "df2['strategy2'] = s2\n",
        "df2['strategy3'] = s3\n",
        "df2['strategy4'] = s4\n",
        "\n",
        "df2.plot( figsize=(15,3) )"
      ],
      "metadata": {
        "id": "939Vkn6o_TfX"
      },
      "execution_count": null,
      "outputs": []
    },
    {
      "cell_type": "markdown",
      "source": [
        "# 코드 보관 장소 \n",
        "### 아래에 보관하고 싶은 코드를 자유롭게 수정/추가할 수 있습니다.\n",
        "---"
      ],
      "metadata": {
        "id": "_Xg9eS5kJWWz"
      }
    },
    {
      "cell_type": "markdown",
      "source": [
        "### Qual. Round 1,2 Code"
      ],
      "metadata": {
        "id": "iQYKsbUmJczt"
      }
    },
    {
      "cell_type": "code",
      "source": [],
      "metadata": {
        "id": "Tk6qC-h_JWw6"
      },
      "execution_count": null,
      "outputs": []
    },
    {
      "cell_type": "markdown",
      "source": [
        "### Comp. Round 1 (MDD 20) Code"
      ],
      "metadata": {
        "id": "LBTE1G2-Lj3N"
      }
    },
    {
      "cell_type": "code",
      "source": [],
      "metadata": {
        "id": "m-au3e9BLpId"
      },
      "execution_count": null,
      "outputs": []
    },
    {
      "cell_type": "markdown",
      "source": [
        "### Comp. Round 2 (MDD 10) Code"
      ],
      "metadata": {
        "id": "JPF0Ng19LphC"
      }
    },
    {
      "cell_type": "code",
      "source": [],
      "metadata": {
        "id": "cWwzthjCLqyx"
      },
      "execution_count": null,
      "outputs": []
    },
    {
      "cell_type": "markdown",
      "source": [
        "### Bonus Round (MDD 30) Code"
      ],
      "metadata": {
        "id": "ibjFBaWyLrix"
      }
    },
    {
      "cell_type": "code",
      "source": [],
      "metadata": {
        "id": "a4FiiJatLuFL"
      },
      "execution_count": null,
      "outputs": []
    }
  ]
}