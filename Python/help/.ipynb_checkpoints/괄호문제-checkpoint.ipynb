{
 "cells": [
  {
   "cell_type": "code",
   "execution_count": 112,
   "id": "bdb463e6-f0a2-418a-8c1a-3584c29db048",
   "metadata": {},
   "outputs": [
    {
     "name": "stdout",
     "output_type": "stream",
     "text": [
      "(\n",
      "( → (\n",
      "( → ( → (\n",
      "( → ( → ( → (\n",
      "( → ( → (\n",
      "( → (\n",
      "(\n",
      "Empty List\n",
      "True\n",
      "(\n",
      "Empty List\n",
      "(\n",
      "Empty List\n",
      "True\n",
      "(\n",
      "( → (\n",
      "( → ( → (\n",
      "( → (\n",
      "(\n",
      "Empty List\n",
      "True\n",
      "(\n",
      "( → (\n",
      "(\n",
      "Empty List\n",
      "False\n"
     ]
    }
   ],
   "source": [
    "class Node:\n",
    "    def __init__(self,item):\n",
    "        self.data = item\n",
    "        self.next = None\n",
    "\n",
    "class SingleLinkedList:\n",
    "    def __init__(self):\n",
    "        self.head = None  \n",
    "        self.tail = None\n",
    "        self.size=0\n",
    "\n",
    "    def isEmpty(self):\n",
    "        return not self.head\n",
    "\n",
    "    def push(self,item):  #마지막에 넣기\n",
    "        new_node = Node(item)\n",
    "        \n",
    "        if self.isEmpty(): #노드가 없다면\n",
    "            self.head = new_node\n",
    "            self.tail = new_node\n",
    "        else:             #무언가가 있다면\n",
    "            self.tail.next = new_node\n",
    "            self.tail = new_node\n",
    "        self.size +=1\n",
    "            \n",
    "    # def push2(self, data):\n",
    "    #     node = Node(data)\n",
    "    #     if self.isEmpty():\n",
    "    #         self.head = node\n",
    "    #     else:\n",
    "    #         prev = self.head\n",
    "    #         while prev.next:\n",
    "    #             prev = prev.next\n",
    "    #         prev.next = node\n",
    "    #     self.size += 1\n",
    "\n",
    "    def pop(self):\n",
    "        if self.isEmpty():\n",
    "            return None\n",
    "        node = self.head\n",
    "        if self.head.next is None:\n",
    "            self.head = None\n",
    "        else:\n",
    "            while node.next is not None:\n",
    "                prev = node\n",
    "                node = node.next\n",
    "            prev.next = None\n",
    "        self.size -= 1\n",
    "        return node.data\n",
    "    \n",
    "    def popleft(self):\n",
    "        if self.isEmpty():\n",
    "            return None\n",
    "        node = self.head\n",
    "        self.head = self.head.next\n",
    "        self.size -= 1\n",
    "        return node.data\n",
    "    \n",
    "    def top(self):\n",
    "\n",
    "        if self.isEmpty():\n",
    "            return\n",
    "        else:\n",
    "            value = self.tail.data\n",
    "            return value \n",
    "        \n",
    "    def display(self):\n",
    "        if self.head is None:\n",
    "            print(\"Empty List\")\n",
    "        else:\n",
    "            node = self.head\n",
    "            while node.next: \n",
    "                print(node.data, end = \" → \")\n",
    "                node = node.next\n",
    "            print(node.data)\n",
    "\n",
    "def checkparenthesis(expr):\n",
    "    S = SingleLinkedList()\n",
    "    for i in expr:\n",
    "        if i == \"(\":\n",
    "            S.push(i)\n",
    "        elif i ==\")\":\n",
    "            if S.isEmpty():\n",
    "                return False\n",
    "            else:\n",
    "                pop_result = S.pop()\n",
    "                if pop_result != \"(\":\n",
    "                    return False\n",
    "        S.display()\n",
    "    return S.isEmpty()\n",
    "\n",
    "print(checkparenthesis(\"(((())))\"))\n",
    "\n",
    "print(checkparenthesis(\"()()\"))\n",
    "\n",
    "print(checkparenthesis(\"((()))\"))\n",
    "\n",
    "print(checkparenthesis(\"(()))\"))"
   ]
  },
  {
   "cell_type": "code",
   "execution_count": 76,
   "id": "13e84f55-9e0c-492f-9976-5f63e3f8ca4b",
   "metadata": {},
   "outputs": [],
   "source": [
    "my_list = LStack()"
   ]
  },
  {
   "cell_type": "code",
   "execution_count": 77,
   "id": "0b837b60-5893-4f19-8e28-dc4e2722a079",
   "metadata": {},
   "outputs": [],
   "source": [
    "my_list.push(1)\n",
    "my_list.push(2)\n",
    "my_list.push(3)\n",
    "my_list.push(4)"
   ]
  },
  {
   "cell_type": "code",
   "execution_count": 78,
   "id": "286f5341-bc96-43de-8e6c-971a85d1fc09",
   "metadata": {},
   "outputs": [
    {
     "name": "stdout",
     "output_type": "stream",
     "text": [
      "1 → 2 → 3 → 4\n"
     ]
    }
   ],
   "source": [
    "my_list.display()"
   ]
  },
  {
   "cell_type": "code",
   "execution_count": 79,
   "id": "70893caa-e162-4793-a73f-ab461cac708d",
   "metadata": {},
   "outputs": [
    {
     "data": {
      "text/plain": [
       "4"
      ]
     },
     "execution_count": 79,
     "metadata": {},
     "output_type": "execute_result"
    }
   ],
   "source": [
    "my_list.pop()"
   ]
  },
  {
   "cell_type": "code",
   "execution_count": 80,
   "id": "4d2dd135-62a0-487c-8c51-238ed3b5122c",
   "metadata": {},
   "outputs": [
    {
     "name": "stdout",
     "output_type": "stream",
     "text": [
      "1 → 2 → 3 → 4\n"
     ]
    }
   ],
   "source": [
    "my_list.display()"
   ]
  },
  {
   "cell_type": "code",
   "execution_count": 87,
   "id": "79c11e60-237a-4680-9205-bd10d9abc1d1",
   "metadata": {},
   "outputs": [
    {
     "data": {
      "text/plain": [
       "3"
      ]
     },
     "execution_count": 87,
     "metadata": {},
     "output_type": "execute_result"
    }
   ],
   "source": [
    "my_list.size"
   ]
  },
  {
   "cell_type": "code",
   "execution_count": 81,
   "id": "2ab3ae22-2051-41d0-9538-0724dd1f7373",
   "metadata": {},
   "outputs": [],
   "source": [
    "s = SingleLinkedList()"
   ]
  },
  {
   "cell_type": "code",
   "execution_count": 82,
   "id": "eb0314e9-ef25-4e46-812e-7d178eff03cb",
   "metadata": {},
   "outputs": [],
   "source": [
    "s.push(1)\n",
    "s.push(2)\n",
    "s.push(3)\n",
    "s.push(4)"
   ]
  },
  {
   "cell_type": "code",
   "execution_count": 83,
   "id": "40494c9e-2ae2-4a87-adcd-5e1d1f577aba",
   "metadata": {},
   "outputs": [
    {
     "name": "stdout",
     "output_type": "stream",
     "text": [
      "1 → 2 → 3 → 4\n"
     ]
    }
   ],
   "source": [
    "s.display()"
   ]
  },
  {
   "cell_type": "code",
   "execution_count": 84,
   "id": "cd8d0f8e-0f08-4b0f-9747-a1a622d64672",
   "metadata": {},
   "outputs": [
    {
     "data": {
      "text/plain": [
       "4"
      ]
     },
     "execution_count": 84,
     "metadata": {},
     "output_type": "execute_result"
    }
   ],
   "source": [
    "s.pop()"
   ]
  },
  {
   "cell_type": "code",
   "execution_count": 85,
   "id": "b47d900d-bd91-4d74-83c3-75c2dfd2183a",
   "metadata": {},
   "outputs": [
    {
     "name": "stdout",
     "output_type": "stream",
     "text": [
      "1 → 2 → 3\n"
     ]
    }
   ],
   "source": [
    "s.display()"
   ]
  },
  {
   "cell_type": "code",
   "execution_count": 75,
   "id": "2fc67d84-e2db-4540-8bc0-13d00daf7e40",
   "metadata": {},
   "outputs": [
    {
     "data": {
      "text/plain": [
       "<__main__.SingleLinkedList at 0x112c248b0>"
      ]
     },
     "execution_count": 75,
     "metadata": {},
     "output_type": "execute_result"
    }
   ],
   "source": [
    "s"
   ]
  },
  {
   "cell_type": "code",
   "execution_count": 111,
   "id": "99423510-4e21-4724-95bb-42ea16434c7a",
   "metadata": {},
   "outputs": [
    {
     "name": "stdout",
     "output_type": "stream",
     "text": [
      "False\n",
      "(\n",
      "Empty List\n",
      "(\n",
      "Empty List\n",
      "True\n",
      "(\n",
      "( → (\n",
      "( → ( → (\n",
      "( → ( → (\n",
      "( → ( → (\n",
      "Empty List\n",
      "True\n",
      "(\n",
      "( → (\n",
      "( → (\n",
      "Empty List\n",
      "False\n"
     ]
    }
   ],
   "source": [
    "class Node:\n",
    "    def __init__(self,item):\n",
    "        self.data = item\n",
    "        self.next = None\n",
    "\n",
    "class LStack:\n",
    "    def __init__(self):\n",
    "        self.head = None  \n",
    "        self.tail = None\n",
    "        self.size=0\n",
    "\n",
    "    def isEmpty(self):\n",
    "        return not self.head\n",
    "\n",
    "    def push(self,item):  #마지막에 넣기\n",
    "        new_node = Node(item)\n",
    "        \n",
    "        if self.isEmpty(): #노드가 없다면\n",
    "            self.head = new_node\n",
    "            self.tail = new_node\n",
    "        else:             #무언가가 있다면\n",
    "            self.tail.next = new_node\n",
    "            self.tail = new_node\n",
    "        self.size +=1\n",
    "            \n",
    "    def pop(self):\n",
    "        \n",
    "        if self.isEmpty():\n",
    "            return\n",
    "\n",
    "        else:\n",
    "            if self.size == 1: #노드가 1개\n",
    "                value = self.tail.data\n",
    "                self.head = None\n",
    "                self.tail = None\n",
    "                self.size -=1\n",
    "                return value\n",
    "                \n",
    "            else: #노드가 2개 이상\n",
    "                value = self.tail.data\n",
    "                current_node = self.head\n",
    "                \n",
    "                for i in range(self.size):\n",
    "                    if current_node.next is self.tail:\n",
    "                        self.tail = current_node\n",
    "                        break\n",
    "                    \n",
    "                    current_node = current_node.next\n",
    "                current_node.next = None    \n",
    "                self.size -=1\n",
    "                return value\n",
    "\n",
    "\n",
    "    def top(self):\n",
    "\n",
    "        if self.isEmpty():\n",
    "            return\n",
    "        else:\n",
    "            value = self.tail.data\n",
    "            return value \n",
    "\n",
    "def checkparenthesis(expr):\n",
    "    S = LStack()\n",
    "    for i in expr:\n",
    "        if i == \"(\":\n",
    "            S.push(i)\n",
    "        elif i ==\")\":\n",
    "            if S.isEmpty():\n",
    "                return False\n",
    "            else:\n",
    "                pop_result = S.pop()\n",
    "                if pop_result!=\"(\":\n",
    "                    return False\n",
    "\n",
    "    return S.isEmpty()\n",
    "\n",
    "print(checkparenthesis(\"(((())))\"))\n",
    "print(checkparenthesis(\"()()\"))\n",
    "print(checkparenthesis(\"((()))\"))\n",
    "print(checkparenthesis(\"(()))\"))"
   ]
  },
  {
   "cell_type": "code",
   "execution_count": null,
   "id": "ad9ecaac-87c1-4d34-b8bc-f9a65e758015",
   "metadata": {},
   "outputs": [],
   "source": []
  }
 ],
 "metadata": {
  "kernelspec": {
   "display_name": "Python 3 (ipykernel)",
   "language": "python",
   "name": "python3"
  },
  "language_info": {
   "codemirror_mode": {
    "name": "ipython",
    "version": 3
   },
   "file_extension": ".py",
   "mimetype": "text/x-python",
   "name": "python",
   "nbconvert_exporter": "python",
   "pygments_lexer": "ipython3",
   "version": "3.9.10"
  }
 },
 "nbformat": 4,
 "nbformat_minor": 5
}
