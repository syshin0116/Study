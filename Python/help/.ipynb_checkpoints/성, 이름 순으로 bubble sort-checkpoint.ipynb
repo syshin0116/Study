{
 "cells": [
  {
   "cell_type": "code",
   "execution_count": 2,
   "id": "a4f3a73f-4d19-4df1-b9d3-54a8a6f91845",
   "metadata": {},
   "outputs": [
    {
     "name": "stdout",
     "output_type": "stream",
     "text": [
      "['John Doe', 'Adam Johnson', 'Alice Johnson', 'Bob Smith', 'Jane Smith']\n"
     ]
    }
   ],
   "source": [
    "def bubble_sort_names(names):\n",
    "    # iterate through the list of names\n",
    "    for i in range(len(names)):\n",
    "        # iterate through the list of names from the second element to the end\n",
    "        for j in range(1, len(names) - i):\n",
    "            # split the first and second names by space\n",
    "            first_name1, last_name1 = names[j - 1].split(\" \")\n",
    "            first_name2, last_name2 = names[j].split(\" \")\n",
    "            # compare last names\n",
    "            if last_name1 > last_name2:\n",
    "                # swap the positions of the names if the last name of the first name is greater than the last name of the second name\n",
    "                names[j - 1], names[j] = names[j], names[j - 1]\n",
    "            elif last_name1 == last_name2:\n",
    "                # if the last names are the same, compare the first names\n",
    "                if first_name1 > first_name2:\n",
    "                    # swap the positions of the names if the first name of the first name is greater than the first name of the second name\n",
    "                    names[j - 1], names[j] = names[j], names[j - 1]\n",
    "    return names\n",
    "\n",
    "# example usage\n",
    "names = [\"John Doe\", \"Jane Smith\", \"Adam Johnson\", \"Bob Smith\", \"Alice Johnson\"]\n",
    "sorted_names = bubble_sort_names(names)\n",
    "print(sorted_names)\n"
   ]
  },
  {
   "cell_type": "code",
   "execution_count": 21,
   "id": "8ed7cb9e-2d62-4c1d-8d0f-a14919a16edf",
   "metadata": {},
   "outputs": [
    {
     "name": "stdout",
     "output_type": "stream",
     "text": [
      "['John Brady', 'Tom Grimson', 'Daseong Han', 'Eric Herman', 'Joseph Shin', 'Chris Terman']\n"
     ]
    }
   ],
   "source": [
    "def cmp_names(name1, name2):\n",
    "    name1_first, name1_last = name1.split(\" \")\n",
    "    name2_first, name2_last = name2.split(\" \")\n",
    "    if name1_last > name2_last:\n",
    "        return True\n",
    "    elif name1_last == name2_last:\n",
    "        if name1_first > name2_first:\n",
    "            return True\n",
    "    return False\n",
    "\n",
    "def bubble_sort(L, func):\n",
    "    end = len(L) #CHANGE\n",
    "    for i in range(end-1): #CHANGE\n",
    "        for j in range(end-1-i): #CHANGE\n",
    "            i1 = (end-1) - (j+1) #CHANGE\n",
    "            i2 = (end-1) - j #CHANGE\n",
    "            if func(L[i1], L[i2]):\n",
    "                L[i1], L[i2] = L[i2], L[i1] #CHANGE\n",
    "    return L\n",
    "\n",
    "def main():\n",
    "    N = [\"Chris Terman\", \"Daseong Han\", \"Tom Grimson\",\n",
    "         \"Eric Herman\", \"Joseph Shin\", \"John Brady\"]\n",
    "    N = bubble_sort(N, cmp_names)\n",
    "    print(N) \n",
    "\n",
    "main()"
   ]
  },
  {
   "cell_type": "code",
   "execution_count": 11,
   "id": "56d4f68d-96f0-43df-84a6-dd3c81df7467",
   "metadata": {},
   "outputs": [],
   "source": [
    "N = [\"Chris Terman\", \"Daseong Han\", \"Tom Grimson\",\n",
    "         \"Eric Herman\", \"Joseph Shin\", \"John Brady\"]"
   ]
  },
  {
   "cell_type": "code",
   "execution_count": 23,
   "id": "82f6f275-57b0-4685-bfa4-4b64c355a757",
   "metadata": {},
   "outputs": [
    {
     "name": "stdout",
     "output_type": "stream",
     "text": [
      "['John Brady', 'Tom Grimson', 'Daseong Han', 'Eric Herman', 'Joseph Shin', 'Chris Terman']\n"
     ]
    }
   ],
   "source": [
    "print(bubble_sort(N, cmp_names))"
   ]
  },
  {
   "cell_type": "code",
   "execution_count": null,
   "id": "bb166608-57fd-4cbd-9e46-4f3ab9ecef5b",
   "metadata": {},
   "outputs": [],
   "source": []
  }
 ],
 "metadata": {
  "kernelspec": {
   "display_name": "Python 3 (ipykernel)",
   "language": "python",
   "name": "python3"
  },
  "language_info": {
   "codemirror_mode": {
    "name": "ipython",
    "version": 3
   },
   "file_extension": ".py",
   "mimetype": "text/x-python",
   "name": "python",
   "nbconvert_exporter": "python",
   "pygments_lexer": "ipython3",
   "version": "3.9.10"
  }
 },
 "nbformat": 4,
 "nbformat_minor": 5
}
