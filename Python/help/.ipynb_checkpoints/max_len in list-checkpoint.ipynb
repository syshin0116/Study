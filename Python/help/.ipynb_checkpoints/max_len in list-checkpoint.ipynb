{
 "cells": [
  {
   "cell_type": "code",
   "execution_count": 10,
   "id": "a1e82f31-3cdd-4e27-abb0-ad944c8d25c4",
   "metadata": {},
   "outputs": [],
   "source": [
    "fruit_list = ['banana', 'orange', 'KIWI' ,\n",
    "'apple' , 'melon']"
   ]
  },
  {
   "cell_type": "code",
   "execution_count": 4,
   "id": "a29ad64b-ceb2-47b8-9ebe-b3298213d4fb",
   "metadata": {},
   "outputs": [],
   "source": [
    "max_fruit = max(fruit)\n",
    "for fruit in fruit_list:\n",
    "    "
   ]
  },
  {
   "cell_type": "code",
   "execution_count": 5,
   "id": "4b671008-01e7-4d12-8b71-98539cb20d90",
   "metadata": {},
   "outputs": [
    {
     "data": {
      "text/plain": [
       "'o'"
      ]
     },
     "execution_count": 5,
     "metadata": {},
     "output_type": "execute_result"
    }
   ],
   "source": [
    "max_length"
   ]
  },
  {
   "cell_type": "code",
   "execution_count": 11,
   "id": "1c2fa093-5482-44b1-bf9a-6eebe089182f",
   "metadata": {},
   "outputs": [],
   "source": [
    " max_length1 = max(fruit_list, key=len)"
   ]
  },
  {
   "cell_type": "code",
   "execution_count": 12,
   "id": "84b19021-aa49-4f89-84ea-bd249b57e2cd",
   "metadata": {},
   "outputs": [
    {
     "data": {
      "text/plain": [
       "'banana'"
      ]
     },
     "execution_count": 12,
     "metadata": {},
     "output_type": "execute_result"
    }
   ],
   "source": [
    "max_length1"
   ]
  },
  {
   "cell_type": "code",
   "execution_count": null,
   "id": "e493b3b8-29b0-4425-bbbe-0ff2dc945f42",
   "metadata": {},
   "outputs": [],
   "source": []
  },
  {
   "cell_type": "code",
   "execution_count": 16,
   "id": "a4ac8348-40e9-4dc0-8e32-da307f1c43f0",
   "metadata": {},
   "outputs": [
    {
     "name": "stdout",
     "output_type": "stream",
     "text": [
      "가장 길이가 긴 문자열: ['banana', 'orange']\n",
      "['kiwi', 'apple', 'melon']\n"
     ]
    }
   ],
   "source": [
    "fruit_list = ['banana', 'orange', 'kiwi', 'apple', 'melon']\n",
    "\n",
    "# 가장 긴 문자열의 길이\n",
    "max_length = max(len(fruit) for fruit in fruit_list)\n",
    "\n",
    "# 가장 긴 문자열 출력\n",
    "longest_fruits = [fruit for fruit in fruit_list if len(fruit) == max_length]\n",
    "print('가장 길이가 긴 문자열:', longest_fruits)\n",
    "\n",
    "# 가장 긴 문자열과 동일한 길이의 문자열을 삭제\n",
    "fruit_list = [fruit for fruit in fruit_list if len(fruit) != max_length]\n",
    "print('fruit_list=',fruit_list)\n",
    "\n"
   ]
  },
  {
   "cell_type": "code",
   "execution_count": null,
   "id": "9aa30868-c40c-41b2-8269-05fd29de0954",
   "metadata": {},
   "outputs": [],
   "source": []
  }
 ],
 "metadata": {
  "kernelspec": {
   "display_name": "Python 3 (ipykernel)",
   "language": "python",
   "name": "python3"
  },
  "language_info": {
   "codemirror_mode": {
    "name": "ipython",
    "version": 3
   },
   "file_extension": ".py",
   "mimetype": "text/x-python",
   "name": "python",
   "nbconvert_exporter": "python",
   "pygments_lexer": "ipython3",
   "version": "3.9.10"
  }
 },
 "nbformat": 4,
 "nbformat_minor": 5
}
