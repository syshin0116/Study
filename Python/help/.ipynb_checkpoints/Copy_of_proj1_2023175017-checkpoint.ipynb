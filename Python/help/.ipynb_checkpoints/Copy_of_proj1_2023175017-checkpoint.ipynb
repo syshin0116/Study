{
  "nbformat": 4,
  "nbformat_minor": 0,
  "metadata": {
    "colab": {
      "provenance": []
    },
    "kernelspec": {
      "name": "python3",
      "display_name": "Python 3"
    },
    "language_info": {
      "name": "python"
    }
  },
  "cells": [
    {
      "cell_type": "markdown",
      "source": [
        "# Project 1\n",
        "# Volatility Breakout Strategy\n",
        "\n",
        "#### 2023-1학기\n",
        "#### Version: 2023-05-16-v2\n",
        "\n",
        "> 분반: 01\n",
        ">\n",
        "> 학번: \n",
        ">\n",
        "> 학과:\n",
        ">\n",
        "> 이름: \n",
        "\n",
        "\n"
      ],
      "metadata": {
        "id": "7jHZmrQRAtxL"
      }
    },
    {
      "cell_type": "code",
      "source": [
        "# 런타임이 종료되면 이 코드셀은 매번 다시 실행해야 합니다.\n",
        "# pyupbit 설치\n",
        "!pip install pyupbit"
      ],
      "metadata": {
        "id": "iY-TEVpkSEJ4"
      },
      "execution_count": null,
      "outputs": []
    },
    {
      "cell_type": "code",
      "source": [
        "# Import\n",
        "\n",
        "import numpy as np\n",
        "import pandas as pd\n",
        "import datetime\n",
        "\n",
        "import pyupbit\n"
      ],
      "metadata": {
        "id": "hYFModET9l9c"
      },
      "execution_count": null,
      "outputs": []
    },
    {
      "cell_type": "code",
      "source": [
        "# trading_helper 설치 및 버전 확인\n",
        "\n",
        "!wget https://esohn.be/python/trading_helper.py -O trading_helper.py\n",
        "\n",
        "import trading_helper\n",
        "import importlib\n",
        "importlib.reload(trading_helper)\n",
        "\n",
        "print( f'Trading Helper Version: {trading_helper.TRADING_HELPER_VERSION}'  )"
      ],
      "metadata": {
        "id": "cS8gx8ljNiyv"
      },
      "execution_count": null,
      "outputs": []
    },
    {
      "cell_type": "code",
      "source": [
        "# ------------------------------------------------------------------------------------------------------\n",
        "# https://esohn.be/account 의 AUTH CODE 로 실행 로그 기록\n",
        "# ------------------------------------------------------------------------------------------------------\n",
        "\n",
        "'''\n",
        "AUTH_CODE = 'f587ea651febd5446efc61d5e3fef123'  -> 아래에 이렇게 auth code를 붙여넣으세요.\n",
        "'''\n",
        "AUTH_CODE = '2b435454dd9860ceba97f35f7aa030f0'\n",
        "\n",
        "# Do not edit\n",
        "trading_helper.set_auth_code( AUTH_CODE )\n"
      ],
      "metadata": {
        "id": "NyKvER304v4w"
      },
      "execution_count": null,
      "outputs": []
    },
    {
      "cell_type": "markdown",
      "source": [
        "### 가격정보 가져오기"
      ],
      "metadata": {
        "id": "uFEL4omTY_Tr"
      }
    },
    {
      "cell_type": "code",
      "source": [
        "# 가격정보 가져오기\n",
        "\n",
        "from_date = '20200101'\n",
        "to_date = '20221231'\n",
        "\n",
        "df = trading_helper.get_ohlcv2('KRW-BTC', date1=from_date, date2=to_date )\n",
        "\n",
        "df.head()\n"
      ],
      "metadata": {
        "id": "wTHgVNXQSOUk",
        "colab": {
          "base_uri": "https://localhost:8080/",
          "height": 354
        },
        "outputId": "9a9aabf3-cb1b-4d48-e194-4f6bb85a1708"
      },
      "execution_count": null,
      "outputs": [
        {
          "output_type": "execute_result",
          "data": {
            "text/plain": [
              "            Unnamed: 0       open       high        low      close  \\\n",
              "0  2020-01-01 09:00:00  8308000.0  8387000.0  8287000.0  8300000.0   \n",
              "1  2020-01-02 09:00:00  8300000.0  8310000.0  8026000.0  8037000.0   \n",
              "2  2020-01-03 09:00:00  8038000.0  8525000.0  7910000.0  8474000.0   \n",
              "3  2020-01-04 09:00:00  8476000.0  8520000.0  8382000.0  8482000.0   \n",
              "4  2020-01-05 09:00:00  8483000.0  8645000.0  8436000.0  8454000.0   \n",
              "\n",
              "        volume         value  \n",
              "0  1030.458147  8.582255e+09  \n",
              "1  2054.039566  1.679080e+10  \n",
              "2  5887.008808  4.902161e+10  \n",
              "3  1987.266881  1.678980e+10  \n",
              "4  2807.832172  2.403916e+10  "
            ],
            "text/html": [
              "\n",
              "  <div id=\"df-f26d1b55-d29c-4bed-acdd-1122d5987dc3\">\n",
              "    <div class=\"colab-df-container\">\n",
              "      <div>\n",
              "<style scoped>\n",
              "    .dataframe tbody tr th:only-of-type {\n",
              "        vertical-align: middle;\n",
              "    }\n",
              "\n",
              "    .dataframe tbody tr th {\n",
              "        vertical-align: top;\n",
              "    }\n",
              "\n",
              "    .dataframe thead th {\n",
              "        text-align: right;\n",
              "    }\n",
              "</style>\n",
              "<table border=\"1\" class=\"dataframe\">\n",
              "  <thead>\n",
              "    <tr style=\"text-align: right;\">\n",
              "      <th></th>\n",
              "      <th>Unnamed: 0</th>\n",
              "      <th>open</th>\n",
              "      <th>high</th>\n",
              "      <th>low</th>\n",
              "      <th>close</th>\n",
              "      <th>volume</th>\n",
              "      <th>value</th>\n",
              "    </tr>\n",
              "  </thead>\n",
              "  <tbody>\n",
              "    <tr>\n",
              "      <th>0</th>\n",
              "      <td>2020-01-01 09:00:00</td>\n",
              "      <td>8308000.0</td>\n",
              "      <td>8387000.0</td>\n",
              "      <td>8287000.0</td>\n",
              "      <td>8300000.0</td>\n",
              "      <td>1030.458147</td>\n",
              "      <td>8.582255e+09</td>\n",
              "    </tr>\n",
              "    <tr>\n",
              "      <th>1</th>\n",
              "      <td>2020-01-02 09:00:00</td>\n",
              "      <td>8300000.0</td>\n",
              "      <td>8310000.0</td>\n",
              "      <td>8026000.0</td>\n",
              "      <td>8037000.0</td>\n",
              "      <td>2054.039566</td>\n",
              "      <td>1.679080e+10</td>\n",
              "    </tr>\n",
              "    <tr>\n",
              "      <th>2</th>\n",
              "      <td>2020-01-03 09:00:00</td>\n",
              "      <td>8038000.0</td>\n",
              "      <td>8525000.0</td>\n",
              "      <td>7910000.0</td>\n",
              "      <td>8474000.0</td>\n",
              "      <td>5887.008808</td>\n",
              "      <td>4.902161e+10</td>\n",
              "    </tr>\n",
              "    <tr>\n",
              "      <th>3</th>\n",
              "      <td>2020-01-04 09:00:00</td>\n",
              "      <td>8476000.0</td>\n",
              "      <td>8520000.0</td>\n",
              "      <td>8382000.0</td>\n",
              "      <td>8482000.0</td>\n",
              "      <td>1987.266881</td>\n",
              "      <td>1.678980e+10</td>\n",
              "    </tr>\n",
              "    <tr>\n",
              "      <th>4</th>\n",
              "      <td>2020-01-05 09:00:00</td>\n",
              "      <td>8483000.0</td>\n",
              "      <td>8645000.0</td>\n",
              "      <td>8436000.0</td>\n",
              "      <td>8454000.0</td>\n",
              "      <td>2807.832172</td>\n",
              "      <td>2.403916e+10</td>\n",
              "    </tr>\n",
              "  </tbody>\n",
              "</table>\n",
              "</div>\n",
              "      <button class=\"colab-df-convert\" onclick=\"convertToInteractive('df-f26d1b55-d29c-4bed-acdd-1122d5987dc3')\"\n",
              "              title=\"Convert this dataframe to an interactive table.\"\n",
              "              style=\"display:none;\">\n",
              "        \n",
              "  <svg xmlns=\"http://www.w3.org/2000/svg\" height=\"24px\"viewBox=\"0 0 24 24\"\n",
              "       width=\"24px\">\n",
              "    <path d=\"M0 0h24v24H0V0z\" fill=\"none\"/>\n",
              "    <path d=\"M18.56 5.44l.94 2.06.94-2.06 2.06-.94-2.06-.94-.94-2.06-.94 2.06-2.06.94zm-11 1L8.5 8.5l.94-2.06 2.06-.94-2.06-.94L8.5 2.5l-.94 2.06-2.06.94zm10 10l.94 2.06.94-2.06 2.06-.94-2.06-.94-.94-2.06-.94 2.06-2.06.94z\"/><path d=\"M17.41 7.96l-1.37-1.37c-.4-.4-.92-.59-1.43-.59-.52 0-1.04.2-1.43.59L10.3 9.45l-7.72 7.72c-.78.78-.78 2.05 0 2.83L4 21.41c.39.39.9.59 1.41.59.51 0 1.02-.2 1.41-.59l7.78-7.78 2.81-2.81c.8-.78.8-2.07 0-2.86zM5.41 20L4 18.59l7.72-7.72 1.47 1.35L5.41 20z\"/>\n",
              "  </svg>\n",
              "      </button>\n",
              "      \n",
              "  <style>\n",
              "    .colab-df-container {\n",
              "      display:flex;\n",
              "      flex-wrap:wrap;\n",
              "      gap: 12px;\n",
              "    }\n",
              "\n",
              "    .colab-df-convert {\n",
              "      background-color: #E8F0FE;\n",
              "      border: none;\n",
              "      border-radius: 50%;\n",
              "      cursor: pointer;\n",
              "      display: none;\n",
              "      fill: #1967D2;\n",
              "      height: 32px;\n",
              "      padding: 0 0 0 0;\n",
              "      width: 32px;\n",
              "    }\n",
              "\n",
              "    .colab-df-convert:hover {\n",
              "      background-color: #E2EBFA;\n",
              "      box-shadow: 0px 1px 2px rgba(60, 64, 67, 0.3), 0px 1px 3px 1px rgba(60, 64, 67, 0.15);\n",
              "      fill: #174EA6;\n",
              "    }\n",
              "\n",
              "    [theme=dark] .colab-df-convert {\n",
              "      background-color: #3B4455;\n",
              "      fill: #D2E3FC;\n",
              "    }\n",
              "\n",
              "    [theme=dark] .colab-df-convert:hover {\n",
              "      background-color: #434B5C;\n",
              "      box-shadow: 0px 1px 3px 1px rgba(0, 0, 0, 0.15);\n",
              "      filter: drop-shadow(0px 1px 2px rgba(0, 0, 0, 0.3));\n",
              "      fill: #FFFFFF;\n",
              "    }\n",
              "  </style>\n",
              "\n",
              "      <script>\n",
              "        const buttonEl =\n",
              "          document.querySelector('#df-f26d1b55-d29c-4bed-acdd-1122d5987dc3 button.colab-df-convert');\n",
              "        buttonEl.style.display =\n",
              "          google.colab.kernel.accessAllowed ? 'block' : 'none';\n",
              "\n",
              "        async function convertToInteractive(key) {\n",
              "          const element = document.querySelector('#df-f26d1b55-d29c-4bed-acdd-1122d5987dc3');\n",
              "          const dataTable =\n",
              "            await google.colab.kernel.invokeFunction('convertToInteractive',\n",
              "                                                     [key], {});\n",
              "          if (!dataTable) return;\n",
              "\n",
              "          const docLinkHtml = 'Like what you see? Visit the ' +\n",
              "            '<a target=\"_blank\" href=https://colab.research.google.com/notebooks/data_table.ipynb>data table notebook</a>'\n",
              "            + ' to learn more about interactive tables.';\n",
              "          element.innerHTML = '';\n",
              "          dataTable['output_type'] = 'display_data';\n",
              "          await google.colab.output.renderOutput(dataTable, element);\n",
              "          const docLink = document.createElement('div');\n",
              "          docLink.innerHTML = docLinkHtml;\n",
              "          element.appendChild(docLink);\n",
              "        }\n",
              "      </script>\n",
              "    </div>\n",
              "  </div>\n",
              "  "
            ]
          },
          "metadata": {},
          "execution_count": 5
        }
      ]
    },
    {
      "cell_type": "markdown",
      "source": [
        "### 아래 코드셀을 복사해서 프로젝트 코드로 붙여 넣으세요."
      ],
      "metadata": {
        "id": "s7SilAF8Y5oo"
      }
    },
    {
      "cell_type": "code",
      "execution_count": null,
      "metadata": {
        "id": "fjauVJp1SB8f"
      },
      "outputs": [],
      "source": [
        "# ------------------------------------------------------------------------------------------------------\n",
        "# - 코드를 완성했다면 이 코드셀만 복사해서 competition 페이지 Volatility Breakout 탭에 라운드 별 코드 항목으로 붙여넣습니다.\n",
        "# - 연습할 때는 다음과 같은 이유로 프로젝트 페이지의 에디터에서 직접 연습하지 말고 Colab에서 연습하세요. \n",
        "#   + Colab의 연습은 서버에 횟수가 기록되어 평가에 반영됩니다.\n",
        "#   + Colab 노트북 자체에도 변경 history가 누적 됩니다. (부정행위 방지)\n",
        "#   + 프로젝트 페이지에서 submit 횟수가 지나치게 빈번한 경우 submit이 일정시간 제한될 수 있습니다.\n",
        "# ------------------------------------------------------------------------------------------------------\n",
        "\n",
        "# Given Code Version 2023.05.16-v2\n",
        "\n",
        "\n",
        "import numpy as np\n",
        "import pandas as pd\n",
        "import datetime\n",
        "\n",
        "\n",
        "# [프로젝트 1]\n",
        "# volatility_breakout() 변동성 돌파 전략 함수\n",
        "#\n",
        "# df - 일별 가격 정보를 가지고 있는 데이터 프레임\n",
        "# k - k값, 기본값은 0.5\n",
        "#\n",
        "# Qualification 라운드 에서는 상승장 구분을 사용하지 않음 (df['cond2'] = True로 남겨둠)\n",
        "# 그 외의 라운드에서는 원하는 k값과 상승장 구분을 사용하여 경쟁\n",
        "#\n",
        "def volatility_breakout( df, k=0.5 ):\n",
        "\n",
        "    if k < 0:\n",
        "        return\n",
        "        \n",
        "    # 전일 레인지 range_s = (고가 - 저가).shift(1)\n",
        "    df['range_s'] = (df['high'] - df['low']).shift(1) # EDIT (1)\n",
        "\n",
        "    # 목표 매수가 = 오늘 시가 + 전일 레인지 * k\n",
        "    df['target'] = df['open'] + df['range_s'] * k # EDIT (2)\n",
        "\n",
        "    # 먄약 이동평균을 활용하고 싶으면 다음과 같이 이동평균 열을 추가\n",
        "    # df['ma5'] = df['close'].rolling(5).mean().shift(1)\n",
        "    # df['ma20'] = df['close'].rolling(20).mean().shift(1)\n",
        "    # df['ma50'] = df['close'].rolling(50).mean().shift(1)\n",
        "\n",
        "    #--------------------------------------------------------------\n",
        "    # 조건 1 - 변동성 돌파 ( np.where( 고가 >= 목표 매수가, True, False ) )\n",
        "    '''\n",
        "    cond1 에는 변동성 돌파 전략을 위한 수식만 사용 가능합니다.\n",
        "    '''\n",
        "\n",
        "    df['cond1'] = np.where(df['high'] >= df['target'], True, False) # EDIT (3)\n",
        "    #--------------------------------------------------------------\n",
        "\n",
        "    #--------------------------------------------------------------\n",
        "    # 조건 2 - 상승장 구분 (optional)\n",
        "    #\n",
        "    # 추가 조건이 없다면,\n",
        "    #   df['cond2'] = True \n",
        "    # 5일 이동평균보다 시가가 높을 때만 매매한다면, \n",
        "    #   df['cond2'] = np.where( (df['open'] >= df['ma5']), True, False )\n",
        "    # 3일 이동평균 및 5일 이동평균보다 시가가 높을 때만 매매한다면,\n",
        "    #   df['cond2'] = np.where( (df['open'] >= df['ma3']) & (df['open'] >= df['ma5']), True, False )\n",
        "    # \n",
        "    '''\n",
        "    cond2 에서 open 이외에 오늘 결정되지 않은 미래의 정보(close, high, low, volume)를 그냥 사용하면 안됩니다.\n",
        "    .shift(1) 를 붙이면 모두 사용 가능합니다.\n",
        "\n",
        "    예를 들어, \n",
        "    - df['open'] : 사용 가능\n",
        "    - df['close'].shift(1) : 사용 가능\n",
        "    - df['high'] : 사용 불가능\n",
        "    - df['low'].shift(1) : 사용 가능\n",
        "    - df['close'].shift(2) : 사용 가능\n",
        "    '''\n",
        "    \n",
        "    df['cond2'] = True # EDITABLE\n",
        "    #--------------------------------------------------------------\n",
        "\n",
        "    return df\n",
        "\n",
        "# 이 코드 셀은 함수 정의 이외에는 다른 내용을 아래에 덧붙이지 마세요.\n",
        "# ------------------------------------------------------------------------------------------------------\n"
      ]
    },
    {
      "cell_type": "markdown",
      "source": [
        "### k=0.5, 0.8일 때의 HPR, MDD"
      ],
      "metadata": {
        "id": "dP9iv2GPZBxM"
      }
    },
    {
      "cell_type": "code",
      "source": [
        "# 함수 테스트 (k = 0.5)\n",
        "\n",
        "volatility_breakout( df, 0.75 )\n",
        "\n",
        "hpr, mdd = trading_helper.check_performance_vol( df )\n",
        "\n",
        "print( f'HPR = {hpr * 100:.1f}%, MDD = {mdd * 100:.1f}%' )"
      ],
      "metadata": {
        "id": "K6YAJgb3Imqq",
        "colab": {
          "base_uri": "https://localhost:8080/"
        },
        "outputId": "9def7062-c4fe-49e0-9d85-b8271aee8a1f"
      },
      "execution_count": null,
      "outputs": [
        {
          "output_type": "stream",
          "name": "stdout",
          "text": [
            "HPR = 210.0%, MDD = 26.4%\n"
          ]
        }
      ]
    },
    {
      "cell_type": "code",
      "source": [
        "# 함수 테스트 (k = 0.8)\n",
        "\n",
        "volatility_breakout( df, 0.8 )\n",
        "\n",
        "hpr, mdd = trading_helper.check_performance_vol( df )\n",
        "\n",
        "print( f'HPR = {hpr * 100:.1f}%, MDD = {mdd * 100:.1f}%' )"
      ],
      "metadata": {
        "id": "pjMgp-K74lev",
        "colab": {
          "base_uri": "https://localhost:8080/"
        },
        "outputId": "3acb03bf-a48e-4cbc-fa8f-5c359746f7ba"
      },
      "execution_count": null,
      "outputs": [
        {
          "output_type": "stream",
          "name": "stdout",
          "text": [
            "HPR = 225.7%, MDD = 20.6%\n"
          ]
        }
      ]
    },
    {
      "cell_type": "markdown",
      "source": [
        "### HPR 그래프"
      ],
      "metadata": {
        "id": "OwI8nSHJZHGF"
      }
    },
    {
      "cell_type": "code",
      "source": [
        "# 기간 수익률(HPR) 변화 추이 그래프\n",
        "\n",
        "( (df['hpr']-1) * 100).plot( figsize=(15,3) )"
      ],
      "metadata": {
        "id": "qxO3mu3cY3y4",
        "colab": {
          "base_uri": "https://localhost:8080/",
          "height": 174
        },
        "outputId": "d3577fae-c05a-4420-aa13-fe30514806b5"
      },
      "execution_count": null,
      "outputs": [
        {
          "output_type": "execute_result",
          "data": {
            "text/plain": [
              "<Axes: >"
            ]
          },
          "metadata": {},
          "execution_count": 24
        },
        {
          "output_type": "display_data",
          "data": {
            "text/plain": [
              "<Figure size 1500x300 with 1 Axes>"
            ],
            "image/png": "[encoded data removed]"
          },
          "metadata": {}
        }
      ]
    },
    {
      "cell_type": "markdown",
      "source": [
        "### MDD 그래프"
      ],
      "metadata": {
        "id": "9kGf7vgHZJbj"
      }
    },
    {
      "cell_type": "code",
      "source": [
        "# 낙폭(Drawdown) 변화 추이 그래프\n",
        "\n",
        "(-df['dd'] * 100).plot( figsize=(15,3) )"
      ],
      "metadata": {
        "id": "CdNxaLF1443J",
        "colab": {
          "base_uri": "https://localhost:8080/",
          "height": 174
        },
        "outputId": "86b5da22-5d24-4d5b-9d5e-39441cb278e3"
      },
      "execution_count": null,
      "outputs": [
        {
          "output_type": "execute_result",
          "data": {
            "text/plain": [
              "<Axes: >"
            ]
          },
          "metadata": {},
          "execution_count": 25
        },
        {
          "output_type": "display_data",
          "data": {
            "text/plain": [
              "<Figure size 1500x300 with 1 Axes>"
            ],
            "image/png": "[encoded data removed]"
          },
          "metadata": {}
        }
      ]
    },
    {
      "cell_type": "markdown",
      "source": [
        "### 여러 개의 k값을 시도해보고 싶을 때"
      ],
      "metadata": {
        "id": "yUNIeX3SZLc9"
      }
    },
    {
      "cell_type": "code",
      "source": [
        "# 여러개의 k값을 시도해보고 싶을 때\n",
        "\n",
        "records = [];\n",
        "\n",
        "for k in np.arange(0.4, 0.5, 0.02):\n",
        "\n",
        "    volatility_breakout( df, k )\n",
        "\n",
        "    hpr, mdd = trading_helper.check_performance_vol( df )\n",
        "\n",
        "    records.append( ( hpr * 100, mdd * 100, k) )\n",
        "\n",
        "records.sort(reverse=True)\n",
        "\n",
        "for record in records:\n",
        "    print(f'HPR= {record[0]:.1f}% MDD= {record[1]:.1f}% k= {record[2]:.2f}')\n"
      ],
      "metadata": {
        "id": "ymt7FzU3Wg01",
        "colab": {
          "base_uri": "https://localhost:8080/"
        },
        "outputId": "186f6206-5d94-4cc1-aaa7-7ea0a72189a4"
      },
      "execution_count": null,
      "outputs": [
        {
          "output_type": "stream",
          "name": "stdout",
          "text": [
            "HPR= -98.4% MDD= 98.4% k= 0.48\n",
            "HPR= -98.6% MDD= 98.6% k= 0.46\n",
            "HPR= -98.6% MDD= 98.7% k= 0.44\n",
            "HPR= -98.8% MDD= 98.8% k= 0.42\n",
            "HPR= -98.9% MDD= 98.9% k= 0.40\n"
          ]
        }
      ]
    },
    {
      "cell_type": "markdown",
      "source": [
        "# 코드 보관 장소 \n",
        "### 아래에 보관하고 싶은 코드를 자유롭게 수정/추가할 수 있습니다.\n",
        "---"
      ],
      "metadata": {
        "id": "l_YC8kb9Ism6"
      }
    },
    {
      "cell_type": "markdown",
      "source": [
        "### Qual. Round 1, 2 Code"
      ],
      "metadata": {
        "id": "CHh8zsYMHWI6"
      }
    },
    {
      "cell_type": "code",
      "source": [
        "# ------------------------------------------------------------------------------------------------------\n",
        "# - 코드를 완성했다면 이 코드셀만 복사해서 competition 페이지 Volatility Breakout 탭에 라운드 별 코드 항목으로 붙여넣습니다.\n",
        "# - 연습할 때는 다음과 같은 이유로 프로젝트 페이지의 에디터에서 직접 연습하지 말고 Colab에서 연습하세요. \n",
        "#   + Colab의 연습은 서버에 횟수가 기록되어 평가에 반영됩니다.\n",
        "#   + Colab 노트북 자체에도 변경 history가 누적 됩니다. (부정행위 방지)\n",
        "#   + 프로젝트 페이지에서 submit 횟수가 지나치게 빈번한 경우 submit이 일정시간 제한될 수 있습니다.\n",
        "# ------------------------------------------------------------------------------------------------------\n",
        "\n",
        "# Given Code Version 2023.05.11-v1\n",
        "\n",
        "\n",
        "import numpy as np\n",
        "import pandas as pd\n",
        "import datetime\n",
        "\n",
        "\n",
        "# [프로젝트 1]\n",
        "# volatility_breakout() 변동성 돌파 전략 함수\n",
        "#\n",
        "# df - 일별 가격 정보를 가지고 있는 데이터 프레임\n",
        "# k - k값, 기본값은 0.5\n",
        "#\n",
        "# Qualification 라운드 에서는 상승장 구분을 사용하지 않음 (df['cond2'] = True로 남겨둠)\n",
        "# 그 외의 라운드에서는 원하는 k값과 상승장 구분을 사용하여 경쟁\n",
        "#\n",
        "def volatility_breakout( df, k=0.5 ):\n",
        "\n",
        "    if k < 0:\n",
        "        return\n",
        "        \n",
        "    # 전일 레인지 range_s = (고가 - 저가).shift(1)\n",
        "    df['range_s'] = 0 # EDIT (1)\n",
        "\n",
        "    # 목표 매수가 = 오늘 시가 + 전일 레인지 * k\n",
        "    df['target'] = 0 # EDIT (2)\n",
        "\n",
        "    # 먄약 이동평균을 활용하고 싶으면 다음과 같이 이동평균 열을 추가\n",
        "    # df['ma5'] = df['close'].rolling(5).mean().shift(1)\n",
        "    # df['ma20'] = df['close'].rolling(20).mean().shift(1)\n",
        "    # df['ma50'] = df['close'].rolling(50).mean().shift(1)\n",
        "\n",
        "    #--------------------------------------------------------------\n",
        "    # 조건 1 - 변동성 돌파 ( np.where( 고가 >= 목표 매수가, True, False ) )\n",
        "    '''\n",
        "    cond1 에는 변동성 돌파 전략을 위한 수식만 사용 가능합니다.\n",
        "    '''\n",
        "\n",
        "    df['cond1'] = False # EDIT (3)\n",
        "    #--------------------------------------------------------------\n",
        "\n",
        "    #--------------------------------------------------------------\n",
        "    # 조건 2 - 상승장 구분 (optional)\n",
        "    #\n",
        "    # 추가 조건이 없다면,\n",
        "    #   df['cond2'] = True \n",
        "    # 5일 이동평균보다 시가가 높을 때만 매매한다면, \n",
        "    #   df['cond2'] = np.where( (df['open'] >= df['ma5']), True, False )\n",
        "    # 3일 이동평균 및 5일 이동평균보다 시가가 높을 때만 매매한다면,\n",
        "    #   df['cond2'] = np.where( (df['open'] >= df['ma3']) & (df['open'] >= df['ma5']), True, False )\n",
        "    # \n",
        "    '''\n",
        "    cond2 에서 open 이외에 오늘 결정되지 않은 미래의 정보(close, high, low, volume)를 그냥 사용하면 안됩니다.\n",
        "    .shift(1) 를 붙이면 모두 사용 가능합니다.\n",
        "\n",
        "    예를 들어, \n",
        "    - df['open'] : 사용 가능\n",
        "    - df['close'].shift(1) : 사용 가능\n",
        "    - df['high'] : 사용 불가능\n",
        "    - df['low'].shift(1) : 사용 가능\n",
        "    - df['close'].shift(2) : 사용 가능\n",
        "    '''\n",
        "    \n",
        "    df['cond2'] = True # EDITABLE\n",
        "    #--------------------------------------------------------------\n",
        "\n",
        "    return df\n",
        "\n",
        "# 이 코드 셀은 함수 정의 이외에는 다른 내용을 아래에 덧붙이지 마세요.\n",
        "# ------------------------------------------------------------------------------------------------------\n"
      ],
      "metadata": {
        "id": "XZ-C9gD4HdmK"
      },
      "execution_count": null,
      "outputs": []
    },
    {
      "cell_type": "markdown",
      "source": [
        "### Comp. Round 1 (MDD 20) Code\n",
        "\n",
        "> Indented block\n",
        "\n"
      ],
      "metadata": {
        "id": "notzwJjsHg30"
      }
    },
    {
      "cell_type": "code",
      "source": [],
      "metadata": {
        "id": "mZu5ugxlHscs"
      },
      "execution_count": null,
      "outputs": []
    },
    {
      "cell_type": "markdown",
      "source": [
        "### Comp. Round 2 (MDD 10) Code"
      ],
      "metadata": {
        "id": "BDdlE8mzHs5m"
      }
    },
    {
      "cell_type": "code",
      "source": [],
      "metadata": {
        "id": "573Rlo1gHvYA"
      },
      "execution_count": null,
      "outputs": []
    },
    {
      "cell_type": "markdown",
      "source": [
        "### Bonus Round Code"
      ],
      "metadata": {
        "id": "SsaDD6nCHwA5"
      }
    },
    {
      "cell_type": "code",
      "source": [],
      "metadata": {
        "id": "okCfkGLsH6d2"
      },
      "execution_count": null,
      "outputs": []
    }
  ]
}