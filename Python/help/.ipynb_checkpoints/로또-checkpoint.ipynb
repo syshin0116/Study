{
 "cells": [
  {
   "cell_type": "code",
   "execution_count": 39,
   "id": "476b3304-4ce5-4c51-a1d5-8794c3814eb2",
   "metadata": {},
   "outputs": [
    {
     "name": "stdin",
     "output_type": "stream",
     "text": [
      "몇게임 하시겠습니까?: 5\n"
     ]
    },
    {
     "name": "stdout",
     "output_type": "stream",
     "text": [
      "-------------------------\n",
      "A 자 동 09 43 37 12 22 11\n",
      "B 자 동 19 38 21 15 10 35\n",
      "C 자 동 38 05 07 04 24 32\n",
      "D 자 동 12 09 04 26 05 23\n",
      "E 자 동 33 03 44 26 36 41\n",
      "-------------------------\n",
      "금액               ₩5,000\n"
     ]
    }
   ],
   "source": [
    "import random\n",
    "from string import ascii_uppercase\n",
    "\n",
    "numbers=list(range(1,45))\n",
    "game = int(input('몇게임 하시겠습니까?:'))\n",
    "print('-'*25)\n",
    "for i in range(game):\n",
    "    lotto = map(lambda x : '{0:02d}'.format(x), random.sample(numbers, 6))\n",
    "    print(ascii_uppercase[i], '자 동', *lotto)\n",
    "print('-'*25)\n",
    "print('금액', ('₩'+format(game*1000, ',')).rjust(20))"
   ]
  },
  {
   "cell_type": "code",
   "execution_count": 5,
   "id": "7f11ec11-fcf0-4809-9c38-74e83ff694c0",
   "metadata": {},
   "outputs": [
    {
     "data": {
      "text/plain": [
       "[0, 1, 2, 3, 4, 5, 6, 7, 8, 9]"
      ]
     },
     "execution_count": 5,
     "metadata": {},
     "output_type": "execute_result"
    }
   ],
   "source": [
    "list(range(10))"
   ]
  },
  {
   "cell_type": "code",
   "execution_count": 6,
   "id": "ea887165-4a07-4999-a88d-5b9c198a8fa7",
   "metadata": {},
   "outputs": [
    {
     "data": {
      "text/plain": [
       "[23, 10, 35, 40, 3, 12]"
      ]
     },
     "execution_count": 6,
     "metadata": {},
     "output_type": "execute_result"
    }
   ],
   "source": [
    "numbers=list(range(1,45))\n",
    "random.sample(numbers, 6) "
   ]
  }
 ],
 "metadata": {
  "kernelspec": {
   "display_name": "Python 3 (ipykernel)",
   "language": "python",
   "name": "python3"
  },
  "language_info": {
   "codemirror_mode": {
    "name": "ipython",
    "version": 3
   },
   "file_extension": ".py",
   "mimetype": "text/x-python",
   "name": "python",
   "nbconvert_exporter": "python",
   "pygments_lexer": "ipython3",
   "version": "3.9.10"
  }
 },
 "nbformat": 4,
 "nbformat_minor": 5
}
