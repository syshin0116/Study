{
 "cells": [
  {
   "cell_type": "code",
   "execution_count": 1,
   "id": "fddc7c9d-d0fb-421d-b0f0-08e47f026d04",
   "metadata": {},
   "outputs": [
    {
     "ename": "AttributeError",
     "evalue": "module 'turtle' has no attribute 'screen'",
     "output_type": "error",
     "traceback": [
      "\u001b[0;31m---------------------------------------------------------------------------\u001b[0m",
      "\u001b[0;31mAttributeError\u001b[0m                            Traceback (most recent call last)",
      "Input \u001b[0;32mIn [1]\u001b[0m, in \u001b[0;36m<cell line: 6>\u001b[0;34m()\u001b[0m\n\u001b[1;32m     14\u001b[0m turtle\u001b[38;5;241m.\u001b[39mshape(\u001b[38;5;124m'\u001b[39m\u001b[38;5;124mturtle\u001b[39m\u001b[38;5;124m'\u001b[39m)\n\u001b[1;32m     15\u001b[0m turtle\u001b[38;5;241m.\u001b[39msetup(width \u001b[38;5;241m+\u001b[39m \u001b[38;5;241m50\u001b[39m, height \u001b[38;5;241m+\u001b[39m \u001b[38;5;241m50\u001b[39m)\n\u001b[0;32m---> 16\u001b[0m \u001b[43mturtle\u001b[49m\u001b[38;5;241;43m.\u001b[39;49m\u001b[43mscreen\u001b[49m\u001b[38;5;241m.\u001b[39mscreensize(width, height)\n\u001b[1;32m     17\u001b[0m turtle\u001b[38;5;241m.\u001b[39mpenup()\n\u001b[1;32m     18\u001b[0m turtle\u001b[38;5;241m.\u001b[39mleft(\u001b[38;5;241m90\u001b[39m)\n",
      "\u001b[0;31mAttributeError\u001b[0m: module 'turtle' has no attribute 'screen'"
     ]
    }
   ],
   "source": [
    "import turtle\n",
    "\n",
    "\n",
    "\n",
    "# 메인 코드 부분\n",
    "if __name__ == \"__main__\":\n",
    "    # 전역 선언 부분\n",
    "    width, height = 1000, 300\n",
    "    curX, curY = 0, 0\n",
    "\n",
    "    # turtle = turtle.Turtle()\n",
    "    # sc = turtle.Screen()\n",
    "    turtle.title('거북이로 2진수 표현하기')\n",
    "    turtle.shape('turtle')\n",
    "    turtle.setup(width + 50, height + 50)\n",
    "    turtle.screensize(width, height)\n",
    "    turtle.penup()\n",
    "    turtle.left(90)\n",
    "\n",
    "    # 첫 번째 숫자 입력받기\n",
    "    num1 = int(input(\"첫 번째 숫자를 입력하세요: \"))\n",
    "    이진수1 = bin(num1)[2:]\n",
    "    print(f\"{num1}의 2진수: {이진수1}\")\n",
    "    curX = width / 2\n",
    "    for i in range(len(이진수1)):\n",
    "        turtle.goto(curX, curY)\n",
    "        if 이진수1[i] == '1':\n",
    "            turtle.color('red')\n",
    "            turtle.turtlesize(2)\n",
    "        else:\n",
    "            turtle.color('blue')\n",
    "            turtle.turtlesize(1)\n",
    "        turtle.stamp()\n",
    "        curX -= 50\n",
    "\n",
    "    # 두 번째 숫자 입력받기\n",
    "    num2 = int(input(\"두 번째 숫자를 입력하세요: \"))\n",
    "    이진수2 = bin(num2)[2:]\n",
    "    print(f\"{num2}의 2진수: {이진수2}\")\n",
    "    curX = width / 2\n",
    "    curY -= 100\n",
    "    for i in range(len(이진수2)):\n",
    "        turtle.goto(curX, curY)\n",
    "        if 이진수2[i] == '1':\n",
    "            turtle.color('red')\n",
    "            turtle.turtlesize(2)\n",
    "        else:\n",
    "            turtle.color('blue')\n",
    "            turtle.turtlesize(1)\n",
    "        turtle.stamp()\n",
    "        curX -= 50\n",
    "\n",
    "    # 두 숫자의 비트 논리곱 구하기\n",
    "    bitwise_and = num1 & num2\n",
    "    이진수_and = bin(bitwise_and)[2:]\n",
    "    print(f\"{num1}과 {num2}의 비트 논리곱: {이진수_and}\")\n",
    "    curX = width / 2\n",
    "    curY -= 100\n",
    "    for i in range(len(이진수_and)):\n",
    "        turtle.goto(curX, curY)\n",
    "        if 이진수_and[i] == '1':\n",
    "            turtle.color('red')\n",
    "            turtle.turtlesize(2)\n",
    "        else:\n",
    "            turtle.color('blue')\n",
    "            turtle.turtlesize(1)\n",
    "        turtle.stamp()\n",
    "        curX -= 50\n",
    "\n",
    "    turtle.penup()\n",
    "    turtle.done()"
   ]
  },
  {
   "cell_type": "code",
   "execution_count": null,
   "id": "9c963878-5f92-45c5-8589-d64130b864eb",
   "metadata": {},
   "outputs": [],
   "source": []
  }
 ],
 "metadata": {
  "kernelspec": {
   "display_name": "Python 3 (ipykernel)",
   "language": "python",
   "name": "python3"
  },
  "language_info": {
   "codemirror_mode": {
    "name": "ipython",
    "version": 3
   },
   "file_extension": ".py",
   "mimetype": "text/x-python",
   "name": "python",
   "nbconvert_exporter": "python",
   "pygments_lexer": "ipython3",
   "version": "3.9.10"
  }
 },
 "nbformat": 4,
 "nbformat_minor": 5
}
