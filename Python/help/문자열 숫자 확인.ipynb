{
 "cells": [
  {
   "cell_type": "code",
   "execution_count": 1,
   "id": "cf62a95c-235a-4cb2-96e0-374d0cbe5130",
   "metadata": {},
   "outputs": [
    {
     "name": "stdin",
     "output_type": "stream",
     "text": [
      "정수 입력: -1\n"
     ]
    },
    {
     "name": "stdout",
     "output_type": "stream",
     "text": [
      "정수를 입력하세요.\n"
     ]
    }
   ],
   "source": [
    "number = input(\"정수 입력:\")\n",
    "\n",
    "if number > '0' and number <'9':\n",
    "    print(\"양수입니다\")\n",
    "elif number < '0' and number > '-9':\n",
    "    print(\"음수입니다\")\n",
    "\n",
    "elif number == '0':\n",
    "    print(\"0입니다\")\n",
    "else:\n",
    "    print(\"정수를 입력하세요.\")\n",
    "    exit();"
   ]
  },
  {
   "cell_type": "code",
   "execution_count": 7,
   "id": "16432857-128d-41ce-a94a-1f3e6541dcce",
   "metadata": {},
   "outputs": [
    {
     "name": "stdin",
     "output_type": "stream",
     "text": [
      "정수 입력> asdf\n"
     ]
    },
    {
     "name": "stdout",
     "output_type": "stream",
     "text": [
      "숫자를 입력하세요.\n",
      "숫자를 입력하세요.\n",
      "숫자를 입력하세요.\n",
      "숫자를 입력하세요.\n"
     ]
    },
    {
     "ename": "ValueError",
     "evalue": "invalid literal for int() with base 10: 'asdf'",
     "output_type": "error",
     "traceback": [
      "\u001b[0;31m---------------------------------------------------------------------------\u001b[0m",
      "\u001b[0;31mValueError\u001b[0m                                Traceback (most recent call last)",
      "Input \u001b[0;32mIn [7]\u001b[0m, in \u001b[0;36m<cell line: 14>\u001b[0;34m()\u001b[0m\n\u001b[1;32m     10\u001b[0m         \u001b[38;5;28mprint\u001b[39m(\u001b[38;5;124m\"\u001b[39m\u001b[38;5;124m숫자를 입력하세요.\u001b[39m\u001b[38;5;124m\"\u001b[39m)\n\u001b[1;32m     11\u001b[0m         exit()\n\u001b[0;32m---> 14\u001b[0m number \u001b[38;5;241m=\u001b[39m \u001b[38;5;28;43mint\u001b[39;49m\u001b[43m(\u001b[49m\u001b[43mnumber\u001b[49m\u001b[43m)\u001b[49m\n\u001b[1;32m     16\u001b[0m \u001b[38;5;28;01mif\u001b[39;00m number \u001b[38;5;241m>\u001b[39m \u001b[38;5;241m0\u001b[39m \u001b[38;5;129;01mand\u001b[39;00m is_negative\u001b[38;5;241m==\u001b[39m\u001b[38;5;28;01mFalse\u001b[39;00m:\n\u001b[1;32m     17\u001b[0m     \u001b[38;5;28mprint\u001b[39m(\u001b[38;5;124m\"\u001b[39m\u001b[38;5;124m양수입니다\u001b[39m\u001b[38;5;124m\"\u001b[39m)\n",
      "\u001b[0;31mValueError\u001b[0m: invalid literal for int() with base 10: 'asdf'"
     ]
    }
   ],
   "source": [
    "number = input(\"정수 입력>\")\n",
    "is_negative = False\n",
    "# 입력받은 문자열의 각 문자가 숫자인지 아닌지 확인\n",
    "\n",
    "if number[0] == \"-\":\n",
    "    is_negative = True\n",
    "    number = number[1:]\n",
    "for char in number:\n",
    "    if ord(char) < ord('0') or ord(char) > ord('9'):\n",
    "        print(\"숫자를 입력하세요.\")\n",
    "        exit()\n",
    "\n",
    "\n",
    "number = int(number)\n",
    "\n",
    "if number > 0 and is_negative==False:\n",
    "    print(\"양수입니다\")\n",
    "\n",
    "elif number > 0 and is_negative==True:\n",
    "    print(\"음수입니다\")\n",
    "\n",
    "else:\n",
    "    print(\"0입니다\")"
   ]
  },
  {
   "cell_type": "code",
   "execution_count": 5,
   "id": "9d020150-9fd0-4aa9-a318-cdad5b0dff4e",
   "metadata": {},
   "outputs": [
    {
     "data": {
      "text/plain": [
       "1234"
      ]
     },
     "execution_count": 5,
     "metadata": {},
     "output_type": "execute_result"
    }
   ],
   "source": [
    "number"
   ]
  },
  {
   "cell_type": "code",
   "execution_count": null,
   "id": "8d6bb2fa-e8b7-44f5-bcb1-fe0f2dd3de8d",
   "metadata": {},
   "outputs": [],
   "source": []
  }
 ],
 "metadata": {
  "kernelspec": {
   "display_name": "Python 3 (ipykernel)",
   "language": "python",
   "name": "python3"
  },
  "language_info": {
   "codemirror_mode": {
    "name": "ipython",
    "version": 3
   },
   "file_extension": ".py",
   "mimetype": "text/x-python",
   "name": "python",
   "nbconvert_exporter": "python",
   "pygments_lexer": "ipython3",
   "version": "3.9.10"
  }
 },
 "nbformat": 4,
 "nbformat_minor": 5
}
