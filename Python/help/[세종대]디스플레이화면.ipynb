{
 "cells": [
  {
   "cell_type": "code",
   "execution_count": 2,
   "id": "2426d9ff-66f9-4379-9cdb-92730988ef85",
   "metadata": {},
   "outputs": [
    {
     "name": "stdin",
     "output_type": "stream",
     "text": [
      " 1\n",
      " 100\n",
      " 100\n"
     ]
    },
    {
     "name": "stdout",
     "output_type": "stream",
     "text": [
      "color 1 values(RGB): 100\n",
      "color 2 values(RGB): 100\n",
      "Just same colors\n"
     ]
    }
   ],
   "source": [
    "color_weakness = input()\n",
    "color1 = input()\n",
    "color2 = input()\n",
    "GREEN = '010'\n",
    "RED = '100'\n",
    "YELLOW = '110'\n",
    "BLUE = '001'\n",
    "\n",
    "print('color 1 values(RGB):', color1)\n",
    "print('color 2 values(RGB):', color2)\n",
    "\n",
    "if color1 == color2:\n",
    "    print('Just same colors')\n",
    "\n",
    "elif color_weakness == '1':\n",
    "    if color1 == RED and color2 == GREEN:\n",
    "        print('Red and Green')\n",
    "    elif color2 == GREEN and color2 == RED:\n",
    "        print('Green and Red')\n",
    "elif color_weakness == '2':\n",
    "    if color1 == YELLOW and color2 == BLUE:\n",
    "        print('Yellow and Blue')\n",
    "    elif color1 == BLUE and color2 == YELLOW:\n",
    "        print('Blue and Yellow')\n"
   ]
  },
  {
   "cell_type": "code",
   "execution_count": null,
   "id": "9e2dc7a1-9a22-47fe-b9d5-137a520275be",
   "metadata": {},
   "outputs": [],
   "source": []
  }
 ],
 "metadata": {
  "kernelspec": {
   "display_name": "Python 3 (ipykernel)",
   "language": "python",
   "name": "python3"
  },
  "language_info": {
   "codemirror_mode": {
    "name": "ipython",
    "version": 3
   },
   "file_extension": ".py",
   "mimetype": "text/x-python",
   "name": "python",
   "nbconvert_exporter": "python",
   "pygments_lexer": "ipython3",
   "version": "3.9.10"
  }
 },
 "nbformat": 4,
 "nbformat_minor": 5
}
