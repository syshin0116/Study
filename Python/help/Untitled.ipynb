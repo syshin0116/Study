{
 "cells": [
  {
   "cell_type": "raw",
   "id": "d759d0c0-5649-436b-82e7-e3474ce9bea5",
   "metadata": {},
   "source": [
    "문자와 반복 횟수를 입력받아 문자를 반복하여 출력하는 프로그램을 작성하라\n",
    "\n",
    "[입력 예시 1]\n",
    "#\n",
    "5\n",
    "\n",
    "[출력 예시 1]\n",
    "String = #####\n",
    "\n",
    "[입력 예시 2]\n",
    "4\n",
    "10\n",
    "\n",
    "[출력 예시 2]\n",
    "String = 4444444444"
   ]
  },
  {
   "cell_type": "code",
   "execution_count": 3,
   "id": "83c58ad5-e85e-433b-ab03-b52e184ca09b",
   "metadata": {},
   "outputs": [
    {
     "name": "stdin",
     "output_type": "stream",
     "text": [
      " 4\n",
      " 10\n"
     ]
    },
    {
     "name": "stdout",
     "output_type": "stream",
     "text": [
      "4444444444\n"
     ]
    }
   ],
   "source": [
    "string = input()\n",
    "num = int(input())\n",
    "\n",
    "print('String =', string*num)"
   ]
  },
  {
   "cell_type": "raw",
   "id": "5cc9b3ea-0693-49fb-ac06-20d7d4fb42cc",
   "metadata": {},
   "source": [
    "주사위를 던져서 나온 수를 누적하고,\n",
    "나온 수가 4가 아니면 주사위를 계속 던지는 프로그램을 작성하라.\n",
    "최종적으로 주사위를 던진 횟수와 누적값을 출력한다.\n",
    "\n",
    "[입력 예시 1]\n",
    "3\n",
    "5\n",
    "2\n",
    "4\n",
    "\n",
    "[출력 예시 1]\n",
    "Count = 4, Total = 14\n",
    "\n",
    "\n",
    "[입력 예시 2]\n",
    "5\n",
    "9\n",
    "7\n",
    "6\n",
    "2\n",
    "5\n",
    "4\n",
    "\n",
    "[출력 예시 2]\n",
    "Count = 7, Total = 38"
   ]
  },
  {
   "cell_type": "code",
   "execution_count": 4,
   "id": "b4503ba2-29a6-46fb-b7c0-95ceabe2f2a0",
   "metadata": {},
   "outputs": [
    {
     "name": "stdin",
     "output_type": "stream",
     "text": [
      " 5\n",
      " 9\n",
      " 7\n",
      " 6\n",
      " 2\n",
      " 5\n",
      " 4\n"
     ]
    },
    {
     "name": "stdout",
     "output_type": "stream",
     "text": [
      "Count = 7 Total = 38\n"
     ]
    }
   ],
   "source": [
    "count = 0\n",
    "total = 0\n",
    "while True:\n",
    "    dice = int(input())\n",
    "    count += 1\n",
    "    total += dice\n",
    "    if dice == 4:\n",
    "        break\n",
    "print(\"Count = \" + str(count) + \", Total =\", total)"
   ]
  },
  {
   "cell_type": "raw",
   "id": "75c866a8-a905-4d05-9352-75b4470b0f60",
   "metadata": {},
   "source": [
    "1 X 2 X 3 X … 과 같이 1부터 하나씩 값을 증가시키면서 팩토리얼(factorial)값을 구한다고 가정할 때,\n",
    "정수 n을 입력 받고, 팩토리얼 값이 n 미만이면 계속 곱하는 프로그램을 작성하라.\n",
    "최종적으로 곱한 횟수와 누적값을 출력한다.\n",
    "\n",
    "[입력 예시 1]\n",
    "100\n",
    "\n",
    "[출력 예시 1]\n",
    "Num = 5\n",
    "Total = 120\n",
    "\n",
    "[입력 예시 2]\n",
    "500\n",
    "\n",
    "[출력 예시 2]\n",
    "Num = 6\n",
    "Total = 720"
   ]
  },
  {
   "cell_type": "code",
   "execution_count": 15,
   "id": "19a952f0-a630-4b0a-b4fc-183be897a9e2",
   "metadata": {},
   "outputs": [
    {
     "name": "stdin",
     "output_type": "stream",
     "text": [
      " 6\n"
     ]
    },
    {
     "name": "stdout",
     "output_type": "stream",
     "text": [
      "Num = 6\n",
      "Total = 720\n"
     ]
    }
   ],
   "source": [
    "num = int(input())\n",
    "total = 1\n",
    "i = 1\n",
    "while i <= num:\n",
    "    total *= i\n",
    "    i+=1\n",
    "print(\"Num =\", num)\n",
    "print(\"Total =\", total)"
   ]
  },
  {
   "cell_type": "code",
   "execution_count": 12,
   "id": "07eefa53-25cc-4f9d-9a48-b9f0d5e6e0b6",
   "metadata": {},
   "outputs": [
    {
     "data": {
      "text/plain": [
       "120"
      ]
     },
     "execution_count": 12,
     "metadata": {},
     "output_type": "execute_result"
    }
   ],
   "source": [
    "1*2*3*4*5"
   ]
  },
  {
   "cell_type": "raw",
   "id": "21e6208a-36a8-4763-9346-86446a827787",
   "metadata": {},
   "source": [
    "주사위를 던져서 나온 수를 누적한 값이 20미만이면 주사위를 계속 던지는 프로그램을 작성하라.\n",
    "(단, 주사위 값이 4이면 누적하지 않는다. 주사위를 던진 횟수와 누적값을 출력한다.)\n",
    "\n",
    "[입력 예시 1]\n",
    "5\n",
    "4\n",
    "3\n",
    "1\n",
    "6\n",
    "2\n",
    "5\n",
    "\n",
    "[출력 예시 1]\n",
    "Count = 7\n",
    "Total = 22\n",
    "\n",
    "[입력 예시 2]\n",
    "6\n",
    "6\n",
    "5\n",
    "3\n",
    "\n",
    "[출력 예시 2]\n",
    "Count = 4\n",
    "Total = 20"
   ]
  },
  {
   "cell_type": "code",
   "execution_count": 19,
   "id": "0ea203a6-9e6c-46ae-b2cf-80e069cf4869",
   "metadata": {},
   "outputs": [
    {
     "name": "stdin",
     "output_type": "stream",
     "text": [
      " 6\n",
      " 6\n",
      " 5\n",
      " 3\n"
     ]
    },
    {
     "name": "stdout",
     "output_type": "stream",
     "text": [
      "Count = 4\n",
      "Total = 20\n"
     ]
    }
   ],
   "source": [
    "total = 0\n",
    "count = 0\n",
    "while total < 20:\n",
    "    dice = int(input())\n",
    "    count += 1\n",
    "    if dice == 4:\n",
    "        continue\n",
    "    \n",
    "    total += dice\n",
    "print(\"Count =\", count)\n",
    "print(\"Total =\", total)"
   ]
  },
  {
   "cell_type": "raw",
   "id": "be55b87b-d92f-4c17-a716-7075fbb0020d",
   "metadata": {},
   "source": [
    "주사위를 던져서 나온 수를 누적한 값이 20미만이면 주사위를 계속 던지는 프로그램을 작성하라.\n",
    "(단, 주사위 값이 4이면 합을 누적하지 않고 주사위를 더 이상 던지지 않는다.\n",
    "주사위를 던진 횟수와 누적값을 출력한다.)\n",
    "\n",
    "[입력 예시 1]\n",
    "3\n",
    "5\n",
    "1\n",
    "2\n",
    "6\n",
    "4\n",
    "\n",
    "[출력 예시 1]\n",
    "Count = 6\n",
    "Total = 17\n",
    "\n",
    "[입력 예시 2]\n",
    "6\n",
    "5\n",
    "5\n",
    "6\n",
    "\n",
    "[출력 예시 2]\n",
    "Count = 4\n",
    "Total = 22"
   ]
  },
  {
   "cell_type": "code",
   "execution_count": 22,
   "id": "2af3f8d1-c188-4f53-9773-01a2c2bc0772",
   "metadata": {},
   "outputs": [
    {
     "name": "stdin",
     "output_type": "stream",
     "text": [
      " 6\n",
      " 5\n",
      " 5\n",
      " 6\n"
     ]
    },
    {
     "name": "stdout",
     "output_type": "stream",
     "text": [
      "Count = 4\n",
      "Total = 22\n"
     ]
    }
   ],
   "source": [
    "total = 0\n",
    "count = 0\n",
    "while total < 20:\n",
    "    dice = int(input())\n",
    "    count += 1\n",
    "    if dice == 4:\n",
    "        break\n",
    "    \n",
    "    total += dice\n",
    "print(\"Count =\", count)\n",
    "print(\"Total =\", total)"
   ]
  },
  {
   "cell_type": "code",
   "execution_count": 23,
   "id": "8a9cce01-9c60-4d93-916f-05949d21f044",
   "metadata": {},
   "outputs": [
    {
     "data": {
      "text/plain": [
       "50230"
      ]
     },
     "execution_count": 23,
     "metadata": {},
     "output_type": "execute_result"
    }
   ],
   "source": [
    "30980+19250"
   ]
  },
  {
   "cell_type": "code",
   "execution_count": null,
   "id": "8a43ed3d-c00d-4580-9663-af485eaafd75",
   "metadata": {},
   "outputs": [],
   "source": []
  }
 ],
 "metadata": {
  "kernelspec": {
   "display_name": "Python 3 (ipykernel)",
   "language": "python",
   "name": "python3"
  },
  "language_info": {
   "codemirror_mode": {
    "name": "ipython",
    "version": 3
   },
   "file_extension": ".py",
   "mimetype": "text/x-python",
   "name": "python",
   "nbconvert_exporter": "python",
   "pygments_lexer": "ipython3",
   "version": "3.9.10"
  }
 },
 "nbformat": 4,
 "nbformat_minor": 5
}
