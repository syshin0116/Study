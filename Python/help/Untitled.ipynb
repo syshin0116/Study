{
 "cells": [
  {
   "cell_type": "code",
   "execution_count": 2,
   "id": "0059569d-0de3-4c25-b779-28adcd44900c",
   "metadata": {},
   "outputs": [
    {
     "name": "stdin",
     "output_type": "stream",
     "text": [
      " 75\n",
      " 20\n",
      " 71\n",
      " 45\n",
      " 82\n",
      " 100\n",
      " 114\n",
      " 107\n"
     ]
    },
    {
     "name": "stdout",
     "output_type": "stream",
     "text": [
      "7 times 77 concentration\n"
     ]
    }
   ],
   "source": [
    "std = int(input()) #기준 농도 수치\n",
    "avg = 0 #평균을 담을 변수\n",
    "count = 0 #회수를 담을 변수\n",
    "total = 0 #합을 담을 변수\n",
    "\n",
    "while avg<std: #평균 농도 수치가 기준 농도 수치 보다 작으면 실행 -> 평균이 기준을 넘어가면 멈춤\n",
    "    density = int(input()) #새로운 농도 수치\n",
    "    count += 1 #회수 1 증가\n",
    "    total += density #합에 새로운 동도 추가\n",
    "    avg = total / count #새로운 평균 \n",
    "    \n",
    "print(count, \"times\", int(avg), \"concentration\")"
   ]
  },
  {
   "cell_type": "code",
   "execution_count": 3,
   "id": "4f663c6e-984f-48b6-afe5-27c2daaafd01",
   "metadata": {},
   "outputs": [
    {
     "name": "stdin",
     "output_type": "stream",
     "text": [
      " 75\n",
      " 20\n",
      " 71\n",
      " 45\n",
      " 82\n",
      " 100\n",
      " 114\n",
      " 107\n"
     ]
    },
    {
     "name": "stdout",
     "output_type": "stream",
     "text": [
      "7 times 77 concentration\n"
     ]
    }
   ],
   "source": [
    "std = int(input()) #기준 농도 수치\n",
    "avg = 0 #평균을 담을 변수\n",
    "count = 0 #회수를 담을 변수\n",
    "total = 0 #합을 담을 변수\n",
    "\n",
    "while True: #무한반복\n",
    "    density = int(input()) #새로운 농도 수치\n",
    "    count += 1 #회수 1 증가\n",
    "    total += density #합에 새로운 동도 추가\n",
    "    avg = total / count #새로운 평균 \n",
    "    if avg > std: #평균이 기준을 넘어가면 break\n",
    "        break\n",
    "    \n",
    "print(count, \"times\", int(avg), \"concentration\")"
   ]
  },
  {
   "cell_type": "code",
   "execution_count": 16,
   "id": "69e8d71b-c7c8-42aa-8e5d-97b22fc232a4",
   "metadata": {},
   "outputs": [
    {
     "name": "stdout",
     "output_type": "stream",
     "text": [
      "n1 % n2 = 1\n"
     ]
    }
   ],
   "source": [
    "n1 = 1\n",
    "n2 = 2\n",
    "print(\"n1 % n2 = {}\".format(n1%n2))"
   ]
  },
  {
   "cell_type": "code",
   "execution_count": 17,
   "id": "08fffb40-8ee3-463d-a1c6-e4fb67a6644c",
   "metadata": {},
   "outputs": [
    {
     "name": "stdout",
     "output_type": "stream",
     "text": [
      "n1 % n2 =1\n"
     ]
    }
   ],
   "source": [
    "print(\"n1 % n2 = \"+str(n1%n2))"
   ]
  },
  {
   "cell_type": "code",
   "execution_count": 19,
   "id": "6a996791-803b-49f9-81a8-782157cabe70",
   "metadata": {},
   "outputs": [
    {
     "name": "stdin",
     "output_type": "stream",
     "text": [
      "***첫번째 숫자 입력: 1\n",
      "***두번째 숫자 입력: 100\n",
      "***더할 숫자 입력: 3\n"
     ]
    },
    {
     "name": "stdout",
     "output_type": "stream",
     "text": [
      "1+4+...+100는 1717입니다.\n"
     ]
    }
   ],
   "source": [
    "answer = 0\n",
    "\n",
    "num1 = int(input(\"***첫번째 숫자 입력:\"))\n",
    "num2 = int(input(\"***두번째 숫자 입력:\"))\n",
    "num3 = int(input(\"***더할 숫자 입력:\"))\n",
    "num4 = 0\n",
    "for i in range(num1, num2+1, num3):\n",
    "    answer += i\n",
    "    num4 = i\n",
    "print(\"%d+%d+...+%d는 %d입니다.\"%(num1, num1+num3, num4, answer))\n",
    "    "
   ]
  },
  {
   "cell_type": "code",
   "execution_count": null,
   "id": "60b5ac23-0e61-48de-8398-b40feb453159",
   "metadata": {},
   "outputs": [],
   "source": []
  }
 ],
 "metadata": {
  "kernelspec": {
   "display_name": "Python 3 (ipykernel)",
   "language": "python",
   "name": "python3"
  },
  "language_info": {
   "codemirror_mode": {
    "name": "ipython",
    "version": 3
   },
   "file_extension": ".py",
   "mimetype": "text/x-python",
   "name": "python",
   "nbconvert_exporter": "python",
   "pygments_lexer": "ipython3",
   "version": "3.9.10"
  }
 },
 "nbformat": 4,
 "nbformat_minor": 5
}
