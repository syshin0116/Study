{
 "cells": [
  {
   "cell_type": "code",
   "execution_count": 1,
   "id": "f9925535-55ad-42f4-9188-596d9045b3e4",
   "metadata": {},
   "outputs": [],
   "source": [
    "aa = []"
   ]
  },
  {
   "cell_type": "code",
   "execution_count": 2,
   "id": "1500dc5a-3341-4d1c-a970-176acbfb2c9d",
   "metadata": {},
   "outputs": [],
   "source": [
    "aa.append('요소0')\n",
    "aa.append('요소1')\n",
    "aa.append('요소2')\n",
    "aa.append('요소3')\n",
    "aa.append('요소4')\n",
    "aa.append('요소5')\n",
    "aa.append('요소6')\n",
    "aa.append('요소7')\n",
    "aa.append('요소8')"
   ]
  },
  {
   "cell_type": "code",
   "execution_count": 3,
   "id": "e9bc368d-3eb2-4541-bb0b-a7fa8a1f078c",
   "metadata": {},
   "outputs": [
    {
     "name": "stdout",
     "output_type": "stream",
     "text": [
      "['요소0', '요소1', '요소2', '요소3', '요소4', '요소5', '요소6', '요소7', '요소8']\n"
     ]
    }
   ],
   "source": [
    "print(aa)"
   ]
  },
  {
   "cell_type": "code",
   "execution_count": 4,
   "id": "a76cb3b0-9ffd-4b3f-bf9e-3e7b6480a9cb",
   "metadata": {},
   "outputs": [
    {
     "data": {
      "text/plain": [
       "'요소0'"
      ]
     },
     "execution_count": 4,
     "metadata": {},
     "output_type": "execute_result"
    }
   ],
   "source": [
    "aa[0]"
   ]
  },
  {
   "cell_type": "code",
   "execution_count": 5,
   "id": "daa48243-a494-4f3f-9b73-4600bd622597",
   "metadata": {},
   "outputs": [
    {
     "data": {
      "text/plain": [
       "'요소1'"
      ]
     },
     "execution_count": 5,
     "metadata": {},
     "output_type": "execute_result"
    }
   ],
   "source": [
    "aa[1]"
   ]
  },
  {
   "cell_type": "code",
   "execution_count": 6,
   "id": "2571548e-f9cf-41b5-bbc1-04d95bfc3372",
   "metadata": {},
   "outputs": [
    {
     "data": {
      "text/plain": [
       "'요소5'"
      ]
     },
     "execution_count": 6,
     "metadata": {},
     "output_type": "execute_result"
    }
   ],
   "source": [
    "aa[5]"
   ]
  },
  {
   "cell_type": "code",
   "execution_count": null,
   "id": "f6830546-e67f-4a06-adbe-0dc149705da5",
   "metadata": {},
   "outputs": [],
   "source": [
    "aa.remove('"
   ]
  },
  {
   "cell_type": "code",
   "execution_count": null,
   "id": "972d1005-e32f-45ec-8782-81a2018806e7",
   "metadata": {},
   "outputs": [],
   "source": []
  },
  {
   "cell_type": "code",
   "execution_count": null,
   "id": "bd69d507-7814-4d60-9e1b-06e4d657fe91",
   "metadata": {},
   "outputs": [],
   "source": []
  }
 ],
 "metadata": {
  "kernelspec": {
   "display_name": "Python 3 (ipykernel)",
   "language": "python",
   "name": "python3"
  },
  "language_info": {
   "codemirror_mode": {
    "name": "ipython",
    "version": 3
   },
   "file_extension": ".py",
   "mimetype": "text/x-python",
   "name": "python",
   "nbconvert_exporter": "python",
   "pygments_lexer": "ipython3",
   "version": "3.9.10"
  }
 },
 "nbformat": 4,
 "nbformat_minor": 5
}
