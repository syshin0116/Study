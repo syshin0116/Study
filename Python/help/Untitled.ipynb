{
 "cells": [
  {
   "cell_type": "code",
   "execution_count": 2,
   "id": "0059569d-0de3-4c25-b779-28adcd44900c",
   "metadata": {},
   "outputs": [
    {
     "name": "stdin",
     "output_type": "stream",
     "text": [
      " 75\n",
      " 20\n",
      " 71\n",
      " 45\n",
      " 82\n",
      " 100\n",
      " 114\n",
      " 107\n"
     ]
    },
    {
     "name": "stdout",
     "output_type": "stream",
     "text": [
      "7 times 77 concentration\n"
     ]
    }
   ],
   "source": [
    "std = int(input()) #기준 농도 수치\n",
    "avg = 0 #평균을 담을 변수\n",
    "count = 0 #회수를 담을 변수\n",
    "total = 0 #합을 담을 변수\n",
    "\n",
    "while avg<std: #평균 농도 수치가 기준 농도 수치 보다 작으면 실행 -> 평균이 기준을 넘어가면 멈춤\n",
    "    density = int(input()) #새로운 농도 수치\n",
    "    count += 1 #회수 1 증가\n",
    "    total += density #합에 새로운 동도 추가\n",
    "    avg = total / count #새로운 평균 \n",
    "    \n",
    "print(count, \"times\", int(avg), \"concentration\")"
   ]
  },
  {
   "cell_type": "code",
   "execution_count": 3,
   "id": "4f663c6e-984f-48b6-afe5-27c2daaafd01",
   "metadata": {},
   "outputs": [
    {
     "name": "stdin",
     "output_type": "stream",
     "text": [
      " 75\n",
      " 20\n",
      " 71\n",
      " 45\n",
      " 82\n",
      " 100\n",
      " 114\n",
      " 107\n"
     ]
    },
    {
     "name": "stdout",
     "output_type": "stream",
     "text": [
      "7 times 77 concentration\n"
     ]
    }
   ],
   "source": [
    "std = int(input()) #기준 농도 수치\n",
    "avg = 0 #평균을 담을 변수\n",
    "count = 0 #회수를 담을 변수\n",
    "total = 0 #합을 담을 변수\n",
    "\n",
    "while True: #무한반복\n",
    "    density = int(input()) #새로운 농도 수치\n",
    "    count += 1 #회수 1 증가\n",
    "    total += density #합에 새로운 동도 추가\n",
    "    avg = total / count #새로운 평균 \n",
    "    if avg > std: #평균이 기준을 넘어가면 break\n",
    "        break\n",
    "    \n",
    "print(count, \"times\", int(avg), \"concentration\")"
   ]
  },
  {
   "cell_type": "code",
   "execution_count": 16,
   "id": "69e8d71b-c7c8-42aa-8e5d-97b22fc232a4",
   "metadata": {},
   "outputs": [
    {
     "name": "stdout",
     "output_type": "stream",
     "text": [
      "n1 % n2 = 1\n"
     ]
    }
   ],
   "source": [
    "n1 = 1\n",
    "n2 = 2\n",
    "print(\"n1 % n2 = {}\".format(n1%n2))"
   ]
  },
  {
   "cell_type": "code",
   "execution_count": 17,
   "id": "08fffb40-8ee3-463d-a1c6-e4fb67a6644c",
   "metadata": {},
   "outputs": [
    {
     "name": "stdout",
     "output_type": "stream",
     "text": [
      "n1 % n2 =1\n"
     ]
    }
   ],
   "source": [
    "print(\"n1 % n2 = \"+str(n1%n2))"
   ]
  },
  {
   "cell_type": "code",
   "execution_count": 21,
   "id": "6a996791-803b-49f9-81a8-782157cabe70",
   "metadata": {},
   "outputs": [
    {
     "name": "stdin",
     "output_type": "stream",
     "text": [
      "***첫번째 숫자 입력: 1\n",
      "***두번째 숫자 입력: 100\n",
      "***더할 숫자 입력: 2\n"
     ]
    },
    {
     "name": "stdout",
     "output_type": "stream",
     "text": [
      "1+3+...+99는 2500입니다.\n"
     ]
    }
   ],
   "source": [
    "answer = 0\n",
    "\n",
    "num1 = int(input(\"***첫번째 숫자 입력:\"))\n",
    "num2 = int(input(\"***두번째 숫자 입력:\"))\n",
    "num3 = int(input(\"***더할 숫자 입력:\"))\n",
    "num4 = 0\n",
    "for i in range(num1, num2+1, num3):\n",
    "    answer += i\n",
    "    num4 = i\n",
    "print(\"%d+%d+...+%d는 %d입니다.\"%(num1, num1+num3, num4, answer))\n",
    "    "
   ]
  },
  {
   "cell_type": "code",
   "execution_count": 20,
   "id": "60b5ac23-0e61-48de-8398-b40feb453159",
   "metadata": {},
   "outputs": [
    {
     "data": {
      "text/plain": [
       "100"
      ]
     },
     "execution_count": 20,
     "metadata": {},
     "output_type": "execute_result"
    }
   ],
   "source": [
    "num4"
   ]
  },
  {
   "cell_type": "code",
   "execution_count": 22,
   "id": "35d75e2c-7570-4e5b-9efd-23c81715f3ed",
   "metadata": {},
   "outputs": [
    {
     "name": "stdout",
     "output_type": "stream",
     "text": [
      "1\n",
      "2\n",
      "3\n",
      "4\n",
      "5\n",
      "6\n",
      "7\n",
      "8\n",
      "9\n"
     ]
    }
   ],
   "source": [
    "for i in range(1, 10):\n",
    "    print(i)"
   ]
  },
  {
   "cell_type": "code",
   "execution_count": 25,
   "id": "3046c7c0-5eca-4daf-9ad0-fd4e10bf32fc",
   "metadata": {},
   "outputs": [
    {
     "name": "stdout",
     "output_type": "stream",
     "text": [
      "1\n",
      "3\n",
      "5\n",
      "7\n",
      "9\n"
     ]
    }
   ],
   "source": [
    "for i in range(10):\n",
    "    if i % 2 ==0:\n",
    "        continue\n",
    "    print(i)"
   ]
  },
  {
   "cell_type": "code",
   "execution_count": 28,
   "id": "c2f9c444-9f51-492d-91a3-a5352b31e8cc",
   "metadata": {},
   "outputs": [
    {
     "name": "stdout",
     "output_type": "stream",
     "text": [
      "1\n",
      "4\n"
     ]
    }
   ],
   "source": [
    "a = 1\n",
    "if a==1:\n",
    "    print(1)\n",
    "elif a==1:\n",
    "    print(2)\n",
    "elif a==1:\n",
    "    print(3)\n",
    "if a==1:\n",
    "    print(4)\n",
    "else:\n",
    "    print(5)"
   ]
  },
  {
   "cell_type": "markdown",
   "id": "03023ae6-71fa-4687-b829-e6a47d0756c4",
   "metadata": {},
   "source": [
    "## 한화(원)를 달러로 환전하는 환률 계싼 프로그램을 만들려고 한다.\n",
    "\n",
    "#### 먼저는 필요한 달러와 환율을 입력받는다.\n",
    "#### 그 후 반복해서 서비스 번호를 입력 받아 해당하는 서비스를 수행한다.\n",
    "#### 1을 입력하면 현재까지 누적된 달러를 출력한다.\n",
    "#### 2를 입력하면 한화(원)을 입력 받고 환전하여 누적한다.\n",
    "#### 0을 입력하면 누적된 달러와 환전 결과를 출력하고 프로그램을 종료한다.\n",
    "#### 환전 결과 출력 시 정확하게 필요한 만큼 환전했으면 \"good\", \n",
    "#### 부족하면 \"bad\", 초과되었으면 \"too much\"를 출력한다.\n",
    "#### (단, 필요한 달러는 자연수로만 주어지며, 환전 시 소수점 아래가 생기는 경우는 없다.)"
   ]
  },
  {
   "cell_type": "code",
   "execution_count": 1,
   "id": "9a2fd4a4-2426-4cc7-a80e-062547949618",
   "metadata": {},
   "outputs": [
    {
     "name": "stdin",
     "output_type": "stream",
     "text": [
      " 15\n",
      " 1000\n",
      " 1\n"
     ]
    },
    {
     "name": "stdout",
     "output_type": "stream",
     "text": [
      "0\n"
     ]
    },
    {
     "name": "stdin",
     "output_type": "stream",
     "text": [
      " 2\n",
      " 10000\n",
      " 1\n"
     ]
    },
    {
     "name": "stdout",
     "output_type": "stream",
     "text": [
      "10\n"
     ]
    },
    {
     "name": "stdin",
     "output_type": "stream",
     "text": [
      " 2\n",
      " 5000\n",
      " 0\n"
     ]
    },
    {
     "name": "stdout",
     "output_type": "stream",
     "text": [
      "15 good\n"
     ]
    }
   ],
   "source": [
    "total_dollar = 0\n",
    "dollar = int(input())\n",
    "change_rate = int(input())\n",
    "while True:\n",
    "    service = input()\n",
    "    if service == \"1\":\n",
    "        print(total_dollar)\n",
    "    elif service == \"2\":\n",
    "        korean = int(input())\n",
    "        total_dollar += korean//change_rate\n",
    "    elif service == \"0\":\n",
    "        if total_dollar > dollar:\n",
    "            print(total_dollar, \"too much\")\n",
    "        elif total_dollar == dollar:\n",
    "            print(total_dollar, \"good\")\n",
    "        else:\n",
    "            print(total_dollar, \"bad\")\n",
    "        break"
   ]
  },
  {
   "cell_type": "markdown",
   "id": "f64a02a1-3e2a-467e-aa68-90e4064f06db",
   "metadata": {},
   "source": [
    "## 횡단보도\n",
    "#### 횡단보도를 기다리지 않는다면 한 바퀴 도는데 40분 걸리는 동네를 N바퀴 돌려고 한다.\n",
    "#### 동네를 한 바퀴 돌 때마다 M개의 횡단보도가 있는데\n",
    "#### 횡단보도 앞에 설 때마다 기다려야 하는 시간(초)이 매번 달라진다고 할 때,\n",
    "#### 횡단보도를 마주칠 때마다 현재까지 소요된 시강늘 시/분/초로 출력하시오.\n"
   ]
  },
  {
   "cell_type": "code",
   "execution_count": 16,
   "id": "0d69f615-bce8-48b4-beca-7cbffb444712",
   "metadata": {},
   "outputs": [
    {
     "name": "stdin",
     "output_type": "stream",
     "text": [
      " 2\n",
      " 2\n",
      " 10\n"
     ]
    },
    {
     "name": "stdout",
     "output_type": "stream",
     "text": [
      "(1-1) 0 h 40 m 10 s\n"
     ]
    },
    {
     "name": "stdin",
     "output_type": "stream",
     "text": [
      " 20\n"
     ]
    },
    {
     "name": "stdout",
     "output_type": "stream",
     "text": [
      "(1-2) 0 h 40 m 30 s\n"
     ]
    },
    {
     "name": "stdin",
     "output_type": "stream",
     "text": [
      " 30\n"
     ]
    },
    {
     "name": "stdout",
     "output_type": "stream",
     "text": [
      "(2-1) 1 h 21 m 0 s\n"
     ]
    },
    {
     "name": "stdin",
     "output_type": "stream",
     "text": [
      " 40\n"
     ]
    },
    {
     "name": "stdout",
     "output_type": "stream",
     "text": [
      "(2-2) 1 h 21 m 40 s\n"
     ]
    }
   ],
   "source": [
    "N = int(input())\n",
    "M = int(input())\n",
    "n, m = 0, 0\n",
    "hour, minute, second = 0, 0, 0\n",
    "for i in range(N):\n",
    "    minute += 40\n",
    "    for j in range(M):\n",
    "        wait = int(input())\n",
    "        second += wait\n",
    "        minute += second // 60\n",
    "        second = second % 60\n",
    "        hour += minute // 60\n",
    "        minute = minute % 60\n",
    "        print(\"({}-{}) {} h {} m {} s\".format(i+1, j+1, hour, minute, second))"
   ]
  },
  {
   "cell_type": "code",
   "execution_count": 5,
   "id": "74273f67-dba0-4764-9e82-b96569bd351e",
   "metadata": {},
   "outputs": [
    {
     "data": {
      "text/plain": [
       "0"
      ]
     },
     "execution_count": 5,
     "metadata": {},
     "output_type": "execute_result"
    }
   ],
   "source": [
    "n"
   ]
  },
  {
   "cell_type": "code",
   "execution_count": 6,
   "id": "6492c0df-2eda-40d3-a1c0-b03a3034e9d7",
   "metadata": {},
   "outputs": [
    {
     "data": {
      "text/plain": [
       "0"
      ]
     },
     "execution_count": 6,
     "metadata": {},
     "output_type": "execute_result"
    }
   ],
   "source": [
    "m"
   ]
  },
  {
   "cell_type": "code",
   "execution_count": null,
   "id": "52f3873e-2004-44e5-8249-2a24d4b2edeb",
   "metadata": {},
   "outputs": [],
   "source": []
  }
 ],
 "metadata": {
  "kernelspec": {
   "display_name": "Python 3 (ipykernel)",
   "language": "python",
   "name": "python3"
  },
  "language_info": {
   "codemirror_mode": {
    "name": "ipython",
    "version": 3
   },
   "file_extension": ".py",
   "mimetype": "text/x-python",
   "name": "python",
   "nbconvert_exporter": "python",
   "pygments_lexer": "ipython3",
   "version": "3.9.10"
  }
 },
 "nbformat": 4,
 "nbformat_minor": 5
}
