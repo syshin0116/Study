{
 "cells": [
  {
   "cell_type": "code",
   "execution_count": 3,
   "id": "fffc0376-740c-4cdf-a187-35fef075874c",
   "metadata": {},
   "outputs": [
    {
     "name": "stdout",
     "output_type": "stream",
     "text": [
      "1\n"
     ]
    }
   ],
   "source": [
    "def a(animal):\n",
    "    print(num)\n",
    "num = 1\n",
    "animal = 10\n",
    "a(animal)"
   ]
  },
  {
   "cell_type": "code",
   "execution_count": 2,
   "id": "bd15f781-f7c5-4c29-aa83-3005adb47718",
   "metadata": {},
   "outputs": [
    {
     "name": "stdout",
     "output_type": "stream",
     "text": [
      "1\n"
     ]
    }
   ],
   "source": []
  },
  {
   "cell_type": "code",
   "execution_count": 12,
   "id": "7c73696a-45d8-4eca-bd40-ae9a2ddcb038",
   "metadata": {},
   "outputs": [
    {
     "name": "stdin",
     "output_type": "stream",
     "text": [
      "주민등록번호 예시와 같이 입력해주세요(예시)001122-3\n",
      "(종료:x)>>> 930116-1\n"
     ]
    },
    {
     "name": "stdout",
     "output_type": "stream",
     "text": [
      "9\n"
     ]
    },
    {
     "ename": "UnboundLocalError",
     "evalue": "local variable '성별' referenced before assignment",
     "output_type": "error",
     "traceback": [
      "\u001b[0;31m---------------------------------------------------------------------------\u001b[0m",
      "\u001b[0;31mUnboundLocalError\u001b[0m                         Traceback (most recent call last)",
      "Input \u001b[0;32mIn [12]\u001b[0m, in \u001b[0;36m<cell line: 69>\u001b[0;34m()\u001b[0m\n\u001b[1;32m     80\u001b[0m 동물\u001b[38;5;241m=\u001b[39m\u001b[38;5;28mint\u001b[39m(Num[\u001b[38;5;241m0\u001b[39m:\u001b[38;5;241m2\u001b[39m])\n\u001b[1;32m     81\u001b[0m 별\u001b[38;5;241m=\u001b[39m\u001b[38;5;28mint\u001b[39m(Num[\u001b[38;5;241m2\u001b[39m:\u001b[38;5;241m6\u001b[39m])\n\u001b[0;32m---> 83\u001b[0m \u001b[43mYear\u001b[49m\u001b[43m(\u001b[49m\u001b[43myear\u001b[49m\u001b[43m)\u001b[49m\n\u001b[1;32m     84\u001b[0m Ei(동물)\n\u001b[1;32m     85\u001b[0m constellation(별)\n",
      "Input \u001b[0;32mIn [12]\u001b[0m, in \u001b[0;36mYear\u001b[0;34m(i)\u001b[0m\n\u001b[1;32m     10\u001b[0m     성별\u001b[38;5;241m=\u001b[39m\u001b[38;5;124m\"\u001b[39m\u001b[38;5;124m여자\u001b[39m\u001b[38;5;124m\"\u001b[39m\n\u001b[1;32m     11\u001b[0m \u001b[38;5;28mprint\u001b[39m(i)\n\u001b[0;32m---> 12\u001b[0m \u001b[38;5;28mprint\u001b[39m(\u001b[38;5;124mf\u001b[39m\u001b[38;5;124m'\u001b[39m\u001b[38;5;124m당신의 성별은 \u001b[39m\u001b[38;5;132;01m{\u001b[39;00m성별\u001b[38;5;132;01m}\u001b[39;00m\u001b[38;5;124m, \u001b[39m\u001b[38;5;132;01m{\u001b[39;00mx\u001b[38;5;132;01m}\u001b[39;00m\u001b[38;5;124m년도에 태어났습니다.\u001b[39m\u001b[38;5;124m'\u001b[39m)\n",
      "\u001b[0;31mUnboundLocalError\u001b[0m: local variable '성별' referenced before assignment"
     ]
    }
   ],
   "source": [
    "def Year(i):\n",
    "    i=Num[0:1]\n",
    "    if i in [1,2,5,6]:\n",
    "        x=1900+int(Num[0:2])\n",
    "    elif i in [3,4,7,8]:\n",
    "        x=2000+int(Num[0:2])\n",
    "    if i in [1,3,5,7]:\n",
    "        성별=\"남자\"\n",
    "    elif i in [2,4,6,8]:\n",
    "        성별=\"여자\"\n",
    "    print(i)\n",
    "    print(f'당신의 성별은 {성별}, {x}년도에 태어났습니다.')\n",
    "    \n",
    "def constellation(star):\n",
    "    star=Num[2:6]\n",
    "    if 120<=star<=218:\n",
    "        별자리=\"물병\"\n",
    "    elif 219<=star<=320:\n",
    "        별자리=\"물고기\"\n",
    "    elif 321<=satr<=419:\n",
    "        별자리=\"양\"\n",
    "    elif 420<=star<=520:\n",
    "        별자리=\"황소\"\n",
    "    elif 521<=star<=621:\n",
    "        별자리=\"쌍둥이\"\n",
    "    elif 622<=star<=722:\n",
    "        별자리=\"게\"\n",
    "    elif 723<=star<=822:\n",
    "        별자리=\"사자\"\n",
    "    elif 823<=star<=923:\n",
    "        별자리=\"처녀\"\n",
    "    elif 924<=star<=1022:\n",
    "        별자리=\"천칭\"\n",
    "    elif 1023<=star<=1122:\n",
    "        별자리=\"전갈\"\n",
    "    elif 1123<=star<=1224:\n",
    "        별자리=\"사수\"\n",
    "    else: 1225<=star or star<=119\n",
    "    print(f'별자리는 {별자리}자리입니다.')\n",
    "def El(animal):\n",
    "    t=Num[0:2]\n",
    "    if t in [60,72,84,96]:\n",
    "        animal=\"쥐\"\n",
    "    if t in [61,73,85,97]:\n",
    "        animal=\"소\"\n",
    "    if t in [62,74,86,98]:\n",
    "        animal=\"호랑이\"\n",
    "    if t in [63,75,87,99]:\n",
    "        animal=\"토끼\"\n",
    "    if t in [64,76,88,0]:\n",
    "        animal=\"용\"\n",
    "    if t in [65,77,89,1]:\n",
    "        animal=\"뱀\"\n",
    "    if t in [66,78,90,2]:\n",
    "        animal=\"말\"\n",
    "    if t in [67,79,91,3]:\n",
    "        animal=\"양\"\n",
    "    if t in [68,80,92,4]:\n",
    "        animal=\"원숭이\"\n",
    "    if t in [57,69,81,93]:\n",
    "        animal=\"닭\"\n",
    "    if t in [58,70,82,94]:\n",
    "        animal=\"개\"\n",
    "    if t in [59,71,83,95]:\n",
    "        animal=\"돼지\"\n",
    "    print(f'띠는 {animal}띠이고,')\n",
    "    \n",
    "while True:\n",
    "    Num=(input(\"주민등록번호 예시와 같이 입력해주세요(예시)001122-3\\n(종료:x)>>>\"))\n",
    "    A=Num[2:4]\n",
    "    B=int(A)\n",
    "    if Num.lower()=='x':\n",
    "        break\n",
    "    elif len(Num)!=8:\n",
    "            print(\"주민등록번호를 다시 입력해주세요.\")\n",
    "    elif B<=0 or B>=13:\n",
    "            print(\"주민등록번호를 다시 입력해주세요.\")\n",
    "    else:\n",
    "        year=int(Num[7])\n",
    "        동물=int(Num[0:2])\n",
    "        별=int(Num[2:6])\n",
    "        \n",
    "        Year(year)\n",
    "        Ei(동물)\n",
    "        constellation(별)"
   ]
  },
  {
   "cell_type": "code",
   "execution_count": 8,
   "id": "649f6ce3-bca6-4145-a33d-b62df97439d6",
   "metadata": {},
   "outputs": [
    {
     "name": "stdin",
     "output_type": "stream",
     "text": [
      "주민등록번호 예시와 같이 입력해주세요(예시)001122-3\n",
      "(종료:x)>>> 930116-1078326\n"
     ]
    },
    {
     "name": "stdout",
     "output_type": "stream",
     "text": [
      "주민등록번호를 다시 입력해주세요.\n"
     ]
    },
    {
     "name": "stdin",
     "output_type": "stream",
     "text": [
      "주민등록번호 예시와 같이 입력해주세요(예시)001122-3\n",
      "(종료:x)>>> 930116-1\n"
     ]
    },
    {
     "ename": "UnboundLocalError",
     "evalue": "local variable '성별' referenced before assignment",
     "output_type": "error",
     "traceback": [
      "\u001b[0;31m---------------------------------------------------------------------------\u001b[0m",
      "\u001b[0;31mUnboundLocalError\u001b[0m                         Traceback (most recent call last)",
      "Input \u001b[0;32mIn [8]\u001b[0m, in \u001b[0;36m<cell line: 2>\u001b[0;34m()\u001b[0m\n\u001b[1;32m     13\u001b[0m 동물\u001b[38;5;241m=\u001b[39m\u001b[38;5;28mint\u001b[39m(Num[\u001b[38;5;241m0\u001b[39m:\u001b[38;5;241m2\u001b[39m])\n\u001b[1;32m     14\u001b[0m 별\u001b[38;5;241m=\u001b[39m\u001b[38;5;28mint\u001b[39m(Num[\u001b[38;5;241m2\u001b[39m:\u001b[38;5;241m6\u001b[39m])\n\u001b[0;32m---> 16\u001b[0m \u001b[43mYear\u001b[49m\u001b[43m(\u001b[49m\u001b[43myear\u001b[49m\u001b[43m)\u001b[49m\n\u001b[1;32m     17\u001b[0m Ei(동물)\n\u001b[1;32m     18\u001b[0m constellation(별)\n",
      "Input \u001b[0;32mIn [7]\u001b[0m, in \u001b[0;36mYear\u001b[0;34m(i)\u001b[0m\n\u001b[1;32m      9\u001b[0m \u001b[38;5;28;01melif\u001b[39;00m i \u001b[38;5;129;01min\u001b[39;00m [\u001b[38;5;241m2\u001b[39m,\u001b[38;5;241m4\u001b[39m,\u001b[38;5;241m6\u001b[39m,\u001b[38;5;241m8\u001b[39m]:\n\u001b[1;32m     10\u001b[0m     성별\u001b[38;5;241m=\u001b[39m\u001b[38;5;124m\"\u001b[39m\u001b[38;5;124m여자\u001b[39m\u001b[38;5;124m\"\u001b[39m\n\u001b[0;32m---> 11\u001b[0m \u001b[38;5;28mprint\u001b[39m(\u001b[38;5;124mf\u001b[39m\u001b[38;5;124m'\u001b[39m\u001b[38;5;124m당신의 성별은 \u001b[39m\u001b[38;5;132;01m{\u001b[39;00m성별\u001b[38;5;132;01m}\u001b[39;00m\u001b[38;5;124m, \u001b[39m\u001b[38;5;132;01m{\u001b[39;00mx\u001b[38;5;132;01m}\u001b[39;00m\u001b[38;5;124m년도에 태어났습니다.\u001b[39m\u001b[38;5;124m'\u001b[39m)\n",
      "\u001b[0;31mUnboundLocalError\u001b[0m: local variable '성별' referenced before assignment"
     ]
    }
   ],
   "source": [
    "while True:\n",
    "    Num=(input(\"주민등록번호 예시와 같이 입력해주세요(예시)001122-3\\n(종료:x)>>>\"))\n",
    "    A=Num[2:4]\n",
    "    B=int(A)\n",
    "    if Num.lower()=='x':\n",
    "        break\n",
    "    elif len(Num)!=8:\n",
    "            print(\"주민등록번호를 다시 입력해주세요.\")\n",
    "    elif B<=0 or B>=13:\n",
    "            print(\"주민등록번호를 다시 입력해주세요.\")\n",
    "    else:\n",
    "        year=int(Num[7])\n",
    "        동물=int(Num[0:2])\n",
    "        별=int(Num[2:6])\n",
    "        \n",
    "        Year(year)\n",
    "        Ei(동물)\n",
    "        constellation(별)"
   ]
  },
  {
   "cell_type": "code",
   "execution_count": null,
   "id": "c02405c8-79a7-41fc-a23c-034f944179da",
   "metadata": {},
   "outputs": [],
   "source": []
  }
 ],
 "metadata": {
  "kernelspec": {
   "display_name": "Python 3 (ipykernel)",
   "language": "python",
   "name": "python3"
  },
  "language_info": {
   "codemirror_mode": {
    "name": "ipython",
    "version": 3
   },
   "file_extension": ".py",
   "mimetype": "text/x-python",
   "name": "python",
   "nbconvert_exporter": "python",
   "pygments_lexer": "ipython3",
   "version": "3.9.10"
  }
 },
 "nbformat": 4,
 "nbformat_minor": 5
}
