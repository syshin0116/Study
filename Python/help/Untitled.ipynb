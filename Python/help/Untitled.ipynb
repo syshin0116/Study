{
 "cells": [
  {
   "cell_type": "code",
   "execution_count": 6,
   "id": "5af896e5-4864-4dc3-addd-4e82c543d963",
   "metadata": {},
   "outputs": [],
   "source": [
    "def fiveTen(n):\n",
    "    for i in range(n):\n",
    "        print('*')\n",
    "    if n <=5:\n",
    "        print(\"Under or Equal 5\")\n",
    "    elif n>5 and n<=10:\n",
    "        print(\"5 and 10\")\n",
    "    else:\n",
    "        print(\"Over 10\")"
   ]
  },
  {
   "cell_type": "code",
   "execution_count": 8,
   "id": "e9534dec-4e63-4643-93d9-46a5b35043a7",
   "metadata": {},
   "outputs": [
    {
     "name": "stdout",
     "output_type": "stream",
     "text": [
      "*\n",
      "*\n",
      "*\n",
      "Under or Equal 5\n",
      "*\n",
      "*\n",
      "*\n",
      "*\n",
      "*\n",
      "*\n",
      "*\n",
      "5 and 10\n",
      "*\n",
      "*\n",
      "*\n",
      "*\n",
      "*\n",
      "*\n",
      "*\n",
      "*\n",
      "*\n",
      "*\n",
      "*\n",
      "Over 10\n"
     ]
    }
   ],
   "source": [
    "fiveTen(3)\n",
    "fiveTen(7)\n",
    "fiveTen(11)"
   ]
  },
  {
   "cell_type": "code",
   "execution_count": 19,
   "id": "b3793882-9ea8-4e58-a49d-725a8d2550a3",
   "metadata": {},
   "outputs": [
    {
     "name": "stdout",
     "output_type": "stream",
     "text": [
      "현재 입력받은: 0\n",
      "sum: 0\n",
      "\n",
      "현재 입력받은: 9\n",
      "소수: 2\n",
      "소수: 3\n",
      "소수: 5\n",
      "소수: 7\n",
      "sum: 17\n",
      "\n",
      "현재 입력받은: 3\n",
      "소수: 2\n",
      "소수: 3\n",
      "sum: 5\n",
      "\n"
     ]
    }
   ],
   "source": [
    "def findPrimes(max_num):\n",
    "    sum = 0\n",
    "    print(\"현재 입력받은:\", max_num)\n",
    "    \n",
    "    ### Modify code here ###\n",
    "    for i in range(2, max_num+1):\n",
    "        prime = True\n",
    "        for j in range(2, i):\n",
    "            if i % j == 0:\n",
    "                prime = False\n",
    "                break\n",
    "        if prime:\n",
    "            print(\"소수:\", i)\n",
    "            sum+=i\n",
    "    ### End of your code ###\n",
    "    \n",
    "    print(\"sum:\", sum)\n",
    "    print(\"\")\n",
    "findPrimes(0)\n",
    "findPrimes(9)\n",
    "findPrimes(3)"
   ]
  },
  {
   "cell_type": "code",
   "execution_count": 11,
   "id": "1af47190-855e-4de0-a035-d9c46478fb8e",
   "metadata": {},
   "outputs": [],
   "source": [
    "for i in range(2,0):\n",
    "    print(i)"
   ]
  },
  {
   "cell_type": "code",
   "execution_count": null,
   "id": "3830e424-6bfd-4ec4-8a27-bae21185f195",
   "metadata": {},
   "outputs": [],
   "source": []
  }
 ],
 "metadata": {
  "kernelspec": {
   "display_name": "Python 3 (ipykernel)",
   "language": "python",
   "name": "python3"
  },
  "language_info": {
   "codemirror_mode": {
    "name": "ipython",
    "version": 3
   },
   "file_extension": ".py",
   "mimetype": "text/x-python",
   "name": "python",
   "nbconvert_exporter": "python",
   "pygments_lexer": "ipython3",
   "version": "3.9.10"
  }
 },
 "nbformat": 4,
 "nbformat_minor": 5
}
