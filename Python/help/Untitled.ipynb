{
 "cells": [
  {
   "cell_type": "code",
   "execution_count": 4,
   "id": "f653bf3e-060b-422d-bd24-a0b40b10b931",
   "metadata": {},
   "outputs": [
    {
     "name": "stdin",
     "output_type": "stream",
     "text": [
      "첫 번째 정수 입력: 3\n",
      "두 번째 정수 입력: 7\n"
     ]
    },
    {
     "name": "stdout",
     "output_type": "stream",
     "text": [
      "사용자가 입력한 두 정수 3과 7의 합은 10이다\n"
     ]
    }
   ],
   "source": [
    "def sum_two_integer(num1, num2):\n",
    "    print(f'사용자가 입력한 두 정수 {num1}과 {num2}의 합은 {num1+num2}이다')\n",
    "    \n",
    "num1 = int(input('첫 번째 정수 입력:'))\n",
    "num2 = int(input('두 번째 정수 입력:'))\n",
    "sum_two_integer(num1, num2)"
   ]
  },
  {
   "cell_type": "code",
   "execution_count": 2,
   "id": "8bbda529-abc2-412f-88d7-04cbcc8399c9",
   "metadata": {},
   "outputs": [
    {
     "name": "stdin",
     "output_type": "stream",
     "text": [
      "첫 번째 정수 입력: 3\n",
      "두 번째 정수 입력: 7\n"
     ]
    },
    {
     "name": "stdout",
     "output_type": "stream",
     "text": [
      "사용자가 입력한 두 정수 3과 7의 합은 10이다\n"
     ]
    }
   ],
   "source": [
    "num1 = int(input('첫 번째 정수 입력:'))\n",
    "num2 = int(input('두 번째 정수 입력:'))\n",
    "sum_two_integer(num1, num2)"
   ]
  },
  {
   "cell_type": "code",
   "execution_count": null,
   "id": "ad3a1298-f248-4688-9507-80a2d98dd086",
   "metadata": {},
   "outputs": [],
   "source": []
  }
 ],
 "metadata": {
  "kernelspec": {
   "display_name": "Python 3 (ipykernel)",
   "language": "python",
   "name": "python3"
  },
  "language_info": {
   "codemirror_mode": {
    "name": "ipython",
    "version": 3
   },
   "file_extension": ".py",
   "mimetype": "text/x-python",
   "name": "python",
   "nbconvert_exporter": "python",
   "pygments_lexer": "ipython3",
   "version": "3.9.10"
  }
 },
 "nbformat": 4,
 "nbformat_minor": 5
}
