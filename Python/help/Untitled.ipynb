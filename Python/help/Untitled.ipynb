{
 "cells": [
  {
   "cell_type": "code",
   "execution_count": 6,
   "id": "5af896e5-4864-4dc3-addd-4e82c543d963",
   "metadata": {},
   "outputs": [],
   "source": [
    "def fiveTen(n):\n",
    "    for i in range(n):\n",
    "        print('*')\n",
    "    if n <=5:\n",
    "        print(\"Under or Equal 5\")\n",
    "    elif n>5 and n<=10:\n",
    "        print(\"5 and 10\")\n",
    "    else:\n",
    "        print(\"Over 10\")"
   ]
  },
  {
   "cell_type": "code",
   "execution_count": 8,
   "id": "e9534dec-4e63-4643-93d9-46a5b35043a7",
   "metadata": {},
   "outputs": [
    {
     "name": "stdout",
     "output_type": "stream",
     "text": [
      "*\n",
      "*\n",
      "*\n",
      "Under or Equal 5\n",
      "*\n",
      "*\n",
      "*\n",
      "*\n",
      "*\n",
      "*\n",
      "*\n",
      "5 and 10\n",
      "*\n",
      "*\n",
      "*\n",
      "*\n",
      "*\n",
      "*\n",
      "*\n",
      "*\n",
      "*\n",
      "*\n",
      "*\n",
      "Over 10\n"
     ]
    }
   ],
   "source": [
    "fiveTen(3)\n",
    "fiveTen(7)\n",
    "fiveTen(11)"
   ]
  },
  {
   "cell_type": "code",
   "execution_count": null,
   "id": "b3793882-9ea8-4e58-a49d-725a8d2550a3",
   "metadata": {},
   "outputs": [],
   "source": []
  }
 ],
 "metadata": {
  "kernelspec": {
   "display_name": "Python 3 (ipykernel)",
   "language": "python",
   "name": "python3"
  },
  "language_info": {
   "codemirror_mode": {
    "name": "ipython",
    "version": 3
   },
   "file_extension": ".py",
   "mimetype": "text/x-python",
   "name": "python",
   "nbconvert_exporter": "python",
   "pygments_lexer": "ipython3",
   "version": "3.9.10"
  }
 },
 "nbformat": 4,
 "nbformat_minor": 5
}
