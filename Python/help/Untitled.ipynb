{
 "cells": [
  {
   "cell_type": "markdown",
   "id": "ccb6606e-03da-4f2a-a6be-765f58b10906",
   "metadata": {},
   "source": [
    "문자와 반복 횟수를 입력받아 문자를 반복하여 출력하는 프로그램을 작성하라\n",
    "\n",
    "[입력 예시 1]\n",
    "#\n",
    "5\n",
    "\n",
    "[출력 예시 1]\n",
    "String = #####\n",
    "\n",
    "[입력 예시 2]\n",
    "4\n",
    "10\n",
    "\n",
    "[출력 예시 2]\n",
    "String = 4444444444"
   ]
  },
  {
   "cell_type": "code",
   "execution_count": 3,
   "id": "83c58ad5-e85e-433b-ab03-b52e184ca09b",
   "metadata": {},
   "outputs": [
    {
     "name": "stdin",
     "output_type": "stream",
     "text": [
      " 4\n",
      " 10\n"
     ]
    },
    {
     "name": "stdout",
     "output_type": "stream",
     "text": [
      "4444444444\n"
     ]
    }
   ],
   "source": [
    "string = input()\n",
    "num = int(input())\n",
    "\n",
    "print(string*num)"
   ]
  },
  {
   "cell_type": "markdown",
   "id": "8ba460c5-fd6e-4854-96ab-4ee6646272d4",
   "metadata": {},
   "source": [
    "주사위를 던져서 나온 수를 누적하고,\n",
    "나온 수가 4가 아니면 주사위를 계속 던지는 프로그램을 작성하라.\n",
    "최종적으로 주사위를 던진 횟수와 누적값을 출력한다.\n",
    "\n",
    "[입력 예시 1]\n",
    "3\n",
    "5\n",
    "2\n",
    "4\n",
    "\n",
    "[출력 예시 1]\n",
    "Count = 4, Total = 14\n",
    "\n",
    "\n",
    "[입력 예시 2]\n",
    "5\n",
    "9\n",
    "7\n",
    "6\n",
    "2\n",
    "5\n",
    "4\n",
    "\n",
    "[출력 예시 2]\n",
    "Count = 7, Total = 38"
   ]
  },
  {
   "cell_type": "code",
   "execution_count": null,
   "id": "b4503ba2-29a6-46fb-b7c0-95ceabe2f2a0",
   "metadata": {},
   "outputs": [],
   "source": [
    "count = 0\n",
    "total = 0\n",
    "while True:\n",
    "    dice = int(input())\n",
    "    count += 1\n",
    "    total += dice\n",
    "    if dice == 4:\n",
    "        break"
   ]
  },
  {
   "cell_type": "code",
   "execution_count": null,
   "id": "667e429b-78bb-4903-a3bd-3b20254ca73e",
   "metadata": {},
   "outputs": [],
   "source": []
  }
 ],
 "metadata": {
  "kernelspec": {
   "display_name": "Python 3 (ipykernel)",
   "language": "python",
   "name": "python3"
  },
  "language_info": {
   "codemirror_mode": {
    "name": "ipython",
    "version": 3
   },
   "file_extension": ".py",
   "mimetype": "text/x-python",
   "name": "python",
   "nbconvert_exporter": "python",
   "pygments_lexer": "ipython3",
   "version": "3.9.10"
  }
 },
 "nbformat": 4,
 "nbformat_minor": 5
}
