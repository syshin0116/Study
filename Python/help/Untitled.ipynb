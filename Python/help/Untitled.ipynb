{
 "cells": [
  {
   "cell_type": "code",
   "execution_count": 4,
   "id": "5d8e8d7c-46eb-4f9d-a894-eb339aba55e5",
   "metadata": {},
   "outputs": [],
   "source": [
    "def calculate_avg(*arg):\n",
    "    return sum(arg)/len(arg)\n",
    "\n",
    "result = calculate_avg(1,2,3,4,5)"
   ]
  },
  {
   "cell_type": "code",
   "execution_count": 2,
   "id": "b4b9888d-d32f-410b-9228-154847c7b890",
   "metadata": {},
   "outputs": [
    {
     "data": {
      "text/plain": [
       "3.0"
      ]
     },
     "execution_count": 2,
     "metadata": {},
     "output_type": "execute_result"
    }
   ],
   "source": [
    "result"
   ]
  },
  {
   "cell_type": "code",
   "execution_count": 6,
   "id": "7f0e6a29-49b3-4512-b169-c2d847e42c5b",
   "metadata": {},
   "outputs": [
    {
     "name": "stdout",
     "output_type": "stream",
     "text": [
      "4 과목의 평균점수: 87.5 \n",
      "\n"
     ]
    }
   ],
   "source": [
    "def get_average_score(*arg):\n",
    "    return len(arg), sum(arg)/len(arg)\n",
    "\n",
    "n, avg = get_average_score(90, 90, 80, 90)\n",
    "print(n, \"과목의 평균점수:\", avg, \"\\n\")"
   ]
  },
  {
   "cell_type": "code",
   "execution_count": 20,
   "id": "5883c39b-2e3e-4184-9871-a057b26c0bfe",
   "metadata": {},
   "outputs": [],
   "source": [
    "def solution(sequence, k):\n",
    "    answer_list = []\n",
    "    for i in range(len(sequence)):\n",
    "        sum = 0\n",
    "        j = i-1\n",
    "        while sum < k and j<len(sequence)-1:\n",
    "            j+=1\n",
    "            sum += sequence[j]\n",
    "        if sum == k:\n",
    "            answer_list.append([i,j])\n",
    "    cal = answer_list[0][1]-answer_list[0][0]\n",
    "    answer = [answer_list[0][0], answer_list[0][1]]\n",
    "    for i, j in answer_list:\n",
    "        if cal > j-i:\n",
    "            cal = j-i\n",
    "            answer = [answer_list[i], answer_list[j]]\n",
    "    \n",
    "    return answer"
   ]
  },
  {
   "cell_type": "code",
   "execution_count": 21,
   "id": "d1dd5f8b-3e78-49f9-8773-91f7d4935877",
   "metadata": {},
   "outputs": [
    {
     "data": {
      "text/plain": [
       "[2, 3]"
      ]
     },
     "execution_count": 21,
     "metadata": {},
     "output_type": "execute_result"
    }
   ],
   "source": [
    "solution([1, 2, 3, 4, 5], 7)"
   ]
  },
  {
   "cell_type": "code",
   "execution_count": null,
   "id": "2edf1094-f42f-40be-92cd-fa6eba276388",
   "metadata": {},
   "outputs": [],
   "source": []
  }
 ],
 "metadata": {
  "kernelspec": {
   "display_name": "Python 3 (ipykernel)",
   "language": "python",
   "name": "python3"
  },
  "language_info": {
   "codemirror_mode": {
    "name": "ipython",
    "version": 3
   },
   "file_extension": ".py",
   "mimetype": "text/x-python",
   "name": "python",
   "nbconvert_exporter": "python",
   "pygments_lexer": "ipython3",
   "version": "3.9.10"
  }
 },
 "nbformat": 4,
 "nbformat_minor": 5
}
