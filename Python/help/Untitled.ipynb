{
 "cells": [
  {
   "cell_type": "code",
   "execution_count": 1,
   "id": "7eec2495-a939-46be-921a-7943b961d845",
   "metadata": {},
   "outputs": [
    {
     "name": "stdout",
     "output_type": "stream",
     "text": [
      "1 2 4 3 5 "
     ]
    }
   ],
   "source": [
    "def dfs(graph, v, visited):\n",
    "    visited[v] = True\n",
    "    print(v, end=' ')\n",
    "\n",
    "    for i in graph[v]:\n",
    "        if not visited[i]:\n",
    "            dfs(graph, i, visited)\n",
    "\n",
    "graph = {\n",
    "    1: [2, 3],\n",
    "    2: [1, 4],\n",
    "    3: [1, 5],\n",
    "    4: [2],\n",
    "    5: [3]\n",
    "}\n",
    "\n",
    "visited = [False] * (len(graph) + 1)\n",
    "dfs(graph, 1, visited)"
   ]
  },
  {
   "cell_type": "code",
   "execution_count": 2,
   "id": "2d761d24-3c58-487f-9b4f-ed7c39b37f96",
   "metadata": {},
   "outputs": [
    {
     "name": "stdout",
     "output_type": "stream",
     "text": [
      "1 2 3 4 5 "
     ]
    }
   ],
   "source": [
    "from collections import deque\n",
    "\n",
    "def bfs(graph, start, visited):\n",
    "    queue = deque([start])\n",
    "    visited[start] = True\n",
    "\n",
    "    while queue:\n",
    "        v = queue.popleft()\n",
    "        print(v, end=' ')\n",
    "\n",
    "        for i in graph[v]:\n",
    "            if not visited[i]:\n",
    "                queue.append(i)\n",
    "                visited[i] = True\n",
    "\n",
    "graph = {\n",
    "    1: [2, 3],\n",
    "    2: [1, 4],\n",
    "    3: [1, 5],\n",
    "    4: [2],\n",
    "    5: [3]\n",
    "}\n",
    "\n",
    "visited = [False] * (len(graph) + 1)\n",
    "bfs(graph, 1, visited)\n"
   ]
  },
  {
   "cell_type": "code",
   "execution_count": 3,
   "id": "b10ef8ab-b273-4785-a44f-bac1becff2f4",
   "metadata": {},
   "outputs": [
    {
     "name": "stdout",
     "output_type": "stream",
     "text": [
      "[(1, 2), (3, 4), (0, 6), (5, 7), (8, 9), (5, 9)]\n",
      "[1, 3, 5, 8]\n"
     ]
    }
   ],
   "source": [
    "def activity_selection(start, finish):\n",
    "    n = len(finish)\n",
    "    # 시작 시간 기준으로 활동을 정렬\n",
    "    activities = sorted(list(zip(start, finish)), key=lambda x: x[1])\n",
    "    print(activities)\n",
    "    \n",
    "    # 첫 번째 활동은 항상 선택\n",
    "    i = 0\n",
    "    selected = [activities[i][0]]\n",
    "    \n",
    "    \n",
    "    # 나머지 활동들에 대해 그리디 선택\n",
    "    for j in range(n):\n",
    "        # 다음 활동의 시작 시간이 현재 활동의 종료 시간보다 크거나 같으면 활동 선택\n",
    "        if activities[j][0] >= activities[i][1]:\n",
    "            selected.append(activities[j][0])\n",
    "            i = j\n",
    "\n",
    "    return selected\n",
    "\n",
    "# 주어진 활동들의 시작 시간과 종료 시간\n",
    "start = [1, 3, 0, 5, 8, 5]\n",
    "finish = [2, 4, 6, 7, 9, 9]\n",
    "\n",
    "selected_activities = activity_selection(start, finish)\n",
    "print(selected_activities)  # 출력: [1, 5, 8]\n"
   ]
  },
  {
   "cell_type": "code",
   "execution_count": null,
   "id": "c2f87cd5-a5f7-4684-b6e8-b7ec48d8077b",
   "metadata": {},
   "outputs": [],
   "source": []
  }
 ],
 "metadata": {
  "kernelspec": {
   "display_name": "Python 3 (ipykernel)",
   "language": "python",
   "name": "python3"
  },
  "language_info": {
   "codemirror_mode": {
    "name": "ipython",
    "version": 3
   },
   "file_extension": ".py",
   "mimetype": "text/x-python",
   "name": "python",
   "nbconvert_exporter": "python",
   "pygments_lexer": "ipython3",
   "version": "3.9.10"
  }
 },
 "nbformat": 4,
 "nbformat_minor": 5
}
