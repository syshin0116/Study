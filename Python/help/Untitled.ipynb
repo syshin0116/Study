{
 "cells": [
  {
   "cell_type": "code",
   "execution_count": 9,
   "id": "f1a0a967-a177-4fc5-b7f7-46a91687641f",
   "metadata": {},
   "outputs": [],
   "source": [
    "s = \"110010101001\""
   ]
  },
  {
   "cell_type": "code",
   "execution_count": 10,
   "id": "5c74c572-5be8-4755-936e-baad625cdc94",
   "metadata": {},
   "outputs": [
    {
     "name": "stdout",
     "output_type": "stream",
     "text": [
      "s >> 110010101001\n",
      "0제거 >> 111111\n",
      "이진변환 >> 110\n",
      "s >> 110\n",
      "0제거 >> 11\n",
      "이진변환 >> 10\n",
      "s >> 10\n",
      "0제거 >> 1\n",
      "이진변환 >> 1\n"
     ]
    }
   ],
   "source": [
    "count_zeros = 0\n",
    "count_run = 0\n",
    "while s != '1':\n",
    "    print('s >>', s)\n",
    "    count_run += 1\n",
    "    if '0' in s:\n",
    "        count_zeros += 1\n",
    "        s = s.replace('0', '')\n",
    "    print('0제거 >>', s)\n",
    "    s = str(bin(len(s))[2:])\n",
    "    print('이진변환 >>', s)"
   ]
  },
  {
   "cell_type": "code",
   "execution_count": 11,
   "id": "1a5d627c-957d-47e7-8068-6328d3066c4c",
   "metadata": {},
   "outputs": [
    {
     "name": "stdout",
     "output_type": "stream",
     "text": [
      "삼성전자\n",
      "구글\n",
      "애플\n",
      "3\n"
     ]
    }
   ],
   "source": [
    "company_list = [\"삼성전자\", \"SK하이닉스\", \"네이버\"]\n",
    "print(company_list[0]) #... (1)\n",
    "company_list[2] = \"애플\"\n",
    "company_list.append(\"구글\")\n",
    "print(company_list[3]) #... (2)\n",
    "del company_list[0]\n",
    "print(company_list[1]) #... (3)\n",
    "print(len(company_list)) #... (4) (1점)"
   ]
  },
  {
   "cell_type": "code",
   "execution_count": 13,
   "id": "82f4d4ca-dda8-4c7e-9df2-7ca9f133d444",
   "metadata": {},
   "outputs": [
    {
     "name": "stdout",
     "output_type": "stream",
     "text": [
      "72\n"
     ]
    }
   ],
   "source": [
    "def func(data):\n",
    "    num = len(data)\n",
    "    value = data[0]\n",
    "    for i in range(1, num):\n",
    "        if data[i] > value:\n",
    "            value = data[i]\n",
    "    return value\n",
    "\n",
    "v = [1, 13, 34, 72, 33, 47]\n",
    "print(func(v)) #(1점)"
   ]
  },
  {
   "cell_type": "code",
   "execution_count": null,
   "id": "e2c53b91-c110-44d8-b984-5cfabddec853",
   "metadata": {},
   "outputs": [],
   "source": []
  }
 ],
 "metadata": {
  "kernelspec": {
   "display_name": "Python 3 (ipykernel)",
   "language": "python",
   "name": "python3"
  },
  "language_info": {
   "codemirror_mode": {
    "name": "ipython",
    "version": 3
   },
   "file_extension": ".py",
   "mimetype": "text/x-python",
   "name": "python",
   "nbconvert_exporter": "python",
   "pygments_lexer": "ipython3",
   "version": "3.9.10"
  }
 },
 "nbformat": 4,
 "nbformat_minor": 5
}
