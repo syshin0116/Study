{
 "cells": [
  {
   "cell_type": "code",
   "execution_count": 1,
   "id": "b09bcda5-be5f-4d4b-ae81-f861db5d3175",
   "metadata": {},
   "outputs": [
    {
     "data": {
      "text/plain": [
       "[]"
      ]
     },
     "execution_count": 1,
     "metadata": {},
     "output_type": "execute_result"
    }
   ],
   "source": [
    "a = [1]\n",
    "a[1:]"
   ]
  },
  {
   "cell_type": "code",
   "execution_count": 42,
   "id": "3aec4a45-bf09-4c18-9a95-9298acbcd2ef",
   "metadata": {},
   "outputs": [],
   "source": [
    "def add(index, triangle, answer_list):\n",
    "    if triangle == []:\n",
    "        return answer_list\n",
    "    answer_list[0] = answer_list[0] + triangle[0][index] + add(index, triangle[1:], answer_list)[0]\n",
    "    answer_list.append(answer_list[0] + triangle[0][index+1] + add(index+1, triangle[1:], answer_list)[1])\n",
    "    \n",
    "    print(\"triangle>>\", triangle)\n",
    "    print(\"index>>\", index)\n",
    "    print(\"total1>>\", total1)\n",
    "    print(\"total2>>\", total2)\n",
    "    print(\"=====================\")\n",
    "    return answer_list"
   ]
  },
  {
   "cell_type": "code",
   "execution_count": 43,
   "id": "0511b754-df28-49f3-9425-ffe6b84c4d44",
   "metadata": {},
   "outputs": [],
   "source": [
    "triangle = [[7], [3, 8], [8, 1, 0], [2, 7, 4, 4], [4, 5, 2, 6, 5]]"
   ]
  },
  {
   "cell_type": "code",
   "execution_count": 44,
   "id": "7960f7fd-9603-473f-8fcb-dfa42b5a6e4c",
   "metadata": {},
   "outputs": [
    {
     "ename": "IndexError",
     "evalue": "list index out of range",
     "output_type": "error",
     "traceback": [
      "\u001b[0;31m---------------------------------------------------------------------------\u001b[0m",
      "\u001b[0;31mIndexError\u001b[0m                                Traceback (most recent call last)",
      "Input \u001b[0;32mIn [44]\u001b[0m, in \u001b[0;36m<cell line: 3>\u001b[0;34m()\u001b[0m\n\u001b[1;32m      1\u001b[0m answer_list \u001b[38;5;241m=\u001b[39m [triangle[\u001b[38;5;241m0\u001b[39m][\u001b[38;5;241m0\u001b[39m]]\n\u001b[1;32m      2\u001b[0m index \u001b[38;5;241m=\u001b[39m \u001b[38;5;241m0\u001b[39m\n\u001b[0;32m----> 3\u001b[0m \u001b[43madd\u001b[49m\u001b[43m(\u001b[49m\u001b[38;5;241;43m0\u001b[39;49m\u001b[43m,\u001b[49m\u001b[43m \u001b[49m\u001b[43mtriangle\u001b[49m\u001b[43m[\u001b[49m\u001b[38;5;241;43m1\u001b[39;49m\u001b[43m:\u001b[49m\u001b[43m]\u001b[49m\u001b[43m,\u001b[49m\u001b[43m \u001b[49m\u001b[43manswer_list\u001b[49m\u001b[43m)\u001b[49m\n",
      "Input \u001b[0;32mIn [42]\u001b[0m, in \u001b[0;36madd\u001b[0;34m(index, triangle, answer_list)\u001b[0m\n\u001b[1;32m      2\u001b[0m \u001b[38;5;28;01mif\u001b[39;00m triangle \u001b[38;5;241m==\u001b[39m []:\n\u001b[1;32m      3\u001b[0m     \u001b[38;5;28;01mreturn\u001b[39;00m answer_list\n\u001b[0;32m----> 4\u001b[0m answer_list[\u001b[38;5;241m0\u001b[39m] \u001b[38;5;241m=\u001b[39m answer_list[\u001b[38;5;241m0\u001b[39m] \u001b[38;5;241m+\u001b[39m triangle[\u001b[38;5;241m0\u001b[39m][index] \u001b[38;5;241m+\u001b[39m \u001b[43madd\u001b[49m\u001b[43m(\u001b[49m\u001b[43mindex\u001b[49m\u001b[43m,\u001b[49m\u001b[43m \u001b[49m\u001b[43mtriangle\u001b[49m\u001b[43m[\u001b[49m\u001b[38;5;241;43m1\u001b[39;49m\u001b[43m:\u001b[49m\u001b[43m]\u001b[49m\u001b[43m,\u001b[49m\u001b[43m \u001b[49m\u001b[43manswer_list\u001b[49m\u001b[43m)\u001b[49m[\u001b[38;5;241m0\u001b[39m]\n\u001b[1;32m      5\u001b[0m answer_list\u001b[38;5;241m.\u001b[39mappend(answer_list[\u001b[38;5;241m0\u001b[39m] \u001b[38;5;241m+\u001b[39m triangle[\u001b[38;5;241m0\u001b[39m][index\u001b[38;5;241m+\u001b[39m\u001b[38;5;241m1\u001b[39m] \u001b[38;5;241m+\u001b[39m add(index\u001b[38;5;241m+\u001b[39m\u001b[38;5;241m1\u001b[39m, triangle[\u001b[38;5;241m1\u001b[39m:], answer_list)[\u001b[38;5;241m1\u001b[39m])\n\u001b[1;32m      7\u001b[0m \u001b[38;5;28mprint\u001b[39m(\u001b[38;5;124m\"\u001b[39m\u001b[38;5;124mtriangle>>\u001b[39m\u001b[38;5;124m\"\u001b[39m, triangle)\n",
      "Input \u001b[0;32mIn [42]\u001b[0m, in \u001b[0;36madd\u001b[0;34m(index, triangle, answer_list)\u001b[0m\n\u001b[1;32m      2\u001b[0m \u001b[38;5;28;01mif\u001b[39;00m triangle \u001b[38;5;241m==\u001b[39m []:\n\u001b[1;32m      3\u001b[0m     \u001b[38;5;28;01mreturn\u001b[39;00m answer_list\n\u001b[0;32m----> 4\u001b[0m answer_list[\u001b[38;5;241m0\u001b[39m] \u001b[38;5;241m=\u001b[39m answer_list[\u001b[38;5;241m0\u001b[39m] \u001b[38;5;241m+\u001b[39m triangle[\u001b[38;5;241m0\u001b[39m][index] \u001b[38;5;241m+\u001b[39m \u001b[43madd\u001b[49m\u001b[43m(\u001b[49m\u001b[43mindex\u001b[49m\u001b[43m,\u001b[49m\u001b[43m \u001b[49m\u001b[43mtriangle\u001b[49m\u001b[43m[\u001b[49m\u001b[38;5;241;43m1\u001b[39;49m\u001b[43m:\u001b[49m\u001b[43m]\u001b[49m\u001b[43m,\u001b[49m\u001b[43m \u001b[49m\u001b[43manswer_list\u001b[49m\u001b[43m)\u001b[49m[\u001b[38;5;241m0\u001b[39m]\n\u001b[1;32m      5\u001b[0m answer_list\u001b[38;5;241m.\u001b[39mappend(answer_list[\u001b[38;5;241m0\u001b[39m] \u001b[38;5;241m+\u001b[39m triangle[\u001b[38;5;241m0\u001b[39m][index\u001b[38;5;241m+\u001b[39m\u001b[38;5;241m1\u001b[39m] \u001b[38;5;241m+\u001b[39m add(index\u001b[38;5;241m+\u001b[39m\u001b[38;5;241m1\u001b[39m, triangle[\u001b[38;5;241m1\u001b[39m:], answer_list)[\u001b[38;5;241m1\u001b[39m])\n\u001b[1;32m      7\u001b[0m \u001b[38;5;28mprint\u001b[39m(\u001b[38;5;124m\"\u001b[39m\u001b[38;5;124mtriangle>>\u001b[39m\u001b[38;5;124m\"\u001b[39m, triangle)\n",
      "Input \u001b[0;32mIn [42]\u001b[0m, in \u001b[0;36madd\u001b[0;34m(index, triangle, answer_list)\u001b[0m\n\u001b[1;32m      2\u001b[0m \u001b[38;5;28;01mif\u001b[39;00m triangle \u001b[38;5;241m==\u001b[39m []:\n\u001b[1;32m      3\u001b[0m     \u001b[38;5;28;01mreturn\u001b[39;00m answer_list\n\u001b[0;32m----> 4\u001b[0m answer_list[\u001b[38;5;241m0\u001b[39m] \u001b[38;5;241m=\u001b[39m answer_list[\u001b[38;5;241m0\u001b[39m] \u001b[38;5;241m+\u001b[39m triangle[\u001b[38;5;241m0\u001b[39m][index] \u001b[38;5;241m+\u001b[39m \u001b[43madd\u001b[49m\u001b[43m(\u001b[49m\u001b[43mindex\u001b[49m\u001b[43m,\u001b[49m\u001b[43m \u001b[49m\u001b[43mtriangle\u001b[49m\u001b[43m[\u001b[49m\u001b[38;5;241;43m1\u001b[39;49m\u001b[43m:\u001b[49m\u001b[43m]\u001b[49m\u001b[43m,\u001b[49m\u001b[43m \u001b[49m\u001b[43manswer_list\u001b[49m\u001b[43m)\u001b[49m[\u001b[38;5;241m0\u001b[39m]\n\u001b[1;32m      5\u001b[0m answer_list\u001b[38;5;241m.\u001b[39mappend(answer_list[\u001b[38;5;241m0\u001b[39m] \u001b[38;5;241m+\u001b[39m triangle[\u001b[38;5;241m0\u001b[39m][index\u001b[38;5;241m+\u001b[39m\u001b[38;5;241m1\u001b[39m] \u001b[38;5;241m+\u001b[39m add(index\u001b[38;5;241m+\u001b[39m\u001b[38;5;241m1\u001b[39m, triangle[\u001b[38;5;241m1\u001b[39m:], answer_list)[\u001b[38;5;241m1\u001b[39m])\n\u001b[1;32m      7\u001b[0m \u001b[38;5;28mprint\u001b[39m(\u001b[38;5;124m\"\u001b[39m\u001b[38;5;124mtriangle>>\u001b[39m\u001b[38;5;124m\"\u001b[39m, triangle)\n",
      "Input \u001b[0;32mIn [42]\u001b[0m, in \u001b[0;36madd\u001b[0;34m(index, triangle, answer_list)\u001b[0m\n\u001b[1;32m      3\u001b[0m     \u001b[38;5;28;01mreturn\u001b[39;00m answer_list\n\u001b[1;32m      4\u001b[0m answer_list[\u001b[38;5;241m0\u001b[39m] \u001b[38;5;241m=\u001b[39m answer_list[\u001b[38;5;241m0\u001b[39m] \u001b[38;5;241m+\u001b[39m triangle[\u001b[38;5;241m0\u001b[39m][index] \u001b[38;5;241m+\u001b[39m add(index, triangle[\u001b[38;5;241m1\u001b[39m:], answer_list)[\u001b[38;5;241m0\u001b[39m]\n\u001b[0;32m----> 5\u001b[0m answer_list\u001b[38;5;241m.\u001b[39mappend(answer_list[\u001b[38;5;241m0\u001b[39m] \u001b[38;5;241m+\u001b[39m triangle[\u001b[38;5;241m0\u001b[39m][index\u001b[38;5;241m+\u001b[39m\u001b[38;5;241m1\u001b[39m] \u001b[38;5;241m+\u001b[39m \u001b[43madd\u001b[49m\u001b[43m(\u001b[49m\u001b[43mindex\u001b[49m\u001b[38;5;241;43m+\u001b[39;49m\u001b[38;5;241;43m1\u001b[39;49m\u001b[43m,\u001b[49m\u001b[43m \u001b[49m\u001b[43mtriangle\u001b[49m\u001b[43m[\u001b[49m\u001b[38;5;241;43m1\u001b[39;49m\u001b[43m:\u001b[49m\u001b[43m]\u001b[49m\u001b[43m,\u001b[49m\u001b[43m \u001b[49m\u001b[43manswer_list\u001b[49m\u001b[43m)\u001b[49m\u001b[43m[\u001b[49m\u001b[38;5;241;43m1\u001b[39;49m\u001b[43m]\u001b[49m)\n\u001b[1;32m      7\u001b[0m \u001b[38;5;28mprint\u001b[39m(\u001b[38;5;124m\"\u001b[39m\u001b[38;5;124mtriangle>>\u001b[39m\u001b[38;5;124m\"\u001b[39m, triangle)\n\u001b[1;32m      8\u001b[0m \u001b[38;5;28mprint\u001b[39m(\u001b[38;5;124m\"\u001b[39m\u001b[38;5;124mindex>>\u001b[39m\u001b[38;5;124m\"\u001b[39m, index)\n",
      "\u001b[0;31mIndexError\u001b[0m: list index out of range"
     ]
    }
   ],
   "source": [
    "answer_list = [triangle[0][0]]\n",
    "index = 0\n",
    "add(0, triangle[1:], answer_list)"
   ]
  },
  {
   "cell_type": "code",
   "execution_count": 45,
   "id": "7f39e3f7-56f6-4794-9632-5798ad3ab275",
   "metadata": {},
   "outputs": [
    {
     "data": {
      "text/plain": [
       "[[7], [3, 8]]"
      ]
     },
     "execution_count": 45,
     "metadata": {},
     "output_type": "execute_result"
    }
   ],
   "source": [
    "triangle[:2]"
   ]
  },
  {
   "cell_type": "code",
   "execution_count": 67,
   "id": "52e05b6b-fc88-4991-8872-02d0a0378b82",
   "metadata": {},
   "outputs": [],
   "source": [
    "def calc(answers, triangle, index):\n",
    "    print(answers)\n",
    "    if triangle == []:\n",
    "        return answers\n",
    "    new_answers = []\n",
    "\n",
    "    for index, i in enumerate(answers):\n",
    "        new_answers.extend([i+triangle[0][index], i+triangle[0][index+1]])\n",
    "    return new_answers"
   ]
  },
  {
   "cell_type": "code",
   "execution_count": 68,
   "id": "b8df36a4-9554-4817-8940-3acac0b632c7",
   "metadata": {},
   "outputs": [
    {
     "name": "stdout",
     "output_type": "stream",
     "text": [
      "[7]\n"
     ]
    },
    {
     "data": {
      "text/plain": [
       "[10, 15]"
      ]
     },
     "execution_count": 68,
     "metadata": {},
     "output_type": "execute_result"
    }
   ],
   "source": [
    "calc([7], triangle[1:], 0)"
   ]
  },
  {
   "cell_type": "code",
   "execution_count": 65,
   "id": "38e0c580-6464-4112-9a48-aeb7fa2300b8",
   "metadata": {},
   "outputs": [],
   "source": [
    "a = []\n",
    "a.extend([1,2])"
   ]
  },
  {
   "cell_type": "code",
   "execution_count": 66,
   "id": "d92f2c45-f724-4b0c-815b-50c4e6e2f5f9",
   "metadata": {},
   "outputs": [
    {
     "data": {
      "text/plain": [
       "[1, 2]"
      ]
     },
     "execution_count": 66,
     "metadata": {},
     "output_type": "execute_result"
    }
   ],
   "source": [
    "a"
   ]
  },
  {
   "cell_type": "code",
   "execution_count": null,
   "id": "a570a1b3-7584-4e1f-b83b-67ee5dcaefe2",
   "metadata": {},
   "outputs": [],
   "source": []
  },
  {
   "cell_type": "code",
   "execution_count": null,
   "id": "1d7c468d-1043-4f8a-8fb6-63c2ce233f18",
   "metadata": {},
   "outputs": [],
   "source": []
  }
 ],
 "metadata": {
  "kernelspec": {
   "display_name": "Python 3 (ipykernel)",
   "language": "python",
   "name": "python3"
  },
  "language_info": {
   "codemirror_mode": {
    "name": "ipython",
    "version": 3
   },
   "file_extension": ".py",
   "mimetype": "text/x-python",
   "name": "python",
   "nbconvert_exporter": "python",
   "pygments_lexer": "ipython3",
   "version": "3.9.10"
  }
 },
 "nbformat": 4,
 "nbformat_minor": 5
}
