{
 "cells": [
  {
   "cell_type": "code",
   "execution_count": 5,
   "id": "ad9e2c8e-5eb9-4f51-80df-2f34ae573bfb",
   "metadata": {},
   "outputs": [
    {
     "name": "stdout",
     "output_type": "stream",
     "text": [
      "        ★ \n",
      "      ★ ★ ★ \n",
      "    ★ ★ ★ ★ ★ \n",
      "  ★ ★ ★ ★ ★ ★ ★ \n",
      "★ ★ ★ ★ ★ ★ ★ ★ ★ \n",
      "  ★ ★ ★ ★ ★ ★ ★ \n",
      "    ★ ★ ★ ★ ★ \n",
      "      ★ ★ ★ \n",
      "        ★ \n"
     ]
    }
   ],
   "source": [
    "i,k=0,0\n",
    "while i<9:\n",
    "    if i<5:\n",
    "        k=0\n",
    "        while k<4-i:\n",
    "            print(' ',end=' ')\n",
    "            k+=1\n",
    "        k=0\n",
    "        while k<i*2+1:\n",
    "            print('\\u2605',end=' ')\n",
    "            k+=1\n",
    "    else:\n",
    "        k=0\n",
    "        while k<i-4:\n",
    "            print(' ',end=' ')\n",
    "            k+=1\n",
    "        k=0\n",
    "        while k<(9-i)*2-1:\n",
    "            print('\\u2605',end=' ')\n",
    "            k+=1\n",
    "    print()\n",
    "    i+=1"
   ]
  },
  {
   "cell_type": "code",
   "execution_count": 12,
   "id": "44600739-3cb4-4948-953e-6fe5e5e34d76",
   "metadata": {},
   "outputs": [
    {
     "name": "stdout",
     "output_type": "stream",
     "text": [
      "*\n",
      "**\n",
      "***\n",
      "****\n",
      "*****\n"
     ]
    }
   ],
   "source": [
    "for i in range(1, 6):\n",
    "    for j in range(i):\n",
    "        print(\"*\", end=\"\")\n",
    "    print()"
   ]
  },
  {
   "cell_type": "code",
   "execution_count": 16,
   "id": "cdf3dc6e-b876-4963-928a-905c5b90c696",
   "metadata": {},
   "outputs": [
    {
     "name": "stdout",
     "output_type": "stream",
     "text": [
      "*****\n",
      "****\n",
      "***\n",
      "**\n",
      "*\n"
     ]
    }
   ],
   "source": [
    "for i in range(5, 0, -1):\n",
    "    for j in range(i):\n",
    "        print(\"*\", end=\"\")\n",
    "    print()\n"
   ]
  },
  {
   "cell_type": "code",
   "execution_count": 17,
   "id": "d19c87f8-a4ef-487a-80e1-c624bc4412e3",
   "metadata": {},
   "outputs": [
    {
     "name": "stdout",
     "output_type": "stream",
     "text": [
      "    *\n",
      "   **\n",
      "  ***\n",
      " ****\n",
      "*****\n"
     ]
    }
   ],
   "source": [
    "for i in range(1, 6):\n",
    "    for k in range(5-i):\n",
    "        print(\" \", end=\"\")\n",
    "    for j in range(i):\n",
    "        print(\"*\", end=\"\")\n",
    "    print()"
   ]
  },
  {
   "cell_type": "code",
   "execution_count": 22,
   "id": "f67affd8-ba7c-4a38-99d2-eeeea2d2affa",
   "metadata": {},
   "outputs": [
    {
     "name": "stdout",
     "output_type": "stream",
     "text": [
      "    *\n",
      "   ***\n",
      "  *****\n",
      " *******\n",
      "*********\n"
     ]
    }
   ],
   "source": [
    "for i in range(1, 6):\n",
    "    for k in range(5-i):\n",
    "        print(\" \", end=\"\")\n",
    "    for j in range(2*i-1):\n",
    "        print(\"*\", end=\"\")\n",
    "    print()"
   ]
  },
  {
   "cell_type": "code",
   "execution_count": 55,
   "id": "403ba9c7-19f9-4e38-91c8-1126f198a330",
   "metadata": {},
   "outputs": [
    {
     "name": "stdout",
     "output_type": "stream",
     "text": [
      "    *\n",
      "   ***\n",
      "  *****\n",
      " *******\n",
      "*********\n",
      " *******\n",
      "  *****\n",
      "   ***\n",
      "    *\n"
     ]
    }
   ],
   "source": [
    "for i in range(1, 5):\n",
    "    for k in range(5-i):\n",
    "        print(\" \", end=\"\")\n",
    "    for j in range(2*i-1):\n",
    "        print(\"*\", end=\"\")\n",
    "    print()\n",
    "for i in range(5, 0, -1):\n",
    "    for k in range(5-i):\n",
    "        print(\" \", end=\"\")\n",
    "    for j in range(2*i-1):\n",
    "        print(\"*\", end=\"\")\n",
    "    print()"
   ]
  },
  {
   "cell_type": "code",
   "execution_count": 24,
   "id": "fd8b220e-c91c-491d-a82d-60a0c3f6dcac",
   "metadata": {},
   "outputs": [
    {
     "name": "stdout",
     "output_type": "stream",
     "text": [
      "*********\n",
      " *******\n",
      "  *****\n",
      "   ***\n",
      "    *\n",
      "   ***\n",
      "  *****\n",
      " *******\n",
      "*********\n"
     ]
    }
   ],
   "source": [
    "for i in range(5, 1, -1):\n",
    "    for k in range(5-i):\n",
    "        print(\" \", end=\"\")\n",
    "    for j in range(2*i-1):\n",
    "        print(\"*\", end=\"\")\n",
    "    print()\n",
    "for i in range(1, 6):\n",
    "    for k in range(5-i):\n",
    "        print(\" \", end=\"\")\n",
    "    for j in range(2*i-1):\n",
    "        print(\"*\", end=\"\")\n",
    "    print()"
   ]
  },
  {
   "cell_type": "code",
   "execution_count": 54,
   "id": "22f9b139-d392-40c5-9241-d6e849443bbd",
   "metadata": {},
   "outputs": [
    {
     "name": "stdout",
     "output_type": "stream",
     "text": [
      "    *\n",
      "   ***\n",
      "  *****\n",
      " *******\n",
      "*********\n",
      " *******\n",
      "  *****\n",
      "   ***\n",
      "    *\n"
     ]
    }
   ],
   "source": [
    "for i in range(1, 6):\n",
    "    for n in range(0, -i+5):\n",
    "        print(\" \", end='')\n",
    "    for j in range(1, i*2, 1):\n",
    "        print(\"*\", end='')\n",
    "    print()\n",
    "for i in range(1,5):\n",
    "    for n in range(0,i):\n",
    "        print(\" \", end=\"\")\n",
    "    for j in range(7, 2*i-2 ,-1):\n",
    "        print(\"*\", end='')\n",
    "    print"
   ]
  },
  {
   "cell_type": "code",
   "execution_count": 55,
   "id": "fca0d82c-4313-4123-b1d4-a32706976991",
   "metadata": {},
   "outputs": [
    {
     "name": "stdout",
     "output_type": "stream",
     "text": [
      "    *\n",
      "   ***\n",
      "  *****\n",
      " *******\n",
      "*********\n",
      " *******\n",
      "  *****\n",
      "   ***\n",
      "    *\n"
     ]
    }
   ],
   "source": [
    "for i in range(1, 5):\n",
    "    for k in range(5-i):\n",
    "        print(\" \", end=\"\")\n",
    "    for j in range(2*i-1):\n",
    "        print(\"*\", end=\"\")\n",
    "    print()\n",
    "for i in range(5, 0, -1):\n",
    "    for k in range(5-i):\n",
    "        print(\" \", end=\"\")\n",
    "    for j in range(2*i-1):\n",
    "        print(\"*\", end=\"\")\n",
    "    print()"
   ]
  },
  {
   "cell_type": "code",
   "execution_count": 75,
   "id": "47e6bde8-fb01-4c18-9ee9-881496cd913b",
   "metadata": {},
   "outputs": [
    {
     "name": "stdout",
     "output_type": "stream",
     "text": [
      "       *\n",
      "       ***\n",
      "       *****\n",
      "       *******\n",
      "       *********\n",
      "*******\n",
      "  *****\n",
      "    ***\n",
      "      *\n",
      "        \n",
      "          \n"
     ]
    }
   ],
   "source": [
    "for i in range(1, 6):\n",
    "    for n in range(7):\n",
    "        print(\" \", end='')\n",
    "    for j in range(2*i-1):\n",
    "        print(\"*\", end=\"\")\n",
    "    print()\n",
    "for i in range(6, 0, -1):\n",
    "    for n in range(0, -2*i+12):\n",
    "        print(\" \", end='')\n",
    "    for j in range(2*i-5):\n",
    "        print(\"*\", end=\"\")\n",
    "    print()\n"
   ]
  },
  {
   "cell_type": "code",
   "execution_count": 88,
   "id": "78a10e40-4883-4b9c-8e87-c16a183930a2",
   "metadata": {},
   "outputs": [
    {
     "name": "stdout",
     "output_type": "stream",
     "text": [
      "       *\n",
      "       ***\n",
      "       *****\n",
      "       *******\n",
      "       *********\n",
      "*******\n",
      "  *****\n",
      "    ***\n",
      "      *\n",
      "       \n"
     ]
    }
   ],
   "source": [
    "for i in range(1,6):\n",
    "    print(\" \"*7, end='')\n",
    "    print(\"*\"*(2*i-1))\n",
    "for i in range(5, 0, -1):\n",
    "    print(('*'*(2*i-3)).rjust(7))"
   ]
  },
  {
   "cell_type": "code",
   "execution_count": 98,
   "id": "8863d248-e1ec-4222-aba3-7ad38d835b42",
   "metadata": {},
   "outputs": [
    {
     "name": "stdout",
     "output_type": "stream",
     "text": [
      "       *\n",
      "       ***\n",
      "       *****\n",
      "       *******\n",
      "       *********\n",
      "    *******\n",
      "    *****\n",
      "    ***\n",
      "    *\n"
     ]
    }
   ],
   "source": [
    "a = [1,3,5,7,9]\n",
    "b = [7, 5, 3, 1]\n",
    "c = [0, 2, 4, 6]\n",
    "\n",
    "for i in a:\n",
    "    for k in range(7):\n",
    "        print(\" \", end=\"\")\n",
    "    for j in range(i):\n",
    "        print(\"*\", end=\"\")\n",
    "    print()\n",
    "    \n",
    "for i in b:\n",
    "    \n",
    "    for j in range(i):\n",
    "        print(\"*\", end=\"\")\n",
    "    print()"
   ]
  },
  {
   "cell_type": "code",
   "execution_count": 102,
   "id": "5a0eb051-abd0-4749-ad9f-6159a8872063",
   "metadata": {},
   "outputs": [
    {
     "name": "stdout",
     "output_type": "stream",
     "text": [
      "1\n",
      "3\n"
     ]
    }
   ],
   "source": [
    "for i in range(10):\n",
    "    if i%2==0:\n",
    "        continue\n",
    "    if i==5:\n",
    "        break\n",
    "    print(i)"
   ]
  },
  {
   "cell_type": "raw",
   "id": "90cfc1ca-9635-4eef-83b8-399c0f0cdc80",
   "metadata": {},
   "source": []
  }
 ],
 "metadata": {
  "kernelspec": {
   "display_name": "Python 3 (ipykernel)",
   "language": "python",
   "name": "python3"
  },
  "language_info": {
   "codemirror_mode": {
    "name": "ipython",
    "version": 3
   },
   "file_extension": ".py",
   "mimetype": "text/x-python",
   "name": "python",
   "nbconvert_exporter": "python",
   "pygments_lexer": "ipython3",
   "version": "3.9.10"
  }
 },
 "nbformat": 4,
 "nbformat_minor": 5
}
