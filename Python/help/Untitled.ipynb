{
 "cells": [
  {
   "cell_type": "code",
   "execution_count": 1,
   "id": "87f5e79a-7d31-4d5d-be58-0f4ba52bcb6d",
   "metadata": {},
   "outputs": [
    {
     "name": "stdout",
     "output_type": "stream",
     "text": [
      "2019년도 사고건수 4223이고 사망자수는 206역주행 사고건수는 28이고 역주행 사망자수는 5이다.\n",
      "2020년도 사고건수 4039이고 사망자수는 223역주행 사고건수는 [33, 27]이고 역주행 사망자수는 [3, 2]이다.\n",
      "3년간 사고건수의 평균 4381.7이고사망자수의 평균은 206.7역주행 사고건수는 29.3이고역주행 사망자수는 3.3이다.\n"
     ]
    }
   ],
   "source": [
    "# 년도별 자료 리스트 저장\n",
    "year = ['2019', '2020', '2021'] \n",
    "tAccident = [4223, 4039, 4883] \n",
    "tDead = [206, 223, 191] \n",
    "rAccident = [28, 33, 27]\n",
    "rDead = [5, 3, 2] \n",
    "\n",
    "# 2019년 자료 가져오기\n",
    "print(f'{year[0]}년도 사고건수 {tAccident[0]}이고 사망자수는 {tDead[0]}\\\n",
    "역주행 사고건수는 {rAccident[0]}이고 역주행 사망자수는 {rDead[0]}이다.')\n",
    " \n",
    "# 2020년 2021년 자료가져오기\n",
    "print(f'{year[1]}년도 사고건수 {tAccident[1]}이고 사망자수는 {tDead[1]}\\\n",
    "역주행 사고건수는 {rAccident[1:]}이고 역주행 사망자수는 {rDead[1:]}이다.')\n",
    " \n",
    "# 3년간 평균자료\n",
    "print(f'{len(year)}년간 사고건수의 평균 {sum(tAccident) / len(year):.1f}이고\\\n",
    "사망자수의 평균은 {sum(tDead) / len(year):.1f}\\\n",
    "역주행 사고건수는 {sum(rAccident) / len(year):.1f}이고\\\n",
    "역주행 사망자수는 {sum(rDead) / len(year):.1f}이다.')"
   ]
  },
  {
   "cell_type": "code",
   "execution_count": null,
   "id": "52d67e27-33f8-4e89-b187-0e3f34ab637c",
   "metadata": {},
   "outputs": [],
   "source": []
  }
 ],
 "metadata": {
  "kernelspec": {
   "display_name": "Python 3 (ipykernel)",
   "language": "python",
   "name": "python3"
  },
  "language_info": {
   "codemirror_mode": {
    "name": "ipython",
    "version": 3
   },
   "file_extension": ".py",
   "mimetype": "text/x-python",
   "name": "python",
   "nbconvert_exporter": "python",
   "pygments_lexer": "ipython3",
   "version": "3.9.10"
  }
 },
 "nbformat": 4,
 "nbformat_minor": 5
}
