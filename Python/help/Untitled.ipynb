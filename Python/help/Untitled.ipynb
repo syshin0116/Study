{
 "cells": [
  {
   "cell_type": "code",
   "execution_count": 8,
   "id": "af6e18bf-2e90-4470-8ce1-04084594cf76",
   "metadata": {},
   "outputs": [],
   "source": [
    "a = 3"
   ]
  },
  {
   "cell_type": "code",
   "execution_count": 10,
   "id": "56cfb248-4860-43ab-9ec6-1fd0255b5827",
   "metadata": {},
   "outputs": [
    {
     "ename": "SyntaxError",
     "evalue": "invalid syntax (978055164.py, line 10)",
     "output_type": "error",
     "traceback": [
      "\u001b[0;36m  Input \u001b[0;32mIn [10]\u001b[0;36m\u001b[0m\n\u001b[0;31m    else:\u001b[0m\n\u001b[0m    ^\u001b[0m\n\u001b[0;31mSyntaxError\u001b[0m\u001b[0;31m:\u001b[0m invalid syntax\n"
     ]
    }
   ],
   "source": [
    "if a >= 10:\n",
    "    print(10)\n",
    "elif a>5:\n",
    "    print(5)\n",
    "\n",
    "elif a>3:\n",
    "    print(3)\n",
    "else:\n",
    "    print(\"else1\")\n",
    "else:\n",
    "    print(\"else2\")"
   ]
  },
  {
   "cell_type": "code",
   "execution_count": 15,
   "id": "30b69246-5c9a-4ab5-b704-cda428bdbc99",
   "metadata": {},
   "outputs": [
    {
     "name": "stdin",
     "output_type": "stream",
     "text": [
      "buying: 130\n",
      "saving: 2100\n"
     ]
    },
    {
     "name": "stdout",
     "output_type": "stream",
     "text": [
      "GOLD\n",
      "point = 2100\n"
     ]
    }
   ],
   "source": [
    "# Type or paste your code in this area\n",
    "buy_count = int(input(\"buying:\"))\n",
    "point = int(input(\"saving:\"))\n",
    "if buy_count >= 150:\n",
    "    grade = \"VIP\"\n",
    "elif buy_count >= 100:\n",
    "    grade = \"GOLD\"\n",
    "elif buy_count >= 50:\n",
    "    grade = \"SILVER\"\n",
    "else:\n",
    "    grade = \"GENERAL\"\n",
    "if point >= 2000 or grade == \"VIP\":\n",
    "    print(grade)\n",
    "    print(\"point =\", point)\n",
    "else:\n",
    "    print(grade)\n",
    "    print(\"X\")"
   ]
  },
  {
   "cell_type": "code",
   "execution_count": 24,
   "id": "1bf450e6-f0cf-41f7-bbd1-d546b60bd79f",
   "metadata": {},
   "outputs": [
    {
     "name": "stdin",
     "output_type": "stream",
     "text": [
      " 5\n",
      " 9\n",
      " 8\n",
      " 0\n",
      " 6\n",
      " 5\n",
      " 7\n"
     ]
    },
    {
     "name": "stdout",
     "output_type": "stream",
     "text": [
      "No prize\n"
     ]
    }
   ],
   "source": [
    "lotto = ''\n",
    "while True:\n",
    "    num = input()\n",
    "    if num == '4':\n",
    "        continue\n",
    "    elif num == '7':\n",
    "        break\n",
    "    else:\n",
    "        lotto+=num\n",
    "lotto = int(lotto)\n",
    "if lotto % 11==0:\n",
    "    print('1st prize')\n",
    "elif lotto % 7==0:\n",
    "    print('2nd prize')\n",
    "else:\n",
    "    print('No prize')"
   ]
  },
  {
   "cell_type": "code",
   "execution_count": 20,
   "id": "491a5343-7238-40c0-8777-388812f16e1f",
   "metadata": {},
   "outputs": [
    {
     "data": {
      "text/plain": [
       "19"
      ]
     },
     "execution_count": 20,
     "metadata": {},
     "output_type": "execute_result"
    }
   ],
   "source": [
    "lotto"
   ]
  },
  {
   "cell_type": "code",
   "execution_count": null,
   "id": "a719d629-9ef9-4085-9228-8d89acefe198",
   "metadata": {},
   "outputs": [],
   "source": []
  }
 ],
 "metadata": {
  "kernelspec": {
   "display_name": "Python 3 (ipykernel)",
   "language": "python",
   "name": "python3"
  },
  "language_info": {
   "codemirror_mode": {
    "name": "ipython",
    "version": 3
   },
   "file_extension": ".py",
   "mimetype": "text/x-python",
   "name": "python",
   "nbconvert_exporter": "python",
   "pygments_lexer": "ipython3",
   "version": "3.9.10"
  }
 },
 "nbformat": 4,
 "nbformat_minor": 5
}
