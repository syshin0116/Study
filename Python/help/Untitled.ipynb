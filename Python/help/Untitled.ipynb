{
 "cells": [
  {
   "cell_type": "code",
   "execution_count": null,
   "id": "e5f2ab24-9b05-45db-8142-5482997dc965",
   "metadata": {},
   "outputs": [],
   "source": [
    "import random\n",
    "import turtle\n",
    "\n",
    "#함수 선언 부분\n",
    "def screenleftclick(x,y):\n",
    "    global r,g,b\n",
    "    turtle.pencolor((r,g,b))\n",
    "    turtle.pendown()\n",
    "    turtle.goto(x,y)\n",
    "\n",
    "def screenrightclick(x,y):\n",
    "    turtle.penup()\n",
    "    turtle.goto(x,y)\n",
    "\n",
    "def screenmidclick(x,y):\n",
    "    global r,g,b\n",
    "    tsize=random.randrange(1,10)\n",
    "    turtle.shapesize(tsize)\n",
    "    r=random.random()\n",
    "    g=random.random()\n",
    "    b=random.random()\n",
    "\n",
    "#변수 선언 부분\n",
    "psize=10\n",
    "r,g,b=0.0,0.0,0.0\n",
    "\n",
    "#메인코드 부분\n",
    "turtle.title('거북이로 그림그리기')\n",
    "turtle.shape('turtle')\n",
    "turtle.pensize(psize)\n",
    "\n",
    "turtle.onscreenclick(screenleftclick,1)\n",
    "turtle.onscreenclick(screenmidclick,2)\n",
    "turtle.onscreenclick(screenrightclick,3)\n",
    "\n",
    "\n",
    "turtle.done()"
   ]
  },
  {
   "cell_type": "code",
   "execution_count": null,
   "id": "d7016afb-8509-43c6-850d-9b43e8c87815",
   "metadata": {},
   "outputs": [],
   "source": []
  },
  {
   "cell_type": "code",
   "execution_count": null,
   "id": "0b958bcc-65df-4e4b-92a7-43525da50155",
   "metadata": {},
   "outputs": [],
   "source": []
  }
 ],
 "metadata": {
  "kernelspec": {
   "display_name": "Python 3 (ipykernel)",
   "language": "python",
   "name": "python3"
  },
  "language_info": {
   "codemirror_mode": {
    "name": "ipython",
    "version": 3
   },
   "file_extension": ".py",
   "mimetype": "text/x-python",
   "name": "python",
   "nbconvert_exporter": "python",
   "pygments_lexer": "ipython3",
   "version": "3.9.10"
  }
 },
 "nbformat": 4,
 "nbformat_minor": 5
}
