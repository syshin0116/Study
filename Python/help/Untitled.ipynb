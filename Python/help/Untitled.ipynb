{
 "cells": [
  {
   "cell_type": "code",
   "execution_count": null,
   "id": "0990084d-63dd-4f29-aec6-dc4efe027a04",
   "metadata": {},
   "outputs": [],
   "source": [
    "baking_list=[\"소금빵\",\"구름빵\",\"스콘\"]\n",
    "print('---------베이킹 계량 프로그램을 시작합니다-------------')\n",
    "print('어떤 빵을 만들어볼까요?')\n",
    "Bread = input(\"\")\n",
    "\n",
    "#재료량 계산 함수\n",
    "def materials_calculate():\n",
    "        cnt=int(input('몇 개의 빵을 만드시겠습니까?'))\n",
    "        for i in materials.keys():\n",
    "            materials[i]= materials[i]*cnt \n",
    "        print(f'필요한 재료는 다음과 같습니다.\\n{materials}')\n",
    "\n",
    "if Bread not in baking_list:\n",
    "\n",
    "    baking_list.append(Bread)\n",
    "\n",
    "    materials={}\n",
    "\n",
    "    print('중지를 원하면 x를 눌러주세요')\n",
    "\n",
    "    while True:\n",
    "\n",
    "        materials_key=input('재료명을 입력해주세요')\n",
    "\n",
    "        if materials_key ==\"x\":\n",
    "\n",
    "            break\n",
    "\n",
    "        materials_val=int(input('재료 (무게/개수)를 입력해주세요'))\n",
    "\n",
    "        materials[materials_key]= materials_val\n",
    "\n",
    "    materials_calculate()\n",
    "\n",
    "if Bread == \"소금빵\":\n",
    "    materials={\"물\": 130/4,\"우유\": 50/4,\"중력분\":300/4,\"이스트\":1,\"소금\": 5/4,\"설탕\": 6/4,\"버터\": 10/4}\n",
    "    materials_calculate()\n",
    "\n",
    "\n",
    "if Bread == \"구름빵\":\n",
    "    materials={\"설탕\":30,\"전분\":10,\"달걀 흰자\":3}\n",
    "    materials_calculate()\n",
    "\n",
    "\n",
    "if Bread == \"스콘\":\n",
    "    materials={\"중력분\" :40, \"베이킹파우더\" :1,\"무염버터\": 50/3,\"계란\": 10, \"우유\" :10,\"소금\":1/3}\n",
    "    materials_calculate() "
   ]
  }
 ],
 "metadata": {
  "kernelspec": {
   "display_name": "Python 3 (ipykernel)",
   "language": "python",
   "name": "python3"
  },
  "language_info": {
   "codemirror_mode": {
    "name": "ipython",
    "version": 3
   },
   "file_extension": ".py",
   "mimetype": "text/x-python",
   "name": "python",
   "nbconvert_exporter": "python",
   "pygments_lexer": "ipython3",
   "version": "3.9.10"
  }
 },
 "nbformat": 4,
 "nbformat_minor": 5
}
