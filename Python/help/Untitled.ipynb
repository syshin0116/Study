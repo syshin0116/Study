{
 "cells": [
  {
   "cell_type": "code",
   "execution_count": 9,
   "id": "f1a0a967-a177-4fc5-b7f7-46a91687641f",
   "metadata": {},
   "outputs": [],
   "source": [
    "s = \"110010101001\""
   ]
  },
  {
   "cell_type": "code",
   "execution_count": 10,
   "id": "5c74c572-5be8-4755-936e-baad625cdc94",
   "metadata": {},
   "outputs": [
    {
     "name": "stdout",
     "output_type": "stream",
     "text": [
      "s >> 110010101001\n",
      "0제거 >> 111111\n",
      "이진변환 >> 110\n",
      "s >> 110\n",
      "0제거 >> 11\n",
      "이진변환 >> 10\n",
      "s >> 10\n",
      "0제거 >> 1\n",
      "이진변환 >> 1\n"
     ]
    }
   ],
   "source": [
    "count_zeros = 0\n",
    "count_run = 0\n",
    "while s != '1':\n",
    "    print('s >>', s)\n",
    "    count_run += 1\n",
    "    if '0' in s:\n",
    "        count_zeros += 1\n",
    "        s = s.replace('0', '')\n",
    "    print('0제거 >>', s)\n",
    "    s = str(bin(len(s))[2:])\n",
    "    print('이진변환 >>', s)"
   ]
  },
  {
   "cell_type": "code",
   "execution_count": null,
   "id": "8559d4a5-1167-4641-afb5-14d278f09be8",
   "metadata": {},
   "outputs": [],
   "source": []
  }
 ],
 "metadata": {
  "kernelspec": {
   "display_name": "Python 3 (ipykernel)",
   "language": "python",
   "name": "python3"
  },
  "language_info": {
   "codemirror_mode": {
    "name": "ipython",
    "version": 3
   },
   "file_extension": ".py",
   "mimetype": "text/x-python",
   "name": "python",
   "nbconvert_exporter": "python",
   "pygments_lexer": "ipython3",
   "version": "3.9.10"
  }
 },
 "nbformat": 4,
 "nbformat_minor": 5
}
