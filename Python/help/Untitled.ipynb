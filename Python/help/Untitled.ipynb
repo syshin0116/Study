{
 "cells": [
  {
   "cell_type": "code",
   "execution_count": null,
   "id": "32d1c79a-6621-4c1a-be40-bf0094cb0182",
   "metadata": {},
   "outputs": [
    {
     "name": "stdin",
     "output_type": "stream",
     "text": [
      " 4\n"
     ]
    },
    {
     "name": "stdout",
     "output_type": "stream",
     "text": [
      "17 Holiday\n"
     ]
    },
    {
     "name": "stdin",
     "output_type": "stream",
     "text": [
      " 188\n"
     ]
    },
    {
     "name": "stdout",
     "output_type": "stream",
     "text": [
      "35 Holiday\n"
     ]
    },
    {
     "name": "stdin",
     "output_type": "stream",
     "text": [
      " 76\n"
     ]
    },
    {
     "name": "stdout",
     "output_type": "stream",
     "text": [
      "8 Holiday\n"
     ]
    },
    {
     "name": "stdin",
     "output_type": "stream",
     "text": [
      " 56\n"
     ]
    },
    {
     "name": "stdout",
     "output_type": "stream",
     "text": [
      "10 Holiday\n"
     ]
    },
    {
     "name": "stdin",
     "output_type": "stream",
     "text": [
      " 10\n"
     ]
    },
    {
     "name": "stdout",
     "output_type": "stream",
     "text": [
      "2 Holiday\n"
     ]
    }
   ],
   "source": [
    "max_vacation_days = 0\n",
    "vacation_count = 0\n",
    "vacation_list = []\n",
    "total_worked_days = 0\n",
    "\n",
    "while True:\n",
    "    days_worked = int(input())\n",
    "\n",
    "    if days_worked == 0:\n",
    "        break\n",
    "\n",
    "    basic_vacation = 2\n",
    "    additional_vacation = days_worked // 30 * 3\n",
    "    multiple_of_7 = 5 if days_worked % 7 == 0 else 0\n",
    "    plus_fifteen = 0\n",
    "    if (len(vacation_list) > 0 and days_worked > total_worked_days / vacation_count) or vacation_count ==0 :\n",
    "        plus_fifteen = 15\n",
    "    \n",
    "    vacation_days = basic_vacation + additional_vacation + multiple_of_7 + plus_fifteen\n",
    "    if vacation_days > max_vacation_days:\n",
    "        max_vacation_days = vacation_days\n",
    "    \n",
    "    if vacation_count >= 5 and vacation_days < max_vacation_days * 0.2:\n",
    "        print(\"No Holiday\")\n",
    "    else:\n",
    "        vacation_count += 1\n",
    "        vacation_list.append(vacation_days)\n",
    "        total_worked_days += days_worked\n",
    "        print(vacation_days, \"Holiday\")\n",
    "\n",
    "print(max_vacation_days)\n"
   ]
  },
  {
   "cell_type": "code",
   "execution_count": null,
   "id": "0ae7f1db-faac-456d-aad6-6edae2438fd7",
   "metadata": {},
   "outputs": [],
   "source": []
  }
 ],
 "metadata": {
  "kernelspec": {
   "display_name": "Python 3 (ipykernel)",
   "language": "python",
   "name": "python3"
  },
  "language_info": {
   "codemirror_mode": {
    "name": "ipython",
    "version": 3
   },
   "file_extension": ".py",
   "mimetype": "text/x-python",
   "name": "python",
   "nbconvert_exporter": "python",
   "pygments_lexer": "ipython3",
   "version": "3.9.10"
  }
 },
 "nbformat": 4,
 "nbformat_minor": 5
}
