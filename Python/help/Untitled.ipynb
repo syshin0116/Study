{
 "cells": [
  {
   "cell_type": "code",
   "execution_count": 1,
   "id": "b09bcda5-be5f-4d4b-ae81-f861db5d3175",
   "metadata": {},
   "outputs": [
    {
     "data": {
      "text/plain": [
       "[]"
      ]
     },
     "execution_count": 1,
     "metadata": {},
     "output_type": "execute_result"
    }
   ],
   "source": [
    "a = [1]\n",
    "a[1:]"
   ]
  },
  {
   "cell_type": "code",
   "execution_count": 43,
   "id": "0511b754-df28-49f3-9425-ffe6b84c4d44",
   "metadata": {},
   "outputs": [],
   "source": [
    "triangle = [[7], [3, 8], [8, 1, 0], [2, 7, 4, 4], [4, 5, 2, 6, 5]]"
   ]
  },
  {
   "cell_type": "code",
   "execution_count": 45,
   "id": "7f39e3f7-56f6-4794-9632-5798ad3ab275",
   "metadata": {},
   "outputs": [
    {
     "data": {
      "text/plain": [
       "[[7], [3, 8]]"
      ]
     },
     "execution_count": 45,
     "metadata": {},
     "output_type": "execute_result"
    }
   ],
   "source": [
    "triangle[:2]"
   ]
  },
  {
   "cell_type": "code",
   "execution_count": 320,
   "id": "52e05b6b-fc88-4991-8872-02d0a0378b82",
   "metadata": {},
   "outputs": [],
   "source": [
    "def calc(answers, triangle):\n",
    "    print(len(triangle), triangle, triangle[1:], len(triangle[1:]))\n",
    "    print(answers)\n",
    "    if len(triangle) == 0:\n",
    "        return answers\n",
    "    new_answers = []\n",
    "    for index, i in enumerate(answers):\n",
    "        # print(triangle[0][index])\n",
    "        new_answers.extend([i+triangle[1][index], i+triangle[1][index+1]])\n",
    "    answers = calc(new_answers, triangle[1:])\n",
    "\n",
    "    return answers"
   ]
  },
  {
   "cell_type": "code",
   "execution_count": 321,
   "id": "1ae82f94-a8d1-4e9f-881a-d570d512756a",
   "metadata": {},
   "outputs": [
    {
     "data": {
      "text/plain": [
       "[[7], [3, 8], [8, 1, 0], [2, 7, 4, 4], [4, 5, 2, 6, 5]]"
      ]
     },
     "execution_count": 321,
     "metadata": {},
     "output_type": "execute_result"
    }
   ],
   "source": [
    "triangle"
   ]
  },
  {
   "cell_type": "code",
   "execution_count": 322,
   "id": "8d1144ac-0a31-443e-ae1a-722548659d32",
   "metadata": {},
   "outputs": [
    {
     "data": {
      "text/plain": [
       "[[3, 8], [8, 1, 0], [2, 7, 4, 4], [4, 5, 2, 6, 5]]"
      ]
     },
     "execution_count": 322,
     "metadata": {},
     "output_type": "execute_result"
    }
   ],
   "source": [
    "triangle[1:]"
   ]
  },
  {
   "cell_type": "code",
   "execution_count": 323,
   "id": "b8df36a4-9554-4817-8940-3acac0b632c7",
   "metadata": {},
   "outputs": [
    {
     "name": "stdout",
     "output_type": "stream",
     "text": [
      "4 [[3, 8], [8, 1, 0], [2, 7, 4, 4], [4, 5, 2, 6, 5]] [[8, 1, 0], [2, 7, 4, 4], [4, 5, 2, 6, 5]] 3\n",
      "[7]\n",
      "3 [[8, 1, 0], [2, 7, 4, 4], [4, 5, 2, 6, 5]] [[2, 7, 4, 4], [4, 5, 2, 6, 5]] 2\n",
      "[15, 8]\n",
      "2 [[2, 7, 4, 4], [4, 5, 2, 6, 5]] [[4, 5, 2, 6, 5]] 1\n",
      "[17, 22, 15, 12]\n",
      "1 [[4, 5, 2, 6, 5]] [] 0\n",
      "[21, 22, 27, 24, 17, 21, 18, 17]\n"
     ]
    },
    {
     "ename": "IndexError",
     "evalue": "list index out of range",
     "output_type": "error",
     "traceback": [
      "\u001b[0;31m---------------------------------------------------------------------------\u001b[0m",
      "\u001b[0;31mIndexError\u001b[0m                                Traceback (most recent call last)",
      "Input \u001b[0;32mIn [323]\u001b[0m, in \u001b[0;36m<cell line: 1>\u001b[0;34m()\u001b[0m\n\u001b[0;32m----> 1\u001b[0m \u001b[43mcalc\u001b[49m\u001b[43m(\u001b[49m\u001b[43mtriangle\u001b[49m\u001b[43m[\u001b[49m\u001b[38;5;241;43m0\u001b[39;49m\u001b[43m]\u001b[49m\u001b[43m,\u001b[49m\u001b[43m \u001b[49m\u001b[43mtriangle\u001b[49m\u001b[43m[\u001b[49m\u001b[38;5;241;43m1\u001b[39;49m\u001b[43m:\u001b[49m\u001b[43m]\u001b[49m\u001b[43m)\u001b[49m\n",
      "Input \u001b[0;32mIn [320]\u001b[0m, in \u001b[0;36mcalc\u001b[0;34m(answers, triangle)\u001b[0m\n\u001b[1;32m      7\u001b[0m \u001b[38;5;28;01mfor\u001b[39;00m index, i \u001b[38;5;129;01min\u001b[39;00m \u001b[38;5;28menumerate\u001b[39m(answers):\n\u001b[1;32m      8\u001b[0m     \u001b[38;5;66;03m# print(triangle[0][index])\u001b[39;00m\n\u001b[1;32m      9\u001b[0m     new_answers\u001b[38;5;241m.\u001b[39mextend([i\u001b[38;5;241m+\u001b[39mtriangle[\u001b[38;5;241m1\u001b[39m][index], i\u001b[38;5;241m+\u001b[39mtriangle[\u001b[38;5;241m1\u001b[39m][index\u001b[38;5;241m+\u001b[39m\u001b[38;5;241m1\u001b[39m]])\n\u001b[0;32m---> 10\u001b[0m answers \u001b[38;5;241m=\u001b[39m \u001b[43mcalc\u001b[49m\u001b[43m(\u001b[49m\u001b[43mnew_answers\u001b[49m\u001b[43m,\u001b[49m\u001b[43m \u001b[49m\u001b[43mtriangle\u001b[49m\u001b[43m[\u001b[49m\u001b[38;5;241;43m1\u001b[39;49m\u001b[43m:\u001b[49m\u001b[43m]\u001b[49m\u001b[43m)\u001b[49m\n\u001b[1;32m     12\u001b[0m \u001b[38;5;28;01mreturn\u001b[39;00m answers\n",
      "Input \u001b[0;32mIn [320]\u001b[0m, in \u001b[0;36mcalc\u001b[0;34m(answers, triangle)\u001b[0m\n\u001b[1;32m      7\u001b[0m \u001b[38;5;28;01mfor\u001b[39;00m index, i \u001b[38;5;129;01min\u001b[39;00m \u001b[38;5;28menumerate\u001b[39m(answers):\n\u001b[1;32m      8\u001b[0m     \u001b[38;5;66;03m# print(triangle[0][index])\u001b[39;00m\n\u001b[1;32m      9\u001b[0m     new_answers\u001b[38;5;241m.\u001b[39mextend([i\u001b[38;5;241m+\u001b[39mtriangle[\u001b[38;5;241m1\u001b[39m][index], i\u001b[38;5;241m+\u001b[39mtriangle[\u001b[38;5;241m1\u001b[39m][index\u001b[38;5;241m+\u001b[39m\u001b[38;5;241m1\u001b[39m]])\n\u001b[0;32m---> 10\u001b[0m answers \u001b[38;5;241m=\u001b[39m \u001b[43mcalc\u001b[49m\u001b[43m(\u001b[49m\u001b[43mnew_answers\u001b[49m\u001b[43m,\u001b[49m\u001b[43m \u001b[49m\u001b[43mtriangle\u001b[49m\u001b[43m[\u001b[49m\u001b[38;5;241;43m1\u001b[39;49m\u001b[43m:\u001b[49m\u001b[43m]\u001b[49m\u001b[43m)\u001b[49m\n\u001b[1;32m     12\u001b[0m \u001b[38;5;28;01mreturn\u001b[39;00m answers\n",
      "Input \u001b[0;32mIn [320]\u001b[0m, in \u001b[0;36mcalc\u001b[0;34m(answers, triangle)\u001b[0m\n\u001b[1;32m      7\u001b[0m \u001b[38;5;28;01mfor\u001b[39;00m index, i \u001b[38;5;129;01min\u001b[39;00m \u001b[38;5;28menumerate\u001b[39m(answers):\n\u001b[1;32m      8\u001b[0m     \u001b[38;5;66;03m# print(triangle[0][index])\u001b[39;00m\n\u001b[1;32m      9\u001b[0m     new_answers\u001b[38;5;241m.\u001b[39mextend([i\u001b[38;5;241m+\u001b[39mtriangle[\u001b[38;5;241m1\u001b[39m][index], i\u001b[38;5;241m+\u001b[39mtriangle[\u001b[38;5;241m1\u001b[39m][index\u001b[38;5;241m+\u001b[39m\u001b[38;5;241m1\u001b[39m]])\n\u001b[0;32m---> 10\u001b[0m answers \u001b[38;5;241m=\u001b[39m \u001b[43mcalc\u001b[49m\u001b[43m(\u001b[49m\u001b[43mnew_answers\u001b[49m\u001b[43m,\u001b[49m\u001b[43m \u001b[49m\u001b[43mtriangle\u001b[49m\u001b[43m[\u001b[49m\u001b[38;5;241;43m1\u001b[39;49m\u001b[43m:\u001b[49m\u001b[43m]\u001b[49m\u001b[43m)\u001b[49m\n\u001b[1;32m     12\u001b[0m \u001b[38;5;28;01mreturn\u001b[39;00m answers\n",
      "Input \u001b[0;32mIn [320]\u001b[0m, in \u001b[0;36mcalc\u001b[0;34m(answers, triangle)\u001b[0m\n\u001b[1;32m      6\u001b[0m new_answers \u001b[38;5;241m=\u001b[39m []\n\u001b[1;32m      7\u001b[0m \u001b[38;5;28;01mfor\u001b[39;00m index, i \u001b[38;5;129;01min\u001b[39;00m \u001b[38;5;28menumerate\u001b[39m(answers):\n\u001b[1;32m      8\u001b[0m     \u001b[38;5;66;03m# print(triangle[0][index])\u001b[39;00m\n\u001b[0;32m----> 9\u001b[0m     new_answers\u001b[38;5;241m.\u001b[39mextend([i\u001b[38;5;241m+\u001b[39m\u001b[43mtriangle\u001b[49m\u001b[43m[\u001b[49m\u001b[38;5;241;43m1\u001b[39;49m\u001b[43m]\u001b[49m[index], i\u001b[38;5;241m+\u001b[39mtriangle[\u001b[38;5;241m1\u001b[39m][index\u001b[38;5;241m+\u001b[39m\u001b[38;5;241m1\u001b[39m]])\n\u001b[1;32m     10\u001b[0m answers \u001b[38;5;241m=\u001b[39m calc(new_answers, triangle[\u001b[38;5;241m1\u001b[39m:])\n\u001b[1;32m     12\u001b[0m \u001b[38;5;28;01mreturn\u001b[39;00m answers\n",
      "\u001b[0;31mIndexError\u001b[0m: list index out of range"
     ]
    }
   ],
   "source": [
    "calc(triangle[0], triangle[1:])"
   ]
  },
  {
   "cell_type": "code",
   "execution_count": 297,
   "id": "a570a1b3-7584-4e1f-b83b-67ee5dcaefe2",
   "metadata": {},
   "outputs": [
    {
     "data": {
      "text/plain": [
       "2"
      ]
     },
     "execution_count": 297,
     "metadata": {},
     "output_type": "execute_result"
    }
   ],
   "source": [
    "len([[7], [3, 8]][1])"
   ]
  },
  {
   "cell_type": "code",
   "execution_count": 222,
   "id": "335402b5-8f72-443b-a9fa-d5f2031e0d91",
   "metadata": {},
   "outputs": [
    {
     "data": {
      "text/plain": [
       "2"
      ]
     },
     "execution_count": 222,
     "metadata": {},
     "output_type": "execute_result"
    }
   ],
   "source": [
    "len(triangle[2:4])"
   ]
  },
  {
   "cell_type": "code",
   "execution_count": 226,
   "id": "4f184bc6-d195-475c-a12b-64bf10d5f1eb",
   "metadata": {},
   "outputs": [
    {
     "data": {
      "text/plain": [
       "[4, 5, 2, 6, 5]"
      ]
     },
     "execution_count": 226,
     "metadata": {},
     "output_type": "execute_result"
    }
   ],
   "source": [
    "a = triangle[3:]\n",
    "a[1]"
   ]
  },
  {
   "cell_type": "code",
   "execution_count": 218,
   "id": "76c5d579-ab61-4b90-9d98-3ed7a3d7cc9a",
   "metadata": {},
   "outputs": [
    {
     "data": {
      "text/plain": [
       "4"
      ]
     },
     "execution_count": 218,
     "metadata": {},
     "output_type": "execute_result"
    }
   ],
   "source": [
    "len(a[1])"
   ]
  },
  {
   "cell_type": "code",
   "execution_count": null,
   "id": "456a2fac-474c-4305-8718-03a935cb03fb",
   "metadata": {},
   "outputs": [],
   "source": []
  }
 ],
 "metadata": {
  "kernelspec": {
   "display_name": "Python 3 (ipykernel)",
   "language": "python",
   "name": "python3"
  },
  "language_info": {
   "codemirror_mode": {
    "name": "ipython",
    "version": 3
   },
   "file_extension": ".py",
   "mimetype": "text/x-python",
   "name": "python",
   "nbconvert_exporter": "python",
   "pygments_lexer": "ipython3",
   "version": "3.9.10"
  }
 },
 "nbformat": 4,
 "nbformat_minor": 5
}
