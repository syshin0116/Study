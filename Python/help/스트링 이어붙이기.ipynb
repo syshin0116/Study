{
 "cells": [
  {
   "cell_type": "code",
   "execution_count": 8,
   "id": "645b00c1-8c81-45ca-885e-d436367896b8",
   "metadata": {},
   "outputs": [
    {
     "name": "stdin",
     "output_type": "stream",
     "text": [
      " g\n",
      " 1\n",
      " r\n",
      " 1\n",
      " e\n",
      " 2\n",
      " n\n",
      " 1\n",
      " -\n",
      "  \n",
      " 1\n",
      " g\n",
      " 1\n",
      " r\n",
      " 1\n",
      " a\n",
      " 1\n",
      " s\n",
      " 2\n",
      " ;\n"
     ]
    },
    {
     "name": "stdout",
     "output_type": "stream",
     "text": [
      "Result = green grass\n"
     ]
    }
   ],
   "source": [
    "result = ''\n",
    "while True:\n",
    "    letter = input()\n",
    "    if letter == \";\":\n",
    "        break\n",
    "    elif letter == \"-\":\n",
    "        continue\n",
    "    num = int(input())\n",
    "    result+=(letter*num)\n",
    "print(\"Result =\", result)"
   ]
  }
 ],
 "metadata": {
  "kernelspec": {
   "display_name": "Python 3 (ipykernel)",
   "language": "python",
   "name": "python3"
  },
  "language_info": {
   "codemirror_mode": {
    "name": "ipython",
    "version": 3
   },
   "file_extension": ".py",
   "mimetype": "text/x-python",
   "name": "python",
   "nbconvert_exporter": "python",
   "pygments_lexer": "ipython3",
   "version": "3.9.10"
  }
 },
 "nbformat": 4,
 "nbformat_minor": 5
}
