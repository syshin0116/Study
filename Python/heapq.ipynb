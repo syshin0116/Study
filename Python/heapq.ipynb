{
 "cells": [
  {
   "cell_type": "markdown",
   "id": "46d3c7aa-06d7-4c03-8c25-0b244231750f",
   "metadata": {},
   "source": [
    "## 모듈 불러오기"
   ]
  },
  {
   "cell_type": "code",
   "execution_count": 2,
   "id": "920acfcc-15a8-42ff-b82c-61ca590f71c7",
   "metadata": {},
   "outputs": [],
   "source": [
    "from heapq import heappush, heappop"
   ]
  },
  {
   "cell_type": "markdown",
   "id": "5d64d608-30eb-49bf-9f62-873698d2c4fd",
   "metadata": {},
   "source": [
    "## 힙 생성"
   ]
  },
  {
   "cell_type": "code",
   "execution_count": 3,
   "id": "7ef16ec6-60c2-4e86-9722-0a6fd3cd6593",
   "metadata": {},
   "outputs": [],
   "source": [
    "heap = []"
   ]
  },
  {
   "cell_type": "markdown",
   "id": "804a2689-5c46-4bfa-864e-ed4ff13efdb2",
   "metadata": {},
   "source": [
    "## 힙에 원소 추가"
   ]
  },
  {
   "cell_type": "code",
   "execution_count": 4,
   "id": "17fc2170-7d86-44ff-ab87-d1867a207ae3",
   "metadata": {},
   "outputs": [
    {
     "name": "stdout",
     "output_type": "stream",
     "text": [
      "[1, 3, 5, 4, 8, 7]\n"
     ]
    },
    {
     "data": {
      "text/plain": [
       "'\\n     1  ---> root\\n   /     3     5\\n / \\\\   /\\n4   8 7\\n'"
      ]
     },
     "execution_count": 4,
     "metadata": {},
     "output_type": "execute_result"
    }
   ],
   "source": [
    "from heapq import heappush\n",
    "\n",
    "heap = []\n",
    "\n",
    "heappush(heap, 4)\n",
    "heappush(heap, 1)\n",
    "heappush(heap, 7)\n",
    "heappush(heap, 3)\n",
    "heappush(heap, 8)\n",
    "heappush(heap, 5)\n",
    "\n",
    "print(heap)\n",
    "\n",
    "\"\"\"\n",
    "     1  ---> root\n",
    "   /   \\\n",
    "  3     5\n",
    " / \\   /\n",
    "4   8 7\n",
    "\"\"\""
   ]
  },
  {
   "cell_type": "markdown",
   "id": "c0d65a4f-661d-41ab-8627-dc880c72f446",
   "metadata": {},
   "source": [
    "## 힙에서 원소 삭제"
   ]
  },
  {
   "cell_type": "code",
   "execution_count": 6,
   "id": "7c9b8705-432d-410a-a432-2b4b3b1c7567",
   "metadata": {},
   "outputs": [
    {
     "name": "stdout",
     "output_type": "stream",
     "text": [
      "[3, 4, 5, 7, 8]\n"
     ]
    }
   ],
   "source": [
    "from heapq import heappop\n",
    "\n",
    "heappop(heap)\n",
    "\n",
    "print(heap)"
   ]
  },
  {
   "cell_type": "code",
   "execution_count": 7,
   "id": "8601f6eb-fd2a-421c-8937-670bc0c74d25",
   "metadata": {},
   "outputs": [
    {
     "name": "stdout",
     "output_type": "stream",
     "text": [
      "[4, 7, 5, 8]\n"
     ]
    }
   ],
   "source": [
    "heappop(heap)\n",
    "\n",
    "print(heap)"
   ]
  },
  {
   "cell_type": "code",
   "execution_count": 8,
   "id": "aa20c494-5852-4001-a26b-5a11a7b589de",
   "metadata": {},
   "outputs": [
    {
     "name": "stdout",
     "output_type": "stream",
     "text": [
      "[5, 7, 8]\n"
     ]
    }
   ],
   "source": [
    "heappop(heap)\n",
    "\n",
    "print(heap)"
   ]
  },
  {
   "cell_type": "markdown",
   "id": "cccf8926-7715-405c-a193-af6a667a3967",
   "metadata": {},
   "source": [
    "## 힙에서 최소값 읽기"
   ]
  },
  {
   "cell_type": "code",
   "execution_count": 9,
   "id": "8663ef5b-9650-470a-a8fe-42ae5cf3ff45",
   "metadata": {},
   "outputs": [
    {
     "name": "stdout",
     "output_type": "stream",
     "text": [
      "5\n"
     ]
    }
   ],
   "source": [
    "print(heap[0])"
   ]
  },
  {
   "cell_type": "code",
   "execution_count": 10,
   "id": "1fd621a9-4113-4d82-90ed-8efd046bf49e",
   "metadata": {},
   "outputs": [
    {
     "name": "stdout",
     "output_type": "stream",
     "text": [
      "1\n"
     ]
    }
   ],
   "source": [
    "heappush(heap, 1)\n",
    "\n",
    "print(heap[0])"
   ]
  },
  {
   "cell_type": "markdown",
   "id": "489c0033-b1d7-4b33-a967-4bd47329fab4",
   "metadata": {},
   "source": [
    "## 기존 리스트를 힙으로 변환"
   ]
  },
  {
   "cell_type": "code",
   "execution_count": 11,
   "id": "34f94030-3e0e-40de-aa3f-4474c87db890",
   "metadata": {},
   "outputs": [
    {
     "name": "stdout",
     "output_type": "stream",
     "text": [
      "[1, 3, 5, 4, 8, 7]\n"
     ]
    }
   ],
   "source": [
    "from heapq import heapify\n",
    "\n",
    "heap = [4, 1, 7, 3, 8, 5]\n",
    "heapify(heap)\n",
    "\n",
    "print(heap)"
   ]
  },
  {
   "cell_type": "code",
   "execution_count": 12,
   "id": "820d1b0a-6641-4087-b3ee-b639de773b53",
   "metadata": {},
   "outputs": [
    {
     "name": "stdout",
     "output_type": "stream",
     "text": [
      "[4, 1, 7, 3, 8, 5]\n",
      "[1, 3, 5, 4, 8, 7]\n"
     ]
    }
   ],
   "source": [
    "nums = [4, 1, 7, 3, 8, 5]\n",
    "\n",
    "heap = nums[:]\n",
    "heapify(heap)\n",
    "\n",
    "print(nums)\n",
    "print(heap)"
   ]
  },
  {
   "cell_type": "markdown",
   "id": "9170849d-c2cf-4dc2-b4c9-093acc6a27bc",
   "metadata": {},
   "source": [
    "## [응용] 최대 힙"
   ]
  },
  {
   "cell_type": "code",
   "execution_count": 13,
   "id": "0dd8ee26-9edb-4ae4-bae9-cbc064f7577d",
   "metadata": {},
   "outputs": [
    {
     "name": "stdout",
     "output_type": "stream",
     "text": [
      "8\n",
      "7\n",
      "5\n",
      "4\n",
      "3\n",
      "1\n"
     ]
    }
   ],
   "source": [
    "from heapq import heappush, heappop\n",
    "\n",
    "nums = [4, 1, 7, 3, 8, 5]\n",
    "heap = []\n",
    "\n",
    "for num in nums:\n",
    "    heappush(heap, (-num, num))\n",
    "\n",
    "while heap:\n",
    "    print(heappop(heap)[1])"
   ]
  },
  {
   "cell_type": "markdown",
   "id": "507093ed-a855-4698-91dc-e4cdae62efc6",
   "metadata": {},
   "source": [
    "## [응용] n번째 최소값/최대값"
   ]
  },
  {
   "cell_type": "code",
   "execution_count": 14,
   "id": "f1b56629-f66f-426d-b784-adf76be22f9c",
   "metadata": {},
   "outputs": [
    {
     "name": "stdout",
     "output_type": "stream",
     "text": [
      "4\n"
     ]
    }
   ],
   "source": [
    "from heapq import heappush, heappop, heapify\n",
    "\n",
    "def nth_smallest(nums, n):\n",
    "    heap = nums[:]\n",
    "    heapify(heap)\n",
    "    \n",
    "    nth_min = None\n",
    "    for _ in range(n):\n",
    "        nth_min = heappop(heap)\n",
    "\n",
    "    return nth_min\n",
    "\n",
    "print(nth_smallest([4, 1, 7, 3, 8, 5], 3))"
   ]
  },
  {
   "cell_type": "code",
   "execution_count": 15,
   "id": "70e26ac8-fc54-4d84-b476-a0413c61bf06",
   "metadata": {},
   "outputs": [
    {
     "name": "stdout",
     "output_type": "stream",
     "text": [
      "4\n"
     ]
    }
   ],
   "source": [
    "from heapq import nsmallest\n",
    "\n",
    "print(nsmallest(3, [4, 1, 7, 3, 8, 5])[-1])"
   ]
  },
  {
   "cell_type": "code",
   "execution_count": 16,
   "id": "3c50cd41-d31f-4180-a520-166114c1ed27",
   "metadata": {},
   "outputs": [
    {
     "name": "stdout",
     "output_type": "stream",
     "text": [
      "8\n"
     ]
    }
   ],
   "source": [
    "from heapq import nlargest\n",
    "\n",
    "print(nlargest(1, [4, 1, 7, 3, 8, 5])[-1])"
   ]
  },
  {
   "cell_type": "markdown",
   "id": "bf8771c1-eb47-4a72-bca3-93db812b8c90",
   "metadata": {},
   "source": [
    "## [응용] 힙 정렬"
   ]
  },
  {
   "cell_type": "code",
   "execution_count": 17,
   "id": "2ef18707-801c-447b-a80b-acfcbe948a52",
   "metadata": {},
   "outputs": [
    {
     "name": "stdout",
     "output_type": "stream",
     "text": [
      "[1, 3, 4, 5, 7, 8]\n"
     ]
    }
   ],
   "source": [
    "from heapq import heappush, heappop\n",
    "\n",
    "def heap_sort(nums):\n",
    "    heap = []\n",
    "    for num in nums:\n",
    "        heappush(heap, num)\n",
    "\n",
    "    sorted_nums = []\n",
    "    while heap:\n",
    "        sorted_nums.append(heappop(heap))\n",
    "    return sorted_nums\n",
    "\n",
    "print(heap_sort([4, 1, 7, 3, 8, 5]))"
   ]
  }
 ],
 "metadata": {
  "kernelspec": {
   "display_name": "Python 3 (ipykernel)",
   "language": "python",
   "name": "python3"
  },
  "language_info": {
   "codemirror_mode": {
    "name": "ipython",
    "version": 3
   },
   "file_extension": ".py",
   "mimetype": "text/x-python",
   "name": "python",
   "nbconvert_exporter": "python",
   "pygments_lexer": "ipython3",
   "version": "3.9.10"
  }
 },
 "nbformat": 4,
 "nbformat_minor": 5
}
