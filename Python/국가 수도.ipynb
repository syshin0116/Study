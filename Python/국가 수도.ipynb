{
 "cells": [
  {
   "cell_type": "code",
   "execution_count": null,
   "id": "9a63a609-3fe3-4e7c-bfc6-56c9283e57ba",
   "metadata": {},
   "outputs": [],
   "source": [
    "nation_set = set()\n",
    "capital_set = set()\n",
    "for i in range(10):\n",
    "    nation_capital = input(\"Input nation and its capital (. to quit): \")\n",
    "    if nation_capital == \".\":\n",
    "            break\n",
    "    try:\n",
    "        nation, capital = nation_capital.split(\" \")\n",
    "        nation_set.add(nation)\n",
    "        capital_set.add(capital)\n",
    "    except:\n",
    "        print(\"Input not if correct form. ex)[Nation] [Country]\")\n",
    "\n",
    "dict_nation_capital = dict(zip(nation_set, capital_set))\n",
    "print(dict_nation_capital)\n",
    "while True:\n",
    "    nation = input(\"Input nation to find its capital (. to quit): \")\n",
    "    if nation == \".\":\n",
    "        break\n",
    "    try:\n",
    "        print(\"The capital of\", nation, \"is\", dict_nation_capital[nation])\n",
    "    except:\n",
    "        print(\"Input nation not found\")"
   ]
  },
  {
   "cell_type": "code",
   "execution_count": null,
   "id": "b2c57477-efde-4118-8881-54559b270f90",
   "metadata": {},
   "outputs": [],
   "source": []
  },
  {
   "cell_type": "code",
   "execution_count": null,
   "id": "f588c1c2-87dc-4a2f-b93a-5bd1bbaaa458",
   "metadata": {},
   "outputs": [],
   "source": [
    "dict_nation_capital"
   ]
  },
  {
   "cell_type": "code",
   "execution_count": null,
   "id": "47833c72-a3a6-41ae-a83f-525fadbb8a01",
   "metadata": {},
   "outputs": [],
   "source": [
    "nation_set[0]"
   ]
  },
  {
   "cell_type": "code",
   "execution_count": null,
   "id": "95c282ec-5711-4aff-a21a-293392296911",
   "metadata": {},
   "outputs": [],
   "source": [
    "capital_set"
   ]
  },
  {
   "cell_type": "code",
   "execution_count": null,
   "id": "f2d1ec72-86b9-472e-b0ed-f04e430c0b17",
   "metadata": {},
   "outputs": [],
   "source": []
  }
 ],
 "metadata": {
  "kernelspec": {
   "display_name": "Python 3 (ipykernel)",
   "language": "python",
   "name": "python3"
  },
  "language_info": {
   "codemirror_mode": {
    "name": "ipython",
    "version": 3
   },
   "file_extension": ".py",
   "mimetype": "text/x-python",
   "name": "python",
   "nbconvert_exporter": "python",
   "pygments_lexer": "ipython3",
   "version": "3.9.10"
  }
 },
 "nbformat": 4,
 "nbformat_minor": 5
}
