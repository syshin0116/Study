{
 "cells": [
  {
   "cell_type": "code",
   "execution_count": null,
   "id": "441c75a4-f8df-40fe-b70a-cf1fd2b040fc",
   "metadata": {},
   "outputs": [],
   "source": [
    "from selenium import webdriver\n",
    "from selenium.webdriver.common.keys import Keys\n",
    "from selenium.webdriver.support.ui import Select\n",
    "import time\n",
    "\n",
    "\n",
    "\n",
    "# WebDriver 초기화\n",
    "driver = webdriver.Chrome('chromedriver')  # Chrome 드라이버 경로 설정\n",
    "\n",
    "# 웹 페이지 열기\n",
    "driver.get('https://www.sunvalley.co.kr')  # 골프 예약 웹 페이지 URL로 변경\n",
    "\n",
    "# 로그인 url\n",
    "login_url = 'https://www.sunvalley.co.kr/member/login'\n"
   ]
  },
  {
   "cell_type": "code",
   "execution_count": 30,
   "id": "6e691e55-f67e-43e3-a5d5-88e38c0a5a95",
   "metadata": {},
   "outputs": [
    {
     "ename": "TimeoutException",
     "evalue": "Message: \nStacktrace:\n0   chromedriver                        0x00000001049138ac chromedriver + 4257964\n1   chromedriver                        0x000000010490bf40 chromedriver + 4226880\n2   chromedriver                        0x00000001045489d4 chromedriver + 281044\n3   chromedriver                        0x0000000104583a34 chromedriver + 522804\n4   chromedriver                        0x00000001045ba7e4 chromedriver + 747492\n5   chromedriver                        0x000000010457798c chromedriver + 473484\n6   chromedriver                        0x000000010457898c chromedriver + 477580\n7   chromedriver                        0x00000001048d2900 chromedriver + 3991808\n8   chromedriver                        0x00000001048d6354 chromedriver + 4006740\n9   chromedriver                        0x00000001048d6940 chromedriver + 4008256\n10  chromedriver                        0x00000001048dc33c chromedriver + 4031292\n11  chromedriver                        0x00000001048d6f34 chromedriver + 4009780\n12  chromedriver                        0x00000001048af490 chromedriver + 3847312\n13  chromedriver                        0x00000001048f49f4 chromedriver + 4131316\n14  chromedriver                        0x00000001048f4b4c chromedriver + 4131660\n15  chromedriver                        0x0000000104905230 chromedriver + 4198960\n16  libsystem_pthread.dylib             0x00000001995b3fa8 _pthread_start + 148\n17  libsystem_pthread.dylib             0x00000001995aeda0 thread_start + 8\n",
     "output_type": "error",
     "traceback": [
      "\u001b[0;31m---------------------------------------------------------------------------\u001b[0m",
      "\u001b[0;31mTimeoutException\u001b[0m                          Traceback (most recent call last)",
      "Input \u001b[0;32mIn [30]\u001b[0m, in \u001b[0;36m<cell line: 39>\u001b[0;34m()\u001b[0m\n\u001b[1;32m     35\u001b[0m login_btn\u001b[38;5;241m.\u001b[39mclick()\n\u001b[1;32m     37\u001b[0m search_box_class_name \u001b[38;5;241m=\u001b[39m  \u001b[38;5;124m\"\u001b[39m\u001b[38;5;124m#mount_0_0_pT > div > div > div.x9f619.x1n2onr6.x1ja2u2z > div > div > div > div.x78zum5.xdt5ytf.x10cihs4.x1t2pt76.x1n2onr6.x1ja2u2z > div.x9f619.xnz67gz.x78zum5.x168nmei.x13lgxp2.x5pf9jr.xo71vjh.x1uhb9sk.x1plvlek.xryxfnj.x1c4vz4f.x2lah0s.x1q0g3np.xqjyukv.x1qjc9v5.x1oa3qoh.x1qughib > div.x9f619.xjbqb8w.x78zum5.x168nmei.x13lgxp2.x5pf9jr.xo71vjh.x1plvlek.xryxfnj.x1c4vz4f.x2lah0s.xdt5ytf.xqjyukv.x1qjc9v5.x1oa3qoh.x1nhvcw1.xeq5yr9.x1dr59a3.xixxii4.x13vifvy.x1n327nk > div > div > div > div > div.xh8yej3.x1iyjqo2 > div:nth-child(2) > div > a\u001b[39m\u001b[38;5;124m\"\u001b[39m\n\u001b[0;32m---> 39\u001b[0m \u001b[43mWebDriverWait\u001b[49m\u001b[43m(\u001b[49m\u001b[43mdriver\u001b[49m\u001b[43m,\u001b[49m\u001b[43m \u001b[49m\u001b[38;5;241;43m10\u001b[39;49m\u001b[43m)\u001b[49m\u001b[38;5;241;43m.\u001b[39;49m\u001b[43muntil\u001b[49m\u001b[43m(\u001b[49m\u001b[43mEC\u001b[49m\u001b[38;5;241;43m.\u001b[39;49m\u001b[43mpresence_of_element_located\u001b[49m\u001b[43m(\u001b[49m\n\u001b[1;32m     40\u001b[0m \u001b[43m    \u001b[49m\u001b[43m(\u001b[49m\u001b[43mBy\u001b[49m\u001b[38;5;241;43m.\u001b[39;49m\u001b[43mCSS_SELECTOR\u001b[49m\u001b[43m,\u001b[49m\u001b[43m \u001b[49m\u001b[43msearch_box_class_name\u001b[49m\u001b[43m \u001b[49m\u001b[43m)\u001b[49m\n\u001b[1;32m     41\u001b[0m \u001b[43m)\u001b[49m\u001b[43m)\u001b[49m\n\u001b[1;32m     42\u001b[0m search_box_btn \u001b[38;5;241m=\u001b[39m driver\u001b[38;5;241m.\u001b[39mfind_element(By\u001b[38;5;241m.\u001b[39mCLASS_NAME, search_box_class_name)\n\u001b[1;32m     43\u001b[0m search_box_btn\u001b[38;5;241m.\u001b[39mclick()\n",
      "File \u001b[0;32m~/miniforge3/lib/python3.9/site-packages/selenium/webdriver/support/wait.py:90\u001b[0m, in \u001b[0;36mWebDriverWait.until\u001b[0;34m(self, method, message)\u001b[0m\n\u001b[1;32m     88\u001b[0m     \u001b[38;5;28;01mif\u001b[39;00m time\u001b[38;5;241m.\u001b[39mmonotonic() \u001b[38;5;241m>\u001b[39m end_time:\n\u001b[1;32m     89\u001b[0m         \u001b[38;5;28;01mbreak\u001b[39;00m\n\u001b[0;32m---> 90\u001b[0m \u001b[38;5;28;01mraise\u001b[39;00m TimeoutException(message, screen, stacktrace)\n",
      "\u001b[0;31mTimeoutException\u001b[0m: Message: \nStacktrace:\n0   chromedriver                        0x00000001049138ac chromedriver + 4257964\n1   chromedriver                        0x000000010490bf40 chromedriver + 4226880\n2   chromedriver                        0x00000001045489d4 chromedriver + 281044\n3   chromedriver                        0x0000000104583a34 chromedriver + 522804\n4   chromedriver                        0x00000001045ba7e4 chromedriver + 747492\n5   chromedriver                        0x000000010457798c chromedriver + 473484\n6   chromedriver                        0x000000010457898c chromedriver + 477580\n7   chromedriver                        0x00000001048d2900 chromedriver + 3991808\n8   chromedriver                        0x00000001048d6354 chromedriver + 4006740\n9   chromedriver                        0x00000001048d6940 chromedriver + 4008256\n10  chromedriver                        0x00000001048dc33c chromedriver + 4031292\n11  chromedriver                        0x00000001048d6f34 chromedriver + 4009780\n12  chromedriver                        0x00000001048af490 chromedriver + 3847312\n13  chromedriver                        0x00000001048f49f4 chromedriver + 4131316\n14  chromedriver                        0x00000001048f4b4c chromedriver + 4131660\n15  chromedriver                        0x0000000104905230 chromedriver + 4198960\n16  libsystem_pthread.dylib             0x00000001995b3fa8 _pthread_start + 148\n17  libsystem_pthread.dylib             0x00000001995aeda0 thread_start + 8\n"
     ]
    }
   ],
   "source": [
    "import time\n",
    "\n",
    "from selenium import webdriver\n",
    "from selenium.webdriver.common.by import By\n",
    "from selenium.webdriver.support.ui import WebDriverWait\n",
    "from selenium.webdriver.support import expected_conditions as EC\n",
    "from selenium.webdriver.common.keys import Keys\n",
    "from selenium.webdriver import ActionChains\n",
    "from selenium.webdriver.chrome.options import Options\n",
    "\n",
    "chrome_options = Options()\n",
    "chrome_options.add_experimental_option(\"detach\", True)\n",
    "\n",
    "driver = webdriver.Chrome(options=chrome_options)\n",
    "driver.set_window_size(800, 800)\n",
    "driver.get(\"https://www.instagram.com/\")\n",
    "id_selector = \"#loginForm > div > div:nth-child(1) > div > label > input\"\n",
    "\n",
    "WebDriverWait(driver, 10).until(EC.presence_of_element_located(\n",
    "    (By.CSS_SELECTOR, id_selector )\n",
    "))\n",
    "#인스타 로그인 시작\n",
    "import mdata\n",
    "instagram_id = mdata.id\n",
    "instagram_pw = mdata.pw\n",
    "id_input = driver.find_element(By.CSS_SELECTOR,id_selector)\n",
    "id_input.send_keys(instagram_id)\n",
    "\n",
    "pw_selector = \"#loginForm > div > div:nth-child(2) > div > label > input\"\n",
    "pw_input = driver.find_element(By.CSS_SELECTOR,pw_selector)\n",
    "pw_input.send_keys(instagram_pw)\n",
    "\n",
    "login_btn_selector = \"#loginForm > div > div:nth-child(3) > button\"\n",
    "login_btn = driver.find_element(By.CSS_SELECTOR,login_btn_selector)\n",
    "login_btn.click()\n",
    "\n",
    "search_box_class_name =  \"#mount_0_0_pT > div > div > div.x9f619.x1n2onr6.x1ja2u2z > div > div > div > div.x78zum5.xdt5ytf.x10cihs4.x1t2pt76.x1n2onr6.x1ja2u2z > div.x9f619.xnz67gz.x78zum5.x168nmei.x13lgxp2.x5pf9jr.xo71vjh.x1uhb9sk.x1plvlek.xryxfnj.x1c4vz4f.x2lah0s.x1q0g3np.xqjyukv.x1qjc9v5.x1oa3qoh.x1qughib > div.x9f619.xjbqb8w.x78zum5.x168nmei.x13lgxp2.x5pf9jr.xo71vjh.x1plvlek.xryxfnj.x1c4vz4f.x2lah0s.xdt5ytf.xqjyukv.x1qjc9v5.x1oa3qoh.x1nhvcw1.xeq5yr9.x1dr59a3.xixxii4.x13vifvy.x1n327nk > div > div > div > div > div.xh8yej3.x1iyjqo2 > div:nth-child(2) > div > a\"\n",
    "\n",
    "WebDriverWait(driver, 10).until(EC.presence_of_element_located(\n",
    "    (By.CSS_SELECTOR, search_box_class_name )\n",
    "))\n",
    "search_box_btn = driver.find_element(By.CLASS_NAME, search_box_class_name)\n",
    "search_box_btn.click()\n",
    "\n",
    "#\"#mount_0_0_W0 > div > div > div.x9f619.x1n2onr6.x1ja2u2z > div > div > div > div.x78zum5.xdt5ytf.x10cihs4.x1t2pt76.x1n2onr6.x1ja2u2z > div.x9f619.xnz67gz.x78zum5.x168nmei.x13lgxp2.x5pf9jr.xo71vjh.x1uhb9sk.x1plvlek.xryxfnj.x1c4vz4f.x2lah0s.x1q0g3np.xqjyukv.x1qjc9v5.x1oa3qoh.x1qughib > div.x9f619.xjbqb8w.x78zum5.x168nmei.x13lgxp2.x5pf9jr.xo71vjh.x1plvlek.xryxfnj.x1c4vz4f.x2lah0s.xdt5ytf.xqjyukv.x1qjc9v5.x1oa3qoh.x1nhvcw1.xeq5yr9.x1dr59a3.xixxii4.x13vifvy.x1n327nk > div > div > div > div > div.xh8yej3.x1iyjqo2 > div:nth-child(2) > div > a > div > div:nth-child(1) > div > div > svg\"\n",
    "#\"#mount_0_0_Hd > div > div > div.x9f619.x1n2onr6.x1ja2u2z > div > div > div > div.x78zum5.xdt5ytf.x10cihs4.x1t2pt76.x1n2onr6.x1ja2u2z > div.x9f619.xnz67gz.x78zum5.x168nmei.x13lgxp2.x5pf9jr.xo71vjh.x1uhb9sk.x1plvlek.xryxfnj.x1c4vz4f.x2lah0s.x1q0g3np.xqjyukv.x1qjc9v5.x1oa3qoh.x1qughib > div.x9f619.xjbqb8w.x78zum5.x168nmei.x13lgxp2.x5pf9jr.xo71vjh.x1plvlek.xryxfnj.x1c4vz4f.x2lah0s.xdt5ytf.xqjyukv.x1qjc9v5.x1oa3qoh.x1nhvcw1.xeq5yr9.x1dr59a3.xixxii4.x13vifvy.x1n327nk > div > div > div > div > div.xh8yej3.x1iyjqo2 > div:nth-child(2) > div > a > div > div:nth-child(1) > div > div > svg > path\"\n",
    "#인스타그램 로그인 종료\n",
    "\n",
    "\n",
    "#인스타 검색탭 클릭\n",
    "\n",
    "# Search_btn_selector = '//*[@id=\"mount_0_0_a7\"]/div/div/div[2]/div/div/div/div[1]/div[1]/div[1]/div/div/div/div/div[2]/div[2]/div/a'\n",
    "# Search_btn = driver.find_element(By.XPATH,'//*[@id=\"mount_0_0_a7\"]/div/div/div[2]/div/div/div/div[1]/div[1]/div[1]/div/div/div/div/div[2]/div[2]/div/a')\n",
    "# Search_btn.click()\n",
    "\n",
    "# Search_btn_selector = '//*[@id=\"mount_0_0_ZM\"]/div/div/div[2]/div/div/div/div[1]/div[1]/div[1]/div/div/div/div/div[2]/div[2]/div/a'\n",
    "# Search_btn = driver.find_element(By.CSS_SELECTOR,Search_btn_selector)\n",
    "# Search_btn.click()\n",
    "\n",
    "\n",
    "\n",
    "# time.sleep(0.3)\n",
    "# driver.find_element(By.XPATH,'//*[@id=\"mount_0_0_a7\"]/div/div/div[2]/div/div/div/div[1]/div[1]/div[1]/div/div/div/div/div[2]/div[2]/div/a').click()\n",
    "\n",
    "# input()\n",
    "\n",
    "\n",
    "\n",
    "#인스타그램 해시태그 검색 시작\n",
    "\n",
    "# search_selector = \"#mount_0_0_03 > div > div > div.x9f619.x1n2onr6.x1ja2u2z > div > div > div > div.x78zum5.xdt5ytf.x10cihs4.x1t2pt76.x1n2onr6.x1ja2u2z > div.x9f619.xnz67gz.x78zum5.x168nmei.x13lgxp2.x5pf9jr.xo71vjh.x1uhb9sk.x1plvlek.xryxfnj.x1c4vz4f.x2lah0s.xdt5ytf.xqjyukv.x1qjc9v5.x1oa3qoh.x1qughib > div.xh8yej3.x1gryazu.x10o80wk.x14k21rp.x1porb0y.x17snn68.x6osk4m > section > div:nth-child(2) > nav > div > header > div > div > div.xq8finb > div > input\"\n",
    "# WebDriverWait(driver, 10).until(EC.presence_of_element_located(\n",
    "#     (By.CSS_SELECTOR, search_selector )\n",
    "# ))\n",
    "# search_box_div = \"#mount_0_0_03 > div > div > div.x9f619.x1n2onr6.x1ja2u2z > div > div > div > div.x78zum5.xdt5ytf.x10cihs4.x1t2pt76.x1n2onr6.x1ja2u2z > div.x9f619.xnz67gz.x78zum5.x168nmei.x13lgxp2.x5pf9jr.xo71vjh.x1uhb9sk.x1plvlek.xryxfnj.x1c4vz4f.x2lah0s.x1q0g3np.xqjyukv.x1qjc9v5.x1oa3qoh.x1qughib > div.x9f619.xjbqb8w.x78zum5.x168nmei.x13lgxp2.x5pf9jr.xo71vjh.x1plvlek.xryxfnj.x1c4vz4f.x2lah0s.xdt5ytf.xqjyukv.x1qjc9v5.x1oa3qoh.x1nhvcw1.xeq5yr9.x1dr59a3.xixxii4.x13vifvy.x1n327nk > div > div > div.x10l6tqk.x1u3tz30.x1ja2u2z > div > div > div.x9f619.xjbqb8w.x78zum5.x168nmei.x13lgxp2.x5pf9jr.xo71vjh.x1n2onr6.x1plvlek.xryxfnj.x1iyjqo2.x2lwn1j.xeuugli.xdt5ytf.xqjyukv.x1qjc9v5.x1oa3qoh.x1nhvcw1 > div.x9f619.xjbqb8w.x78zum5.x168nmei.x13lgxp2.x5pf9jr.xo71vjh.x1d52u69.xktsk01.x1n2onr6.x1plvlek.xryxfnj.x1c4vz4f.x2lah0s.xdt5ytf.xqjyukv.x1qjc9v5.x1oa3qoh.x1nhvcw1 > div\"\n",
    "# driver.find_element(By.CSS_SELECTOR,search_box).click()\n",
    "# time.sleep(0.3)\n",
    "\n",
    "# driver.get(\"https://www.instagram.com/explore/tags/냥스타그램/\")\n",
    "# input()\n",
    "\n",
    "# search_box = driver.find_element(By.CSS_SELECTOR,search_selector)\n",
    "\n",
    "# ActionChains(driver).move_to_element(search_box).pause(1).click().perform()\n",
    "# time.sleep(0.3)\n",
    "# search_box.send_keys(\"냥스타그램\")\n",
    "# time.sleep(0.3)\n",
    "# search_box.send_keys(Keys.ENTER)"
   ]
  },
  {
   "cell_type": "code",
   "execution_count": 28,
   "id": "e4217ca9-fa0f-41d2-8d52-48f3ff974e98",
   "metadata": {},
   "outputs": [
    {
     "data": {
      "text/plain": [
       "True"
      ]
     },
     "execution_count": 28,
     "metadata": {},
     "output_type": "execute_result"
    }
   ],
   "source": []
  },
  {
   "cell_type": "code",
   "execution_count": null,
   "id": "4b2b199f-1953-4429-a9fe-04f31fa1be71",
   "metadata": {},
   "outputs": [],
   "source": []
  }
 ],
 "metadata": {
  "kernelspec": {
   "display_name": "Python 3 (ipykernel)",
   "language": "python",
   "name": "python3"
  },
  "language_info": {
   "codemirror_mode": {
    "name": "ipython",
    "version": 3
   },
   "file_extension": ".py",
   "mimetype": "text/x-python",
   "name": "python",
   "nbconvert_exporter": "python",
   "pygments_lexer": "ipython3",
   "version": "3.9.10"
  }
 },
 "nbformat": 4,
 "nbformat_minor": 5
}
