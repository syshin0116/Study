{
 "cells": [
  {
   "cell_type": "markdown",
   "id": "e14f4904-939d-4510-babd-a1ea9b3a02c8",
   "metadata": {},
   "source": [
    "## 사용자가 입력한 수부터 30까지 중 홀수와 짝수를 구별해 출력하시오.\n",
    "### <제약사항>\n",
    "- 반복문 while 문을 사용한다\n",
    "- 숫자 중 28이 나오면 뒤에 숫자가 남아 있어도 중단하고 반복문을 빠져나온다.\n",
    "- 사용자가 입력한 값부터 홀수와 짝수를 출력한다\n",
    "\n",
    "### <입력 및 출력형태>\n",
    "#### 입력 예\n",
    "시작할 수를 입력하세요: 25\n",
    "#### 출력 예\n",
    "25는/은 홀수\n",
    "\n",
    "26는/은 짝수\n",
    "\n",
    "27는/은 홀수\n",
    "\n",
    "28는/은 중단하고자 했던 28입니다."
   ]
  },
  {
   "cell_type": "code",
   "execution_count": null,
   "id": "c0c0de48-f05d-4ee2-a49e-11c3dd63717e",
   "metadata": {},
   "outputs": [
    {
     "name": "stdin",
     "output_type": "stream",
     "text": [
      "시작할 수를 입력하세요: 31\n"
     ]
    },
    {
     "name": "stdout",
     "output_type": "stream",
     "text": [
      "30 이상의 수가 입력되었습니다\n"
     ]
    },
    {
     "name": "stdin",
     "output_type": "stream",
     "text": [
      "시작할 수를 입력하세요: 30\n"
     ]
    },
    {
     "name": "stdout",
     "output_type": "stream",
     "text": [
      "30는/은 짝수\n"
     ]
    },
    {
     "name": "stdin",
     "output_type": "stream",
     "text": [
      "시작할 수를 입력하세요: 25\n"
     ]
    },
    {
     "name": "stdout",
     "output_type": "stream",
     "text": [
      "25는/은 홀수\n",
      "26는/은 짝수\n",
      "27는/은 홀수\n",
      "28는/은 중단하고자 했던 28입니다.\n"
     ]
    }
   ],
   "source": [
    "while True:\n",
    "    try: \n",
    "        num = int(input(\"시작할 수를 입력하세요:\")) \n",
    "        if num <= 30:\n",
    "            while num<=30:\n",
    "                if num == 28:\n",
    "                    print(\"28는/은 중단하고자 했던 28입니다.\")\n",
    "                    break\n",
    "                elif num % 2 == 0:\n",
    "                    print(str(num)+\"는/은 짝수\")\n",
    "                else:\n",
    "                    print(str(num)+\"는/은 홀수\")\n",
    "                num += 1\n",
    "        else:\n",
    "            print(\"30 이상의 수가 입력되었습니다\")\n",
    "    except: \n",
    "        print(\"숫자가 아닙니다\")\n"
   ]
  },
  {
   "cell_type": "code",
   "execution_count": null,
   "id": "1be6f0bb-0424-473b-8c03-70cdb7509dd9",
   "metadata": {},
   "outputs": [],
   "source": []
  }
 ],
 "metadata": {
  "kernelspec": {
   "display_name": "Python 3 (ipykernel)",
   "language": "python",
   "name": "python3"
  },
  "language_info": {
   "codemirror_mode": {
    "name": "ipython",
    "version": 3
   },
   "file_extension": ".py",
   "mimetype": "text/x-python",
   "name": "python",
   "nbconvert_exporter": "python",
   "pygments_lexer": "ipython3",
   "version": "3.9.10"
  }
 },
 "nbformat": 4,
 "nbformat_minor": 5
}
