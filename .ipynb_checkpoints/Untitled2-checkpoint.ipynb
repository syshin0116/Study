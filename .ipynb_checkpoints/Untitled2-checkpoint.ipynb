{
 "cells": [
  {
   "cell_type": "code",
   "execution_count": null,
   "id": "1aa0e12f-8c12-49a7-ae95-278d29326baa",
   "metadata": {},
   "outputs": [],
   "source": [
    "# plt.plot()을 사용하시면 됩니다.\n",
    "import csv\n",
    "fp = open('seoul.csv','r')\n",
    "data = csv.reader(fp)\n",
    "next(data) \n",
    "\n",
    "\n",
    "\n",
    "import matplotlib.pyplot as plt\n",
    "\n",
    "\n",
    "plt.plot([2010, 2011, 2012, 2013, 2014, 2015, 2016, 2017, 2018, 2019, 2020])\n",
    " \n",
    "\n",
    "\n",
    "plt.xlabel(\"인구수\")\n",
    "plt.ylabel(\"년도\")\n",
    "plt.show()"
   ]
  },
  {
   "cell_type": "code",
   "execution_count": null,
   "id": "44d3b30c-276e-496a-b779-362d4be3cb63",
   "metadata": {},
   "outputs": [],
   "source": [
    "import pandas as pd\n",
    "import matplotlib.pyplot as plt\n",
    "\n",
    "ax = plt.gca()\n",
    "\n",
    "df = pd.read_csv('seoul.csv')\n",
    "df.plot(kind='line',x='인구수',y='년도',ax=ax)\n",
    "\n",
    "plt.xlabel(\"인구수\")\n",
    "plt.ylabel(\"년도\")\n",
    "plt.show()"
   ]
  }
 ],
 "metadata": {
  "kernelspec": {
   "display_name": "Python 3 (ipykernel)",
   "language": "python",
   "name": "python3"
  },
  "language_info": {
   "codemirror_mode": {
    "name": "ipython",
    "version": 3
   },
   "file_extension": ".py",
   "mimetype": "text/x-python",
   "name": "python",
   "nbconvert_exporter": "python",
   "pygments_lexer": "ipython3",
   "version": "3.9.10"
  }
 },
 "nbformat": 4,
 "nbformat_minor": 5
}
