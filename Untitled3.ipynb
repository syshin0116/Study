{
 "cells": [
  {
   "cell_type": "code",
   "execution_count": 4,
   "id": "163dfbc2-a750-4fa2-b4d7-3f008e7b9c30",
   "metadata": {},
   "outputs": [],
   "source": [
    "db = \"hi\""
   ]
  },
  {
   "cell_type": "code",
   "execution_count": 5,
   "id": "dcbfe7f4-ae77-460a-83b8-b24ea5bd51a0",
   "metadata": {},
   "outputs": [],
   "source": [
    "def test():\n",
    "    if True:\n",
    "        return db\n",
    "    return \"False\""
   ]
  },
  {
   "cell_type": "code",
   "execution_count": 6,
   "id": "e06d1014-b096-4daa-8cbc-439dcfa0df98",
   "metadata": {},
   "outputs": [
    {
     "data": {
      "text/plain": [
       "'hi'"
      ]
     },
     "execution_count": 6,
     "metadata": {},
     "output_type": "execute_result"
    }
   ],
   "source": [
    "test()"
   ]
  },
  {
   "cell_type": "code",
   "execution_count": null,
   "id": "e822f3ef-39d3-4fd6-8cc8-7523dcb31ecc",
   "metadata": {},
   "outputs": [],
   "source": []
  }
 ],
 "metadata": {
  "kernelspec": {
   "display_name": "Python 3 (ipykernel)",
   "language": "python",
   "name": "python3"
  },
  "language_info": {
   "codemirror_mode": {
    "name": "ipython",
    "version": 3
   },
   "file_extension": ".py",
   "mimetype": "text/x-python",
   "name": "python",
   "nbconvert_exporter": "python",
   "pygments_lexer": "ipython3",
   "version": "3.9.10"
  }
 },
 "nbformat": 4,
 "nbformat_minor": 5
}
