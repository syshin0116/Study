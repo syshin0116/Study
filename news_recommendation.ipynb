{
 "cells": [
  {
   "cell_type": "code",
   "execution_count": 3,
   "metadata": {},
   "outputs": [
    {
     "name": "stdout",
     "output_type": "stream",
     "text": [
      "['올림픽 개최 논란', '새로운 AI 기술 발표', '코로나19 백신 개발 진전', '주식 시장 급등', '기후 변화 대응 정책']\n"
     ]
    }
   ],
   "source": [
    "import pandas as pd\n",
    "from sklearn.feature_extraction.text import TfidfVectorizer\n",
    "from sklearn.metrics.pairwise import linear_kernel\n",
    "\n",
    "# 샘플 데이터 생성\n",
    "news_data = {\n",
    "    \"article_id\": [1, 2, 3, 4, 5],\n",
    "    \"title\": [\n",
    "        \"코로나19 백신 개발 진전\",\n",
    "        \"올림픽 개최 논란\",\n",
    "        \"주식 시장 급등\",\n",
    "        \"새로운 AI 기술 발표\",\n",
    "        \"기후 변화 대응 정책\",\n",
    "    ],\n",
    "    \"content\": [\n",
    "        \"백신 개발이 진전을 보이고 있다...\",\n",
    "        \"올림픽 개최에 대한 논란이 계속되고 있다...\",\n",
    "        \"주식 시장이 사상 최고치를 기록했다...\",\n",
    "        \"새로운 AI 기술이 산업계에 혁명을 일으킬 전망이다...\",\n",
    "        \"기후 변화에 대응하기 위한 새로운 정책이 발표되었다...\",\n",
    "    ],\n",
    "    \"category\": [\"건강\", \"스포츠\", \"경제\", \"기술\", \"환경\"],\n",
    "}\n",
    "\n",
    "news_df = pd.DataFrame(news_data)\n",
    "\n",
    "# 간단한 사용자 행동 데이터 생성\n",
    "user_behavior = {\n",
    "    \"user_id\": [1, 1, 2, 2, 3],\n",
    "    \"article_id\": [1, 3, 2, 4, 5],\n",
    "    \"interaction\": [1, 1, 1, 1, 1],  # 1은 읽음을 나타냄\n",
    "}\n",
    "\n",
    "user_df = pd.DataFrame(user_behavior)\n",
    "\n",
    "# TF-IDF 벡터화\n",
    "tfidf = TfidfVectorizer(stop_words=\"english\")\n",
    "tfidf_matrix = tfidf.fit_transform(news_df[\"content\"])\n",
    "\n",
    "# 코사인 유사도 계산\n",
    "cosine_sim = linear_kernel(tfidf_matrix, tfidf_matrix)\n",
    "\n",
    "\n",
    "# 콘텐츠 기반 추천 함수\n",
    "def content_based_recommend(article_id, cosine_sim=cosine_sim):\n",
    "    idx = news_df.index[news_df[\"article_id\"] == article_id].tolist()[0]\n",
    "    sim_scores = list(enumerate(cosine_sim[idx]))\n",
    "    sim_scores = sorted(sim_scores, key=lambda x: x[1], reverse=True)\n",
    "    sim_scores = sim_scores[1:4]  # 상위 3개 추천\n",
    "    article_indices = [i[0] for i in sim_scores]\n",
    "    return news_df[\"title\"].iloc[article_indices].tolist()\n",
    "\n",
    "\n",
    "# 사용자 기반 추천 함수\n",
    "def user_based_recommend(user_id):\n",
    "    user_articles = user_df[user_df[\"user_id\"] == user_id][\"article_id\"].tolist()\n",
    "    recommendations = []\n",
    "    for article in user_articles:\n",
    "        recommendations.extend(content_based_recommend(article))\n",
    "    return list(set(recommendations))  # 중복 제거\n",
    "\n",
    "\n",
    "# 실시간 트렌드 시뮬레이션 (실제로는 실시간 데이터를 사용해야 함)\n",
    "def get_trending_articles():\n",
    "    return (\n",
    "        news_df.sort_values(by=\"article_id\", ascending=False)[\"title\"].head(2).tolist()\n",
    "    )\n",
    "\n",
    "\n",
    "# 최종 추천 함수\n",
    "def get_recommendations(user_id):\n",
    "    content_recs = user_based_recommend(user_id)\n",
    "    trending_recs = get_trending_articles()\n",
    "    final_recs = content_recs + trending_recs\n",
    "    return list(dict.fromkeys(final_recs))  # 중복 제거 및 순서 유지\n",
    "\n",
    "\n",
    "# 테스트\n",
    "print(get_recommendations(1))"
   ]
  },
  {
   "cell_type": "code",
   "execution_count": 7,
   "metadata": {},
   "outputs": [
    {
     "data": {
      "text/plain": [
       "['기후 변화 대응 정책', '새로운 AI 기술 발표']"
      ]
     },
     "execution_count": 7,
     "metadata": {},
     "output_type": "execute_result"
    }
   ],
   "source": []
  },
  {
   "cell_type": "code",
   "execution_count": null,
   "metadata": {},
   "outputs": [],
   "source": []
  }
 ],
 "metadata": {
  "kernelspec": {
   "display_name": "playground",
   "language": "python",
   "name": "python3"
  },
  "language_info": {
   "codemirror_mode": {
    "name": "ipython",
    "version": 3
   },
   "file_extension": ".py",
   "mimetype": "text/x-python",
   "name": "python",
   "nbconvert_exporter": "python",
   "pygments_lexer": "ipython3",
   "version": "3.11.8"
  }
 },
 "nbformat": 4,
 "nbformat_minor": 2
}
