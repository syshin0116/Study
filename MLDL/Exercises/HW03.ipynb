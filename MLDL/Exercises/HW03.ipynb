{
 "cells": [
  {
   "cell_type": "markdown",
   "metadata": {
    "id": "m1rbIpJvJD_m"
   },
   "source": [
    "# **HW3 :: Parameter Tuning and Classifcation**"
   ]
  },
  {
   "cell_type": "markdown",
   "metadata": {
    "id": "6c34x6aJI_kE"
   },
   "source": [
    "## 코랩과 구글 드라이브 연동 OR 로컬에서 파일 업로드\n",
    "- 해당 섹션 코드 수정 가능"
   ]
  },
  {
   "cell_type": "code",
   "execution_count": 16,
   "metadata": {
    "id": "PLXjmIbsJMlk"
   },
   "outputs": [],
   "source": [
    "# 연동 OR 파일 업로드\n",
    "# 연동 시 path 설정 주의"
   ]
  },
  {
   "cell_type": "code",
   "execution_count": 17,
   "metadata": {
    "colab": {
     "base_uri": "https://localhost:8080/"
    },
    "id": "4VXRY6hDJ60i",
    "outputId": "dad710f3-4ea6-4f99-f29a-adad1fb81709"
   },
   "outputs": [
    {
     "name": "stdout",
     "output_type": "stream",
     "text": [
      "Drive already mounted at /content/drive; to attempt to forcibly remount, call drive.mount(\"/content/drive\", force_remount=True).\n"
     ]
    }
   ],
   "source": [
    "# from google.colab import drive\n",
    "# drive.mount('/content/drive')"
   ]
  },
  {
   "cell_type": "code",
   "execution_count": 18,
   "metadata": {
    "colab": {
     "base_uri": "https://localhost:8080/"
    },
    "id": "zM_ixowuuNuH",
    "outputId": "1e7e158e-a8c7-4a37-f54a-b572ffa98a79"
   },
   "outputs": [
    {
     "name": "stdout",
     "output_type": "stream",
     "text": [
      "/content/drive/MyDrive/Colab Notebooks\n"
     ]
    }
   ],
   "source": [
    "# 코드 추가(HW01에 제공되었던 코드)\n",
    "# 이 노트북 파일이 저장되어 있는 디렉토리 위치까지 옮기기\n",
    "# %cd /content/drive/MyDrive/Colab Notebooks"
   ]
  },
  {
   "cell_type": "markdown",
   "metadata": {
    "id": "HR6Kw9YhJV8A"
   },
   "source": [
    "## 데이터 불러오기"
   ]
  },
  {
   "cell_type": "code",
   "execution_count": 1,
   "metadata": {
    "id": "29BsCuUtKjKA"
   },
   "outputs": [],
   "source": [
    "import numpy as np\n",
    "import pandas as pd\n",
    "from tqdm.auto import tqdm, trange"
   ]
  },
  {
   "cell_type": "code",
   "execution_count": 2,
   "metadata": {
    "id": "e6BsnGgg4Zle"
   },
   "outputs": [],
   "source": [
    "df = pd.read_csv('airline_sampled2.csv') \n",
    "# HW1에서 사용한 데이터를 샘플링한 파일이므로 꼭 제공된 csv 파일을 사용할 것"
   ]
  },
  {
   "cell_type": "code",
   "execution_count": 3,
   "metadata": {
    "colab": {
     "base_uri": "https://localhost:8080/",
     "height": 351
    },
    "id": "XyXXUUUv4Zlf",
    "outputId": "9bc5db8d-ffb1-4c36-9bda-a614cc85692b"
   },
   "outputs": [
    {
     "data": {
      "text/html": [
       "<div>\n",
       "<style scoped>\n",
       "    .dataframe tbody tr th:only-of-type {\n",
       "        vertical-align: middle;\n",
       "    }\n",
       "\n",
       "    .dataframe tbody tr th {\n",
       "        vertical-align: top;\n",
       "    }\n",
       "\n",
       "    .dataframe thead th {\n",
       "        text-align: right;\n",
       "    }\n",
       "</style>\n",
       "<table border=\"1\" class=\"dataframe\">\n",
       "  <thead>\n",
       "    <tr style=\"text-align: right;\">\n",
       "      <th></th>\n",
       "      <th>Unnamed: 0.1</th>\n",
       "      <th>Unnamed: 0</th>\n",
       "      <th>Gender</th>\n",
       "      <th>Customer Type</th>\n",
       "      <th>Age</th>\n",
       "      <th>Type of Travel</th>\n",
       "      <th>Class</th>\n",
       "      <th>Flight Distance</th>\n",
       "      <th>Inflight wifi service</th>\n",
       "      <th>Departure/Arrival time convenient</th>\n",
       "      <th>...</th>\n",
       "      <th>Inflight entertainment</th>\n",
       "      <th>On-board service</th>\n",
       "      <th>Leg room service</th>\n",
       "      <th>Baggage handling</th>\n",
       "      <th>Checkin service</th>\n",
       "      <th>Inflight service</th>\n",
       "      <th>Cleanliness</th>\n",
       "      <th>Departure Delay in Minutes</th>\n",
       "      <th>Arrival Delay in Minutes</th>\n",
       "      <th>satisfaction</th>\n",
       "    </tr>\n",
       "  </thead>\n",
       "  <tbody>\n",
       "    <tr>\n",
       "      <th>0</th>\n",
       "      <td>8827</td>\n",
       "      <td>8858</td>\n",
       "      <td>0</td>\n",
       "      <td>1</td>\n",
       "      <td>27</td>\n",
       "      <td>1</td>\n",
       "      <td>2</td>\n",
       "      <td>183</td>\n",
       "      <td>4</td>\n",
       "      <td>4</td>\n",
       "      <td>...</td>\n",
       "      <td>5</td>\n",
       "      <td>4</td>\n",
       "      <td>3</td>\n",
       "      <td>4</td>\n",
       "      <td>3</td>\n",
       "      <td>4</td>\n",
       "      <td>5</td>\n",
       "      <td>0</td>\n",
       "      <td>7.0</td>\n",
       "      <td>0</td>\n",
       "    </tr>\n",
       "    <tr>\n",
       "      <th>1</th>\n",
       "      <td>3588</td>\n",
       "      <td>3601</td>\n",
       "      <td>1</td>\n",
       "      <td>0</td>\n",
       "      <td>22</td>\n",
       "      <td>1</td>\n",
       "      <td>0</td>\n",
       "      <td>829</td>\n",
       "      <td>2</td>\n",
       "      <td>3</td>\n",
       "      <td>...</td>\n",
       "      <td>1</td>\n",
       "      <td>1</td>\n",
       "      <td>3</td>\n",
       "      <td>3</td>\n",
       "      <td>3</td>\n",
       "      <td>3</td>\n",
       "      <td>1</td>\n",
       "      <td>4</td>\n",
       "      <td>4.0</td>\n",
       "      <td>0</td>\n",
       "    </tr>\n",
       "    <tr>\n",
       "      <th>2</th>\n",
       "      <td>1011</td>\n",
       "      <td>1017</td>\n",
       "      <td>0</td>\n",
       "      <td>0</td>\n",
       "      <td>23</td>\n",
       "      <td>1</td>\n",
       "      <td>2</td>\n",
       "      <td>1020</td>\n",
       "      <td>4</td>\n",
       "      <td>5</td>\n",
       "      <td>...</td>\n",
       "      <td>4</td>\n",
       "      <td>3</td>\n",
       "      <td>4</td>\n",
       "      <td>5</td>\n",
       "      <td>3</td>\n",
       "      <td>5</td>\n",
       "      <td>4</td>\n",
       "      <td>0</td>\n",
       "      <td>0.0</td>\n",
       "      <td>1</td>\n",
       "    </tr>\n",
       "    <tr>\n",
       "      <th>3</th>\n",
       "      <td>7212</td>\n",
       "      <td>7237</td>\n",
       "      <td>1</td>\n",
       "      <td>0</td>\n",
       "      <td>21</td>\n",
       "      <td>1</td>\n",
       "      <td>0</td>\n",
       "      <td>1028</td>\n",
       "      <td>4</td>\n",
       "      <td>4</td>\n",
       "      <td>...</td>\n",
       "      <td>3</td>\n",
       "      <td>3</td>\n",
       "      <td>3</td>\n",
       "      <td>2</td>\n",
       "      <td>5</td>\n",
       "      <td>4</td>\n",
       "      <td>3</td>\n",
       "      <td>0</td>\n",
       "      <td>0.0</td>\n",
       "      <td>1</td>\n",
       "    </tr>\n",
       "    <tr>\n",
       "      <th>4</th>\n",
       "      <td>5025</td>\n",
       "      <td>5044</td>\n",
       "      <td>1</td>\n",
       "      <td>1</td>\n",
       "      <td>67</td>\n",
       "      <td>0</td>\n",
       "      <td>0</td>\n",
       "      <td>626</td>\n",
       "      <td>3</td>\n",
       "      <td>4</td>\n",
       "      <td>...</td>\n",
       "      <td>2</td>\n",
       "      <td>2</td>\n",
       "      <td>3</td>\n",
       "      <td>2</td>\n",
       "      <td>5</td>\n",
       "      <td>2</td>\n",
       "      <td>3</td>\n",
       "      <td>0</td>\n",
       "      <td>0.0</td>\n",
       "      <td>0</td>\n",
       "    </tr>\n",
       "  </tbody>\n",
       "</table>\n",
       "<p>5 rows × 25 columns</p>\n",
       "</div>"
      ],
      "text/plain": [
       "   Unnamed: 0.1  Unnamed: 0  Gender  Customer Type  Age  Type of Travel  \\\n",
       "0          8827        8858       0              1   27               1   \n",
       "1          3588        3601       1              0   22               1   \n",
       "2          1011        1017       0              0   23               1   \n",
       "3          7212        7237       1              0   21               1   \n",
       "4          5025        5044       1              1   67               0   \n",
       "\n",
       "   Class  Flight Distance  Inflight wifi service  \\\n",
       "0      2              183                      4   \n",
       "1      0              829                      2   \n",
       "2      2             1020                      4   \n",
       "3      0             1028                      4   \n",
       "4      0              626                      3   \n",
       "\n",
       "   Departure/Arrival time convenient  ...  Inflight entertainment  \\\n",
       "0                                  4  ...                       5   \n",
       "1                                  3  ...                       1   \n",
       "2                                  5  ...                       4   \n",
       "3                                  4  ...                       3   \n",
       "4                                  4  ...                       2   \n",
       "\n",
       "   On-board service  Leg room service  Baggage handling  Checkin service  \\\n",
       "0                 4                 3                 4                3   \n",
       "1                 1                 3                 3                3   \n",
       "2                 3                 4                 5                3   \n",
       "3                 3                 3                 2                5   \n",
       "4                 2                 3                 2                5   \n",
       "\n",
       "   Inflight service  Cleanliness  Departure Delay in Minutes  \\\n",
       "0                 4            5                           0   \n",
       "1                 3            1                           4   \n",
       "2                 5            4                           0   \n",
       "3                 4            3                           0   \n",
       "4                 2            3                           0   \n",
       "\n",
       "   Arrival Delay in Minutes  satisfaction  \n",
       "0                       7.0             0  \n",
       "1                       4.0             0  \n",
       "2                       0.0             1  \n",
       "3                       0.0             1  \n",
       "4                       0.0             0  \n",
       "\n",
       "[5 rows x 25 columns]"
      ]
     },
     "execution_count": 3,
     "metadata": {},
     "output_type": "execute_result"
    }
   ],
   "source": [
    "df.head()"
   ]
  },
  {
   "cell_type": "markdown",
   "metadata": {
    "id": "fZDTxR6wKuPO"
   },
   "source": [
    "## 데이터 나누기"
   ]
  },
  {
   "cell_type": "markdown",
   "metadata": {
    "id": "h5enxbYKbAhW"
   },
   "source": [
    "### **주의 사항**\n",
    "train_test_split에 random seed를 사용하여 split set을 고정한다.\n",
    "- 모든 문제에 같은 random seed를 부여할 필요는 없다.\n"
   ]
  },
  {
   "cell_type": "code",
   "execution_count": 4,
   "metadata": {
    "colab": {
     "base_uri": "https://localhost:8080/"
    },
    "id": "V1zQHUKdKWFz",
    "outputId": "163e693b-cc5f-4d44-d235-94e1415ece0d"
   },
   "outputs": [
    {
     "name": "stdout",
     "output_type": "stream",
     "text": [
      "X_train's shape :  (800, 24)\n",
      "y_train's shape :  (800,)\n",
      "\n",
      "X_val's shape :  (100, 24)\n",
      "y_val's shape :  (100,)\n",
      "\n",
      "X_test's shape :  (100, 24)\n",
      "y_test's shape :  (100,)\n"
     ]
    }
   ],
   "source": [
    "from sklearn.model_selection import train_test_split\n",
    "\n",
    "X = df.drop('satisfaction', axis=1)\n",
    "y = df['satisfaction']\n",
    "y=y.astype('int')\n",
    "  \n",
    "X_train, X_test, y_train, y_test = train_test_split(X, y, test_size=0.1)\n",
    "X_train, X_val, y_train, y_val = train_test_split(X_train, y_train, test_size=1/9)\n",
    "\n",
    "print(\"X_train's shape : \", X_train.shape)\n",
    "print(\"y_train's shape : \", y_train.shape)\n",
    "print(\"\\nX_val's shape : \", X_val.shape)\n",
    "print(\"y_val's shape : \", y_val.shape)\n",
    "print(\"\\nX_test's shape : \", X_test.shape)\n",
    "print(\"y_test's shape : \", y_test.shape)"
   ]
  },
  {
   "cell_type": "markdown",
   "metadata": {
    "id": "P5Gr-LZOLCSP"
   },
   "source": [
    "## 문제1 KNN\n",
    "\n",
    "\n",
    "\n",
    "- Scikit-learn 라이브러리를 이용하여 KNN의 최적의 파라미터를 찾는다.\n",
    "    - 최근접 이웃을 찾기 위한 거리의 종류로 최소한 두 가지 이상의 거리 척도를 사용한다.\n",
    "    - K값을 최소 3개 이상 비교한다.\n",
    "    - 거리 척도, k값에 따라 train, validation 정확도를 한 그래프로 그린다.(x축 k값, y축 정확도)\n",
    "    - 찾은 최적의 파라미터와 test set 이용하여 test_accuracy 계산하고 기입한다.\n",
    "    - 최적의 파라미터를 찾은 것에 대한 설명을 '텍스트 셀'에 작성한다.\n",
    "\n"
   ]
  },
  {
   "cell_type": "code",
   "execution_count": 5,
   "metadata": {
    "id": "vVbdK0ERLSq6"
   },
   "outputs": [],
   "source": [
    "from sklearn.neighbors import KNeighborsClassifier\n",
    "from sklearn import metrics\n",
    "import matplotlib.pyplot as plt"
   ]
  },
  {
   "cell_type": "code",
   "execution_count": 6,
   "metadata": {
    "colab": {
     "base_uri": "https://localhost:8080/",
     "height": 615
    },
    "id": "ME76ne9cdSMa",
    "outputId": "bb5dffa3-043a-446e-e5a4-4562cb29c11c"
   },
   "outputs": [
    {
     "name": "stdout",
     "output_type": "stream",
     "text": [
      "test_acc:K 값: {0.59: 701, 0.54: 3, 0.62: 11, 0.66: 51, 0.68: 101}\n",
      "test_acc2:K 값: {0.59: 701, 0.57: 3, 0.62: 11, 0.68: 51, 0.65: 101}\n",
      "최적 파라미터 테스트 정확도(유클리디언 거리):  0.68\n",
      "최적 파라미터 테스트 정확도(맨해탄 거리): 0.68\n"
     ]
    },
    {
     "data": {
      "image/png": "[encoded data removed]",
      "text/plain": [
       "<Figure size 432x288 with 1 Axes>"
      ]
     },
     "metadata": {
      "needs_background": "light"
     },
     "output_type": "display_data"
    },
    {
     "data": {
      "image/png": "[encoded data removed]",
      "text/plain": [
       "<Figure size 432x288 with 1 Axes>"
      ]
     },
     "metadata": {
      "needs_background": "light"
     },
     "output_type": "display_data"
    }
   ],
   "source": [
    "### 문제 1 ###\n",
    "### 코드 작성 ###\n",
    "\n",
    "# random_state 지정\n",
    "X_train, X_test, y_train, y_test = train_test_split(X, y, test_size=0.1, random_state = 15)\n",
    "X_train, X_val, y_train, y_val = train_test_split(X_train, y_train, test_size=1/9, random_state = 20)\n",
    "\n",
    "# K 값 최소 3개 이상 비교하라는 조건에 따른 K값 설정\n",
    "K = [1, 3, 11, 51, 101, 301, 501, 701]\n",
    "\n",
    "# training, test 정확도를 저장시키기 위한 빈 리스트 생성\n",
    "train_acc = []\n",
    "test_acc = []\n",
    "\n",
    "for i in K:\n",
    "# K값에 따라 변화하는 Knn Classifier 표현 (거리척도 : 유클리디언 거리)\n",
    "  clf = KNeighborsClassifier(n_neighbors = i, metric='euclidean')\n",
    "\n",
    "# 생성한 모델에 데이터를 학습\n",
    "  clf.fit(X_train, y_train)\n",
    "\n",
    "# train_acc에 대한 모델 정확도 추가\n",
    "  train_acc.append(clf.score(X_train, y_train))\n",
    "\n",
    "# test_acc에 대한 모델 정확도 추가\n",
    "  test_acc.append(clf.score(X_test, y_test))\n",
    "\n",
    "\n",
    "# training, test 정확도를 저장시키기 위한 빈 리스트 생성\n",
    "train_acc2 = []\n",
    "test_acc2 = []\n",
    "\n",
    "\n",
    "# 거리척도를 다르게 한 Knn Classifier 코드 작성 (거리척도 : 맨해튼 거리)\n",
    "for j in K:\n",
    "  clf2 = KNeighborsClassifier(n_neighbors = j, metric='manhattan')\n",
    "# 생성 모델에 데이터 학습\n",
    "  clf2.fit(X_train, y_train)\n",
    "\n",
    "# train, test 모델 정확도 추가\n",
    "  train_acc2.append(clf2.score(X_train, y_train))\n",
    "  test_acc2.append(clf2.score(X_test, y_test))\n",
    "\n",
    "# K와 정확도 리스트를 하나의 딕셔너리로 결합\n",
    "dist_dict = dict(zip(test_acc, K))\n",
    "dist_dict2 = dict(zip(test_acc2, K))\n",
    "\n",
    "# K, 거리척도에 대한 train, test 정확도 그래프 생성 (유클리디언 거리)\n",
    "# X축 : K값, Y축 : 정확도\n",
    "plt.figure()\n",
    "plt.plot(K, train_acc, label='train accuracy', marker='o')\n",
    "plt.plot(K, test_acc, label='test accuracy', marker='o')\n",
    "plt.xlabel('K')\n",
    "plt.ylabel('Accuracy')\n",
    "plt.legend()\n",
    "\n",
    "# K, 거리척도에 대한 train, test 정확도 그래프 생성 (맨해튼 거리)\n",
    "# X축 : K값, Y축 : 정확도\n",
    "plt.figure()\n",
    "plt.plot(K, train_acc2, label='train accuracy', marker='^')\n",
    "plt.plot(K, test_acc2, label='test accuracy', marker='^')\n",
    "plt.xlabel('K')\n",
    "plt.ylabel('Accuracy')\n",
    "plt.legend()\n",
    "\n",
    "\n",
    "# 최적의 파라미터를 찾기 위한 K와 정확도 값 출력\n",
    "print('test_acc:K 값:', dist_dict)\n",
    "print('test_acc2:K 값:', dist_dict2)\n",
    "\n",
    "# 최적의 파라미터 K값 = 유클리디언 거리 : opt_K / 맨해튼 거리 opt_K2\n",
    "opt_K = dist_dict.get(max(dist_dict))\n",
    "opt_K2 = dist_dict2.get(max(dist_dict2))\n",
    "\n",
    "# 최적의 파라미터, test set을 이용하여 test_accuracy 계산\n",
    "optimal_clf = KNeighborsClassifier(n_neighbors = opt_K, metric='euclidean')\n",
    "optimal_clf2 = KNeighborsClassifier(n_neighbors = opt_K2, metric='manhattan')\n",
    "\n",
    "# 생성 모델에 대한 데이터 학습\n",
    "optimal_clf.fit(X_train, y_train)\n",
    "optimal_clf2.fit(X_train, y_train)\n",
    "\n",
    "# 모델 테스트 정확도 계산\n",
    "test_accuracy = optimal_clf.score(X_test, y_test)\n",
    "test_accuracy2 = optimal_clf2.score(X_test, y_test)\n",
    "\n",
    "# 테스트 정확도 출력\n",
    "print('최적 파라미터 테스트 정확도(유클리디언 거리): ', test_accuracy)\n",
    "print('최적 파라미터 테스트 정확도(맨해탄 거리):', test_accuracy2)"
   ]
  },
  {
   "cell_type": "markdown",
   "metadata": {
    "id": "8-BMEqCFdfsR"
   },
   "source": [
    "**설명 작성**  \n",
    "- 최적의 파라미터: 유클리디언 거리 K= 101, 맨해탄 거리 K = 51\n",
    "\n",
    "- 설명: 유클리디언 거리 척도는 K=101일 때, 맨해탄 거리 척도는 K=51일 때, test accuracy가 가장 높은 값을 나타낸다.\n",
    "\n",
    "유클리디언 거리 테스트 정확도 : 0.68,\n",
    "맨해탄 거리 테스트 정확도 : 0.68"
   ]
  },
  {
   "cell_type": "markdown",
   "metadata": {
    "id": "mZkD2D1i4Zli"
   },
   "source": [
    "---"
   ]
  },
  {
   "cell_type": "markdown",
   "metadata": {
    "id": "7OMvtg924Zli",
    "tags": []
   },
   "source": [
    "## 문제2 Random Forest\n",
    "\n",
    "\n",
    "- Scikit-learn 라이브러리를 이용하여 Random Forest의 최적의 파라미터를 찾는다.\n",
    "    - Criterion 중 최소 두개를 비교한다.\n",
    "    - 최적의 파라미터 max depth 값을 찾는다.\n",
    "    - 파라미터에 따라 train, validation 정확도를 한 그래프로 그린다.(x축 max depth 값, y축 정확도)\n",
    "    - 찾은 최적의 파라미터와 test set을 이용하여 test accuracy를 계산하고 기입한다.\n",
    "    - 최적의 파라미터를 찾은 것에 대한 설명을 '텍스트 셀'에 작성한다."
   ]
  },
  {
   "cell_type": "code",
   "execution_count": null,
   "metadata": {},
   "outputs": [],
   "source": []
  },
  {
   "cell_type": "code",
   "execution_count": 7,
   "metadata": {
    "id": "IttBH6C94Zli"
   },
   "outputs": [],
   "source": [
    "from sklearn.ensemble import RandomForestClassifier"
   ]
  },
  {
   "cell_type": "code",
   "execution_count": 8,
   "metadata": {
    "colab": {
     "base_uri": "https://localhost:8080/",
     "height": 353
    },
    "id": "C153cWxK4Zli",
    "outputId": "29809837-faef-4590-8108-06809ff2bb1f"
   },
   "outputs": [
    {
     "name": "stdout",
     "output_type": "stream",
     "text": [
      "forest_test :  [0.86, 0.88, 0.91, 0.93, 0.93, 0.93]\n",
      "forest_test2 : [0.85, 0.91, 0.91, 0.91, 0.94, 0.94]\n",
      "최적의 파라미터(criterion=gini) 0.93\n",
      "최적의 파라미터(criterion=entropy 0.94\n"
     ]
    },
    {
     "data": {
      "image/png": "[encoded data removed]",
      "text/plain": [
       "<Figure size 432x288 with 1 Axes>"
      ]
     },
     "metadata": {
      "needs_background": "light"
     },
     "output_type": "display_data"
    }
   ],
   "source": [
    "### 문제 2 ###\n",
    "### 코드 작성 ###\n",
    "\n",
    "# max_depth : 생성할 DecisionTree의 깊이\n",
    "max_dep = [1, 3, 7, 11, 15, 25]\n",
    "\n",
    "# training, test accuracy를 저장하기 위한 빈 리스트 생성\n",
    "forest_train = []\n",
    "forest_test = []\n",
    "\n",
    "# 반복문을 통해 max_depth 값을 다르게 하여 정확도를 계산한다.\n",
    "for i in max_dep:\n",
    "  forest = RandomForestClassifier(n_estimators=100, random_state = 20, max_depth = i, criterion = 'gini')\n",
    "  # 생성된 모델을 학습시킴\n",
    "  forest.fit(X_train, y_train)\n",
    "\n",
    "  # forest_train accuracy를 리스트에 추가\n",
    "  forest_train.append(forest.score(X_train, y_train))\n",
    "  # forest_test accuracy를 리스트에 추가\n",
    "  forest_test.append(forest.score(X_test, y_test))\n",
    "\n",
    "# X축은 max depth, Y축은 정확도 값을 갖는 그래프를 생성한다.\n",
    "plt.figure()\n",
    "# plt.plot(max_dep, forest_train, label = 'train accuarcy(gini)', marker='o')\n",
    "plt.plot(max_dep, forest_test, label = 'test accuarcy(gini)', marker='o')\n",
    "plt.xlabel('max depth')\n",
    "plt.ylabel('accuracy')\n",
    "plt.legend()\n",
    "\n",
    "\n",
    "# criterion에 entropy 값을 갖는 training, test accuracy를 저장하기 위한 빈 리스트 생성\n",
    "forest_train2 = []\n",
    "forest_test2 = []\n",
    "\n",
    "# 반복문을 통해 max_depth 값을 다르게 하여 정확도를 계산한다.\n",
    "for j in max_dep:\n",
    "  forest2 = RandomForestClassifier(n_estimators=100, random_state = 20, max_depth = j, criterion = 'entropy')\n",
    "  # 생성된 모델을 학습시킨다\n",
    "  forest2.fit(X_train, y_train)\n",
    "\n",
    "  # forest_train accuracy를 리스트에 추가한다.\n",
    "  forest_train2.append(forest2.score(X_train, y_train))\n",
    "  # forest_test accuracy를 리스트에 추가한다.\n",
    "  forest_test2.append(forest2.score(X_test, y_test))\n",
    "\n",
    "# X축은 max depth, Y축은 정확도 값을 갖는 그래프를 생성한다.\n",
    "# plt.plot(max_dep, forest_train2, label = 'train accuracy(entropy)', marker='^')\n",
    "plt.plot(max_dep, forest_test2, label= 'test accuracy(entropy)', marker='^')\n",
    "plt.xlabel('max depth')\n",
    "plt.ylabel('accuracy')\n",
    "plt.legend()\n",
    "\n",
    "print('forest_test : ', forest_test)\n",
    "print('forest_test2 :', forest_test2)\n",
    "\n",
    "# max_depth와 accuracy 리스트를 하나의 딕셔너리로 결합\n",
    "forest_dict = dict(zip(forest_test, max_dep))\n",
    "forest_dict2 = dict(zip(forest_test2, max_dep))\n",
    "\n",
    "# 최적의 파라미터를 찾기 위해 정확도가 최대값인 max_depth 추출\n",
    "opt_m1 = forest_dict.get(max(forest_dict))\n",
    "opt_m2 = forest_dict2.get(max(forest_dict2))\n",
    "\n",
    "# criterion='gini' 값을 갖는 최적의 파라미터 test accuracy를 계산한다.\n",
    "optimal_forest = RandomForestClassifier(n_estimators = 100, random_state = 20, max_depth = opt_m1, criterion = 'gini')\n",
    "optimal_forest.fit(X_train, y_train)\n",
    "optimal_test = optimal_forest.score(X_test, y_test)\n",
    "\n",
    "# criterion='entropy' 값을 갖는 최적의 파라미터 test accuracy를 계산한다.\n",
    "optimal_forest2 = RandomForestClassifier(n_estimators= 100, random_state=20, max_depth=opt_m2, criterion='entropy')\n",
    "optimal_forest2.fit(X_train, y_train)\n",
    "optimal_test2 = optimal_forest2.score(X_test, y_test)\n",
    "\n",
    "# 결과값 출력\n",
    "print('최적의 파라미터(criterion=gini)', optimal_test)\n",
    "print('최적의 파라미터(criterion=entropy', optimal_test2)"
   ]
  },
  {
   "cell_type": "markdown",
   "metadata": {
    "id": "s4r40Dbu4Zli"
   },
   "source": [
    "**설명 작성**  \n",
    "- 최적의 파라미터: \n",
    "\n",
    "criterion(gini)일 때 max_depth= 11,\n",
    "\n",
    "criterion(entropy)일 때 max_depth = 15 \n",
    "\n",
    "- 설명: \n",
    "\n",
    "criterion(gini)의 map_depth 값이 11일 때, test accuracy가 0.93로 최적의 값을 나타낸다.\n",
    "\n",
    "criterion(entropy)의 map_depth 값이 15일 때, test accuracy가 0.94로 최적의 값을 나타낸다.\n",
    "\n",
    "(max_depth가 증가하더라도 test accuracy가 더 이상 증가하지 않는다)"
   ]
  },
  {
   "cell_type": "markdown",
   "metadata": {
    "id": "KvjjbqDB4Zli"
   },
   "source": [
    "---"
   ]
  },
  {
   "cell_type": "markdown",
   "metadata": {
    "id": "cl1b3f3AaZUw"
   },
   "source": [
    "## 문제3 Cross validation with Linear SVM\n",
    "### 3-1: k-fold\n",
    "- 수업시간에 배운 **5-fold** 를 이용하여 최적의 파라미터를 찾는다. (데이터는 동일)\n",
    "- 수업시간에 배운 linear SVM 모델의 파라미터 C를 cross-validation을 바탕으로 최적화한다.\n",
    "    - **5-fold CV를 할 때, test data를 제외한 90%의 데이터를 사용해야한다.**\n",
    "    - 파라미터에 따라 K-fold CV를 통해 나온 평균 정확도와 각 fold의 정확도들을 한 그래프로 그린다.(x축 선택한 파라미터, y축 정확도)\n",
    "    - 찾은 최적의 파라미터와 test set을 이용하여 test accuracy를 계산하고 기입한다.\n",
    "    - 최적의 파라미터를 찾은 것에 대한 설명을 '텍스트 셀'에 작성한다.\n",
    "\n",
    "### 3-2: Leave One Out\n",
    "- 수업시간에 배운 Leave-One-Out 를 이용하여 최적의 파라미터를 찾는다. (데이터는 동일)\n",
    "- 수업시간에 배운 linear SVM 모델의 파라미터 C를 cross-validation을 바탕으로 최적화한다.\n",
    "  - **Leave-One-Out CV를 할 때, test data를 제외한 90%의 데이터를 사용해야한다.**\n",
    "  - 파라미터에 따라 Leave-One-Out CV를 통해 나온 평균 정확도를 그래프로 그린다.(x축 선택한 파라미터, y축 정확도)\n",
    "  - 찾은 최적의 파라미터와 test set을 이용하여 test accuracy를 계산하고 기입한다.\n",
    "  - 최적의 파라미터를 찾은 것에 대한 설명을 '텍스트 셀'에 작성한다."
   ]
  },
  {
   "cell_type": "code",
   "execution_count": 9,
   "metadata": {
    "colab": {
     "base_uri": "https://localhost:8080/"
    },
    "id": "fYNny36efEF3",
    "outputId": "e7d7fcd3-0dfa-4647-8027-afb7f7d4de2c"
   },
   "outputs": [
    {
     "name": "stdout",
     "output_type": "stream",
     "text": [
      "linear SVM : C:0.01, traing score:0.562500, test score:0.520000 \n",
      "\n",
      "linear SVM : C:1, traing score:0.668750, test score:0.600000 \n",
      "\n",
      "linear SVM : C:10, traing score:0.663750, test score:0.620000 \n",
      "\n",
      "linear SVM : C:100, traing score:0.663750, test score:0.620000 \n",
      "\n",
      "\n",
      " C: 0.01, 1 교차검증 정확도 : [0.865]\n",
      "\n",
      " C: 0.01, 2 교차검증 정확도 : [0.865, 0.85]\n",
      "\n",
      " C: 0.01, 3 교차검증 정확도 : [0.865, 0.85, 0.82]\n",
      "\n",
      " C: 0.01, 4 교차검증 정확도 : [0.865, 0.85, 0.82, 0.845]\n",
      "\n",
      " C: 0.01, 5 교차검증 정확도 : [0.865, 0.85, 0.82, 0.845, 0.82]\n",
      "\n",
      " 평균검증 정확도:  0.8400000000000001\n",
      "\n",
      " C: 1, 1 교차검증 정확도 : [0.88]\n",
      "\n",
      " C: 1, 2 교차검증 정확도 : [0.88, 0.815]\n",
      "\n",
      " C: 1, 3 교차검증 정확도 : [0.88, 0.815, 0.83]\n",
      "\n",
      " C: 1, 4 교차검증 정확도 : [0.88, 0.815, 0.83, 0.835]\n",
      "\n",
      " C: 1, 5 교차검증 정확도 : [0.88, 0.815, 0.83, 0.835, 0.82]\n",
      "\n",
      " 평균검증 정확도:  0.836\n",
      "\n",
      " C: 10, 1 교차검증 정확도 : [0.865]\n",
      "\n",
      " C: 10, 2 교차검증 정확도 : [0.865, 0.845]\n",
      "\n",
      " C: 10, 3 교차검증 정확도 : [0.865, 0.845, 0.825]\n",
      "\n",
      " C: 10, 4 교차검증 정확도 : [0.865, 0.845, 0.825, 0.83]\n",
      "\n",
      " C: 10, 5 교차검증 정확도 : [0.865, 0.845, 0.825, 0.83, 0.805]\n",
      "\n",
      " 평균검증 정확도:  0.834\n",
      "\n",
      " C: 100, 1 교차검증 정확도 : [0.85]\n",
      "\n",
      " C: 100, 2 교차검증 정확도 : [0.85, 0.83]\n",
      "\n",
      " C: 100, 3 교차검증 정확도 : [0.85, 0.83, 0.83]\n",
      "\n",
      " C: 100, 4 교차검증 정확도 : [0.85, 0.83, 0.83, 0.83]\n",
      "\n",
      " C: 100, 5 교차검증 정확도 : [0.85, 0.83, 0.83, 0.83, 0.825]\n",
      "\n",
      " 평균검증 정확도:  0.833\n"
     ]
    },
    {
     "ename": "ValueError",
     "evalue": "x and y must have same first dimension, but have shapes (4,) and (5,)",
     "output_type": "error",
     "traceback": [
      "\u001b[0;31m---------------------------------------------------------------------------\u001b[0m",
      "\u001b[0;31mValueError\u001b[0m                                Traceback (most recent call last)",
      "Input \u001b[0;32mIn [9]\u001b[0m, in \u001b[0;36m<cell line: 72>\u001b[0;34m()\u001b[0m\n\u001b[1;32m     69\u001b[0m kf_mean \u001b[38;5;241m=\u001b[39m np\u001b[38;5;241m.\u001b[39mmean(accuracy)\n\u001b[1;32m     71\u001b[0m \u001b[38;5;66;03m# X축 선택한 파라미터, y축 정확도를 갖는 그래프를 생성한다\u001b[39;00m\n\u001b[0;32m---> 72\u001b[0m \u001b[43mplt\u001b[49m\u001b[38;5;241;43m.\u001b[39;49m\u001b[43mplot\u001b[49m\u001b[43m(\u001b[49m\u001b[43mpar_C\u001b[49m\u001b[43m,\u001b[49m\u001b[43m \u001b[49m\u001b[43mkf_accuracy\u001b[49m\u001b[43m,\u001b[49m\u001b[43m \u001b[49m\u001b[43mlabel\u001b[49m\u001b[38;5;241;43m=\u001b[39;49m\u001b[43m \u001b[49m\u001b[38;5;124;43m'\u001b[39;49m\u001b[38;5;124;43mk-fold accuracy\u001b[39;49m\u001b[38;5;124;43m'\u001b[39;49m\u001b[43m,\u001b[49m\u001b[43m \u001b[49m\u001b[43mmarker\u001b[49m\u001b[38;5;241;43m=\u001b[39;49m\u001b[38;5;124;43m'\u001b[39;49m\u001b[38;5;124;43m^\u001b[39;49m\u001b[38;5;124;43m'\u001b[39;49m\u001b[43m)\u001b[49m\n\u001b[1;32m     73\u001b[0m plt\u001b[38;5;241m.\u001b[39mplot(par_C, cv_score, label\u001b[38;5;241m=\u001b[39m \u001b[38;5;124m'\u001b[39m\u001b[38;5;124mcross_validation accuracy\u001b[39m\u001b[38;5;124m'\u001b[39m, marker\u001b[38;5;241m=\u001b[39m\u001b[38;5;124m'\u001b[39m\u001b[38;5;124m^\u001b[39m\u001b[38;5;124m'\u001b[39m)\n\u001b[1;32m     74\u001b[0m plt\u001b[38;5;241m.\u001b[39mxlabel(\u001b[38;5;124m'\u001b[39m\u001b[38;5;124mParameter C\u001b[39m\u001b[38;5;124m'\u001b[39m)\n",
      "File \u001b[0;32m~/miniforge3/lib/python3.9/site-packages/matplotlib/pyplot.py:2769\u001b[0m, in \u001b[0;36mplot\u001b[0;34m(scalex, scaley, data, *args, **kwargs)\u001b[0m\n\u001b[1;32m   2767\u001b[0m \u001b[38;5;129m@_copy_docstring_and_deprecators\u001b[39m(Axes\u001b[38;5;241m.\u001b[39mplot)\n\u001b[1;32m   2768\u001b[0m \u001b[38;5;28;01mdef\u001b[39;00m \u001b[38;5;21mplot\u001b[39m(\u001b[38;5;241m*\u001b[39margs, scalex\u001b[38;5;241m=\u001b[39m\u001b[38;5;28;01mTrue\u001b[39;00m, scaley\u001b[38;5;241m=\u001b[39m\u001b[38;5;28;01mTrue\u001b[39;00m, data\u001b[38;5;241m=\u001b[39m\u001b[38;5;28;01mNone\u001b[39;00m, \u001b[38;5;241m*\u001b[39m\u001b[38;5;241m*\u001b[39mkwargs):\n\u001b[0;32m-> 2769\u001b[0m     \u001b[38;5;28;01mreturn\u001b[39;00m \u001b[43mgca\u001b[49m\u001b[43m(\u001b[49m\u001b[43m)\u001b[49m\u001b[38;5;241;43m.\u001b[39;49m\u001b[43mplot\u001b[49m\u001b[43m(\u001b[49m\n\u001b[1;32m   2770\u001b[0m \u001b[43m        \u001b[49m\u001b[38;5;241;43m*\u001b[39;49m\u001b[43margs\u001b[49m\u001b[43m,\u001b[49m\u001b[43m \u001b[49m\u001b[43mscalex\u001b[49m\u001b[38;5;241;43m=\u001b[39;49m\u001b[43mscalex\u001b[49m\u001b[43m,\u001b[49m\u001b[43m \u001b[49m\u001b[43mscaley\u001b[49m\u001b[38;5;241;43m=\u001b[39;49m\u001b[43mscaley\u001b[49m\u001b[43m,\u001b[49m\n\u001b[1;32m   2771\u001b[0m \u001b[43m        \u001b[49m\u001b[38;5;241;43m*\u001b[39;49m\u001b[38;5;241;43m*\u001b[39;49m\u001b[43m(\u001b[49m\u001b[43m{\u001b[49m\u001b[38;5;124;43m\"\u001b[39;49m\u001b[38;5;124;43mdata\u001b[39;49m\u001b[38;5;124;43m\"\u001b[39;49m\u001b[43m:\u001b[49m\u001b[43m \u001b[49m\u001b[43mdata\u001b[49m\u001b[43m}\u001b[49m\u001b[43m \u001b[49m\u001b[38;5;28;43;01mif\u001b[39;49;00m\u001b[43m \u001b[49m\u001b[43mdata\u001b[49m\u001b[43m \u001b[49m\u001b[38;5;129;43;01mis\u001b[39;49;00m\u001b[43m \u001b[49m\u001b[38;5;129;43;01mnot\u001b[39;49;00m\u001b[43m \u001b[49m\u001b[38;5;28;43;01mNone\u001b[39;49;00m\u001b[43m \u001b[49m\u001b[38;5;28;43;01melse\u001b[39;49;00m\u001b[43m \u001b[49m\u001b[43m{\u001b[49m\u001b[43m}\u001b[49m\u001b[43m)\u001b[49m\u001b[43m,\u001b[49m\u001b[43m \u001b[49m\u001b[38;5;241;43m*\u001b[39;49m\u001b[38;5;241;43m*\u001b[39;49m\u001b[43mkwargs\u001b[49m\u001b[43m)\u001b[49m\n",
      "File \u001b[0;32m~/miniforge3/lib/python3.9/site-packages/matplotlib/axes/_axes.py:1632\u001b[0m, in \u001b[0;36mAxes.plot\u001b[0;34m(self, scalex, scaley, data, *args, **kwargs)\u001b[0m\n\u001b[1;32m   1390\u001b[0m \u001b[38;5;124;03m\"\"\"\u001b[39;00m\n\u001b[1;32m   1391\u001b[0m \u001b[38;5;124;03mPlot y versus x as lines and/or markers.\u001b[39;00m\n\u001b[1;32m   1392\u001b[0m \n\u001b[0;32m   (...)\u001b[0m\n\u001b[1;32m   1629\u001b[0m \u001b[38;5;124;03m(``'green'``) or hex strings (``'#008000'``).\u001b[39;00m\n\u001b[1;32m   1630\u001b[0m \u001b[38;5;124;03m\"\"\"\u001b[39;00m\n\u001b[1;32m   1631\u001b[0m kwargs \u001b[38;5;241m=\u001b[39m cbook\u001b[38;5;241m.\u001b[39mnormalize_kwargs(kwargs, mlines\u001b[38;5;241m.\u001b[39mLine2D)\n\u001b[0;32m-> 1632\u001b[0m lines \u001b[38;5;241m=\u001b[39m [\u001b[38;5;241m*\u001b[39m\u001b[38;5;28mself\u001b[39m\u001b[38;5;241m.\u001b[39m_get_lines(\u001b[38;5;241m*\u001b[39margs, data\u001b[38;5;241m=\u001b[39mdata, \u001b[38;5;241m*\u001b[39m\u001b[38;5;241m*\u001b[39mkwargs)]\n\u001b[1;32m   1633\u001b[0m \u001b[38;5;28;01mfor\u001b[39;00m line \u001b[38;5;129;01min\u001b[39;00m lines:\n\u001b[1;32m   1634\u001b[0m     \u001b[38;5;28mself\u001b[39m\u001b[38;5;241m.\u001b[39madd_line(line)\n",
      "File \u001b[0;32m~/miniforge3/lib/python3.9/site-packages/matplotlib/axes/_base.py:312\u001b[0m, in \u001b[0;36m_process_plot_var_args.__call__\u001b[0;34m(self, data, *args, **kwargs)\u001b[0m\n\u001b[1;32m    310\u001b[0m     this \u001b[38;5;241m+\u001b[39m\u001b[38;5;241m=\u001b[39m args[\u001b[38;5;241m0\u001b[39m],\n\u001b[1;32m    311\u001b[0m     args \u001b[38;5;241m=\u001b[39m args[\u001b[38;5;241m1\u001b[39m:]\n\u001b[0;32m--> 312\u001b[0m \u001b[38;5;28;01myield from\u001b[39;00m \u001b[38;5;28;43mself\u001b[39;49m\u001b[38;5;241;43m.\u001b[39;49m\u001b[43m_plot_args\u001b[49m\u001b[43m(\u001b[49m\u001b[43mthis\u001b[49m\u001b[43m,\u001b[49m\u001b[43m \u001b[49m\u001b[43mkwargs\u001b[49m\u001b[43m)\u001b[49m\n",
      "File \u001b[0;32m~/miniforge3/lib/python3.9/site-packages/matplotlib/axes/_base.py:498\u001b[0m, in \u001b[0;36m_process_plot_var_args._plot_args\u001b[0;34m(self, tup, kwargs, return_kwargs)\u001b[0m\n\u001b[1;32m    495\u001b[0m     \u001b[38;5;28mself\u001b[39m\u001b[38;5;241m.\u001b[39maxes\u001b[38;5;241m.\u001b[39myaxis\u001b[38;5;241m.\u001b[39mupdate_units(y)\n\u001b[1;32m    497\u001b[0m \u001b[38;5;28;01mif\u001b[39;00m x\u001b[38;5;241m.\u001b[39mshape[\u001b[38;5;241m0\u001b[39m] \u001b[38;5;241m!=\u001b[39m y\u001b[38;5;241m.\u001b[39mshape[\u001b[38;5;241m0\u001b[39m]:\n\u001b[0;32m--> 498\u001b[0m     \u001b[38;5;28;01mraise\u001b[39;00m \u001b[38;5;167;01mValueError\u001b[39;00m(\u001b[38;5;124mf\u001b[39m\u001b[38;5;124m\"\u001b[39m\u001b[38;5;124mx and y must have same first dimension, but \u001b[39m\u001b[38;5;124m\"\u001b[39m\n\u001b[1;32m    499\u001b[0m                      \u001b[38;5;124mf\u001b[39m\u001b[38;5;124m\"\u001b[39m\u001b[38;5;124mhave shapes \u001b[39m\u001b[38;5;132;01m{\u001b[39;00mx\u001b[38;5;241m.\u001b[39mshape\u001b[38;5;132;01m}\u001b[39;00m\u001b[38;5;124m and \u001b[39m\u001b[38;5;132;01m{\u001b[39;00my\u001b[38;5;241m.\u001b[39mshape\u001b[38;5;132;01m}\u001b[39;00m\u001b[38;5;124m\"\u001b[39m)\n\u001b[1;32m    500\u001b[0m \u001b[38;5;28;01mif\u001b[39;00m x\u001b[38;5;241m.\u001b[39mndim \u001b[38;5;241m>\u001b[39m \u001b[38;5;241m2\u001b[39m \u001b[38;5;129;01mor\u001b[39;00m y\u001b[38;5;241m.\u001b[39mndim \u001b[38;5;241m>\u001b[39m \u001b[38;5;241m2\u001b[39m:\n\u001b[1;32m    501\u001b[0m     \u001b[38;5;28;01mraise\u001b[39;00m \u001b[38;5;167;01mValueError\u001b[39;00m(\u001b[38;5;124mf\u001b[39m\u001b[38;5;124m\"\u001b[39m\u001b[38;5;124mx and y can be no greater than 2D, but have \u001b[39m\u001b[38;5;124m\"\u001b[39m\n\u001b[1;32m    502\u001b[0m                      \u001b[38;5;124mf\u001b[39m\u001b[38;5;124m\"\u001b[39m\u001b[38;5;124mshapes \u001b[39m\u001b[38;5;132;01m{\u001b[39;00mx\u001b[38;5;241m.\u001b[39mshape\u001b[38;5;132;01m}\u001b[39;00m\u001b[38;5;124m and \u001b[39m\u001b[38;5;132;01m{\u001b[39;00my\u001b[38;5;241m.\u001b[39mshape\u001b[38;5;132;01m}\u001b[39;00m\u001b[38;5;124m\"\u001b[39m)\n",
      "\u001b[0;31mValueError\u001b[0m: x and y must have same first dimension, but have shapes (4,) and (5,)"
     ]
    },
    {
     "data": {
      "image/png": "[encoded data removed]",
      "text/plain": [
       "<Figure size 432x288 with 1 Axes>"
      ]
     },
     "metadata": {
      "needs_background": "light"
     },
     "output_type": "display_data"
    }
   ],
   "source": [
    "### 문제 3-1 ###\n",
    "### 코드 작성 ###\n",
    "\n",
    "from sklearn.model_selection import cross_val_score\n",
    "from sklearn.model_selection import KFold\n",
    "from sklearn.tree import DecisionTreeClassifier\n",
    "from sklearn.svm import SVC\n",
    "from sklearn.metrics import accuracy_score\n",
    "\n",
    "# test data를 제외한 90%의 데이터를 사용한다는 조건에 따른 test_size 설정\n",
    "X_train, X_test, y_train, y_test = train_test_split(X, y, test_size=0.1, random_state = 10)\n",
    "X_train, X_val, y_train, y_val = train_test_split(X_train, y_train, test_size=1/9, random_state = 25)\n",
    "\n",
    "# 파라미터 C\n",
    "par_C = [0.01, 1, 10, 100]\n",
    "\n",
    "# K-fold\n",
    "kf = KFold(n_splits= 5, random_state = 10, shuffle= True)\n",
    "\n",
    "# linear SVM 모델의 파라미터 C, 반복문을 통해 확인\n",
    "for variableC in par_C:\n",
    "  model = SVC(C= variableC).fit(X_train, y_train)\n",
    "  score_train = model.score(X_train, y_train)\n",
    "  score_test = model.score(X_test, y_test)\n",
    "  print(\"linear SVM : C:{}, traing score:{:2f}, test score:{:2f} \\n\".format(variableC, score_train, score_test))\n",
    "\n",
    "  # C값 변화하는 것에 대한 cross validation score 계산\n",
    "  cv_score = cross_val_score(model, X_train, y_train, cv=kf)\n",
    "\n",
    "  # cv_score 값을 저장하기 위한 딕셔너리 생성\n",
    "  cv_dict = {}\n",
    "  cv_dict[variableC] = cv_score\n",
    "\n",
    "\n",
    "# X,y 를 features, label로 저장\n",
    "features = df.drop('satisfaction', axis=1)\n",
    "label = df['satisfaction']\n",
    "\n",
    "for a in par_C:\n",
    "  # SVC 이용\n",
    "  fold_df_clf = SVC(kernel='linear', C= a)\n",
    "\n",
    "  # 정확도 측정을 위한 빈 리스트 생성\n",
    "  # fold 횟수 측정하기 위해 생성\n",
    "  kf_accuracy = []\n",
    "  n_iter = 0\n",
    "\n",
    "  # k-fold 교차검증 정확도 측정을 위한 반복문\n",
    "  for train_index, test_index in kf.split(features):\n",
    "    X_train, X_test = features.iloc[train_index, :], features.iloc[test_index, :]\n",
    "    y_train, y_test = label[train_index], label[test_index]\n",
    "  \n",
    "    # 모델 학습\n",
    "    fold_df_clf.fit(X_train, y_train)\n",
    "    # 예측\n",
    "    fold_pred = fold_df_clf.predict(X_test)\n",
    "\n",
    "    # 정확도 측정\n",
    "    n_iter += 1\n",
    "    accuracy = np.round(accuracy_score(y_test, fold_pred), 4)\n",
    "    kf_accuracy.append(accuracy)\n",
    "    print('\\n C: {}, {} 교차검증 정확도 : {}'.format(a, n_iter, kf_accuracy))\n",
    "\n",
    "  print('\\n 평균검증 정확도: ', np.mean(kf_accuracy))\n",
    "\n",
    "  # kf_accuracy를 저장하기 위한 딕셔너리 생성\n",
    "  accuracy_dict = {}\n",
    "  accuracy_dict[a] = kf_accuracy\n",
    "kf_mean = np.mean(accuracy)\n",
    "\n"
   ]
  },
  {
   "cell_type": "code",
   "execution_count": 18,
   "metadata": {},
   "outputs": [
    {
     "ename": "ValueError",
     "evalue": "x and y must have same first dimension, but have shapes (4,) and (1,)",
     "output_type": "error",
     "traceback": [
      "\u001b[0;31m---------------------------------------------------------------------------\u001b[0m",
      "\u001b[0;31mValueError\u001b[0m                                Traceback (most recent call last)",
      "Input \u001b[0;32mIn [18]\u001b[0m, in \u001b[0;36m<cell line: 6>\u001b[0;34m()\u001b[0m\n\u001b[1;32m      4\u001b[0m \u001b[38;5;66;03m# X축 선택한 파라미터, y축 정확도를 갖는 그래프를 생성한다\u001b[39;00m\n\u001b[1;32m      5\u001b[0m plt\u001b[38;5;241m.\u001b[39mplot(par_C, test, label\u001b[38;5;241m=\u001b[39m \u001b[38;5;124m'\u001b[39m\u001b[38;5;124mk-fold accuracy\u001b[39m\u001b[38;5;124m'\u001b[39m, marker\u001b[38;5;241m=\u001b[39m\u001b[38;5;124m'\u001b[39m\u001b[38;5;124m^\u001b[39m\u001b[38;5;124m'\u001b[39m)\n\u001b[0;32m----> 6\u001b[0m \u001b[43mplt\u001b[49m\u001b[38;5;241;43m.\u001b[39;49m\u001b[43mplot\u001b[49m\u001b[43m(\u001b[49m\u001b[43mpar_C\u001b[49m\u001b[43m,\u001b[49m\u001b[43m \u001b[49m\u001b[43mcv_dict\u001b[49m\u001b[43m,\u001b[49m\u001b[43m \u001b[49m\u001b[43mlabel\u001b[49m\u001b[38;5;241;43m=\u001b[39;49m\u001b[43m \u001b[49m\u001b[38;5;124;43m'\u001b[39;49m\u001b[38;5;124;43mcross_validation accuracy\u001b[39;49m\u001b[38;5;124;43m'\u001b[39;49m\u001b[43m,\u001b[49m\u001b[43m \u001b[49m\u001b[43mmarker\u001b[49m\u001b[38;5;241;43m=\u001b[39;49m\u001b[38;5;124;43m'\u001b[39;49m\u001b[38;5;124;43m^\u001b[39;49m\u001b[38;5;124;43m'\u001b[39;49m\u001b[43m)\u001b[49m\n\u001b[1;32m      7\u001b[0m plt\u001b[38;5;241m.\u001b[39mxlabel(\u001b[38;5;124m'\u001b[39m\u001b[38;5;124mParameter C\u001b[39m\u001b[38;5;124m'\u001b[39m)\n\u001b[1;32m      8\u001b[0m plt\u001b[38;5;241m.\u001b[39mylabel(\u001b[38;5;124m'\u001b[39m\u001b[38;5;124maccuracy\u001b[39m\u001b[38;5;124m'\u001b[39m)\n",
      "File \u001b[0;32m~/miniforge3/lib/python3.9/site-packages/matplotlib/pyplot.py:2769\u001b[0m, in \u001b[0;36mplot\u001b[0;34m(scalex, scaley, data, *args, **kwargs)\u001b[0m\n\u001b[1;32m   2767\u001b[0m \u001b[38;5;129m@_copy_docstring_and_deprecators\u001b[39m(Axes\u001b[38;5;241m.\u001b[39mplot)\n\u001b[1;32m   2768\u001b[0m \u001b[38;5;28;01mdef\u001b[39;00m \u001b[38;5;21mplot\u001b[39m(\u001b[38;5;241m*\u001b[39margs, scalex\u001b[38;5;241m=\u001b[39m\u001b[38;5;28;01mTrue\u001b[39;00m, scaley\u001b[38;5;241m=\u001b[39m\u001b[38;5;28;01mTrue\u001b[39;00m, data\u001b[38;5;241m=\u001b[39m\u001b[38;5;28;01mNone\u001b[39;00m, \u001b[38;5;241m*\u001b[39m\u001b[38;5;241m*\u001b[39mkwargs):\n\u001b[0;32m-> 2769\u001b[0m     \u001b[38;5;28;01mreturn\u001b[39;00m \u001b[43mgca\u001b[49m\u001b[43m(\u001b[49m\u001b[43m)\u001b[49m\u001b[38;5;241;43m.\u001b[39;49m\u001b[43mplot\u001b[49m\u001b[43m(\u001b[49m\n\u001b[1;32m   2770\u001b[0m \u001b[43m        \u001b[49m\u001b[38;5;241;43m*\u001b[39;49m\u001b[43margs\u001b[49m\u001b[43m,\u001b[49m\u001b[43m \u001b[49m\u001b[43mscalex\u001b[49m\u001b[38;5;241;43m=\u001b[39;49m\u001b[43mscalex\u001b[49m\u001b[43m,\u001b[49m\u001b[43m \u001b[49m\u001b[43mscaley\u001b[49m\u001b[38;5;241;43m=\u001b[39;49m\u001b[43mscaley\u001b[49m\u001b[43m,\u001b[49m\n\u001b[1;32m   2771\u001b[0m \u001b[43m        \u001b[49m\u001b[38;5;241;43m*\u001b[39;49m\u001b[38;5;241;43m*\u001b[39;49m\u001b[43m(\u001b[49m\u001b[43m{\u001b[49m\u001b[38;5;124;43m\"\u001b[39;49m\u001b[38;5;124;43mdata\u001b[39;49m\u001b[38;5;124;43m\"\u001b[39;49m\u001b[43m:\u001b[49m\u001b[43m \u001b[49m\u001b[43mdata\u001b[49m\u001b[43m}\u001b[49m\u001b[43m \u001b[49m\u001b[38;5;28;43;01mif\u001b[39;49;00m\u001b[43m \u001b[49m\u001b[43mdata\u001b[49m\u001b[43m \u001b[49m\u001b[38;5;129;43;01mis\u001b[39;49;00m\u001b[43m \u001b[49m\u001b[38;5;129;43;01mnot\u001b[39;49;00m\u001b[43m \u001b[49m\u001b[38;5;28;43;01mNone\u001b[39;49;00m\u001b[43m \u001b[49m\u001b[38;5;28;43;01melse\u001b[39;49;00m\u001b[43m \u001b[49m\u001b[43m{\u001b[49m\u001b[43m}\u001b[49m\u001b[43m)\u001b[49m\u001b[43m,\u001b[49m\u001b[43m \u001b[49m\u001b[38;5;241;43m*\u001b[39;49m\u001b[38;5;241;43m*\u001b[39;49m\u001b[43mkwargs\u001b[49m\u001b[43m)\u001b[49m\n",
      "File \u001b[0;32m~/miniforge3/lib/python3.9/site-packages/matplotlib/axes/_axes.py:1632\u001b[0m, in \u001b[0;36mAxes.plot\u001b[0;34m(self, scalex, scaley, data, *args, **kwargs)\u001b[0m\n\u001b[1;32m   1390\u001b[0m \u001b[38;5;124;03m\"\"\"\u001b[39;00m\n\u001b[1;32m   1391\u001b[0m \u001b[38;5;124;03mPlot y versus x as lines and/or markers.\u001b[39;00m\n\u001b[1;32m   1392\u001b[0m \n\u001b[0;32m   (...)\u001b[0m\n\u001b[1;32m   1629\u001b[0m \u001b[38;5;124;03m(``'green'``) or hex strings (``'#008000'``).\u001b[39;00m\n\u001b[1;32m   1630\u001b[0m \u001b[38;5;124;03m\"\"\"\u001b[39;00m\n\u001b[1;32m   1631\u001b[0m kwargs \u001b[38;5;241m=\u001b[39m cbook\u001b[38;5;241m.\u001b[39mnormalize_kwargs(kwargs, mlines\u001b[38;5;241m.\u001b[39mLine2D)\n\u001b[0;32m-> 1632\u001b[0m lines \u001b[38;5;241m=\u001b[39m [\u001b[38;5;241m*\u001b[39m\u001b[38;5;28mself\u001b[39m\u001b[38;5;241m.\u001b[39m_get_lines(\u001b[38;5;241m*\u001b[39margs, data\u001b[38;5;241m=\u001b[39mdata, \u001b[38;5;241m*\u001b[39m\u001b[38;5;241m*\u001b[39mkwargs)]\n\u001b[1;32m   1633\u001b[0m \u001b[38;5;28;01mfor\u001b[39;00m line \u001b[38;5;129;01min\u001b[39;00m lines:\n\u001b[1;32m   1634\u001b[0m     \u001b[38;5;28mself\u001b[39m\u001b[38;5;241m.\u001b[39madd_line(line)\n",
      "File \u001b[0;32m~/miniforge3/lib/python3.9/site-packages/matplotlib/axes/_base.py:312\u001b[0m, in \u001b[0;36m_process_plot_var_args.__call__\u001b[0;34m(self, data, *args, **kwargs)\u001b[0m\n\u001b[1;32m    310\u001b[0m     this \u001b[38;5;241m+\u001b[39m\u001b[38;5;241m=\u001b[39m args[\u001b[38;5;241m0\u001b[39m],\n\u001b[1;32m    311\u001b[0m     args \u001b[38;5;241m=\u001b[39m args[\u001b[38;5;241m1\u001b[39m:]\n\u001b[0;32m--> 312\u001b[0m \u001b[38;5;28;01myield from\u001b[39;00m \u001b[38;5;28;43mself\u001b[39;49m\u001b[38;5;241;43m.\u001b[39;49m\u001b[43m_plot_args\u001b[49m\u001b[43m(\u001b[49m\u001b[43mthis\u001b[49m\u001b[43m,\u001b[49m\u001b[43m \u001b[49m\u001b[43mkwargs\u001b[49m\u001b[43m)\u001b[49m\n",
      "File \u001b[0;32m~/miniforge3/lib/python3.9/site-packages/matplotlib/axes/_base.py:498\u001b[0m, in \u001b[0;36m_process_plot_var_args._plot_args\u001b[0;34m(self, tup, kwargs, return_kwargs)\u001b[0m\n\u001b[1;32m    495\u001b[0m     \u001b[38;5;28mself\u001b[39m\u001b[38;5;241m.\u001b[39maxes\u001b[38;5;241m.\u001b[39myaxis\u001b[38;5;241m.\u001b[39mupdate_units(y)\n\u001b[1;32m    497\u001b[0m \u001b[38;5;28;01mif\u001b[39;00m x\u001b[38;5;241m.\u001b[39mshape[\u001b[38;5;241m0\u001b[39m] \u001b[38;5;241m!=\u001b[39m y\u001b[38;5;241m.\u001b[39mshape[\u001b[38;5;241m0\u001b[39m]:\n\u001b[0;32m--> 498\u001b[0m     \u001b[38;5;28;01mraise\u001b[39;00m \u001b[38;5;167;01mValueError\u001b[39;00m(\u001b[38;5;124mf\u001b[39m\u001b[38;5;124m\"\u001b[39m\u001b[38;5;124mx and y must have same first dimension, but \u001b[39m\u001b[38;5;124m\"\u001b[39m\n\u001b[1;32m    499\u001b[0m                      \u001b[38;5;124mf\u001b[39m\u001b[38;5;124m\"\u001b[39m\u001b[38;5;124mhave shapes \u001b[39m\u001b[38;5;132;01m{\u001b[39;00mx\u001b[38;5;241m.\u001b[39mshape\u001b[38;5;132;01m}\u001b[39;00m\u001b[38;5;124m and \u001b[39m\u001b[38;5;132;01m{\u001b[39;00my\u001b[38;5;241m.\u001b[39mshape\u001b[38;5;132;01m}\u001b[39;00m\u001b[38;5;124m\"\u001b[39m)\n\u001b[1;32m    500\u001b[0m \u001b[38;5;28;01mif\u001b[39;00m x\u001b[38;5;241m.\u001b[39mndim \u001b[38;5;241m>\u001b[39m \u001b[38;5;241m2\u001b[39m \u001b[38;5;129;01mor\u001b[39;00m y\u001b[38;5;241m.\u001b[39mndim \u001b[38;5;241m>\u001b[39m \u001b[38;5;241m2\u001b[39m:\n\u001b[1;32m    501\u001b[0m     \u001b[38;5;28;01mraise\u001b[39;00m \u001b[38;5;167;01mValueError\u001b[39;00m(\u001b[38;5;124mf\u001b[39m\u001b[38;5;124m\"\u001b[39m\u001b[38;5;124mx and y can be no greater than 2D, but have \u001b[39m\u001b[38;5;124m\"\u001b[39m\n\u001b[1;32m    502\u001b[0m                      \u001b[38;5;124mf\u001b[39m\u001b[38;5;124m\"\u001b[39m\u001b[38;5;124mshapes \u001b[39m\u001b[38;5;132;01m{\u001b[39;00mx\u001b[38;5;241m.\u001b[39mshape\u001b[38;5;132;01m}\u001b[39;00m\u001b[38;5;124m and \u001b[39m\u001b[38;5;132;01m{\u001b[39;00my\u001b[38;5;241m.\u001b[39mshape\u001b[38;5;132;01m}\u001b[39;00m\u001b[38;5;124m\"\u001b[39m)\n",
      "\u001b[0;31mValueError\u001b[0m: x and y must have same first dimension, but have shapes (4,) and (1,)"
     ]
    },
    {
     "data": {
      "image/png": "[encoded data removed]",
      "text/plain": [
       "<Figure size 432x288 with 1 Axes>"
      ]
     },
     "metadata": {
      "needs_background": "light"
     },
     "output_type": "display_data"
    }
   ],
   "source": [
    "test = [0.8400000000000001, 0.836, 0.834, 0.833]\n",
    "\n",
    "\n",
    "# X축 선택한 파라미터, y축 정확도를 갖는 그래프를 생성한다\n",
    "plt.plot(par_C, test, label= 'k-fold accuracy', marker='^')\n",
    "plt.plot(par_C, cv_dict, label= 'cross_validation accuracy', marker='^')\n",
    "plt.xlabel('Parameter C')\n",
    "plt.ylabel('accuracy')\n",
    "plt.legend()"
   ]
  },
  {
   "cell_type": "markdown",
   "metadata": {
    "id": "2xvEdCHAfH0g"
   },
   "source": [
    "**설명 작성**  \n",
    "- 최적의 파라미터:\n",
    "- 설명:"
   ]
  },
  {
   "cell_type": "code",
   "execution_count": null,
   "metadata": {
    "colab": {
     "base_uri": "https://localhost:8080/",
     "height": 699
    },
    "id": "80a5iRmvfG6H",
    "outputId": "76075897-59e7-4c20-d387-85ae62a901a5"
   },
   "outputs": [],
   "source": [
    "### 문제 3-2 ###\n",
    "### 코드 작성 ###\n",
    "from sklearn.model_selection import cross_val_score\n",
    "from sklearn.model_selection import LeaveOneOut\n",
    "from sklearn.ensemble import RandomForestClassifier\n",
    "from sklearn.metrics import accuracy_score\n",
    "\n",
    "# test data를 제외한 90%의 데이터를 사용한다는 조건에 따른 test_size 설정\n",
    "X_train, X_test, y_train, y_test = train_test_split(X, y, test_size=0.1, random_state = 8)\n",
    "X_train, X_val, y_train, y_val = train_test_split(X_train, y_train, test_size=1/9, random_state = 30)\n",
    "\n",
    "# model명 loocv로 저장\n",
    "loocv = LeaveOneOut()\n",
    "\n",
    "# 파라미터 C\n",
    "par_C = [0.01, 0.1, 1, 100]\n",
    "\n",
    "# linear SVM 모델의 파라미터 C, 반복문을 통해 확인\n",
    "for variableC in par_C:\n",
    "  model = SVC(C= variableC).fit(X_train, y_train)\n",
    "  score_train = model.score(X_train, y_train)\n",
    "  score_test = model.score(X_test, y_test)\n",
    "  print(\"linear SVM : C:{}, traing score:{:2f}, test score:{:2f} \\n\".format(variableC, score_train, score_test))\n",
    "\n",
    "  # cross validation scores 측정\n",
    "  cv2_score = cross_val_score(model, X_train, y_train, cv = loocv)\n",
    "\n",
    "  # cv_score 값을 저장하기 위한 딕셔너리 생성\n",
    "  cv2_dict = {}\n",
    "  cv2_dict[variableC] = cv2_score\n",
    "\n",
    "\n",
    "y_true, y_pred = list(), list()\n",
    "\n",
    "for train, test in loocv.split(X):\n",
    "  X_train, X_test = X.iloc[train, :], X.iloc[test, :]\n",
    "  y_train, y_test = y[train], y[test]\n",
    "\n",
    "  # fit model\n",
    "  model2 = RandomForestClassifier(random_state=25)\n",
    "  model2.fit(X_train, y_train)\n",
    "\n",
    "  # evaluate model\n",
    "  yhat = model.predict(X_test)\n",
    "\n",
    "  y_true.append(y_test[0])\n",
    "  y_pred.append(yhat[0])\n",
    "\n",
    "  acc = accuracy_score(y_true, y_pred)\n",
    "  print('Accuracy: %.4f'% acc)\n"
   ]
  },
  {
   "cell_type": "markdown",
   "metadata": {
    "id": "m9BqByTFfLIG"
   },
   "source": [
    "**설명 작성**  \n",
    "- 최적의 파라미터:\n",
    "- 설명:"
   ]
  },
  {
   "cell_type": "markdown",
   "metadata": {
    "id": "qUzl5Lcz4Zlj"
   },
   "source": [
    "---"
   ]
  },
  {
   "cell_type": "markdown",
   "metadata": {
    "id": "szX5GgcXfnM1"
   },
   "source": [
    "## 문제4 Regression\n",
    "문제 4 에서는 캘리포니아 주택 가격 데이터셋을 사용합니다.   \n",
    "학습을 통해 주택 가격을 예측하는 문제입니다.  \n",
    "데이터에 대한 자세한 설명은 아래 코드의 description을 참고해주세요."
   ]
  },
  {
   "cell_type": "code",
   "execution_count": null,
   "metadata": {
    "id": "Gwwkd_GO4Zlj"
   },
   "outputs": [],
   "source": [
    "from sklearn.datasets import fetch_california_housing\n",
    "housing = fetch_california_housing()\n",
    "print(housing.DESCR)"
   ]
  },
  {
   "cell_type": "code",
   "execution_count": null,
   "metadata": {
    "id": "beqDbNzQi0PR"
   },
   "outputs": [],
   "source": [
    "df = pd.DataFrame(housing.data, columns=housing.feature_names)\n",
    "df['target'] = housing.target"
   ]
  },
  {
   "cell_type": "code",
   "execution_count": null,
   "metadata": {
    "id": "Y-4fgqWCkd-o"
   },
   "outputs": [],
   "source": [
    "print(df.head())"
   ]
  },
  {
   "cell_type": "code",
   "execution_count": null,
   "metadata": {
    "id": "zoUn3ZXdkimJ"
   },
   "outputs": [],
   "source": [
    "print(df.shape) #(20640, 9)\n",
    "print(df.describe())"
   ]
  },
  {
   "cell_type": "markdown",
   "metadata": {
    "id": "3U8somVc4Zlk"
   },
   "source": [
    "### 문제 4-1 : Adjusted R2 Score\n",
    "- sklearn.metrics 패키지를 사용하여 ```def adjr2```에 Adjusted R2 Score를 구하는 함수를 작성한다.\n",
    "- ```def r2```를 사용하여 ```adjr2```를 구현한다.\n",
    "- 코드 작성 영역 이외의 코드를 수정하지 않는다.\n",
    "- 주어진 함수 파라미터를 사용하여 구현한다."
   ]
  },
  {
   "cell_type": "code",
   "execution_count": null,
   "metadata": {
    "id": "JbGUADBK4Zlk"
   },
   "outputs": [],
   "source": [
    "from sklearn.metrics import r2_score"
   ]
  },
  {
   "cell_type": "code",
   "execution_count": null,
   "metadata": {
    "id": "WvqWUQl24Zlk"
   },
   "outputs": [],
   "source": [
    "import numpy as np\n",
    "\n",
    "def r2(actual, predicted):\n",
    "    \"\"\" R2 Score \"\"\"\n",
    "    return r2_score(actual, predicted)\n",
    "\n",
    "###################################\n",
    "def adjr2(actual, predicted, rowcount, featurecount):\n",
    "############ 문제 4-1 ##############\n",
    "    \"\"\" Adjusted R2 Score \"\"\"\n",
    "\n",
    "####################################\n",
    "####################################"
   ]
  },
  {
   "cell_type": "markdown",
   "metadata": {
    "id": "P-6ZikyP4Zlk"
   },
   "source": [
    "### 문제 4-2 : Feature Selection\n",
    "- sklearn 패키지를 사용하여 feature selection을 수행하는 함수 ```forward_selection```을 구현한다.\n",
    "- Linear Regressor 을 사용하여 feature selection이 어떻게 달라지는 지 관찰한다.\n",
    "- 코드 작성 영역 이외의 코드를 수정하지 않는다.\n",
    "- 주어진 변수들, 자료들을 최대한 활용하여 코드를 작성한다."
   ]
  },
  {
   "cell_type": "code",
   "execution_count": null,
   "metadata": {
    "id": "WjqDsXSA4Zlk"
   },
   "outputs": [],
   "source": [
    "from sklearn.linear_model import LinearRegression\n",
    "import pandas as pd"
   ]
  },
  {
   "cell_type": "code",
   "execution_count": null,
   "metadata": {
    "id": "oUf_G0iF4Zlk"
   },
   "outputs": [],
   "source": [
    "X = df.drop(columns=['target'])\n",
    "y = df['target']\n",
    "y=y.astype('int')\n",
    "print(X.shape)\n",
    "print(y.shape)"
   ]
  },
  {
   "cell_type": "code",
   "execution_count": null,
   "metadata": {
    "collapsed": true,
    "id": "tAQiA64x4Zlk",
    "jupyter": {
     "outputs_hidden": true
    }
   },
   "outputs": [],
   "source": [
    "def forward_selection(X, y): # X: train data, y: train data's target\n",
    "    initial_list = []\n",
    "    included = list(initial_list) # 포함되어야 하는 feature\n",
    "    best_r2 = 0 # 가장 높은 r2 score를 저장\n",
    "\n",
    "    while True:\n",
    "\n",
    "        changed = False # while 문을 빠져나가는 조건으로 활용\n",
    "        excluded = list(set(X.columns)-set(included)) # included list에 없는 column names 저장하는 리스트\n",
    "        new_scores = dict.fromkeys(excluded)\n",
    "\n",
    "        for new_column in excluded:\n",
    "            \n",
    "            model = LinearRegression()\n",
    "\n",
    "            ###########################################\n",
    "            ###### 코드 작성 영역 외 수정 하지 말 것 #########\n",
    "            ################ 문제 4-2 ##################\n",
    "\n",
    "\n",
    "\n",
    "\n",
    "        ##############################################\n",
    "        ##############################################\n",
    " \n",
    "    return included\n",
    "\n",
    "selected_features = forward_selection(X, y)\n",
    "print('selected_features:', selected_features)"
   ]
  },
  {
   "cell_type": "markdown",
   "metadata": {
    "id": "0OGUhsrgEwR_"
   },
   "source": [
    "### 문제 4-3: Regularized Model\n",
    "- Scikit-learn 라이브러리를 사용하여 Ridge Regression과 Lasso Regression 모델을 만든다.\n",
    "- train : validation : test **데이터셋의 비율을 8:1:1**로 설정한다.\n",
    "- 문제 4-1의 **forward selection을 통해 얻은 feature만**을 가진 데이터를 사용한다.\n",
    "- 다양한 alpha 값에 대해 validation dataset을 사용하여 각 모델에 대한 **최적의 alpha 값을 찾고 찾은 최적의 alpha 값을 텍스트 셀에 작성**한다.\n",
    "- alpha 값은 아래의 리스트를 사용한다.  \n",
    "```alpha = [0.0001, 0.001,0.01,0.1,1,10, 100, 1000, 10000, 100000]```\n",
    "- alpha 값에 대한 R2 score의 변화를 그래프로 나타낸다.\n",
    "  * **x축: alpha 값**\n",
    "  * **y축: R2 score 값**\n",
    "  * 파란색 선: Ridge 결과, 빨간색 선: Lasso 결과\n",
    "  * 그래프에 **legend**가 포함되어 있어야 한다. \n",
    "- **train과 validation dataset을 합하여 train set을 만든 후 최종 학습 결과를 도출**한다.\n",
    "  * 최적의 alpha 값을 찾을 때 사용한 test set은 변하지 않는다. \n",
    "  * r2 score를 사용하여 train set에 대한 prediction 결과와 test set에 대한 prediction 결과를 구해 print 한다."
   ]
  },
  {
   "cell_type": "code",
   "execution_count": null,
   "metadata": {
    "id": "NEx72fQh4Zll"
   },
   "outputs": [],
   "source": [
    "from sklearn.linear_model import LinearRegression, Ridge, Lasso\n",
    "from sklearn.metrics import r2_score\n",
    "import numpy as np"
   ]
  },
  {
   "cell_type": "code",
   "execution_count": null,
   "metadata": {
    "id": "2ZJbj9r2Z4LP"
   },
   "outputs": [],
   "source": [
    "### 문제 4-3 ###\n",
    "### 코드 작성 ###"
   ]
  },
  {
   "cell_type": "code",
   "execution_count": null,
   "metadata": {
    "id": "Ym11BIQD4Zll"
   },
   "outputs": [],
   "source": [
    "### 문제 4-3 ###\n",
    "### 그래프 작성 ###"
   ]
  },
  {
   "cell_type": "markdown",
   "metadata": {
    "id": "DS8x1JmkZ6Yl"
   },
   "source": [
    "- Rridge regression 모델 최적의 alpha 값:\n",
    "- Lasso regression 모델 최적의 alpha 값:"
   ]
  },
  {
   "cell_type": "code",
   "execution_count": null,
   "metadata": {
    "id": "zio0ZtfdiXCF"
   },
   "outputs": [],
   "source": [
    "# 최종 결과 출력"
   ]
  }
 ],
 "metadata": {
  "colab": {
   "collapsed_sections": [],
   "provenance": []
  },
  "interpreter": {
   "hash": "72f413c705acf8cc7ca758c5c7ce13adba655409ec2684a2da3bcb9a148f4862"
  },
  "kernelspec": {
   "display_name": "Python 3 (ipykernel)",
   "language": "python",
   "name": "python3"
  },
  "language_info": {
   "codemirror_mode": {
    "name": "ipython",
    "version": 3
   },
   "file_extension": ".py",
   "mimetype": "text/x-python",
   "name": "python",
   "nbconvert_exporter": "python",
   "pygments_lexer": "ipython3",
   "version": "3.9.10"
  },
  "vscode": {
   "interpreter": {
    "hash": "4df1aae1e0b0d359ea12b19172edf8042a617e338541b2db12efe6535537db04"
   }
  }
 },
 "nbformat": 4,
 "nbformat_minor": 4
}
