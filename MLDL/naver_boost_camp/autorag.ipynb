{
 "cells": [
  {
   "cell_type": "code",
   "execution_count": 1,
   "metadata": {},
   "outputs": [
    {
     "data": {
      "text/plain": [
       "True"
      ]
     },
     "execution_count": 1,
     "metadata": {},
     "output_type": "execute_result"
    }
   ],
   "source": [
    "from dotenv import load_dotenv, find_dotenv\n",
    "import nest_asyncio\n",
    "\n",
    "nest_asyncio.apply()\n",
    "\n",
    "load_dotenv(find_dotenv())"
   ]
  },
  {
   "cell_type": "code",
   "execution_count": 5,
   "metadata": {},
   "outputs": [],
   "source": [
    "PARSE_PROJECT_DIR = \"./parse_project_dir\"\n",
    "PARSE_YAML_FILE = \"./parse.yaml\"\n",
    "CHUNK_PROJECT_DIR = \"./chunk_project_dir\"\n",
    "CHUNK_YAML_FILE = \"./chunk.yaml\""
   ]
  },
  {
   "cell_type": "code",
   "execution_count": 2,
   "metadata": {},
   "outputs": [],
   "source": [
    "import pandas as pd\n",
    "\n",
    "# pandas display setting\n",
    "pd.set_option(\"display.max_columns\", None)\n",
    "pd.set_option(\"display.max_rows\", None)\n",
    "pd.set_option(\"display.width\", 1000)\n",
    "pd.set_option(\"display.max_colwidth\", None)"
   ]
  },
  {
   "cell_type": "markdown",
   "metadata": {},
   "source": [
    "## Data Creation"
   ]
  },
  {
   "cell_type": "code",
   "execution_count": null,
   "metadata": {},
   "outputs": [
    {
     "data": {
      "text/html": [
       "<pre style=\"white-space:pre;overflow-x:auto;line-height:normal;font-family:Menlo,'DejaVu Sans Mono',consolas,'Courier New',monospace\"><span style=\"color: #7fbfbf; text-decoration-color: #7fbfbf\">[02/09/25 21:41:54] </span><span style=\"color: #000080; text-decoration-color: #000080\">INFO    </span> <span style=\"font-weight: bold\">[</span>__init__.py:<span style=\"color: #008080; text-decoration-color: #008080; font-weight: bold\">100</span><span style=\"font-weight: bold\">]</span> &gt;&gt; You are using API version of AutoRAG.To use local <a href=\"file:///Users/syshin/Library/Caches/pypoetry/virtualenvs/naver-boostcamp-autorag-AUsRp4k1-py3.11/lib/python3.11/site-packages/autorag/__init__.py\" target=\"_blank\"><span style=\"color: #7f7f7f; text-decoration-color: #7f7f7f\">__init__.py</span></a><span style=\"color: #7f7f7f; text-decoration-color: #7f7f7f\">:</span><a href=\"file:///Users/syshin/Library/Caches/pypoetry/virtualenvs/naver-boostcamp-autorag-AUsRp4k1-py3.11/lib/python3.11/site-packages/autorag/__init__.py#100\" target=\"_blank\"><span style=\"color: #7f7f7f; text-decoration-color: #7f7f7f\">100</span></a>\n",
       "<span style=\"color: #7fbfbf; text-decoration-color: #7fbfbf\">                    </span>         version, run pip install <span style=\"color: #008000; text-decoration-color: #008000\">'AutoRAG[gpu]'</span>                                <span style=\"color: #7f7f7f; text-decoration-color: #7f7f7f\">               </span>\n",
       "</pre>\n"
      ],
      "text/plain": [
       "\u001b[2;36m[02/09/25 21:41:54]\u001b[0m\u001b[2;36m \u001b[0m\u001b[34mINFO    \u001b[0m \u001b[1m[\u001b[0m__init__.py:\u001b[1;36m100\u001b[0m\u001b[1m]\u001b[0m >> You are using API version of AutoRAG.To use local \u001b]8;id=1907;file:///Users/syshin/Library/Caches/pypoetry/virtualenvs/naver-boostcamp-autorag-AUsRp4k1-py3.11/lib/python3.11/site-packages/autorag/__init__.py\u001b\\\u001b[2m__init__.py\u001b[0m\u001b]8;;\u001b\\\u001b[2m:\u001b[0m\u001b]8;id=18527;file:///Users/syshin/Library/Caches/pypoetry/virtualenvs/naver-boostcamp-autorag-AUsRp4k1-py3.11/lib/python3.11/site-packages/autorag/__init__.py#100\u001b\\\u001b[2m100\u001b[0m\u001b]8;;\u001b\\\n",
       "\u001b[2;36m                    \u001b[0m         version, run pip install \u001b[32m'AutoRAG\u001b[0m\u001b[32m[\u001b[0m\u001b[32mgpu\u001b[0m\u001b[32m]\u001b[0m\u001b[32m'\u001b[0m                                \u001b[2m               \u001b[0m\n"
      ]
     },
     "metadata": {},
     "output_type": "display_data"
    },
    {
     "data": {
      "text/html": [
       "<pre style=\"white-space:pre;overflow-x:auto;line-height:normal;font-family:Menlo,'DejaVu Sans Mono',consolas,'Courier New',monospace\"><span style=\"color: #7fbfbf; text-decoration-color: #7fbfbf\">                    </span><span style=\"color: #000080; text-decoration-color: #000080\">INFO    </span> <span style=\"font-weight: bold\">[</span>__init__.py:<span style=\"color: #008080; text-decoration-color: #008080; font-weight: bold\">128</span><span style=\"font-weight: bold\">]</span> &gt;&gt; You are using API version of AutoRAG.To use local <a href=\"file:///Users/syshin/Library/Caches/pypoetry/virtualenvs/naver-boostcamp-autorag-AUsRp4k1-py3.11/lib/python3.11/site-packages/autorag/__init__.py\" target=\"_blank\"><span style=\"color: #7f7f7f; text-decoration-color: #7f7f7f\">__init__.py</span></a><span style=\"color: #7f7f7f; text-decoration-color: #7f7f7f\">:</span><a href=\"file:///Users/syshin/Library/Caches/pypoetry/virtualenvs/naver-boostcamp-autorag-AUsRp4k1-py3.11/lib/python3.11/site-packages/autorag/__init__.py#128\" target=\"_blank\"><span style=\"color: #7f7f7f; text-decoration-color: #7f7f7f\">128</span></a>\n",
       "<span style=\"color: #7fbfbf; text-decoration-color: #7fbfbf\">                    </span>         version, run pip install <span style=\"color: #008000; text-decoration-color: #008000\">'AutoRAG[gpu]'</span>                                <span style=\"color: #7f7f7f; text-decoration-color: #7f7f7f\">               </span>\n",
       "</pre>\n"
      ],
      "text/plain": [
       "\u001b[2;36m                   \u001b[0m\u001b[2;36m \u001b[0m\u001b[34mINFO    \u001b[0m \u001b[1m[\u001b[0m__init__.py:\u001b[1;36m128\u001b[0m\u001b[1m]\u001b[0m >> You are using API version of AutoRAG.To use local \u001b]8;id=703325;file:///Users/syshin/Library/Caches/pypoetry/virtualenvs/naver-boostcamp-autorag-AUsRp4k1-py3.11/lib/python3.11/site-packages/autorag/__init__.py\u001b\\\u001b[2m__init__.py\u001b[0m\u001b]8;;\u001b\\\u001b[2m:\u001b[0m\u001b]8;id=230037;file:///Users/syshin/Library/Caches/pypoetry/virtualenvs/naver-boostcamp-autorag-AUsRp4k1-py3.11/lib/python3.11/site-packages/autorag/__init__.py#128\u001b\\\u001b[2m128\u001b[0m\u001b]8;;\u001b\\\n",
       "\u001b[2;36m                    \u001b[0m         version, run pip install \u001b[32m'AutoRAG\u001b[0m\u001b[32m[\u001b[0m\u001b[32mgpu\u001b[0m\u001b[32m]\u001b[0m\u001b[32m'\u001b[0m                                \u001b[2m               \u001b[0m\n"
      ]
     },
     "metadata": {},
     "output_type": "display_data"
    },
    {
     "name": "stderr",
     "output_type": "stream",
     "text": [
      "Exception ignored in: <bound method IPythonKernel._clean_thread_parent_frames of <ipykernel.ipkernel.IPythonKernel object at 0x107126f50>>\n",
      "Traceback (most recent call last):\n",
      "  File \"/Users/syshin/Library/Caches/pypoetry/virtualenvs/naver-boostcamp-autorag-AUsRp4k1-py3.11/lib/python3.11/site-packages/ipykernel/ipkernel.py\", line 775, in _clean_thread_parent_frames\n",
      "    def _clean_thread_parent_frames(\n",
      "\n",
      "KeyboardInterrupt: \n"
     ]
    },
    {
     "data": {
      "text/html": [
       "<pre style=\"white-space:pre;overflow-x:auto;line-height:normal;font-family:Menlo,'DejaVu Sans Mono',consolas,'Courier New',monospace\"><span style=\"color: #7fbfbf; text-decoration-color: #7fbfbf\">[02/09/25 21:41:55] </span><span style=\"color: #000080; text-decoration-color: #000080\">INFO    </span> <span style=\"font-weight: bold\">[</span>parser.py:<span style=\"color: #008080; text-decoration-color: #008080; font-weight: bold\">29</span><span style=\"font-weight: bold\">]</span> &gt;&gt; Parsing Start<span style=\"color: #808000; text-decoration-color: #808000\">...</span>                                        <a href=\"file:///Users/syshin/Library/Caches/pypoetry/virtualenvs/naver-boostcamp-autorag-AUsRp4k1-py3.11/lib/python3.11/site-packages/autorag/parser.py\" target=\"_blank\"><span style=\"color: #7f7f7f; text-decoration-color: #7f7f7f\">parser.py</span></a><span style=\"color: #7f7f7f; text-decoration-color: #7f7f7f\">:</span><a href=\"file:///Users/syshin/Library/Caches/pypoetry/virtualenvs/naver-boostcamp-autorag-AUsRp4k1-py3.11/lib/python3.11/site-packages/autorag/parser.py#29\" target=\"_blank\"><span style=\"color: #7f7f7f; text-decoration-color: #7f7f7f\">29</span></a>\n",
       "</pre>\n"
      ],
      "text/plain": [
       "\u001b[2;36m[02/09/25 21:41:55]\u001b[0m\u001b[2;36m \u001b[0m\u001b[34mINFO    \u001b[0m \u001b[1m[\u001b[0mparser.py:\u001b[1;36m29\u001b[0m\u001b[1m]\u001b[0m >> Parsing Start\u001b[33m...\u001b[0m                                        \u001b]8;id=376729;file:///Users/syshin/Library/Caches/pypoetry/virtualenvs/naver-boostcamp-autorag-AUsRp4k1-py3.11/lib/python3.11/site-packages/autorag/parser.py\u001b\\\u001b[2mparser.py\u001b[0m\u001b]8;;\u001b\\\u001b[2m:\u001b[0m\u001b]8;id=437456;file:///Users/syshin/Library/Caches/pypoetry/virtualenvs/naver-boostcamp-autorag-AUsRp4k1-py3.11/lib/python3.11/site-packages/autorag/parser.py#29\u001b\\\u001b[2m29\u001b[0m\u001b]8;;\u001b\\\n"
      ]
     },
     "metadata": {},
     "output_type": "display_data"
    },
    {
     "data": {
      "text/html": [
       "<pre style=\"white-space:pre;overflow-x:auto;line-height:normal;font-family:Menlo,'DejaVu Sans Mono',consolas,'Courier New',monospace\"><span style=\"color: #7fbfbf; text-decoration-color: #7fbfbf\">                    </span><span style=\"color: #000080; text-decoration-color: #000080\">INFO    </span> <span style=\"font-weight: bold\">[</span>base.py:<span style=\"color: #008080; text-decoration-color: #008080; font-weight: bold\">23</span><span style=\"font-weight: bold\">]</span> &gt;&gt; Running parser - langchain_parse module<span style=\"color: #808000; text-decoration-color: #808000\">...</span>                  <a href=\"file:///Users/syshin/Library/Caches/pypoetry/virtualenvs/naver-boostcamp-autorag-AUsRp4k1-py3.11/lib/python3.11/site-packages/autorag/data/parse/base.py\" target=\"_blank\"><span style=\"color: #7f7f7f; text-decoration-color: #7f7f7f\">base.py</span></a><span style=\"color: #7f7f7f; text-decoration-color: #7f7f7f\">:</span><a href=\"file:///Users/syshin/Library/Caches/pypoetry/virtualenvs/naver-boostcamp-autorag-AUsRp4k1-py3.11/lib/python3.11/site-packages/autorag/data/parse/base.py#23\" target=\"_blank\"><span style=\"color: #7f7f7f; text-decoration-color: #7f7f7f\">23</span></a>\n",
       "</pre>\n"
      ],
      "text/plain": [
       "\u001b[2;36m                   \u001b[0m\u001b[2;36m \u001b[0m\u001b[34mINFO    \u001b[0m \u001b[1m[\u001b[0mbase.py:\u001b[1;36m23\u001b[0m\u001b[1m]\u001b[0m >> Running parser - langchain_parse module\u001b[33m...\u001b[0m                  \u001b]8;id=23112;file:///Users/syshin/Library/Caches/pypoetry/virtualenvs/naver-boostcamp-autorag-AUsRp4k1-py3.11/lib/python3.11/site-packages/autorag/data/parse/base.py\u001b\\\u001b[2mbase.py\u001b[0m\u001b]8;;\u001b\\\u001b[2m:\u001b[0m\u001b]8;id=793765;file:///Users/syshin/Library/Caches/pypoetry/virtualenvs/naver-boostcamp-autorag-AUsRp4k1-py3.11/lib/python3.11/site-packages/autorag/data/parse/base.py#23\u001b\\\u001b[2m23\u001b[0m\u001b]8;;\u001b\\\n"
      ]
     },
     "metadata": {},
     "output_type": "display_data"
    },
    {
     "name": "stdout",
     "output_type": "stream",
     "text": [
      "\u001b[2;36m[02/09/25 21:42:01]\u001b[0m\u001b[2;36m \u001b[0m\u001b[34mINFO    \u001b[0m \u001b[1m[\u001b[0m__init__.py:\u001b[1;36m100\u001b[0m\u001b[1m]\u001b[0m >> You are using  \u001b]8;id=642416;file:///Users/syshin/Library/Caches/pypoetry/virtualenvs/naver-boostcamp-autorag-AUsRp4k1-py3.11/lib/python3.11/site-packages/autorag/__init__.py\u001b\\\u001b[2m__init__.py\u001b[0m\u001b]8;;\u001b\\\u001b[2m:\u001b[0m\u001b]8;id=369792;file:///Users/syshin/Library/Caches/pypoetry/virtualenvs/naver-boostcamp-autorag-AUsRp4k1-py3.11/lib/python3.11/site-packages/autorag/__init__.py#100\u001b\\\u001b[2m100\u001b[0m\u001b]8;;\u001b\\\n",
      "\u001b[2;36m                    \u001b[0m         API version of AutoRAG.To use local \u001b[2m               \u001b[0m\n",
      "\u001b[2;36m                    \u001b[0m         version, run pip install            \u001b[2m               \u001b[0m\n",
      "\u001b[2;36m                    \u001b[0m         \u001b[32m'AutoRAG\u001b[0m\u001b[32m[\u001b[0m\u001b[32mgpu\u001b[0m\u001b[32m]\u001b[0m\u001b[32m'\u001b[0m                      \u001b[2m               \u001b[0m\n",
      "\u001b[2;36m                   \u001b[0m\u001b[2;36m \u001b[0m\u001b[34mINFO    \u001b[0m \u001b[1m[\u001b[0m__init__.py:\u001b[1;36m128\u001b[0m\u001b[1m]\u001b[0m >> You are using  \u001b]8;id=169463;file:///Users/syshin/Library/Caches/pypoetry/virtualenvs/naver-boostcamp-autorag-AUsRp4k1-py3.11/lib/python3.11/site-packages/autorag/__init__.py\u001b\\\u001b[2m__init__.py\u001b[0m\u001b]8;;\u001b\\\u001b[2m:\u001b[0m\u001b]8;id=830558;file:///Users/syshin/Library/Caches/pypoetry/virtualenvs/naver-boostcamp-autorag-AUsRp4k1-py3.11/lib/python3.11/site-packages/autorag/__init__.py#128\u001b\\\u001b[2m128\u001b[0m\u001b]8;;\u001b\\\n",
      "\u001b[2;36m                    \u001b[0m         API version of AutoRAG.To use local \u001b[2m               \u001b[0m\n",
      "\u001b[2;36m                    \u001b[0m         version, run pip install            \u001b[2m               \u001b[0m\n",
      "\u001b[2;36m                    \u001b[0m         \u001b[32m'AutoRAG\u001b[0m\u001b[32m[\u001b[0m\u001b[32mgpu\u001b[0m\u001b[32m]\u001b[0m\u001b[32m'\u001b[0m                      \u001b[2m               \u001b[0m\n",
      "\u001b[2;36m[02/09/25 21:42:01]\u001b[0m\u001b[2;36m \u001b[0m\u001b[34mINFO    \u001b[0m \u001b[1m[\u001b[0m__init__.py:\u001b[1;36m100\u001b[0m\u001b[1m]\u001b[0m >> You are using  \u001b]8;id=839287;file:///Users/syshin/Library/Caches/pypoetry/virtualenvs/naver-boostcamp-autorag-AUsRp4k1-py3.11/lib/python3.11/site-packages/autorag/__init__.py\u001b\\\u001b[2m__init__.py\u001b[0m\u001b]8;;\u001b\\\u001b[2m:\u001b[0m\u001b]8;id=386969;file:///Users/syshin/Library/Caches/pypoetry/virtualenvs/naver-boostcamp-autorag-AUsRp4k1-py3.11/lib/python3.11/site-packages/autorag/__init__.py#100\u001b\\\u001b[2m100\u001b[0m\u001b]8;;\u001b\\\n",
      "\u001b[2;36m                    \u001b[0m         API version of AutoRAG.To use local \u001b[2m               \u001b[0m\n",
      "\u001b[2;36m                    \u001b[0m         version, run pip install            \u001b[2m               \u001b[0m\n",
      "\u001b[2;36m                    \u001b[0m         \u001b[32m'AutoRAG\u001b[0m\u001b[32m[\u001b[0m\u001b[32mgpu\u001b[0m\u001b[32m]\u001b[0m\u001b[32m'\u001b[0m                      \u001b[2m               \u001b[0m\n",
      "\u001b[2;36m                   \u001b[0m\u001b[2;36m \u001b[0m\u001b[34mINFO    \u001b[0m \u001b[1m[\u001b[0m__init__.py:\u001b[1;36m128\u001b[0m\u001b[1m]\u001b[0m >> You are using  \u001b]8;id=344062;file:///Users/syshin/Library/Caches/pypoetry/virtualenvs/naver-boostcamp-autorag-AUsRp4k1-py3.11/lib/python3.11/site-packages/autorag/__init__.py\u001b\\\u001b[2m__init__.py\u001b[0m\u001b]8;;\u001b\\\u001b[2m:\u001b[0m\u001b]8;id=798274;file:///Users/syshin/Library/Caches/pypoetry/virtualenvs/naver-boostcamp-autorag-AUsRp4k1-py3.11/lib/python3.11/site-packages/autorag/__init__.py#128\u001b\\\u001b[2m128\u001b[0m\u001b]8;;\u001b\\\n",
      "\u001b[2;36m                    \u001b[0m         API version of AutoRAG.To use local \u001b[2m               \u001b[0m\n",
      "\u001b[2;36m                    \u001b[0m         version, run pip install            \u001b[2m               \u001b[0m\n",
      "\u001b[2;36m                    \u001b[0m         \u001b[32m'AutoRAG\u001b[0m\u001b[32m[\u001b[0m\u001b[32mgpu\u001b[0m\u001b[32m]\u001b[0m\u001b[32m'\u001b[0m                      \u001b[2m               \u001b[0m\n",
      "\u001b[2;36m[02/09/25 21:42:01]\u001b[0m\u001b[2;36m \u001b[0m\u001b[34mINFO    \u001b[0m \u001b[1m[\u001b[0m__init__.py:\u001b[1;36m100\u001b[0m\u001b[1m]\u001b[0m >> You are using  \u001b]8;id=461607;file:///Users/syshin/Library/Caches/pypoetry/virtualenvs/naver-boostcamp-autorag-AUsRp4k1-py3.11/lib/python3.11/site-packages/autorag/__init__.py\u001b\\\u001b[2m__init__.py\u001b[0m\u001b]8;;\u001b\\\u001b[2m:\u001b[0m\u001b]8;id=726386;file:///Users/syshin/Library/Caches/pypoetry/virtualenvs/naver-boostcamp-autorag-AUsRp4k1-py3.11/lib/python3.11/site-packages/autorag/__init__.py#100\u001b\\\u001b[2m100\u001b[0m\u001b]8;;\u001b\\\n",
      "\u001b[2;36m                    \u001b[0m         API version of AutoRAG.To use local \u001b[2m               \u001b[0m\n",
      "\u001b[2;36m                    \u001b[0m         version, run pip install            \u001b[2m               \u001b[0m\n",
      "\u001b[2;36m                    \u001b[0m         \u001b[32m'AutoRAG\u001b[0m\u001b[32m[\u001b[0m\u001b[32mgpu\u001b[0m\u001b[32m]\u001b[0m\u001b[32m'\u001b[0m                      \u001b[2m               \u001b[0m\n",
      "\u001b[2;36m                   \u001b[0m\u001b[2;36m \u001b[0m\u001b[34mINFO    \u001b[0m \u001b[1m[\u001b[0m__init__.py:\u001b[1;36m128\u001b[0m\u001b[1m]\u001b[0m >> You are using  \u001b]8;id=439375;file:///Users/syshin/Library/Caches/pypoetry/virtualenvs/naver-boostcamp-autorag-AUsRp4k1-py3.11/lib/python3.11/site-packages/autorag/__init__.py\u001b\\\u001b[2m__init__.py\u001b[0m\u001b]8;;\u001b\\\u001b[2m:\u001b[0m\u001b]8;id=205173;file:///Users/syshin/Library/Caches/pypoetry/virtualenvs/naver-boostcamp-autorag-AUsRp4k1-py3.11/lib/python3.11/site-packages/autorag/__init__.py#128\u001b\\\u001b[2m128\u001b[0m\u001b]8;;\u001b\\\n",
      "\u001b[2;36m                    \u001b[0m         API version of AutoRAG.To use local \u001b[2m               \u001b[0m\n",
      "\u001b[2;36m                    \u001b[0m         version, run pip install            \u001b[2m               \u001b[0m\n",
      "\u001b[2;36m                    \u001b[0m         \u001b[32m'AutoRAG\u001b[0m\u001b[32m[\u001b[0m\u001b[32mgpu\u001b[0m\u001b[32m]\u001b[0m\u001b[32m'\u001b[0m                      \u001b[2m               \u001b[0m\n",
      "\u001b[2;36m[02/09/25 21:42:01]\u001b[0m\u001b[2;36m \u001b[0m\u001b[34mINFO    \u001b[0m \u001b[1m[\u001b[0m__init__.py:\u001b[1;36m100\u001b[0m\u001b[1m]\u001b[0m >> You are using  \u001b]8;id=901126;file:///Users/syshin/Library/Caches/pypoetry/virtualenvs/naver-boostcamp-autorag-AUsRp4k1-py3.11/lib/python3.11/site-packages/autorag/__init__.py\u001b\\\u001b[2m__init__.py\u001b[0m\u001b]8;;\u001b\\\u001b[2m:\u001b[0m\u001b]8;id=576805;file:///Users/syshin/Library/Caches/pypoetry/virtualenvs/naver-boostcamp-autorag-AUsRp4k1-py3.11/lib/python3.11/site-packages/autorag/__init__.py#100\u001b\\\u001b[2m100\u001b[0m\u001b]8;;\u001b\\\n",
      "\u001b[2;36m                    \u001b[0m         API version of AutoRAG.To use local \u001b[2m               \u001b[0m\n",
      "\u001b[2;36m                    \u001b[0m         version, run pip install            \u001b[2m               \u001b[0m\n",
      "\u001b[2;36m                    \u001b[0m         \u001b[32m'AutoRAG\u001b[0m\u001b[32m[\u001b[0m\u001b[32mgpu\u001b[0m\u001b[32m]\u001b[0m\u001b[32m'\u001b[0m                      \u001b[2m               \u001b[0m\n",
      "\u001b[2;36m[02/09/25 21:42:01]\u001b[0m\u001b[2;36m \u001b[0m\u001b[34mINFO    \u001b[0m \u001b[1m[\u001b[0m__init__.py:\u001b[1;36m100\u001b[0m\u001b[1m]\u001b[0m >> You are using  \u001b]8;id=899548;file:///Users/syshin/Library/Caches/pypoetry/virtualenvs/naver-boostcamp-autorag-AUsRp4k1-py3.11/lib/python3.11/site-packages/autorag/__init__.py\u001b\\\u001b[2m__init__.py\u001b[0m\u001b]8;;\u001b\\\u001b[2m:\u001b[0m\u001b]8;id=140407;file:///Users/syshin/Library/Caches/pypoetry/virtualenvs/naver-boostcamp-autorag-AUsRp4k1-py3.11/lib/python3.11/site-packages/autorag/__init__.py#100\u001b\\\u001b[2m100\u001b[0m\u001b]8;;\u001b\\\n",
      "\u001b[2;36m                    \u001b[0m         API version of AutoRAG.To use local \u001b[2m               \u001b[0m\n",
      "\u001b[2;36m                    \u001b[0m         version, run pip install            \u001b[2m               \u001b[0m\n",
      "\u001b[2;36m                    \u001b[0m         \u001b[32m'AutoRAG\u001b[0m\u001b[32m[\u001b[0m\u001b[32mgpu\u001b[0m\u001b[32m]\u001b[0m\u001b[32m'\u001b[0m                      \u001b[2m               \u001b[0m\n",
      "\u001b[2;36m                   \u001b[0m\u001b[2;36m \u001b[0m\u001b[34mINFO    \u001b[0m \u001b[1m[\u001b[0m__init__.py:\u001b[1;36m128\u001b[0m\u001b[1m]\u001b[0m >> You are using  \u001b]8;id=802736;file:///Users/syshin/Library/Caches/pypoetry/virtualenvs/naver-boostcamp-autorag-AUsRp4k1-py3.11/lib/python3.11/site-packages/autorag/__init__.py\u001b\\\u001b[2m__init__.py\u001b[0m\u001b]8;;\u001b\\\u001b[2m:\u001b[0m\u001b]8;id=203900;file:///Users/syshin/Library/Caches/pypoetry/virtualenvs/naver-boostcamp-autorag-AUsRp4k1-py3.11/lib/python3.11/site-packages/autorag/__init__.py#128\u001b\\\u001b[2m128\u001b[0m\u001b]8;;\u001b\\\n",
      "\u001b[2;36m                    \u001b[0m         API version of AutoRAG.To use local \u001b[2m               \u001b[0m\n",
      "\u001b[2;36m                    \u001b[0m         version, run pip install            \u001b[2m               \u001b[0m\n",
      "\u001b[2;36m                    \u001b[0m         \u001b[32m'AutoRAG\u001b[0m\u001b[32m[\u001b[0m\u001b[32mgpu\u001b[0m\u001b[32m]\u001b[0m\u001b[32m'\u001b[0m                      \u001b[2m               \u001b[0m\n",
      "\u001b[2;36m                   \u001b[0m\u001b[2;36m \u001b[0m\u001b[34mINFO    \u001b[0m \u001b[1m[\u001b[0m__init__.py:\u001b[1;36m128\u001b[0m\u001b[1m]\u001b[0m >> You are using  \u001b]8;id=84877;file:///Users/syshin/Library/Caches/pypoetry/virtualenvs/naver-boostcamp-autorag-AUsRp4k1-py3.11/lib/python3.11/site-packages/autorag/__init__.py\u001b\\\u001b[2m__init__.py\u001b[0m\u001b]8;;\u001b\\\u001b[2m:\u001b[0m\u001b]8;id=557161;file:///Users/syshin/Library/Caches/pypoetry/virtualenvs/naver-boostcamp-autorag-AUsRp4k1-py3.11/lib/python3.11/site-packages/autorag/__init__.py#128\u001b\\\u001b[2m128\u001b[0m\u001b]8;;\u001b\\\n",
      "\u001b[2;36m                    \u001b[0m         API version of AutoRAG.To use local \u001b[2m               \u001b[0m\n",
      "\u001b[2;36m                    \u001b[0m         version, run pip install            \u001b[2m               \u001b[0m\n",
      "\u001b[2;36m                    \u001b[0m         \u001b[32m'AutoRAG\u001b[0m\u001b[32m[\u001b[0m\u001b[32mgpu\u001b[0m\u001b[32m]\u001b[0m\u001b[32m'\u001b[0m                      \u001b[2m               \u001b[0m\n",
      "\u001b[2;36m[02/09/25 21:42:01]\u001b[0m\u001b[2;36m \u001b[0m\u001b[34mINFO    \u001b[0m \u001b[1m[\u001b[0m__init__.py:\u001b[1;36m100\u001b[0m\u001b[1m]\u001b[0m >> You are using  \u001b]8;id=685372;file:///Users/syshin/Library/Caches/pypoetry/virtualenvs/naver-boostcamp-autorag-AUsRp4k1-py3.11/lib/python3.11/site-packages/autorag/__init__.py\u001b\\\u001b[2m__init__.py\u001b[0m\u001b]8;;\u001b\\\u001b[2m:\u001b[0m\u001b]8;id=840631;file:///Users/syshin/Library/Caches/pypoetry/virtualenvs/naver-boostcamp-autorag-AUsRp4k1-py3.11/lib/python3.11/site-packages/autorag/__init__.py#100\u001b\\\u001b[2m100\u001b[0m\u001b]8;;\u001b\\\n",
      "\u001b[2;36m                    \u001b[0m         API version of AutoRAG.To use local \u001b[2m               \u001b[0m\n",
      "\u001b[2;36m                    \u001b[0m         version, run pip install            \u001b[2m               \u001b[0m\n",
      "\u001b[2;36m                    \u001b[0m         \u001b[32m'AutoRAG\u001b[0m\u001b[32m[\u001b[0m\u001b[32mgpu\u001b[0m\u001b[32m]\u001b[0m\u001b[32m'\u001b[0m                      \u001b[2m               \u001b[0m\n",
      "\u001b[2;36m                   \u001b[0m\u001b[2;36m \u001b[0m\u001b[34mINFO    \u001b[0m \u001b[1m[\u001b[0m__init__.py:\u001b[1;36m128\u001b[0m\u001b[1m]\u001b[0m >> You are using  \u001b]8;id=890978;file:///Users/syshin/Library/Caches/pypoetry/virtualenvs/naver-boostcamp-autorag-AUsRp4k1-py3.11/lib/python3.11/site-packages/autorag/__init__.py\u001b\\\u001b[2m__init__.py\u001b[0m\u001b]8;;\u001b\\\u001b[2m:\u001b[0m\u001b]8;id=911192;file:///Users/syshin/Library/Caches/pypoetry/virtualenvs/naver-boostcamp-autorag-AUsRp4k1-py3.11/lib/python3.11/site-packages/autorag/__init__.py#128\u001b\\\u001b[2m128\u001b[0m\u001b]8;;\u001b\\\n",
      "\u001b[2;36m                    \u001b[0m         API version of AutoRAG.To use local \u001b[2m               \u001b[0m\n",
      "\u001b[2;36m                    \u001b[0m         version, run pip install            \u001b[2m               \u001b[0m\n",
      "\u001b[2;36m                    \u001b[0m         \u001b[32m'AutoRAG\u001b[0m\u001b[32m[\u001b[0m\u001b[32mgpu\u001b[0m\u001b[32m]\u001b[0m\u001b[32m'\u001b[0m                      \u001b[2m               \u001b[0m\n",
      "\u001b[2;36m[02/09/25 21:42:01]\u001b[0m\u001b[2;36m \u001b[0m\u001b[34mINFO    \u001b[0m \u001b[1m[\u001b[0m__init__.py:\u001b[1;36m100\u001b[0m\u001b[1m]\u001b[0m >> You are using  \u001b]8;id=539070;file:///Users/syshin/Library/Caches/pypoetry/virtualenvs/naver-boostcamp-autorag-AUsRp4k1-py3.11/lib/python3.11/site-packages/autorag/__init__.py\u001b\\\u001b[2m__init__.py\u001b[0m\u001b]8;;\u001b\\\u001b[2m:\u001b[0m\u001b]8;id=900327;file:///Users/syshin/Library/Caches/pypoetry/virtualenvs/naver-boostcamp-autorag-AUsRp4k1-py3.11/lib/python3.11/site-packages/autorag/__init__.py#100\u001b\\\u001b[2m100\u001b[0m\u001b]8;;\u001b\\\n",
      "\u001b[2;36m                    \u001b[0m         API version of AutoRAG.To use local \u001b[2m               \u001b[0m\n",
      "\u001b[2;36m                    \u001b[0m         version, run pip install            \u001b[2m               \u001b[0m\n",
      "\u001b[2;36m                    \u001b[0m         \u001b[32m'AutoRAG\u001b[0m\u001b[32m[\u001b[0m\u001b[32mgpu\u001b[0m\u001b[32m]\u001b[0m\u001b[32m'\u001b[0m                      \u001b[2m               \u001b[0m\n",
      "\u001b[2;36m[02/09/25 21:42:01]\u001b[0m\u001b[2;36m \u001b[0m\u001b[34mINFO    \u001b[0m \u001b[1m[\u001b[0m__init__.py:\u001b[1;36m100\u001b[0m\u001b[1m]\u001b[0m >> You are using  \u001b]8;id=413829;file:///Users/syshin/Library/Caches/pypoetry/virtualenvs/naver-boostcamp-autorag-AUsRp4k1-py3.11/lib/python3.11/site-packages/autorag/__init__.py\u001b\\\u001b[2m__init__.py\u001b[0m\u001b]8;;\u001b\\\u001b[2m:\u001b[0m\u001b]8;id=102068;file:///Users/syshin/Library/Caches/pypoetry/virtualenvs/naver-boostcamp-autorag-AUsRp4k1-py3.11/lib/python3.11/site-packages/autorag/__init__.py#100\u001b\\\u001b[2m100\u001b[0m\u001b]8;;\u001b\\\n",
      "\u001b[2;36m                    \u001b[0m         API version of AutoRAG.To use local \u001b[2m               \u001b[0m\n",
      "\u001b[2;36m                    \u001b[0m         version, run pip install            \u001b[2m               \u001b[0m\n",
      "\u001b[2;36m                    \u001b[0m         \u001b[32m'AutoRAG\u001b[0m\u001b[32m[\u001b[0m\u001b[32mgpu\u001b[0m\u001b[32m]\u001b[0m\u001b[32m'\u001b[0m                      \u001b[2m               \u001b[0m\n",
      "\u001b[2;36m                   \u001b[0m\u001b[2;36m \u001b[0m\u001b[34mINFO    \u001b[0m \u001b[1m[\u001b[0m__init__.py:\u001b[1;36m128\u001b[0m\u001b[1m]\u001b[0m >> You are using  \u001b]8;id=433814;file:///Users/syshin/Library/Caches/pypoetry/virtualenvs/naver-boostcamp-autorag-AUsRp4k1-py3.11/lib/python3.11/site-packages/autorag/__init__.py\u001b\\\u001b[2m__init__.py\u001b[0m\u001b]8;;\u001b\\\u001b[2m:\u001b[0m\u001b]8;id=597918;file:///Users/syshin/Library/Caches/pypoetry/virtualenvs/naver-boostcamp-autorag-AUsRp4k1-py3.11/lib/python3.11/site-packages/autorag/__init__.py#128\u001b\\\u001b[2m128\u001b[0m\u001b]8;;\u001b\\\n",
      "\u001b[2;36m                    \u001b[0m         API version of AutoRAG.To use local \u001b[2m               \u001b[0m\n",
      "\u001b[2;36m                    \u001b[0m         version, run pip install            \u001b[2m               \u001b[0m\n",
      "\u001b[2;36m                    \u001b[0m         \u001b[32m'AutoRAG\u001b[0m\u001b[32m[\u001b[0m\u001b[32mgpu\u001b[0m\u001b[32m]\u001b[0m\u001b[32m'\u001b[0m                      \u001b[2m               \u001b[0m\n",
      "\u001b[2;36m                   \u001b[0m\u001b[2;36m \u001b[0m\u001b[34mINFO    \u001b[0m \u001b[1m[\u001b[0m__init__.py:\u001b[1;36m128\u001b[0m\u001b[1m]\u001b[0m >> You are using  \u001b]8;id=984900;file:///Users/syshin/Library/Caches/pypoetry/virtualenvs/naver-boostcamp-autorag-AUsRp4k1-py3.11/lib/python3.11/site-packages/autorag/__init__.py\u001b\\\u001b[2m__init__.py\u001b[0m\u001b]8;;\u001b\\\u001b[2m:\u001b[0m\u001b]8;id=600773;file:///Users/syshin/Library/Caches/pypoetry/virtualenvs/naver-boostcamp-autorag-AUsRp4k1-py3.11/lib/python3.11/site-packages/autorag/__init__.py#128\u001b\\\u001b[2m128\u001b[0m\u001b]8;;\u001b\\\n",
      "\u001b[2;36m                    \u001b[0m         API version of AutoRAG.To use local \u001b[2m               \u001b[0m\n",
      "\u001b[2;36m                    \u001b[0m         version, run pip install            \u001b[2m               \u001b[0m\n",
      "\u001b[2;36m                    \u001b[0m         \u001b[32m'AutoRAG\u001b[0m\u001b[32m[\u001b[0m\u001b[32mgpu\u001b[0m\u001b[32m]\u001b[0m\u001b[32m'\u001b[0m                      \u001b[2m               \u001b[0m\n",
      "\u001b[2;36m[02/09/25 21:42:01]\u001b[0m\u001b[2;36m \u001b[0m\u001b[34mINFO    \u001b[0m \u001b[1m[\u001b[0m__init__.py:\u001b[1;36m100\u001b[0m\u001b[1m]\u001b[0m >> You are using  \u001b]8;id=960228;file:///Users/syshin/Library/Caches/pypoetry/virtualenvs/naver-boostcamp-autorag-AUsRp4k1-py3.11/lib/python3.11/site-packages/autorag/__init__.py\u001b\\\u001b[2m__init__.py\u001b[0m\u001b]8;;\u001b\\\u001b[2m:\u001b[0m\u001b]8;id=752128;file:///Users/syshin/Library/Caches/pypoetry/virtualenvs/naver-boostcamp-autorag-AUsRp4k1-py3.11/lib/python3.11/site-packages/autorag/__init__.py#100\u001b\\\u001b[2m100\u001b[0m\u001b]8;;\u001b\\\n",
      "\u001b[2;36m                    \u001b[0m         API version of AutoRAG.To use local \u001b[2m               \u001b[0m\n",
      "\u001b[2;36m                    \u001b[0m         version, run pip install            \u001b[2m               \u001b[0m\n",
      "\u001b[2;36m                    \u001b[0m         \u001b[32m'AutoRAG\u001b[0m\u001b[32m[\u001b[0m\u001b[32mgpu\u001b[0m\u001b[32m]\u001b[0m\u001b[32m'\u001b[0m                      \u001b[2m               \u001b[0m\n",
      "\u001b[2;36m[02/09/25 21:42:01]\u001b[0m\u001b[2;36m \u001b[0m\u001b[34mINFO    \u001b[0m \u001b[1m[\u001b[0m__init__.py:\u001b[1;36m100\u001b[0m\u001b[1m]\u001b[0m >> You are using  \u001b]8;id=404406;file:///Users/syshin/Library/Caches/pypoetry/virtualenvs/naver-boostcamp-autorag-AUsRp4k1-py3.11/lib/python3.11/site-packages/autorag/__init__.py\u001b\\\u001b[2m__init__.py\u001b[0m\u001b]8;;\u001b\\\u001b[2m:\u001b[0m\u001b]8;id=376692;file:///Users/syshin/Library/Caches/pypoetry/virtualenvs/naver-boostcamp-autorag-AUsRp4k1-py3.11/lib/python3.11/site-packages/autorag/__init__.py#100\u001b\\\u001b[2m100\u001b[0m\u001b]8;;\u001b\\\n",
      "\u001b[2;36m                    \u001b[0m         API version of AutoRAG.To use local \u001b[2m               \u001b[0m\n",
      "\u001b[2;36m                    \u001b[0m         version, run pip install            \u001b[2m               \u001b[0m\n",
      "\u001b[2;36m                    \u001b[0m         \u001b[32m'AutoRAG\u001b[0m\u001b[32m[\u001b[0m\u001b[32mgpu\u001b[0m\u001b[32m]\u001b[0m\u001b[32m'\u001b[0m                      \u001b[2m               \u001b[0m\n",
      "\u001b[2;36m                   \u001b[0m\u001b[2;36m \u001b[0m\u001b[34mINFO    \u001b[0m \u001b[1m[\u001b[0m__init__.py:\u001b[1;36m128\u001b[0m\u001b[1m]\u001b[0m >> You are using  \u001b]8;id=264244;file:///Users/syshin/Library/Caches/pypoetry/virtualenvs/naver-boostcamp-autorag-AUsRp4k1-py3.11/lib/python3.11/site-packages/autorag/__init__.py\u001b\\\u001b[2m__init__.py\u001b[0m\u001b]8;;\u001b\\\u001b[2m:\u001b[0m\u001b]8;id=624697;file:///Users/syshin/Library/Caches/pypoetry/virtualenvs/naver-boostcamp-autorag-AUsRp4k1-py3.11/lib/python3.11/site-packages/autorag/__init__.py#128\u001b\\\u001b[2m128\u001b[0m\u001b]8;;\u001b\\\n",
      "\u001b[2;36m                    \u001b[0m         API version of AutoRAG.To use local \u001b[2m               \u001b[0m\n",
      "\u001b[2;36m                    \u001b[0m         version, run pip install            \u001b[2m               \u001b[0m\n",
      "\u001b[2;36m                    \u001b[0m         \u001b[32m'AutoRAG\u001b[0m\u001b[32m[\u001b[0m\u001b[32mgpu\u001b[0m\u001b[32m]\u001b[0m\u001b[32m'\u001b[0m                      \u001b[2m               \u001b[0m\n",
      "\u001b[2;36m                   \u001b[0m\u001b[2;36m \u001b[0m\u001b[34mINFO    \u001b[0m \u001b[1m[\u001b[0m__init__.py:\u001b[1;36m128\u001b[0m\u001b[1m]\u001b[0m >> You are using  \u001b]8;id=949248;file:///Users/syshin/Library/Caches/pypoetry/virtualenvs/naver-boostcamp-autorag-AUsRp4k1-py3.11/lib/python3.11/site-packages/autorag/__init__.py\u001b\\\u001b[2m__init__.py\u001b[0m\u001b]8;;\u001b\\\u001b[2m:\u001b[0m\u001b]8;id=761918;file:///Users/syshin/Library/Caches/pypoetry/virtualenvs/naver-boostcamp-autorag-AUsRp4k1-py3.11/lib/python3.11/site-packages/autorag/__init__.py#128\u001b\\\u001b[2m128\u001b[0m\u001b]8;;\u001b\\\n",
      "\u001b[2;36m                    \u001b[0m         API version of AutoRAG.To use local \u001b[2m               \u001b[0m\n",
      "\u001b[2;36m                    \u001b[0m         version, run pip install            \u001b[2m               \u001b[0m\n",
      "\u001b[2;36m                    \u001b[0m         \u001b[32m'AutoRAG\u001b[0m\u001b[32m[\u001b[0m\u001b[32mgpu\u001b[0m\u001b[32m]\u001b[0m\u001b[32m'\u001b[0m                      \u001b[2m               \u001b[0m\n",
      "\u001b[2;36m[02/09/25 21:42:01]\u001b[0m\u001b[2;36m \u001b[0m\u001b[34mINFO    \u001b[0m \u001b[1m[\u001b[0m__init__.py:\u001b[1;36m100\u001b[0m\u001b[1m]\u001b[0m >> You are using  \u001b]8;id=185750;file:///Users/syshin/Library/Caches/pypoetry/virtualenvs/naver-boostcamp-autorag-AUsRp4k1-py3.11/lib/python3.11/site-packages/autorag/__init__.py\u001b\\\u001b[2m__init__.py\u001b[0m\u001b]8;;\u001b\\\u001b[2m:\u001b[0m\u001b]8;id=496744;file:///Users/syshin/Library/Caches/pypoetry/virtualenvs/naver-boostcamp-autorag-AUsRp4k1-py3.11/lib/python3.11/site-packages/autorag/__init__.py#100\u001b\\\u001b[2m100\u001b[0m\u001b]8;;\u001b\\\n",
      "\u001b[2;36m                    \u001b[0m         API version of AutoRAG.To use local \u001b[2m               \u001b[0m\n",
      "\u001b[2;36m                    \u001b[0m         version, run pip install            \u001b[2m               \u001b[0m\n",
      "\u001b[2;36m                    \u001b[0m         \u001b[32m'AutoRAG\u001b[0m\u001b[32m[\u001b[0m\u001b[32mgpu\u001b[0m\u001b[32m]\u001b[0m\u001b[32m'\u001b[0m                      \u001b[2m               \u001b[0m\n",
      "\u001b[2;36m                   \u001b[0m\u001b[2;36m \u001b[0m\u001b[34mINFO    \u001b[0m \u001b[1m[\u001b[0m__init__.py:\u001b[1;36m128\u001b[0m\u001b[1m]\u001b[0m >> You are using  \u001b]8;id=770831;file:///Users/syshin/Library/Caches/pypoetry/virtualenvs/naver-boostcamp-autorag-AUsRp4k1-py3.11/lib/python3.11/site-packages/autorag/__init__.py\u001b\\\u001b[2m__init__.py\u001b[0m\u001b]8;;\u001b\\\u001b[2m:\u001b[0m\u001b]8;id=124878;file:///Users/syshin/Library/Caches/pypoetry/virtualenvs/naver-boostcamp-autorag-AUsRp4k1-py3.11/lib/python3.11/site-packages/autorag/__init__.py#128\u001b\\\u001b[2m128\u001b[0m\u001b]8;;\u001b\\\n",
      "\u001b[2;36m                    \u001b[0m         API version of AutoRAG.To use local \u001b[2m               \u001b[0m\n",
      "\u001b[2;36m                    \u001b[0m         version, run pip install            \u001b[2m               \u001b[0m\n",
      "\u001b[2;36m                    \u001b[0m         \u001b[32m'AutoRAG\u001b[0m\u001b[32m[\u001b[0m\u001b[32mgpu\u001b[0m\u001b[32m]\u001b[0m\u001b[32m'\u001b[0m                      \u001b[2m               \u001b[0m\n",
      "\u001b[2;36m[02/09/25 21:42:01]\u001b[0m\u001b[2;36m \u001b[0m\u001b[34mINFO    \u001b[0m \u001b[1m[\u001b[0m__init__.py:\u001b[1;36m100\u001b[0m\u001b[1m]\u001b[0m >> You are using  \u001b]8;id=628996;file:///Users/syshin/Library/Caches/pypoetry/virtualenvs/naver-boostcamp-autorag-AUsRp4k1-py3.11/lib/python3.11/site-packages/autorag/__init__.py\u001b\\\u001b[2m__init__.py\u001b[0m\u001b]8;;\u001b\\\u001b[2m:\u001b[0m\u001b]8;id=823399;file:///Users/syshin/Library/Caches/pypoetry/virtualenvs/naver-boostcamp-autorag-AUsRp4k1-py3.11/lib/python3.11/site-packages/autorag/__init__.py#100\u001b\\\u001b[2m100\u001b[0m\u001b]8;;\u001b\\\n",
      "\u001b[2;36m                    \u001b[0m         API version of AutoRAG.To use local \u001b[2m               \u001b[0m\n",
      "\u001b[2;36m                    \u001b[0m         version, run pip install            \u001b[2m               \u001b[0m\n",
      "\u001b[2;36m                    \u001b[0m         \u001b[32m'AutoRAG\u001b[0m\u001b[32m[\u001b[0m\u001b[32mgpu\u001b[0m\u001b[32m]\u001b[0m\u001b[32m'\u001b[0m                      \u001b[2m               \u001b[0m\n",
      "\u001b[2;36m                   \u001b[0m\u001b[2;36m \u001b[0m\u001b[34mINFO    \u001b[0m \u001b[1m[\u001b[0m__init__.py:\u001b[1;36m128\u001b[0m\u001b[1m]\u001b[0m >> You are using  \u001b]8;id=509085;file:///Users/syshin/Library/Caches/pypoetry/virtualenvs/naver-boostcamp-autorag-AUsRp4k1-py3.11/lib/python3.11/site-packages/autorag/__init__.py\u001b\\\u001b[2m__init__.py\u001b[0m\u001b]8;;\u001b\\\u001b[2m:\u001b[0m\u001b]8;id=69306;file:///Users/syshin/Library/Caches/pypoetry/virtualenvs/naver-boostcamp-autorag-AUsRp4k1-py3.11/lib/python3.11/site-packages/autorag/__init__.py#128\u001b\\\u001b[2m128\u001b[0m\u001b]8;;\u001b\\\n",
      "\u001b[2;36m                    \u001b[0m         API version of AutoRAG.To use local \u001b[2m               \u001b[0m\n",
      "\u001b[2;36m                    \u001b[0m         version, run pip install            \u001b[2m               \u001b[0m\n",
      "\u001b[2;36m                    \u001b[0m         \u001b[32m'AutoRAG\u001b[0m\u001b[32m[\u001b[0m\u001b[32mgpu\u001b[0m\u001b[32m]\u001b[0m\u001b[32m'\u001b[0m                      \u001b[2m               \u001b[0m\n"
     ]
    }
   ],
   "source": [
    "from autorag.parser import Parser\n",
    "\n",
    "parser = Parser(data_path_glob=\"./data/**/*\", project_dir=PARSE_PROJECT_DIR)\n",
    "parser.start_parsing(PARSE_YAML_FILE)"
   ]
  },
  {
   "cell_type": "markdown",
   "metadata": {},
   "source": [
    "## Chunking"
   ]
  },
  {
   "cell_type": "code",
   "execution_count": null,
   "metadata": {},
   "outputs": [
    {
     "data": {
      "text/html": [
       "<pre style=\"white-space:pre;overflow-x:auto;line-height:normal;font-family:Menlo,'DejaVu Sans Mono',consolas,'Courier New',monospace\"><span style=\"color: #7fbfbf; text-decoration-color: #7fbfbf\">[01/13/25 11:10:35] </span><span style=\"color: #000080; text-decoration-color: #000080\">INFO    </span> <span style=\"font-weight: bold\">[</span>__init__.py:<span style=\"color: #008080; text-decoration-color: #008080; font-weight: bold\">100</span><span style=\"font-weight: bold\">]</span> &gt;&gt; You are using API version of AutoRAG.To use local <a href=\"file:///Users/syshin/Library/Caches/pypoetry/virtualenvs/naver-boostcamp-autorag-AUsRp4k1-py3.11/lib/python3.11/site-packages/autorag/__init__.py\" target=\"_blank\"><span style=\"color: #7f7f7f; text-decoration-color: #7f7f7f\">__init__.py</span></a><span style=\"color: #7f7f7f; text-decoration-color: #7f7f7f\">:</span><a href=\"file:///Users/syshin/Library/Caches/pypoetry/virtualenvs/naver-boostcamp-autorag-AUsRp4k1-py3.11/lib/python3.11/site-packages/autorag/__init__.py#100\" target=\"_blank\"><span style=\"color: #7f7f7f; text-decoration-color: #7f7f7f\">100</span></a>\n",
       "<span style=\"color: #7fbfbf; text-decoration-color: #7fbfbf\">                    </span>         version, run pip install <span style=\"color: #008000; text-decoration-color: #008000\">'AutoRAG[gpu]'</span>                                <span style=\"color: #7f7f7f; text-decoration-color: #7f7f7f\">               </span>\n",
       "</pre>\n"
      ],
      "text/plain": [
       "\u001b[2;36m[01/13/25 11:10:35]\u001b[0m\u001b[2;36m \u001b[0m\u001b[34mINFO    \u001b[0m \u001b[1m[\u001b[0m__init__.py:\u001b[1;36m100\u001b[0m\u001b[1m]\u001b[0m >> You are using API version of AutoRAG.To use local \u001b]8;id=496900;file:///Users/syshin/Library/Caches/pypoetry/virtualenvs/naver-boostcamp-autorag-AUsRp4k1-py3.11/lib/python3.11/site-packages/autorag/__init__.py\u001b\\\u001b[2m__init__.py\u001b[0m\u001b]8;;\u001b\\\u001b[2m:\u001b[0m\u001b]8;id=669244;file:///Users/syshin/Library/Caches/pypoetry/virtualenvs/naver-boostcamp-autorag-AUsRp4k1-py3.11/lib/python3.11/site-packages/autorag/__init__.py#100\u001b\\\u001b[2m100\u001b[0m\u001b]8;;\u001b\\\n",
       "\u001b[2;36m                    \u001b[0m         version, run pip install \u001b[32m'AutoRAG\u001b[0m\u001b[32m[\u001b[0m\u001b[32mgpu\u001b[0m\u001b[32m]\u001b[0m\u001b[32m'\u001b[0m                                \u001b[2m               \u001b[0m\n"
      ]
     },
     "metadata": {},
     "output_type": "display_data"
    },
    {
     "data": {
      "text/html": [
       "<pre style=\"white-space:pre;overflow-x:auto;line-height:normal;font-family:Menlo,'DejaVu Sans Mono',consolas,'Courier New',monospace\"><span style=\"color: #7fbfbf; text-decoration-color: #7fbfbf\">                    </span><span style=\"color: #000080; text-decoration-color: #000080\">INFO    </span> <span style=\"font-weight: bold\">[</span>__init__.py:<span style=\"color: #008080; text-decoration-color: #008080; font-weight: bold\">128</span><span style=\"font-weight: bold\">]</span> &gt;&gt; You are using API version of AutoRAG.To use local <a href=\"file:///Users/syshin/Library/Caches/pypoetry/virtualenvs/naver-boostcamp-autorag-AUsRp4k1-py3.11/lib/python3.11/site-packages/autorag/__init__.py\" target=\"_blank\"><span style=\"color: #7f7f7f; text-decoration-color: #7f7f7f\">__init__.py</span></a><span style=\"color: #7f7f7f; text-decoration-color: #7f7f7f\">:</span><a href=\"file:///Users/syshin/Library/Caches/pypoetry/virtualenvs/naver-boostcamp-autorag-AUsRp4k1-py3.11/lib/python3.11/site-packages/autorag/__init__.py#128\" target=\"_blank\"><span style=\"color: #7f7f7f; text-decoration-color: #7f7f7f\">128</span></a>\n",
       "<span style=\"color: #7fbfbf; text-decoration-color: #7fbfbf\">                    </span>         version, run pip install <span style=\"color: #008000; text-decoration-color: #008000\">'AutoRAG[gpu]'</span>                                <span style=\"color: #7f7f7f; text-decoration-color: #7f7f7f\">               </span>\n",
       "</pre>\n"
      ],
      "text/plain": [
       "\u001b[2;36m                   \u001b[0m\u001b[2;36m \u001b[0m\u001b[34mINFO    \u001b[0m \u001b[1m[\u001b[0m__init__.py:\u001b[1;36m128\u001b[0m\u001b[1m]\u001b[0m >> You are using API version of AutoRAG.To use local \u001b]8;id=955616;file:///Users/syshin/Library/Caches/pypoetry/virtualenvs/naver-boostcamp-autorag-AUsRp4k1-py3.11/lib/python3.11/site-packages/autorag/__init__.py\u001b\\\u001b[2m__init__.py\u001b[0m\u001b]8;;\u001b\\\u001b[2m:\u001b[0m\u001b]8;id=117444;file:///Users/syshin/Library/Caches/pypoetry/virtualenvs/naver-boostcamp-autorag-AUsRp4k1-py3.11/lib/python3.11/site-packages/autorag/__init__.py#128\u001b\\\u001b[2m128\u001b[0m\u001b]8;;\u001b\\\n",
       "\u001b[2;36m                    \u001b[0m         version, run pip install \u001b[32m'AutoRAG\u001b[0m\u001b[32m[\u001b[0m\u001b[32mgpu\u001b[0m\u001b[32m]\u001b[0m\u001b[32m'\u001b[0m                                \u001b[2m               \u001b[0m\n"
      ]
     },
     "metadata": {},
     "output_type": "display_data"
    },
    {
     "data": {
      "text/html": [
       "<pre style=\"white-space:pre;overflow-x:auto;line-height:normal;font-family:Menlo,'DejaVu Sans Mono',consolas,'Courier New',monospace\"><span style=\"color: #7fbfbf; text-decoration-color: #7fbfbf\">                    </span><span style=\"color: #000080; text-decoration-color: #000080\">INFO    </span> <span style=\"font-weight: bold\">[</span>chunker.py:<span style=\"color: #008080; text-decoration-color: #008080; font-weight: bold\">44</span><span style=\"font-weight: bold\">]</span> &gt;&gt; Chunking Start<span style=\"color: #808000; text-decoration-color: #808000\">...</span>                                     <a href=\"file:///Users/syshin/Library/Caches/pypoetry/virtualenvs/naver-boostcamp-autorag-AUsRp4k1-py3.11/lib/python3.11/site-packages/autorag/chunker.py\" target=\"_blank\"><span style=\"color: #7f7f7f; text-decoration-color: #7f7f7f\">chunker.py</span></a><span style=\"color: #7f7f7f; text-decoration-color: #7f7f7f\">:</span><a href=\"file:///Users/syshin/Library/Caches/pypoetry/virtualenvs/naver-boostcamp-autorag-AUsRp4k1-py3.11/lib/python3.11/site-packages/autorag/chunker.py#44\" target=\"_blank\"><span style=\"color: #7f7f7f; text-decoration-color: #7f7f7f\">44</span></a>\n",
       "</pre>\n"
      ],
      "text/plain": [
       "\u001b[2;36m                   \u001b[0m\u001b[2;36m \u001b[0m\u001b[34mINFO    \u001b[0m \u001b[1m[\u001b[0mchunker.py:\u001b[1;36m44\u001b[0m\u001b[1m]\u001b[0m >> Chunking Start\u001b[33m...\u001b[0m                                     \u001b]8;id=198947;file:///Users/syshin/Library/Caches/pypoetry/virtualenvs/naver-boostcamp-autorag-AUsRp4k1-py3.11/lib/python3.11/site-packages/autorag/chunker.py\u001b\\\u001b[2mchunker.py\u001b[0m\u001b]8;;\u001b\\\u001b[2m:\u001b[0m\u001b]8;id=773918;file:///Users/syshin/Library/Caches/pypoetry/virtualenvs/naver-boostcamp-autorag-AUsRp4k1-py3.11/lib/python3.11/site-packages/autorag/chunker.py#44\u001b\\\u001b[2m44\u001b[0m\u001b]8;;\u001b\\\n"
      ]
     },
     "metadata": {},
     "output_type": "display_data"
    },
    {
     "data": {
      "text/html": [
       "<pre style=\"white-space:pre;overflow-x:auto;line-height:normal;font-family:Menlo,'DejaVu Sans Mono',consolas,'Courier New',monospace\"><span style=\"color: #7fbfbf; text-decoration-color: #7fbfbf\">                    </span><span style=\"color: #000080; text-decoration-color: #000080\">INFO    </span> <span style=\"font-weight: bold\">[</span>base.py:<span style=\"color: #008080; text-decoration-color: #008080; font-weight: bold\">22</span><span style=\"font-weight: bold\">]</span> &gt;&gt; Running chunker - llama_index_chunk module<span style=\"color: #808000; text-decoration-color: #808000\">...</span>               <a href=\"file:///Users/syshin/Library/Caches/pypoetry/virtualenvs/naver-boostcamp-autorag-AUsRp4k1-py3.11/lib/python3.11/site-packages/autorag/data/chunk/base.py\" target=\"_blank\"><span style=\"color: #7f7f7f; text-decoration-color: #7f7f7f\">base.py</span></a><span style=\"color: #7f7f7f; text-decoration-color: #7f7f7f\">:</span><a href=\"file:///Users/syshin/Library/Caches/pypoetry/virtualenvs/naver-boostcamp-autorag-AUsRp4k1-py3.11/lib/python3.11/site-packages/autorag/data/chunk/base.py#22\" target=\"_blank\"><span style=\"color: #7f7f7f; text-decoration-color: #7f7f7f\">22</span></a>\n",
       "</pre>\n"
      ],
      "text/plain": [
       "\u001b[2;36m                   \u001b[0m\u001b[2;36m \u001b[0m\u001b[34mINFO    \u001b[0m \u001b[1m[\u001b[0mbase.py:\u001b[1;36m22\u001b[0m\u001b[1m]\u001b[0m >> Running chunker - llama_index_chunk module\u001b[33m...\u001b[0m               \u001b]8;id=29982;file:///Users/syshin/Library/Caches/pypoetry/virtualenvs/naver-boostcamp-autorag-AUsRp4k1-py3.11/lib/python3.11/site-packages/autorag/data/chunk/base.py\u001b\\\u001b[2mbase.py\u001b[0m\u001b]8;;\u001b\\\u001b[2m:\u001b[0m\u001b]8;id=253852;file:///Users/syshin/Library/Caches/pypoetry/virtualenvs/naver-boostcamp-autorag-AUsRp4k1-py3.11/lib/python3.11/site-packages/autorag/data/chunk/base.py#22\u001b\\\u001b[2m22\u001b[0m\u001b]8;;\u001b\\\n"
      ]
     },
     "metadata": {},
     "output_type": "display_data"
    },
    {
     "data": {
      "text/html": [
       "<pre style=\"white-space:pre;overflow-x:auto;line-height:normal;font-family:Menlo,'DejaVu Sans Mono',consolas,'Courier New',monospace\"><span style=\"color: #7fbfbf; text-decoration-color: #7fbfbf\">[01/13/25 11:10:39] </span><span style=\"color: #000080; text-decoration-color: #000080\">INFO    </span> <span style=\"font-weight: bold\">[</span>base.py:<span style=\"color: #008080; text-decoration-color: #008080; font-weight: bold\">22</span><span style=\"font-weight: bold\">]</span> &gt;&gt; Running chunker - llama_index_chunk module<span style=\"color: #808000; text-decoration-color: #808000\">...</span>               <a href=\"file:///Users/syshin/Library/Caches/pypoetry/virtualenvs/naver-boostcamp-autorag-AUsRp4k1-py3.11/lib/python3.11/site-packages/autorag/data/chunk/base.py\" target=\"_blank\"><span style=\"color: #7f7f7f; text-decoration-color: #7f7f7f\">base.py</span></a><span style=\"color: #7f7f7f; text-decoration-color: #7f7f7f\">:</span><a href=\"file:///Users/syshin/Library/Caches/pypoetry/virtualenvs/naver-boostcamp-autorag-AUsRp4k1-py3.11/lib/python3.11/site-packages/autorag/data/chunk/base.py#22\" target=\"_blank\"><span style=\"color: #7f7f7f; text-decoration-color: #7f7f7f\">22</span></a>\n",
       "</pre>\n"
      ],
      "text/plain": [
       "\u001b[2;36m[01/13/25 11:10:39]\u001b[0m\u001b[2;36m \u001b[0m\u001b[34mINFO    \u001b[0m \u001b[1m[\u001b[0mbase.py:\u001b[1;36m22\u001b[0m\u001b[1m]\u001b[0m >> Running chunker - llama_index_chunk module\u001b[33m...\u001b[0m               \u001b]8;id=436984;file:///Users/syshin/Library/Caches/pypoetry/virtualenvs/naver-boostcamp-autorag-AUsRp4k1-py3.11/lib/python3.11/site-packages/autorag/data/chunk/base.py\u001b\\\u001b[2mbase.py\u001b[0m\u001b]8;;\u001b\\\u001b[2m:\u001b[0m\u001b]8;id=853770;file:///Users/syshin/Library/Caches/pypoetry/virtualenvs/naver-boostcamp-autorag-AUsRp4k1-py3.11/lib/python3.11/site-packages/autorag/data/chunk/base.py#22\u001b\\\u001b[2m22\u001b[0m\u001b]8;;\u001b\\\n"
      ]
     },
     "metadata": {},
     "output_type": "display_data"
    },
    {
     "data": {
      "text/html": [
       "<pre style=\"white-space:pre;overflow-x:auto;line-height:normal;font-family:Menlo,'DejaVu Sans Mono',consolas,'Courier New',monospace\"><span style=\"color: #7fbfbf; text-decoration-color: #7fbfbf\">[01/13/25 11:10:43] </span><span style=\"color: #000080; text-decoration-color: #000080\">INFO    </span> <span style=\"font-weight: bold\">[</span>base.py:<span style=\"color: #008080; text-decoration-color: #008080; font-weight: bold\">22</span><span style=\"font-weight: bold\">]</span> &gt;&gt; Running chunker - llama_index_chunk module<span style=\"color: #808000; text-decoration-color: #808000\">...</span>               <a href=\"file:///Users/syshin/Library/Caches/pypoetry/virtualenvs/naver-boostcamp-autorag-AUsRp4k1-py3.11/lib/python3.11/site-packages/autorag/data/chunk/base.py\" target=\"_blank\"><span style=\"color: #7f7f7f; text-decoration-color: #7f7f7f\">base.py</span></a><span style=\"color: #7f7f7f; text-decoration-color: #7f7f7f\">:</span><a href=\"file:///Users/syshin/Library/Caches/pypoetry/virtualenvs/naver-boostcamp-autorag-AUsRp4k1-py3.11/lib/python3.11/site-packages/autorag/data/chunk/base.py#22\" target=\"_blank\"><span style=\"color: #7f7f7f; text-decoration-color: #7f7f7f\">22</span></a>\n",
       "</pre>\n"
      ],
      "text/plain": [
       "\u001b[2;36m[01/13/25 11:10:43]\u001b[0m\u001b[2;36m \u001b[0m\u001b[34mINFO    \u001b[0m \u001b[1m[\u001b[0mbase.py:\u001b[1;36m22\u001b[0m\u001b[1m]\u001b[0m >> Running chunker - llama_index_chunk module\u001b[33m...\u001b[0m               \u001b]8;id=913861;file:///Users/syshin/Library/Caches/pypoetry/virtualenvs/naver-boostcamp-autorag-AUsRp4k1-py3.11/lib/python3.11/site-packages/autorag/data/chunk/base.py\u001b\\\u001b[2mbase.py\u001b[0m\u001b]8;;\u001b\\\u001b[2m:\u001b[0m\u001b]8;id=594776;file:///Users/syshin/Library/Caches/pypoetry/virtualenvs/naver-boostcamp-autorag-AUsRp4k1-py3.11/lib/python3.11/site-packages/autorag/data/chunk/base.py#22\u001b\\\u001b[2m22\u001b[0m\u001b]8;;\u001b\\\n"
      ]
     },
     "metadata": {},
     "output_type": "display_data"
    },
    {
     "data": {
      "text/html": [
       "<pre style=\"white-space:pre;overflow-x:auto;line-height:normal;font-family:Menlo,'DejaVu Sans Mono',consolas,'Courier New',monospace\"><span style=\"color: #7fbfbf; text-decoration-color: #7fbfbf\">[01/13/25 11:10:44] </span><span style=\"color: #000080; text-decoration-color: #000080\">INFO    </span> <span style=\"font-weight: bold\">[</span>base.py:<span style=\"color: #008080; text-decoration-color: #008080; font-weight: bold\">22</span><span style=\"font-weight: bold\">]</span> &gt;&gt; Running chunker - llama_index_chunk module<span style=\"color: #808000; text-decoration-color: #808000\">...</span>               <a href=\"file:///Users/syshin/Library/Caches/pypoetry/virtualenvs/naver-boostcamp-autorag-AUsRp4k1-py3.11/lib/python3.11/site-packages/autorag/data/chunk/base.py\" target=\"_blank\"><span style=\"color: #7f7f7f; text-decoration-color: #7f7f7f\">base.py</span></a><span style=\"color: #7f7f7f; text-decoration-color: #7f7f7f\">:</span><a href=\"file:///Users/syshin/Library/Caches/pypoetry/virtualenvs/naver-boostcamp-autorag-AUsRp4k1-py3.11/lib/python3.11/site-packages/autorag/data/chunk/base.py#22\" target=\"_blank\"><span style=\"color: #7f7f7f; text-decoration-color: #7f7f7f\">22</span></a>\n",
       "</pre>\n"
      ],
      "text/plain": [
       "\u001b[2;36m[01/13/25 11:10:44]\u001b[0m\u001b[2;36m \u001b[0m\u001b[34mINFO    \u001b[0m \u001b[1m[\u001b[0mbase.py:\u001b[1;36m22\u001b[0m\u001b[1m]\u001b[0m >> Running chunker - llama_index_chunk module\u001b[33m...\u001b[0m               \u001b]8;id=814413;file:///Users/syshin/Library/Caches/pypoetry/virtualenvs/naver-boostcamp-autorag-AUsRp4k1-py3.11/lib/python3.11/site-packages/autorag/data/chunk/base.py\u001b\\\u001b[2mbase.py\u001b[0m\u001b]8;;\u001b\\\u001b[2m:\u001b[0m\u001b]8;id=526211;file:///Users/syshin/Library/Caches/pypoetry/virtualenvs/naver-boostcamp-autorag-AUsRp4k1-py3.11/lib/python3.11/site-packages/autorag/data/chunk/base.py#22\u001b\\\u001b[2m22\u001b[0m\u001b]8;;\u001b\\\n"
      ]
     },
     "metadata": {},
     "output_type": "display_data"
    },
    {
     "data": {
      "text/html": [
       "<pre style=\"white-space:pre;overflow-x:auto;line-height:normal;font-family:Menlo,'DejaVu Sans Mono',consolas,'Courier New',monospace\"><span style=\"color: #7fbfbf; text-decoration-color: #7fbfbf\">[01/13/25 11:10:45] </span><span style=\"color: #000080; text-decoration-color: #000080\">INFO    </span> <span style=\"font-weight: bold\">[</span>chunker.py:<span style=\"color: #008080; text-decoration-color: #008080; font-weight: bold\">51</span><span style=\"font-weight: bold\">]</span> &gt;&gt; Chunking Done!                                        <a href=\"file:///Users/syshin/Library/Caches/pypoetry/virtualenvs/naver-boostcamp-autorag-AUsRp4k1-py3.11/lib/python3.11/site-packages/autorag/chunker.py\" target=\"_blank\"><span style=\"color: #7f7f7f; text-decoration-color: #7f7f7f\">chunker.py</span></a><span style=\"color: #7f7f7f; text-decoration-color: #7f7f7f\">:</span><a href=\"file:///Users/syshin/Library/Caches/pypoetry/virtualenvs/naver-boostcamp-autorag-AUsRp4k1-py3.11/lib/python3.11/site-packages/autorag/chunker.py#51\" target=\"_blank\"><span style=\"color: #7f7f7f; text-decoration-color: #7f7f7f\">51</span></a>\n",
       "</pre>\n"
      ],
      "text/plain": [
       "\u001b[2;36m[01/13/25 11:10:45]\u001b[0m\u001b[2;36m \u001b[0m\u001b[34mINFO    \u001b[0m \u001b[1m[\u001b[0mchunker.py:\u001b[1;36m51\u001b[0m\u001b[1m]\u001b[0m >> Chunking Done!                                        \u001b]8;id=97004;file:///Users/syshin/Library/Caches/pypoetry/virtualenvs/naver-boostcamp-autorag-AUsRp4k1-py3.11/lib/python3.11/site-packages/autorag/chunker.py\u001b\\\u001b[2mchunker.py\u001b[0m\u001b]8;;\u001b\\\u001b[2m:\u001b[0m\u001b]8;id=723607;file:///Users/syshin/Library/Caches/pypoetry/virtualenvs/naver-boostcamp-autorag-AUsRp4k1-py3.11/lib/python3.11/site-packages/autorag/chunker.py#51\u001b\\\u001b[2m51\u001b[0m\u001b]8;;\u001b\\\n"
      ]
     },
     "metadata": {},
     "output_type": "display_data"
    }
   ],
   "source": [
    "from autorag.chunker import Chunker\n",
    "\n",
    "chunker = Chunker.from_parquet(\n",
    "    parsed_data_path=PARSE_PROJECT_DIR + \"/parsed_result.parquet\",\n",
    "    project_dir=CHUNK_PROJECT_DIR,\n",
    ")\n",
    "chunker.start_chunking(CHUNK_YAML_FILE)"
   ]
  },
  {
   "cell_type": "markdown",
   "metadata": {},
   "source": [
    "## Parquet 확인"
   ]
  },
  {
   "cell_type": "code",
   "execution_count": 5,
   "metadata": {},
   "outputs": [],
   "source": [
    "file0_path = \"./chunk_project_dir/0.parquet\"\n",
    "file1_path = \"./chunk_project_dir/1.parquet\"\n",
    "file2_path = \"./chunk_project_dir/2.parquet\"\n",
    "file3_path = \"./chunk_project_dir/3.parquet\""
   ]
  },
  {
   "cell_type": "code",
   "execution_count": 10,
   "metadata": {},
   "outputs": [
    {
     "data": {
      "text/html": [
       "<div>\n",
       "<style scoped>\n",
       "    .dataframe tbody tr th:only-of-type {\n",
       "        vertical-align: middle;\n",
       "    }\n",
       "\n",
       "    .dataframe tbody tr th {\n",
       "        vertical-align: top;\n",
       "    }\n",
       "\n",
       "    .dataframe thead th {\n",
       "        text-align: right;\n",
       "    }\n",
       "</style>\n",
       "<table border=\"1\" class=\"dataframe\">\n",
       "  <thead>\n",
       "    <tr style=\"text-align: right;\">\n",
       "      <th></th>\n",
       "      <th>doc_id</th>\n",
       "      <th>contents</th>\n",
       "      <th>path</th>\n",
       "      <th>start_end_idx</th>\n",
       "      <th>metadata</th>\n",
       "    </tr>\n",
       "  </thead>\n",
       "  <tbody>\n",
       "    <tr>\n",
       "      <th>0</th>\n",
       "      <td>4747a107-0e05-4776-ac69-51ad9d3ac428</td>\n",
       "      <td>파일 제목: 네이버_키움증권(2024.11.12).pdf\\n 내용...</td>\n",
       "      <td>./data/네이버/네이버_키움증권(2024.11.12).pdf</td>\n",
       "      <td>[0, 1233]</td>\n",
       "      <td>{'last_modified_datetime': '2025-01-02', 'next...</td>\n",
       "    </tr>\n",
       "    <tr>\n",
       "      <th>1</th>\n",
       "      <td>eddb96fa-5a39-44d1-9e1a-9895acc10940</td>\n",
       "      <td>파일 제목: 네이버_키움증권(2024.11.12).pdf\\n 내용...</td>\n",
       "      <td>./data/네이버/네이버_키움증권(2024.11.12).pdf</td>\n",
       "      <td>[1203, 2217]</td>\n",
       "      <td>{'last_modified_datetime': '2025-01-02', 'next...</td>\n",
       "    </tr>\n",
       "    <tr>\n",
       "      <th>2</th>\n",
       "      <td>fa13294d-f970-42da-8212-9d77844fe1a9</td>\n",
       "      <td>파일 제목: 네이버_키움증권(2024.11.12).pdf\\n 내용...</td>\n",
       "      <td>./data/네이버/네이버_키움증권(2024.11.12).pdf</td>\n",
       "      <td>[2201, 3288]</td>\n",
       "      <td>{'last_modified_datetime': '2025-01-02', 'next...</td>\n",
       "    </tr>\n",
       "    <tr>\n",
       "      <th>3</th>\n",
       "      <td>1915dbee-95dc-4d65-ac7c-ff8a59e8c89b</td>\n",
       "      <td>파일 제목: 네이버_키움증권(2024.11.12).pdf\\n 내용...</td>\n",
       "      <td>./data/네이버/네이버_키움증권(2024.11.12).pdf</td>\n",
       "      <td>[3262, 4540]</td>\n",
       "      <td>{'last_modified_datetime': '2025-01-02', 'next...</td>\n",
       "    </tr>\n",
       "    <tr>\n",
       "      <th>4</th>\n",
       "      <td>50323a4d-7761-44c9-bf41-590111c2a243</td>\n",
       "      <td>파일 제목: 네이버_키움증권(2024.11.12).pdf\\n 내용...</td>\n",
       "      <td>./data/네이버/네이버_키움증권(2024.11.12).pdf</td>\n",
       "      <td>[4510, 5848]</td>\n",
       "      <td>{'last_modified_datetime': '2025-01-02', 'next...</td>\n",
       "    </tr>\n",
       "  </tbody>\n",
       "</table>\n",
       "</div>"
      ],
      "text/plain": [
       "                                 doc_id  \\\n",
       "0  4747a107-0e05-4776-ac69-51ad9d3ac428   \n",
       "1  eddb96fa-5a39-44d1-9e1a-9895acc10940   \n",
       "2  fa13294d-f970-42da-8212-9d77844fe1a9   \n",
       "3  1915dbee-95dc-4d65-ac7c-ff8a59e8c89b   \n",
       "4  50323a4d-7761-44c9-bf41-590111c2a243   \n",
       "\n",
       "                                            contents  \\\n",
       "0  파일 제목: 네이버_키움증권(2024.11.12).pdf\\n 내용...   \n",
       "1  파일 제목: 네이버_키움증권(2024.11.12).pdf\\n 내용...   \n",
       "2  파일 제목: 네이버_키움증권(2024.11.12).pdf\\n 내용...   \n",
       "3  파일 제목: 네이버_키움증권(2024.11.12).pdf\\n 내용...   \n",
       "4  파일 제목: 네이버_키움증권(2024.11.12).pdf\\n 내용...   \n",
       "\n",
       "                                               path start_end_idx  \\\n",
       "0  ./data/네이버/네이버_키움증권(2024.11.12).pdf     [0, 1233]   \n",
       "1  ./data/네이버/네이버_키움증권(2024.11.12).pdf  [1203, 2217]   \n",
       "2  ./data/네이버/네이버_키움증권(2024.11.12).pdf  [2201, 3288]   \n",
       "3  ./data/네이버/네이버_키움증권(2024.11.12).pdf  [3262, 4540]   \n",
       "4  ./data/네이버/네이버_키움증권(2024.11.12).pdf  [4510, 5848]   \n",
       "\n",
       "                                            metadata  \n",
       "0  {'last_modified_datetime': '2025-01-02', 'next...  \n",
       "1  {'last_modified_datetime': '2025-01-02', 'next...  \n",
       "2  {'last_modified_datetime': '2025-01-02', 'next...  \n",
       "3  {'last_modified_datetime': '2025-01-02', 'next...  \n",
       "4  {'last_modified_datetime': '2025-01-02', 'next...  "
      ]
     },
     "execution_count": 10,
     "metadata": {},
     "output_type": "execute_result"
    }
   ],
   "source": [
    "df_0 = pd.read_parquet(file0_path)\n",
    "df_0.head()"
   ]
  },
  {
   "cell_type": "code",
   "execution_count": 11,
   "metadata": {},
   "outputs": [
    {
     "data": {
      "text/html": [
       "<div>\n",
       "<style scoped>\n",
       "    .dataframe tbody tr th:only-of-type {\n",
       "        vertical-align: middle;\n",
       "    }\n",
       "\n",
       "    .dataframe tbody tr th {\n",
       "        vertical-align: top;\n",
       "    }\n",
       "\n",
       "    .dataframe thead th {\n",
       "        text-align: right;\n",
       "    }\n",
       "</style>\n",
       "<table border=\"1\" class=\"dataframe\">\n",
       "  <thead>\n",
       "    <tr style=\"text-align: right;\">\n",
       "      <th></th>\n",
       "      <th>doc_id</th>\n",
       "      <th>contents</th>\n",
       "      <th>path</th>\n",
       "      <th>start_end_idx</th>\n",
       "      <th>metadata</th>\n",
       "    </tr>\n",
       "  </thead>\n",
       "  <tbody>\n",
       "    <tr>\n",
       "      <th>0</th>\n",
       "      <td>7bad4976-098b-4707-a3a5-0dc0bef7b996</td>\n",
       "      <td>파일 제목: 네이버_키움증권(2024.11.12).pdf\\n 내용...</td>\n",
       "      <td>./data/네이버/네이버_키움증권(2024.11.12).pdf</td>\n",
       "      <td>[0, 485]</td>\n",
       "      <td>{'last_modified_datetime': '2025-01-02', 'next...</td>\n",
       "    </tr>\n",
       "    <tr>\n",
       "      <th>1</th>\n",
       "      <td>aee50842-6bc9-46a8-bf7e-09f2d6033be8</td>\n",
       "      <td>파일 제목: 네이버_키움증권(2024.11.12).pdf\\n 내용...</td>\n",
       "      <td>./data/네이버/네이버_키움증권(2024.11.12).pdf</td>\n",
       "      <td>[477, 1031]</td>\n",
       "      <td>{'last_modified_datetime': '2025-01-02', 'next...</td>\n",
       "    </tr>\n",
       "    <tr>\n",
       "      <th>2</th>\n",
       "      <td>dd27e0c5-8469-47a4-9b01-0b92b6417c76</td>\n",
       "      <td>파일 제목: 네이버_키움증권(2024.11.12).pdf\\n 내용...</td>\n",
       "      <td>./data/네이버/네이버_키움증권(2024.11.12).pdf</td>\n",
       "      <td>[1000, 1546]</td>\n",
       "      <td>{'last_modified_datetime': '2025-01-02', 'next...</td>\n",
       "    </tr>\n",
       "    <tr>\n",
       "      <th>3</th>\n",
       "      <td>bbc28905-53ac-4c46-aadc-e510cc51b927</td>\n",
       "      <td>파일 제목: 네이버_키움증권(2024.11.12).pdf\\n 내용...</td>\n",
       "      <td>./data/네이버/네이버_키움증권(2024.11.12).pdf</td>\n",
       "      <td>[1527, 1955]</td>\n",
       "      <td>{'last_modified_datetime': '2025-01-02', 'next...</td>\n",
       "    </tr>\n",
       "    <tr>\n",
       "      <th>4</th>\n",
       "      <td>e3514d3f-55c5-4b4a-9646-d1bb47bfe696</td>\n",
       "      <td>파일 제목: 네이버_키움증권(2024.11.12).pdf\\n 내용...</td>\n",
       "      <td>./data/네이버/네이버_키움증권(2024.11.12).pdf</td>\n",
       "      <td>[1937, 2336]</td>\n",
       "      <td>{'last_modified_datetime': '2025-01-02', 'next...</td>\n",
       "    </tr>\n",
       "  </tbody>\n",
       "</table>\n",
       "</div>"
      ],
      "text/plain": [
       "                                 doc_id  \\\n",
       "0  7bad4976-098b-4707-a3a5-0dc0bef7b996   \n",
       "1  aee50842-6bc9-46a8-bf7e-09f2d6033be8   \n",
       "2  dd27e0c5-8469-47a4-9b01-0b92b6417c76   \n",
       "3  bbc28905-53ac-4c46-aadc-e510cc51b927   \n",
       "4  e3514d3f-55c5-4b4a-9646-d1bb47bfe696   \n",
       "\n",
       "                                            contents  \\\n",
       "0  파일 제목: 네이버_키움증권(2024.11.12).pdf\\n 내용...   \n",
       "1  파일 제목: 네이버_키움증권(2024.11.12).pdf\\n 내용...   \n",
       "2  파일 제목: 네이버_키움증권(2024.11.12).pdf\\n 내용...   \n",
       "3  파일 제목: 네이버_키움증권(2024.11.12).pdf\\n 내용...   \n",
       "4  파일 제목: 네이버_키움증권(2024.11.12).pdf\\n 내용...   \n",
       "\n",
       "                                               path start_end_idx  \\\n",
       "0  ./data/네이버/네이버_키움증권(2024.11.12).pdf      [0, 485]   \n",
       "1  ./data/네이버/네이버_키움증권(2024.11.12).pdf   [477, 1031]   \n",
       "2  ./data/네이버/네이버_키움증권(2024.11.12).pdf  [1000, 1546]   \n",
       "3  ./data/네이버/네이버_키움증권(2024.11.12).pdf  [1527, 1955]   \n",
       "4  ./data/네이버/네이버_키움증권(2024.11.12).pdf  [1937, 2336]   \n",
       "\n",
       "                                            metadata  \n",
       "0  {'last_modified_datetime': '2025-01-02', 'next...  \n",
       "1  {'last_modified_datetime': '2025-01-02', 'next...  \n",
       "2  {'last_modified_datetime': '2025-01-02', 'next...  \n",
       "3  {'last_modified_datetime': '2025-01-02', 'next...  \n",
       "4  {'last_modified_datetime': '2025-01-02', 'next...  "
      ]
     },
     "execution_count": 11,
     "metadata": {},
     "output_type": "execute_result"
    }
   ],
   "source": [
    "df_1 = pd.read_parquet(file1_path)\n",
    "df_1.head()"
   ]
  },
  {
   "cell_type": "code",
   "execution_count": 14,
   "metadata": {},
   "outputs": [
    {
     "data": {
      "text/html": [
       "<div>\n",
       "<style scoped>\n",
       "    .dataframe tbody tr th:only-of-type {\n",
       "        vertical-align: middle;\n",
       "    }\n",
       "\n",
       "    .dataframe tbody tr th {\n",
       "        vertical-align: top;\n",
       "    }\n",
       "\n",
       "    .dataframe thead th {\n",
       "        text-align: right;\n",
       "    }\n",
       "</style>\n",
       "<table border=\"1\" class=\"dataframe\">\n",
       "  <thead>\n",
       "    <tr style=\"text-align: right;\">\n",
       "      <th></th>\n",
       "      <th>doc_id</th>\n",
       "      <th>contents</th>\n",
       "      <th>path</th>\n",
       "      <th>start_end_idx</th>\n",
       "      <th>metadata</th>\n",
       "    </tr>\n",
       "  </thead>\n",
       "  <tbody>\n",
       "    <tr>\n",
       "      <th>0</th>\n",
       "      <td>afb5a076-a182-407b-991c-6f2b25f1e93c</td>\n",
       "      <td>파일 제목: 네이버_키움증권(2024.11.12).pdf\\n 내용...</td>\n",
       "      <td>./data/네이버/네이버_키움증권(2024.11.12).pdf</td>\n",
       "      <td>[0, 416]</td>\n",
       "      <td>{'last_modified_datetime': '2025-01-02', 'next...</td>\n",
       "    </tr>\n",
       "    <tr>\n",
       "      <th>1</th>\n",
       "      <td>bd2e3fea-11cc-4c44-b65d-3dcb363ce12c</td>\n",
       "      <td>파일 제목: 네이버_키움증권(2024.11.12).pdf\\n 내용...</td>\n",
       "      <td>./data/네이버/네이버_키움증권(2024.11.12).pdf</td>\n",
       "      <td>[420, 1674]</td>\n",
       "      <td>{'last_modified_datetime': '2025-01-02', 'next...</td>\n",
       "    </tr>\n",
       "    <tr>\n",
       "      <th>2</th>\n",
       "      <td>962f8a5d-c705-44a1-873a-574e79317992</td>\n",
       "      <td>파일 제목: 네이버_키움증권(2024.11.12).pdf\\n 내용...</td>\n",
       "      <td>./data/네이버/네이버_키움증권(2024.11.12).pdf</td>\n",
       "      <td>[1680, 2566]</td>\n",
       "      <td>{'last_modified_datetime': '2025-01-02', 'next...</td>\n",
       "    </tr>\n",
       "    <tr>\n",
       "      <th>3</th>\n",
       "      <td>60feccaf-460d-4dd2-9be2-937a9e1c39c7</td>\n",
       "      <td>파일 제목: 네이버_키움증권(2024.11.12).pdf\\n 내용...</td>\n",
       "      <td>./data/네이버/네이버_키움증권(2024.11.12).pdf</td>\n",
       "      <td>[2572, 3095]</td>\n",
       "      <td>{'last_modified_datetime': '2025-01-02', 'next...</td>\n",
       "    </tr>\n",
       "    <tr>\n",
       "      <th>4</th>\n",
       "      <td>41ae6d37-4865-486b-a44d-2e4c33e5b5a6</td>\n",
       "      <td>파일 제목: 네이버_키움증권(2024.11.12).pdf\\n 내용...</td>\n",
       "      <td>./data/네이버/네이버_키움증권(2024.11.12).pdf</td>\n",
       "      <td>[3093, 4316]</td>\n",
       "      <td>{'last_modified_datetime': '2025-01-02', 'next...</td>\n",
       "    </tr>\n",
       "    <tr>\n",
       "      <th>...</th>\n",
       "      <td>...</td>\n",
       "      <td>...</td>\n",
       "      <td>...</td>\n",
       "      <td>...</td>\n",
       "      <td>...</td>\n",
       "    </tr>\n",
       "    <tr>\n",
       "      <th>1123</th>\n",
       "      <td>b490f444-6911-437b-b729-d20df42cb05b</td>\n",
       "      <td>파일 제목: [12184755]_097950.pdf\\n 내용: 6% \\n\\n4.2%...</td>\n",
       "      <td>./data/CJ제일제당/[12184755]_097950.pdf</td>\n",
       "      <td>[6737, 8215]</td>\n",
       "      <td>{'last_modified_datetime': '2025-01-02', 'next...</td>\n",
       "    </tr>\n",
       "    <tr>\n",
       "      <th>1124</th>\n",
       "      <td>74911365-21dc-4266-ac89-a62264ca0128</td>\n",
       "      <td>파일 제목: [12184755]_097950.pdf\\n 내용: 642  \\n\\n11...</td>\n",
       "      <td>./data/CJ제일제당/[12184755]_097950.pdf</td>\n",
       "      <td>[8196, 9991]</td>\n",
       "      <td>{'last_modified_datetime': '2025-01-02', 'next...</td>\n",
       "    </tr>\n",
       "    <tr>\n",
       "      <th>1125</th>\n",
       "      <td>07d53d09-46de-4492-919f-bc363af21dea</td>\n",
       "      <td>파일 제목: [12184755]_097950.pdf\\n 내용: 266  \\n\\n35...</td>\n",
       "      <td>./data/CJ제일제당/[12184755]_097950.pdf</td>\n",
       "      <td>[9962, 11418]</td>\n",
       "      <td>{'last_modified_datetime': '2025-01-02', 'next...</td>\n",
       "    </tr>\n",
       "    <tr>\n",
       "      <th>1126</th>\n",
       "      <td>72512d5c-fdd9-4500-a96f-ae13c99d794e</td>\n",
       "      <td>파일 제목: [12184755]_097950.pdf\\n 내용: 251    매출채권...</td>\n",
       "      <td>./data/CJ제일제당/[12184755]_097950.pdf</td>\n",
       "      <td>[11419, 12765]</td>\n",
       "      <td>{'last_modified_datetime': '2025-01-02', 'next...</td>\n",
       "    </tr>\n",
       "    <tr>\n",
       "      <th>1127</th>\n",
       "      <td>dfad4997-0189-4050-9f20-1ba50f50a22b</td>\n",
       "      <td>파일 제목: [12184755]_097950.pdf\\n 내용: 무단전재  등으로  ...</td>\n",
       "      <td>./data/CJ제일제당/[12184755]_097950.pdf</td>\n",
       "      <td>[12768, 13280]</td>\n",
       "      <td>{'last_modified_datetime': '2025-01-02', 'next...</td>\n",
       "    </tr>\n",
       "  </tbody>\n",
       "</table>\n",
       "<p>1128 rows × 5 columns</p>\n",
       "</div>"
      ],
      "text/plain": [
       "                                    doc_id  \\\n",
       "0     afb5a076-a182-407b-991c-6f2b25f1e93c   \n",
       "1     bd2e3fea-11cc-4c44-b65d-3dcb363ce12c   \n",
       "2     962f8a5d-c705-44a1-873a-574e79317992   \n",
       "3     60feccaf-460d-4dd2-9be2-937a9e1c39c7   \n",
       "4     41ae6d37-4865-486b-a44d-2e4c33e5b5a6   \n",
       "...                                    ...   \n",
       "1123  b490f444-6911-437b-b729-d20df42cb05b   \n",
       "1124  74911365-21dc-4266-ac89-a62264ca0128   \n",
       "1125  07d53d09-46de-4492-919f-bc363af21dea   \n",
       "1126  72512d5c-fdd9-4500-a96f-ae13c99d794e   \n",
       "1127  dfad4997-0189-4050-9f20-1ba50f50a22b   \n",
       "\n",
       "                                               contents  \\\n",
       "0     파일 제목: 네이버_키움증권(2024.11.12).pdf\\n 내용...   \n",
       "1     파일 제목: 네이버_키움증권(2024.11.12).pdf\\n 내용...   \n",
       "2     파일 제목: 네이버_키움증권(2024.11.12).pdf\\n 내용...   \n",
       "3     파일 제목: 네이버_키움증권(2024.11.12).pdf\\n 내용...   \n",
       "4     파일 제목: 네이버_키움증권(2024.11.12).pdf\\n 내용...   \n",
       "...                                                 ...   \n",
       "1123  파일 제목: [12184755]_097950.pdf\\n 내용: 6% \\n\\n4.2%...   \n",
       "1124  파일 제목: [12184755]_097950.pdf\\n 내용: 642  \\n\\n11...   \n",
       "1125  파일 제목: [12184755]_097950.pdf\\n 내용: 266  \\n\\n35...   \n",
       "1126  파일 제목: [12184755]_097950.pdf\\n 내용: 251    매출채권...   \n",
       "1127  파일 제목: [12184755]_097950.pdf\\n 내용: 무단전재  등으로  ...   \n",
       "\n",
       "                                                  path   start_end_idx  \\\n",
       "0     ./data/네이버/네이버_키움증권(2024.11.12).pdf        [0, 416]   \n",
       "1     ./data/네이버/네이버_키움증권(2024.11.12).pdf     [420, 1674]   \n",
       "2     ./data/네이버/네이버_키움증권(2024.11.12).pdf    [1680, 2566]   \n",
       "3     ./data/네이버/네이버_키움증권(2024.11.12).pdf    [2572, 3095]   \n",
       "4     ./data/네이버/네이버_키움증권(2024.11.12).pdf    [3093, 4316]   \n",
       "...                                                ...             ...   \n",
       "1123         ./data/CJ제일제당/[12184755]_097950.pdf    [6737, 8215]   \n",
       "1124         ./data/CJ제일제당/[12184755]_097950.pdf    [8196, 9991]   \n",
       "1125         ./data/CJ제일제당/[12184755]_097950.pdf   [9962, 11418]   \n",
       "1126         ./data/CJ제일제당/[12184755]_097950.pdf  [11419, 12765]   \n",
       "1127         ./data/CJ제일제당/[12184755]_097950.pdf  [12768, 13280]   \n",
       "\n",
       "                                               metadata  \n",
       "0     {'last_modified_datetime': '2025-01-02', 'next...  \n",
       "1     {'last_modified_datetime': '2025-01-02', 'next...  \n",
       "2     {'last_modified_datetime': '2025-01-02', 'next...  \n",
       "3     {'last_modified_datetime': '2025-01-02', 'next...  \n",
       "4     {'last_modified_datetime': '2025-01-02', 'next...  \n",
       "...                                                 ...  \n",
       "1123  {'last_modified_datetime': '2025-01-02', 'next...  \n",
       "1124  {'last_modified_datetime': '2025-01-02', 'next...  \n",
       "1125  {'last_modified_datetime': '2025-01-02', 'next...  \n",
       "1126  {'last_modified_datetime': '2025-01-02', 'next...  \n",
       "1127  {'last_modified_datetime': '2025-01-02', 'next...  \n",
       "\n",
       "[1128 rows x 5 columns]"
      ]
     },
     "execution_count": 14,
     "metadata": {},
     "output_type": "execute_result"
    }
   ],
   "source": [
    "df_2 = pd.read_parquet(file2_path)\n",
    "df_2"
   ]
  },
  {
   "cell_type": "code",
   "execution_count": 19,
   "metadata": {},
   "outputs": [
    {
     "name": "stdout",
     "output_type": "stream",
     "text": [
      "파일 제목: 네이버_키움증권(2024.11.12).pdf\n",
      " 내용: 기업  업데이트 \n",
      "\n",
      "2024. 11. 12 \n",
      "\n",
      "BUY(Maintain) \n",
      "목표주가: 240,000원 \n",
      "\n",
      "주가(11/11): 176,000원 \n",
      "\n",
      "시가총액: 282,981억원 \n",
      "\n",
      "NAVER (035420) \n",
      "예측  기반  부가가치  요구 \n",
      "\n",
      "인터넷/게임  Analyst  김진구 \n",
      "\n",
      "jingu.kim@kiwoom.com \n",
      "\n",
      "동사  목표주가  24만원을  유지한다.  동사  신규  서비스  기반  인게이지먼트  증가  및 \n",
      "AI  기반  실시간  광고  대행사  기능  내재화  등으로  서치플랫폼  사업을  중심으로  한 \n",
      "영업 레버리지 효과가  가시화될  것으로  기대한다.  다만 경쟁사를 추종하는  커머스 \n",
      "사업의  다소  소극적  전략  및  AI  기반  구독경제  강화  움직임이  제한적이라는  점이 \n",
      "잠재적 리스크로 작동할 수 있다.\n"
     ]
    }
   ],
   "source": [
    "print(df_2.loc[0, \"contents\"])"
   ]
  },
  {
   "cell_type": "code",
   "execution_count": 15,
   "metadata": {},
   "outputs": [
    {
     "data": {
      "text/html": [
       "<div>\n",
       "<style scoped>\n",
       "    .dataframe tbody tr th:only-of-type {\n",
       "        vertical-align: middle;\n",
       "    }\n",
       "\n",
       "    .dataframe tbody tr th {\n",
       "        vertical-align: top;\n",
       "    }\n",
       "\n",
       "    .dataframe thead th {\n",
       "        text-align: right;\n",
       "    }\n",
       "</style>\n",
       "<table border=\"1\" class=\"dataframe\">\n",
       "  <thead>\n",
       "    <tr style=\"text-align: right;\">\n",
       "      <th></th>\n",
       "      <th>doc_id</th>\n",
       "      <th>contents</th>\n",
       "      <th>path</th>\n",
       "      <th>start_end_idx</th>\n",
       "      <th>metadata</th>\n",
       "    </tr>\n",
       "  </thead>\n",
       "  <tbody>\n",
       "    <tr>\n",
       "      <th>0</th>\n",
       "      <td>5e10403c-d586-461a-beb0-e71ae12d3b29</td>\n",
       "      <td>파일 제목: 네이버_키움증권(2024.11.12).pdf\\n 내용...</td>\n",
       "      <td>./data/네이버/네이버_키움증권(2024.11.12).pdf</td>\n",
       "      <td>[0, 416]</td>\n",
       "      <td>{'last_modified_datetime': '2025-01-02', 'next...</td>\n",
       "    </tr>\n",
       "    <tr>\n",
       "      <th>1</th>\n",
       "      <td>d75d7709-a792-4c81-b53a-badd5fc34e82</td>\n",
       "      <td>파일 제목: 네이버_키움증권(2024.11.12).pdf\\n 내용...</td>\n",
       "      <td>./data/네이버/네이버_키움증권(2024.11.12).pdf</td>\n",
       "      <td>[420, 996]</td>\n",
       "      <td>{'last_modified_datetime': '2025-01-02', 'next...</td>\n",
       "    </tr>\n",
       "    <tr>\n",
       "      <th>2</th>\n",
       "      <td>1c22bb45-fba1-4348-b9f6-6e84759be2a7</td>\n",
       "      <td>파일 제목: 네이버_키움증권(2024.11.12).pdf\\n 내용...</td>\n",
       "      <td>./data/네이버/네이버_키움증권(2024.11.12).pdf</td>\n",
       "      <td>[965, 1474]</td>\n",
       "      <td>{'last_modified_datetime': '2025-01-02', 'next...</td>\n",
       "    </tr>\n",
       "    <tr>\n",
       "      <th>3</th>\n",
       "      <td>ebc26174-1760-4c1e-ae9e-f682232d84ec</td>\n",
       "      <td>파일 제목: 네이버_키움증권(2024.11.12).pdf\\n 내용...</td>\n",
       "      <td>./data/네이버/네이버_키움증권(2024.11.12).pdf</td>\n",
       "      <td>[1477, 1862]</td>\n",
       "      <td>{'last_modified_datetime': '2025-01-02', 'next...</td>\n",
       "    </tr>\n",
       "    <tr>\n",
       "      <th>4</th>\n",
       "      <td>f07123f3-d678-40fd-affc-e386d97062d6</td>\n",
       "      <td>파일 제목: 네이버_키움증권(2024.11.12).pdf\\n 내용...</td>\n",
       "      <td>./data/네이버/네이버_키움증권(2024.11.12).pdf</td>\n",
       "      <td>[1865, 2182]</td>\n",
       "      <td>{'last_modified_datetime': '2025-01-02', 'next...</td>\n",
       "    </tr>\n",
       "  </tbody>\n",
       "</table>\n",
       "</div>"
      ],
      "text/plain": [
       "                                 doc_id  \\\n",
       "0  5e10403c-d586-461a-beb0-e71ae12d3b29   \n",
       "1  d75d7709-a792-4c81-b53a-badd5fc34e82   \n",
       "2  1c22bb45-fba1-4348-b9f6-6e84759be2a7   \n",
       "3  ebc26174-1760-4c1e-ae9e-f682232d84ec   \n",
       "4  f07123f3-d678-40fd-affc-e386d97062d6   \n",
       "\n",
       "                                            contents  \\\n",
       "0  파일 제목: 네이버_키움증권(2024.11.12).pdf\\n 내용...   \n",
       "1  파일 제목: 네이버_키움증권(2024.11.12).pdf\\n 내용...   \n",
       "2  파일 제목: 네이버_키움증권(2024.11.12).pdf\\n 내용...   \n",
       "3  파일 제목: 네이버_키움증권(2024.11.12).pdf\\n 내용...   \n",
       "4  파일 제목: 네이버_키움증권(2024.11.12).pdf\\n 내용...   \n",
       "\n",
       "                                               path start_end_idx  \\\n",
       "0  ./data/네이버/네이버_키움증권(2024.11.12).pdf      [0, 416]   \n",
       "1  ./data/네이버/네이버_키움증권(2024.11.12).pdf    [420, 996]   \n",
       "2  ./data/네이버/네이버_키움증권(2024.11.12).pdf   [965, 1474]   \n",
       "3  ./data/네이버/네이버_키움증권(2024.11.12).pdf  [1477, 1862]   \n",
       "4  ./data/네이버/네이버_키움증권(2024.11.12).pdf  [1865, 2182]   \n",
       "\n",
       "                                            metadata  \n",
       "0  {'last_modified_datetime': '2025-01-02', 'next...  \n",
       "1  {'last_modified_datetime': '2025-01-02', 'next...  \n",
       "2  {'last_modified_datetime': '2025-01-02', 'next...  \n",
       "3  {'last_modified_datetime': '2025-01-02', 'next...  \n",
       "4  {'last_modified_datetime': '2025-01-02', 'next...  "
      ]
     },
     "execution_count": 15,
     "metadata": {},
     "output_type": "execute_result"
    }
   ],
   "source": [
    "df_3 = pd.read_parquet(file3_path)\n",
    "df_3.head()"
   ]
  },
  {
   "cell_type": "markdown",
   "metadata": {},
   "source": [
    "## Query Creation"
   ]
  },
  {
   "cell_type": "code",
   "execution_count": 10,
   "metadata": {},
   "outputs": [
    {
     "data": {
      "text/html": [
       "<pre style=\"white-space:pre;overflow-x:auto;line-height:normal;font-family:Menlo,'DejaVu Sans Mono',consolas,'Courier New',monospace\"><span style=\"color: #7fbfbf; text-decoration-color: #7fbfbf\">[01/13/25 12:16:10] </span><span style=\"color: #000080; text-decoration-color: #000080\">INFO    </span> <span style=\"font-weight: bold\">[</span>_client.py:<span style=\"color: #008080; text-decoration-color: #008080; font-weight: bold\">1740</span><span style=\"font-weight: bold\">]</span> &gt;&gt; HTTP Request: <span style=\"color: #808000; text-decoration-color: #808000; font-weight: bold\">POST</span>                                <a href=\"file:///Users/syshin/Library/Caches/pypoetry/virtualenvs/naver-boostcamp-autorag-AUsRp4k1-py3.11/lib/python3.11/site-packages/httpx/_client.py\" target=\"_blank\"><span style=\"color: #7f7f7f; text-decoration-color: #7f7f7f\">_client.py</span></a><span style=\"color: #7f7f7f; text-decoration-color: #7f7f7f\">:</span><a href=\"file:///Users/syshin/Library/Caches/pypoetry/virtualenvs/naver-boostcamp-autorag-AUsRp4k1-py3.11/lib/python3.11/site-packages/httpx/_client.py#1740\" target=\"_blank\"><span style=\"color: #7f7f7f; text-decoration-color: #7f7f7f\">1740</span></a>\n",
       "<span style=\"color: #7fbfbf; text-decoration-color: #7fbfbf\">                    </span>         <span style=\"color: #0000ff; text-decoration-color: #0000ff; text-decoration: underline\">https://api.openai.com/v1/chat/completions</span> <span style=\"color: #008000; text-decoration-color: #008000\">\"HTTP/1.1 200 OK\"</span>           <span style=\"color: #7f7f7f; text-decoration-color: #7f7f7f\">               </span>\n",
       "</pre>\n"
      ],
      "text/plain": [
       "\u001b[2;36m[01/13/25 12:16:10]\u001b[0m\u001b[2;36m \u001b[0m\u001b[34mINFO    \u001b[0m \u001b[1m[\u001b[0m_client.py:\u001b[1;36m1740\u001b[0m\u001b[1m]\u001b[0m >> HTTP Request: \u001b[1;33mPOST\u001b[0m                                \u001b]8;id=962723;file:///Users/syshin/Library/Caches/pypoetry/virtualenvs/naver-boostcamp-autorag-AUsRp4k1-py3.11/lib/python3.11/site-packages/httpx/_client.py\u001b\\\u001b[2m_client.py\u001b[0m\u001b]8;;\u001b\\\u001b[2m:\u001b[0m\u001b]8;id=818518;file:///Users/syshin/Library/Caches/pypoetry/virtualenvs/naver-boostcamp-autorag-AUsRp4k1-py3.11/lib/python3.11/site-packages/httpx/_client.py#1740\u001b\\\u001b[2m1740\u001b[0m\u001b]8;;\u001b\\\n",
       "\u001b[2;36m                    \u001b[0m         \u001b[4;94mhttps://api.openai.com/v1/chat/completions\u001b[0m \u001b[32m\"HTTP/1.1 200 OK\"\u001b[0m           \u001b[2m               \u001b[0m\n"
      ]
     },
     "metadata": {},
     "output_type": "display_data"
    },
    {
     "data": {
      "text/html": [
       "<pre style=\"white-space:pre;overflow-x:auto;line-height:normal;font-family:Menlo,'DejaVu Sans Mono',consolas,'Courier New',monospace\"><span style=\"color: #7fbfbf; text-decoration-color: #7fbfbf\">                    </span><span style=\"color: #000080; text-decoration-color: #000080\">INFO    </span> <span style=\"font-weight: bold\">[</span>_client.py:<span style=\"color: #008080; text-decoration-color: #008080; font-weight: bold\">1740</span><span style=\"font-weight: bold\">]</span> &gt;&gt; HTTP Request: <span style=\"color: #808000; text-decoration-color: #808000; font-weight: bold\">POST</span>                                <a href=\"file:///Users/syshin/Library/Caches/pypoetry/virtualenvs/naver-boostcamp-autorag-AUsRp4k1-py3.11/lib/python3.11/site-packages/httpx/_client.py\" target=\"_blank\"><span style=\"color: #7f7f7f; text-decoration-color: #7f7f7f\">_client.py</span></a><span style=\"color: #7f7f7f; text-decoration-color: #7f7f7f\">:</span><a href=\"file:///Users/syshin/Library/Caches/pypoetry/virtualenvs/naver-boostcamp-autorag-AUsRp4k1-py3.11/lib/python3.11/site-packages/httpx/_client.py#1740\" target=\"_blank\"><span style=\"color: #7f7f7f; text-decoration-color: #7f7f7f\">1740</span></a>\n",
       "<span style=\"color: #7fbfbf; text-decoration-color: #7fbfbf\">                    </span>         <span style=\"color: #0000ff; text-decoration-color: #0000ff; text-decoration: underline\">https://api.openai.com/v1/chat/completions</span> <span style=\"color: #008000; text-decoration-color: #008000\">\"HTTP/1.1 200 OK\"</span>           <span style=\"color: #7f7f7f; text-decoration-color: #7f7f7f\">               </span>\n",
       "</pre>\n"
      ],
      "text/plain": [
       "\u001b[2;36m                   \u001b[0m\u001b[2;36m \u001b[0m\u001b[34mINFO    \u001b[0m \u001b[1m[\u001b[0m_client.py:\u001b[1;36m1740\u001b[0m\u001b[1m]\u001b[0m >> HTTP Request: \u001b[1;33mPOST\u001b[0m                                \u001b]8;id=869068;file:///Users/syshin/Library/Caches/pypoetry/virtualenvs/naver-boostcamp-autorag-AUsRp4k1-py3.11/lib/python3.11/site-packages/httpx/_client.py\u001b\\\u001b[2m_client.py\u001b[0m\u001b]8;;\u001b\\\u001b[2m:\u001b[0m\u001b]8;id=149792;file:///Users/syshin/Library/Caches/pypoetry/virtualenvs/naver-boostcamp-autorag-AUsRp4k1-py3.11/lib/python3.11/site-packages/httpx/_client.py#1740\u001b\\\u001b[2m1740\u001b[0m\u001b]8;;\u001b\\\n",
       "\u001b[2;36m                    \u001b[0m         \u001b[4;94mhttps://api.openai.com/v1/chat/completions\u001b[0m \u001b[32m\"HTTP/1.1 200 OK\"\u001b[0m           \u001b[2m               \u001b[0m\n"
      ]
     },
     "metadata": {},
     "output_type": "display_data"
    },
    {
     "data": {
      "text/html": [
       "<pre style=\"white-space:pre;overflow-x:auto;line-height:normal;font-family:Menlo,'DejaVu Sans Mono',consolas,'Courier New',monospace\"><span style=\"color: #7fbfbf; text-decoration-color: #7fbfbf\">[01/13/25 12:16:11] </span><span style=\"color: #000080; text-decoration-color: #000080\">INFO    </span> <span style=\"font-weight: bold\">[</span>_client.py:<span style=\"color: #008080; text-decoration-color: #008080; font-weight: bold\">1740</span><span style=\"font-weight: bold\">]</span> &gt;&gt; HTTP Request: <span style=\"color: #808000; text-decoration-color: #808000; font-weight: bold\">POST</span>                                <a href=\"file:///Users/syshin/Library/Caches/pypoetry/virtualenvs/naver-boostcamp-autorag-AUsRp4k1-py3.11/lib/python3.11/site-packages/httpx/_client.py\" target=\"_blank\"><span style=\"color: #7f7f7f; text-decoration-color: #7f7f7f\">_client.py</span></a><span style=\"color: #7f7f7f; text-decoration-color: #7f7f7f\">:</span><a href=\"file:///Users/syshin/Library/Caches/pypoetry/virtualenvs/naver-boostcamp-autorag-AUsRp4k1-py3.11/lib/python3.11/site-packages/httpx/_client.py#1740\" target=\"_blank\"><span style=\"color: #7f7f7f; text-decoration-color: #7f7f7f\">1740</span></a>\n",
       "<span style=\"color: #7fbfbf; text-decoration-color: #7fbfbf\">                    </span>         <span style=\"color: #0000ff; text-decoration-color: #0000ff; text-decoration: underline\">https://api.openai.com/v1/chat/completions</span> <span style=\"color: #008000; text-decoration-color: #008000\">\"HTTP/1.1 200 OK\"</span>           <span style=\"color: #7f7f7f; text-decoration-color: #7f7f7f\">               </span>\n",
       "</pre>\n"
      ],
      "text/plain": [
       "\u001b[2;36m[01/13/25 12:16:11]\u001b[0m\u001b[2;36m \u001b[0m\u001b[34mINFO    \u001b[0m \u001b[1m[\u001b[0m_client.py:\u001b[1;36m1740\u001b[0m\u001b[1m]\u001b[0m >> HTTP Request: \u001b[1;33mPOST\u001b[0m                                \u001b]8;id=100289;file:///Users/syshin/Library/Caches/pypoetry/virtualenvs/naver-boostcamp-autorag-AUsRp4k1-py3.11/lib/python3.11/site-packages/httpx/_client.py\u001b\\\u001b[2m_client.py\u001b[0m\u001b]8;;\u001b\\\u001b[2m:\u001b[0m\u001b]8;id=332152;file:///Users/syshin/Library/Caches/pypoetry/virtualenvs/naver-boostcamp-autorag-AUsRp4k1-py3.11/lib/python3.11/site-packages/httpx/_client.py#1740\u001b\\\u001b[2m1740\u001b[0m\u001b]8;;\u001b\\\n",
       "\u001b[2;36m                    \u001b[0m         \u001b[4;94mhttps://api.openai.com/v1/chat/completions\u001b[0m \u001b[32m\"HTTP/1.1 200 OK\"\u001b[0m           \u001b[2m               \u001b[0m\n"
      ]
     },
     "metadata": {},
     "output_type": "display_data"
    },
    {
     "data": {
      "text/html": [
       "<pre style=\"white-space:pre;overflow-x:auto;line-height:normal;font-family:Menlo,'DejaVu Sans Mono',consolas,'Courier New',monospace\"><span style=\"color: #7fbfbf; text-decoration-color: #7fbfbf\">                    </span><span style=\"color: #000080; text-decoration-color: #000080\">INFO    </span> <span style=\"font-weight: bold\">[</span>_client.py:<span style=\"color: #008080; text-decoration-color: #008080; font-weight: bold\">1740</span><span style=\"font-weight: bold\">]</span> &gt;&gt; HTTP Request: <span style=\"color: #808000; text-decoration-color: #808000; font-weight: bold\">POST</span>                                <a href=\"file:///Users/syshin/Library/Caches/pypoetry/virtualenvs/naver-boostcamp-autorag-AUsRp4k1-py3.11/lib/python3.11/site-packages/httpx/_client.py\" target=\"_blank\"><span style=\"color: #7f7f7f; text-decoration-color: #7f7f7f\">_client.py</span></a><span style=\"color: #7f7f7f; text-decoration-color: #7f7f7f\">:</span><a href=\"file:///Users/syshin/Library/Caches/pypoetry/virtualenvs/naver-boostcamp-autorag-AUsRp4k1-py3.11/lib/python3.11/site-packages/httpx/_client.py#1740\" target=\"_blank\"><span style=\"color: #7f7f7f; text-decoration-color: #7f7f7f\">1740</span></a>\n",
       "<span style=\"color: #7fbfbf; text-decoration-color: #7fbfbf\">                    </span>         <span style=\"color: #0000ff; text-decoration-color: #0000ff; text-decoration: underline\">https://api.openai.com/v1/chat/completions</span> <span style=\"color: #008000; text-decoration-color: #008000\">\"HTTP/1.1 200 OK\"</span>           <span style=\"color: #7f7f7f; text-decoration-color: #7f7f7f\">               </span>\n",
       "</pre>\n"
      ],
      "text/plain": [
       "\u001b[2;36m                   \u001b[0m\u001b[2;36m \u001b[0m\u001b[34mINFO    \u001b[0m \u001b[1m[\u001b[0m_client.py:\u001b[1;36m1740\u001b[0m\u001b[1m]\u001b[0m >> HTTP Request: \u001b[1;33mPOST\u001b[0m                                \u001b]8;id=943114;file:///Users/syshin/Library/Caches/pypoetry/virtualenvs/naver-boostcamp-autorag-AUsRp4k1-py3.11/lib/python3.11/site-packages/httpx/_client.py\u001b\\\u001b[2m_client.py\u001b[0m\u001b]8;;\u001b\\\u001b[2m:\u001b[0m\u001b]8;id=257432;file:///Users/syshin/Library/Caches/pypoetry/virtualenvs/naver-boostcamp-autorag-AUsRp4k1-py3.11/lib/python3.11/site-packages/httpx/_client.py#1740\u001b\\\u001b[2m1740\u001b[0m\u001b]8;;\u001b\\\n",
       "\u001b[2;36m                    \u001b[0m         \u001b[4;94mhttps://api.openai.com/v1/chat/completions\u001b[0m \u001b[32m\"HTTP/1.1 200 OK\"\u001b[0m           \u001b[2m               \u001b[0m\n"
      ]
     },
     "metadata": {},
     "output_type": "display_data"
    },
    {
     "data": {
      "text/html": [
       "<pre style=\"white-space:pre;overflow-x:auto;line-height:normal;font-family:Menlo,'DejaVu Sans Mono',consolas,'Courier New',monospace\"><span style=\"color: #7fbfbf; text-decoration-color: #7fbfbf\">                    </span><span style=\"color: #000080; text-decoration-color: #000080\">INFO    </span> <span style=\"font-weight: bold\">[</span>_client.py:<span style=\"color: #008080; text-decoration-color: #008080; font-weight: bold\">1740</span><span style=\"font-weight: bold\">]</span> &gt;&gt; HTTP Request: <span style=\"color: #808000; text-decoration-color: #808000; font-weight: bold\">POST</span>                                <a href=\"file:///Users/syshin/Library/Caches/pypoetry/virtualenvs/naver-boostcamp-autorag-AUsRp4k1-py3.11/lib/python3.11/site-packages/httpx/_client.py\" target=\"_blank\"><span style=\"color: #7f7f7f; text-decoration-color: #7f7f7f\">_client.py</span></a><span style=\"color: #7f7f7f; text-decoration-color: #7f7f7f\">:</span><a href=\"file:///Users/syshin/Library/Caches/pypoetry/virtualenvs/naver-boostcamp-autorag-AUsRp4k1-py3.11/lib/python3.11/site-packages/httpx/_client.py#1740\" target=\"_blank\"><span style=\"color: #7f7f7f; text-decoration-color: #7f7f7f\">1740</span></a>\n",
       "<span style=\"color: #7fbfbf; text-decoration-color: #7fbfbf\">                    </span>         <span style=\"color: #0000ff; text-decoration-color: #0000ff; text-decoration: underline\">https://api.openai.com/v1/chat/completions</span> <span style=\"color: #008000; text-decoration-color: #008000\">\"HTTP/1.1 200 OK\"</span>           <span style=\"color: #7f7f7f; text-decoration-color: #7f7f7f\">               </span>\n",
       "</pre>\n"
      ],
      "text/plain": [
       "\u001b[2;36m                   \u001b[0m\u001b[2;36m \u001b[0m\u001b[34mINFO    \u001b[0m \u001b[1m[\u001b[0m_client.py:\u001b[1;36m1740\u001b[0m\u001b[1m]\u001b[0m >> HTTP Request: \u001b[1;33mPOST\u001b[0m                                \u001b]8;id=986513;file:///Users/syshin/Library/Caches/pypoetry/virtualenvs/naver-boostcamp-autorag-AUsRp4k1-py3.11/lib/python3.11/site-packages/httpx/_client.py\u001b\\\u001b[2m_client.py\u001b[0m\u001b]8;;\u001b\\\u001b[2m:\u001b[0m\u001b]8;id=789071;file:///Users/syshin/Library/Caches/pypoetry/virtualenvs/naver-boostcamp-autorag-AUsRp4k1-py3.11/lib/python3.11/site-packages/httpx/_client.py#1740\u001b\\\u001b[2m1740\u001b[0m\u001b]8;;\u001b\\\n",
       "\u001b[2;36m                    \u001b[0m         \u001b[4;94mhttps://api.openai.com/v1/chat/completions\u001b[0m \u001b[32m\"HTTP/1.1 200 OK\"\u001b[0m           \u001b[2m               \u001b[0m\n"
      ]
     },
     "metadata": {},
     "output_type": "display_data"
    },
    {
     "data": {
      "text/html": [
       "<pre style=\"white-space:pre;overflow-x:auto;line-height:normal;font-family:Menlo,'DejaVu Sans Mono',consolas,'Courier New',monospace\"><span style=\"color: #7fbfbf; text-decoration-color: #7fbfbf\">                    </span><span style=\"color: #000080; text-decoration-color: #000080\">INFO    </span> <span style=\"font-weight: bold\">[</span>_client.py:<span style=\"color: #008080; text-decoration-color: #008080; font-weight: bold\">1740</span><span style=\"font-weight: bold\">]</span> &gt;&gt; HTTP Request: <span style=\"color: #808000; text-decoration-color: #808000; font-weight: bold\">POST</span>                                <a href=\"file:///Users/syshin/Library/Caches/pypoetry/virtualenvs/naver-boostcamp-autorag-AUsRp4k1-py3.11/lib/python3.11/site-packages/httpx/_client.py\" target=\"_blank\"><span style=\"color: #7f7f7f; text-decoration-color: #7f7f7f\">_client.py</span></a><span style=\"color: #7f7f7f; text-decoration-color: #7f7f7f\">:</span><a href=\"file:///Users/syshin/Library/Caches/pypoetry/virtualenvs/naver-boostcamp-autorag-AUsRp4k1-py3.11/lib/python3.11/site-packages/httpx/_client.py#1740\" target=\"_blank\"><span style=\"color: #7f7f7f; text-decoration-color: #7f7f7f\">1740</span></a>\n",
       "<span style=\"color: #7fbfbf; text-decoration-color: #7fbfbf\">                    </span>         <span style=\"color: #0000ff; text-decoration-color: #0000ff; text-decoration: underline\">https://api.openai.com/v1/chat/completions</span> <span style=\"color: #008000; text-decoration-color: #008000\">\"HTTP/1.1 200 OK\"</span>           <span style=\"color: #7f7f7f; text-decoration-color: #7f7f7f\">               </span>\n",
       "</pre>\n"
      ],
      "text/plain": [
       "\u001b[2;36m                   \u001b[0m\u001b[2;36m \u001b[0m\u001b[34mINFO    \u001b[0m \u001b[1m[\u001b[0m_client.py:\u001b[1;36m1740\u001b[0m\u001b[1m]\u001b[0m >> HTTP Request: \u001b[1;33mPOST\u001b[0m                                \u001b]8;id=449733;file:///Users/syshin/Library/Caches/pypoetry/virtualenvs/naver-boostcamp-autorag-AUsRp4k1-py3.11/lib/python3.11/site-packages/httpx/_client.py\u001b\\\u001b[2m_client.py\u001b[0m\u001b]8;;\u001b\\\u001b[2m:\u001b[0m\u001b]8;id=766552;file:///Users/syshin/Library/Caches/pypoetry/virtualenvs/naver-boostcamp-autorag-AUsRp4k1-py3.11/lib/python3.11/site-packages/httpx/_client.py#1740\u001b\\\u001b[2m1740\u001b[0m\u001b]8;;\u001b\\\n",
       "\u001b[2;36m                    \u001b[0m         \u001b[4;94mhttps://api.openai.com/v1/chat/completions\u001b[0m \u001b[32m\"HTTP/1.1 200 OK\"\u001b[0m           \u001b[2m               \u001b[0m\n"
      ]
     },
     "metadata": {},
     "output_type": "display_data"
    },
    {
     "data": {
      "text/html": [
       "<pre style=\"white-space:pre;overflow-x:auto;line-height:normal;font-family:Menlo,'DejaVu Sans Mono',consolas,'Courier New',monospace\"><span style=\"color: #7fbfbf; text-decoration-color: #7fbfbf\">                    </span><span style=\"color: #000080; text-decoration-color: #000080\">INFO    </span> <span style=\"font-weight: bold\">[</span>_client.py:<span style=\"color: #008080; text-decoration-color: #008080; font-weight: bold\">1740</span><span style=\"font-weight: bold\">]</span> &gt;&gt; HTTP Request: <span style=\"color: #808000; text-decoration-color: #808000; font-weight: bold\">POST</span>                                <a href=\"file:///Users/syshin/Library/Caches/pypoetry/virtualenvs/naver-boostcamp-autorag-AUsRp4k1-py3.11/lib/python3.11/site-packages/httpx/_client.py\" target=\"_blank\"><span style=\"color: #7f7f7f; text-decoration-color: #7f7f7f\">_client.py</span></a><span style=\"color: #7f7f7f; text-decoration-color: #7f7f7f\">:</span><a href=\"file:///Users/syshin/Library/Caches/pypoetry/virtualenvs/naver-boostcamp-autorag-AUsRp4k1-py3.11/lib/python3.11/site-packages/httpx/_client.py#1740\" target=\"_blank\"><span style=\"color: #7f7f7f; text-decoration-color: #7f7f7f\">1740</span></a>\n",
       "<span style=\"color: #7fbfbf; text-decoration-color: #7fbfbf\">                    </span>         <span style=\"color: #0000ff; text-decoration-color: #0000ff; text-decoration: underline\">https://api.openai.com/v1/chat/completions</span> <span style=\"color: #008000; text-decoration-color: #008000\">\"HTTP/1.1 200 OK\"</span>           <span style=\"color: #7f7f7f; text-decoration-color: #7f7f7f\">               </span>\n",
       "</pre>\n"
      ],
      "text/plain": [
       "\u001b[2;36m                   \u001b[0m\u001b[2;36m \u001b[0m\u001b[34mINFO    \u001b[0m \u001b[1m[\u001b[0m_client.py:\u001b[1;36m1740\u001b[0m\u001b[1m]\u001b[0m >> HTTP Request: \u001b[1;33mPOST\u001b[0m                                \u001b]8;id=724467;file:///Users/syshin/Library/Caches/pypoetry/virtualenvs/naver-boostcamp-autorag-AUsRp4k1-py3.11/lib/python3.11/site-packages/httpx/_client.py\u001b\\\u001b[2m_client.py\u001b[0m\u001b]8;;\u001b\\\u001b[2m:\u001b[0m\u001b]8;id=492287;file:///Users/syshin/Library/Caches/pypoetry/virtualenvs/naver-boostcamp-autorag-AUsRp4k1-py3.11/lib/python3.11/site-packages/httpx/_client.py#1740\u001b\\\u001b[2m1740\u001b[0m\u001b]8;;\u001b\\\n",
       "\u001b[2;36m                    \u001b[0m         \u001b[4;94mhttps://api.openai.com/v1/chat/completions\u001b[0m \u001b[32m\"HTTP/1.1 200 OK\"\u001b[0m           \u001b[2m               \u001b[0m\n"
      ]
     },
     "metadata": {},
     "output_type": "display_data"
    },
    {
     "data": {
      "text/html": [
       "<pre style=\"white-space:pre;overflow-x:auto;line-height:normal;font-family:Menlo,'DejaVu Sans Mono',consolas,'Courier New',monospace\"><span style=\"color: #7fbfbf; text-decoration-color: #7fbfbf\">                    </span><span style=\"color: #000080; text-decoration-color: #000080\">INFO    </span> <span style=\"font-weight: bold\">[</span>_client.py:<span style=\"color: #008080; text-decoration-color: #008080; font-weight: bold\">1740</span><span style=\"font-weight: bold\">]</span> &gt;&gt; HTTP Request: <span style=\"color: #808000; text-decoration-color: #808000; font-weight: bold\">POST</span>                                <a href=\"file:///Users/syshin/Library/Caches/pypoetry/virtualenvs/naver-boostcamp-autorag-AUsRp4k1-py3.11/lib/python3.11/site-packages/httpx/_client.py\" target=\"_blank\"><span style=\"color: #7f7f7f; text-decoration-color: #7f7f7f\">_client.py</span></a><span style=\"color: #7f7f7f; text-decoration-color: #7f7f7f\">:</span><a href=\"file:///Users/syshin/Library/Caches/pypoetry/virtualenvs/naver-boostcamp-autorag-AUsRp4k1-py3.11/lib/python3.11/site-packages/httpx/_client.py#1740\" target=\"_blank\"><span style=\"color: #7f7f7f; text-decoration-color: #7f7f7f\">1740</span></a>\n",
       "<span style=\"color: #7fbfbf; text-decoration-color: #7fbfbf\">                    </span>         <span style=\"color: #0000ff; text-decoration-color: #0000ff; text-decoration: underline\">https://api.openai.com/v1/chat/completions</span> <span style=\"color: #008000; text-decoration-color: #008000\">\"HTTP/1.1 200 OK\"</span>           <span style=\"color: #7f7f7f; text-decoration-color: #7f7f7f\">               </span>\n",
       "</pre>\n"
      ],
      "text/plain": [
       "\u001b[2;36m                   \u001b[0m\u001b[2;36m \u001b[0m\u001b[34mINFO    \u001b[0m \u001b[1m[\u001b[0m_client.py:\u001b[1;36m1740\u001b[0m\u001b[1m]\u001b[0m >> HTTP Request: \u001b[1;33mPOST\u001b[0m                                \u001b]8;id=754487;file:///Users/syshin/Library/Caches/pypoetry/virtualenvs/naver-boostcamp-autorag-AUsRp4k1-py3.11/lib/python3.11/site-packages/httpx/_client.py\u001b\\\u001b[2m_client.py\u001b[0m\u001b]8;;\u001b\\\u001b[2m:\u001b[0m\u001b]8;id=611309;file:///Users/syshin/Library/Caches/pypoetry/virtualenvs/naver-boostcamp-autorag-AUsRp4k1-py3.11/lib/python3.11/site-packages/httpx/_client.py#1740\u001b\\\u001b[2m1740\u001b[0m\u001b]8;;\u001b\\\n",
       "\u001b[2;36m                    \u001b[0m         \u001b[4;94mhttps://api.openai.com/v1/chat/completions\u001b[0m \u001b[32m\"HTTP/1.1 200 OK\"\u001b[0m           \u001b[2m               \u001b[0m\n"
      ]
     },
     "metadata": {},
     "output_type": "display_data"
    },
    {
     "data": {
      "text/html": [
       "<pre style=\"white-space:pre;overflow-x:auto;line-height:normal;font-family:Menlo,'DejaVu Sans Mono',consolas,'Courier New',monospace\"><span style=\"color: #7fbfbf; text-decoration-color: #7fbfbf\">                    </span><span style=\"color: #000080; text-decoration-color: #000080\">INFO    </span> <span style=\"font-weight: bold\">[</span>_client.py:<span style=\"color: #008080; text-decoration-color: #008080; font-weight: bold\">1740</span><span style=\"font-weight: bold\">]</span> &gt;&gt; HTTP Request: <span style=\"color: #808000; text-decoration-color: #808000; font-weight: bold\">POST</span>                                <a href=\"file:///Users/syshin/Library/Caches/pypoetry/virtualenvs/naver-boostcamp-autorag-AUsRp4k1-py3.11/lib/python3.11/site-packages/httpx/_client.py\" target=\"_blank\"><span style=\"color: #7f7f7f; text-decoration-color: #7f7f7f\">_client.py</span></a><span style=\"color: #7f7f7f; text-decoration-color: #7f7f7f\">:</span><a href=\"file:///Users/syshin/Library/Caches/pypoetry/virtualenvs/naver-boostcamp-autorag-AUsRp4k1-py3.11/lib/python3.11/site-packages/httpx/_client.py#1740\" target=\"_blank\"><span style=\"color: #7f7f7f; text-decoration-color: #7f7f7f\">1740</span></a>\n",
       "<span style=\"color: #7fbfbf; text-decoration-color: #7fbfbf\">                    </span>         <span style=\"color: #0000ff; text-decoration-color: #0000ff; text-decoration: underline\">https://api.openai.com/v1/chat/completions</span> <span style=\"color: #008000; text-decoration-color: #008000\">\"HTTP/1.1 200 OK\"</span>           <span style=\"color: #7f7f7f; text-decoration-color: #7f7f7f\">               </span>\n",
       "</pre>\n"
      ],
      "text/plain": [
       "\u001b[2;36m                   \u001b[0m\u001b[2;36m \u001b[0m\u001b[34mINFO    \u001b[0m \u001b[1m[\u001b[0m_client.py:\u001b[1;36m1740\u001b[0m\u001b[1m]\u001b[0m >> HTTP Request: \u001b[1;33mPOST\u001b[0m                                \u001b]8;id=368471;file:///Users/syshin/Library/Caches/pypoetry/virtualenvs/naver-boostcamp-autorag-AUsRp4k1-py3.11/lib/python3.11/site-packages/httpx/_client.py\u001b\\\u001b[2m_client.py\u001b[0m\u001b]8;;\u001b\\\u001b[2m:\u001b[0m\u001b]8;id=946230;file:///Users/syshin/Library/Caches/pypoetry/virtualenvs/naver-boostcamp-autorag-AUsRp4k1-py3.11/lib/python3.11/site-packages/httpx/_client.py#1740\u001b\\\u001b[2m1740\u001b[0m\u001b]8;;\u001b\\\n",
       "\u001b[2;36m                    \u001b[0m         \u001b[4;94mhttps://api.openai.com/v1/chat/completions\u001b[0m \u001b[32m\"HTTP/1.1 200 OK\"\u001b[0m           \u001b[2m               \u001b[0m\n"
      ]
     },
     "metadata": {},
     "output_type": "display_data"
    },
    {
     "data": {
      "text/html": [
       "<pre style=\"white-space:pre;overflow-x:auto;line-height:normal;font-family:Menlo,'DejaVu Sans Mono',consolas,'Courier New',monospace\"><span style=\"color: #7fbfbf; text-decoration-color: #7fbfbf\">                    </span><span style=\"color: #000080; text-decoration-color: #000080\">INFO    </span> <span style=\"font-weight: bold\">[</span>_client.py:<span style=\"color: #008080; text-decoration-color: #008080; font-weight: bold\">1740</span><span style=\"font-weight: bold\">]</span> &gt;&gt; HTTP Request: <span style=\"color: #808000; text-decoration-color: #808000; font-weight: bold\">POST</span>                                <a href=\"file:///Users/syshin/Library/Caches/pypoetry/virtualenvs/naver-boostcamp-autorag-AUsRp4k1-py3.11/lib/python3.11/site-packages/httpx/_client.py\" target=\"_blank\"><span style=\"color: #7f7f7f; text-decoration-color: #7f7f7f\">_client.py</span></a><span style=\"color: #7f7f7f; text-decoration-color: #7f7f7f\">:</span><a href=\"file:///Users/syshin/Library/Caches/pypoetry/virtualenvs/naver-boostcamp-autorag-AUsRp4k1-py3.11/lib/python3.11/site-packages/httpx/_client.py#1740\" target=\"_blank\"><span style=\"color: #7f7f7f; text-decoration-color: #7f7f7f\">1740</span></a>\n",
       "<span style=\"color: #7fbfbf; text-decoration-color: #7fbfbf\">                    </span>         <span style=\"color: #0000ff; text-decoration-color: #0000ff; text-decoration: underline\">https://api.openai.com/v1/chat/completions</span> <span style=\"color: #008000; text-decoration-color: #008000\">\"HTTP/1.1 200 OK\"</span>           <span style=\"color: #7f7f7f; text-decoration-color: #7f7f7f\">               </span>\n",
       "</pre>\n"
      ],
      "text/plain": [
       "\u001b[2;36m                   \u001b[0m\u001b[2;36m \u001b[0m\u001b[34mINFO    \u001b[0m \u001b[1m[\u001b[0m_client.py:\u001b[1;36m1740\u001b[0m\u001b[1m]\u001b[0m >> HTTP Request: \u001b[1;33mPOST\u001b[0m                                \u001b]8;id=239996;file:///Users/syshin/Library/Caches/pypoetry/virtualenvs/naver-boostcamp-autorag-AUsRp4k1-py3.11/lib/python3.11/site-packages/httpx/_client.py\u001b\\\u001b[2m_client.py\u001b[0m\u001b]8;;\u001b\\\u001b[2m:\u001b[0m\u001b]8;id=421872;file:///Users/syshin/Library/Caches/pypoetry/virtualenvs/naver-boostcamp-autorag-AUsRp4k1-py3.11/lib/python3.11/site-packages/httpx/_client.py#1740\u001b\\\u001b[2m1740\u001b[0m\u001b]8;;\u001b\\\n",
       "\u001b[2;36m                    \u001b[0m         \u001b[4;94mhttps://api.openai.com/v1/chat/completions\u001b[0m \u001b[32m\"HTTP/1.1 200 OK\"\u001b[0m           \u001b[2m               \u001b[0m\n"
      ]
     },
     "metadata": {},
     "output_type": "display_data"
    },
    {
     "data": {
      "text/html": [
       "<pre style=\"white-space:pre;overflow-x:auto;line-height:normal;font-family:Menlo,'DejaVu Sans Mono',consolas,'Courier New',monospace\"><span style=\"color: #7fbfbf; text-decoration-color: #7fbfbf\">                    </span><span style=\"color: #000080; text-decoration-color: #000080\">INFO    </span> <span style=\"font-weight: bold\">[</span>_client.py:<span style=\"color: #008080; text-decoration-color: #008080; font-weight: bold\">1740</span><span style=\"font-weight: bold\">]</span> &gt;&gt; HTTP Request: <span style=\"color: #808000; text-decoration-color: #808000; font-weight: bold\">POST</span>                                <a href=\"file:///Users/syshin/Library/Caches/pypoetry/virtualenvs/naver-boostcamp-autorag-AUsRp4k1-py3.11/lib/python3.11/site-packages/httpx/_client.py\" target=\"_blank\"><span style=\"color: #7f7f7f; text-decoration-color: #7f7f7f\">_client.py</span></a><span style=\"color: #7f7f7f; text-decoration-color: #7f7f7f\">:</span><a href=\"file:///Users/syshin/Library/Caches/pypoetry/virtualenvs/naver-boostcamp-autorag-AUsRp4k1-py3.11/lib/python3.11/site-packages/httpx/_client.py#1740\" target=\"_blank\"><span style=\"color: #7f7f7f; text-decoration-color: #7f7f7f\">1740</span></a>\n",
       "<span style=\"color: #7fbfbf; text-decoration-color: #7fbfbf\">                    </span>         <span style=\"color: #0000ff; text-decoration-color: #0000ff; text-decoration: underline\">https://api.openai.com/v1/chat/completions</span> <span style=\"color: #008000; text-decoration-color: #008000\">\"HTTP/1.1 200 OK\"</span>           <span style=\"color: #7f7f7f; text-decoration-color: #7f7f7f\">               </span>\n",
       "</pre>\n"
      ],
      "text/plain": [
       "\u001b[2;36m                   \u001b[0m\u001b[2;36m \u001b[0m\u001b[34mINFO    \u001b[0m \u001b[1m[\u001b[0m_client.py:\u001b[1;36m1740\u001b[0m\u001b[1m]\u001b[0m >> HTTP Request: \u001b[1;33mPOST\u001b[0m                                \u001b]8;id=150217;file:///Users/syshin/Library/Caches/pypoetry/virtualenvs/naver-boostcamp-autorag-AUsRp4k1-py3.11/lib/python3.11/site-packages/httpx/_client.py\u001b\\\u001b[2m_client.py\u001b[0m\u001b]8;;\u001b\\\u001b[2m:\u001b[0m\u001b]8;id=818336;file:///Users/syshin/Library/Caches/pypoetry/virtualenvs/naver-boostcamp-autorag-AUsRp4k1-py3.11/lib/python3.11/site-packages/httpx/_client.py#1740\u001b\\\u001b[2m1740\u001b[0m\u001b]8;;\u001b\\\n",
       "\u001b[2;36m                    \u001b[0m         \u001b[4;94mhttps://api.openai.com/v1/chat/completions\u001b[0m \u001b[32m\"HTTP/1.1 200 OK\"\u001b[0m           \u001b[2m               \u001b[0m\n"
      ]
     },
     "metadata": {},
     "output_type": "display_data"
    },
    {
     "data": {
      "text/html": [
       "<pre style=\"white-space:pre;overflow-x:auto;line-height:normal;font-family:Menlo,'DejaVu Sans Mono',consolas,'Courier New',monospace\"><span style=\"color: #7fbfbf; text-decoration-color: #7fbfbf\">                    </span><span style=\"color: #000080; text-decoration-color: #000080\">INFO    </span> <span style=\"font-weight: bold\">[</span>_client.py:<span style=\"color: #008080; text-decoration-color: #008080; font-weight: bold\">1740</span><span style=\"font-weight: bold\">]</span> &gt;&gt; HTTP Request: <span style=\"color: #808000; text-decoration-color: #808000; font-weight: bold\">POST</span>                                <a href=\"file:///Users/syshin/Library/Caches/pypoetry/virtualenvs/naver-boostcamp-autorag-AUsRp4k1-py3.11/lib/python3.11/site-packages/httpx/_client.py\" target=\"_blank\"><span style=\"color: #7f7f7f; text-decoration-color: #7f7f7f\">_client.py</span></a><span style=\"color: #7f7f7f; text-decoration-color: #7f7f7f\">:</span><a href=\"file:///Users/syshin/Library/Caches/pypoetry/virtualenvs/naver-boostcamp-autorag-AUsRp4k1-py3.11/lib/python3.11/site-packages/httpx/_client.py#1740\" target=\"_blank\"><span style=\"color: #7f7f7f; text-decoration-color: #7f7f7f\">1740</span></a>\n",
       "<span style=\"color: #7fbfbf; text-decoration-color: #7fbfbf\">                    </span>         <span style=\"color: #0000ff; text-decoration-color: #0000ff; text-decoration: underline\">https://api.openai.com/v1/chat/completions</span> <span style=\"color: #008000; text-decoration-color: #008000\">\"HTTP/1.1 200 OK\"</span>           <span style=\"color: #7f7f7f; text-decoration-color: #7f7f7f\">               </span>\n",
       "</pre>\n"
      ],
      "text/plain": [
       "\u001b[2;36m                   \u001b[0m\u001b[2;36m \u001b[0m\u001b[34mINFO    \u001b[0m \u001b[1m[\u001b[0m_client.py:\u001b[1;36m1740\u001b[0m\u001b[1m]\u001b[0m >> HTTP Request: \u001b[1;33mPOST\u001b[0m                                \u001b]8;id=645614;file:///Users/syshin/Library/Caches/pypoetry/virtualenvs/naver-boostcamp-autorag-AUsRp4k1-py3.11/lib/python3.11/site-packages/httpx/_client.py\u001b\\\u001b[2m_client.py\u001b[0m\u001b]8;;\u001b\\\u001b[2m:\u001b[0m\u001b]8;id=270787;file:///Users/syshin/Library/Caches/pypoetry/virtualenvs/naver-boostcamp-autorag-AUsRp4k1-py3.11/lib/python3.11/site-packages/httpx/_client.py#1740\u001b\\\u001b[2m1740\u001b[0m\u001b]8;;\u001b\\\n",
       "\u001b[2;36m                    \u001b[0m         \u001b[4;94mhttps://api.openai.com/v1/chat/completions\u001b[0m \u001b[32m\"HTTP/1.1 200 OK\"\u001b[0m           \u001b[2m               \u001b[0m\n"
      ]
     },
     "metadata": {},
     "output_type": "display_data"
    },
    {
     "data": {
      "text/html": [
       "<pre style=\"white-space:pre;overflow-x:auto;line-height:normal;font-family:Menlo,'DejaVu Sans Mono',consolas,'Courier New',monospace\"><span style=\"color: #7fbfbf; text-decoration-color: #7fbfbf\">                    </span><span style=\"color: #000080; text-decoration-color: #000080\">INFO    </span> <span style=\"font-weight: bold\">[</span>_client.py:<span style=\"color: #008080; text-decoration-color: #008080; font-weight: bold\">1740</span><span style=\"font-weight: bold\">]</span> &gt;&gt; HTTP Request: <span style=\"color: #808000; text-decoration-color: #808000; font-weight: bold\">POST</span>                                <a href=\"file:///Users/syshin/Library/Caches/pypoetry/virtualenvs/naver-boostcamp-autorag-AUsRp4k1-py3.11/lib/python3.11/site-packages/httpx/_client.py\" target=\"_blank\"><span style=\"color: #7f7f7f; text-decoration-color: #7f7f7f\">_client.py</span></a><span style=\"color: #7f7f7f; text-decoration-color: #7f7f7f\">:</span><a href=\"file:///Users/syshin/Library/Caches/pypoetry/virtualenvs/naver-boostcamp-autorag-AUsRp4k1-py3.11/lib/python3.11/site-packages/httpx/_client.py#1740\" target=\"_blank\"><span style=\"color: #7f7f7f; text-decoration-color: #7f7f7f\">1740</span></a>\n",
       "<span style=\"color: #7fbfbf; text-decoration-color: #7fbfbf\">                    </span>         <span style=\"color: #0000ff; text-decoration-color: #0000ff; text-decoration: underline\">https://api.openai.com/v1/chat/completions</span> <span style=\"color: #008000; text-decoration-color: #008000\">\"HTTP/1.1 200 OK\"</span>           <span style=\"color: #7f7f7f; text-decoration-color: #7f7f7f\">               </span>\n",
       "</pre>\n"
      ],
      "text/plain": [
       "\u001b[2;36m                   \u001b[0m\u001b[2;36m \u001b[0m\u001b[34mINFO    \u001b[0m \u001b[1m[\u001b[0m_client.py:\u001b[1;36m1740\u001b[0m\u001b[1m]\u001b[0m >> HTTP Request: \u001b[1;33mPOST\u001b[0m                                \u001b]8;id=18132;file:///Users/syshin/Library/Caches/pypoetry/virtualenvs/naver-boostcamp-autorag-AUsRp4k1-py3.11/lib/python3.11/site-packages/httpx/_client.py\u001b\\\u001b[2m_client.py\u001b[0m\u001b]8;;\u001b\\\u001b[2m:\u001b[0m\u001b]8;id=650746;file:///Users/syshin/Library/Caches/pypoetry/virtualenvs/naver-boostcamp-autorag-AUsRp4k1-py3.11/lib/python3.11/site-packages/httpx/_client.py#1740\u001b\\\u001b[2m1740\u001b[0m\u001b]8;;\u001b\\\n",
       "\u001b[2;36m                    \u001b[0m         \u001b[4;94mhttps://api.openai.com/v1/chat/completions\u001b[0m \u001b[32m\"HTTP/1.1 200 OK\"\u001b[0m           \u001b[2m               \u001b[0m\n"
      ]
     },
     "metadata": {},
     "output_type": "display_data"
    },
    {
     "data": {
      "text/html": [
       "<pre style=\"white-space:pre;overflow-x:auto;line-height:normal;font-family:Menlo,'DejaVu Sans Mono',consolas,'Courier New',monospace\"><span style=\"color: #7fbfbf; text-decoration-color: #7fbfbf\">                    </span><span style=\"color: #000080; text-decoration-color: #000080\">INFO    </span> <span style=\"font-weight: bold\">[</span>_client.py:<span style=\"color: #008080; text-decoration-color: #008080; font-weight: bold\">1740</span><span style=\"font-weight: bold\">]</span> &gt;&gt; HTTP Request: <span style=\"color: #808000; text-decoration-color: #808000; font-weight: bold\">POST</span>                                <a href=\"file:///Users/syshin/Library/Caches/pypoetry/virtualenvs/naver-boostcamp-autorag-AUsRp4k1-py3.11/lib/python3.11/site-packages/httpx/_client.py\" target=\"_blank\"><span style=\"color: #7f7f7f; text-decoration-color: #7f7f7f\">_client.py</span></a><span style=\"color: #7f7f7f; text-decoration-color: #7f7f7f\">:</span><a href=\"file:///Users/syshin/Library/Caches/pypoetry/virtualenvs/naver-boostcamp-autorag-AUsRp4k1-py3.11/lib/python3.11/site-packages/httpx/_client.py#1740\" target=\"_blank\"><span style=\"color: #7f7f7f; text-decoration-color: #7f7f7f\">1740</span></a>\n",
       "<span style=\"color: #7fbfbf; text-decoration-color: #7fbfbf\">                    </span>         <span style=\"color: #0000ff; text-decoration-color: #0000ff; text-decoration: underline\">https://api.openai.com/v1/chat/completions</span> <span style=\"color: #008000; text-decoration-color: #008000\">\"HTTP/1.1 200 OK\"</span>           <span style=\"color: #7f7f7f; text-decoration-color: #7f7f7f\">               </span>\n",
       "</pre>\n"
      ],
      "text/plain": [
       "\u001b[2;36m                   \u001b[0m\u001b[2;36m \u001b[0m\u001b[34mINFO    \u001b[0m \u001b[1m[\u001b[0m_client.py:\u001b[1;36m1740\u001b[0m\u001b[1m]\u001b[0m >> HTTP Request: \u001b[1;33mPOST\u001b[0m                                \u001b]8;id=780450;file:///Users/syshin/Library/Caches/pypoetry/virtualenvs/naver-boostcamp-autorag-AUsRp4k1-py3.11/lib/python3.11/site-packages/httpx/_client.py\u001b\\\u001b[2m_client.py\u001b[0m\u001b]8;;\u001b\\\u001b[2m:\u001b[0m\u001b]8;id=304026;file:///Users/syshin/Library/Caches/pypoetry/virtualenvs/naver-boostcamp-autorag-AUsRp4k1-py3.11/lib/python3.11/site-packages/httpx/_client.py#1740\u001b\\\u001b[2m1740\u001b[0m\u001b]8;;\u001b\\\n",
       "\u001b[2;36m                    \u001b[0m         \u001b[4;94mhttps://api.openai.com/v1/chat/completions\u001b[0m \u001b[32m\"HTTP/1.1 200 OK\"\u001b[0m           \u001b[2m               \u001b[0m\n"
      ]
     },
     "metadata": {},
     "output_type": "display_data"
    },
    {
     "data": {
      "text/html": [
       "<pre style=\"white-space:pre;overflow-x:auto;line-height:normal;font-family:Menlo,'DejaVu Sans Mono',consolas,'Courier New',monospace\"><span style=\"color: #7fbfbf; text-decoration-color: #7fbfbf\">                    </span><span style=\"color: #000080; text-decoration-color: #000080\">INFO    </span> <span style=\"font-weight: bold\">[</span>_client.py:<span style=\"color: #008080; text-decoration-color: #008080; font-weight: bold\">1740</span><span style=\"font-weight: bold\">]</span> &gt;&gt; HTTP Request: <span style=\"color: #808000; text-decoration-color: #808000; font-weight: bold\">POST</span>                                <a href=\"file:///Users/syshin/Library/Caches/pypoetry/virtualenvs/naver-boostcamp-autorag-AUsRp4k1-py3.11/lib/python3.11/site-packages/httpx/_client.py\" target=\"_blank\"><span style=\"color: #7f7f7f; text-decoration-color: #7f7f7f\">_client.py</span></a><span style=\"color: #7f7f7f; text-decoration-color: #7f7f7f\">:</span><a href=\"file:///Users/syshin/Library/Caches/pypoetry/virtualenvs/naver-boostcamp-autorag-AUsRp4k1-py3.11/lib/python3.11/site-packages/httpx/_client.py#1740\" target=\"_blank\"><span style=\"color: #7f7f7f; text-decoration-color: #7f7f7f\">1740</span></a>\n",
       "<span style=\"color: #7fbfbf; text-decoration-color: #7fbfbf\">                    </span>         <span style=\"color: #0000ff; text-decoration-color: #0000ff; text-decoration: underline\">https://api.openai.com/v1/chat/completions</span> <span style=\"color: #008000; text-decoration-color: #008000\">\"HTTP/1.1 200 OK\"</span>           <span style=\"color: #7f7f7f; text-decoration-color: #7f7f7f\">               </span>\n",
       "</pre>\n"
      ],
      "text/plain": [
       "\u001b[2;36m                   \u001b[0m\u001b[2;36m \u001b[0m\u001b[34mINFO    \u001b[0m \u001b[1m[\u001b[0m_client.py:\u001b[1;36m1740\u001b[0m\u001b[1m]\u001b[0m >> HTTP Request: \u001b[1;33mPOST\u001b[0m                                \u001b]8;id=714586;file:///Users/syshin/Library/Caches/pypoetry/virtualenvs/naver-boostcamp-autorag-AUsRp4k1-py3.11/lib/python3.11/site-packages/httpx/_client.py\u001b\\\u001b[2m_client.py\u001b[0m\u001b]8;;\u001b\\\u001b[2m:\u001b[0m\u001b]8;id=45889;file:///Users/syshin/Library/Caches/pypoetry/virtualenvs/naver-boostcamp-autorag-AUsRp4k1-py3.11/lib/python3.11/site-packages/httpx/_client.py#1740\u001b\\\u001b[2m1740\u001b[0m\u001b]8;;\u001b\\\n",
       "\u001b[2;36m                    \u001b[0m         \u001b[4;94mhttps://api.openai.com/v1/chat/completions\u001b[0m \u001b[32m\"HTTP/1.1 200 OK\"\u001b[0m           \u001b[2m               \u001b[0m\n"
      ]
     },
     "metadata": {},
     "output_type": "display_data"
    },
    {
     "data": {
      "text/html": [
       "<pre style=\"white-space:pre;overflow-x:auto;line-height:normal;font-family:Menlo,'DejaVu Sans Mono',consolas,'Courier New',monospace\"><span style=\"color: #7fbfbf; text-decoration-color: #7fbfbf\">[01/13/25 12:16:12] </span><span style=\"color: #000080; text-decoration-color: #000080\">INFO    </span> <span style=\"font-weight: bold\">[</span>_client.py:<span style=\"color: #008080; text-decoration-color: #008080; font-weight: bold\">1740</span><span style=\"font-weight: bold\">]</span> &gt;&gt; HTTP Request: <span style=\"color: #808000; text-decoration-color: #808000; font-weight: bold\">POST</span>                                <a href=\"file:///Users/syshin/Library/Caches/pypoetry/virtualenvs/naver-boostcamp-autorag-AUsRp4k1-py3.11/lib/python3.11/site-packages/httpx/_client.py\" target=\"_blank\"><span style=\"color: #7f7f7f; text-decoration-color: #7f7f7f\">_client.py</span></a><span style=\"color: #7f7f7f; text-decoration-color: #7f7f7f\">:</span><a href=\"file:///Users/syshin/Library/Caches/pypoetry/virtualenvs/naver-boostcamp-autorag-AUsRp4k1-py3.11/lib/python3.11/site-packages/httpx/_client.py#1740\" target=\"_blank\"><span style=\"color: #7f7f7f; text-decoration-color: #7f7f7f\">1740</span></a>\n",
       "<span style=\"color: #7fbfbf; text-decoration-color: #7fbfbf\">                    </span>         <span style=\"color: #0000ff; text-decoration-color: #0000ff; text-decoration: underline\">https://api.openai.com/v1/chat/completions</span> <span style=\"color: #008000; text-decoration-color: #008000\">\"HTTP/1.1 200 OK\"</span>           <span style=\"color: #7f7f7f; text-decoration-color: #7f7f7f\">               </span>\n",
       "</pre>\n"
      ],
      "text/plain": [
       "\u001b[2;36m[01/13/25 12:16:12]\u001b[0m\u001b[2;36m \u001b[0m\u001b[34mINFO    \u001b[0m \u001b[1m[\u001b[0m_client.py:\u001b[1;36m1740\u001b[0m\u001b[1m]\u001b[0m >> HTTP Request: \u001b[1;33mPOST\u001b[0m                                \u001b]8;id=999624;file:///Users/syshin/Library/Caches/pypoetry/virtualenvs/naver-boostcamp-autorag-AUsRp4k1-py3.11/lib/python3.11/site-packages/httpx/_client.py\u001b\\\u001b[2m_client.py\u001b[0m\u001b]8;;\u001b\\\u001b[2m:\u001b[0m\u001b]8;id=847250;file:///Users/syshin/Library/Caches/pypoetry/virtualenvs/naver-boostcamp-autorag-AUsRp4k1-py3.11/lib/python3.11/site-packages/httpx/_client.py#1740\u001b\\\u001b[2m1740\u001b[0m\u001b]8;;\u001b\\\n",
       "\u001b[2;36m                    \u001b[0m         \u001b[4;94mhttps://api.openai.com/v1/chat/completions\u001b[0m \u001b[32m\"HTTP/1.1 200 OK\"\u001b[0m           \u001b[2m               \u001b[0m\n"
      ]
     },
     "metadata": {},
     "output_type": "display_data"
    },
    {
     "data": {
      "text/html": [
       "<pre style=\"white-space:pre;overflow-x:auto;line-height:normal;font-family:Menlo,'DejaVu Sans Mono',consolas,'Courier New',monospace\"><span style=\"color: #7fbfbf; text-decoration-color: #7fbfbf\">                    </span><span style=\"color: #000080; text-decoration-color: #000080\">INFO    </span> <span style=\"font-weight: bold\">[</span>_client.py:<span style=\"color: #008080; text-decoration-color: #008080; font-weight: bold\">1740</span><span style=\"font-weight: bold\">]</span> &gt;&gt; HTTP Request: <span style=\"color: #808000; text-decoration-color: #808000; font-weight: bold\">POST</span>                                <a href=\"file:///Users/syshin/Library/Caches/pypoetry/virtualenvs/naver-boostcamp-autorag-AUsRp4k1-py3.11/lib/python3.11/site-packages/httpx/_client.py\" target=\"_blank\"><span style=\"color: #7f7f7f; text-decoration-color: #7f7f7f\">_client.py</span></a><span style=\"color: #7f7f7f; text-decoration-color: #7f7f7f\">:</span><a href=\"file:///Users/syshin/Library/Caches/pypoetry/virtualenvs/naver-boostcamp-autorag-AUsRp4k1-py3.11/lib/python3.11/site-packages/httpx/_client.py#1740\" target=\"_blank\"><span style=\"color: #7f7f7f; text-decoration-color: #7f7f7f\">1740</span></a>\n",
       "<span style=\"color: #7fbfbf; text-decoration-color: #7fbfbf\">                    </span>         <span style=\"color: #0000ff; text-decoration-color: #0000ff; text-decoration: underline\">https://api.openai.com/v1/chat/completions</span> <span style=\"color: #008000; text-decoration-color: #008000\">\"HTTP/1.1 200 OK\"</span>           <span style=\"color: #7f7f7f; text-decoration-color: #7f7f7f\">               </span>\n",
       "</pre>\n"
      ],
      "text/plain": [
       "\u001b[2;36m                   \u001b[0m\u001b[2;36m \u001b[0m\u001b[34mINFO    \u001b[0m \u001b[1m[\u001b[0m_client.py:\u001b[1;36m1740\u001b[0m\u001b[1m]\u001b[0m >> HTTP Request: \u001b[1;33mPOST\u001b[0m                                \u001b]8;id=397933;file:///Users/syshin/Library/Caches/pypoetry/virtualenvs/naver-boostcamp-autorag-AUsRp4k1-py3.11/lib/python3.11/site-packages/httpx/_client.py\u001b\\\u001b[2m_client.py\u001b[0m\u001b]8;;\u001b\\\u001b[2m:\u001b[0m\u001b]8;id=706916;file:///Users/syshin/Library/Caches/pypoetry/virtualenvs/naver-boostcamp-autorag-AUsRp4k1-py3.11/lib/python3.11/site-packages/httpx/_client.py#1740\u001b\\\u001b[2m1740\u001b[0m\u001b]8;;\u001b\\\n",
       "\u001b[2;36m                    \u001b[0m         \u001b[4;94mhttps://api.openai.com/v1/chat/completions\u001b[0m \u001b[32m\"HTTP/1.1 200 OK\"\u001b[0m           \u001b[2m               \u001b[0m\n"
      ]
     },
     "metadata": {},
     "output_type": "display_data"
    },
    {
     "data": {
      "text/html": [
       "<pre style=\"white-space:pre;overflow-x:auto;line-height:normal;font-family:Menlo,'DejaVu Sans Mono',consolas,'Courier New',monospace\"><span style=\"color: #7fbfbf; text-decoration-color: #7fbfbf\">                    </span><span style=\"color: #000080; text-decoration-color: #000080\">INFO    </span> <span style=\"font-weight: bold\">[</span>_client.py:<span style=\"color: #008080; text-decoration-color: #008080; font-weight: bold\">1740</span><span style=\"font-weight: bold\">]</span> &gt;&gt; HTTP Request: <span style=\"color: #808000; text-decoration-color: #808000; font-weight: bold\">POST</span>                                <a href=\"file:///Users/syshin/Library/Caches/pypoetry/virtualenvs/naver-boostcamp-autorag-AUsRp4k1-py3.11/lib/python3.11/site-packages/httpx/_client.py\" target=\"_blank\"><span style=\"color: #7f7f7f; text-decoration-color: #7f7f7f\">_client.py</span></a><span style=\"color: #7f7f7f; text-decoration-color: #7f7f7f\">:</span><a href=\"file:///Users/syshin/Library/Caches/pypoetry/virtualenvs/naver-boostcamp-autorag-AUsRp4k1-py3.11/lib/python3.11/site-packages/httpx/_client.py#1740\" target=\"_blank\"><span style=\"color: #7f7f7f; text-decoration-color: #7f7f7f\">1740</span></a>\n",
       "<span style=\"color: #7fbfbf; text-decoration-color: #7fbfbf\">                    </span>         <span style=\"color: #0000ff; text-decoration-color: #0000ff; text-decoration: underline\">https://api.openai.com/v1/chat/completions</span> <span style=\"color: #008000; text-decoration-color: #008000\">\"HTTP/1.1 200 OK\"</span>           <span style=\"color: #7f7f7f; text-decoration-color: #7f7f7f\">               </span>\n",
       "</pre>\n"
      ],
      "text/plain": [
       "\u001b[2;36m                   \u001b[0m\u001b[2;36m \u001b[0m\u001b[34mINFO    \u001b[0m \u001b[1m[\u001b[0m_client.py:\u001b[1;36m1740\u001b[0m\u001b[1m]\u001b[0m >> HTTP Request: \u001b[1;33mPOST\u001b[0m                                \u001b]8;id=257742;file:///Users/syshin/Library/Caches/pypoetry/virtualenvs/naver-boostcamp-autorag-AUsRp4k1-py3.11/lib/python3.11/site-packages/httpx/_client.py\u001b\\\u001b[2m_client.py\u001b[0m\u001b]8;;\u001b\\\u001b[2m:\u001b[0m\u001b]8;id=904613;file:///Users/syshin/Library/Caches/pypoetry/virtualenvs/naver-boostcamp-autorag-AUsRp4k1-py3.11/lib/python3.11/site-packages/httpx/_client.py#1740\u001b\\\u001b[2m1740\u001b[0m\u001b]8;;\u001b\\\n",
       "\u001b[2;36m                    \u001b[0m         \u001b[4;94mhttps://api.openai.com/v1/chat/completions\u001b[0m \u001b[32m\"HTTP/1.1 200 OK\"\u001b[0m           \u001b[2m               \u001b[0m\n"
      ]
     },
     "metadata": {},
     "output_type": "display_data"
    },
    {
     "data": {
      "text/html": [
       "<pre style=\"white-space:pre;overflow-x:auto;line-height:normal;font-family:Menlo,'DejaVu Sans Mono',consolas,'Courier New',monospace\"><span style=\"color: #7fbfbf; text-decoration-color: #7fbfbf\">                    </span><span style=\"color: #000080; text-decoration-color: #000080\">INFO    </span> <span style=\"font-weight: bold\">[</span>_client.py:<span style=\"color: #008080; text-decoration-color: #008080; font-weight: bold\">1740</span><span style=\"font-weight: bold\">]</span> &gt;&gt; HTTP Request: <span style=\"color: #808000; text-decoration-color: #808000; font-weight: bold\">POST</span>                                <a href=\"file:///Users/syshin/Library/Caches/pypoetry/virtualenvs/naver-boostcamp-autorag-AUsRp4k1-py3.11/lib/python3.11/site-packages/httpx/_client.py\" target=\"_blank\"><span style=\"color: #7f7f7f; text-decoration-color: #7f7f7f\">_client.py</span></a><span style=\"color: #7f7f7f; text-decoration-color: #7f7f7f\">:</span><a href=\"file:///Users/syshin/Library/Caches/pypoetry/virtualenvs/naver-boostcamp-autorag-AUsRp4k1-py3.11/lib/python3.11/site-packages/httpx/_client.py#1740\" target=\"_blank\"><span style=\"color: #7f7f7f; text-decoration-color: #7f7f7f\">1740</span></a>\n",
       "<span style=\"color: #7fbfbf; text-decoration-color: #7fbfbf\">                    </span>         <span style=\"color: #0000ff; text-decoration-color: #0000ff; text-decoration: underline\">https://api.openai.com/v1/chat/completions</span> <span style=\"color: #008000; text-decoration-color: #008000\">\"HTTP/1.1 200 OK\"</span>           <span style=\"color: #7f7f7f; text-decoration-color: #7f7f7f\">               </span>\n",
       "</pre>\n"
      ],
      "text/plain": [
       "\u001b[2;36m                   \u001b[0m\u001b[2;36m \u001b[0m\u001b[34mINFO    \u001b[0m \u001b[1m[\u001b[0m_client.py:\u001b[1;36m1740\u001b[0m\u001b[1m]\u001b[0m >> HTTP Request: \u001b[1;33mPOST\u001b[0m                                \u001b]8;id=424949;file:///Users/syshin/Library/Caches/pypoetry/virtualenvs/naver-boostcamp-autorag-AUsRp4k1-py3.11/lib/python3.11/site-packages/httpx/_client.py\u001b\\\u001b[2m_client.py\u001b[0m\u001b]8;;\u001b\\\u001b[2m:\u001b[0m\u001b]8;id=579524;file:///Users/syshin/Library/Caches/pypoetry/virtualenvs/naver-boostcamp-autorag-AUsRp4k1-py3.11/lib/python3.11/site-packages/httpx/_client.py#1740\u001b\\\u001b[2m1740\u001b[0m\u001b]8;;\u001b\\\n",
       "\u001b[2;36m                    \u001b[0m         \u001b[4;94mhttps://api.openai.com/v1/chat/completions\u001b[0m \u001b[32m\"HTTP/1.1 200 OK\"\u001b[0m           \u001b[2m               \u001b[0m\n"
      ]
     },
     "metadata": {},
     "output_type": "display_data"
    },
    {
     "data": {
      "text/html": [
       "<pre style=\"white-space:pre;overflow-x:auto;line-height:normal;font-family:Menlo,'DejaVu Sans Mono',consolas,'Courier New',monospace\"><span style=\"color: #7fbfbf; text-decoration-color: #7fbfbf\">[01/13/25 12:16:13] </span><span style=\"color: #000080; text-decoration-color: #000080\">INFO    </span> <span style=\"font-weight: bold\">[</span>_client.py:<span style=\"color: #008080; text-decoration-color: #008080; font-weight: bold\">1740</span><span style=\"font-weight: bold\">]</span> &gt;&gt; HTTP Request: <span style=\"color: #808000; text-decoration-color: #808000; font-weight: bold\">POST</span>                                <a href=\"file:///Users/syshin/Library/Caches/pypoetry/virtualenvs/naver-boostcamp-autorag-AUsRp4k1-py3.11/lib/python3.11/site-packages/httpx/_client.py\" target=\"_blank\"><span style=\"color: #7f7f7f; text-decoration-color: #7f7f7f\">_client.py</span></a><span style=\"color: #7f7f7f; text-decoration-color: #7f7f7f\">:</span><a href=\"file:///Users/syshin/Library/Caches/pypoetry/virtualenvs/naver-boostcamp-autorag-AUsRp4k1-py3.11/lib/python3.11/site-packages/httpx/_client.py#1740\" target=\"_blank\"><span style=\"color: #7f7f7f; text-decoration-color: #7f7f7f\">1740</span></a>\n",
       "<span style=\"color: #7fbfbf; text-decoration-color: #7fbfbf\">                    </span>         <span style=\"color: #0000ff; text-decoration-color: #0000ff; text-decoration: underline\">https://api.openai.com/v1/chat/completions</span> <span style=\"color: #008000; text-decoration-color: #008000\">\"HTTP/1.1 200 OK\"</span>           <span style=\"color: #7f7f7f; text-decoration-color: #7f7f7f\">               </span>\n",
       "</pre>\n"
      ],
      "text/plain": [
       "\u001b[2;36m[01/13/25 12:16:13]\u001b[0m\u001b[2;36m \u001b[0m\u001b[34mINFO    \u001b[0m \u001b[1m[\u001b[0m_client.py:\u001b[1;36m1740\u001b[0m\u001b[1m]\u001b[0m >> HTTP Request: \u001b[1;33mPOST\u001b[0m                                \u001b]8;id=375720;file:///Users/syshin/Library/Caches/pypoetry/virtualenvs/naver-boostcamp-autorag-AUsRp4k1-py3.11/lib/python3.11/site-packages/httpx/_client.py\u001b\\\u001b[2m_client.py\u001b[0m\u001b]8;;\u001b\\\u001b[2m:\u001b[0m\u001b]8;id=645350;file:///Users/syshin/Library/Caches/pypoetry/virtualenvs/naver-boostcamp-autorag-AUsRp4k1-py3.11/lib/python3.11/site-packages/httpx/_client.py#1740\u001b\\\u001b[2m1740\u001b[0m\u001b]8;;\u001b\\\n",
       "\u001b[2;36m                    \u001b[0m         \u001b[4;94mhttps://api.openai.com/v1/chat/completions\u001b[0m \u001b[32m\"HTTP/1.1 200 OK\"\u001b[0m           \u001b[2m               \u001b[0m\n"
      ]
     },
     "metadata": {},
     "output_type": "display_data"
    },
    {
     "data": {
      "text/html": [
       "<pre style=\"white-space:pre;overflow-x:auto;line-height:normal;font-family:Menlo,'DejaVu Sans Mono',consolas,'Courier New',monospace\"><span style=\"color: #7fbfbf; text-decoration-color: #7fbfbf\">                    </span><span style=\"color: #000080; text-decoration-color: #000080\">INFO    </span> <span style=\"font-weight: bold\">[</span>_client.py:<span style=\"color: #008080; text-decoration-color: #008080; font-weight: bold\">1740</span><span style=\"font-weight: bold\">]</span> &gt;&gt; HTTP Request: <span style=\"color: #808000; text-decoration-color: #808000; font-weight: bold\">POST</span>                                <a href=\"file:///Users/syshin/Library/Caches/pypoetry/virtualenvs/naver-boostcamp-autorag-AUsRp4k1-py3.11/lib/python3.11/site-packages/httpx/_client.py\" target=\"_blank\"><span style=\"color: #7f7f7f; text-decoration-color: #7f7f7f\">_client.py</span></a><span style=\"color: #7f7f7f; text-decoration-color: #7f7f7f\">:</span><a href=\"file:///Users/syshin/Library/Caches/pypoetry/virtualenvs/naver-boostcamp-autorag-AUsRp4k1-py3.11/lib/python3.11/site-packages/httpx/_client.py#1740\" target=\"_blank\"><span style=\"color: #7f7f7f; text-decoration-color: #7f7f7f\">1740</span></a>\n",
       "<span style=\"color: #7fbfbf; text-decoration-color: #7fbfbf\">                    </span>         <span style=\"color: #0000ff; text-decoration-color: #0000ff; text-decoration: underline\">https://api.openai.com/v1/chat/completions</span> <span style=\"color: #008000; text-decoration-color: #008000\">\"HTTP/1.1 200 OK\"</span>           <span style=\"color: #7f7f7f; text-decoration-color: #7f7f7f\">               </span>\n",
       "</pre>\n"
      ],
      "text/plain": [
       "\u001b[2;36m                   \u001b[0m\u001b[2;36m \u001b[0m\u001b[34mINFO    \u001b[0m \u001b[1m[\u001b[0m_client.py:\u001b[1;36m1740\u001b[0m\u001b[1m]\u001b[0m >> HTTP Request: \u001b[1;33mPOST\u001b[0m                                \u001b]8;id=409670;file:///Users/syshin/Library/Caches/pypoetry/virtualenvs/naver-boostcamp-autorag-AUsRp4k1-py3.11/lib/python3.11/site-packages/httpx/_client.py\u001b\\\u001b[2m_client.py\u001b[0m\u001b]8;;\u001b\\\u001b[2m:\u001b[0m\u001b]8;id=182331;file:///Users/syshin/Library/Caches/pypoetry/virtualenvs/naver-boostcamp-autorag-AUsRp4k1-py3.11/lib/python3.11/site-packages/httpx/_client.py#1740\u001b\\\u001b[2m1740\u001b[0m\u001b]8;;\u001b\\\n",
       "\u001b[2;36m                    \u001b[0m         \u001b[4;94mhttps://api.openai.com/v1/chat/completions\u001b[0m \u001b[32m\"HTTP/1.1 200 OK\"\u001b[0m           \u001b[2m               \u001b[0m\n"
      ]
     },
     "metadata": {},
     "output_type": "display_data"
    },
    {
     "data": {
      "text/html": [
       "<pre style=\"white-space:pre;overflow-x:auto;line-height:normal;font-family:Menlo,'DejaVu Sans Mono',consolas,'Courier New',monospace\"><span style=\"color: #7fbfbf; text-decoration-color: #7fbfbf\">                    </span><span style=\"color: #000080; text-decoration-color: #000080\">INFO    </span> <span style=\"font-weight: bold\">[</span>_client.py:<span style=\"color: #008080; text-decoration-color: #008080; font-weight: bold\">1740</span><span style=\"font-weight: bold\">]</span> &gt;&gt; HTTP Request: <span style=\"color: #808000; text-decoration-color: #808000; font-weight: bold\">POST</span>                                <a href=\"file:///Users/syshin/Library/Caches/pypoetry/virtualenvs/naver-boostcamp-autorag-AUsRp4k1-py3.11/lib/python3.11/site-packages/httpx/_client.py\" target=\"_blank\"><span style=\"color: #7f7f7f; text-decoration-color: #7f7f7f\">_client.py</span></a><span style=\"color: #7f7f7f; text-decoration-color: #7f7f7f\">:</span><a href=\"file:///Users/syshin/Library/Caches/pypoetry/virtualenvs/naver-boostcamp-autorag-AUsRp4k1-py3.11/lib/python3.11/site-packages/httpx/_client.py#1740\" target=\"_blank\"><span style=\"color: #7f7f7f; text-decoration-color: #7f7f7f\">1740</span></a>\n",
       "<span style=\"color: #7fbfbf; text-decoration-color: #7fbfbf\">                    </span>         <span style=\"color: #0000ff; text-decoration-color: #0000ff; text-decoration: underline\">https://api.openai.com/v1/chat/completions</span> <span style=\"color: #008000; text-decoration-color: #008000\">\"HTTP/1.1 200 OK\"</span>           <span style=\"color: #7f7f7f; text-decoration-color: #7f7f7f\">               </span>\n",
       "</pre>\n"
      ],
      "text/plain": [
       "\u001b[2;36m                   \u001b[0m\u001b[2;36m \u001b[0m\u001b[34mINFO    \u001b[0m \u001b[1m[\u001b[0m_client.py:\u001b[1;36m1740\u001b[0m\u001b[1m]\u001b[0m >> HTTP Request: \u001b[1;33mPOST\u001b[0m                                \u001b]8;id=676688;file:///Users/syshin/Library/Caches/pypoetry/virtualenvs/naver-boostcamp-autorag-AUsRp4k1-py3.11/lib/python3.11/site-packages/httpx/_client.py\u001b\\\u001b[2m_client.py\u001b[0m\u001b]8;;\u001b\\\u001b[2m:\u001b[0m\u001b]8;id=948301;file:///Users/syshin/Library/Caches/pypoetry/virtualenvs/naver-boostcamp-autorag-AUsRp4k1-py3.11/lib/python3.11/site-packages/httpx/_client.py#1740\u001b\\\u001b[2m1740\u001b[0m\u001b]8;;\u001b\\\n",
       "\u001b[2;36m                    \u001b[0m         \u001b[4;94mhttps://api.openai.com/v1/chat/completions\u001b[0m \u001b[32m\"HTTP/1.1 200 OK\"\u001b[0m           \u001b[2m               \u001b[0m\n"
      ]
     },
     "metadata": {},
     "output_type": "display_data"
    },
    {
     "data": {
      "text/html": [
       "<pre style=\"white-space:pre;overflow-x:auto;line-height:normal;font-family:Menlo,'DejaVu Sans Mono',consolas,'Courier New',monospace\"><span style=\"color: #7fbfbf; text-decoration-color: #7fbfbf\">                    </span><span style=\"color: #000080; text-decoration-color: #000080\">INFO    </span> <span style=\"font-weight: bold\">[</span>_client.py:<span style=\"color: #008080; text-decoration-color: #008080; font-weight: bold\">1740</span><span style=\"font-weight: bold\">]</span> &gt;&gt; HTTP Request: <span style=\"color: #808000; text-decoration-color: #808000; font-weight: bold\">POST</span>                                <a href=\"file:///Users/syshin/Library/Caches/pypoetry/virtualenvs/naver-boostcamp-autorag-AUsRp4k1-py3.11/lib/python3.11/site-packages/httpx/_client.py\" target=\"_blank\"><span style=\"color: #7f7f7f; text-decoration-color: #7f7f7f\">_client.py</span></a><span style=\"color: #7f7f7f; text-decoration-color: #7f7f7f\">:</span><a href=\"file:///Users/syshin/Library/Caches/pypoetry/virtualenvs/naver-boostcamp-autorag-AUsRp4k1-py3.11/lib/python3.11/site-packages/httpx/_client.py#1740\" target=\"_blank\"><span style=\"color: #7f7f7f; text-decoration-color: #7f7f7f\">1740</span></a>\n",
       "<span style=\"color: #7fbfbf; text-decoration-color: #7fbfbf\">                    </span>         <span style=\"color: #0000ff; text-decoration-color: #0000ff; text-decoration: underline\">https://api.openai.com/v1/chat/completions</span> <span style=\"color: #008000; text-decoration-color: #008000\">\"HTTP/1.1 200 OK\"</span>           <span style=\"color: #7f7f7f; text-decoration-color: #7f7f7f\">               </span>\n",
       "</pre>\n"
      ],
      "text/plain": [
       "\u001b[2;36m                   \u001b[0m\u001b[2;36m \u001b[0m\u001b[34mINFO    \u001b[0m \u001b[1m[\u001b[0m_client.py:\u001b[1;36m1740\u001b[0m\u001b[1m]\u001b[0m >> HTTP Request: \u001b[1;33mPOST\u001b[0m                                \u001b]8;id=429383;file:///Users/syshin/Library/Caches/pypoetry/virtualenvs/naver-boostcamp-autorag-AUsRp4k1-py3.11/lib/python3.11/site-packages/httpx/_client.py\u001b\\\u001b[2m_client.py\u001b[0m\u001b]8;;\u001b\\\u001b[2m:\u001b[0m\u001b]8;id=772811;file:///Users/syshin/Library/Caches/pypoetry/virtualenvs/naver-boostcamp-autorag-AUsRp4k1-py3.11/lib/python3.11/site-packages/httpx/_client.py#1740\u001b\\\u001b[2m1740\u001b[0m\u001b]8;;\u001b\\\n",
       "\u001b[2;36m                    \u001b[0m         \u001b[4;94mhttps://api.openai.com/v1/chat/completions\u001b[0m \u001b[32m\"HTTP/1.1 200 OK\"\u001b[0m           \u001b[2m               \u001b[0m\n"
      ]
     },
     "metadata": {},
     "output_type": "display_data"
    },
    {
     "data": {
      "text/html": [
       "<pre style=\"white-space:pre;overflow-x:auto;line-height:normal;font-family:Menlo,'DejaVu Sans Mono',consolas,'Courier New',monospace\"><span style=\"color: #7fbfbf; text-decoration-color: #7fbfbf\">                    </span><span style=\"color: #000080; text-decoration-color: #000080\">INFO    </span> <span style=\"font-weight: bold\">[</span>_client.py:<span style=\"color: #008080; text-decoration-color: #008080; font-weight: bold\">1740</span><span style=\"font-weight: bold\">]</span> &gt;&gt; HTTP Request: <span style=\"color: #808000; text-decoration-color: #808000; font-weight: bold\">POST</span>                                <a href=\"file:///Users/syshin/Library/Caches/pypoetry/virtualenvs/naver-boostcamp-autorag-AUsRp4k1-py3.11/lib/python3.11/site-packages/httpx/_client.py\" target=\"_blank\"><span style=\"color: #7f7f7f; text-decoration-color: #7f7f7f\">_client.py</span></a><span style=\"color: #7f7f7f; text-decoration-color: #7f7f7f\">:</span><a href=\"file:///Users/syshin/Library/Caches/pypoetry/virtualenvs/naver-boostcamp-autorag-AUsRp4k1-py3.11/lib/python3.11/site-packages/httpx/_client.py#1740\" target=\"_blank\"><span style=\"color: #7f7f7f; text-decoration-color: #7f7f7f\">1740</span></a>\n",
       "<span style=\"color: #7fbfbf; text-decoration-color: #7fbfbf\">                    </span>         <span style=\"color: #0000ff; text-decoration-color: #0000ff; text-decoration: underline\">https://api.openai.com/v1/chat/completions</span> <span style=\"color: #008000; text-decoration-color: #008000\">\"HTTP/1.1 200 OK\"</span>           <span style=\"color: #7f7f7f; text-decoration-color: #7f7f7f\">               </span>\n",
       "</pre>\n"
      ],
      "text/plain": [
       "\u001b[2;36m                   \u001b[0m\u001b[2;36m \u001b[0m\u001b[34mINFO    \u001b[0m \u001b[1m[\u001b[0m_client.py:\u001b[1;36m1740\u001b[0m\u001b[1m]\u001b[0m >> HTTP Request: \u001b[1;33mPOST\u001b[0m                                \u001b]8;id=403098;file:///Users/syshin/Library/Caches/pypoetry/virtualenvs/naver-boostcamp-autorag-AUsRp4k1-py3.11/lib/python3.11/site-packages/httpx/_client.py\u001b\\\u001b[2m_client.py\u001b[0m\u001b]8;;\u001b\\\u001b[2m:\u001b[0m\u001b]8;id=574355;file:///Users/syshin/Library/Caches/pypoetry/virtualenvs/naver-boostcamp-autorag-AUsRp4k1-py3.11/lib/python3.11/site-packages/httpx/_client.py#1740\u001b\\\u001b[2m1740\u001b[0m\u001b]8;;\u001b\\\n",
       "\u001b[2;36m                    \u001b[0m         \u001b[4;94mhttps://api.openai.com/v1/chat/completions\u001b[0m \u001b[32m\"HTTP/1.1 200 OK\"\u001b[0m           \u001b[2m               \u001b[0m\n"
      ]
     },
     "metadata": {},
     "output_type": "display_data"
    },
    {
     "data": {
      "text/html": [
       "<pre style=\"white-space:pre;overflow-x:auto;line-height:normal;font-family:Menlo,'DejaVu Sans Mono',consolas,'Courier New',monospace\"><span style=\"color: #7fbfbf; text-decoration-color: #7fbfbf\">                    </span><span style=\"color: #000080; text-decoration-color: #000080\">INFO    </span> <span style=\"font-weight: bold\">[</span>_client.py:<span style=\"color: #008080; text-decoration-color: #008080; font-weight: bold\">1740</span><span style=\"font-weight: bold\">]</span> &gt;&gt; HTTP Request: <span style=\"color: #808000; text-decoration-color: #808000; font-weight: bold\">POST</span>                                <a href=\"file:///Users/syshin/Library/Caches/pypoetry/virtualenvs/naver-boostcamp-autorag-AUsRp4k1-py3.11/lib/python3.11/site-packages/httpx/_client.py\" target=\"_blank\"><span style=\"color: #7f7f7f; text-decoration-color: #7f7f7f\">_client.py</span></a><span style=\"color: #7f7f7f; text-decoration-color: #7f7f7f\">:</span><a href=\"file:///Users/syshin/Library/Caches/pypoetry/virtualenvs/naver-boostcamp-autorag-AUsRp4k1-py3.11/lib/python3.11/site-packages/httpx/_client.py#1740\" target=\"_blank\"><span style=\"color: #7f7f7f; text-decoration-color: #7f7f7f\">1740</span></a>\n",
       "<span style=\"color: #7fbfbf; text-decoration-color: #7fbfbf\">                    </span>         <span style=\"color: #0000ff; text-decoration-color: #0000ff; text-decoration: underline\">https://api.openai.com/v1/chat/completions</span> <span style=\"color: #008000; text-decoration-color: #008000\">\"HTTP/1.1 200 OK\"</span>           <span style=\"color: #7f7f7f; text-decoration-color: #7f7f7f\">               </span>\n",
       "</pre>\n"
      ],
      "text/plain": [
       "\u001b[2;36m                   \u001b[0m\u001b[2;36m \u001b[0m\u001b[34mINFO    \u001b[0m \u001b[1m[\u001b[0m_client.py:\u001b[1;36m1740\u001b[0m\u001b[1m]\u001b[0m >> HTTP Request: \u001b[1;33mPOST\u001b[0m                                \u001b]8;id=817396;file:///Users/syshin/Library/Caches/pypoetry/virtualenvs/naver-boostcamp-autorag-AUsRp4k1-py3.11/lib/python3.11/site-packages/httpx/_client.py\u001b\\\u001b[2m_client.py\u001b[0m\u001b]8;;\u001b\\\u001b[2m:\u001b[0m\u001b]8;id=992965;file:///Users/syshin/Library/Caches/pypoetry/virtualenvs/naver-boostcamp-autorag-AUsRp4k1-py3.11/lib/python3.11/site-packages/httpx/_client.py#1740\u001b\\\u001b[2m1740\u001b[0m\u001b]8;;\u001b\\\n",
       "\u001b[2;36m                    \u001b[0m         \u001b[4;94mhttps://api.openai.com/v1/chat/completions\u001b[0m \u001b[32m\"HTTP/1.1 200 OK\"\u001b[0m           \u001b[2m               \u001b[0m\n"
      ]
     },
     "metadata": {},
     "output_type": "display_data"
    },
    {
     "data": {
      "text/html": [
       "<pre style=\"white-space:pre;overflow-x:auto;line-height:normal;font-family:Menlo,'DejaVu Sans Mono',consolas,'Courier New',monospace\"><span style=\"color: #7fbfbf; text-decoration-color: #7fbfbf\">                    </span><span style=\"color: #000080; text-decoration-color: #000080\">INFO    </span> <span style=\"font-weight: bold\">[</span>_client.py:<span style=\"color: #008080; text-decoration-color: #008080; font-weight: bold\">1740</span><span style=\"font-weight: bold\">]</span> &gt;&gt; HTTP Request: <span style=\"color: #808000; text-decoration-color: #808000; font-weight: bold\">POST</span>                                <a href=\"file:///Users/syshin/Library/Caches/pypoetry/virtualenvs/naver-boostcamp-autorag-AUsRp4k1-py3.11/lib/python3.11/site-packages/httpx/_client.py\" target=\"_blank\"><span style=\"color: #7f7f7f; text-decoration-color: #7f7f7f\">_client.py</span></a><span style=\"color: #7f7f7f; text-decoration-color: #7f7f7f\">:</span><a href=\"file:///Users/syshin/Library/Caches/pypoetry/virtualenvs/naver-boostcamp-autorag-AUsRp4k1-py3.11/lib/python3.11/site-packages/httpx/_client.py#1740\" target=\"_blank\"><span style=\"color: #7f7f7f; text-decoration-color: #7f7f7f\">1740</span></a>\n",
       "<span style=\"color: #7fbfbf; text-decoration-color: #7fbfbf\">                    </span>         <span style=\"color: #0000ff; text-decoration-color: #0000ff; text-decoration: underline\">https://api.openai.com/v1/chat/completions</span> <span style=\"color: #008000; text-decoration-color: #008000\">\"HTTP/1.1 200 OK\"</span>           <span style=\"color: #7f7f7f; text-decoration-color: #7f7f7f\">               </span>\n",
       "</pre>\n"
      ],
      "text/plain": [
       "\u001b[2;36m                   \u001b[0m\u001b[2;36m \u001b[0m\u001b[34mINFO    \u001b[0m \u001b[1m[\u001b[0m_client.py:\u001b[1;36m1740\u001b[0m\u001b[1m]\u001b[0m >> HTTP Request: \u001b[1;33mPOST\u001b[0m                                \u001b]8;id=428930;file:///Users/syshin/Library/Caches/pypoetry/virtualenvs/naver-boostcamp-autorag-AUsRp4k1-py3.11/lib/python3.11/site-packages/httpx/_client.py\u001b\\\u001b[2m_client.py\u001b[0m\u001b]8;;\u001b\\\u001b[2m:\u001b[0m\u001b]8;id=659208;file:///Users/syshin/Library/Caches/pypoetry/virtualenvs/naver-boostcamp-autorag-AUsRp4k1-py3.11/lib/python3.11/site-packages/httpx/_client.py#1740\u001b\\\u001b[2m1740\u001b[0m\u001b]8;;\u001b\\\n",
       "\u001b[2;36m                    \u001b[0m         \u001b[4;94mhttps://api.openai.com/v1/chat/completions\u001b[0m \u001b[32m\"HTTP/1.1 200 OK\"\u001b[0m           \u001b[2m               \u001b[0m\n"
      ]
     },
     "metadata": {},
     "output_type": "display_data"
    },
    {
     "data": {
      "text/html": [
       "<pre style=\"white-space:pre;overflow-x:auto;line-height:normal;font-family:Menlo,'DejaVu Sans Mono',consolas,'Courier New',monospace\"><span style=\"color: #7fbfbf; text-decoration-color: #7fbfbf\">[01/13/25 12:16:14] </span><span style=\"color: #000080; text-decoration-color: #000080\">INFO    </span> <span style=\"font-weight: bold\">[</span>_client.py:<span style=\"color: #008080; text-decoration-color: #008080; font-weight: bold\">1740</span><span style=\"font-weight: bold\">]</span> &gt;&gt; HTTP Request: <span style=\"color: #808000; text-decoration-color: #808000; font-weight: bold\">POST</span>                                <a href=\"file:///Users/syshin/Library/Caches/pypoetry/virtualenvs/naver-boostcamp-autorag-AUsRp4k1-py3.11/lib/python3.11/site-packages/httpx/_client.py\" target=\"_blank\"><span style=\"color: #7f7f7f; text-decoration-color: #7f7f7f\">_client.py</span></a><span style=\"color: #7f7f7f; text-decoration-color: #7f7f7f\">:</span><a href=\"file:///Users/syshin/Library/Caches/pypoetry/virtualenvs/naver-boostcamp-autorag-AUsRp4k1-py3.11/lib/python3.11/site-packages/httpx/_client.py#1740\" target=\"_blank\"><span style=\"color: #7f7f7f; text-decoration-color: #7f7f7f\">1740</span></a>\n",
       "<span style=\"color: #7fbfbf; text-decoration-color: #7fbfbf\">                    </span>         <span style=\"color: #0000ff; text-decoration-color: #0000ff; text-decoration: underline\">https://api.openai.com/v1/chat/completions</span> <span style=\"color: #008000; text-decoration-color: #008000\">\"HTTP/1.1 200 OK\"</span>           <span style=\"color: #7f7f7f; text-decoration-color: #7f7f7f\">               </span>\n",
       "</pre>\n"
      ],
      "text/plain": [
       "\u001b[2;36m[01/13/25 12:16:14]\u001b[0m\u001b[2;36m \u001b[0m\u001b[34mINFO    \u001b[0m \u001b[1m[\u001b[0m_client.py:\u001b[1;36m1740\u001b[0m\u001b[1m]\u001b[0m >> HTTP Request: \u001b[1;33mPOST\u001b[0m                                \u001b]8;id=20936;file:///Users/syshin/Library/Caches/pypoetry/virtualenvs/naver-boostcamp-autorag-AUsRp4k1-py3.11/lib/python3.11/site-packages/httpx/_client.py\u001b\\\u001b[2m_client.py\u001b[0m\u001b]8;;\u001b\\\u001b[2m:\u001b[0m\u001b]8;id=477797;file:///Users/syshin/Library/Caches/pypoetry/virtualenvs/naver-boostcamp-autorag-AUsRp4k1-py3.11/lib/python3.11/site-packages/httpx/_client.py#1740\u001b\\\u001b[2m1740\u001b[0m\u001b]8;;\u001b\\\n",
       "\u001b[2;36m                    \u001b[0m         \u001b[4;94mhttps://api.openai.com/v1/chat/completions\u001b[0m \u001b[32m\"HTTP/1.1 200 OK\"\u001b[0m           \u001b[2m               \u001b[0m\n"
      ]
     },
     "metadata": {},
     "output_type": "display_data"
    },
    {
     "data": {
      "text/html": [
       "<pre style=\"white-space:pre;overflow-x:auto;line-height:normal;font-family:Menlo,'DejaVu Sans Mono',consolas,'Courier New',monospace\"><span style=\"color: #7fbfbf; text-decoration-color: #7fbfbf\">                    </span><span style=\"color: #000080; text-decoration-color: #000080\">INFO    </span> <span style=\"font-weight: bold\">[</span>_client.py:<span style=\"color: #008080; text-decoration-color: #008080; font-weight: bold\">1740</span><span style=\"font-weight: bold\">]</span> &gt;&gt; HTTP Request: <span style=\"color: #808000; text-decoration-color: #808000; font-weight: bold\">POST</span>                                <a href=\"file:///Users/syshin/Library/Caches/pypoetry/virtualenvs/naver-boostcamp-autorag-AUsRp4k1-py3.11/lib/python3.11/site-packages/httpx/_client.py\" target=\"_blank\"><span style=\"color: #7f7f7f; text-decoration-color: #7f7f7f\">_client.py</span></a><span style=\"color: #7f7f7f; text-decoration-color: #7f7f7f\">:</span><a href=\"file:///Users/syshin/Library/Caches/pypoetry/virtualenvs/naver-boostcamp-autorag-AUsRp4k1-py3.11/lib/python3.11/site-packages/httpx/_client.py#1740\" target=\"_blank\"><span style=\"color: #7f7f7f; text-decoration-color: #7f7f7f\">1740</span></a>\n",
       "<span style=\"color: #7fbfbf; text-decoration-color: #7fbfbf\">                    </span>         <span style=\"color: #0000ff; text-decoration-color: #0000ff; text-decoration: underline\">https://api.openai.com/v1/chat/completions</span> <span style=\"color: #008000; text-decoration-color: #008000\">\"HTTP/1.1 200 OK\"</span>           <span style=\"color: #7f7f7f; text-decoration-color: #7f7f7f\">               </span>\n",
       "</pre>\n"
      ],
      "text/plain": [
       "\u001b[2;36m                   \u001b[0m\u001b[2;36m \u001b[0m\u001b[34mINFO    \u001b[0m \u001b[1m[\u001b[0m_client.py:\u001b[1;36m1740\u001b[0m\u001b[1m]\u001b[0m >> HTTP Request: \u001b[1;33mPOST\u001b[0m                                \u001b]8;id=153866;file:///Users/syshin/Library/Caches/pypoetry/virtualenvs/naver-boostcamp-autorag-AUsRp4k1-py3.11/lib/python3.11/site-packages/httpx/_client.py\u001b\\\u001b[2m_client.py\u001b[0m\u001b]8;;\u001b\\\u001b[2m:\u001b[0m\u001b]8;id=148078;file:///Users/syshin/Library/Caches/pypoetry/virtualenvs/naver-boostcamp-autorag-AUsRp4k1-py3.11/lib/python3.11/site-packages/httpx/_client.py#1740\u001b\\\u001b[2m1740\u001b[0m\u001b]8;;\u001b\\\n",
       "\u001b[2;36m                    \u001b[0m         \u001b[4;94mhttps://api.openai.com/v1/chat/completions\u001b[0m \u001b[32m\"HTTP/1.1 200 OK\"\u001b[0m           \u001b[2m               \u001b[0m\n"
      ]
     },
     "metadata": {},
     "output_type": "display_data"
    },
    {
     "data": {
      "text/html": [
       "<pre style=\"white-space:pre;overflow-x:auto;line-height:normal;font-family:Menlo,'DejaVu Sans Mono',consolas,'Courier New',monospace\"><span style=\"color: #7fbfbf; text-decoration-color: #7fbfbf\">                    </span><span style=\"color: #000080; text-decoration-color: #000080\">INFO    </span> <span style=\"font-weight: bold\">[</span>_client.py:<span style=\"color: #008080; text-decoration-color: #008080; font-weight: bold\">1740</span><span style=\"font-weight: bold\">]</span> &gt;&gt; HTTP Request: <span style=\"color: #808000; text-decoration-color: #808000; font-weight: bold\">POST</span>                                <a href=\"file:///Users/syshin/Library/Caches/pypoetry/virtualenvs/naver-boostcamp-autorag-AUsRp4k1-py3.11/lib/python3.11/site-packages/httpx/_client.py\" target=\"_blank\"><span style=\"color: #7f7f7f; text-decoration-color: #7f7f7f\">_client.py</span></a><span style=\"color: #7f7f7f; text-decoration-color: #7f7f7f\">:</span><a href=\"file:///Users/syshin/Library/Caches/pypoetry/virtualenvs/naver-boostcamp-autorag-AUsRp4k1-py3.11/lib/python3.11/site-packages/httpx/_client.py#1740\" target=\"_blank\"><span style=\"color: #7f7f7f; text-decoration-color: #7f7f7f\">1740</span></a>\n",
       "<span style=\"color: #7fbfbf; text-decoration-color: #7fbfbf\">                    </span>         <span style=\"color: #0000ff; text-decoration-color: #0000ff; text-decoration: underline\">https://api.openai.com/v1/chat/completions</span> <span style=\"color: #008000; text-decoration-color: #008000\">\"HTTP/1.1 200 OK\"</span>           <span style=\"color: #7f7f7f; text-decoration-color: #7f7f7f\">               </span>\n",
       "</pre>\n"
      ],
      "text/plain": [
       "\u001b[2;36m                   \u001b[0m\u001b[2;36m \u001b[0m\u001b[34mINFO    \u001b[0m \u001b[1m[\u001b[0m_client.py:\u001b[1;36m1740\u001b[0m\u001b[1m]\u001b[0m >> HTTP Request: \u001b[1;33mPOST\u001b[0m                                \u001b]8;id=668490;file:///Users/syshin/Library/Caches/pypoetry/virtualenvs/naver-boostcamp-autorag-AUsRp4k1-py3.11/lib/python3.11/site-packages/httpx/_client.py\u001b\\\u001b[2m_client.py\u001b[0m\u001b]8;;\u001b\\\u001b[2m:\u001b[0m\u001b]8;id=243809;file:///Users/syshin/Library/Caches/pypoetry/virtualenvs/naver-boostcamp-autorag-AUsRp4k1-py3.11/lib/python3.11/site-packages/httpx/_client.py#1740\u001b\\\u001b[2m1740\u001b[0m\u001b]8;;\u001b\\\n",
       "\u001b[2;36m                    \u001b[0m         \u001b[4;94mhttps://api.openai.com/v1/chat/completions\u001b[0m \u001b[32m\"HTTP/1.1 200 OK\"\u001b[0m           \u001b[2m               \u001b[0m\n"
      ]
     },
     "metadata": {},
     "output_type": "display_data"
    },
    {
     "data": {
      "text/html": [
       "<pre style=\"white-space:pre;overflow-x:auto;line-height:normal;font-family:Menlo,'DejaVu Sans Mono',consolas,'Courier New',monospace\"><span style=\"color: #7fbfbf; text-decoration-color: #7fbfbf\">                    </span><span style=\"color: #000080; text-decoration-color: #000080\">INFO    </span> <span style=\"font-weight: bold\">[</span>_client.py:<span style=\"color: #008080; text-decoration-color: #008080; font-weight: bold\">1740</span><span style=\"font-weight: bold\">]</span> &gt;&gt; HTTP Request: <span style=\"color: #808000; text-decoration-color: #808000; font-weight: bold\">POST</span>                                <a href=\"file:///Users/syshin/Library/Caches/pypoetry/virtualenvs/naver-boostcamp-autorag-AUsRp4k1-py3.11/lib/python3.11/site-packages/httpx/_client.py\" target=\"_blank\"><span style=\"color: #7f7f7f; text-decoration-color: #7f7f7f\">_client.py</span></a><span style=\"color: #7f7f7f; text-decoration-color: #7f7f7f\">:</span><a href=\"file:///Users/syshin/Library/Caches/pypoetry/virtualenvs/naver-boostcamp-autorag-AUsRp4k1-py3.11/lib/python3.11/site-packages/httpx/_client.py#1740\" target=\"_blank\"><span style=\"color: #7f7f7f; text-decoration-color: #7f7f7f\">1740</span></a>\n",
       "<span style=\"color: #7fbfbf; text-decoration-color: #7fbfbf\">                    </span>         <span style=\"color: #0000ff; text-decoration-color: #0000ff; text-decoration: underline\">https://api.openai.com/v1/chat/completions</span> <span style=\"color: #008000; text-decoration-color: #008000\">\"HTTP/1.1 200 OK\"</span>           <span style=\"color: #7f7f7f; text-decoration-color: #7f7f7f\">               </span>\n",
       "</pre>\n"
      ],
      "text/plain": [
       "\u001b[2;36m                   \u001b[0m\u001b[2;36m \u001b[0m\u001b[34mINFO    \u001b[0m \u001b[1m[\u001b[0m_client.py:\u001b[1;36m1740\u001b[0m\u001b[1m]\u001b[0m >> HTTP Request: \u001b[1;33mPOST\u001b[0m                                \u001b]8;id=377652;file:///Users/syshin/Library/Caches/pypoetry/virtualenvs/naver-boostcamp-autorag-AUsRp4k1-py3.11/lib/python3.11/site-packages/httpx/_client.py\u001b\\\u001b[2m_client.py\u001b[0m\u001b]8;;\u001b\\\u001b[2m:\u001b[0m\u001b]8;id=109812;file:///Users/syshin/Library/Caches/pypoetry/virtualenvs/naver-boostcamp-autorag-AUsRp4k1-py3.11/lib/python3.11/site-packages/httpx/_client.py#1740\u001b\\\u001b[2m1740\u001b[0m\u001b]8;;\u001b\\\n",
       "\u001b[2;36m                    \u001b[0m         \u001b[4;94mhttps://api.openai.com/v1/chat/completions\u001b[0m \u001b[32m\"HTTP/1.1 200 OK\"\u001b[0m           \u001b[2m               \u001b[0m\n"
      ]
     },
     "metadata": {},
     "output_type": "display_data"
    }
   ],
   "source": [
    "import pandas as pd\n",
    "from llama_index.llms.openai import OpenAI\n",
    "\n",
    "from autorag.data.qa.filter.dontknow import dontknow_filter_rule_based\n",
    "from autorag.data.qa.generation_gt.llama_index_gen_gt import (\n",
    "    make_basic_gen_gt,\n",
    "    make_concise_gen_gt,\n",
    ")\n",
    "from autorag.data.qa.schema import Raw, Corpus\n",
    "from autorag.data.qa.query.llama_gen_query import factoid_query_gen\n",
    "from autorag.data.qa.sample import random_single_hop\n",
    "\n",
    "llm = OpenAI()\n",
    "raw_df = pd.read_parquet(PARSE_PROJECT_DIR + \"/parsed_result.parquet\")\n",
    "raw_instance = Raw(raw_df)\n",
    "\n",
    "corpus_df = pd.read_parquet(CHUNK_PROJECT_DIR + \"/0.parquet\")\n",
    "corpus_instance = Corpus(corpus_df, raw_instance)\n",
    "\n",
    "initial_qa = (\n",
    "    corpus_instance.sample(random_single_hop, n=10)\n",
    "    .map(\n",
    "        lambda df: df.reset_index(drop=True),\n",
    "    )\n",
    "    .make_retrieval_gt_contents()\n",
    "    .batch_apply(\n",
    "        factoid_query_gen,  # query generation\n",
    "        llm=llm,\n",
    "        lang=\"ko\",\n",
    "    )\n",
    "    .batch_apply(\n",
    "        make_basic_gen_gt,  # answer generation (basic)\n",
    "        llm=llm,\n",
    "        lang=\"ko\",\n",
    "    )\n",
    "    .batch_apply(\n",
    "        make_concise_gen_gt,  # answer generation (concise)\n",
    "        llm=llm,\n",
    "        lang=\"ko\",\n",
    "    )\n",
    "    .filter(\n",
    "        dontknow_filter_rule_based,  # filter don't know\n",
    "        lang=\"ko\",\n",
    "    )\n",
    ")\n",
    "\n",
    "initial_qa.to_parquet(\"./qa.parquet\", \"./corpus.parquet\")"
   ]
  },
  {
   "cell_type": "code",
   "execution_count": 11,
   "metadata": {},
   "outputs": [
    {
     "data": {
      "text/html": [
       "<div>\n",
       "<style scoped>\n",
       "    .dataframe tbody tr th:only-of-type {\n",
       "        vertical-align: middle;\n",
       "    }\n",
       "\n",
       "    .dataframe tbody tr th {\n",
       "        vertical-align: top;\n",
       "    }\n",
       "\n",
       "    .dataframe thead th {\n",
       "        text-align: right;\n",
       "    }\n",
       "</style>\n",
       "<table border=\"1\" class=\"dataframe\">\n",
       "  <thead>\n",
       "    <tr style=\"text-align: right;\">\n",
       "      <th></th>\n",
       "      <th>qid</th>\n",
       "      <th>query</th>\n",
       "      <th>retrieval_gt</th>\n",
       "      <th>generation_gt</th>\n",
       "    </tr>\n",
       "  </thead>\n",
       "  <tbody>\n",
       "    <tr>\n",
       "      <th>0</th>\n",
       "      <td>8e0a26ef-8936-4990-b296-fd47d19eec8a</td>\n",
       "      <td>CJ제일제당의 바이오 사업 매출총이익률 추이는 어떻게 되나요?</td>\n",
       "      <td>[[f3983cf4-b97f-4046-a125-895d4e0af32e]]</td>\n",
       "      <td>[CJ제일제당의 바이오 사업 매출총이익률 추이는 Text에서 확인할 수 있습니다. 바이오 사업 매출총이익률 추이는 다음과 같습니다:\\n\\n- 1Q23: 5.8%\\n- 2Q23: 6.5%\\n- 3Q23: -4.6%\\n- 4Q23: 15.1%\\n- 1Q24: 2.8%\\n- 2Q24: -3.5%, CJ제일제당의 바이오 사업 매출총이익률 추이는 Text에 제공되지 않았습니다.]</td>\n",
       "    </tr>\n",
       "    <tr>\n",
       "      <th>1</th>\n",
       "      <td>7690506e-9509-455a-bb31-e800e7c53cd6</td>\n",
       "      <td>하나증권의 금융투자상품의 비율은 어떻게 되나요?</td>\n",
       "      <td>[[a8fd2d23-c9a1-455e-a844-290c85bbe018]]</td>\n",
       "      <td>[하나증권의 금융투자상품의 비율은 다음과 같습니다.\\n- BUY(매수): 94.27%\\n- Neutral(중립): 5.29%\\n- Reduce(매도): 0.44%, 94.27%]</td>\n",
       "    </tr>\n",
       "    <tr>\n",
       "      <th>2</th>\n",
       "      <td>5ca5290e-9f6e-443f-a7d3-4fb8addfef63</td>\n",
       "      <td>2025년과 2026년에 대한 연구 센터의 총 매출은 얼마인가요?</td>\n",
       "      <td>[[61605e73-78ed-44a7-bb9d-8df87d8a666b]]</td>\n",
       "      <td>[2025년과 2026년에 대한 연구 센터의 총 매출은 각각 152,263원과 174,713원입니다., 152,263원과 174,713원]</td>\n",
       "    </tr>\n",
       "    <tr>\n",
       "      <th>3</th>\n",
       "      <td>ef63e1d9-04aa-4a8f-86ef-12407b040009</td>\n",
       "      <td>DS투자증권 리서치센터가 발표한 자료에 따르면 2026년에 Design CAPA는 어떻게 예상되는가?</td>\n",
       "      <td>[[e83ba28d-8bae-4d2b-95ac-3b846b248130]]</td>\n",
       "      <td>[2026년에 Design CAPA는 200GWh로 예상되고 있습니다., 2026년에 Design CAPA는 2024년과 2025년에 비해 상승할 것으로 예상된다.]</td>\n",
       "    </tr>\n",
       "    <tr>\n",
       "      <th>4</th>\n",
       "      <td>64efe3fb-17b8-4f7a-b0de-e92d69395d31</td>\n",
       "      <td>CJ제일제당의 2024년 4분기 매출액은 얼마입니까?</td>\n",
       "      <td>[[8492268d-b005-4a6f-836a-95a37edf3b39]]</td>\n",
       "      <td>[CJ제일제당의 2024년 4분기 매출액은 7,612.0 십억원입니다., 7,612.0 억원]</td>\n",
       "    </tr>\n",
       "    <tr>\n",
       "      <th>5</th>\n",
       "      <td>181e9fc3-b64d-4543-aa0b-a8ddd5977452</td>\n",
       "      <td>매출액이 어떻게 변동했습니까?</td>\n",
       "      <td>[[d642eb01-ee2c-4946-964d-2db0552f0626]]</td>\n",
       "      <td>[매출액은 전 분기 대비 11.7% 증가하여 성장했습니다., 11.7% 증가했습니다.]</td>\n",
       "    </tr>\n",
       "    <tr>\n",
       "      <th>6</th>\n",
       "      <td>b1ea6588-2a29-4d98-bb90-6d41666a7322</td>\n",
       "      <td>자산총계가 2025년과 2026년에 각각 얼마인가요?</td>\n",
       "      <td>[[d88688db-99c5-42ff-8f1a-5739076cde66]]</td>\n",
       "      <td>[2025년 자산총계는 127,582 십억원이고, 2026년 자산총계는 195,743 십억원입니다., 2025년 자산총계: 127,582 십억원\\n2026년 자산총계: 195,743 십억원]</td>\n",
       "    </tr>\n",
       "    <tr>\n",
       "      <th>7</th>\n",
       "      <td>27554c96-32c9-4940-a707-e3e6f1e72f07</td>\n",
       "      <td>LGES의 영업이익이 2Q24 대비 어떻게 변화했습니까?</td>\n",
       "      <td>[[ab964174-69ac-422b-a244-6cb15cb9d119]]</td>\n",
       "      <td>[LGES의 영업이익은 2Q24에서 1Q24로 감소했습니다. 2Q24의 영업이익은 4,260.0이었고, 1Q24의 영업이익은 4,455.0이었습니다. 따라서 LGES의 영업이익은 2Q24 대비 1Q24로 감소했습니다., LGES의 영업이익이 2Q24 대비 1Q24에 비해 증가했습니다.]</td>\n",
       "    </tr>\n",
       "    <tr>\n",
       "      <th>8</th>\n",
       "      <td>29e5a5cc-71ca-4d5f-8af8-a1e8f9153bf7</td>\n",
       "      <td>대한통운의 연결영업이익이 어떻게 변화했습니까?</td>\n",
       "      <td>[[09bc7030-573e-418d-9ad5-90f9278e8634]]</td>\n",
       "      <td>[대한통운의 연결영업이익은 252.8에서 1,743.7로 증가했습니다., 대한통운의 연결영업이익은 252.8에서 1,743.7으로 증가했습니다.]</td>\n",
       "    </tr>\n",
       "    <tr>\n",
       "      <th>9</th>\n",
       "      <td>6da8d2e5-7872-4cde-b302-f4da62709f2d</td>\n",
       "      <td>태양광 부문의 영업이익률이 가장 높은 분기는 언제인가요?</td>\n",
       "      <td>[[b558db08-8504-48f8-870e-9ca300afd6c0]]</td>\n",
       "      <td>[태양광 부문의 영업이익률이 가장 높은 분기는 \"524.8%\"로, QoQ(%)에 해당하는 숫자입니다., 태양광 부문의 영업이익률이 가장 높은 분기는 2024년 3분기입니다.]</td>\n",
       "    </tr>\n",
       "  </tbody>\n",
       "</table>\n",
       "</div>"
      ],
      "text/plain": [
       "                                    qid                                                     query                              retrieval_gt                                                                                                                                                                                                     generation_gt\n",
       "0  8e0a26ef-8936-4990-b296-fd47d19eec8a                        CJ제일제당의 바이오 사업 매출총이익률 추이는 어떻게 되나요?  [[f3983cf4-b97f-4046-a125-895d4e0af32e]]  [CJ제일제당의 바이오 사업 매출총이익률 추이는 Text에서 확인할 수 있습니다. 바이오 사업 매출총이익률 추이는 다음과 같습니다:\\n\\n- 1Q23: 5.8%\\n- 2Q23: 6.5%\\n- 3Q23: -4.6%\\n- 4Q23: 15.1%\\n- 1Q24: 2.8%\\n- 2Q24: -3.5%, CJ제일제당의 바이오 사업 매출총이익률 추이는 Text에 제공되지 않았습니다.]\n",
       "1  7690506e-9509-455a-bb31-e800e7c53cd6                                하나증권의 금융투자상품의 비율은 어떻게 되나요?  [[a8fd2d23-c9a1-455e-a844-290c85bbe018]]                                                                                                               [하나증권의 금융투자상품의 비율은 다음과 같습니다.\\n- BUY(매수): 94.27%\\n- Neutral(중립): 5.29%\\n- Reduce(매도): 0.44%, 94.27%]\n",
       "2  5ca5290e-9f6e-443f-a7d3-4fb8addfef63                      2025년과 2026년에 대한 연구 센터의 총 매출은 얼마인가요?  [[61605e73-78ed-44a7-bb9d-8df87d8a666b]]                                                                                                                                     [2025년과 2026년에 대한 연구 센터의 총 매출은 각각 152,263원과 174,713원입니다., 152,263원과 174,713원]\n",
       "3  ef63e1d9-04aa-4a8f-86ef-12407b040009  DS투자증권 리서치센터가 발표한 자료에 따르면 2026년에 Design CAPA는 어떻게 예상되는가?  [[e83ba28d-8bae-4d2b-95ac-3b846b248130]]                                                                                                                      [2026년에 Design CAPA는 200GWh로 예상되고 있습니다., 2026년에 Design CAPA는 2024년과 2025년에 비해 상승할 것으로 예상된다.]\n",
       "4  64efe3fb-17b8-4f7a-b0de-e92d69395d31                             CJ제일제당의 2024년 4분기 매출액은 얼마입니까?  [[8492268d-b005-4a6f-836a-95a37edf3b39]]                                                                                                                                                              [CJ제일제당의 2024년 4분기 매출액은 7,612.0 십억원입니다., 7,612.0 억원]\n",
       "5  181e9fc3-b64d-4543-aa0b-a8ddd5977452                                          매출액이 어떻게 변동했습니까?  [[d642eb01-ee2c-4946-964d-2db0552f0626]]                                                                                                                                                                  [매출액은 전 분기 대비 11.7% 증가하여 성장했습니다., 11.7% 증가했습니다.]\n",
       "6  b1ea6588-2a29-4d98-bb90-6d41666a7322                             자산총계가 2025년과 2026년에 각각 얼마인가요?  [[d88688db-99c5-42ff-8f1a-5739076cde66]]                                                                                                        [2025년 자산총계는 127,582 십억원이고, 2026년 자산총계는 195,743 십억원입니다., 2025년 자산총계: 127,582 십억원\\n2026년 자산총계: 195,743 십억원]\n",
       "7  27554c96-32c9-4940-a707-e3e6f1e72f07                           LGES의 영업이익이 2Q24 대비 어떻게 변화했습니까?  [[ab964174-69ac-422b-a244-6cb15cb9d119]]                                                  [LGES의 영업이익은 2Q24에서 1Q24로 감소했습니다. 2Q24의 영업이익은 4,260.0이었고, 1Q24의 영업이익은 4,455.0이었습니다. 따라서 LGES의 영업이익은 2Q24 대비 1Q24로 감소했습니다., LGES의 영업이익이 2Q24 대비 1Q24에 비해 증가했습니다.]\n",
       "8  29e5a5cc-71ca-4d5f-8af8-a1e8f9153bf7                                 대한통운의 연결영업이익이 어떻게 변화했습니까?  [[09bc7030-573e-418d-9ad5-90f9278e8634]]                                                                                                                                 [대한통운의 연결영업이익은 252.8에서 1,743.7로 증가했습니다., 대한통운의 연결영업이익은 252.8에서 1,743.7으로 증가했습니다.]\n",
       "9  6da8d2e5-7872-4cde-b302-f4da62709f2d                           태양광 부문의 영업이익률이 가장 높은 분기는 언제인가요?  [[b558db08-8504-48f8-870e-9ca300afd6c0]]                                                                                                                 [태양광 부문의 영업이익률이 가장 높은 분기는 \"524.8%\"로, QoQ(%)에 해당하는 숫자입니다., 태양광 부문의 영업이익률이 가장 높은 분기는 2024년 3분기입니다.]"
      ]
     },
     "execution_count": 11,
     "metadata": {},
     "output_type": "execute_result"
    }
   ],
   "source": [
    "df_qa = pd.read_parquet(\"./qa.parquet\")\n",
    "df_qa"
   ]
  },
  {
   "cell_type": "code",
   "execution_count": 12,
   "metadata": {},
   "outputs": [
    {
     "data": {
      "text/html": [
       "<div>\n",
       "<style scoped>\n",
       "    .dataframe tbody tr th:only-of-type {\n",
       "        vertical-align: middle;\n",
       "    }\n",
       "\n",
       "    .dataframe tbody tr th {\n",
       "        vertical-align: top;\n",
       "    }\n",
       "\n",
       "    .dataframe thead th {\n",
       "        text-align: right;\n",
       "    }\n",
       "</style>\n",
       "<table border=\"1\" class=\"dataframe\">\n",
       "  <thead>\n",
       "    <tr style=\"text-align: right;\">\n",
       "      <th></th>\n",
       "      <th>query</th>\n",
       "      <th>generation_gt</th>\n",
       "    </tr>\n",
       "  </thead>\n",
       "  <tbody>\n",
       "    <tr>\n",
       "      <th>0</th>\n",
       "      <td>CJ제일제당의 바이오 사업 매출총이익률 추이는 어떻게 되나요?</td>\n",
       "      <td>[CJ제일제당의 바이오 사업 매출총이익률 추이는 Text에서 확인할 수 있습니다. 바이오 사업 매출총이익률 추이는 다음과 같습니다:\\n\\n- 1Q23: 5.8%\\n- 2Q23: 6.5%\\n- 3Q23: -4.6%\\n- 4Q23: 15.1%\\n- 1Q24: 2.8%\\n- 2Q24: -3.5%, CJ제일제당의 바이오 사업 매출총이익률 추이는 Text에 제공되지 않았습니다.]</td>\n",
       "    </tr>\n",
       "    <tr>\n",
       "      <th>1</th>\n",
       "      <td>하나증권의 금융투자상품의 비율은 어떻게 되나요?</td>\n",
       "      <td>[하나증권의 금융투자상품의 비율은 다음과 같습니다.\\n- BUY(매수): 94.27%\\n- Neutral(중립): 5.29%\\n- Reduce(매도): 0.44%, 94.27%]</td>\n",
       "    </tr>\n",
       "    <tr>\n",
       "      <th>2</th>\n",
       "      <td>2025년과 2026년에 대한 연구 센터의 총 매출은 얼마인가요?</td>\n",
       "      <td>[2025년과 2026년에 대한 연구 센터의 총 매출은 각각 152,263원과 174,713원입니다., 152,263원과 174,713원]</td>\n",
       "    </tr>\n",
       "    <tr>\n",
       "      <th>3</th>\n",
       "      <td>DS투자증권 리서치센터가 발표한 자료에 따르면 2026년에 Design CAPA는 어떻게 예상되는가?</td>\n",
       "      <td>[2026년에 Design CAPA는 200GWh로 예상되고 있습니다., 2026년에 Design CAPA는 2024년과 2025년에 비해 상승할 것으로 예상된다.]</td>\n",
       "    </tr>\n",
       "    <tr>\n",
       "      <th>4</th>\n",
       "      <td>CJ제일제당의 2024년 4분기 매출액은 얼마입니까?</td>\n",
       "      <td>[CJ제일제당의 2024년 4분기 매출액은 7,612.0 십억원입니다., 7,612.0 억원]</td>\n",
       "    </tr>\n",
       "    <tr>\n",
       "      <th>5</th>\n",
       "      <td>매출액이 어떻게 변동했습니까?</td>\n",
       "      <td>[매출액은 전 분기 대비 11.7% 증가하여 성장했습니다., 11.7% 증가했습니다.]</td>\n",
       "    </tr>\n",
       "    <tr>\n",
       "      <th>6</th>\n",
       "      <td>자산총계가 2025년과 2026년에 각각 얼마인가요?</td>\n",
       "      <td>[2025년 자산총계는 127,582 십억원이고, 2026년 자산총계는 195,743 십억원입니다., 2025년 자산총계: 127,582 십억원\\n2026년 자산총계: 195,743 십억원]</td>\n",
       "    </tr>\n",
       "    <tr>\n",
       "      <th>7</th>\n",
       "      <td>LGES의 영업이익이 2Q24 대비 어떻게 변화했습니까?</td>\n",
       "      <td>[LGES의 영업이익은 2Q24에서 1Q24로 감소했습니다. 2Q24의 영업이익은 4,260.0이었고, 1Q24의 영업이익은 4,455.0이었습니다. 따라서 LGES의 영업이익은 2Q24 대비 1Q24로 감소했습니다., LGES의 영업이익이 2Q24 대비 1Q24에 비해 증가했습니다.]</td>\n",
       "    </tr>\n",
       "    <tr>\n",
       "      <th>8</th>\n",
       "      <td>대한통운의 연결영업이익이 어떻게 변화했습니까?</td>\n",
       "      <td>[대한통운의 연결영업이익은 252.8에서 1,743.7로 증가했습니다., 대한통운의 연결영업이익은 252.8에서 1,743.7으로 증가했습니다.]</td>\n",
       "    </tr>\n",
       "    <tr>\n",
       "      <th>9</th>\n",
       "      <td>태양광 부문의 영업이익률이 가장 높은 분기는 언제인가요?</td>\n",
       "      <td>[태양광 부문의 영업이익률이 가장 높은 분기는 \"524.8%\"로, QoQ(%)에 해당하는 숫자입니다., 태양광 부문의 영업이익률이 가장 높은 분기는 2024년 3분기입니다.]</td>\n",
       "    </tr>\n",
       "  </tbody>\n",
       "</table>\n",
       "</div>"
      ],
      "text/plain": [
       "                                                      query                                                                                                                                                                                                     generation_gt\n",
       "0                        CJ제일제당의 바이오 사업 매출총이익률 추이는 어떻게 되나요?  [CJ제일제당의 바이오 사업 매출총이익률 추이는 Text에서 확인할 수 있습니다. 바이오 사업 매출총이익률 추이는 다음과 같습니다:\\n\\n- 1Q23: 5.8%\\n- 2Q23: 6.5%\\n- 3Q23: -4.6%\\n- 4Q23: 15.1%\\n- 1Q24: 2.8%\\n- 2Q24: -3.5%, CJ제일제당의 바이오 사업 매출총이익률 추이는 Text에 제공되지 않았습니다.]\n",
       "1                                하나증권의 금융투자상품의 비율은 어떻게 되나요?                                                                                                               [하나증권의 금융투자상품의 비율은 다음과 같습니다.\\n- BUY(매수): 94.27%\\n- Neutral(중립): 5.29%\\n- Reduce(매도): 0.44%, 94.27%]\n",
       "2                      2025년과 2026년에 대한 연구 센터의 총 매출은 얼마인가요?                                                                                                                                     [2025년과 2026년에 대한 연구 센터의 총 매출은 각각 152,263원과 174,713원입니다., 152,263원과 174,713원]\n",
       "3  DS투자증권 리서치센터가 발표한 자료에 따르면 2026년에 Design CAPA는 어떻게 예상되는가?                                                                                                                      [2026년에 Design CAPA는 200GWh로 예상되고 있습니다., 2026년에 Design CAPA는 2024년과 2025년에 비해 상승할 것으로 예상된다.]\n",
       "4                             CJ제일제당의 2024년 4분기 매출액은 얼마입니까?                                                                                                                                                              [CJ제일제당의 2024년 4분기 매출액은 7,612.0 십억원입니다., 7,612.0 억원]\n",
       "5                                          매출액이 어떻게 변동했습니까?                                                                                                                                                                  [매출액은 전 분기 대비 11.7% 증가하여 성장했습니다., 11.7% 증가했습니다.]\n",
       "6                             자산총계가 2025년과 2026년에 각각 얼마인가요?                                                                                                        [2025년 자산총계는 127,582 십억원이고, 2026년 자산총계는 195,743 십억원입니다., 2025년 자산총계: 127,582 십억원\\n2026년 자산총계: 195,743 십억원]\n",
       "7                           LGES의 영업이익이 2Q24 대비 어떻게 변화했습니까?                                                  [LGES의 영업이익은 2Q24에서 1Q24로 감소했습니다. 2Q24의 영업이익은 4,260.0이었고, 1Q24의 영업이익은 4,455.0이었습니다. 따라서 LGES의 영업이익은 2Q24 대비 1Q24로 감소했습니다., LGES의 영업이익이 2Q24 대비 1Q24에 비해 증가했습니다.]\n",
       "8                                 대한통운의 연결영업이익이 어떻게 변화했습니까?                                                                                                                                 [대한통운의 연결영업이익은 252.8에서 1,743.7로 증가했습니다., 대한통운의 연결영업이익은 252.8에서 1,743.7으로 증가했습니다.]\n",
       "9                           태양광 부문의 영업이익률이 가장 높은 분기는 언제인가요?                                                                                                                 [태양광 부문의 영업이익률이 가장 높은 분기는 \"524.8%\"로, QoQ(%)에 해당하는 숫자입니다., 태양광 부문의 영업이익률이 가장 높은 분기는 2024년 3분기입니다.]"
      ]
     },
     "execution_count": 12,
     "metadata": {},
     "output_type": "execute_result"
    }
   ],
   "source": [
    "df_qa[[\"query\", \"generation_gt\"]]"
   ]
  },
  {
   "cell_type": "code",
   "execution_count": 3,
   "metadata": {},
   "outputs": [
    {
     "data": {
      "text/html": [
       "<div>\n",
       "<style scoped>\n",
       "    .dataframe tbody tr th:only-of-type {\n",
       "        vertical-align: middle;\n",
       "    }\n",
       "\n",
       "    .dataframe tbody tr th {\n",
       "        vertical-align: top;\n",
       "    }\n",
       "\n",
       "    .dataframe thead th {\n",
       "        text-align: right;\n",
       "    }\n",
       "</style>\n",
       "<table border=\"1\" class=\"dataframe\">\n",
       "  <thead>\n",
       "    <tr style=\"text-align: right;\">\n",
       "      <th></th>\n",
       "      <th>doc_id</th>\n",
       "      <th>contents</th>\n",
       "      <th>path</th>\n",
       "      <th>start_end_idx</th>\n",
       "      <th>metadata</th>\n",
       "    </tr>\n",
       "  </thead>\n",
       "  <tbody>\n",
       "    <tr>\n",
       "      <th>0</th>\n",
       "      <td>4747a107-0e05-4776-ac69-51ad9d3ac428</td>\n",
       "      <td>파일 제목: 네이버_키움증권(2024.11.12).pdf\\n 내용: 기업  업데이트 \\n\\n2024. 11. 12 \\n\\nBUY(Maintain) \\n목표주가: 240,000원 \\n\\n주가(11/11): 176,000원 \\n\\n시가총액: 282,981억원 \\n\\nNAVER (035420) \\n예측  기반  부가가치  요구 \\n\\n인터넷/게임  Analyst  김진구 \\n\\njingu.kim@kiwoom.com \\n\\n동사  목표주가  24만원을  유지한다.  동사  신규  서비스  기반  인게이지먼트  증가  및 \\nAI  기반  실시간  광고  대행사  기능  내재화  등으로  서치플랫폼  사업을  중심으로  한 \\n영업 레버리지 효과가  가시화될  것으로  기대한다.  다만 경쟁사를 추종하는  커머스 \\n사업의  다소  소극적  전략  및  AI  기반  구독경제  강화  움직임이  제한적이라는  점이 \\n잠재적 리스크로 작동할 수 있다. \\n\\nStock Data \\n\\nKOSPI (11/11) \\n\\n52 주  주가동향   \\n\\n최고/최저가  대비 \\n\\n등락률 \\n\\n수익률 \\n\\n          1M \\n\\n6M \\n\\n1Y \\n\\nCompany Data \\n\\n발행주식수 \\n\\n일평균  거래량(3M) \\n\\n외국인  지분율 \\n\\n배당수익률(24E) \\n\\nBPS(24E) \\n\\n주요  주주 \\n\\n투자지표 \\n\\n2,531.66pt \\n\\n최고가 \\n\\n최저가 \\n\\n231,500원 \\n\\n155,000원 \\n\\n-24.0% \\n\\n절대 \\n\\n1.6% \\n\\n-6.7% \\n\\n-14.4% \\n\\n국민연금공단 \\n\\n13.5% \\n\\n상대 \\n\\n4.2% \\n\\n0.5% \\n\\n-15.9% \\n\\n160,785천주 \\n\\n755천주 \\n\\n43.1% \\n\\n0.6% \\n\\n155,251원 \\n\\n8.3% \\n\\n(십억원, IFRS  연결) \\n\\n2022 \\n\\n2023 \\n\\n2024F \\n\\n2025F \\n\\n매출액 \\n\\n영업이익 \\n\\nEBITDA \\n\\n세전이익 \\n\\n순이익 \\n\\n8,220.1  9,670.6  10,621.3  11,554.9 \\n\\n1,304.7  1,488.8  1,954.0  2,093.4 \\n\\n1,865.6  2,071.2  2,545.6  2,710.7 \\n\\n1,083.7  1,481.4  2,316.7  2,249.4 \\n\\n673.2 \\n\\n985.0  1,806.4  1,630.8 \\n\\n지배주주지분순이익 \\n\\n760.3  1,012.3  1,749.1  1,590.1 \\n\\n4,634 \\n\\n-95.4 \\n\\n38.3 \\n\\n1.28 \\n\\n16.1 \\n\\n15.9 \\n\\n3.3 \\n\\n1.0 \\n\\n6,180 \\n\\n10,834 \\n\\n10,036 \\n\\n33.4 \\n\\n36.2 \\n\\n1.57 \\n\\n18.0 \\n\\n15.4 \\n\\n4.4 \\n\\n-0.9 \\n\\n75.3</td>\n",
       "      <td>./data/네이버/네이버_키움증권(2024.11.12).pdf</td>\n",
       "      <td>[0, 1233]</td>\n",
       "      <td>{'last_modified_datetime': '2025-01-02', 'next_id': 'eddb96fa-5a39-44d1-9e1a-9895acc10940', 'page': -1, 'path': './data/네이버/네이버_키움증권(2024.11.12).pdf', 'prev_id': None}</td>\n",
       "    </tr>\n",
       "    <tr>\n",
       "      <th>1</th>\n",
       "      <td>eddb96fa-5a39-44d1-9e1a-9895acc10940</td>\n",
       "      <td>파일 제목: 네이버_키움증권(2024.11.12).pdf\\n 내용: 18.0 \\n\\n15.4 \\n\\n4.4 \\n\\n-0.9 \\n\\n75.3 \\n\\n16.2 \\n\\n1.13 \\n\\n11.0 \\n\\n18.4 \\n\\n7.3 \\n\\n-5.4 \\n\\n-7.4 \\n\\n17.5 \\n\\n1.08 \\n\\n10.0 \\n\\n18.1 \\n\\n6.3 \\n\\n-8.1 \\n\\nEPS(원) \\n\\n  증감률(%,YoY) \\n\\nPER(배) \\n\\nPBR(배) \\n\\nEV/EBITDA(배) \\n\\n영업이익률(%) \\n\\nROE(%) \\n\\n순차입금비율(%) \\n\\nPrice Trend \\n\\n  동사  목표주가  24만원을  유지 \\n\\n동사  목표주가  24만원을  유지한다.  동사  적정가치는  38.7조원으로,  이는  서치\\n\\n플랫폼/클라우드  중심  사업부문  적정가치  21.6조원,  네이버쇼핑  사업부문  적정\\n\\n가치  6.2조원,  네이버파이낸셜  지분가치  3.7조원  및  Webtoon  Entertainment \\n\\n지분가치  1.7조원와  LY Corporation  지분가치  5.4조원을  합산해  산출했다. \\n\\n  예측  기반  부가가치  강화  요구 \\n\\n동사  광고  사업은  홈피드,  클립  등  신규  서비스  기반  인게이지먼트  증가  및  AI \\n\\n탑재를  통한  실시간  매칭  및  광고  대행사  기능  내재화로  탑라인  증가  및  비용 \\n\\n절감이  동시에  나타나면서  관련  영업이익의  레버리지  효과가  기대된다.  커머스 \\n\\n사업은  배송  리드타임을  축소하는  다양한  플랜을  공개했으나  이는  풀필먼트를 \\n\\n내재한  쿠팡과  격차를  축소하는  다소  소극적  차원으로  여전히  이해되며  본질적 \\n\\n거래액  성장과  쇼핑광고  매출  회복을  도모하기  위해서는  보다  적극적인  전략이 \\n\\n필요한  바,  이는  셀러  대상  수요예측  기반  판매  예측  및  연계  재고관리  솔루션 \\n\\n등이  수반되어야  하며  실시간  적정  프라이스  및  통합  마케팅  솔루션  제공  등을 \\n\\n통해  셀러  이익을  극대화시킬  수  있는  기능을  제공해야  한다.  이를  통해  서드\\n\\n파티  셀러  확보로  상품  다양성을</td>\n",
       "      <td>./data/네이버/네이버_키움증권(2024.11.12).pdf</td>\n",
       "      <td>[1203, 2217]</td>\n",
       "      <td>{'last_modified_datetime': '2025-01-02', 'next_id': 'fa13294d-f970-42da-8212-9d77844fe1a9', 'page': -1, 'path': './data/네이버/네이버_키움증권(2024.11.12).pdf', 'prev_id': '4747a107-0e05-4776-ac69-51ad9d3ac428'}</td>\n",
       "    </tr>\n",
       "    <tr>\n",
       "      <th>2</th>\n",
       "      <td>fa13294d-f970-42da-8212-9d77844fe1a9</td>\n",
       "      <td>파일 제목: 네이버_키움증권(2024.11.12).pdf\\n 내용: 셀러  확보로  상품  다양성을  넓혀  유저  성향과  구매  히스토리  등에  기반한 \\n\\n타겟  추천  커버리지  증가를  동인해  동일  소비력  기반의  구매  만족도  증대  및 \\n\\n동일  효용가치  대비  경제적  비용  절감  등의  유인으로  소비자를  락인시켜야  할 \\n\\n필요성이  명확하다.  이외  중장기적으로  다양한  세그먼트에서  예측과  추론  기반 \\n\\n구독경제  활성화에  대응하기  위해  동사  자체  AI의  경쟁력으로  커버할  수  없는 \\n\\n분야에  대한  글로벌  빅테크와  데이터  기반의  전략적  제휴를  강화시켜야  하며, \\n\\n이를  통해  관련  사업적  기회를  놓치지  말아야  할  것으로  판단한다. \\n\\n  단기적인  기업가치  증가  기대 \\n\\n동사의  광고를  중심으로  한  서치플랫폼  매출의  견조한  성장  및  이를  통한  영업 \\n\\n레버리지  효과  부각  등으로  분기별  영업이익의  견조한  증가와  가시성이  부각될 \\n\\n것으로  판단하며  이에  기반해  단기적으로  기업가치의  점진적  증가가  기대된다. \\n\\n다만  커머스  성장성에  대한  검증이  필요하며  AI  기반의  구독경제  사업에  대한 \\n\\n접점  강화  등이  요구된다는  점이  잠재  리스크로  작동하면서  동사  밸류에이션을 \\n\\n제한하는  요인으로  작용할  여지가  있음을  부연  설명한다. \\n\\n-40-30-20-1001020050,000100,000150,000200,000250,00023.1124.0224.0524.0824.11(%)(원)수정주가(좌)상대수익률(우) \\n \\n \\n \\n \\n \\n \\n \\n \\n \\n \\n \\n \\n \\n \\n \\n \\n \\n \\n \\n \\n \\n \\n \\n \\n \\n \\n \\n   \\n \\n \\n \\n \\n\f  NAVER (035420) \\n\\n2024. 11. 12 \\n\\n  산출내역   \\n\\n21,644.5   \\n\\n1,082.2   \\n\\n20.0   \\n\\n6,240.2   \\n\\n456.8   \\n\\n20.0   \\n\\n10.0% \\n\\n3,745.7   \\n\\n5,428.6   \\n\\n69.0% \\n\\n1,718.9   \\n\\n3,389.0   \\n\\n63.4% \\n\\n5,393.9   \\n\\n986.3   \\n\\n25.0   \\n\\n24,657.9</td>\n",
       "      <td>./data/네이버/네이버_키움증권(2024.11.12).pdf</td>\n",
       "      <td>[2201, 3288]</td>\n",
       "      <td>{'last_modified_datetime': '2025-01-02', 'next_id': '1915dbee-95dc-4d65-ac7c-ff8a59e8c89b', 'page': -1, 'path': './data/네이버/네이버_키움증권(2024.11.12).pdf', 'prev_id': 'eddb96fa-5a39-44d1-9e1a-9895acc10940'}</td>\n",
       "    </tr>\n",
       "    <tr>\n",
       "      <th>3</th>\n",
       "      <td>1915dbee-95dc-4d65-ac7c-ff8a59e8c89b</td>\n",
       "      <td>파일 제목: 네이버_키움증권(2024.11.12).pdf\\n 내용: 986.3   \\n\\n25.0   \\n\\n24,657.9   \\n\\n31.3% \\n\\n38,743.2   \\n\\n160,785   \\n\\n240,964   \\n\\n176,000   \\n\\n36.9% \\n\\nNAVER Valuation \\n\\n(십억원) \\n\\n네이버  서치플랫폼/클라우드  중심  적정가치 \\n\\n4Q FWD  조정  지배주주지분 \\n\\n목표  PER(배) \\n\\n네이버쇼핑  사업부문  적정가치 \\n\\n28E  네이버쇼핑  세후  영업이익 \\n\\n잠재  PER(배) \\n\\n연간  할인율(%) \\n\\n네이버파이낸셜  지분가치 \\n\\n네이버파이낸셜  기업가치 \\n\\nNAVER  지분율(%) \\n\\nWebtoon Entertainment  지분가치 \\n\\nWebtoon Entertainment  기업가치 \\n\\nNAVER  지분율(%) \\n\\nLY Corporation  지분가치 \\n\\n24E LY Corporation  지배주주지분 \\n\\n목표  PER(배) \\n\\nLY Corporation  적정가치 \\n\\nNAVER  지분율(%) \\n\\nNAVER  적정가치 \\n\\n발행주식수(천주) \\n\\nNAVER  주당  적정가치(원) \\n\\n현주가(원) \\n\\n업사이드(%) \\n\\n주1: 24E  기준  환산,  연간  할인율  10%, 24E  평균  원/엔  환율  9.0원  적용 \\n\\n주2: Webtoon Entertainment  지분가치  할인율  20%  적용 \\n\\n주3: LY Corporation  지분가치  할인율  30%  적용 \\n\\n자료: NAVER, LY Corporation,  키움증권 \\n\\n2 \\n\\n \\n \\n \\n \\n \\n \\n \\n \\n \\n \\n \\n \\n \\n \\n \\n \\n \\n \\n \\n \\n \\n \\n \\n \\n \\n \\n \\n \\n \\n \\n\f  NAVER (035420) \\n\\n2024. 11. 12 \\n\\n네이버쇼핑  연간  실적  및  Valuation \\n\\n(십억원) \\n\\n매출액 \\n\\n수수료 \\n\\n광고 \\n\\n솔루션 \\n\\n플러스  멤버십 \\n\\nPoshmark \\n\\n영업비용 \\n\\n개발/운영 \\n\\n파트너 \\n\\n마케팅 \\n\\n기타 \\n\\nPoshmark \\n\\n영업이익 \\n\\n마진율(%) \\n\\n세후  영업이익 \\n\\nCAGR(24E-28E) \\n\\n잠재  PER(배) \\n\\n24E  적정가치 \\n\\n주:  연간  할인율  10% \\n\\n자료: NAVER,  키움증권  추정 \\n\\n네이버파이낸셜  Valuation \\n\\n(십억원) \\n\\n네이버파이낸셜  적정가치 \\n\\n24E MAU(백만) \\n\\nMAU 당  기업가치(천원) \\n\\n금융기관  연계대출  BM \\n\\n비은행  사업부문  BM \\n\\n  22A   \\n\\n  23A   \\n\\n  24E   \\n\\n  25E   \\n\\n  26E   \\n\\n  27E   \\n\\n  28E   \\n\\n1,801.1   \\n\\n2,546.6   \\n\\n2,901.9</td>\n",
       "      <td>./data/네이버/네이버_키움증권(2024.11.12).pdf</td>\n",
       "      <td>[3262, 4540]</td>\n",
       "      <td>{'last_modified_datetime': '2025-01-02', 'next_id': '50323a4d-7761-44c9-bf41-590111c2a243', 'page': -1, 'path': './data/네이버/네이버_키움증권(2024.11.12).pdf', 'prev_id': 'fa13294d-f970-42da-8212-9d77844fe1a9'}</td>\n",
       "    </tr>\n",
       "    <tr>\n",
       "      <th>4</th>\n",
       "      <td>50323a4d-7761-44c9-bf41-590111c2a243</td>\n",
       "      <td>파일 제목: 네이버_키움증권(2024.11.12).pdf\\n 내용: 1,801.1   \\n\\n2,546.6   \\n\\n2,901.9   \\n\\n3,195.2   \\n\\n3,482.4   \\n\\n3,765.7   \\n\\n4,046.8   \\n\\n604.0   \\n\\n769.5   \\n\\n876.0   \\n\\n995.0   \\n\\n1,112.8   \\n\\n1,226.5   \\n\\n1,339.5   \\n\\n1,078.4   \\n\\n1,106.9   \\n\\n1,111.5   \\n\\n1,150.7   \\n\\n1,185.3   \\n\\n1,214.9   \\n\\n1,239.2   \\n\\n118.7   \\n\\n16.7   \\n\\n171.1   \\n\\n482.5   \\n\\n102.8   \\n\\n189.2   \\n\\n622.4   \\n\\n167.6   \\n\\n211.9   \\n\\n669.9   \\n\\n247.0   \\n\\n232.5   \\n\\n704.9   \\n\\n340.3   \\n\\n250.2   \\n\\n733.9   \\n\\n448.1   \\n\\n263.9   \\n\\n756.2   \\n\\n1,422.7   \\n\\n2,360.0   \\n\\n2,666.8   \\n\\n2,922.4   \\n\\n3,131.7   \\n\\n3,304.1   \\n\\n3,439.6   \\n\\n478.2   \\n\\n168.2   \\n\\n304.5   \\n\\n471.9   \\n\\n378.4   \\n\\n21.0% \\n\\n549.9   \\n\\n172.0   \\n\\n501.9   \\n\\n530.8   \\n\\n605.3   \\n\\n186.7   \\n\\n7.3% \\n\\n618.6   \\n\\n173.0   \\n\\n627.3   \\n\\n583.9   \\n\\n664.0   \\n\\n235.1   \\n\\n8.1% \\n\\n680.5   \\n\\n179.2   \\n\\n756.1   \\n\\n627.7   \\n\\n679.0   \\n\\n272.8   \\n\\n731.5   \\n\\n184.5   \\n\\n866.3   \\n\\n659.1   \\n\\n690.3   \\n\\n350.7   \\n\\n768.1   \\n\\n189.1   \\n\\n798.8   \\n\\n192.9   \\n\\n963.7   \\n\\n1,040.8   \\n\\n685.5   \\n\\n697.7   \\n\\n461.6   \\n\\n706.0   \\n\\n701.0   \\n\\n607.2   \\n\\n8.5% \\n\\n10.1% \\n\\n12.3% \\n\\n15.0% \\n\\n284.2   \\n\\n141.5   \\n\\n180.8   \\n\\n209.8   \\n\\n268.0   \\n\\n349.7   \\n\\n456.8   \\n\\n26.4% \\n\\n20.0   \\n\\n6,240.2   \\n\\n산출내역  비고 \\n\\n5,428.6   \\n\\n20.5    네이버페이  기반  신규  MAU  증가  반영  (스마트스토어  포함) \\n\\n265   \\n\\n189    수익배분율  50%  적용 \\n\\n76    비은행  비중  29% (수익배분율  50%  적용) \\n\\n주1:  금융기관  연계대출  BM은  카카오뱅크  MAU당  시가총액  55만원에  타겟  고객  비중  68%  적용 \\n\\n주2:  카카오뱅크  MAU는  24E  연평균  18.2백만명  적용,  이는</td>\n",
       "      <td>./data/네이버/네이버_키움증권(2024.11.12).pdf</td>\n",
       "      <td>[4510, 5848]</td>\n",
       "      <td>{'last_modified_datetime': '2025-01-02', 'next_id': 'a09f9b34-136a-432a-88aa-82d815cf358e', 'page': -1, 'path': './data/네이버/네이버_키움증권(2024.11.12).pdf', 'prev_id': '1915dbee-95dc-4d65-ac7c-ff8a59e8c89b'}</td>\n",
       "    </tr>\n",
       "  </tbody>\n",
       "</table>\n",
       "</div>"
      ],
      "text/plain": [
       "                                 doc_id  \\\n",
       "0  4747a107-0e05-4776-ac69-51ad9d3ac428   \n",
       "1  eddb96fa-5a39-44d1-9e1a-9895acc10940   \n",
       "2  fa13294d-f970-42da-8212-9d77844fe1a9   \n",
       "3  1915dbee-95dc-4d65-ac7c-ff8a59e8c89b   \n",
       "4  50323a4d-7761-44c9-bf41-590111c2a243   \n",
       "\n",
       "                                                                                                                                                                                                                                                                                                                                                                                                                                                                                                                                                                                                                                                                                                                                                                                                                                                                                                                                                                                                                                                                                                                                                                                                                                                                                                                                                                                                                                                                                                                                                                                                                                                                      contents  \\\n",
       "0                                                                                                                                                             파일 제목: 네이버_키움증권(2024.11.12).pdf\\n 내용: 기업  업데이트 \\n\\n2024. 11. 12 \\n\\nBUY(Maintain) \\n목표주가: 240,000원 \\n\\n주가(11/11): 176,000원 \\n\\n시가총액: 282,981억원 \\n\\nNAVER (035420) \\n예측  기반  부가가치  요구 \\n\\n인터넷/게임  Analyst  김진구 \\n\\njingu.kim@kiwoom.com \\n\\n동사  목표주가  24만원을  유지한다.  동사  신규  서비스  기반  인게이지먼트  증가  및 \\nAI  기반  실시간  광고  대행사  기능  내재화  등으로  서치플랫폼  사업을  중심으로  한 \\n영업 레버리지 효과가  가시화될  것으로  기대한다.  다만 경쟁사를 추종하는  커머스 \\n사업의  다소  소극적  전략  및  AI  기반  구독경제  강화  움직임이  제한적이라는  점이 \\n잠재적 리스크로 작동할 수 있다. \\n\\nStock Data \\n\\nKOSPI (11/11) \\n\\n52 주  주가동향   \\n\\n최고/최저가  대비 \\n\\n등락률 \\n\\n수익률 \\n\\n          1M \\n\\n6M \\n\\n1Y \\n\\nCompany Data \\n\\n발행주식수 \\n\\n일평균  거래량(3M) \\n\\n외국인  지분율 \\n\\n배당수익률(24E) \\n\\nBPS(24E) \\n\\n주요  주주 \\n\\n투자지표 \\n\\n2,531.66pt \\n\\n최고가 \\n\\n최저가 \\n\\n231,500원 \\n\\n155,000원 \\n\\n-24.0% \\n\\n절대 \\n\\n1.6% \\n\\n-6.7% \\n\\n-14.4% \\n\\n국민연금공단 \\n\\n13.5% \\n\\n상대 \\n\\n4.2% \\n\\n0.5% \\n\\n-15.9% \\n\\n160,785천주 \\n\\n755천주 \\n\\n43.1% \\n\\n0.6% \\n\\n155,251원 \\n\\n8.3% \\n\\n(십억원, IFRS  연결) \\n\\n2022 \\n\\n2023 \\n\\n2024F \\n\\n2025F \\n\\n매출액 \\n\\n영업이익 \\n\\nEBITDA \\n\\n세전이익 \\n\\n순이익 \\n\\n8,220.1  9,670.6  10,621.3  11,554.9 \\n\\n1,304.7  1,488.8  1,954.0  2,093.4 \\n\\n1,865.6  2,071.2  2,545.6  2,710.7 \\n\\n1,083.7  1,481.4  2,316.7  2,249.4 \\n\\n673.2 \\n\\n985.0  1,806.4  1,630.8 \\n\\n지배주주지분순이익 \\n\\n760.3  1,012.3  1,749.1  1,590.1 \\n\\n4,634 \\n\\n-95.4 \\n\\n38.3 \\n\\n1.28 \\n\\n16.1 \\n\\n15.9 \\n\\n3.3 \\n\\n1.0 \\n\\n6,180 \\n\\n10,834 \\n\\n10,036 \\n\\n33.4 \\n\\n36.2 \\n\\n1.57 \\n\\n18.0 \\n\\n15.4 \\n\\n4.4 \\n\\n-0.9 \\n\\n75.3   \n",
       "1                                                                                                                                                                                                                                                                                                                                                                                                                                                                                  파일 제목: 네이버_키움증권(2024.11.12).pdf\\n 내용: 18.0 \\n\\n15.4 \\n\\n4.4 \\n\\n-0.9 \\n\\n75.3 \\n\\n16.2 \\n\\n1.13 \\n\\n11.0 \\n\\n18.4 \\n\\n7.3 \\n\\n-5.4 \\n\\n-7.4 \\n\\n17.5 \\n\\n1.08 \\n\\n10.0 \\n\\n18.1 \\n\\n6.3 \\n\\n-8.1 \\n\\nEPS(원) \\n\\n  증감률(%,YoY) \\n\\nPER(배) \\n\\nPBR(배) \\n\\nEV/EBITDA(배) \\n\\n영업이익률(%) \\n\\nROE(%) \\n\\n순차입금비율(%) \\n\\nPrice Trend \\n\\n  동사  목표주가  24만원을  유지 \\n\\n동사  목표주가  24만원을  유지한다.  동사  적정가치는  38.7조원으로,  이는  서치\\n\\n플랫폼/클라우드  중심  사업부문  적정가치  21.6조원,  네이버쇼핑  사업부문  적정\\n\\n가치  6.2조원,  네이버파이낸셜  지분가치  3.7조원  및  Webtoon  Entertainment \\n\\n지분가치  1.7조원와  LY Corporation  지분가치  5.4조원을  합산해  산출했다. \\n\\n  예측  기반  부가가치  강화  요구 \\n\\n동사  광고  사업은  홈피드,  클립  등  신규  서비스  기반  인게이지먼트  증가  및  AI \\n\\n탑재를  통한  실시간  매칭  및  광고  대행사  기능  내재화로  탑라인  증가  및  비용 \\n\\n절감이  동시에  나타나면서  관련  영업이익의  레버리지  효과가  기대된다.  커머스 \\n\\n사업은  배송  리드타임을  축소하는  다양한  플랜을  공개했으나  이는  풀필먼트를 \\n\\n내재한  쿠팡과  격차를  축소하는  다소  소극적  차원으로  여전히  이해되며  본질적 \\n\\n거래액  성장과  쇼핑광고  매출  회복을  도모하기  위해서는  보다  적극적인  전략이 \\n\\n필요한  바,  이는  셀러  대상  수요예측  기반  판매  예측  및  연계  재고관리  솔루션 \\n\\n등이  수반되어야  하며  실시간  적정  프라이스  및  통합  마케팅  솔루션  제공  등을 \\n\\n통해  셀러  이익을  극대화시킬  수  있는  기능을  제공해야  한다.  이를  통해  서드\\n\\n파티  셀러  확보로  상품  다양성을   \n",
       "2                                                                                                                                                                                                                                                                                                                                                                                          파일 제목: 네이버_키움증권(2024.11.12).pdf\\n 내용: 셀러  확보로  상품  다양성을  넓혀  유저  성향과  구매  히스토리  등에  기반한 \\n\\n타겟  추천  커버리지  증가를  동인해  동일  소비력  기반의  구매  만족도  증대  및 \\n\\n동일  효용가치  대비  경제적  비용  절감  등의  유인으로  소비자를  락인시켜야  할 \\n\\n필요성이  명확하다.  이외  중장기적으로  다양한  세그먼트에서  예측과  추론  기반 \\n\\n구독경제  활성화에  대응하기  위해  동사  자체  AI의  경쟁력으로  커버할  수  없는 \\n\\n분야에  대한  글로벌  빅테크와  데이터  기반의  전략적  제휴를  강화시켜야  하며, \\n\\n이를  통해  관련  사업적  기회를  놓치지  말아야  할  것으로  판단한다. \\n\\n  단기적인  기업가치  증가  기대 \\n\\n동사의  광고를  중심으로  한  서치플랫폼  매출의  견조한  성장  및  이를  통한  영업 \\n\\n레버리지  효과  부각  등으로  분기별  영업이익의  견조한  증가와  가시성이  부각될 \\n\\n것으로  판단하며  이에  기반해  단기적으로  기업가치의  점진적  증가가  기대된다. \\n\\n다만  커머스  성장성에  대한  검증이  필요하며  AI  기반의  구독경제  사업에  대한 \\n\\n접점  강화  등이  요구된다는  점이  잠재  리스크로  작동하면서  동사  밸류에이션을 \\n\\n제한하는  요인으로  작용할  여지가  있음을  부연  설명한다. \\n\\n-40-30-20-1001020050,000100,000150,000200,000250,00023.1124.0224.0524.0824.11(%)(원)수정주가(좌)상대수익률(우) \\n \\n \\n \\n \\n \\n \\n \\n \\n \\n \\n \\n \\n \\n \\n \\n \\n \\n \\n \\n \\n \\n \\n \\n \\n \\n \\n \\n   \\n \\n \\n \\n \\n\n",
       "  NAVER (035420) \\n\\n2024. 11. 12 \\n\\n  산출내역   \\n\\n21,644.5   \\n\\n1,082.2   \\n\\n20.0   \\n\\n6,240.2   \\n\\n456.8   \\n\\n20.0   \\n\\n10.0% \\n\\n3,745.7   \\n\\n5,428.6   \\n\\n69.0% \\n\\n1,718.9   \\n\\n3,389.0   \\n\\n63.4% \\n\\n5,393.9   \\n\\n986.3   \\n\\n25.0   \\n\\n24,657.9   \n",
       "3                                                                                                  파일 제목: 네이버_키움증권(2024.11.12).pdf\\n 내용: 986.3   \\n\\n25.0   \\n\\n24,657.9   \\n\\n31.3% \\n\\n38,743.2   \\n\\n160,785   \\n\\n240,964   \\n\\n176,000   \\n\\n36.9% \\n\\nNAVER Valuation \\n\\n(십억원) \\n\\n네이버  서치플랫폼/클라우드  중심  적정가치 \\n\\n4Q FWD  조정  지배주주지분 \\n\\n목표  PER(배) \\n\\n네이버쇼핑  사업부문  적정가치 \\n\\n28E  네이버쇼핑  세후  영업이익 \\n\\n잠재  PER(배) \\n\\n연간  할인율(%) \\n\\n네이버파이낸셜  지분가치 \\n\\n네이버파이낸셜  기업가치 \\n\\nNAVER  지분율(%) \\n\\nWebtoon Entertainment  지분가치 \\n\\nWebtoon Entertainment  기업가치 \\n\\nNAVER  지분율(%) \\n\\nLY Corporation  지분가치 \\n\\n24E LY Corporation  지배주주지분 \\n\\n목표  PER(배) \\n\\nLY Corporation  적정가치 \\n\\nNAVER  지분율(%) \\n\\nNAVER  적정가치 \\n\\n발행주식수(천주) \\n\\nNAVER  주당  적정가치(원) \\n\\n현주가(원) \\n\\n업사이드(%) \\n\\n주1: 24E  기준  환산,  연간  할인율  10%, 24E  평균  원/엔  환율  9.0원  적용 \\n\\n주2: Webtoon Entertainment  지분가치  할인율  20%  적용 \\n\\n주3: LY Corporation  지분가치  할인율  30%  적용 \\n\\n자료: NAVER, LY Corporation,  키움증권 \\n\\n2 \\n\\n \\n \\n \\n \\n \\n \\n \\n \\n \\n \\n \\n \\n \\n \\n \\n \\n \\n \\n \\n \\n \\n \\n \\n \\n \\n \\n \\n \\n \\n \\n\n",
       "  NAVER (035420) \\n\\n2024. 11. 12 \\n\\n네이버쇼핑  연간  실적  및  Valuation \\n\\n(십억원) \\n\\n매출액 \\n\\n수수료 \\n\\n광고 \\n\\n솔루션 \\n\\n플러스  멤버십 \\n\\nPoshmark \\n\\n영업비용 \\n\\n개발/운영 \\n\\n파트너 \\n\\n마케팅 \\n\\n기타 \\n\\nPoshmark \\n\\n영업이익 \\n\\n마진율(%) \\n\\n세후  영업이익 \\n\\nCAGR(24E-28E) \\n\\n잠재  PER(배) \\n\\n24E  적정가치 \\n\\n주:  연간  할인율  10% \\n\\n자료: NAVER,  키움증권  추정 \\n\\n네이버파이낸셜  Valuation \\n\\n(십억원) \\n\\n네이버파이낸셜  적정가치 \\n\\n24E MAU(백만) \\n\\nMAU 당  기업가치(천원) \\n\\n금융기관  연계대출  BM \\n\\n비은행  사업부문  BM \\n\\n  22A   \\n\\n  23A   \\n\\n  24E   \\n\\n  25E   \\n\\n  26E   \\n\\n  27E   \\n\\n  28E   \\n\\n1,801.1   \\n\\n2,546.6   \\n\\n2,901.9   \n",
       "4  파일 제목: 네이버_키움증권(2024.11.12).pdf\\n 내용: 1,801.1   \\n\\n2,546.6   \\n\\n2,901.9   \\n\\n3,195.2   \\n\\n3,482.4   \\n\\n3,765.7   \\n\\n4,046.8   \\n\\n604.0   \\n\\n769.5   \\n\\n876.0   \\n\\n995.0   \\n\\n1,112.8   \\n\\n1,226.5   \\n\\n1,339.5   \\n\\n1,078.4   \\n\\n1,106.9   \\n\\n1,111.5   \\n\\n1,150.7   \\n\\n1,185.3   \\n\\n1,214.9   \\n\\n1,239.2   \\n\\n118.7   \\n\\n16.7   \\n\\n171.1   \\n\\n482.5   \\n\\n102.8   \\n\\n189.2   \\n\\n622.4   \\n\\n167.6   \\n\\n211.9   \\n\\n669.9   \\n\\n247.0   \\n\\n232.5   \\n\\n704.9   \\n\\n340.3   \\n\\n250.2   \\n\\n733.9   \\n\\n448.1   \\n\\n263.9   \\n\\n756.2   \\n\\n1,422.7   \\n\\n2,360.0   \\n\\n2,666.8   \\n\\n2,922.4   \\n\\n3,131.7   \\n\\n3,304.1   \\n\\n3,439.6   \\n\\n478.2   \\n\\n168.2   \\n\\n304.5   \\n\\n471.9   \\n\\n378.4   \\n\\n21.0% \\n\\n549.9   \\n\\n172.0   \\n\\n501.9   \\n\\n530.8   \\n\\n605.3   \\n\\n186.7   \\n\\n7.3% \\n\\n618.6   \\n\\n173.0   \\n\\n627.3   \\n\\n583.9   \\n\\n664.0   \\n\\n235.1   \\n\\n8.1% \\n\\n680.5   \\n\\n179.2   \\n\\n756.1   \\n\\n627.7   \\n\\n679.0   \\n\\n272.8   \\n\\n731.5   \\n\\n184.5   \\n\\n866.3   \\n\\n659.1   \\n\\n690.3   \\n\\n350.7   \\n\\n768.1   \\n\\n189.1   \\n\\n798.8   \\n\\n192.9   \\n\\n963.7   \\n\\n1,040.8   \\n\\n685.5   \\n\\n697.7   \\n\\n461.6   \\n\\n706.0   \\n\\n701.0   \\n\\n607.2   \\n\\n8.5% \\n\\n10.1% \\n\\n12.3% \\n\\n15.0% \\n\\n284.2   \\n\\n141.5   \\n\\n180.8   \\n\\n209.8   \\n\\n268.0   \\n\\n349.7   \\n\\n456.8   \\n\\n26.4% \\n\\n20.0   \\n\\n6,240.2   \\n\\n산출내역  비고 \\n\\n5,428.6   \\n\\n20.5    네이버페이  기반  신규  MAU  증가  반영  (스마트스토어  포함) \\n\\n265   \\n\\n189    수익배분율  50%  적용 \\n\\n76    비은행  비중  29% (수익배분율  50%  적용) \\n\\n주1:  금융기관  연계대출  BM은  카카오뱅크  MAU당  시가총액  55만원에  타겟  고객  비중  68%  적용 \\n\\n주2:  카카오뱅크  MAU는  24E  연평균  18.2백만명  적용,  이는   \n",
       "\n",
       "                                               path start_end_idx                                                                                                                                                                                                                metadata  \n",
       "0  ./data/네이버/네이버_키움증권(2024.11.12).pdf     [0, 1233]                                    {'last_modified_datetime': '2025-01-02', 'next_id': 'eddb96fa-5a39-44d1-9e1a-9895acc10940', 'page': -1, 'path': './data/네이버/네이버_키움증권(2024.11.12).pdf', 'prev_id': None}  \n",
       "1  ./data/네이버/네이버_키움증권(2024.11.12).pdf  [1203, 2217]  {'last_modified_datetime': '2025-01-02', 'next_id': 'fa13294d-f970-42da-8212-9d77844fe1a9', 'page': -1, 'path': './data/네이버/네이버_키움증권(2024.11.12).pdf', 'prev_id': '4747a107-0e05-4776-ac69-51ad9d3ac428'}  \n",
       "2  ./data/네이버/네이버_키움증권(2024.11.12).pdf  [2201, 3288]  {'last_modified_datetime': '2025-01-02', 'next_id': '1915dbee-95dc-4d65-ac7c-ff8a59e8c89b', 'page': -1, 'path': './data/네이버/네이버_키움증권(2024.11.12).pdf', 'prev_id': 'eddb96fa-5a39-44d1-9e1a-9895acc10940'}  \n",
       "3  ./data/네이버/네이버_키움증권(2024.11.12).pdf  [3262, 4540]  {'last_modified_datetime': '2025-01-02', 'next_id': '50323a4d-7761-44c9-bf41-590111c2a243', 'page': -1, 'path': './data/네이버/네이버_키움증권(2024.11.12).pdf', 'prev_id': 'fa13294d-f970-42da-8212-9d77844fe1a9'}  \n",
       "4  ./data/네이버/네이버_키움증권(2024.11.12).pdf  [4510, 5848]  {'last_modified_datetime': '2025-01-02', 'next_id': 'a09f9b34-136a-432a-88aa-82d815cf358e', 'page': -1, 'path': './data/네이버/네이버_키움증권(2024.11.12).pdf', 'prev_id': '1915dbee-95dc-4d65-ac7c-ff8a59e8c89b'}  "
      ]
     },
     "execution_count": 3,
     "metadata": {},
     "output_type": "execute_result"
    }
   ],
   "source": [
    "pd.read_parquet(\"./corpus.parquet\").head()"
   ]
  },
  {
   "cell_type": "code",
   "execution_count": 4,
   "metadata": {},
   "outputs": [
    {
     "data": {
      "text/html": [
       "<pre style=\"white-space:pre;overflow-x:auto;line-height:normal;font-family:Menlo,'DejaVu Sans Mono',consolas,'Courier New',monospace\"><span style=\"color: #7fbfbf; text-decoration-color: #7fbfbf\">[02/09/25 21:42:20] </span><span style=\"color: #000080; text-decoration-color: #000080\">INFO    </span> <span style=\"font-weight: bold\">[</span>__init__.py:<span style=\"color: #008080; text-decoration-color: #008080; font-weight: bold\">100</span><span style=\"font-weight: bold\">]</span> &gt;&gt; You are using API version of AutoRAG.To use local <a href=\"file:///Users/syshin/Library/Caches/pypoetry/virtualenvs/naver-boostcamp-autorag-AUsRp4k1-py3.11/lib/python3.11/site-packages/autorag/__init__.py\" target=\"_blank\"><span style=\"color: #7f7f7f; text-decoration-color: #7f7f7f\">__init__.py</span></a><span style=\"color: #7f7f7f; text-decoration-color: #7f7f7f\">:</span><a href=\"file:///Users/syshin/Library/Caches/pypoetry/virtualenvs/naver-boostcamp-autorag-AUsRp4k1-py3.11/lib/python3.11/site-packages/autorag/__init__.py#100\" target=\"_blank\"><span style=\"color: #7f7f7f; text-decoration-color: #7f7f7f\">100</span></a>\n",
       "<span style=\"color: #7fbfbf; text-decoration-color: #7fbfbf\">                    </span>         version, run pip install <span style=\"color: #008000; text-decoration-color: #008000\">'AutoRAG[gpu]'</span>                                <span style=\"color: #7f7f7f; text-decoration-color: #7f7f7f\">               </span>\n",
       "</pre>\n"
      ],
      "text/plain": [
       "\u001b[2;36m[02/09/25 21:42:20]\u001b[0m\u001b[2;36m \u001b[0m\u001b[34mINFO    \u001b[0m \u001b[1m[\u001b[0m__init__.py:\u001b[1;36m100\u001b[0m\u001b[1m]\u001b[0m >> You are using API version of AutoRAG.To use local \u001b]8;id=220570;file:///Users/syshin/Library/Caches/pypoetry/virtualenvs/naver-boostcamp-autorag-AUsRp4k1-py3.11/lib/python3.11/site-packages/autorag/__init__.py\u001b\\\u001b[2m__init__.py\u001b[0m\u001b]8;;\u001b\\\u001b[2m:\u001b[0m\u001b]8;id=278409;file:///Users/syshin/Library/Caches/pypoetry/virtualenvs/naver-boostcamp-autorag-AUsRp4k1-py3.11/lib/python3.11/site-packages/autorag/__init__.py#100\u001b\\\u001b[2m100\u001b[0m\u001b]8;;\u001b\\\n",
       "\u001b[2;36m                    \u001b[0m         version, run pip install \u001b[32m'AutoRAG\u001b[0m\u001b[32m[\u001b[0m\u001b[32mgpu\u001b[0m\u001b[32m]\u001b[0m\u001b[32m'\u001b[0m                                \u001b[2m               \u001b[0m\n"
      ]
     },
     "metadata": {},
     "output_type": "display_data"
    },
    {
     "data": {
      "text/html": [
       "<pre style=\"white-space:pre;overflow-x:auto;line-height:normal;font-family:Menlo,'DejaVu Sans Mono',consolas,'Courier New',monospace\"><span style=\"color: #7fbfbf; text-decoration-color: #7fbfbf\">                    </span><span style=\"color: #000080; text-decoration-color: #000080\">INFO    </span> <span style=\"font-weight: bold\">[</span>__init__.py:<span style=\"color: #008080; text-decoration-color: #008080; font-weight: bold\">128</span><span style=\"font-weight: bold\">]</span> &gt;&gt; You are using API version of AutoRAG.To use local <a href=\"file:///Users/syshin/Library/Caches/pypoetry/virtualenvs/naver-boostcamp-autorag-AUsRp4k1-py3.11/lib/python3.11/site-packages/autorag/__init__.py\" target=\"_blank\"><span style=\"color: #7f7f7f; text-decoration-color: #7f7f7f\">__init__.py</span></a><span style=\"color: #7f7f7f; text-decoration-color: #7f7f7f\">:</span><a href=\"file:///Users/syshin/Library/Caches/pypoetry/virtualenvs/naver-boostcamp-autorag-AUsRp4k1-py3.11/lib/python3.11/site-packages/autorag/__init__.py#128\" target=\"_blank\"><span style=\"color: #7f7f7f; text-decoration-color: #7f7f7f\">128</span></a>\n",
       "<span style=\"color: #7fbfbf; text-decoration-color: #7fbfbf\">                    </span>         version, run pip install <span style=\"color: #008000; text-decoration-color: #008000\">'AutoRAG[gpu]'</span>                                <span style=\"color: #7f7f7f; text-decoration-color: #7f7f7f\">               </span>\n",
       "</pre>\n"
      ],
      "text/plain": [
       "\u001b[2;36m                   \u001b[0m\u001b[2;36m \u001b[0m\u001b[34mINFO    \u001b[0m \u001b[1m[\u001b[0m__init__.py:\u001b[1;36m128\u001b[0m\u001b[1m]\u001b[0m >> You are using API version of AutoRAG.To use local \u001b]8;id=716401;file:///Users/syshin/Library/Caches/pypoetry/virtualenvs/naver-boostcamp-autorag-AUsRp4k1-py3.11/lib/python3.11/site-packages/autorag/__init__.py\u001b\\\u001b[2m__init__.py\u001b[0m\u001b]8;;\u001b\\\u001b[2m:\u001b[0m\u001b]8;id=196618;file:///Users/syshin/Library/Caches/pypoetry/virtualenvs/naver-boostcamp-autorag-AUsRp4k1-py3.11/lib/python3.11/site-packages/autorag/__init__.py#128\u001b\\\u001b[2m128\u001b[0m\u001b]8;;\u001b\\\n",
       "\u001b[2;36m                    \u001b[0m         version, run pip install \u001b[32m'AutoRAG\u001b[0m\u001b[32m[\u001b[0m\u001b[32mgpu\u001b[0m\u001b[32m]\u001b[0m\u001b[32m'\u001b[0m                                \u001b[2m               \u001b[0m\n"
      ]
     },
     "metadata": {},
     "output_type": "display_data"
    },
    {
     "ename": "NameError",
     "evalue": "name 'PARSE_PROJECT_DIR' is not defined",
     "output_type": "error",
     "traceback": [
      "\u001b[0;31m---------------------------------------------------------------------------\u001b[0m",
      "\u001b[0;31mNameError\u001b[0m                                 Traceback (most recent call last)",
      "Cell \u001b[0;32mIn[4], line 14\u001b[0m\n\u001b[1;32m     11\u001b[0m \u001b[38;5;28;01mfrom\u001b[39;00m\u001b[38;5;250m \u001b[39m\u001b[38;5;21;01mautorag\u001b[39;00m\u001b[38;5;21;01m.\u001b[39;00m\u001b[38;5;21;01mdata\u001b[39;00m\u001b[38;5;21;01m.\u001b[39;00m\u001b[38;5;21;01mqa\u001b[39;00m\u001b[38;5;21;01m.\u001b[39;00m\u001b[38;5;21;01msample\u001b[39;00m\u001b[38;5;250m \u001b[39m\u001b[38;5;28;01mimport\u001b[39;00m random_single_hop\n\u001b[1;32m     13\u001b[0m llm \u001b[38;5;241m=\u001b[39m OpenAI()\n\u001b[0;32m---> 14\u001b[0m raw_df \u001b[38;5;241m=\u001b[39m pd\u001b[38;5;241m.\u001b[39mread_parquet(\u001b[43mPARSE_PROJECT_DIR\u001b[49m \u001b[38;5;241m+\u001b[39m \u001b[38;5;124m\"\u001b[39m\u001b[38;5;124m/parsed_result.parquet\u001b[39m\u001b[38;5;124m\"\u001b[39m)\n\u001b[1;32m     15\u001b[0m raw_instance \u001b[38;5;241m=\u001b[39m Raw(raw_df)\n\u001b[1;32m     17\u001b[0m corpus_df \u001b[38;5;241m=\u001b[39m pd\u001b[38;5;241m.\u001b[39mread_parquet(CHUNK_PROJECT_DIR \u001b[38;5;241m+\u001b[39m \u001b[38;5;124m\"\u001b[39m\u001b[38;5;124m/2.parquet\u001b[39m\u001b[38;5;124m\"\u001b[39m)\n",
      "\u001b[0;31mNameError\u001b[0m: name 'PARSE_PROJECT_DIR' is not defined"
     ]
    }
   ],
   "source": [
    "import pandas as pd\n",
    "from llama_index.llms.openai import OpenAI\n",
    "\n",
    "from autorag.data.qa.filter.dontknow import dontknow_filter_rule_based\n",
    "from autorag.data.qa.generation_gt.llama_index_gen_gt import (\n",
    "    make_basic_gen_gt,\n",
    "    make_concise_gen_gt,\n",
    ")\n",
    "from autorag.data.qa.schema import Raw, Corpus\n",
    "from autorag.data.qa.query.llama_gen_query import factoid_query_gen\n",
    "from autorag.data.qa.sample import random_single_hop\n",
    "\n",
    "llm = OpenAI()\n",
    "raw_df = pd.read_parquet(PARSE_PROJECT_DIR + \"/parsed_result.parquet\")\n",
    "raw_instance = Raw(raw_df)\n",
    "\n",
    "corpus_df = pd.read_parquet(CHUNK_PROJECT_DIR + \"/2.parquet\")\n",
    "corpus_instance = Corpus(corpus_df, raw_instance)\n",
    "\n",
    "initial_qa = (\n",
    "    corpus_instance.sample(random_single_hop, n=10)\n",
    "    .map(\n",
    "        lambda df: df.reset_index(drop=True),\n",
    "    )\n",
    "    .make_retrieval_gt_contents()\n",
    "    .batch_apply(\n",
    "        factoid_query_gen,  # query generation\n",
    "        llm=llm,\n",
    "        lang=\"ko\",\n",
    "    )\n",
    "    .batch_apply(\n",
    "        make_basic_gen_gt,  # answer generation (basic)\n",
    "        llm=llm,\n",
    "        lang=\"ko\",\n",
    "    )\n",
    "    .batch_apply(\n",
    "        make_concise_gen_gt,  # answer generation (concise)\n",
    "        llm=llm,\n",
    "        lang=\"ko\",\n",
    "    )\n",
    "    .filter(\n",
    "        dontknow_filter_rule_based,  # filter don't know\n",
    "        lang=\"ko\",\n",
    "    )\n",
    ")\n",
    "\n",
    "initial_qa.to_parquet(\"./qa2.parquet\", \"./corpus2.parquet\")"
   ]
  },
  {
   "cell_type": "code",
   "execution_count": 6,
   "metadata": {},
   "outputs": [
    {
     "data": {
      "text/html": [
       "<div>\n",
       "<style scoped>\n",
       "    .dataframe tbody tr th:only-of-type {\n",
       "        vertical-align: middle;\n",
       "    }\n",
       "\n",
       "    .dataframe tbody tr th {\n",
       "        vertical-align: top;\n",
       "    }\n",
       "\n",
       "    .dataframe thead th {\n",
       "        text-align: right;\n",
       "    }\n",
       "</style>\n",
       "<table border=\"1\" class=\"dataframe\">\n",
       "  <thead>\n",
       "    <tr style=\"text-align: right;\">\n",
       "      <th></th>\n",
       "      <th>qid</th>\n",
       "      <th>query</th>\n",
       "      <th>retrieval_gt</th>\n",
       "      <th>generation_gt</th>\n",
       "    </tr>\n",
       "  </thead>\n",
       "  <tbody>\n",
       "    <tr>\n",
       "      <th>0</th>\n",
       "      <td>b6310d20-c88b-4cfe-b805-a5bf6027ecf8</td>\n",
       "      <td>CJ제일제당은 어떤 지표를 기준으로 2024, 2025, 2026년의 성장율을 추정하고 있습니까?</td>\n",
       "      <td>[[a36c56dc-0c27-404c-bca0-4a7caf00f33a]]</td>\n",
       "      <td>[CJ제일제당은 2024, 2025, 2026년의 성장율을 컨센서스 기준으로 추정하고 있습니다. (CJ제일제당은 자체 추정이 아닌 컨센서스 기준으로 성장율을 추정하고 있습니다.), 컨센서스를 기준으로 성장율을 추정하고 있습니다.]</td>\n",
       "    </tr>\n",
       "    <tr>\n",
       "      <th>1</th>\n",
       "      <td>29fcbb82-7de8-4564-b0ca-7882b1b16fbf</td>\n",
       "      <td>HBM 시장에서의 높은 점유율이 실적과 주가의 방어 논리로 작용할 수 있는 이유는 무엇입니까?</td>\n",
       "      <td>[[328b6529-5530-4f89-b5b1-fdfa4652b6ee]]</td>\n",
       "      <td>[HBM 시장에서의 높은 점유율이 실적과 주가의 방어 논리로 작용할 수 있는 이유는 \"가격과 수량이 수주 기반으로 확정되어 거래되기 때문\"입니다. HBM 시장의 선두 포지션은 단기간 내 변화할 가능성이 희박하며, HBM3E 8단 시장과 내년 12단 시장에서 사실상 독점하며 가격 프리미엄을 홀로 향유할 가능성이 높다고 언급되어 있습니다. 이러한 상황에서 HBM 시장의 높은 점유율은 실적과 주가의 방어 논리로 작용할 수 있습니다., HBM 시장에서의 높은 점유율이 실적과 주가의 방어 논리로 작용할 수 있는 이유는 수주 기반으로 확정된 가격과 수량으로 거래되기 때문입니다.]</td>\n",
       "    </tr>\n",
       "    <tr>\n",
       "      <th>2</th>\n",
       "      <td>d19f3017-5802-417b-8d71-7ab2391d3c70</td>\n",
       "      <td>글로벌 e-sports 대회 투자로 812억원의 예상 지급수수료는 몇 퍼센트 증가했습니까?</td>\n",
       "      <td>[[c7076bfb-3b9a-4354-b978-b7598aeabcb2]]</td>\n",
       "      <td>[글로벌 e-sports 대회 투자로 812억원의 예상 지급수수료는 YoY +15.0% 증가했습니다., 15.0%]</td>\n",
       "    </tr>\n",
       "    <tr>\n",
       "      <th>3</th>\n",
       "      <td>a40932d5-2009-4e53-92a2-5e9b001ffee6</td>\n",
       "      <td>2024년 8월에 발표된 투자지표 중 하나는 무엇입니까?</td>\n",
       "      <td>[[3de847f3-fd4f-4b53-b05b-5a4e1b57f335]]</td>\n",
       "      <td>[2024년 8월에 발표된 투자지표 중 하나는 P/E (주가수익비율) 입니다. Text에서 P/E 값은 87로 나와 있습니다., P/E]</td>\n",
       "    </tr>\n",
       "    <tr>\n",
       "      <th>4</th>\n",
       "      <td>03a176af-d55b-4ead-a0a0-d4bf9743965b</td>\n",
       "      <td>CJ제일제당의 2025년 매출액은 얼마인가요?</td>\n",
       "      <td>[[5f1d16aa-8f0f-4da5-9ff4-5da8ae6d8f8d]]</td>\n",
       "      <td>[CJ제일제당의 2025년 매출액은 31,077.2 십억원 입니다., 31,077.2억원]</td>\n",
       "    </tr>\n",
       "    <tr>\n",
       "      <th>5</th>\n",
       "      <td>64beae2e-a58c-4138-9241-e22cdb8df622</td>\n",
       "      <td>양극재의 판매량과 판가에 대한 4분기 전망은 어떻게 되나요?</td>\n",
       "      <td>[[7ade7621-0cf4-43f4-a257-b007d1cae9be]]</td>\n",
       "      <td>[양극재의 판매량은 4분기에 전분기와 유사할 것으로 예상되며, 판가는 4분기에 전분기 대비 -10%의 하락이 예상됩니다., 양극재의 판매량은 전분기와 유사하게 유지되고, 판가는 전분기 대비 -10%로 예상됩니다.]</td>\n",
       "    </tr>\n",
       "    <tr>\n",
       "      <th>6</th>\n",
       "      <td>157ad4f2-a9cf-4851-847a-9b9223e94014</td>\n",
       "      <td>SK하이닉스의 세전 계속사업이익은 어떻게 변화했습니까?</td>\n",
       "      <td>[[92bb88b3-fee5-4a2c-9736-146e5f60cc3a]]</td>\n",
       "      <td>[SK하이닉스의 세전 계속사업이익은 다음과 같이 변화했습니다:\\n- 4,003\\n- -3,525\\n- -3,788\\n- -2,470\\n- -1,875\\n- -11,658\\n- 2,373\\n- 5,052, 세전 계속사업이익은 4,003에서 -11,658으로 변화했습니다.]</td>\n",
       "    </tr>\n",
       "    <tr>\n",
       "      <th>7</th>\n",
       "      <td>8807cbe7-0da6-4ec6-9dfb-205e2b25064d</td>\n",
       "      <td>2024년 10월 29일 현재 해당회사의 지분을 보유하고 있는 비율은 얼마인가요?</td>\n",
       "      <td>[[212944a4-52ee-4357-b624-71bacbfdc1f2]]</td>\n",
       "      <td>[해당 텍스트에서는 \"당사는 2024년 10월 29일 현재 해당회사의 지분을 1%이상 보유 하고 있지 않습니다\"라고 명시되어 있습니다. 따라서, 2024년 10월 29일 현재 해당회사의 지분을 보유하고 있는 비율은 0%입니다., 1% 이상 보유하고 있지 않습니다.]</td>\n",
       "    </tr>\n",
       "    <tr>\n",
       "      <th>8</th>\n",
       "      <td>12194017-9a7c-401b-8e8f-91aca60fe9eb</td>\n",
       "      <td>CJ제일제당의 2024년 4분기 매출액은 얼마로 예상되는가?</td>\n",
       "      <td>[[47d56e9c-37d9-4cf6-bf89-d27fcf3afb2d]]</td>\n",
       "      <td>[2024년 4분기 매출액은 7,509.1 십억원으로 예상됩니다., 7,509.1 십억원]</td>\n",
       "    </tr>\n",
       "    <tr>\n",
       "      <th>9</th>\n",
       "      <td>6fc9a9a8-b5bd-49a4-a323-996a0a594c54</td>\n",
       "      <td>HBM CAPA가 거의 다 Sold Out되었는데 내년 추가적인 수요가 있을 경우 어떻게 대응할 것인가요?</td>\n",
       "      <td>[[fa27618c-22f7-469c-b7de-01037d8a3467]]</td>\n",
       "      <td>[HBM CAPA가 거의 다 Sold Out되었는데 내년 추가적인 수요가 있을 경우, 회사는 TSV CAPA를 작년 대비 2배 이상 늘리는 계획을 순조롭게 진행 중이며, 1b 나노 확대 역시 순조롭게 진행 중입니다. 그러나 당초 계획 대비 증가된 물량을 다 소화하기에 한계가 있을 수 있습니다. 특히 HBM3E 제품에 대한 고객들의 수요가 예상보다 빠르게 증가하고 있으며, 레거시 테크를 빠르게 선단공정으로 전환하여 HBM3E 생산 확대에 최대한 집중할 계획이 있습니다., TSV CAPA를 2배 이상 늘리는 계획을 순조롭게 진행 중이며, HBM3E 생산 확대에 집중할 계획이 있음.]</td>\n",
       "    </tr>\n",
       "  </tbody>\n",
       "</table>\n",
       "</div>"
      ],
      "text/plain": [
       "                                    qid                                                        query                              retrieval_gt                                                                                                                                                                                                                                                                                                                            generation_gt\n",
       "0  b6310d20-c88b-4cfe-b805-a5bf6027ecf8       CJ제일제당은 어떤 지표를 기준으로 2024, 2025, 2026년의 성장율을 추정하고 있습니까?  [[a36c56dc-0c27-404c-bca0-4a7caf00f33a]]                                                                                                                                                                                                         [CJ제일제당은 2024, 2025, 2026년의 성장율을 컨센서스 기준으로 추정하고 있습니다. (CJ제일제당은 자체 추정이 아닌 컨센서스 기준으로 성장율을 추정하고 있습니다.), 컨센서스를 기준으로 성장율을 추정하고 있습니다.]\n",
       "1  29fcbb82-7de8-4564-b0ca-7882b1b16fbf         HBM 시장에서의 높은 점유율이 실적과 주가의 방어 논리로 작용할 수 있는 이유는 무엇입니까?  [[328b6529-5530-4f89-b5b1-fdfa4652b6ee]]        [HBM 시장에서의 높은 점유율이 실적과 주가의 방어 논리로 작용할 수 있는 이유는 \"가격과 수량이 수주 기반으로 확정되어 거래되기 때문\"입니다. HBM 시장의 선두 포지션은 단기간 내 변화할 가능성이 희박하며, HBM3E 8단 시장과 내년 12단 시장에서 사실상 독점하며 가격 프리미엄을 홀로 향유할 가능성이 높다고 언급되어 있습니다. 이러한 상황에서 HBM 시장의 높은 점유율은 실적과 주가의 방어 논리로 작용할 수 있습니다., HBM 시장에서의 높은 점유율이 실적과 주가의 방어 논리로 작용할 수 있는 이유는 수주 기반으로 확정된 가격과 수량으로 거래되기 때문입니다.]\n",
       "2  d19f3017-5802-417b-8d71-7ab2391d3c70           글로벌 e-sports 대회 투자로 812억원의 예상 지급수수료는 몇 퍼센트 증가했습니까?  [[c7076bfb-3b9a-4354-b978-b7598aeabcb2]]                                                                                                                                                                                                                                                                         [글로벌 e-sports 대회 투자로 812억원의 예상 지급수수료는 YoY +15.0% 증가했습니다., 15.0%]\n",
       "3  a40932d5-2009-4e53-92a2-5e9b001ffee6                              2024년 8월에 발표된 투자지표 중 하나는 무엇입니까?  [[3de847f3-fd4f-4b53-b05b-5a4e1b57f335]]                                                                                                                                                                                                                                                             [2024년 8월에 발표된 투자지표 중 하나는 P/E (주가수익비율) 입니다. Text에서 P/E 값은 87로 나와 있습니다., P/E]\n",
       "4  03a176af-d55b-4ead-a0a0-d4bf9743965b                                    CJ제일제당의 2025년 매출액은 얼마인가요?  [[5f1d16aa-8f0f-4da5-9ff4-5da8ae6d8f8d]]                                                                                                                                                                                                                                                                                       [CJ제일제당의 2025년 매출액은 31,077.2 십억원 입니다., 31,077.2억원]\n",
       "5  64beae2e-a58c-4138-9241-e22cdb8df622                            양극재의 판매량과 판가에 대한 4분기 전망은 어떻게 되나요?  [[7ade7621-0cf4-43f4-a257-b007d1cae9be]]                                                                                                                                                                                                                  [양극재의 판매량은 4분기에 전분기와 유사할 것으로 예상되며, 판가는 4분기에 전분기 대비 -10%의 하락이 예상됩니다., 양극재의 판매량은 전분기와 유사하게 유지되고, 판가는 전분기 대비 -10%로 예상됩니다.]\n",
       "6  157ad4f2-a9cf-4851-847a-9b9223e94014                               SK하이닉스의 세전 계속사업이익은 어떻게 변화했습니까?  [[92bb88b3-fee5-4a2c-9736-146e5f60cc3a]]                                                                                                                                                                                  [SK하이닉스의 세전 계속사업이익은 다음과 같이 변화했습니다:\\n- 4,003\\n- -3,525\\n- -3,788\\n- -2,470\\n- -1,875\\n- -11,658\\n- 2,373\\n- 5,052, 세전 계속사업이익은 4,003에서 -11,658으로 변화했습니다.]\n",
       "7  8807cbe7-0da6-4ec6-9dfb-205e2b25064d                2024년 10월 29일 현재 해당회사의 지분을 보유하고 있는 비율은 얼마인가요?  [[212944a4-52ee-4357-b624-71bacbfdc1f2]]                                                                                                                                                                                     [해당 텍스트에서는 \"당사는 2024년 10월 29일 현재 해당회사의 지분을 1%이상 보유 하고 있지 않습니다\"라고 명시되어 있습니다. 따라서, 2024년 10월 29일 현재 해당회사의 지분을 보유하고 있는 비율은 0%입니다., 1% 이상 보유하고 있지 않습니다.]\n",
       "8  12194017-9a7c-401b-8e8f-91aca60fe9eb                            CJ제일제당의 2024년 4분기 매출액은 얼마로 예상되는가?  [[47d56e9c-37d9-4cf6-bf89-d27fcf3afb2d]]                                                                                                                                                                                                                                                                                       [2024년 4분기 매출액은 7,509.1 십억원으로 예상됩니다., 7,509.1 십억원]\n",
       "9  6fc9a9a8-b5bd-49a4-a323-996a0a594c54  HBM CAPA가 거의 다 Sold Out되었는데 내년 추가적인 수요가 있을 경우 어떻게 대응할 것인가요?  [[fa27618c-22f7-469c-b7de-01037d8a3467]]  [HBM CAPA가 거의 다 Sold Out되었는데 내년 추가적인 수요가 있을 경우, 회사는 TSV CAPA를 작년 대비 2배 이상 늘리는 계획을 순조롭게 진행 중이며, 1b 나노 확대 역시 순조롭게 진행 중입니다. 그러나 당초 계획 대비 증가된 물량을 다 소화하기에 한계가 있을 수 있습니다. 특히 HBM3E 제품에 대한 고객들의 수요가 예상보다 빠르게 증가하고 있으며, 레거시 테크를 빠르게 선단공정으로 전환하여 HBM3E 생산 확대에 최대한 집중할 계획이 있습니다., TSV CAPA를 2배 이상 늘리는 계획을 순조롭게 진행 중이며, HBM3E 생산 확대에 집중할 계획이 있음.]"
      ]
     },
     "execution_count": 6,
     "metadata": {},
     "output_type": "execute_result"
    }
   ],
   "source": [
    "df_qa2 = pd.read_parquet(\"./qa2.parquet\")\n",
    "df_qa2"
   ]
  },
  {
   "cell_type": "code",
   "execution_count": 7,
   "metadata": {},
   "outputs": [
    {
     "data": {
      "text/html": [
       "<div>\n",
       "<style scoped>\n",
       "    .dataframe tbody tr th:only-of-type {\n",
       "        vertical-align: middle;\n",
       "    }\n",
       "\n",
       "    .dataframe tbody tr th {\n",
       "        vertical-align: top;\n",
       "    }\n",
       "\n",
       "    .dataframe thead th {\n",
       "        text-align: right;\n",
       "    }\n",
       "</style>\n",
       "<table border=\"1\" class=\"dataframe\">\n",
       "  <thead>\n",
       "    <tr style=\"text-align: right;\">\n",
       "      <th></th>\n",
       "      <th>query</th>\n",
       "      <th>retrieval_gt</th>\n",
       "      <th>generation_gt</th>\n",
       "    </tr>\n",
       "  </thead>\n",
       "  <tbody>\n",
       "    <tr>\n",
       "      <th>0</th>\n",
       "      <td>CJ제일제당은 어떤 지표를 기준으로 2024, 2025, 2026년의 성장율을 추정하고 있습니까?</td>\n",
       "      <td>[[a36c56dc-0c27-404c-bca0-4a7caf00f33a]]</td>\n",
       "      <td>[CJ제일제당은 2024, 2025, 2026년의 성장율을 컨센서스 기준으로 추정하고 있습니다. (CJ제일제당은 자체 추정이 아닌 컨센서스 기준으로 성장율을 추정하고 있습니다.), 컨센서스를 기준으로 성장율을 추정하고 있습니다.]</td>\n",
       "    </tr>\n",
       "    <tr>\n",
       "      <th>1</th>\n",
       "      <td>HBM 시장에서의 높은 점유율이 실적과 주가의 방어 논리로 작용할 수 있는 이유는 무엇입니까?</td>\n",
       "      <td>[[328b6529-5530-4f89-b5b1-fdfa4652b6ee]]</td>\n",
       "      <td>[HBM 시장에서의 높은 점유율이 실적과 주가의 방어 논리로 작용할 수 있는 이유는 \"가격과 수량이 수주 기반으로 확정되어 거래되기 때문\"입니다. HBM 시장의 선두 포지션은 단기간 내 변화할 가능성이 희박하며, HBM3E 8단 시장과 내년 12단 시장에서 사실상 독점하며 가격 프리미엄을 홀로 향유할 가능성이 높다고 언급되어 있습니다. 이러한 상황에서 HBM 시장의 높은 점유율은 실적과 주가의 방어 논리로 작용할 수 있습니다., HBM 시장에서의 높은 점유율이 실적과 주가의 방어 논리로 작용할 수 있는 이유는 수주 기반으로 확정된 가격과 수량으로 거래되기 때문입니다.]</td>\n",
       "    </tr>\n",
       "    <tr>\n",
       "      <th>2</th>\n",
       "      <td>글로벌 e-sports 대회 투자로 812억원의 예상 지급수수료는 몇 퍼센트 증가했습니까?</td>\n",
       "      <td>[[c7076bfb-3b9a-4354-b978-b7598aeabcb2]]</td>\n",
       "      <td>[글로벌 e-sports 대회 투자로 812억원의 예상 지급수수료는 YoY +15.0% 증가했습니다., 15.0%]</td>\n",
       "    </tr>\n",
       "    <tr>\n",
       "      <th>3</th>\n",
       "      <td>2024년 8월에 발표된 투자지표 중 하나는 무엇입니까?</td>\n",
       "      <td>[[3de847f3-fd4f-4b53-b05b-5a4e1b57f335]]</td>\n",
       "      <td>[2024년 8월에 발표된 투자지표 중 하나는 P/E (주가수익비율) 입니다. Text에서 P/E 값은 87로 나와 있습니다., P/E]</td>\n",
       "    </tr>\n",
       "    <tr>\n",
       "      <th>4</th>\n",
       "      <td>CJ제일제당의 2025년 매출액은 얼마인가요?</td>\n",
       "      <td>[[5f1d16aa-8f0f-4da5-9ff4-5da8ae6d8f8d]]</td>\n",
       "      <td>[CJ제일제당의 2025년 매출액은 31,077.2 십억원 입니다., 31,077.2억원]</td>\n",
       "    </tr>\n",
       "  </tbody>\n",
       "</table>\n",
       "</div>"
      ],
      "text/plain": [
       "                                                    query                              retrieval_gt                                                                                                                                                                                                                                                                                                                      generation_gt\n",
       "0  CJ제일제당은 어떤 지표를 기준으로 2024, 2025, 2026년의 성장율을 추정하고 있습니까?  [[a36c56dc-0c27-404c-bca0-4a7caf00f33a]]                                                                                                                                                                                                   [CJ제일제당은 2024, 2025, 2026년의 성장율을 컨센서스 기준으로 추정하고 있습니다. (CJ제일제당은 자체 추정이 아닌 컨센서스 기준으로 성장율을 추정하고 있습니다.), 컨센서스를 기준으로 성장율을 추정하고 있습니다.]\n",
       "1    HBM 시장에서의 높은 점유율이 실적과 주가의 방어 논리로 작용할 수 있는 이유는 무엇입니까?  [[328b6529-5530-4f89-b5b1-fdfa4652b6ee]]  [HBM 시장에서의 높은 점유율이 실적과 주가의 방어 논리로 작용할 수 있는 이유는 \"가격과 수량이 수주 기반으로 확정되어 거래되기 때문\"입니다. HBM 시장의 선두 포지션은 단기간 내 변화할 가능성이 희박하며, HBM3E 8단 시장과 내년 12단 시장에서 사실상 독점하며 가격 프리미엄을 홀로 향유할 가능성이 높다고 언급되어 있습니다. 이러한 상황에서 HBM 시장의 높은 점유율은 실적과 주가의 방어 논리로 작용할 수 있습니다., HBM 시장에서의 높은 점유율이 실적과 주가의 방어 논리로 작용할 수 있는 이유는 수주 기반으로 확정된 가격과 수량으로 거래되기 때문입니다.]\n",
       "2      글로벌 e-sports 대회 투자로 812억원의 예상 지급수수료는 몇 퍼센트 증가했습니까?  [[c7076bfb-3b9a-4354-b978-b7598aeabcb2]]                                                                                                                                                                                                                                                                   [글로벌 e-sports 대회 투자로 812억원의 예상 지급수수료는 YoY +15.0% 증가했습니다., 15.0%]\n",
       "3                         2024년 8월에 발표된 투자지표 중 하나는 무엇입니까?  [[3de847f3-fd4f-4b53-b05b-5a4e1b57f335]]                                                                                                                                                                                                                                                       [2024년 8월에 발표된 투자지표 중 하나는 P/E (주가수익비율) 입니다. Text에서 P/E 값은 87로 나와 있습니다., P/E]\n",
       "4                               CJ제일제당의 2025년 매출액은 얼마인가요?  [[5f1d16aa-8f0f-4da5-9ff4-5da8ae6d8f8d]]                                                                                                                                                                                                                                                                                 [CJ제일제당의 2025년 매출액은 31,077.2 십억원 입니다., 31,077.2억원]"
      ]
     },
     "execution_count": 7,
     "metadata": {},
     "output_type": "execute_result"
    }
   ],
   "source": [
    "df_qa2[[\"query\", \"retrieval_gt\", \"generation_gt\"]].head()"
   ]
  },
  {
   "cell_type": "code",
   "execution_count": 8,
   "metadata": {},
   "outputs": [],
   "source": [
    "df_qa2.to_csv(\"./sample_qa.csv\")"
   ]
  },
  {
   "cell_type": "code",
   "execution_count": 9,
   "metadata": {},
   "outputs": [],
   "source": [
    "df_corpus2 = pd.read_parquet(\"./corpus2.parquet\")"
   ]
  },
  {
   "cell_type": "code",
   "execution_count": 10,
   "metadata": {},
   "outputs": [
    {
     "data": {
      "text/html": [
       "<div>\n",
       "<style scoped>\n",
       "    .dataframe tbody tr th:only-of-type {\n",
       "        vertical-align: middle;\n",
       "    }\n",
       "\n",
       "    .dataframe tbody tr th {\n",
       "        vertical-align: top;\n",
       "    }\n",
       "\n",
       "    .dataframe thead th {\n",
       "        text-align: right;\n",
       "    }\n",
       "</style>\n",
       "<table border=\"1\" class=\"dataframe\">\n",
       "  <thead>\n",
       "    <tr style=\"text-align: right;\">\n",
       "      <th></th>\n",
       "      <th>qid</th>\n",
       "      <th>query</th>\n",
       "      <th>retrieval_gt</th>\n",
       "      <th>generation_gt</th>\n",
       "    </tr>\n",
       "  </thead>\n",
       "  <tbody>\n",
       "    <tr>\n",
       "      <th>0</th>\n",
       "      <td>b6310d20-c88b-4cfe-b805-a5bf6027ecf8</td>\n",
       "      <td>CJ제일제당은 어떤 지표를 기준으로 2024, 2025, 2026년의 성장율을 추정하고 있습니까?</td>\n",
       "      <td>[[a36c56dc-0c27-404c-bca0-4a7caf00f33a]]</td>\n",
       "      <td>[CJ제일제당은 2024, 2025, 2026년의 성장율을 컨센서스 기준으로 추정하고 있습니다. (CJ제일제당은 자체 추정이 아닌 컨센서스 기준으로 성장율을 추정하고 있습니다.), 컨센서스를 기준으로 성장율을 추정하고 있습니다.]</td>\n",
       "    </tr>\n",
       "    <tr>\n",
       "      <th>1</th>\n",
       "      <td>29fcbb82-7de8-4564-b0ca-7882b1b16fbf</td>\n",
       "      <td>HBM 시장에서의 높은 점유율이 실적과 주가의 방어 논리로 작용할 수 있는 이유는 무엇입니까?</td>\n",
       "      <td>[[328b6529-5530-4f89-b5b1-fdfa4652b6ee]]</td>\n",
       "      <td>[HBM 시장에서의 높은 점유율이 실적과 주가의 방어 논리로 작용할 수 있는 이유는 \"가격과 수량이 수주 기반으로 확정되어 거래되기 때문\"입니다. HBM 시장의 선두 포지션은 단기간 내 변화할 가능성이 희박하며, HBM3E 8단 시장과 내년 12단 시장에서 사실상 독점하며 가격 프리미엄을 홀로 향유할 가능성이 높다고 언급되어 있습니다. 이러한 상황에서 HBM 시장의 높은 점유율은 실적과 주가의 방어 논리로 작용할 수 있습니다., HBM 시장에서의 높은 점유율이 실적과 주가의 방어 논리로 작용할 수 있는 이유는 수주 기반으로 확정된 가격과 수량으로 거래되기 때문입니다.]</td>\n",
       "    </tr>\n",
       "    <tr>\n",
       "      <th>2</th>\n",
       "      <td>d19f3017-5802-417b-8d71-7ab2391d3c70</td>\n",
       "      <td>글로벌 e-sports 대회 투자로 812억원의 예상 지급수수료는 몇 퍼센트 증가했습니까?</td>\n",
       "      <td>[[c7076bfb-3b9a-4354-b978-b7598aeabcb2]]</td>\n",
       "      <td>[글로벌 e-sports 대회 투자로 812억원의 예상 지급수수료는 YoY +15.0% 증가했습니다., 15.0%]</td>\n",
       "    </tr>\n",
       "    <tr>\n",
       "      <th>3</th>\n",
       "      <td>a40932d5-2009-4e53-92a2-5e9b001ffee6</td>\n",
       "      <td>2024년 8월에 발표된 투자지표 중 하나는 무엇입니까?</td>\n",
       "      <td>[[3de847f3-fd4f-4b53-b05b-5a4e1b57f335]]</td>\n",
       "      <td>[2024년 8월에 발표된 투자지표 중 하나는 P/E (주가수익비율) 입니다. Text에서 P/E 값은 87로 나와 있습니다., P/E]</td>\n",
       "    </tr>\n",
       "    <tr>\n",
       "      <th>4</th>\n",
       "      <td>03a176af-d55b-4ead-a0a0-d4bf9743965b</td>\n",
       "      <td>CJ제일제당의 2025년 매출액은 얼마인가요?</td>\n",
       "      <td>[[5f1d16aa-8f0f-4da5-9ff4-5da8ae6d8f8d]]</td>\n",
       "      <td>[CJ제일제당의 2025년 매출액은 31,077.2 십억원 입니다., 31,077.2억원]</td>\n",
       "    </tr>\n",
       "    <tr>\n",
       "      <th>5</th>\n",
       "      <td>64beae2e-a58c-4138-9241-e22cdb8df622</td>\n",
       "      <td>양극재의 판매량과 판가에 대한 4분기 전망은 어떻게 되나요?</td>\n",
       "      <td>[[7ade7621-0cf4-43f4-a257-b007d1cae9be]]</td>\n",
       "      <td>[양극재의 판매량은 4분기에 전분기와 유사할 것으로 예상되며, 판가는 4분기에 전분기 대비 -10%의 하락이 예상됩니다., 양극재의 판매량은 전분기와 유사하게 유지되고, 판가는 전분기 대비 -10%로 예상됩니다.]</td>\n",
       "    </tr>\n",
       "    <tr>\n",
       "      <th>6</th>\n",
       "      <td>157ad4f2-a9cf-4851-847a-9b9223e94014</td>\n",
       "      <td>SK하이닉스의 세전 계속사업이익은 어떻게 변화했습니까?</td>\n",
       "      <td>[[92bb88b3-fee5-4a2c-9736-146e5f60cc3a]]</td>\n",
       "      <td>[SK하이닉스의 세전 계속사업이익은 다음과 같이 변화했습니다:\\n- 4,003\\n- -3,525\\n- -3,788\\n- -2,470\\n- -1,875\\n- -11,658\\n- 2,373\\n- 5,052, 세전 계속사업이익은 4,003에서 -11,658으로 변화했습니다.]</td>\n",
       "    </tr>\n",
       "    <tr>\n",
       "      <th>7</th>\n",
       "      <td>8807cbe7-0da6-4ec6-9dfb-205e2b25064d</td>\n",
       "      <td>2024년 10월 29일 현재 해당회사의 지분을 보유하고 있는 비율은 얼마인가요?</td>\n",
       "      <td>[[212944a4-52ee-4357-b624-71bacbfdc1f2]]</td>\n",
       "      <td>[해당 텍스트에서는 \"당사는 2024년 10월 29일 현재 해당회사의 지분을 1%이상 보유 하고 있지 않습니다\"라고 명시되어 있습니다. 따라서, 2024년 10월 29일 현재 해당회사의 지분을 보유하고 있는 비율은 0%입니다., 1% 이상 보유하고 있지 않습니다.]</td>\n",
       "    </tr>\n",
       "    <tr>\n",
       "      <th>8</th>\n",
       "      <td>12194017-9a7c-401b-8e8f-91aca60fe9eb</td>\n",
       "      <td>CJ제일제당의 2024년 4분기 매출액은 얼마로 예상되는가?</td>\n",
       "      <td>[[47d56e9c-37d9-4cf6-bf89-d27fcf3afb2d]]</td>\n",
       "      <td>[2024년 4분기 매출액은 7,509.1 십억원으로 예상됩니다., 7,509.1 십억원]</td>\n",
       "    </tr>\n",
       "    <tr>\n",
       "      <th>9</th>\n",
       "      <td>6fc9a9a8-b5bd-49a4-a323-996a0a594c54</td>\n",
       "      <td>HBM CAPA가 거의 다 Sold Out되었는데 내년 추가적인 수요가 있을 경우 어떻게 대응할 것인가요?</td>\n",
       "      <td>[[fa27618c-22f7-469c-b7de-01037d8a3467]]</td>\n",
       "      <td>[HBM CAPA가 거의 다 Sold Out되었는데 내년 추가적인 수요가 있을 경우, 회사는 TSV CAPA를 작년 대비 2배 이상 늘리는 계획을 순조롭게 진행 중이며, 1b 나노 확대 역시 순조롭게 진행 중입니다. 그러나 당초 계획 대비 증가된 물량을 다 소화하기에 한계가 있을 수 있습니다. 특히 HBM3E 제품에 대한 고객들의 수요가 예상보다 빠르게 증가하고 있으며, 레거시 테크를 빠르게 선단공정으로 전환하여 HBM3E 생산 확대에 최대한 집중할 계획이 있습니다., TSV CAPA를 2배 이상 늘리는 계획을 순조롭게 진행 중이며, HBM3E 생산 확대에 집중할 계획이 있음.]</td>\n",
       "    </tr>\n",
       "  </tbody>\n",
       "</table>\n",
       "</div>"
      ],
      "text/plain": [
       "                                    qid                                                        query                              retrieval_gt                                                                                                                                                                                                                                                                                                                            generation_gt\n",
       "0  b6310d20-c88b-4cfe-b805-a5bf6027ecf8       CJ제일제당은 어떤 지표를 기준으로 2024, 2025, 2026년의 성장율을 추정하고 있습니까?  [[a36c56dc-0c27-404c-bca0-4a7caf00f33a]]                                                                                                                                                                                                         [CJ제일제당은 2024, 2025, 2026년의 성장율을 컨센서스 기준으로 추정하고 있습니다. (CJ제일제당은 자체 추정이 아닌 컨센서스 기준으로 성장율을 추정하고 있습니다.), 컨센서스를 기준으로 성장율을 추정하고 있습니다.]\n",
       "1  29fcbb82-7de8-4564-b0ca-7882b1b16fbf         HBM 시장에서의 높은 점유율이 실적과 주가의 방어 논리로 작용할 수 있는 이유는 무엇입니까?  [[328b6529-5530-4f89-b5b1-fdfa4652b6ee]]        [HBM 시장에서의 높은 점유율이 실적과 주가의 방어 논리로 작용할 수 있는 이유는 \"가격과 수량이 수주 기반으로 확정되어 거래되기 때문\"입니다. HBM 시장의 선두 포지션은 단기간 내 변화할 가능성이 희박하며, HBM3E 8단 시장과 내년 12단 시장에서 사실상 독점하며 가격 프리미엄을 홀로 향유할 가능성이 높다고 언급되어 있습니다. 이러한 상황에서 HBM 시장의 높은 점유율은 실적과 주가의 방어 논리로 작용할 수 있습니다., HBM 시장에서의 높은 점유율이 실적과 주가의 방어 논리로 작용할 수 있는 이유는 수주 기반으로 확정된 가격과 수량으로 거래되기 때문입니다.]\n",
       "2  d19f3017-5802-417b-8d71-7ab2391d3c70           글로벌 e-sports 대회 투자로 812억원의 예상 지급수수료는 몇 퍼센트 증가했습니까?  [[c7076bfb-3b9a-4354-b978-b7598aeabcb2]]                                                                                                                                                                                                                                                                         [글로벌 e-sports 대회 투자로 812억원의 예상 지급수수료는 YoY +15.0% 증가했습니다., 15.0%]\n",
       "3  a40932d5-2009-4e53-92a2-5e9b001ffee6                              2024년 8월에 발표된 투자지표 중 하나는 무엇입니까?  [[3de847f3-fd4f-4b53-b05b-5a4e1b57f335]]                                                                                                                                                                                                                                                             [2024년 8월에 발표된 투자지표 중 하나는 P/E (주가수익비율) 입니다. Text에서 P/E 값은 87로 나와 있습니다., P/E]\n",
       "4  03a176af-d55b-4ead-a0a0-d4bf9743965b                                    CJ제일제당의 2025년 매출액은 얼마인가요?  [[5f1d16aa-8f0f-4da5-9ff4-5da8ae6d8f8d]]                                                                                                                                                                                                                                                                                       [CJ제일제당의 2025년 매출액은 31,077.2 십억원 입니다., 31,077.2억원]\n",
       "5  64beae2e-a58c-4138-9241-e22cdb8df622                            양극재의 판매량과 판가에 대한 4분기 전망은 어떻게 되나요?  [[7ade7621-0cf4-43f4-a257-b007d1cae9be]]                                                                                                                                                                                                                  [양극재의 판매량은 4분기에 전분기와 유사할 것으로 예상되며, 판가는 4분기에 전분기 대비 -10%의 하락이 예상됩니다., 양극재의 판매량은 전분기와 유사하게 유지되고, 판가는 전분기 대비 -10%로 예상됩니다.]\n",
       "6  157ad4f2-a9cf-4851-847a-9b9223e94014                               SK하이닉스의 세전 계속사업이익은 어떻게 변화했습니까?  [[92bb88b3-fee5-4a2c-9736-146e5f60cc3a]]                                                                                                                                                                                  [SK하이닉스의 세전 계속사업이익은 다음과 같이 변화했습니다:\\n- 4,003\\n- -3,525\\n- -3,788\\n- -2,470\\n- -1,875\\n- -11,658\\n- 2,373\\n- 5,052, 세전 계속사업이익은 4,003에서 -11,658으로 변화했습니다.]\n",
       "7  8807cbe7-0da6-4ec6-9dfb-205e2b25064d                2024년 10월 29일 현재 해당회사의 지분을 보유하고 있는 비율은 얼마인가요?  [[212944a4-52ee-4357-b624-71bacbfdc1f2]]                                                                                                                                                                                     [해당 텍스트에서는 \"당사는 2024년 10월 29일 현재 해당회사의 지분을 1%이상 보유 하고 있지 않습니다\"라고 명시되어 있습니다. 따라서, 2024년 10월 29일 현재 해당회사의 지분을 보유하고 있는 비율은 0%입니다., 1% 이상 보유하고 있지 않습니다.]\n",
       "8  12194017-9a7c-401b-8e8f-91aca60fe9eb                            CJ제일제당의 2024년 4분기 매출액은 얼마로 예상되는가?  [[47d56e9c-37d9-4cf6-bf89-d27fcf3afb2d]]                                                                                                                                                                                                                                                                                       [2024년 4분기 매출액은 7,509.1 십억원으로 예상됩니다., 7,509.1 십억원]\n",
       "9  6fc9a9a8-b5bd-49a4-a323-996a0a594c54  HBM CAPA가 거의 다 Sold Out되었는데 내년 추가적인 수요가 있을 경우 어떻게 대응할 것인가요?  [[fa27618c-22f7-469c-b7de-01037d8a3467]]  [HBM CAPA가 거의 다 Sold Out되었는데 내년 추가적인 수요가 있을 경우, 회사는 TSV CAPA를 작년 대비 2배 이상 늘리는 계획을 순조롭게 진행 중이며, 1b 나노 확대 역시 순조롭게 진행 중입니다. 그러나 당초 계획 대비 증가된 물량을 다 소화하기에 한계가 있을 수 있습니다. 특히 HBM3E 제품에 대한 고객들의 수요가 예상보다 빠르게 증가하고 있으며, 레거시 테크를 빠르게 선단공정으로 전환하여 HBM3E 생산 확대에 최대한 집중할 계획이 있습니다., TSV CAPA를 2배 이상 늘리는 계획을 순조롭게 진행 중이며, HBM3E 생산 확대에 집중할 계획이 있음.]"
      ]
     },
     "execution_count": 10,
     "metadata": {},
     "output_type": "execute_result"
    }
   ],
   "source": [
    "df_qa2"
   ]
  },
  {
   "cell_type": "code",
   "execution_count": 11,
   "metadata": {},
   "outputs": [
    {
     "data": {
      "text/html": [
       "<div>\n",
       "<style scoped>\n",
       "    .dataframe tbody tr th:only-of-type {\n",
       "        vertical-align: middle;\n",
       "    }\n",
       "\n",
       "    .dataframe tbody tr th {\n",
       "        vertical-align: top;\n",
       "    }\n",
       "\n",
       "    .dataframe thead th {\n",
       "        text-align: right;\n",
       "    }\n",
       "</style>\n",
       "<table border=\"1\" class=\"dataframe\">\n",
       "  <thead>\n",
       "    <tr style=\"text-align: right;\">\n",
       "      <th></th>\n",
       "      <th>doc_id</th>\n",
       "      <th>contents</th>\n",
       "      <th>path</th>\n",
       "      <th>start_end_idx</th>\n",
       "      <th>metadata</th>\n",
       "    </tr>\n",
       "  </thead>\n",
       "  <tbody>\n",
       "    <tr>\n",
       "      <th>0</th>\n",
       "      <td>afb5a076-a182-407b-991c-6f2b25f1e93c</td>\n",
       "      <td>파일 제목: 네이버_키움증권(2024.11.12).pdf\\n 내용: 기업  업데이트 \\n\\n2024. 11. 12 \\n\\nBUY(Maintain) \\n목표주가: 240,000원 \\n\\n주가(11/11): 176,000원 \\n\\n시가총액: 282,981억원 \\n\\nNAVER (035420) \\n예측  기반  부가가치  요구 \\n\\n인터넷/게임  Analyst  김진구 \\n\\njingu.kim@kiwoom.com \\n\\n동사  목표주가  24만원을  유지한다.  동사  신규  서비스  기반  인게이지먼트  증가  및 \\nAI  기반  실시간  광고  대행사  기능  내재화  등으로  서치플랫폼  사업을  중심으로  한 \\n영업 레버리지 효과가  가시화될  것으로  기대한다.  다만 경쟁사를 추종하는  커머스 \\n사업의  다소  소극적  전략  및  AI  기반  구독경제  강화  움직임이  제한적이라는  점이 \\n잠재적 리스크로 작동할 수 있다.</td>\n",
       "      <td>./data/네이버/네이버_키움증권(2024.11.12).pdf</td>\n",
       "      <td>[0, 416]</td>\n",
       "      <td>{'last_modified_datetime': '2025-01-02', 'next_id': 'bd2e3fea-11cc-4c44-b65d-3dcb363ce12c', 'page': -1, 'path': './data/네이버/네이버_키움증권(2024.11.12).pdf', 'prev_id': None}</td>\n",
       "    </tr>\n",
       "    <tr>\n",
       "      <th>1</th>\n",
       "      <td>bd2e3fea-11cc-4c44-b65d-3dcb363ce12c</td>\n",
       "      <td>파일 제목: 네이버_키움증권(2024.11.12).pdf\\n 내용: Stock Data \\n\\nKOSPI (11/11) \\n\\n52 주  주가동향   \\n\\n최고/최저가  대비 \\n\\n등락률 \\n\\n수익률 \\n\\n          1M \\n\\n6M \\n\\n1Y \\n\\nCompany Data \\n\\n발행주식수 \\n\\n일평균  거래량(3M) \\n\\n외국인  지분율 \\n\\n배당수익률(24E) \\n\\nBPS(24E) \\n\\n주요  주주 \\n\\n투자지표 \\n\\n2,531.66pt \\n\\n최고가 \\n\\n최저가 \\n\\n231,500원 \\n\\n155,000원 \\n\\n-24.0% \\n\\n절대 \\n\\n1.6% \\n\\n-6.7% \\n\\n-14.4% \\n\\n국민연금공단 \\n\\n13.5% \\n\\n상대 \\n\\n4.2% \\n\\n0.5% \\n\\n-15.9% \\n\\n160,785천주 \\n\\n755천주 \\n\\n43.1% \\n\\n0.6% \\n\\n155,251원 \\n\\n8.3% \\n\\n(십억원, IFRS  연결) \\n\\n2022 \\n\\n2023 \\n\\n2024F \\n\\n2025F \\n\\n매출액 \\n\\n영업이익 \\n\\nEBITDA \\n\\n세전이익 \\n\\n순이익 \\n\\n8,220.1  9,670.6  10,621.3  11,554.9 \\n\\n1,304.7  1,488.8  1,954.0  2,093.4 \\n\\n1,865.6  2,071.2  2,545.6  2,710.7 \\n\\n1,083.7  1,481.4  2,316.7  2,249.4 \\n\\n673.2 \\n\\n985.0  1,806.4  1,630.8 \\n\\n지배주주지분순이익 \\n\\n760.3  1,012.3  1,749.1  1,590.1 \\n\\n4,634 \\n\\n-95.4 \\n\\n38.3 \\n\\n1.28 \\n\\n16.1 \\n\\n15.9 \\n\\n3.3 \\n\\n1.0 \\n\\n6,180 \\n\\n10,834 \\n\\n10,036 \\n\\n33.4 \\n\\n36.2 \\n\\n1.57 \\n\\n18.0 \\n\\n15.4 \\n\\n4.4 \\n\\n-0.9 \\n\\n75.3 \\n\\n16.2 \\n\\n1.13 \\n\\n11.0 \\n\\n18.4 \\n\\n7.3 \\n\\n-5.4 \\n\\n-7.4 \\n\\n17.5 \\n\\n1.08 \\n\\n10.0 \\n\\n18.1 \\n\\n6.3 \\n\\n-8.1 \\n\\nEPS(원) \\n\\n  증감률(%,YoY) \\n\\nPER(배) \\n\\nPBR(배) \\n\\nEV/EBITDA(배) \\n\\n영업이익률(%) \\n\\nROE(%) \\n\\n순차입금비율(%) \\n\\nPrice Trend \\n\\n  동사  목표주가  24만원을  유지 \\n\\n동사  목표주가  24만원을  유지한다.  동사  적정가치는  38.7조원으로,  이는  서치\\n\\n플랫폼/클라우드  중심  사업부문  적정가치  21.6조원,  네이버쇼핑  사업부문  적정\\n\\n가치  6.2조원,  네이버파이낸셜  지분가치  3.7조원  및  Webtoon  Entertainment \\n\\n지분가치  1.7조원와  LY Corporation  지분가치  5.4조원을  합산해  산출했다.</td>\n",
       "      <td>./data/네이버/네이버_키움증권(2024.11.12).pdf</td>\n",
       "      <td>[420, 1674]</td>\n",
       "      <td>{'last_modified_datetime': '2025-01-02', 'next_id': '962f8a5d-c705-44a1-873a-574e79317992', 'page': -1, 'path': './data/네이버/네이버_키움증권(2024.11.12).pdf', 'prev_id': 'afb5a076-a182-407b-991c-6f2b25f1e93c'}</td>\n",
       "    </tr>\n",
       "    <tr>\n",
       "      <th>2</th>\n",
       "      <td>962f8a5d-c705-44a1-873a-574e79317992</td>\n",
       "      <td>파일 제목: 네이버_키움증권(2024.11.12).pdf\\n 내용: 예측  기반  부가가치  강화  요구 \\n\\n동사  광고  사업은  홈피드,  클립  등  신규  서비스  기반  인게이지먼트  증가  및  AI \\n\\n탑재를  통한  실시간  매칭  및  광고  대행사  기능  내재화로  탑라인  증가  및  비용 \\n\\n절감이  동시에  나타나면서  관련  영업이익의  레버리지  효과가  기대된다.  커머스 \\n\\n사업은  배송  리드타임을  축소하는  다양한  플랜을  공개했으나  이는  풀필먼트를 \\n\\n내재한  쿠팡과  격차를  축소하는  다소  소극적  차원으로  여전히  이해되며  본질적 \\n\\n거래액  성장과  쇼핑광고  매출  회복을  도모하기  위해서는  보다  적극적인  전략이 \\n\\n필요한  바,  이는  셀러  대상  수요예측  기반  판매  예측  및  연계  재고관리  솔루션 \\n\\n등이  수반되어야  하며  실시간  적정  프라이스  및  통합  마케팅  솔루션  제공  등을 \\n\\n통해  셀러  이익을  극대화시킬  수  있는  기능을  제공해야  한다.  이를  통해  서드\\n\\n파티  셀러  확보로  상품  다양성을  넓혀  유저  성향과  구매  히스토리  등에  기반한 \\n\\n타겟  추천  커버리지  증가를  동인해  동일  소비력  기반의  구매  만족도  증대  및 \\n\\n동일  효용가치  대비  경제적  비용  절감  등의  유인으로  소비자를  락인시켜야  할 \\n\\n필요성이  명확하다.  이외  중장기적으로  다양한  세그먼트에서  예측과  추론  기반 \\n\\n구독경제  활성화에  대응하기  위해  동사  자체  AI의  경쟁력으로  커버할  수  없는 \\n\\n분야에  대한  글로벌  빅테크와  데이터  기반의  전략적  제휴를  강화시켜야  하며, \\n\\n이를  통해  관련  사업적  기회를  놓치지  말아야  할  것으로  판단한다.</td>\n",
       "      <td>./data/네이버/네이버_키움증권(2024.11.12).pdf</td>\n",
       "      <td>[1680, 2566]</td>\n",
       "      <td>{'last_modified_datetime': '2025-01-02', 'next_id': '60feccaf-460d-4dd2-9be2-937a9e1c39c7', 'page': -1, 'path': './data/네이버/네이버_키움증권(2024.11.12).pdf', 'prev_id': 'bd2e3fea-11cc-4c44-b65d-3dcb363ce12c'}</td>\n",
       "    </tr>\n",
       "    <tr>\n",
       "      <th>3</th>\n",
       "      <td>60feccaf-460d-4dd2-9be2-937a9e1c39c7</td>\n",
       "      <td>파일 제목: 네이버_키움증권(2024.11.12).pdf\\n 내용: 단기적인  기업가치  증가  기대 \\n\\n동사의  광고를  중심으로  한  서치플랫폼  매출의  견조한  성장  및  이를  통한  영업 \\n\\n레버리지  효과  부각  등으로  분기별  영업이익의  견조한  증가와  가시성이  부각될 \\n\\n것으로  판단하며  이에  기반해  단기적으로  기업가치의  점진적  증가가  기대된다. \\n\\n다만  커머스  성장성에  대한  검증이  필요하며  AI  기반의  구독경제  사업에  대한 \\n\\n접점  강화  등이  요구된다는  점이  잠재  리스크로  작동하면서  동사  밸류에이션을 \\n\\n제한하는  요인으로  작용할  여지가  있음을  부연  설명한다. \\n\\n-40-30-20-1001020050,000100,000150,000200,000250,00023.1124.0224.0524.0824.11(%)(원)수정주가(좌)상대수익률(우) \\n \\n \\n \\n \\n \\n \\n \\n \\n \\n \\n \\n \\n \\n \\n \\n \\n \\n \\n \\n \\n \\n \\n \\n \\n \\n \\n \\n   \\n \\n \\n \\n \\n\f  NAVER (035420) \\n\\n2024. 11.</td>\n",
       "      <td>./data/네이버/네이버_키움증권(2024.11.12).pdf</td>\n",
       "      <td>[2572, 3095]</td>\n",
       "      <td>{'last_modified_datetime': '2025-01-02', 'next_id': '41ae6d37-4865-486b-a44d-2e4c33e5b5a6', 'page': -1, 'path': './data/네이버/네이버_키움증권(2024.11.12).pdf', 'prev_id': '962f8a5d-c705-44a1-873a-574e79317992'}</td>\n",
       "    </tr>\n",
       "    <tr>\n",
       "      <th>4</th>\n",
       "      <td>41ae6d37-4865-486b-a44d-2e4c33e5b5a6</td>\n",
       "      <td>파일 제목: 네이버_키움증권(2024.11.12).pdf\\n 내용: 11. 12 \\n\\n  산출내역   \\n\\n21,644.5   \\n\\n1,082.2   \\n\\n20.0   \\n\\n6,240.2   \\n\\n456.8   \\n\\n20.0   \\n\\n10.0% \\n\\n3,745.7   \\n\\n5,428.6   \\n\\n69.0% \\n\\n1,718.9   \\n\\n3,389.0   \\n\\n63.4% \\n\\n5,393.9   \\n\\n986.3   \\n\\n25.0   \\n\\n24,657.9   \\n\\n31.3% \\n\\n38,743.2   \\n\\n160,785   \\n\\n240,964   \\n\\n176,000   \\n\\n36.9% \\n\\nNAVER Valuation \\n\\n(십억원) \\n\\n네이버  서치플랫폼/클라우드  중심  적정가치 \\n\\n4Q FWD  조정  지배주주지분 \\n\\n목표  PER(배) \\n\\n네이버쇼핑  사업부문  적정가치 \\n\\n28E  네이버쇼핑  세후  영업이익 \\n\\n잠재  PER(배) \\n\\n연간  할인율(%) \\n\\n네이버파이낸셜  지분가치 \\n\\n네이버파이낸셜  기업가치 \\n\\nNAVER  지분율(%) \\n\\nWebtoon Entertainment  지분가치 \\n\\nWebtoon Entertainment  기업가치 \\n\\nNAVER  지분율(%) \\n\\nLY Corporation  지분가치 \\n\\n24E LY Corporation  지배주주지분 \\n\\n목표  PER(배) \\n\\nLY Corporation  적정가치 \\n\\nNAVER  지분율(%) \\n\\nNAVER  적정가치 \\n\\n발행주식수(천주) \\n\\nNAVER  주당  적정가치(원) \\n\\n현주가(원) \\n\\n업사이드(%) \\n\\n주1: 24E  기준  환산,  연간  할인율  10%, 24E  평균  원/엔  환율  9.0원  적용 \\n\\n주2: Webtoon Entertainment  지분가치  할인율  20%  적용 \\n\\n주3: LY Corporation  지분가치  할인율  30%  적용 \\n\\n자료: NAVER, LY Corporation,  키움증권 \\n\\n2 \\n\\n \\n \\n \\n \\n \\n \\n \\n \\n \\n \\n \\n \\n \\n \\n \\n \\n \\n \\n \\n \\n \\n \\n \\n \\n \\n \\n \\n \\n \\n \\n\f  NAVER (035420) \\n\\n2024. 11. 12 \\n\\n네이버쇼핑  연간  실적  및  Valuation \\n\\n(십억원) \\n\\n매출액 \\n\\n수수료 \\n\\n광고 \\n\\n솔루션 \\n\\n플러스  멤버십 \\n\\nPoshmark \\n\\n영업비용 \\n\\n개발/운영 \\n\\n파트너 \\n\\n마케팅 \\n\\n기타 \\n\\nPoshmark \\n\\n영업이익 \\n\\n마진율(%) \\n\\n세후  영업이익 \\n\\nCAGR(24E-28E) \\n\\n잠재  PER(배) \\n\\n24E  적정가치 \\n\\n주:  연간  할인율  10% \\n\\n자료: NAVER,</td>\n",
       "      <td>./data/네이버/네이버_키움증권(2024.11.12).pdf</td>\n",
       "      <td>[3093, 4316]</td>\n",
       "      <td>{'last_modified_datetime': '2025-01-02', 'next_id': 'b8585d22-b9d0-4ce6-83b0-53ccdd93a4b3', 'page': -1, 'path': './data/네이버/네이버_키움증권(2024.11.12).pdf', 'prev_id': '60feccaf-460d-4dd2-9be2-937a9e1c39c7'}</td>\n",
       "    </tr>\n",
       "  </tbody>\n",
       "</table>\n",
       "</div>"
      ],
      "text/plain": [
       "                                 doc_id  \\\n",
       "0  afb5a076-a182-407b-991c-6f2b25f1e93c   \n",
       "1  bd2e3fea-11cc-4c44-b65d-3dcb363ce12c   \n",
       "2  962f8a5d-c705-44a1-873a-574e79317992   \n",
       "3  60feccaf-460d-4dd2-9be2-937a9e1c39c7   \n",
       "4  41ae6d37-4865-486b-a44d-2e4c33e5b5a6   \n",
       "\n",
       "                                                                                                                                                                                                                                                                                                                                                                                                                                                                                                                                                                                                                                                                                                                                                                                                                                                                                                                                                                                                                                                                                                                                                                                                                                                                                                                                                                                                                                                                                                                                                              contents  \\\n",
       "0                                                                                                                                                                                                                                                                                                                                                                                                                                                                                                                                                                                                                                                                                                                                                                                                                                                                                                                                                                                                                                                              파일 제목: 네이버_키움증권(2024.11.12).pdf\\n 내용: 기업  업데이트 \\n\\n2024. 11. 12 \\n\\nBUY(Maintain) \\n목표주가: 240,000원 \\n\\n주가(11/11): 176,000원 \\n\\n시가총액: 282,981억원 \\n\\nNAVER (035420) \\n예측  기반  부가가치  요구 \\n\\n인터넷/게임  Analyst  김진구 \\n\\njingu.kim@kiwoom.com \\n\\n동사  목표주가  24만원을  유지한다.  동사  신규  서비스  기반  인게이지먼트  증가  및 \\nAI  기반  실시간  광고  대행사  기능  내재화  등으로  서치플랫폼  사업을  중심으로  한 \\n영업 레버리지 효과가  가시화될  것으로  기대한다.  다만 경쟁사를 추종하는  커머스 \\n사업의  다소  소극적  전략  및  AI  기반  구독경제  강화  움직임이  제한적이라는  점이 \\n잠재적 리스크로 작동할 수 있다.   \n",
       "1  파일 제목: 네이버_키움증권(2024.11.12).pdf\\n 내용: Stock Data \\n\\nKOSPI (11/11) \\n\\n52 주  주가동향   \\n\\n최고/최저가  대비 \\n\\n등락률 \\n\\n수익률 \\n\\n          1M \\n\\n6M \\n\\n1Y \\n\\nCompany Data \\n\\n발행주식수 \\n\\n일평균  거래량(3M) \\n\\n외국인  지분율 \\n\\n배당수익률(24E) \\n\\nBPS(24E) \\n\\n주요  주주 \\n\\n투자지표 \\n\\n2,531.66pt \\n\\n최고가 \\n\\n최저가 \\n\\n231,500원 \\n\\n155,000원 \\n\\n-24.0% \\n\\n절대 \\n\\n1.6% \\n\\n-6.7% \\n\\n-14.4% \\n\\n국민연금공단 \\n\\n13.5% \\n\\n상대 \\n\\n4.2% \\n\\n0.5% \\n\\n-15.9% \\n\\n160,785천주 \\n\\n755천주 \\n\\n43.1% \\n\\n0.6% \\n\\n155,251원 \\n\\n8.3% \\n\\n(십억원, IFRS  연결) \\n\\n2022 \\n\\n2023 \\n\\n2024F \\n\\n2025F \\n\\n매출액 \\n\\n영업이익 \\n\\nEBITDA \\n\\n세전이익 \\n\\n순이익 \\n\\n8,220.1  9,670.6  10,621.3  11,554.9 \\n\\n1,304.7  1,488.8  1,954.0  2,093.4 \\n\\n1,865.6  2,071.2  2,545.6  2,710.7 \\n\\n1,083.7  1,481.4  2,316.7  2,249.4 \\n\\n673.2 \\n\\n985.0  1,806.4  1,630.8 \\n\\n지배주주지분순이익 \\n\\n760.3  1,012.3  1,749.1  1,590.1 \\n\\n4,634 \\n\\n-95.4 \\n\\n38.3 \\n\\n1.28 \\n\\n16.1 \\n\\n15.9 \\n\\n3.3 \\n\\n1.0 \\n\\n6,180 \\n\\n10,834 \\n\\n10,036 \\n\\n33.4 \\n\\n36.2 \\n\\n1.57 \\n\\n18.0 \\n\\n15.4 \\n\\n4.4 \\n\\n-0.9 \\n\\n75.3 \\n\\n16.2 \\n\\n1.13 \\n\\n11.0 \\n\\n18.4 \\n\\n7.3 \\n\\n-5.4 \\n\\n-7.4 \\n\\n17.5 \\n\\n1.08 \\n\\n10.0 \\n\\n18.1 \\n\\n6.3 \\n\\n-8.1 \\n\\nEPS(원) \\n\\n  증감률(%,YoY) \\n\\nPER(배) \\n\\nPBR(배) \\n\\nEV/EBITDA(배) \\n\\n영업이익률(%) \\n\\nROE(%) \\n\\n순차입금비율(%) \\n\\nPrice Trend \\n\\n  동사  목표주가  24만원을  유지 \\n\\n동사  목표주가  24만원을  유지한다.  동사  적정가치는  38.7조원으로,  이는  서치\\n\\n플랫폼/클라우드  중심  사업부문  적정가치  21.6조원,  네이버쇼핑  사업부문  적정\\n\\n가치  6.2조원,  네이버파이낸셜  지분가치  3.7조원  및  Webtoon  Entertainment \\n\\n지분가치  1.7조원와  LY Corporation  지분가치  5.4조원을  합산해  산출했다.   \n",
       "2                                                                                                                                                                                                                                                                                                                                                                                                                                                                                                                                                              파일 제목: 네이버_키움증권(2024.11.12).pdf\\n 내용: 예측  기반  부가가치  강화  요구 \\n\\n동사  광고  사업은  홈피드,  클립  등  신규  서비스  기반  인게이지먼트  증가  및  AI \\n\\n탑재를  통한  실시간  매칭  및  광고  대행사  기능  내재화로  탑라인  증가  및  비용 \\n\\n절감이  동시에  나타나면서  관련  영업이익의  레버리지  효과가  기대된다.  커머스 \\n\\n사업은  배송  리드타임을  축소하는  다양한  플랜을  공개했으나  이는  풀필먼트를 \\n\\n내재한  쿠팡과  격차를  축소하는  다소  소극적  차원으로  여전히  이해되며  본질적 \\n\\n거래액  성장과  쇼핑광고  매출  회복을  도모하기  위해서는  보다  적극적인  전략이 \\n\\n필요한  바,  이는  셀러  대상  수요예측  기반  판매  예측  및  연계  재고관리  솔루션 \\n\\n등이  수반되어야  하며  실시간  적정  프라이스  및  통합  마케팅  솔루션  제공  등을 \\n\\n통해  셀러  이익을  극대화시킬  수  있는  기능을  제공해야  한다.  이를  통해  서드\\n\\n파티  셀러  확보로  상품  다양성을  넓혀  유저  성향과  구매  히스토리  등에  기반한 \\n\\n타겟  추천  커버리지  증가를  동인해  동일  소비력  기반의  구매  만족도  증대  및 \\n\\n동일  효용가치  대비  경제적  비용  절감  등의  유인으로  소비자를  락인시켜야  할 \\n\\n필요성이  명확하다.  이외  중장기적으로  다양한  세그먼트에서  예측과  추론  기반 \\n\\n구독경제  활성화에  대응하기  위해  동사  자체  AI의  경쟁력으로  커버할  수  없는 \\n\\n분야에  대한  글로벌  빅테크와  데이터  기반의  전략적  제휴를  강화시켜야  하며, \\n\\n이를  통해  관련  사업적  기회를  놓치지  말아야  할  것으로  판단한다.   \n",
       "3                                                                                                                                                                                                                                                                                                                                                                                                                                                                                                                                                                                                                                                                                                                                                                                                                                                                                                                        파일 제목: 네이버_키움증권(2024.11.12).pdf\\n 내용: 단기적인  기업가치  증가  기대 \\n\\n동사의  광고를  중심으로  한  서치플랫폼  매출의  견조한  성장  및  이를  통한  영업 \\n\\n레버리지  효과  부각  등으로  분기별  영업이익의  견조한  증가와  가시성이  부각될 \\n\\n것으로  판단하며  이에  기반해  단기적으로  기업가치의  점진적  증가가  기대된다. \\n\\n다만  커머스  성장성에  대한  검증이  필요하며  AI  기반의  구독경제  사업에  대한 \\n\\n접점  강화  등이  요구된다는  점이  잠재  리스크로  작동하면서  동사  밸류에이션을 \\n\\n제한하는  요인으로  작용할  여지가  있음을  부연  설명한다. \\n\\n-40-30-20-1001020050,000100,000150,000200,000250,00023.1124.0224.0524.0824.11(%)(원)수정주가(좌)상대수익률(우) \\n \\n \\n \\n \\n \\n \\n \\n \\n \\n \\n \\n \\n \\n \\n \\n \\n \\n \\n \\n \\n \\n \\n \\n \\n \\n \\n \\n   \\n \\n \\n \\n \\n\n",
       "  NAVER (035420) \\n\\n2024. 11.   \n",
       "4                                                   파일 제목: 네이버_키움증권(2024.11.12).pdf\\n 내용: 11. 12 \\n\\n  산출내역   \\n\\n21,644.5   \\n\\n1,082.2   \\n\\n20.0   \\n\\n6,240.2   \\n\\n456.8   \\n\\n20.0   \\n\\n10.0% \\n\\n3,745.7   \\n\\n5,428.6   \\n\\n69.0% \\n\\n1,718.9   \\n\\n3,389.0   \\n\\n63.4% \\n\\n5,393.9   \\n\\n986.3   \\n\\n25.0   \\n\\n24,657.9   \\n\\n31.3% \\n\\n38,743.2   \\n\\n160,785   \\n\\n240,964   \\n\\n176,000   \\n\\n36.9% \\n\\nNAVER Valuation \\n\\n(십억원) \\n\\n네이버  서치플랫폼/클라우드  중심  적정가치 \\n\\n4Q FWD  조정  지배주주지분 \\n\\n목표  PER(배) \\n\\n네이버쇼핑  사업부문  적정가치 \\n\\n28E  네이버쇼핑  세후  영업이익 \\n\\n잠재  PER(배) \\n\\n연간  할인율(%) \\n\\n네이버파이낸셜  지분가치 \\n\\n네이버파이낸셜  기업가치 \\n\\nNAVER  지분율(%) \\n\\nWebtoon Entertainment  지분가치 \\n\\nWebtoon Entertainment  기업가치 \\n\\nNAVER  지분율(%) \\n\\nLY Corporation  지분가치 \\n\\n24E LY Corporation  지배주주지분 \\n\\n목표  PER(배) \\n\\nLY Corporation  적정가치 \\n\\nNAVER  지분율(%) \\n\\nNAVER  적정가치 \\n\\n발행주식수(천주) \\n\\nNAVER  주당  적정가치(원) \\n\\n현주가(원) \\n\\n업사이드(%) \\n\\n주1: 24E  기준  환산,  연간  할인율  10%, 24E  평균  원/엔  환율  9.0원  적용 \\n\\n주2: Webtoon Entertainment  지분가치  할인율  20%  적용 \\n\\n주3: LY Corporation  지분가치  할인율  30%  적용 \\n\\n자료: NAVER, LY Corporation,  키움증권 \\n\\n2 \\n\\n \\n \\n \\n \\n \\n \\n \\n \\n \\n \\n \\n \\n \\n \\n \\n \\n \\n \\n \\n \\n \\n \\n \\n \\n \\n \\n \\n \\n \\n \\n\n",
       "  NAVER (035420) \\n\\n2024. 11. 12 \\n\\n네이버쇼핑  연간  실적  및  Valuation \\n\\n(십억원) \\n\\n매출액 \\n\\n수수료 \\n\\n광고 \\n\\n솔루션 \\n\\n플러스  멤버십 \\n\\nPoshmark \\n\\n영업비용 \\n\\n개발/운영 \\n\\n파트너 \\n\\n마케팅 \\n\\n기타 \\n\\nPoshmark \\n\\n영업이익 \\n\\n마진율(%) \\n\\n세후  영업이익 \\n\\nCAGR(24E-28E) \\n\\n잠재  PER(배) \\n\\n24E  적정가치 \\n\\n주:  연간  할인율  10% \\n\\n자료: NAVER,   \n",
       "\n",
       "                                               path start_end_idx                                                                                                                                                                                                                metadata  \n",
       "0  ./data/네이버/네이버_키움증권(2024.11.12).pdf      [0, 416]                                    {'last_modified_datetime': '2025-01-02', 'next_id': 'bd2e3fea-11cc-4c44-b65d-3dcb363ce12c', 'page': -1, 'path': './data/네이버/네이버_키움증권(2024.11.12).pdf', 'prev_id': None}  \n",
       "1  ./data/네이버/네이버_키움증권(2024.11.12).pdf   [420, 1674]  {'last_modified_datetime': '2025-01-02', 'next_id': '962f8a5d-c705-44a1-873a-574e79317992', 'page': -1, 'path': './data/네이버/네이버_키움증권(2024.11.12).pdf', 'prev_id': 'afb5a076-a182-407b-991c-6f2b25f1e93c'}  \n",
       "2  ./data/네이버/네이버_키움증권(2024.11.12).pdf  [1680, 2566]  {'last_modified_datetime': '2025-01-02', 'next_id': '60feccaf-460d-4dd2-9be2-937a9e1c39c7', 'page': -1, 'path': './data/네이버/네이버_키움증권(2024.11.12).pdf', 'prev_id': 'bd2e3fea-11cc-4c44-b65d-3dcb363ce12c'}  \n",
       "3  ./data/네이버/네이버_키움증권(2024.11.12).pdf  [2572, 3095]  {'last_modified_datetime': '2025-01-02', 'next_id': '41ae6d37-4865-486b-a44d-2e4c33e5b5a6', 'page': -1, 'path': './data/네이버/네이버_키움증권(2024.11.12).pdf', 'prev_id': '962f8a5d-c705-44a1-873a-574e79317992'}  \n",
       "4  ./data/네이버/네이버_키움증권(2024.11.12).pdf  [3093, 4316]  {'last_modified_datetime': '2025-01-02', 'next_id': 'b8585d22-b9d0-4ce6-83b0-53ccdd93a4b3', 'page': -1, 'path': './data/네이버/네이버_키움증권(2024.11.12).pdf', 'prev_id': '60feccaf-460d-4dd2-9be2-937a9e1c39c7'}  "
      ]
     },
     "execution_count": 11,
     "metadata": {},
     "output_type": "execute_result"
    }
   ],
   "source": [
    "df_corpus2.head()"
   ]
  },
  {
   "cell_type": "code",
   "execution_count": 12,
   "metadata": {},
   "outputs": [
    {
     "data": {
      "text/html": [
       "<div>\n",
       "<style scoped>\n",
       "    .dataframe tbody tr th:only-of-type {\n",
       "        vertical-align: middle;\n",
       "    }\n",
       "\n",
       "    .dataframe tbody tr th {\n",
       "        vertical-align: top;\n",
       "    }\n",
       "\n",
       "    .dataframe thead th {\n",
       "        text-align: right;\n",
       "    }\n",
       "</style>\n",
       "<table border=\"1\" class=\"dataframe\">\n",
       "  <thead>\n",
       "    <tr style=\"text-align: right;\">\n",
       "      <th></th>\n",
       "      <th>qid</th>\n",
       "      <th>query</th>\n",
       "      <th>retrieval_gt</th>\n",
       "      <th>generation_gt</th>\n",
       "    </tr>\n",
       "  </thead>\n",
       "  <tbody>\n",
       "    <tr>\n",
       "      <th>0</th>\n",
       "      <td>b6310d20-c88b-4cfe-b805-a5bf6027ecf8</td>\n",
       "      <td>CJ제일제당은 어떤 지표를 기준으로 2024, 2025, 2026년의 성장율을 추정하고 있습니까?</td>\n",
       "      <td>a36c56dc-0c27-404c-bca0-4a7caf00f33a</td>\n",
       "      <td>[CJ제일제당은 2024, 2025, 2026년의 성장율을 컨센서스 기준으로 추정하고 있습니다. (CJ제일제당은 자체 추정이 아닌 컨센서스 기준으로 성장율을 추정하고 있습니다.), 컨센서스를 기준으로 성장율을 추정하고 있습니다.]</td>\n",
       "    </tr>\n",
       "    <tr>\n",
       "      <th>1</th>\n",
       "      <td>29fcbb82-7de8-4564-b0ca-7882b1b16fbf</td>\n",
       "      <td>HBM 시장에서의 높은 점유율이 실적과 주가의 방어 논리로 작용할 수 있는 이유는 무엇입니까?</td>\n",
       "      <td>328b6529-5530-4f89-b5b1-fdfa4652b6ee</td>\n",
       "      <td>[HBM 시장에서의 높은 점유율이 실적과 주가의 방어 논리로 작용할 수 있는 이유는 \"가격과 수량이 수주 기반으로 확정되어 거래되기 때문\"입니다. HBM 시장의 선두 포지션은 단기간 내 변화할 가능성이 희박하며, HBM3E 8단 시장과 내년 12단 시장에서 사실상 독점하며 가격 프리미엄을 홀로 향유할 가능성이 높다고 언급되어 있습니다. 이러한 상황에서 HBM 시장의 높은 점유율은 실적과 주가의 방어 논리로 작용할 수 있습니다., HBM 시장에서의 높은 점유율이 실적과 주가의 방어 논리로 작용할 수 있는 이유는 수주 기반으로 확정된 가격과 수량으로 거래되기 때문입니다.]</td>\n",
       "    </tr>\n",
       "    <tr>\n",
       "      <th>2</th>\n",
       "      <td>d19f3017-5802-417b-8d71-7ab2391d3c70</td>\n",
       "      <td>글로벌 e-sports 대회 투자로 812억원의 예상 지급수수료는 몇 퍼센트 증가했습니까?</td>\n",
       "      <td>c7076bfb-3b9a-4354-b978-b7598aeabcb2</td>\n",
       "      <td>[글로벌 e-sports 대회 투자로 812억원의 예상 지급수수료는 YoY +15.0% 증가했습니다., 15.0%]</td>\n",
       "    </tr>\n",
       "    <tr>\n",
       "      <th>3</th>\n",
       "      <td>a40932d5-2009-4e53-92a2-5e9b001ffee6</td>\n",
       "      <td>2024년 8월에 발표된 투자지표 중 하나는 무엇입니까?</td>\n",
       "      <td>3de847f3-fd4f-4b53-b05b-5a4e1b57f335</td>\n",
       "      <td>[2024년 8월에 발표된 투자지표 중 하나는 P/E (주가수익비율) 입니다. Text에서 P/E 값은 87로 나와 있습니다., P/E]</td>\n",
       "    </tr>\n",
       "    <tr>\n",
       "      <th>4</th>\n",
       "      <td>03a176af-d55b-4ead-a0a0-d4bf9743965b</td>\n",
       "      <td>CJ제일제당의 2025년 매출액은 얼마인가요?</td>\n",
       "      <td>5f1d16aa-8f0f-4da5-9ff4-5da8ae6d8f8d</td>\n",
       "      <td>[CJ제일제당의 2025년 매출액은 31,077.2 십억원 입니다., 31,077.2억원]</td>\n",
       "    </tr>\n",
       "    <tr>\n",
       "      <th>5</th>\n",
       "      <td>64beae2e-a58c-4138-9241-e22cdb8df622</td>\n",
       "      <td>양극재의 판매량과 판가에 대한 4분기 전망은 어떻게 되나요?</td>\n",
       "      <td>7ade7621-0cf4-43f4-a257-b007d1cae9be</td>\n",
       "      <td>[양극재의 판매량은 4분기에 전분기와 유사할 것으로 예상되며, 판가는 4분기에 전분기 대비 -10%의 하락이 예상됩니다., 양극재의 판매량은 전분기와 유사하게 유지되고, 판가는 전분기 대비 -10%로 예상됩니다.]</td>\n",
       "    </tr>\n",
       "    <tr>\n",
       "      <th>6</th>\n",
       "      <td>157ad4f2-a9cf-4851-847a-9b9223e94014</td>\n",
       "      <td>SK하이닉스의 세전 계속사업이익은 어떻게 변화했습니까?</td>\n",
       "      <td>92bb88b3-fee5-4a2c-9736-146e5f60cc3a</td>\n",
       "      <td>[SK하이닉스의 세전 계속사업이익은 다음과 같이 변화했습니다:\\n- 4,003\\n- -3,525\\n- -3,788\\n- -2,470\\n- -1,875\\n- -11,658\\n- 2,373\\n- 5,052, 세전 계속사업이익은 4,003에서 -11,658으로 변화했습니다.]</td>\n",
       "    </tr>\n",
       "    <tr>\n",
       "      <th>7</th>\n",
       "      <td>8807cbe7-0da6-4ec6-9dfb-205e2b25064d</td>\n",
       "      <td>2024년 10월 29일 현재 해당회사의 지분을 보유하고 있는 비율은 얼마인가요?</td>\n",
       "      <td>212944a4-52ee-4357-b624-71bacbfdc1f2</td>\n",
       "      <td>[해당 텍스트에서는 \"당사는 2024년 10월 29일 현재 해당회사의 지분을 1%이상 보유 하고 있지 않습니다\"라고 명시되어 있습니다. 따라서, 2024년 10월 29일 현재 해당회사의 지분을 보유하고 있는 비율은 0%입니다., 1% 이상 보유하고 있지 않습니다.]</td>\n",
       "    </tr>\n",
       "    <tr>\n",
       "      <th>8</th>\n",
       "      <td>12194017-9a7c-401b-8e8f-91aca60fe9eb</td>\n",
       "      <td>CJ제일제당의 2024년 4분기 매출액은 얼마로 예상되는가?</td>\n",
       "      <td>47d56e9c-37d9-4cf6-bf89-d27fcf3afb2d</td>\n",
       "      <td>[2024년 4분기 매출액은 7,509.1 십억원으로 예상됩니다., 7,509.1 십억원]</td>\n",
       "    </tr>\n",
       "    <tr>\n",
       "      <th>9</th>\n",
       "      <td>6fc9a9a8-b5bd-49a4-a323-996a0a594c54</td>\n",
       "      <td>HBM CAPA가 거의 다 Sold Out되었는데 내년 추가적인 수요가 있을 경우 어떻게 대응할 것인가요?</td>\n",
       "      <td>fa27618c-22f7-469c-b7de-01037d8a3467</td>\n",
       "      <td>[HBM CAPA가 거의 다 Sold Out되었는데 내년 추가적인 수요가 있을 경우, 회사는 TSV CAPA를 작년 대비 2배 이상 늘리는 계획을 순조롭게 진행 중이며, 1b 나노 확대 역시 순조롭게 진행 중입니다. 그러나 당초 계획 대비 증가된 물량을 다 소화하기에 한계가 있을 수 있습니다. 특히 HBM3E 제품에 대한 고객들의 수요가 예상보다 빠르게 증가하고 있으며, 레거시 테크를 빠르게 선단공정으로 전환하여 HBM3E 생산 확대에 최대한 집중할 계획이 있습니다., TSV CAPA를 2배 이상 늘리는 계획을 순조롭게 진행 중이며, HBM3E 생산 확대에 집중할 계획이 있음.]</td>\n",
       "    </tr>\n",
       "  </tbody>\n",
       "</table>\n",
       "</div>"
      ],
      "text/plain": [
       "                                    qid                                                        query                          retrieval_gt                                                                                                                                                                                                                                                                                                                            generation_gt\n",
       "0  b6310d20-c88b-4cfe-b805-a5bf6027ecf8       CJ제일제당은 어떤 지표를 기준으로 2024, 2025, 2026년의 성장율을 추정하고 있습니까?  a36c56dc-0c27-404c-bca0-4a7caf00f33a                                                                                                                                                                                                         [CJ제일제당은 2024, 2025, 2026년의 성장율을 컨센서스 기준으로 추정하고 있습니다. (CJ제일제당은 자체 추정이 아닌 컨센서스 기준으로 성장율을 추정하고 있습니다.), 컨센서스를 기준으로 성장율을 추정하고 있습니다.]\n",
       "1  29fcbb82-7de8-4564-b0ca-7882b1b16fbf         HBM 시장에서의 높은 점유율이 실적과 주가의 방어 논리로 작용할 수 있는 이유는 무엇입니까?  328b6529-5530-4f89-b5b1-fdfa4652b6ee        [HBM 시장에서의 높은 점유율이 실적과 주가의 방어 논리로 작용할 수 있는 이유는 \"가격과 수량이 수주 기반으로 확정되어 거래되기 때문\"입니다. HBM 시장의 선두 포지션은 단기간 내 변화할 가능성이 희박하며, HBM3E 8단 시장과 내년 12단 시장에서 사실상 독점하며 가격 프리미엄을 홀로 향유할 가능성이 높다고 언급되어 있습니다. 이러한 상황에서 HBM 시장의 높은 점유율은 실적과 주가의 방어 논리로 작용할 수 있습니다., HBM 시장에서의 높은 점유율이 실적과 주가의 방어 논리로 작용할 수 있는 이유는 수주 기반으로 확정된 가격과 수량으로 거래되기 때문입니다.]\n",
       "2  d19f3017-5802-417b-8d71-7ab2391d3c70           글로벌 e-sports 대회 투자로 812억원의 예상 지급수수료는 몇 퍼센트 증가했습니까?  c7076bfb-3b9a-4354-b978-b7598aeabcb2                                                                                                                                                                                                                                                                         [글로벌 e-sports 대회 투자로 812억원의 예상 지급수수료는 YoY +15.0% 증가했습니다., 15.0%]\n",
       "3  a40932d5-2009-4e53-92a2-5e9b001ffee6                              2024년 8월에 발표된 투자지표 중 하나는 무엇입니까?  3de847f3-fd4f-4b53-b05b-5a4e1b57f335                                                                                                                                                                                                                                                             [2024년 8월에 발표된 투자지표 중 하나는 P/E (주가수익비율) 입니다. Text에서 P/E 값은 87로 나와 있습니다., P/E]\n",
       "4  03a176af-d55b-4ead-a0a0-d4bf9743965b                                    CJ제일제당의 2025년 매출액은 얼마인가요?  5f1d16aa-8f0f-4da5-9ff4-5da8ae6d8f8d                                                                                                                                                                                                                                                                                       [CJ제일제당의 2025년 매출액은 31,077.2 십억원 입니다., 31,077.2억원]\n",
       "5  64beae2e-a58c-4138-9241-e22cdb8df622                            양극재의 판매량과 판가에 대한 4분기 전망은 어떻게 되나요?  7ade7621-0cf4-43f4-a257-b007d1cae9be                                                                                                                                                                                                                  [양극재의 판매량은 4분기에 전분기와 유사할 것으로 예상되며, 판가는 4분기에 전분기 대비 -10%의 하락이 예상됩니다., 양극재의 판매량은 전분기와 유사하게 유지되고, 판가는 전분기 대비 -10%로 예상됩니다.]\n",
       "6  157ad4f2-a9cf-4851-847a-9b9223e94014                               SK하이닉스의 세전 계속사업이익은 어떻게 변화했습니까?  92bb88b3-fee5-4a2c-9736-146e5f60cc3a                                                                                                                                                                                  [SK하이닉스의 세전 계속사업이익은 다음과 같이 변화했습니다:\\n- 4,003\\n- -3,525\\n- -3,788\\n- -2,470\\n- -1,875\\n- -11,658\\n- 2,373\\n- 5,052, 세전 계속사업이익은 4,003에서 -11,658으로 변화했습니다.]\n",
       "7  8807cbe7-0da6-4ec6-9dfb-205e2b25064d                2024년 10월 29일 현재 해당회사의 지분을 보유하고 있는 비율은 얼마인가요?  212944a4-52ee-4357-b624-71bacbfdc1f2                                                                                                                                                                                     [해당 텍스트에서는 \"당사는 2024년 10월 29일 현재 해당회사의 지분을 1%이상 보유 하고 있지 않습니다\"라고 명시되어 있습니다. 따라서, 2024년 10월 29일 현재 해당회사의 지분을 보유하고 있는 비율은 0%입니다., 1% 이상 보유하고 있지 않습니다.]\n",
       "8  12194017-9a7c-401b-8e8f-91aca60fe9eb                            CJ제일제당의 2024년 4분기 매출액은 얼마로 예상되는가?  47d56e9c-37d9-4cf6-bf89-d27fcf3afb2d                                                                                                                                                                                                                                                                                       [2024년 4분기 매출액은 7,509.1 십억원으로 예상됩니다., 7,509.1 십억원]\n",
       "9  6fc9a9a8-b5bd-49a4-a323-996a0a594c54  HBM CAPA가 거의 다 Sold Out되었는데 내년 추가적인 수요가 있을 경우 어떻게 대응할 것인가요?  fa27618c-22f7-469c-b7de-01037d8a3467  [HBM CAPA가 거의 다 Sold Out되었는데 내년 추가적인 수요가 있을 경우, 회사는 TSV CAPA를 작년 대비 2배 이상 늘리는 계획을 순조롭게 진행 중이며, 1b 나노 확대 역시 순조롭게 진행 중입니다. 그러나 당초 계획 대비 증가된 물량을 다 소화하기에 한계가 있을 수 있습니다. 특히 HBM3E 제품에 대한 고객들의 수요가 예상보다 빠르게 증가하고 있으며, 레거시 테크를 빠르게 선단공정으로 전환하여 HBM3E 생산 확대에 최대한 집중할 계획이 있습니다., TSV CAPA를 2배 이상 늘리는 계획을 순조롭게 진행 중이며, HBM3E 생산 확대에 집중할 계획이 있음.]"
      ]
     },
     "execution_count": 12,
     "metadata": {},
     "output_type": "execute_result"
    }
   ],
   "source": [
    "df_expanded = df_qa2.explode(\"retrieval_gt\").explode(\"retrieval_gt\")\n",
    "df_expanded"
   ]
  },
  {
   "cell_type": "code",
   "execution_count": 13,
   "metadata": {},
   "outputs": [],
   "source": [
    "df_merged = pd.merge(\n",
    "    df_expanded, df_corpus2, left_on=\"retrieval_gt\", right_on=\"doc_id\", how=\"left\"\n",
    ")\n",
    "df_qa_sample = df_merged.loc[\n",
    "    [2, 4, 5, 6, 9], [\"query\", \"generation_gt\", \"contents\", \"path\"]\n",
    "].reset_index(drop=True)"
   ]
  },
  {
   "cell_type": "code",
   "execution_count": 14,
   "metadata": {},
   "outputs": [
    {
     "data": {
      "text/html": [
       "<div>\n",
       "<style scoped>\n",
       "    .dataframe tbody tr th:only-of-type {\n",
       "        vertical-align: middle;\n",
       "    }\n",
       "\n",
       "    .dataframe tbody tr th {\n",
       "        vertical-align: top;\n",
       "    }\n",
       "\n",
       "    .dataframe thead th {\n",
       "        text-align: right;\n",
       "    }\n",
       "</style>\n",
       "<table border=\"1\" class=\"dataframe\">\n",
       "  <thead>\n",
       "    <tr style=\"text-align: right;\">\n",
       "      <th></th>\n",
       "      <th>query</th>\n",
       "      <th>generation_gt</th>\n",
       "      <th>contents</th>\n",
       "      <th>path</th>\n",
       "    </tr>\n",
       "  </thead>\n",
       "  <tbody>\n",
       "    <tr>\n",
       "      <th>0</th>\n",
       "      <td>글로벌 e-sports 대회 투자로 812억원의 예상 지급수수료는 몇 퍼센트 증가했습니까?</td>\n",
       "      <td>[글로벌 e-sports 대회 투자로 812억원의 예상 지급수수료는 YoY +15.0% 증가했습니다., 15.0%]</td>\n",
       "      <td>파일 제목: 크래프톤_교보증권_20240723.pdf\\n 내용: 영업비용  중  지급수수료는  글로벌  e-sports  대회  투자로  812억원(YoY  +15.0%, \\n\\n매출  대비  14.7%)  예상,  인건비는  인력증가분을  반영하며  1,270억원(YoY \\n\\n+23.0%),  마케팅비는 PUBG PC  관련 마케팅 집행으로 YoY +123.0%  증가하나 \\n\\n신작  마케팅이  본격화되지  않아  매출  대비  3.5%  수준에  머무르는  193억원  추정. \\n주식보상비용은 3월말 대비 주가 상승에 따라 213억원 발생 전망. \\n\\n투자의견 Buy, 목표주가 370,000원으로 상향 \\n\\n투자의견  Buy  유지,  목표주가를  370,000원(종전  330,000원)으로  상향.  목표주가 \\n\\n상향은  PUBG  PC  버전의  글로벌  트래픽이  높게  유지되고  있음을  반영해  2024년 \\n\\n지배주주순이익  추정치를  기존  대비  +6%  상향함에  따름.  차기  성장  동력  확보를 \\n\\n위한  공격적인  인력  채용,  e-sports에  대한  적극적인 투자가  이루어지고  있음에도 \\n\\n탑라인 성장 기반의 이익 성장이 이루어지고 있다는 점이 차별화되는 요소로 판단. \\n\\nPUBG IP가 언리얼엔진5 이관 및 콘솔 기반 출시를 준비하는 가운데 4Q24 ‘다크앤\\n\\n다커  모바일’  글로벌  출시,  쿠키런  인도  출시가  이루어져  2025년  그  수혜가  온기 \\n\\n반영될 것으로 예상하며, ‘inZOI’(라이프 시뮬레이션, PC/콘솔) 역시 1H25 정식 출\\n\\n시될 것으로 전망. ‘PUBG’, ‘다크앤다커 모바일’, ‘inZOI’ 3 종의 IP는 24년 8월 게\\n\\n임스컴에 참가하여 글로벌 관심도가 고양될 것으로 기대. \\n\\nForecast earnings &amp; Valuation \\n\\n12 결산(십억원) \\n매출액(십억원) \\nYoY(%) \\n영업이익(십억원) \\nOP 마진(%) \\n순이익(십억원) \\nEPS(원) \\nYoY(%) \\nPER(배) \\nPCR(배) \\nPBR(배) \\nEV/EBITDA(배) \\nROE(%) \\n\\n2022.12 \\n1,854  \\n-1.7 \\n752  \\n40.</td>\n",
       "      <td>./data/크래프톤/크래프톤_교보증권_20240723.pdf</td>\n",
       "    </tr>\n",
       "    <tr>\n",
       "      <th>1</th>\n",
       "      <td>CJ제일제당의 2025년 매출액은 얼마인가요?</td>\n",
       "      <td>[CJ제일제당의 2025년 매출액은 31,077.2 십억원 입니다., 31,077.2억원]</td>\n",
       "      <td>파일 제목: 20241024_company_608266000.pdf\\n 내용: Financial Data \\n\\n(십억원) \\n\\n매출액 \\n\\n영업이익 \\n\\n영업이익률(%) \\n\\n세전이익 \\n지배주주지분순이익 \\n\\nEPS(원) \\n\\n증감률(%) \\n\\nROE(%) \\nPER(배) \\n\\nPBR(배) \\n\\nEV/EBITDA(배) \\n\\n2021 \\n\\n26,289 \\n\\n1,524 \\n\\n5.8 \\n\\n1,218 \\n613 \\n\\n2022 \\n\\n30,080 \\n\\n1,665 \\n\\n5.5 \\n\\n1,246 \\n596 \\n\\n2023 \\n\\n29,023 \\n\\n1,292 \\n\\n4.5 \\n\\n732 \\n386 \\n\\n40,267 \\n\\n39,097 \\n\\n25,758 \\n\\n-10.9 \\n\\n10.8 \\n9.6 \\n\\n1.0 \\n\\n5.3 \\n\\n-2.9 \\n\\n9.3 \\n9.7 \\n\\n0.9 \\n\\n5.1 \\n\\n-34.1 \\n\\n5.6 \\n12.6 \\n\\n0.7 \\n\\n5.1 \\n\\n2024F \\n\\n29,603 \\n\\n1,566 \\n\\n5.3 \\n\\n979 \\n520 \\n\\n34,869 \\n\\n35.4 \\n\\n7.1 \\n7.9 \\n\\n0.6 \\n\\n4.9 \\n\\n2025F \\n\\n31,077 \\n\\n1,729 \\n\\n5.6 \\n\\n1,109 \\n588 \\n\\n39,489 \\n\\n13.3 \\n\\n7.6 \\n7.0 \\n\\n0.6 \\n\\n4.8 \\n\\n자료: CJ제일제당, DS투자증권 리서치센터, K-IFRS 연결기준 \\n\\n(%) \\n\\n1M \\n\\n3M \\n\\n6M \\n\\n주가차트 \\n\\n(원) \\n\\n500,000\\n\\n400,000\\n\\n300,000\\n\\n200,000\\n\\n100,000\\n\\n절대수익률 \\n\\n상대수익률 \\n\\n-11.5 \\n\\n-28.2 \\n\\n-19.0 \\n\\n-11.4 \\n\\n-21.9 \\n\\n-18.1 \\n\\nCJ제일제당 \\nrelative to KOSPI\\n\\n(pt) \\n\\n140\\n\\n120\\n\\n100\\n\\n80\\n\\n60\\n\\n0\\n23/10 24/01 24/04 24/07 24/10\\n\\n40\\n\\n \\n \\n \\n \\n \\n \\n \\n \\n \\n \\n \\n \\n \\n \\n \\n \\n \\n \\n \\n \\n \\n\fCJ제일제당 \\n\\n2024.10.24 \\n\\n표1  CJ제일제당 실적 테이블 \\n\\n(십억원, %) \\n\\n1Q23 \\n\\n2Q23 \\n\\n3Q23 \\n\\n4Q23 \\n\\n1Q24 \\n\\n2Q24 \\n\\n3Q24F \\n\\n4Q24F \\n\\n2022 \\n\\n2023 \\n\\n2024F \\n\\n2025F \\n\\n매출액 \\n\\nYoY \\n\\n1. 식품 \\n\\nYoY \\n\\n7,071.2  7,219.4  7,443.4  7,289.4  7,216.0  7,238.7  7,536.7  7,612.0  30,079.5  29,023.5  29,603.3  31,077.2 \\n\\n1.3% \\n\\n-4.0% \\n\\n-7.1% \\n\\n-3.7% \\n\\n2.0% \\n\\n0.3% \\n\\n1.3% \\n\\n4.4% \\n\\n14.4% \\n\\n-3.5% \\n\\n2.0% \\n\\n5.0% \\n\\n2,759.6  2,732.2  3,005.9  2,766.6  2,831.5  2,705.1  3,003.5  2,894.0  11,104.2  11,264.3  11,434.1  12,032.0 \\n\\n5.8% \\n\\n4.8% \\n\\n-1.6% \\n\\n-2.3% \\n\\n2.6% \\n\\n-1.0% \\n\\n-0.1% \\n\\n4.6% \\n\\n16.1% \\n\\n1.4% \\n\\n1.5% \\n\\n5.2% \\n\\n1-1.</td>\n",
       "      <td>./data/CJ제일제당/20241024_company_608266000.pdf</td>\n",
       "    </tr>\n",
       "    <tr>\n",
       "      <th>2</th>\n",
       "      <td>양극재의 판매량과 판가에 대한 4분기 전망은 어떻게 되나요?</td>\n",
       "      <td>[양극재의 판매량은 4분기에 전분기와 유사할 것으로 예상되며, 판가는 4분기에 전분기 대비 -10%의 하락이 예상됩니다., 양극재의 판매량은 전분기와 유사하게 유지되고, 판가는 전분기 대비 -10%로 예상됩니다.]</td>\n",
       "      <td>파일 제목: 20241029_company_957781000.pdf\\n 내용: 양극재  판가(26.7달러/kg,  QoQ  -0.5%)  큰  변동없는  가운데, \\n4Q 물량 일부 풀 인(Pull-in) 효과로 판매량도 전분기와 유사. 생명과학 OP -10\\n억원으로 적자전환. 주요 제품 출하 호조에도 불구하고 R&amp;D 비용 증가에 기인.  \\n\\n4Q24 Preveiw: 연말 재고조정 영향으로 적자전환 예상 \\n\\n4Q  예상  손익  -1,023억원으로  적자전환  전망.  석유화학부문  제품  스프레드 \\n개선 및 해상운임 하락 영향으로 흑전(4QE 23억원)하겠으나, LG에너지솔루션 \\n대규모 적자에 기인. 북미 시장 재고조정에 따른 수익성 악화 및 대규모 재고\\n평가손실  불가피.  이에  따라  동사의  양극재  판매량(QoQ -30%)  및  판가(QoQ \\n-10% )전망.  이외  IT/엔지니어링 소재  연말 재고조정  영향에  따른  수익성  감\\n소 영향으로 첨단소재부문 예상 OP 1,075억원으로 QoQ -28.3% 감익 추정.</td>\n",
       "      <td>./data/LG화학/20241029_company_957781000.pdf</td>\n",
       "    </tr>\n",
       "    <tr>\n",
       "      <th>3</th>\n",
       "      <td>SK하이닉스의 세전 계속사업이익은 어떻게 변화했습니까?</td>\n",
       "      <td>[SK하이닉스의 세전 계속사업이익은 다음과 같이 변화했습니다:\\n- 4,003\\n- -3,525\\n- -3,788\\n- -2,470\\n- -1,875\\n- -11,658\\n- 2,373\\n- 5,052, 세전 계속사업이익은 4,003에서 -11,658으로 변화했습니다.]</td>\n",
       "      <td>파일 제목: 20241031_company_662317000.pdf\\n 내용: 8% \\n\\n17.7% \\n\\n12.7% \\n\\n12.9% \\n\\n1,993  \\n\\n-939  \\n\\n458  \\n\\n-131  \\n\\n584  \\n\\n142  \\n\\n544  \\n\\n169  \\n\\n678  \\n\\n2,265  \\n\\n-8  \\n\\n171  \\n\\n497  \\n\\n-86  \\n\\n493  \\n\\n-195  \\n\\n508  \\n\\n-66  \\n\\n728  \\n\\n-36  \\n\\n2,225  \\n\\n-384  \\n\\n-47.1% \\n\\n-28.7% \\n\\n24.3% \\n\\n31.1% \\n\\n-1.2% \\n\\n7.6% \\n\\n-17.3% \\n\\n-39.6% \\n\\n-13.0% \\n\\n-5.0% \\n\\n-17.2% \\n\\n  세전 계속사업이익 \\n\\n4,003  \\n\\n-3,525  \\n\\n-3,788  \\n\\n-2,470  \\n\\n-1,875  \\n\\n-11,658  \\n\\n2,373  \\n\\n5,052  \\n\\n  법인세 \\n\\n1,761  \\n\\n-940  \\n\\n-800  \\n\\n-285  \\n\\n-495  \\n\\n-2,520  \\n\\n456  \\n\\n932  \\n\\n6,879  \\n\\n1,126  \\n\\n7,060  \\n\\n21,364  \\n\\n1,420  \\n\\n3,934  \\n\\n  지배주주 순이익 \\n\\n2,230  \\n\\n-2,580  \\n\\n-2,991  \\n\\n-2,184  \\n\\n-1,357  \\n\\n-9,112  \\n\\n1,919  \\n\\n4,120  \\n\\n5,753  \\n\\n5,640  \\n\\n17,433  \\n\\n자료: SK하이닉스,  현대차증권. Solidigm  포함 \\n\\n2 \\n\\n \\n \\n \\n \\n \\n  \\n  \\n \\n \\n \\n \\n \\n \\n \\n \\n \\n \\n \\n \\n \\n \\n \\n \\n \\n \\n \\n \\n \\n \\n \\n \\n \\n \\n \\n \\n \\n \\n \\n \\n \\n \\n \\n \\n \\n \\n \\n\f&lt;그림1&gt; TSMC HPC 매출액 추이 \\n\\n&lt;그림2&gt; HBM시장 전망 \\n\\n자료: TSMC \\n\\n  자료: 현대차증권, Trend Force \\n\\n&lt;그림3&gt; SK하이닉스 DRAM 제품별 매출액 비중 \\n\\n&lt;그림4&gt; DRAM 업체 월별 Wafer Capa 추이 \\n\\n자료: SK하이닉스 \\n\\n  자료: Trend Force \\n\\n&lt;그림5&gt; CXMT의 신규 Fab 추이 \\n\\n&lt;그림6&gt; PC의 DRAM Content 증가율 \\n\\n자료: CXMT \\n\\n  자료: Trend Force \\n\\n3 \\n\\n036912151Q223Q221Q233Q231Q243Q243분기매출액QoQ로10.7% 증가(십억USD)010203040015304560202320242025F2026F시장규모DRAM내비중(우)(%)(십억USD)05001,0001,5002,0002,5001Q233Q231Q243Q241Q25F3Q25F삼성SK하이닉스MicronCXMT기타(Kpcs)81212912140369121520232024F2025FDesktopNotebook(%,YoY) \\n \\n \\n \\n \\n \\n \\n \\n \\n \\n \\n \\n \\n \\n \\n \\n \\n \\n \\n \\n \\n \\n \\n \\n \\n\fCOMPANY REPORT \\n\\nESG Index &amp; Summary Report \\n\\n&lt;그림7&gt; SK하이닉스 주요 ESG INDEX \\n환경(E) \\n\\n원  단위  온실가스  배출량 \\n\\n폐기물  재활용률 \\n\\n용수  재이용률 \\n\\n재생에너지  사용량 \\n\\n사회(S) \\n\\n임직원  평균  근속년수 \\n\\n여성  인력  비율 \\n\\n비정규직  근로자  비율 \\n\\n육아휴직  후  업무  복귀율 \\n\\n지배구조(G) \\n\\n주주구성  현황 \\n\\n이사회  구성 \\n\\n배당총액 \\n\\n이사  및  감사  보수 \\n\\n자료: SK하이닉스 지속가능경영보고서, 현대차증권 \\n\\n4 \\n\\n18.220.422.40510152025202120222023(/억원)94.</td>\n",
       "      <td>./data/SK하이닉스/20241031_company_662317000.pdf</td>\n",
       "    </tr>\n",
       "    <tr>\n",
       "      <th>4</th>\n",
       "      <td>HBM CAPA가 거의 다 Sold Out되었는데 내년 추가적인 수요가 있을 경우 어떻게 대응할 것인가요?</td>\n",
       "      <td>[HBM CAPA가 거의 다 Sold Out되었는데 내년 추가적인 수요가 있을 경우, 회사는 TSV CAPA를 작년 대비 2배 이상 늘리는 계획을 순조롭게 진행 중이며, 1b 나노 확대 역시 순조롭게 진행 중입니다. 그러나 당초 계획 대비 증가된 물량을 다 소화하기에 한계가 있을 수 있습니다. 특히 HBM3E 제품에 대한 고객들의 수요가 예상보다 빠르게 증가하고 있으며, 레거시 테크를 빠르게 선단공정으로 전환하여 HBM3E 생산 확대에 최대한 집중할 계획이 있습니다., TSV CAPA를 2배 이상 늘리는 계획을 순조롭게 진행 중이며, HBM3E 생산 확대에 집중할 계획이 있음.]</td>\n",
       "      <td>파일 제목: 20241025_company_843926000.pdf\\n 내용: HBM  신제품  개발을  위한  기술\\n\\n개발은  점점  더  어려워지고  있음.  고객이  원하는  제품을  적기에  충분히  공급하는  것\\n\\n이  쉽지  않아  보임.  내년에도  수요가  공급을  상회하는  형태  지속될  것.  고객들이  일\\n\\n반  DRAM과  달리  HBM에  대한  장기계약을  체결하려고  하는  것  역시  이런  상황을 \\n\\n반영한 것으로  보임 \\n\\nDS INVESTMENT &amp; SECURITIES \\n5 \\n\\n \\n \\n \\n\fSK하이닉스 \\n\\n2024.10.25 \\n\\n4.   HBM  CAPA가 거의 다  Sold Out되었는데 내년. 추가적인 수요가  있을  경우 어\\n\\n떻게 대응할 것인지? \\n\\n-  AI  향  수요는  계속  늘어나고  있고  일부  고객들의  추가  물량  요청도  지속됨.  올해 \\n\\nTSV  CAPA를  작년  대비  2배  이상  늘리는  계획을  순조롭게  진행  중.  1b  나노  확대 \\n\\n역시  순조롭게  진행  중.  당초  계획  대비  증가된  물량을  다  소화하기에  한계가  있는 \\n\\n것도  사실. 특히  HBM3E  제품에 대한  고객들의 수요 예상보다 빠르게 증가. 레거시 \\n\\n테크를 빠르게  선단공정으로 전환해서 HBM3E  생산 확대에 최대한 집중할 계획 \\n\\n5.  최근  회사  및  고객들의  재고  상황  궁금.  DDR4나  DDR5  프리미엄  제품  좀  다르\\n\\n겠지만 재고 정상화 시점 언제로  보는지? \\n\\n-  3분기  말  PC와  모바일  고객사의  재고는  전분기  대비  비슷한  수준  유지.  서버  고\\n\\n객사는  양호한  수준으로  파악.  한편  PC,  모바일,  서버  등  전  응용처  막론하고 \\n\\nDDR5,  LPDDR5는  여전히  높은  수요  유지.  일반  디램  생산  확대  여력  제한적이기 \\n\\n때문에  DDR5  LPDDR5는  재고  타이트한  상황.  수요에  align된  유연한  생산계획을 \\n\\n통해서  레거시 재고를 조절해나가면 내년 상반기  정도에는 업계 전반에 레거시  재고\\n\\n가 건전한 수준으로 내려갈  것으로 전망 \\n\\n6.</td>\n",
       "      <td>./data/SK하이닉스/20241025_company_843926000.pdf</td>\n",
       "    </tr>\n",
       "  </tbody>\n",
       "</table>\n",
       "</div>"
      ],
      "text/plain": [
       "                                                         query                                                                                                                                                                                                                                                                                                                            generation_gt  \\\n",
       "0           글로벌 e-sports 대회 투자로 812억원의 예상 지급수수료는 몇 퍼센트 증가했습니까?                                                                                                                                                                                                                                                                         [글로벌 e-sports 대회 투자로 812억원의 예상 지급수수료는 YoY +15.0% 증가했습니다., 15.0%]   \n",
       "1                                    CJ제일제당의 2025년 매출액은 얼마인가요?                                                                                                                                                                                                                                                                                       [CJ제일제당의 2025년 매출액은 31,077.2 십억원 입니다., 31,077.2억원]   \n",
       "2                            양극재의 판매량과 판가에 대한 4분기 전망은 어떻게 되나요?                                                                                                                                                                                                                  [양극재의 판매량은 4분기에 전분기와 유사할 것으로 예상되며, 판가는 4분기에 전분기 대비 -10%의 하락이 예상됩니다., 양극재의 판매량은 전분기와 유사하게 유지되고, 판가는 전분기 대비 -10%로 예상됩니다.]   \n",
       "3                               SK하이닉스의 세전 계속사업이익은 어떻게 변화했습니까?                                                                                                                                                                                  [SK하이닉스의 세전 계속사업이익은 다음과 같이 변화했습니다:\\n- 4,003\\n- -3,525\\n- -3,788\\n- -2,470\\n- -1,875\\n- -11,658\\n- 2,373\\n- 5,052, 세전 계속사업이익은 4,003에서 -11,658으로 변화했습니다.]   \n",
       "4  HBM CAPA가 거의 다 Sold Out되었는데 내년 추가적인 수요가 있을 경우 어떻게 대응할 것인가요?  [HBM CAPA가 거의 다 Sold Out되었는데 내년 추가적인 수요가 있을 경우, 회사는 TSV CAPA를 작년 대비 2배 이상 늘리는 계획을 순조롭게 진행 중이며, 1b 나노 확대 역시 순조롭게 진행 중입니다. 그러나 당초 계획 대비 증가된 물량을 다 소화하기에 한계가 있을 수 있습니다. 특히 HBM3E 제품에 대한 고객들의 수요가 예상보다 빠르게 증가하고 있으며, 레거시 테크를 빠르게 선단공정으로 전환하여 HBM3E 생산 확대에 최대한 집중할 계획이 있습니다., TSV CAPA를 2배 이상 늘리는 계획을 순조롭게 진행 중이며, HBM3E 생산 확대에 집중할 계획이 있음.]   \n",
       "\n",
       "                                                                                                                                                                                                                                                                                                                                                                                                                                                                                                                                                                                                                                                                                                                                                                                                                                                                                                                                                                                                                                                                                                                                                                                                                                                                                                                                                                                                                                                                                                                                                                                                                                                                                                                                                                                                                                                                                                                                                                                                                                                              contents  \\\n",
       "0                                                                                                                                                                                                                                                                                                                                                                                                                                                                                                                                                                                                                                                                                                                                                                                                                                                                                             파일 제목: 크래프톤_교보증권_20240723.pdf\\n 내용: 영업비용  중  지급수수료는  글로벌  e-sports  대회  투자로  812억원(YoY  +15.0%, \\n\\n매출  대비  14.7%)  예상,  인건비는  인력증가분을  반영하며  1,270억원(YoY \\n\\n+23.0%),  마케팅비는 PUBG PC  관련 마케팅 집행으로 YoY +123.0%  증가하나 \\n\\n신작  마케팅이  본격화되지  않아  매출  대비  3.5%  수준에  머무르는  193억원  추정. \\n주식보상비용은 3월말 대비 주가 상승에 따라 213억원 발생 전망. \\n\\n투자의견 Buy, 목표주가 370,000원으로 상향 \\n\\n투자의견  Buy  유지,  목표주가를  370,000원(종전  330,000원)으로  상향.  목표주가 \\n\\n상향은  PUBG  PC  버전의  글로벌  트래픽이  높게  유지되고  있음을  반영해  2024년 \\n\\n지배주주순이익  추정치를  기존  대비  +6%  상향함에  따름.  차기  성장  동력  확보를 \\n\\n위한  공격적인  인력  채용,  e-sports에  대한  적극적인 투자가  이루어지고  있음에도 \\n\\n탑라인 성장 기반의 이익 성장이 이루어지고 있다는 점이 차별화되는 요소로 판단. \\n\\nPUBG IP가 언리얼엔진5 이관 및 콘솔 기반 출시를 준비하는 가운데 4Q24 ‘다크앤\\n\\n다커  모바일’  글로벌  출시,  쿠키런  인도  출시가  이루어져  2025년  그  수혜가  온기 \\n\\n반영될 것으로 예상하며, ‘inZOI’(라이프 시뮬레이션, PC/콘솔) 역시 1H25 정식 출\\n\\n시될 것으로 전망. ‘PUBG’, ‘다크앤다커 모바일’, ‘inZOI’ 3 종의 IP는 24년 8월 게\\n\\n임스컴에 참가하여 글로벌 관심도가 고양될 것으로 기대. \\n\\nForecast earnings & Valuation \\n\\n12 결산(십억원) \\n매출액(십억원) \\nYoY(%) \\n영업이익(십억원) \\nOP 마진(%) \\n순이익(십억원) \\nEPS(원) \\nYoY(%) \\nPER(배) \\nPCR(배) \\nPBR(배) \\nEV/EBITDA(배) \\nROE(%) \\n\\n2022.12 \\n1,854  \\n-1.7 \\n752  \\n40.   \n",
       "1                                                                                                                                                                                                             파일 제목: 20241024_company_608266000.pdf\\n 내용: Financial Data \\n\\n(십억원) \\n\\n매출액 \\n\\n영업이익 \\n\\n영업이익률(%) \\n\\n세전이익 \\n지배주주지분순이익 \\n\\nEPS(원) \\n\\n증감률(%) \\n\\nROE(%) \\nPER(배) \\n\\nPBR(배) \\n\\nEV/EBITDA(배) \\n\\n2021 \\n\\n26,289 \\n\\n1,524 \\n\\n5.8 \\n\\n1,218 \\n613 \\n\\n2022 \\n\\n30,080 \\n\\n1,665 \\n\\n5.5 \\n\\n1,246 \\n596 \\n\\n2023 \\n\\n29,023 \\n\\n1,292 \\n\\n4.5 \\n\\n732 \\n386 \\n\\n40,267 \\n\\n39,097 \\n\\n25,758 \\n\\n-10.9 \\n\\n10.8 \\n9.6 \\n\\n1.0 \\n\\n5.3 \\n\\n-2.9 \\n\\n9.3 \\n9.7 \\n\\n0.9 \\n\\n5.1 \\n\\n-34.1 \\n\\n5.6 \\n12.6 \\n\\n0.7 \\n\\n5.1 \\n\\n2024F \\n\\n29,603 \\n\\n1,566 \\n\\n5.3 \\n\\n979 \\n520 \\n\\n34,869 \\n\\n35.4 \\n\\n7.1 \\n7.9 \\n\\n0.6 \\n\\n4.9 \\n\\n2025F \\n\\n31,077 \\n\\n1,729 \\n\\n5.6 \\n\\n1,109 \\n588 \\n\\n39,489 \\n\\n13.3 \\n\\n7.6 \\n7.0 \\n\\n0.6 \\n\\n4.8 \\n\\n자료: CJ제일제당, DS투자증권 리서치센터, K-IFRS 연결기준 \\n\\n(%) \\n\\n1M \\n\\n3M \\n\\n6M \\n\\n주가차트 \\n\\n(원) \\n\\n500,000\\n\\n400,000\\n\\n300,000\\n\\n200,000\\n\\n100,000\\n\\n절대수익률 \\n\\n상대수익률 \\n\\n-11.5 \\n\\n-28.2 \\n\\n-19.0 \\n\\n-11.4 \\n\\n-21.9 \\n\\n-18.1 \\n\\nCJ제일제당 \\nrelative to KOSPI\\n\\n(pt) \\n\\n140\\n\\n120\\n\\n100\\n\\n80\\n\\n60\\n\\n0\\n23/10 24/01 24/04 24/07 24/10\\n\\n40\\n\\n \\n \\n \\n \\n \\n \\n \\n \\n \\n \\n \\n \\n \\n \\n \\n \\n \\n \\n \\n \\n \\n\n",
       "CJ제일제당 \\n\\n2024.10.24 \\n\\n표1  CJ제일제당 실적 테이블 \\n\\n(십억원, %) \\n\\n1Q23 \\n\\n2Q23 \\n\\n3Q23 \\n\\n4Q23 \\n\\n1Q24 \\n\\n2Q24 \\n\\n3Q24F \\n\\n4Q24F \\n\\n2022 \\n\\n2023 \\n\\n2024F \\n\\n2025F \\n\\n매출액 \\n\\nYoY \\n\\n1. 식품 \\n\\nYoY \\n\\n7,071.2  7,219.4  7,443.4  7,289.4  7,216.0  7,238.7  7,536.7  7,612.0  30,079.5  29,023.5  29,603.3  31,077.2 \\n\\n1.3% \\n\\n-4.0% \\n\\n-7.1% \\n\\n-3.7% \\n\\n2.0% \\n\\n0.3% \\n\\n1.3% \\n\\n4.4% \\n\\n14.4% \\n\\n-3.5% \\n\\n2.0% \\n\\n5.0% \\n\\n2,759.6  2,732.2  3,005.9  2,766.6  2,831.5  2,705.1  3,003.5  2,894.0  11,104.2  11,264.3  11,434.1  12,032.0 \\n\\n5.8% \\n\\n4.8% \\n\\n-1.6% \\n\\n-2.3% \\n\\n2.6% \\n\\n-1.0% \\n\\n-0.1% \\n\\n4.6% \\n\\n16.1% \\n\\n1.4% \\n\\n1.5% \\n\\n5.2% \\n\\n1-1.   \n",
       "2                                                                                                                                                                                                                                                                                                                                                                                                                                                                                                                                                                                                                                                                                                                                                                                                                                                                                                                                                                                                                                                                                                                                                                                                                                                                                                                                                                                                                                                                                                           파일 제목: 20241029_company_957781000.pdf\\n 내용: 양극재  판가(26.7달러/kg,  QoQ  -0.5%)  큰  변동없는  가운데, \\n4Q 물량 일부 풀 인(Pull-in) 효과로 판매량도 전분기와 유사. 생명과학 OP -10\\n억원으로 적자전환. 주요 제품 출하 호조에도 불구하고 R&D 비용 증가에 기인.  \\n\\n4Q24 Preveiw: 연말 재고조정 영향으로 적자전환 예상 \\n\\n4Q  예상  손익  -1,023억원으로  적자전환  전망.  석유화학부문  제품  스프레드 \\n개선 및 해상운임 하락 영향으로 흑전(4QE 23억원)하겠으나, LG에너지솔루션 \\n대규모 적자에 기인. 북미 시장 재고조정에 따른 수익성 악화 및 대규모 재고\\n평가손실  불가피.  이에  따라  동사의  양극재  판매량(QoQ -30%)  및  판가(QoQ \\n-10% )전망.  이외  IT/엔지니어링 소재  연말 재고조정  영향에  따른  수익성  감\\n소 영향으로 첨단소재부문 예상 OP 1,075억원으로 QoQ -28.3% 감익 추정.   \n",
       "3  파일 제목: 20241031_company_662317000.pdf\\n 내용: 8% \\n\\n17.7% \\n\\n12.7% \\n\\n12.9% \\n\\n1,993  \\n\\n-939  \\n\\n458  \\n\\n-131  \\n\\n584  \\n\\n142  \\n\\n544  \\n\\n169  \\n\\n678  \\n\\n2,265  \\n\\n-8  \\n\\n171  \\n\\n497  \\n\\n-86  \\n\\n493  \\n\\n-195  \\n\\n508  \\n\\n-66  \\n\\n728  \\n\\n-36  \\n\\n2,225  \\n\\n-384  \\n\\n-47.1% \\n\\n-28.7% \\n\\n24.3% \\n\\n31.1% \\n\\n-1.2% \\n\\n7.6% \\n\\n-17.3% \\n\\n-39.6% \\n\\n-13.0% \\n\\n-5.0% \\n\\n-17.2% \\n\\n  세전 계속사업이익 \\n\\n4,003  \\n\\n-3,525  \\n\\n-3,788  \\n\\n-2,470  \\n\\n-1,875  \\n\\n-11,658  \\n\\n2,373  \\n\\n5,052  \\n\\n  법인세 \\n\\n1,761  \\n\\n-940  \\n\\n-800  \\n\\n-285  \\n\\n-495  \\n\\n-2,520  \\n\\n456  \\n\\n932  \\n\\n6,879  \\n\\n1,126  \\n\\n7,060  \\n\\n21,364  \\n\\n1,420  \\n\\n3,934  \\n\\n  지배주주 순이익 \\n\\n2,230  \\n\\n-2,580  \\n\\n-2,991  \\n\\n-2,184  \\n\\n-1,357  \\n\\n-9,112  \\n\\n1,919  \\n\\n4,120  \\n\\n5,753  \\n\\n5,640  \\n\\n17,433  \\n\\n자료: SK하이닉스,  현대차증권. Solidigm  포함 \\n\\n2 \\n\\n \\n \\n \\n \\n \\n  \\n  \\n \\n \\n \\n \\n \\n \\n \\n \\n \\n \\n \\n \\n \\n \\n \\n \\n \\n \\n \\n \\n \\n \\n \\n \\n \\n \\n \\n \\n \\n \\n \\n \\n \\n \\n \\n \\n \\n \\n \\n\n",
       "<그림1> TSMC HPC 매출액 추이 \\n\\n<그림2> HBM시장 전망 \\n\\n자료: TSMC \\n\\n  자료: 현대차증권, Trend Force \\n\\n<그림3> SK하이닉스 DRAM 제품별 매출액 비중 \\n\\n<그림4> DRAM 업체 월별 Wafer Capa 추이 \\n\\n자료: SK하이닉스 \\n\\n  자료: Trend Force \\n\\n<그림5> CXMT의 신규 Fab 추이 \\n\\n<그림6> PC의 DRAM Content 증가율 \\n\\n자료: CXMT \\n\\n  자료: Trend Force \\n\\n3 \\n\\n036912151Q223Q221Q233Q231Q243Q243분기매출액QoQ로10.7% 증가(십억USD)010203040015304560202320242025F2026F시장규모DRAM내비중(우)(%)(십억USD)05001,0001,5002,0002,5001Q233Q231Q243Q241Q25F3Q25F삼성SK하이닉스MicronCXMT기타(Kpcs)81212912140369121520232024F2025FDesktopNotebook(%,YoY) \\n \\n \\n \\n \\n \\n \\n \\n \\n \\n \\n \\n \\n \\n \\n \\n \\n \\n \\n \\n \\n \\n \\n \\n \\n\n",
       "COMPANY REPORT \\n\\nESG Index & Summary Report \\n\\n<그림7> SK하이닉스 주요 ESG INDEX \\n환경(E) \\n\\n원  단위  온실가스  배출량 \\n\\n폐기물  재활용률 \\n\\n용수  재이용률 \\n\\n재생에너지  사용량 \\n\\n사회(S) \\n\\n임직원  평균  근속년수 \\n\\n여성  인력  비율 \\n\\n비정규직  근로자  비율 \\n\\n육아휴직  후  업무  복귀율 \\n\\n지배구조(G) \\n\\n주주구성  현황 \\n\\n이사회  구성 \\n\\n배당총액 \\n\\n이사  및  감사  보수 \\n\\n자료: SK하이닉스 지속가능경영보고서, 현대차증권 \\n\\n4 \\n\\n18.220.422.40510152025202120222023(/억원)94.   \n",
       "4                                                                                                                                                                                                                                                                                                                                                                                                                                                                                                                                                                                                                                                                                                                                                                                                                                                                                파일 제목: 20241025_company_843926000.pdf\\n 내용: HBM  신제품  개발을  위한  기술\\n\\n개발은  점점  더  어려워지고  있음.  고객이  원하는  제품을  적기에  충분히  공급하는  것\\n\\n이  쉽지  않아  보임.  내년에도  수요가  공급을  상회하는  형태  지속될  것.  고객들이  일\\n\\n반  DRAM과  달리  HBM에  대한  장기계약을  체결하려고  하는  것  역시  이런  상황을 \\n\\n반영한 것으로  보임 \\n\\nDS INVESTMENT & SECURITIES \\n5 \\n\\n \\n \\n \\n\n",
       "SK하이닉스 \\n\\n2024.10.25 \\n\\n4.   HBM  CAPA가 거의 다  Sold Out되었는데 내년. 추가적인 수요가  있을  경우 어\\n\\n떻게 대응할 것인지? \\n\\n-  AI  향  수요는  계속  늘어나고  있고  일부  고객들의  추가  물량  요청도  지속됨.  올해 \\n\\nTSV  CAPA를  작년  대비  2배  이상  늘리는  계획을  순조롭게  진행  중.  1b  나노  확대 \\n\\n역시  순조롭게  진행  중.  당초  계획  대비  증가된  물량을  다  소화하기에  한계가  있는 \\n\\n것도  사실. 특히  HBM3E  제품에 대한  고객들의 수요 예상보다 빠르게 증가. 레거시 \\n\\n테크를 빠르게  선단공정으로 전환해서 HBM3E  생산 확대에 최대한 집중할 계획 \\n\\n5.  최근  회사  및  고객들의  재고  상황  궁금.  DDR4나  DDR5  프리미엄  제품  좀  다르\\n\\n겠지만 재고 정상화 시점 언제로  보는지? \\n\\n-  3분기  말  PC와  모바일  고객사의  재고는  전분기  대비  비슷한  수준  유지.  서버  고\\n\\n객사는  양호한  수준으로  파악.  한편  PC,  모바일,  서버  등  전  응용처  막론하고 \\n\\nDDR5,  LPDDR5는  여전히  높은  수요  유지.  일반  디램  생산  확대  여력  제한적이기 \\n\\n때문에  DDR5  LPDDR5는  재고  타이트한  상황.  수요에  align된  유연한  생산계획을 \\n\\n통해서  레거시 재고를 조절해나가면 내년 상반기  정도에는 업계 전반에 레거시  재고\\n\\n가 건전한 수준으로 내려갈  것으로 전망 \\n\\n6.   \n",
       "\n",
       "                                                 path  \n",
       "0  ./data/크래프톤/크래프톤_교보증권_20240723.pdf  \n",
       "1  ./data/CJ제일제당/20241024_company_608266000.pdf  \n",
       "2       ./data/LG화학/20241029_company_957781000.pdf  \n",
       "3   ./data/SK하이닉스/20241031_company_662317000.pdf  \n",
       "4   ./data/SK하이닉스/20241025_company_843926000.pdf  "
      ]
     },
     "execution_count": 14,
     "metadata": {},
     "output_type": "execute_result"
    }
   ],
   "source": [
    "df_qa_sample"
   ]
  },
  {
   "cell_type": "code",
   "execution_count": 50,
   "metadata": {},
   "outputs": [],
   "source": [
    "df_qa_sample.loc[0, \"query\"] = (\n",
    "    \"크래프톤의 글로벌 e-sports 대회 투자로 예상 지급수수료 812억 원은 전년 대비 몇 퍼센트 증가했나요?\"\n",
    ")\n",
    "df_qa_sample.loc[2, \"query\"] = (\n",
    "    \"LG화학의 양극재 4분기 판매량과 판가 전망은 어떻게 되나요?\"\n",
    ")\n",
    "df_qa_sample.loc[4, \"query\"] = (\n",
    "    \"SK하이닉스는 HBM CAPA가 거의 다 판매된 상황에서, 내년 추가적인 수요에 어떻게 대응할 계획인가요?\"\n",
    ")"
   ]
  },
  {
   "cell_type": "code",
   "execution_count": 15,
   "metadata": {},
   "outputs": [
    {
     "data": {
      "text/html": [
       "<div>\n",
       "<style scoped>\n",
       "    .dataframe tbody tr th:only-of-type {\n",
       "        vertical-align: middle;\n",
       "    }\n",
       "\n",
       "    .dataframe tbody tr th {\n",
       "        vertical-align: top;\n",
       "    }\n",
       "\n",
       "    .dataframe thead th {\n",
       "        text-align: right;\n",
       "    }\n",
       "</style>\n",
       "<table border=\"1\" class=\"dataframe\">\n",
       "  <thead>\n",
       "    <tr style=\"text-align: right;\">\n",
       "      <th></th>\n",
       "      <th>query</th>\n",
       "      <th>generation_gt</th>\n",
       "      <th>contents</th>\n",
       "      <th>path</th>\n",
       "    </tr>\n",
       "  </thead>\n",
       "  <tbody>\n",
       "    <tr>\n",
       "      <th>0</th>\n",
       "      <td>글로벌 e-sports 대회 투자로 812억원의 예상 지급수수료는 몇 퍼센트 증가했습니까?</td>\n",
       "      <td>[글로벌 e-sports 대회 투자로 812억원의 예상 지급수수료는 YoY +15.0% 증가했습니다., 15.0%]</td>\n",
       "      <td>파일 제목: 크래프톤_교보증권_20240723.pdf\\n 내용: 영업비용  중  지급수수료는  글로벌  e-sports  대회  투자로  812억원(YoY  +15.0%, \\n\\n매출  대비  14.7%)  예상,  인건비는  인력증가분을  반영하며  1,270억원(YoY \\n\\n+23.0%),  마케팅비는 PUBG PC  관련 마케팅 집행으로 YoY +123.0%  증가하나 \\n\\n신작  마케팅이  본격화되지  않아  매출  대비  3.5%  수준에  머무르는  193억원  추정. \\n주식보상비용은 3월말 대비 주가 상승에 따라 213억원 발생 전망. \\n\\n투자의견 Buy, 목표주가 370,000원으로 상향 \\n\\n투자의견  Buy  유지,  목표주가를  370,000원(종전  330,000원)으로  상향.  목표주가 \\n\\n상향은  PUBG  PC  버전의  글로벌  트래픽이  높게  유지되고  있음을  반영해  2024년 \\n\\n지배주주순이익  추정치를  기존  대비  +6%  상향함에  따름.  차기  성장  동력  확보를 \\n\\n위한  공격적인  인력  채용,  e-sports에  대한  적극적인 투자가  이루어지고  있음에도 \\n\\n탑라인 성장 기반의 이익 성장이 이루어지고 있다는 점이 차별화되는 요소로 판단. \\n\\nPUBG IP가 언리얼엔진5 이관 및 콘솔 기반 출시를 준비하는 가운데 4Q24 ‘다크앤\\n\\n다커  모바일’  글로벌  출시,  쿠키런  인도  출시가  이루어져  2025년  그  수혜가  온기 \\n\\n반영될 것으로 예상하며, ‘inZOI’(라이프 시뮬레이션, PC/콘솔) 역시 1H25 정식 출\\n\\n시될 것으로 전망. ‘PUBG’, ‘다크앤다커 모바일’, ‘inZOI’ 3 종의 IP는 24년 8월 게\\n\\n임스컴에 참가하여 글로벌 관심도가 고양될 것으로 기대. \\n\\nForecast earnings &amp; Valuation \\n\\n12 결산(십억원) \\n매출액(십억원) \\nYoY(%) \\n영업이익(십억원) \\nOP 마진(%) \\n순이익(십억원) \\nEPS(원) \\nYoY(%) \\nPER(배) \\nPCR(배) \\nPBR(배) \\nEV/EBITDA(배) \\nROE(%) \\n\\n2022.12 \\n1,854  \\n-1.7 \\n752  \\n40.</td>\n",
       "      <td>./data/크래프톤/크래프톤_교보증권_20240723.pdf</td>\n",
       "    </tr>\n",
       "    <tr>\n",
       "      <th>1</th>\n",
       "      <td>CJ제일제당의 2025년 매출액은 얼마인가요?</td>\n",
       "      <td>[CJ제일제당의 2025년 매출액은 31,077.2 십억원 입니다., 31,077.2억원]</td>\n",
       "      <td>파일 제목: 20241024_company_608266000.pdf\\n 내용: Financial Data \\n\\n(십억원) \\n\\n매출액 \\n\\n영업이익 \\n\\n영업이익률(%) \\n\\n세전이익 \\n지배주주지분순이익 \\n\\nEPS(원) \\n\\n증감률(%) \\n\\nROE(%) \\nPER(배) \\n\\nPBR(배) \\n\\nEV/EBITDA(배) \\n\\n2021 \\n\\n26,289 \\n\\n1,524 \\n\\n5.8 \\n\\n1,218 \\n613 \\n\\n2022 \\n\\n30,080 \\n\\n1,665 \\n\\n5.5 \\n\\n1,246 \\n596 \\n\\n2023 \\n\\n29,023 \\n\\n1,292 \\n\\n4.5 \\n\\n732 \\n386 \\n\\n40,267 \\n\\n39,097 \\n\\n25,758 \\n\\n-10.9 \\n\\n10.8 \\n9.6 \\n\\n1.0 \\n\\n5.3 \\n\\n-2.9 \\n\\n9.3 \\n9.7 \\n\\n0.9 \\n\\n5.1 \\n\\n-34.1 \\n\\n5.6 \\n12.6 \\n\\n0.7 \\n\\n5.1 \\n\\n2024F \\n\\n29,603 \\n\\n1,566 \\n\\n5.3 \\n\\n979 \\n520 \\n\\n34,869 \\n\\n35.4 \\n\\n7.1 \\n7.9 \\n\\n0.6 \\n\\n4.9 \\n\\n2025F \\n\\n31,077 \\n\\n1,729 \\n\\n5.6 \\n\\n1,109 \\n588 \\n\\n39,489 \\n\\n13.3 \\n\\n7.6 \\n7.0 \\n\\n0.6 \\n\\n4.8 \\n\\n자료: CJ제일제당, DS투자증권 리서치센터, K-IFRS 연결기준 \\n\\n(%) \\n\\n1M \\n\\n3M \\n\\n6M \\n\\n주가차트 \\n\\n(원) \\n\\n500,000\\n\\n400,000\\n\\n300,000\\n\\n200,000\\n\\n100,000\\n\\n절대수익률 \\n\\n상대수익률 \\n\\n-11.5 \\n\\n-28.2 \\n\\n-19.0 \\n\\n-11.4 \\n\\n-21.9 \\n\\n-18.1 \\n\\nCJ제일제당 \\nrelative to KOSPI\\n\\n(pt) \\n\\n140\\n\\n120\\n\\n100\\n\\n80\\n\\n60\\n\\n0\\n23/10 24/01 24/04 24/07 24/10\\n\\n40\\n\\n \\n \\n \\n \\n \\n \\n \\n \\n \\n \\n \\n \\n \\n \\n \\n \\n \\n \\n \\n \\n \\n\fCJ제일제당 \\n\\n2024.10.24 \\n\\n표1  CJ제일제당 실적 테이블 \\n\\n(십억원, %) \\n\\n1Q23 \\n\\n2Q23 \\n\\n3Q23 \\n\\n4Q23 \\n\\n1Q24 \\n\\n2Q24 \\n\\n3Q24F \\n\\n4Q24F \\n\\n2022 \\n\\n2023 \\n\\n2024F \\n\\n2025F \\n\\n매출액 \\n\\nYoY \\n\\n1. 식품 \\n\\nYoY \\n\\n7,071.2  7,219.4  7,443.4  7,289.4  7,216.0  7,238.7  7,536.7  7,612.0  30,079.5  29,023.5  29,603.3  31,077.2 \\n\\n1.3% \\n\\n-4.0% \\n\\n-7.1% \\n\\n-3.7% \\n\\n2.0% \\n\\n0.3% \\n\\n1.3% \\n\\n4.4% \\n\\n14.4% \\n\\n-3.5% \\n\\n2.0% \\n\\n5.0% \\n\\n2,759.6  2,732.2  3,005.9  2,766.6  2,831.5  2,705.1  3,003.5  2,894.0  11,104.2  11,264.3  11,434.1  12,032.0 \\n\\n5.8% \\n\\n4.8% \\n\\n-1.6% \\n\\n-2.3% \\n\\n2.6% \\n\\n-1.0% \\n\\n-0.1% \\n\\n4.6% \\n\\n16.1% \\n\\n1.4% \\n\\n1.5% \\n\\n5.2% \\n\\n1-1.</td>\n",
       "      <td>./data/CJ제일제당/20241024_company_608266000.pdf</td>\n",
       "    </tr>\n",
       "    <tr>\n",
       "      <th>2</th>\n",
       "      <td>양극재의 판매량과 판가에 대한 4분기 전망은 어떻게 되나요?</td>\n",
       "      <td>[양극재의 판매량은 4분기에 전분기와 유사할 것으로 예상되며, 판가는 4분기에 전분기 대비 -10%의 하락이 예상됩니다., 양극재의 판매량은 전분기와 유사하게 유지되고, 판가는 전분기 대비 -10%로 예상됩니다.]</td>\n",
       "      <td>파일 제목: 20241029_company_957781000.pdf\\n 내용: 양극재  판가(26.7달러/kg,  QoQ  -0.5%)  큰  변동없는  가운데, \\n4Q 물량 일부 풀 인(Pull-in) 효과로 판매량도 전분기와 유사. 생명과학 OP -10\\n억원으로 적자전환. 주요 제품 출하 호조에도 불구하고 R&amp;D 비용 증가에 기인.  \\n\\n4Q24 Preveiw: 연말 재고조정 영향으로 적자전환 예상 \\n\\n4Q  예상  손익  -1,023억원으로  적자전환  전망.  석유화학부문  제품  스프레드 \\n개선 및 해상운임 하락 영향으로 흑전(4QE 23억원)하겠으나, LG에너지솔루션 \\n대규모 적자에 기인. 북미 시장 재고조정에 따른 수익성 악화 및 대규모 재고\\n평가손실  불가피.  이에  따라  동사의  양극재  판매량(QoQ -30%)  및  판가(QoQ \\n-10% )전망.  이외  IT/엔지니어링 소재  연말 재고조정  영향에  따른  수익성  감\\n소 영향으로 첨단소재부문 예상 OP 1,075억원으로 QoQ -28.3% 감익 추정.</td>\n",
       "      <td>./data/LG화학/20241029_company_957781000.pdf</td>\n",
       "    </tr>\n",
       "    <tr>\n",
       "      <th>3</th>\n",
       "      <td>SK하이닉스의 세전 계속사업이익은 어떻게 변화했습니까?</td>\n",
       "      <td>[SK하이닉스의 세전 계속사업이익은 다음과 같이 변화했습니다:\\n- 4,003\\n- -3,525\\n- -3,788\\n- -2,470\\n- -1,875\\n- -11,658\\n- 2,373\\n- 5,052, 세전 계속사업이익은 4,003에서 -11,658으로 변화했습니다.]</td>\n",
       "      <td>파일 제목: 20241031_company_662317000.pdf\\n 내용: 8% \\n\\n17.7% \\n\\n12.7% \\n\\n12.9% \\n\\n1,993  \\n\\n-939  \\n\\n458  \\n\\n-131  \\n\\n584  \\n\\n142  \\n\\n544  \\n\\n169  \\n\\n678  \\n\\n2,265  \\n\\n-8  \\n\\n171  \\n\\n497  \\n\\n-86  \\n\\n493  \\n\\n-195  \\n\\n508  \\n\\n-66  \\n\\n728  \\n\\n-36  \\n\\n2,225  \\n\\n-384  \\n\\n-47.1% \\n\\n-28.7% \\n\\n24.3% \\n\\n31.1% \\n\\n-1.2% \\n\\n7.6% \\n\\n-17.3% \\n\\n-39.6% \\n\\n-13.0% \\n\\n-5.0% \\n\\n-17.2% \\n\\n  세전 계속사업이익 \\n\\n4,003  \\n\\n-3,525  \\n\\n-3,788  \\n\\n-2,470  \\n\\n-1,875  \\n\\n-11,658  \\n\\n2,373  \\n\\n5,052  \\n\\n  법인세 \\n\\n1,761  \\n\\n-940  \\n\\n-800  \\n\\n-285  \\n\\n-495  \\n\\n-2,520  \\n\\n456  \\n\\n932  \\n\\n6,879  \\n\\n1,126  \\n\\n7,060  \\n\\n21,364  \\n\\n1,420  \\n\\n3,934  \\n\\n  지배주주 순이익 \\n\\n2,230  \\n\\n-2,580  \\n\\n-2,991  \\n\\n-2,184  \\n\\n-1,357  \\n\\n-9,112  \\n\\n1,919  \\n\\n4,120  \\n\\n5,753  \\n\\n5,640  \\n\\n17,433  \\n\\n자료: SK하이닉스,  현대차증권. Solidigm  포함 \\n\\n2 \\n\\n \\n \\n \\n \\n \\n  \\n  \\n \\n \\n \\n \\n \\n \\n \\n \\n \\n \\n \\n \\n \\n \\n \\n \\n \\n \\n \\n \\n \\n \\n \\n \\n \\n \\n \\n \\n \\n \\n \\n \\n \\n \\n \\n \\n \\n \\n \\n\f&lt;그림1&gt; TSMC HPC 매출액 추이 \\n\\n&lt;그림2&gt; HBM시장 전망 \\n\\n자료: TSMC \\n\\n  자료: 현대차증권, Trend Force \\n\\n&lt;그림3&gt; SK하이닉스 DRAM 제품별 매출액 비중 \\n\\n&lt;그림4&gt; DRAM 업체 월별 Wafer Capa 추이 \\n\\n자료: SK하이닉스 \\n\\n  자료: Trend Force \\n\\n&lt;그림5&gt; CXMT의 신규 Fab 추이 \\n\\n&lt;그림6&gt; PC의 DRAM Content 증가율 \\n\\n자료: CXMT \\n\\n  자료: Trend Force \\n\\n3 \\n\\n036912151Q223Q221Q233Q231Q243Q243분기매출액QoQ로10.7% 증가(십억USD)010203040015304560202320242025F2026F시장규모DRAM내비중(우)(%)(십억USD)05001,0001,5002,0002,5001Q233Q231Q243Q241Q25F3Q25F삼성SK하이닉스MicronCXMT기타(Kpcs)81212912140369121520232024F2025FDesktopNotebook(%,YoY) \\n \\n \\n \\n \\n \\n \\n \\n \\n \\n \\n \\n \\n \\n \\n \\n \\n \\n \\n \\n \\n \\n \\n \\n \\n\fCOMPANY REPORT \\n\\nESG Index &amp; Summary Report \\n\\n&lt;그림7&gt; SK하이닉스 주요 ESG INDEX \\n환경(E) \\n\\n원  단위  온실가스  배출량 \\n\\n폐기물  재활용률 \\n\\n용수  재이용률 \\n\\n재생에너지  사용량 \\n\\n사회(S) \\n\\n임직원  평균  근속년수 \\n\\n여성  인력  비율 \\n\\n비정규직  근로자  비율 \\n\\n육아휴직  후  업무  복귀율 \\n\\n지배구조(G) \\n\\n주주구성  현황 \\n\\n이사회  구성 \\n\\n배당총액 \\n\\n이사  및  감사  보수 \\n\\n자료: SK하이닉스 지속가능경영보고서, 현대차증권 \\n\\n4 \\n\\n18.220.422.40510152025202120222023(/억원)94.</td>\n",
       "      <td>./data/SK하이닉스/20241031_company_662317000.pdf</td>\n",
       "    </tr>\n",
       "    <tr>\n",
       "      <th>4</th>\n",
       "      <td>HBM CAPA가 거의 다 Sold Out되었는데 내년 추가적인 수요가 있을 경우 어떻게 대응할 것인가요?</td>\n",
       "      <td>[HBM CAPA가 거의 다 Sold Out되었는데 내년 추가적인 수요가 있을 경우, 회사는 TSV CAPA를 작년 대비 2배 이상 늘리는 계획을 순조롭게 진행 중이며, 1b 나노 확대 역시 순조롭게 진행 중입니다. 그러나 당초 계획 대비 증가된 물량을 다 소화하기에 한계가 있을 수 있습니다. 특히 HBM3E 제품에 대한 고객들의 수요가 예상보다 빠르게 증가하고 있으며, 레거시 테크를 빠르게 선단공정으로 전환하여 HBM3E 생산 확대에 최대한 집중할 계획이 있습니다., TSV CAPA를 2배 이상 늘리는 계획을 순조롭게 진행 중이며, HBM3E 생산 확대에 집중할 계획이 있음.]</td>\n",
       "      <td>파일 제목: 20241025_company_843926000.pdf\\n 내용: HBM  신제품  개발을  위한  기술\\n\\n개발은  점점  더  어려워지고  있음.  고객이  원하는  제품을  적기에  충분히  공급하는  것\\n\\n이  쉽지  않아  보임.  내년에도  수요가  공급을  상회하는  형태  지속될  것.  고객들이  일\\n\\n반  DRAM과  달리  HBM에  대한  장기계약을  체결하려고  하는  것  역시  이런  상황을 \\n\\n반영한 것으로  보임 \\n\\nDS INVESTMENT &amp; SECURITIES \\n5 \\n\\n \\n \\n \\n\fSK하이닉스 \\n\\n2024.10.25 \\n\\n4.   HBM  CAPA가 거의 다  Sold Out되었는데 내년. 추가적인 수요가  있을  경우 어\\n\\n떻게 대응할 것인지? \\n\\n-  AI  향  수요는  계속  늘어나고  있고  일부  고객들의  추가  물량  요청도  지속됨.  올해 \\n\\nTSV  CAPA를  작년  대비  2배  이상  늘리는  계획을  순조롭게  진행  중.  1b  나노  확대 \\n\\n역시  순조롭게  진행  중.  당초  계획  대비  증가된  물량을  다  소화하기에  한계가  있는 \\n\\n것도  사실. 특히  HBM3E  제품에 대한  고객들의 수요 예상보다 빠르게 증가. 레거시 \\n\\n테크를 빠르게  선단공정으로 전환해서 HBM3E  생산 확대에 최대한 집중할 계획 \\n\\n5.  최근  회사  및  고객들의  재고  상황  궁금.  DDR4나  DDR5  프리미엄  제품  좀  다르\\n\\n겠지만 재고 정상화 시점 언제로  보는지? \\n\\n-  3분기  말  PC와  모바일  고객사의  재고는  전분기  대비  비슷한  수준  유지.  서버  고\\n\\n객사는  양호한  수준으로  파악.  한편  PC,  모바일,  서버  등  전  응용처  막론하고 \\n\\nDDR5,  LPDDR5는  여전히  높은  수요  유지.  일반  디램  생산  확대  여력  제한적이기 \\n\\n때문에  DDR5  LPDDR5는  재고  타이트한  상황.  수요에  align된  유연한  생산계획을 \\n\\n통해서  레거시 재고를 조절해나가면 내년 상반기  정도에는 업계 전반에 레거시  재고\\n\\n가 건전한 수준으로 내려갈  것으로 전망 \\n\\n6.</td>\n",
       "      <td>./data/SK하이닉스/20241025_company_843926000.pdf</td>\n",
       "    </tr>\n",
       "  </tbody>\n",
       "</table>\n",
       "</div>"
      ],
      "text/plain": [
       "                                                         query                                                                                                                                                                                                                                                                                                                            generation_gt  \\\n",
       "0           글로벌 e-sports 대회 투자로 812억원의 예상 지급수수료는 몇 퍼센트 증가했습니까?                                                                                                                                                                                                                                                                         [글로벌 e-sports 대회 투자로 812억원의 예상 지급수수료는 YoY +15.0% 증가했습니다., 15.0%]   \n",
       "1                                    CJ제일제당의 2025년 매출액은 얼마인가요?                                                                                                                                                                                                                                                                                       [CJ제일제당의 2025년 매출액은 31,077.2 십억원 입니다., 31,077.2억원]   \n",
       "2                            양극재의 판매량과 판가에 대한 4분기 전망은 어떻게 되나요?                                                                                                                                                                                                                  [양극재의 판매량은 4분기에 전분기와 유사할 것으로 예상되며, 판가는 4분기에 전분기 대비 -10%의 하락이 예상됩니다., 양극재의 판매량은 전분기와 유사하게 유지되고, 판가는 전분기 대비 -10%로 예상됩니다.]   \n",
       "3                               SK하이닉스의 세전 계속사업이익은 어떻게 변화했습니까?                                                                                                                                                                                  [SK하이닉스의 세전 계속사업이익은 다음과 같이 변화했습니다:\\n- 4,003\\n- -3,525\\n- -3,788\\n- -2,470\\n- -1,875\\n- -11,658\\n- 2,373\\n- 5,052, 세전 계속사업이익은 4,003에서 -11,658으로 변화했습니다.]   \n",
       "4  HBM CAPA가 거의 다 Sold Out되었는데 내년 추가적인 수요가 있을 경우 어떻게 대응할 것인가요?  [HBM CAPA가 거의 다 Sold Out되었는데 내년 추가적인 수요가 있을 경우, 회사는 TSV CAPA를 작년 대비 2배 이상 늘리는 계획을 순조롭게 진행 중이며, 1b 나노 확대 역시 순조롭게 진행 중입니다. 그러나 당초 계획 대비 증가된 물량을 다 소화하기에 한계가 있을 수 있습니다. 특히 HBM3E 제품에 대한 고객들의 수요가 예상보다 빠르게 증가하고 있으며, 레거시 테크를 빠르게 선단공정으로 전환하여 HBM3E 생산 확대에 최대한 집중할 계획이 있습니다., TSV CAPA를 2배 이상 늘리는 계획을 순조롭게 진행 중이며, HBM3E 생산 확대에 집중할 계획이 있음.]   \n",
       "\n",
       "                                                                                                                                                                                                                                                                                                                                                                                                                                                                                                                                                                                                                                                                                                                                                                                                                                                                                                                                                                                                                                                                                                                                                                                                                                                                                                                                                                                                                                                                                                                                                                                                                                                                                                                                                                                                                                                                                                                                                                                                                                                              contents  \\\n",
       "0                                                                                                                                                                                                                                                                                                                                                                                                                                                                                                                                                                                                                                                                                                                                                                                                                                                                                             파일 제목: 크래프톤_교보증권_20240723.pdf\\n 내용: 영업비용  중  지급수수료는  글로벌  e-sports  대회  투자로  812억원(YoY  +15.0%, \\n\\n매출  대비  14.7%)  예상,  인건비는  인력증가분을  반영하며  1,270억원(YoY \\n\\n+23.0%),  마케팅비는 PUBG PC  관련 마케팅 집행으로 YoY +123.0%  증가하나 \\n\\n신작  마케팅이  본격화되지  않아  매출  대비  3.5%  수준에  머무르는  193억원  추정. \\n주식보상비용은 3월말 대비 주가 상승에 따라 213억원 발생 전망. \\n\\n투자의견 Buy, 목표주가 370,000원으로 상향 \\n\\n투자의견  Buy  유지,  목표주가를  370,000원(종전  330,000원)으로  상향.  목표주가 \\n\\n상향은  PUBG  PC  버전의  글로벌  트래픽이  높게  유지되고  있음을  반영해  2024년 \\n\\n지배주주순이익  추정치를  기존  대비  +6%  상향함에  따름.  차기  성장  동력  확보를 \\n\\n위한  공격적인  인력  채용,  e-sports에  대한  적극적인 투자가  이루어지고  있음에도 \\n\\n탑라인 성장 기반의 이익 성장이 이루어지고 있다는 점이 차별화되는 요소로 판단. \\n\\nPUBG IP가 언리얼엔진5 이관 및 콘솔 기반 출시를 준비하는 가운데 4Q24 ‘다크앤\\n\\n다커  모바일’  글로벌  출시,  쿠키런  인도  출시가  이루어져  2025년  그  수혜가  온기 \\n\\n반영될 것으로 예상하며, ‘inZOI’(라이프 시뮬레이션, PC/콘솔) 역시 1H25 정식 출\\n\\n시될 것으로 전망. ‘PUBG’, ‘다크앤다커 모바일’, ‘inZOI’ 3 종의 IP는 24년 8월 게\\n\\n임스컴에 참가하여 글로벌 관심도가 고양될 것으로 기대. \\n\\nForecast earnings & Valuation \\n\\n12 결산(십억원) \\n매출액(십억원) \\nYoY(%) \\n영업이익(십억원) \\nOP 마진(%) \\n순이익(십억원) \\nEPS(원) \\nYoY(%) \\nPER(배) \\nPCR(배) \\nPBR(배) \\nEV/EBITDA(배) \\nROE(%) \\n\\n2022.12 \\n1,854  \\n-1.7 \\n752  \\n40.   \n",
       "1                                                                                                                                                                                                             파일 제목: 20241024_company_608266000.pdf\\n 내용: Financial Data \\n\\n(십억원) \\n\\n매출액 \\n\\n영업이익 \\n\\n영업이익률(%) \\n\\n세전이익 \\n지배주주지분순이익 \\n\\nEPS(원) \\n\\n증감률(%) \\n\\nROE(%) \\nPER(배) \\n\\nPBR(배) \\n\\nEV/EBITDA(배) \\n\\n2021 \\n\\n26,289 \\n\\n1,524 \\n\\n5.8 \\n\\n1,218 \\n613 \\n\\n2022 \\n\\n30,080 \\n\\n1,665 \\n\\n5.5 \\n\\n1,246 \\n596 \\n\\n2023 \\n\\n29,023 \\n\\n1,292 \\n\\n4.5 \\n\\n732 \\n386 \\n\\n40,267 \\n\\n39,097 \\n\\n25,758 \\n\\n-10.9 \\n\\n10.8 \\n9.6 \\n\\n1.0 \\n\\n5.3 \\n\\n-2.9 \\n\\n9.3 \\n9.7 \\n\\n0.9 \\n\\n5.1 \\n\\n-34.1 \\n\\n5.6 \\n12.6 \\n\\n0.7 \\n\\n5.1 \\n\\n2024F \\n\\n29,603 \\n\\n1,566 \\n\\n5.3 \\n\\n979 \\n520 \\n\\n34,869 \\n\\n35.4 \\n\\n7.1 \\n7.9 \\n\\n0.6 \\n\\n4.9 \\n\\n2025F \\n\\n31,077 \\n\\n1,729 \\n\\n5.6 \\n\\n1,109 \\n588 \\n\\n39,489 \\n\\n13.3 \\n\\n7.6 \\n7.0 \\n\\n0.6 \\n\\n4.8 \\n\\n자료: CJ제일제당, DS투자증권 리서치센터, K-IFRS 연결기준 \\n\\n(%) \\n\\n1M \\n\\n3M \\n\\n6M \\n\\n주가차트 \\n\\n(원) \\n\\n500,000\\n\\n400,000\\n\\n300,000\\n\\n200,000\\n\\n100,000\\n\\n절대수익률 \\n\\n상대수익률 \\n\\n-11.5 \\n\\n-28.2 \\n\\n-19.0 \\n\\n-11.4 \\n\\n-21.9 \\n\\n-18.1 \\n\\nCJ제일제당 \\nrelative to KOSPI\\n\\n(pt) \\n\\n140\\n\\n120\\n\\n100\\n\\n80\\n\\n60\\n\\n0\\n23/10 24/01 24/04 24/07 24/10\\n\\n40\\n\\n \\n \\n \\n \\n \\n \\n \\n \\n \\n \\n \\n \\n \\n \\n \\n \\n \\n \\n \\n \\n \\n\n",
       "CJ제일제당 \\n\\n2024.10.24 \\n\\n표1  CJ제일제당 실적 테이블 \\n\\n(십억원, %) \\n\\n1Q23 \\n\\n2Q23 \\n\\n3Q23 \\n\\n4Q23 \\n\\n1Q24 \\n\\n2Q24 \\n\\n3Q24F \\n\\n4Q24F \\n\\n2022 \\n\\n2023 \\n\\n2024F \\n\\n2025F \\n\\n매출액 \\n\\nYoY \\n\\n1. 식품 \\n\\nYoY \\n\\n7,071.2  7,219.4  7,443.4  7,289.4  7,216.0  7,238.7  7,536.7  7,612.0  30,079.5  29,023.5  29,603.3  31,077.2 \\n\\n1.3% \\n\\n-4.0% \\n\\n-7.1% \\n\\n-3.7% \\n\\n2.0% \\n\\n0.3% \\n\\n1.3% \\n\\n4.4% \\n\\n14.4% \\n\\n-3.5% \\n\\n2.0% \\n\\n5.0% \\n\\n2,759.6  2,732.2  3,005.9  2,766.6  2,831.5  2,705.1  3,003.5  2,894.0  11,104.2  11,264.3  11,434.1  12,032.0 \\n\\n5.8% \\n\\n4.8% \\n\\n-1.6% \\n\\n-2.3% \\n\\n2.6% \\n\\n-1.0% \\n\\n-0.1% \\n\\n4.6% \\n\\n16.1% \\n\\n1.4% \\n\\n1.5% \\n\\n5.2% \\n\\n1-1.   \n",
       "2                                                                                                                                                                                                                                                                                                                                                                                                                                                                                                                                                                                                                                                                                                                                                                                                                                                                                                                                                                                                                                                                                                                                                                                                                                                                                                                                                                                                                                                                                                           파일 제목: 20241029_company_957781000.pdf\\n 내용: 양극재  판가(26.7달러/kg,  QoQ  -0.5%)  큰  변동없는  가운데, \\n4Q 물량 일부 풀 인(Pull-in) 효과로 판매량도 전분기와 유사. 생명과학 OP -10\\n억원으로 적자전환. 주요 제품 출하 호조에도 불구하고 R&D 비용 증가에 기인.  \\n\\n4Q24 Preveiw: 연말 재고조정 영향으로 적자전환 예상 \\n\\n4Q  예상  손익  -1,023억원으로  적자전환  전망.  석유화학부문  제품  스프레드 \\n개선 및 해상운임 하락 영향으로 흑전(4QE 23억원)하겠으나, LG에너지솔루션 \\n대규모 적자에 기인. 북미 시장 재고조정에 따른 수익성 악화 및 대규모 재고\\n평가손실  불가피.  이에  따라  동사의  양극재  판매량(QoQ -30%)  및  판가(QoQ \\n-10% )전망.  이외  IT/엔지니어링 소재  연말 재고조정  영향에  따른  수익성  감\\n소 영향으로 첨단소재부문 예상 OP 1,075억원으로 QoQ -28.3% 감익 추정.   \n",
       "3  파일 제목: 20241031_company_662317000.pdf\\n 내용: 8% \\n\\n17.7% \\n\\n12.7% \\n\\n12.9% \\n\\n1,993  \\n\\n-939  \\n\\n458  \\n\\n-131  \\n\\n584  \\n\\n142  \\n\\n544  \\n\\n169  \\n\\n678  \\n\\n2,265  \\n\\n-8  \\n\\n171  \\n\\n497  \\n\\n-86  \\n\\n493  \\n\\n-195  \\n\\n508  \\n\\n-66  \\n\\n728  \\n\\n-36  \\n\\n2,225  \\n\\n-384  \\n\\n-47.1% \\n\\n-28.7% \\n\\n24.3% \\n\\n31.1% \\n\\n-1.2% \\n\\n7.6% \\n\\n-17.3% \\n\\n-39.6% \\n\\n-13.0% \\n\\n-5.0% \\n\\n-17.2% \\n\\n  세전 계속사업이익 \\n\\n4,003  \\n\\n-3,525  \\n\\n-3,788  \\n\\n-2,470  \\n\\n-1,875  \\n\\n-11,658  \\n\\n2,373  \\n\\n5,052  \\n\\n  법인세 \\n\\n1,761  \\n\\n-940  \\n\\n-800  \\n\\n-285  \\n\\n-495  \\n\\n-2,520  \\n\\n456  \\n\\n932  \\n\\n6,879  \\n\\n1,126  \\n\\n7,060  \\n\\n21,364  \\n\\n1,420  \\n\\n3,934  \\n\\n  지배주주 순이익 \\n\\n2,230  \\n\\n-2,580  \\n\\n-2,991  \\n\\n-2,184  \\n\\n-1,357  \\n\\n-9,112  \\n\\n1,919  \\n\\n4,120  \\n\\n5,753  \\n\\n5,640  \\n\\n17,433  \\n\\n자료: SK하이닉스,  현대차증권. Solidigm  포함 \\n\\n2 \\n\\n \\n \\n \\n \\n \\n  \\n  \\n \\n \\n \\n \\n \\n \\n \\n \\n \\n \\n \\n \\n \\n \\n \\n \\n \\n \\n \\n \\n \\n \\n \\n \\n \\n \\n \\n \\n \\n \\n \\n \\n \\n \\n \\n \\n \\n \\n \\n\n",
       "<그림1> TSMC HPC 매출액 추이 \\n\\n<그림2> HBM시장 전망 \\n\\n자료: TSMC \\n\\n  자료: 현대차증권, Trend Force \\n\\n<그림3> SK하이닉스 DRAM 제품별 매출액 비중 \\n\\n<그림4> DRAM 업체 월별 Wafer Capa 추이 \\n\\n자료: SK하이닉스 \\n\\n  자료: Trend Force \\n\\n<그림5> CXMT의 신규 Fab 추이 \\n\\n<그림6> PC의 DRAM Content 증가율 \\n\\n자료: CXMT \\n\\n  자료: Trend Force \\n\\n3 \\n\\n036912151Q223Q221Q233Q231Q243Q243분기매출액QoQ로10.7% 증가(십억USD)010203040015304560202320242025F2026F시장규모DRAM내비중(우)(%)(십억USD)05001,0001,5002,0002,5001Q233Q231Q243Q241Q25F3Q25F삼성SK하이닉스MicronCXMT기타(Kpcs)81212912140369121520232024F2025FDesktopNotebook(%,YoY) \\n \\n \\n \\n \\n \\n \\n \\n \\n \\n \\n \\n \\n \\n \\n \\n \\n \\n \\n \\n \\n \\n \\n \\n \\n\n",
       "COMPANY REPORT \\n\\nESG Index & Summary Report \\n\\n<그림7> SK하이닉스 주요 ESG INDEX \\n환경(E) \\n\\n원  단위  온실가스  배출량 \\n\\n폐기물  재활용률 \\n\\n용수  재이용률 \\n\\n재생에너지  사용량 \\n\\n사회(S) \\n\\n임직원  평균  근속년수 \\n\\n여성  인력  비율 \\n\\n비정규직  근로자  비율 \\n\\n육아휴직  후  업무  복귀율 \\n\\n지배구조(G) \\n\\n주주구성  현황 \\n\\n이사회  구성 \\n\\n배당총액 \\n\\n이사  및  감사  보수 \\n\\n자료: SK하이닉스 지속가능경영보고서, 현대차증권 \\n\\n4 \\n\\n18.220.422.40510152025202120222023(/억원)94.   \n",
       "4                                                                                                                                                                                                                                                                                                                                                                                                                                                                                                                                                                                                                                                                                                                                                                                                                                                                                파일 제목: 20241025_company_843926000.pdf\\n 내용: HBM  신제품  개발을  위한  기술\\n\\n개발은  점점  더  어려워지고  있음.  고객이  원하는  제품을  적기에  충분히  공급하는  것\\n\\n이  쉽지  않아  보임.  내년에도  수요가  공급을  상회하는  형태  지속될  것.  고객들이  일\\n\\n반  DRAM과  달리  HBM에  대한  장기계약을  체결하려고  하는  것  역시  이런  상황을 \\n\\n반영한 것으로  보임 \\n\\nDS INVESTMENT & SECURITIES \\n5 \\n\\n \\n \\n \\n\n",
       "SK하이닉스 \\n\\n2024.10.25 \\n\\n4.   HBM  CAPA가 거의 다  Sold Out되었는데 내년. 추가적인 수요가  있을  경우 어\\n\\n떻게 대응할 것인지? \\n\\n-  AI  향  수요는  계속  늘어나고  있고  일부  고객들의  추가  물량  요청도  지속됨.  올해 \\n\\nTSV  CAPA를  작년  대비  2배  이상  늘리는  계획을  순조롭게  진행  중.  1b  나노  확대 \\n\\n역시  순조롭게  진행  중.  당초  계획  대비  증가된  물량을  다  소화하기에  한계가  있는 \\n\\n것도  사실. 특히  HBM3E  제품에 대한  고객들의 수요 예상보다 빠르게 증가. 레거시 \\n\\n테크를 빠르게  선단공정으로 전환해서 HBM3E  생산 확대에 최대한 집중할 계획 \\n\\n5.  최근  회사  및  고객들의  재고  상황  궁금.  DDR4나  DDR5  프리미엄  제품  좀  다르\\n\\n겠지만 재고 정상화 시점 언제로  보는지? \\n\\n-  3분기  말  PC와  모바일  고객사의  재고는  전분기  대비  비슷한  수준  유지.  서버  고\\n\\n객사는  양호한  수준으로  파악.  한편  PC,  모바일,  서버  등  전  응용처  막론하고 \\n\\nDDR5,  LPDDR5는  여전히  높은  수요  유지.  일반  디램  생산  확대  여력  제한적이기 \\n\\n때문에  DDR5  LPDDR5는  재고  타이트한  상황.  수요에  align된  유연한  생산계획을 \\n\\n통해서  레거시 재고를 조절해나가면 내년 상반기  정도에는 업계 전반에 레거시  재고\\n\\n가 건전한 수준으로 내려갈  것으로 전망 \\n\\n6.   \n",
       "\n",
       "                                                 path  \n",
       "0  ./data/크래프톤/크래프톤_교보증권_20240723.pdf  \n",
       "1  ./data/CJ제일제당/20241024_company_608266000.pdf  \n",
       "2       ./data/LG화학/20241029_company_957781000.pdf  \n",
       "3   ./data/SK하이닉스/20241031_company_662317000.pdf  \n",
       "4   ./data/SK하이닉스/20241025_company_843926000.pdf  "
      ]
     },
     "execution_count": 15,
     "metadata": {},
     "output_type": "execute_result"
    }
   ],
   "source": [
    "df_qa_sample"
   ]
  },
  {
   "cell_type": "code",
   "execution_count": 18,
   "metadata": {},
   "outputs": [],
   "source": [
    "df_qa_sample.to_csv(\"./sample_qa.csv\")"
   ]
  },
  {
   "cell_type": "code",
   "execution_count": null,
   "metadata": {},
   "outputs": [],
   "source": []
  }
 ],
 "metadata": {
  "kernelspec": {
   "display_name": "naver-boostcamp-autorag-AUsRp4k1-py3.11",
   "language": "python",
   "name": "python3"
  },
  "language_info": {
   "codemirror_mode": {
    "name": "ipython",
    "version": 3
   },
   "file_extension": ".py",
   "mimetype": "text/x-python",
   "name": "python",
   "nbconvert_exporter": "python",
   "pygments_lexer": "ipython3",
   "version": "3.11.5"
  }
 },
 "nbformat": 4,
 "nbformat_minor": 2
}
