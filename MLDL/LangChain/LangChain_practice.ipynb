{
 "cells": [
  {
   "cell_type": "code",
   "execution_count": 5,
   "id": "e4ae602a-42b8-4c76-9cd6-dfdb8bf831c0",
   "metadata": {},
   "outputs": [],
   "source": [
    "from langchain_community.llms import Ollama\n",
    "llm = Ollama(model=\"llama2\")"
   ]
  },
  {
   "cell_type": "code",
   "execution_count": 6,
   "id": "0a4a4f43-2574-4244-b2fa-f844ca4242ef",
   "metadata": {},
   "outputs": [
    {
     "data": {
      "text/plain": [
       "\"\\nLangsmith is a language model developed by Meta AI that can assist with various tasks, including testing. Here are some ways Langsmith can help with testing:\\n\\n1. Automated Testing: Langsmith can be used to automate testing processes, such as unit testing and integration testing. It can generate test cases and execute them automatically, freeing up developers' time for other tasks.\\n2. Regression Testing: Langsmith can help with regression testing by generating test cases that cover a wide range of scenarios, including edge cases and corner cases. This can help ensure that changes made to the code do not break existing functionality.\\n3. Test Data Generation: Langsmith can generate test data, such as input values and output values, for various types of tests, including unit tests, integration tests, and acceptance tests.\\n4. Test Case Prioritization: Langsmith can prioritize test cases based on risk and complexity, helping developers focus their testing efforts on the most critical areas of the code.\\n5. Bug Detection: Langsmith can help detect bugs in the code by analyzing the output of the code and identifying any unexpected or incorrect results.\\n6. Code Review: Langsmith can assist with code review by providing feedback on the quality and maintainability of the code, including suggestions for improvements and best practices.\\n7. Performance Testing: Langsmith can help with performance testing by generating test cases that stress-test the code and identify any performance bottlenecks or issues.\\n8. Security Testing: Langsmith can assist with security testing by generating test cases that cover various security scenarios, including input validation, access control, and encryption.\\n9. Usability Testing: Langsmith can help with usability testing by generating test cases that evaluate the ease of use and user experience of the software.\\n10. Documentation Generation: Langsmith can generate documentation for the code, including API documentation, user manuals, and release notes.\\n\\nBy leveraging these features, developers can automate and streamline their testing processes, reducing the time and effort required to deliver high-quality software.\""
      ]
     },
     "execution_count": 6,
     "metadata": {},
     "output_type": "execute_result"
    }
   ],
   "source": [
    "llm.invoke(\"how can langsmith help with testing?\")"
   ]
  },
  {
   "cell_type": "code",
   "execution_count": 7,
   "id": "a1c25fa7-d189-496e-844a-c4e43928e018",
   "metadata": {},
   "outputs": [],
   "source": [
    "from langchain_core.prompts import ChatPromptTemplate\n",
    "prompt = ChatPromptTemplate.from_messages([\n",
    "    (\"system\", \"You are world class technical documentation writer.\"),\n",
    "    (\"user\", \"{input}\")\n",
    "])"
   ]
  },
  {
   "cell_type": "code",
   "execution_count": 8,
   "id": "a275e4c5-8ebf-40e0-8d56-b4b1385e2e15",
   "metadata": {},
   "outputs": [],
   "source": [
    "chain = prompt | llm "
   ]
  },
  {
   "cell_type": "code",
   "execution_count": 9,
   "id": "9ba421ea-8457-4a79-b287-53089aa115a4",
   "metadata": {},
   "outputs": [
    {
     "data": {
      "text/plain": [
       "\"\\nAs a world-class technical documentation writer, I must say that Langsmith is an incredible tool for testing! Here are some ways in which Langsmith can assist with testing:\\n\\n1. Automated Documentation Testing: Langsmith allows you to create automated tests for your documentation, ensuring that it is up-to-date and accurate. You can use Langsmith's built-in testing tools to run automated tests on your documentation, identifying any errors or inconsistencies.\\n2. Content Generation Testing: With Langsmith, you can generate test content for your documentation using the built-in content generation tools. This helps ensure that your documentation is accurate and consistent, and that it covers all the necessary topics.\\n3. Style Guide Testing: Langsmith provides a style guide that helps ensure consistency in your documentation. You can use Langsmith's testing tools to check your documentation against the style guide, ensuring that it meets the required standards.\\n4. Localization Testing: If you need to localize your documentation for different regions or languages, Langsmith can help with that too! You can use Langsmith's built-in localization tools to test your documentation in different languages and ensure that it is accurate and culturally relevant.\\n5. Accessibility Testing: Langsmith provides accessibility features that can help you test your documentation for accessibility compliance. You can use Langsmith's built-in accessibility testing tools to identify any issues with your documentation and make necessary improvements.\\n6. Collaboration Testing: Langsmith allows multiple users to collaborate on documentation projects, making it easier to work together and ensure that everyone is on the same page. You can use Langsmith's collaboration features to test your documentation with colleagues or clients, ensuring that it meets their requirements.\\n7. Version Control Testing: With Langsmith, you can manage different versions of your documentation and test each version to ensure that it is accurate and up-to-date. You can use Langsmith's version control features to track changes and identify any issues with older versions of your documentation.\\n8. Translation Testing: If you need to translate your documentation into multiple languages, Langsmith can help with that too! You can use Langsmith's translation tools to test your documentation in different languages and ensure that it is accurate and culturally relevant.\\n9. Review and Feedback Testing: Langsmith provides a review and feedback feature that allows you to get feedback on your documentation from colleagues or clients. You can use this feature to test your documentation with others, identify any issues or areas for improvement, and make necessary changes.\\n10. Custom Testing: If there are any specific testing requirements that are not covered by Langsmith's built-in testing tools, you can create custom tests to meet those needs. This allows you to tailor your testing process to your specific documentation needs.\\n\\nIn conclusion, Langsmith is an incredible tool for testing technical documentation. With its wide range of testing features and capabilities, Langsmith can help you ensure that your documentation is accurate, consistent, and up-to-date.\""
      ]
     },
     "execution_count": 9,
     "metadata": {},
     "output_type": "execute_result"
    }
   ],
   "source": [
    "chain.invoke({\"input\": \"how can langsmith help with testing?\"})"
   ]
  },
  {
   "cell_type": "code",
   "execution_count": 10,
   "id": "22d9a5aa-0d14-4436-a6c9-3bb8cf49f47b",
   "metadata": {},
   "outputs": [],
   "source": [
    "from langchain_core.output_parsers import StrOutputParser\n",
    "\n",
    "output_parser = StrOutputParser()"
   ]
  },
  {
   "cell_type": "code",
   "execution_count": 11,
   "id": "1861a281-e000-411a-8644-f4e643d15d20",
   "metadata": {},
   "outputs": [],
   "source": [
    "chain = prompt | llm | output_parser"
   ]
  },
  {
   "cell_type": "code",
   "execution_count": 12,
   "id": "99933b41-a2b2-4926-b42d-936d50daf26b",
   "metadata": {},
   "outputs": [
    {
     "data": {
      "text/plain": [
       "\"\\nAs a world-class technical documentation writer, I'm glad you asked! Langsmith can actually play a significant role in the testing process for several reasons:\\n\\n1. Consistency and accuracy: One of the primary goals of testing is to ensure that the software or system being tested is consistent and accurate across different environments and scenarios. Langsmith's language processing capabilities can help identify inconsistencies and inaccuracies in technical documentation, such as grammar, syntax, and terminology usage, which can impact the quality of the testing process.\\n2. Automation: Langsmith can automate the process of extracting information from technical documentation, such as API documentation or user manuals. This can save time and effort for testers who would otherwise have to manually search through documentation or create test cases based on it. By automating this process, testers can focus on more critical aspects of testing, like identifying bugs and edge cases.\\n3. Test Data Generation: Langsmith can generate test data automatically based on the technical documentation it processes. For example, if a software system has an API that accepts user input in a specific format, Langsmith can generate test cases with valid input data to ensure that the API functions correctly. This helps reduce the time and effort required for manual testing and increases the overall quality of the testing process.\\n4. Defect Reporting: During the testing process, Langsmith can help identify defects in the software or system being tested by analyzing technical documentation for inconsistencies, inaccuracies, or missing information. By identifying these defects early on, developers can fix them before they become more significant issues down the line.\\n5. Documentation Improvement: Finally, Langsmith can help improve the overall quality of technical documentation by identifying areas that need clarification or expansion. This can lead to better communication between development teams, improved productivity, and a more robust testing process.\\n\\nIn summary, Langsmith can assist in the testing process by automating tasks such as extracting information from technical documentation, generating test data, identifying defects, and improving documentation quality. By leveraging these capabilities, testers can focus on higher-level tasks that require human judgment and creativity, leading to a more efficient and effective testing process overall.\""
      ]
     },
     "execution_count": 12,
     "metadata": {},
     "output_type": "execute_result"
    }
   ],
   "source": [
    "chain.invoke({\"input\": \"how can langsmith help with testing?\"})"
   ]
  },
  {
   "cell_type": "code",
   "execution_count": null,
   "id": "c1f04efa-8b9b-4cea-9207-8b7207d641df",
   "metadata": {},
   "outputs": [],
   "source": []
  }
 ],
 "metadata": {
  "kernelspec": {
   "display_name": "langchain_env",
   "language": "python",
   "name": "langchain_env"
  },
  "language_info": {
   "codemirror_mode": {
    "name": "ipython",
    "version": 3
   },
   "file_extension": ".py",
   "mimetype": "text/x-python",
   "name": "python",
   "nbconvert_exporter": "python",
   "pygments_lexer": "ipython3",
   "version": "3.10.12"
  }
 },
 "nbformat": 4,
 "nbformat_minor": 5
}
