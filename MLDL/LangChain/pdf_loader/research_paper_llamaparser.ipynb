{
 "cells": [
  {
   "cell_type": "code",
   "execution_count": 1,
   "metadata": {},
   "outputs": [
    {
     "data": {
      "text/plain": [
       "True"
      ]
     },
     "execution_count": 1,
     "metadata": {},
     "output_type": "execute_result"
    }
   ],
   "source": [
    "from dotenv import find_dotenv, load_dotenv\n",
    "\n",
    "load_dotenv(find_dotenv())"
   ]
  },
  {
   "cell_type": "code",
   "execution_count": 2,
   "metadata": {},
   "outputs": [],
   "source": [
    "# bring in deps\n",
    "from llama_parse import LlamaParse\n",
    "from llama_index.core import SimpleDirectoryReader"
   ]
  },
  {
   "cell_type": "code",
   "execution_count": 3,
   "metadata": {},
   "outputs": [],
   "source": [
    "import os\n",
    "import nest_asyncio\n",
    "\n",
    "# Allow async\n",
    "nest_asyncio.apply()"
   ]
  },
  {
   "cell_type": "code",
   "execution_count": 4,
   "metadata": {},
   "outputs": [],
   "source": [
    "# Set file path\n",
    "FILE_PATH = \"/Users/syshin/Desktop/Syshin/LabQ/한국자동차연구원/data/논문/KSAE 학술대회 논문 모음집/2020년/2. 추계/Data/20AKSAE_A004.pdf\"  # modify to your file path"
   ]
  },
  {
   "cell_type": "markdown",
   "metadata": {},
   "source": [
    "## Default Parsing"
   ]
  },
  {
   "cell_type": "code",
   "execution_count": 29,
   "metadata": {},
   "outputs": [
    {
     "name": "stdout",
     "output_type": "stream",
     "text": [
      "Started parsing the file under job_id f9a471d1-9b73-4627-b5f7-7a067adf580e\n"
     ]
    }
   ],
   "source": [
    "from llama_parse import LlamaParse\n",
    "from llama_index.core import SimpleDirectoryReader\n",
    "\n",
    "# Configure the LlamaParse instance\n",
    "parser = LlamaParse(\n",
    "    result_type=\"markdown\",  # Output format (\"text\", \"markdown\", \"json\", or \"structured\")\n",
    "    num_workers=8,\n",
    "    verbose=True,\n",
    "    language=\"en\",\n",
    "    show_progress=True,\n",
    ")\n",
    "\n",
    "# Define a file extractor mapping file extensions to parsers\n",
    "file_extractor = {\".pdf\": parser}\n",
    "\n",
    "# Use SimpleDirectoryReader to parse the specified PDF file\n",
    "documents = SimpleDirectoryReader(\n",
    "    input_files=[FILE_PATH],  # List of files to process\n",
    "    file_extractor=file_extractor,\n",
    ").load_data()"
   ]
  },
  {
   "cell_type": "code",
   "execution_count": 30,
   "metadata": {},
   "outputs": [
    {
     "data": {
      "text/plain": [
       "[Document(id_='20ecf8cf-bab1-47bb-a809-4e6278f0d146', embedding=None, metadata={'file_path': '/Users/syshin/Desktop/Syshin/LabQ/한국자동차연구원/data/논문/KSAE 학술대회 논문 모음집/2020년/2. 추계/Data/20AKSAE_A004.pdf', 'file_name': '20AKSAE_A004.pdf', 'file_type': 'application/pdf', 'file_size': 1309200, 'creation_date': '2025-01-06', 'last_modified_date': '2020-11-11'}, excluded_embed_metadata_keys=['file_name', 'file_type', 'file_size', 'creation_date', 'last_modified_date', 'last_accessed_date'], excluded_llm_metadata_keys=['file_name', 'file_type', 'file_size', 'creation_date', 'last_modified_date', 'last_accessed_date'], relationships={}, metadata_template='{key}: {value}', metadata_separator='\\n', text_resource=MediaResource(embeddings=None, data=None, text='# 2020 한국자동차공학회 추계학술대회\\n\\n# 회귀분석법을 이용한 차량 오일펌프의 인로터 중량 최적화 해석\\n\\n정대근1)* 김기태1) 명화공업1)\\n\\n· In-rotor weight optimization analysis of vehicle oil pump using regression analysis method · Dae-geun Jung1) Ki-Tae Kim1)\\n\\n1) MYUNGHWA IND. CO., LTD. R&D Center 65, Beojigi-ro, Danwon-gu, Ansan-si, Gyeonggi-do, Korea\\n\\n# Abstract\\n\\nThis white paper contains information on techniques that can reduce design time. In this study, multiple regression analysis was used as a method to increase work efficiency. The vane, in-rotor of the vehicle oil pump was selected. Variables that can be optimized for weight were selected during design. It has 5 independent variables and 3 factors, which was analyzed by multiple regression. Based on this data, the \"Macro\" automation sheet was built. As a result of comparing the optimization program and CAE in this paper, the reliability was 91.6%. Through this, the designer can easily and quickly predict design variables without CAE analysis.\\n\\n# Key words\\n\\nMultiple regression analysis(다중회귀분석), Vehicle(차량), Oil Pump(오일펌프), Vane(베인), Inrotor(인로터), Optimization(최적화)\\n\\n# 1. 서 론\\n\\n최근 자동차부품기업의 기술경쟁력을 높이기 위해 해 동력전달, 섀시, 제동, 현가, 경량 차체부품 등 의 차량부품의 고도화를 위한 기술개발이 활발히 이루어 지고 있다. 또한 미래 자동차 산업의 패러다임 변화에 맞춰 친환경 차량의 전기전장부품 개발을 도모하고 있다. 이에 따라 자동차 분야 기술고도화를 통한 미래 먹거리 창출의 원동력 확보와 원천기술에 대한 확 보가 요구되고 있다. 이러한 전망으로 급변화하는 기술력에 대응하기 위해서는 효율적인 업무가 뒷받침 되어야 한다. 본 논문에서는 인로터 설계 시 강도를 만족하는 수준에서 중량을 고려한 설계 파라메터를 빠르게\\n\\n* 정대근, E-mail: dgjung@myunghwa.com. 김기태, E-mail: ktkim1@myunghwa.com', mimetype=None, path=None, url=None), image_resource=None, audio_resource=None, video_resource=None, text_template='{metadata_str}\\n\\n{content}'),\n",
       " Document(id_='5d35caef-44ef-471c-b541-5e54f8739250', embedding=None, metadata={'file_path': '/Users/syshin/Desktop/Syshin/LabQ/한국자동차연구원/data/논문/KSAE 학술대회 논문 모음집/2020년/2. 추계/Data/20AKSAE_A004.pdf', 'file_name': '20AKSAE_A004.pdf', 'file_type': 'application/pdf', 'file_size': 1309200, 'creation_date': '2025-01-06', 'last_modified_date': '2020-11-11'}, excluded_embed_metadata_keys=['file_name', 'file_type', 'file_size', 'creation_date', 'last_modified_date', 'last_accessed_date'], excluded_llm_metadata_keys=['file_name', 'file_type', 'file_size', 'creation_date', 'last_modified_date', 'last_accessed_date'], relationships={}, metadata_template='{key}: {value}', metadata_separator='\\n', text_resource=MediaResource(embeddings=None, data=None, text='# 산출 할 수 있는 프로그램을 구축하였다.\\n\\n# Table 1 설계· 파라메터\\n\\n|No.|설계 파라메터|범위|\\n|---|---|---|\\n|1|A|D10.0~D12 mm|\\n|2|B|(47.31도~55.54도)|\\n|3|C|1.0~3.0 mm|\\n|4|D|0.5~1.5 mm|\\n|5|E|16.6~27.0 mm|\\n\\n기존 문제점의 경우, 베인 인로터 설계 시 설계자가 레이아웃과 지금까지의 경험 및 표준 가이드를 바탕으로 초기 설계를 진행한 후 해석을 통한 강도 측면을 검증하였으며, 강도 결과에 대한 안전율을 고려하여 중량 절감까지 검토하였다. 이러한 반복 과정을 통하여 중량 절감이 되긴 하나, 중량 최적화에 대한 결과가 최선이라고는 보기 어려우며, 많은 시간이 소요된다.\\n\\n이러한 문제점을 해결하기 위하여 설계 파라메터별 중량 최적화 자동 시트를 개발하였으며, 이를 통하여 업무 간소화와 업무 효율성을 극대화하고, 업무 시간을 단축하였다.\\n\\n차량 Fig. 1과 같이 오일펌프의 부품인 베인 인로터 설계 시 중량을 고려하여 강도 수준을 만족하는 설계 파라메터를 선정하고, 이를 검증하기 위한 단계로 선형 강도 해석(linear static analysis)을 통한 결과를 확인하였다. 이로 인해 확보된 시간은 기술고도화를 위한 연구에 투자할 수 있다.\\n\\n전반적인 순서도는 Fig.2와 같이 진행 된다.\\n\\n# Fig. 1 챠량 오일펌프 내부\\n\\n# 2. 설계 파라메터 인자 설정 및 해석 결과\\n\\n# Fig. 2 순서도', mimetype=None, path=None, url=None), image_resource=None, audio_resource=None, video_resource=None, text_template='{metadata_str}\\n\\n{content}'),\n",
       " Document(id_='53832f80-1f30-4f6d-9631-0e4422893b83', embedding=None, metadata={'file_path': '/Users/syshin/Desktop/Syshin/LabQ/한국자동차연구원/data/논문/KSAE 학술대회 논문 모음집/2020년/2. 추계/Data/20AKSAE_A004.pdf', 'file_name': '20AKSAE_A004.pdf', 'file_type': 'application/pdf', 'file_size': 1309200, 'creation_date': '2025-01-06', 'last_modified_date': '2020-11-11'}, excluded_embed_metadata_keys=['file_name', 'file_type', 'file_size', 'creation_date', 'last_modified_date', 'last_accessed_date'], excluded_llm_metadata_keys=['file_name', 'file_type', 'file_size', 'creation_date', 'last_modified_date', 'last_accessed_date'], relationships={}, metadata_template='{key}: {value}', metadata_separator='\\n', text_resource=MediaResource(embeddings=None, data=None, text='# Table 2 CAE· 모델· 항목\\n\\n|DiconM|No.|A|B|C|D|E|\\n|---|---|---|---|---|---|---|\\n| |1| |0.5|16.6| | |\\n| |2|40.12|2|1.0|21.8| |\\n| |3| |1.5|27.0| | |\\n| |4| |0.5|21.8| | |\\n| |10|5|43.71|2|1.0|27.0|\\n| |6| |1.5|16.6| | |\\n| |7| |0.5|27.0| | |\\n| |8|46.59|2|1.0|16.6| |\\n| |9| |1.5|21.8| | |\\n| |10| |1.0|16.6| | |\\n| |11|40.12|2|1.5|21.8| |\\n| |12| |0.5|27.0| | |\\n| |13| |1.0|21.8| | |\\n| |11|14|43.71|2|1.5|27.0|\\n| |15| |0.5|16.6| | |\\n| |16| |1.0|27.0| | |\\n| |17|46.59|2|1.5|16.6| |\\n| |18| |0.5|21.8| | |\\n| |19| |1.5|16.6| | |\\n| |20|40.12|2|0.5|21.8| |\\n| |21| |1.0|27.0| | |\\n| |22| |1.5|21.8| | |\\n| |12|23|43.71|2|0.5|27.0|\\n| |24| |1.0|16.6| | |\\n| |25| |1.5|27.0| | |\\n| |26|46.59|2|0.5|16.6| |\\n| |27| |1.0|21.8| | |\\n\\n중회귀식을 만들기 전 해석이 선행으로 진행 되 있다. 독립 변수 5개와 3인자 수준으로 Table.2와 같이 27개의 항목으로 정렬한다. 해석 조건은 Fig.4과 같이 중심축을 기준으로 10N.m 회전하며, 외곽 한 개의 선을 모두 고정한 상태로 최대 응력이 발생되는 동일한 부분을 측정한다. 측정한 해석 결과는 Y값 Table.3과 같다. 이 모든 값을 근거로 식(1)의 중회귀식이 구해진다. 구해진 식은 다음과 같다.\\n\\nY = 331.829 - 7.828A - 2.464B - 15.339C - 4.656D - 2.525E (1)', mimetype=None, path=None, url=None), image_resource=None, audio_resource=None, video_resource=None, text_template='{metadata_str}\\n\\n{content}'),\n",
       " Document(id_='89750858-bc25-483d-b380-8ac39ac2d68d', embedding=None, metadata={'file_path': '/Users/syshin/Desktop/Syshin/LabQ/한국자동차연구원/data/논문/KSAE 학술대회 논문 모음집/2020년/2. 추계/Data/20AKSAE_A004.pdf', 'file_name': '20AKSAE_A004.pdf', 'file_type': 'application/pdf', 'file_size': 1309200, 'creation_date': '2025-01-06', 'last_modified_date': '2020-11-11'}, excluded_embed_metadata_keys=['file_name', 'file_type', 'file_size', 'creation_date', 'last_modified_date', 'last_accessed_date'], excluded_llm_metadata_keys=['file_name', 'file_type', 'file_size', 'creation_date', 'last_modified_date', 'last_accessed_date'], relationships={}, metadata_template='{key}: {value}', metadata_separator='\\n', text_resource=MediaResource(embeddings=None, data=None, text='# Table 3 CAE· 주응력· 해석· 결과\\n\\n|No.|y|No|y|No|y|\\n|---|---|---|---|---|---|\\n|1|113.1|10|92.0|19|74.7|\\n|2|55.8|11|47.7|20|42.5|\\n|3|33.5|12|29.7|21|26.3|\\n|4|70.2|13|58.7|22|48.5|\\n|5|39.8|14|35.5|23|29.5|\\n|6|49.8|15|43.3|24|38.3|\\n|7|52.5|16|42.1|25|36.7|\\n|8|57.6|17|50.1|26|43.0|\\n|9|35.0|18|29.6|27|26.9|\\n\\n다중 회귀 분석을 사용하였다. 독립변수가 5개인 3인자 수준의 경우 중회귀 모형은 다음 식(2),(3)와 같다.\\n\\n𝑦\\u0bdc = 𝛽\\u0b34 + 𝛽𝑥ଵ\\u0bdc + … + 𝛽𝑥ହ\\u0bdc + 𝜀 (𝑖 = 1,5)\\n\\n𝛽, 𝛽,… , 𝛽ହ 미지수\\n\\n위 중회귀 모형을 행렬식으로 표현하면 다음 식 (4) ~ (6)과 같다.\\n\\ny = 𝑋𝛽 + 𝜀 → 𝜀 = 𝑦 - 𝑋𝛽\\n\\n𝐲 = ⎨𝑦ଶ⎧𝑦ଵ⎫ ⎧1 𝑥ଵଵ … 𝑥हଵ⎫\\n\\n⎪1 𝑥ଵଶ … 𝑥हଶ⎪\\n\\n…\\n\\n⎬𝐗 = ⎨ ⎪1 𝑥ଵह . … . ⎬\\n\\n⎩𝑦ह ⎭ ⎩ ⋯ 𝑥हह ⎪⎭\\n\\n𝛃 = ⎨.ଵह⎪⎪.⎬\\n\\n⎩𝛽⎭ 𝛆 = ⎨𝜀ह ⎭⎩ .\\n\\n…\\n\\n위 식에 오차항의 제곱을 한 최종 식은 다음 식 (7) ~ (12)와 같다.\\n\\nS = ∑ह 𝜀\\u0bdcଶ = 𝜀ଵଶ + 𝜀ଶଶ + ⋯ + 𝜀हଶ = 𝜀\\n\\n= (y - Xβ)ᵀ (y - Xβ)\\n\\n= (𝑦ᵀ - 𝛽ᵀ 𝑋ᵀ)(𝑦 - 𝑋𝛽)\\n\\n3. 다중 회귀 분석 이론 (multiple regression analysis)\\n\\n회귀 분석은 X라는 독립변수와 Y라는 종속변수 간의 인과 관계를 찾기 위한 기업으로 종속변인이 얼마나 변할 것인지에 대한 영향력을 예측하는 통계 분석 기법이다.\\n\\n회귀 분석의 종류는 단순 선형 회귀분석, 다중 회귀분석(중회귀분석), 위계적 다중 회귀 분석, 곡선 회귀분석 등 다양하게 있다.\\n\\n본 논문에서는 독립변수가 하나 이상의 설계 파', mimetype=None, path=None, url=None), image_resource=None, audio_resource=None, video_resource=None, text_template='{metadata_str}\\n\\n{content}'),\n",
       " Document(id_='19db2ec4-a888-4b87-962c-3361d3496ec5', embedding=None, metadata={'file_path': '/Users/syshin/Desktop/Syshin/LabQ/한국자동차연구원/data/논문/KSAE 학술대회 논문 모음집/2020년/2. 추계/Data/20AKSAE_A004.pdf', 'file_name': '20AKSAE_A004.pdf', 'file_type': 'application/pdf', 'file_size': 1309200, 'creation_date': '2025-01-06', 'last_modified_date': '2020-11-11'}, excluded_embed_metadata_keys=['file_name', 'file_type', 'file_size', 'creation_date', 'last_modified_date', 'last_accessed_date'], excluded_llm_metadata_keys=['file_name', 'file_type', 'file_size', 'creation_date', 'last_modified_date', 'last_accessed_date'], relationships={}, metadata_template='{key}: {value}', metadata_separator='\\n', text_resource=MediaResource(embeddings=None, data=None, text='여기서 𝛽~𝛽의 \\u0b34ହ 미지수가 고정이 되고, A~E의 독립변수 값의 의해 Y값의 결과가 자동 도출 된 다.\\n\\n미지수를 구하기 위해서는 선행으로 A~E에 해당하는 독립변수 조건을 적용한 3인자 수준에서의 해석 결과를 토대로 식을 도출 하여야 한다.\\n\\n# 4. 중량 최적화 설계 프로그램 구축\\n\\n지금까지의 중회귀식에 대한 결과와 데이터를 바탕으로 엑셀 시트와 매크로(macro)를 활용하여 중량 최적화 설계 자동화 프로그램을 구축하였다. 본 프로그램은 Fig.6와 같이 설계 담당자가 쉽게 활용할 수 있도록 2단계로 구축하였다.\\n\\n# 5. 최적화프로그램 결과와 해석결과 비교\\n\\n지금까지의 중회귀식 결과와 CAE 결과을 비교하여, 중회귀식의 신뢰성을 평가해 보았다. 임의의 파라메터값을 선정하여 10-CASE에 대한 CAE 해석을 진행하고, 그 결과와 최적프로그램 결과를 비교하여 신뢰성에 대한 값을 비교하였다. Table.4와 같이 평균 신뢰성은 95.3%로 오차률은 5% 이내임을 확인 하였다.\\n\\n이를 근거로 설계자는 인로터 설계 시 중량 최적화 설계 프로그램을 활용하여 선검토 및 중량 최적화에 대한 설계 파라메터 값을 초기에 선정 할 수 있다. 앞서 언급한 바와 같이 이로 인해 확보된 시간은 기술고도화를 위한 연구에 투자할 수 있다.\\n\\n# Table 4 CAE· 결과와· 중회귀식· 결과· 비교· 표\\n\\n|No.|CAE 결과|중회귀식 결과|신뢰성|\\n|---|---|---|---|\\n|1|70.2|73.1|96.0%|\\n|2|39.8|42.4|94.0%|\\n|3|49.8|50.9|97.8%|\\n|4|57.6|61.5|93.6%|\\n|5|29.7|30.4|97.8%|\\n|6|58.7|63.0|93.2%|\\n|7|50.1|51.4|97.6%|\\n|8|29.6|27.5|93.1%|\\n|9|48.5|52.8|91.8%|\\n|10|29.5|29.0|98.4%|\\n|평균 신뢰성|평균 신뢰성|평균 신뢰성|95.3%|\\n\\nFig. 6 중량 최적화 자동화 설계 프로그램 1단계 A~E까지 파라메터별 최소범위와 최대범위 설정, 2단계 “최적화 실행”클릭 시 Iteration 10 만회(30초 이내) 반복 계산을 통하여 내구한도 이내에서의 최소 중량순으로 TOP10를 추출하게 하였다. 이 결과를 참고하여 설계자는 별도의 해석을 진행하지 않고도 설계 파라메터 값을 쉽고 빠르게 예측 할 수 있다.', mimetype=None, path=None, url=None), image_resource=None, audio_resource=None, video_resource=None, text_template='{metadata_str}\\n\\n{content}'),\n",
       " Document(id_='24567bdc-98bc-4aaa-8d88-c04fb7deb78e', embedding=None, metadata={'file_path': '/Users/syshin/Desktop/Syshin/LabQ/한국자동차연구원/data/논문/KSAE 학술대회 논문 모음집/2020년/2. 추계/Data/20AKSAE_A004.pdf', 'file_name': '20AKSAE_A004.pdf', 'file_type': 'application/pdf', 'file_size': 1309200, 'creation_date': '2025-01-06', 'last_modified_date': '2020-11-11'}, excluded_embed_metadata_keys=['file_name', 'file_type', 'file_size', 'creation_date', 'last_modified_date', 'last_accessed_date'], excluded_llm_metadata_keys=['file_name', 'file_type', 'file_size', 'creation_date', 'last_modified_date', 'last_accessed_date'], relationships={}, metadata_template='{key}: {value}', metadata_separator='\\n', text_resource=MediaResource(embeddings=None, data=None, text='# 6. 결 론\\n\\n본 논문에서는 인로터 설계 시 설계 파라메터별 선행 해석을 진행하고, 이를 바탕으로 통계적인 기법의 중회귀식을 사용하여 중회귀식을 도출하였다.\\n\\n중회귀식에 대한 결과와 데이터를 활용하여, 중량 최적화 설계 자동화 프로그램을 구축하였다. 이 프로그램을 활용하여, 설계자는 인로터 설계 시 중량 최적화 기준의 설계 파라메터 값을 빠르고, 쉽게 확인 할 수 있다.\\n\\n1. 설계 파라메터 인자를 확인하여, 독립변수 5개와 3인자 수준으로 27개의 파트로 나열하였다.\\n2. 27개의 파트를 CAE 해석을 통하여, 선행해석하고, 결과를 기록하였다. CAE 결과는 중회귀식에 y(식.10)에 사용되어, 중회귀식에 미지수값을 도출하였다.\\n3. 중회귀식을 바탕으로 중량 최적화 설계 파라메터 프로그램을 구축하였다.\\n4. 중회귀식 결과와 CAE 결과 비교를 통하여, 신뢰성을 확인하였다.\\n\\n# References\\n\\n1. Seong-Hyeon Park, “design of experiments”, p423, Minyoungsa, 2004\\n2. Mi-Ra Ryu, Hwan-Young Jeon, “Heat Transfer Analysis of Side Mirror using Regression Analysis”, KSMT Korean Soc. Mech. Techol, VOL.22 NO.4, PP.661-666, 2020', mimetype=None, path=None, url=None), image_resource=None, audio_resource=None, video_resource=None, text_template='{metadata_str}\\n\\n{content}')]"
      ]
     },
     "execution_count": 30,
     "metadata": {},
     "output_type": "execute_result"
    }
   ],
   "source": [
    "documents"
   ]
  },
  {
   "cell_type": "code",
   "execution_count": 31,
   "metadata": {},
   "outputs": [],
   "source": [
    "# Convert LlamaIndex documents to LangChain document format\n",
    "docs = [doc.to_langchain_format() for doc in documents]"
   ]
  },
  {
   "cell_type": "code",
   "execution_count": 40,
   "metadata": {},
   "outputs": [
    {
     "name": "stdout",
     "output_type": "stream",
     "text": [
      "# Table 3 CAE· 주응력· 해석· 결과\n",
      "\n",
      "|No.|y|No|y|No|y|\n",
      "|---|---|---|---|---|---|\n",
      "|1|113.1|10|92.0|19|74.7|\n",
      "|2|55.8|11|47.7|20|42.5|\n",
      "|3|33.5|12|29.7|21|26.3|\n",
      "|4|70.2|13|58.7|22|48.5|\n",
      "|5|39.8|14|35.5|23|29.5|\n",
      "|6|49.8|15|43.3|24|38.3|\n",
      "|7|52.5|16|42.1|25|36.7|\n",
      "|8|57.6|17|50.1|26|43.0|\n",
      "|9|35.0|18|29.6|27|26.9|\n",
      "\n",
      "다중 회귀 분석을 사용하였다. 독립변수가 5개인 3인자 수준의 경우 중회귀 모형은 다음 식(2),(3)와 같다.\n",
      "\n",
      "𝑦௜ = 𝛽଴ + 𝛽𝑥ଵ௜ + … + 𝛽𝑥ହ௜ + 𝜀 (𝑖 = 1,5)\n",
      "\n",
      "𝛽, 𝛽,… , 𝛽ହ 미지수\n",
      "\n",
      "위 중회귀 모형을 행렬식으로 표현하면 다음 식 (4) ~ (6)과 같다.\n",
      "\n",
      "y = 𝑋𝛽 + 𝜀 → 𝜀 = 𝑦 - 𝑋𝛽\n",
      "\n",
      "𝐲 = ⎨𝑦ଶ⎧𝑦ଵ⎫ ⎧1 𝑥ଵଵ … 𝑥हଵ⎫\n",
      "\n",
      "⎪1 𝑥ଵଶ … 𝑥हଶ⎪\n",
      "\n",
      "…\n",
      "\n",
      "⎬𝐗 = ⎨ ⎪1 𝑥ଵह . … . ⎬\n",
      "\n",
      "⎩𝑦ह ⎭ ⎩ ⋯ 𝑥हह ⎪⎭\n",
      "\n",
      "𝛃 = ⎨.ଵह⎪⎪.⎬\n",
      "\n",
      "⎩𝛽⎭ 𝛆 = ⎨𝜀ह ⎭⎩ .\n",
      "\n",
      "…\n",
      "\n",
      "위 식에 오차항의 제곱을 한 최종 식은 다음 식 (7) ~ (12)와 같다.\n",
      "\n",
      "S = ∑ह 𝜀௜ଶ = 𝜀ଵଶ + 𝜀ଶଶ + ⋯ + 𝜀हଶ = 𝜀\n",
      "\n",
      "= (y - Xβ)ᵀ (y - Xβ)\n",
      "\n",
      "= (𝑦ᵀ - 𝛽ᵀ 𝑋ᵀ)(𝑦 - 𝑋𝛽)\n",
      "\n",
      "3. 다중 회귀 분석 이론 (multiple regression analysis)\n",
      "\n",
      "회귀 분석은 X라는 독립변수와 Y라는 종속변수 간의 인과 관계를 찾기 위한 기업으로 종속변인이 얼마나 변할 것인지에 대한 영향력을 예측하는 통계 분석 기법이다.\n",
      "\n",
      "회귀 분석의 종류는 단순 선형 회귀분석, 다중 회귀분석(중회귀분석), 위계적 다중 회귀 분석, 곡선 회귀분석 등 다양하게 있다.\n",
      "\n",
      "본 논문에서는 독립변수가 하나 이상의 설계 파\n"
     ]
    }
   ],
   "source": [
    "# Display the content of a specific document (e.g., the 6th document)\n",
    "print(docs[3].page_content)"
   ]
  },
  {
   "cell_type": "markdown",
   "metadata": {},
   "source": [
    "## MultiModal-Parsing"
   ]
  },
  {
   "cell_type": "code",
   "execution_count": 33,
   "metadata": {},
   "outputs": [],
   "source": [
    "# Configure the LlamaParse instance to use the vendor multimodal model\n",
    "multimodal_parser = LlamaParse(\n",
    "    use_vendor_multimodal_model=True,\n",
    "    vendor_multimodal_model_name=\"openai-gpt4o\",\n",
    "    vendor_multimodal_api_key=os.environ[\"OPENAI_API_KEY\"],\n",
    "    result_type=\"markdown\",\n",
    "    language=\"en\",\n",
    ")"
   ]
  },
  {
   "cell_type": "code",
   "execution_count": 34,
   "metadata": {},
   "outputs": [
    {
     "name": "stdout",
     "output_type": "stream",
     "text": [
      "Started parsing the file under job_id 41749aae-bdba-4d74-b564-c855ea7aca46\n"
     ]
    }
   ],
   "source": [
    "# Parse the PDF file using the multimodal parser\n",
    "multimodal_parsed_docs = multimodal_parser.load_data(file_path=FILE_PATH)"
   ]
  },
  {
   "cell_type": "code",
   "execution_count": 35,
   "metadata": {},
   "outputs": [],
   "source": [
    "# Convert to langchain document format\n",
    "multimodal_docs = [doc.to_langchain_format() for doc in multimodal_parsed_docs]"
   ]
  },
  {
   "cell_type": "code",
   "execution_count": 36,
   "metadata": {},
   "outputs": [
    {
     "data": {
      "text/plain": [
       "6"
      ]
     },
     "execution_count": 36,
     "metadata": {},
     "output_type": "execute_result"
    }
   ],
   "source": [
    "len(multimodal_docs)"
   ]
  },
  {
   "cell_type": "code",
   "execution_count": 37,
   "metadata": {},
   "outputs": [
    {
     "name": "stdout",
     "output_type": "stream",
     "text": [
      "# 회귀분석법을 이용한 차량 오일펌프의 인로터 중량 최적화 해석\n",
      "\n",
      "정대근¹) 김기태¹)  \n",
      "명화공업¹)\n",
      "\n",
      "## In-rotor weight optimization analysis of vehicle oil pump using regression analysis method\n",
      "\n",
      "Dae-geun Jung¹) Ki-Tae Kim¹)\n",
      "\n",
      "¹) MYUNGHWA IND. CO., LTD. R&D Center 65, Beoji-gil-ro, Danwon-gu, Ansan-si, Gyeonggi-do, Korea\n",
      "\n",
      "### Abstract\n",
      "\n",
      "This white paper contains information on techniques that can reduce design time. In this study, multiple regression analysis was used as a method to increase work efficiency. The vane, in-rotor of the vehicle oil pump was selected. Variables that can be optimized for weight were selected during design. It has 5 independent variables and 3 factors, which was analyzed by multiple regression. Based on this data, the \"Macro\" automation sheet was built. As a result of comparing the optimization program and CAE in this paper, the reliability was 91.6%. Through this, the designer can easily and quickly predict design variables without CAE analysis.\n",
      "\n",
      "### Key words\n",
      "\n",
      "Multiple regression analysis(다중회귀분석), Vehicle(차량), Oil Pump(오일펌프), Vane(베인), Inrotor(인로터), Optimization(최적화)\n",
      "\n",
      "### Subscripts\n",
      "\n",
      "- A,B,C,D,E : independent variable\n",
      "- β₀~β₅ : unknown quantity\n",
      "- Y : Stress\n",
      "\n",
      "----\n",
      "\n",
      "정대근, E-mail : dgjung@myunghwa.com  \n",
      "김기태, E-mail : ktkim1@myunghwa.com\n",
      "\n",
      "----\n",
      "\n",
      "## 1. 서론\n",
      "\n",
      "최근 자동차부품기업의 기술경쟁력을 높이기 위해 동력전달, 섀시, 제동, 열가, 경량 차체부품 등의 차부품의 고도화를 위한 기술개발이 활발히 이루어지고 있다. 또한 미래 자동차 산업의 패러다임 변화에 맞춰 친환경 차량의 전기경량부품 개발을 도모하고 있다. 이에 따라 자동차 분야 기술고도화를 통한 미래 먹거리 창출의 원동력 확보와 원가절감에 대한 확보가 요구되고 있다.\n",
      "\n",
      "이러한 전망으로 급변하는 기술혁신에 대응하기 위해서는 효율적인 연구가 뒷받침 되어야 한다. 본 논문에서는 인로터 설계 시 강도는 만족하는 수준에서 중량을 고려한 설계 파라메터를 빠르게 예측할 수 있는 방법을 제시하고자 한다.\n"
     ]
    }
   ],
   "source": [
    "# Display the content of the first document\n",
    "print(multimodal_docs[0].page_content)"
   ]
  },
  {
   "cell_type": "markdown",
   "metadata": {},
   "source": [
    "## Custom Parsing Instructions"
   ]
  },
  {
   "cell_type": "code",
   "execution_count": 5,
   "metadata": {},
   "outputs": [
    {
     "name": "stderr",
     "output_type": "stream",
     "text": [
      "<>:2: SyntaxWarning: invalid escape sequence '\\l'\n",
      "<>:2: SyntaxWarning: invalid escape sequence '\\l'\n",
      "/var/folders/3n/z11lx99j6qj_z9qtdlbkknvm0000gn/T/ipykernel_96607/928956967.py:2: SyntaxWarning: invalid escape sequence '\\l'\n",
      "  parsing_instruction = \"\"\"1. Table Extraction\n"
     ]
    }
   ],
   "source": [
    "# Configure parsing instruction\n",
    "parsing_instruction = \"\"\"1. Table Extraction\n",
    "\t•\tDetect and extract tabular data. In this case:\n",
    "\t•\tHeaders: Include column names like No., Y, y values.\n",
    "\t•\tData Rows: Parse rows with numerical values for each column.\n",
    "\t•\tMaintain the structure of the table as CSV or a JSON array of objects.\n",
    "\n",
    "2. Mathematical Equations\n",
    "\t•\tIdentify equations (usually marked with equation numbers like (2), (3), etc.).\n",
    "\t•\tExtract equations as text in LaTeX format for proper representation.\n",
    "\t•\tInclude equation number and its respective LaTeX or MathML code.\n",
    "\n",
    "3. Figures and Annotations\n",
    "\t•\tExtract images or diagrams (e.g., Fig. 4: 인코터 CAE 조건).\n",
    "\t•\tInclude associated captions in text format.\n",
    "\t•\tSave the image separately and reference it in the output metadata.\n",
    "\n",
    "4. Section Headers\n",
    "\t•\tExtract and distinguish section headers with hierarchy (e.g., 3. 다중 회귀 분석 이론).\n",
    "\t•\tMark the headers as:\n",
    "\t•\tLevel 1: Main section headers.\n",
    "\t•\tLevel 2: Subsection headers (if any).\n",
    "\n",
    "5. Text Body\n",
    "\t•\tExtract body text associated with each section.\n",
    "\t•\tPreserve formatting, such as bold or italicized text.\n",
    "\t•\tGroup text under the corresponding section header.\n",
    "\n",
    "6. Symbols and Variables\n",
    "\t•\tParse variables and symbols used in equations or explanations (e.g.,  y_i, \\\\beta_0, \\\\beta_1, \\\\ldots ).\n",
    "\t•\tMaintain a list of variables with their context or definitions if provided.\n",
    "\n",
    "7. Pagination\n",
    "\t•\tInclude the page number for reference (e.g., Page 4).\n",
    "\n",
    "8. Footnotes or References\n",
    "\t•\tIf present, extract footnotes or additional references as a separate section.\n",
    " \"\"\""
   ]
  },
  {
   "cell_type": "code",
   "execution_count": 6,
   "metadata": {},
   "outputs": [
    {
     "name": "stdout",
     "output_type": "stream",
     "text": [
      "Started parsing the file under job_id 2d788b38-e114-40b6-9010-c755a9780ddd\n"
     ]
    }
   ],
   "source": [
    "# LlamaParse configuration\n",
    "instruction_parser = LlamaParse(\n",
    "    use_vendor_multimodal_model=True,\n",
    "    vendor_multimodal_model_name=\"openai-gpt4o\",\n",
    "    vendor_multimodal_api_key=os.environ[\"OPENAI_API_KEY\"],\n",
    "    result_type=\"markdown\",\n",
    "    language=\"en\",\n",
    "    parsing_instruction=parsing_instruction,\n",
    ")\n",
    "\n",
    "# Parse pdf file\n",
    "instruction_parsed_docs = instruction_parser.load_data(file_path=FILE_PATH)\n",
    "\n",
    "# Convert to langchain documents\n",
    "instruction_docs = [doc.to_langchain_format() for doc in instruction_parsed_docs]"
   ]
  },
  {
   "cell_type": "code",
   "execution_count": 7,
   "metadata": {},
   "outputs": [
    {
     "name": "stdout",
     "output_type": "stream",
     "text": [
      "Here is the extracted information from the image:\n",
      "\n",
      "### Table\n",
      "**Table 3: CAE 주응력 해석 결과**\n",
      "\n",
      "| No. | y  | No | y  | No | y   |\n",
      "|-----|----|----|----|----|-----|\n",
      "| 1   | 113.1 | 10 | 92.0 | 19 | 74.7 |\n",
      "| 2   | 55.8  | 11 | 47.7 | 20 | 42.5 |\n",
      "| 3   | 33.5  | 12 | 29.7 | 21 | 26.3 |\n",
      "| 4   | 70.2  | 13 | 58.7 | 22 | 48.5 |\n",
      "| 5   | 39.8  | 14 | 35.5 | 23 | 29.5 |\n",
      "| 6   | 49.8  | 15 | 43.9 | 24 | 38.3 |\n",
      "| 7   | 49.5  | 16 | 42.1 | 25 | 36.7 |\n",
      "| 8   | 57.6  | 17 | 50.1 | 26 | 43.0 |\n",
      "| 9   | 35.0  | 18 | 29.6 | 27 | 26.9 |\n",
      "\n",
      "### Figure\n",
      "**Fig. 4: 인코터 CAE 조건**\n",
      "\n",
      "- Image of a mechanical component with labels \"[ALL-FIX]\" and \"Torque: 10 N.m.\"\n",
      "\n",
      "### Equations\n",
      "1. \\( y_i = \\beta_0 + \\beta_1 x_{i1} + \\cdots + \\beta_5 x_{i5} + e_i \\quad (i = 1,5) \\)  \\hfill (2)\n",
      "2. \\( \\beta_0, \\beta_1, \\ldots, \\beta_5 \\) 미지수 \\hfill (3)\n",
      "3. \\( y = X\\beta + e = y - X\\beta \\) \\hfill (4)\n",
      "4. \\( y = \\begin{bmatrix} y_1 \\\\ y_2 \\\\ \\vdots \\\\ y_n \\end{bmatrix}, \\quad X = \\begin{bmatrix} 1 & x_{11} & \\cdots & x_{15} \\\\ 1 & x_{21} & \\cdots & x_{25} \\\\ \\vdots & \\vdots & \\ddots & \\vdots \\\\ 1 & x_{n1} & \\cdots & x_{n5} \\end{bmatrix} \\) \\hfill (5)\n",
      "5. \\( \\beta = \\begin{bmatrix} \\beta_0 \\\\ \\beta_1 \\\\ \\vdots \\\\ \\beta_5 \\end{bmatrix}, \\quad e = \\begin{bmatrix} e_1 \\\\ e_2 \\\\ \\vdots \\\\ e_n \\end{bmatrix} \\) \\hfill (6)\n",
      "6. \\( S = \\sum_{i=1}^{n} e_i^2 = e_1^2 + e_2^2 + \\cdots + e_5^2 = e^T e \\) \\hfill (7)\n",
      "7. \\( = (y - X\\beta)^T (y - X\\beta) \\) \\hfill (8)\n",
      "8. \\( = (y^T - \\beta^T X^T)(y - X\\beta) \\) \\hfill (9)\n",
      "9. \\( \\frac{\\partial S}{\\partial \\beta} = X^T X \\beta - X^T y = 0 \\) \\hfill (10)\n",
      "10. \\( \\Rightarrow X^T X \\beta = X^T y \\) \\hfill (11)\n",
      "11. \\( \\beta = (X^T X)^{-1} X^T y \\) \\hfill (12)\n",
      "12. \\( Y = \\beta_0 + \\beta_1 A + \\beta_2 B + \\beta_3 C + \\beta_4 D + \\beta_5 E \\) \\hfill (13)\n",
      "\n",
      "### Section\n",
      "**3. 다중 회귀 분석 이론 (Multiple Regression Analysis)**\n",
      "\n",
      "- 회귀 분석은 X라는 독립변수와 Y라는 종속변수 간의 인과 관계를 찾기 위한 기법으로 종속변인이 얼마나 변할 것인지를 예측하는 통계 분석 기법이다.\n",
      "- 회귀 분석의 종류는 단순 선형 회귀분석, 다중 회귀분석(중회귀분석), 위계적 다중 회귀 분석, 곡선 회귀분석 등 다양하게 있다.\n",
      "- 본 논문에서는 독립변수가 하나 이상의 설계 파라메터(독립변인)들을 갖고 있으므로, 다중 회귀 분석을 사용하였다.\n"
     ]
    }
   ],
   "source": [
    "print(instruction_docs[3].page_content)"
   ]
  },
  {
   "cell_type": "code",
   "execution_count": null,
   "metadata": {},
   "outputs": [],
   "source": []
  },
  {
   "cell_type": "code",
   "execution_count": null,
   "metadata": {},
   "outputs": [],
   "source": []
  }
 ],
 "metadata": {
  "kernelspec": {
   "display_name": "agent",
   "language": "python",
   "name": "python3"
  },
  "language_info": {
   "codemirror_mode": {
    "name": "ipython",
    "version": 3
   },
   "file_extension": ".py",
   "mimetype": "text/x-python",
   "name": "python",
   "nbconvert_exporter": "python",
   "pygments_lexer": "ipython3",
   "version": "3.12.4"
  }
 },
 "nbformat": 4,
 "nbformat_minor": 2
}
