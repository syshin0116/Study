{
 "cells": [
  {
   "cell_type": "code",
   "execution_count": 4,
   "metadata": {},
   "outputs": [
    {
     "name": "stderr",
     "output_type": "stream",
     "text": [
      "/Users/syshin/Desktop/Syshin/Study/MLDL/LangChain/crash_course/pdf_query/venv/lib/python3.9/site-packages/tqdm/auto.py:21: TqdmWarning: IProgress not found. Please update jupyter and ipywidgets. See https://ipywidgets.readthedocs.io/en/stable/user_install.html\n",
      "  from .autonotebook import tqdm as notebook_tqdm\n"
     ]
    }
   ],
   "source": [
    "from langchain.vectorstores.cassandra import Cassandra\n",
    "from langchain.indexes.vectorstore import VectorStoreIndexWrapper\n",
    "from langchain.llms import OpenAI\n",
    "from langchain.embeddings import OpenAIEmbeddings\n",
    "\n",
    "from datasets import load_dataset\n",
    "\n",
    "# engine powering Astra DB integreation in Langchain\n",
    "# DB connection initilization\n",
    "import cassio"
   ]
  },
  {
   "cell_type": "code",
   "execution_count": 5,
   "metadata": {},
   "outputs": [
    {
     "name": "stdout",
     "output_type": "stream",
     "text": [
      "Requirement already satisfied: PyPDF2 in ./venv/lib/python3.9/site-packages (3.0.1)\n",
      "Requirement already satisfied: typing_extensions>=3.10.0.0 in ./venv/lib/python3.9/site-packages (from PyPDF2) (4.9.0)\n"
     ]
    }
   ],
   "source": [
    "!pip install PyPDF2"
   ]
  },
  {
   "cell_type": "code",
   "execution_count": 6,
   "metadata": {},
   "outputs": [],
   "source": [
    "from PyPDF2 import PdfReader"
   ]
  },
  {
   "cell_type": "code",
   "execution_count": 7,
   "metadata": {},
   "outputs": [
    {
     "name": "stdout",
     "output_type": "stream",
     "text": [
      "Requirement already satisfied: python-dotenv in ./venv/lib/python3.9/site-packages (1.0.1)\n"
     ]
    }
   ],
   "source": [
    "!pip install python-dotenv"
   ]
  },
  {
   "cell_type": "code",
   "execution_count": 8,
   "metadata": {},
   "outputs": [],
   "source": [
    "from dotenv import load_dotenv\n",
    "import os\n",
    "\n",
    "load_dotenv() \n",
    "\n",
    "ASTRA_DB_ID = os.environ['ASTRA_DB_ID']\n",
    "ASTRA_DB_APPLICATION_TOKEN = os.environ['ASTRA_DB_APPLICATION_TOKEN']\n",
    "OPENAI_API_KEY = os.environ['OPENAI_API_KEY']\n"
   ]
  },
  {
   "cell_type": "code",
   "execution_count": 9,
   "metadata": {},
   "outputs": [
    {
     "name": "stdout",
     "output_type": "stream",
     "text": [
      "Requirement already satisfied: astrapy in ./venv/lib/python3.9/site-packages (0.7.4)\n",
      "Requirement already satisfied: cassio<0.2.0,>=0.1.3 in ./venv/lib/python3.9/site-packages (from astrapy) (0.1.4)\n",
      "Requirement already satisfied: deprecation<2.2.0,>=2.1.0 in ./venv/lib/python3.9/site-packages (from astrapy) (2.1.0)\n",
      "Requirement already satisfied: httpx<0.26.0,>=0.25.1 in ./venv/lib/python3.9/site-packages (from httpx[http2]<0.26.0,>=0.25.1->astrapy) (0.25.2)\n",
      "Requirement already satisfied: toml<0.11.0,>=0.10.2 in ./venv/lib/python3.9/site-packages (from astrapy) (0.10.2)\n",
      "Requirement already satisfied: cassandra-driver>=3.28.0 in ./venv/lib/python3.9/site-packages (from cassio<0.2.0,>=0.1.3->astrapy) (3.29.0)\n",
      "Requirement already satisfied: numpy>=1.0 in ./venv/lib/python3.9/site-packages (from cassio<0.2.0,>=0.1.3->astrapy) (1.26.4)\n",
      "Requirement already satisfied: requests>=2 in ./venv/lib/python3.9/site-packages (from cassio<0.2.0,>=0.1.3->astrapy) (2.31.0)\n",
      "Requirement already satisfied: packaging in ./venv/lib/python3.9/site-packages (from deprecation<2.2.0,>=2.1.0->astrapy) (23.2)\n",
      "Requirement already satisfied: anyio in ./venv/lib/python3.9/site-packages (from httpx<0.26.0,>=0.25.1->httpx[http2]<0.26.0,>=0.25.1->astrapy) (4.2.0)\n",
      "Requirement already satisfied: certifi in ./venv/lib/python3.9/site-packages (from httpx<0.26.0,>=0.25.1->httpx[http2]<0.26.0,>=0.25.1->astrapy) (2024.2.2)\n",
      "Requirement already satisfied: httpcore==1.* in ./venv/lib/python3.9/site-packages (from httpx<0.26.0,>=0.25.1->httpx[http2]<0.26.0,>=0.25.1->astrapy) (1.0.2)\n",
      "Requirement already satisfied: idna in ./venv/lib/python3.9/site-packages (from httpx<0.26.0,>=0.25.1->httpx[http2]<0.26.0,>=0.25.1->astrapy) (3.6)\n",
      "Requirement already satisfied: sniffio in ./venv/lib/python3.9/site-packages (from httpx<0.26.0,>=0.25.1->httpx[http2]<0.26.0,>=0.25.1->astrapy) (1.3.0)\n",
      "Requirement already satisfied: h11<0.15,>=0.13 in ./venv/lib/python3.9/site-packages (from httpcore==1.*->httpx<0.26.0,>=0.25.1->httpx[http2]<0.26.0,>=0.25.1->astrapy) (0.14.0)\n",
      "Requirement already satisfied: h2<5,>=3 in ./venv/lib/python3.9/site-packages (from httpx[http2]<0.26.0,>=0.25.1->astrapy) (4.1.0)\n",
      "Requirement already satisfied: geomet<0.3,>=0.1 in ./venv/lib/python3.9/site-packages (from cassandra-driver>=3.28.0->cassio<0.2.0,>=0.1.3->astrapy) (0.2.1.post1)\n",
      "Requirement already satisfied: hyperframe<7,>=6.0 in ./venv/lib/python3.9/site-packages (from h2<5,>=3->httpx[http2]<0.26.0,>=0.25.1->astrapy) (6.0.1)\n",
      "Requirement already satisfied: hpack<5,>=4.0 in ./venv/lib/python3.9/site-packages (from h2<5,>=3->httpx[http2]<0.26.0,>=0.25.1->astrapy) (4.0.0)\n",
      "Requirement already satisfied: charset-normalizer<4,>=2 in ./venv/lib/python3.9/site-packages (from requests>=2->cassio<0.2.0,>=0.1.3->astrapy) (3.3.2)\n",
      "Requirement already satisfied: urllib3<3,>=1.21.1 in ./venv/lib/python3.9/site-packages (from requests>=2->cassio<0.2.0,>=0.1.3->astrapy) (2.2.0)\n",
      "Requirement already satisfied: exceptiongroup>=1.0.2 in ./venv/lib/python3.9/site-packages (from anyio->httpx<0.26.0,>=0.25.1->httpx[http2]<0.26.0,>=0.25.1->astrapy) (1.2.0)\n",
      "Requirement already satisfied: typing-extensions>=4.1 in ./venv/lib/python3.9/site-packages (from anyio->httpx<0.26.0,>=0.25.1->httpx[http2]<0.26.0,>=0.25.1->astrapy) (4.9.0)\n",
      "Requirement already satisfied: click in ./venv/lib/python3.9/site-packages (from geomet<0.3,>=0.1->cassandra-driver>=3.28.0->cassio<0.2.0,>=0.1.3->astrapy) (8.1.7)\n",
      "Requirement already satisfied: six in ./venv/lib/python3.9/site-packages (from geomet<0.3,>=0.1->cassandra-driver>=3.28.0->cassio<0.2.0,>=0.1.3->astrapy) (1.16.0)\n"
     ]
    }
   ],
   "source": [
    "!pip install --upgrade astrapy"
   ]
  },
  {
   "cell_type": "code",
   "execution_count": 10,
   "metadata": {},
   "outputs": [],
   "source": [
    "pdfreader = PdfReader('sample.pdf')"
   ]
  },
  {
   "cell_type": "code",
   "execution_count": 11,
   "metadata": {},
   "outputs": [
    {
     "data": {
      "text/plain": [
       "'2/6/24, 7:18 PM 사람인  인성검사  - 사람인\\nhttps://www.saramin.co.kr/zf_user/member/svq/exam-result?apply_id=4097369&job_code=13 1/5\\n사람인 인성검사 결과응시자\\n신승엽희망직무\\nIT·인터넷검사일자\\n2024.01.21\\n표준점수 인성검사 응시자 집단에서 나의 상대적인 위치를 나타내기 위해 산출하는 점수\\n백분위 나보다 낮은 점수를 받은 사람을 백분율로 표기\\n예) 점수가 95%라면 내 점수보다 낮은 사람이 95% 있다는 것을 의미\\n응답신뢰도 일관적인 답변을 하지 않았거나 실제 자신의 성향보다 더 긍정적인 방향으로 응답하면 신뢰도가 낮아질 수 있음직무적합(IT·인터넷) : 높음\\nIT·인터넷직에서는 작은 것도 놓치지 않는 세밀함, 논리적이고 체계적인 사고력 및 업무적으로 타인에게 신뢰감을 심어줄 수\\n있는 자세, 주도적인 태도로 새롭거나 대안적인 방안을 제시하려는 자세가 요구됩니다.\\n신승엽님은 해당 직무에 대한 적합도가 매우 높아 주어진 직무 상황에 잘 적응하며, 우수한 역량을 발휘할 가능성이 높습니다.* 본 검사는 응답을 토대로 작성되었으며, 본인의 직무 적합도를 확인할 수 있습니다. 종합 결과\\n표준점수\\n69 점백분위\\n93 %응답신뢰도\\n낮음\\n인성 요인 비교\\n정직겸손성\\n정서안정성\\n외향성\\n원만성성실성개방성내 점수 평균 점수\\n요인별 평가2/6/24, 7:18 PM 사람인  인성검사  - 사람인\\nhttps://www.saramin.co.kr/zf_user/member/svq/exam-result?apply_id=4097369&job_code=13 2/5정직겸손성 자신에게 유리한 방향으로 의사 결정하거나 사람들을 조정하지 않고, 물질적인 것에 과하게 욕심을 내지 않으며 겸손해 할 줄 아는 성향\\n정서안정성 미래에 대한 긍정적 인식과 자신에 대한 믿음을 바탕으로 타인과 관계를 구축해 나가며 예상치 못한 상황에 처하더라도 심리적 안정을 유지\\n할 수 있는 성향인성 요인\\n정직겸손성등급\\n보통점수\\n67\\n일을 할 때 가급적이면 정해진 원칙을 따르려하며, 규정이나 규범을 지킬 것으로 판단됩니다. 또한 이견이 있을 경우에도 비교\\n적 양측의 입장을 두루 고려하려는 태도를 보일 가능성이 높습니다. 다만 자신이 잘 알지 못하는 일을 처리할 경우 평소 신뢰하\\n던 지인의 이야기에 더 중점을 두고 일을 처리하려는 경향을 보일 수도 있습니다.\\n경제적으로 안정적인 삶을 살기 위해 어느 정도의 재산이나 부가 필요하다는 인식을 지니고 있으며, 이는 보통의 사람들의 인\\n식 수준과 크게 다르지 않은 것으로 분석되었습니다. 자신의 이익을 높이는데 관심이 있지만 이를 위해 부당 이익을 취하거나\\n다른 사람의 것을 착취하려 할 가능성은 낮을 것으로 판단됩니다.\\n상대방이 거부감을 느끼지 않는 선에서 자신의 존재나 성과를 적절히 어필할 수 있습니다. 다른 사람이 알아주지 않아도 개의\\n치 않지만 자신을 칭찬하거나 알아주는 사람이 있을 경우 더 적극적으로 어필하려는 모습을 보일 가능성이 있습니다. 다른 사\\n람에게 도움을 청할 때 적절히 자신을 낮출 수 있으며, 부담스럽지 않은 태도로 적절한 도움을 이끌어낼 가능성이 높습니다.\\n보통\\n인성 요인\\n정서안정성등급\\n보통점수\\n60\\n평소에 침착한 모습을 보이며, 감정 기복도 크지 않을 것으로 분석되었습니다. 하지만 한번 화를 내기 시작하면 그동안 억눌러\\n왔던 감정들이 터져나와 스스로 감정을 주체하지 못하는 모습을 보일 가능성이 있습니다. 친구나 동료들 사이에 갈등이나 다툼\\n이 발생할 경우 스트레스를 받지만 그것 때문에 자신이 해야 할 일에 집중하지 못할 정도는 아닙니다.\\n미래 상황이나 결과에 대해 어느 정도 낙관적인 태도를 보이는 편입니다. 다만 상황이 나빠지거나 좋지 않은 결과가 발생할 경\\n우 평소와 달리 많이 의기소침해 하는 모습을 보일 수도 있습니다. 마냥 미래를 낙관하지도 않고 비관하지도 않기 때문에 객관\\n적으로 상황을 직시할 수 있는 현실주의자로 평가 받을 가능성이 있습니다.\\n일을 처리하거나 의사결정을 내릴 때 자신의 가치관이나 기준뿐만 아니라 다른 사람들의 가치관이나 기준도 두루 고려할 수 있\\n을 것으로 보입니다. 하지만 중요한 의사결정을 내릴 때는 주변 사람들의 의견을 구하거나 동의를 얻으려 할 가능성이 높습니\\n다. 혼자서 일을 추진할 경우 다소 부담을 느끼기는 하지만 잘 해내고 싶다는 의지가 더 강한 편입니다.\\n보통\\n낮음\\n 높음\\n낮음\\n 높음내점수 67\\n내점수 60평균점수 55\\n평균점수 552/6/24, 7:18 PM 사람인  인성검사  - 사람인\\nhttps://www.saramin.co.kr/zf_user/member/svq/exam-result?apply_id=4097369&job_code=13 3/5외향성 사람들과 어울리는 것을 선호하고 에너지 넘치며, 리더십 있고 과감하게 일을 추진하려는 성향\\n원만성타인을 돕는 것에서 기쁨을 느끼고, 타인의 사고방식이나 행동을 존중하고 수용하며, 업무 상황에서 적절히 협조하거나 필요한 협력을 이끌\\n어내려는 성향인성 요인\\n외향성등급\\n보통점수\\n66\\n낯선 사람을 만나는 것보다 잘 알고 지내는 사람과의 만남을 더 선호하는 경향이 있습니다. 하지만 스스로 필요하다고 인식할\\n경우 언제든지 새로운 사람과의 관계를 형성할 수 있다는 자신감을 가지고 있습니다. 회식이나 친목 모임에 참여하는 것을 꺼\\n려하지 않으며, 모임에서 대화를 주도하지는 않더라도 분위기를 깨지 않기 위해 노력하는 모습을 보일 것입니다.\\n일상적인 업무를 수행하는데 무리없는 수준의 활력성을 지니고 있습니다. 체력 소모가 많은 일을 장시간 할 경우 이를 회복하\\n는데 다소 시간이 걸릴 수 있지만, 잠을 자거나 휴식을 취하고 나면 추후 활동을 무리없이 수행할 수 있습니다. 스트레스를 받더\\n라도 에너지가 급격하게 감소하거나 피로감을 느끼지는 않는 편입니다.\\n항상 주도적으로 나서지는 않지만, 자신이 주도성을 발휘해야 할 상황이라고 판단할 경우 책임감을 가지고 그 상황을 이끌어가\\n려고 노력합니다. 사람들을 관리하거나 방향을 제시해야 하는 것에 부담감을 느끼지만 그런 역할이 주어질 경우 기꺼이 그 역\\n할을 수행하기 위해 최선을 다할 것입니다. 업무 추진 중 불편함이나 의문점이 생길 경우 이를 해결하기 위해 자신의 의사를 적\\n극적으로 표현할 가능성이 있습니다.\\n보통\\n인성 요인\\n원만성등급\\n높음점수\\n85\\n다른 사람들을 도와주는 것에 큰 사명감을 느끼고, 사람들을 도와줄 때 가장 큰 행복감을 느낍니다. 다른 사람을 도와주기 위해\\n개인적 시간을 할애할뿐만 아니라 정기적인 봉사활동을 다닐 가능성도 높은 것으로 나타났습니다. 자신이 손해를 보더라도 남\\n에게 도움을 주고 싶어하는 경향이 강하기 때문에 가족이나 가까운 지인들로부터 오히려 불만을 사는 경우도 간혹 있을 수 있\\n습니다.\\n다른 사람을 잘 배려하며, 타인의 충고 및 자신과 다른 견해도 존중하고 받아들이려 노력하는 것으로 나타났습니다. 자신과 생\\n활방식이 다른 친구나 동료와 함께 하더라도 큰 불편함을 느끼지 않으며, 마찰없이 무난하게 생활할 가능성이 높습니다. 상대\\n방을 존중하고 배려하려는 성향 때문에 자기 의견을 강하게 주장하거나 관철시켜야 할 상황에서 적절한 대응을 하지 못할 수\\n있습니다.\\n도움이 필요하거나 도움을 주고 싶을 때 적극적으로 의사소통을 하며, 적절하게 도움을 주거나 필요한 도움을 이끌어 낼 수 있\\n습니다. 다른 사람들로부터 작은 도움을 받는 경우라도 고마워하며 항상 감사를 표현하는 편입니다. 협업이 필요한 경우 적극\\n적으로 참여하며, 업무 중 갈등이 발생할 경우 그 상황을 해결하기 위해 상당한 노력을 기울이는 편입니다.\\n보통\\n낮음\\n 높음\\n낮음\\n 높음내점수 66\\n내점수 85평균점수 55\\n평균점수 552/6/24, 7:18 PM 사람인  인성검사  - 사람인\\nhttps://www.saramin.co.kr/zf_user/member/svq/exam-result?apply_id=4097369&job_code=13 4/5성실성 높은 성취욕구를 바탕으로 체계적이고 신중하게 일을 추진하려는 성향인성 요인\\n성실성등급\\n보통점수\\n63\\n계획없이 일을 추진하는 것을 싫어하지만 구체적인 계획을 세워야 하는 것에 대해서도 다소 부담을 느낄 가능성이 있는 것으로\\n분석되었습니다. 일을 할 때 어느 정도 큰 틀에서 계획을 세워 진행하지만, 세부적인 부분들은 그때 그때 상황에 따라 대응하는\\n방식을 선호할 가능성이 높습니다. 일을 할 때 중요한 부분은 잘 체크하고 점검하는 편이나, 세부적인 부분들은 간과하기 때문\\n에 간혹 문제가 발생하거나 실수하는 모습을 보일 수 있습니다.\\n일과 가정 등의 밸런스를 중시하며, 보통 사람들과 비슷한 수준의 성취 의식을 보유하고 있습니다. 목표를 설정할 때 현재 달성\\n가능한 수준보다 기준을 조금 더 높게 설정하기 때문에 주변 사람들의 기대에 어느 정도 부응하는 결과물을 만들어 내는 편입\\n니다. 자신이 흥미있어 하는 일이나 관심있는 일에 대해서는 요구받은 것 이상의 결과물을 만들고자 추가적인 노력을 기울일\\n가능성이 높습니다.\\n일의 경중을 신중하게 고민하고, 주어진 상황이나 조건을 어느 정도 고려한 후 의사결정을 내리는 편입니다. 가급적 여러 가지\\n상황이나 조건 등을 고려하지만, 그것 때문에 정해진 기한을 넘기는 경우는 거의 없습니다. 중요한 사항에 대해서는 더 신중한\\n태도를 취하지만 사소한 사항에 대해서는 과감한 모습을 보이기도 합니다. 상대방의 의도나 생각을 파악한 후 자신이 생각한\\n부분이 맞는지 재확인할 가능성이 높습니다.\\n보통\\n인성 요인\\n개방성등급\\n높음점수\\n74\\n미적인 가치를 굉장히 중요시 여겨 평소 물건을 구매할 경우 비용이 들더라도 이왕이면 예쁘고 멋진 제품을 구입하는 경향이\\n있습니다. 실용적인 것보다 미적인 부분에 중점을 두는 성향으로, 일을 할 때 간혹 내용보다 겉으로 보여지는 모습에 더욱 집중\\n하게 될 가능성이 있습니다. 시각적인 변화를 민감하게 인식할 수 있는 능력이 있으며, 시각적 차별화 포인트의 중요성을 중시\\n합니다.\\n주변 사물에 대한 호기심 많고, 추상적인 개념에 대해 생각하거나 철학적인 개념에 대해 논쟁하는 것을 매우 즐기는 편입니다.\\n새로운 제품이 나오면 주변 사람들보다 먼저 사용해보거나 관련 정보를 먼저 습득하는 편입니다. 자신이 관심 가지는 분야의\\n새로운 지식을 익히거나 배우는데 관심이 매우 많으며, 궁금한 것이 생기면 관련 정보를 적극적으로 찾아 궁금증을 해소하려\\n합니다.\\n급진적인 방식을 좋아하며, 조직 내에서 건설적인 변화나 혁신적인 일을 추진하는데 핵심적인 역할을 담당할 가능성이 높습니\\n다. 일을 할 때 새로운 시도를 하는 것에 거리낌이 없고, 충분히 검증되지 않은 방식이라 하더라도 주변 사람들보다 먼저 적용해\\n보통\\n낮음\\n 높음\\n낮음\\n 높음내점수 63\\n내점수 74평균점수 55\\n평균점수 552/6/24, 7:18 PM 사람인  인성검사  - 사람인\\nhttps://www.saramin.co.kr/zf_user/member/svq/exam-result?apply_id=4097369&job_code=13 5/5개방성 시각적 흥미를 유발하는 것을 포함하여 새로운 것이나 방식에 관심을 갖고 깊이 탐구하며, 이를 업무 장면에 시도하고 적용하는데 거리낌이\\n없는 성향보는 경향이 있습니다. 상사에게도 궁금한 것을 직설적으로 물어보거나 기존 방식에 대해 적극적으로 이의제기하는 모습을 보\\n일 수도 있습니다.'"
      ]
     },
     "execution_count": 11,
     "metadata": {},
     "output_type": "execute_result"
    }
   ],
   "source": [
    "from typing_extensions import Concatenate\n",
    "\n",
    "# read text from pdf\n",
    "raw_text = ''\n",
    "for i, page in enumerate(pdfreader.pages):\n",
    "    content = page.extract_text()\n",
    "    if content:\n",
    "        raw_text += content\n",
    "\n",
    "raw_text"
   ]
  },
  {
   "cell_type": "markdown",
   "metadata": {},
   "source": [
    "### Initialize connection to database"
   ]
  },
  {
   "cell_type": "code",
   "execution_count": 12,
   "metadata": {},
   "outputs": [
    {
     "name": "stdout",
     "output_type": "stream",
     "text": [
      "Connected to Astra DB: {'status': {'collections': []}}\n"
     ]
    }
   ],
   "source": [
    "from astrapy.db import AstraDB\n",
    "\n",
    "# Initialization\n",
    "db = AstraDB(\n",
    "  token=ASTRA_DB_APPLICATION_TOKEN,\n",
    "  api_endpoint=\"https://1bbc37c9-e5be-4ee7-ad11-f7d5e9d9c085-us-east1.apps.astra.datastax.com\")\n",
    "\n",
    "print(f\"Connected to Astra DB: {db.get_collections()}\")"
   ]
  },
  {
   "cell_type": "code",
   "execution_count": 13,
   "metadata": {},
   "outputs": [],
   "source": [
    "cassio.init(token=ASTRA_DB_APPLICATION_TOKEN, database_id=ASTRA_DB_ID)"
   ]
  },
  {
   "cell_type": "markdown",
   "metadata": {},
   "source": [
    "### Create LangChain embedding and LLM objects for later usage:"
   ]
  },
  {
   "cell_type": "code",
   "execution_count": 14,
   "metadata": {},
   "outputs": [
    {
     "name": "stderr",
     "output_type": "stream",
     "text": [
      "/Users/syshin/Desktop/Syshin/Study/MLDL/LangChain/crash_course/pdf_query/venv/lib/python3.9/site-packages/langchain_core/_api/deprecation.py:117: LangChainDeprecationWarning: The class `langchain_community.llms.openai.OpenAI` was deprecated in langchain-community 0.0.10 and will be removed in 0.2.0. An updated version of the class exists in the langchain-openai package and should be used instead. To use it run `pip install -U langchain-openai` and import as `from langchain_openai import OpenAI`.\n",
      "  warn_deprecated(\n",
      "/Users/syshin/Desktop/Syshin/Study/MLDL/LangChain/crash_course/pdf_query/venv/lib/python3.9/site-packages/langchain_core/_api/deprecation.py:117: LangChainDeprecationWarning: The class `langchain_community.embeddings.openai.OpenAIEmbeddings` was deprecated in langchain-community 0.1.0 and will be removed in 0.2.0. An updated version of the class exists in the langchain-openai package and should be used instead. To use it run `pip install -U langchain-openai` and import as `from langchain_openai import OpenAIEmbeddings`.\n",
      "  warn_deprecated(\n"
     ]
    }
   ],
   "source": [
    "llm = OpenAI(openai_api_key=OPENAI_API_KEY)\n",
    "embedding = OpenAIEmbeddings(openai_api_key=OPENAI_API_KEY)"
   ]
  },
  {
   "cell_type": "markdown",
   "metadata": {},
   "source": [
    "### Create LangChain vencor store backed by Astra DB"
   ]
  },
  {
   "cell_type": "code",
   "execution_count": 15,
   "metadata": {},
   "outputs": [],
   "source": [
    "astra_vector_store = Cassandra(\n",
    "    embedding=embedding,\n",
    "    table_name=\"qa_mini_demo\",\n",
    "    session=None,\n",
    "    keyspace=None\n",
    ")"
   ]
  },
  {
   "cell_type": "code",
   "execution_count": 16,
   "metadata": {},
   "outputs": [
    {
     "data": {
      "text/plain": [
       "['2/6/24, 7:18 PM 사람인  인성검사  - 사람인\\nhttps://www.saramin.co.kr/zf_user/member/svq/exam-result?apply_id=4097369&job_code=13 1/5\\n사람인 인성검사 결과응시자\\n신승엽희망직무\\nIT·인터넷검사일자\\n2024.01.21\\n표준점수 인성검사 응시자 집단에서 나의 상대적인 위치를 나타내기 위해 산출하는 점수\\n백분위 나보다 낮은 점수를 받은 사람을 백분율로 표기\\n예) 점수가 95%라면 내 점수보다 낮은 사람이 95% 있다는 것을 의미\\n응답신뢰도 일관적인 답변을 하지 않았거나 실제 자신의 성향보다 더 긍정적인 방향으로 응답하면 신뢰도가 낮아질 수 있음직무적합(IT·인터넷) : 높음\\nIT·인터넷직에서는 작은 것도 놓치지 않는 세밀함, 논리적이고 체계적인 사고력 및 업무적으로 타인에게 신뢰감을 심어줄 수\\n있는 자세, 주도적인 태도로 새롭거나 대안적인 방안을 제시하려는 자세가 요구됩니다.\\n신승엽님은 해당 직무에 대한 적합도가 매우 높아 주어진 직무 상황에 잘 적응하며, 우수한 역량을 발휘할 가능성이 높습니다.* 본 검사는 응답을 토대로 작성되었으며, 본인의 직무 적합도를 확인할 수 있습니다. 종합 결과\\n표준점수\\n69 점백분위\\n93 %응답신뢰도\\n낮음\\n인성 요인 비교\\n정직겸손성\\n정서안정성\\n외향성\\n원만성성실성개방성내 점수 평균 점수\\n요인별 평가2/6/24, 7:18 PM 사람인  인성검사  - 사람인',\n",
       " '표준점수\\n69 점백분위\\n93 %응답신뢰도\\n낮음\\n인성 요인 비교\\n정직겸손성\\n정서안정성\\n외향성\\n원만성성실성개방성내 점수 평균 점수\\n요인별 평가2/6/24, 7:18 PM 사람인  인성검사  - 사람인\\nhttps://www.saramin.co.kr/zf_user/member/svq/exam-result?apply_id=4097369&job_code=13 2/5정직겸손성 자신에게 유리한 방향으로 의사 결정하거나 사람들을 조정하지 않고, 물질적인 것에 과하게 욕심을 내지 않으며 겸손해 할 줄 아는 성향\\n정서안정성 미래에 대한 긍정적 인식과 자신에 대한 믿음을 바탕으로 타인과 관계를 구축해 나가며 예상치 못한 상황에 처하더라도 심리적 안정을 유지\\n할 수 있는 성향인성 요인\\n정직겸손성등급\\n보통점수\\n67\\n일을 할 때 가급적이면 정해진 원칙을 따르려하며, 규정이나 규범을 지킬 것으로 판단됩니다. 또한 이견이 있을 경우에도 비교\\n적 양측의 입장을 두루 고려하려는 태도를 보일 가능성이 높습니다. 다만 자신이 잘 알지 못하는 일을 처리할 경우 평소 신뢰하\\n던 지인의 이야기에 더 중점을 두고 일을 처리하려는 경향을 보일 수도 있습니다.\\n경제적으로 안정적인 삶을 살기 위해 어느 정도의 재산이나 부가 필요하다는 인식을 지니고 있으며, 이는 보통의 사람들의 인\\n식 수준과 크게 다르지 않은 것으로 분석되었습니다. 자신의 이익을 높이는데 관심이 있지만 이를 위해 부당 이익을 취하거나\\n다른 사람의 것을 착취하려 할 가능성은 낮을 것으로 판단됩니다.',\n",
       " '경제적으로 안정적인 삶을 살기 위해 어느 정도의 재산이나 부가 필요하다는 인식을 지니고 있으며, 이는 보통의 사람들의 인\\n식 수준과 크게 다르지 않은 것으로 분석되었습니다. 자신의 이익을 높이는데 관심이 있지만 이를 위해 부당 이익을 취하거나\\n다른 사람의 것을 착취하려 할 가능성은 낮을 것으로 판단됩니다.\\n상대방이 거부감을 느끼지 않는 선에서 자신의 존재나 성과를 적절히 어필할 수 있습니다. 다른 사람이 알아주지 않아도 개의\\n치 않지만 자신을 칭찬하거나 알아주는 사람이 있을 경우 더 적극적으로 어필하려는 모습을 보일 가능성이 있습니다. 다른 사\\n람에게 도움을 청할 때 적절히 자신을 낮출 수 있으며, 부담스럽지 않은 태도로 적절한 도움을 이끌어낼 가능성이 높습니다.\\n보통\\n인성 요인\\n정서안정성등급\\n보통점수\\n60\\n평소에 침착한 모습을 보이며, 감정 기복도 크지 않을 것으로 분석되었습니다. 하지만 한번 화를 내기 시작하면 그동안 억눌러\\n왔던 감정들이 터져나와 스스로 감정을 주체하지 못하는 모습을 보일 가능성이 있습니다. 친구나 동료들 사이에 갈등이나 다툼\\n이 발생할 경우 스트레스를 받지만 그것 때문에 자신이 해야 할 일에 집중하지 못할 정도는 아닙니다.\\n미래 상황이나 결과에 대해 어느 정도 낙관적인 태도를 보이는 편입니다. 다만 상황이 나빠지거나 좋지 않은 결과가 발생할 경\\n우 평소와 달리 많이 의기소침해 하는 모습을 보일 수도 있습니다. 마냥 미래를 낙관하지도 않고 비관하지도 않기 때문에 객관\\n적으로 상황을 직시할 수 있는 현실주의자로 평가 받을 가능성이 있습니다.',\n",
       " '미래 상황이나 결과에 대해 어느 정도 낙관적인 태도를 보이는 편입니다. 다만 상황이 나빠지거나 좋지 않은 결과가 발생할 경\\n우 평소와 달리 많이 의기소침해 하는 모습을 보일 수도 있습니다. 마냥 미래를 낙관하지도 않고 비관하지도 않기 때문에 객관\\n적으로 상황을 직시할 수 있는 현실주의자로 평가 받을 가능성이 있습니다.\\n일을 처리하거나 의사결정을 내릴 때 자신의 가치관이나 기준뿐만 아니라 다른 사람들의 가치관이나 기준도 두루 고려할 수 있\\n을 것으로 보입니다. 하지만 중요한 의사결정을 내릴 때는 주변 사람들의 의견을 구하거나 동의를 얻으려 할 가능성이 높습니\\n다. 혼자서 일을 추진할 경우 다소 부담을 느끼기는 하지만 잘 해내고 싶다는 의지가 더 강한 편입니다.\\n보통\\n낮음\\n 높음\\n낮음\\n 높음내점수 67\\n내점수 60평균점수 55\\n평균점수 552/6/24, 7:18 PM 사람인  인성검사  - 사람인\\nhttps://www.saramin.co.kr/zf_user/member/svq/exam-result?apply_id=4097369&job_code=13 3/5외향성 사람들과 어울리는 것을 선호하고 에너지 넘치며, 리더십 있고 과감하게 일을 추진하려는 성향\\n원만성타인을 돕는 것에서 기쁨을 느끼고, 타인의 사고방식이나 행동을 존중하고 수용하며, 업무 상황에서 적절히 협조하거나 필요한 협력을 이끌\\n어내려는 성향인성 요인\\n외향성등급\\n보통점수\\n66\\n낯선 사람을 만나는 것보다 잘 알고 지내는 사람과의 만남을 더 선호하는 경향이 있습니다. 하지만 스스로 필요하다고 인식할',\n",
       " '원만성타인을 돕는 것에서 기쁨을 느끼고, 타인의 사고방식이나 행동을 존중하고 수용하며, 업무 상황에서 적절히 협조하거나 필요한 협력을 이끌\\n어내려는 성향인성 요인\\n외향성등급\\n보통점수\\n66\\n낯선 사람을 만나는 것보다 잘 알고 지내는 사람과의 만남을 더 선호하는 경향이 있습니다. 하지만 스스로 필요하다고 인식할\\n경우 언제든지 새로운 사람과의 관계를 형성할 수 있다는 자신감을 가지고 있습니다. 회식이나 친목 모임에 참여하는 것을 꺼\\n려하지 않으며, 모임에서 대화를 주도하지는 않더라도 분위기를 깨지 않기 위해 노력하는 모습을 보일 것입니다.\\n일상적인 업무를 수행하는데 무리없는 수준의 활력성을 지니고 있습니다. 체력 소모가 많은 일을 장시간 할 경우 이를 회복하\\n는데 다소 시간이 걸릴 수 있지만, 잠을 자거나 휴식을 취하고 나면 추후 활동을 무리없이 수행할 수 있습니다. 스트레스를 받더\\n라도 에너지가 급격하게 감소하거나 피로감을 느끼지는 않는 편입니다.\\n항상 주도적으로 나서지는 않지만, 자신이 주도성을 발휘해야 할 상황이라고 판단할 경우 책임감을 가지고 그 상황을 이끌어가\\n려고 노력합니다. 사람들을 관리하거나 방향을 제시해야 하는 것에 부담감을 느끼지만 그런 역할이 주어질 경우 기꺼이 그 역\\n할을 수행하기 위해 최선을 다할 것입니다. 업무 추진 중 불편함이나 의문점이 생길 경우 이를 해결하기 위해 자신의 의사를 적\\n극적으로 표현할 가능성이 있습니다.\\n보통\\n인성 요인\\n원만성등급\\n높음점수\\n85\\n다른 사람들을 도와주는 것에 큰 사명감을 느끼고, 사람들을 도와줄 때 가장 큰 행복감을 느낍니다. 다른 사람을 도와주기 위해',\n",
       " '할을 수행하기 위해 최선을 다할 것입니다. 업무 추진 중 불편함이나 의문점이 생길 경우 이를 해결하기 위해 자신의 의사를 적\\n극적으로 표현할 가능성이 있습니다.\\n보통\\n인성 요인\\n원만성등급\\n높음점수\\n85\\n다른 사람들을 도와주는 것에 큰 사명감을 느끼고, 사람들을 도와줄 때 가장 큰 행복감을 느낍니다. 다른 사람을 도와주기 위해\\n개인적 시간을 할애할뿐만 아니라 정기적인 봉사활동을 다닐 가능성도 높은 것으로 나타났습니다. 자신이 손해를 보더라도 남\\n에게 도움을 주고 싶어하는 경향이 강하기 때문에 가족이나 가까운 지인들로부터 오히려 불만을 사는 경우도 간혹 있을 수 있\\n습니다.\\n다른 사람을 잘 배려하며, 타인의 충고 및 자신과 다른 견해도 존중하고 받아들이려 노력하는 것으로 나타났습니다. 자신과 생\\n활방식이 다른 친구나 동료와 함께 하더라도 큰 불편함을 느끼지 않으며, 마찰없이 무난하게 생활할 가능성이 높습니다. 상대\\n방을 존중하고 배려하려는 성향 때문에 자기 의견을 강하게 주장하거나 관철시켜야 할 상황에서 적절한 대응을 하지 못할 수\\n있습니다.\\n도움이 필요하거나 도움을 주고 싶을 때 적극적으로 의사소통을 하며, 적절하게 도움을 주거나 필요한 도움을 이끌어 낼 수 있\\n습니다. 다른 사람들로부터 작은 도움을 받는 경우라도 고마워하며 항상 감사를 표현하는 편입니다. 협업이 필요한 경우 적극\\n적으로 참여하며, 업무 중 갈등이 발생할 경우 그 상황을 해결하기 위해 상당한 노력을 기울이는 편입니다.\\n보통\\n낮음\\n 높음\\n낮음\\n 높음내점수 66\\n내점수 85평균점수 55',\n",
       " '습니다. 다른 사람들로부터 작은 도움을 받는 경우라도 고마워하며 항상 감사를 표현하는 편입니다. 협업이 필요한 경우 적극\\n적으로 참여하며, 업무 중 갈등이 발생할 경우 그 상황을 해결하기 위해 상당한 노력을 기울이는 편입니다.\\n보통\\n낮음\\n 높음\\n낮음\\n 높음내점수 66\\n내점수 85평균점수 55\\n평균점수 552/6/24, 7:18 PM 사람인  인성검사  - 사람인\\nhttps://www.saramin.co.kr/zf_user/member/svq/exam-result?apply_id=4097369&job_code=13 4/5성실성 높은 성취욕구를 바탕으로 체계적이고 신중하게 일을 추진하려는 성향인성 요인\\n성실성등급\\n보통점수\\n63\\n계획없이 일을 추진하는 것을 싫어하지만 구체적인 계획을 세워야 하는 것에 대해서도 다소 부담을 느낄 가능성이 있는 것으로\\n분석되었습니다. 일을 할 때 어느 정도 큰 틀에서 계획을 세워 진행하지만, 세부적인 부분들은 그때 그때 상황에 따라 대응하는\\n방식을 선호할 가능성이 높습니다. 일을 할 때 중요한 부분은 잘 체크하고 점검하는 편이나, 세부적인 부분들은 간과하기 때문\\n에 간혹 문제가 발생하거나 실수하는 모습을 보일 수 있습니다.\\n일과 가정 등의 밸런스를 중시하며, 보통 사람들과 비슷한 수준의 성취 의식을 보유하고 있습니다. 목표를 설정할 때 현재 달성\\n가능한 수준보다 기준을 조금 더 높게 설정하기 때문에 주변 사람들의 기대에 어느 정도 부응하는 결과물을 만들어 내는 편입\\n니다. 자신이 흥미있어 하는 일이나 관심있는 일에 대해서는 요구받은 것 이상의 결과물을 만들고자 추가적인 노력을 기울일',\n",
       " '가능한 수준보다 기준을 조금 더 높게 설정하기 때문에 주변 사람들의 기대에 어느 정도 부응하는 결과물을 만들어 내는 편입\\n니다. 자신이 흥미있어 하는 일이나 관심있는 일에 대해서는 요구받은 것 이상의 결과물을 만들고자 추가적인 노력을 기울일\\n가능성이 높습니다.\\n일의 경중을 신중하게 고민하고, 주어진 상황이나 조건을 어느 정도 고려한 후 의사결정을 내리는 편입니다. 가급적 여러 가지\\n상황이나 조건 등을 고려하지만, 그것 때문에 정해진 기한을 넘기는 경우는 거의 없습니다. 중요한 사항에 대해서는 더 신중한\\n태도를 취하지만 사소한 사항에 대해서는 과감한 모습을 보이기도 합니다. 상대방의 의도나 생각을 파악한 후 자신이 생각한\\n부분이 맞는지 재확인할 가능성이 높습니다.\\n보통\\n인성 요인\\n개방성등급\\n높음점수\\n74\\n미적인 가치를 굉장히 중요시 여겨 평소 물건을 구매할 경우 비용이 들더라도 이왕이면 예쁘고 멋진 제품을 구입하는 경향이\\n있습니다. 실용적인 것보다 미적인 부분에 중점을 두는 성향으로, 일을 할 때 간혹 내용보다 겉으로 보여지는 모습에 더욱 집중\\n하게 될 가능성이 있습니다. 시각적인 변화를 민감하게 인식할 수 있는 능력이 있으며, 시각적 차별화 포인트의 중요성을 중시\\n합니다.\\n주변 사물에 대한 호기심 많고, 추상적인 개념에 대해 생각하거나 철학적인 개념에 대해 논쟁하는 것을 매우 즐기는 편입니다.\\n새로운 제품이 나오면 주변 사람들보다 먼저 사용해보거나 관련 정보를 먼저 습득하는 편입니다. 자신이 관심 가지는 분야의',\n",
       " '합니다.\\n주변 사물에 대한 호기심 많고, 추상적인 개념에 대해 생각하거나 철학적인 개념에 대해 논쟁하는 것을 매우 즐기는 편입니다.\\n새로운 제품이 나오면 주변 사람들보다 먼저 사용해보거나 관련 정보를 먼저 습득하는 편입니다. 자신이 관심 가지는 분야의\\n새로운 지식을 익히거나 배우는데 관심이 매우 많으며, 궁금한 것이 생기면 관련 정보를 적극적으로 찾아 궁금증을 해소하려\\n합니다.\\n급진적인 방식을 좋아하며, 조직 내에서 건설적인 변화나 혁신적인 일을 추진하는데 핵심적인 역할을 담당할 가능성이 높습니\\n다. 일을 할 때 새로운 시도를 하는 것에 거리낌이 없고, 충분히 검증되지 않은 방식이라 하더라도 주변 사람들보다 먼저 적용해\\n보통\\n낮음\\n 높음\\n낮음\\n 높음내점수 63\\n내점수 74평균점수 55\\n평균점수 552/6/24, 7:18 PM 사람인  인성검사  - 사람인\\nhttps://www.saramin.co.kr/zf_user/member/svq/exam-result?apply_id=4097369&job_code=13 5/5개방성 시각적 흥미를 유발하는 것을 포함하여 새로운 것이나 방식에 관심을 갖고 깊이 탐구하며, 이를 업무 장면에 시도하고 적용하는데 거리낌이\\n없는 성향보는 경향이 있습니다. 상사에게도 궁금한 것을 직설적으로 물어보거나 기존 방식에 대해 적극적으로 이의제기하는 모습을 보\\n일 수도 있습니다.']"
      ]
     },
     "execution_count": 16,
     "metadata": {},
     "output_type": "execute_result"
    }
   ],
   "source": [
    "from langchain.text_splitter import CharacterTextSplitter\n",
    "\n",
    "# split the text using Character Text Split such that i should not increase token size\n",
    "text_splitter = CharacterTextSplitter(\n",
    "    separator=\"\\n\",\n",
    "    chunk_size = 800,\n",
    "    chunk_overlap = 200,\n",
    "    length_function = len,\n",
    ")\n",
    "\n",
    "texts = text_splitter.split_text(raw_text)\n",
    "texts[:50]"
   ]
  },
  {
   "cell_type": "markdown",
   "metadata": {},
   "source": [
    "### Load the dataset into the vector store"
   ]
  },
  {
   "cell_type": "code",
   "execution_count": 17,
   "metadata": {},
   "outputs": [
    {
     "name": "stdout",
     "output_type": "stream",
     "text": [
      "Inserted 9 headlines.\n"
     ]
    }
   ],
   "source": [
    "astra_vector_store.add_texts(texts=texts)\n",
    "\n",
    "print(\"Inserted %i headlines.\" % len(texts))\n",
    "\n",
    "astra_vector_index = VectorStoreIndexWrapper(vectorstore=astra_vector_store)"
   ]
  },
  {
   "cell_type": "markdown",
   "metadata": {},
   "source": [
    "### Run the QA cycle\n",
    "\n",
    "Simply run the cells and ask a question -or quit to stop(you can also stop execution with the \"*\" button on the top toolbar)"
   ]
  },
  {
   "cell_type": "code",
   "execution_count": 20,
   "metadata": {},
   "outputs": [
    {
     "ename": "SyntaxError",
     "evalue": "EOL while scanning string literal (4162692443.py, line 23)",
     "output_type": "error",
     "traceback": [
      "\u001b[0;36m  Cell \u001b[0;32mIn[20], line 23\u001b[0;36m\u001b[0m\n\u001b[0;31m    print(f\"    {score}, {doc.page_content[:84]}...)\u001b[0m\n\u001b[0m                                                    ^\u001b[0m\n\u001b[0;31mSyntaxError\u001b[0m\u001b[0;31m:\u001b[0m EOL while scanning string literal\n"
     ]
    }
   ],
   "source": [
    "first_question = True\n",
    "while True:\n",
    "    if first_question:\n",
    "        query_text = input(\"\\nEnter your question (or type 'quit' to exit): \").strip()\n",
    "    else: \n",
    "        query_text = input(\"\\nWhat's your next question (or type 'quit' to exit): \").strip()\n",
    "    \n",
    "    if query_text.lower() == 'quit':\n",
    "        break\n",
    "\n",
    "    if query_text == \"\":\n",
    "        continue\n",
    "\n",
    "    first_question = False\n",
    "\n",
    "\n",
    "    print(\"\\nQUESTION: \\\"%s\\\"\" % query_text)\n",
    "    answer = astra_vector_index.query(query_text, llm=llm).strip()\n",
    "    print(\"ANSWER: \\\"%s\\\"\\n\" % answer)\n",
    "\n",
    "    print(\"FIRST DOCUMNETS BY RELEVANCE:\")\n",
    "    for doc, score in astra_vector_store.similarity_search_with_score(query_text, k=4):\n",
    "        print(f\"    {score}, {doc.page_content[:84]}...\")\n"
   ]
  },
  {
   "cell_type": "code",
   "execution_count": null,
   "metadata": {},
   "outputs": [],
   "source": []
  }
 ],
 "metadata": {
  "kernelspec": {
   "display_name": "Python 3",
   "language": "python",
   "name": "python3"
  },
  "language_info": {
   "codemirror_mode": {
    "name": "ipython",
    "version": 3
   },
   "file_extension": ".py",
   "mimetype": "text/x-python",
   "name": "python",
   "nbconvert_exporter": "python",
   "pygments_lexer": "ipython3",
   "version": "3.9.18"
  }
 },
 "nbformat": 4,
 "nbformat_minor": 2
}
