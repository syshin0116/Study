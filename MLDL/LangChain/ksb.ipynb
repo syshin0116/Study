{
 "cells": [
  {
   "cell_type": "code",
   "execution_count": 6,
   "metadata": {},
   "outputs": [],
   "source": [
    "from langchain_core.prompts import ChatPromptTemplate\n",
    "from langchain_core.messages import AnyMessage, HumanMessage, AIMessage, SystemMessage\n",
    "from langchain_openai import ChatOpenAI"
   ]
  },
  {
   "cell_type": "code",
   "execution_count": 7,
   "metadata": {},
   "outputs": [
    {
     "data": {
      "text/plain": [
       "True"
      ]
     },
     "execution_count": 7,
     "metadata": {},
     "output_type": "execute_result"
    }
   ],
   "source": [
    "from dotenv import load_dotenv, find_dotenv\n",
    "\n",
    "load_dotenv(find_dotenv())"
   ]
  },
  {
   "cell_type": "code",
   "execution_count": 37,
   "metadata": {},
   "outputs": [],
   "source": [
    "req_query = \"상담내용 3줄로 요약해줘\""
   ]
  },
  {
   "cell_type": "code",
   "execution_count": 38,
   "metadata": {},
   "outputs": [],
   "source": [
    "llm = ChatOpenAI(model=\"gpt-4o\", temperature=0.7, streaming=True)"
   ]
  },
  {
   "cell_type": "code",
   "execution_count": 39,
   "metadata": {},
   "outputs": [],
   "source": [
    "session_id = 1234\n",
    "# FIXME: curr. using history from client side\n",
    "\n",
    "trace_id = 1234  # 내담자 기록 추적 ID\n",
    "\n",
    "\n",
    "chat_history = [\n",
    "    {\n",
    "        \"role\": \"assistant\",\n",
    "        \"action\": \"start\",\n",
    "        \"content\": \"안녕하세요, 화성시 마음 건강이입니다. 어떤 힘든 일 때문에 저를 찾아오셨나요?\",\n",
    "        \"created_at\": \"2024-12-26T17:21:11.627\",\n",
    "    },\n",
    "    {\n",
    "        \"role\": \"user\",\n",
    "        \"action\": \"counsel\",\n",
    "        \"content\": \"하루의 피로도가 높고... 요즘 위험한 생각도 같이 들고 있어\",\n",
    "        \"created_at\": \"2024-12-26T17:21:13.123\",\n",
    "    },\n",
    "    {\n",
    "        \"role\": \"ai\",\n",
    "        \"action\": \"counsel\",\n",
    "        \"content\": \"정말 힘든 하루였겠네요. 언제부터 이런 감정을 느꼈나요?\",\n",
    "        \"created_at\": \"2024-12-26T17:21:14.241\",\n",
    "    },\n",
    "    {\n",
    "        \"role\": \"user\",\n",
    "        \"action\": \"counsel\",\n",
    "        \"content\": \"아마 2주는 넘은 듯 한데,, 혼자 이걸 해결하려고 해도 자꾸만 무너지는 기분이 들어\",\n",
    "        \"created_at\": \"2024-12-26T17:21:16.432\",\n",
    "    },\n",
    "    {\n",
    "        \"role\": \"ai\",\n",
    "        \"action\": \"counsel\",\n",
    "        \"content\": \"혼자 해결하려고 애쓰셨군요. 많이 힘드셨겠어요. 마음이 답답할 때는 주로 누구와 대화를 나누나요?\",\n",
    "        \"created_at\": \"2024-12-26T17:21:18.721\",\n",
    "    },\n",
    "    {\n",
    "        \"role\": \"user\",\n",
    "        \"action\": \"counsel\",\n",
    "        \"content\": \"누가 날 도울 수 있겠어. 그냥 혼자서 감내하는거지\",\n",
    "        \"created_at\": \"2024-12-26T17:21:20.093\",\n",
    "    },\n",
    "    {\n",
    "        \"role\": \"ai\",\n",
    "        \"action\": \"counsel\",\n",
    "        \"content\": \"그렇게 느끼는 것도 괜찮아요. 하지만 당신은 혼자가 아니에요. 제가 당신을 응원하고 있어요.\",\n",
    "        \"created_at\": \"2024-12-26T17:21:23.014\",\n",
    "    },\n",
    "    {\n",
    "        \"role\": \"user\",\n",
    "        \"action\": \"counsel\",\n",
    "        \"content\": \"네 응원으로도 기분이 나아지질 않네... 한강에 뛰어들면,,, 바로 죽을까?\",\n",
    "        \"created_at\": \"2024-12-26T17:22:07.987\",\n",
    "    },\n",
    "    {\n",
    "        \"role\": \"ai\",\n",
    "        \"action\": \"counsel\",\n",
    "        \"content\": \"얼마나 힘들었으면 그런 생각을 하셨을까요? 이야기를 들으니까 걱정이 되네요. 그래도 당신의 이야기를 더 듣고 싶어요. 언제부터 자살을 생각하셨나요?\",\n",
    "        \"created_at\": \"2024-12-26T17:22:10.321\",\n",
    "    },\n",
    "    {\n",
    "        \"role\": \"ai\",\n",
    "        \"action\": \"assessment\",\n",
    "        \"content\": \"아니면 자가 검진을 해보시겠어요?\",\n",
    "        \"created_at\": \"2024-12-26T17:22:10.918\",\n",
    "    },\n",
    "    {\n",
    "        \"role\": \"assistant\",\n",
    "        \"action\": \"assessment\",\n",
    "        \"content\": \"자살 행동 척도(Suicidal Behaviors Questionnaire-Revised:SBQ-R)는 15점이고, '자살행동 위험 높음'이라는 결과가 나왔습니다. 전문가와 상담해보는 것은 어떠신가요?\",\n",
    "        \"created_at\": \"2024-12-26T17:24:02.871\",\n",
    "    },\n",
    "    {\n",
    "        \"role\": \"user\",\n",
    "        \"action\": \"counsel\",\n",
    "        \"content\": \"더 할 말은 없어\",\n",
    "        \"created_at\": \"2024-12-26T17:24:48.231\",\n",
    "    },\n",
    "    {\n",
    "        \"role\": \"ai\",\n",
    "        \"action\": \"notice\",\n",
    "        \"content\": \"언제든지 마음이 힘들면 다시 찾아주세요. 필요할 때는 상담사와 연결해 드릴 수 있어요.\",\n",
    "        \"created_at\": \"2024-12-26T17:24:51.321\",\n",
    "    },\n",
    "    {\n",
    "        \"role\": \"user\",\n",
    "        \"action\": \"counsel\",\n",
    "        \"content\": \"상담사와 연결하려면 어떻게 해야 해?\",\n",
    "        \"created_at\": \"2024-12-26T17:24:55.231\",\n",
    "    },\n",
    "    {\n",
    "        \"role\": \"ai\",\n",
    "        \"action\": \"appointment\",\n",
    "        \"content\": \"전화 상담이 필요하시면 성함과 연락처를 남겨주세요. 근무시간에 상담사와 연계해 드리겠습니다.\",\n",
    "        \"created_at\": \"2024-12-26T17:24:57.123\",\n",
    "    },\n",
    "    {\n",
    "        \"role\": \"user\",\n",
    "        \"action\": \"counsel\",\n",
    "        \"content\": \"내 이름은 홍길동이고, 전화번호는 010-9876-5432이야\",\n",
    "        \"created_at\": \"2024-12-26T17:25:15.029\",\n",
    "    },\n",
    "    {\n",
    "        \"role\": \"ai\",\n",
    "        \"action\": \"end\",\n",
    "        \"content\": \"감사합니다, 홍길동님. 남겨주신 정보를 바탕으로 상담사와 연결해 드리겠습니다. 곧 연락드릴게요.\",\n",
    "        \"created_at\": \"2024-12-26T17:25:17.726\",\n",
    "    },\n",
    "]\n",
    "\n",
    "config = {\"configurable\": {\"session_id\": session_id, \"conversation_id\": trace_id}}\n",
    "system_prompt = \"\"\"당신은 한국의 정신건강 상담사의 업무를 지원하는 챗봇입니다.\n",
    "주어진 내담자의 상담 이력을 기반으로 상담사가 요청한 업무를 수행하세요.\n",
    "가이드라인:\n",
    "1. 상담사가 요청한 업무가 지원 업무 내 있는지 확인\n",
    "2. 지원 가능한 업무라면 요청에 대한 응답을 생성\n",
    "3. 주어진 지원 업무에서 지원할 수 없는 업무라면, '해당 상담 이력에서는 지원할 수 없는 업무입니다.'라고 응답\n",
    "내담자의 상담 이력:\n",
    "<내담자의 상담 이력>\n",
    "{user_history}\n",
    "</내담자의 상담 이력>\n",
    "\n",
    "지원 업무:\n",
    "- 요약(2-3 문장)\n",
    "- 주요 감정 분석(최소 2개, 최대 3개의 감정 명사)\n",
    "- 주요 키워드 추출(최소 2개, 최대 5개의 명사형 키워드)\n",
    "답변은 반드시 한국어로 작성해야 합니다. 답변은 50자 내외로 작성해야 합니다.\"\"\"\n",
    "\n",
    "prompt = ChatPromptTemplate.from_messages(\n",
    "    [\n",
    "        (\"system\", system_prompt),\n",
    "        (\"human\", \"{question}\"),\n",
    "    ]\n",
    ")\n",
    "chain = prompt | llm"
   ]
  },
  {
   "cell_type": "code",
   "execution_count": 40,
   "metadata": {},
   "outputs": [
    {
     "name": "stdout",
     "output_type": "stream",
     "text": [
      "내담자는 최근 2주간 피로와 위험한 생각을 느꼈고, 혼자 해결하려 했으나 어려움을 겪고 있습니다. 자살 행동 척도 결과는 위험 높음으로 나왔으며, 상담사와의 연결을 요청했습니다. 홍길동이라는 이름과 연락처를 제공하여 상담사와 연결될 예정입니다."
     ]
    }
   ],
   "source": [
    "async for chunk in chain.astream(\n",
    "    {\n",
    "        \"question\": req_query,\n",
    "        \"user_history\": chat_history,\n",
    "    },\n",
    "    config,\n",
    "):\n",
    "    content = getattr(chunk, \"content\", None)\n",
    "    if content and len(content) > 0:\n",
    "        print(content, end=\"\")"
   ]
  }
 ],
 "metadata": {
  "kernelspec": {
   "display_name": "playground",
   "language": "python",
   "name": "python3"
  },
  "language_info": {
   "codemirror_mode": {
    "name": "ipython",
    "version": 3
   },
   "file_extension": ".py",
   "mimetype": "text/x-python",
   "name": "python",
   "nbconvert_exporter": "python",
   "pygments_lexer": "ipython3",
   "version": "3.11.8"
  }
 },
 "nbformat": 4,
 "nbformat_minor": 2
}
