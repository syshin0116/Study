{
 "cells": [
  {
   "cell_type": "code",
   "execution_count": 70,
   "metadata": {},
   "outputs": [],
   "source": [
    "from dotenv import load_dotenv\n",
    "from langchain_community.vectorstores import FAISS\n",
    "from langchain_core.output_parsers import StrOutputParser\n",
    "from langchain_core.runnables import RunnablePassthrough\n",
    "\n",
    "load_dotenv()\n",
    "\n",
    "gpt_35_model = 'dev-gpt-35-turbo-sample'\n",
    "embedding_model = 'dev-text-embedding-ada-002-01' \n",
    "urls = [\n",
    "    'https://www.law.go.kr/lsInfoP.do?lsiSeq=39593&efYd=19971231#0000',\n",
    "    'https://www.law.go.kr/lsInfoP.do?lsiSeq=258015&efYd=20240101#0000',\n",
    "    'https://www.law.go.kr/lsInfoP.do?lsiSeq=260889&efYd=20240301#0000',\n",
    "    'https://www.law.go.kr/lsInfoP.do?lsiSeq=261251&efYd=20240322#0000'\n",
    "]\n",
    "\n",
    "human_question = '''소득세법 제2조(납세의무) 에 대해 설명해줘'''"
   ]
  },
  {
   "cell_type": "code",
   "execution_count": 71,
   "metadata": {},
   "outputs": [],
   "source": [
    "\n",
    "\n",
    "from langchain.text_splitter import RecursiveCharacterTextSplitter\n",
    "from langchain_community.document_loaders import WebBaseLoader\n",
    "from langchain_community.vectorstores import Chroma\n",
    "from langchain_openai.embeddings.azure import AzureOpenAIEmbeddings\n",
    "from langchain.retrievers import BM25Retriever, EnsembleRetriever\n",
    "\n",
    "\n",
    "docs = [WebBaseLoader(url).load() for url in urls]\n",
    "docs_list = [item for sublist in docs for item in sublist]\n"
   ]
  },
  {
   "cell_type": "code",
   "execution_count": 72,
   "metadata": {},
   "outputs": [],
   "source": [
    "\n",
    "text_splitter = RecursiveCharacterTextSplitter.from_tiktoken_encoder(\n",
    "    chunk_size=100, chunk_overlap=50\n",
    ")\n",
    "doc_splits = text_splitter.split_documents(docs_list)\n"
   ]
  },
  {
   "cell_type": "code",
   "execution_count": 73,
   "metadata": {},
   "outputs": [],
   "source": [
    "from langchain_experimental.text_splitter import SemanticChunker"
   ]
  },
  {
   "cell_type": "code",
   "execution_count": 74,
   "metadata": {},
   "outputs": [],
   "source": [
    "# SemanticChunker 를 생성합니다.\n",
    "semantic_text_splitter = SemanticChunker(\n",
    "    AzureOpenAIEmbeddings(\n",
    "        model=embedding_model# Azure OpenAIEmbedding model명\n",
    "        ), add_start_index=True)"
   ]
  },
  {
   "cell_type": "code",
   "execution_count": 75,
   "metadata": {},
   "outputs": [],
   "source": [
    "\n",
    "# 벡터 데이터베이스에 문서 추가\n",
    "vectorstore = Chroma.from_documents(\n",
    "    documents=doc_splits,\n",
    "    collection_name=\"rag-chroma\",\n",
    "    embedding=AzureOpenAIEmbeddings(\n",
    "        model=embedding_model# Azure OpenAIEmbedding model명\n",
    "        ),\n",
    "    persist_directory=\"./chroma_db\"\n",
    ")\n",
    "retriever = vectorstore.as_retriever(search_type=\"similarity\")\n",
    "search_result = retriever.get_relevant_documents(human_question)\n",
    "\n"
   ]
  },
  {
   "cell_type": "code",
   "execution_count": 76,
   "metadata": {},
   "outputs": [
    {
     "name": "stdout",
     "output_type": "stream",
     "text": [
      "[Document(page_content='소득세법 시행규칙', metadata={'language': 'ko', 'source': 'https://www.law.go.kr/lsInfoP.do?lsiSeq=261251&efYd=20240322#0000', 'title': '소득세법 시행규칙 | 국가법령정보센터 | 법령 > 본문'}), Document(page_content='소득세법 시행규칙', metadata={'language': 'ko', 'source': 'https://www.law.go.kr/lsInfoP.do?lsiSeq=261251&efYd=20240322#0000', 'title': '소득세법 시행규칙 | 국가법령정보센터 | 법령 > 본문'}), Document(page_content='소득세법 시행규칙', metadata={'language': 'ko', 'source': 'https://www.law.go.kr/lsInfoP.do?lsiSeq=261251&efYd=20240322#0000', 'title': '소득세법 시행규칙 | 국가법령정보센터 | 법령 > 본문'}), Document(page_content='소득세법 시행규칙', metadata={'language': 'ko', 'source': 'https://www.law.go.kr/lsInfoP.do?lsiSeq=261251&efYd=20240322#0000', 'title': '소득세법 시행규칙 | 국가법령정보센터 | 법령 > 본문'}), Document(page_content='소득세법 시행규칙', metadata={'language': 'ko', 'source': 'https://www.law.go.kr/lsInfoP.do?lsiSeq=261251&efYd=20240322#0000', 'title': '소득세법 시행규칙 | 국가법령정보센터 | 법령 > 본문'}), Document(page_content='소득세법 시행규칙', metadata={'language': 'ko', 'source': 'https://www.law.go.kr/lsInfoP.do?lsiSeq=261251&efYd=20240322#0000', 'title': '소득세법 시행규칙 | 국가법령정보센터 | 법령 > 본문'}), Document(page_content='소득세법 시행규칙', metadata={'language': 'ko', 'source': 'https://www.law.go.kr/lsInfoP.do?lsiSeq=261251&efYd=20240322#0000', 'title': '소득세법 시행규칙 | 국가법령정보센터 | 법령 > 본문'}), Document(page_content='소득세법 시행규칙', metadata={'language': 'ko', 'source': 'https://www.law.go.kr/lsInfoP.do?lsiSeq=261251&efYd=20240322#0000', 'title': '소득세법 시행규칙 | 국가법령정보센터 | 법령 > 본문'}), Document(page_content='소득세법 시행령', metadata={'language': 'ko', 'source': 'https://www.law.go.kr/lsInfoP.do?lsiSeq=260889&efYd=20240301#0000', 'title': '소득세법 시행령 | 국가법령정보센터 | 법령 > 본문'}), Document(page_content='소득세법\\n\\n          [시행 2024. 1. 1.] [법률 제19933호, 2023. 12. 31., 일부개정] \\n         \\n\\n\\n\\n본문', metadata={'language': 'ko', 'source': 'https://www.law.go.kr/lsInfoP.do?lsiSeq=258015&efYd=20240101#0000', 'title': '소득세법 | 국가법령정보센터 | 법령 > 본문'})]\n"
     ]
    }
   ],
   "source": [
    "\n",
    "retriever = vectorstore.as_retriever(search_type=\"mmr\", search_kwargs={\"k\": 10})\n",
    "search_result = retriever.get_relevant_documents(human_question)\n",
    "print(search_result)"
   ]
  },
  {
   "cell_type": "code",
   "execution_count": 77,
   "metadata": {},
   "outputs": [],
   "source": [
    "k = 3\n",
    "\n",
    "# (Sparse) bm25 retriever and (Dense) faiss retriever 를 초기화 합니다.\n",
    "bm25_retriever = BM25Retriever.from_documents(doc_splits)\n",
    "bm25_retriever.k = k\n",
    "\n",
    "faiss_vectorstore = FAISS.from_documents(doc_splits, AzureOpenAIEmbeddings(model=embedding_model))\n",
    "faiss_retriever = faiss_vectorstore.as_retriever(search_kwargs={\"k\": k})\n",
    "\n",
    "# initialize the ensemble retriever\n",
    "ensemble_retriever = EnsembleRetriever(\n",
    "    retrievers=[bm25_retriever, faiss_retriever], weights=[0.5, 0.5]\n",
    ")\n"
   ]
  },
  {
   "cell_type": "code",
   "execution_count": 78,
   "metadata": {},
   "outputs": [],
   "source": [
    "relevant_docs = ensemble_retriever.get_relevant_documents(human_question)\n",
    "\n"
   ]
  },
  {
   "cell_type": "code",
   "execution_count": 79,
   "metadata": {},
   "outputs": [
    {
     "name": "stdout",
     "output_type": "stream",
     "text": [
      "[Document(page_content='소득세법 시행령', metadata={'source': 'https://www.law.go.kr/lsInfoP.do?lsiSeq=260889&efYd=20240301#0000', 'title': '소득세법 시행령 | 국가법령정보센터 | 법령 > 본문', 'language': 'ko'}), Document(page_content='소득세법 시행규칙', metadata={'source': 'https://www.law.go.kr/lsInfoP.do?lsiSeq=261251&efYd=20240322#0000', 'title': '소득세법 시행규칙 | 국가법령정보센터 | 법령 > 본문', 'language': 'ko'}), Document(page_content='소득세법 | 국가법령정보센터 | 법령 > 본문', metadata={'source': 'https://www.law.go.kr/lsInfoP.do?lsiSeq=258015&efYd=20240101#0000', 'title': '소득세법 | 국가법령정보센터 | 법령 > 본문', 'language': 'ko'}), Document(page_content='소득세법\\n\\n          [시행 2024. 1. 1.] [법률 제19933호, 2023. 12. 31., 일부개정] \\n         \\n\\n\\n\\n본문', metadata={'source': 'https://www.law.go.kr/lsInfoP.do?lsiSeq=258015&efYd=20240101#0000', 'title': '소득세법 | 국가법령정보센터 | 법령 > 본문', 'language': 'ko'})]\n"
     ]
    }
   ],
   "source": [
    "print(relevant_docs)"
   ]
  },
  {
   "cell_type": "code",
   "execution_count": 80,
   "metadata": {},
   "outputs": [
    {
     "data": {
      "text/plain": [
       "4"
      ]
     },
     "execution_count": 80,
     "metadata": {},
     "output_type": "execute_result"
    }
   ],
   "source": [
    "len(relevant_docs)"
   ]
  },
  {
   "cell_type": "code",
   "execution_count": 81,
   "metadata": {},
   "outputs": [],
   "source": [
    "from langchain import hub\n",
    "\n",
    "prompt = hub.pull(\"rlm/rag-prompt\")\n"
   ]
  },
  {
   "cell_type": "code",
   "execution_count": 82,
   "metadata": {},
   "outputs": [
    {
     "name": "stderr",
     "output_type": "stream",
     "text": [
      "/opt/homebrew/Caskroom/miniconda/base/envs/azure/lib/python3.11/site-packages/langchain_openai/embeddings/base.py:148: UserWarning: WARNING! model_name is not default parameter.\n",
      "                    model_name was transferred to model_kwargs.\n",
      "                    Please confirm that model_name is what you intended.\n",
      "  warnings.warn(\n",
      "/opt/homebrew/Caskroom/miniconda/base/envs/azure/lib/python3.11/site-packages/langchain_openai/embeddings/base.py:148: UserWarning: WARNING! temperature is not default parameter.\n",
      "                    temperature was transferred to model_kwargs.\n",
      "                    Please confirm that temperature is what you intended.\n",
      "  warnings.warn(\n"
     ]
    }
   ],
   "source": [
    "\n",
    "# 단계 6: 프롬프트 생성(Create Prompt)\n",
    "# 프롬프트를 생성합니다.\n",
    "prompt = hub.pull(\"rlm/rag-prompt\")\n",
    "\n",
    "# 단계 7: 언어모델 생성(Create LLM)\n",
    "# 모델(LLM) 을 생성합니다.\n",
    "llm = AzureOpenAIEmbeddings(model_name=gpt_35_model, temperature=0)\n",
    "\n",
    "\n",
    "def format_docs(docs):\n",
    "    # 검색한 문서 결과를 하나의 문단으로 합쳐줍니다.\n",
    "    return \"\\n\\n\".join(doc.page_content for doc in docs)\n",
    "\n"
   ]
  },
  {
   "cell_type": "code",
   "execution_count": 83,
   "metadata": {},
   "outputs": [
    {
     "ename": "TypeError",
     "evalue": "Expected a Runnable, callable or dict.Instead got an unsupported type: <class 'langchain_openai.embeddings.azure.AzureOpenAIEmbeddings'>",
     "output_type": "error",
     "traceback": [
      "\u001b[0;31m---------------------------------------------------------------------------\u001b[0m",
      "\u001b[0;31mTypeError\u001b[0m                                 Traceback (most recent call last)",
      "Cell \u001b[0;32mIn[83], line 2\u001b[0m\n\u001b[1;32m      1\u001b[0m rag_chain \u001b[38;5;241m=\u001b[39m (\n\u001b[0;32m----> 2\u001b[0m     \u001b[43m{\u001b[49m\u001b[38;5;124;43m\"\u001b[39;49m\u001b[38;5;124;43mcontext\u001b[39;49m\u001b[38;5;124;43m\"\u001b[39;49m\u001b[43m:\u001b[49m\u001b[43m \u001b[49m\u001b[43mensemble_retriever\u001b[49m\u001b[43m \u001b[49m\u001b[38;5;241;43m|\u001b[39;49m\u001b[43m \u001b[49m\u001b[43mformat_docs\u001b[49m\u001b[43m,\u001b[49m\u001b[43m \u001b[49m\u001b[38;5;124;43m\"\u001b[39;49m\u001b[38;5;124;43mquestion\u001b[39;49m\u001b[38;5;124;43m\"\u001b[39;49m\u001b[43m:\u001b[49m\u001b[43m \u001b[49m\u001b[43mRunnablePassthrough\u001b[49m\u001b[43m(\u001b[49m\u001b[43m)\u001b[49m\u001b[43m}\u001b[49m\n\u001b[1;32m      3\u001b[0m \u001b[43m    \u001b[49m\u001b[38;5;241;43m|\u001b[39;49m\u001b[43m \u001b[49m\u001b[43mprompt\u001b[49m\n\u001b[1;32m      4\u001b[0m \u001b[43m    \u001b[49m\u001b[38;5;241;43m|\u001b[39;49m\u001b[43m \u001b[49m\u001b[43mllm\u001b[49m\n\u001b[1;32m      5\u001b[0m     \u001b[38;5;241m|\u001b[39m StrOutputParser()\n\u001b[1;32m      6\u001b[0m )\n",
      "File \u001b[0;32m/opt/homebrew/Caskroom/miniconda/base/envs/azure/lib/python3.11/site-packages/langchain_core/runnables/base.py:2450\u001b[0m, in \u001b[0;36mRunnableSequence.__or__\u001b[0;34m(self, other)\u001b[0m\n\u001b[1;32m   2436\u001b[0m     \u001b[38;5;28;01mreturn\u001b[39;00m RunnableSequence(\n\u001b[1;32m   2437\u001b[0m         \u001b[38;5;28mself\u001b[39m\u001b[38;5;241m.\u001b[39mfirst,\n\u001b[1;32m   2438\u001b[0m         \u001b[38;5;241m*\u001b[39m\u001b[38;5;28mself\u001b[39m\u001b[38;5;241m.\u001b[39mmiddle,\n\u001b[0;32m   (...)\u001b[0m\n\u001b[1;32m   2443\u001b[0m         name\u001b[38;5;241m=\u001b[39m\u001b[38;5;28mself\u001b[39m\u001b[38;5;241m.\u001b[39mname \u001b[38;5;129;01mor\u001b[39;00m other\u001b[38;5;241m.\u001b[39mname,\n\u001b[1;32m   2444\u001b[0m     )\n\u001b[1;32m   2445\u001b[0m \u001b[38;5;28;01melse\u001b[39;00m:\n\u001b[1;32m   2446\u001b[0m     \u001b[38;5;28;01mreturn\u001b[39;00m RunnableSequence(\n\u001b[1;32m   2447\u001b[0m         \u001b[38;5;28mself\u001b[39m\u001b[38;5;241m.\u001b[39mfirst,\n\u001b[1;32m   2448\u001b[0m         \u001b[38;5;241m*\u001b[39m\u001b[38;5;28mself\u001b[39m\u001b[38;5;241m.\u001b[39mmiddle,\n\u001b[1;32m   2449\u001b[0m         \u001b[38;5;28mself\u001b[39m\u001b[38;5;241m.\u001b[39mlast,\n\u001b[0;32m-> 2450\u001b[0m         \u001b[43mcoerce_to_runnable\u001b[49m\u001b[43m(\u001b[49m\u001b[43mother\u001b[49m\u001b[43m)\u001b[49m,\n\u001b[1;32m   2451\u001b[0m         name\u001b[38;5;241m=\u001b[39m\u001b[38;5;28mself\u001b[39m\u001b[38;5;241m.\u001b[39mname,\n\u001b[1;32m   2452\u001b[0m     )\n",
      "File \u001b[0;32m/opt/homebrew/Caskroom/miniconda/base/envs/azure/lib/python3.11/site-packages/langchain_core/runnables/base.py:4924\u001b[0m, in \u001b[0;36mcoerce_to_runnable\u001b[0;34m(thing)\u001b[0m\n\u001b[1;32m   4922\u001b[0m     \u001b[38;5;28;01mreturn\u001b[39;00m cast(Runnable[Input, Output], RunnableParallel(thing))\n\u001b[1;32m   4923\u001b[0m \u001b[38;5;28;01melse\u001b[39;00m:\n\u001b[0;32m-> 4924\u001b[0m     \u001b[38;5;28;01mraise\u001b[39;00m \u001b[38;5;167;01mTypeError\u001b[39;00m(\n\u001b[1;32m   4925\u001b[0m         \u001b[38;5;124mf\u001b[39m\u001b[38;5;124m\"\u001b[39m\u001b[38;5;124mExpected a Runnable, callable or dict.\u001b[39m\u001b[38;5;124m\"\u001b[39m\n\u001b[1;32m   4926\u001b[0m         \u001b[38;5;124mf\u001b[39m\u001b[38;5;124m\"\u001b[39m\u001b[38;5;124mInstead got an unsupported type: \u001b[39m\u001b[38;5;132;01m{\u001b[39;00m\u001b[38;5;28mtype\u001b[39m(thing)\u001b[38;5;132;01m}\u001b[39;00m\u001b[38;5;124m\"\u001b[39m\n\u001b[1;32m   4927\u001b[0m     )\n",
      "\u001b[0;31mTypeError\u001b[0m: Expected a Runnable, callable or dict.Instead got an unsupported type: <class 'langchain_openai.embeddings.azure.AzureOpenAIEmbeddings'>"
     ]
    }
   ],
   "source": [
    "rag_chain = (\n",
    "    {\"context\": ensemble_retriever | format_docs, \"question\": RunnablePassthrough()}\n",
    "    | prompt\n",
    "    | llm\n",
    "    | StrOutputParser()\n",
    ")"
   ]
  },
  {
   "cell_type": "code",
   "execution_count": null,
   "metadata": {},
   "outputs": [],
   "source": []
  }
 ],
 "metadata": {
  "kernelspec": {
   "display_name": "azure",
   "language": "python",
   "name": "python3"
  },
  "language_info": {
   "codemirror_mode": {
    "name": "ipython",
    "version": 3
   },
   "file_extension": ".py",
   "mimetype": "text/x-python",
   "name": "python",
   "nbconvert_exporter": "python",
   "pygments_lexer": "ipython3",
   "version": "3.11.8"
  }
 },
 "nbformat": 4,
 "nbformat_minor": 2
}
