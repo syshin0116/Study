{
 "cells": [
  {
   "cell_type": "code",
   "execution_count": 1,
   "metadata": {},
   "outputs": [],
   "source": [
    "import os\n",
    "\n",
    "os.environ[\"LANGCHAIN_PROJECT\"] = \"AGENT TUTORIAL\"\n",
    "os.environ[\"LANGCHAIN_TRACING_V2\"] = \"true\""
   ]
  },
  {
   "cell_type": "code",
   "execution_count": 2,
   "metadata": {},
   "outputs": [
    {
     "data": {
      "text/plain": [
       "True"
      ]
     },
     "execution_count": 2,
     "metadata": {},
     "output_type": "execute_result"
    }
   ],
   "source": [
    "from dotenv import load_dotenv, find_dotenv\n",
    "\n",
    "load_dotenv(find_dotenv())"
   ]
  },
  {
   "cell_type": "code",
   "execution_count": 3,
   "metadata": {},
   "outputs": [],
   "source": [
    "from langchain_community.tools.tavily_search import TavilySearchResults\n",
    "\n",
    "search = TavilySearchResults(k=5)"
   ]
  },
  {
   "cell_type": "code",
   "execution_count": 4,
   "metadata": {},
   "outputs": [
    {
     "data": {
      "text/plain": [
       "[{'url': 'https://www.usc.go.kr/ko/page.do?mnu_uid=595&',\n",
       "  'content': '지원대상. 신생아의 출생일을 기준으로 부 또는 모 및 형제자매가 군에 주민등록을 두고 거주 ... 지원신청방법. 행복 출산 원스톱 서비스 통합신청서로 신청 → 출생자의 주민등록주소지 읍면사무소에서 출생신고시 ... 37337 경상북도 의성군 의성읍 군청길 31 ...'},\n",
       " {'url': 'https://cht3751.tistory.com/entry/경상북도-출산장려정책-3가지-소개',\n",
       "  'content': '1. 지원대상. - 경상북도 농어촌지역 거주 출산 (예정) 여성농어업인 및 배우자 출산 남성 농어업인이 해당됩니다. - 1천m2 이상의 농지를 경영하는 농어업인 (외국인 여성 농어업인도 신청 가능) 2. 지원내용. - 출산으로 인한 영농공백 방지를 위한 영농도우미 이용 ...'},\n",
       " {'url': 'https://www.usc.go.kr/page/2370/1612.tc',\n",
       "  'content': '출산용품 지원. 지원대상 : 관내에 주소지를 둔 다자녀 및 다문화가정의 출생아 ... 지원대상 : 관내에 주소지를 둔 18세 미만의 자녀가 3명 이상인 다자녀 가구 ... 경상북도 의성군 의성읍 군청길 31(후죽리 509-2) 2 청사 : (37333)경상북도 의성군 의성읍 안평의성로 ...'},\n",
       " {'url': 'https://m.blog.naver.com/uiseong-good/221544882533',\n",
       "  'content': \"의성은 저출산 시대에도 아이 낳고 키우기 좋은 환경을 만들기 위해 노력하고 있는데요, 2016년 12월 행정안전부 공모 뉴-베이비붐 선도 지자체에 선정되어 추진된 '출산통합지원센터'가 올해 2월에 눈을 열게 되었답니다. 임신부터 육아까지, 아이들과 부모에게 다양한 프로그램을 지원하고 있는 센터!\"},\n",
       " {'url': 'https://www.usc.go.kr/ko/page.do?mnu_uid=596&',\n",
       "  'content': '지원대상 : 관내에 주소지를 둔 다자녀 및 다문화가정의 첫돌아. 지원내용 : 첫돌사진 촬영비 지원 (1가정 150,000원) 신청방법 : 의성군 관광경제농업국 일자리창출과 방문 신청. 지급방법 : 방문접수 시 촬영권 발급, 촬영 청구서 확인 후 사진관으로 촬영비 계좌 ...'}]"
      ]
     },
     "execution_count": 4,
     "metadata": {},
     "output_type": "execute_result"
    }
   ],
   "source": [
    "search.invoke(\"경상북도 / 의성군 출산 지원 대상\")"
   ]
  },
  {
   "cell_type": "code",
   "execution_count": 5,
   "metadata": {},
   "outputs": [],
   "source": [
    "from langchain_text_splitters import RecursiveCharacterTextSplitter\n",
    "from langchain_community.vectorstores import FAISS\n",
    "from langchain_openai import OpenAIEmbeddings\n",
    "from langchain.document_loaders import PyPDFLoader\n",
    "\n",
    "loader = PyPDFLoader(\"고용보험법 시행령(대통령령)(제34048호)(20240101).pdf\")\n",
    "\n",
    "text_splitter = RecursiveCharacterTextSplitter(chunk_size=1000, chunk_overlap=100)\n",
    "\n",
    "split_docs = loader.load_and_split(text_splitter)\n",
    "\n",
    "vector = FAISS.from_documents(split_docs, OpenAIEmbeddings())\n",
    "\n",
    "retriever = vector.as_retriever()"
   ]
  },
  {
   "cell_type": "code",
   "execution_count": 6,
   "metadata": {},
   "outputs": [
    {
     "name": "stderr",
     "output_type": "stream",
     "text": [
      "/opt/homebrew/Caskroom/miniconda/base/envs/playground/lib/python3.11/site-packages/langchain_core/_api/deprecation.py:119: LangChainDeprecationWarning: The method `BaseRetriever.get_relevant_documents` was deprecated in langchain-core 0.1.46 and will be removed in 0.3.0. Use invoke instead.\n",
      "  warn_deprecated(\n"
     ]
    },
    {
     "data": {
      "text/plain": [
       "[Document(page_content='2010. 7. 12.>\\n[본조신설 2008. 9. 18.]\\n[제목개정 2013. 11. 20.]\\n \\n제3조의3(외국인에 대한 법의 적용 범위) 법 제10조의2제2항에 따른 외국인에 대한 법의 적용범위는 다음 각 호의 구\\n분에 따른다. <개정 2023. 6. 27.>\\n1. 법 제10조의2제2항에 따른 외국인 중 근로계약을 체결한 사람으로서 다음 각 목의 어느 하나에 해당하는 사람:\\n법의 전부를 적용 \\n가. 「출입국관리법 시행령」 제12조에 따른 외국인의 체류자격 중 주재(D-7), 기업투자(D-8) 및 무역경영(D-9)의 \\n체류자격을 가진 사람(법에 따른 고용보험에 상응하는 보험료와 급여에 관하여 그 외국인의 본국법이 대한민 \\n국 국민에게 적용되지 않는 경우는 제외한다) \\n나. 「출입국관리법 시행령」 제12조의2에 따른 외국인의 체류자격 중 영주(F-5)의 체류자격을 가진 사람 \\n다. 「출입국관리법 시행령」 제23조제2항 각 호의 어느 하나에 해당하는 사람 \\n2. 법 제10조의2제2항에 따른 외국인 중 근로계약을 체결한 사람으로서 다음 각 목의 어느 하나에 해당하는 사람:\\n고용노동부령으로 정하는 바에 따라 보험 가입을 신청한 경우에 법의 전부를 적용 \\n가. 「출입국관리법 시행령」 제12조에 따른 외국인의 체류자격 중 재외동포(F-4)의 체류자격을 가진 사람 \\n나. 「출입국관리법 시행령」 제23조제1항에 따른 취업활동을 할 수 있는 체류자격을 가진 사람 \\n3. 법 제10조의2제2항에 따른 외국인 중 법 제77조의2제1항에 따른 문화예술용역 관련 계약(이하 “문화예술용역 관\\n련 계약”이라 한다)을 체결한 외국인(이하 “외국인예술인”이라 한다) 또는 법 제77조의6제1항에 따른 노무제공계 \\n약(이하 “노무제공계약”이라 한다)을 체결한 외국인(이하 “외국인노무제공자”라 한다)으로서 다음 각 목의 어느 \\n하나에 해당하는 사람: 법 제1장, 제2장, 제4장, 제5장의2, 제5장의3, 제6장, 제8장 또는 제9장의 예술인 또는 노무 \\n제공자에 관한 규정을 적용', metadata={'source': '고용보험법 시행령(대통령령)(제34048호)(20240101).pdf', 'page': 3}),\n",
       " Document(page_content='법제처                                                            30                                                       국가법령정보센터\\n고용보험법 시행령 \\n부금액이 1천만원을 초과하는 경우에는 고용노동부장관이 정하는 바에 따라 나누어 낼 수 있다.<개정 2010. 2. 8.,\\n2010. 7. 12., 2010. 12. 31.>\\n④ 제1항 및 제3항이나 「국민 평생 직업능력 개발법」 제56조(기금으로 지원 또는 융자된 금액에 대한 반환명령으\\n로 한정한다)에 따라 반환 명령을 받은 자가 정해진 기간까지 납부 의무를 이행하지 아니한 경우에는 그 기간의 종\\n료일부터 그 의무를 이행하는 날까지 법에 따른 지원금 또는 장려금 또는 같은 법에 따른 직업능력개발훈련 비용을\\n지급하지 않는다.<개정 2010. 2. 8., 2010. 8. 25., 2010. 12. 31., 2016. 12. 30., 2021. 6. 8., 2022. 2. 17.>\\n \\n제57조(업무의 대행) ① 법 제36조에서 “대통령령으로 정하는 자”란 다음 각 호의 자를 말한다. <개정 2010. 8. 25.,\\n2022. 2. 17.>\\n1. 「한국산업인력공단법」에 따른 한국산업인력공단(이하 “한국산업인력공단”이라 한다)\\n2. 「국민 평생 직업능력 개발법」에 따른 기능대학\\n3. 「국민 평생 직업능력 개발법」 제23조에 따른 직업능력개발단체\\n② 고용노동부장관은 법 제36조에 따라 업무를 대행하게 하는 경우에는 업무 수행에 드는 경비를 기금에서 지원한\\n다.<개정 2010. 7. 12.>\\n \\n       제4장 실업급여\\n \\n제58조(실업급여 지급에 관한 결정ㆍ통지) 직업안정기관의 장은 실업급여의 지급 여부를 결정한 경우에는 그 청구인에\\n게 서면으로 알려야 한다. 다만, 실업급여를 지급하기로 결정한 경우에는 제62조에 따른 보험 수급자격증에 그 사실', metadata={'source': '고용보험법 시행령(대통령령)(제34048호)(20240101).pdf', 'page': 29}),\n",
       " Document(page_content='법제처                                                            34                                                       국가법령정보센터\\n고용보험법 시행령 \\n3. 본인과 배우자의 직계존속 및 직계비속의 질병이나 부상\\n4. 배우자의 국외발령 등에 따른 동거 목적의 거소 이전\\n5. 「병역법」에 따른 의무복무\\n6. 범죄혐의로 인한 구속이나 형의 집행(법 제58조제1호가목에 따라 수급자격이 없는 자는 제외한다)\\n7. 제1호부터 제6호까지의 규정에 준하는 경우로서 고용노동부령으로 정하는 사유\\n[제목개정 2012. 1. 13.]\\n \\n제71조(수급기간의 연기 신청) ① 법 제48조제2항에 따라 취업할 수 없는 사실을 신고하려는 사람은 직접 또는 대리인\\n을 통하여 수급기간 내에 수급기간 연기신청서에 수급자격증(수급자격증을 발급 받은 경우로 한정한다)을 첨부하여\\n신청지 관할 직업안정기관의 장에게 제출해야 한다. 다만, 천재지변, 「병역법」에 따른 병역의무 이행, 그 밖의 부득\\n이한 사유가 있는 경우에는 그 사유가 없어진 날부터 30일 이내에 제출해야 한다. <개정 2011. 9. 15., 2012. 1. 13.,\\n2021. 6. 8.>\\n② 제1항에도 불구하고 「산업재해보상보험법」 제40조에 따라 요양급여를 받는 경우에는 해당 최초 요양일에 법 제\\n48조제2항에 따른 신고를 한 것으로 본다.<개정 2008. 6. 25.>\\n③ 직업안정기관의 장은 제1항에 따른 신고가 수급기간의 연기사유에 해당한다고 인정하면 수급기간 연기통지서를\\n신고자에게 내주고, 수급자격증에 필요한 사항을 적은 후 반환하여야 한다.<개정 2012. 1. 13.>\\n④ 제3항에 따라 수급기간 연기 통지를 받은 사람이 그 수급기간 연기 사유가 없어지거나 수급기간 연기신청서에\\n적은 내용 중 고용노동부령으로 정하는 사항의 변경이 있는 경우에는 지체 없이 해당 사실을 신청지 관할 직업안정', metadata={'source': '고용보험법 시행령(대통령령)(제34048호)(20240101).pdf', 'page': 33}),\n",
       " Document(page_content='법제처                                                            8                                                       국가법령정보센터\\n고용보험법 시행령 \\n설의 설치비의 일부도 지원할 수 있으며, 제2호의 경우에는 시설의 설치비의 일부도 지원할 수 있다. <개정 2011. 9.\\n15., 2013. 12. 24., 2015. 8. 19., 2015. 12. 4., 2016. 12. 30., 2017. 12. 26., 2019. 12. 31., 2021. 12. 31.>\\n1. 근로시간 단축, 교대근로 개편, 정기적인 교육훈련 또는 안식휴가 부여 등(이하 “일자리 함께하기”라 한다)을 통하\\n여 실업자를 고용함으로써  근로자 수가 증가한 경우. \\n2. 고용노동부장관이 정하는 시설을 설치ㆍ운영하여 고용환경을 개선하고 실업자를 고용하여 근로자 수가 증가한\\n경우. \\n3. 직무의 분할, 근무체계 개편 또는 시간제직무 개발 등을 통하여 실업자를 근로계약기간을 정하지 않고 시간제로\\n근무하는 형태로 하여 새로  고용하는 경우 \\n4. 위원회에서 심의ㆍ의결한 성장유망업종, 인력수급 불일치 업종, 국내복귀기업 또는 지역특화산업 등 고용지원이\\n필요한 업종에 해당하는 기업이 실업자를 고용하는 경우 \\n5. 위원회에서 심의ㆍ의결한 업종에 해당하는 우선지원대상기업이 고용노동부장관이 정하는 전문적인 자격을 갖춘\\n자(이하 “전문인력”이라 한다)를 고용하는 경우 \\n6. 제28조에 따른 임금피크제, 제28조의2에 따른 임금을 감액하는 제도 또는 그 밖의 임금체계 개편 등을 통하여\\n15세 이상 34세 이하의 청년 실업자를 고용하는 경우 \\n7. 고용노동부장관이 「고용상 연령차별 금지 및 고령자고용촉진에 관한 법률」 제2조제1호 또는 제2호에 따른 고령\\n자 또는 준고령자가 근무하기에 적합한 것으로 인정하는 직무에 고령자 또는 준고령자를 새로 고용하는 경우', metadata={'source': '고용보험법 시행령(대통령령)(제34048호)(20240101).pdf', 'page': 7})]"
      ]
     },
     "execution_count": 6,
     "metadata": {},
     "output_type": "execute_result"
    }
   ],
   "source": [
    "retriever.get_relevant_documents(\"한국인이 아니면 법은 어떻게 되는지 설명해줘\")"
   ]
  },
  {
   "cell_type": "code",
   "execution_count": 7,
   "metadata": {},
   "outputs": [],
   "source": [
    "from langchain.tools.retriever import create_retriever_tool\n",
    "\n",
    "retriever_tool = create_retriever_tool(\n",
    "    retriever=retriever,\n",
    "    name=\"pdf_search\",\n",
    "    description=\"고용보험법 시행령에 관한 내용을 PDF 문서에서 검색합니다. 고용보험법와 관련된 질문은 이 도구를 사용해야 합니다.\",\n",
    ")"
   ]
  },
  {
   "cell_type": "code",
   "execution_count": 10,
   "metadata": {},
   "outputs": [],
   "source": [
    "tools = [search, retriever_tool]"
   ]
  },
  {
   "cell_type": "code",
   "execution_count": 11,
   "metadata": {},
   "outputs": [],
   "source": [
    "from langchain_openai import ChatOpenAI\n",
    "\n",
    "gpt = ChatOpenAI(model=\"gpt-4-turbo-preview\", temperature=0)"
   ]
  },
  {
   "cell_type": "code",
   "execution_count": 9,
   "metadata": {},
   "outputs": [
    {
     "data": {
      "text/plain": [
       "[SystemMessagePromptTemplate(prompt=PromptTemplate(input_variables=[], template='You are a helpful assistant')),\n",
       " MessagesPlaceholder(variable_name='chat_history', optional=True),\n",
       " HumanMessagePromptTemplate(prompt=PromptTemplate(input_variables=['input'], template='{input}')),\n",
       " MessagesPlaceholder(variable_name='agent_scratchpad')]"
      ]
     },
     "execution_count": 9,
     "metadata": {},
     "output_type": "execute_result"
    }
   ],
   "source": [
    "from langchain import hub\n",
    "\n",
    "prompt = hub.pull(\"hwchase17/openai-functions-agent\")\n",
    "\n",
    "prompt.messages"
   ]
  },
  {
   "cell_type": "code",
   "execution_count": 12,
   "metadata": {},
   "outputs": [],
   "source": [
    "from langchain.agents import create_openai_functions_agent\n",
    "\n",
    "agent = create_openai_functions_agent(llm=gpt, tools=tools, prompt=prompt)"
   ]
  },
  {
   "cell_type": "code",
   "execution_count": 13,
   "metadata": {},
   "outputs": [],
   "source": [
    "from langchain.agents import AgentExecutor\n",
    "\n",
    "agent_executor = AgentExecutor(agent=agent, tools=tools, verbose=True)"
   ]
  },
  {
   "cell_type": "code",
   "execution_count": 14,
   "metadata": {},
   "outputs": [
    {
     "name": "stdout",
     "output_type": "stream",
     "text": [
      "\n",
      "\n",
      "\u001b[1m> Entering new AgentExecutor chain...\u001b[0m\n",
      "\u001b[32;1m\u001b[1;3m\n",
      "Invoking: `tavily_search_results_json` with `{'query': '경상북도 의성군 출산 지원금'}`\n",
      "\n",
      "\n",
      "\u001b[0m\u001b[36;1m\u001b[1;3m[{'url': 'https://www.usc.go.kr/ko/page.do?mnu_uid=595&', 'content': '행복 출산 원스톱 서비스 통합신청서로 신청시 신분증, 통장사본 지참 ... 37337 경상북도 의성군 의성읍 군청길 31(후죽리 509-2)'}, {'url': 'https://www.easylaw.go.kr/CSP/CnpClsOrdinMain.laf?csmOrdinSeq=6&areaCsmOrdinSeq=185&ccfNo=1&cciNo=1&cnpClsNo=1', 'content': '위에 따른 지원금 지급대상자는 다음과 같습니다(「의성군 출산장려금 등 지원에 관한 조례」 제4조제1항). 출생축하금: 신생아 출생일(입양된 12개월 미만의 영아의 경우에는 입양일을 말함)부터 지급신청일 현재까지 부모 또는 부모 중 1명과 형제자매와 함께 ...'}, {'url': 'https://blog.naver.com/PostView.naver?blogId=isauditor&logNo=223358174085', 'content': '경상북도 지자체별 24년 출산지원금 (임신 출산 지원) 경상북도 내 10개시, 12개군 지자체별 2024년 출산지원금 관련 정보를 모아보았습니다. 임신 및 출산관련 지원 내용과 지원기준은 각 지방자치단체의 의회 조례로 정해 지기 때문에 매년 추가 및 변경이 될 수 ...'}, {'url': 'https://womenhandsup.tistory.com/entry/경북경상북도-출산장려금출산지원금지원-신청-지역별-혜택-정리', 'content': '안녕하세요~~ 오늘은 경북(경상북도) 출산장려금(출산지원금)지원 신청 지역별 혜택 정리 에 대해서 알아보도록 하겠습니다. 경상북도는 10개의 시(포항시, 영천시, 영주시, 안동시, 상주시, 문경시, 김천시, 구미시, 경주시, 경산시)와 13개의 군(칠곡군, 청송군, 청도군, 의성군, 울진군, 울릉군, 예천군 ...'}, {'url': 'https://lifewithbaby.co.kr/money/159/1', 'content': '경북 의성군에서 받을 수 있는 아동수당, 양육수당, 출산장려금, 출산지원금을 꼼꼼하게 알아봅니다. ... 출산 육아 지원금 정리 ... 의성군 보건소; 경상북도 의성군 의성읍 구봉길 228; 054-830-6688; 홈페이지 바로가기 ...'}]\u001b[0m\u001b[32;1m\u001b[1;3m경상북도 의성군에서 제공하는 출산 지원금에 대한 정보는 다음과 같습니다:\n",
      "\n",
      "- **출산 지원금 지급 대상자**: 의성군 출산장려금 등 지원에 관한 조례에 따라, 출생축하금은 신생아 출생일부터 지급신청일 현재까지 부모 또는 부모 중 1명과 형제자매와 함께 의성군에 거주하는 경우 지급 대상이 됩니다. 입양된 12개월 미만의 영아의 경우에는 입양일이 기준이 됩니다.\n",
      "\n",
      "- **신청 방법**: 행복 출산 원스톱 서비스 통합신청서를 통해 신청할 수 있으며, 신분증과 통장사본을 지참해야 합니다.\n",
      "\n",
      "- **연락처 및 위치**: 의성군 보건소, 경상북도 의성군 의성읍 구봉길 228, 전화번호: 054-830-6688\n",
      "\n",
      "- **추가 정보**: 경상북도 내 다른 지자체별로도 출산지원금 관련 정보가 있으며, 임신 및 출산 관련 지원 내용과 지원 기준은 각 지방자치단체의 의회 조례로 정해지므로, 매년 추가 및 변경될 수 있습니다.\n",
      "\n",
      "자세한 정보는 [의성군 홈페이지](https://www.usc.go.kr/ko/page.do?mnu_uid=595&)를 참조하거나, 의성군 보건소에 직접 문의하시기 바랍니다.\u001b[0m\n",
      "\n",
      "\u001b[1m> Finished chain.\u001b[0m\n"
     ]
    }
   ],
   "source": [
    "response_taviy = agent_executor.invoke({\"input\": \"경상북도 / 의성군에서 제공하는 출산 지원금에 대해 설명해줘\"})"
   ]
  },
  {
   "cell_type": "code",
   "execution_count": 15,
   "metadata": {},
   "outputs": [
    {
     "data": {
      "text/plain": [
       "'경상북도 의성군에서 제공하는 출산 지원금에 대한 정보는 다음과 같습니다:\\n\\n- **출산 지원금 지급 대상자**: 의성군 출산장려금 등 지원에 관한 조례에 따라, 출생축하금은 신생아 출생일부터 지급신청일 현재까지 부모 또는 부모 중 1명과 형제자매와 함께 의성군에 거주하는 경우 지급 대상이 됩니다. 입양된 12개월 미만의 영아의 경우에는 입양일이 기준이 됩니다.\\n\\n- **신청 방법**: 행복 출산 원스톱 서비스 통합신청서를 통해 신청할 수 있으며, 신분증과 통장사본을 지참해야 합니다.\\n\\n- **연락처 및 위치**: 의성군 보건소, 경상북도 의성군 의성읍 구봉길 228, 전화번호: 054-830-6688\\n\\n- **추가 정보**: 경상북도 내 다른 지자체별로도 출산지원금 관련 정보가 있으며, 임신 및 출산 관련 지원 내용과 지원 기준은 각 지방자치단체의 의회 조례로 정해지므로, 매년 추가 및 변경될 수 있습니다.\\n\\n자세한 정보는 [의성군 홈페이지](https://www.usc.go.kr/ko/page.do?mnu_uid=595&)를 참조하거나, 의성군 보건소에 직접 문의하시기 바랍니다.'"
      ]
     },
     "execution_count": 15,
     "metadata": {},
     "output_type": "execute_result"
    }
   ],
   "source": [
    "response_taviy[\"output\"]"
   ]
  },
  {
   "cell_type": "code",
   "execution_count": 37,
   "metadata": {},
   "outputs": [
    {
     "name": "stdout",
     "output_type": "stream",
     "text": [
      "\n",
      "\n",
      "\u001b[1m> Entering new AgentExecutor chain...\u001b[0m\n",
      "\u001b[32;1m\u001b[1;3m\n",
      "Invoking: `pdf_search` with `{'query': '외국인 고용보험'}`\n",
      "\n",
      "\n",
      "\u001b[0m\u001b[33;1m\u001b[1;3m주민등록번호 또는 외국인등록번호가 포함된 자료를 처리할 수 있다. <개정 2012. 7. 10., 2016. 7. 19., 2017. 3. 27.,\n",
      "2019. 6. 25., 2020. 12. 8., 2021. 6. 8., 2021. 12. 31., 2023. 6. 27.>\n",
      "1. 법 제10조제1항제3호 단서 및 이 영 제3조의2에 따른 별정직ㆍ임기제 공무원의 고용보험 가입 또는 탈퇴에 관한\n",
      "사무 \n",
      "1의2. 다음 각 목에 해당하는 사람의 고용보험 가입에 관한 사무\n",
      "가. 법 제10조의2제1항에 따른 외국인근로자 \n",
      "나. 법 제10조의2제2항 및 이 영 제3조의3에 따른 근로계약 체결 외국인, 외국인예술인 및 외국인노무제공자 \n",
      "2. 법 제15조에 따른 피보험자격의 취득ㆍ상실 등의 신고에 관한 사무\n",
      "3. 삭제<2020. 8. 27.>\n",
      "4. 법 제17조에 따른 피보험자격의 확인에 관한 사무\n",
      "5. 법 제20조에 따른 고용기회 확대 사업주에 대한 지원에 관한 사무\n",
      "6. 법 제21조에 따른 고용안정을 위한 조치를 한 사업주에 대한 지원에 관한 사무\n",
      "7. 법 제22조에 따른 지역 고용촉진 사업주에 대한 지원에 관한 사무\n",
      "8. 법 제23조에 따른 고령자등 고용촉진의 지원에 관한 사무\n",
      "9. 법 제25조에 따른 고용안정 및 취업촉진 사업을 실시하는 자에 대한 지원 및 대부에 관한 사무\n",
      "10. 법 제26조에 따른 고용촉진시설의 지원에 관한 사무\n",
      "11. 법 제27조에 따른 사업주에 대한 직업능력개발 훈련비용의 지원에 관한 사무\n",
      "12. 법 제29조에 따른 피보험자등에 대한 직업능력개발 지원 등에 관한 사무\n",
      "13. 법 제30조에 따른 직업능력개발 훈련 시설의 설치, 장비구입 비용 등의 대부ㆍ지원에 관한 사무\n",
      "14. 법 제31조에 따른 직업능력개발의 촉진 사업을 실시하는 자에 대한 지원에 관한 사무\n",
      "15. 법 제35조에 따른 부정행위를 이유로 한 지원금의 반환명령 또는 추가징수에 관한 사무\n",
      "15의2. 법 제55조의2에 따른 국민연금 보험료의 지원에 관한 사무\n",
      "\n",
      "법제처                                                            4                                                       국가법령정보센터\n",
      "고용보험법 시행령 \n",
      "직 또는 임기제 공무원으로 임용된 때에는 별도의 가입신청을 하지 않은 경우에도 고용보험의 피보험자격을 유지\n",
      "한다.<개정 2013. 11. 20.>\n",
      "④ 고용보험에 가입한 공무원이 고용보험에서 탈퇴하려는 경우에는 고용노동부장관에게 탈퇴신청을 하여야 한다.\n",
      "이 경우 탈퇴를 신청한 날의 다음 날에 피보험자격을 상실한 것으로 본다.<개정 2016. 10. 18.>\n",
      "⑤ 제4항에 따라 고용보험에서 탈퇴한 이후에 가입대상 공무원으로 계속 재직하는 동안에는 고용보험에 다시 가입\n",
      "할 수 없으며, 고용보험에서 탈퇴한 이후에는 수급자격을 인정하지 아니한다. 다만, 탈퇴한 공무원이 가입대상 공무\n",
      "원의 직에서 이직(가입대상 공무원 외의 공무원으로 임용된 경우를 포함한다)한 이후에 법과 이 영에 따라 다시 피\n",
      "보험자격을 취득한 경우에는 법 제40조제1항제1호에 따른 피보험 단위기간을 산정하는 경우에 그 이전 가입대상\n",
      "공무원 재직 시의 피보험기간 중 법 제41조제1항에 따른 보수 지급의 기초가 된 날을 합산하고, 법 제50조에 따라\n",
      "피보험기간을 산정하는 경우에 탈퇴하기 전의 피보험기간도 같은 조에서 규정하고 있는 피보험기간에 포함하여 산\n",
      "정한다.<개정 2011. 9. 15.>\n",
      "⑥ 고용보험에 가입한 공무원에 대한 보험료율은 고용산재보험료징수법시행령 제12조제1항제2호에 따른 실업급여\n",
      "의 보험료율로 하되, 소속기관과 고용보험에 가입한 공무원이 각각 2분의 1씩 부담한다.<개정 2020. 3. 31., 2021. 6.\n",
      "8.>\n",
      "⑦ 제1항부터 제4항까지의 규정에 따른 보험가입 및 보험가입 탈퇴의 신청절차는 고용노동부령으로 정한다.<개정\n",
      "2010. 7. 12.>\n",
      "[본조신설 2008. 9. 18.]\n",
      "[제목개정 2013. 11. 20.]\n",
      "\n",
      "법제처                                                            12                                                       국가법령정보센터\n",
      "고용보험법 시행령 \n",
      "1. 다음 각 목의 구분에 따른 피보험자 수에 대하여 30일 이상 휴업을 실시하고, 그 기간 동안 「근로기준법」 제46조\n",
      "제2항에 따라 노동위원회의 승인을 받아 휴업수당을 지급하지 아니하거나 평균임금의 100분의 50 미만에 해당 \n",
      "하는 액수의 휴업수당을 지급하는 경우 \n",
      "가. 전체 피보험자 수가 19명 이하인 경우: 전체 피보험자 수의 100분의 50 이상 \n",
      "나. 전체 피보험자 수가 20명 이상 99명 이하인 경우: 피보험자 10명 이상 \n",
      "다. 전체 피보험자 수가 100명 이상 999명 이하인 경우: 전체 피보험자 수의 100분의 10 이상 \n",
      "라. 전체 피보험자 수가 1000명 이상인 경우: 피보험자 100명 이상 \n",
      "2. 휴직기간이 시작되기 전 1년 이내에 제19조제1항제1호에 따른 고용유지조치 또는 피보험자의 100분의 20 이상\n",
      "에 대한 같은 항 제2호에 따른 고용유지조치를 3개월 이상 실시한 후 다음 각 목의 구분에 따른 피보험자 수에 대 \n",
      "하여 30일 이상 휴직을 실시하고, 그 기간 동안 근로자대표(근로자의 과반수로 조직된 노동조합이 있는 경우에는 \n",
      "그 노동조합, 근로자의 과반수로 조직된 노동조합이 없는 경우에는 근로자의 과반수를 대표하는 자를 말한다. 이 \n",
      "하 이 항에서 같다)와의 합의에 따라 휴직수당 등 금품을 지급하지 않는 경우 \n",
      "가. 전체 피보험자 수가 99명 이하인 경우: 피보험자 10명 이상 \n",
      "나. 전체 피보험자 수가 100명 이상 999명 이하인 경우: 전체 피보험자 수의 100분의 10 이상 \n",
      "다. 전체 피보험자 수가 1000명 이상인 경우: 피보험자 100명 이상 \n",
      "3. 휴직기간이 시작되기 전 1년 이내에 제19조제1항제1호에 따른 고용유지조치 또는 피보험자의 100분의 20 이상\n",
      "\n",
      "에서 “직업안정기관등”이라 한다)에 구직등록을 한 사람으로서 다음 각 호의 어느 하나에 해당하는 실업자를 피보험\n",
      "자로 고용한 사업주에게 고용촉진장려금을 지급한다. <개정 2012. 1. 13., 2013. 1. 25., 2016. 12. 30., 2019. 7. 2.,\n",
      "2020. 6. 9., 2021. 6. 8.>\n",
      "1. 고용노동부장관이 고시하는 바에 따라 노동시장의 통상적인 조건에서는 취업이 특히 곤란한 사람을 대상으로 하\n",
      "는 취업지원프로그램을 이수한 사람 \n",
      "2. 「장애인고용촉진 및 직업재활법」 제2조제2호에 따른 중증장애인으로서 1개월 이상 실업상태에 있는 사람\n",
      "3. 가족 부양의 책임이 있는 여성 실업자 중 고용노동부령으로 정하는 사람으로서 「국민기초생활 보장법 시행령」\n",
      "제11조제2항 전단에 따른 취업대상자 또는 「한부모가족지원법」 제5조 및 제5조의2에 따른 보호대상자에 해당하 \n",
      "고 1개월 이상 실업상태에 있는 사람 \n",
      "4. 섬 지역[제주특별자치도 본도(本島) 및 방파제 또는 교량 등으로 육지와 연결된 섬은 제외한다]에 거주하여 제1호\n",
      "의 취업지원프로그램 참여가 어려운 사람으로서 1개월 이상 실업 상태에 있는 사람\u001b[0m\u001b[32;1m\u001b[1;3m외국인 근로자에 대한 고용보험법의 적용은 다음과 같습니다:\n",
      "\n",
      "1. **외국인근로자의 고용보험 가입**: 고용보험법 제10조의2제1항에 따라, 외국인근로자도 고용보험에 가입할 수 있습니다. 이는 외국인 근로자가 한국에서 근로 계약을 체결하고 일하는 경우, 고용보험의 혜택을 받을 수 있음을 의미합니다.\n",
      "\n",
      "2. **근로계약 체결 외국인, 외국인예술인 및 외국인노무제공자의 고용보험 가입**: 고용보험법 제10조의2제2항 및 시행령 제3조의3에 따라, 근로계약을 체결한 외국인, 외국인예술인, 그리고 외국인노무제공자 역시 고용보험에 가입할 수 있습니다. 이는 다양한 형태로 한국에서 근로를 제공하는 외국인들이 고용보험의 보호를 받을 수 있도록 하는 조치입니다.\n",
      "\n",
      "이러한 규정은 외국인 근로자가 한국에서 근로하는 동안 발생할 수 있는 실업, 질병, 부상 등의 위험으로부터 보호받을 수 있도록 하며, 고용 안정과 복지 증진을 목적으로 합니다. 외국인 근로자가 고용보험에 가입하기 위해서는 주민등록번호 또는 외국인등록번호가 필요하며, 이를 통해 고용보험의 혜택을 받을 수 있습니다.\u001b[0m\n",
      "\n",
      "\u001b[1m> Finished chain.\u001b[0m\n"
     ]
    }
   ],
   "source": [
    "response_search = agent_executor.invoke(\n",
    "    {\"input\": \"외국인에 대한 고용보험법에 대해 검색해서 설명해줘\"}\n",
    ")"
   ]
  },
  {
   "cell_type": "code",
   "execution_count": 38,
   "metadata": {},
   "outputs": [
    {
     "data": {
      "text/plain": [
       "'외국인 근로자에 대한 고용보험법의 적용은 다음과 같습니다:\\n\\n1. **외국인근로자의 고용보험 가입**: 고용보험법 제10조의2제1항에 따라, 외국인근로자도 고용보험에 가입할 수 있습니다. 이는 외국인 근로자가 한국에서 근로 계약을 체결하고 일하는 경우, 고용보험의 혜택을 받을 수 있음을 의미합니다.\\n\\n2. **근로계약 체결 외국인, 외국인예술인 및 외국인노무제공자의 고용보험 가입**: 고용보험법 제10조의2제2항 및 시행령 제3조의3에 따라, 근로계약을 체결한 외국인, 외국인예술인, 그리고 외국인노무제공자 역시 고용보험에 가입할 수 있습니다. 이는 다양한 형태로 한국에서 근로를 제공하는 외국인들이 고용보험의 보호를 받을 수 있도록 하는 조치입니다.\\n\\n이러한 규정은 외국인 근로자가 한국에서 근로하는 동안 발생할 수 있는 실업, 질병, 부상 등의 위험으로부터 보호받을 수 있도록 하며, 고용 안정과 복지 증진을 목적으로 합니다. 외국인 근로자가 고용보험에 가입하기 위해서는 주민등록번호 또는 외국인등록번호가 필요하며, 이를 통해 고용보험의 혜택을 받을 수 있습니다.'"
      ]
     },
     "execution_count": 38,
     "metadata": {},
     "output_type": "execute_result"
    }
   ],
   "source": [
    "response_search[\"output\"]"
   ]
  },
  {
   "cell_type": "markdown",
   "metadata": {},
   "source": [
    "## Llama3\n",
    "\n",
    "[https://github.com/sionic-ai/xionic-ko-llama-3-70b](https://github.com/sionic-ai/xionic-ko-llama-3-70b)\n"
   ]
  },
  {
   "cell_type": "code",
   "execution_count": 50,
   "metadata": {},
   "outputs": [],
   "source": [
    "llama3 = ChatOpenAI(\n",
    "    base_url=\"http://sionic.chat:8001/v1\",\n",
    "    api_key=\"934c4bbc-c384-4bea-af82-1450d7f8128d\",\n",
    "    model=\"xionic-ko-llama-3-70b\",\n",
    "    temperature=0.1,\n",
    ")"
   ]
  },
  {
   "cell_type": "code",
   "execution_count": 51,
   "metadata": {},
   "outputs": [],
   "source": [
    "json_prompt = hub.pull(\"hwchase17/react-chat-json\")"
   ]
  },
  {
   "cell_type": "code",
   "execution_count": 52,
   "metadata": {},
   "outputs": [],
   "source": [
    "from langchain.agents import create_json_chat_agent\n",
    "\n",
    "llama3_agent = create_json_chat_agent(llm=llama3, tools=tools, prompt=json_prompt)"
   ]
  },
  {
   "cell_type": "code",
   "execution_count": 53,
   "metadata": {},
   "outputs": [],
   "source": [
    "from langchain.agents import AgentExecutor\n",
    "\n",
    "llama3_agent_executor = AgentExecutor(\n",
    "    agent=llama3_agent,\n",
    "    tools=tools,\n",
    "    verbose=True,\n",
    "    handle_parsing_errors=True,\n",
    "    # return_intermediate_steps=True,\n",
    ")"
   ]
  },
  {
   "cell_type": "code",
   "execution_count": 54,
   "metadata": {},
   "outputs": [
    {
     "name": "stdout",
     "output_type": "stream",
     "text": [
      "\n",
      "\n",
      "\u001b[1m> Entering new AgentExecutor chain...\u001b[0m\n",
      "\u001b[32;1m\u001b[1;3m```\n",
      "{\n",
      "    \"action\": \"pdf_search\",\n",
      "    \"action_input\": \"외국인에 대한 고용보험법\"\n",
      "}\n",
      "```\u001b[0m\u001b[33;1m\u001b[1;3m주민등록번호 또는 외국인등록번호가 포함된 자료를 처리할 수 있다. <개정 2012. 7. 10., 2016. 7. 19., 2017. 3. 27.,\n",
      "2019. 6. 25., 2020. 12. 8., 2021. 6. 8., 2021. 12. 31., 2023. 6. 27.>\n",
      "1. 법 제10조제1항제3호 단서 및 이 영 제3조의2에 따른 별정직ㆍ임기제 공무원의 고용보험 가입 또는 탈퇴에 관한\n",
      "사무 \n",
      "1의2. 다음 각 목에 해당하는 사람의 고용보험 가입에 관한 사무\n",
      "가. 법 제10조의2제1항에 따른 외국인근로자 \n",
      "나. 법 제10조의2제2항 및 이 영 제3조의3에 따른 근로계약 체결 외국인, 외국인예술인 및 외국인노무제공자 \n",
      "2. 법 제15조에 따른 피보험자격의 취득ㆍ상실 등의 신고에 관한 사무\n",
      "3. 삭제<2020. 8. 27.>\n",
      "4. 법 제17조에 따른 피보험자격의 확인에 관한 사무\n",
      "5. 법 제20조에 따른 고용기회 확대 사업주에 대한 지원에 관한 사무\n",
      "6. 법 제21조에 따른 고용안정을 위한 조치를 한 사업주에 대한 지원에 관한 사무\n",
      "7. 법 제22조에 따른 지역 고용촉진 사업주에 대한 지원에 관한 사무\n",
      "8. 법 제23조에 따른 고령자등 고용촉진의 지원에 관한 사무\n",
      "9. 법 제25조에 따른 고용안정 및 취업촉진 사업을 실시하는 자에 대한 지원 및 대부에 관한 사무\n",
      "10. 법 제26조에 따른 고용촉진시설의 지원에 관한 사무\n",
      "11. 법 제27조에 따른 사업주에 대한 직업능력개발 훈련비용의 지원에 관한 사무\n",
      "12. 법 제29조에 따른 피보험자등에 대한 직업능력개발 지원 등에 관한 사무\n",
      "13. 법 제30조에 따른 직업능력개발 훈련 시설의 설치, 장비구입 비용 등의 대부ㆍ지원에 관한 사무\n",
      "14. 법 제31조에 따른 직업능력개발의 촉진 사업을 실시하는 자에 대한 지원에 관한 사무\n",
      "15. 법 제35조에 따른 부정행위를 이유로 한 지원금의 반환명령 또는 추가징수에 관한 사무\n",
      "15의2. 법 제55조의2에 따른 국민연금 보험료의 지원에 관한 사무\n",
      "\n",
      "법제처                                                            12                                                       국가법령정보센터\n",
      "고용보험법 시행령 \n",
      "1. 다음 각 목의 구분에 따른 피보험자 수에 대하여 30일 이상 휴업을 실시하고, 그 기간 동안 「근로기준법」 제46조\n",
      "제2항에 따라 노동위원회의 승인을 받아 휴업수당을 지급하지 아니하거나 평균임금의 100분의 50 미만에 해당 \n",
      "하는 액수의 휴업수당을 지급하는 경우 \n",
      "가. 전체 피보험자 수가 19명 이하인 경우: 전체 피보험자 수의 100분의 50 이상 \n",
      "나. 전체 피보험자 수가 20명 이상 99명 이하인 경우: 피보험자 10명 이상 \n",
      "다. 전체 피보험자 수가 100명 이상 999명 이하인 경우: 전체 피보험자 수의 100분의 10 이상 \n",
      "라. 전체 피보험자 수가 1000명 이상인 경우: 피보험자 100명 이상 \n",
      "2. 휴직기간이 시작되기 전 1년 이내에 제19조제1항제1호에 따른 고용유지조치 또는 피보험자의 100분의 20 이상\n",
      "에 대한 같은 항 제2호에 따른 고용유지조치를 3개월 이상 실시한 후 다음 각 목의 구분에 따른 피보험자 수에 대 \n",
      "하여 30일 이상 휴직을 실시하고, 그 기간 동안 근로자대표(근로자의 과반수로 조직된 노동조합이 있는 경우에는 \n",
      "그 노동조합, 근로자의 과반수로 조직된 노동조합이 없는 경우에는 근로자의 과반수를 대표하는 자를 말한다. 이 \n",
      "하 이 항에서 같다)와의 합의에 따라 휴직수당 등 금품을 지급하지 않는 경우 \n",
      "가. 전체 피보험자 수가 99명 이하인 경우: 피보험자 10명 이상 \n",
      "나. 전체 피보험자 수가 100명 이상 999명 이하인 경우: 전체 피보험자 수의 100분의 10 이상 \n",
      "다. 전체 피보험자 수가 1000명 이상인 경우: 피보험자 100명 이상 \n",
      "3. 휴직기간이 시작되기 전 1년 이내에 제19조제1항제1호에 따른 고용유지조치 또는 피보험자의 100분의 20 이상\n",
      "\n",
      "2010. 7. 12.>\n",
      "[본조신설 2008. 9. 18.]\n",
      "[제목개정 2013. 11. 20.]\n",
      " \n",
      "제3조의3(외국인에 대한 법의 적용 범위) 법 제10조의2제2항에 따른 외국인에 대한 법의 적용범위는 다음 각 호의 구\n",
      "분에 따른다. <개정 2023. 6. 27.>\n",
      "1. 법 제10조의2제2항에 따른 외국인 중 근로계약을 체결한 사람으로서 다음 각 목의 어느 하나에 해당하는 사람:\n",
      "법의 전부를 적용 \n",
      "가. 「출입국관리법 시행령」 제12조에 따른 외국인의 체류자격 중 주재(D-7), 기업투자(D-8) 및 무역경영(D-9)의 \n",
      "체류자격을 가진 사람(법에 따른 고용보험에 상응하는 보험료와 급여에 관하여 그 외국인의 본국법이 대한민 \n",
      "국 국민에게 적용되지 않는 경우는 제외한다) \n",
      "나. 「출입국관리법 시행령」 제12조의2에 따른 외국인의 체류자격 중 영주(F-5)의 체류자격을 가진 사람 \n",
      "다. 「출입국관리법 시행령」 제23조제2항 각 호의 어느 하나에 해당하는 사람 \n",
      "2. 법 제10조의2제2항에 따른 외국인 중 근로계약을 체결한 사람으로서 다음 각 목의 어느 하나에 해당하는 사람:\n",
      "고용노동부령으로 정하는 바에 따라 보험 가입을 신청한 경우에 법의 전부를 적용 \n",
      "가. 「출입국관리법 시행령」 제12조에 따른 외국인의 체류자격 중 재외동포(F-4)의 체류자격을 가진 사람 \n",
      "나. 「출입국관리법 시행령」 제23조제1항에 따른 취업활동을 할 수 있는 체류자격을 가진 사람 \n",
      "3. 법 제10조의2제2항에 따른 외국인 중 법 제77조의2제1항에 따른 문화예술용역 관련 계약(이하 “문화예술용역 관\n",
      "련 계약”이라 한다)을 체결한 외국인(이하 “외국인예술인”이라 한다) 또는 법 제77조의6제1항에 따른 노무제공계 \n",
      "약(이하 “노무제공계약”이라 한다)을 체결한 외국인(이하 “외국인노무제공자”라 한다)으로서 다음 각 목의 어느 \n",
      "하나에 해당하는 사람: 법 제1장, 제2장, 제4장, 제5장의2, 제5장의3, 제6장, 제8장 또는 제9장의 예술인 또는 노무 \n",
      "제공자에 관한 규정을 적용\n",
      "\n",
      "법제처                                                            4                                                       국가법령정보센터\n",
      "고용보험법 시행령 \n",
      "직 또는 임기제 공무원으로 임용된 때에는 별도의 가입신청을 하지 않은 경우에도 고용보험의 피보험자격을 유지\n",
      "한다.<개정 2013. 11. 20.>\n",
      "④ 고용보험에 가입한 공무원이 고용보험에서 탈퇴하려는 경우에는 고용노동부장관에게 탈퇴신청을 하여야 한다.\n",
      "이 경우 탈퇴를 신청한 날의 다음 날에 피보험자격을 상실한 것으로 본다.<개정 2016. 10. 18.>\n",
      "⑤ 제4항에 따라 고용보험에서 탈퇴한 이후에 가입대상 공무원으로 계속 재직하는 동안에는 고용보험에 다시 가입\n",
      "할 수 없으며, 고용보험에서 탈퇴한 이후에는 수급자격을 인정하지 아니한다. 다만, 탈퇴한 공무원이 가입대상 공무\n",
      "원의 직에서 이직(가입대상 공무원 외의 공무원으로 임용된 경우를 포함한다)한 이후에 법과 이 영에 따라 다시 피\n",
      "보험자격을 취득한 경우에는 법 제40조제1항제1호에 따른 피보험 단위기간을 산정하는 경우에 그 이전 가입대상\n",
      "공무원 재직 시의 피보험기간 중 법 제41조제1항에 따른 보수 지급의 기초가 된 날을 합산하고, 법 제50조에 따라\n",
      "피보험기간을 산정하는 경우에 탈퇴하기 전의 피보험기간도 같은 조에서 규정하고 있는 피보험기간에 포함하여 산\n",
      "정한다.<개정 2011. 9. 15.>\n",
      "⑥ 고용보험에 가입한 공무원에 대한 보험료율은 고용산재보험료징수법시행령 제12조제1항제2호에 따른 실업급여\n",
      "의 보험료율로 하되, 소속기관과 고용보험에 가입한 공무원이 각각 2분의 1씩 부담한다.<개정 2020. 3. 31., 2021. 6.\n",
      "8.>\n",
      "⑦ 제1항부터 제4항까지의 규정에 따른 보험가입 및 보험가입 탈퇴의 신청절차는 고용노동부령으로 정한다.<개정\n",
      "2010. 7. 12.>\n",
      "[본조신설 2008. 9. 18.]\n",
      "[제목개정 2013. 11. 20.]\u001b[0m\u001b[32;1m\u001b[1;3m```\n",
      "{\n",
      "    \"action\": \"Final Answer\",\n",
      "    \"action_input\": \"According to the Employment Insurance Act, foreigners with a residence status of D-7, D-8, D-9, or F-5, or those who have signed a labor contract, are eligible for employment insurance. Additionally, foreigners who have signed a cultural and artistic contract or a labor supply contract are also eligible. The application process and insurance premiums are determined by the Ministry of Employment and Labor.\"\n",
      "}\n",
      "```\u001b[0m\n",
      "\n",
      "\u001b[1m> Finished chain.\u001b[0m\n"
     ]
    }
   ],
   "source": [
    "response_llama3 = llama3_agent_executor.invoke(\n",
    "    {\"input\": \"외국인에 대한 고용보험법에 대해 검색해서 설명해줘\"}\n",
    ")"
   ]
  },
  {
   "cell_type": "code",
   "execution_count": 55,
   "metadata": {},
   "outputs": [
    {
     "data": {
      "text/plain": [
       "'According to the Employment Insurance Act, foreigners with a residence status of D-7, D-8, D-9, or F-5, or those who have signed a labor contract, are eligible for employment insurance. Additionally, foreigners who have signed a cultural and artistic contract or a labor supply contract are also eligible. The application process and insurance premiums are determined by the Ministry of Employment and Labor.'"
      ]
     },
     "execution_count": 55,
     "metadata": {},
     "output_type": "execute_result"
    }
   ],
   "source": [
    "response_llama3[\"output\"]"
   ]
  },
  {
   "cell_type": "code",
   "execution_count": 56,
   "metadata": {},
   "outputs": [
    {
     "name": "stdout",
     "output_type": "stream",
     "text": [
      "\n",
      "\n",
      "\u001b[1m> Entering new AgentExecutor chain...\u001b[0m\n",
      "\u001b[32;1m\u001b[1;3m```\n",
      "{\n",
      "    \"action\": \"tavily_search_results_json\",\n",
      "    \"action_input\": \"Employment insurance law for foreigners in Korea\"\n",
      "}\n",
      "```\u001b[0m\u001b[36;1m\u001b[1;3m[{'url': 'https://english.seoul.go.kr/service/living/working/employment/1-scope-of-activities-and-employment-for-foreigners-in-korea/', 'content': 'Employment Procedures (Special Foreigner) Labor Law. The scope of employment opportunities open to foreign nationals in Korea are relatively broad, but the type of activity and period of stay may be limited depending on the type of visa issued. Foreigners can seek employment within residential qualifications according to their visa type.'}, {'url': 'https://linguasia.com/korean-insurance', 'content': '3. Employment Insurance (고용보험) Employment Insurance provides unemployment checks to support you during unemployment, and job training to facilitate re-employment.. Both employer and employee pay 0.8% each for unemployment checks. Only the employer pays for the vocational competency development courses (job training that costs them 0.25% to 0.85% depending on the size of your company).'}, {'url': 'https://globalregulatoryinsights.com/insight/comprehensive-analysis-employment-labor-laws-in-south-korea-2023/', 'content': 'Legal Resources\\nArt\\nInsight Related Post\\nComprehensive Analysis: Employment & labor Laws in USA (2023)\\nEmployment & labor\\nComprehensive Analysis: Employment & labor Laws in United Kingdom (2023)\\nEmployment & labor\\nComprehensive Analysis: Employment & labor Laws in Turkey (2023)\\nEmployment & labor\\nLearn & Connect\\nOur Policies\\nGlobal Regulatory Insights © 2024 All rights reserved\\nDesigned & Delivered from\\nForm successfully submitted. Here’s an overview of the key areas where technology is influencing labor and employment practices:\\nIn conclusion, technology is a key driver in the modernization of labor and employment practices in South Korea. Here are some key rights and protections for employees in South Korea:\\nThese rights and protections are enforced by government agencies such as the Ministry of Employment and Labor in South Korea. Are there any recent changes or amendments to labor laws that employers should be aware of?\\nSouth Korea’s labor laws have undergone several changes and amendments in recent years, reflecting the country’s efforts to adapt to evolving workplace dynamics and international labor standards. In South Korea, different types of employment contracts are defined and classified based on various factors, including the nature of the work, the duration of the contract, and the employment relationship.'}, {'url': 'https://english.seoul.go.kr/service/living/working/employment/4-labor-law/', 'content': 'Foreign workers in Korea receive the same protection under Korean labor laws. More information on labor laws can be found on the Ministry of Employment and Labor website . Work hours ... Employment insurance is mandatory according to the visa of the foreigner, and some are target for voluntary insurance. ...'}, {'url': 'https://m.easylaw.go.kr/MOM/SubCsmOvRetrieve.laf?langCd=700101&csmSeq=1271&ccfNo=2&cciNo=3&cnpClsNo=2', 'content': \"- Foreign workers under Non-professional Employment (E-9) status or Working Visit (H-2) status acquire insured status by application. Therefore, an employer must file for an application of employment insurance for foreign nationals with the Korea Worker's Compensation and Welfare Service if the foreign workers intend to apply for employment insurance (provision of Article 10-2 Section 1 of ...\"}]\u001b[0m\u001b[32;1m\u001b[1;3m```\n",
      "{\n",
      "    \"action\": \"Final Answer\",\n",
      "    \"action_input\": \"According to the search results, foreigners in Korea have relatively broad employment opportunities, but the type of activity and period of stay may be limited depending on the type of visa issued. Employment insurance is mandatory for some foreigners, and some are eligible for voluntary insurance. Foreign workers in Korea receive the same protection under Korean labor laws as Korean nationals.\"\n",
      "}\n",
      "```\u001b[0m\n",
      "\n",
      "\u001b[1m> Finished chain.\u001b[0m\n"
     ]
    }
   ],
   "source": [
    "response_llama3_tavily = llama3_agent_executor.invoke(\n",
    "    {\"input\": \"외국인에 대한 고용보험법에 대해 웹 검색해서 설명해줘\"}\n",
    ")"
   ]
  },
  {
   "cell_type": "code",
   "execution_count": 57,
   "metadata": {},
   "outputs": [
    {
     "data": {
      "text/plain": [
       "'According to the search results, foreigners in Korea have relatively broad employment opportunities, but the type of activity and period of stay may be limited depending on the type of visa issued. Employment insurance is mandatory for some foreigners, and some are eligible for voluntary insurance. Foreign workers in Korea receive the same protection under Korean labor laws as Korean nationals.'"
      ]
     },
     "execution_count": 57,
     "metadata": {},
     "output_type": "execute_result"
    }
   ],
   "source": [
    "response_llama3_tavily['output']"
   ]
  },
  {
   "cell_type": "code",
   "execution_count": 58,
   "metadata": {},
   "outputs": [],
   "source": [
    "json_prompt_ko = hub.pull(\"teddynote/react-chat-json-korean\")"
   ]
  },
  {
   "cell_type": "code",
   "execution_count": 59,
   "metadata": {},
   "outputs": [],
   "source": [
    "from langchain.agents import create_json_chat_agent\n",
    "\n",
    "llama3_agent = create_json_chat_agent(llm=llama3, tools=tools, prompt=json_prompt_ko)"
   ]
  },
  {
   "cell_type": "code",
   "execution_count": 60,
   "metadata": {},
   "outputs": [],
   "source": [
    "from langchain.agents import AgentExecutor\n",
    "\n",
    "llama3_agent_executor = AgentExecutor(\n",
    "    agent=llama3_agent,\n",
    "    tools=tools,\n",
    "    verbose=True,\n",
    "    handle_parsing_errors=True,\n",
    "    return_intermediate_steps=True,\n",
    ")"
   ]
  },
  {
   "cell_type": "code",
   "execution_count": 61,
   "metadata": {},
   "outputs": [
    {
     "name": "stdout",
     "output_type": "stream",
     "text": [
      "\n",
      "\n",
      "\u001b[1m> Entering new AgentExecutor chain...\u001b[0m\n",
      "\u001b[32;1m\u001b[1;3m```\n",
      "{\n",
      "    \"action\": \"pdf_search\",\n",
      "    \"action_input\": \"외국인에 대한 고용보험법\"\n",
      "}\n",
      "```\u001b[0m\u001b[33;1m\u001b[1;3m주민등록번호 또는 외국인등록번호가 포함된 자료를 처리할 수 있다. <개정 2012. 7. 10., 2016. 7. 19., 2017. 3. 27.,\n",
      "2019. 6. 25., 2020. 12. 8., 2021. 6. 8., 2021. 12. 31., 2023. 6. 27.>\n",
      "1. 법 제10조제1항제3호 단서 및 이 영 제3조의2에 따른 별정직ㆍ임기제 공무원의 고용보험 가입 또는 탈퇴에 관한\n",
      "사무 \n",
      "1의2. 다음 각 목에 해당하는 사람의 고용보험 가입에 관한 사무\n",
      "가. 법 제10조의2제1항에 따른 외국인근로자 \n",
      "나. 법 제10조의2제2항 및 이 영 제3조의3에 따른 근로계약 체결 외국인, 외국인예술인 및 외국인노무제공자 \n",
      "2. 법 제15조에 따른 피보험자격의 취득ㆍ상실 등의 신고에 관한 사무\n",
      "3. 삭제<2020. 8. 27.>\n",
      "4. 법 제17조에 따른 피보험자격의 확인에 관한 사무\n",
      "5. 법 제20조에 따른 고용기회 확대 사업주에 대한 지원에 관한 사무\n",
      "6. 법 제21조에 따른 고용안정을 위한 조치를 한 사업주에 대한 지원에 관한 사무\n",
      "7. 법 제22조에 따른 지역 고용촉진 사업주에 대한 지원에 관한 사무\n",
      "8. 법 제23조에 따른 고령자등 고용촉진의 지원에 관한 사무\n",
      "9. 법 제25조에 따른 고용안정 및 취업촉진 사업을 실시하는 자에 대한 지원 및 대부에 관한 사무\n",
      "10. 법 제26조에 따른 고용촉진시설의 지원에 관한 사무\n",
      "11. 법 제27조에 따른 사업주에 대한 직업능력개발 훈련비용의 지원에 관한 사무\n",
      "12. 법 제29조에 따른 피보험자등에 대한 직업능력개발 지원 등에 관한 사무\n",
      "13. 법 제30조에 따른 직업능력개발 훈련 시설의 설치, 장비구입 비용 등의 대부ㆍ지원에 관한 사무\n",
      "14. 법 제31조에 따른 직업능력개발의 촉진 사업을 실시하는 자에 대한 지원에 관한 사무\n",
      "15. 법 제35조에 따른 부정행위를 이유로 한 지원금의 반환명령 또는 추가징수에 관한 사무\n",
      "15의2. 법 제55조의2에 따른 국민연금 보험료의 지원에 관한 사무\n",
      "\n",
      "법제처                                                            12                                                       국가법령정보센터\n",
      "고용보험법 시행령 \n",
      "1. 다음 각 목의 구분에 따른 피보험자 수에 대하여 30일 이상 휴업을 실시하고, 그 기간 동안 「근로기준법」 제46조\n",
      "제2항에 따라 노동위원회의 승인을 받아 휴업수당을 지급하지 아니하거나 평균임금의 100분의 50 미만에 해당 \n",
      "하는 액수의 휴업수당을 지급하는 경우 \n",
      "가. 전체 피보험자 수가 19명 이하인 경우: 전체 피보험자 수의 100분의 50 이상 \n",
      "나. 전체 피보험자 수가 20명 이상 99명 이하인 경우: 피보험자 10명 이상 \n",
      "다. 전체 피보험자 수가 100명 이상 999명 이하인 경우: 전체 피보험자 수의 100분의 10 이상 \n",
      "라. 전체 피보험자 수가 1000명 이상인 경우: 피보험자 100명 이상 \n",
      "2. 휴직기간이 시작되기 전 1년 이내에 제19조제1항제1호에 따른 고용유지조치 또는 피보험자의 100분의 20 이상\n",
      "에 대한 같은 항 제2호에 따른 고용유지조치를 3개월 이상 실시한 후 다음 각 목의 구분에 따른 피보험자 수에 대 \n",
      "하여 30일 이상 휴직을 실시하고, 그 기간 동안 근로자대표(근로자의 과반수로 조직된 노동조합이 있는 경우에는 \n",
      "그 노동조합, 근로자의 과반수로 조직된 노동조합이 없는 경우에는 근로자의 과반수를 대표하는 자를 말한다. 이 \n",
      "하 이 항에서 같다)와의 합의에 따라 휴직수당 등 금품을 지급하지 않는 경우 \n",
      "가. 전체 피보험자 수가 99명 이하인 경우: 피보험자 10명 이상 \n",
      "나. 전체 피보험자 수가 100명 이상 999명 이하인 경우: 전체 피보험자 수의 100분의 10 이상 \n",
      "다. 전체 피보험자 수가 1000명 이상인 경우: 피보험자 100명 이상 \n",
      "3. 휴직기간이 시작되기 전 1년 이내에 제19조제1항제1호에 따른 고용유지조치 또는 피보험자의 100분의 20 이상\n",
      "\n",
      "2010. 7. 12.>\n",
      "[본조신설 2008. 9. 18.]\n",
      "[제목개정 2013. 11. 20.]\n",
      " \n",
      "제3조의3(외국인에 대한 법의 적용 범위) 법 제10조의2제2항에 따른 외국인에 대한 법의 적용범위는 다음 각 호의 구\n",
      "분에 따른다. <개정 2023. 6. 27.>\n",
      "1. 법 제10조의2제2항에 따른 외국인 중 근로계약을 체결한 사람으로서 다음 각 목의 어느 하나에 해당하는 사람:\n",
      "법의 전부를 적용 \n",
      "가. 「출입국관리법 시행령」 제12조에 따른 외국인의 체류자격 중 주재(D-7), 기업투자(D-8) 및 무역경영(D-9)의 \n",
      "체류자격을 가진 사람(법에 따른 고용보험에 상응하는 보험료와 급여에 관하여 그 외국인의 본국법이 대한민 \n",
      "국 국민에게 적용되지 않는 경우는 제외한다) \n",
      "나. 「출입국관리법 시행령」 제12조의2에 따른 외국인의 체류자격 중 영주(F-5)의 체류자격을 가진 사람 \n",
      "다. 「출입국관리법 시행령」 제23조제2항 각 호의 어느 하나에 해당하는 사람 \n",
      "2. 법 제10조의2제2항에 따른 외국인 중 근로계약을 체결한 사람으로서 다음 각 목의 어느 하나에 해당하는 사람:\n",
      "고용노동부령으로 정하는 바에 따라 보험 가입을 신청한 경우에 법의 전부를 적용 \n",
      "가. 「출입국관리법 시행령」 제12조에 따른 외국인의 체류자격 중 재외동포(F-4)의 체류자격을 가진 사람 \n",
      "나. 「출입국관리법 시행령」 제23조제1항에 따른 취업활동을 할 수 있는 체류자격을 가진 사람 \n",
      "3. 법 제10조의2제2항에 따른 외국인 중 법 제77조의2제1항에 따른 문화예술용역 관련 계약(이하 “문화예술용역 관\n",
      "련 계약”이라 한다)을 체결한 외국인(이하 “외국인예술인”이라 한다) 또는 법 제77조의6제1항에 따른 노무제공계 \n",
      "약(이하 “노무제공계약”이라 한다)을 체결한 외국인(이하 “외국인노무제공자”라 한다)으로서 다음 각 목의 어느 \n",
      "하나에 해당하는 사람: 법 제1장, 제2장, 제4장, 제5장의2, 제5장의3, 제6장, 제8장 또는 제9장의 예술인 또는 노무 \n",
      "제공자에 관한 규정을 적용\n",
      "\n",
      "법제처                                                            4                                                       국가법령정보센터\n",
      "고용보험법 시행령 \n",
      "직 또는 임기제 공무원으로 임용된 때에는 별도의 가입신청을 하지 않은 경우에도 고용보험의 피보험자격을 유지\n",
      "한다.<개정 2013. 11. 20.>\n",
      "④ 고용보험에 가입한 공무원이 고용보험에서 탈퇴하려는 경우에는 고용노동부장관에게 탈퇴신청을 하여야 한다.\n",
      "이 경우 탈퇴를 신청한 날의 다음 날에 피보험자격을 상실한 것으로 본다.<개정 2016. 10. 18.>\n",
      "⑤ 제4항에 따라 고용보험에서 탈퇴한 이후에 가입대상 공무원으로 계속 재직하는 동안에는 고용보험에 다시 가입\n",
      "할 수 없으며, 고용보험에서 탈퇴한 이후에는 수급자격을 인정하지 아니한다. 다만, 탈퇴한 공무원이 가입대상 공무\n",
      "원의 직에서 이직(가입대상 공무원 외의 공무원으로 임용된 경우를 포함한다)한 이후에 법과 이 영에 따라 다시 피\n",
      "보험자격을 취득한 경우에는 법 제40조제1항제1호에 따른 피보험 단위기간을 산정하는 경우에 그 이전 가입대상\n",
      "공무원 재직 시의 피보험기간 중 법 제41조제1항에 따른 보수 지급의 기초가 된 날을 합산하고, 법 제50조에 따라\n",
      "피보험기간을 산정하는 경우에 탈퇴하기 전의 피보험기간도 같은 조에서 규정하고 있는 피보험기간에 포함하여 산\n",
      "정한다.<개정 2011. 9. 15.>\n",
      "⑥ 고용보험에 가입한 공무원에 대한 보험료율은 고용산재보험료징수법시행령 제12조제1항제2호에 따른 실업급여\n",
      "의 보험료율로 하되, 소속기관과 고용보험에 가입한 공무원이 각각 2분의 1씩 부담한다.<개정 2020. 3. 31., 2021. 6.\n",
      "8.>\n",
      "⑦ 제1항부터 제4항까지의 규정에 따른 보험가입 및 보험가입 탈퇴의 신청절차는 고용노동부령으로 정한다.<개정\n",
      "2010. 7. 12.>\n",
      "[본조신설 2008. 9. 18.]\n",
      "[제목개정 2013. 11. 20.]\u001b[0m\u001b[32;1m\u001b[1;3m```\n",
      "{\n",
      "    \"action\": \"Final Answer\",\n",
      "    \"action_input\": \"외국인에 대한 고용보험법은 고용보험법 시행령 제3조의3에 따라 적용범위가 정해져 있습니다. 외국인근로자, 외국인예술인, 외국인노무제공자 등에 대한 법의 적용범위는 고용보험법 제10조의2제2항에 따라 정해져 있습니다. 또한, 외국인에 대한 고용보험 가입 및 탈퇴에 관한 사무는 고용보험법 제15조, 제17조, 제20조 등에 따라 정해져 있습니다.\"\n",
      "}\n",
      "```\u001b[0m\n",
      "\n",
      "\u001b[1m> Finished chain.\u001b[0m\n"
     ]
    }
   ],
   "source": [
    "response_llama3 = llama3_agent_executor.invoke(\n",
    "    {\"input\": \"외국인에 대한 고용보험법에 대해 검색해서 설명해줘\"}\n",
    ")"
   ]
  },
  {
   "cell_type": "code",
   "execution_count": 62,
   "metadata": {},
   "outputs": [
    {
     "data": {
      "text/plain": [
       "'외국인에 대한 고용보험법은 고용보험법 시행령 제3조의3에 따라 적용범위가 정해져 있습니다. 외국인근로자, 외국인예술인, 외국인노무제공자 등에 대한 법의 적용범위는 고용보험법 제10조의2제2항에 따라 정해져 있습니다. 또한, 외국인에 대한 고용보험 가입 및 탈퇴에 관한 사무는 고용보험법 제15조, 제17조, 제20조 등에 따라 정해져 있습니다.'"
      ]
     },
     "execution_count": 62,
     "metadata": {},
     "output_type": "execute_result"
    }
   ],
   "source": [
    "response_llama3['output']"
   ]
  },
  {
   "cell_type": "markdown",
   "metadata": {},
   "source": [
    "### Local model"
   ]
  },
  {
   "cell_type": "code",
   "execution_count": null,
   "metadata": {},
   "outputs": [],
   "source": []
  }
 ],
 "metadata": {
  "kernelspec": {
   "display_name": "Python 3",
   "language": "python",
   "name": "python3"
  },
  "language_info": {
   "codemirror_mode": {
    "name": "ipython",
    "version": 3
   },
   "file_extension": ".py",
   "mimetype": "text/x-python",
   "name": "python",
   "nbconvert_exporter": "python",
   "pygments_lexer": "ipython3",
   "version": "3.11.8"
  }
 },
 "nbformat": 4,
 "nbformat_minor": 2
}
